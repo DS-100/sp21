{
 "cells": [
  {
   "cell_type": "code",
   "execution_count": 1,
   "metadata": {
    "deletable": false,
    "editable": false
   },
   "outputs": [],
   "source": [
    "# Initialize Otter\n",
    "import otter\n",
    "grader = otter.Notebook(\"lab03.ipynb\")"
   ]
  },
  {
   "cell_type": "markdown",
   "metadata": {
    "nbgrader": {
     "grade": false,
     "grade_id": "title-cell",
     "locked": true,
     "schema_version": 2,
     "solution": false
    }
   },
   "source": [
    "## Lab 3: Pandas Overview"
   ]
  },
  {
   "cell_type": "markdown",
   "metadata": {},
   "source": [
    "To receive credit for a lab, answer all questions correctly and submit before the deadline.\n",
    "\n",
    "**This lab is due Thursday, February 11th at 11:59 PM.**"
   ]
  },
  {
   "cell_type": "markdown",
   "metadata": {
    "nbgrader": {
     "grade": false,
     "grade_id": "outline-cell",
     "locked": true,
     "schema_version": 2,
     "solution": false
    }
   },
   "source": [
    "[Pandas](https://pandas.pydata.org/) is one of the most widely used Python libraries in data science. In this lab, you will learn commonly used data wrangling operations/tools in Pandas. We aim to give you familiarity with:\n",
    "\n",
    "* Creating DataFrames\n",
    "* Slicing DataFrames (i.e. selecting rows and columns)\n",
    "* Filtering data (using boolean arrays)\n",
    "\n",
    "In this lab you are going to use several pandas methods, such as `drop` and `loc`. You may press `shift+tab` on the method parameters to see the documentation for that method. If you are familar with the `datascience` library used in Data 8, this [conversion notebook](https://github.com/data-8/materials-x19/blob/master/reference/Datascience%20to%20Pandas%20Conversion%20Notebook.ipynb) may serve as a useful guide.\n"
   ]
  },
  {
   "cell_type": "markdown",
   "metadata": {
    "nbgrader": {
     "grade": false,
     "grade_id": "cell-03ce8b2a12c5589d",
     "locked": true,
     "schema_version": 2,
     "solution": false
    }
   },
   "source": [
    "**Note**: The Pandas interface is notoriously confusing, and the documentation is not consistently great. Throughout the semester, you will have to search through Pandas documentation and experiment, but remember it is part of the learning experience and will help shape you as a data scientist!"
   ]
  },
  {
   "cell_type": "code",
   "execution_count": 2,
   "metadata": {
    "nbgrader": {
     "grade": false,
     "grade_id": "imports",
     "locked": true,
     "schema_version": 2,
     "solution": false
    },
    "scrolled": true
   },
   "outputs": [],
   "source": [
    "import numpy as np\n",
    "import matplotlib.pyplot as plt\n",
    "import pandas as pd\n",
    "%matplotlib inline"
   ]
  },
  {
   "cell_type": "markdown",
   "metadata": {
    "nbgrader": {
     "grade": false,
     "grade_id": "basic_intro",
     "locked": true,
     "schema_version": 2,
     "solution": false
    }
   },
   "source": [
    "## Creating DataFrames & Basic Manipulations\n",
    "\n",
    "A [DataFrame](https://pandas.pydata.org/pandas-docs/stable/user_guide/dsintro.html#dataframe) is a table in which each column has a specific data type; there is an index over the columns (typically string labels) and an index over the rows (typically ordinal numbers).\n",
    "\n",
    "The [documentation](https://pandas.pydata.org/pandas-docs/stable/reference/api/pandas.DataFrame.html) for the pandas `DataFrame` class  provide at least two syntaxes to create a DataFrame."
   ]
  },
  {
   "cell_type": "markdown",
   "metadata": {
    "nbgrader": {
     "grade": false,
     "grade_id": "basic_method1",
     "locked": true,
     "schema_version": 2,
     "solution": false
    }
   },
   "source": [
    "**Syntax 1:** You can create a DataFrame by specifying the columns and values using a dictionary as shown below. \n",
    "\n",
    "The keys of the dictionary are the column names, and the values of the dictionary are lists containing the row entries."
   ]
  },
  {
   "cell_type": "code",
   "execution_count": 4,
   "metadata": {
    "nbgrader": {
     "grade": false,
     "grade_id": "basic_method1_code",
     "locked": true,
     "schema_version": 2,
     "solution": false
    }
   },
   "outputs": [
    {
     "data": {
      "text/html": [
       "<div>\n",
       "<style scoped>\n",
       "    .dataframe tbody tr th:only-of-type {\n",
       "        vertical-align: middle;\n",
       "    }\n",
       "\n",
       "    .dataframe tbody tr th {\n",
       "        vertical-align: top;\n",
       "    }\n",
       "\n",
       "    .dataframe thead th {\n",
       "        text-align: right;\n",
       "    }\n",
       "</style>\n",
       "<table border=\"1\" class=\"dataframe\">\n",
       "  <thead>\n",
       "    <tr style=\"text-align: right;\">\n",
       "      <th></th>\n",
       "      <th>fruit</th>\n",
       "      <th>color</th>\n",
       "    </tr>\n",
       "  </thead>\n",
       "  <tbody>\n",
       "    <tr>\n",
       "      <th>0</th>\n",
       "      <td>apple</td>\n",
       "      <td>red</td>\n",
       "    </tr>\n",
       "    <tr>\n",
       "      <th>1</th>\n",
       "      <td>orange</td>\n",
       "      <td>orange</td>\n",
       "    </tr>\n",
       "    <tr>\n",
       "      <th>2</th>\n",
       "      <td>banana</td>\n",
       "      <td>yellow</td>\n",
       "    </tr>\n",
       "    <tr>\n",
       "      <th>3</th>\n",
       "      <td>raspberry</td>\n",
       "      <td>pink</td>\n",
       "    </tr>\n",
       "  </tbody>\n",
       "</table>\n",
       "</div>"
      ],
      "text/plain": [
       "       fruit   color\n",
       "0      apple     red\n",
       "1     orange  orange\n",
       "2     banana  yellow\n",
       "3  raspberry    pink"
      ]
     },
     "execution_count": 4,
     "metadata": {},
     "output_type": "execute_result"
    }
   ],
   "source": [
    "fruit_info = pd.DataFrame(\n",
    "    data = {'fruit': ['apple', 'orange', 'banana', 'raspberry'],\n",
    "          'color': ['red', 'orange', 'yellow', 'pink']\n",
    "          })\n",
    "fruit_info"
   ]
  },
  {
   "cell_type": "markdown",
   "metadata": {
    "nbgrader": {
     "grade": false,
     "grade_id": "basic_method2",
     "locked": true,
     "schema_version": 2,
     "solution": false
    }
   },
   "source": [
    "**Syntax 2:** You can also define a DataFrame by specifying the rows like below. \n",
    "\n",
    "Each row corresponds to a distinct tuple, and the columns are specified separately."
   ]
  },
  {
   "cell_type": "code",
   "execution_count": 7,
   "metadata": {
    "nbgrader": {
     "grade": false,
     "grade_id": "basic_method2_code",
     "locked": true,
     "schema_version": 2,
     "solution": false
    }
   },
   "outputs": [
    {
     "data": {
      "text/html": [
       "<div>\n",
       "<style scoped>\n",
       "    .dataframe tbody tr th:only-of-type {\n",
       "        vertical-align: middle;\n",
       "    }\n",
       "\n",
       "    .dataframe tbody tr th {\n",
       "        vertical-align: top;\n",
       "    }\n",
       "\n",
       "    .dataframe thead th {\n",
       "        text-align: right;\n",
       "    }\n",
       "</style>\n",
       "<table border=\"1\" class=\"dataframe\">\n",
       "  <thead>\n",
       "    <tr style=\"text-align: right;\">\n",
       "      <th></th>\n",
       "      <th>color</th>\n",
       "      <th>fruit</th>\n",
       "    </tr>\n",
       "  </thead>\n",
       "  <tbody>\n",
       "    <tr>\n",
       "      <th>0</th>\n",
       "      <td>red</td>\n",
       "      <td>apple</td>\n",
       "    </tr>\n",
       "    <tr>\n",
       "      <th>1</th>\n",
       "      <td>orange</td>\n",
       "      <td>orange</td>\n",
       "    </tr>\n",
       "    <tr>\n",
       "      <th>2</th>\n",
       "      <td>yellow</td>\n",
       "      <td>banana</td>\n",
       "    </tr>\n",
       "    <tr>\n",
       "      <th>3</th>\n",
       "      <td>pink</td>\n",
       "      <td>raspberry</td>\n",
       "    </tr>\n",
       "  </tbody>\n",
       "</table>\n",
       "</div>"
      ],
      "text/plain": [
       "    color      fruit\n",
       "0     red      apple\n",
       "1  orange     orange\n",
       "2  yellow     banana\n",
       "3    pink  raspberry"
      ]
     },
     "execution_count": 7,
     "metadata": {},
     "output_type": "execute_result"
    }
   ],
   "source": [
    "fruit_info2 = pd.DataFrame(\n",
    "    [(\"red\", \"apple\"), (\"orange\", \"orange\"), (\"yellow\", \"banana\"),\n",
    "     (\"pink\", \"raspberry\")], \n",
    "    columns = [\"color\", \"fruit\"])\n",
    "fruit_info2"
   ]
  },
  {
   "cell_type": "markdown",
   "metadata": {
    "nbgrader": {
     "grade": false,
     "grade_id": "basic_shape",
     "locked": true,
     "schema_version": 2,
     "solution": false
    }
   },
   "source": [
    "You can obtain the dimensions of a DataFrame by using the shape attribute `DataFrame.shape`."
   ]
  },
  {
   "cell_type": "code",
   "execution_count": 8,
   "metadata": {
    "nbgrader": {
     "grade": false,
     "grade_id": "basic_shape_code",
     "locked": true,
     "schema_version": 2,
     "solution": false
    }
   },
   "outputs": [
    {
     "data": {
      "text/plain": [
       "(4, 2)"
      ]
     },
     "execution_count": 8,
     "metadata": {},
     "output_type": "execute_result"
    }
   ],
   "source": [
    "fruit_info.shape"
   ]
  },
  {
   "cell_type": "markdown",
   "metadata": {},
   "source": [
    "You can also convert the entire DataFrame into a two-dimensional numpy array."
   ]
  },
  {
   "cell_type": "code",
   "execution_count": 9,
   "metadata": {},
   "outputs": [
    {
     "data": {
      "text/plain": [
       "array([['apple', 'red'],\n",
       "       ['orange', 'orange'],\n",
       "       ['banana', 'yellow'],\n",
       "       ['raspberry', 'pink']], dtype=object)"
      ]
     },
     "execution_count": 9,
     "metadata": {},
     "output_type": "execute_result"
    }
   ],
   "source": [
    "fruit_info.values"
   ]
  },
  {
   "cell_type": "markdown",
   "metadata": {
    "deletable": false,
    "editable": false,
    "nbgrader": {
     "grade": false,
     "grade_id": "q1",
     "locked": true,
     "schema_version": 2,
     "solution": false
    }
   },
   "source": [
    "### Question 1(a)\n",
    "\n",
    "For a DataFrame `d`, you can add a column with `d['new column name'] = ...` and assign a list or array of values to the column. Add a column of integers containing 1, 2, 3, and 4 called `rank1` to the `fruit_info` table which expresses your personal preference about the taste ordering for each fruit (1 is tastiest; 4 is least tasty). \n",
    "\n",
    "<!--\n",
    "BEGIN QUESTION\n",
    "name: q1a\n",
    "-->"
   ]
  },
  {
   "cell_type": "code",
   "execution_count": 14,
   "metadata": {
    "nbgrader": {
     "grade": false,
     "grade_id": "q1_answer",
     "locked": false,
     "schema_version": 2,
     "solution": true
    },
    "tags": [
     "solution"
    ]
   },
   "outputs": [
    {
     "data": {
      "text/html": [
       "<div>\n",
       "<style scoped>\n",
       "    .dataframe tbody tr th:only-of-type {\n",
       "        vertical-align: middle;\n",
       "    }\n",
       "\n",
       "    .dataframe tbody tr th {\n",
       "        vertical-align: top;\n",
       "    }\n",
       "\n",
       "    .dataframe thead th {\n",
       "        text-align: right;\n",
       "    }\n",
       "</style>\n",
       "<table border=\"1\" class=\"dataframe\">\n",
       "  <thead>\n",
       "    <tr style=\"text-align: right;\">\n",
       "      <th></th>\n",
       "      <th>fruit</th>\n",
       "      <th>color</th>\n",
       "      <th>rank1</th>\n",
       "    </tr>\n",
       "  </thead>\n",
       "  <tbody>\n",
       "    <tr>\n",
       "      <th>0</th>\n",
       "      <td>apple</td>\n",
       "      <td>red</td>\n",
       "      <td>3</td>\n",
       "    </tr>\n",
       "    <tr>\n",
       "      <th>1</th>\n",
       "      <td>orange</td>\n",
       "      <td>orange</td>\n",
       "      <td>2</td>\n",
       "    </tr>\n",
       "    <tr>\n",
       "      <th>2</th>\n",
       "      <td>banana</td>\n",
       "      <td>yellow</td>\n",
       "      <td>4</td>\n",
       "    </tr>\n",
       "    <tr>\n",
       "      <th>3</th>\n",
       "      <td>raspberry</td>\n",
       "      <td>pink</td>\n",
       "      <td>1</td>\n",
       "    </tr>\n",
       "  </tbody>\n",
       "</table>\n",
       "</div>"
      ],
      "text/plain": [
       "       fruit   color  rank1\n",
       "0      apple     red      3\n",
       "1     orange  orange      2\n",
       "2     banana  yellow      4\n",
       "3  raspberry    pink      1"
      ]
     },
     "execution_count": 14,
     "metadata": {},
     "output_type": "execute_result"
    }
   ],
   "source": [
    "fruit_info['rank1'] = [3,2,4,1]\n",
    "fruit_info"
   ]
  },
  {
   "cell_type": "code",
   "execution_count": 15,
   "metadata": {
    "deletable": false,
    "editable": false
   },
   "outputs": [
    {
     "data": {
      "text/html": [
       "\n",
       "    <p><strong>q1a</strong> passed!</p>\n",
       "    "
      ],
      "text/plain": [
       "q1a passed!"
      ]
     },
     "execution_count": 15,
     "metadata": {},
     "output_type": "execute_result"
    }
   ],
   "source": [
    "grader.check(\"q1a\")"
   ]
  },
  {
   "cell_type": "markdown",
   "metadata": {
    "deletable": false,
    "editable": false
   },
   "source": [
    "### Question 1(b)\n",
    "\n",
    "You can also add a column to `d` with `d.loc[:, 'new column name'] = ...`. As discussed in lecture, the first parameter is for the rows and second is for columns. The `:` means change all rows and the `'new column name'` indicates the name of the column you are modifying (or in this case, adding). \n",
    "\n",
    "Add a column called `rank2` to the `fruit_info` table which contains the same values in the same order as the `rank1` column.\n",
    "\n",
    "<!--\n",
    "BEGIN QUESTION\n",
    "name: q1b\n",
    "-->"
   ]
  },
  {
   "cell_type": "code",
   "execution_count": 16,
   "metadata": {
    "nbgrader": {
     "grade": false,
     "grade_id": "cell-ef625b2f6154e9b2",
     "locked": false,
     "schema_version": 2,
     "solution": true
    }
   },
   "outputs": [
    {
     "data": {
      "text/html": [
       "<div>\n",
       "<style scoped>\n",
       "    .dataframe tbody tr th:only-of-type {\n",
       "        vertical-align: middle;\n",
       "    }\n",
       "\n",
       "    .dataframe tbody tr th {\n",
       "        vertical-align: top;\n",
       "    }\n",
       "\n",
       "    .dataframe thead th {\n",
       "        text-align: right;\n",
       "    }\n",
       "</style>\n",
       "<table border=\"1\" class=\"dataframe\">\n",
       "  <thead>\n",
       "    <tr style=\"text-align: right;\">\n",
       "      <th></th>\n",
       "      <th>fruit</th>\n",
       "      <th>color</th>\n",
       "      <th>rank1</th>\n",
       "      <th>rank2</th>\n",
       "    </tr>\n",
       "  </thead>\n",
       "  <tbody>\n",
       "    <tr>\n",
       "      <th>0</th>\n",
       "      <td>apple</td>\n",
       "      <td>red</td>\n",
       "      <td>3</td>\n",
       "      <td>3</td>\n",
       "    </tr>\n",
       "    <tr>\n",
       "      <th>1</th>\n",
       "      <td>orange</td>\n",
       "      <td>orange</td>\n",
       "      <td>2</td>\n",
       "      <td>2</td>\n",
       "    </tr>\n",
       "    <tr>\n",
       "      <th>2</th>\n",
       "      <td>banana</td>\n",
       "      <td>yellow</td>\n",
       "      <td>4</td>\n",
       "      <td>4</td>\n",
       "    </tr>\n",
       "    <tr>\n",
       "      <th>3</th>\n",
       "      <td>raspberry</td>\n",
       "      <td>pink</td>\n",
       "      <td>1</td>\n",
       "      <td>1</td>\n",
       "    </tr>\n",
       "  </tbody>\n",
       "</table>\n",
       "</div>"
      ],
      "text/plain": [
       "       fruit   color  rank1  rank2\n",
       "0      apple     red      3      3\n",
       "1     orange  orange      2      2\n",
       "2     banana  yellow      4      4\n",
       "3  raspberry    pink      1      1"
      ]
     },
     "execution_count": 16,
     "metadata": {},
     "output_type": "execute_result"
    }
   ],
   "source": [
    "fruit_info.loc[:, 'rank2'] = [3,2,4,1]\n",
    "fruit_info"
   ]
  },
  {
   "cell_type": "code",
   "execution_count": 17,
   "metadata": {
    "deletable": false,
    "editable": false
   },
   "outputs": [
    {
     "data": {
      "text/html": [
       "\n",
       "    <p><strong>q1b</strong> passed!</p>\n",
       "    "
      ],
      "text/plain": [
       "q1b passed!"
      ]
     },
     "execution_count": 17,
     "metadata": {},
     "output_type": "execute_result"
    }
   ],
   "source": [
    "grader.check(\"q1b\")"
   ]
  },
  {
   "cell_type": "markdown",
   "metadata": {
    "deletable": false,
    "editable": false,
    "nbgrader": {
     "grade": false,
     "grade_id": "q2",
     "locked": true,
     "schema_version": 2,
     "solution": false
    }
   },
   "source": [
    "### Question 2\n",
    "\n",
    "Use the `.drop()` method to [drop](https://pandas.pydata.org/pandas-docs/stable/reference/api/pandas.DataFrame.drop.html) both the `rank1` and `rank2` columns you created. Make sure to use the `axis` parameter correctly. Note that `drop` does not change a table, but instead returns a new table with fewer columns or rows unless you set the optional `inplace` parameter.\n",
    "\n",
    "*Hint*: Look through the documentation to see how you can drop multiple columns of a Pandas DataFrame at once using a list of column names.\n",
    "\n",
    "<!--\n",
    "BEGIN QUESTION\n",
    "name: q2\n",
    "-->"
   ]
  },
  {
   "cell_type": "code",
   "execution_count": 21,
   "metadata": {
    "nbgrader": {
     "grade": false,
     "grade_id": "q2_answer",
     "locked": false,
     "schema_version": 2,
     "solution": true
    },
    "tags": [
     "solution"
    ]
   },
   "outputs": [
    {
     "data": {
      "text/html": [
       "<div>\n",
       "<style scoped>\n",
       "    .dataframe tbody tr th:only-of-type {\n",
       "        vertical-align: middle;\n",
       "    }\n",
       "\n",
       "    .dataframe tbody tr th {\n",
       "        vertical-align: top;\n",
       "    }\n",
       "\n",
       "    .dataframe thead th {\n",
       "        text-align: right;\n",
       "    }\n",
       "</style>\n",
       "<table border=\"1\" class=\"dataframe\">\n",
       "  <thead>\n",
       "    <tr style=\"text-align: right;\">\n",
       "      <th></th>\n",
       "      <th>fruit</th>\n",
       "      <th>color</th>\n",
       "    </tr>\n",
       "  </thead>\n",
       "  <tbody>\n",
       "    <tr>\n",
       "      <th>0</th>\n",
       "      <td>apple</td>\n",
       "      <td>red</td>\n",
       "    </tr>\n",
       "    <tr>\n",
       "      <th>1</th>\n",
       "      <td>orange</td>\n",
       "      <td>orange</td>\n",
       "    </tr>\n",
       "    <tr>\n",
       "      <th>2</th>\n",
       "      <td>banana</td>\n",
       "      <td>yellow</td>\n",
       "    </tr>\n",
       "    <tr>\n",
       "      <th>3</th>\n",
       "      <td>raspberry</td>\n",
       "      <td>pink</td>\n",
       "    </tr>\n",
       "  </tbody>\n",
       "</table>\n",
       "</div>"
      ],
      "text/plain": [
       "       fruit   color\n",
       "0      apple     red\n",
       "1     orange  orange\n",
       "2     banana  yellow\n",
       "3  raspberry    pink"
      ]
     },
     "execution_count": 21,
     "metadata": {},
     "output_type": "execute_result"
    }
   ],
   "source": [
    "fruit_info_original = fruit_info.drop(['rank1', 'rank2'], axis = 1)\n",
    "fruit_info_original"
   ]
  },
  {
   "cell_type": "code",
   "execution_count": 22,
   "metadata": {
    "deletable": false,
    "editable": false
   },
   "outputs": [
    {
     "data": {
      "text/html": [
       "\n",
       "    <p><strong>q2</strong> passed!</p>\n",
       "    "
      ],
      "text/plain": [
       "q2 passed!"
      ]
     },
     "execution_count": 22,
     "metadata": {},
     "output_type": "execute_result"
    }
   ],
   "source": [
    "grader.check(\"q2\")"
   ]
  },
  {
   "cell_type": "markdown",
   "metadata": {
    "deletable": false,
    "editable": false,
    "nbgrader": {
     "grade": false,
     "grade_id": "q3",
     "locked": true,
     "schema_version": 2,
     "solution": false
    }
   },
   "source": [
    "### Question 3\n",
    "\n",
    "Use the `.rename()` method to [rename](https://pandas.pydata.org/pandas-docs/stable/reference/api/pandas.DataFrame.rename.html) the columns of `fruit_info_original` so they begin with capital letters. Set this new DataFrame to `fruit_info_caps`.\n",
    "<!--\n",
    "BEGIN QUESTION\n",
    "name: q3\n",
    "-->"
   ]
  },
  {
   "cell_type": "code",
   "execution_count": 25,
   "metadata": {
    "nbgrader": {
     "grade": false,
     "grade_id": "q3_answer",
     "locked": false,
     "schema_version": 2,
     "solution": true
    },
    "tags": [
     "solution"
    ]
   },
   "outputs": [
    {
     "data": {
      "text/html": [
       "<div>\n",
       "<style scoped>\n",
       "    .dataframe tbody tr th:only-of-type {\n",
       "        vertical-align: middle;\n",
       "    }\n",
       "\n",
       "    .dataframe tbody tr th {\n",
       "        vertical-align: top;\n",
       "    }\n",
       "\n",
       "    .dataframe thead th {\n",
       "        text-align: right;\n",
       "    }\n",
       "</style>\n",
       "<table border=\"1\" class=\"dataframe\">\n",
       "  <thead>\n",
       "    <tr style=\"text-align: right;\">\n",
       "      <th></th>\n",
       "      <th>Fruit</th>\n",
       "      <th>Color</th>\n",
       "    </tr>\n",
       "  </thead>\n",
       "  <tbody>\n",
       "    <tr>\n",
       "      <th>0</th>\n",
       "      <td>apple</td>\n",
       "      <td>red</td>\n",
       "    </tr>\n",
       "    <tr>\n",
       "      <th>1</th>\n",
       "      <td>orange</td>\n",
       "      <td>orange</td>\n",
       "    </tr>\n",
       "    <tr>\n",
       "      <th>2</th>\n",
       "      <td>banana</td>\n",
       "      <td>yellow</td>\n",
       "    </tr>\n",
       "    <tr>\n",
       "      <th>3</th>\n",
       "      <td>raspberry</td>\n",
       "      <td>pink</td>\n",
       "    </tr>\n",
       "  </tbody>\n",
       "</table>\n",
       "</div>"
      ],
      "text/plain": [
       "       Fruit   Color\n",
       "0      apple     red\n",
       "1     orange  orange\n",
       "2     banana  yellow\n",
       "3  raspberry    pink"
      ]
     },
     "execution_count": 25,
     "metadata": {},
     "output_type": "execute_result"
    }
   ],
   "source": [
    "fruit_info_caps = fruit_info_original.rename(columns = {'fruit': 'Fruit', 'color': 'Color'})\n",
    "fruit_info_caps"
   ]
  },
  {
   "cell_type": "code",
   "execution_count": 26,
   "metadata": {
    "deletable": false,
    "editable": false
   },
   "outputs": [
    {
     "data": {
      "text/html": [
       "\n",
       "    <p><strong>q3</strong> passed!</p>\n",
       "    "
      ],
      "text/plain": [
       "q3 passed!"
      ]
     },
     "execution_count": 26,
     "metadata": {},
     "output_type": "execute_result"
    }
   ],
   "source": [
    "grader.check(\"q3\")"
   ]
  },
  {
   "cell_type": "markdown",
   "metadata": {
    "nbgrader": {
     "grade": false,
     "grade_id": "babyname_dataset",
     "locked": true,
     "schema_version": 2,
     "solution": false
    }
   },
   "source": [
    "### Babynames Dataset\n",
    "Now that we have learned the basics, let's move on to the babynames dataset. The babynames dataset contains a record of the given names of babies born in the United States each year.\n",
    "\n",
    "First let's run the following cells to build the DataFrame `baby_names`.\n",
    "The cells below download the data from the web and extract the data into a DataFrame. There should be a total of 6122890 records."
   ]
  },
  {
   "cell_type": "markdown",
   "metadata": {
    "nbgrader": {
     "grade": false,
     "grade_id": "fetch_and_cache",
     "locked": true,
     "schema_version": 2,
     "solution": false
    }
   },
   "source": [
    "### `fetch_and_cache` Helper\n",
    "\n",
    "The following function downloads and caches data in the `data/` directory and returns the `Path` to the downloaded file. The cell below the function describes how it works. "
   ]
  },
  {
   "cell_type": "code",
   "execution_count": 28,
   "metadata": {
    "nbgrader": {
     "grade": false,
     "grade_id": "fetch_and_cache_code",
     "locked": true,
     "schema_version": 2,
     "solution": false
    }
   },
   "outputs": [],
   "source": [
    "import requests\n",
    "from pathlib import Path\n",
    "\n",
    "def fetch_and_cache(data_url, file, data_dir=\"data\", force=False):\n",
    "    \"\"\"\n",
    "    Download and cache a url and return the file object.\n",
    "    \n",
    "    data_url: the web address to download\n",
    "    file: the file in which to save the results.\n",
    "    data_dir: (default=\"data\") the location to save the data\n",
    "    force: if true the file is always re-downloaded \n",
    "    \n",
    "    return: The pathlib.Path to the file.\n",
    "    \"\"\"\n",
    "    data_dir = Path(data_dir)\n",
    "    data_dir.mkdir(exist_ok=True)\n",
    "    file_path = data_dir/Path(file)\n",
    "    if force and file_path.exists():\n",
    "        file_path.unlink()\n",
    "    if force or not file_path.exists():\n",
    "        print('Downloading...', end=' ')\n",
    "        resp = requests.get(data_url)\n",
    "        with file_path.open('wb') as f:\n",
    "            f.write(resp.content)\n",
    "        print('Done!')\n",
    "    else:\n",
    "        import time \n",
    "        created = time.ctime(file_path.stat().st_ctime)\n",
    "        print(\"Using cached version downloaded at\", created)\n",
    "    return file_path"
   ]
  },
  {
   "cell_type": "markdown",
   "metadata": {
    "nbgrader": {
     "grade": false,
     "grade_id": "cell-18d54d536c23da04",
     "locked": true,
     "schema_version": 2,
     "solution": false
    }
   },
   "source": [
    "In Python, a `Path` object represents the filesystem paths to files (and other resources). The `pathlib` module is effective for writing code that works on different operating systems and filesystems. \n",
    "\n",
    "To check if a file exists at a path, use `.exists()`. To create a directory for a path, use `.mkdir()`. To remove a file that might be a [symbolic link](https://en.wikipedia.org/wiki/Symbolic_link), use `.unlink()`. \n",
    "\n",
    "This function creates a path to a directory that will contain data files. It ensures that the directory exists (which is required to write files in that directory), then proceeds to download the file based on its URL.\n",
    "\n",
    "The benefit of this function is that not only can you force when you want a new file to be downloaded using the `force` parameter, but in cases when you don't need the file to be re-downloaded, you can use the cached version and save download time."
   ]
  },
  {
   "cell_type": "markdown",
   "metadata": {
    "nbgrader": {
     "grade": false,
     "grade_id": "download_data",
     "locked": true,
     "schema_version": 2,
     "solution": false
    }
   },
   "source": [
    "Below we use `fetch_and_cache` to download the `namesbystate.zip` zip file, which is a compressed directory of CSV files. \n",
    "\n",
    "**This might take a little while! Consider stretching.**"
   ]
  },
  {
   "cell_type": "code",
   "execution_count": 29,
   "metadata": {
    "nbgrader": {
     "grade": false,
     "grade_id": "download_data_code",
     "locked": true,
     "schema_version": 2,
     "solution": false
    }
   },
   "outputs": [
    {
     "name": "stdout",
     "output_type": "stream",
     "text": [
      "Downloading... Done!\n"
     ]
    }
   ],
   "source": [
    "data_url = 'https://www.ssa.gov/oact/babynames/state/namesbystate.zip'\n",
    "namesbystate_path = fetch_and_cache(data_url, 'namesbystate.zip')"
   ]
  },
  {
   "cell_type": "markdown",
   "metadata": {
    "nbgrader": {
     "grade": false,
     "grade_id": "build_df",
     "locked": true,
     "schema_version": 2,
     "solution": false
    }
   },
   "source": [
    "The following cell builds the final full `baby_names` DataFrame. It first builds one DataFrame per state, because that's how the data are stored in the zip file. Here is documentation for [pd.concat](https://pandas.pydata.org/pandas-docs/version/0.22/generated/pandas.concat.html) if you want to know more about its functionality. "
   ]
  },
  {
   "cell_type": "code",
   "execution_count": 30,
   "metadata": {
    "nbgrader": {
     "grade": false,
     "grade_id": "build_df_code",
     "locked": true,
     "schema_version": 2,
     "solution": false
    }
   },
   "outputs": [],
   "source": [
    "import zipfile\n",
    "zf = zipfile.ZipFile(namesbystate_path, 'r')\n",
    "\n",
    "column_labels = ['State', 'Sex', 'Year', 'Name', 'Count']\n",
    "\n",
    "def load_dataframe_from_zip(zf, f):\n",
    "    with zf.open(f) as fh: \n",
    "        return pd.read_csv(fh, header=None, names=column_labels)\n",
    "\n",
    "states = [\n",
    "    load_dataframe_from_zip(zf, f)\n",
    "    for f in sorted(zf.filelist, key=lambda x:x.filename) \n",
    "    if f.filename.endswith('.TXT')\n",
    "]\n",
    "\n",
    "baby_names = states[0]\n",
    "for state_df in states[1:]:\n",
    "    baby_names = pd.concat([baby_names, state_df])\n",
    "baby_names = baby_names.reset_index().iloc[:, 1:]"
   ]
  },
  {
   "cell_type": "code",
   "execution_count": 31,
   "metadata": {
    "nbgrader": {
     "grade": false,
     "grade_id": "build_df_check_len",
     "locked": true,
     "schema_version": 2,
     "solution": false
    }
   },
   "outputs": [
    {
     "data": {
      "text/plain": [
       "6122890"
      ]
     },
     "execution_count": 31,
     "metadata": {},
     "output_type": "execute_result"
    }
   ],
   "source": [
    "len(baby_names)"
   ]
  },
  {
   "cell_type": "code",
   "execution_count": 33,
   "metadata": {},
   "outputs": [
    {
     "data": {
      "text/html": [
       "<div>\n",
       "<style scoped>\n",
       "    .dataframe tbody tr th:only-of-type {\n",
       "        vertical-align: middle;\n",
       "    }\n",
       "\n",
       "    .dataframe tbody tr th {\n",
       "        vertical-align: top;\n",
       "    }\n",
       "\n",
       "    .dataframe thead th {\n",
       "        text-align: right;\n",
       "    }\n",
       "</style>\n",
       "<table border=\"1\" class=\"dataframe\">\n",
       "  <thead>\n",
       "    <tr style=\"text-align: right;\">\n",
       "      <th></th>\n",
       "      <th>State</th>\n",
       "      <th>Sex</th>\n",
       "      <th>Year</th>\n",
       "      <th>Name</th>\n",
       "      <th>Count</th>\n",
       "    </tr>\n",
       "  </thead>\n",
       "  <tbody>\n",
       "    <tr>\n",
       "      <th>0</th>\n",
       "      <td>AK</td>\n",
       "      <td>F</td>\n",
       "      <td>1910</td>\n",
       "      <td>Mary</td>\n",
       "      <td>14</td>\n",
       "    </tr>\n",
       "    <tr>\n",
       "      <th>1</th>\n",
       "      <td>AK</td>\n",
       "      <td>F</td>\n",
       "      <td>1910</td>\n",
       "      <td>Annie</td>\n",
       "      <td>12</td>\n",
       "    </tr>\n",
       "    <tr>\n",
       "      <th>2</th>\n",
       "      <td>AK</td>\n",
       "      <td>F</td>\n",
       "      <td>1910</td>\n",
       "      <td>Anna</td>\n",
       "      <td>10</td>\n",
       "    </tr>\n",
       "    <tr>\n",
       "      <th>3</th>\n",
       "      <td>AK</td>\n",
       "      <td>F</td>\n",
       "      <td>1910</td>\n",
       "      <td>Margaret</td>\n",
       "      <td>8</td>\n",
       "    </tr>\n",
       "    <tr>\n",
       "      <th>4</th>\n",
       "      <td>AK</td>\n",
       "      <td>F</td>\n",
       "      <td>1910</td>\n",
       "      <td>Helen</td>\n",
       "      <td>7</td>\n",
       "    </tr>\n",
       "  </tbody>\n",
       "</table>\n",
       "</div>"
      ],
      "text/plain": [
       "  State Sex  Year      Name  Count\n",
       "0    AK   F  1910      Mary     14\n",
       "1    AK   F  1910     Annie     12\n",
       "2    AK   F  1910      Anna     10\n",
       "3    AK   F  1910  Margaret      8\n",
       "4    AK   F  1910     Helen      7"
      ]
     },
     "execution_count": 33,
     "metadata": {},
     "output_type": "execute_result"
    }
   ],
   "source": [
    "baby_names.head()"
   ]
  },
  {
   "cell_type": "markdown",
   "metadata": {
    "nbgrader": {
     "grade": false,
     "grade_id": "slicing",
     "locked": true,
     "schema_version": 2,
     "solution": false
    }
   },
   "source": [
    "## Slicing DataFrames - selecting rows and columns\n"
   ]
  },
  {
   "cell_type": "markdown",
   "metadata": {
    "nbgrader": {
     "grade": false,
     "grade_id": "slicing_text",
     "locked": true,
     "schema_version": 2,
     "solution": false
    }
   },
   "source": [
    "### Selection Using Label/Index, with `loc`\n",
    "\n",
    "**Column Selection** \n",
    "\n",
    "To select a column of a `DataFrame` by column label, the safest and fastest way is to use the `.loc` [method](https://pandas.pydata.org/pandas-docs/stable/reference/api/pandas.DataFrame.loc.html). General usage of `.loc` looks like `df.loc[rowname, colname]`. Remember that the colon `:` means \"everything.\" For example, if we want the `color` column of the `ex` DataFrame, we would use: `ex.loc[:, 'color']`\n",
    "\n",
    "- You can also slice across columns. For example, `baby_names.loc[:, 'Name':]` would select the column `Name` and all columns after `Name`.\n",
    "\n",
    "- *Alternative:* While `.loc` is invaluable when writing production code, it may be a little too verbose for interactive use. One recommended alternative is the `[]` method, which takes on the form `df['colname']`.\n",
    "\n",
    "**Row Selection**\n",
    "\n",
    "Similarly, if we want to select a row by its label, we can use the same `.loc` method. In this case, the \"label\" of each row refers to the index (ie. primary key) of the DataFrame."
   ]
  },
  {
   "cell_type": "code",
   "execution_count": 35,
   "metadata": {
    "nbgrader": {
     "grade": false,
     "grade_id": "slicing_e1",
     "locked": true,
     "schema_version": 2,
     "solution": false
    }
   },
   "outputs": [
    {
     "data": {
      "text/plain": [
       "2        Anna\n",
       "3    Margaret\n",
       "4       Helen\n",
       "5       Elsie\n",
       "Name: Name, dtype: object"
      ]
     },
     "execution_count": 35,
     "metadata": {},
     "output_type": "execute_result"
    }
   ],
   "source": [
    "baby_names.loc[2:5, 'Name']"
   ]
  },
  {
   "cell_type": "markdown",
   "metadata": {},
   "source": [
    "Notice the difference between the following cell and the previous one, just passing in `'Name'` returns a Series while `['Name']` returns a DataFrame."
   ]
  },
  {
   "cell_type": "code",
   "execution_count": 36,
   "metadata": {
    "nbgrader": {
     "grade": false,
     "grade_id": "slicing_e2",
     "locked": true,
     "schema_version": 2,
     "solution": false
    }
   },
   "outputs": [
    {
     "data": {
      "text/html": [
       "<div>\n",
       "<style scoped>\n",
       "    .dataframe tbody tr th:only-of-type {\n",
       "        vertical-align: middle;\n",
       "    }\n",
       "\n",
       "    .dataframe tbody tr th {\n",
       "        vertical-align: top;\n",
       "    }\n",
       "\n",
       "    .dataframe thead th {\n",
       "        text-align: right;\n",
       "    }\n",
       "</style>\n",
       "<table border=\"1\" class=\"dataframe\">\n",
       "  <thead>\n",
       "    <tr style=\"text-align: right;\">\n",
       "      <th></th>\n",
       "      <th>Name</th>\n",
       "    </tr>\n",
       "  </thead>\n",
       "  <tbody>\n",
       "    <tr>\n",
       "      <th>2</th>\n",
       "      <td>Anna</td>\n",
       "    </tr>\n",
       "    <tr>\n",
       "      <th>3</th>\n",
       "      <td>Margaret</td>\n",
       "    </tr>\n",
       "    <tr>\n",
       "      <th>4</th>\n",
       "      <td>Helen</td>\n",
       "    </tr>\n",
       "    <tr>\n",
       "      <th>5</th>\n",
       "      <td>Elsie</td>\n",
       "    </tr>\n",
       "  </tbody>\n",
       "</table>\n",
       "</div>"
      ],
      "text/plain": [
       "       Name\n",
       "2      Anna\n",
       "3  Margaret\n",
       "4     Helen\n",
       "5     Elsie"
      ]
     },
     "execution_count": 36,
     "metadata": {},
     "output_type": "execute_result"
    }
   ],
   "source": [
    "baby_names.loc[2:5, ['Name']]"
   ]
  },
  {
   "cell_type": "markdown",
   "metadata": {
    "nbgrader": {
     "grade": false,
     "grade_id": "slicing_loc_iloc",
     "locked": true,
     "schema_version": 2,
     "solution": false
    }
   },
   "source": [
    "The `.loc` actually uses the Pandas row index rather than row id/position of rows in the DataFrame to perform the selection. Also, notice that if you write `2:5` with `loc[]`, contrary to normal Python slicing functionality, the end index is included, so you get the row with index 5. "
   ]
  },
  {
   "cell_type": "markdown",
   "metadata": {},
   "source": [
    "### Selection using Integer location, with `iloc`"
   ]
  },
  {
   "cell_type": "markdown",
   "metadata": {
    "nbgrader": {
     "grade": false,
     "grade_id": "cell-463dfc0b4ae2e39d",
     "locked": true,
     "schema_version": 2,
     "solution": false
    }
   },
   "source": [
    "In lecture we discussed another pandas feature `iloc[]`, which lets you slice the DataFrame by row position and column position instead of by row index and column label, as `loc[]` does. It is **important** that you remember the difference and why you might want to use one over the other. In addition, with `iloc[]`, the end index is NOT included, just like normal Python slicing.\n",
    "\n",
    "As a mnemonic, remember that the \"i\" in `iloc` means \"integer.\" \n",
    "\n",
    "Below, we have sorted the `baby_names` DataFrame. Notice how the *position* of a row is not necessarily equal to the *index* of a row. For example, the first row is not necessarily the row associated with index 0. This distinction is important in understanding the difference between `loc[]` and `iloc[]`."
   ]
  },
  {
   "cell_type": "code",
   "execution_count": 37,
   "metadata": {},
   "outputs": [
    {
     "data": {
      "text/html": [
       "<div>\n",
       "<style scoped>\n",
       "    .dataframe tbody tr th:only-of-type {\n",
       "        vertical-align: middle;\n",
       "    }\n",
       "\n",
       "    .dataframe tbody tr th {\n",
       "        vertical-align: top;\n",
       "    }\n",
       "\n",
       "    .dataframe thead th {\n",
       "        text-align: right;\n",
       "    }\n",
       "</style>\n",
       "<table border=\"1\" class=\"dataframe\">\n",
       "  <thead>\n",
       "    <tr style=\"text-align: right;\">\n",
       "      <th></th>\n",
       "      <th>State</th>\n",
       "      <th>Sex</th>\n",
       "      <th>Year</th>\n",
       "      <th>Name</th>\n",
       "      <th>Count</th>\n",
       "    </tr>\n",
       "  </thead>\n",
       "  <tbody>\n",
       "    <tr>\n",
       "      <th>4180975</th>\n",
       "      <td>NY</td>\n",
       "      <td>M</td>\n",
       "      <td>2014</td>\n",
       "      <td>Aaban</td>\n",
       "      <td>6</td>\n",
       "    </tr>\n",
       "    <tr>\n",
       "      <th>4178892</th>\n",
       "      <td>NY</td>\n",
       "      <td>M</td>\n",
       "      <td>2013</td>\n",
       "      <td>Aaban</td>\n",
       "      <td>6</td>\n",
       "    </tr>\n",
       "    <tr>\n",
       "      <th>4191267</th>\n",
       "      <td>NY</td>\n",
       "      <td>M</td>\n",
       "      <td>2019</td>\n",
       "      <td>Aadam</td>\n",
       "      <td>6</td>\n",
       "    </tr>\n",
       "    <tr>\n",
       "      <th>757921</th>\n",
       "      <td>CA</td>\n",
       "      <td>M</td>\n",
       "      <td>2014</td>\n",
       "      <td>Aadan</td>\n",
       "      <td>5</td>\n",
       "    </tr>\n",
       "    <tr>\n",
       "      <th>743042</th>\n",
       "      <td>CA</td>\n",
       "      <td>M</td>\n",
       "      <td>2009</td>\n",
       "      <td>Aadan</td>\n",
       "      <td>6</td>\n",
       "    </tr>\n",
       "  </tbody>\n",
       "</table>\n",
       "</div>"
      ],
      "text/plain": [
       "        State Sex  Year   Name  Count\n",
       "4180975    NY   M  2014  Aaban      6\n",
       "4178892    NY   M  2013  Aaban      6\n",
       "4191267    NY   M  2019  Aadam      6\n",
       "757921     CA   M  2014  Aadan      5\n",
       "743042     CA   M  2009  Aadan      6"
      ]
     },
     "execution_count": 37,
     "metadata": {},
     "output_type": "execute_result"
    }
   ],
   "source": [
    "sorted_baby_names = baby_names.sort_values(by = ['Name'])\n",
    "sorted_baby_names.head()"
   ]
  },
  {
   "cell_type": "markdown",
   "metadata": {},
   "source": [
    "Here is an example of how we would get the 2nd, 3rd, and 4th rows with only the `Name` column of the `baby_names` DataFrame using both `iloc[]` and `loc[]`. Observe the difference, especially after sorting `baby_names` by name."
   ]
  },
  {
   "cell_type": "code",
   "execution_count": 40,
   "metadata": {
    "nbgrader": {
     "grade": false,
     "grade_id": "cell-1292533181dbd2eb",
     "locked": true,
     "schema_version": 2,
     "solution": false
    }
   },
   "outputs": [
    {
     "data": {
      "text/plain": [
       "4178892    Aaban\n",
       "4191267    Aadam\n",
       "757921     Aadan\n",
       "Name: Name, dtype: object"
      ]
     },
     "execution_count": 40,
     "metadata": {},
     "output_type": "execute_result"
    }
   ],
   "source": [
    "sorted_baby_names.iloc[1:4, 3]"
   ]
  },
  {
   "cell_type": "markdown",
   "metadata": {},
   "source": [
    "Notice that using `loc[]` with 1:4 gives different results, since it selects using the *index*."
   ]
  },
  {
   "cell_type": "code",
   "execution_count": 41,
   "metadata": {
    "nbgrader": {
     "grade": false,
     "grade_id": "cell-31c9d32586d65565",
     "locked": true,
     "schema_version": 2,
     "solution": false
    }
   },
   "outputs": [
    {
     "data": {
      "text/plain": [
       "1          Annie\n",
       "3454926    Annie\n",
       "2131851    Annie\n",
       "2922661    Annie\n",
       "1063874    Annie\n",
       "           ...  \n",
       "1946375    Helen\n",
       "5962028    Helen\n",
       "2131176    Helen\n",
       "4967694    Helen\n",
       "4          Helen\n",
       "Name: Name, Length: 2078004, dtype: object"
      ]
     },
     "execution_count": 41,
     "metadata": {},
     "output_type": "execute_result"
    }
   ],
   "source": [
    "sorted_baby_names.loc[1:4, \"Name\"]"
   ]
  },
  {
   "cell_type": "markdown",
   "metadata": {
    "nbgrader": {
     "grade": false,
     "grade_id": "cell-17ca8e630cf2d4bd",
     "locked": true,
     "schema_version": 2,
     "solution": false
    }
   },
   "source": [
    "Lastly, we can change the index of a DataFrame using the `set_index` method."
   ]
  },
  {
   "cell_type": "code",
   "execution_count": 42,
   "metadata": {
    "nbgrader": {
     "grade": false,
     "grade_id": "slicing_e3",
     "locked": true,
     "schema_version": 2,
     "solution": false
    }
   },
   "outputs": [
    {
     "data": {
      "text/html": [
       "<div>\n",
       "<style scoped>\n",
       "    .dataframe tbody tr th:only-of-type {\n",
       "        vertical-align: middle;\n",
       "    }\n",
       "\n",
       "    .dataframe tbody tr th {\n",
       "        vertical-align: top;\n",
       "    }\n",
       "\n",
       "    .dataframe thead th {\n",
       "        text-align: right;\n",
       "    }\n",
       "</style>\n",
       "<table border=\"1\" class=\"dataframe\">\n",
       "  <thead>\n",
       "    <tr style=\"text-align: right;\">\n",
       "      <th></th>\n",
       "      <th>State</th>\n",
       "      <th>Sex</th>\n",
       "      <th>Year</th>\n",
       "      <th>Count</th>\n",
       "    </tr>\n",
       "    <tr>\n",
       "      <th>Name</th>\n",
       "      <th></th>\n",
       "      <th></th>\n",
       "      <th></th>\n",
       "      <th></th>\n",
       "    </tr>\n",
       "  </thead>\n",
       "  <tbody>\n",
       "    <tr>\n",
       "      <th>Mary</th>\n",
       "      <td>AK</td>\n",
       "      <td>F</td>\n",
       "      <td>1910</td>\n",
       "      <td>14</td>\n",
       "    </tr>\n",
       "    <tr>\n",
       "      <th>Annie</th>\n",
       "      <td>AK</td>\n",
       "      <td>F</td>\n",
       "      <td>1910</td>\n",
       "      <td>12</td>\n",
       "    </tr>\n",
       "    <tr>\n",
       "      <th>Anna</th>\n",
       "      <td>AK</td>\n",
       "      <td>F</td>\n",
       "      <td>1910</td>\n",
       "      <td>10</td>\n",
       "    </tr>\n",
       "    <tr>\n",
       "      <th>Margaret</th>\n",
       "      <td>AK</td>\n",
       "      <td>F</td>\n",
       "      <td>1910</td>\n",
       "      <td>8</td>\n",
       "    </tr>\n",
       "    <tr>\n",
       "      <th>Helen</th>\n",
       "      <td>AK</td>\n",
       "      <td>F</td>\n",
       "      <td>1910</td>\n",
       "      <td>7</td>\n",
       "    </tr>\n",
       "  </tbody>\n",
       "</table>\n",
       "</div>"
      ],
      "text/plain": [
       "         State Sex  Year  Count\n",
       "Name                           \n",
       "Mary        AK   F  1910     14\n",
       "Annie       AK   F  1910     12\n",
       "Anna        AK   F  1910     10\n",
       "Margaret    AK   F  1910      8\n",
       "Helen       AK   F  1910      7"
      ]
     },
     "execution_count": 42,
     "metadata": {},
     "output_type": "execute_result"
    }
   ],
   "source": [
    "df = baby_names[:5].set_index(\"Name\") \n",
    "df"
   ]
  },
  {
   "cell_type": "markdown",
   "metadata": {
    "nbgrader": {
     "grade": false,
     "grade_id": "slicing_loc_index",
     "locked": true,
     "schema_version": 2,
     "solution": false
    }
   },
   "source": [
    "We can now look up rows by name directly:"
   ]
  },
  {
   "cell_type": "code",
   "execution_count": 43,
   "metadata": {
    "nbgrader": {
     "grade": false,
     "grade_id": "slicing_loc_index_code",
     "locked": true,
     "schema_version": 2,
     "solution": false
    }
   },
   "outputs": [
    {
     "data": {
      "text/html": [
       "<div>\n",
       "<style scoped>\n",
       "    .dataframe tbody tr th:only-of-type {\n",
       "        vertical-align: middle;\n",
       "    }\n",
       "\n",
       "    .dataframe tbody tr th {\n",
       "        vertical-align: top;\n",
       "    }\n",
       "\n",
       "    .dataframe thead th {\n",
       "        text-align: right;\n",
       "    }\n",
       "</style>\n",
       "<table border=\"1\" class=\"dataframe\">\n",
       "  <thead>\n",
       "    <tr style=\"text-align: right;\">\n",
       "      <th></th>\n",
       "      <th>State</th>\n",
       "      <th>Sex</th>\n",
       "      <th>Year</th>\n",
       "      <th>Count</th>\n",
       "    </tr>\n",
       "    <tr>\n",
       "      <th>Name</th>\n",
       "      <th></th>\n",
       "      <th></th>\n",
       "      <th></th>\n",
       "      <th></th>\n",
       "    </tr>\n",
       "  </thead>\n",
       "  <tbody>\n",
       "    <tr>\n",
       "      <th>Mary</th>\n",
       "      <td>AK</td>\n",
       "      <td>F</td>\n",
       "      <td>1910</td>\n",
       "      <td>14</td>\n",
       "    </tr>\n",
       "    <tr>\n",
       "      <th>Anna</th>\n",
       "      <td>AK</td>\n",
       "      <td>F</td>\n",
       "      <td>1910</td>\n",
       "      <td>10</td>\n",
       "    </tr>\n",
       "  </tbody>\n",
       "</table>\n",
       "</div>"
      ],
      "text/plain": [
       "     State Sex  Year  Count\n",
       "Name                       \n",
       "Mary    AK   F  1910     14\n",
       "Anna    AK   F  1910     10"
      ]
     },
     "execution_count": 43,
     "metadata": {},
     "output_type": "execute_result"
    }
   ],
   "source": [
    "df.loc[['Mary', 'Anna'], :]"
   ]
  },
  {
   "cell_type": "markdown",
   "metadata": {
    "nbgrader": {
     "grade": false,
     "grade_id": "slicing_iloc",
     "locked": true,
     "schema_version": 2,
     "solution": false
    }
   },
   "source": [
    "However, if we still want to access rows by location we will need to use the integer loc (`iloc`) accessor:"
   ]
  },
  {
   "cell_type": "code",
   "execution_count": 46,
   "metadata": {
    "nbgrader": {
     "grade": false,
     "grade_id": "slicing_iloc_code",
     "locked": true,
     "schema_version": 2,
     "solution": false
    }
   },
   "outputs": [
    {
     "data": {
      "text/html": [
       "<div>\n",
       "<style scoped>\n",
       "    .dataframe tbody tr th:only-of-type {\n",
       "        vertical-align: middle;\n",
       "    }\n",
       "\n",
       "    .dataframe tbody tr th {\n",
       "        vertical-align: top;\n",
       "    }\n",
       "\n",
       "    .dataframe thead th {\n",
       "        text-align: right;\n",
       "    }\n",
       "</style>\n",
       "<table border=\"1\" class=\"dataframe\">\n",
       "  <thead>\n",
       "    <tr style=\"text-align: right;\">\n",
       "      <th></th>\n",
       "      <th>Year</th>\n",
       "    </tr>\n",
       "    <tr>\n",
       "      <th>Name</th>\n",
       "      <th></th>\n",
       "    </tr>\n",
       "  </thead>\n",
       "  <tbody>\n",
       "    <tr>\n",
       "      <th>Annie</th>\n",
       "      <td>1910</td>\n",
       "    </tr>\n",
       "    <tr>\n",
       "      <th>Anna</th>\n",
       "      <td>1910</td>\n",
       "    </tr>\n",
       "    <tr>\n",
       "      <th>Margaret</th>\n",
       "      <td>1910</td>\n",
       "    </tr>\n",
       "  </tbody>\n",
       "</table>\n",
       "</div>"
      ],
      "text/plain": [
       "          Year\n",
       "Name          \n",
       "Annie     1910\n",
       "Anna      1910\n",
       "Margaret  1910"
      ]
     },
     "execution_count": 46,
     "metadata": {},
     "output_type": "execute_result"
    }
   ],
   "source": [
    "#Example: \n",
    "df.iloc[1:4, 2:3]"
   ]
  },
  {
   "cell_type": "markdown",
   "metadata": {
    "deletable": false,
    "editable": false,
    "nbgrader": {
     "grade": false,
     "grade_id": "q4",
     "locked": true,
     "schema_version": 2,
     "solution": false
    }
   },
   "source": [
    "### Question 4\n",
    "\n",
    "Selecting multiple columns is easy.  You just need to supply a list of column names.  Select the `Name` and `Year` **in that order** from the `baby_names` table.\n",
    "\n",
    "<!--\n",
    "BEGIN QUESTION\n",
    "name: q4\n",
    "-->"
   ]
  },
  {
   "cell_type": "code",
   "execution_count": 53,
   "metadata": {
    "nbgrader": {
     "grade": false,
     "grade_id": "q4_answer",
     "locked": false,
     "schema_version": 2,
     "solution": true
    }
   },
   "outputs": [
    {
     "data": {
      "text/html": [
       "<div>\n",
       "<style scoped>\n",
       "    .dataframe tbody tr th:only-of-type {\n",
       "        vertical-align: middle;\n",
       "    }\n",
       "\n",
       "    .dataframe tbody tr th {\n",
       "        vertical-align: top;\n",
       "    }\n",
       "\n",
       "    .dataframe thead th {\n",
       "        text-align: right;\n",
       "    }\n",
       "</style>\n",
       "<table border=\"1\" class=\"dataframe\">\n",
       "  <thead>\n",
       "    <tr style=\"text-align: right;\">\n",
       "      <th></th>\n",
       "      <th>Name</th>\n",
       "      <th>Year</th>\n",
       "    </tr>\n",
       "  </thead>\n",
       "  <tbody>\n",
       "    <tr>\n",
       "      <th>0</th>\n",
       "      <td>Mary</td>\n",
       "      <td>1910</td>\n",
       "    </tr>\n",
       "    <tr>\n",
       "      <th>1</th>\n",
       "      <td>Annie</td>\n",
       "      <td>1910</td>\n",
       "    </tr>\n",
       "    <tr>\n",
       "      <th>2</th>\n",
       "      <td>Anna</td>\n",
       "      <td>1910</td>\n",
       "    </tr>\n",
       "    <tr>\n",
       "      <th>3</th>\n",
       "      <td>Margaret</td>\n",
       "      <td>1910</td>\n",
       "    </tr>\n",
       "    <tr>\n",
       "      <th>4</th>\n",
       "      <td>Helen</td>\n",
       "      <td>1910</td>\n",
       "    </tr>\n",
       "  </tbody>\n",
       "</table>\n",
       "</div>"
      ],
      "text/plain": [
       "       Name  Year\n",
       "0      Mary  1910\n",
       "1     Annie  1910\n",
       "2      Anna  1910\n",
       "3  Margaret  1910\n",
       "4     Helen  1910"
      ]
     },
     "execution_count": 53,
     "metadata": {},
     "output_type": "execute_result"
    }
   ],
   "source": [
    "name_and_year = baby_names[['Name', 'Year']]\n",
    "name_and_year[:5]"
   ]
  },
  {
   "cell_type": "code",
   "execution_count": 54,
   "metadata": {
    "deletable": false,
    "editable": false
   },
   "outputs": [
    {
     "data": {
      "text/html": [
       "\n",
       "    <p><strong>q4</strong> passed!</p>\n",
       "    "
      ],
      "text/plain": [
       "q4 passed!"
      ]
     },
     "execution_count": 54,
     "metadata": {},
     "output_type": "execute_result"
    }
   ],
   "source": [
    "grader.check(\"q4\")"
   ]
  },
  {
   "cell_type": "markdown",
   "metadata": {
    "nbgrader": {
     "grade": false,
     "grade_id": "q4_hint",
     "locked": true,
     "schema_version": 2,
     "solution": false
    }
   },
   "source": [
    "Note that `.loc[]` can be used to re-order the columns within a DataFrame."
   ]
  },
  {
   "cell_type": "markdown",
   "metadata": {
    "nbgrader": {
     "grade": false,
     "grade_id": "filter_data",
     "locked": true,
     "schema_version": 2,
     "solution": false
    }
   },
   "source": [
    "## Filtering Data"
   ]
  },
  {
   "cell_type": "markdown",
   "metadata": {
    "nbgrader": {
     "grade": false,
     "grade_id": "filter_data_op",
     "locked": true,
     "schema_version": 2,
     "solution": false
    }
   },
   "source": [
    "### Filtering with boolean arrays\n",
    "\n",
    "Filtering is the process of removing unwanted material.  In your quest for cleaner data, you will undoubtedly filter your data at some point: whether it be for clearing up cases with missing values, for culling out fishy outliers, or for analyzing subgroups of your data set.  Note that compound expressions have to be grouped with parentheses. Example usage looks like `df[df['column name'] < 5]`.\n",
    "\n",
    "For your reference, some commonly used comparison operators are given below.\n",
    "\n",
    "Symbol | Usage      | Meaning \n",
    "------ | ---------- | -------------------------------------\n",
    "==   | a == b   | Does a equal b?\n",
    "<=   | a <= b   | Is a less than or equal to b?\n",
    ">=   | a >= b   | Is a greater than or equal to b?\n",
    "<    | a < b    | Is a less than b?\n",
    "&#62;    | a &#62; b    | Is a greater than b?\n",
    "~    | ~p       | Returns negation of p\n",
    "&#124; | p &#124; q | p OR q\n",
    "&    | p & q    | p AND q\n",
    "^  | p ^ q | p XOR q (exclusive or)"
   ]
  },
  {
   "cell_type": "markdown",
   "metadata": {
    "nbgrader": {
     "grade": false,
     "grade_id": "filter_ca",
     "locked": true,
     "schema_version": 2,
     "solution": false
    }
   },
   "source": [
    "In the following we construct the DataFrame containing only names registered in California"
   ]
  },
  {
   "cell_type": "code",
   "execution_count": 55,
   "metadata": {
    "nbgrader": {
     "grade": false,
     "grade_id": "filter_ca_code",
     "locked": true,
     "schema_version": 2,
     "solution": false
    }
   },
   "outputs": [],
   "source": [
    "ca = baby_names[baby_names['State'] == 'CA']"
   ]
  },
  {
   "cell_type": "markdown",
   "metadata": {
    "deletable": false,
    "editable": false,
    "nbgrader": {
     "grade": false,
     "grade_id": "q5a",
     "locked": true,
     "schema_version": 2,
     "solution": false
    }
   },
   "source": [
    "### Question 5\n",
    "Using a boolean array, select the names in Year 2000 (from `baby_names`) that have larger than 3000 counts. Keep all columns from the original `baby_names` DataFrame.\n",
    "\n",
    "Note: Any time you use `p & q` to filter the DataFrame, make sure to use `df[(df[p]) & (df[q])]` or `df.loc[(df[p]) & (df[q])]`. That is, make sure to wrap conditions with parentheses.\n",
    "\n",
    "**Remember** that both slicing and `loc` will achieve the same result, it is just that `loc` is typically faster in production. You are free to use whichever one you would like.\n",
    "\n",
    "<!--\n",
    "BEGIN QUESTION\n",
    "name: q5\n",
    "-->"
   ]
  },
  {
   "cell_type": "code",
   "execution_count": 58,
   "metadata": {
    "nbgrader": {
     "grade": false,
     "grade_id": "q5a_answer",
     "locked": false,
     "schema_version": 2,
     "solution": true
    }
   },
   "outputs": [
    {
     "data": {
      "text/html": [
       "<div>\n",
       "<style scoped>\n",
       "    .dataframe tbody tr th:only-of-type {\n",
       "        vertical-align: middle;\n",
       "    }\n",
       "\n",
       "    .dataframe tbody tr th {\n",
       "        vertical-align: top;\n",
       "    }\n",
       "\n",
       "    .dataframe thead th {\n",
       "        text-align: right;\n",
       "    }\n",
       "</style>\n",
       "<table border=\"1\" class=\"dataframe\">\n",
       "  <thead>\n",
       "    <tr style=\"text-align: right;\">\n",
       "      <th></th>\n",
       "      <th>State</th>\n",
       "      <th>Sex</th>\n",
       "      <th>Year</th>\n",
       "      <th>Name</th>\n",
       "      <th>Count</th>\n",
       "    </tr>\n",
       "  </thead>\n",
       "  <tbody>\n",
       "    <tr>\n",
       "      <th>716368</th>\n",
       "      <td>CA</td>\n",
       "      <td>M</td>\n",
       "      <td>2000</td>\n",
       "      <td>Daniel</td>\n",
       "      <td>4342</td>\n",
       "    </tr>\n",
       "    <tr>\n",
       "      <th>716369</th>\n",
       "      <td>CA</td>\n",
       "      <td>M</td>\n",
       "      <td>2000</td>\n",
       "      <td>Anthony</td>\n",
       "      <td>3839</td>\n",
       "    </tr>\n",
       "    <tr>\n",
       "      <th>716370</th>\n",
       "      <td>CA</td>\n",
       "      <td>M</td>\n",
       "      <td>2000</td>\n",
       "      <td>Jose</td>\n",
       "      <td>3804</td>\n",
       "    </tr>\n",
       "    <tr>\n",
       "      <th>716371</th>\n",
       "      <td>CA</td>\n",
       "      <td>M</td>\n",
       "      <td>2000</td>\n",
       "      <td>Andrew</td>\n",
       "      <td>3600</td>\n",
       "    </tr>\n",
       "    <tr>\n",
       "      <th>716372</th>\n",
       "      <td>CA</td>\n",
       "      <td>M</td>\n",
       "      <td>2000</td>\n",
       "      <td>Michael</td>\n",
       "      <td>3572</td>\n",
       "    </tr>\n",
       "  </tbody>\n",
       "</table>\n",
       "</div>"
      ],
      "text/plain": [
       "       State Sex  Year     Name  Count\n",
       "716368    CA   M  2000   Daniel   4342\n",
       "716369    CA   M  2000  Anthony   3839\n",
       "716370    CA   M  2000     Jose   3804\n",
       "716371    CA   M  2000   Andrew   3600\n",
       "716372    CA   M  2000  Michael   3572"
      ]
     },
     "execution_count": 58,
     "metadata": {},
     "output_type": "execute_result"
    }
   ],
   "source": [
    "result = baby_names[(baby_names['Year'] == 2000) & (baby_names['Count'] > 3000)]\n",
    "result.head()"
   ]
  },
  {
   "cell_type": "code",
   "execution_count": 59,
   "metadata": {
    "deletable": false,
    "editable": false
   },
   "outputs": [
    {
     "data": {
      "text/html": [
       "\n",
       "    <p><strong>q5</strong> passed!</p>\n",
       "    "
      ],
      "text/plain": [
       "q5 passed!"
      ]
     },
     "execution_count": 59,
     "metadata": {},
     "output_type": "execute_result"
    }
   ],
   "source": [
    "grader.check(\"q5\")"
   ]
  },
  {
   "cell_type": "markdown",
   "metadata": {},
   "source": [
    "Optionally, repeat the exercise from above, but this time using the `query` command from lecture."
   ]
  },
  {
   "cell_type": "code",
   "execution_count": 62,
   "metadata": {},
   "outputs": [
    {
     "data": {
      "text/html": [
       "<div>\n",
       "<style scoped>\n",
       "    .dataframe tbody tr th:only-of-type {\n",
       "        vertical-align: middle;\n",
       "    }\n",
       "\n",
       "    .dataframe tbody tr th {\n",
       "        vertical-align: top;\n",
       "    }\n",
       "\n",
       "    .dataframe thead th {\n",
       "        text-align: right;\n",
       "    }\n",
       "</style>\n",
       "<table border=\"1\" class=\"dataframe\">\n",
       "  <thead>\n",
       "    <tr style=\"text-align: right;\">\n",
       "      <th></th>\n",
       "      <th>State</th>\n",
       "      <th>Sex</th>\n",
       "      <th>Year</th>\n",
       "      <th>Name</th>\n",
       "      <th>Count</th>\n",
       "    </tr>\n",
       "  </thead>\n",
       "  <tbody>\n",
       "    <tr>\n",
       "      <th>716368</th>\n",
       "      <td>CA</td>\n",
       "      <td>M</td>\n",
       "      <td>2000</td>\n",
       "      <td>Daniel</td>\n",
       "      <td>4342</td>\n",
       "    </tr>\n",
       "    <tr>\n",
       "      <th>716369</th>\n",
       "      <td>CA</td>\n",
       "      <td>M</td>\n",
       "      <td>2000</td>\n",
       "      <td>Anthony</td>\n",
       "      <td>3839</td>\n",
       "    </tr>\n",
       "    <tr>\n",
       "      <th>716370</th>\n",
       "      <td>CA</td>\n",
       "      <td>M</td>\n",
       "      <td>2000</td>\n",
       "      <td>Jose</td>\n",
       "      <td>3804</td>\n",
       "    </tr>\n",
       "    <tr>\n",
       "      <th>716371</th>\n",
       "      <td>CA</td>\n",
       "      <td>M</td>\n",
       "      <td>2000</td>\n",
       "      <td>Andrew</td>\n",
       "      <td>3600</td>\n",
       "    </tr>\n",
       "    <tr>\n",
       "      <th>716372</th>\n",
       "      <td>CA</td>\n",
       "      <td>M</td>\n",
       "      <td>2000</td>\n",
       "      <td>Michael</td>\n",
       "      <td>3572</td>\n",
       "    </tr>\n",
       "  </tbody>\n",
       "</table>\n",
       "</div>"
      ],
      "text/plain": [
       "       State Sex  Year     Name  Count\n",
       "716368    CA   M  2000   Daniel   4342\n",
       "716369    CA   M  2000  Anthony   3839\n",
       "716370    CA   M  2000     Jose   3804\n",
       "716371    CA   M  2000   Andrew   3600\n",
       "716372    CA   M  2000  Michael   3572"
      ]
     },
     "execution_count": 62,
     "metadata": {},
     "output_type": "execute_result"
    }
   ],
   "source": [
    "result_using_query = baby_names.query('Year == 2000 and Count > 3000')\n",
    "result_using_query.head()"
   ]
  },
  {
   "cell_type": "markdown",
   "metadata": {},
   "source": [
    "### Question 6\n",
    "\n",
    "Some names gain/lose popularity because of cultural phenomena such as a political figure coming to power. Below, we plot the popularity of the female name Hillary in Calfiornia over time. What do you notice about this plot? What might be the cause of the steep drop?"
   ]
  },
  {
   "cell_type": "code",
   "execution_count": 63,
   "metadata": {},
   "outputs": [
    {
     "data": {
      "image/png": "[encoded data removed]",
      "text/plain": [
       "<Figure size 432x288 with 1 Axes>"
      ]
     },
     "metadata": {
      "needs_background": "light"
     },
     "output_type": "display_data"
    }
   ],
   "source": [
    "hillary_baby_name = baby_names[(baby_names['Name'] == 'Hillary') & (baby_names['State'] == 'CA') & (baby_names['Sex'] == 'F')]\n",
    "plt.plot(hillary_baby_name['Year'], hillary_baby_name['Count'])\n",
    "plt.title(\"Hillary Popularity Over Time\")\n",
    "plt.xlabel('Year')\n",
    "plt.ylabel('Count');"
   ]
  },
  {
   "cell_type": "markdown",
   "metadata": {},
   "source": [
    "In 1990s, Hillary was popular because Bill was president, but then scandal happened."
   ]
  },
  {
   "cell_type": "markdown",
   "metadata": {},
   "source": [
    "Optional: Below, we see code that aggregates across all 50 states. Try other names, including world leaders. \n",
    "\n",
    "For the curious: The syntax here is more advanced than before, but all of it was covered in Lecture 5, with the exception of `groupby`, `reset_index` and the usage of `@name_of_interest`. `groupby` is semantically equivalent to the `GROUP BY` operator in SQL. `reset_index` changes the index into a sequence of numbers from 0 to N - 1. `@name_of_interest` inside the query argument tells `query` to use the Python variable called `name_of_interest`. Advanced pandas syntax will be covered in Lecture 6. The title is generated using [Python f-strings](https://realpython.com/python-f-strings/)."
   ]
  },
  {
   "cell_type": "code",
   "execution_count": 64,
   "metadata": {},
   "outputs": [],
   "source": [
    "counts_aggregated_by_name_and_year = baby_names.groupby([\"Name\", \"Year\"])[\"Count\"].sum().reset_index()"
   ]
  },
  {
   "cell_type": "code",
   "execution_count": 65,
   "metadata": {},
   "outputs": [
    {
     "data": {
      "image/png": "[encoded data removed]",
      "text/plain": [
       "<Figure size 432x288 with 1 Axes>"
      ]
     },
     "metadata": {
      "needs_background": "light"
     },
     "output_type": "display_data"
    }
   ],
   "source": [
    "name_of_interest = 'Hillary'\n",
    "chosen_baby_name = counts_aggregated_by_name_and_year.query(\"Name == @name_of_interest\")\n",
    "plt.plot(chosen_baby_name['Year'], chosen_baby_name['Count'])\n",
    "plt.title(f\"Popularity Of {name_of_interest} Over Time\")\n",
    "plt.xlabel('Year')\n",
    "plt.ylabel('Count');"
   ]
  },
  {
   "cell_type": "markdown",
   "metadata": {
    "deletable": false,
    "editable": false
   },
   "source": [
    "---\n",
    "\n",
    "To double-check your work, the cell below will rerun all of the autograder tests."
   ]
  },
  {
   "cell_type": "code",
   "execution_count": 66,
   "metadata": {
    "deletable": false,
    "editable": false
   },
   "outputs": [
    {
     "data": {
      "text/html": [
       "\n",
       "    <p><strong>q1a</strong> passed!</p>\n",
       "    \n",
       "\n",
       "\n",
       "    <p><strong>q1b</strong> passed!</p>\n",
       "    \n",
       "\n",
       "\n",
       "    <p><strong>q2</strong> passed!</p>\n",
       "    \n",
       "\n",
       "\n",
       "    <p><strong>q3</strong> passed!</p>\n",
       "    \n",
       "\n",
       "\n",
       "    <p><strong>q4</strong> passed!</p>\n",
       "    \n",
       "\n",
       "\n",
       "    <p><strong>q5</strong> passed!</p>\n",
       "    \n",
       "\n"
      ],
      "text/plain": [
       "q1a passed!\n",
       "\n",
       "q1b passed!\n",
       "\n",
       "q2 passed!\n",
       "\n",
       "q3 passed!\n",
       "\n",
       "q4 passed!\n",
       "\n",
       "q5 passed!\n"
      ]
     },
     "execution_count": 66,
     "metadata": {},
     "output_type": "execute_result"
    }
   ],
   "source": [
    "grader.check_all()"
   ]
  },
  {
   "cell_type": "markdown",
   "metadata": {
    "deletable": false,
    "editable": false
   },
   "source": [
    "## Submission\n",
    "\n",
    "Make sure you have run all cells in your notebook in order before running the cell below, so that all images/graphs appear in the output. The cell below will generate a zip file for you to submit. **Please save before exporting!**"
   ]
  },
  {
   "cell_type": "code",
   "execution_count": 67,
   "metadata": {
    "deletable": false,
    "editable": false
   },
   "outputs": [
    {
     "data": {
      "application/javascript": [
       "Jupyter.notebook.save_checkpoint();"
      ],
      "text/plain": [
       "<IPython.core.display.Javascript object>"
      ]
     },
     "metadata": {},
     "output_type": "display_data"
    },
    {
     "data": {
      "text/html": [
       "\n",
       "                <p>Your submission has been exported. Click <a href=\"lab03.zip\" target=\"_blank\">here</a>\n",
       "                to download the zip file.</p>\n",
       "                "
      ],
      "text/plain": [
       "<IPython.core.display.HTML object>"
      ]
     },
     "metadata": {},
     "output_type": "display_data"
    }
   ],
   "source": [
    "# Save your notebook first, then run this cell to export your submission.\n",
    "grader.export(pdf=False)"
   ]
  },
  {
   "cell_type": "markdown",
   "metadata": {},
   "source": [
    " "
   ]
  }
 ],
 "metadata": {
  "anaconda-cloud": {},
  "celltoolbar": "Create Assignment",
  "history": [
   {
    "code": "fruit_info = pd.DataFrame(\n    data = {'fruit': ['apple', 'orange', 'banana', 'raspberry'],\n          'color': ['red', 'orange', 'yellow', 'pink']\n          })\nfruit_info",
    "id": "2206133de8e0477a8289e0a024c11201",
    "idx": 8,
    "time": "2021-02-01T02:28:33.954Z",
    "type": "execution"
   },
   {
    "id": "2206133de8e0477a8289e0a024c11201",
    "time": "2021-02-01T02:28:34.061Z",
    "type": "completion"
   },
   {
    "code": "import numpy as np\nimport matplotlib.pyplot as plt\nimport pandas as pd\n%matplotlib inline",
    "id": "f0bd0f8f87fa474cabf8217384abc961",
    "idx": 5,
    "time": "2021-02-01T02:28:39.373Z",
    "type": "execution"
   },
   {
    "id": "f0bd0f8f87fa474cabf8217384abc961",
    "time": "2021-02-01T02:28:39.999Z",
    "type": "completion"
   },
   {
    "code": "fruit_info = pd.DataFrame(\n    data = {'fruit': ['apple', 'orange', 'banana', 'raspberry'],\n          'color': ['red', 'orange', 'yellow', 'pink']\n          })\nfruit_info",
    "id": "2206133de8e0477a8289e0a024c11201",
    "idx": 8,
    "time": "2021-02-01T02:28:54.763Z",
    "type": "execution"
   },
   {
    "id": "2206133de8e0477a8289e0a024c11201",
    "time": "2021-02-01T02:28:54.827Z",
    "type": "completion"
   },
   {
    "code": "import numpy as np\nimport matplotlib.pyplot as plt\nimport pandas as pd\n%matplotlib inline",
    "id": "f0bd0f8f87fa474cabf8217384abc961",
    "idx": 5,
    "time": "2021-02-01T02:30:51.212Z",
    "type": "execution"
   },
   {
    "code": "fruit_info = pd.DataFrame(\n    data = {'fruit': ['apple', 'orange', 'banana', 'raspberry'],\n          'color': ['red', 'orange', 'yellow', 'pink']\n          })\nfruit_info",
    "id": "2206133de8e0477a8289e0a024c11201",
    "idx": 8,
    "time": "2021-02-01T02:30:51.218Z",
    "type": "execution"
   },
   {
    "code": "fruit_info2 = pd.DataFrame(\n    [(\"red\", \"apple\"), (\"orange\", \"orange\"), (\"yellow\", \"banana\"),\n     (\"pink\", \"raspberry\")], \n    columns = [\"color\", \"fruit\"])\nfruit_info2",
    "id": "56af03292a924271ae37ec932466f41f",
    "idx": 10,
    "time": "2021-02-01T02:30:51.220Z",
    "type": "execution"
   },
   {
    "code": "fruit_info.shape",
    "id": "6ff0eaa9e66947cc924e7e7ba69ebc42",
    "idx": 12,
    "time": "2021-02-01T02:30:51.226Z",
    "type": "execution"
   },
   {
    "id": "f0bd0f8f87fa474cabf8217384abc961",
    "time": "2021-02-01T02:30:51.274Z",
    "type": "completion"
   },
   {
    "id": "2206133de8e0477a8289e0a024c11201",
    "time": "2021-02-01T02:30:51.286Z",
    "type": "completion"
   },
   {
    "id": "56af03292a924271ae37ec932466f41f",
    "time": "2021-02-01T02:30:51.321Z",
    "type": "completion"
   },
   {
    "id": "6ff0eaa9e66947cc924e7e7ba69ebc42",
    "time": "2021-02-01T02:30:51.324Z",
    "type": "completion"
   },
   {
    "code": "# BEGIN SOLUTION\nfruit_info_caps = fruit_info_original.rename(columns = {\"color\": \"Color\", \"fruit\": \"Fruit\"})\n# END SOLUTION\nfruit_info_caps",
    "id": "0edeb083a8bd41a38abd894b95efd146",
    "idx": 29,
    "time": "2021-02-01T02:33:03.535Z",
    "type": "execution"
   },
   {
    "id": "0edeb083a8bd41a38abd894b95efd146",
    "time": "2021-02-01T02:33:03.635Z",
    "type": "completion"
   },
   {
    "code": "import numpy as np\nimport matplotlib.pyplot as plt\nimport pandas as pd\n%matplotlib inline",
    "id": "f0bd0f8f87fa474cabf8217384abc961",
    "idx": 5,
    "time": "2021-02-01T02:33:08.812Z",
    "type": "execution"
   },
   {
    "code": "fruit_info = pd.DataFrame(\n    data = {'fruit': ['apple', 'orange', 'banana', 'raspberry'],\n          'color': ['red', 'orange', 'yellow', 'pink']\n          })\nfruit_info",
    "id": "2206133de8e0477a8289e0a024c11201",
    "idx": 8,
    "time": "2021-02-01T02:33:08.815Z",
    "type": "execution"
   },
   {
    "code": "fruit_info2 = pd.DataFrame(\n    [(\"red\", \"apple\"), (\"orange\", \"orange\"), (\"yellow\", \"banana\"),\n     (\"pink\", \"raspberry\")], \n    columns = [\"color\", \"fruit\"])\nfruit_info2",
    "id": "56af03292a924271ae37ec932466f41f",
    "idx": 10,
    "time": "2021-02-01T02:33:08.818Z",
    "type": "execution"
   },
   {
    "code": "fruit_info.shape",
    "id": "6ff0eaa9e66947cc924e7e7ba69ebc42",
    "idx": 12,
    "time": "2021-02-01T02:33:08.820Z",
    "type": "execution"
   },
   {
    "code": "fruit_info.values",
    "id": "2f72951aea9341e39051a479c5a48a32",
    "idx": 14,
    "time": "2021-02-01T02:33:08.822Z",
    "type": "execution"
   },
   {
    "code": "# BEGIN SOLUTION\nfruit_info[\"rank1\"] = [2, 1, 4, 3]\n# END SOLUTION\nfruit_info",
    "id": "cd9c52bf56764de4b3dc7a1e23cef5bf",
    "idx": 16,
    "time": "2021-02-01T02:33:08.824Z",
    "type": "execution"
   },
   {
    "code": "# TEST \nfruit_info[\"rank1\"].dtype",
    "id": "0d8ed1e067f1472386c87f1f5a7ad303",
    "idx": 17,
    "time": "2021-02-01T02:33:08.826Z",
    "type": "execution"
   },
   {
    "code": "# TEST\nsorted(fruit_info[\"rank1\"].dropna())",
    "id": "b5ff3c6cc6aa4a1caeb6e7c85a5f78ef",
    "idx": 18,
    "time": "2021-02-01T02:33:08.828Z",
    "type": "execution"
   },
   {
    "code": "# BEGIN SOLUTION\nfruit_info.loc[:, \"rank2\"] = [2, 1, 4, 3]\n# END SOLUTION\nfruit_info",
    "id": "f847e726999e4d98953287cd04043aa0",
    "idx": 20,
    "time": "2021-02-01T02:33:08.830Z",
    "type": "execution"
   },
   {
    "code": "# TEST \nfruit_info[\"rank2\"].dtype",
    "id": "70f5dafbb83b4b6985493e456d65ba45",
    "idx": 21,
    "time": "2021-02-01T02:33:08.832Z",
    "type": "execution"
   },
   {
    "code": "# TEST\nfruit_info[\"rank2\"] == fruit_info[\"rank1\"]",
    "id": "450587c65d6f41648209f4f69a9fb651",
    "idx": 22,
    "time": "2021-02-01T02:33:08.834Z",
    "type": "execution"
   },
   {
    "code": "fruit_info_original = fruit_info.drop([\"rank1\", \"rank2\"], axis = 1) # SOLUTION\nfruit_info_original",
    "id": "3b5eb984164442678fb0e72a6e3fe47c",
    "idx": 24,
    "time": "2021-02-01T02:33:08.836Z",
    "type": "execution"
   },
   {
    "code": "# TEST\nfruit_info_original.shape",
    "id": "bed36ba1df024c16baae5f4298debedb",
    "idx": 25,
    "time": "2021-02-01T02:33:08.838Z",
    "type": "execution"
   },
   {
    "code": "# TEST\nfruit_info.shape",
    "id": "d7b0edaa422f4881858fc650432d4de7",
    "idx": 26,
    "time": "2021-02-01T02:33:08.840Z",
    "type": "execution"
   },
   {
    "code": "# TEST\nfruit_info_original.columns",
    "id": "8fe8e56ca83a4aa1b30f974628ad25e6",
    "idx": 27,
    "time": "2021-02-01T02:33:08.841Z",
    "type": "execution"
   },
   {
    "id": "f0bd0f8f87fa474cabf8217384abc961",
    "time": "2021-02-01T02:33:08.891Z",
    "type": "completion"
   },
   {
    "id": "2206133de8e0477a8289e0a024c11201",
    "time": "2021-02-01T02:33:08.896Z",
    "type": "completion"
   },
   {
    "id": "56af03292a924271ae37ec932466f41f",
    "time": "2021-02-01T02:33:08.938Z",
    "type": "completion"
   },
   {
    "id": "6ff0eaa9e66947cc924e7e7ba69ebc42",
    "time": "2021-02-01T02:33:08.940Z",
    "type": "completion"
   },
   {
    "id": "2f72951aea9341e39051a479c5a48a32",
    "time": "2021-02-01T02:33:08.954Z",
    "type": "completion"
   },
   {
    "id": "cd9c52bf56764de4b3dc7a1e23cef5bf",
    "time": "2021-02-01T02:33:08.956Z",
    "type": "completion"
   },
   {
    "id": "0d8ed1e067f1472386c87f1f5a7ad303",
    "time": "2021-02-01T02:33:08.958Z",
    "type": "completion"
   },
   {
    "id": "b5ff3c6cc6aa4a1caeb6e7c85a5f78ef",
    "time": "2021-02-01T02:33:08.960Z",
    "type": "completion"
   },
   {
    "id": "f847e726999e4d98953287cd04043aa0",
    "time": "2021-02-01T02:33:08.962Z",
    "type": "completion"
   },
   {
    "id": "70f5dafbb83b4b6985493e456d65ba45",
    "time": "2021-02-01T02:33:08.993Z",
    "type": "completion"
   },
   {
    "id": "450587c65d6f41648209f4f69a9fb651",
    "time": "2021-02-01T02:33:08.996Z",
    "type": "completion"
   },
   {
    "id": "3b5eb984164442678fb0e72a6e3fe47c",
    "time": "2021-02-01T02:33:08.998Z",
    "type": "completion"
   },
   {
    "id": "bed36ba1df024c16baae5f4298debedb",
    "time": "2021-02-01T02:33:09.001Z",
    "type": "completion"
   },
   {
    "id": "d7b0edaa422f4881858fc650432d4de7",
    "time": "2021-02-01T02:33:09.008Z",
    "type": "completion"
   },
   {
    "id": "8fe8e56ca83a4aa1b30f974628ad25e6",
    "time": "2021-02-01T02:33:09.010Z",
    "type": "completion"
   },
   {
    "code": "# BEGIN SOLUTION\nfruit_info_caps = fruit_info_original.rename(columns = {\"color\": \"Color\", \"fruit\": \"Fruit\"})\n# END SOLUTION\nfruit_info_caps",
    "id": "0edeb083a8bd41a38abd894b95efd146",
    "idx": 29,
    "time": "2021-02-01T02:33:10.866Z",
    "type": "execution"
   },
   {
    "id": "0edeb083a8bd41a38abd894b95efd146",
    "time": "2021-02-01T02:33:10.931Z",
    "type": "completion"
   },
   {
    "code": "baby_names.loc[2:5, ['Name']]",
    "id": "d5d3c126df1e4eb7b288cd26635fe4dc",
    "idx": 48,
    "time": "2021-02-01T02:38:10.283Z",
    "type": "execution"
   },
   {
    "id": "d5d3c126df1e4eb7b288cd26635fe4dc",
    "time": "2021-02-01T02:38:10.355Z",
    "type": "completion"
   },
   {
    "code": "sorted_baby_names = baby_names.sort_values(by = ['Name'])\nsorted_baby_names.head()",
    "id": "fbbb1cda01dd46fc9483f00ed1db6b3f",
    "idx": 52,
    "time": "2021-02-01T02:42:05.246Z",
    "type": "execution"
   },
   {
    "id": "fbbb1cda01dd46fc9483f00ed1db6b3f",
    "time": "2021-02-01T02:42:05.315Z",
    "type": "completion"
   },
   {
    "code": "df = baby_names[:5].set_index(\"Name\") \ndf",
    "id": "7c0f6ab0935f412c8fd51d68145e7a54",
    "idx": 58,
    "time": "2021-02-01T02:43:20.081Z",
    "type": "execution"
   },
   {
    "id": "7c0f6ab0935f412c8fd51d68145e7a54",
    "time": "2021-02-01T02:43:20.167Z",
    "type": "completion"
   },
   {
    "code": "import numpy as np\nimport matplotlib.pyplot as plt\nimport pandas as pd\n%matplotlib inline",
    "id": "f0bd0f8f87fa474cabf8217384abc961",
    "idx": 5,
    "time": "2021-02-01T02:47:07.911Z",
    "type": "execution"
   },
   {
    "code": "fruit_info = pd.DataFrame(\n    data = {'fruit': ['apple', 'orange', 'banana', 'raspberry'],\n          'color': ['red', 'orange', 'yellow', 'pink']\n          })\nfruit_info",
    "id": "2206133de8e0477a8289e0a024c11201",
    "idx": 8,
    "time": "2021-02-01T02:47:07.917Z",
    "type": "execution"
   },
   {
    "code": "fruit_info2 = pd.DataFrame(\n    [(\"red\", \"apple\"), (\"orange\", \"orange\"), (\"yellow\", \"banana\"),\n     (\"pink\", \"raspberry\")], \n    columns = [\"color\", \"fruit\"])\nfruit_info2",
    "id": "56af03292a924271ae37ec932466f41f",
    "idx": 10,
    "time": "2021-02-01T02:47:07.919Z",
    "type": "execution"
   },
   {
    "code": "fruit_info.shape",
    "id": "6ff0eaa9e66947cc924e7e7ba69ebc42",
    "idx": 12,
    "time": "2021-02-01T02:47:07.922Z",
    "type": "execution"
   },
   {
    "code": "fruit_info.values",
    "id": "2f72951aea9341e39051a479c5a48a32",
    "idx": 14,
    "time": "2021-02-01T02:47:07.924Z",
    "type": "execution"
   },
   {
    "code": "# BEGIN SOLUTION\nfruit_info[\"rank1\"] = [2, 1, 4, 3]\n# END SOLUTION\nfruit_info",
    "id": "cd9c52bf56764de4b3dc7a1e23cef5bf",
    "idx": 16,
    "time": "2021-02-01T02:47:07.926Z",
    "type": "execution"
   },
   {
    "code": "# TEST \nfruit_info[\"rank1\"].dtype",
    "id": "0d8ed1e067f1472386c87f1f5a7ad303",
    "idx": 17,
    "time": "2021-02-01T02:47:07.928Z",
    "type": "execution"
   },
   {
    "code": "# TEST\nsorted(fruit_info[\"rank1\"].dropna())",
    "id": "b5ff3c6cc6aa4a1caeb6e7c85a5f78ef",
    "idx": 18,
    "time": "2021-02-01T02:47:07.930Z",
    "type": "execution"
   },
   {
    "code": "# BEGIN SOLUTION\nfruit_info.loc[:, \"rank2\"] = [2, 1, 4, 3]\n# END SOLUTION\nfruit_info",
    "id": "f847e726999e4d98953287cd04043aa0",
    "idx": 20,
    "time": "2021-02-01T02:47:07.932Z",
    "type": "execution"
   },
   {
    "code": "# TEST \nfruit_info[\"rank2\"].dtype",
    "id": "70f5dafbb83b4b6985493e456d65ba45",
    "idx": 21,
    "time": "2021-02-01T02:47:07.934Z",
    "type": "execution"
   },
   {
    "code": "# TEST\nfruit_info[\"rank2\"] == fruit_info[\"rank1\"]",
    "id": "450587c65d6f41648209f4f69a9fb651",
    "idx": 22,
    "time": "2021-02-01T02:47:07.935Z",
    "type": "execution"
   },
   {
    "code": "fruit_info_original = fruit_info.drop([\"rank1\", \"rank2\"], axis = 1) # SOLUTION\nfruit_info_original",
    "id": "3b5eb984164442678fb0e72a6e3fe47c",
    "idx": 24,
    "time": "2021-02-01T02:47:07.937Z",
    "type": "execution"
   },
   {
    "code": "# TEST\nfruit_info_original.shape",
    "id": "bed36ba1df024c16baae5f4298debedb",
    "idx": 25,
    "time": "2021-02-01T02:47:07.939Z",
    "type": "execution"
   },
   {
    "code": "# TEST\nfruit_info.shape",
    "id": "d7b0edaa422f4881858fc650432d4de7",
    "idx": 26,
    "time": "2021-02-01T02:47:07.941Z",
    "type": "execution"
   },
   {
    "code": "# TEST\nfruit_info_original.columns",
    "id": "8fe8e56ca83a4aa1b30f974628ad25e6",
    "idx": 27,
    "time": "2021-02-01T02:47:07.942Z",
    "type": "execution"
   },
   {
    "code": "# BEGIN SOLUTION\nfruit_info_caps = fruit_info_original.rename(columns = {\"color\": \"Color\", \"fruit\": \"Fruit\"})\n# END SOLUTION\nfruit_info_caps",
    "id": "0edeb083a8bd41a38abd894b95efd146",
    "idx": 29,
    "time": "2021-02-01T02:47:07.944Z",
    "type": "execution"
   },
   {
    "code": "# TEST\nfruit_info_caps.columns",
    "id": "b85d938aca344bb6b4f3bde9a6f21795",
    "idx": 30,
    "time": "2021-02-01T02:47:07.946Z",
    "type": "execution"
   },
   {
    "code": "# TEST\nfruit_info.columns",
    "id": "942f0dae381642bb81414b1ad516b904",
    "idx": 31,
    "time": "2021-02-01T02:47:07.948Z",
    "type": "execution"
   },
   {
    "code": "import requests\nfrom pathlib import Path\n\ndef fetch_and_cache(data_url, file, data_dir=\"data\", force=False):\n    \"\"\"\n    Download and cache a url and return the file object.\n    \n    data_url: the web address to download\n    file: the file in which to save the results.\n    data_dir: (default=\"data\") the location to save the data\n    force: if true the file is always re-downloaded \n    \n    return: The pathlib.Path to the file.\n    \"\"\"\n    data_dir = Path(data_dir)\n    data_dir.mkdir(exist_ok=True)\n    file_path = data_dir/Path(file)\n    if force and file_path.exists():\n        file_path.unlink()\n    if force or not file_path.exists():\n        print('Downloading...', end=' ')\n        resp = requests.get(data_url)\n        with file_path.open('wb') as f:\n            f.write(resp.content)\n        print('Done!')\n    else:\n        import time \n        created = time.ctime(file_path.stat().st_ctime)\n        print(\"Using cached version downloaded at\", created)\n    return file_path",
    "id": "31add3b12b4c4b3997fd438b88215ec1",
    "idx": 34,
    "time": "2021-02-01T02:47:07.951Z",
    "type": "execution"
   },
   {
    "code": "data_url = 'https://www.ssa.gov/oact/babynames/state/namesbystate.zip'\nnamesbystate_path = fetch_and_cache(data_url, 'namesbystate.zip')",
    "id": "8d06ad3d90dd4709812ad51f1fc87470",
    "idx": 37,
    "time": "2021-02-01T02:47:07.953Z",
    "type": "execution"
   },
   {
    "code": "import zipfile\nzf = zipfile.ZipFile(namesbystate_path, 'r')\n\ncolumn_labels = ['State', 'Sex', 'Year', 'Name', 'Count']\n\n...",
    "id": "a4cc1eec37164c06bd8c32c15db15947",
    "idx": 39,
    "time": "2021-02-01T02:47:07.955Z",
    "type": "execution"
   },
   {
    "code": "import zipfile\nzf = zipfile.ZipFile(namesbystate_path, 'r')\n\ncolumn_labels = ['State', 'Sex', 'Year', 'Name', 'Count']\n\ndef load_dataframe_from_zip(zf, f):\n    with zf.open(f) as fh: \n        return pd.read_csv(fh, header=None, names=column_labels)\n\nstates = [\n    load_dataframe_from_zip(zf, f)\n    for f in sorted(zf.filelist, key=lambda x:x.filename) \n    if f.filename.endswith('.TXT')\n]\n\nbaby_names = states[0]\nfor state_df in states[1:]:\n    baby_names = pd.concat([baby_names, state_df])\nbaby_names = baby_names.reset_index().iloc[:, 1:]",
    "id": "55365b5610b14af9a1bec5d332d31cd2",
    "idx": 41,
    "time": "2021-02-01T02:47:07.957Z",
    "type": "execution"
   },
   {
    "code": "len(baby_names)",
    "id": "dd14e7ca16c7444f8fd7279058b15608",
    "idx": 42,
    "time": "2021-02-01T02:47:07.958Z",
    "type": "execution"
   },
   {
    "code": "baby_names.head()",
    "id": "b589085362a0454087d4ae92dd985680",
    "idx": 43,
    "time": "2021-02-01T02:47:07.961Z",
    "type": "execution"
   },
   {
    "code": "baby_names.loc[2:5, 'Name']",
    "id": "97990c54966a430a82f5fc1151f5d367",
    "idx": 46,
    "time": "2021-02-01T02:47:07.963Z",
    "type": "execution"
   },
   {
    "code": "baby_names.loc[2:5, ['Name']]",
    "id": "d5d3c126df1e4eb7b288cd26635fe4dc",
    "idx": 48,
    "time": "2021-02-01T02:47:07.967Z",
    "type": "execution"
   },
   {
    "code": "sorted_baby_names = baby_names.sort_values(by = ['Name'])\nsorted_baby_names.head()",
    "id": "fbbb1cda01dd46fc9483f00ed1db6b3f",
    "idx": 52,
    "time": "2021-02-01T02:47:07.970Z",
    "type": "execution"
   },
   {
    "code": "sorted_baby_names.iloc[1:4, 3]",
    "id": "8cb40bdf6e32411b83a11c3f2ef35401",
    "idx": 54,
    "time": "2021-02-01T02:47:07.971Z",
    "type": "execution"
   },
   {
    "code": "sorted_baby_names.loc[1:4, \"Name\"]",
    "id": "fee54a2e15fc40a088d7cdc815d85798",
    "idx": 56,
    "time": "2021-02-01T02:47:07.973Z",
    "type": "execution"
   },
   {
    "code": "df = baby_names[:5].set_index(\"Name\") \ndf",
    "id": "7c0f6ab0935f412c8fd51d68145e7a54",
    "idx": 58,
    "time": "2021-02-01T02:47:07.975Z",
    "type": "execution"
   },
   {
    "code": "df.loc[['Mary', 'Anna'], :]",
    "id": "b42430a54ec04b2e89dfe0fa8c2627b7",
    "idx": 60,
    "time": "2021-02-01T02:47:07.978Z",
    "type": "execution"
   },
   {
    "code": "#Example: \ndf.iloc[1:4, 2:3]",
    "id": "825a3a42e656450995bbaa2ad32398c4",
    "idx": 62,
    "time": "2021-02-01T02:47:07.980Z",
    "type": "execution"
   },
   {
    "code": "name_and_year = baby_names.loc[:, ['Name', 'Year']] # SOLUTION\nname_and_year[:5]",
    "id": "d51269ea9e9444a481c6aa66dfd47cdf",
    "idx": 64,
    "time": "2021-02-01T02:47:07.982Z",
    "type": "execution"
   },
   {
    "code": "# TEST\nname_and_year.shape",
    "id": "c1780803faf24f2186981df35d7ecba6",
    "idx": 65,
    "time": "2021-02-01T02:47:07.984Z",
    "type": "execution"
   },
   {
    "code": "# TEST\nname_and_year.loc[0, \"Name\"]",
    "id": "df6d892963a64e779bfdb0037008321d",
    "idx": 66,
    "time": "2021-02-01T02:47:07.986Z",
    "type": "execution"
   },
   {
    "code": "# TEST\nname_and_year.loc[0, \"Year\"]",
    "id": "df4df3f1bf28400f847a2d13c3b1fc1e",
    "idx": 67,
    "time": "2021-02-01T02:47:07.988Z",
    "type": "execution"
   },
   {
    "code": "ca = baby_names[baby_names['State'] == 'CA']",
    "id": "c27bb7ad4987412ca9b936426ab4d3b5",
    "idx": 72,
    "time": "2021-02-01T02:47:07.994Z",
    "type": "execution"
   },
   {
    "code": "result = baby_names[(baby_names[\"Year\"] == 2000) & (baby_names[\"Count\"] > 3000)] # SOLUTION\nresult.head()",
    "id": "c46b1b232ba94d9e8a67b8bdee69ef3d",
    "idx": 74,
    "time": "2021-02-01T02:47:07.996Z",
    "type": "execution"
   },
   {
    "code": "# TEST\nlen(result)",
    "id": "c153c8754a03405093654799d1a5288b",
    "idx": 75,
    "time": "2021-02-01T02:47:07.998Z",
    "type": "execution"
   },
   {
    "code": "# TEST\nresult[\"Count\"].sum()",
    "id": "44ed4195df3e4f3fbc0cf5ff524990b5",
    "idx": 76,
    "time": "2021-02-01T02:47:08.000Z",
    "type": "execution"
   },
   {
    "code": "# TEST\nresult[\"Count\"].iloc[0]",
    "id": "14e833435b964ed18185b0c37b646181",
    "idx": 77,
    "time": "2021-02-01T02:47:08.002Z",
    "type": "execution"
   },
   {
    "code": "result_using_query = baby_names.query('Year == 2000 and Count > 3000') # SOLUTION",
    "id": "7d55df371bc14e048a8b66580077b0dd",
    "idx": 79,
    "time": "2021-02-01T02:47:08.003Z",
    "type": "execution"
   },
   {
    "code": "hillary_baby_name = baby_names[(baby_names['Name'] == 'Hillary') & (baby_names['State'] == 'CA') & (baby_names['Sex'] == 'F')]\nplt.plot(hillary_baby_name['Year'], hillary_baby_name['Count'])\nplt.title(\"Hillary Popularity Over Time\")\nplt.xlabel('Year')\nplt.ylabel('Count');",
    "id": "4755fd410db04b7f8308c349c5d60200",
    "idx": 81,
    "time": "2021-02-01T02:47:08.005Z",
    "type": "execution"
   },
   {
    "code": "counts_aggregated_by_name_and_year = baby_names.groupby([\"Name\", \"Year\"])[\"Count\"].sum().reset_index()",
    "id": "7e581b09706047908bd2c86eba7082d5",
    "idx": 85,
    "time": "2021-02-01T02:47:08.007Z",
    "type": "execution"
   },
   {
    "code": "name_of_interest = 'Hillary'\nchosen_baby_name = counts_aggregated_by_name_and_year.query(\"Name == @name_of_interest\")\nplt.plot(chosen_baby_name['Year'], chosen_baby_name['Count'])\nplt.title(f\"Popularity Of {name_of_interest} Over Time\")\nplt.xlabel('Year')\nplt.ylabel('Count');",
    "id": "0ea854e6ea544c3893c078e5a0383a77",
    "idx": 86,
    "time": "2021-02-01T02:47:08.009Z",
    "type": "execution"
   },
   {
    "id": "f0bd0f8f87fa474cabf8217384abc961",
    "time": "2021-02-01T02:47:08.615Z",
    "type": "completion"
   },
   {
    "id": "2206133de8e0477a8289e0a024c11201",
    "time": "2021-02-01T02:47:08.620Z",
    "type": "completion"
   },
   {
    "id": "56af03292a924271ae37ec932466f41f",
    "time": "2021-02-01T02:47:08.656Z",
    "type": "completion"
   },
   {
    "id": "6ff0eaa9e66947cc924e7e7ba69ebc42",
    "time": "2021-02-01T02:47:08.659Z",
    "type": "completion"
   },
   {
    "id": "2f72951aea9341e39051a479c5a48a32",
    "time": "2021-02-01T02:47:08.664Z",
    "type": "completion"
   },
   {
    "id": "cd9c52bf56764de4b3dc7a1e23cef5bf",
    "time": "2021-02-01T02:47:08.666Z",
    "type": "completion"
   },
   {
    "id": "0d8ed1e067f1472386c87f1f5a7ad303",
    "time": "2021-02-01T02:47:08.701Z",
    "type": "completion"
   },
   {
    "id": "b5ff3c6cc6aa4a1caeb6e7c85a5f78ef",
    "time": "2021-02-01T02:47:08.704Z",
    "type": "completion"
   },
   {
    "id": "f847e726999e4d98953287cd04043aa0",
    "time": "2021-02-01T02:47:08.706Z",
    "type": "completion"
   },
   {
    "id": "70f5dafbb83b4b6985493e456d65ba45",
    "time": "2021-02-01T02:47:08.707Z",
    "type": "completion"
   },
   {
    "id": "450587c65d6f41648209f4f69a9fb651",
    "time": "2021-02-01T02:47:08.750Z",
    "type": "completion"
   },
   {
    "id": "3b5eb984164442678fb0e72a6e3fe47c",
    "time": "2021-02-01T02:47:08.752Z",
    "type": "completion"
   },
   {
    "id": "bed36ba1df024c16baae5f4298debedb",
    "time": "2021-02-01T02:47:08.753Z",
    "type": "completion"
   },
   {
    "id": "d7b0edaa422f4881858fc650432d4de7",
    "time": "2021-02-01T02:47:08.755Z",
    "type": "completion"
   },
   {
    "id": "8fe8e56ca83a4aa1b30f974628ad25e6",
    "time": "2021-02-01T02:47:08.799Z",
    "type": "completion"
   },
   {
    "id": "0edeb083a8bd41a38abd894b95efd146",
    "time": "2021-02-01T02:47:08.801Z",
    "type": "completion"
   },
   {
    "id": "b85d938aca344bb6b4f3bde9a6f21795",
    "time": "2021-02-01T02:47:08.803Z",
    "type": "completion"
   },
   {
    "id": "942f0dae381642bb81414b1ad516b904",
    "time": "2021-02-01T02:47:08.805Z",
    "type": "completion"
   },
   {
    "id": "31add3b12b4c4b3997fd438b88215ec1",
    "time": "2021-02-01T02:47:08.834Z",
    "type": "completion"
   },
   {
    "id": "8d06ad3d90dd4709812ad51f1fc87470",
    "time": "2021-02-01T02:47:08.837Z",
    "type": "completion"
   },
   {
    "id": "a4cc1eec37164c06bd8c32c15db15947",
    "time": "2021-02-01T02:47:08.838Z",
    "type": "completion"
   },
   {
    "id": "55365b5610b14af9a1bec5d332d31cd2",
    "time": "2021-02-01T02:47:44.864Z",
    "type": "completion"
   },
   {
    "id": "dd14e7ca16c7444f8fd7279058b15608",
    "time": "2021-02-01T02:47:44.871Z",
    "type": "completion"
   },
   {
    "id": "b589085362a0454087d4ae92dd985680",
    "time": "2021-02-01T02:47:44.904Z",
    "type": "completion"
   },
   {
    "id": "97990c54966a430a82f5fc1151f5d367",
    "time": "2021-02-01T02:47:44.909Z",
    "type": "completion"
   },
   {
    "id": "d5d3c126df1e4eb7b288cd26635fe4dc",
    "time": "2021-02-01T02:47:45.166Z",
    "type": "completion"
   },
   {
    "id": "fbbb1cda01dd46fc9483f00ed1db6b3f",
    "time": "2021-02-01T02:47:57.755Z",
    "type": "completion"
   },
   {
    "id": "8cb40bdf6e32411b83a11c3f2ef35401",
    "time": "2021-02-01T02:47:57.757Z",
    "type": "completion"
   },
   {
    "id": "fee54a2e15fc40a088d7cdc815d85798",
    "time": "2021-02-01T02:47:58.397Z",
    "type": "completion"
   },
   {
    "id": "7c0f6ab0935f412c8fd51d68145e7a54",
    "time": "2021-02-01T02:47:58.402Z",
    "type": "completion"
   },
   {
    "id": "b42430a54ec04b2e89dfe0fa8c2627b7",
    "time": "2021-02-01T02:47:58.428Z",
    "type": "completion"
   },
   {
    "id": "825a3a42e656450995bbaa2ad32398c4",
    "time": "2021-02-01T02:47:58.431Z",
    "type": "completion"
   },
   {
    "id": "d51269ea9e9444a481c6aa66dfd47cdf",
    "time": "2021-02-01T02:47:58.481Z",
    "type": "completion"
   },
   {
    "id": "c1780803faf24f2186981df35d7ecba6",
    "time": "2021-02-01T02:47:58.484Z",
    "type": "completion"
   },
   {
    "id": "df6d892963a64e779bfdb0037008321d",
    "time": "2021-02-01T02:47:58.487Z",
    "type": "completion"
   },
   {
    "id": "df4df3f1bf28400f847a2d13c3b1fc1e",
    "time": "2021-02-01T02:47:58.510Z",
    "type": "completion"
   },
   {
    "id": "c27bb7ad4987412ca9b936426ab4d3b5",
    "time": "2021-02-01T02:47:58.996Z",
    "type": "completion"
   },
   {
    "id": "c46b1b232ba94d9e8a67b8bdee69ef3d",
    "time": "2021-02-01T02:47:58.999Z",
    "type": "completion"
   },
   {
    "id": "c153c8754a03405093654799d1a5288b",
    "time": "2021-02-01T02:47:59.040Z",
    "type": "completion"
   },
   {
    "id": "44ed4195df3e4f3fbc0cf5ff524990b5",
    "time": "2021-02-01T02:47:59.061Z",
    "type": "completion"
   },
   {
    "id": "14e833435b964ed18185b0c37b646181",
    "time": "2021-02-01T02:47:59.062Z",
    "type": "completion"
   },
   {
    "id": "7d55df371bc14e048a8b66580077b0dd",
    "time": "2021-02-01T02:47:59.082Z",
    "type": "completion"
   },
   {
    "id": "4755fd410db04b7f8308c349c5d60200",
    "time": "2021-02-01T02:48:00.481Z",
    "type": "completion"
   },
   {
    "id": "7e581b09706047908bd2c86eba7082d5",
    "time": "2021-02-01T02:48:01.890Z",
    "type": "completion"
   },
   {
    "id": "0ea854e6ea544c3893c078e5a0383a77",
    "time": "2021-02-01T02:48:02.109Z",
    "type": "completion"
   },
   {
    "code": "import numpy as np\nimport matplotlib.pyplot as plt\nimport pandas as pd\n%matplotlib inline",
    "id": "c362ec55b9ba487f830e5cad781bd139",
    "idx": 5,
    "time": "2021-02-01T05:33:55.652Z",
    "type": "execution"
   },
   {
    "code": "fruit_info = pd.DataFrame(\n    data = {'fruit': ['apple', 'orange', 'banana', 'raspberry'],\n          'color': ['red', 'orange', 'yellow', 'pink']\n          })\nfruit_info",
    "id": "70562895bf704eae91b24f86b9cc6eed",
    "idx": 8,
    "time": "2021-02-01T05:33:55.658Z",
    "type": "execution"
   },
   {
    "code": "fruit_info2 = pd.DataFrame(\n    [(\"red\", \"apple\"), (\"orange\", \"orange\"), (\"yellow\", \"banana\"),\n     (\"pink\", \"raspberry\")], \n    columns = [\"color\", \"fruit\"])\nfruit_info2",
    "id": "a65580d3dc124b9281f99be2acc3db38",
    "idx": 10,
    "time": "2021-02-01T05:33:55.661Z",
    "type": "execution"
   },
   {
    "code": "fruit_info.shape",
    "id": "7c97a37cf336487994c9ebdf5ea82042",
    "idx": 12,
    "time": "2021-02-01T05:33:55.664Z",
    "type": "execution"
   },
   {
    "code": "fruit_info.values",
    "id": "0f5d616e99b44cbb809bfb0f820aa3b9",
    "idx": 14,
    "time": "2021-02-01T05:33:55.666Z",
    "type": "execution"
   },
   {
    "code": "# BEGIN SOLUTION\nfruit_info[\"rank1\"] = [2, 1, 4, 3]\n# END SOLUTION\nfruit_info",
    "id": "bda15096c9894fd98d1f298878e05392",
    "idx": 16,
    "time": "2021-02-01T05:33:55.669Z",
    "type": "execution"
   },
   {
    "code": "# TEST \nfruit_info[\"rank1\"].dtype",
    "id": "f4e32e3d69e74ff48a879104b368af6d",
    "idx": 17,
    "time": "2021-02-01T05:33:55.670Z",
    "type": "execution"
   },
   {
    "code": "# TEST\nsorted(fruit_info[\"rank1\"].dropna())",
    "id": "03863906df5e4c6f865e102a28ea8e76",
    "idx": 18,
    "time": "2021-02-01T05:33:55.672Z",
    "type": "execution"
   },
   {
    "code": "# BEGIN SOLUTION\nfruit_info.loc[:, \"rank2\"] = [2, 1, 4, 3]\n# END SOLUTION\nfruit_info",
    "id": "366b742ee5ad496ebf28e067d97eaeca",
    "idx": 20,
    "time": "2021-02-01T05:33:55.674Z",
    "type": "execution"
   },
   {
    "code": "# TEST \nfruit_info[\"rank2\"].dtype",
    "id": "47b2c46893674a5fa80f54cfe9960161",
    "idx": 21,
    "time": "2021-02-01T05:33:55.676Z",
    "type": "execution"
   },
   {
    "code": "# TEST\nfruit_info[\"rank2\"] == fruit_info[\"rank1\"]",
    "id": "5a7ed4df8976469881c642cae58a31c3",
    "idx": 22,
    "time": "2021-02-01T05:33:55.678Z",
    "type": "execution"
   },
   {
    "code": "fruit_info_original = fruit_info.drop([\"rank1\", \"rank2\"], axis = 1) # SOLUTION\nfruit_info_original",
    "id": "2e8f0324a6854247983668603ec7558d",
    "idx": 24,
    "time": "2021-02-01T05:33:55.680Z",
    "type": "execution"
   },
   {
    "code": "# TEST\nfruit_info_original.shape",
    "id": "53631673ba7b494e9665c6a48b1e46a6",
    "idx": 25,
    "time": "2021-02-01T05:33:55.681Z",
    "type": "execution"
   },
   {
    "code": "# TEST\nfruit_info.shape",
    "id": "19bb2758df644fdc9585a8d3eed89378",
    "idx": 26,
    "time": "2021-02-01T05:33:55.683Z",
    "type": "execution"
   },
   {
    "code": "# TEST\nfruit_info_original.columns",
    "id": "1a1e217db406401781f4753f48b2cea9",
    "idx": 27,
    "time": "2021-02-01T05:33:55.684Z",
    "type": "execution"
   },
   {
    "code": "# BEGIN SOLUTION\nfruit_info_caps = fruit_info_original.rename(columns = {\"color\": \"Color\", \"fruit\": \"Fruit\"})\n# END SOLUTION\nfruit_info_caps",
    "id": "af315cd6175a417bac9aa957682119cf",
    "idx": 29,
    "time": "2021-02-01T05:33:55.686Z",
    "type": "execution"
   },
   {
    "code": "# TEST\nfruit_info_caps.columns",
    "id": "1024cf92cef9418d8beb4453b8100ee2",
    "idx": 30,
    "time": "2021-02-01T05:33:55.688Z",
    "type": "execution"
   },
   {
    "code": "# TEST\nfruit_info.columns",
    "id": "71f51f7cc71a410b862c2a73d5d4477f",
    "idx": 31,
    "time": "2021-02-01T05:33:55.690Z",
    "type": "execution"
   },
   {
    "code": "import requests\nfrom pathlib import Path\n\ndef fetch_and_cache(data_url, file, data_dir=\"data\", force=False):\n    \"\"\"\n    Download and cache a url and return the file object.\n    \n    data_url: the web address to download\n    file: the file in which to save the results.\n    data_dir: (default=\"data\") the location to save the data\n    force: if true the file is always re-downloaded \n    \n    return: The pathlib.Path to the file.\n    \"\"\"\n    data_dir = Path(data_dir)\n    data_dir.mkdir(exist_ok=True)\n    file_path = data_dir/Path(file)\n    if force and file_path.exists():\n        file_path.unlink()\n    if force or not file_path.exists():\n        print('Downloading...', end=' ')\n        resp = requests.get(data_url)\n        with file_path.open('wb') as f:\n            f.write(resp.content)\n        print('Done!')\n    else:\n        import time \n        created = time.ctime(file_path.stat().st_ctime)\n        print(\"Using cached version downloaded at\", created)\n    return file_path",
    "id": "d4d6e3913fcc47bf8fdd9891c79e4d74",
    "idx": 34,
    "time": "2021-02-01T05:33:55.693Z",
    "type": "execution"
   },
   {
    "code": "data_url = 'https://www.ssa.gov/oact/babynames/state/namesbystate.zip'\nnamesbystate_path = fetch_and_cache(data_url, 'namesbystate.zip')",
    "id": "04b6a824977245e78341458dfbf20561",
    "idx": 37,
    "time": "2021-02-01T05:33:55.696Z",
    "type": "execution"
   },
   {
    "code": "import zipfile\nzf = zipfile.ZipFile(namesbystate_path, 'r')\n\ncolumn_labels = ['State', 'Sex', 'Year', 'Name', 'Count']\n\n...",
    "id": "49fbdbc00aaa4fb0a11a30c0e5cb0fee",
    "idx": 39,
    "time": "2021-02-01T05:33:55.698Z",
    "type": "execution"
   },
   {
    "code": "import zipfile\nzf = zipfile.ZipFile(namesbystate_path, 'r')\n\ncolumn_labels = ['State', 'Sex', 'Year', 'Name', 'Count']\n\ndef load_dataframe_from_zip(zf, f):\n    with zf.open(f) as fh: \n        return pd.read_csv(fh, header=None, names=column_labels)\n\nstates = [\n    load_dataframe_from_zip(zf, f)\n    for f in sorted(zf.filelist, key=lambda x:x.filename) \n    if f.filename.endswith('.TXT')\n]\n\nbaby_names = states[0]\nfor state_df in states[1:]:\n    baby_names = pd.concat([baby_names, state_df])\nbaby_names = baby_names.reset_index().iloc[:, 1:]",
    "id": "189ed1f4039b472e86eaa47782ada553",
    "idx": 41,
    "time": "2021-02-01T05:33:55.700Z",
    "type": "execution"
   },
   {
    "code": "len(baby_names)",
    "id": "14bafedbf0e14cbeb2bdce0e0972e272",
    "idx": 42,
    "time": "2021-02-01T05:33:55.702Z",
    "type": "execution"
   },
   {
    "code": "baby_names.head()",
    "id": "3a5e72c72a43498a85517cf0dc5ee218",
    "idx": 43,
    "time": "2021-02-01T05:33:55.704Z",
    "type": "execution"
   },
   {
    "code": "baby_names.loc[2:5, 'Name']",
    "id": "b7813796fd0b472c8feec121c1faa765",
    "idx": 46,
    "time": "2021-02-01T05:33:55.707Z",
    "type": "execution"
   },
   {
    "code": "baby_names.loc[2:5, ['Name']]",
    "id": "588d95e301c846468afd9e8095be7ea8",
    "idx": 48,
    "time": "2021-02-01T05:33:55.709Z",
    "type": "execution"
   },
   {
    "code": "sorted_baby_names = baby_names.sort_values(by = ['Name'])\nsorted_baby_names.head()",
    "id": "318e36385beb49d48a01b1696bf40c03",
    "idx": 52,
    "time": "2021-02-01T05:33:55.712Z",
    "type": "execution"
   },
   {
    "code": "sorted_baby_names.iloc[1:4, 3]",
    "id": "b0ebce2cc0d54706bd70c3488233a4ac",
    "idx": 54,
    "time": "2021-02-01T05:33:55.714Z",
    "type": "execution"
   },
   {
    "code": "sorted_baby_names.loc[1:4, \"Name\"]",
    "id": "027a400f6b6a4472978bea2d75ae9467",
    "idx": 56,
    "time": "2021-02-01T05:33:55.717Z",
    "type": "execution"
   },
   {
    "code": "df = baby_names[:5].set_index(\"Name\") \ndf",
    "id": "21d83534e89841df8b7034f1102115ae",
    "idx": 58,
    "time": "2021-02-01T05:33:55.719Z",
    "type": "execution"
   },
   {
    "code": "df.loc[['Mary', 'Anna'], :]",
    "id": "2092949f9c0a4114bde9003c07044269",
    "idx": 60,
    "time": "2021-02-01T05:33:55.721Z",
    "type": "execution"
   },
   {
    "code": "#Example: \ndf.iloc[1:4, 2:3]",
    "id": "f01f197ade8b419c9d40417ba72603b8",
    "idx": 62,
    "time": "2021-02-01T05:33:55.724Z",
    "type": "execution"
   },
   {
    "code": "name_and_year = baby_names.loc[:, ['Name', 'Year']] # SOLUTION\nname_and_year[:5]",
    "id": "84c91e30d74248f88b65c54f23f2a9d4",
    "idx": 64,
    "time": "2021-02-01T05:33:55.726Z",
    "type": "execution"
   },
   {
    "code": "# TEST\nname_and_year.shape",
    "id": "c19e80bed27d412486dfc5404211d768",
    "idx": 65,
    "time": "2021-02-01T05:33:55.728Z",
    "type": "execution"
   },
   {
    "code": "# TEST\nname_and_year.loc[0, \"Name\"]",
    "id": "7b38c0d05a82421893cfef727369b560",
    "idx": 66,
    "time": "2021-02-01T05:33:55.731Z",
    "type": "execution"
   },
   {
    "code": "# TEST\nname_and_year.loc[0, \"Year\"]",
    "id": "b4111c6c76104302a3874e97ab2b38ed",
    "idx": 67,
    "time": "2021-02-01T05:33:55.733Z",
    "type": "execution"
   },
   {
    "code": "ca = baby_names[baby_names['State'] == 'CA']",
    "id": "9f5e7b23358f4a0782e2134795e614a4",
    "idx": 72,
    "time": "2021-02-01T05:33:55.736Z",
    "type": "execution"
   },
   {
    "code": "result = baby_names[(baby_names[\"Year\"] == 2000) & (baby_names[\"Count\"] > 3000)] # SOLUTION\nresult.head()",
    "id": "2cc46a07860142ad813b036371b999fe",
    "idx": 74,
    "time": "2021-02-01T05:33:55.738Z",
    "type": "execution"
   },
   {
    "code": "# TEST\nlen(result)",
    "id": "ee8d1f6d2fe84c62841efc9007f8b515",
    "idx": 75,
    "time": "2021-02-01T05:33:55.740Z",
    "type": "execution"
   },
   {
    "code": "# TEST\nresult[\"Count\"].sum()",
    "id": "dea574e0e1034414879b1d2cba79aec8",
    "idx": 76,
    "time": "2021-02-01T05:33:55.742Z",
    "type": "execution"
   },
   {
    "code": "# TEST\nresult[\"Count\"].iloc[0]",
    "id": "e1d427de61f9404c903289bc43611412",
    "idx": 77,
    "time": "2021-02-01T05:33:55.744Z",
    "type": "execution"
   },
   {
    "code": "result_using_query = baby_names.query('Year == 2000 and Count > 3000') # SOLUTION",
    "id": "bec57ffa60154feda832cb06b53e8916",
    "idx": 79,
    "time": "2021-02-01T05:33:55.746Z",
    "type": "execution"
   },
   {
    "code": "hillary_baby_name = baby_names[(baby_names['Name'] == 'Hillary') & (baby_names['State'] == 'CA') & (baby_names['Sex'] == 'F')]\nplt.plot(hillary_baby_name['Year'], hillary_baby_name['Count'])\nplt.title(\"Hillary Popularity Over Time\")\nplt.xlabel('Year')\nplt.ylabel('Count');",
    "id": "508d40c46c974684b39a74418714abfd",
    "idx": 81,
    "time": "2021-02-01T05:33:55.748Z",
    "type": "execution"
   },
   {
    "code": "counts_aggregated_by_name_and_year = baby_names.groupby([\"Name\", \"Year\"])[\"Count\"].sum().reset_index()",
    "id": "d37de41264cf4daf867d8640a7263123",
    "idx": 85,
    "time": "2021-02-01T05:33:55.751Z",
    "type": "execution"
   },
   {
    "code": "name_of_interest = 'Hillary'\nchosen_baby_name = counts_aggregated_by_name_and_year.query(\"Name == @name_of_interest\")\nplt.plot(chosen_baby_name['Year'], chosen_baby_name['Count'])\nplt.title(f\"Popularity Of {name_of_interest} Over Time\")\nplt.xlabel('Year')\nplt.ylabel('Count');",
    "id": "371c7990ab7940de826a1c5bcf9ceab6",
    "idx": 86,
    "time": "2021-02-01T05:33:55.753Z",
    "type": "execution"
   },
   {
    "id": "c362ec55b9ba487f830e5cad781bd139",
    "time": "2021-02-01T05:33:56.335Z",
    "type": "completion"
   },
   {
    "id": "70562895bf704eae91b24f86b9cc6eed",
    "time": "2021-02-01T05:33:56.344Z",
    "type": "completion"
   },
   {
    "id": "a65580d3dc124b9281f99be2acc3db38",
    "time": "2021-02-01T05:33:56.406Z",
    "type": "completion"
   },
   {
    "id": "7c97a37cf336487994c9ebdf5ea82042",
    "time": "2021-02-01T05:33:56.428Z",
    "type": "completion"
   },
   {
    "id": "0f5d616e99b44cbb809bfb0f820aa3b9",
    "time": "2021-02-01T05:33:56.436Z",
    "type": "completion"
   },
   {
    "id": "bda15096c9894fd98d1f298878e05392",
    "time": "2021-02-01T05:33:56.438Z",
    "type": "completion"
   },
   {
    "id": "f4e32e3d69e74ff48a879104b368af6d",
    "time": "2021-02-01T05:33:56.440Z",
    "type": "completion"
   },
   {
    "id": "03863906df5e4c6f865e102a28ea8e76",
    "time": "2021-02-01T05:33:56.443Z",
    "type": "completion"
   },
   {
    "id": "366b742ee5ad496ebf28e067d97eaeca",
    "time": "2021-02-01T05:33:56.453Z",
    "type": "completion"
   },
   {
    "id": "47b2c46893674a5fa80f54cfe9960161",
    "time": "2021-02-01T05:33:56.456Z",
    "type": "completion"
   },
   {
    "id": "5a7ed4df8976469881c642cae58a31c3",
    "time": "2021-02-01T05:33:56.482Z",
    "type": "completion"
   },
   {
    "id": "2e8f0324a6854247983668603ec7558d",
    "time": "2021-02-01T05:33:56.491Z",
    "type": "completion"
   },
   {
    "id": "53631673ba7b494e9665c6a48b1e46a6",
    "time": "2021-02-01T05:33:56.492Z",
    "type": "completion"
   },
   {
    "id": "19bb2758df644fdc9585a8d3eed89378",
    "time": "2021-02-01T05:33:56.494Z",
    "type": "completion"
   },
   {
    "id": "1a1e217db406401781f4753f48b2cea9",
    "time": "2021-02-01T05:33:56.519Z",
    "type": "completion"
   },
   {
    "id": "af315cd6175a417bac9aa957682119cf",
    "time": "2021-02-01T05:33:56.521Z",
    "type": "completion"
   },
   {
    "id": "1024cf92cef9418d8beb4453b8100ee2",
    "time": "2021-02-01T05:33:56.523Z",
    "type": "completion"
   },
   {
    "id": "71f51f7cc71a410b862c2a73d5d4477f",
    "time": "2021-02-01T05:33:56.526Z",
    "type": "completion"
   },
   {
    "id": "d4d6e3913fcc47bf8fdd9891c79e4d74",
    "time": "2021-02-01T05:33:56.569Z",
    "type": "completion"
   },
   {
    "id": "04b6a824977245e78341458dfbf20561",
    "time": "2021-02-01T05:33:56.573Z",
    "type": "completion"
   },
   {
    "id": "49fbdbc00aaa4fb0a11a30c0e5cb0fee",
    "time": "2021-02-01T05:33:56.665Z",
    "type": "completion"
   },
   {
    "id": "189ed1f4039b472e86eaa47782ada553",
    "time": "2021-02-01T05:34:36.505Z",
    "type": "completion"
   },
   {
    "id": "14bafedbf0e14cbeb2bdce0e0972e272",
    "time": "2021-02-01T05:34:36.520Z",
    "type": "completion"
   },
   {
    "id": "3a5e72c72a43498a85517cf0dc5ee218",
    "time": "2021-02-01T05:34:36.553Z",
    "type": "completion"
   },
   {
    "id": "b7813796fd0b472c8feec121c1faa765",
    "time": "2021-02-01T05:34:36.612Z",
    "type": "completion"
   },
   {
    "id": "588d95e301c846468afd9e8095be7ea8",
    "time": "2021-02-01T05:34:36.614Z",
    "type": "completion"
   },
   {
    "id": "318e36385beb49d48a01b1696bf40c03",
    "time": "2021-02-01T05:34:51.667Z",
    "type": "completion"
   },
   {
    "id": "b0ebce2cc0d54706bd70c3488233a4ac",
    "time": "2021-02-01T05:34:51.669Z",
    "type": "completion"
   },
   {
    "id": "027a400f6b6a4472978bea2d75ae9467",
    "time": "2021-02-01T05:34:52.594Z",
    "type": "completion"
   },
   {
    "id": "21d83534e89841df8b7034f1102115ae",
    "time": "2021-02-01T05:34:52.600Z",
    "type": "completion"
   },
   {
    "id": "2092949f9c0a4114bde9003c07044269",
    "time": "2021-02-01T05:34:52.624Z",
    "type": "completion"
   },
   {
    "id": "f01f197ade8b419c9d40417ba72603b8",
    "time": "2021-02-01T05:34:52.673Z",
    "type": "completion"
   },
   {
    "id": "84c91e30d74248f88b65c54f23f2a9d4",
    "time": "2021-02-01T05:34:52.675Z",
    "type": "completion"
   },
   {
    "id": "c19e80bed27d412486dfc5404211d768",
    "time": "2021-02-01T05:34:52.683Z",
    "type": "completion"
   },
   {
    "id": "7b38c0d05a82421893cfef727369b560",
    "time": "2021-02-01T05:34:52.685Z",
    "type": "completion"
   },
   {
    "id": "b4111c6c76104302a3874e97ab2b38ed",
    "time": "2021-02-01T05:34:52.686Z",
    "type": "completion"
   },
   {
    "id": "9f5e7b23358f4a0782e2134795e614a4",
    "time": "2021-02-01T05:34:53.105Z",
    "type": "completion"
   },
   {
    "id": "2cc46a07860142ad813b036371b999fe",
    "time": "2021-02-01T05:34:53.175Z",
    "type": "completion"
   },
   {
    "id": "ee8d1f6d2fe84c62841efc9007f8b515",
    "time": "2021-02-01T05:34:53.202Z",
    "type": "completion"
   },
   {
    "id": "dea574e0e1034414879b1d2cba79aec8",
    "time": "2021-02-01T05:34:53.222Z",
    "type": "completion"
   },
   {
    "id": "e1d427de61f9404c903289bc43611412",
    "time": "2021-02-01T05:34:53.227Z",
    "type": "completion"
   },
   {
    "id": "bec57ffa60154feda832cb06b53e8916",
    "time": "2021-02-01T05:34:53.598Z",
    "type": "completion"
   },
   {
    "id": "508d40c46c974684b39a74418714abfd",
    "time": "2021-02-01T05:34:54.999Z",
    "type": "completion"
   },
   {
    "id": "d37de41264cf4daf867d8640a7263123",
    "time": "2021-02-01T05:34:57.797Z",
    "type": "completion"
   },
   {
    "id": "371c7990ab7940de826a1c5bcf9ceab6",
    "time": "2021-02-01T05:34:58.088Z",
    "type": "completion"
   },
   {
    "code": "import numpy as np\nimport matplotlib.pyplot as plt\nimport pandas as pd\n%matplotlib inline",
    "id": "1d7ba93111844a98b8454a7c2d6a38cb",
    "idx": 5,
    "time": "2021-02-02T22:03:06.922Z",
    "type": "execution"
   },
   {
    "code": "fruit_info = pd.DataFrame(\n    data = {'fruit': ['apple', 'orange', 'banana', 'raspberry'],\n          'color': ['red', 'orange', 'yellow', 'pink']\n          })\nfruit_info",
    "id": "95832440509e42889755d770003c4940",
    "idx": 8,
    "time": "2021-02-02T22:03:06.936Z",
    "type": "execution"
   },
   {
    "code": "fruit_info2 = pd.DataFrame(\n    [(\"red\", \"apple\"), (\"orange\", \"orange\"), (\"yellow\", \"banana\"),\n     (\"pink\", \"raspberry\")], \n    columns = [\"color\", \"fruit\"])\nfruit_info2",
    "id": "04bfe765788a40e58f69668c053353a7",
    "idx": 10,
    "time": "2021-02-02T22:03:06.944Z",
    "type": "execution"
   },
   {
    "code": "fruit_info.shape",
    "id": "62c407dc645c45938696696d8b23d9a4",
    "idx": 12,
    "time": "2021-02-02T22:03:06.947Z",
    "type": "execution"
   },
   {
    "code": "fruit_info.values",
    "id": "374d962b91a64207bc00e4e60503c2b0",
    "idx": 14,
    "time": "2021-02-02T22:03:06.950Z",
    "type": "execution"
   },
   {
    "code": "# BEGIN SOLUTION\nfruit_info[\"rank1\"] = [2, 1, 4, 3]\n# END SOLUTION\nfruit_info",
    "id": "d7a4ab62d2f5431c8f61c60c2580bb19",
    "idx": 16,
    "time": "2021-02-02T22:03:06.953Z",
    "type": "execution"
   },
   {
    "code": "# TEST \nfruit_info[\"rank1\"].dtype",
    "id": "1d5214da1fd54033907d91cad63cf5df",
    "idx": 17,
    "time": "2021-02-02T22:03:06.956Z",
    "type": "execution"
   },
   {
    "code": "# TEST\nsorted(fruit_info[\"rank1\"].dropna())",
    "id": "51d1fd557f394cdc8f0c64f936296a05",
    "idx": 18,
    "time": "2021-02-02T22:03:06.959Z",
    "type": "execution"
   },
   {
    "code": "# BEGIN SOLUTION\nfruit_info.loc[:, \"rank2\"] = [2, 1, 4, 3]\n# END SOLUTION\nfruit_info",
    "id": "e6b6bf5b87f54b25807cbbc3ccbcfc44",
    "idx": 20,
    "time": "2021-02-02T22:03:06.962Z",
    "type": "execution"
   },
   {
    "code": "# TEST \nfruit_info[\"rank2\"].dtype",
    "id": "dedc786f6d6b4e4b83b7b76cdd4c81fd",
    "idx": 21,
    "time": "2021-02-02T22:03:06.965Z",
    "type": "execution"
   },
   {
    "code": "# TEST\nfruit_info[\"rank2\"] == fruit_info[\"rank1\"]",
    "id": "96b82abca9534f04a8d9af7f87c350a1",
    "idx": 22,
    "time": "2021-02-02T22:03:06.968Z",
    "type": "execution"
   },
   {
    "code": "fruit_info_original = fruit_info.drop([\"rank1\", \"rank2\"], axis = 1) # SOLUTION\nfruit_info_original",
    "id": "400bb16b177c485d8f10dbf021606315",
    "idx": 24,
    "time": "2021-02-02T22:03:06.970Z",
    "type": "execution"
   },
   {
    "code": "# TEST\nfruit_info_original.shape",
    "id": "a56acbda03aa4c3988df433c6e8e8e48",
    "idx": 25,
    "time": "2021-02-02T22:03:06.973Z",
    "type": "execution"
   },
   {
    "code": "# TEST\nfruit_info.shape",
    "id": "ef2b9c19d9fe4ed28be13a3c58cd71e9",
    "idx": 26,
    "time": "2021-02-02T22:03:06.976Z",
    "type": "execution"
   },
   {
    "code": "# TEST\nfruit_info_original.columns",
    "id": "ec0b3f693fe94e158731b3b8eae17316",
    "idx": 27,
    "time": "2021-02-02T22:03:06.980Z",
    "type": "execution"
   },
   {
    "code": "# BEGIN SOLUTION\nfruit_info_caps = fruit_info_original.rename(columns = {\"color\": \"Color\", \"fruit\": \"Fruit\"})\n# END SOLUTION\nfruit_info_caps",
    "id": "7287f0c3671f4e2e95f7e009fe4c0c98",
    "idx": 29,
    "time": "2021-02-02T22:03:06.984Z",
    "type": "execution"
   },
   {
    "code": "# TEST\nfruit_info_caps.columns",
    "id": "e192bb9e67c441c38734bfda2458405a",
    "idx": 30,
    "time": "2021-02-02T22:03:06.986Z",
    "type": "execution"
   },
   {
    "code": "# TEST\nfruit_info.columns",
    "id": "2ebf07663ff542b98ab73711c900ed63",
    "idx": 31,
    "time": "2021-02-02T22:03:06.990Z",
    "type": "execution"
   },
   {
    "code": "import requests\nfrom pathlib import Path\n\ndef fetch_and_cache(data_url, file, data_dir=\"data\", force=False):\n    \"\"\"\n    Download and cache a url and return the file object.\n    \n    data_url: the web address to download\n    file: the file in which to save the results.\n    data_dir: (default=\"data\") the location to save the data\n    force: if true the file is always re-downloaded \n    \n    return: The pathlib.Path to the file.\n    \"\"\"\n    data_dir = Path(data_dir)\n    data_dir.mkdir(exist_ok=True)\n    file_path = data_dir/Path(file)\n    if force and file_path.exists():\n        file_path.unlink()\n    if force or not file_path.exists():\n        print('Downloading...', end=' ')\n        resp = requests.get(data_url)\n        with file_path.open('wb') as f:\n            f.write(resp.content)\n        print('Done!')\n    else:\n        import time \n        created = time.ctime(file_path.stat().st_ctime)\n        print(\"Using cached version downloaded at\", created)\n    return file_path",
    "id": "2f04d4d8167b4ca2a4297f64f7391aba",
    "idx": 34,
    "time": "2021-02-02T22:03:06.993Z",
    "type": "execution"
   },
   {
    "code": "data_url = 'https://www.ssa.gov/oact/babynames/state/namesbystate.zip'\nnamesbystate_path = fetch_and_cache(data_url, 'namesbystate.zip')",
    "id": "2d8430ff4c1e49eca2cf5ad300e1f16c",
    "idx": 37,
    "time": "2021-02-02T22:03:06.996Z",
    "type": "execution"
   },
   {
    "code": "import zipfile\nzf = zipfile.ZipFile(namesbystate_path, 'r')\n\ncolumn_labels = ['State', 'Sex', 'Year', 'Name', 'Count']\n\n...",
    "id": "d1a5e953519041a4884d77fcd0aac3b8",
    "idx": 39,
    "time": "2021-02-02T22:03:06.999Z",
    "type": "execution"
   },
   {
    "code": "import zipfile\nzf = zipfile.ZipFile(namesbystate_path, 'r')\n\ncolumn_labels = ['State', 'Sex', 'Year', 'Name', 'Count']\n\ndef load_dataframe_from_zip(zf, f):\n    with zf.open(f) as fh: \n        return pd.read_csv(fh, header=None, names=column_labels)\n\nstates = [\n    load_dataframe_from_zip(zf, f)\n    for f in sorted(zf.filelist, key=lambda x:x.filename) \n    if f.filename.endswith('.TXT')\n]\n\nbaby_names = states[0]\nfor state_df in states[1:]:\n    baby_names = pd.concat([baby_names, state_df])\nbaby_names = baby_names.reset_index().iloc[:, 1:]",
    "id": "70dc7101a45349d0901252e85c2374c0",
    "idx": 41,
    "time": "2021-02-02T22:03:07.002Z",
    "type": "execution"
   },
   {
    "code": "len(baby_names)",
    "id": "a8a74b11397945acb4863016fd9215c5",
    "idx": 42,
    "time": "2021-02-02T22:03:07.004Z",
    "type": "execution"
   },
   {
    "code": "baby_names.head()",
    "id": "8f724a1f618346d4a3d440668ab209b2",
    "idx": 43,
    "time": "2021-02-02T22:03:07.007Z",
    "type": "execution"
   },
   {
    "code": "baby_names.loc[2:5, 'Name']",
    "id": "ad4ab828fcc5423a8bf35487f9e4bf6c",
    "idx": 46,
    "time": "2021-02-02T22:03:07.010Z",
    "type": "execution"
   },
   {
    "code": "baby_names.loc[2:5, ['Name']]",
    "id": "08bf5eb3a983445d9df78dcdc271d13e",
    "idx": 48,
    "time": "2021-02-02T22:03:07.013Z",
    "type": "execution"
   },
   {
    "code": "sorted_baby_names = baby_names.sort_values(by = ['Name'])\nsorted_baby_names.head()",
    "id": "53226fd453284e10bdaa468e439241fd",
    "idx": 52,
    "time": "2021-02-02T22:03:07.017Z",
    "type": "execution"
   },
   {
    "code": "sorted_baby_names.iloc[1:4, 3]",
    "id": "6147371ba161485783e5512d88af4df6",
    "idx": 54,
    "time": "2021-02-02T22:03:07.020Z",
    "type": "execution"
   },
   {
    "code": "sorted_baby_names.loc[1:4, \"Name\"]",
    "id": "d8aede86134448d58b8399a2d6d88804",
    "idx": 56,
    "time": "2021-02-02T22:03:07.023Z",
    "type": "execution"
   },
   {
    "code": "df = baby_names[:5].set_index(\"Name\") \ndf",
    "id": "31152e658ab8485eb9ce0158eed8a92a",
    "idx": 58,
    "time": "2021-02-02T22:03:07.026Z",
    "type": "execution"
   },
   {
    "code": "df.loc[['Mary', 'Anna'], :]",
    "id": "de9aee38ca1e42ec98479d4112ec1835",
    "idx": 60,
    "time": "2021-02-02T22:03:07.030Z",
    "type": "execution"
   },
   {
    "code": "#Example: \ndf.iloc[1:4, 2:3]",
    "id": "ab9aa073fa914b6bb681791204185e51",
    "idx": 62,
    "time": "2021-02-02T22:03:07.033Z",
    "type": "execution"
   },
   {
    "code": "name_and_year = baby_names.loc[:, ['Name', 'Year']] # SOLUTION\nname_and_year[:5]",
    "id": "15e540f3129d4f6a81a592d7c06a8fe9",
    "idx": 64,
    "time": "2021-02-02T22:03:07.035Z",
    "type": "execution"
   },
   {
    "code": "# TEST\nname_and_year.shape",
    "id": "92f21086c2474d61b0777e99d448d3cc",
    "idx": 65,
    "time": "2021-02-02T22:03:07.040Z",
    "type": "execution"
   },
   {
    "code": "# TEST\nname_and_year.loc[0, \"Name\"]",
    "id": "b943cae34b484a07813bba1dbf16ae84",
    "idx": 66,
    "time": "2021-02-02T22:03:07.042Z",
    "type": "execution"
   },
   {
    "code": "# TEST\nname_and_year.loc[0, \"Year\"]",
    "id": "2cdcca5a466f41c0890a809b0fcad597",
    "idx": 67,
    "time": "2021-02-02T22:03:07.045Z",
    "type": "execution"
   },
   {
    "code": "ca = baby_names[baby_names['State'] == 'CA']",
    "id": "403be8090a094a1587d66ea84349063a",
    "idx": 72,
    "time": "2021-02-02T22:03:07.049Z",
    "type": "execution"
   },
   {
    "code": "result = baby_names[(baby_names[\"Year\"] == 2000) & (baby_names[\"Count\"] > 3000)] # SOLUTION\nresult.head()",
    "id": "6debe6bc68064be783e2a983c8f21643",
    "idx": 74,
    "time": "2021-02-02T22:03:07.060Z",
    "type": "execution"
   },
   {
    "code": "# TEST\nlen(result)",
    "id": "be4263a6dbad49498e08ff5f1619bdfc",
    "idx": 75,
    "time": "2021-02-02T22:03:07.063Z",
    "type": "execution"
   },
   {
    "code": "# TEST\nresult[\"Count\"].sum()",
    "id": "e4624c66285b417fbe60727892470875",
    "idx": 76,
    "time": "2021-02-02T22:03:07.065Z",
    "type": "execution"
   },
   {
    "code": "# TEST\nresult[\"Count\"].iloc[0]",
    "id": "6e1f52278dfe493fbee6f9a6c2eba8c7",
    "idx": 77,
    "time": "2021-02-02T22:03:07.068Z",
    "type": "execution"
   },
   {
    "code": "result_using_query = baby_names.query('Year == 2000 and Count > 3000') # SOLUTION",
    "id": "e1c108dbccc74d528bd90e58cfdcdc8e",
    "idx": 79,
    "time": "2021-02-02T22:03:07.071Z",
    "type": "execution"
   },
   {
    "code": "hillary_baby_name = baby_names[(baby_names['Name'] == 'Hillary') & (baby_names['State'] == 'CA') & (baby_names['Sex'] == 'F')]\nplt.plot(hillary_baby_name['Year'], hillary_baby_name['Count'])\nplt.title(\"Hillary Popularity Over Time\")\nplt.xlabel('Year')\nplt.ylabel('Count');",
    "id": "43afc2baba0a40e7a7b37ad8deb139a1",
    "idx": 81,
    "time": "2021-02-02T22:03:07.073Z",
    "type": "execution"
   },
   {
    "code": "counts_aggregated_by_name_and_year = baby_names.groupby([\"Name\", \"Year\"])[\"Count\"].sum().reset_index()",
    "id": "dc4846d9024645e08185b4ed81d38187",
    "idx": 85,
    "time": "2021-02-02T22:03:07.077Z",
    "type": "execution"
   },
   {
    "code": "name_of_interest = 'Hillary'\nchosen_baby_name = counts_aggregated_by_name_and_year.query(\"Name == @name_of_interest\")\nplt.plot(chosen_baby_name['Year'], chosen_baby_name['Count'])\nplt.title(f\"Popularity Of {name_of_interest} Over Time\")\nplt.xlabel('Year')\nplt.ylabel('Count');",
    "id": "4bcff49f40d24c4b837d68ed414af75e",
    "idx": 86,
    "time": "2021-02-02T22:03:07.080Z",
    "type": "execution"
   },
   {
    "id": "1d7ba93111844a98b8454a7c2d6a38cb",
    "time": "2021-02-02T22:03:07.708Z",
    "type": "completion"
   },
   {
    "id": "95832440509e42889755d770003c4940",
    "time": "2021-02-02T22:03:07.752Z",
    "type": "completion"
   },
   {
    "id": "04bfe765788a40e58f69668c053353a7",
    "time": "2021-02-02T22:03:07.761Z",
    "type": "completion"
   },
   {
    "id": "62c407dc645c45938696696d8b23d9a4",
    "time": "2021-02-02T22:03:07.765Z",
    "type": "completion"
   },
   {
    "id": "374d962b91a64207bc00e4e60503c2b0",
    "time": "2021-02-02T22:03:07.790Z",
    "type": "completion"
   },
   {
    "id": "d7a4ab62d2f5431c8f61c60c2580bb19",
    "time": "2021-02-02T22:03:07.799Z",
    "type": "completion"
   },
   {
    "id": "1d5214da1fd54033907d91cad63cf5df",
    "time": "2021-02-02T22:03:07.803Z",
    "type": "completion"
   },
   {
    "id": "51d1fd557f394cdc8f0c64f936296a05",
    "time": "2021-02-02T22:03:07.833Z",
    "type": "completion"
   },
   {
    "id": "e6b6bf5b87f54b25807cbbc3ccbcfc44",
    "time": "2021-02-02T22:03:07.842Z",
    "type": "completion"
   },
   {
    "id": "dedc786f6d6b4e4b83b7b76cdd4c81fd",
    "time": "2021-02-02T22:03:07.844Z",
    "type": "completion"
   },
   {
    "id": "96b82abca9534f04a8d9af7f87c350a1",
    "time": "2021-02-02T22:03:07.874Z",
    "type": "completion"
   },
   {
    "id": "400bb16b177c485d8f10dbf021606315",
    "time": "2021-02-02T22:03:07.901Z",
    "type": "completion"
   },
   {
    "id": "a56acbda03aa4c3988df433c6e8e8e48",
    "time": "2021-02-02T22:03:07.904Z",
    "type": "completion"
   },
   {
    "id": "ef2b9c19d9fe4ed28be13a3c58cd71e9",
    "time": "2021-02-02T22:03:07.908Z",
    "type": "completion"
   },
   {
    "id": "ec0b3f693fe94e158731b3b8eae17316",
    "time": "2021-02-02T22:03:07.911Z",
    "type": "completion"
   },
   {
    "id": "7287f0c3671f4e2e95f7e009fe4c0c98",
    "time": "2021-02-02T22:03:07.938Z",
    "type": "completion"
   },
   {
    "id": "e192bb9e67c441c38734bfda2458405a",
    "time": "2021-02-02T22:03:07.941Z",
    "type": "completion"
   },
   {
    "id": "2ebf07663ff542b98ab73711c900ed63",
    "time": "2021-02-02T22:03:07.943Z",
    "type": "completion"
   },
   {
    "id": "2f04d4d8167b4ca2a4297f64f7391aba",
    "time": "2021-02-02T22:03:07.975Z",
    "type": "completion"
   },
   {
    "id": "2d8430ff4c1e49eca2cf5ad300e1f16c",
    "time": "2021-02-02T22:03:07.979Z",
    "type": "completion"
   },
   {
    "id": "d1a5e953519041a4884d77fcd0aac3b8",
    "time": "2021-02-02T22:03:08.220Z",
    "type": "completion"
   },
   {
    "id": "70dc7101a45349d0901252e85c2374c0",
    "time": "2021-02-02T22:03:51.629Z",
    "type": "completion"
   },
   {
    "id": "a8a74b11397945acb4863016fd9215c5",
    "time": "2021-02-02T22:03:51.639Z",
    "type": "completion"
   },
   {
    "id": "8f724a1f618346d4a3d440668ab209b2",
    "time": "2021-02-02T22:03:51.677Z",
    "type": "completion"
   },
   {
    "id": "ad4ab828fcc5423a8bf35487f9e4bf6c",
    "time": "2021-02-02T22:03:51.682Z",
    "type": "completion"
   },
   {
    "id": "08bf5eb3a983445d9df78dcdc271d13e",
    "time": "2021-02-02T22:03:51.685Z",
    "type": "completion"
   },
   {
    "id": "53226fd453284e10bdaa468e439241fd",
    "time": "2021-02-02T22:04:08.851Z",
    "type": "completion"
   },
   {
    "id": "6147371ba161485783e5512d88af4df6",
    "time": "2021-02-02T22:04:08.866Z",
    "type": "completion"
   },
   {
    "id": "d8aede86134448d58b8399a2d6d88804",
    "time": "2021-02-02T22:04:09.955Z",
    "type": "completion"
   },
   {
    "id": "31152e658ab8485eb9ce0158eed8a92a",
    "time": "2021-02-02T22:04:09.960Z",
    "type": "completion"
   },
   {
    "id": "de9aee38ca1e42ec98479d4112ec1835",
    "time": "2021-02-02T22:04:10.000Z",
    "type": "completion"
   },
   {
    "id": "ab9aa073fa914b6bb681791204185e51",
    "time": "2021-02-02T22:04:10.007Z",
    "type": "completion"
   },
   {
    "id": "15e540f3129d4f6a81a592d7c06a8fe9",
    "time": "2021-02-02T22:04:10.466Z",
    "type": "completion"
   },
   {
    "id": "92f21086c2474d61b0777e99d448d3cc",
    "time": "2021-02-02T22:04:10.468Z",
    "type": "completion"
   },
   {
    "id": "b943cae34b484a07813bba1dbf16ae84",
    "time": "2021-02-02T22:04:10.524Z",
    "type": "completion"
   },
   {
    "id": "2cdcca5a466f41c0890a809b0fcad597",
    "time": "2021-02-02T22:04:10.528Z",
    "type": "completion"
   },
   {
    "id": "403be8090a094a1587d66ea84349063a",
    "time": "2021-02-02T22:04:10.948Z",
    "type": "completion"
   },
   {
    "id": "6debe6bc68064be783e2a983c8f21643",
    "time": "2021-02-02T22:04:10.996Z",
    "type": "completion"
   },
   {
    "id": "be4263a6dbad49498e08ff5f1619bdfc",
    "time": "2021-02-02T22:04:11.020Z",
    "type": "completion"
   },
   {
    "id": "e4624c66285b417fbe60727892470875",
    "time": "2021-02-02T22:04:11.044Z",
    "type": "completion"
   },
   {
    "id": "6e1f52278dfe493fbee6f9a6c2eba8c7",
    "time": "2021-02-02T22:04:11.051Z",
    "type": "completion"
   },
   {
    "id": "e1c108dbccc74d528bd90e58cfdcdc8e",
    "time": "2021-02-02T22:04:11.491Z",
    "type": "completion"
   },
   {
    "id": "43afc2baba0a40e7a7b37ad8deb139a1",
    "time": "2021-02-02T22:04:12.892Z",
    "type": "completion"
   },
   {
    "id": "dc4846d9024645e08185b4ed81d38187",
    "time": "2021-02-02T22:04:15.279Z",
    "type": "completion"
   },
   {
    "id": "4bcff49f40d24c4b837d68ed414af75e",
    "time": "2021-02-02T22:04:15.457Z",
    "type": "completion"
   },
   {
    "code": "import numpy as np\nimport matplotlib.pyplot as plt\nimport pandas as pd\n%matplotlib inline",
    "id": "04149b0b68fd4ee58a6390aacc92c63d",
    "idx": 5,
    "time": "2021-02-03T03:00:27.186Z",
    "type": "execution"
   },
   {
    "code": "fruit_info = pd.DataFrame(\n    data = {'fruit': ['apple', 'orange', 'banana', 'raspberry'],\n          'color': ['red', 'orange', 'yellow', 'pink']\n          })\nfruit_info",
    "id": "bce91ffcc637403e8c552b5182102e8b",
    "idx": 8,
    "time": "2021-02-03T03:00:27.192Z",
    "type": "execution"
   },
   {
    "code": "fruit_info2 = pd.DataFrame(\n    [(\"red\", \"apple\"), (\"orange\", \"orange\"), (\"yellow\", \"banana\"),\n     (\"pink\", \"raspberry\")], \n    columns = [\"color\", \"fruit\"])\nfruit_info2",
    "id": "f62fbb87075047168f6b52217eca008b",
    "idx": 10,
    "time": "2021-02-03T03:00:27.194Z",
    "type": "execution"
   },
   {
    "code": "fruit_info.shape",
    "id": "b2433e8625e14abc8e6fe9e4fdc17e8e",
    "idx": 12,
    "time": "2021-02-03T03:00:27.197Z",
    "type": "execution"
   },
   {
    "code": "fruit_info.values",
    "id": "7afd5b74e3b14429839edd25b49fa2fb",
    "idx": 14,
    "time": "2021-02-03T03:00:27.200Z",
    "type": "execution"
   },
   {
    "code": "# BEGIN SOLUTION\nfruit_info[\"rank1\"] = [2, 1, 4, 3]\n# END SOLUTION\nfruit_info",
    "id": "09b7000e94aa4d8785c8964de9ecfef3",
    "idx": 16,
    "time": "2021-02-03T03:00:27.202Z",
    "type": "execution"
   },
   {
    "code": "# TEST \nfruit_info[\"rank1\"].dtype",
    "id": "d4ae6369025a4a248f2a0924a4693d2d",
    "idx": 17,
    "time": "2021-02-03T03:00:27.204Z",
    "type": "execution"
   },
   {
    "code": "# TEST\nsorted(fruit_info[\"rank1\"].dropna())",
    "id": "5ee85e5fdf6b46078a3fe03970de6c8a",
    "idx": 18,
    "time": "2021-02-03T03:00:27.206Z",
    "type": "execution"
   },
   {
    "code": "# BEGIN SOLUTION\nfruit_info.loc[:, \"rank2\"] = [2, 1, 4, 3]\n# END SOLUTION\nfruit_info",
    "id": "754e1361b9d744898e666b9ff788dd54",
    "idx": 20,
    "time": "2021-02-03T03:00:27.208Z",
    "type": "execution"
   },
   {
    "code": "# TEST \nfruit_info[\"rank2\"].dtype",
    "id": "94aaaf2167144411853a2771127123eb",
    "idx": 21,
    "time": "2021-02-03T03:00:27.210Z",
    "type": "execution"
   },
   {
    "code": "# TEST\nfruit_info[\"rank2\"] == fruit_info[\"rank1\"]",
    "id": "9c8483d8754f48549054efdc1182fd84",
    "idx": 22,
    "time": "2021-02-03T03:00:27.212Z",
    "type": "execution"
   },
   {
    "code": "fruit_info_original = fruit_info.drop([\"rank1\", \"rank2\"], axis = 1) # SOLUTION\nfruit_info_original",
    "id": "5cdb45663f534170bb7d9a9fdb295eae",
    "idx": 24,
    "time": "2021-02-03T03:00:27.214Z",
    "type": "execution"
   },
   {
    "code": "# TEST\nfruit_info_original.shape",
    "id": "67179c50676e49419f96c49a31b79316",
    "idx": 25,
    "time": "2021-02-03T03:00:27.216Z",
    "type": "execution"
   },
   {
    "code": "# TEST\nfruit_info.shape",
    "id": "fa59e197c6474140a5c2cecdb0c9315b",
    "idx": 26,
    "time": "2021-02-03T03:00:27.218Z",
    "type": "execution"
   },
   {
    "code": "# TEST\nfruit_info_original.columns",
    "id": "4d569c0696df40ae961d1d1753704908",
    "idx": 27,
    "time": "2021-02-03T03:00:27.220Z",
    "type": "execution"
   },
   {
    "code": "# BEGIN SOLUTION\nfruit_info_caps = fruit_info_original.rename(columns = {\"color\": \"Color\", \"fruit\": \"Fruit\"})\n# END SOLUTION\nfruit_info_caps",
    "id": "160dc75fca554dd09ddc106bebab5d0c",
    "idx": 29,
    "time": "2021-02-03T03:00:27.224Z",
    "type": "execution"
   },
   {
    "code": "# TEST\nfruit_info_caps.columns",
    "id": "e14fbdc9a9a14cd2849136b61fcbf065",
    "idx": 30,
    "time": "2021-02-03T03:00:27.226Z",
    "type": "execution"
   },
   {
    "code": "# TEST\nfruit_info.columns",
    "id": "0eab3d64cc184fe8a1d518b1993910f3",
    "idx": 31,
    "time": "2021-02-03T03:00:27.227Z",
    "type": "execution"
   },
   {
    "code": "import requests\nfrom pathlib import Path\n\ndef fetch_and_cache(data_url, file, data_dir=\"data\", force=False):\n    \"\"\"\n    Download and cache a url and return the file object.\n    \n    data_url: the web address to download\n    file: the file in which to save the results.\n    data_dir: (default=\"data\") the location to save the data\n    force: if true the file is always re-downloaded \n    \n    return: The pathlib.Path to the file.\n    \"\"\"\n    data_dir = Path(data_dir)\n    data_dir.mkdir(exist_ok=True)\n    file_path = data_dir/Path(file)\n    if force and file_path.exists():\n        file_path.unlink()\n    if force or not file_path.exists():\n        print('Downloading...', end=' ')\n        resp = requests.get(data_url)\n        with file_path.open('wb') as f:\n            f.write(resp.content)\n        print('Done!')\n    else:\n        import time \n        created = time.ctime(file_path.stat().st_ctime)\n        print(\"Using cached version downloaded at\", created)\n    return file_path",
    "id": "6044035964a34b0d806e4be6707d6fcf",
    "idx": 34,
    "time": "2021-02-03T03:00:27.230Z",
    "type": "execution"
   },
   {
    "code": "data_url = 'https://www.ssa.gov/oact/babynames/state/namesbystate.zip'\nnamesbystate_path = fetch_and_cache(data_url, 'namesbystate.zip')",
    "id": "0ada07c6b5fb48cdb6ed7a5f41141be5",
    "idx": 37,
    "time": "2021-02-03T03:00:27.233Z",
    "type": "execution"
   },
   {
    "code": "import zipfile\nzf = zipfile.ZipFile(namesbystate_path, 'r')\n\ncolumn_labels = ['State', 'Sex', 'Year', 'Name', 'Count']\n\ndef load_dataframe_from_zip(zf, f):\n    with zf.open(f) as fh: \n        return pd.read_csv(fh, header=None, names=column_labels)\n\nstates = [\n    load_dataframe_from_zip(zf, f)\n    for f in sorted(zf.filelist, key=lambda x:x.filename) \n    if f.filename.endswith('.TXT')\n]\n\nbaby_names = states[0]\nfor state_df in states[1:]:\n    baby_names = pd.concat([baby_names, state_df])\nbaby_names = baby_names.reset_index().iloc[:, 1:]",
    "id": "7e7e90bcc07d40f6ac3650b89138d5d5",
    "idx": 39,
    "time": "2021-02-03T03:00:27.235Z",
    "type": "execution"
   },
   {
    "code": "len(baby_names)",
    "id": "936518769a584b289d6fb550984f9b88",
    "idx": 40,
    "time": "2021-02-03T03:00:27.237Z",
    "type": "execution"
   },
   {
    "code": "baby_names.head()",
    "id": "b82e45f109da47db88aa9b35f486daf5",
    "idx": 41,
    "time": "2021-02-03T03:00:27.239Z",
    "type": "execution"
   },
   {
    "code": "baby_names.loc[2:5, 'Name']",
    "id": "97f4d786b32b45bcbabc49f3e3b3f168",
    "idx": 44,
    "time": "2021-02-03T03:00:27.241Z",
    "type": "execution"
   },
   {
    "code": "baby_names.loc[2:5, ['Name']]",
    "id": "7ab8eb1049664cd485869d303873d98c",
    "idx": 46,
    "time": "2021-02-03T03:00:27.243Z",
    "type": "execution"
   },
   {
    "code": "sorted_baby_names = baby_names.sort_values(by = ['Name'])\nsorted_baby_names.head()",
    "id": "669cbb4af8504f718674dbaa26497c59",
    "idx": 50,
    "time": "2021-02-03T03:00:27.246Z",
    "type": "execution"
   },
   {
    "code": "sorted_baby_names.iloc[1:4, 3]",
    "id": "fe0b3bf3013942af8f312233be00f320",
    "idx": 52,
    "time": "2021-02-03T03:00:27.250Z",
    "type": "execution"
   },
   {
    "code": "sorted_baby_names.loc[1:4, \"Name\"]",
    "id": "198a4d33a78a49808013376dda9a5e76",
    "idx": 54,
    "time": "2021-02-03T03:00:27.253Z",
    "type": "execution"
   },
   {
    "code": "df = baby_names[:5].set_index(\"Name\") \ndf",
    "id": "711e9ae3a2f9426886ee4baa691ab3be",
    "idx": 56,
    "time": "2021-02-03T03:00:27.256Z",
    "type": "execution"
   },
   {
    "code": "df.loc[['Mary', 'Anna'], :]",
    "id": "dcf9aa8cbd634f348371d165927a32eb",
    "idx": 58,
    "time": "2021-02-03T03:00:27.258Z",
    "type": "execution"
   },
   {
    "code": "#Example: \ndf.iloc[1:4, 2:3]",
    "id": "211b4ac26c73495a8962d97fe6b41cb4",
    "idx": 60,
    "time": "2021-02-03T03:00:27.260Z",
    "type": "execution"
   },
   {
    "code": "name_and_year = baby_names.loc[:, ['Name', 'Year']] # SOLUTION\nname_and_year[:5]",
    "id": "c44f9f42dd1642069545355cd0594e6e",
    "idx": 62,
    "time": "2021-02-03T03:00:27.262Z",
    "type": "execution"
   },
   {
    "code": "# TEST\nname_and_year.shape",
    "id": "a6c7f13eab82440c85f8f1f6bb72bc05",
    "idx": 63,
    "time": "2021-02-03T03:00:27.264Z",
    "type": "execution"
   },
   {
    "code": "# TEST\nname_and_year.loc[0, \"Name\"]",
    "id": "368248f039f440cf81617ed1f4117be9",
    "idx": 64,
    "time": "2021-02-03T03:00:27.266Z",
    "type": "execution"
   },
   {
    "code": "# TEST\nname_and_year.loc[0, \"Year\"]",
    "id": "14f02c1d20274dec8895989ba7e5dc78",
    "idx": 65,
    "time": "2021-02-03T03:00:27.268Z",
    "type": "execution"
   },
   {
    "code": "ca = baby_names[baby_names['State'] == 'CA']",
    "id": "a5fa303ab7404a6dbf4388de503cac4c",
    "idx": 70,
    "time": "2021-02-03T03:00:27.270Z",
    "type": "execution"
   },
   {
    "code": "result = baby_names[(baby_names[\"Year\"] == 2000) & (baby_names[\"Count\"] > 3000)] # SOLUTION\nresult.head()",
    "id": "53825247a2bb45df843bbf1f806edd58",
    "idx": 72,
    "time": "2021-02-03T03:00:27.273Z",
    "type": "execution"
   },
   {
    "code": "# TEST\nlen(result)",
    "id": "da82ae0a02b64291b997ff7413ad3842",
    "idx": 73,
    "time": "2021-02-03T03:00:27.275Z",
    "type": "execution"
   },
   {
    "code": "# TEST\nresult[\"Count\"].sum()",
    "id": "7d19c9cd29964cadaa2d83ab7f7723de",
    "idx": 74,
    "time": "2021-02-03T03:00:27.276Z",
    "type": "execution"
   },
   {
    "code": "# TEST\nresult[\"Count\"].iloc[0]",
    "id": "cc41b350756446a08e0544944eb74d1e",
    "idx": 75,
    "time": "2021-02-03T03:00:27.278Z",
    "type": "execution"
   },
   {
    "code": "result_using_query = baby_names.query('Year == 2000 and Count > 3000') # SOLUTION",
    "id": "e07888003f1c4ad280f92321d4331fee",
    "idx": 77,
    "time": "2021-02-03T03:00:27.279Z",
    "type": "execution"
   },
   {
    "code": "hillary_baby_name = baby_names[(baby_names['Name'] == 'Hillary') & (baby_names['State'] == 'CA') & (baby_names['Sex'] == 'F')]\nplt.plot(hillary_baby_name['Year'], hillary_baby_name['Count'])\nplt.title(\"Hillary Popularity Over Time\")\nplt.xlabel('Year')\nplt.ylabel('Count');",
    "id": "3964323115f04d08ac58740cfc0b06f2",
    "idx": 79,
    "time": "2021-02-03T03:00:27.281Z",
    "type": "execution"
   },
   {
    "code": "counts_aggregated_by_name_and_year = baby_names.groupby([\"Name\", \"Year\"])[\"Count\"].sum().reset_index()",
    "id": "9ec8347559e6451ebd392d965e924294",
    "idx": 83,
    "time": "2021-02-03T03:00:27.284Z",
    "type": "execution"
   },
   {
    "code": "name_of_interest = 'Hillary'\nchosen_baby_name = counts_aggregated_by_name_and_year.query(\"Name == @name_of_interest\")\nplt.plot(chosen_baby_name['Year'], chosen_baby_name['Count'])\nplt.title(f\"Popularity Of {name_of_interest} Over Time\")\nplt.xlabel('Year')\nplt.ylabel('Count');",
    "id": "a5c2bd19494441f680e4faea3d0433bf",
    "idx": 84,
    "time": "2021-02-03T03:00:27.285Z",
    "type": "execution"
   },
   {
    "id": "04149b0b68fd4ee58a6390aacc92c63d",
    "time": "2021-02-03T03:00:27.985Z",
    "type": "completion"
   },
   {
    "id": "bce91ffcc637403e8c552b5182102e8b",
    "time": "2021-02-03T03:00:28.003Z",
    "type": "completion"
   },
   {
    "id": "f62fbb87075047168f6b52217eca008b",
    "time": "2021-02-03T03:00:28.030Z",
    "type": "completion"
   },
   {
    "id": "b2433e8625e14abc8e6fe9e4fdc17e8e",
    "time": "2021-02-03T03:00:28.032Z",
    "type": "completion"
   },
   {
    "id": "7afd5b74e3b14429839edd25b49fa2fb",
    "time": "2021-02-03T03:00:28.034Z",
    "type": "completion"
   },
   {
    "id": "09b7000e94aa4d8785c8964de9ecfef3",
    "time": "2021-02-03T03:00:28.070Z",
    "type": "completion"
   },
   {
    "id": "d4ae6369025a4a248f2a0924a4693d2d",
    "time": "2021-02-03T03:00:28.075Z",
    "type": "completion"
   },
   {
    "id": "5ee85e5fdf6b46078a3fe03970de6c8a",
    "time": "2021-02-03T03:00:28.077Z",
    "type": "completion"
   },
   {
    "id": "754e1361b9d744898e666b9ff788dd54",
    "time": "2021-02-03T03:00:28.081Z",
    "type": "completion"
   },
   {
    "id": "94aaaf2167144411853a2771127123eb",
    "time": "2021-02-03T03:00:28.088Z",
    "type": "completion"
   },
   {
    "id": "9c8483d8754f48549054efdc1182fd84",
    "time": "2021-02-03T03:00:28.165Z",
    "type": "completion"
   },
   {
    "id": "5cdb45663f534170bb7d9a9fdb295eae",
    "time": "2021-02-03T03:00:28.170Z",
    "type": "completion"
   },
   {
    "id": "67179c50676e49419f96c49a31b79316",
    "time": "2021-02-03T03:00:28.172Z",
    "type": "completion"
   },
   {
    "id": "fa59e197c6474140a5c2cecdb0c9315b",
    "time": "2021-02-03T03:00:28.174Z",
    "type": "completion"
   },
   {
    "id": "4d569c0696df40ae961d1d1753704908",
    "time": "2021-02-03T03:00:28.207Z",
    "type": "completion"
   },
   {
    "id": "160dc75fca554dd09ddc106bebab5d0c",
    "time": "2021-02-03T03:00:28.209Z",
    "type": "completion"
   },
   {
    "id": "e14fbdc9a9a14cd2849136b61fcbf065",
    "time": "2021-02-03T03:00:28.211Z",
    "type": "completion"
   },
   {
    "id": "0eab3d64cc184fe8a1d518b1993910f3",
    "time": "2021-02-03T03:00:28.213Z",
    "type": "completion"
   },
   {
    "id": "6044035964a34b0d806e4be6707d6fcf",
    "time": "2021-02-03T03:00:28.252Z",
    "type": "completion"
   },
   {
    "id": "0ada07c6b5fb48cdb6ed7a5f41141be5",
    "time": "2021-02-03T03:00:28.255Z",
    "type": "completion"
   },
   {
    "id": "7e7e90bcc07d40f6ac3650b89138d5d5",
    "time": "2021-02-03T03:01:10.991Z",
    "type": "completion"
   },
   {
    "id": "936518769a584b289d6fb550984f9b88",
    "time": "2021-02-03T03:01:11.000Z",
    "type": "completion"
   },
   {
    "id": "b82e45f109da47db88aa9b35f486daf5",
    "time": "2021-02-03T03:01:11.067Z",
    "type": "completion"
   },
   {
    "id": "97f4d786b32b45bcbabc49f3e3b3f168",
    "time": "2021-02-03T03:01:11.072Z",
    "type": "completion"
   },
   {
    "id": "7ab8eb1049664cd485869d303873d98c",
    "time": "2021-02-03T03:01:11.219Z",
    "type": "completion"
   },
   {
    "id": "669cbb4af8504f718674dbaa26497c59",
    "time": "2021-02-03T03:01:27.640Z",
    "type": "completion"
   },
   {
    "id": "fe0b3bf3013942af8f312233be00f320",
    "time": "2021-02-03T03:01:27.644Z",
    "type": "completion"
   },
   {
    "id": "198a4d33a78a49808013376dda9a5e76",
    "time": "2021-02-03T03:01:28.577Z",
    "type": "completion"
   },
   {
    "id": "711e9ae3a2f9426886ee4baa691ab3be",
    "time": "2021-02-03T03:01:28.600Z",
    "type": "completion"
   },
   {
    "id": "dcf9aa8cbd634f348371d165927a32eb",
    "time": "2021-02-03T03:01:28.603Z",
    "type": "completion"
   },
   {
    "id": "211b4ac26c73495a8962d97fe6b41cb4",
    "time": "2021-02-03T03:01:28.647Z",
    "type": "completion"
   },
   {
    "id": "c44f9f42dd1642069545355cd0594e6e",
    "time": "2021-02-03T03:01:28.750Z",
    "type": "completion"
   },
   {
    "id": "a6c7f13eab82440c85f8f1f6bb72bc05",
    "time": "2021-02-03T03:01:28.752Z",
    "type": "completion"
   },
   {
    "id": "368248f039f440cf81617ed1f4117be9",
    "time": "2021-02-03T03:01:28.789Z",
    "type": "completion"
   },
   {
    "id": "14f02c1d20274dec8895989ba7e5dc78",
    "time": "2021-02-03T03:01:28.791Z",
    "type": "completion"
   },
   {
    "id": "a5fa303ab7404a6dbf4388de503cac4c",
    "time": "2021-02-03T03:01:29.169Z",
    "type": "completion"
   },
   {
    "id": "53825247a2bb45df843bbf1f806edd58",
    "time": "2021-02-03T03:01:29.230Z",
    "type": "completion"
   },
   {
    "id": "da82ae0a02b64291b997ff7413ad3842",
    "time": "2021-02-03T03:01:29.233Z",
    "type": "completion"
   },
   {
    "id": "7d19c9cd29964cadaa2d83ab7f7723de",
    "time": "2021-02-03T03:01:29.234Z",
    "type": "completion"
   },
   {
    "id": "cc41b350756446a08e0544944eb74d1e",
    "time": "2021-02-03T03:01:29.268Z",
    "type": "completion"
   },
   {
    "id": "e07888003f1c4ad280f92321d4331fee",
    "time": "2021-02-03T03:01:29.532Z",
    "type": "completion"
   },
   {
    "id": "3964323115f04d08ac58740cfc0b06f2",
    "time": "2021-02-03T03:01:30.886Z",
    "type": "completion"
   },
   {
    "id": "9ec8347559e6451ebd392d965e924294",
    "time": "2021-02-03T03:01:33.232Z",
    "type": "completion"
   },
   {
    "id": "a5c2bd19494441f680e4faea3d0433bf",
    "time": "2021-02-03T03:01:33.464Z",
    "type": "completion"
   },
   {
    "code": "import numpy as np\nimport matplotlib.pyplot as plt\nimport pandas as pd\n%matplotlib inline",
    "id": "cb3654909f6e4cb98f5d5c3044038d5d",
    "idx": 5,
    "time": "2021-02-04T02:44:18.448Z",
    "type": "execution"
   },
   {
    "code": "fruit_info = pd.DataFrame(\n    data = {'fruit': ['apple', 'orange', 'banana', 'raspberry'],\n          'color': ['red', 'orange', 'yellow', 'pink']\n          })\nfruit_info",
    "id": "b89b55b36f9e41149ea885f38dbf8b94",
    "idx": 8,
    "time": "2021-02-04T02:44:18.453Z",
    "type": "execution"
   },
   {
    "code": "fruit_info2 = pd.DataFrame(\n    [(\"red\", \"apple\"), (\"orange\", \"orange\"), (\"yellow\", \"banana\"),\n     (\"pink\", \"raspberry\")], \n    columns = [\"color\", \"fruit\"])\nfruit_info2",
    "id": "c32df1c579e54cc781b3dec7ee15d997",
    "idx": 10,
    "time": "2021-02-04T02:44:18.457Z",
    "type": "execution"
   },
   {
    "code": "fruit_info.shape",
    "id": "cc811befb6d74726878500c3cfe045c0",
    "idx": 12,
    "time": "2021-02-04T02:44:18.460Z",
    "type": "execution"
   },
   {
    "code": "fruit_info.values",
    "id": "c406ac8805ca408186e60c9a7dd90509",
    "idx": 14,
    "time": "2021-02-04T02:44:18.462Z",
    "type": "execution"
   },
   {
    "code": "# BEGIN SOLUTION\nfruit_info[\"rank1\"] = [2, 1, 4, 3]\n# END SOLUTION\nfruit_info",
    "id": "0ef745aaa1a14b07b1ba565c6f581e80",
    "idx": 16,
    "time": "2021-02-04T02:44:18.466Z",
    "type": "execution"
   },
   {
    "code": "# TEST \nfruit_info[\"rank1\"].dtype",
    "id": "74161cf82d1349b280be7c9699ac695c",
    "idx": 17,
    "time": "2021-02-04T02:44:18.468Z",
    "type": "execution"
   },
   {
    "code": "# TEST\nsorted(fruit_info[\"rank1\"].dropna())",
    "id": "6eb0af163dbd4b44888e5bf5bce0d6ef",
    "idx": 18,
    "time": "2021-02-04T02:44:18.469Z",
    "type": "execution"
   },
   {
    "code": "# BEGIN SOLUTION\nfruit_info.loc[:, \"rank2\"] = [2, 1, 4, 3]\n# END SOLUTION\nfruit_info",
    "id": "97cf6940242c48ee84055bad6d2fa22c",
    "idx": 20,
    "time": "2021-02-04T02:44:18.472Z",
    "type": "execution"
   },
   {
    "code": "# TEST \nfruit_info[\"rank2\"].dtype",
    "id": "de4975632bb14e07806f5e035a2b677f",
    "idx": 21,
    "time": "2021-02-04T02:44:18.473Z",
    "type": "execution"
   },
   {
    "code": "# TEST\nfruit_info[\"rank2\"] == fruit_info[\"rank1\"]",
    "id": "4bdd96d59a7a448f8dd758f5175ce45c",
    "idx": 22,
    "time": "2021-02-04T02:44:18.475Z",
    "type": "execution"
   },
   {
    "code": "fruit_info_original = fruit_info.drop([\"rank1\", \"rank2\"], axis = 1) # SOLUTION\nfruit_info_original",
    "id": "511c26f1a758456189ffb2d5efab2fb1",
    "idx": 24,
    "time": "2021-02-04T02:44:18.477Z",
    "type": "execution"
   },
   {
    "code": "# TEST\nfruit_info_original.shape",
    "id": "372d7268368346fd9d0b84f1fe7b10c4",
    "idx": 25,
    "time": "2021-02-04T02:44:18.479Z",
    "type": "execution"
   },
   {
    "code": "# TEST\nfruit_info.shape",
    "id": "8be6d2d66c6d4ef8af965cb56254b4cb",
    "idx": 26,
    "time": "2021-02-04T02:44:18.481Z",
    "type": "execution"
   },
   {
    "code": "# TEST\nfruit_info_original.columns",
    "id": "1bceedea26404b04b8e0ed992f4b2809",
    "idx": 27,
    "time": "2021-02-04T02:44:18.482Z",
    "type": "execution"
   },
   {
    "code": "# BEGIN SOLUTION\nfruit_info_caps = fruit_info_original.rename(columns = {\"color\": \"Color\", \"fruit\": \"Fruit\"})\n# END SOLUTION\nfruit_info_caps",
    "id": "f6504ad1d46c4ec58083bccbbbce297a",
    "idx": 29,
    "time": "2021-02-04T02:44:18.485Z",
    "type": "execution"
   },
   {
    "code": "# TEST\nfruit_info_caps.columns",
    "id": "99883042353842ed8dd4785fd51e3226",
    "idx": 30,
    "time": "2021-02-04T02:44:18.486Z",
    "type": "execution"
   },
   {
    "code": "# TEST\nfruit_info.columns",
    "id": "80299b3f88d24888bfc4dd2cb310589f",
    "idx": 31,
    "time": "2021-02-04T02:44:18.488Z",
    "type": "execution"
   },
   {
    "code": "import requests\nfrom pathlib import Path\n\ndef fetch_and_cache(data_url, file, data_dir=\"data\", force=False):\n    \"\"\"\n    Download and cache a url and return the file object.\n    \n    data_url: the web address to download\n    file: the file in which to save the results.\n    data_dir: (default=\"data\") the location to save the data\n    force: if true the file is always re-downloaded \n    \n    return: The pathlib.Path to the file.\n    \"\"\"\n    data_dir = Path(data_dir)\n    data_dir.mkdir(exist_ok=True)\n    file_path = data_dir/Path(file)\n    if force and file_path.exists():\n        file_path.unlink()\n    if force or not file_path.exists():\n        print('Downloading...', end=' ')\n        resp = requests.get(data_url)\n        with file_path.open('wb') as f:\n            f.write(resp.content)\n        print('Done!')\n    else:\n        import time \n        created = time.ctime(file_path.stat().st_ctime)\n        print(\"Using cached version downloaded at\", created)\n    return file_path",
    "id": "abe259236b374174882c73baf8977683",
    "idx": 34,
    "time": "2021-02-04T02:44:18.490Z",
    "type": "execution"
   },
   {
    "code": "data_url = 'https://www.ssa.gov/oact/babynames/state/namesbystate.zip'\nnamesbystate_path = fetch_and_cache(data_url, 'namesbystate.zip')",
    "id": "a40b23e031654f2690a1a4776a30e6fb",
    "idx": 37,
    "time": "2021-02-04T02:44:18.493Z",
    "type": "execution"
   },
   {
    "code": "import zipfile\nzf = zipfile.ZipFile(namesbystate_path, 'r')\n\ncolumn_labels = ['State', 'Sex', 'Year', 'Name', 'Count']\n\ndef load_dataframe_from_zip(zf, f):\n    with zf.open(f) as fh: \n        return pd.read_csv(fh, header=None, names=column_labels)\n\nstates = [\n    load_dataframe_from_zip(zf, f)\n    for f in sorted(zf.filelist, key=lambda x:x.filename) \n    if f.filename.endswith('.TXT')\n]\n\nbaby_names = states[0]\nfor state_df in states[1:]:\n    baby_names = pd.concat([baby_names, state_df])\nbaby_names = baby_names.reset_index().iloc[:, 1:]",
    "id": "7b7dcda608b94ba78f6ba9d5cd98c4e9",
    "idx": 39,
    "time": "2021-02-04T02:44:18.495Z",
    "type": "execution"
   },
   {
    "code": "len(baby_names)",
    "id": "ef510349c8bc4b3a9ecc4fe7456dd360",
    "idx": 40,
    "time": "2021-02-04T02:44:18.497Z",
    "type": "execution"
   },
   {
    "code": "baby_names.head()",
    "id": "becd67d6e6434a868da19c91c98cbf11",
    "idx": 41,
    "time": "2021-02-04T02:44:18.499Z",
    "type": "execution"
   },
   {
    "code": "baby_names.loc[2:5, 'Name']",
    "id": "b6f3c08ad4df451a8e453136d6128f62",
    "idx": 44,
    "time": "2021-02-04T02:44:18.502Z",
    "type": "execution"
   },
   {
    "code": "baby_names.loc[2:5, ['Name']]",
    "id": "1f720fa9724a436a92a97fef64c5d350",
    "idx": 46,
    "time": "2021-02-04T02:44:18.504Z",
    "type": "execution"
   },
   {
    "code": "sorted_baby_names = baby_names.sort_values(by = ['Name'])\nsorted_baby_names.head()",
    "id": "dcff9a0d000d40a08bf5c99e7444e074",
    "idx": 50,
    "time": "2021-02-04T02:44:18.507Z",
    "type": "execution"
   },
   {
    "code": "sorted_baby_names.iloc[1:4, 3]",
    "id": "330230a2f5a549a6838d7c3620fd168a",
    "idx": 52,
    "time": "2021-02-04T02:44:18.509Z",
    "type": "execution"
   },
   {
    "code": "sorted_baby_names.loc[1:4, \"Name\"]",
    "id": "afd5fdc4aafe4cc28856ec846b4db1cc",
    "idx": 54,
    "time": "2021-02-04T02:44:18.511Z",
    "type": "execution"
   },
   {
    "code": "df = baby_names[:5].set_index(\"Name\") \ndf",
    "id": "61973dadb49e47069e83e8ff31d26d04",
    "idx": 56,
    "time": "2021-02-04T02:44:18.513Z",
    "type": "execution"
   },
   {
    "code": "df.loc[['Mary', 'Anna'], :]",
    "id": "e95ebb0bccb348f487373702614f27b7",
    "idx": 58,
    "time": "2021-02-04T02:44:18.515Z",
    "type": "execution"
   },
   {
    "code": "#Example: \ndf.iloc[1:4, 2:3]",
    "id": "6477caf541e6458ba5f7c94a5494616b",
    "idx": 60,
    "time": "2021-02-04T02:44:18.518Z",
    "type": "execution"
   },
   {
    "code": "name_and_year = baby_names.loc[:, ['Name', 'Year']] # SOLUTION\nname_and_year[:5]",
    "id": "615d52380984452b938f711b64759402",
    "idx": 62,
    "time": "2021-02-04T02:44:18.520Z",
    "type": "execution"
   },
   {
    "code": "# TEST\nname_and_year.shape",
    "id": "d57ae72af4be48968b5115629a4e4a38",
    "idx": 63,
    "time": "2021-02-04T02:44:18.522Z",
    "type": "execution"
   },
   {
    "code": "# TEST\nname_and_year.loc[0, \"Name\"]",
    "id": "4c5c7be5e1eb465c830052ce19d675df",
    "idx": 64,
    "time": "2021-02-04T02:44:18.523Z",
    "type": "execution"
   },
   {
    "code": "# TEST\nname_and_year.loc[0, \"Year\"]",
    "id": "814a31a9203847b7ac460335c5705d33",
    "idx": 65,
    "time": "2021-02-04T02:44:18.525Z",
    "type": "execution"
   },
   {
    "code": "ca = baby_names[baby_names['State'] == 'CA']",
    "id": "05e49155a9e74cf38cc6353c24aa96b3",
    "idx": 70,
    "time": "2021-02-04T02:44:18.528Z",
    "type": "execution"
   },
   {
    "code": "result = baby_names[(baby_names[\"Year\"] == 2000) & (baby_names[\"Count\"] > 3000)] # SOLUTION\nresult.head()",
    "id": "b1d6f41c752e42d3b948364b5c60c17f",
    "idx": 72,
    "time": "2021-02-04T02:44:18.530Z",
    "type": "execution"
   },
   {
    "code": "# TEST\nlen(result)",
    "id": "28aa12008dd5424b851aa4cceec42bfb",
    "idx": 73,
    "time": "2021-02-04T02:44:18.534Z",
    "type": "execution"
   },
   {
    "code": "# TEST\nresult[\"Count\"].sum()",
    "id": "0c988671d71549858bb1a027c6e0f791",
    "idx": 74,
    "time": "2021-02-04T02:44:18.536Z",
    "type": "execution"
   },
   {
    "code": "# TEST\nresult[\"Count\"].iloc[0]",
    "id": "5d229a15d64f464b8e6c7c7ed68d0655",
    "idx": 75,
    "time": "2021-02-04T02:44:18.539Z",
    "type": "execution"
   },
   {
    "code": "result_using_query = baby_names.query('Year == 2000 and Count > 3000') # SOLUTION",
    "id": "786b3b70962f43b1b9811bc78db54080",
    "idx": 77,
    "time": "2021-02-04T02:44:18.541Z",
    "type": "execution"
   },
   {
    "code": "hillary_baby_name = baby_names[(baby_names['Name'] == 'Hillary') & (baby_names['State'] == 'CA') & (baby_names['Sex'] == 'F')]\nplt.plot(hillary_baby_name['Year'], hillary_baby_name['Count'])\nplt.title(\"Hillary Popularity Over Time\")\nplt.xlabel('Year')\nplt.ylabel('Count');",
    "id": "b6ff75278b854301844a790335081e3c",
    "idx": 79,
    "time": "2021-02-04T02:44:18.543Z",
    "type": "execution"
   },
   {
    "code": "counts_aggregated_by_name_and_year = baby_names.groupby([\"Name\", \"Year\"])[\"Count\"].sum().reset_index()",
    "id": "b6ce14c1a07d47b6a089c725e64710ab",
    "idx": 83,
    "time": "2021-02-04T02:44:18.546Z",
    "type": "execution"
   },
   {
    "code": "name_of_interest = 'Hillary'\nchosen_baby_name = counts_aggregated_by_name_and_year.query(\"Name == @name_of_interest\")\nplt.plot(chosen_baby_name['Year'], chosen_baby_name['Count'])\nplt.title(f\"Popularity Of {name_of_interest} Over Time\")\nplt.xlabel('Year')\nplt.ylabel('Count');",
    "id": "142433c172c5479cb3b43b30ae34dc0f",
    "idx": 84,
    "time": "2021-02-04T02:44:18.548Z",
    "type": "execution"
   },
   {
    "id": "cb3654909f6e4cb98f5d5c3044038d5d",
    "time": "2021-02-04T02:44:19.253Z",
    "type": "completion"
   },
   {
    "id": "b89b55b36f9e41149ea885f38dbf8b94",
    "time": "2021-02-04T02:44:19.256Z",
    "type": "completion"
   },
   {
    "id": "c32df1c579e54cc781b3dec7ee15d997",
    "time": "2021-02-04T02:44:19.295Z",
    "type": "completion"
   },
   {
    "id": "cc811befb6d74726878500c3cfe045c0",
    "time": "2021-02-04T02:44:19.297Z",
    "type": "completion"
   },
   {
    "id": "c406ac8805ca408186e60c9a7dd90509",
    "time": "2021-02-04T02:44:19.342Z",
    "type": "completion"
   },
   {
    "id": "0ef745aaa1a14b07b1ba565c6f581e80",
    "time": "2021-02-04T02:44:19.351Z",
    "type": "completion"
   },
   {
    "id": "74161cf82d1349b280be7c9699ac695c",
    "time": "2021-02-04T02:44:19.383Z",
    "type": "completion"
   },
   {
    "id": "6eb0af163dbd4b44888e5bf5bce0d6ef",
    "time": "2021-02-04T02:44:19.420Z",
    "type": "completion"
   },
   {
    "id": "97cf6940242c48ee84055bad6d2fa22c",
    "time": "2021-02-04T02:44:19.456Z",
    "type": "completion"
   },
   {
    "id": "de4975632bb14e07806f5e035a2b677f",
    "time": "2021-02-04T02:44:19.458Z",
    "type": "completion"
   },
   {
    "id": "4bdd96d59a7a448f8dd758f5175ce45c",
    "time": "2021-02-04T02:44:19.486Z",
    "type": "completion"
   },
   {
    "id": "511c26f1a758456189ffb2d5efab2fb1",
    "time": "2021-02-04T02:44:19.529Z",
    "type": "completion"
   },
   {
    "id": "372d7268368346fd9d0b84f1fe7b10c4",
    "time": "2021-02-04T02:44:19.535Z",
    "type": "completion"
   },
   {
    "id": "8be6d2d66c6d4ef8af965cb56254b4cb",
    "time": "2021-02-04T02:44:19.563Z",
    "type": "completion"
   },
   {
    "id": "1bceedea26404b04b8e0ed992f4b2809",
    "time": "2021-02-04T02:44:19.589Z",
    "type": "completion"
   },
   {
    "id": "f6504ad1d46c4ec58083bccbbbce297a",
    "time": "2021-02-04T02:44:19.614Z",
    "type": "completion"
   },
   {
    "id": "99883042353842ed8dd4785fd51e3226",
    "time": "2021-02-04T02:44:19.640Z",
    "type": "completion"
   },
   {
    "id": "80299b3f88d24888bfc4dd2cb310589f",
    "time": "2021-02-04T02:44:19.683Z",
    "type": "completion"
   },
   {
    "id": "abe259236b374174882c73baf8977683",
    "time": "2021-02-04T02:44:19.777Z",
    "type": "completion"
   },
   {
    "id": "a40b23e031654f2690a1a4776a30e6fb",
    "time": "2021-02-04T02:44:19.783Z",
    "type": "completion"
   },
   {
    "id": "7b7dcda608b94ba78f6ba9d5cd98c4e9",
    "time": "2021-02-04T02:45:05.138Z",
    "type": "completion"
   },
   {
    "id": "ef510349c8bc4b3a9ecc4fe7456dd360",
    "time": "2021-02-04T02:45:05.141Z",
    "type": "completion"
   },
   {
    "id": "becd67d6e6434a868da19c91c98cbf11",
    "time": "2021-02-04T02:45:05.164Z",
    "type": "completion"
   },
   {
    "id": "b6f3c08ad4df451a8e453136d6128f62",
    "time": "2021-02-04T02:45:05.198Z",
    "type": "completion"
   },
   {
    "id": "1f720fa9724a436a92a97fef64c5d350",
    "time": "2021-02-04T02:45:05.203Z",
    "type": "completion"
   },
   {
    "id": "dcff9a0d000d40a08bf5c99e7444e074",
    "time": "2021-02-04T02:45:24.120Z",
    "type": "completion"
   },
   {
    "id": "330230a2f5a549a6838d7c3620fd168a",
    "time": "2021-02-04T02:45:24.146Z",
    "type": "completion"
   },
   {
    "id": "afd5fdc4aafe4cc28856ec846b4db1cc",
    "time": "2021-02-04T02:45:25.225Z",
    "type": "completion"
   },
   {
    "id": "61973dadb49e47069e83e8ff31d26d04",
    "time": "2021-02-04T02:45:25.228Z",
    "type": "completion"
   },
   {
    "id": "e95ebb0bccb348f487373702614f27b7",
    "time": "2021-02-04T02:45:25.270Z",
    "type": "completion"
   },
   {
    "id": "6477caf541e6458ba5f7c94a5494616b",
    "time": "2021-02-04T02:45:25.272Z",
    "type": "completion"
   },
   {
    "id": "615d52380984452b938f711b64759402",
    "time": "2021-02-04T02:45:25.408Z",
    "type": "completion"
   },
   {
    "id": "d57ae72af4be48968b5115629a4e4a38",
    "time": "2021-02-04T02:45:25.411Z",
    "type": "completion"
   },
   {
    "id": "4c5c7be5e1eb465c830052ce19d675df",
    "time": "2021-02-04T02:45:25.440Z",
    "type": "completion"
   },
   {
    "id": "814a31a9203847b7ac460335c5705d33",
    "time": "2021-02-04T02:45:25.465Z",
    "type": "completion"
   },
   {
    "id": "05e49155a9e74cf38cc6353c24aa96b3",
    "time": "2021-02-04T02:45:25.915Z",
    "type": "completion"
   },
   {
    "id": "b1d6f41c752e42d3b948364b5c60c17f",
    "time": "2021-02-04T02:45:25.931Z",
    "type": "completion"
   },
   {
    "id": "28aa12008dd5424b851aa4cceec42bfb",
    "time": "2021-02-04T02:45:25.959Z",
    "type": "completion"
   },
   {
    "id": "0c988671d71549858bb1a027c6e0f791",
    "time": "2021-02-04T02:45:25.961Z",
    "type": "completion"
   },
   {
    "id": "5d229a15d64f464b8e6c7c7ed68d0655",
    "time": "2021-02-04T02:45:25.989Z",
    "type": "completion"
   },
   {
    "id": "786b3b70962f43b1b9811bc78db54080",
    "time": "2021-02-04T02:45:26.107Z",
    "type": "completion"
   },
   {
    "id": "b6ff75278b854301844a790335081e3c",
    "time": "2021-02-04T02:45:27.543Z",
    "type": "completion"
   },
   {
    "id": "b6ce14c1a07d47b6a089c725e64710ab",
    "time": "2021-02-04T02:45:29.397Z",
    "type": "completion"
   },
   {
    "id": "142433c172c5479cb3b43b30ae34dc0f",
    "time": "2021-02-04T02:45:29.663Z",
    "type": "completion"
   },
   {
    "code": "import numpy as np\nimport matplotlib.pyplot as plt\nimport pandas as pd\n%matplotlib inline",
    "id": "c74b74335be74cafb2cef0506bdd09e8",
    "idx": 5,
    "time": "2021-02-04T06:11:45.379Z",
    "type": "execution"
   },
   {
    "code": "fruit_info = pd.DataFrame(\n    data = {'fruit': ['apple', 'orange', 'banana', 'raspberry'],\n          'color': ['red', 'orange', 'yellow', 'pink']\n          })\nfruit_info",
    "id": "e40f850fc57243dcb308d7631949f4a9",
    "idx": 8,
    "time": "2021-02-04T06:11:45.385Z",
    "type": "execution"
   },
   {
    "code": "fruit_info2 = pd.DataFrame(\n    [(\"red\", \"apple\"), (\"orange\", \"orange\"), (\"yellow\", \"banana\"),\n     (\"pink\", \"raspberry\")], \n    columns = [\"color\", \"fruit\"])\nfruit_info2",
    "id": "18388906fbea4d2782b3484f8edb2555",
    "idx": 10,
    "time": "2021-02-04T06:11:45.388Z",
    "type": "execution"
   },
   {
    "code": "fruit_info.shape",
    "id": "e26d233852504737966a8a5871bfda0a",
    "idx": 12,
    "time": "2021-02-04T06:11:45.391Z",
    "type": "execution"
   },
   {
    "code": "fruit_info.values",
    "id": "3adc33bfa92644529205f34611f7314c",
    "idx": 14,
    "time": "2021-02-04T06:11:45.394Z",
    "type": "execution"
   },
   {
    "code": "# BEGIN SOLUTION\nfruit_info[\"rank1\"] = [2, 1, 4, 3]\n# END SOLUTION\nfruit_info",
    "id": "2ee50d407b984d7b8646e599d3f356fa",
    "idx": 16,
    "time": "2021-02-04T06:11:45.396Z",
    "type": "execution"
   },
   {
    "code": "# TEST \nfruit_info[\"rank1\"].dtype",
    "id": "7bccca9ee4b94cb38cd7a6e5a5bd1a68",
    "idx": 17,
    "time": "2021-02-04T06:11:45.398Z",
    "type": "execution"
   },
   {
    "code": "# TEST\nsorted(fruit_info[\"rank1\"].dropna())",
    "id": "bff72801da02409eb0a96b6f500771d7",
    "idx": 18,
    "time": "2021-02-04T06:11:45.400Z",
    "type": "execution"
   },
   {
    "code": "# BEGIN SOLUTION\nfruit_info.loc[:, \"rank2\"] = [2, 1, 4, 3]\n# END SOLUTION\nfruit_info",
    "id": "883ff4981cb24ca18ea00872a38acb58",
    "idx": 20,
    "time": "2021-02-04T06:11:45.402Z",
    "type": "execution"
   },
   {
    "code": "# TEST \nfruit_info[\"rank2\"].dtype",
    "id": "837110aeb4164d3184e5e1c9ba684704",
    "idx": 21,
    "time": "2021-02-04T06:11:45.404Z",
    "type": "execution"
   },
   {
    "code": "# TEST\nfruit_info[\"rank2\"] == fruit_info[\"rank1\"]",
    "id": "7cca13836c6b4292bb180754e833a567",
    "idx": 22,
    "time": "2021-02-04T06:11:45.405Z",
    "type": "execution"
   },
   {
    "code": "fruit_info_original = fruit_info.drop([\"rank1\", \"rank2\"], axis = 1) # SOLUTION\nfruit_info_original",
    "id": "4005a8cd0736483b84f669d7a4a7aa09",
    "idx": 24,
    "time": "2021-02-04T06:11:45.408Z",
    "type": "execution"
   },
   {
    "code": "# TEST\nfruit_info_original.shape",
    "id": "29b72437a6e244b08a82d36a9267080a",
    "idx": 25,
    "time": "2021-02-04T06:11:45.410Z",
    "type": "execution"
   },
   {
    "code": "# TEST\nfruit_info.shape",
    "id": "f87ed6a6034245b8b9e2d6cc8b7677dd",
    "idx": 26,
    "time": "2021-02-04T06:11:45.412Z",
    "type": "execution"
   },
   {
    "code": "# TEST\nfruit_info_original.columns",
    "id": "5af6c5e3db2e45738ac874dcad581fb5",
    "idx": 27,
    "time": "2021-02-04T06:11:45.413Z",
    "type": "execution"
   },
   {
    "code": "# BEGIN SOLUTION\nfruit_info_caps = fruit_info_original.rename(columns = {\"color\": \"Color\", \"fruit\": \"Fruit\"})\n# END SOLUTION\nfruit_info_caps",
    "id": "7f64cdafa00e4a4e894153d5cbd6e496",
    "idx": 29,
    "time": "2021-02-04T06:11:45.415Z",
    "type": "execution"
   },
   {
    "code": "# TEST\nfruit_info_caps.columns",
    "id": "2a3ceaca6a434b4386b12a4698df973b",
    "idx": 30,
    "time": "2021-02-04T06:11:45.418Z",
    "type": "execution"
   },
   {
    "code": "# TEST\nfruit_info.columns",
    "id": "eaef8dfb97854da1baaca66feabc7205",
    "idx": 31,
    "time": "2021-02-04T06:11:45.420Z",
    "type": "execution"
   },
   {
    "code": "import requests\nfrom pathlib import Path\n\ndef fetch_and_cache(data_url, file, data_dir=\"data\", force=False):\n    \"\"\"\n    Download and cache a url and return the file object.\n    \n    data_url: the web address to download\n    file: the file in which to save the results.\n    data_dir: (default=\"data\") the location to save the data\n    force: if true the file is always re-downloaded \n    \n    return: The pathlib.Path to the file.\n    \"\"\"\n    data_dir = Path(data_dir)\n    data_dir.mkdir(exist_ok=True)\n    file_path = data_dir/Path(file)\n    if force and file_path.exists():\n        file_path.unlink()\n    if force or not file_path.exists():\n        print('Downloading...', end=' ')\n        resp = requests.get(data_url)\n        with file_path.open('wb') as f:\n            f.write(resp.content)\n        print('Done!')\n    else:\n        import time \n        created = time.ctime(file_path.stat().st_ctime)\n        print(\"Using cached version downloaded at\", created)\n    return file_path",
    "id": "63d3ab13114b4b6e819ff65fcf362d74",
    "idx": 34,
    "time": "2021-02-04T06:11:45.422Z",
    "type": "execution"
   },
   {
    "code": "data_url = 'https://www.ssa.gov/oact/babynames/state/namesbystate.zip'\nnamesbystate_path = fetch_and_cache(data_url, 'namesbystate.zip')",
    "id": "f207397687034c5f8b4a2f8e15bcb721",
    "idx": 37,
    "time": "2021-02-04T06:11:45.425Z",
    "type": "execution"
   },
   {
    "code": "import zipfile\nzf = zipfile.ZipFile(namesbystate_path, 'r')\n\ncolumn_labels = ['State', 'Sex', 'Year', 'Name', 'Count']\n\ndef load_dataframe_from_zip(zf, f):\n    with zf.open(f) as fh: \n        return pd.read_csv(fh, header=None, names=column_labels)\n\nstates = [\n    load_dataframe_from_zip(zf, f)\n    for f in sorted(zf.filelist, key=lambda x:x.filename) \n    if f.filename.endswith('.TXT')\n]\n\nbaby_names = states[0]\nfor state_df in states[1:]:\n    baby_names = pd.concat([baby_names, state_df])\nbaby_names = baby_names.reset_index().iloc[:, 1:]",
    "id": "a778ab8acba7449d80bb965107a41527",
    "idx": 39,
    "time": "2021-02-04T06:11:45.428Z",
    "type": "execution"
   },
   {
    "code": "len(baby_names)",
    "id": "8a8b144a3188497e8f6df5c6751d1d01",
    "idx": 40,
    "time": "2021-02-04T06:11:45.430Z",
    "type": "execution"
   },
   {
    "code": "baby_names.head()",
    "id": "da6b44ee1bb54cfb8bb2af5e51080a40",
    "idx": 41,
    "time": "2021-02-04T06:11:45.432Z",
    "type": "execution"
   },
   {
    "code": "baby_names.loc[2:5, 'Name']",
    "id": "cf5287ba3b444a52bc35ec697f427c3f",
    "idx": 44,
    "time": "2021-02-04T06:11:45.434Z",
    "type": "execution"
   },
   {
    "code": "baby_names.loc[2:5, ['Name']]",
    "id": "a2aefb4fa3994c29a7bd8774c038050a",
    "idx": 46,
    "time": "2021-02-04T06:11:45.436Z",
    "type": "execution"
   },
   {
    "code": "sorted_baby_names = baby_names.sort_values(by = ['Name'])\nsorted_baby_names.head()",
    "id": "ae026b7288474acb983abccae3510498",
    "idx": 50,
    "time": "2021-02-04T06:11:45.439Z",
    "type": "execution"
   },
   {
    "code": "sorted_baby_names.iloc[1:4, 3]",
    "id": "bcc61f8c8f74493e9107abf166172b11",
    "idx": 52,
    "time": "2021-02-04T06:11:45.441Z",
    "type": "execution"
   },
   {
    "code": "sorted_baby_names.loc[1:4, \"Name\"]",
    "id": "6e69f803fa9840a389aeb7c423029445",
    "idx": 54,
    "time": "2021-02-04T06:11:45.444Z",
    "type": "execution"
   },
   {
    "code": "df = baby_names[:5].set_index(\"Name\") \ndf",
    "id": "3a56ae28c17e4d52943afb9d921a7618",
    "idx": 56,
    "time": "2021-02-04T06:11:45.446Z",
    "type": "execution"
   },
   {
    "code": "df.loc[['Mary', 'Anna'], :]",
    "id": "fb9476fce6ee4e1782f6f27ad47365bf",
    "idx": 58,
    "time": "2021-02-04T06:11:45.448Z",
    "type": "execution"
   },
   {
    "code": "#Example: \ndf.iloc[1:4, 2:3]",
    "id": "3a477500e29643338cec5d1212fed7aa",
    "idx": 60,
    "time": "2021-02-04T06:11:45.450Z",
    "type": "execution"
   },
   {
    "code": "name_and_year = baby_names.loc[:, ['Name', 'Year']] # SOLUTION\nname_and_year[:5]",
    "id": "a7e16e6056ea4a6693958d1f2b88711e",
    "idx": 62,
    "time": "2021-02-04T06:11:45.452Z",
    "type": "execution"
   },
   {
    "code": "# TEST\nname_and_year.shape",
    "id": "2e4137707420479a97528fe4fe515595",
    "idx": 63,
    "time": "2021-02-04T06:11:45.454Z",
    "type": "execution"
   },
   {
    "code": "# TEST\nname_and_year.loc[0, \"Name\"]",
    "id": "0d6610be7fe74645aeecb59a54fd77bb",
    "idx": 64,
    "time": "2021-02-04T06:11:45.457Z",
    "type": "execution"
   },
   {
    "code": "# TEST\nname_and_year.loc[0, \"Year\"]",
    "id": "fd48d8f2e1974853863843cf10275189",
    "idx": 65,
    "time": "2021-02-04T06:11:45.459Z",
    "type": "execution"
   },
   {
    "code": "ca = baby_names[baby_names['State'] == 'CA']",
    "id": "a3e0cf9a9dd7492788e751b86652b1b2",
    "idx": 70,
    "time": "2021-02-04T06:11:45.462Z",
    "type": "execution"
   },
   {
    "code": "result = baby_names[(baby_names[\"Year\"] == 2000) & (baby_names[\"Count\"] > 3000)] # SOLUTION\nresult.head()",
    "id": "c91db35e7f494def884e30a051a0d933",
    "idx": 72,
    "time": "2021-02-04T06:11:45.465Z",
    "type": "execution"
   },
   {
    "code": "# TEST\nlen(result)",
    "id": "40b721184986425aaf3817abd2c78fa3",
    "idx": 73,
    "time": "2021-02-04T06:11:45.467Z",
    "type": "execution"
   },
   {
    "code": "# TEST\nresult[\"Count\"].sum()",
    "id": "8ffe1d10dbba47309057a0cace474bbd",
    "idx": 74,
    "time": "2021-02-04T06:11:45.468Z",
    "type": "execution"
   },
   {
    "code": "# TEST\nresult[\"Count\"].iloc[0]",
    "id": "8f96b3c7aa8543c99b91f6e27dcaa747",
    "idx": 75,
    "time": "2021-02-04T06:11:45.470Z",
    "type": "execution"
   },
   {
    "code": "result_using_query = baby_names.query('Year == 2000 and Count > 3000') # SOLUTION",
    "id": "8e595c183af847fcb82f803009554050",
    "idx": 77,
    "time": "2021-02-04T06:11:45.472Z",
    "type": "execution"
   },
   {
    "code": "hillary_baby_name = baby_names[(baby_names['Name'] == 'Hillary') & (baby_names['State'] == 'CA') & (baby_names['Sex'] == 'F')]\nplt.plot(hillary_baby_name['Year'], hillary_baby_name['Count'])\nplt.title(\"Hillary Popularity Over Time\")\nplt.xlabel('Year')\nplt.ylabel('Count');",
    "id": "782f8dd75bb5465c9f9747207d957976",
    "idx": 79,
    "time": "2021-02-04T06:11:45.474Z",
    "type": "execution"
   },
   {
    "code": "counts_aggregated_by_name_and_year = baby_names.groupby([\"Name\", \"Year\"])[\"Count\"].sum().reset_index()",
    "id": "b3d80c91c78a4f519edf182b05b66da7",
    "idx": 83,
    "time": "2021-02-04T06:11:45.477Z",
    "type": "execution"
   },
   {
    "code": "name_of_interest = 'Hillary'\nchosen_baby_name = counts_aggregated_by_name_and_year.query(\"Name == @name_of_interest\")\nplt.plot(chosen_baby_name['Year'], chosen_baby_name['Count'])\nplt.title(f\"Popularity Of {name_of_interest} Over Time\")\nplt.xlabel('Year')\nplt.ylabel('Count');",
    "id": "3460874f61af429d830cb523c58bb28d",
    "idx": 84,
    "time": "2021-02-04T06:11:45.479Z",
    "type": "execution"
   },
   {
    "id": "c74b74335be74cafb2cef0506bdd09e8",
    "time": "2021-02-04T06:11:46.188Z",
    "type": "completion"
   },
   {
    "id": "e40f850fc57243dcb308d7631949f4a9",
    "time": "2021-02-04T06:11:46.221Z",
    "type": "completion"
   },
   {
    "id": "18388906fbea4d2782b3484f8edb2555",
    "time": "2021-02-04T06:11:46.236Z",
    "type": "completion"
   },
   {
    "id": "e26d233852504737966a8a5871bfda0a",
    "time": "2021-02-04T06:11:46.242Z",
    "type": "completion"
   },
   {
    "id": "3adc33bfa92644529205f34611f7314c",
    "time": "2021-02-04T06:11:46.290Z",
    "type": "completion"
   },
   {
    "id": "2ee50d407b984d7b8646e599d3f356fa",
    "time": "2021-02-04T06:11:46.297Z",
    "type": "completion"
   },
   {
    "id": "7bccca9ee4b94cb38cd7a6e5a5bd1a68",
    "time": "2021-02-04T06:11:46.324Z",
    "type": "completion"
   },
   {
    "id": "bff72801da02409eb0a96b6f500771d7",
    "time": "2021-02-04T06:11:46.331Z",
    "type": "completion"
   },
   {
    "id": "883ff4981cb24ca18ea00872a38acb58",
    "time": "2021-02-04T06:11:46.358Z",
    "type": "completion"
   },
   {
    "id": "837110aeb4164d3184e5e1c9ba684704",
    "time": "2021-02-04T06:11:46.387Z",
    "type": "completion"
   },
   {
    "id": "7cca13836c6b4292bb180754e833a567",
    "time": "2021-02-04T06:11:46.409Z",
    "type": "completion"
   },
   {
    "id": "4005a8cd0736483b84f669d7a4a7aa09",
    "time": "2021-02-04T06:11:46.435Z",
    "type": "completion"
   },
   {
    "id": "29b72437a6e244b08a82d36a9267080a",
    "time": "2021-02-04T06:11:46.476Z",
    "type": "completion"
   },
   {
    "id": "f87ed6a6034245b8b9e2d6cc8b7677dd",
    "time": "2021-02-04T06:11:46.482Z",
    "type": "completion"
   },
   {
    "id": "5af6c5e3db2e45738ac874dcad581fb5",
    "time": "2021-02-04T06:11:46.484Z",
    "type": "completion"
   },
   {
    "id": "7f64cdafa00e4a4e894153d5cbd6e496",
    "time": "2021-02-04T06:11:46.508Z",
    "type": "completion"
   },
   {
    "id": "2a3ceaca6a434b4386b12a4698df973b",
    "time": "2021-02-04T06:11:46.570Z",
    "type": "completion"
   },
   {
    "id": "eaef8dfb97854da1baaca66feabc7205",
    "time": "2021-02-04T06:11:46.577Z",
    "type": "completion"
   },
   {
    "id": "63d3ab13114b4b6e819ff65fcf362d74",
    "time": "2021-02-04T06:11:46.679Z",
    "type": "completion"
   },
   {
    "id": "f207397687034c5f8b4a2f8e15bcb721",
    "time": "2021-02-04T06:11:46.701Z",
    "type": "completion"
   },
   {
    "code": "import numpy as np\nimport matplotlib.pyplot as plt\nimport pandas as pd\n%matplotlib inline",
    "id": "7b660a01249d442dbeb2ef32825c1099",
    "idx": 5,
    "time": "2021-02-04T06:13:56.664Z",
    "type": "execution"
   },
   {
    "code": "fruit_info = pd.DataFrame(\n    data = {'fruit': ['apple', 'orange', 'banana', 'raspberry'],\n          'color': ['red', 'orange', 'yellow', 'pink']\n          })\nfruit_info",
    "id": "92734850f06f431199903e7bef1ea3e8",
    "idx": 8,
    "time": "2021-02-04T06:13:56.671Z",
    "type": "execution"
   },
   {
    "code": "fruit_info2 = pd.DataFrame(\n    [(\"red\", \"apple\"), (\"orange\", \"orange\"), (\"yellow\", \"banana\"),\n     (\"pink\", \"raspberry\")], \n    columns = [\"color\", \"fruit\"])\nfruit_info2",
    "id": "c6847e7fe0c54438870be60ffc861917",
    "idx": 10,
    "time": "2021-02-04T06:13:56.674Z",
    "type": "execution"
   },
   {
    "code": "fruit_info.shape",
    "id": "59d1b18678484ad7ac570b4aaeaa4daf",
    "idx": 12,
    "time": "2021-02-04T06:13:56.678Z",
    "type": "execution"
   },
   {
    "code": "fruit_info.values",
    "id": "70e0ff20d2c64518a565a407c8d1630c",
    "idx": 14,
    "time": "2021-02-04T06:13:56.681Z",
    "type": "execution"
   },
   {
    "code": "# BEGIN SOLUTION\nfruit_info[\"rank1\"] = [2, 1, 4, 3]\n# END SOLUTION\nfruit_info",
    "id": "09a02498ec8e4b3c9a0f8e25464ba113",
    "idx": 16,
    "time": "2021-02-04T06:13:56.684Z",
    "type": "execution"
   },
   {
    "code": "# TEST \nfruit_info[\"rank1\"].dtype",
    "id": "01a96be3dcc94b01b5ceb884962eb97c",
    "idx": 17,
    "time": "2021-02-04T06:13:56.686Z",
    "type": "execution"
   },
   {
    "code": "# TEST\nsorted(fruit_info[\"rank1\"].dropna())",
    "id": "7ff3169084c14e1683391fb4df97e96a",
    "idx": 18,
    "time": "2021-02-04T06:13:56.689Z",
    "type": "execution"
   },
   {
    "code": "# BEGIN SOLUTION\nfruit_info.loc[:, \"rank2\"] = [2, 1, 4, 3]\n# END SOLUTION\nfruit_info",
    "id": "f494975da3284fb4891fb8ae1b48d62a",
    "idx": 20,
    "time": "2021-02-04T06:13:56.692Z",
    "type": "execution"
   },
   {
    "code": "# TEST \nfruit_info[\"rank2\"].dtype",
    "id": "827c8bfd11144c5f8227446c29f76584",
    "idx": 21,
    "time": "2021-02-04T06:13:56.694Z",
    "type": "execution"
   },
   {
    "code": "# TEST\nfruit_info[\"rank2\"] == fruit_info[\"rank1\"]",
    "id": "b6f3b1c43ee744ce8d44b9f2d1b3ff16",
    "idx": 22,
    "time": "2021-02-04T06:13:56.697Z",
    "type": "execution"
   },
   {
    "code": "fruit_info_original = fruit_info.drop([\"rank1\", \"rank2\"], axis = 1) # SOLUTION\nfruit_info_original",
    "id": "36682426fc7740a38df759fe0ec298ef",
    "idx": 24,
    "time": "2021-02-04T06:13:56.699Z",
    "type": "execution"
   },
   {
    "code": "# TEST\nfruit_info_original.shape",
    "id": "717f84764cd4424384e1b6fd4d7c315c",
    "idx": 25,
    "time": "2021-02-04T06:13:56.701Z",
    "type": "execution"
   },
   {
    "code": "# TEST\nfruit_info.shape",
    "id": "1ef51d36780d405f9a29940a5783e87c",
    "idx": 26,
    "time": "2021-02-04T06:13:56.703Z",
    "type": "execution"
   },
   {
    "code": "# TEST\nfruit_info_original.columns",
    "id": "8405ea93faf2469489566aa439c95462",
    "idx": 27,
    "time": "2021-02-04T06:13:56.706Z",
    "type": "execution"
   },
   {
    "code": "# BEGIN SOLUTION\nfruit_info_caps = fruit_info_original.rename(columns = {\"color\": \"Color\", \"fruit\": \"Fruit\"})\n# END SOLUTION\nfruit_info_caps",
    "id": "9e806901ae1b4c3b86b2ae666c382118",
    "idx": 29,
    "time": "2021-02-04T06:13:56.708Z",
    "type": "execution"
   },
   {
    "code": "# TEST\nfruit_info_caps.columns",
    "id": "8bf5aa1e84c549a9812a59adb54d9bdf",
    "idx": 30,
    "time": "2021-02-04T06:13:56.711Z",
    "type": "execution"
   },
   {
    "code": "# TEST\nfruit_info.columns",
    "id": "b8e9320a4d3f44fd988bafc76ff46c93",
    "idx": 31,
    "time": "2021-02-04T06:13:56.713Z",
    "type": "execution"
   },
   {
    "code": "import requests\nfrom pathlib import Path\n\ndef fetch_and_cache(data_url, file, data_dir=\"data\", force=False):\n    \"\"\"\n    Download and cache a url and return the file object.\n    \n    data_url: the web address to download\n    file: the file in which to save the results.\n    data_dir: (default=\"data\") the location to save the data\n    force: if true the file is always re-downloaded \n    \n    return: The pathlib.Path to the file.\n    \"\"\"\n    data_dir = Path(data_dir)\n    data_dir.mkdir(exist_ok=True)\n    file_path = data_dir/Path(file)\n    if force and file_path.exists():\n        file_path.unlink()\n    if force or not file_path.exists():\n        print('Downloading...', end=' ')\n        resp = requests.get(data_url)\n        with file_path.open('wb') as f:\n            f.write(resp.content)\n        print('Done!')\n    else:\n        import time \n        created = time.ctime(file_path.stat().st_ctime)\n        print(\"Using cached version downloaded at\", created)\n    return file_path",
    "id": "22c1d66c6f5a4af6851512cef0a85155",
    "idx": 34,
    "time": "2021-02-04T06:13:56.715Z",
    "type": "execution"
   },
   {
    "code": "data_url = 'https://www.ssa.gov/oact/babynames/state/namesbystate.zip'\nnamesbystate_path = fetch_and_cache(data_url, 'namesbystate.zip')",
    "id": "9f7fbe3bdff142aa89ff4d138ce63ff4",
    "idx": 37,
    "time": "2021-02-04T06:13:56.718Z",
    "type": "execution"
   },
   {
    "code": "import zipfile\nzf = zipfile.ZipFile(namesbystate_path, 'r')\n\ncolumn_labels = ['State', 'Sex', 'Year', 'Name', 'Count']\n\ndef load_dataframe_from_zip(zf, f):\n    with zf.open(f) as fh: \n        return pd.read_csv(fh, header=None, names=column_labels)\n\nstates = [\n    load_dataframe_from_zip(zf, f)\n    for f in sorted(zf.filelist, key=lambda x:x.filename) \n    if f.filename.endswith('.TXT')\n]\n\nbaby_names = states[0]\nfor state_df in states[1:]:\n    baby_names = pd.concat([baby_names, state_df])\nbaby_names = baby_names.reset_index().iloc[:, 1:]",
    "id": "63d6ba19a0874dca81f09b7655b273dd",
    "idx": 39,
    "time": "2021-02-04T06:13:56.721Z",
    "type": "execution"
   },
   {
    "code": "len(baby_names)",
    "id": "debd7b2ee0844bc3825df495bc233e05",
    "idx": 40,
    "time": "2021-02-04T06:13:56.723Z",
    "type": "execution"
   },
   {
    "code": "baby_names.head()",
    "id": "98c4022e1960468d857ce2068ffded9d",
    "idx": 41,
    "time": "2021-02-04T06:13:56.725Z",
    "type": "execution"
   },
   {
    "code": "baby_names.loc[2:5, 'Name']",
    "id": "a98a03b3e0da4979bdf0c20a76f305ea",
    "idx": 44,
    "time": "2021-02-04T06:13:56.729Z",
    "type": "execution"
   },
   {
    "code": "baby_names.loc[2:5, ['Name']]",
    "id": "ec6d1e0304ee4f18b45150174ba462ac",
    "idx": 46,
    "time": "2021-02-04T06:13:56.731Z",
    "type": "execution"
   },
   {
    "code": "sorted_baby_names = baby_names.sort_values(by = ['Name'])\nsorted_baby_names.head()",
    "id": "c29a829c0ae643d687758a3bd1ffdd0c",
    "idx": 50,
    "time": "2021-02-04T06:13:56.734Z",
    "type": "execution"
   },
   {
    "code": "sorted_baby_names.iloc[1:4, 3]",
    "id": "17240195b76d4610b43e835857f9eeea",
    "idx": 52,
    "time": "2021-02-04T06:13:56.736Z",
    "type": "execution"
   },
   {
    "code": "sorted_baby_names.loc[1:4, \"Name\"]",
    "id": "8a94f564ead24c6f828a494e22b421b7",
    "idx": 54,
    "time": "2021-02-04T06:13:56.739Z",
    "type": "execution"
   },
   {
    "code": "df = baby_names[:5].set_index(\"Name\") \ndf",
    "id": "43ca9f70efbb4ef780f6405f083dff4a",
    "idx": 56,
    "time": "2021-02-04T06:13:56.741Z",
    "type": "execution"
   },
   {
    "code": "df.loc[['Mary', 'Anna'], :]",
    "id": "4707d3773e8b4334815c35927e4dc54f",
    "idx": 58,
    "time": "2021-02-04T06:13:56.743Z",
    "type": "execution"
   },
   {
    "code": "#Example: \ndf.iloc[1:4, 2:3]",
    "id": "98bc07c468da497ca86bf2442189ce9e",
    "idx": 60,
    "time": "2021-02-04T06:13:56.747Z",
    "type": "execution"
   },
   {
    "code": "name_and_year = baby_names.loc[:, ['Name', 'Year']] # SOLUTION\nname_and_year[:5]",
    "id": "956873a920c54923b6bb7399d4da0f5a",
    "idx": 62,
    "time": "2021-02-04T06:13:56.749Z",
    "type": "execution"
   },
   {
    "code": "# TEST\nname_and_year.shape",
    "id": "22d1ce2b68904422b85ca89efaef865b",
    "idx": 63,
    "time": "2021-02-04T06:13:56.752Z",
    "type": "execution"
   },
   {
    "code": "# TEST\nname_and_year.loc[0, \"Name\"]",
    "id": "eeeb51a86d554bbe9da7ac986395c11a",
    "idx": 64,
    "time": "2021-02-04T06:13:56.754Z",
    "type": "execution"
   },
   {
    "code": "# TEST\nname_and_year.loc[0, \"Year\"]",
    "id": "6f615b773ec44441a664997ce8c726d3",
    "idx": 65,
    "time": "2021-02-04T06:13:56.759Z",
    "type": "execution"
   },
   {
    "code": "ca = baby_names[baby_names['State'] == 'CA']",
    "id": "fb2e3be7e93a4f64974d668d5d332f8b",
    "idx": 70,
    "time": "2021-02-04T06:13:56.762Z",
    "type": "execution"
   },
   {
    "code": "result = baby_names[(baby_names[\"Year\"] == 2000) & (baby_names[\"Count\"] > 3000)] # SOLUTION\nresult.head()",
    "id": "b1cc434a7e94432e8afc5ec431492c29",
    "idx": 72,
    "time": "2021-02-04T06:13:56.764Z",
    "type": "execution"
   },
   {
    "code": "# TEST\nlen(result)",
    "id": "25191514114140af87c10fb6920ab3a0",
    "idx": 73,
    "time": "2021-02-04T06:13:56.766Z",
    "type": "execution"
   },
   {
    "code": "# TEST\nresult[\"Count\"].sum()",
    "id": "86c535b956c341cc89e22369829564e5",
    "idx": 74,
    "time": "2021-02-04T06:13:56.768Z",
    "type": "execution"
   },
   {
    "code": "# TEST\nresult[\"Count\"].iloc[0]",
    "id": "8da6f9c06df74c878c9ed6febfab1ab5",
    "idx": 75,
    "time": "2021-02-04T06:13:56.770Z",
    "type": "execution"
   },
   {
    "code": "result_using_query = baby_names.query('Year == 2000 and Count > 3000') # SOLUTION",
    "id": "0049364fb3fa43808938d9a80385965a",
    "idx": 77,
    "time": "2021-02-04T06:13:56.773Z",
    "type": "execution"
   },
   {
    "code": "hillary_baby_name = baby_names[(baby_names['Name'] == 'Hillary') & (baby_names['State'] == 'CA') & (baby_names['Sex'] == 'F')]\nplt.plot(hillary_baby_name['Year'], hillary_baby_name['Count'])\nplt.title(\"Hillary Popularity Over Time\")\nplt.xlabel('Year')\nplt.ylabel('Count');",
    "id": "5c0f6a6fd44c483b893621fb0910cf47",
    "idx": 79,
    "time": "2021-02-04T06:13:56.775Z",
    "type": "execution"
   },
   {
    "code": "counts_aggregated_by_name_and_year = baby_names.groupby([\"Name\", \"Year\"])[\"Count\"].sum().reset_index()",
    "id": "5e989ba712f4418d92853449c0ceafe9",
    "idx": 83,
    "time": "2021-02-04T06:13:56.778Z",
    "type": "execution"
   },
   {
    "code": "name_of_interest = 'Hillary'\nchosen_baby_name = counts_aggregated_by_name_and_year.query(\"Name == @name_of_interest\")\nplt.plot(chosen_baby_name['Year'], chosen_baby_name['Count'])\nplt.title(f\"Popularity Of {name_of_interest} Over Time\")\nplt.xlabel('Year')\nplt.ylabel('Count');",
    "id": "d250f57c65424f4f9d0b5fc09178b043",
    "idx": 84,
    "time": "2021-02-04T06:13:56.779Z",
    "type": "execution"
   },
   {
    "id": "7b660a01249d442dbeb2ef32825c1099",
    "time": "2021-02-04T06:13:57.362Z",
    "type": "completion"
   },
   {
    "id": "92734850f06f431199903e7bef1ea3e8",
    "time": "2021-02-04T06:13:57.381Z",
    "type": "completion"
   },
   {
    "id": "c6847e7fe0c54438870be60ffc861917",
    "time": "2021-02-04T06:13:57.418Z",
    "type": "completion"
   },
   {
    "id": "59d1b18678484ad7ac570b4aaeaa4daf",
    "time": "2021-02-04T06:13:57.424Z",
    "type": "completion"
   },
   {
    "id": "70e0ff20d2c64518a565a407c8d1630c",
    "time": "2021-02-04T06:13:57.468Z",
    "type": "completion"
   },
   {
    "id": "09a02498ec8e4b3c9a0f8e25464ba113",
    "time": "2021-02-04T06:13:57.478Z",
    "type": "completion"
   },
   {
    "id": "01a96be3dcc94b01b5ceb884962eb97c",
    "time": "2021-02-04T06:13:57.523Z",
    "type": "completion"
   },
   {
    "id": "7ff3169084c14e1683391fb4df97e96a",
    "time": "2021-02-04T06:13:57.527Z",
    "type": "completion"
   },
   {
    "id": "f494975da3284fb4891fb8ae1b48d62a",
    "time": "2021-02-04T06:13:57.576Z",
    "type": "completion"
   },
   {
    "id": "827c8bfd11144c5f8227446c29f76584",
    "time": "2021-02-04T06:13:57.580Z",
    "type": "completion"
   },
   {
    "id": "b6f3b1c43ee744ce8d44b9f2d1b3ff16",
    "time": "2021-02-04T06:13:57.604Z",
    "type": "completion"
   },
   {
    "id": "36682426fc7740a38df759fe0ec298ef",
    "time": "2021-02-04T06:13:57.629Z",
    "type": "completion"
   },
   {
    "id": "717f84764cd4424384e1b6fd4d7c315c",
    "time": "2021-02-04T06:13:57.654Z",
    "type": "completion"
   },
   {
    "id": "1ef51d36780d405f9a29940a5783e87c",
    "time": "2021-02-04T06:13:57.678Z",
    "type": "completion"
   },
   {
    "id": "8405ea93faf2469489566aa439c95462",
    "time": "2021-02-04T06:13:57.682Z",
    "type": "completion"
   },
   {
    "id": "9e806901ae1b4c3b86b2ae666c382118",
    "time": "2021-02-04T06:13:57.714Z",
    "type": "completion"
   },
   {
    "id": "8bf5aa1e84c549a9812a59adb54d9bdf",
    "time": "2021-02-04T06:13:57.741Z",
    "type": "completion"
   },
   {
    "id": "b8e9320a4d3f44fd988bafc76ff46c93",
    "time": "2021-02-04T06:13:57.743Z",
    "type": "completion"
   },
   {
    "id": "22c1d66c6f5a4af6851512cef0a85155",
    "time": "2021-02-04T06:13:57.817Z",
    "type": "completion"
   },
   {
    "id": "9f7fbe3bdff142aa89ff4d138ce63ff4",
    "time": "2021-02-04T06:14:07.599Z",
    "type": "completion"
   },
   {
    "id": "63d6ba19a0874dca81f09b7655b273dd",
    "time": "2021-02-04T06:14:48.579Z",
    "type": "completion"
   },
   {
    "id": "debd7b2ee0844bc3825df495bc233e05",
    "time": "2021-02-04T06:14:48.583Z",
    "type": "completion"
   },
   {
    "id": "98c4022e1960468d857ce2068ffded9d",
    "time": "2021-02-04T06:14:48.614Z",
    "type": "completion"
   },
   {
    "id": "a98a03b3e0da4979bdf0c20a76f305ea",
    "time": "2021-02-04T06:14:48.618Z",
    "type": "completion"
   },
   {
    "id": "ec6d1e0304ee4f18b45150174ba462ac",
    "time": "2021-02-04T06:14:48.626Z",
    "type": "completion"
   },
   {
    "id": "c29a829c0ae643d687758a3bd1ffdd0c",
    "time": "2021-02-04T06:15:07.634Z",
    "type": "completion"
   },
   {
    "id": "17240195b76d4610b43e835857f9eeea",
    "time": "2021-02-04T06:15:07.640Z",
    "type": "completion"
   },
   {
    "id": "8a94f564ead24c6f828a494e22b421b7",
    "time": "2021-02-04T06:15:08.448Z",
    "type": "completion"
   },
   {
    "id": "43ca9f70efbb4ef780f6405f083dff4a",
    "time": "2021-02-04T06:15:08.453Z",
    "type": "completion"
   },
   {
    "id": "4707d3773e8b4334815c35927e4dc54f",
    "time": "2021-02-04T06:15:08.479Z",
    "type": "completion"
   },
   {
    "id": "98bc07c468da497ca86bf2442189ce9e",
    "time": "2021-02-04T06:15:08.482Z",
    "type": "completion"
   },
   {
    "id": "956873a920c54923b6bb7399d4da0f5a",
    "time": "2021-02-04T06:15:08.585Z",
    "type": "completion"
   },
   {
    "id": "22d1ce2b68904422b85ca89efaef865b",
    "time": "2021-02-04T06:15:08.610Z",
    "type": "completion"
   },
   {
    "id": "eeeb51a86d554bbe9da7ac986395c11a",
    "time": "2021-02-04T06:15:08.659Z",
    "type": "completion"
   },
   {
    "id": "6f615b773ec44441a664997ce8c726d3",
    "time": "2021-02-04T06:15:08.662Z",
    "type": "completion"
   },
   {
    "id": "fb2e3be7e93a4f64974d668d5d332f8b",
    "time": "2021-02-04T06:15:09.160Z",
    "type": "completion"
   },
   {
    "id": "b1cc434a7e94432e8afc5ec431492c29",
    "time": "2021-02-04T06:15:09.191Z",
    "type": "completion"
   },
   {
    "id": "25191514114140af87c10fb6920ab3a0",
    "time": "2021-02-04T06:15:09.217Z",
    "type": "completion"
   },
   {
    "id": "86c535b956c341cc89e22369829564e5",
    "time": "2021-02-04T06:15:09.253Z",
    "type": "completion"
   },
   {
    "id": "8da6f9c06df74c878c9ed6febfab1ab5",
    "time": "2021-02-04T06:15:09.289Z",
    "type": "completion"
   },
   {
    "id": "0049364fb3fa43808938d9a80385965a",
    "time": "2021-02-04T06:15:09.469Z",
    "type": "completion"
   },
   {
    "id": "5c0f6a6fd44c483b893621fb0910cf47",
    "time": "2021-02-04T06:15:10.960Z",
    "type": "completion"
   },
   {
    "id": "5e989ba712f4418d92853449c0ceafe9",
    "time": "2021-02-04T06:15:14.163Z",
    "type": "completion"
   },
   {
    "id": "d250f57c65424f4f9d0b5fc09178b043",
    "time": "2021-02-04T06:15:14.431Z",
    "type": "completion"
   },
   {
    "code": "# Initialize Otter\nimport otter\ngrader = otter.Notebook(\"lab03.ipynb\")",
    "id": "b6a8b6fbf04446de86fc8fffc8444a39",
    "idx": 0,
    "time": "2021-02-04T06:25:11.440Z",
    "type": "execution"
   },
   {
    "id": "b6a8b6fbf04446de86fc8fffc8444a39",
    "time": "2021-02-04T06:25:12.420Z",
    "type": "completion"
   },
   {
    "code": "import numpy as np\nimport matplotlib.pyplot as plt\nimport pandas as pd\n%matplotlib inline",
    "id": "f8d9b55f49b04c3781e90acdba2ce88a",
    "idx": 5,
    "time": "2021-02-04T06:26:50.309Z",
    "type": "execution"
   },
   {
    "id": "f8d9b55f49b04c3781e90acdba2ce88a",
    "time": "2021-02-04T06:26:50.586Z",
    "type": "completion"
   },
   {
    "code": "fruit_info = pd.DataFrame(\n    data = {'fruit': ['apple', 'orange', 'banana', 'raspberry'],\n          'color': ['red', 'orange', 'yellow', 'pink']\n          })\nfruit_info",
    "id": "e458cff7961d4ce9bf9f70f9ebcd3c04",
    "idx": 8,
    "time": "2021-02-04T06:27:20.356Z",
    "type": "execution"
   },
   {
    "id": "e458cff7961d4ce9bf9f70f9ebcd3c04",
    "time": "2021-02-04T06:27:20.563Z",
    "type": "completion"
   },
   {
    "code": "fruit_info = pd.DataFrame(\n    data = {'fruit': ['apple', 'orange', 'banana', 'raspberry'],\n          'color': ['red', 'orange', 'yellow', 'pink']\n          })\nfruit_info",
    "id": "e458cff7961d4ce9bf9f70f9ebcd3c04",
    "idx": 8,
    "time": "2021-02-04T06:27:57.224Z",
    "type": "execution"
   },
   {
    "id": "e458cff7961d4ce9bf9f70f9ebcd3c04",
    "time": "2021-02-04T06:27:57.329Z",
    "type": "completion"
   },
   {
    "code": "fruit_info2 = pd.DataFrame(\n    [(\"red\", \"apple\"), (\"orange\", \"orange\"), (\"yellow\", \"banana\"),\n     (\"pink\", \"raspberry\")], \n    columns = [\"color\", \"fruit\"])\nfruit_info2",
    "id": "c9e2ac5e8d22433a8150adad85d1bcff",
    "idx": 10,
    "time": "2021-02-04T06:28:02.540Z",
    "type": "execution"
   },
   {
    "id": "c9e2ac5e8d22433a8150adad85d1bcff",
    "time": "2021-02-04T06:28:02.624Z",
    "type": "completion"
   },
   {
    "code": "fruit_info2 = pd.DataFrame(\n    [(\"red\", \"apple\"), (\"orange\", \"orange\"), (\"yellow\", \"banana\"),\n     (\"pink\", \"raspberry\")], \n    columns = [\"color\", \"fruit\"])\nfruit_info2",
    "id": "c9e2ac5e8d22433a8150adad85d1bcff",
    "idx": 10,
    "time": "2021-02-04T06:28:28.076Z",
    "type": "execution"
   },
   {
    "id": "c9e2ac5e8d22433a8150adad85d1bcff",
    "time": "2021-02-04T06:28:28.147Z",
    "type": "completion"
   },
   {
    "code": "fruit_info2 = pd.DataFrame(\n    [(\"red\", \"apple\"), (\"orange\", \"orange\"), (\"yellow\", \"banana\"),\n     (\"pink\", \"raspberry\")], \n    columns = [\"color\", \"fruit\"])\nfruit_info2",
    "id": "c9e2ac5e8d22433a8150adad85d1bcff",
    "idx": 10,
    "time": "2021-02-04T06:28:49.215Z",
    "type": "execution"
   },
   {
    "id": "c9e2ac5e8d22433a8150adad85d1bcff",
    "time": "2021-02-04T06:28:49.279Z",
    "type": "completion"
   },
   {
    "code": "fruit_info.shape",
    "id": "04fcd9a06bbd478e9c6a671efe258b0f",
    "idx": 12,
    "time": "2021-02-04T06:28:50.707Z",
    "type": "execution"
   },
   {
    "id": "04fcd9a06bbd478e9c6a671efe258b0f",
    "time": "2021-02-04T06:28:50.797Z",
    "type": "completion"
   },
   {
    "code": "fruit_info.values",
    "id": "a397bf88565f47e195e92ae089538956",
    "idx": 14,
    "time": "2021-02-04T06:29:00.831Z",
    "type": "execution"
   },
   {
    "id": "a397bf88565f47e195e92ae089538956",
    "time": "2021-02-04T06:29:00.940Z",
    "type": "completion"
   },
   {
    "code": "fruit_info['rank1'] = [3,2,4,1]\nfruit_info",
    "id": "bbe674f82e3647968d5b0797e746b1f2",
    "idx": 16,
    "time": "2021-02-04T06:31:07.855Z",
    "type": "execution"
   },
   {
    "id": "bbe674f82e3647968d5b0797e746b1f2",
    "time": "2021-02-04T06:31:07.939Z",
    "type": "completion"
   },
   {
    "code": "grader.check(\"q1a\")",
    "id": "604d38f0dee24af187a171a1073e8c7a",
    "idx": 17,
    "time": "2021-02-04T06:31:08.259Z",
    "type": "execution"
   },
   {
    "id": "604d38f0dee24af187a171a1073e8c7a",
    "time": "2021-02-04T06:31:08.337Z",
    "type": "completion"
   },
   {
    "code": "fruit_info['rank1'] = [3,2,4,'123123']\nfruit_info",
    "id": "bbe674f82e3647968d5b0797e746b1f2",
    "idx": 16,
    "time": "2021-02-04T06:31:35.181Z",
    "type": "execution"
   },
   {
    "id": "bbe674f82e3647968d5b0797e746b1f2",
    "time": "2021-02-04T06:31:35.281Z",
    "type": "completion"
   },
   {
    "code": "grader.check(\"q1a\")",
    "id": "604d38f0dee24af187a171a1073e8c7a",
    "idx": 17,
    "time": "2021-02-04T06:31:35.322Z",
    "type": "execution"
   },
   {
    "id": "604d38f0dee24af187a171a1073e8c7a",
    "time": "2021-02-04T06:31:35.416Z",
    "type": "completion"
   },
   {
    "code": "fruit_info['rank1'] = [3,2,4,1]\nfruit_info",
    "id": "bbe674f82e3647968d5b0797e746b1f2",
    "idx": 16,
    "time": "2021-02-04T06:31:49.216Z",
    "type": "execution"
   },
   {
    "id": "bbe674f82e3647968d5b0797e746b1f2",
    "time": "2021-02-04T06:31:49.295Z",
    "type": "completion"
   },
   {
    "code": "grader.check(\"q1a\")",
    "id": "604d38f0dee24af187a171a1073e8c7a",
    "idx": 17,
    "time": "2021-02-04T06:31:49.627Z",
    "type": "execution"
   },
   {
    "id": "604d38f0dee24af187a171a1073e8c7a",
    "time": "2021-02-04T06:31:49.705Z",
    "type": "completion"
   },
   {
    "code": "fruit_info.loc[:, 'rank2'] = [3,2,4,1]\nfruit_info",
    "id": "254f260361e449db8fdc939ad5ebb3f3",
    "idx": 19,
    "time": "2021-02-04T06:32:12.358Z",
    "type": "execution"
   },
   {
    "id": "254f260361e449db8fdc939ad5ebb3f3",
    "time": "2021-02-04T06:32:12.425Z",
    "type": "completion"
   },
   {
    "code": "grader.check(\"q1b\")",
    "id": "9e992d5017f34c3c843d4a7e07c438cd",
    "idx": 20,
    "time": "2021-02-04T06:32:12.674Z",
    "type": "execution"
   },
   {
    "id": "9e992d5017f34c3c843d4a7e07c438cd",
    "time": "2021-02-04T06:32:12.776Z",
    "type": "completion"
   },
   {
    "code": "fruit_info.drop(['rank1', 'rank2'])",
    "id": "3c55959fbedc435c86762feca3c34282",
    "idx": 22,
    "time": "2021-02-04T06:33:28.044Z",
    "type": "execution"
   },
   {
    "id": "3c55959fbedc435c86762feca3c34282",
    "time": "2021-02-04T06:33:28.373Z",
    "type": "completion"
   },
   {
    "code": "fruit_info.drop(['rank1', 'rank2'], axis = 1)",
    "id": "3c55959fbedc435c86762feca3c34282",
    "idx": 22,
    "time": "2021-02-04T06:34:18.461Z",
    "type": "execution"
   },
   {
    "id": "3c55959fbedc435c86762feca3c34282",
    "time": "2021-02-04T06:34:18.526Z",
    "type": "completion"
   },
   {
    "code": "fruit_info",
    "id": "c7a86c8e960740538879b7529559a19d",
    "idx": 22,
    "time": "2021-02-04T06:34:40.805Z",
    "type": "execution"
   },
   {
    "id": "c7a86c8e960740538879b7529559a19d",
    "time": "2021-02-04T06:34:40.881Z",
    "type": "completion"
   },
   {
    "code": "fruit_info_original = fruit_info.drop(['rank1', 'rank2'], axis = 1)\nfruit_info_original",
    "id": "0291d1f8fcb048e28b0de17a963eb613",
    "idx": 22,
    "time": "2021-02-04T06:35:22.304Z",
    "type": "execution"
   },
   {
    "id": "0291d1f8fcb048e28b0de17a963eb613",
    "time": "2021-02-04T06:35:22.401Z",
    "type": "completion"
   },
   {
    "code": "grader.check(\"q2\")",
    "id": "1cf8f7b52e7e41ad8693bb8bbfa4acf5",
    "idx": 23,
    "time": "2021-02-04T06:35:22.866Z",
    "type": "execution"
   },
   {
    "id": "1cf8f7b52e7e41ad8693bb8bbfa4acf5",
    "time": "2021-02-04T06:35:22.939Z",
    "type": "completion"
   },
   {
    "code": "fruit_info_caps = fruit_info_original.rename(columns = {'fruit': 'Fruit', 'color': 'Color'})\nfruit_info_caps",
    "id": "6cbd00852f4d4cf991d46558203811d2",
    "idx": 25,
    "time": "2021-02-04T06:37:19.299Z",
    "type": "execution"
   },
   {
    "id": "6cbd00852f4d4cf991d46558203811d2",
    "time": "2021-02-04T06:37:19.505Z",
    "type": "completion"
   },
   {
    "code": "fruit_info_original",
    "id": "bd70378c0e044d8ba9a77b8d0740fe1a",
    "idx": 25,
    "time": "2021-02-04T06:37:37.351Z",
    "type": "execution"
   },
   {
    "id": "bd70378c0e044d8ba9a77b8d0740fe1a",
    "time": "2021-02-04T06:37:37.443Z",
    "type": "completion"
   },
   {
    "code": "fruit_info_caps = fruit_info_original.rename(columns = {'fruit': 'Fruit', 'color': 'Color'})\nfruit_info_caps",
    "id": "6cbd00852f4d4cf991d46558203811d2",
    "idx": 25,
    "time": "2021-02-04T06:37:45.899Z",
    "type": "execution"
   },
   {
    "id": "6cbd00852f4d4cf991d46558203811d2",
    "time": "2021-02-04T06:37:45.999Z",
    "type": "completion"
   },
   {
    "code": "grader.check(\"q3\")",
    "id": "1d361fd737e94f3a9bc3e237a237f8ce",
    "idx": 26,
    "time": "2021-02-04T06:37:46.964Z",
    "type": "execution"
   },
   {
    "id": "1d361fd737e94f3a9bc3e237a237f8ce",
    "time": "2021-02-04T06:37:47.057Z",
    "type": "completion"
   },
   {
    "code": "import requests\nfrom pathlib import Path\n\ndef fetch_and_cache(data_url, file, data_dir=\"data\", force=False):\n    \"\"\"\n    Download and cache a url and return the file object.\n    \n    data_url: the web address to download\n    file: the file in which to save the results.\n    data_dir: (default=\"data\") the location to save the data\n    force: if true the file is always re-downloaded \n    \n    return: The pathlib.Path to the file.\n    \"\"\"\n    data_dir = Path(data_dir)\n    data_dir.mkdir(exist_ok=True)\n    file_path = data_dir/Path(file)\n    if force and file_path.exists():\n        file_path.unlink()\n    if force or not file_path.exists():\n        print('Downloading...', end=' ')\n        resp = requests.get(data_url)\n        with file_path.open('wb') as f:\n            f.write(resp.content)\n        print('Done!')\n    else:\n        import time \n        created = time.ctime(file_path.stat().st_ctime)\n        print(\"Using cached version downloaded at\", created)\n    return file_path",
    "id": "51284ca4108044928817751de73fce9b",
    "idx": 29,
    "time": "2021-02-04T06:38:33.099Z",
    "type": "execution"
   },
   {
    "id": "51284ca4108044928817751de73fce9b",
    "time": "2021-02-04T06:38:33.159Z",
    "type": "completion"
   },
   {
    "code": "import requests\nfrom pathlib import Path\n\ndef fetch_and_cache(data_url, file, data_dir=\"data\", force=False):\n    \"\"\"\n    Download and cache a url and return the file object.\n    \n    data_url: the web address to download\n    file: the file in which to save the results.\n    data_dir: (default=\"data\") the location to save the data\n    force: if true the file is always re-downloaded \n    \n    return: The pathlib.Path to the file.\n    \"\"\"\n    data_dir = Path(data_dir)\n    data_dir.mkdir(exist_ok=True)\n    file_path = data_dir/Path(file)\n    if force and file_path.exists():\n        file_path.unlink()\n    if force or not file_path.exists():\n        print('Downloading...', end=' ')\n        resp = requests.get(data_url)\n        with file_path.open('wb') as f:\n            f.write(resp.content)\n        print('Done!')\n    else:\n        import time \n        created = time.ctime(file_path.stat().st_ctime)\n        print(\"Using cached version downloaded at\", created)\n    return file_path",
    "id": "51284ca4108044928817751de73fce9b",
    "idx": 29,
    "time": "2021-02-04T06:39:12.038Z",
    "type": "execution"
   },
   {
    "id": "51284ca4108044928817751de73fce9b",
    "time": "2021-02-04T06:39:12.098Z",
    "type": "completion"
   },
   {
    "code": "data_url = 'https://www.ssa.gov/oact/babynames/state/namesbystate.zip'\nnamesbystate_path = fetch_and_cache(data_url, 'namesbystate.zip')",
    "id": "75f25e8ef35b49f48012eea862539e8b",
    "idx": 32,
    "time": "2021-02-04T06:39:33.471Z",
    "type": "execution"
   },
   {
    "id": "75f25e8ef35b49f48012eea862539e8b",
    "time": "2021-02-04T06:39:43.366Z",
    "type": "completion"
   },
   {
    "code": "import zipfile\nzf = zipfile.ZipFile(namesbystate_path, 'r')\n\ncolumn_labels = ['State', 'Sex', 'Year', 'Name', 'Count']\n\ndef load_dataframe_from_zip(zf, f):\n    with zf.open(f) as fh: \n        return pd.read_csv(fh, header=None, names=column_labels)\n\nstates = [\n    load_dataframe_from_zip(zf, f)\n    for f in sorted(zf.filelist, key=lambda x:x.filename) \n    if f.filename.endswith('.TXT')\n]\n\nbaby_names = states[0]\nfor state_df in states[1:]:\n    baby_names = pd.concat([baby_names, state_df])\nbaby_names = baby_names.reset_index().iloc[:, 1:]",
    "id": "dde28bed134c40c78cbdc8472f605e87",
    "idx": 34,
    "time": "2021-02-04T06:40:08.408Z",
    "type": "execution"
   },
   {
    "id": "dde28bed134c40c78cbdc8472f605e87",
    "time": "2021-02-04T06:40:48.165Z",
    "type": "completion"
   },
   {
    "code": "len(baby_names)",
    "id": "d35a965eab44456eb13afc99e904fb0c",
    "idx": 35,
    "time": "2021-02-04T06:40:56.451Z",
    "type": "execution"
   },
   {
    "id": "d35a965eab44456eb13afc99e904fb0c",
    "time": "2021-02-04T06:40:56.581Z",
    "type": "completion"
   },
   {
    "code": "baby_names.head()",
    "id": "fb9b5d1b48294c978d801323a9d07299",
    "idx": 36,
    "time": "2021-02-04T06:41:07.585Z",
    "type": "execution"
   },
   {
    "id": "fb9b5d1b48294c978d801323a9d07299",
    "time": "2021-02-04T06:41:07.662Z",
    "type": "completion"
   },
   {
    "code": "baby_names.head()",
    "id": "fb9b5d1b48294c978d801323a9d07299",
    "idx": 36,
    "time": "2021-02-04T06:41:34.323Z",
    "type": "execution"
   },
   {
    "id": "fb9b5d1b48294c978d801323a9d07299",
    "time": "2021-02-04T06:41:34.413Z",
    "type": "completion"
   },
   {
    "code": "baby_names.loc[2:5, 'Name']",
    "id": "07509236c7f54793891388a97ea22404",
    "idx": 39,
    "time": "2021-02-04T06:42:44.695Z",
    "type": "execution"
   },
   {
    "id": "07509236c7f54793891388a97ea22404",
    "time": "2021-02-04T06:42:44.767Z",
    "type": "completion"
   },
   {
    "code": "baby_names.loc[2:5, 'Name']",
    "id": "07509236c7f54793891388a97ea22404",
    "idx": 39,
    "time": "2021-02-04T06:43:14.223Z",
    "type": "execution"
   },
   {
    "id": "07509236c7f54793891388a97ea22404",
    "time": "2021-02-04T06:43:14.288Z",
    "type": "completion"
   },
   {
    "code": "baby_names.loc[2:5, ['Name']]",
    "id": "ecba5e9ce6854afc831e0b31005f1caa",
    "idx": 41,
    "time": "2021-02-04T06:43:15.348Z",
    "type": "execution"
   },
   {
    "id": "ecba5e9ce6854afc831e0b31005f1caa",
    "time": "2021-02-04T06:43:15.442Z",
    "type": "completion"
   },
   {
    "code": "sorted_baby_names = baby_names.sort_values(by = ['Name'])\nsorted_baby_names.head()",
    "id": "d18ad3478e8948cd96046d20f147cb43",
    "idx": 45,
    "time": "2021-02-04T06:45:32.687Z",
    "type": "execution"
   },
   {
    "id": "d18ad3478e8948cd96046d20f147cb43",
    "time": "2021-02-04T06:45:49.419Z",
    "type": "completion"
   },
   {
    "code": "sorted_baby_names.iloc[1:4, 3]",
    "id": "31336ff0e71e40798d757502dced1e5e",
    "idx": 47,
    "time": "2021-02-04T06:46:26.631Z",
    "type": "execution"
   },
   {
    "id": "31336ff0e71e40798d757502dced1e5e",
    "time": "2021-02-04T06:46:26.879Z",
    "type": "completion"
   },
   {
    "code": "sorted_baby_names.iloc[1:4, 'Name']",
    "id": "31336ff0e71e40798d757502dced1e5e",
    "idx": 47,
    "time": "2021-02-04T06:47:09.363Z",
    "type": "execution"
   },
   {
    "id": "31336ff0e71e40798d757502dced1e5e",
    "time": "2021-02-04T06:47:09.485Z",
    "type": "completion"
   },
   {
    "code": "sorted_baby_names.iloc[1:4, 3]",
    "id": "31336ff0e71e40798d757502dced1e5e",
    "idx": 47,
    "time": "2021-02-04T06:47:19.439Z",
    "type": "execution"
   },
   {
    "id": "31336ff0e71e40798d757502dced1e5e",
    "time": "2021-02-04T06:47:19.500Z",
    "type": "completion"
   },
   {
    "code": "sorted_baby_names.loc[1:4, \"Name\"]",
    "id": "c0b12973d69549289e86b0ac682d9610",
    "idx": 49,
    "time": "2021-02-04T06:47:22.299Z",
    "type": "execution"
   },
   {
    "id": "c0b12973d69549289e86b0ac682d9610",
    "time": "2021-02-04T06:47:23.212Z",
    "type": "completion"
   },
   {
    "code": "df = baby_names[:5].set_index(\"Name\") \ndf",
    "id": "5ec5c4ec580344ce8bc8528a6892e8a8",
    "idx": 51,
    "time": "2021-02-04T06:48:06.295Z",
    "type": "execution"
   },
   {
    "id": "5ec5c4ec580344ce8bc8528a6892e8a8",
    "time": "2021-02-04T06:48:06.387Z",
    "type": "completion"
   },
   {
    "code": "df.loc[['Mary', 'Anna'], :]",
    "id": "8f9a2beda78b4d54823acf0a47ee4195",
    "idx": 53,
    "time": "2021-02-04T06:48:32.564Z",
    "type": "execution"
   },
   {
    "id": "8f9a2beda78b4d54823acf0a47ee4195",
    "time": "2021-02-04T06:48:32.641Z",
    "type": "completion"
   },
   {
    "code": "#Example: \ndf.iloc[1:4, 2:3]",
    "id": "51e0fd0634ca411b8dc385d7f6882af6",
    "idx": 55,
    "time": "2021-02-04T06:48:59.107Z",
    "type": "execution"
   },
   {
    "id": "51e0fd0634ca411b8dc385d7f6882af6",
    "time": "2021-02-04T06:48:59.168Z",
    "type": "completion"
   },
   {
    "code": "#Example: \ndf.iloc[1:4, 2]",
    "id": "51e0fd0634ca411b8dc385d7f6882af6",
    "idx": 55,
    "time": "2021-02-04T06:49:18.596Z",
    "type": "execution"
   },
   {
    "id": "51e0fd0634ca411b8dc385d7f6882af6",
    "time": "2021-02-04T06:49:18.671Z",
    "type": "completion"
   },
   {
    "code": "#Example: \ndf.iloc[1:4, 2:3]",
    "id": "51e0fd0634ca411b8dc385d7f6882af6",
    "idx": 55,
    "time": "2021-02-04T06:49:24.271Z",
    "type": "execution"
   },
   {
    "id": "51e0fd0634ca411b8dc385d7f6882af6",
    "time": "2021-02-04T06:49:24.373Z",
    "type": "completion"
   },
   {
    "code": "name_and_year = baby_name.loc[:, ['Name', 'Year']]\nname_and_year[:5]",
    "id": "3367187f39b9448888d2da81e9ed92f3",
    "idx": 57,
    "time": "2021-02-04T06:49:52.646Z",
    "type": "execution"
   },
   {
    "id": "3367187f39b9448888d2da81e9ed92f3",
    "time": "2021-02-04T06:49:52.766Z",
    "type": "completion"
   },
   {
    "code": "name_and_year = baby_names.loc[:, ['Name', 'Year']]\nname_and_year[:5]",
    "id": "3367187f39b9448888d2da81e9ed92f3",
    "idx": 57,
    "time": "2021-02-04T06:49:55.240Z",
    "type": "execution"
   },
   {
    "id": "3367187f39b9448888d2da81e9ed92f3",
    "time": "2021-02-04T06:49:55.684Z",
    "type": "completion"
   },
   {
    "code": "grader.check(\"q4\")",
    "id": "082c47e584ea40238d5a430222ae056f",
    "idx": 58,
    "time": "2021-02-04T06:49:57.681Z",
    "type": "execution"
   },
   {
    "id": "082c47e584ea40238d5a430222ae056f",
    "time": "2021-02-04T06:49:57.765Z",
    "type": "completion"
   },
   {
    "code": "name_and_year = baby_names[['Name', 'Year']]\nname_and_year[:5]",
    "id": "3367187f39b9448888d2da81e9ed92f3",
    "idx": 57,
    "time": "2021-02-04T06:50:06.112Z",
    "type": "execution"
   },
   {
    "id": "3367187f39b9448888d2da81e9ed92f3",
    "time": "2021-02-04T06:50:06.721Z",
    "type": "completion"
   },
   {
    "code": "grader.check(\"q4\")",
    "id": "082c47e584ea40238d5a430222ae056f",
    "idx": 58,
    "time": "2021-02-04T06:50:07.229Z",
    "type": "execution"
   },
   {
    "id": "082c47e584ea40238d5a430222ae056f",
    "time": "2021-02-04T06:50:07.303Z",
    "type": "completion"
   },
   {
    "code": "name_and_year = baby_names['Name', 'Year']\nname_and_year[:5]",
    "id": "3367187f39b9448888d2da81e9ed92f3",
    "idx": 57,
    "time": "2021-02-04T06:50:12.347Z",
    "type": "execution"
   },
   {
    "id": "3367187f39b9448888d2da81e9ed92f3",
    "time": "2021-02-04T06:50:12.472Z",
    "type": "completion"
   },
   {
    "code": "name_and_year = baby_names[['Name', 'Year']]\nname_and_year[:5]",
    "id": "3367187f39b9448888d2da81e9ed92f3",
    "idx": 57,
    "time": "2021-02-04T06:50:33.744Z",
    "type": "execution"
   },
   {
    "code": "grader.check(\"q4\")",
    "id": "082c47e584ea40238d5a430222ae056f",
    "idx": 58,
    "time": "2021-02-04T06:50:34.149Z",
    "type": "execution"
   },
   {
    "id": "3367187f39b9448888d2da81e9ed92f3",
    "time": "2021-02-04T06:50:34.192Z",
    "type": "completion"
   },
   {
    "id": "082c47e584ea40238d5a430222ae056f",
    "time": "2021-02-04T06:50:34.270Z",
    "type": "completion"
   },
   {
    "code": "ca = baby_names[baby_names['State'] == 'CA']",
    "id": "a0719302e9e147d698ce0f33e6178360",
    "idx": 63,
    "time": "2021-02-04T06:51:42.131Z",
    "type": "execution"
   },
   {
    "id": "a0719302e9e147d698ce0f33e6178360",
    "time": "2021-02-04T06:51:42.680Z",
    "type": "completion"
   },
   {
    "code": "baby_names['State'] == 'CA'",
    "id": "8675390fb12447428d8102bef64244c1",
    "idx": 63,
    "time": "2021-02-04T06:51:48.367Z",
    "type": "execution"
   },
   {
    "id": "8675390fb12447428d8102bef64244c1",
    "time": "2021-02-04T06:51:48.829Z",
    "type": "completion"
   },
   {
    "code": "result = baby_names[baby_names['Year'] == 2000 & baby_names['Count'] > 3000]\nresult.head()",
    "id": "e86f3d85d5814f898469ed9b7348101d",
    "idx": 65,
    "time": "2021-02-04T06:53:31.301Z",
    "type": "execution"
   },
   {
    "code": "grader.check(\"q5\")",
    "id": "20934232186f49e38f14bc43163a7b81",
    "idx": 66,
    "time": "2021-02-04T06:53:31.411Z",
    "type": "execution"
   },
   {
    "id": "e86f3d85d5814f898469ed9b7348101d",
    "time": "2021-02-04T06:53:31.645Z",
    "type": "completion"
   },
   {
    "id": "20934232186f49e38f14bc43163a7b81",
    "time": "2021-02-04T06:53:31.648Z",
    "type": "completion"
   },
   {
    "code": "result = baby_names[(baby_names['Year'] == 2000) & (baby_names['Count'] > 3000)]\nresult.head()",
    "id": "e86f3d85d5814f898469ed9b7348101d",
    "idx": 65,
    "time": "2021-02-04T06:54:28.597Z",
    "type": "execution"
   },
   {
    "id": "e86f3d85d5814f898469ed9b7348101d",
    "time": "2021-02-04T06:54:28.734Z",
    "type": "completion"
   },
   {
    "code": "grader.check(\"q5\")",
    "id": "20934232186f49e38f14bc43163a7b81",
    "idx": 66,
    "time": "2021-02-04T06:54:50.824Z",
    "type": "execution"
   },
   {
    "id": "20934232186f49e38f14bc43163a7b81",
    "time": "2021-02-04T06:54:50.916Z",
    "type": "completion"
   },
   {
    "code": "result_using_query = baby_names.query('Year == 2000 and Count > 3000')",
    "id": "fcda28b1ea454b718e90ecf6cfc4d656",
    "idx": 68,
    "time": "2021-02-04T06:55:17.739Z",
    "type": "execution"
   },
   {
    "id": "fcda28b1ea454b718e90ecf6cfc4d656",
    "time": "2021-02-04T06:55:18.158Z",
    "type": "completion"
   },
   {
    "code": "result_using_query = baby_names.query('Year == 2000 and Count > 3000')\nresult_using_query",
    "id": "fcda28b1ea454b718e90ecf6cfc4d656",
    "idx": 68,
    "time": "2021-02-04T06:55:24.384Z",
    "type": "execution"
   },
   {
    "id": "fcda28b1ea454b718e90ecf6cfc4d656",
    "time": "2021-02-04T06:55:24.535Z",
    "type": "completion"
   },
   {
    "code": "result_using_query = baby_names.query('Year == 2000 and Count > 3000')\nresult_using_query.head()",
    "id": "fcda28b1ea454b718e90ecf6cfc4d656",
    "idx": 68,
    "time": "2021-02-04T06:55:29.336Z",
    "type": "execution"
   },
   {
    "id": "fcda28b1ea454b718e90ecf6cfc4d656",
    "time": "2021-02-04T06:55:29.492Z",
    "type": "completion"
   },
   {
    "code": "hillary_baby_name = baby_names[(baby_names['Name'] == 'Hillary') & (baby_names['State'] == 'CA') & (baby_names['Sex'] == 'F')]\nplt.plot(hillary_baby_name['Year'], hillary_baby_name['Count'])\nplt.title(\"Hillary Popularity Over Time\")\nplt.xlabel('Year')\nplt.ylabel('Count');",
    "id": "fc285e8649ae45228dc8884eaa2dbfb7",
    "idx": 70,
    "time": "2021-02-04T06:56:57.389Z",
    "type": "execution"
   },
   {
    "id": "fc285e8649ae45228dc8884eaa2dbfb7",
    "time": "2021-02-04T06:56:58.948Z",
    "type": "completion"
   },
   {
    "code": "counts_aggregated_by_name_and_year = baby_names.groupby([\"Name\", \"Year\"])[\"Count\"].sum().reset_index()",
    "id": "a171a199d158400db058416419347895",
    "idx": 73,
    "time": "2021-02-04T06:59:33.362Z",
    "type": "execution"
   },
   {
    "id": "a171a199d158400db058416419347895",
    "time": "2021-02-04T06:59:35.653Z",
    "type": "completion"
   },
   {
    "code": "name_of_interest = 'Hillary'\nchosen_baby_name = counts_aggregated_by_name_and_year.query(\"Name == @name_of_interest\")\nplt.plot(chosen_baby_name['Year'], chosen_baby_name['Count'])\nplt.title(f\"Popularity Of {name_of_interest} Over Time\")\nplt.xlabel('Year')\nplt.ylabel('Count');",
    "id": "15ebd77c45644eadb5e0b4636f1b165d",
    "idx": 74,
    "time": "2021-02-04T06:59:38.032Z",
    "type": "execution"
   },
   {
    "id": "15ebd77c45644eadb5e0b4636f1b165d",
    "time": "2021-02-04T06:59:38.313Z",
    "type": "completion"
   },
   {
    "code": "grader.check_all()",
    "id": "3d6941ea3eb841d98eb7838c93b6f243",
    "idx": 76,
    "time": "2021-02-04T06:59:56.541Z",
    "type": "execution"
   },
   {
    "id": "3d6941ea3eb841d98eb7838c93b6f243",
    "time": "2021-02-04T06:59:56.745Z",
    "type": "completion"
   },
   {
    "code": "# Save your notebook first, then run this cell to export your submission.\ngrader.export(pdf=False)",
    "id": "8f9d6517c3654d30853324b0f1b707ad",
    "idx": 78,
    "time": "2021-02-04T07:00:11.657Z",
    "type": "execution"
   },
   {
    "id": "8f9d6517c3654d30853324b0f1b707ad",
    "time": "2021-02-04T07:00:12.764Z",
    "type": "completion"
   }
  ],
  "kernelspec": {
   "display_name": "Python 3",
   "language": "python",
   "name": "python3"
  },
  "language_info": {
   "codemirror_mode": {
    "name": "ipython",
    "version": 3
   },
   "file_extension": ".py",
   "mimetype": "text/x-python",
   "name": "python",
   "nbconvert_exporter": "python",
   "pygments_lexer": "ipython3",
   "version": "3.8.6"
  }
 },
 "nbformat": 4,
 "nbformat_minor": 2
}
