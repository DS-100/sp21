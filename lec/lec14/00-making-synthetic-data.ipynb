{
 "cells": [
  {
   "cell_type": "code",
   "execution_count": null,
   "metadata": {},
   "outputs": [],
   "source": [
    "import numpy as np\n",
    "import pandas as pd\n",
    "import plotly.graph_objects as go\n",
    "import plotly.express as px\n",
    "import plotly.figure_factory as ff"
   ]
  },
  {
   "cell_type": "markdown",
   "metadata": {},
   "source": [
    "# Making Synthetic Data\n",
    "\n",
    "In this lecture we used a synthetic dataset created to visually illustrate several non-linear feature transformations. In this notebook, we explain how this dataset was constructed."
   ]
  },
  {
   "cell_type": "markdown",
   "metadata": {},
   "source": [
    "To illustrate how we can fit non-linear relationships using linear models we will create a synthetic \"toy\" dataset.  Using periodic functions.  In the real-world, one might encounter these kinds of periodic non-linear relationships when modeling time series data (e.g., user activity throughout the day).\n",
    "\n",
    "Here the true model will be:\n",
    "\n",
    "$$\n",
    "Y = \\cos(X_0) + \\sin(X_1) + \\frac{1}{4}X_0 - \\frac{1}{2} X_1 + \\frac{1}{5}X_0  X_1 + 5\n",
    "$$\n",
    "\n",
    "To make the data slightly more realistic we also add a small amount of noise to the response variable $Y$ and consider random features for $X_0$ and $X_1$:"
   ]
  },
  {
   "cell_type": "code",
   "execution_count": null,
   "metadata": {},
   "outputs": [],
   "source": [
    "n = 500\n",
    "noise = 0.2\n",
    "np.random.seed(42)\n",
    "\n",
    "X = np.random.rand(n,2) * 10 - 5\n",
    "Y = np.cos(X[:,0]) + np.sin(X[:,1]) + 0.25*X[:,0] - 0.5*X[:,1] + 0.2*X[:,0]*X[:,1] + 5. \n",
    "Y = Y + noise * np.random.randn(n)\n",
    "synth_data = pd.DataFrame({\"X0\": X[:,0], \"X1\": X[:,1], \"Y\": Y})\n",
    "synth_data.head()"
   ]
  },
  {
   "cell_type": "markdown",
   "metadata": {},
   "source": [
    "We can visualize the data in three dimensions:"
   ]
  },
  {
   "cell_type": "code",
   "execution_count": null,
   "metadata": {},
   "outputs": [],
   "source": [
    "data_scatter = go.Scatter3d(x=synth_data[\"X0\"], y=synth_data[\"X1\"], z=synth_data[\"Y\"], \n",
    "                            mode=\"markers\",\n",
    "                            marker=dict(size=2))\n",
    "layout = dict(margin=dict(l=0, r=0, t=0, b=0), \n",
    "              height=600,\n",
    "              scene = dict(xaxis_title='X0', yaxis_title='X1', zaxis_title='Y'))\n",
    "go.Figure([data_scatter], layout)"
   ]
  },
  {
   "cell_type": "code",
   "execution_count": null,
   "metadata": {},
   "outputs": [],
   "source": [
    "synth_data.to_csv(\"data/synthetic_data.csv\", index=False)"
   ]
  },
  {
   "cell_type": "code",
   "execution_count": null,
   "metadata": {},
   "outputs": [],
   "source": []
  }
 ],
 "metadata": {
  "kernelspec": {
   "display_name": "Python 3",
   "language": "python",
   "name": "python3"
  },
  "language_info": {
   "codemirror_mode": {
    "name": "ipython",
    "version": 3
   },
   "file_extension": ".py",
   "mimetype": "text/x-python",
   "name": "python",
   "nbconvert_exporter": "python",
   "pygments_lexer": "ipython3",
   "version": "3.8.5"
  }
 },
 "nbformat": 4,
 "nbformat_minor": 4
}
