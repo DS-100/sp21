{
 "cells": [
  {
   "cell_type": "code",
   "execution_count": null,
   "metadata": {},
   "outputs": [],
   "source": [
    "import numpy as np\n",
    "import pandas as pd\n",
    "import plotly.graph_objects as go\n",
    "import plotly.express as px\n",
    "import plotly.figure_factory as ff\n",
    "from plotly.subplots import make_subplots"
   ]
  },
  {
   "cell_type": "code",
   "execution_count": null,
   "metadata": {},
   "outputs": [],
   "source": [
    "from sklearn.linear_model import LinearRegression\n",
    "from sklearn.metrics import mean_squared_error\n",
    "from sklearn.metrics import mean_absolute_error"
   ]
  },
  {
   "cell_type": "markdown",
   "metadata": {},
   "source": [
    "# Modeling Non-linear Relationships"
   ]
  },
  {
   "cell_type": "markdown",
   "metadata": {},
   "source": [
    "In this notebook, we will use basic feature transformations (feature engineering) to model non-linear relationships using linear models."
   ]
  },
  {
   "cell_type": "markdown",
   "metadata": {},
   "source": [
    "## Toy Data set\n",
    "\n",
    "To enable easy visualization of the model fitting process we will use a simple synthetic data set."
   ]
  },
  {
   "cell_type": "code",
   "execution_count": null,
   "metadata": {},
   "outputs": [],
   "source": [
    "data = pd.read_csv(\"data/synthetic_data.csv\")\n",
    "data.head()"
   ]
  },
  {
   "cell_type": "markdown",
   "metadata": {},
   "source": [
    "We can visualize the data in three dimensions:"
   ]
  },
  {
   "cell_type": "code",
   "execution_count": null,
   "metadata": {},
   "outputs": [],
   "source": [
    "data_scatter = go.Scatter3d(x=data[\"X0\"], y=data[\"X1\"], z=data[\"Y\"], \n",
    "                            mode=\"markers\",\n",
    "                            marker=dict(size=2))\n",
    "layout = dict(margin=dict(l=0, r=0, t=0, b=0), \n",
    "              height=600,\n",
    "              scene = dict(xaxis_title='X0', yaxis_title='X1', zaxis_title='Y'))\n",
    "go.Figure([data_scatter], layout)"
   ]
  },
  {
   "cell_type": "markdown",
   "metadata": {},
   "source": [
    "## Basic Linear Model\n",
    "\n",
    "We normally start with a basic linear model with an intercept term."
   ]
  },
  {
   "cell_type": "code",
   "execution_count": null,
   "metadata": {},
   "outputs": [],
   "source": [
    "model = LinearRegression(fit_intercept=True)\n",
    "model.fit(data[[\"X0\", \"X1\"]], data[[\"Y\"]])"
   ]
  },
  {
   "cell_type": "markdown",
   "metadata": {},
   "source": [
    "To track the performance of our models, we use the following plotting functions."
   ]
  },
  {
   "cell_type": "code",
   "execution_count": null,
   "metadata": {},
   "outputs": [],
   "source": [
    "def make_surface(predict, grid_points = 30, name=\"Linear Model\"):\n",
    "    \"\"\"\n",
    "    This function constructs a 3d surface from a prediction function.\n",
    "    \"\"\"\n",
    "    u = np.linspace(data[\"X0\"].min(), data[\"X0\"].max(), grid_points)\n",
    "    v = np.linspace(data[\"X1\"].min(), data[\"X1\"].max(), grid_points)\n",
    "    xu, xv = np.meshgrid(u,v)\n",
    "    X = np.vstack((xu.flatten(),xv.flatten())).transpose()\n",
    "    z = predict(X)\n",
    "    return go.Surface(x=xu, y=xv, z=z.reshape(xu.shape), opacity=0.8, \n",
    "                      name=name, showscale=False)\n",
    "\n",
    "\n",
    "def evaluate_model(predict, grid_points=30):  \n",
    "    \"\"\"\n",
    "    This function visualizes the predict function \n",
    "    \"\"\"\n",
    "    # Compute Y and Yhat\n",
    "    Y = data[\"Y\"].to_numpy()\n",
    "    Yhat = predict(data[[\"X0\", \"X1\"]].to_numpy()).flatten()\n",
    "    # Compute and print error metrics\n",
    "    print(\"Mean Absolute Error:\", mean_absolute_error(Y, Yhat))\n",
    "    print(\"Root Mean Squared Error:\", np.sqrt(mean_squared_error(Y, Yhat)))\n",
    "\n",
    "    # Make Side by Side Plots\n",
    "    fig = make_subplots(rows=1, cols=2, \n",
    "                        specs=[[{'type': 'scene'}, {'type': 'xy'}]])\n",
    "    fig.add_trace(data_scatter, row=1, col=1)\n",
    "    fig.add_trace(make_surface(predict, grid_points=grid_points), row=1, col=1)\n",
    "    fig.update_layout(layout)\n",
    "    fig.add_trace(go.Scatter(x=Yhat, y=Y, mode=\"markers\"), row=1, col=2)\n",
    "    ymin = np.min([np.min(Y), np.min(Yhat)])\n",
    "    ymax = np.max([np.max(Y), np.max(Yhat)])\n",
    "    fig.add_trace(go.Scatter(x=[ymin,ymax], y=[ymin,ymax], name=\"y=yhat\"))\n",
    "    fig.update_layout(xaxis_title =\"yhat\", yaxis_title=\"Y\")\n",
    "    fig.update_layout(showlegend=False)\n",
    "    fig.show()\n"
   ]
  },
  {
   "cell_type": "markdown",
   "metadata": {},
   "source": [
    "Examining our latest model:"
   ]
  },
  {
   "cell_type": "code",
   "execution_count": null,
   "metadata": {},
   "outputs": [],
   "source": [
    "evaluate_model(model.predict, grid_points=5)"
   ]
  },
  {
   "cell_type": "markdown",
   "metadata": {},
   "source": [
    "Examining the above data we see that there is some **periodic** structure as well as some **curvature**. Can we fit this data with a linear model?"
   ]
  },
  {
   "cell_type": "markdown",
   "metadata": {},
   "source": [
    "## What does it mean to be a _Linear Model_\n",
    "\n",
    "Linear models are **linear combinations** of features.  These models are therefore linear in the **parameters** but not necessarily the underlying data.  We can encode non-linearity in our data through the use of feature functions:\n",
    "\n",
    "\n",
    "$$\n",
    "f_\\theta\\left( x \\right) = \\phi(x)^T \\theta = \\sum_{j=0}^{p} \\phi(x)_j \\theta_j\n",
    "$$\n",
    "\n",
    "where $\\phi$ is an *arbitrary function* from $x\\in \\mathbb{R}^d$ to $\\phi(x) \\in \\mathbb{R}^{p+1}$. We could also denote these as a collection of separate feature $\\phi_j$ feature functions from $x\\in \\mathbb{R}^d$ to $\\phi_j(x) \\in \\mathbb{R}$:\n",
    "\n",
    "$$\n",
    "\\phi(x) = \\left[\\phi_0(x), \\phi_1(x), \\ldots, \\phi_p(x) \\right]\n",
    "$$\n",
    "\n",
    "\n",
    "We often refer to these $\\phi_j$ as **feature functions** and their design plays a critical role in both how we capture prior knowledge and our ability to fit complicated data"
   ]
  },
  {
   "cell_type": "markdown",
   "metadata": {},
   "source": [
    "## Introducing Non-linear Features\n",
    "\n",
    "In the following, we will add a few different sine functions at different frequencies and offsets.\n",
    "\n",
    "$$\n",
    "\\sin\\left(2 \\pi * \\textbf{frequency}X + \\textbf{phase}\\right)\n",
    "$$\n",
    "\n",
    "Note that for this to remain a linear model, we cannot make the frequency or phase of the sine function a model parameter.  In fact, these are actually **hyperparameters** of the model that would need to be tuned using either domain knowledge or other search procedures. "
   ]
  },
  {
   "cell_type": "code",
   "execution_count": null,
   "metadata": {},
   "outputs": [],
   "source": [
    "def phi_periodic(X):\n",
    "    return np.hstack([\n",
    "        X,\n",
    "        np.sin(X),\n",
    "        np.sin(10*X),\n",
    "        np.sin(X + 1),\n",
    "        np.sin(10*X + 1),\n",
    "    ])\n",
    "    "
   ]
  },
  {
   "cell_type": "code",
   "execution_count": null,
   "metadata": {},
   "outputs": [],
   "source": [
    "Phi = phi_periodic(data[[\"X0\", \"X1\"]])\n",
    "Phi"
   ]
  },
  {
   "cell_type": "code",
   "execution_count": null,
   "metadata": {},
   "outputs": [],
   "source": [
    "Phi.shape"
   ]
  },
  {
   "cell_type": "code",
   "execution_count": null,
   "metadata": {},
   "outputs": [],
   "source": [
    "model_phi = LinearRegression()\n",
    "model_phi.fit(Phi, data[\"Y\"])"
   ]
  },
  {
   "cell_type": "markdown",
   "metadata": {},
   "source": [
    "Notice that to make predictions I need to actually apply the $\\Phi$ feature function to my data."
   ]
  },
  {
   "cell_type": "code",
   "execution_count": null,
   "metadata": {},
   "outputs": [],
   "source": [
    "evaluate_model(lambda X: model_phi.predict(phi_periodic(X)))"
   ]
  },
  {
   "cell_type": "markdown",
   "metadata": {},
   "source": [
    "There is still some curvature.  We can introduce additional polynomial terms to try to improve the fit of our model."
   ]
  },
  {
   "cell_type": "code",
   "execution_count": null,
   "metadata": {},
   "outputs": [],
   "source": [
    "def phi_curved(X):\n",
    "    return np.hstack([\n",
    "        X * X,\n",
    "        np.expand_dims(np.prod(X, axis=1), 1),\n",
    "        X ** 3,\n",
    "    ])"
   ]
  },
  {
   "cell_type": "markdown",
   "metadata": {},
   "source": [
    "Can you guess the new number of features?"
   ]
  },
  {
   "cell_type": "code",
   "execution_count": null,
   "metadata": {},
   "outputs": [],
   "source": [
    "phi_curved(data[[\"X0\", \"X1\"]]).shape"
   ]
  },
  {
   "cell_type": "markdown",
   "metadata": {},
   "source": [
    "Let's build a feature function that combines our features so far:"
   ]
  },
  {
   "cell_type": "code",
   "execution_count": null,
   "metadata": {},
   "outputs": [],
   "source": [
    "def phi_curved_and_periodic(X):\n",
    "    return np.hstack([phi_curved(X), phi_periodic(X)])"
   ]
  },
  {
   "cell_type": "code",
   "execution_count": null,
   "metadata": {},
   "outputs": [],
   "source": [
    "crazy_model = LinearRegression()\n",
    "crazy_model.fit(phi_curved_and_periodic(data[[\"X0\", \"X1\"]]), data[[\"Y\"]])\n",
    "crazy_model.coef_"
   ]
  },
  {
   "cell_type": "code",
   "execution_count": null,
   "metadata": {},
   "outputs": [],
   "source": [
    "evaluate_model(lambda X: crazy_model.predict(phi_curved_and_periodic(X)))"
   ]
  },
  {
   "cell_type": "markdown",
   "metadata": {},
   "source": [
    "## Success!!!!!"
   ]
  }
 ],
 "metadata": {
  "kernelspec": {
   "display_name": "Python 3",
   "language": "python",
   "name": "python3"
  },
  "language_info": {
   "codemirror_mode": {
    "name": "ipython",
    "version": 3
   },
   "file_extension": ".py",
   "mimetype": "text/x-python",
   "name": "python",
   "nbconvert_exporter": "python",
   "pygments_lexer": "ipython3",
   "version": "3.8.5"
  }
 },
 "nbformat": 4,
 "nbformat_minor": 4
}
