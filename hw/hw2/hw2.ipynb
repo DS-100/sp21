{
 "cells": [
  {
   "cell_type": "code",
   "execution_count": null,
   "metadata": {
    "deletable": false,
    "editable": false
   },
   "outputs": [],
   "source": [
    "# Initialize Otter\n",
    "import otter\n",
    "grader = otter.Notebook(\"hw2.ipynb\")"
   ]
  },
  {
   "cell_type": "markdown",
   "metadata": {
    "nbgrader": {
     "grade": false,
     "grade_id": "introduction",
     "locked": true,
     "schema_version": 2,
     "solution": false
    }
   },
   "source": [
    "# Homework 2: Sampling Error and Bias\n",
    "## Due Date: Thursday, February 4th, 11:59PM\n",
    "\n",
    "## Collaboration Policy\n",
    "\n",
    "Data science is a collaborative activity. While you may talk with others about\n",
    "the homework, we ask that you **write your solutions individually**. If you do\n",
    "discuss the assignments with others please **include their names** below."
   ]
  },
  {
   "cell_type": "markdown",
   "metadata": {},
   "source": [
    "**Collaborators**: *list  collaborators here*"
   ]
  },
  {
   "cell_type": "markdown",
   "metadata": {},
   "source": [
    "## Grading\n",
    "\n",
    "Grading is broken down into autograded answers and free response. \n",
    "\n",
    "For autograded answers, the results of your code are compared to provided and/or hidden tests. **For autograded probability questions, the provided tests will only check that your answer is within a reasonable range.**\n",
    "\n",
    "For free response, readers will evaluate how well you answered the question and/or fulfilled the requirements of the question.\n",
    "\n",
    "For plots, make sure to be as descriptive as possible: include titles, axes labels, and units wherever applicable."
   ]
  },
  {
   "cell_type": "markdown",
   "metadata": {},
   "source": [
    "### Please make sure to save regularly; do not rely on autosave to save your work for you!"
   ]
  },
  {
   "cell_type": "markdown",
   "metadata": {},
   "source": [
    "## Scoring Breakdown\n",
    "\n",
    "|Question|Points|\n",
    "|---|---|\n",
    "|1.1|1|\n",
    "|1.2|1|\n",
    "|1.3|1|\n",
    "|2.1|1|\n",
    "|2.2|1|\n",
    "|2.3|2|\n",
    "|3.1|1|\n",
    "|3.2|1|\n",
    "|3.3|1|\n",
    "|3.4|1|\n",
    "|3.5|1|\n",
    "|3.6|2|\n",
    "|4.1|1|\n",
    "|4.2|1|\n",
    "|5|1|\n",
    "|6.1|2|\n",
    "|6.2|1|\n",
    "|6.3|1|\n",
    "|6.4|1|\n",
    "|6.5|2|\n",
    "|6.6|1|\n",
    "|7.1|1|\n",
    "|7.2|1|\n",
    "|7.3|2|\n",
    "|7.4|1|\n",
    "|8.1|1|\n",
    "|8.2|2|\n",
    "|9|2|\n",
    "|**Total**|35|\n"
   ]
  },
  {
   "cell_type": "markdown",
   "metadata": {},
   "source": [
    "## Introduction\n",
    "\n",
    "The outcome of the US presidential election in 2016 took many people and many pollsters by surprise. In this assignment we will carry out a simulation study / post mortem in an attempt to understand what happened. Doing such an analysis is especially important even though the 2020 federal elections have already occurred."
   ]
  },
  {
   "cell_type": "code",
   "execution_count": 2,
   "metadata": {},
   "outputs": [],
   "source": [
    "import numpy as np\n",
    "import matplotlib\n",
    "import matplotlib.pyplot as plt\n",
    "import seaborn as sns\n",
    "\n",
    "plt.style.use('fivethirtyeight')\n",
    "\n",
    "# Default plot configurations\n",
    "%matplotlib inline\n",
    "plt.rcParams['figure.figsize'] = (16,8)\n",
    "plt.rcParams['figure.dpi'] = 150\n",
    "sns.set()\n",
    "\n",
    "from IPython.display import display, Latex, Markdown"
   ]
  },
  {
   "cell_type": "markdown",
   "metadata": {},
   "source": [
    "## `SciPy` and `special` ##"
   ]
  },
  {
   "cell_type": "markdown",
   "metadata": {},
   "source": [
    "Factorials and the *binomial coefficients* $\\binom{n}{k} = \\frac{n!}{k!(n-k)!}$ get large very quickly as $n$ gets large. One way to compute them is to use the `SciPy` module `special`. `SciPy` is a collection of Python-based software for math, probability, statistics, science, and engineering."
   ]
  },
  {
   "cell_type": "code",
   "execution_count": 3,
   "metadata": {},
   "outputs": [],
   "source": [
    "from scipy import special"
   ]
  },
  {
   "cell_type": "markdown",
   "metadata": {},
   "source": [
    "Below are some examples of `special.factorial`:"
   ]
  },
  {
   "cell_type": "code",
   "execution_count": 4,
   "metadata": {},
   "outputs": [],
   "source": [
    "special.factorial(5), special.factorial(range(1, 6))"
   ]
  },
  {
   "cell_type": "markdown",
   "metadata": {},
   "source": [
    "Traditionally, subsets of $k$ individuals out of a population of $n$ individuals are called *combinations*, and so `special.comb(n, k)` evaluates to $\\binom{n}{k}$. \n",
    "\n",
    "Note that we will always use the term *subsets* to mean un-ordered sets. We will use *permutations* in situations where we need to keep track of the order in which the elements appear.\n",
    "\n",
    "Look at the code and output below carefully (including types) before starting Question 1."
   ]
  },
  {
   "cell_type": "code",
   "execution_count": 5,
   "metadata": {},
   "outputs": [],
   "source": [
    "special.comb(5, 3), special.factorial(5) / (special.factorial(3) * special.factorial(2))"
   ]
  },
  {
   "cell_type": "code",
   "execution_count": 6,
   "metadata": {},
   "outputs": [],
   "source": [
    "special.comb(5, range(6))"
   ]
  },
  {
   "cell_type": "code",
   "execution_count": 7,
   "metadata": {},
   "outputs": [],
   "source": [
    "special.comb(100, 50), special.comb(100, 50, exact=True)"
   ]
  },
  {
   "cell_type": "markdown",
   "metadata": {},
   "source": [
    "### Question 1"
   ]
  },
  {
   "cell_type": "markdown",
   "metadata": {},
   "source": [
    "Consider a population in which a proportion $p$ of individuals are called \"successes\" (or 1, if you prefer) and the remaining proportion are rudely called \"failures\" (or 0).\n",
    "\n",
    "As we saw in lecture, if you draw a sample of size $n$ (where $n$ is some positive integer) at random with replacement from the population, then the number of successes is a random variable that follows the binomial distribution. The probability of drawing $k$ successes and $n-k$ failures is $\\binom{n}{k}p^k(1-p)^{n-k}$, for $0 \\leq k \\leq n$. To reduce writing, we will shorten \"$k$ successes and $n-k$ failures\" to \"$k$ successes\". In other words, \"$k$ successes\" means \"exactly $k$ successes\".\n",
    "\n",
    "To formalize notation: if $X$ is the number of successes we draw, then $P(X = k) = \\binom{n}{k}p^k(1-p)^{n-k}$."
   ]
  },
  {
   "cell_type": "markdown",
   "metadata": {
    "deletable": false,
    "editable": false
   },
   "source": [
    "### Question 1a) ###\n",
    "Suppose you sample 100 times at random with replacement from a population in which 26% of the individuals are successes. Write a Python expression that evaluates to the chance that the sample has 20 successes. \n",
    "\n",
    "**Computational note:** Don't import any other libraries; just use the ones already imported and plug into the formula above. It's far from the best way numerically, but it is fine for the numbers involved in this Homework. \n",
    "\n",
    "<!--\n",
    "BEGIN QUESTION\n",
    "name: q1a\n",
    "manual: false\n",
    "points: 1\n",
    "-->"
   ]
  },
  {
   "cell_type": "code",
   "execution_count": 8,
   "metadata": {},
   "outputs": [],
   "source": [
    "prob_1a = ...\n",
    "prob_1a"
   ]
  },
  {
   "cell_type": "code",
   "execution_count": null,
   "metadata": {
    "deletable": false,
    "editable": false
   },
   "outputs": [],
   "source": [
    "grader.check(\"q1a\")"
   ]
  },
  {
   "cell_type": "markdown",
   "metadata": {
    "deletable": false,
    "editable": false
   },
   "source": [
    "### Question 1b) ###\n",
    "Complete the cell with a Python expression that evaluates to an array whose elements are the chances of $k$ successes for $k = 0, 1, 2, \\ldots, 100$. That is, `all_probs[k]` should contain $P(X = k)$, where $X$ is the random variable describing the number of successes drawn from the scenario outlined above.\n",
    "\n",
    "<!--\n",
    "BEGIN QUESTION\n",
    "name: q1b\n",
    "points: 1\n",
    "-->"
   ]
  },
  {
   "cell_type": "code",
   "execution_count": 11,
   "metadata": {},
   "outputs": [],
   "source": [
    "k = np.arange(101)\n",
    "all_probs = ...\n",
    "np.round(all_probs, 4), sum(all_probs)"
   ]
  },
  {
   "cell_type": "code",
   "execution_count": null,
   "metadata": {
    "deletable": false,
    "editable": false
   },
   "outputs": [],
   "source": [
    "grader.check(\"q1b\")"
   ]
  },
  {
   "cell_type": "markdown",
   "metadata": {
    "deletable": false,
    "editable": false
   },
   "source": [
    "### Question 1c) ###\n",
    "\n",
    "\n",
    "Complete the cell with an expression that evaluates to the chance that the number of successes in the sample is in the interval $26 \\pm 10$ (inclusive on both sides). In other words, determine $P(16 \\leq X \\leq 36)$. **Hint: You might want to apply your Python indexing knowledge here.**\n",
    "\n",
    "**Note: Please assign your answer to `prob_1c`. Because we use an autograder, please make sure your answer is a proportion between 0 and 1, not a percent between 0 and 100.**\n",
    "\n",
    "<!--\n",
    "BEGIN QUESTION\n",
    "name: q1c\n",
    "manual: false\n",
    "points: 1\n",
    "-->"
   ]
  },
  {
   "cell_type": "code",
   "execution_count": 14,
   "metadata": {},
   "outputs": [],
   "source": [
    "prob_1c = ..."
   ]
  },
  {
   "cell_type": "code",
   "execution_count": null,
   "metadata": {
    "deletable": false,
    "editable": false
   },
   "outputs": [],
   "source": [
    "grader.check(\"q1c\")"
   ]
  },
  {
   "cell_type": "markdown",
   "metadata": {},
   "source": [
    "### Question 2"
   ]
  },
  {
   "cell_type": "markdown",
   "metadata": {},
   "source": [
    "Consider (once again) a sample of size $n$ drawn at random with replacement from a population in which a proportion $p$ of the individuals are called successes.\n",
    "\n",
    "Let $S$ be the random variable that denotes the number of successes in our sample. (As stated above, $S$ follows the binomial distribution.) Then, the probability that the number of successes in our sample is **at most** $s$ (where $0 \\leq s \\leq n$) is\n",
    "\n",
    "$$P(S \\leq s) = P(S = 0) + P(S = 1) + ... + P(S = s) = \\sum_{k=0}^s \\binom{n}{k}p^k(1-p)^{n-k}$$\n",
    "\n",
    "We obtain this by summing the probability that the number of successes is exactly $k$, for each value of $k = 0, 1, 2, ..., s$."
   ]
  },
  {
   "cell_type": "markdown",
   "metadata": {
    "deletable": false,
    "editable": false
   },
   "source": [
    "### Question 2a) ###\n",
    "\n",
    "Please fill in the function `prob_at_most` which takes $n$, $p$, and $s$ and returns $P(S \\le s)$ as defined above. If the inputs are invalid: for instance, if $p > 1$ OR $s > n$ then return 0.\" \n",
    "\n",
    "It might help to refer to the calculation in Question 1b.\n",
    "\n",
    "<!--\n",
    "BEGIN QUESTION\n",
    "name: q2a\n",
    "manual: false\n",
    "points: 1\n",
    "-->"
   ]
  },
  {
   "cell_type": "code",
   "execution_count": 17,
   "metadata": {},
   "outputs": [],
   "source": [
    "def prob_at_most(n, p, s):\n",
    "    \"\"\" \n",
    "    returns the probability of S <= s\n",
    "    Input n: sample size; p : proportion; s: number of successes at most\"\"\"\n",
    "    ..."
   ]
  },
  {
   "cell_type": "code",
   "execution_count": null,
   "metadata": {
    "deletable": false,
    "editable": false
   },
   "outputs": [],
   "source": [
    "grader.check(\"q2a\")"
   ]
  },
  {
   "cell_type": "markdown",
   "metadata": {
    "deletable": false,
    "editable": false
   },
   "source": [
    "### Question 2b) ###\n",
    "In an election, supporters of Candidate C are in a minority. Only 45% of the voters in the population favor the candidate.\n",
    "\n",
    "Suppose a survey organization takes a sample of 200 voters at random with replacement from this population. Use `prob_at_most` to write an expression that evaluates to the chance that a majority (more than half) of the sampled voters favor Candidate C.\n",
    "\n",
    "<!--\n",
    "BEGIN QUESTION\n",
    "name: q2b\n",
    "manual: false\n",
    "points: 1\n",
    "-->"
   ]
  },
  {
   "cell_type": "code",
   "execution_count": 23,
   "metadata": {},
   "outputs": [],
   "source": [
    "p_majority = ...\n",
    "p_majority"
   ]
  },
  {
   "cell_type": "code",
   "execution_count": null,
   "metadata": {
    "deletable": false,
    "editable": false
   },
   "outputs": [],
   "source": [
    "grader.check(\"q2b\")"
   ]
  },
  {
   "cell_type": "markdown",
   "metadata": {
    "deletable": false,
    "editable": false
   },
   "source": [
    "### Question 2c) ###\n",
    "Suppose each of five survey organizations takes a sample of voters at random with replacement from the population of voters in Part **b**, independently of the samples drawn by the other organizations. \n",
    "\n",
    "- Three of the organizations use a sample size of 200\n",
    "- One organization uses a sample size of 300\n",
    "- One organization uses a sample size of 400\n",
    "\n",
    "Write an expression that evaluates to the chance that in at least one of the five samples the majority of voters favor Candidate C. You can use any quantity or function defined earlier in this exercise.\n",
    "\n",
    "<!--\n",
    "BEGIN QUESTION\n",
    "name: q2c\n",
    "manual: false\n",
    "points: 2\n",
    "-->"
   ]
  },
  {
   "cell_type": "code",
   "execution_count": 26,
   "metadata": {},
   "outputs": [],
   "source": [
    "prob_2c = ...\n",
    "prob_2c"
   ]
  },
  {
   "cell_type": "code",
   "execution_count": null,
   "metadata": {
    "deletable": false,
    "editable": false
   },
   "outputs": [],
   "source": [
    "grader.check(\"q2c\")"
   ]
  },
  {
   "cell_type": "markdown",
   "metadata": {},
   "source": [
    "### Question 3"
   ]
  },
  {
   "cell_type": "markdown",
   "metadata": {},
   "source": [
    "In Pennsylvania, 6,165,478 people voted in the 2016 Presidential election.\n",
    "Trump received 48.18% of the vote and Clinton recieved 47.46%.\n",
    "This doesn't add up to 100% because other candidates received votes.\n",
    "All together these other candidates received 100% - 48.18% - 47.46% = 4.36% of the vote.\n",
    "\n",
    "The table below displays the counts and proportions.\n",
    "\n",
    "\n",
    "|   Voted for   |  Trump|    Clinton|    Other|\n",
    "|-----------|-----------|-----------|---------|\n",
    "| Probability      |   0.4818   | 0.4746  |   0.0436 |\n",
    "| Number of people | 2,970,733  | 2,926,441 | 268,304 |"
   ]
  },
  {
   "cell_type": "markdown",
   "metadata": {
    "deletable": false,
    "editable": false
   },
   "source": [
    "### Question 3a) ###\n",
    "Suppose we pick a simple random sample of 20 of the 6,165,478 Pennsylvania (PA) voters. \n",
    "\n",
    "In the sample, let $N_T$ be the number of Trump voters, $N_C$ the number of Clinton voters, and $N_O$ the number of \"other\" voters. Then $N_T$, $N_C$, and $N_O$ are random: they depend on how the sample comes out. In Data 8 we called such quantities \"statistics\".\n",
    "\n",
    "Pick the correct option: $N_T + N_C + N_O$ is equal to\n",
    "\n",
    "<ol style=\"list-style-type: lower-alpha;\">\n",
    "    <li>3</li>\n",
    "    <li>20</li>\n",
    "    <li>6,165,478</li>\n",
    "    <li>a random quantity</li>\n",
    "</ol>\n",
    "\n",
    "*Note*: if your answer is (d), put  `ans_3a = 'd'`  for the purpose of grading. Passing the test **does NOT** mean you answer is correct. The test only checks if your answer is in the correct format.\n",
    "\n",
    "<!--\n",
    "BEGIN QUESTION\n",
    "name: q3a\n",
    "manual: false\n",
    "points: \n",
    "    - 0\n",
    "    - 1\n",
    "-->"
   ]
  },
  {
   "cell_type": "code",
   "execution_count": 29,
   "metadata": {},
   "outputs": [],
   "source": [
    "ans_3a = ..."
   ]
  },
  {
   "cell_type": "code",
   "execution_count": null,
   "metadata": {
    "deletable": false,
    "editable": false
   },
   "outputs": [],
   "source": [
    "grader.check(\"q3a\")"
   ]
  },
  {
   "cell_type": "markdown",
   "metadata": {
    "deletable": false,
    "editable": false
   },
   "source": [
    "### Question 3b) ###\n",
    "Pick the correct option.\n",
    "\n",
    "A simple random sample of 20 PA voters is like a sample drawn at random with replacement, because\n",
    "\n",
    "<ol style=\"list-style-type: lower-alpha;\">\n",
    "<li>that's the definition of \"simple random sample\"</li>\n",
    "<li>there are only 3 categories of voters, which is small in comparison to 20</li>\n",
    "<li>there are only 20 people in the sample, which is small in comparison to the total number of PA voters</li>\n",
    "<li>all PA voters are equally likely to be selected</li>\n",
    "</ol>\n",
    "\n",
    "*Note*: if your answer is (d), put `ans_3b = 'd'`  for the purpose of grading. Passing the test **does NOT** mean you answer is correct. The test only checks if your answer is in the correct format.\n",
    "\n",
    "<!--\n",
    "BEGIN QUESTION\n",
    "name: q3b\n",
    "manual: false\n",
    "points: \n",
    "    - 0\n",
    "    - 1\n",
    "-->"
   ]
  },
  {
   "cell_type": "code",
   "execution_count": 32,
   "metadata": {},
   "outputs": [],
   "source": [
    "ans_3b = ..."
   ]
  },
  {
   "cell_type": "code",
   "execution_count": null,
   "metadata": {
    "deletable": false,
    "editable": false
   },
   "outputs": [],
   "source": [
    "grader.check(\"q3b\")"
   ]
  },
  {
   "cell_type": "markdown",
   "metadata": {
    "deletable": false,
    "editable": false
   },
   "source": [
    "### Question 3c) ###\n",
    "\n",
    "Let $t$, $c$, and $o$ be any three non-negative integers. For the sample defined in Part **a**, the probability that the sample contains $t$ Trump voters, $c$ Clinton voters and $o$ \"other\" voters is denoted by $P(N_T = t, N_C = c, N_O = o)$.\n",
    "\n",
    "Define a function `prob_sample_counts` that takes any three non-negative integers $t$, $c$, and $o$, and returns $P(N_T = t, N_C = c, N_O = o)$. The probability is 0 for some choices of the arguments, and your function should return 0 in those cases.\n",
    "\n",
    "Remember that Part **b** implies you can use results for sampling with replacement.\n",
    "\n",
    "What should `prob_sample_counts(31, 8, 1)` evaluate to? Check that your function returns the right value (No extra code/cells required).\n",
    "\n",
    "<!--\n",
    "BEGIN QUESTION\n",
    "name: q3c\n",
    "manual: false\n",
    "points: 1\n",
    "-->"
   ]
  },
  {
   "cell_type": "code",
   "execution_count": 35,
   "metadata": {},
   "outputs": [],
   "source": [
    "def prob_sample_counts(t, c, o):\n",
    "    \"\"\"\n",
    "    Input:\n",
    "    t - number of votes for Trump\n",
    "    c - number of votes for Clinton\n",
    "    o - number of votes for Other\n",
    "    Return: The probability of getting a such sample\n",
    "    \"\"\"\n",
    "    ..."
   ]
  },
  {
   "cell_type": "code",
   "execution_count": null,
   "metadata": {
    "deletable": false,
    "editable": false
   },
   "outputs": [],
   "source": [
    "grader.check(\"q3c\")"
   ]
  },
  {
   "cell_type": "markdown",
   "metadata": {
    "deletable": false,
    "editable": false
   },
   "source": [
    "### Question 3d) ###\n",
    "\n",
    "Check that your function determines a probability distribution by summing all the positive terms. You know what the sum should be. **Hint: You might need to iterate through certain values of c and t to compute the sum of all positive probabilities.**\n",
    "\n",
    "<!--\n",
    "BEGIN QUESTION\n",
    "name: q3d\n",
    "manual: false\n",
    "points: 1\n",
    "-->"
   ]
  },
  {
   "cell_type": "code",
   "execution_count": 38,
   "metadata": {},
   "outputs": [],
   "source": [
    "prob_3d = ...\n",
    "prob_3d"
   ]
  },
  {
   "cell_type": "code",
   "execution_count": null,
   "metadata": {
    "deletable": false,
    "editable": false
   },
   "outputs": [],
   "source": [
    "grader.check(\"q3d\")"
   ]
  },
  {
   "cell_type": "markdown",
   "metadata": {
    "deletable": false,
    "editable": false
   },
   "source": [
    "### Question 3e) ###\n",
    "Use `prob_sample_counts` to find the chance that the sample consists of 11 Trump voters, 8 Clinton voters, and 1 \"other\" voter.\n",
    "\n",
    "<!--\n",
    "BEGIN QUESTION\n",
    "name: q3e\n",
    "manual: false\n",
    "points: 1\n",
    "-->"
   ]
  },
  {
   "cell_type": "code",
   "execution_count": 41,
   "metadata": {},
   "outputs": [],
   "source": [
    "prob_3e = ...\n",
    "prob_3e"
   ]
  },
  {
   "cell_type": "code",
   "execution_count": null,
   "metadata": {
    "deletable": false,
    "editable": false
   },
   "outputs": [],
   "source": [
    "grader.check(\"q3e\")"
   ]
  },
  {
   "cell_type": "markdown",
   "metadata": {
    "deletable": false,
    "editable": false
   },
   "source": [
    "### Question 3f) ###\n",
    "Write an expression that evaluates the chance that the sample contains at least 7 Trump voters, at least 7 Clinton voters, and at least 1 \"other\" voter. **Hint: You might find 3d useful.**\n",
    "\n",
    "<!--\n",
    "BEGIN QUESTION\n",
    "name: q3f\n",
    "manual: false\n",
    "points: 2\n",
    "-->"
   ]
  },
  {
   "cell_type": "code",
   "execution_count": 44,
   "metadata": {},
   "outputs": [],
   "source": [
    "prob_3f = ...\n",
    "prob_3f"
   ]
  },
  {
   "cell_type": "code",
   "execution_count": null,
   "metadata": {
    "deletable": false,
    "editable": false
   },
   "outputs": [],
   "source": [
    "grader.check(\"q3f\")"
   ]
  },
  {
   "cell_type": "markdown",
   "metadata": {
    "nbgrader": {
     "grade": false,
     "grade_id": "codebook",
     "locked": true,
     "schema_version": 2,
     "solution": false
    }
   },
   "source": [
    "## Election Polling\n",
    "\n",
    "Political polling is a type of public opinion polling that can at best represent a snapshot of public opinion at the particular moment in time. Voter opinion shifts from week to week, even day to day, as candidates battle it out on the campaign field.\n",
    "\n",
    "Polls usually start with a \"horse-race\" question, where respondents are asked whom they would vote for in a head-to-head race if the election were tomorrow: Candidate A or Candidate B. The survey begins with this question so that the respondent is not influenced by any of the other questions asked in the survey. Some of these other questions are asked to help assess how likely is it that the respondent will vote. Other questions are asked about age, education, and sex in order to adjust the findings if one group appears overly represented in the sample.\n",
    "\n",
    "Pollsters typically use [random digit dialing](https://en.wikipedia.org/wiki/Random_digit_dialing) to contact people."
   ]
  },
  {
   "cell_type": "markdown",
   "metadata": {},
   "source": [
    "### Question 4"
   ]
  },
  {
   "cell_type": "markdown",
   "metadata": {
    "deletable": false,
    "editable": false
   },
   "source": [
    "<!-- BEGIN QUESTION -->\n",
    "\n",
    "#### Part 1 ####\n",
    "\n",
    "If we're trying to predict the results of the Clinton vs. Trump presidential race, what is the population of interest? \n",
    "\n",
    "<!--\n",
    "BEGIN QUESTION\n",
    "name: q4a\n",
    "manual: true\n",
    "points: 1\n",
    "-->"
   ]
  },
  {
   "cell_type": "markdown",
   "metadata": {},
   "source": [
    "_Type your answer here, replacing this text._"
   ]
  },
  {
   "cell_type": "markdown",
   "metadata": {
    "deletable": false,
    "editable": false,
    "nbgrader": {
     "grade": false,
     "grade_id": "cell-5a5f851db609367a",
     "locked": true,
     "schema_version": 2,
     "solution": false
    }
   },
   "source": [
    "<!-- END QUESTION -->\n",
    "\n",
    "<!-- BEGIN QUESTION -->\n",
    "\n",
    "#### Part 2 ####\n",
    "\n",
    "What is the sampling frame?\n",
    "\n",
    "<!--\n",
    "BEGIN QUESTION\n",
    "name: q4b\n",
    "manual: true\n",
    "points: 1\n",
    "-->"
   ]
  },
  {
   "cell_type": "markdown",
   "metadata": {},
   "source": [
    "_Type your answer here, replacing this text._"
   ]
  },
  {
   "cell_type": "markdown",
   "metadata": {
    "nbgrader": {
     "grade": false,
     "grade_id": "examine-contents",
     "locked": true,
     "schema_version": 2,
     "solution": false
    }
   },
   "source": [
    "<!-- END QUESTION -->\n",
    "\n",
    "\n",
    "\n",
    "### How might the sampling frame differ from the population?\n",
    "\n",
    "After the fact, many experts have studied the 2016 election results. For example, according to the American Association for Public Opinion Research (AAPOR), predictions made before the election were flawed for three key reasons:\n",
    "\n",
    "1. voters changed their preferences a few days before the election\n",
    "2. those sampled were not representative of the voting population, e.g., some said that there was an overrepresentation of college graduates in some poll samples \n",
    "3. voters kept their support for Trump to themselves (hidden from the pollsters)\n",
    "\n",
    "In Questions 6 and 7, we will do two things:\n",
    "\n",
    "+ Question 6: We will carry out a study of the sampling error when there is no bias. In other words, we will try to compute the chance that we get the election result wrong even if we collect our sample in a manner that is completely correct. In this case, any failure of our prediction is due entirely to random chance.\n",
    "+ Question 7: We will carry out a study of the sampling error when there is bias of the second type from the list above. In other words, we will try to compute the chance that we get the election result wrong if we have a small systematic bias. In this case, any failure of our prediction is due to a combination of random chance and our bias.\n"
   ]
  },
  {
   "cell_type": "markdown",
   "metadata": {
    "deletable": false,
    "editable": false
   },
   "source": [
    "<!-- BEGIN QUESTION -->\n",
    "\n",
    "### Question 5\n",
    "\n",
    "Why can't we assess the impact of the other two biases (voters changing preference and voters hiding their preference)? \n",
    "\n",
    "Note: You might find it easier to complete this question after you've completed the rest of the homework including the simulation study.\n",
    "\n",
    "<!--\n",
    "BEGIN QUESTION\n",
    "name: q5\n",
    "manual: true\n",
    "points: 1\n",
    "-->"
   ]
  },
  {
   "cell_type": "markdown",
   "metadata": {},
   "source": [
    "_Type your answer here, replacing this text._"
   ]
  },
  {
   "cell_type": "markdown",
   "metadata": {
    "nbgrader": {
     "grade": false,
     "grade_id": "examine-size",
     "locked": true,
     "schema_version": 2,
     "solution": false
    }
   },
   "source": [
    "<!-- END QUESTION -->\n",
    "\n",
    "\n",
    "\n",
    "### How large was the sampling error?\n",
    "\n",
    "In some states the race was very close, and it may have been simply sampling error, i.e., random chance that the majority of the voters chosen for the sample voted for Clinton.\n",
    "\n",
    "A 2- or 3-point polling error in Trump’s favor (typical error historically) would likely be enough to tip the Electoral College to him.\n",
    "\n",
    "One year after the 2016 election, Nate Silver wrote in\n",
    "*The Media Has A Probability Problem* that\n",
    "the \"media’s demand for certainty -- and its lack of statistical rigor -- is a bad match for our complex world.\"\n",
    "FiveThirtyEight forecasted that Clinton had about a 70 percent chance of winning.  \n",
    "\n",
    "We will first carry out a simulation study to assess the impact of the sampling error on the predictions.\n"
   ]
  },
  {
   "cell_type": "markdown",
   "metadata": {
    "nbgrader": {
     "grade": false,
     "grade_id": "load-data",
     "locked": true,
     "schema_version": 2,
     "solution": false
    }
   },
   "source": [
    "## The Electoral College\n",
    "\n",
    "The US president is chosen by the Electoral College, not by the\n",
    "popular vote. Each state is alotted a certain number of \n",
    "electoral college votes, as a function of their population.\n",
    "Whomever wins in the state gets all of the electoral college votes for that state.\n",
    "\n",
    "There are 538 electoral college votes (hence the name of the Nate Silver's site, FiveThirtyEight).\n",
    "\n",
    "Pollsters correctly predicted the election outcome in 46 of the 50 states. \n",
    "For these 46 states Trump received 231 and Clinton received 232 electoral college votes.\n",
    "\n",
    "The remaining 4 states accounted for a total of 75 votes, and \n",
    "whichever candidate received the majority of the electoral college votes in these states would win the election. \n",
    "\n",
    "These states were Florida, Michigan, Pennsylvania, and Wisconsin.\n",
    "\n",
    "|State |Electoral College Votes|\n",
    "| --- | --- |\n",
    "|Florida | 29 |\n",
    "|Michigan | 16 |\n",
    "|Pennsylvania | 20 |\n",
    "|Wisconsin | 10|\n",
    "\n",
    "For Donald Trump to win the election, he had to win either:\n",
    "* Florida + one (or more) other states\n",
    "* Michigan, Pennsylvania, and Wisconsin\n",
    "\n",
    "\n",
    "The electoral margins were very narrow in these four states, as seen below:\n",
    "\n",
    "\n",
    "|State | Trump |   Clinton | Total Voters |\n",
    "| --- | --- |  --- |  --- |\n",
    "|Florida | 49.02 | 47.82 | 9,419,886  | \n",
    "|Michigan | 47.50 | 47.27  |  4,799,284|\n",
    "|Pennsylvania | 48.18 | 47.46 |  6,165,478|\n",
    "|Wisconsin | 47.22 | 46.45  |  2,976,150|\n",
    "\n",
    "Those narrow electoral margins can make it hard to predict the outcome given the sample sizes that the polls used. "
   ]
  },
  {
   "cell_type": "markdown",
   "metadata": {
    "nbgrader": {
     "grade": false,
     "grade_id": "q1",
     "locked": true,
     "schema_version": 2,
     "solution": false
    }
   },
   "source": [
    "---\n",
    "## Simulation Study of the Sampling Error\n",
    "\n",
    "Now that we know how people actually voted, we can carry\n",
    "out a simulation study that imitates the polling.\n",
    "\n",
    "Our ultimate goal in this problem is to understand the chance that we will incorrectly call the election for Hillary Clinton even if our sample was collected with absolutely no bias."
   ]
  },
  {
   "cell_type": "markdown",
   "metadata": {
    "deletable": false,
    "editable": false,
    "nbgrader": {
     "grade": false,
     "grade_id": "q1a",
     "locked": true,
     "schema_version": 2,
     "solution": false
    }
   },
   "source": [
    "### Question 6\n",
    "\n",
    "#### Part 1 \n",
    "\n",
    "For your convenience, the results of the vote in the four pivotal states is repeated below:\n",
    "\n",
    "|State | Trump |   Clinton | Total Voters |\n",
    "| --- | --- |  --- |  --- |\n",
    "|Florida | 49.02 | 47.82 | 9,419,886  | \n",
    "|Michigan | 47.50 | 47.27  |  4,799,284|\n",
    "|Pennsylvania | 48.18 | 47.46 |  6,165,478|\n",
    "|Wisconsin | 47.22 | 46.45  |  2,976,150|\n",
    "\n",
    "\n",
    "Using the table above, write a function `draw_state_sample(N, state)` that returns a sample with replacement of N voters from the given state. Your result should be returned as a list, where the first element is the number of Trump votes, the second element is the number of Clinton votes, and the third is the number of Other votes. For example, `draw_state_sample(1500, \"florida\")` could return `[727, 692, 81]`. You may assume that the state name is given in all lower case.\n",
    "\n",
    "You might find `np.random.multinomial` useful.\n",
    "\n",
    "<!--\n",
    "BEGIN QUESTION\n",
    "name: q6a\n",
    "points: 2\n",
    "-->"
   ]
  },
  {
   "cell_type": "code",
   "execution_count": 47,
   "metadata": {},
   "outputs": [],
   "source": [
    "def draw_state_sample(N, state):\n",
    "    ..."
   ]
  },
  {
   "cell_type": "code",
   "execution_count": null,
   "metadata": {
    "deletable": false,
    "editable": false
   },
   "outputs": [],
   "source": [
    "grader.check(\"q6a\")"
   ]
  },
  {
   "cell_type": "markdown",
   "metadata": {
    "deletable": false,
    "editable": false
   },
   "source": [
    "#### Part 2\n",
    "\n",
    "Now, create a function `trump_advantage` that takes in a sample of votes (like the one returned by `draw_state_sample`) and returns the difference in the proportion of votes between Trump and Clinton. For example `trump_advantage([100, 60, 40])` would return `0.2`, since Trump had 50% of the votes in this sample and Clinton had 30%.\n",
    "\n",
    "<!--\n",
    "BEGIN QUESTION\n",
    "name: q6b\n",
    "points: 1\n",
    "-->"
   ]
  },
  {
   "cell_type": "code",
   "execution_count": 50,
   "metadata": {},
   "outputs": [],
   "source": [
    "def trump_advantage(voter_sample):\n",
    "    ..."
   ]
  },
  {
   "cell_type": "code",
   "execution_count": null,
   "metadata": {
    "deletable": false,
    "editable": false
   },
   "outputs": [],
   "source": [
    "grader.check(\"q6b\")"
   ]
  },
  {
   "cell_type": "markdown",
   "metadata": {
    "deletable": false,
    "editable": false
   },
   "source": [
    "#### Part 3\n",
    "\n",
    "Simulate Trump's advantage across 100,000 samples of 1500 voters for the state of Pennsylvania and store the results of each simulation in a list called `simulations`. \n",
    "\n",
    "That is, `simulations[i]` should be Trump's proportion advantage for the `i+1`th simple random sample.\n",
    "\n",
    "<!--\n",
    "BEGIN QUESTION\n",
    "name: q6c\n",
    "points: 1\n",
    "-->"
   ]
  },
  {
   "cell_type": "code",
   "execution_count": 52,
   "metadata": {},
   "outputs": [],
   "source": [
    "simulations = ..."
   ]
  },
  {
   "cell_type": "code",
   "execution_count": null,
   "metadata": {
    "deletable": false,
    "editable": false
   },
   "outputs": [],
   "source": [
    "grader.check(\"q6c\")"
   ]
  },
  {
   "cell_type": "markdown",
   "metadata": {
    "deletable": false,
    "editable": false,
    "nbgrader": {
     "grade": false,
     "grade_id": "q1c",
     "locked": true,
     "schema_version": 2,
     "solution": false
    }
   },
   "source": [
    "<!-- BEGIN QUESTION -->\n",
    "\n",
    "#### Part 4\n",
    "\n",
    "Make a histogram of the sampling distribution of Trump's proportion advantage in Pennsylvania. Make sure to give your plot a title and add labels where appropriate.\n",
    "Hint: You should use the [`plt.hist`](https://matplotlib.org/3.1.1/api/_as_gen/matplotlib.pyplot.hist.html) function in your code.\n",
    "\n",
    "Make sure to include a title as well as axis labels. You can do this using `plt.title`, `plt.xlabel`, and `plt.ylabel`.\n",
    "\n",
    "<!--\n",
    "BEGIN QUESTION\n",
    "name: q6d\n",
    "manual: true\n",
    "points: 1\n",
    "-->"
   ]
  },
  {
   "cell_type": "code",
   "execution_count": 54,
   "metadata": {
    "scrolled": false
   },
   "outputs": [],
   "source": [
    "..."
   ]
  },
  {
   "cell_type": "markdown",
   "metadata": {
    "deletable": false,
    "editable": false
   },
   "source": [
    "<!-- END QUESTION -->\n",
    "\n",
    "#### Part 5\n",
    "\n",
    "Now write a function `trump_wins(N)` that creates a sample of N voters for each of the four crucial states (Florida, Michigan, Pennsylvania, and Wisconsin) and returns 1 if Trump is predicted to win based on these samples and 0 if Trump is predicted to lose.\n",
    "\n",
    "Recall that for Trump to win the election, he must either:\n",
    "* Win the state of Florida and 1 or more other states\n",
    "* Win Michigan, Pennsylvania, and Wisconsin\n",
    "\n",
    "<!--\n",
    "BEGIN QUESTION\n",
    "name: q6e\n",
    "manual: false\n",
    "points: 2\n",
    "-->"
   ]
  },
  {
   "cell_type": "code",
   "execution_count": 55,
   "metadata": {},
   "outputs": [],
   "source": [
    "def trump_wins(N):\n",
    "    ..."
   ]
  },
  {
   "cell_type": "code",
   "execution_count": null,
   "metadata": {
    "deletable": false,
    "editable": false
   },
   "outputs": [],
   "source": [
    "grader.check(\"q6e\")"
   ]
  },
  {
   "cell_type": "markdown",
   "metadata": {
    "deletable": false,
    "editable": false
   },
   "source": [
    "#### Part 6\n",
    "\n",
    "If we repeat 100,000 simulations of the election, i.e. we call `trump_wins(1500)` 100,000 times, what proportion of these simulations predict a Trump victory? Give your answer as `proportion_trump`.\n",
    "\n",
    "This number represents the percent chance that a given sample will correctly predict Trump's victory *even if the sample was collected with absolutely no bias*. \n",
    "\n",
    "**Note: Many laypeople, even well educated ones, assume that this number should be 1. After all, how could a non-biased sample be wrong? This is the type of incredibly important intuition we hope to develop in you throughout this class and your future data science coursework.**\n",
    "\n",
    "<!--\n",
    "BEGIN QUESTION\n",
    "name: q6f\n",
    "manual: false\n",
    "points: 1\n",
    "-->"
   ]
  },
  {
   "cell_type": "code",
   "execution_count": 57,
   "metadata": {},
   "outputs": [],
   "source": [
    "proportion_trump = ...\n",
    "proportion_trump"
   ]
  },
  {
   "cell_type": "code",
   "execution_count": null,
   "metadata": {
    "deletable": false,
    "editable": false
   },
   "outputs": [],
   "source": [
    "grader.check(\"q6f\")"
   ]
  },
  {
   "cell_type": "markdown",
   "metadata": {},
   "source": [
    "We have just studied the sampling error, and found how \n",
    "our predictions might look if there was no bias in our \n",
    "sampling process. \n",
    "Essentially, we assumed that the people surveyed didn't change their minds, \n",
    "didn't hide who they voted for, and were representative\n",
    "of those who voted on election day."
   ]
  },
  {
   "cell_type": "markdown",
   "metadata": {
    "nbgrader": {
     "grade": false,
     "grade_id": "q2",
     "locked": true,
     "schema_version": 2,
     "solution": false
    }
   },
   "source": [
    "---\n",
    "## Simulation Study of Selection Bias\n",
    "\n",
    "According to [an article](https://blogs.lse.ac.uk/usappblog/2018/02/01/better-poll-sampling-would-have-cast-more-doubt-on-the-potential-for-hillary-clinton-to-win-the-2016-election/#Author) by Grotenhuis, Subramanian, Nieuwenhuis, Pelzer and Eisinga:\n",
    "\n",
    "> In a perfect world, polls sample from the population of voters, who would state their political preference perfectly clearly and then vote accordingly.\n",
    "\n",
    "That's the simulation study that we just performed. \n",
    "\n",
    "\n",
    "It's difficult to control for every source of selection bias.\n",
    "And, it's not possible to control for some of the other sources of bias.\n",
    "\n",
    "Next we investigate the effect of small sampling bias on the polling results in these four battleground states.  \n",
    "\n",
    "Throughout this problem, we'll examine the impacts of a 0.5 percent bias in favor of Clinton in each state. Such a bias has been suggested because highly educated voters tend to be more willing to participate in polls."
   ]
  },
  {
   "cell_type": "markdown",
   "metadata": {
    "deletable": false,
    "editable": false,
    "nbgrader": {
     "grade": false,
     "grade_id": "q2a",
     "locked": true,
     "schema_version": 2,
     "solution": false
    }
   },
   "source": [
    "### Question 7\n",
    "\n",
    "Throughout this problem, adjust the selection of voters so that there is a 0.5% bias in favor of Clinton in each of these states. \n",
    "\n",
    "For example, in Pennsylvania, Clinton received 47.46 percent of the votes and Trump 48.18 percent. Increase the population of Clinton voters to 47.46 + 0.5  percent and correspondingly decrease the percent of Trump voters. \n",
    "\n",
    "#### Part 1\n",
    "\n",
    "Simulate Trump's advantage across 100,000 simple random samples of 1500 voters for the state of Pennsylvania and store the results of each simulation in a list called `biased_simulations`.\n",
    "\n",
    "That is, `biased_simulation[i]` should hold the result of the `i+1`th simulation.\n",
    "\n",
    "That is, your answer to this problem should be just like your answer from Question 6 part 3, but now using samples that are biased as described above.\n",
    "\n",
    "<!--\n",
    "BEGIN QUESTION\n",
    "name: q7a\n",
    "points: 1\n",
    "-->"
   ]
  },
  {
   "cell_type": "code",
   "execution_count": 60,
   "metadata": {},
   "outputs": [],
   "source": [
    "def draw_biased_state_sample(N, state):\n",
    "    \n",
    "    ...\n",
    "    \n",
    "biased_simulations = ..."
   ]
  },
  {
   "cell_type": "code",
   "execution_count": null,
   "metadata": {
    "deletable": false,
    "editable": false
   },
   "outputs": [],
   "source": [
    "grader.check(\"q7a\")"
   ]
  },
  {
   "cell_type": "markdown",
   "metadata": {
    "deletable": false,
    "editable": false
   },
   "source": [
    "<!-- BEGIN QUESTION -->\n",
    "\n",
    "#### Part 2\n",
    "\n",
    "Make a histogram of the new sampling distribution of Trump's proportion advantage now using these biased samples. That is, your histogram should be the same as in Q6.4, but now using the biased samples.\n",
    "\n",
    "Make sure to give your plot a title and add labels where appropriate.\n",
    "\n",
    "\n",
    "<!--\n",
    "BEGIN QUESTION\n",
    "name: q7b\n",
    "manual: true\n",
    "points: 1\n",
    "-->"
   ]
  },
  {
   "cell_type": "code",
   "execution_count": 66,
   "metadata": {},
   "outputs": [],
   "source": [
    "..."
   ]
  },
  {
   "cell_type": "markdown",
   "metadata": {
    "deletable": false,
    "editable": false
   },
   "source": [
    "<!-- END QUESTION -->\n",
    "\n",
    "<!-- BEGIN QUESTION -->\n",
    "\n",
    "#### Part 3\n",
    "\n",
    "Compare the histogram you created in Q7.2 to that in Q6.4. \n",
    "\n",
    "<!--\n",
    "BEGIN QUESTION\n",
    "name: q7c\n",
    "manual: true\n",
    "points: 2\n",
    "-->"
   ]
  },
  {
   "cell_type": "markdown",
   "metadata": {},
   "source": [
    "_Type your answer here, replacing this text._"
   ]
  },
  {
   "cell_type": "markdown",
   "metadata": {
    "deletable": false,
    "editable": false
   },
   "source": [
    "<!-- END QUESTION -->\n",
    "\n",
    "#### Part 4\n",
    "\n",
    "Now perform 100,000 simulations of all four states and return the proportion of these simulations that result in a Trump victory. This is the same fraction that you computed in Question 6 Part 6, but now using your biased samples.\n",
    "\n",
    "Give your answer as `proportion_trump_biased`.\n",
    "\n",
    "This number represents the chance that a sample biased 0.5% in Hillary Clinton's favor will correctly predict Trump's victory. You should observe that the chance is signficantly lower than with an unbiased sample, i.e. your answer in Q6.6.\n",
    "\n",
    "<!--\n",
    "BEGIN QUESTION\n",
    "name: q7d\n",
    "manual: false\n",
    "points: 1\n",
    "-->"
   ]
  },
  {
   "cell_type": "code",
   "execution_count": 67,
   "metadata": {},
   "outputs": [],
   "source": [
    "def trump_wins_biased(N): \n",
    "    ...\n",
    "\n",
    "proportion_trump_biased = ...\n",
    "proportion_trump_biased"
   ]
  },
  {
   "cell_type": "code",
   "execution_count": null,
   "metadata": {
    "deletable": false,
    "editable": false
   },
   "outputs": [],
   "source": [
    "grader.check(\"q7d\")"
   ]
  },
  {
   "cell_type": "markdown",
   "metadata": {},
   "source": [
    "## Further Study\n"
   ]
  },
  {
   "cell_type": "markdown",
   "metadata": {
    "deletable": false,
    "editable": false,
    "nbgrader": {
     "grade": false,
     "grade_id": "q2c",
     "locked": true,
     "schema_version": 2,
     "solution": false
    }
   },
   "source": [
    "### Question 8\n",
    "\n",
    "Would increasing the sample size have helped?\n",
    "\n",
    "#### Part 1\n",
    "\n",
    "Try a sample size of 5,000 and run 100,000 simulations of a sample with replacement. What proportion of the 100,000 times is Trump predicted to win the election in the unbiased setting? In the biased setting?\n",
    "\n",
    "Give your answers as `high_sample_size_unbiased_proportion_trump` and `high_sample_size_biased_proportion_trump`.\n",
    "\n",
    "*Note: Don't worry if your solution takes a while to run.* \n",
    "\n",
    "<!--\n",
    "BEGIN QUESTION\n",
    "name: q8a\n",
    "manual: false\n",
    "points: 1\n",
    "-->\n",
    "\n"
   ]
  },
  {
   "cell_type": "code",
   "execution_count": 70,
   "metadata": {},
   "outputs": [],
   "source": [
    "high_sample_size_unbiased_proportion_trump = ...\n",
    "high_sample_size_biased_proportion_trump = ...\n",
    "print(high_sample_size_unbiased_proportion_trump, high_sample_size_biased_proportion_trump)"
   ]
  },
  {
   "cell_type": "code",
   "execution_count": null,
   "metadata": {
    "deletable": false,
    "editable": false
   },
   "outputs": [],
   "source": [
    "grader.check(\"q8a\")"
   ]
  },
  {
   "cell_type": "markdown",
   "metadata": {},
   "source": [
    "#### Part 2\n",
    "\n",
    "What do your observations from Part 1 say about the impact of sample size\n",
    "on the sampling error and on the bias?   \n",
    "\n",
    "Extra question for those who are curious: Just for fun, you might find it interesting to see what happens with even larger sample sizes (> 5000 voters) for both the unbiased and biased cases. Can you get them up to 99% success with sufficient large samples? How many? Why or why not? If you do this, include your observations in your answer."
   ]
  },
  {
   "cell_type": "code",
   "execution_count": 73,
   "metadata": {},
   "outputs": [],
   "source": [
    "# Feel free to use this cell for any scratch work (creating visualizations, examining data, etc.)"
   ]
  },
  {
   "cell_type": "markdown",
   "metadata": {
    "deletable": false,
    "editable": false
   },
   "source": [
    "<!-- BEGIN QUESTION -->\n",
    "\n",
    "Write your answer in the cell below.\n",
    "\n",
    "<!--\n",
    "BEGIN QUESTION\n",
    "name: q8b\n",
    "manual: true\n",
    "points: 2\n",
    "-->"
   ]
  },
  {
   "cell_type": "markdown",
   "metadata": {},
   "source": [
    "_Type your answer here, replacing this text._"
   ]
  },
  {
   "cell_type": "markdown",
   "metadata": {
    "deletable": false,
    "editable": false
   },
   "source": [
    "<!-- END QUESTION -->\n",
    "\n",
    "<!-- BEGIN QUESTION -->\n",
    "\n",
    "### Question 9\n",
    "\n",
    "According to FiveThirtyEight: \"... Polls of the November 2016 presidential election were about as accurate as polls of presidential elections have been on average since 1972.\"\n",
    "\n",
    "When the margin of victory may be relatively small as it was in 2016, why don't polling agencies simply gather significantly larger samples to bring this error close to zero?\n",
    "\n",
    "<!--\n",
    "BEGIN QUESTION\n",
    "name: q9\n",
    "manual: true\n",
    "points: 2\n",
    "-->"
   ]
  },
  {
   "cell_type": "markdown",
   "metadata": {},
   "source": [
    "_Type your answer here, replacing this text._"
   ]
  },
  {
   "cell_type": "markdown",
   "metadata": {},
   "source": [
    "<!-- END QUESTION -->\n",
    "\n",
    "\n",
    "\n",
    "**Important**: To make sure the test cases run correctly, click `Kernel>Restart & Run All` and make sure all of the test cases are still passing."
   ]
  },
  {
   "cell_type": "markdown",
   "metadata": {
    "deletable": false,
    "editable": false
   },
   "source": [
    "---\n",
    "\n",
    "To double-check your work, the cell below will rerun all of the autograder tests."
   ]
  },
  {
   "cell_type": "code",
   "execution_count": null,
   "metadata": {
    "deletable": false,
    "editable": false
   },
   "outputs": [],
   "source": [
    "grader.check_all()"
   ]
  },
  {
   "cell_type": "markdown",
   "metadata": {
    "deletable": false,
    "editable": false
   },
   "source": [
    "## Submission\n",
    "\n",
    "Make sure you have run all cells in your notebook in order before running the cell below, so that all images/graphs appear in the output. The cell below will generate a zip file for you to submit. **Please save before exporting!**"
   ]
  },
  {
   "cell_type": "code",
   "execution_count": null,
   "metadata": {
    "deletable": false,
    "editable": false
   },
   "outputs": [],
   "source": [
    "# Save your notebook first, then run this cell to export your submission.\n",
    "grader.export()"
   ]
  },
  {
   "cell_type": "markdown",
   "metadata": {},
   "source": [
    " "
   ]
  }
 ],
 "metadata": {
  "celltoolbar": "Create Assignment",
  "history": [
   {
    "code": "import numpy as np\nimport matplotlib\nimport matplotlib.pyplot as plt\nimport seaborn as sns\n\nplt.style.use('fivethirtyeight')\n\n# Default plot configurations\n%matplotlib inline\nplt.rcParams['figure.figsize'] = (16,8)\nplt.rcParams['figure.dpi'] = 150\nsns.set()\n\nfrom IPython.display import display, Latex, Markdown",
    "id": "07375046d98444e281b75644b7875f95",
    "idx": 7,
    "time": "2021-01-23T21:48:36.943Z",
    "type": "execution"
   },
   {
    "code": "from scipy import special",
    "id": "ca39083560ea48cf8a0c0ab0b13e4a27",
    "idx": 10,
    "time": "2021-01-23T21:48:36.954Z",
    "type": "execution"
   },
   {
    "code": "special.factorial(5), special.factorial(range(1, 6))",
    "id": "546d30b5861449e185cf528e370283f4",
    "idx": 12,
    "time": "2021-01-23T21:48:36.958Z",
    "type": "execution"
   },
   {
    "code": "special.comb(5, 3), special.factorial(5) / (special.factorial(3) * special.factorial(2))",
    "id": "cdacb5e5b5f5491ebea0d749e96e2402",
    "idx": 14,
    "time": "2021-01-23T21:48:36.963Z",
    "type": "execution"
   },
   {
    "code": "special.comb(5, range(6))",
    "id": "eec6b0ee84b547228484cd07185aef3a",
    "idx": 15,
    "time": "2021-01-23T21:48:36.967Z",
    "type": "execution"
   },
   {
    "code": "special.comb(100, 50), special.comb(100, 50, exact=True)",
    "id": "af3b02975565487986a72fd8707c2f9f",
    "idx": 16,
    "time": "2021-01-23T21:48:36.971Z",
    "type": "execution"
   },
   {
    "code": "prob_1a = special.comb(100, 20)*(0.26**20)*(0.74**80) # SOLUTION\nprob_1a",
    "id": "0f105036c2234405a0b2d62c2868d190",
    "idx": 20,
    "time": "2021-01-23T21:48:36.976Z",
    "type": "execution"
   },
   {
    "code": "# TEST\nprob_1a >= 0 and prob_1a <= 1",
    "id": "5838c54b39cc421c890b923111e00494",
    "idx": 21,
    "time": "2021-01-23T21:48:36.980Z",
    "type": "execution"
   },
   {
    "code": "# HIDDEN TEST\nnp.isclose(prob_1a, 0.0369, atol = 1e-4)",
    "id": "b9f7002ce1c4413e84f330d03ad31725",
    "idx": 22,
    "time": "2021-01-23T21:48:36.983Z",
    "type": "execution"
   },
   {
    "code": "k = np.arange(101)\nall_probs = special.comb(100, k)*(0.26**k)*(0.74**(100-k)) # SOLUTION\nnp.round(all_probs, 4), sum(all_probs)",
    "id": "f9d1a7f6b6fe49108c96260b5a5fccf0",
    "idx": 24,
    "time": "2021-01-23T21:48:36.987Z",
    "type": "execution"
   },
   {
    "code": "# TEST\nnp.all(all_probs >= 0) and np.all(all_probs <= 1)",
    "id": "50904c34398d4918b2dcc241adcdd6a8",
    "idx": 25,
    "time": "2021-01-23T21:48:36.990Z",
    "type": "execution"
   },
   {
    "code": "# HIDDEN TEST\nk = np.arange(101)\ntest_1b = special.comb(100, k)*(0.26**k)*(0.74**(100-k))\nnp.all(np.isclose(test_1b, all_probs, atol = 1e-5))",
    "id": "90f6c97618f94fa79d3380d9c710a12b",
    "idx": 26,
    "time": "2021-01-23T21:48:36.994Z",
    "type": "execution"
   },
   {
    "code": "prob_1c = sum(all_probs[16:37]) # SOLUTION",
    "id": "4173ddcd4e1640f4bd6188effa6f43b1",
    "idx": 28,
    "time": "2021-01-23T21:48:36.997Z",
    "type": "execution"
   },
   {
    "code": "# TEST\nprob_1c >= 0 and prob_1c <= 1",
    "id": "657df98b45184f34946c7e4ac100efcc",
    "idx": 29,
    "time": "2021-01-23T21:48:37.000Z",
    "type": "execution"
   },
   {
    "code": "# HIDDEN TEST\nnp.isclose(prob_1c, 0.9838, atol = 1e-4)",
    "id": "935a2ffad450451797dfcc5b047755a0",
    "idx": 30,
    "time": "2021-01-23T21:48:37.004Z",
    "type": "execution"
   },
   {
    "code": "def prob_at_most(n, p, s):\n    \"\"\" \n    returns the probability of S <= s\n    Input n: sample size; p : proportion; s: number of successes at most\"\"\"\n    # BEGIN SOLUTION\n    if 0 <= p and p <= 1 and s <= n:\n        k = np.arange(n+1)\n        all_probs = special.comb(n, k)*(p**k)*((1-p)**(n-k))\n        return sum(all_probs[:s+1])\n    else:\n        return 0\n    # END SOLUTION",
    "id": "130d2dd651f8442e87a118bb867d08ac",
    "idx": 34,
    "time": "2021-01-23T21:48:37.011Z",
    "type": "execution"
   },
   {
    "code": "# TEST\nprob_at_most(3, 0.4, 1) >= 0",
    "id": "5a339ffda5a2464a86d95aa1d8971b3d",
    "idx": 35,
    "time": "2021-01-23T21:48:37.016Z",
    "type": "execution"
   },
   {
    "code": "# TEST\nprob_at_most(5, 0.6, 3) <= 1",
    "id": "a1a9472708d84cc189f5449729557e17",
    "idx": 36,
    "time": "2021-01-23T21:48:37.020Z",
    "type": "execution"
   },
   {
    "code": "# TEST\nprob_at_most(2, 3, 4) == 0",
    "id": "55237996ee7d44e980a858332e3d9647",
    "idx": 37,
    "time": "2021-01-23T21:48:37.024Z",
    "type": "execution"
   },
   {
    "code": "# HIDDEN TEST\nnp.isclose(prob_at_most(10, 0.7, 4), 0.0473, atol = 1e-4)",
    "id": "503b79910c514d8f9f2046fdee3b760d",
    "idx": 38,
    "time": "2021-01-23T21:48:37.028Z",
    "type": "execution"
   },
   {
    "code": "# HIDDEN TEST\nnp.isclose(prob_at_most(10, 0.7, 4), 0.0473, atol = 1e-4)",
    "id": "1fee61bd636a4537be2e225c71113061",
    "idx": 39,
    "time": "2021-01-23T21:48:37.032Z",
    "type": "execution"
   },
   {
    "code": "# HIDDEN TEST\nnp.isclose(prob_at_most(5, 1, 1), 0, atol = 1e-4)",
    "id": "b6ea452a317547a98539e9a3610f76b6",
    "idx": 40,
    "time": "2021-01-23T21:48:37.036Z",
    "type": "execution"
   },
   {
    "code": "# HIDDEN TEST\nnp.isclose(prob_at_most(8, 0.7, 3), 0.05797, atol = 1e-4)",
    "id": "740b927cd5c04911863f7afd0e4f8f56",
    "idx": 41,
    "time": "2021-01-23T21:48:37.039Z",
    "type": "execution"
   },
   {
    "code": "p_majority = 1 - prob_at_most(200, 0.45, 100) # SOLUTION \np_majority",
    "id": "73d052a1a7d3435181ad634b43ba9058",
    "idx": 43,
    "time": "2021-01-23T21:48:37.044Z",
    "type": "execution"
   },
   {
    "code": "# TEST\np_majority >= 0 and p_majority <= 1",
    "id": "30a63dda25564ef798da00a017df030a",
    "idx": 44,
    "time": "2021-01-23T21:48:37.048Z",
    "type": "execution"
   },
   {
    "code": "# HIDDEN TEST\nnp.isclose(p_majority, 0.06807, atol = 1e-4)",
    "id": "c19c832fa41f46e08c57b815296be79a",
    "idx": 45,
    "time": "2021-01-23T21:48:37.052Z",
    "type": "execution"
   },
   {
    "code": "prob_2c = 1 - (prob_at_most(200, 0.45, 100)**3)*prob_at_most(300, 0.45, 150)*prob_at_most(400, 0.45, 200) # SOLUTION\nprob_2c",
    "id": "d547a11c354d4ad3b8b675c5e3eb0b7d",
    "idx": 47,
    "time": "2021-01-23T21:48:37.056Z",
    "type": "execution"
   },
   {
    "code": "# TEST\nprob_2c >= 0 and prob_2c <= 1",
    "id": "f145bb9b002c49e3a863cfaab4467aae",
    "idx": 48,
    "time": "2021-01-23T21:48:37.059Z",
    "type": "execution"
   },
   {
    "code": "# HIDDEN TEST\nnp.isclose(prob_2c, 0.2355, atol = 1e-4)",
    "id": "99f9aec328bd4afc9d5daa52f3885683",
    "idx": 49,
    "time": "2021-01-23T21:48:37.063Z",
    "type": "execution"
   },
   {
    "code": "ans_3a = 'b' # SOLUTION",
    "id": "0888f108b7e2463286cd457555e111ae",
    "idx": 53,
    "time": "2021-01-23T21:48:37.068Z",
    "type": "execution"
   },
   {
    "code": "# TEST\nans_3a in ['a', 'b', 'c', 'd']",
    "id": "a21ac002a2cf40ac8e34e2249b02b7ff",
    "idx": 54,
    "time": "2021-01-23T21:48:37.072Z",
    "type": "execution"
   },
   {
    "code": "# HIDDEN TEST\nans_3a == 'b'",
    "id": "7f841ce92e0843bf988238d86a200552",
    "idx": 55,
    "time": "2021-01-23T21:48:37.076Z",
    "type": "execution"
   },
   {
    "code": "ans_3b = 'c' # SOLUTION",
    "id": "feacd24ac12b42f283d4acac35fe18e7",
    "idx": 57,
    "time": "2021-01-23T21:48:37.080Z",
    "type": "execution"
   },
   {
    "code": "# TEST\nans_3b in ['a', 'b', 'c', 'd']",
    "id": "5d009f8137de4f46a8f29cb7dbcbf1a1",
    "idx": 58,
    "time": "2021-01-23T21:48:37.085Z",
    "type": "execution"
   },
   {
    "code": "# HIDDEN TEST\nans_3b == 'c'",
    "id": "6e00401dd8cd425797371d55bd30d6ad",
    "idx": 59,
    "time": "2021-01-23T21:48:37.089Z",
    "type": "execution"
   },
   {
    "code": "def prob_sample_counts(t, c, o):\n    \"\"\"\n    Input:\n    t - number of votes for Trump\n    c - number of votes for Clinton\n    o - number of votes for Other\n    Return: The probability of getting a such sample\n    \"\"\"\n    # BEGIN SOLUTION\n    if t+c+o == 20:\n        p_T = 0.4818\n        p_C = 0.4746\n        p_O = 0.0436\n        return (special.factorial(20)/(special.factorial(t)*special.factorial(c)*special.factorial(o)))*(p_T**t)*(p_C**c)*(p_O**o)\n    else:\n        return 0\n    # END SOLUTION",
    "id": "4509a567eb874e3187ed7b3bc31f6749",
    "idx": 61,
    "time": "2021-01-23T21:48:37.093Z",
    "type": "execution"
   },
   {
    "code": "# TEST\nnp.isclose(prob_sample_counts(31, 8, 1), 0, atol = 1e-5)",
    "id": "cc8c9ae26ae340dcb3e81ce9915fbd76",
    "idx": 62,
    "time": "2021-01-23T21:48:37.098Z",
    "type": "execution"
   },
   {
    "code": "# TEST\n0 <= prob_sample_counts(2, 5, 13) <= 1",
    "id": "a2ca3b4de3c4441db397aaaab0d513d9",
    "idx": 63,
    "time": "2021-01-23T21:48:37.101Z",
    "type": "execution"
   },
   {
    "code": "# TEST\n0 <= prob_sample_counts(5, 1, 14) <= 1",
    "id": "fbca87c0854449d38b8d114094c49c5d",
    "idx": 64,
    "time": "2021-01-23T21:48:37.105Z",
    "type": "execution"
   },
   {
    "code": "# TEST\n0 <= prob_sample_counts(10, 8, 2) <= 1",
    "id": "5af515b0b8604114a14dc807a547c0b1",
    "idx": 65,
    "time": "2021-01-23T21:48:37.109Z",
    "type": "execution"
   },
   {
    "code": "# TEST\n0 <= prob_sample_counts(6, 12, 2) <= 1",
    "id": "ba76be6ba14b45a19d644c2335b5523c",
    "idx": 66,
    "time": "2021-01-23T21:48:37.113Z",
    "type": "execution"
   },
   {
    "code": "# HIDDEN TEST\nprob_sample_counts(6, 12, 8) == 0",
    "id": "92c511f89990432780373a8f3a2aa2ee",
    "idx": 67,
    "time": "2021-01-23T21:48:37.117Z",
    "type": "execution"
   },
   {
    "code": "# HIDDEN TEST\nprob_sample_counts(21, 0, 3) == 0",
    "id": "00fdb3c2df454397868530ac7e920543",
    "idx": 68,
    "time": "2021-01-23T21:48:37.120Z",
    "type": "execution"
   },
   {
    "code": "# HIDDEN TEST\nprob_sample_counts(6, 6, 2) == 0",
    "id": "e0c408edc17a411c9ed23cca33ee9bc5",
    "idx": 69,
    "time": "2021-01-23T21:48:37.125Z",
    "type": "execution"
   },
   {
    "code": "# HIDDEN TEST\nnp.isclose(prob_sample_counts(6, 12, 2), 0.01095, atol = 1e-4)",
    "id": "5c3828052c4248c3af031efc31b1dc7d",
    "idx": 70,
    "time": "2021-01-23T21:48:37.129Z",
    "type": "execution"
   },
   {
    "code": "# HIDDEN TEST\nnp.isclose(prob_sample_counts(13, 7, 0), 0.03169, atol = 1e-4)",
    "id": "1b5d3eab73614eec813d52ab44acb1d8",
    "idx": 71,
    "time": "2021-01-23T21:48:37.132Z",
    "type": "execution"
   },
   {
    "code": "# HIDDEN TEST\nnp.isclose(prob_sample_counts(13, 5, 2), 0.00562, atol = 1e-4)",
    "id": "8285217ca0134e218d7ed7e29298573a",
    "idx": 72,
    "time": "2021-01-23T21:48:37.135Z",
    "type": "execution"
   },
   {
    "code": "prob_3d = sum(prob_sample_counts(t, c, 20-(t+c)) for t in range(21) for c in range(0, 21-t)) # SOLUTION\nprob_3d",
    "id": "c9eb6bdf28b245228c52db3692bdde90",
    "idx": 74,
    "time": "2021-01-23T21:48:37.139Z",
    "type": "execution"
   },
   {
    "code": "# TEST\nnp.isclose(prob_3d, 1, atol = 1e-4)",
    "id": "7a2b5b3ec7ce495ab4cba58fd78b477e",
    "idx": 75,
    "time": "2021-01-23T21:48:37.142Z",
    "type": "execution"
   },
   {
    "code": "# HIDDEN TEST\nnp.isclose(prob_3d, 1, atol = 1e-4)",
    "id": "82c6f152c79a4a268617fac53b0f7297",
    "idx": 76,
    "time": "2021-01-23T21:48:37.146Z",
    "type": "execution"
   },
   {
    "code": "prob_3e = prob_sample_counts(11, 8, 1) # SOLUTION\nprob_3e",
    "id": "7fcfe91b3df4486d8c4e3464a6c676ed",
    "idx": 78,
    "time": "2021-01-23T21:48:37.150Z",
    "type": "execution"
   },
   {
    "code": "# TEST\nprob_3e >= 0 and prob_3e <= 1",
    "id": "f457b33bc8674894ad7ec071e416d4a9",
    "idx": 79,
    "time": "2021-01-23T21:48:37.154Z",
    "type": "execution"
   },
   {
    "code": "# HIDDEN TEST\nnp.isclose(prob_3e, 0.05509, atol = 1e-4)",
    "id": "b57dbe1dcaa742728bfe2306f33fc72e",
    "idx": 80,
    "time": "2021-01-23T21:48:37.158Z",
    "type": "execution"
   },
   {
    "code": "prob_3f = sum(prob_sample_counts(t, c, 20-(t+c)) for t in range(7, 13) for c in range(7, 20-t)) # SOLUTION\nprob_3f",
    "id": "5dd79ef94fd842db8803cb43750bed25",
    "idx": 82,
    "time": "2021-01-23T21:48:37.165Z",
    "type": "execution"
   },
   {
    "code": "# TEST\nprob_3f >= 0 and prob_3f <= 1",
    "id": "04819c13bb9742e98ff78d4dd08f3637",
    "idx": 83,
    "time": "2021-01-23T21:48:37.169Z",
    "type": "execution"
   },
   {
    "code": "# HIDDEN TEST\nnp.isclose(prob_3f, 0.46939, atol = 1e-4)",
    "id": "ee73ff5a3e184f7daa26425f8d843c94",
    "idx": 84,
    "time": "2021-01-23T21:48:37.173Z",
    "type": "execution"
   },
   {
    "code": "def draw_state_sample(N, state):\n    # BEGIN SOLUTION \n    if state == \"florida\":\n        return np.random.multinomial(N, [0.4902, 0.4782, 1 - (0.4902 + 0.4782)])\n    \n    if state == \"michigan\": \n        return np.random.multinomial(N, [0.475, 0.4727, 1 - (0.475 + 0.4727)])\n\n    if state == \"pennsylvania\":\n        return np.random.multinomial(N, [0.4818, 0.4746, 1 - (0.4818 + 0.4746)])\n  \n    if state == \"wisconsin\":\n        return np.random.multinomial(N, [0.4722, 0.4645, 1 - (0.4722 + 0.4645)])\n\n    raise(\"invalid state\")\n    # END SOLUTION",
    "id": "8fe21bd6a5d14aef96b3182eaec02042",
    "idx": 98,
    "time": "2021-01-23T21:48:37.187Z",
    "type": "execution"
   },
   {
    "code": "# TEST\nlen(draw_state_sample(1500, \"florida\")) == 3",
    "id": "ea70a7e0cdaa47cfa97b83f69b8f6bd0",
    "idx": 99,
    "time": "2021-01-23T21:48:37.191Z",
    "type": "execution"
   },
   {
    "code": "# TEST \nsum(draw_state_sample(1500, \"michigan\")) == 1500",
    "id": "9bdf6a755df24968a0b08f58c2e71f4d",
    "idx": 100,
    "time": "2021-01-23T21:48:37.198Z",
    "type": "execution"
   },
   {
    "code": "# TEST\nq7a_penn = draw_state_sample(1500, \"pennsylvania\")\ntrump_win_penn = (q7a_penn[0] - q7a_penn[1]) / 1500\nabs(trump_win_penn - 0.007) <= 0.12",
    "id": "3a4cfa9f2ace4979b904afbe52dc85e8",
    "idx": 101,
    "time": "2021-01-23T21:48:37.202Z",
    "type": "execution"
   },
   {
    "code": "def trump_advantage(voter_sample):\n    # BEGIN SOLUTION \n    N = sum(voter_sample)\n    percentage_trump = voter_sample[0]/N \n    percentage_clinton = voter_sample[1]/N \n    return percentage_trump - percentage_clinton\n    # END SOLUTION",
    "id": "1404c78e30d447808dd7199d0b479184",
    "idx": 103,
    "time": "2021-01-23T21:48:37.206Z",
    "type": "execution"
   },
   {
    "code": "# TEST\n-1 < trump_advantage(draw_state_sample(1500, \"wisconsin\")) < 1",
    "id": "d941f4a8cdd84e0ea8de879669856f61",
    "idx": 104,
    "time": "2021-01-23T21:48:37.210Z",
    "type": "execution"
   },
   {
    "code": "# TEST\nnp.isclose(trump_advantage([100, 60, 40]), 0.2)",
    "id": "aa851f0f6d344198a30cc3039cb39e77",
    "idx": 105,
    "time": "2021-01-23T21:48:37.214Z",
    "type": "execution"
   },
   {
    "code": "# TEST\nnp.isclose(trump_advantage([10, 30, 10]), -0.4)",
    "id": "79f6a59ecaa6411c8f9231f2557e0bb4",
    "idx": 106,
    "time": "2021-01-23T21:48:37.217Z",
    "type": "execution"
   },
   {
    "code": "simulations = [trump_advantage(draw_state_sample(1500, \"pennsylvania\")) for i in range(100000)] # SOLUTION",
    "id": "84c14ccc49154f668ed9f7edb7d430fa",
    "idx": 108,
    "time": "2021-01-23T21:48:37.221Z",
    "type": "execution"
   },
   {
    "code": "# TEST\nlen(simulations) == 100000",
    "id": "b68d426107104885949db508865d56ab",
    "idx": 109,
    "time": "2021-01-23T21:48:37.224Z",
    "type": "execution"
   },
   {
    "code": "# TEST\nsum([-1 < x < 1 for x in simulations]) == len(simulations)",
    "id": "9743053eb8eb4c36908aa1d2389b40f1",
    "idx": 110,
    "time": "2021-01-23T21:48:37.227Z",
    "type": "execution"
   },
   {
    "code": "# TEST\nabs(np.mean(simulations) - 0.007) <= 0.016",
    "id": "9ce83a25df2a40b9977a9a78e24a26b5",
    "idx": 111,
    "time": "2021-01-23T21:48:37.231Z",
    "type": "execution"
   },
   {
    "code": "# BEGIN SOLUTION\nplt.hist(simulations) ;\nplt.title('Pennsylvania');\nplt.ylabel('# of Simulations');\nplt.xlabel('Sampling Distribution Advantage');\n# END SOLUTION",
    "id": "6bdc1384f83241a48222e9ed20494d7c",
    "idx": 113,
    "time": "2021-01-23T21:48:37.235Z",
    "type": "execution"
   },
   {
    "code": "def trump_wins(N):\n    # BEGIN SOLUTION \n    wins_florida = trump_advantage(draw_state_sample(N, \"florida\")) > 0\n    wins_michigan = trump_advantage(draw_state_sample(N, \"michigan\")) > 0\n    wins_pennsylvania = trump_advantage(draw_state_sample(N, \"pennsylvania\")) > 0\n    wins_wisconsin = trump_advantage(draw_state_sample(N, \"wisconsin\")) > 0\n    if wins_michigan and wins_pennsylvania and wins_wisconsin:\n        return 1\n    if wins_florida and (wins_michigan or wins_pennsylvania or wins_wisconsin):\n        return 1\n    return 0\n    # END SOLUTION",
    "id": "4039454d470642128e018a2f340c0538",
    "idx": 115,
    "time": "2021-01-23T21:48:37.238Z",
    "type": "execution"
   },
   {
    "code": "# TEST\ntrump_wins(1000) in [0, 1]",
    "id": "bf75dae85c3e41c99c8150776dd9068d",
    "idx": 116,
    "time": "2021-01-23T21:48:37.242Z",
    "type": "execution"
   },
   {
    "code": "proportion_trump = np.mean([trump_wins(1500) for i in range(100000)]) # SOLUTION\nproportion_trump",
    "id": "26efb4f8a1824e0c88bb216534551591",
    "idx": 118,
    "time": "2021-01-23T21:48:37.246Z",
    "type": "execution"
   },
   {
    "code": "# TEST\n0 < proportion_trump < 1",
    "id": "85aa0487ae7543489c079cc129284b0e",
    "idx": 119,
    "time": "2021-01-23T21:48:37.249Z",
    "type": "execution"
   },
   {
    "code": "# TEST\nabs(proportion_trump - 0.695) <= 0.02",
    "id": "2675f62285cb4d19932cf605fb510707",
    "idx": 120,
    "time": "2021-01-23T21:48:37.253Z",
    "type": "execution"
   },
   {
    "code": "def draw_biased_state_sample(N, state):\n    \n    # BEGIN SOLUTION \n    if state == \"florida\":\n        return np.random.multinomial(N, [0.4902 - 0.005, 0.4782 + 0.005, 1 - (0.4902 + 0.4782)])\n    \n    if state == \"michigan\": \n        return np.random.multinomial(N, [0.475 - 0.005, 0.4727 + 0.005, 1 - (0.475 + 0.4727)])\n\n    if state == \"pennsylvania\":\n        return np.random.multinomial(N, [0.4818 - 0.005, 0.4746 + 0.005, 1 - (0.4818 + 0.4746)])\n  \n    if state == \"wisconsin\":\n        return np.random.multinomial(N, [0.4722 - 0.005, 0.4645 + 0.005, 1 - (0.4722 + 0.4645)])\n\n    raise(\"invalid state\")\n    # END SOLUTION\n    \nbiased_simulations = [trump_advantage(draw_biased_state_sample(1500, \"pennsylvania\")) for i in range(100000)] # SOLUTION",
    "id": "1ff387807db94700a63d77d3c1e8fb86",
    "idx": 124,
    "time": "2021-01-23T21:48:37.258Z",
    "type": "execution"
   },
   {
    "code": "# TEST\nlen(draw_biased_state_sample(1000, \"wisconsin\")) == 3",
    "id": "18cdd85d443d4d018969163d737e32b4",
    "idx": 125,
    "time": "2021-01-23T21:48:37.261Z",
    "type": "execution"
   },
   {
    "code": "# TEST\nsum(draw_biased_state_sample(1000, \"michigan\")) == 1000",
    "id": "5e13d84d3eaa4678866b718d0209eaf1",
    "idx": 126,
    "time": "2021-01-23T21:48:37.264Z",
    "type": "execution"
   },
   {
    "code": "# TEST\nq7_1 = draw_biased_state_sample(3000, \"florida\")\nq7_1[0] > q7_1[2] and q7_1[1] > q7_1[2]",
    "id": "781806d2d30a4fe48e226059af4f0a21",
    "idx": 127,
    "time": "2021-01-23T21:48:37.268Z",
    "type": "execution"
   },
   {
    "code": "# TEST\nlen(biased_simulations) == 100000",
    "id": "8918a8df1868472c939b0bc23c02f3b9",
    "idx": 128,
    "time": "2021-01-23T21:48:37.271Z",
    "type": "execution"
   },
   {
    "code": "# TEST\nsum([-1 < x < 1 for x in biased_simulations]) == len(biased_simulations)",
    "id": "877f92a5f38340b7b51fb574bd365e0c",
    "idx": 129,
    "time": "2021-01-23T21:48:37.274Z",
    "type": "execution"
   },
   {
    "code": "# TEST\nabs(np.mean(biased_simulations) + 0.003) <= 0.12",
    "id": "a7a6fef5e9bf4dce8911896e259ec312",
    "idx": 130,
    "time": "2021-01-23T21:48:37.278Z",
    "type": "execution"
   },
   {
    "code": "# BEGIN SOLUTION\nplt.hist(biased_simulations) ;\nplt.title('Biased Sampling of Pennsylvania') ;\nplt.ylabel('# of Simulations');\nplt.xlabel('Sampling Distribution Advantage');\n# END SOLUTION",
    "id": "637730b8633341de858c757d2b7ca6ce",
    "idx": 132,
    "time": "2021-01-23T21:48:37.281Z",
    "type": "execution"
   },
   {
    "code": "def trump_wins_biased(N): \n    # BEGIN SOLUTION \n    wins_florida = trump_advantage(draw_biased_state_sample(N, \"florida\")) > 0\n    wins_michigan = trump_advantage(draw_biased_state_sample(N, \"michigan\")) > 0\n    wins_pennsylvania = trump_advantage(draw_biased_state_sample(N, \"pennsylvania\")) > 0\n    wins_wisconsin = trump_advantage(draw_biased_state_sample(N, \"wisconsin\")) > 0\n    if wins_michigan and wins_pennsylvania and wins_wisconsin:\n        return 1\n    if wins_florida and (wins_michigan or wins_pennsylvania or wins_wisconsin):\n        return 1\n    return 0\n    # END SOLUTION\n\nproportion_trump_biased = np.mean([trump_wins_biased(1500) for i in range(100000)]) # SOLUTION\nproportion_trump_biased",
    "id": "0e8439d120e54c198d72db1d863959c0",
    "idx": 136,
    "time": "2021-01-23T21:48:37.287Z",
    "type": "execution"
   },
   {
    "code": "# TEST\n0 < proportion_trump_biased < 1",
    "id": "412e961a3b614b968a8f29f2a028fe31",
    "idx": 137,
    "time": "2021-01-23T21:48:37.290Z",
    "type": "execution"
   },
   {
    "code": "# TEST\nabs(proportion_trump_biased - 0.466) <= 0.04",
    "id": "67ab961501094d12baa8c0ecc57aec27",
    "idx": 138,
    "time": "2021-01-23T21:48:37.294Z",
    "type": "execution"
   },
   {
    "code": "high_sample_size_unbiased_proportion_trump = np.mean([trump_wins(5000) for i in range(100000)])  # SOLUTION\nhigh_sample_size_biased_proportion_trump = np.mean([trump_wins_biased(5000) for i in range(100000)])  # SOLUTION\nprint(high_sample_size_unbiased_proportion_trump, high_sample_size_biased_proportion_trump)",
    "id": "a75269063207490db6a4bba2bd678958",
    "idx": 141,
    "time": "2021-01-23T21:48:37.298Z",
    "type": "execution"
   },
   {
    "code": "# TEST\nnp.abs(high_sample_size_unbiased_proportion_trump - 0.829) <= 0.02",
    "id": "7598f8ac178f40ec8b6fb65be77544ed",
    "idx": 142,
    "time": "2021-01-23T21:48:37.302Z",
    "type": "execution"
   },
   {
    "code": "# TEST \nnp.abs(high_sample_size_biased_proportion_trump - 0.445) <= 0.04",
    "id": "5874694d43b3458283c9fb26c6bbc7e8",
    "idx": 143,
    "time": "2021-01-23T21:48:37.304Z",
    "type": "execution"
   },
   {
    "code": "# Feel free to use this cell for any scratch work (creating visualizations, examining data, etc.)",
    "id": "5998b4d4fc4a4d5585a9a7172ceac024",
    "idx": 145,
    "time": "2021-01-23T21:48:37.309Z",
    "type": "execution"
   },
   {
    "id": "07375046d98444e281b75644b7875f95",
    "time": "2021-01-23T21:48:37.988Z",
    "type": "completion"
   },
   {
    "id": "ca39083560ea48cf8a0c0ab0b13e4a27",
    "time": "2021-01-23T21:48:37.991Z",
    "type": "completion"
   },
   {
    "id": "546d30b5861449e185cf528e370283f4",
    "time": "2021-01-23T21:48:38.084Z",
    "type": "completion"
   },
   {
    "id": "cdacb5e5b5f5491ebea0d749e96e2402",
    "time": "2021-01-23T21:48:38.093Z",
    "type": "completion"
   },
   {
    "id": "eec6b0ee84b547228484cd07185aef3a",
    "time": "2021-01-23T21:48:38.102Z",
    "type": "completion"
   },
   {
    "id": "af3b02975565487986a72fd8707c2f9f",
    "time": "2021-01-23T21:48:38.120Z",
    "type": "completion"
   },
   {
    "id": "0f105036c2234405a0b2d62c2868d190",
    "time": "2021-01-23T21:48:38.125Z",
    "type": "completion"
   },
   {
    "id": "5838c54b39cc421c890b923111e00494",
    "time": "2021-01-23T21:48:38.128Z",
    "type": "completion"
   },
   {
    "id": "b9f7002ce1c4413e84f330d03ad31725",
    "time": "2021-01-23T21:48:38.135Z",
    "type": "completion"
   },
   {
    "id": "f9d1a7f6b6fe49108c96260b5a5fccf0",
    "time": "2021-01-23T21:48:38.150Z",
    "type": "completion"
   },
   {
    "id": "50904c34398d4918b2dcc241adcdd6a8",
    "time": "2021-01-23T21:48:38.158Z",
    "type": "completion"
   },
   {
    "id": "90f6c97618f94fa79d3380d9c710a12b",
    "time": "2021-01-23T21:48:38.161Z",
    "type": "completion"
   },
   {
    "id": "4173ddcd4e1640f4bd6188effa6f43b1",
    "time": "2021-01-23T21:48:38.201Z",
    "type": "completion"
   },
   {
    "id": "657df98b45184f34946c7e4ac100efcc",
    "time": "2021-01-23T21:48:38.221Z",
    "type": "completion"
   },
   {
    "id": "935a2ffad450451797dfcc5b047755a0",
    "time": "2021-01-23T21:48:38.226Z",
    "type": "completion"
   },
   {
    "id": "130d2dd651f8442e87a118bb867d08ac",
    "time": "2021-01-23T21:48:38.301Z",
    "type": "completion"
   },
   {
    "id": "5a339ffda5a2464a86d95aa1d8971b3d",
    "time": "2021-01-23T21:48:38.358Z",
    "type": "completion"
   },
   {
    "id": "a1a9472708d84cc189f5449729557e17",
    "time": "2021-01-23T21:48:38.364Z",
    "type": "completion"
   },
   {
    "id": "55237996ee7d44e980a858332e3d9647",
    "time": "2021-01-23T21:48:38.370Z",
    "type": "completion"
   },
   {
    "id": "503b79910c514d8f9f2046fdee3b760d",
    "time": "2021-01-23T21:48:38.375Z",
    "type": "completion"
   },
   {
    "id": "1fee61bd636a4537be2e225c71113061",
    "time": "2021-01-23T21:48:38.412Z",
    "type": "completion"
   },
   {
    "id": "b6ea452a317547a98539e9a3610f76b6",
    "time": "2021-01-23T21:48:38.482Z",
    "type": "completion"
   },
   {
    "id": "740b927cd5c04911863f7afd0e4f8f56",
    "time": "2021-01-23T21:48:38.487Z",
    "type": "completion"
   },
   {
    "id": "73d052a1a7d3435181ad634b43ba9058",
    "time": "2021-01-23T21:48:38.492Z",
    "type": "completion"
   },
   {
    "id": "30a63dda25564ef798da00a017df030a",
    "time": "2021-01-23T21:48:38.496Z",
    "type": "completion"
   },
   {
    "id": "c19c832fa41f46e08c57b815296be79a",
    "time": "2021-01-23T21:48:38.498Z",
    "type": "completion"
   },
   {
    "id": "d547a11c354d4ad3b8b675c5e3eb0b7d",
    "time": "2021-01-23T21:48:38.502Z",
    "type": "completion"
   },
   {
    "id": "f145bb9b002c49e3a863cfaab4467aae",
    "time": "2021-01-23T21:48:38.504Z",
    "type": "completion"
   },
   {
    "id": "99f9aec328bd4afc9d5daa52f3885683",
    "time": "2021-01-23T21:48:38.507Z",
    "type": "completion"
   },
   {
    "id": "0888f108b7e2463286cd457555e111ae",
    "time": "2021-01-23T21:48:38.509Z",
    "type": "completion"
   },
   {
    "id": "a21ac002a2cf40ac8e34e2249b02b7ff",
    "time": "2021-01-23T21:48:38.512Z",
    "type": "completion"
   },
   {
    "id": "7f841ce92e0843bf988238d86a200552",
    "time": "2021-01-23T21:48:38.514Z",
    "type": "completion"
   },
   {
    "id": "feacd24ac12b42f283d4acac35fe18e7",
    "time": "2021-01-23T21:48:38.516Z",
    "type": "completion"
   },
   {
    "id": "5d009f8137de4f46a8f29cb7dbcbf1a1",
    "time": "2021-01-23T21:48:38.517Z",
    "type": "completion"
   },
   {
    "id": "6e00401dd8cd425797371d55bd30d6ad",
    "time": "2021-01-23T21:48:38.582Z",
    "type": "completion"
   },
   {
    "id": "4509a567eb874e3187ed7b3bc31f6749",
    "time": "2021-01-23T21:48:38.583Z",
    "type": "completion"
   },
   {
    "id": "cc8c9ae26ae340dcb3e81ce9915fbd76",
    "time": "2021-01-23T21:48:38.585Z",
    "type": "completion"
   },
   {
    "id": "a2ca3b4de3c4441db397aaaab0d513d9",
    "time": "2021-01-23T21:48:38.587Z",
    "type": "completion"
   },
   {
    "id": "fbca87c0854449d38b8d114094c49c5d",
    "time": "2021-01-23T21:48:38.589Z",
    "type": "completion"
   },
   {
    "id": "5af515b0b8604114a14dc807a547c0b1",
    "time": "2021-01-23T21:48:38.656Z",
    "type": "completion"
   },
   {
    "id": "ba76be6ba14b45a19d644c2335b5523c",
    "time": "2021-01-23T21:48:38.658Z",
    "type": "completion"
   },
   {
    "id": "92c511f89990432780373a8f3a2aa2ee",
    "time": "2021-01-23T21:48:38.661Z",
    "type": "completion"
   },
   {
    "id": "00fdb3c2df454397868530ac7e920543",
    "time": "2021-01-23T21:48:38.663Z",
    "type": "completion"
   },
   {
    "id": "e0c408edc17a411c9ed23cca33ee9bc5",
    "time": "2021-01-23T21:48:38.665Z",
    "type": "completion"
   },
   {
    "id": "5c3828052c4248c3af031efc31b1dc7d",
    "time": "2021-01-23T21:48:38.667Z",
    "type": "completion"
   },
   {
    "id": "1b5d3eab73614eec813d52ab44acb1d8",
    "time": "2021-01-23T21:48:38.670Z",
    "type": "completion"
   },
   {
    "id": "8285217ca0134e218d7ed7e29298573a",
    "time": "2021-01-23T21:48:38.672Z",
    "type": "completion"
   },
   {
    "id": "c9eb6bdf28b245228c52db3692bdde90",
    "time": "2021-01-23T21:48:38.673Z",
    "type": "completion"
   },
   {
    "id": "7a2b5b3ec7ce495ab4cba58fd78b477e",
    "time": "2021-01-23T21:48:38.676Z",
    "type": "completion"
   },
   {
    "id": "82c6f152c79a4a268617fac53b0f7297",
    "time": "2021-01-23T21:48:38.678Z",
    "type": "completion"
   },
   {
    "id": "7fcfe91b3df4486d8c4e3464a6c676ed",
    "time": "2021-01-23T21:48:38.680Z",
    "type": "completion"
   },
   {
    "id": "f457b33bc8674894ad7ec071e416d4a9",
    "time": "2021-01-23T21:48:38.682Z",
    "type": "completion"
   },
   {
    "id": "b57dbe1dcaa742728bfe2306f33fc72e",
    "time": "2021-01-23T21:48:38.685Z",
    "type": "completion"
   },
   {
    "id": "5dd79ef94fd842db8803cb43750bed25",
    "time": "2021-01-23T21:48:38.688Z",
    "type": "completion"
   },
   {
    "id": "04819c13bb9742e98ff78d4dd08f3637",
    "time": "2021-01-23T21:48:38.690Z",
    "type": "completion"
   },
   {
    "id": "ee73ff5a3e184f7daa26425f8d843c94",
    "time": "2021-01-23T21:48:38.692Z",
    "type": "completion"
   },
   {
    "id": "8fe21bd6a5d14aef96b3182eaec02042",
    "time": "2021-01-23T21:48:38.701Z",
    "type": "completion"
   },
   {
    "id": "ea70a7e0cdaa47cfa97b83f69b8f6bd0",
    "time": "2021-01-23T21:48:38.767Z",
    "type": "completion"
   },
   {
    "id": "9bdf6a755df24968a0b08f58c2e71f4d",
    "time": "2021-01-23T21:48:38.771Z",
    "type": "completion"
   },
   {
    "id": "3a4cfa9f2ace4979b904afbe52dc85e8",
    "time": "2021-01-23T21:48:38.773Z",
    "type": "completion"
   },
   {
    "id": "1404c78e30d447808dd7199d0b479184",
    "time": "2021-01-23T21:48:38.774Z",
    "type": "completion"
   },
   {
    "id": "d941f4a8cdd84e0ea8de879669856f61",
    "time": "2021-01-23T21:48:38.776Z",
    "type": "completion"
   },
   {
    "id": "aa851f0f6d344198a30cc3039cb39e77",
    "time": "2021-01-23T21:48:38.779Z",
    "type": "completion"
   },
   {
    "id": "79f6a59ecaa6411c8f9231f2557e0bb4",
    "time": "2021-01-23T21:48:38.781Z",
    "type": "completion"
   },
   {
    "id": "84c14ccc49154f668ed9f7edb7d430fa",
    "time": "2021-01-23T21:48:40.465Z",
    "type": "completion"
   },
   {
    "id": "b68d426107104885949db508865d56ab",
    "time": "2021-01-23T21:48:40.470Z",
    "type": "completion"
   },
   {
    "id": "9743053eb8eb4c36908aa1d2389b40f1",
    "time": "2021-01-23T21:48:40.753Z",
    "type": "completion"
   },
   {
    "id": "9ce83a25df2a40b9977a9a78e24a26b5",
    "time": "2021-01-23T21:48:40.760Z",
    "type": "completion"
   },
   {
    "id": "6bdc1384f83241a48222e9ed20494d7c",
    "time": "2021-01-23T21:48:41.864Z",
    "type": "completion"
   },
   {
    "id": "4039454d470642128e018a2f340c0538",
    "time": "2021-01-23T21:48:41.906Z",
    "type": "completion"
   },
   {
    "id": "bf75dae85c3e41c99c8150776dd9068d",
    "time": "2021-01-23T21:48:41.909Z",
    "type": "completion"
   },
   {
    "id": "26efb4f8a1824e0c88bb216534551591",
    "time": "2021-01-23T21:48:50.053Z",
    "type": "completion"
   },
   {
    "id": "85aa0487ae7543489c079cc129284b0e",
    "time": "2021-01-23T21:48:50.055Z",
    "type": "completion"
   },
   {
    "id": "2675f62285cb4d19932cf605fb510707",
    "time": "2021-01-23T21:48:50.059Z",
    "type": "completion"
   },
   {
    "id": "1ff387807db94700a63d77d3c1e8fb86",
    "time": "2021-01-23T21:48:52.199Z",
    "type": "completion"
   },
   {
    "id": "18cdd85d443d4d018969163d737e32b4",
    "time": "2021-01-23T21:48:52.203Z",
    "type": "completion"
   },
   {
    "id": "5e13d84d3eaa4678866b718d0209eaf1",
    "time": "2021-01-23T21:48:52.273Z",
    "type": "completion"
   },
   {
    "id": "781806d2d30a4fe48e226059af4f0a21",
    "time": "2021-01-23T21:48:52.278Z",
    "type": "completion"
   },
   {
    "id": "8918a8df1868472c939b0bc23c02f3b9",
    "time": "2021-01-23T21:48:52.281Z",
    "type": "completion"
   },
   {
    "id": "877f92a5f38340b7b51fb574bd365e0c",
    "time": "2021-01-23T21:48:52.645Z",
    "type": "completion"
   },
   {
    "id": "a7a6fef5e9bf4dce8911896e259ec312",
    "time": "2021-01-23T21:48:52.703Z",
    "type": "completion"
   },
   {
    "id": "637730b8633341de858c757d2b7ca6ce",
    "time": "2021-01-23T21:48:53.826Z",
    "type": "completion"
   },
   {
    "id": "0e8439d120e54c198d72db1d863959c0",
    "time": "2021-01-23T21:49:01.608Z",
    "type": "completion"
   },
   {
    "id": "412e961a3b614b968a8f29f2a028fe31",
    "time": "2021-01-23T21:49:01.612Z",
    "type": "completion"
   },
   {
    "id": "67ab961501094d12baa8c0ecc57aec27",
    "time": "2021-01-23T21:49:01.719Z",
    "type": "completion"
   },
   {
    "code": "# TEST\nassert prob_at_most(3, 0.4, 1) >= 0\nassert prob_at_most(5, 0.6, 3) <= 1\nassert prob_at_most(2, 3, 4) == 0",
    "id": "5a339ffda5a2464a86d95aa1d8971b3d",
    "idx": 35,
    "time": "2021-01-23T21:49:16.005Z",
    "type": "execution"
   },
   {
    "id": "a75269063207490db6a4bba2bd678958",
    "time": "2021-01-23T21:49:18.563Z",
    "type": "completion"
   },
   {
    "id": "7598f8ac178f40ec8b6fb65be77544ed",
    "time": "2021-01-23T21:49:18.567Z",
    "type": "completion"
   },
   {
    "id": "5874694d43b3458283c9fb26c6bbc7e8",
    "time": "2021-01-23T21:49:18.627Z",
    "type": "completion"
   },
   {
    "id": "5998b4d4fc4a4d5585a9a7172ceac024",
    "time": "2021-01-23T21:49:18.631Z",
    "type": "completion"
   },
   {
    "id": "5a339ffda5a2464a86d95aa1d8971b3d",
    "time": "2021-01-23T21:49:18.635Z",
    "type": "completion"
   },
   {
    "code": "# HIDDEN TEST\nassert np.isclose(prob_at_most(10, 0.7, 4), 0.0473, atol = 1e-4)\nassert np.isclose(prob_at_most(10, 0.7, 4), 0.0473, atol = 1e-4)\nassert np.isclose(prob_at_most(5, 1, 1), 0, atol = 1e-4)\nassert np.isclose(prob_at_most(8, 0.7, 3), 0.05797, atol = 1e-4)",
    "id": "503b79910c514d8f9f2046fdee3b760d",
    "idx": 36,
    "time": "2021-01-23T21:49:30.589Z",
    "type": "execution"
   },
   {
    "id": "503b79910c514d8f9f2046fdee3b760d",
    "time": "2021-01-23T21:49:30.732Z",
    "type": "completion"
   },
   {
    "code": "# TEST\nassert prob_at_most(3, 0.4, 1) >= 0\nassert prob_at_most(5, 0.6, 3) <= 1\nassert prob_at_most(2, 3, 4) == 0",
    "id": "5a339ffda5a2464a86d95aa1d8971b3d",
    "idx": 35,
    "time": "2021-01-23T21:49:46.560Z",
    "type": "execution"
   },
   {
    "id": "5a339ffda5a2464a86d95aa1d8971b3d",
    "time": "2021-01-23T21:49:46.655Z",
    "type": "completion"
   },
   {
    "code": "# HIDDEN TEST\nnp.isclose(prob_at_most(10, 0.7, 4), 0.0473, atol = 1e-4)",
    "id": "503b79910c514d8f9f2046fdee3b760d",
    "idx": 36,
    "time": "2021-01-23T21:49:46.686Z",
    "type": "execution"
   },
   {
    "id": "503b79910c514d8f9f2046fdee3b760d",
    "time": "2021-01-23T21:49:46.769Z",
    "type": "completion"
   },
   {
    "code": "# HIDDEN TEST\nnp.isclose(prob_at_most(10, 0.7, 4), 0.0473, atol = 1e-4)",
    "id": "fedd5027cfeb4f3c8e1a7461bbc3ce1a",
    "idx": 37,
    "time": "2021-01-23T21:49:46.839Z",
    "type": "execution"
   },
   {
    "code": "# HIDDEN TEST\nnp.isclose(prob_at_most(5, 1, 1), 0, atol = 1e-4)",
    "id": "a5d7ff2507a94b018296b82bdcfbb9a5",
    "idx": 38,
    "time": "2021-01-23T21:49:46.977Z",
    "type": "execution"
   },
   {
    "code": "# HIDDEN TEST\nnp.isclose(prob_at_most(8, 0.7, 3), 0.05797, atol = 1e-4)",
    "id": "1f6890d7ce9a4ef28ae5e4462f10fb57",
    "idx": 39,
    "time": "2021-01-23T21:49:47.113Z",
    "type": "execution"
   },
   {
    "id": "fedd5027cfeb4f3c8e1a7461bbc3ce1a",
    "time": "2021-01-23T21:49:47.145Z",
    "type": "completion"
   },
   {
    "id": "a5d7ff2507a94b018296b82bdcfbb9a5",
    "time": "2021-01-23T21:49:47.274Z",
    "type": "completion"
   },
   {
    "id": "1f6890d7ce9a4ef28ae5e4462f10fb57",
    "time": "2021-01-23T21:49:47.277Z",
    "type": "completion"
   },
   {
    "code": "ans_3a = 'b' # SOLUTION",
    "id": "0888f108b7e2463286cd457555e111ae",
    "idx": 51,
    "time": "2021-01-23T21:52:08.756Z",
    "type": "execution"
   },
   {
    "id": "0888f108b7e2463286cd457555e111ae",
    "time": "2021-01-23T21:52:08.894Z",
    "type": "completion"
   },
   {
    "code": "# TEST\nans_3a in ['a', 'b', 'c', 'd']",
    "id": "a21ac002a2cf40ac8e34e2249b02b7ff",
    "idx": 52,
    "time": "2021-01-23T21:52:08.919Z",
    "type": "execution"
   },
   {
    "id": "a21ac002a2cf40ac8e34e2249b02b7ff",
    "time": "2021-01-23T21:52:09.053Z",
    "type": "completion"
   },
   {
    "code": "# HIDDEN TEST\nans_3a == 'b'",
    "id": "7f841ce92e0843bf988238d86a200552",
    "idx": 53,
    "time": "2021-01-23T21:52:09.123Z",
    "type": "execution"
   },
   {
    "id": "7f841ce92e0843bf988238d86a200552",
    "time": "2021-01-23T21:52:09.264Z",
    "type": "completion"
   },
   {
    "code": "# TEST\nassert np.isclose(prob_sample_counts(31, 8, 1), 0, atol = 1e-5)\nassert 0 <= prob_sample_counts(2, 5, 13) <= 1\nassert 0 <= prob_sample_counts(5, 1, 14) <= 1\nassert 0 <= prob_sample_counts(10, 8, 2) <= 1\nassert 0 <= prob_sample_counts(6, 12, 2) <= 1",
    "id": "cc8c9ae26ae340dcb3e81ce9915fbd76",
    "idx": 60,
    "time": "2021-01-23T21:54:57.593Z",
    "type": "execution"
   },
   {
    "id": "cc8c9ae26ae340dcb3e81ce9915fbd76",
    "time": "2021-01-23T21:54:57.797Z",
    "type": "completion"
   },
   {
    "code": "# HIDDEN TEST\nassert prob_sample_counts(6, 12, 8) == 0\nassert prob_sample_counts(21, 0, 3) == 0\nassert prob_sample_counts(6, 6, 2) == 0\nassert np.isclose(prob_sample_counts(6, 12, 2), 0.01095, atol = 1e-4)\nassert np.isclose(prob_sample_counts(13, 7, 0), 0.03169, atol = 1e-4)\nassert np.isclose(prob_sample_counts(13, 5, 2), 0.00562, atol = 1e-4)",
    "id": "92c511f89990432780373a8f3a2aa2ee",
    "idx": 61,
    "time": "2021-01-23T21:55:20.487Z",
    "type": "execution"
   },
   {
    "id": "92c511f89990432780373a8f3a2aa2ee",
    "time": "2021-01-23T21:55:20.610Z",
    "type": "completion"
   },
   {
    "code": "# TEST\nassert len(draw_state_sample(1500, \"florida\")) == 3\nassert sum(draw_state_sample(1500, \"michigan\")) == 1500",
    "id": "ea70a7e0cdaa47cfa97b83f69b8f6bd0",
    "idx": 88,
    "time": "2021-01-23T21:57:06.918Z",
    "type": "execution"
   },
   {
    "id": "ea70a7e0cdaa47cfa97b83f69b8f6bd0",
    "time": "2021-01-23T21:57:07.044Z",
    "type": "completion"
   },
   {
    "code": "# TEST\nq7a_penn = draw_state_sample(1500, \"pennsylvania\")\ntrump_win_penn = (q7a_penn[0] - q7a_penn[1]) / 1500\nabs(trump_win_penn - 0.007) <= 0.12",
    "id": "3a4cfa9f2ace4979b904afbe52dc85e8",
    "idx": 89,
    "time": "2021-01-23T21:57:07.276Z",
    "type": "execution"
   },
   {
    "id": "3a4cfa9f2ace4979b904afbe52dc85e8",
    "time": "2021-01-23T21:57:07.389Z",
    "type": "completion"
   },
   {
    "code": "def trump_advantage(voter_sample):\n    # BEGIN SOLUTION \n    N = sum(voter_sample)\n    percentage_trump = voter_sample[0]/N \n    percentage_clinton = voter_sample[1]/N \n    return percentage_trump - percentage_clinton\n    # END SOLUTION",
    "id": "1404c78e30d447808dd7199d0b479184",
    "idx": 91,
    "time": "2021-01-23T21:57:29.111Z",
    "type": "execution"
   },
   {
    "code": "# TEST\nassert -1 < trump_advantage(draw_state_sample(1500, \"wisconsin\")) < 1\nassert np.isclose(trump_advantage([100, 60, 40]), 0.2)\nassert np.isclose(trump_advantage([10, 30, 10]), -0.4)",
    "id": "d941f4a8cdd84e0ea8de879669856f61",
    "idx": 92,
    "time": "2021-01-23T21:57:29.248Z",
    "type": "execution"
   },
   {
    "id": "1404c78e30d447808dd7199d0b479184",
    "time": "2021-01-23T21:57:29.384Z",
    "type": "completion"
   },
   {
    "id": "d941f4a8cdd84e0ea8de879669856f61",
    "time": "2021-01-23T21:57:29.386Z",
    "type": "completion"
   },
   {
    "code": "# TEST\nassert len(simulations) == 100000\nassert sum([-1 < x < 1 for x in simulations]) == len(simulations)\nassert abs(np.mean(simulations) - 0.007) <= 0.016",
    "id": "b68d426107104885949db508865d56ab",
    "idx": 95,
    "time": "2021-01-23T21:57:49.737Z",
    "type": "execution"
   },
   {
    "id": "b68d426107104885949db508865d56ab",
    "time": "2021-01-23T21:57:50.276Z",
    "type": "completion"
   },
   {
    "code": "# BEGIN SOLUTION\nplt.hist(simulations) ;\nplt.title('Pennsylvania');\nplt.ylabel('# of Simulations');\nplt.xlabel('Sampling Distribution Advantage');\n# END SOLUTION",
    "id": "6bdc1384f83241a48222e9ed20494d7c",
    "idx": 97,
    "time": "2021-01-23T21:57:51.836Z",
    "type": "execution"
   },
   {
    "id": "6bdc1384f83241a48222e9ed20494d7c",
    "time": "2021-01-23T21:57:53.066Z",
    "type": "completion"
   },
   {
    "code": "import numpy as np\nimport matplotlib\nimport matplotlib.pyplot as plt\nimport seaborn as sns\n\nplt.style.use('fivethirtyeight')\n\n# Default plot configurations\n%matplotlib inline\nplt.rcParams['figure.figsize'] = (16,8)\nplt.rcParams['figure.dpi'] = 150\nsns.set()\n\nfrom IPython.display import display, Latex, Markdown",
    "id": "07375046d98444e281b75644b7875f95",
    "idx": 7,
    "time": "2021-01-23T21:58:23.021Z",
    "type": "execution"
   },
   {
    "code": "from scipy import special",
    "id": "ca39083560ea48cf8a0c0ab0b13e4a27",
    "idx": 10,
    "time": "2021-01-23T21:58:23.030Z",
    "type": "execution"
   },
   {
    "code": "special.factorial(5), special.factorial(range(1, 6))",
    "id": "546d30b5861449e185cf528e370283f4",
    "idx": 12,
    "time": "2021-01-23T21:58:23.033Z",
    "type": "execution"
   },
   {
    "code": "special.comb(5, 3), special.factorial(5) / (special.factorial(3) * special.factorial(2))",
    "id": "cdacb5e5b5f5491ebea0d749e96e2402",
    "idx": 14,
    "time": "2021-01-23T21:58:23.037Z",
    "type": "execution"
   },
   {
    "code": "special.comb(5, range(6))",
    "id": "eec6b0ee84b547228484cd07185aef3a",
    "idx": 15,
    "time": "2021-01-23T21:58:23.040Z",
    "type": "execution"
   },
   {
    "code": "special.comb(100, 50), special.comb(100, 50, exact=True)",
    "id": "af3b02975565487986a72fd8707c2f9f",
    "idx": 16,
    "time": "2021-01-23T21:58:23.044Z",
    "type": "execution"
   },
   {
    "code": "prob_1a = special.comb(100, 20)*(0.26**20)*(0.74**80) # SOLUTION\nprob_1a",
    "id": "0f105036c2234405a0b2d62c2868d190",
    "idx": 20,
    "time": "2021-01-23T21:58:23.048Z",
    "type": "execution"
   },
   {
    "code": "# TEST\nprob_1a >= 0 and prob_1a <= 1",
    "id": "5838c54b39cc421c890b923111e00494",
    "idx": 21,
    "time": "2021-01-23T21:58:23.051Z",
    "type": "execution"
   },
   {
    "code": "# HIDDEN TEST\nnp.isclose(prob_1a, 0.0369, atol = 1e-4)",
    "id": "b9f7002ce1c4413e84f330d03ad31725",
    "idx": 22,
    "time": "2021-01-23T21:58:23.054Z",
    "type": "execution"
   },
   {
    "code": "k = np.arange(101)\nall_probs = special.comb(100, k)*(0.26**k)*(0.74**(100-k)) # SOLUTION\nnp.round(all_probs, 4), sum(all_probs)",
    "id": "f9d1a7f6b6fe49108c96260b5a5fccf0",
    "idx": 24,
    "time": "2021-01-23T21:58:23.057Z",
    "type": "execution"
   },
   {
    "code": "# TEST\nnp.all(all_probs >= 0) and np.all(all_probs <= 1)",
    "id": "50904c34398d4918b2dcc241adcdd6a8",
    "idx": 25,
    "time": "2021-01-23T21:58:23.060Z",
    "type": "execution"
   },
   {
    "code": "# HIDDEN TEST\nk = np.arange(101)\ntest_1b = special.comb(100, k)*(0.26**k)*(0.74**(100-k))\nnp.all(np.isclose(test_1b, all_probs, atol = 1e-5))",
    "id": "90f6c97618f94fa79d3380d9c710a12b",
    "idx": 26,
    "time": "2021-01-23T21:58:23.063Z",
    "type": "execution"
   },
   {
    "code": "prob_1c = sum(all_probs[16:37]) # SOLUTION",
    "id": "4173ddcd4e1640f4bd6188effa6f43b1",
    "idx": 28,
    "time": "2021-01-23T21:58:23.066Z",
    "type": "execution"
   },
   {
    "code": "# TEST\nprob_1c >= 0 and prob_1c <= 1",
    "id": "657df98b45184f34946c7e4ac100efcc",
    "idx": 29,
    "time": "2021-01-23T21:58:23.069Z",
    "type": "execution"
   },
   {
    "code": "# HIDDEN TEST\nnp.isclose(prob_1c, 0.9838, atol = 1e-4)",
    "id": "935a2ffad450451797dfcc5b047755a0",
    "idx": 30,
    "time": "2021-01-23T21:58:23.071Z",
    "type": "execution"
   },
   {
    "code": "def prob_at_most(n, p, s):\n    \"\"\" \n    returns the probability of S <= s\n    Input n: sample size; p : proportion; s: number of successes at most\"\"\"\n    # BEGIN SOLUTION\n    if 0 <= p and p <= 1 and s <= n:\n        k = np.arange(n+1)\n        all_probs = special.comb(n, k)*(p**k)*((1-p)**(n-k))\n        return sum(all_probs[:s+1])\n    else:\n        return 0\n    # END SOLUTION",
    "id": "130d2dd651f8442e87a118bb867d08ac",
    "idx": 34,
    "time": "2021-01-23T21:58:23.076Z",
    "type": "execution"
   },
   {
    "code": "# TEST\nassert prob_at_most(3, 0.4, 1) >= 0\nassert prob_at_most(5, 0.6, 3) <= 1\nassert prob_at_most(2, 3, 4) == 0",
    "id": "5a339ffda5a2464a86d95aa1d8971b3d",
    "idx": 35,
    "time": "2021-01-23T21:58:23.078Z",
    "type": "execution"
   },
   {
    "code": "# HIDDEN TEST\nnp.isclose(prob_at_most(10, 0.7, 4), 0.0473, atol = 1e-4)",
    "id": "503b79910c514d8f9f2046fdee3b760d",
    "idx": 36,
    "time": "2021-01-23T21:58:23.081Z",
    "type": "execution"
   },
   {
    "code": "# HIDDEN TEST\nnp.isclose(prob_at_most(10, 0.7, 4), 0.0473, atol = 1e-4)",
    "id": "fedd5027cfeb4f3c8e1a7461bbc3ce1a",
    "idx": 37,
    "time": "2021-01-23T21:58:23.084Z",
    "type": "execution"
   },
   {
    "code": "# HIDDEN TEST\nnp.isclose(prob_at_most(5, 1, 1), 0, atol = 1e-4)",
    "id": "a5d7ff2507a94b018296b82bdcfbb9a5",
    "idx": 38,
    "time": "2021-01-23T21:58:23.087Z",
    "type": "execution"
   },
   {
    "code": "# HIDDEN TEST\nnp.isclose(prob_at_most(8, 0.7, 3), 0.05797, atol = 1e-4)",
    "id": "1f6890d7ce9a4ef28ae5e4462f10fb57",
    "idx": 39,
    "time": "2021-01-23T21:58:23.089Z",
    "type": "execution"
   },
   {
    "code": "p_majority = 1 - prob_at_most(200, 0.45, 100) # SOLUTION \np_majority",
    "id": "73d052a1a7d3435181ad634b43ba9058",
    "idx": 41,
    "time": "2021-01-23T21:58:23.092Z",
    "type": "execution"
   },
   {
    "code": "# TEST\np_majority >= 0 and p_majority <= 1",
    "id": "30a63dda25564ef798da00a017df030a",
    "idx": 42,
    "time": "2021-01-23T21:58:23.095Z",
    "type": "execution"
   },
   {
    "code": "# HIDDEN TEST\nnp.isclose(p_majority, 0.06807, atol = 1e-4)",
    "id": "c19c832fa41f46e08c57b815296be79a",
    "idx": 43,
    "time": "2021-01-23T21:58:23.098Z",
    "type": "execution"
   },
   {
    "code": "prob_2c = 1 - (prob_at_most(200, 0.45, 100)**3)*prob_at_most(300, 0.45, 150)*prob_at_most(400, 0.45, 200) # SOLUTION\nprob_2c",
    "id": "d547a11c354d4ad3b8b675c5e3eb0b7d",
    "idx": 45,
    "time": "2021-01-23T21:58:23.102Z",
    "type": "execution"
   },
   {
    "code": "# TEST\nprob_2c >= 0 and prob_2c <= 1",
    "id": "f145bb9b002c49e3a863cfaab4467aae",
    "idx": 46,
    "time": "2021-01-23T21:58:23.105Z",
    "type": "execution"
   },
   {
    "code": "# HIDDEN TEST\nnp.isclose(prob_2c, 0.2355, atol = 1e-4)",
    "id": "99f9aec328bd4afc9d5daa52f3885683",
    "idx": 47,
    "time": "2021-01-23T21:58:23.108Z",
    "type": "execution"
   },
   {
    "code": "ans_3a = 'b' # SOLUTION",
    "id": "0888f108b7e2463286cd457555e111ae",
    "idx": 51,
    "time": "2021-01-23T21:58:23.140Z",
    "type": "execution"
   },
   {
    "code": "# TEST\nans_3a in ['a', 'b', 'c', 'd']",
    "id": "a21ac002a2cf40ac8e34e2249b02b7ff",
    "idx": 52,
    "time": "2021-01-23T21:58:23.144Z",
    "type": "execution"
   },
   {
    "code": "# HIDDEN TEST\nans_3a == 'b'",
    "id": "7f841ce92e0843bf988238d86a200552",
    "idx": 53,
    "time": "2021-01-23T21:58:23.147Z",
    "type": "execution"
   },
   {
    "code": "ans_3b = 'c' # SOLUTION",
    "id": "feacd24ac12b42f283d4acac35fe18e7",
    "idx": 55,
    "time": "2021-01-23T21:58:23.150Z",
    "type": "execution"
   },
   {
    "code": "# TEST\nans_3b in ['a', 'b', 'c', 'd']",
    "id": "5d009f8137de4f46a8f29cb7dbcbf1a1",
    "idx": 56,
    "time": "2021-01-23T21:58:23.153Z",
    "type": "execution"
   },
   {
    "code": "# HIDDEN TEST\nans_3b == 'c'",
    "id": "6e00401dd8cd425797371d55bd30d6ad",
    "idx": 57,
    "time": "2021-01-23T21:58:23.155Z",
    "type": "execution"
   },
   {
    "code": "def prob_sample_counts(t, c, o):\n    \"\"\"\n    Input:\n    t - number of votes for Trump\n    c - number of votes for Clinton\n    o - number of votes for Other\n    Return: The probability of getting a such sample\n    \"\"\"\n    # BEGIN SOLUTION\n    if t+c+o == 20:\n        p_T = 0.4818\n        p_C = 0.4746\n        p_O = 0.0436\n        return (special.factorial(20)/(special.factorial(t)*special.factorial(c)*special.factorial(o)))*(p_T**t)*(p_C**c)*(p_O**o)\n    else:\n        return 0\n    # END SOLUTION",
    "id": "4509a567eb874e3187ed7b3bc31f6749",
    "idx": 59,
    "time": "2021-01-23T21:58:23.158Z",
    "type": "execution"
   },
   {
    "code": "# TEST\nassert np.isclose(prob_sample_counts(31, 8, 1), 0, atol = 1e-5)\nassert 0 <= prob_sample_counts(2, 5, 13) <= 1\nassert 0 <= prob_sample_counts(5, 1, 14) <= 1\nassert 0 <= prob_sample_counts(10, 8, 2) <= 1\nassert 0 <= prob_sample_counts(6, 12, 2) <= 1",
    "id": "cc8c9ae26ae340dcb3e81ce9915fbd76",
    "idx": 60,
    "time": "2021-01-23T21:58:23.161Z",
    "type": "execution"
   },
   {
    "code": "# HIDDEN TEST\nassert prob_sample_counts(6, 12, 8) == 0\nassert prob_sample_counts(21, 0, 3) == 0\nassert prob_sample_counts(6, 6, 2) == 0\nassert np.isclose(prob_sample_counts(6, 12, 2), 0.01095, atol = 1e-4)\nassert np.isclose(prob_sample_counts(13, 7, 0), 0.03169, atol = 1e-4)\nassert np.isclose(prob_sample_counts(13, 5, 2), 0.00562, atol = 1e-4)",
    "id": "92c511f89990432780373a8f3a2aa2ee",
    "idx": 61,
    "time": "2021-01-23T21:58:23.164Z",
    "type": "execution"
   },
   {
    "code": "prob_3d = sum(prob_sample_counts(t, c, 20-(t+c)) for t in range(21) for c in range(0, 21-t)) # SOLUTION\nprob_3d",
    "id": "c9eb6bdf28b245228c52db3692bdde90",
    "idx": 63,
    "time": "2021-01-23T21:58:23.167Z",
    "type": "execution"
   },
   {
    "code": "# TEST\nnp.isclose(prob_3d, 1, atol = 1e-4)",
    "id": "7a2b5b3ec7ce495ab4cba58fd78b477e",
    "idx": 64,
    "time": "2021-01-23T21:58:23.170Z",
    "type": "execution"
   },
   {
    "code": "# HIDDEN TEST\nnp.isclose(prob_3d, 1, atol = 1e-4)",
    "id": "82c6f152c79a4a268617fac53b0f7297",
    "idx": 65,
    "time": "2021-01-23T21:58:23.174Z",
    "type": "execution"
   },
   {
    "code": "prob_3e = prob_sample_counts(11, 8, 1) # SOLUTION\nprob_3e",
    "id": "7fcfe91b3df4486d8c4e3464a6c676ed",
    "idx": 67,
    "time": "2021-01-23T21:58:23.178Z",
    "type": "execution"
   },
   {
    "code": "# TEST\nprob_3e >= 0 and prob_3e <= 1",
    "id": "f457b33bc8674894ad7ec071e416d4a9",
    "idx": 68,
    "time": "2021-01-23T21:58:23.180Z",
    "type": "execution"
   },
   {
    "code": "# HIDDEN TEST\nnp.isclose(prob_3e, 0.05509, atol = 1e-4)",
    "id": "b57dbe1dcaa742728bfe2306f33fc72e",
    "idx": 69,
    "time": "2021-01-23T21:58:23.183Z",
    "type": "execution"
   },
   {
    "code": "prob_3f = sum(prob_sample_counts(t, c, 20-(t+c)) for t in range(7, 13) for c in range(7, 20-t)) # SOLUTION\nprob_3f",
    "id": "5dd79ef94fd842db8803cb43750bed25",
    "idx": 71,
    "time": "2021-01-23T21:58:23.187Z",
    "type": "execution"
   },
   {
    "code": "# TEST\nprob_3f >= 0 and prob_3f <= 1",
    "id": "04819c13bb9742e98ff78d4dd08f3637",
    "idx": 72,
    "time": "2021-01-23T21:58:23.190Z",
    "type": "execution"
   },
   {
    "code": "# HIDDEN TEST\nnp.isclose(prob_3f, 0.46939, atol = 1e-4)",
    "id": "ee73ff5a3e184f7daa26425f8d843c94",
    "idx": 73,
    "time": "2021-01-23T21:58:23.193Z",
    "type": "execution"
   },
   {
    "code": "def draw_state_sample(N, state):\n    # BEGIN SOLUTION \n    if state == \"florida\":\n        return np.random.multinomial(N, [0.4902, 0.4782, 1 - (0.4902 + 0.4782)])\n    \n    if state == \"michigan\": \n        return np.random.multinomial(N, [0.475, 0.4727, 1 - (0.475 + 0.4727)])\n\n    if state == \"pennsylvania\":\n        return np.random.multinomial(N, [0.4818, 0.4746, 1 - (0.4818 + 0.4746)])\n  \n    if state == \"wisconsin\":\n        return np.random.multinomial(N, [0.4722, 0.4645, 1 - (0.4722 + 0.4645)])\n\n    raise(\"invalid state\")\n    # END SOLUTION",
    "id": "8fe21bd6a5d14aef96b3182eaec02042",
    "idx": 87,
    "time": "2021-01-23T21:58:23.202Z",
    "type": "execution"
   },
   {
    "code": "# TEST\nassert len(draw_state_sample(1500, \"florida\")) == 3\nassert sum(draw_state_sample(1500, \"michigan\")) == 1500",
    "id": "ea70a7e0cdaa47cfa97b83f69b8f6bd0",
    "idx": 88,
    "time": "2021-01-23T21:58:23.205Z",
    "type": "execution"
   },
   {
    "code": "# TEST\nq7a_penn = draw_state_sample(1500, \"pennsylvania\")\ntrump_win_penn = (q7a_penn[0] - q7a_penn[1]) / 1500\nabs(trump_win_penn - 0.007) <= 0.12",
    "id": "3a4cfa9f2ace4979b904afbe52dc85e8",
    "idx": 89,
    "time": "2021-01-23T21:58:23.208Z",
    "type": "execution"
   },
   {
    "code": "def trump_advantage(voter_sample):\n    # BEGIN SOLUTION \n    N = sum(voter_sample)\n    percentage_trump = voter_sample[0]/N \n    percentage_clinton = voter_sample[1]/N \n    return percentage_trump - percentage_clinton\n    # END SOLUTION",
    "id": "1404c78e30d447808dd7199d0b479184",
    "idx": 91,
    "time": "2021-01-23T21:58:23.211Z",
    "type": "execution"
   },
   {
    "code": "# TEST\nassert -1 < trump_advantage(draw_state_sample(1500, \"wisconsin\")) < 1\nassert np.isclose(trump_advantage([100, 60, 40]), 0.2)\nassert np.isclose(trump_advantage([10, 30, 10]), -0.4)",
    "id": "d941f4a8cdd84e0ea8de879669856f61",
    "idx": 92,
    "time": "2021-01-23T21:58:23.214Z",
    "type": "execution"
   },
   {
    "code": "simulations = [trump_advantage(draw_state_sample(1500, \"pennsylvania\")) for i in range(100000)] # SOLUTION",
    "id": "84c14ccc49154f668ed9f7edb7d430fa",
    "idx": 94,
    "time": "2021-01-23T21:58:23.216Z",
    "type": "execution"
   },
   {
    "code": "# TEST\nassert len(simulations) == 100000\nassert sum([-1 < x < 1 for x in simulations]) == len(simulations)\nassert abs(np.mean(simulations) - 0.007) <= 0.016",
    "id": "b68d426107104885949db508865d56ab",
    "idx": 95,
    "time": "2021-01-23T21:58:23.219Z",
    "type": "execution"
   },
   {
    "code": "# BEGIN SOLUTION\nplt.hist(simulations) ;\nplt.title('Pennsylvania');\nplt.ylabel('# of Simulations');\nplt.xlabel('Sampling Distribution Advantage');\n# END SOLUTION",
    "id": "6bdc1384f83241a48222e9ed20494d7c",
    "idx": 97,
    "time": "2021-01-23T21:58:23.223Z",
    "type": "execution"
   },
   {
    "code": "def trump_wins(N):\n    # BEGIN SOLUTION \n    wins_florida = trump_advantage(draw_state_sample(N, \"florida\")) > 0\n    wins_michigan = trump_advantage(draw_state_sample(N, \"michigan\")) > 0\n    wins_pennsylvania = trump_advantage(draw_state_sample(N, \"pennsylvania\")) > 0\n    wins_wisconsin = trump_advantage(draw_state_sample(N, \"wisconsin\")) > 0\n    if wins_michigan and wins_pennsylvania and wins_wisconsin:\n        return 1\n    if wins_florida and (wins_michigan or wins_pennsylvania or wins_wisconsin):\n        return 1\n    return 0\n    # END SOLUTION",
    "id": "4039454d470642128e018a2f340c0538",
    "idx": 99,
    "time": "2021-01-23T21:58:23.226Z",
    "type": "execution"
   },
   {
    "code": "# TEST\ntrump_wins(1000) in [0, 1]",
    "id": "bf75dae85c3e41c99c8150776dd9068d",
    "idx": 100,
    "time": "2021-01-23T21:58:23.229Z",
    "type": "execution"
   },
   {
    "code": "proportion_trump = np.mean([trump_wins(1500) for i in range(100000)]) # SOLUTION\nproportion_trump",
    "id": "26efb4f8a1824e0c88bb216534551591",
    "idx": 102,
    "time": "2021-01-23T21:58:23.233Z",
    "type": "execution"
   },
   {
    "code": "# TEST\n0 < proportion_trump < 1",
    "id": "85aa0487ae7543489c079cc129284b0e",
    "idx": 103,
    "time": "2021-01-23T21:58:23.235Z",
    "type": "execution"
   },
   {
    "code": "# TEST\nabs(proportion_trump - 0.695) <= 0.02",
    "id": "2675f62285cb4d19932cf605fb510707",
    "idx": 104,
    "time": "2021-01-23T21:58:23.238Z",
    "type": "execution"
   },
   {
    "code": "def draw_biased_state_sample(N, state):\n    \n    # BEGIN SOLUTION \n    if state == \"florida\":\n        return np.random.multinomial(N, [0.4902 - 0.005, 0.4782 + 0.005, 1 - (0.4902 + 0.4782)])\n    \n    if state == \"michigan\": \n        return np.random.multinomial(N, [0.475 - 0.005, 0.4727 + 0.005, 1 - (0.475 + 0.4727)])\n\n    if state == \"pennsylvania\":\n        return np.random.multinomial(N, [0.4818 - 0.005, 0.4746 + 0.005, 1 - (0.4818 + 0.4746)])\n  \n    if state == \"wisconsin\":\n        return np.random.multinomial(N, [0.4722 - 0.005, 0.4645 + 0.005, 1 - (0.4722 + 0.4645)])\n\n    raise(\"invalid state\")\n    # END SOLUTION\n    \nbiased_simulations = [trump_advantage(draw_biased_state_sample(1500, \"pennsylvania\")) for i in range(100000)] # SOLUTION",
    "id": "1ff387807db94700a63d77d3c1e8fb86",
    "idx": 108,
    "time": "2021-01-23T21:58:23.243Z",
    "type": "execution"
   },
   {
    "code": "# TEST\nlen(draw_biased_state_sample(1000, \"wisconsin\")) == 3",
    "id": "18cdd85d443d4d018969163d737e32b4",
    "idx": 109,
    "time": "2021-01-23T21:58:23.246Z",
    "type": "execution"
   },
   {
    "code": "# TEST\nsum(draw_biased_state_sample(1000, \"michigan\")) == 1000",
    "id": "5e13d84d3eaa4678866b718d0209eaf1",
    "idx": 110,
    "time": "2021-01-23T21:58:23.249Z",
    "type": "execution"
   },
   {
    "code": "# TEST\nq7_1 = draw_biased_state_sample(3000, \"florida\")\nq7_1[0] > q7_1[2] and q7_1[1] > q7_1[2]",
    "id": "781806d2d30a4fe48e226059af4f0a21",
    "idx": 111,
    "time": "2021-01-23T21:58:23.251Z",
    "type": "execution"
   },
   {
    "code": "# TEST\nlen(biased_simulations) == 100000",
    "id": "8918a8df1868472c939b0bc23c02f3b9",
    "idx": 112,
    "time": "2021-01-23T21:58:23.254Z",
    "type": "execution"
   },
   {
    "code": "# TEST\nsum([-1 < x < 1 for x in biased_simulations]) == len(biased_simulations)",
    "id": "877f92a5f38340b7b51fb574bd365e0c",
    "idx": 113,
    "time": "2021-01-23T21:58:23.256Z",
    "type": "execution"
   },
   {
    "code": "# TEST\nabs(np.mean(biased_simulations) + 0.003) <= 0.12",
    "id": "a7a6fef5e9bf4dce8911896e259ec312",
    "idx": 114,
    "time": "2021-01-23T21:58:23.259Z",
    "type": "execution"
   },
   {
    "code": "# BEGIN SOLUTION\nplt.hist(biased_simulations) ;\nplt.title('Biased Sampling of Pennsylvania') ;\nplt.ylabel('# of Simulations');\nplt.xlabel('Sampling Distribution Advantage');\n# END SOLUTION",
    "id": "637730b8633341de858c757d2b7ca6ce",
    "idx": 116,
    "time": "2021-01-23T21:58:23.263Z",
    "type": "execution"
   },
   {
    "code": "def trump_wins_biased(N): \n    # BEGIN SOLUTION \n    wins_florida = trump_advantage(draw_biased_state_sample(N, \"florida\")) > 0\n    wins_michigan = trump_advantage(draw_biased_state_sample(N, \"michigan\")) > 0\n    wins_pennsylvania = trump_advantage(draw_biased_state_sample(N, \"pennsylvania\")) > 0\n    wins_wisconsin = trump_advantage(draw_biased_state_sample(N, \"wisconsin\")) > 0\n    if wins_michigan and wins_pennsylvania and wins_wisconsin:\n        return 1\n    if wins_florida and (wins_michigan or wins_pennsylvania or wins_wisconsin):\n        return 1\n    return 0\n    # END SOLUTION\n\nproportion_trump_biased = np.mean([trump_wins_biased(1500) for i in range(100000)]) # SOLUTION\nproportion_trump_biased",
    "id": "0e8439d120e54c198d72db1d863959c0",
    "idx": 120,
    "time": "2021-01-23T21:58:23.267Z",
    "type": "execution"
   },
   {
    "code": "# TEST\n0 < proportion_trump_biased < 1",
    "id": "412e961a3b614b968a8f29f2a028fe31",
    "idx": 121,
    "time": "2021-01-23T21:58:23.270Z",
    "type": "execution"
   },
   {
    "code": "# TEST\nabs(proportion_trump_biased - 0.466) <= 0.04",
    "id": "67ab961501094d12baa8c0ecc57aec27",
    "idx": 122,
    "time": "2021-01-23T21:58:23.273Z",
    "type": "execution"
   },
   {
    "code": "high_sample_size_unbiased_proportion_trump = np.mean([trump_wins(5000) for i in range(100000)])  # SOLUTION\nhigh_sample_size_biased_proportion_trump = np.mean([trump_wins_biased(5000) for i in range(100000)])  # SOLUTION\nprint(high_sample_size_unbiased_proportion_trump, high_sample_size_biased_proportion_trump)",
    "id": "a75269063207490db6a4bba2bd678958",
    "idx": 125,
    "time": "2021-01-23T21:58:23.276Z",
    "type": "execution"
   },
   {
    "code": "# TEST\nnp.abs(high_sample_size_unbiased_proportion_trump - 0.829) <= 0.02",
    "id": "7598f8ac178f40ec8b6fb65be77544ed",
    "idx": 126,
    "time": "2021-01-23T21:58:23.279Z",
    "type": "execution"
   },
   {
    "code": "# TEST \nnp.abs(high_sample_size_biased_proportion_trump - 0.445) <= 0.04",
    "id": "5874694d43b3458283c9fb26c6bbc7e8",
    "idx": 127,
    "time": "2021-01-23T21:58:23.282Z",
    "type": "execution"
   },
   {
    "code": "# Feel free to use this cell for any scratch work (creating visualizations, examining data, etc.)",
    "id": "5998b4d4fc4a4d5585a9a7172ceac024",
    "idx": 129,
    "time": "2021-01-23T21:58:23.286Z",
    "type": "execution"
   },
   {
    "id": "07375046d98444e281b75644b7875f95",
    "time": "2021-01-23T21:58:24.385Z",
    "type": "completion"
   },
   {
    "id": "ca39083560ea48cf8a0c0ab0b13e4a27",
    "time": "2021-01-23T21:58:24.950Z",
    "type": "completion"
   },
   {
    "id": "546d30b5861449e185cf528e370283f4",
    "time": "2021-01-23T21:58:25.415Z",
    "type": "completion"
   },
   {
    "id": "cdacb5e5b5f5491ebea0d749e96e2402",
    "time": "2021-01-23T21:58:25.421Z",
    "type": "completion"
   },
   {
    "id": "eec6b0ee84b547228484cd07185aef3a",
    "time": "2021-01-23T21:58:25.554Z",
    "type": "completion"
   },
   {
    "id": "af3b02975565487986a72fd8707c2f9f",
    "time": "2021-01-23T21:58:25.558Z",
    "type": "completion"
   },
   {
    "id": "0f105036c2234405a0b2d62c2868d190",
    "time": "2021-01-23T21:58:25.623Z",
    "type": "completion"
   },
   {
    "id": "5838c54b39cc421c890b923111e00494",
    "time": "2021-01-23T21:58:25.684Z",
    "type": "completion"
   },
   {
    "id": "b9f7002ce1c4413e84f330d03ad31725",
    "time": "2021-01-23T21:58:25.687Z",
    "type": "completion"
   },
   {
    "id": "f9d1a7f6b6fe49108c96260b5a5fccf0",
    "time": "2021-01-23T21:58:25.985Z",
    "type": "completion"
   },
   {
    "id": "50904c34398d4918b2dcc241adcdd6a8",
    "time": "2021-01-23T21:58:25.988Z",
    "type": "completion"
   },
   {
    "id": "90f6c97618f94fa79d3380d9c710a12b",
    "time": "2021-01-23T21:58:25.995Z",
    "type": "completion"
   },
   {
    "id": "4173ddcd4e1640f4bd6188effa6f43b1",
    "time": "2021-01-23T21:58:25.997Z",
    "type": "completion"
   },
   {
    "id": "657df98b45184f34946c7e4ac100efcc",
    "time": "2021-01-23T21:58:26.059Z",
    "type": "completion"
   },
   {
    "id": "935a2ffad450451797dfcc5b047755a0",
    "time": "2021-01-23T21:58:26.061Z",
    "type": "completion"
   },
   {
    "id": "130d2dd651f8442e87a118bb867d08ac",
    "time": "2021-01-23T21:58:26.122Z",
    "type": "completion"
   },
   {
    "id": "5a339ffda5a2464a86d95aa1d8971b3d",
    "time": "2021-01-23T21:58:26.123Z",
    "type": "completion"
   },
   {
    "id": "503b79910c514d8f9f2046fdee3b760d",
    "time": "2021-01-23T21:58:26.126Z",
    "type": "completion"
   },
   {
    "id": "fedd5027cfeb4f3c8e1a7461bbc3ce1a",
    "time": "2021-01-23T21:58:26.183Z",
    "type": "completion"
   },
   {
    "id": "a5d7ff2507a94b018296b82bdcfbb9a5",
    "time": "2021-01-23T21:58:26.187Z",
    "type": "completion"
   },
   {
    "id": "1f6890d7ce9a4ef28ae5e4462f10fb57",
    "time": "2021-01-23T21:58:26.245Z",
    "type": "completion"
   },
   {
    "id": "73d052a1a7d3435181ad634b43ba9058",
    "time": "2021-01-23T21:58:26.248Z",
    "type": "completion"
   },
   {
    "id": "30a63dda25564ef798da00a017df030a",
    "time": "2021-01-23T21:58:26.251Z",
    "type": "completion"
   },
   {
    "id": "c19c832fa41f46e08c57b815296be79a",
    "time": "2021-01-23T21:58:26.380Z",
    "type": "completion"
   },
   {
    "id": "d547a11c354d4ad3b8b675c5e3eb0b7d",
    "time": "2021-01-23T21:58:26.383Z",
    "type": "completion"
   },
   {
    "id": "f145bb9b002c49e3a863cfaab4467aae",
    "time": "2021-01-23T21:58:26.389Z",
    "type": "completion"
   },
   {
    "id": "99f9aec328bd4afc9d5daa52f3885683",
    "time": "2021-01-23T21:58:26.448Z",
    "type": "completion"
   },
   {
    "id": "0888f108b7e2463286cd457555e111ae",
    "time": "2021-01-23T21:58:26.450Z",
    "type": "completion"
   },
   {
    "id": "a21ac002a2cf40ac8e34e2249b02b7ff",
    "time": "2021-01-23T21:58:26.527Z",
    "type": "completion"
   },
   {
    "id": "7f841ce92e0843bf988238d86a200552",
    "time": "2021-01-23T21:58:26.531Z",
    "type": "completion"
   },
   {
    "id": "feacd24ac12b42f283d4acac35fe18e7",
    "time": "2021-01-23T21:58:26.661Z",
    "type": "completion"
   },
   {
    "id": "5d009f8137de4f46a8f29cb7dbcbf1a1",
    "time": "2021-01-23T21:58:26.669Z",
    "type": "completion"
   },
   {
    "id": "6e00401dd8cd425797371d55bd30d6ad",
    "time": "2021-01-23T21:58:26.672Z",
    "type": "completion"
   },
   {
    "id": "4509a567eb874e3187ed7b3bc31f6749",
    "time": "2021-01-23T21:58:26.673Z",
    "type": "completion"
   },
   {
    "id": "cc8c9ae26ae340dcb3e81ce9915fbd76",
    "time": "2021-01-23T21:58:26.675Z",
    "type": "completion"
   },
   {
    "id": "92c511f89990432780373a8f3a2aa2ee",
    "time": "2021-01-23T21:58:26.676Z",
    "type": "completion"
   },
   {
    "id": "c9eb6bdf28b245228c52db3692bdde90",
    "time": "2021-01-23T21:58:26.972Z",
    "type": "completion"
   },
   {
    "id": "7a2b5b3ec7ce495ab4cba58fd78b477e",
    "time": "2021-01-23T21:58:26.975Z",
    "type": "completion"
   },
   {
    "id": "82c6f152c79a4a268617fac53b0f7297",
    "time": "2021-01-23T21:58:26.977Z",
    "type": "completion"
   },
   {
    "id": "7fcfe91b3df4486d8c4e3464a6c676ed",
    "time": "2021-01-23T21:58:26.981Z",
    "type": "completion"
   },
   {
    "id": "f457b33bc8674894ad7ec071e416d4a9",
    "time": "2021-01-23T21:58:27.164Z",
    "type": "completion"
   },
   {
    "id": "b57dbe1dcaa742728bfe2306f33fc72e",
    "time": "2021-01-23T21:58:27.173Z",
    "type": "completion"
   },
   {
    "id": "5dd79ef94fd842db8803cb43750bed25",
    "time": "2021-01-23T21:58:27.176Z",
    "type": "completion"
   },
   {
    "id": "04819c13bb9742e98ff78d4dd08f3637",
    "time": "2021-01-23T21:58:27.178Z",
    "type": "completion"
   },
   {
    "id": "ee73ff5a3e184f7daa26425f8d843c94",
    "time": "2021-01-23T21:58:27.180Z",
    "type": "completion"
   },
   {
    "id": "8fe21bd6a5d14aef96b3182eaec02042",
    "time": "2021-01-23T21:58:27.234Z",
    "type": "completion"
   },
   {
    "id": "ea70a7e0cdaa47cfa97b83f69b8f6bd0",
    "time": "2021-01-23T21:58:27.236Z",
    "type": "completion"
   },
   {
    "id": "3a4cfa9f2ace4979b904afbe52dc85e8",
    "time": "2021-01-23T21:58:27.238Z",
    "type": "completion"
   },
   {
    "id": "1404c78e30d447808dd7199d0b479184",
    "time": "2021-01-23T21:58:27.241Z",
    "type": "completion"
   },
   {
    "id": "d941f4a8cdd84e0ea8de879669856f61",
    "time": "2021-01-23T21:58:27.243Z",
    "type": "completion"
   },
   {
    "id": "84c14ccc49154f668ed9f7edb7d430fa",
    "time": "2021-01-23T21:58:27.245Z",
    "type": "completion"
   },
   {
    "id": "b68d426107104885949db508865d56ab",
    "time": "2021-01-23T21:58:27.247Z",
    "type": "completion"
   },
   {
    "id": "6bdc1384f83241a48222e9ed20494d7c",
    "time": "2021-01-23T21:58:27.731Z",
    "type": "completion"
   },
   {
    "id": "4039454d470642128e018a2f340c0538",
    "time": "2021-01-23T21:58:27.734Z",
    "type": "completion"
   },
   {
    "id": "bf75dae85c3e41c99c8150776dd9068d",
    "time": "2021-01-23T21:58:27.745Z",
    "type": "completion"
   },
   {
    "id": "26efb4f8a1824e0c88bb216534551591",
    "time": "2021-01-23T21:58:36.450Z",
    "type": "completion"
   },
   {
    "id": "85aa0487ae7543489c079cc129284b0e",
    "time": "2021-01-23T21:58:36.455Z",
    "type": "completion"
   },
   {
    "id": "2675f62285cb4d19932cf605fb510707",
    "time": "2021-01-23T21:58:36.457Z",
    "type": "completion"
   },
   {
    "id": "1ff387807db94700a63d77d3c1e8fb86",
    "time": "2021-01-23T21:58:38.513Z",
    "type": "completion"
   },
   {
    "id": "18cdd85d443d4d018969163d737e32b4",
    "time": "2021-01-23T21:58:38.516Z",
    "type": "completion"
   },
   {
    "id": "5e13d84d3eaa4678866b718d0209eaf1",
    "time": "2021-01-23T21:58:38.601Z",
    "type": "completion"
   },
   {
    "id": "781806d2d30a4fe48e226059af4f0a21",
    "time": "2021-01-23T21:58:38.603Z",
    "type": "completion"
   },
   {
    "id": "8918a8df1868472c939b0bc23c02f3b9",
    "time": "2021-01-23T21:58:38.605Z",
    "type": "completion"
   },
   {
    "id": "877f92a5f38340b7b51fb574bd365e0c",
    "time": "2021-01-23T21:58:38.790Z",
    "type": "completion"
   },
   {
    "id": "a7a6fef5e9bf4dce8911896e259ec312",
    "time": "2021-01-23T21:58:38.793Z",
    "type": "completion"
   },
   {
    "id": "637730b8633341de858c757d2b7ca6ce",
    "time": "2021-01-23T21:58:39.833Z",
    "type": "completion"
   },
   {
    "id": "0e8439d120e54c198d72db1d863959c0",
    "time": "2021-01-23T21:58:48.176Z",
    "type": "completion"
   },
   {
    "id": "412e961a3b614b968a8f29f2a028fe31",
    "time": "2021-01-23T21:58:48.239Z",
    "type": "completion"
   },
   {
    "id": "67ab961501094d12baa8c0ecc57aec27",
    "time": "2021-01-23T21:58:48.243Z",
    "type": "completion"
   },
   {
    "id": "a75269063207490db6a4bba2bd678958",
    "time": "2021-01-23T21:59:05.507Z",
    "type": "completion"
   },
   {
    "id": "7598f8ac178f40ec8b6fb65be77544ed",
    "time": "2021-01-23T21:59:05.509Z",
    "type": "completion"
   },
   {
    "id": "5874694d43b3458283c9fb26c6bbc7e8",
    "time": "2021-01-23T21:59:05.780Z",
    "type": "completion"
   },
   {
    "id": "5998b4d4fc4a4d5585a9a7172ceac024",
    "time": "2021-01-23T21:59:05.781Z",
    "type": "completion"
   },
   {
    "code": "# TEST\nassert len(biased_simulations) == 100000\nassert sum([-1 < x < 1 for x in biased_simulations]) == len(biased_simulations)",
    "id": "d3cc5373d3b247dabb86f1ee8d6d5f3c",
    "idx": 112,
    "time": "2021-01-25T04:40:16.423Z",
    "type": "execution"
   },
   {
    "id": "d3cc5373d3b247dabb86f1ee8d6d5f3c",
    "time": "2021-01-25T04:40:16.624Z",
    "type": "completion"
   },
   {
    "code": "import numpy as np\nimport matplotlib\nimport matplotlib.pyplot as plt\nimport seaborn as sns\n\nplt.style.use('fivethirtyeight')\n\n# Default plot configurations\n%matplotlib inline\nplt.rcParams['figure.figsize'] = (16,8)\nplt.rcParams['figure.dpi'] = 150\nsns.set()\n\nfrom IPython.display import display, Latex, Markdown",
    "id": "ff93ae0aea2a4ba6a8bf142ac975d6f7",
    "idx": 7,
    "time": "2021-01-25T04:40:19.056Z",
    "type": "execution"
   },
   {
    "code": "from scipy import special",
    "id": "8579042cc94f46d1b5a6ab705fa911c0",
    "idx": 10,
    "time": "2021-01-25T04:40:19.059Z",
    "type": "execution"
   },
   {
    "code": "special.factorial(5), special.factorial(range(1, 6))",
    "id": "bfdaf248d4c14d9597640247e911ac48",
    "idx": 12,
    "time": "2021-01-25T04:40:19.063Z",
    "type": "execution"
   },
   {
    "code": "special.comb(5, 3), special.factorial(5) / (special.factorial(3) * special.factorial(2))",
    "id": "57a770358751479b9adf5bea1f20abd6",
    "idx": 14,
    "time": "2021-01-25T04:40:19.067Z",
    "type": "execution"
   },
   {
    "code": "special.comb(5, range(6))",
    "id": "965e22707e824f5389d8381c82544870",
    "idx": 15,
    "time": "2021-01-25T04:40:19.070Z",
    "type": "execution"
   },
   {
    "code": "special.comb(100, 50), special.comb(100, 50, exact=True)",
    "id": "9cbb927a6b5a413a862b2977bef03825",
    "idx": 16,
    "time": "2021-01-25T04:40:19.073Z",
    "type": "execution"
   },
   {
    "code": "prob_1a = special.comb(100, 20)*(0.26**20)*(0.74**80) # SOLUTION\nprob_1a",
    "id": "471fdb968e6a4b188fb945c9646e14c0",
    "idx": 20,
    "time": "2021-01-25T04:40:19.078Z",
    "type": "execution"
   },
   {
    "code": "# TEST\nprob_1a >= 0 and prob_1a <= 1",
    "id": "f3e94e85aad840529ac50d3c164ef611",
    "idx": 21,
    "time": "2021-01-25T04:40:19.081Z",
    "type": "execution"
   },
   {
    "code": "# HIDDEN TEST\nnp.isclose(prob_1a, 0.0369, atol = 1e-4)",
    "id": "81b2ee576b134be88f0750f75225054d",
    "idx": 22,
    "time": "2021-01-25T04:40:19.084Z",
    "type": "execution"
   },
   {
    "code": "k = np.arange(101)\nall_probs = special.comb(100, k)*(0.26**k)*(0.74**(100-k)) # SOLUTION\nnp.round(all_probs, 4), sum(all_probs)",
    "id": "91e26e7e139744b4888de555e0c44fcc",
    "idx": 24,
    "time": "2021-01-25T04:40:19.087Z",
    "type": "execution"
   },
   {
    "code": "# TEST\nnp.all(all_probs >= 0) and np.all(all_probs <= 1)",
    "id": "eff15f5dbc194e918856ffa9e2094696",
    "idx": 25,
    "time": "2021-01-25T04:40:19.090Z",
    "type": "execution"
   },
   {
    "code": "# HIDDEN TEST\nk = np.arange(101)\ntest_1b = special.comb(100, k)*(0.26**k)*(0.74**(100-k))\nnp.all(np.isclose(test_1b, all_probs, atol = 1e-5))",
    "id": "4463e88c6be144819e7e6d6d0604aa2a",
    "idx": 26,
    "time": "2021-01-25T04:40:19.092Z",
    "type": "execution"
   },
   {
    "code": "prob_1c = sum(all_probs[16:37]) # SOLUTION",
    "id": "38e034b2b53e4cc88d96523d7989bbce",
    "idx": 28,
    "time": "2021-01-25T04:40:19.096Z",
    "type": "execution"
   },
   {
    "code": "# TEST\nprob_1c >= 0 and prob_1c <= 1",
    "id": "97c8420e39d0461a96005e47d62ee2b8",
    "idx": 29,
    "time": "2021-01-25T04:40:19.100Z",
    "type": "execution"
   },
   {
    "code": "# HIDDEN TEST\nnp.isclose(prob_1c, 0.9838, atol = 1e-4)",
    "id": "8da8b1a16e2c4e859fbc00f9ce7a47c3",
    "idx": 30,
    "time": "2021-01-25T04:40:19.103Z",
    "type": "execution"
   },
   {
    "code": "def prob_at_most(n, p, s):\n    \"\"\" \n    returns the probability of S <= s\n    Input n: sample size; p : proportion; s: number of successes at most\"\"\"\n    # BEGIN SOLUTION\n    if 0 <= p and p <= 1 and s <= n:\n        k = np.arange(n+1)\n        all_probs = special.comb(n, k)*(p**k)*((1-p)**(n-k))\n        return sum(all_probs[:s+1])\n    else:\n        return 0\n    # END SOLUTION",
    "id": "f42dbaecb238481685b6bb8b035dee4e",
    "idx": 34,
    "time": "2021-01-25T04:40:19.108Z",
    "type": "execution"
   },
   {
    "code": "# TEST\nassert prob_at_most(3, 0.4, 1) >= 0\nassert prob_at_most(5, 0.6, 3) <= 1\nassert prob_at_most(2, 3, 4) == 0",
    "id": "7a7e254953974850a207d5903869aeb4",
    "idx": 35,
    "time": "2021-01-25T04:40:19.111Z",
    "type": "execution"
   },
   {
    "code": "# HIDDEN TEST\nnp.isclose(prob_at_most(10, 0.7, 4), 0.0473, atol = 1e-4)",
    "id": "47d4a1503d2748688a655d1984411632",
    "idx": 36,
    "time": "2021-01-25T04:40:19.114Z",
    "type": "execution"
   },
   {
    "code": "# HIDDEN TEST\nnp.isclose(prob_at_most(10, 0.7, 4), 0.0473, atol = 1e-4)",
    "id": "fb8703f12e53462686808feeeff9d66a",
    "idx": 37,
    "time": "2021-01-25T04:40:19.116Z",
    "type": "execution"
   },
   {
    "code": "# HIDDEN TEST\nnp.isclose(prob_at_most(5, 1, 1), 0, atol = 1e-4)",
    "id": "fa1d0070b1dd43a18fbd4f4997641d14",
    "idx": 38,
    "time": "2021-01-25T04:40:19.119Z",
    "type": "execution"
   },
   {
    "code": "# HIDDEN TEST\nnp.isclose(prob_at_most(8, 0.7, 3), 0.05797, atol = 1e-4)",
    "id": "ef06c953bc6943d780f6d6eef4d877e2",
    "idx": 39,
    "time": "2021-01-25T04:40:19.121Z",
    "type": "execution"
   },
   {
    "code": "p_majority = 1 - prob_at_most(200, 0.45, 100) # SOLUTION \np_majority",
    "id": "4e10e6aba361436ba3ce092bb96fccb3",
    "idx": 41,
    "time": "2021-01-25T04:40:19.124Z",
    "type": "execution"
   },
   {
    "code": "# TEST\np_majority >= 0 and p_majority <= 1",
    "id": "31671adeecef4247951b238069c47f45",
    "idx": 42,
    "time": "2021-01-25T04:40:19.127Z",
    "type": "execution"
   },
   {
    "code": "# HIDDEN TEST\nnp.isclose(p_majority, 0.06807, atol = 1e-4)",
    "id": "72bf1106cb8f42eaba1242af60e11045",
    "idx": 43,
    "time": "2021-01-25T04:40:19.130Z",
    "type": "execution"
   },
   {
    "code": "prob_2c = 1 - (prob_at_most(200, 0.45, 100)**3)*prob_at_most(300, 0.45, 150)*prob_at_most(400, 0.45, 200) # SOLUTION\nprob_2c",
    "id": "bb3fe6aac50547c8bf98461ddb4ecd60",
    "idx": 45,
    "time": "2021-01-25T04:40:19.133Z",
    "type": "execution"
   },
   {
    "code": "# TEST\nprob_2c >= 0 and prob_2c <= 1",
    "id": "8d066462acea4eaa8f2d49397d622f6d",
    "idx": 46,
    "time": "2021-01-25T04:40:19.136Z",
    "type": "execution"
   },
   {
    "code": "# HIDDEN TEST\nnp.isclose(prob_2c, 0.2355, atol = 1e-4)",
    "id": "9fb237b3de5a47b3807c850f01530fcd",
    "idx": 47,
    "time": "2021-01-25T04:40:19.139Z",
    "type": "execution"
   },
   {
    "code": "ans_3a = 'b' # SOLUTION",
    "id": "60503f5fc4e649378c8059a18dc6b6d7",
    "idx": 51,
    "time": "2021-01-25T04:40:19.143Z",
    "type": "execution"
   },
   {
    "code": "# TEST\nans_3a in ['a', 'b', 'c', 'd']",
    "id": "7830ffd1b1cb46b680e9d0b63383e056",
    "idx": 52,
    "time": "2021-01-25T04:40:19.146Z",
    "type": "execution"
   },
   {
    "code": "# HIDDEN TEST\nans_3a == 'b'",
    "id": "2bdfbaf213714099890a74c55d913633",
    "idx": 53,
    "time": "2021-01-25T04:40:19.149Z",
    "type": "execution"
   },
   {
    "code": "ans_3b = 'c' # SOLUTION",
    "id": "4362c6ec8e624a4a8316910b4d6fa205",
    "idx": 55,
    "time": "2021-01-25T04:40:19.152Z",
    "type": "execution"
   },
   {
    "code": "# TEST\nans_3b in ['a', 'b', 'c', 'd']",
    "id": "e363e28fa52941908b771db492f9210b",
    "idx": 56,
    "time": "2021-01-25T04:40:19.155Z",
    "type": "execution"
   },
   {
    "code": "# HIDDEN TEST\nans_3b == 'c'",
    "id": "9c0fff729ba345b79338a94e6c41b1f6",
    "idx": 57,
    "time": "2021-01-25T04:40:19.158Z",
    "type": "execution"
   },
   {
    "code": "def prob_sample_counts(t, c, o):\n    \"\"\"\n    Input:\n    t - number of votes for Trump\n    c - number of votes for Clinton\n    o - number of votes for Other\n    Return: The probability of getting a such sample\n    \"\"\"\n    # BEGIN SOLUTION\n    if t+c+o == 20:\n        p_T = 0.4818\n        p_C = 0.4746\n        p_O = 0.0436\n        return (special.factorial(20)/(special.factorial(t)*special.factorial(c)*special.factorial(o)))*(p_T**t)*(p_C**c)*(p_O**o)\n    else:\n        return 0\n    # END SOLUTION",
    "id": "b7ec4af645e44cd3bd771df28651ba61",
    "idx": 59,
    "time": "2021-01-25T04:40:19.161Z",
    "type": "execution"
   },
   {
    "code": "# TEST\nassert np.isclose(prob_sample_counts(31, 8, 1), 0, atol = 1e-5)\nassert 0 <= prob_sample_counts(2, 5, 13) <= 1\nassert 0 <= prob_sample_counts(5, 1, 14) <= 1\nassert 0 <= prob_sample_counts(10, 8, 2) <= 1\nassert 0 <= prob_sample_counts(6, 12, 2) <= 1",
    "id": "42a5aba4bb7646f999d27f43908e236e",
    "idx": 60,
    "time": "2021-01-25T04:40:19.163Z",
    "type": "execution"
   },
   {
    "code": "# HIDDEN TEST\nassert prob_sample_counts(6, 12, 8) == 0\nassert prob_sample_counts(21, 0, 3) == 0\nassert prob_sample_counts(6, 6, 2) == 0\nassert np.isclose(prob_sample_counts(6, 12, 2), 0.01095, atol = 1e-4)\nassert np.isclose(prob_sample_counts(13, 7, 0), 0.03169, atol = 1e-4)\nassert np.isclose(prob_sample_counts(13, 5, 2), 0.00562, atol = 1e-4)",
    "id": "5f1436caf23d42028acf7e24715fe2f3",
    "idx": 61,
    "time": "2021-01-25T04:40:19.166Z",
    "type": "execution"
   },
   {
    "code": "prob_3d = sum(prob_sample_counts(t, c, 20-(t+c)) for t in range(21) for c in range(0, 21-t)) # SOLUTION\nprob_3d",
    "id": "75a79fe1b39145b89d6492f585c4ab33",
    "idx": 63,
    "time": "2021-01-25T04:40:19.169Z",
    "type": "execution"
   },
   {
    "code": "# TEST\nnp.isclose(prob_3d, 1, atol = 1e-4)",
    "id": "66a404dee46d4f5f9fbf31615a554f69",
    "idx": 64,
    "time": "2021-01-25T04:40:19.172Z",
    "type": "execution"
   },
   {
    "code": "# HIDDEN TEST\nnp.isclose(prob_3d, 1, atol = 1e-4)",
    "id": "35c50072c9a64bc8893e9363b9cda387",
    "idx": 65,
    "time": "2021-01-25T04:40:19.174Z",
    "type": "execution"
   },
   {
    "code": "prob_3e = prob_sample_counts(11, 8, 1) # SOLUTION\nprob_3e",
    "id": "30733037ee1e49ad8ce437e64576019c",
    "idx": 67,
    "time": "2021-01-25T04:40:19.179Z",
    "type": "execution"
   },
   {
    "code": "# TEST\nprob_3e >= 0 and prob_3e <= 1",
    "id": "86d3c45b62754ba287019024213c4610",
    "idx": 68,
    "time": "2021-01-25T04:40:19.182Z",
    "type": "execution"
   },
   {
    "code": "# HIDDEN TEST\nnp.isclose(prob_3e, 0.05509, atol = 1e-4)",
    "id": "650afd35e14f45f4833a772ecb19f13d",
    "idx": 69,
    "time": "2021-01-25T04:40:19.185Z",
    "type": "execution"
   },
   {
    "code": "prob_3f = sum(prob_sample_counts(t, c, 20-(t+c)) for t in range(7, 13) for c in range(7, 20-t)) # SOLUTION\nprob_3f",
    "id": "c9f8cc91936344558ea55ab56ef6b0ba",
    "idx": 71,
    "time": "2021-01-25T04:40:19.188Z",
    "type": "execution"
   },
   {
    "code": "# TEST\nprob_3f >= 0 and prob_3f <= 1",
    "id": "451cabb7d5dc4aefb2c7d85a318a4d94",
    "idx": 72,
    "time": "2021-01-25T04:40:19.191Z",
    "type": "execution"
   },
   {
    "code": "# HIDDEN TEST\nnp.isclose(prob_3f, 0.46939, atol = 1e-4)",
    "id": "99622a7c72ad4c5d913514780d3a3741",
    "idx": 73,
    "time": "2021-01-25T04:40:19.194Z",
    "type": "execution"
   },
   {
    "code": "def draw_state_sample(N, state):\n    # BEGIN SOLUTION \n    if state == \"florida\":\n        return np.random.multinomial(N, [0.4902, 0.4782, 1 - (0.4902 + 0.4782)])\n    \n    if state == \"michigan\": \n        return np.random.multinomial(N, [0.475, 0.4727, 1 - (0.475 + 0.4727)])\n\n    if state == \"pennsylvania\":\n        return np.random.multinomial(N, [0.4818, 0.4746, 1 - (0.4818 + 0.4746)])\n  \n    if state == \"wisconsin\":\n        return np.random.multinomial(N, [0.4722, 0.4645, 1 - (0.4722 + 0.4645)])\n\n    raise(\"invalid state\")\n    # END SOLUTION",
    "id": "30f7a9b51ed84d3a8c9fd318f5a44e89",
    "idx": 87,
    "time": "2021-01-25T04:40:19.203Z",
    "type": "execution"
   },
   {
    "code": "# TEST\nassert len(draw_state_sample(1500, \"florida\")) == 3\nassert sum(draw_state_sample(1500, \"michigan\")) == 1500",
    "id": "f0be6645222b4f66b999e23fbba2203f",
    "idx": 88,
    "time": "2021-01-25T04:40:19.206Z",
    "type": "execution"
   },
   {
    "code": "# TEST\nq7a_penn = draw_state_sample(1500, \"pennsylvania\")\ntrump_win_penn = (q7a_penn[0] - q7a_penn[1]) / 1500\nabs(trump_win_penn - 0.007) <= 0.12",
    "id": "c9120274680c43858544798e1dfa4543",
    "idx": 89,
    "time": "2021-01-25T04:40:19.208Z",
    "type": "execution"
   },
   {
    "code": "def trump_advantage(voter_sample):\n    # BEGIN SOLUTION \n    N = sum(voter_sample)\n    percentage_trump = voter_sample[0]/N \n    percentage_clinton = voter_sample[1]/N \n    return percentage_trump - percentage_clinton\n    # END SOLUTION",
    "id": "a679294659fa4b418810ab95e3248b6f",
    "idx": 91,
    "time": "2021-01-25T04:40:19.211Z",
    "type": "execution"
   },
   {
    "code": "# TEST\nassert -1 < trump_advantage(draw_state_sample(1500, \"wisconsin\")) < 1\nassert np.isclose(trump_advantage([100, 60, 40]), 0.2)\nassert np.isclose(trump_advantage([10, 30, 10]), -0.4)",
    "id": "d1894d54f0e84a858a0da3b5b8de81f3",
    "idx": 92,
    "time": "2021-01-25T04:40:19.214Z",
    "type": "execution"
   },
   {
    "code": "simulations = [trump_advantage(draw_state_sample(1500, \"pennsylvania\")) for i in range(100000)] # SOLUTION",
    "id": "876eacfe072c49699e6e982b8624ed5f",
    "idx": 94,
    "time": "2021-01-25T04:40:19.217Z",
    "type": "execution"
   },
   {
    "code": "# TEST\nassert len(simulations) == 100000\nassert sum([-1 < x < 1 for x in simulations]) == len(simulations)\nassert abs(np.mean(simulations) - 0.007) <= 0.016",
    "id": "6849680977ea4a5488e2d8f26ef9fa3d",
    "idx": 95,
    "time": "2021-01-25T04:40:19.220Z",
    "type": "execution"
   },
   {
    "code": "# BEGIN SOLUTION\nplt.hist(simulations) ;\nplt.title('Pennsylvania');\nplt.ylabel('# of Simulations');\nplt.xlabel('Sampling Distribution Advantage');\n# END SOLUTION",
    "id": "bd1e13ea69dd4ec49ad018bc9c6fd6ec",
    "idx": 97,
    "time": "2021-01-25T04:40:19.223Z",
    "type": "execution"
   },
   {
    "code": "def trump_wins(N):\n    # BEGIN SOLUTION \n    wins_florida = trump_advantage(draw_state_sample(N, \"florida\")) > 0\n    wins_michigan = trump_advantage(draw_state_sample(N, \"michigan\")) > 0\n    wins_pennsylvania = trump_advantage(draw_state_sample(N, \"pennsylvania\")) > 0\n    wins_wisconsin = trump_advantage(draw_state_sample(N, \"wisconsin\")) > 0\n    if wins_michigan and wins_pennsylvania and wins_wisconsin:\n        return 1\n    if wins_florida and (wins_michigan or wins_pennsylvania or wins_wisconsin):\n        return 1\n    return 0\n    # END SOLUTION",
    "id": "0cce634745f24d9991c082f371e7112b",
    "idx": 99,
    "time": "2021-01-25T04:40:19.226Z",
    "type": "execution"
   },
   {
    "code": "# TEST\ntrump_wins(1000) in [0, 1]",
    "id": "8e9d9952e56344879d370c19e683de0a",
    "idx": 100,
    "time": "2021-01-25T04:40:19.229Z",
    "type": "execution"
   },
   {
    "code": "proportion_trump = np.mean([trump_wins(1500) for i in range(100000)]) # SOLUTION\nproportion_trump",
    "id": "5edc5f70de9e4a23ac5b5edaafef807d",
    "idx": 102,
    "time": "2021-01-25T04:40:19.232Z",
    "type": "execution"
   },
   {
    "code": "# TEST\n0 < proportion_trump < 1",
    "id": "c5caf2bf70874f3d8d635c3938e76e76",
    "idx": 103,
    "time": "2021-01-25T04:40:19.235Z",
    "type": "execution"
   },
   {
    "code": "# TEST\nabs(proportion_trump - 0.695) <= 0.02",
    "id": "d833444ea3ef4b5ba637aea3a98ac850",
    "idx": 104,
    "time": "2021-01-25T04:40:19.238Z",
    "type": "execution"
   },
   {
    "code": "def draw_biased_state_sample(N, state):\n    \n    # BEGIN SOLUTION \n    if state == \"florida\":\n        return np.random.multinomial(N, [0.4902 - 0.005, 0.4782 + 0.005, 1 - (0.4902 + 0.4782)])\n    \n    if state == \"michigan\": \n        return np.random.multinomial(N, [0.475 - 0.005, 0.4727 + 0.005, 1 - (0.475 + 0.4727)])\n\n    if state == \"pennsylvania\":\n        return np.random.multinomial(N, [0.4818 - 0.005, 0.4746 + 0.005, 1 - (0.4818 + 0.4746)])\n  \n    if state == \"wisconsin\":\n        return np.random.multinomial(N, [0.4722 - 0.005, 0.4645 + 0.005, 1 - (0.4722 + 0.4645)])\n\n    raise(\"invalid state\")\n    # END SOLUTION\n    \nbiased_simulations = [trump_advantage(draw_biased_state_sample(1500, \"pennsylvania\")) for i in range(100000)] # SOLUTION",
    "id": "eed7d8a71b4048e19d66f00f779cdb46",
    "idx": 108,
    "time": "2021-01-25T04:40:19.242Z",
    "type": "execution"
   },
   {
    "code": "# TEST\nlen(draw_biased_state_sample(1000, \"wisconsin\")) == 3",
    "id": "c116c7ac53d04f388b7203221f4fa604",
    "idx": 109,
    "time": "2021-01-25T04:40:19.245Z",
    "type": "execution"
   },
   {
    "code": "# TEST\nsum(draw_biased_state_sample(1000, \"michigan\")) == 1000",
    "id": "9d088377a3ec4e4baa27cdd07d05ad50",
    "idx": 110,
    "time": "2021-01-25T04:40:19.247Z",
    "type": "execution"
   },
   {
    "code": "# TEST\nq7_1 = draw_biased_state_sample(3000, \"florida\")\nq7_1[0] > q7_1[2] and q7_1[1] > q7_1[2]",
    "id": "3d34e28fa9794a9da605327214aed86a",
    "idx": 111,
    "time": "2021-01-25T04:40:19.250Z",
    "type": "execution"
   },
   {
    "code": "# TEST\nassert len(biased_simulations) == 100000\nassert sum([-1 < x < 1 for x in biased_simulations]) == len(biased_simulations)",
    "id": "d3cc5373d3b247dabb86f1ee8d6d5f3c",
    "idx": 112,
    "time": "2021-01-25T04:40:19.253Z",
    "type": "execution"
   },
   {
    "code": "# TEST\nabs(np.mean(biased_simulations) + 0.003) <= 0.12",
    "id": "c39e21ae0cc34420864528f7154f3368",
    "idx": 113,
    "time": "2021-01-25T04:40:19.255Z",
    "type": "execution"
   },
   {
    "code": "# BEGIN SOLUTION\nplt.hist(biased_simulations) ;\nplt.title('Biased Sampling of Pennsylvania') ;\nplt.ylabel('# of Simulations');\nplt.xlabel('Sampling Distribution Advantage');\n# END SOLUTION",
    "id": "18c07cfb0267487082cb152f5901c148",
    "idx": 115,
    "time": "2021-01-25T04:40:19.258Z",
    "type": "execution"
   },
   {
    "code": "def trump_wins_biased(N): \n    # BEGIN SOLUTION \n    wins_florida = trump_advantage(draw_biased_state_sample(N, \"florida\")) > 0\n    wins_michigan = trump_advantage(draw_biased_state_sample(N, \"michigan\")) > 0\n    wins_pennsylvania = trump_advantage(draw_biased_state_sample(N, \"pennsylvania\")) > 0\n    wins_wisconsin = trump_advantage(draw_biased_state_sample(N, \"wisconsin\")) > 0\n    if wins_michigan and wins_pennsylvania and wins_wisconsin:\n        return 1\n    if wins_florida and (wins_michigan or wins_pennsylvania or wins_wisconsin):\n        return 1\n    return 0\n    # END SOLUTION\n\nproportion_trump_biased = np.mean([trump_wins_biased(1500) for i in range(100000)]) # SOLUTION\nproportion_trump_biased",
    "id": "e6603822ea4f4b2b9552e5cbd3aa134f",
    "idx": 119,
    "time": "2021-01-25T04:40:19.262Z",
    "type": "execution"
   },
   {
    "code": "# TEST\n0 < proportion_trump_biased < 1",
    "id": "cae7245762854c58a893b2beff7f7274",
    "idx": 120,
    "time": "2021-01-25T04:40:19.265Z",
    "type": "execution"
   },
   {
    "code": "# TEST\nabs(proportion_trump_biased - 0.466) <= 0.04",
    "id": "4db1ef34e68242d88ed1a27f847d830f",
    "idx": 121,
    "time": "2021-01-25T04:40:19.268Z",
    "type": "execution"
   },
   {
    "code": "high_sample_size_unbiased_proportion_trump = np.mean([trump_wins(5000) for i in range(100000)])  # SOLUTION\nhigh_sample_size_biased_proportion_trump = np.mean([trump_wins_biased(5000) for i in range(100000)])  # SOLUTION\nprint(high_sample_size_unbiased_proportion_trump, high_sample_size_biased_proportion_trump)",
    "id": "e8fe9ded4af64ccb89352b86d5733ef7",
    "idx": 124,
    "time": "2021-01-25T04:40:19.271Z",
    "type": "execution"
   },
   {
    "code": "# TEST\nnp.abs(high_sample_size_unbiased_proportion_trump - 0.829) <= 0.02",
    "id": "f124a5a8de74496b8564e7819bdca4b3",
    "idx": 125,
    "time": "2021-01-25T04:40:19.274Z",
    "type": "execution"
   },
   {
    "code": "# TEST \nnp.abs(high_sample_size_biased_proportion_trump - 0.445) <= 0.04",
    "id": "32a45c98f96240ad8ee028db24ff3c4f",
    "idx": 126,
    "time": "2021-01-25T04:40:19.276Z",
    "type": "execution"
   },
   {
    "code": "# Feel free to use this cell for any scratch work (creating visualizations, examining data, etc.)",
    "id": "4066c38c973b48ea8b19120144b10453",
    "idx": 128,
    "time": "2021-01-25T04:40:19.279Z",
    "type": "execution"
   },
   {
    "id": "ff93ae0aea2a4ba6a8bf142ac975d6f7",
    "time": "2021-01-25T04:40:20.009Z",
    "type": "completion"
   },
   {
    "id": "8579042cc94f46d1b5a6ab705fa911c0",
    "time": "2021-01-25T04:40:20.011Z",
    "type": "completion"
   },
   {
    "id": "bfdaf248d4c14d9597640247e911ac48",
    "time": "2021-01-25T04:40:20.068Z",
    "type": "completion"
   },
   {
    "id": "57a770358751479b9adf5bea1f20abd6",
    "time": "2021-01-25T04:40:20.073Z",
    "type": "completion"
   },
   {
    "id": "965e22707e824f5389d8381c82544870",
    "time": "2021-01-25T04:40:20.076Z",
    "type": "completion"
   },
   {
    "id": "9cbb927a6b5a413a862b2977bef03825",
    "time": "2021-01-25T04:40:20.081Z",
    "type": "completion"
   },
   {
    "id": "471fdb968e6a4b188fb945c9646e14c0",
    "time": "2021-01-25T04:40:20.083Z",
    "type": "completion"
   },
   {
    "id": "f3e94e85aad840529ac50d3c164ef611",
    "time": "2021-01-25T04:40:20.086Z",
    "type": "completion"
   },
   {
    "id": "81b2ee576b134be88f0750f75225054d",
    "time": "2021-01-25T04:40:20.088Z",
    "type": "completion"
   },
   {
    "id": "91e26e7e139744b4888de555e0c44fcc",
    "time": "2021-01-25T04:40:20.090Z",
    "type": "completion"
   },
   {
    "id": "eff15f5dbc194e918856ffa9e2094696",
    "time": "2021-01-25T04:40:20.148Z",
    "type": "completion"
   },
   {
    "id": "4463e88c6be144819e7e6d6d0604aa2a",
    "time": "2021-01-25T04:40:20.169Z",
    "type": "completion"
   },
   {
    "id": "38e034b2b53e4cc88d96523d7989bbce",
    "time": "2021-01-25T04:40:20.171Z",
    "type": "completion"
   },
   {
    "id": "97c8420e39d0461a96005e47d62ee2b8",
    "time": "2021-01-25T04:40:20.174Z",
    "type": "completion"
   },
   {
    "id": "8da8b1a16e2c4e859fbc00f9ce7a47c3",
    "time": "2021-01-25T04:40:20.177Z",
    "type": "completion"
   },
   {
    "id": "f42dbaecb238481685b6bb8b035dee4e",
    "time": "2021-01-25T04:40:20.181Z",
    "type": "completion"
   },
   {
    "id": "7a7e254953974850a207d5903869aeb4",
    "time": "2021-01-25T04:40:20.182Z",
    "type": "completion"
   },
   {
    "id": "47d4a1503d2748688a655d1984411632",
    "time": "2021-01-25T04:40:20.184Z",
    "type": "completion"
   },
   {
    "id": "fb8703f12e53462686808feeeff9d66a",
    "time": "2021-01-25T04:40:20.247Z",
    "type": "completion"
   },
   {
    "id": "fa1d0070b1dd43a18fbd4f4997641d14",
    "time": "2021-01-25T04:40:20.250Z",
    "type": "completion"
   },
   {
    "id": "ef06c953bc6943d780f6d6eef4d877e2",
    "time": "2021-01-25T04:40:20.253Z",
    "type": "completion"
   },
   {
    "id": "4e10e6aba361436ba3ce092bb96fccb3",
    "time": "2021-01-25T04:40:20.257Z",
    "type": "completion"
   },
   {
    "id": "31671adeecef4247951b238069c47f45",
    "time": "2021-01-25T04:40:20.264Z",
    "type": "completion"
   },
   {
    "id": "72bf1106cb8f42eaba1242af60e11045",
    "time": "2021-01-25T04:40:20.268Z",
    "type": "completion"
   },
   {
    "id": "bb3fe6aac50547c8bf98461ddb4ecd60",
    "time": "2021-01-25T04:40:20.271Z",
    "type": "completion"
   },
   {
    "id": "8d066462acea4eaa8f2d49397d622f6d",
    "time": "2021-01-25T04:40:20.329Z",
    "type": "completion"
   },
   {
    "id": "9fb237b3de5a47b3807c850f01530fcd",
    "time": "2021-01-25T04:40:20.334Z",
    "type": "completion"
   },
   {
    "id": "60503f5fc4e649378c8059a18dc6b6d7",
    "time": "2021-01-25T04:40:20.335Z",
    "type": "completion"
   },
   {
    "id": "7830ffd1b1cb46b680e9d0b63383e056",
    "time": "2021-01-25T04:40:20.397Z",
    "type": "completion"
   },
   {
    "id": "2bdfbaf213714099890a74c55d913633",
    "time": "2021-01-25T04:40:20.400Z",
    "type": "completion"
   },
   {
    "id": "4362c6ec8e624a4a8316910b4d6fa205",
    "time": "2021-01-25T04:40:20.403Z",
    "type": "completion"
   },
   {
    "id": "e363e28fa52941908b771db492f9210b",
    "time": "2021-01-25T04:40:20.406Z",
    "type": "completion"
   },
   {
    "id": "9c0fff729ba345b79338a94e6c41b1f6",
    "time": "2021-01-25T04:40:20.409Z",
    "type": "completion"
   },
   {
    "id": "b7ec4af645e44cd3bd771df28651ba61",
    "time": "2021-01-25T04:40:20.412Z",
    "type": "completion"
   },
   {
    "id": "42a5aba4bb7646f999d27f43908e236e",
    "time": "2021-01-25T04:40:20.413Z",
    "type": "completion"
   },
   {
    "id": "5f1436caf23d42028acf7e24715fe2f3",
    "time": "2021-01-25T04:40:20.415Z",
    "type": "completion"
   },
   {
    "id": "75a79fe1b39145b89d6492f585c4ab33",
    "time": "2021-01-25T04:40:20.418Z",
    "type": "completion"
   },
   {
    "id": "66a404dee46d4f5f9fbf31615a554f69",
    "time": "2021-01-25T04:40:20.420Z",
    "type": "completion"
   },
   {
    "id": "35c50072c9a64bc8893e9363b9cda387",
    "time": "2021-01-25T04:40:20.428Z",
    "type": "completion"
   },
   {
    "id": "30733037ee1e49ad8ce437e64576019c",
    "time": "2021-01-25T04:40:20.433Z",
    "type": "completion"
   },
   {
    "id": "86d3c45b62754ba287019024213c4610",
    "time": "2021-01-25T04:40:20.439Z",
    "type": "completion"
   },
   {
    "id": "650afd35e14f45f4833a772ecb19f13d",
    "time": "2021-01-25T04:40:20.442Z",
    "type": "completion"
   },
   {
    "id": "c9f8cc91936344558ea55ab56ef6b0ba",
    "time": "2021-01-25T04:40:20.445Z",
    "type": "completion"
   },
   {
    "id": "451cabb7d5dc4aefb2c7d85a318a4d94",
    "time": "2021-01-25T04:40:20.448Z",
    "type": "completion"
   },
   {
    "id": "99622a7c72ad4c5d913514780d3a3741",
    "time": "2021-01-25T04:40:20.451Z",
    "type": "completion"
   },
   {
    "id": "30f7a9b51ed84d3a8c9fd318f5a44e89",
    "time": "2021-01-25T04:40:20.453Z",
    "type": "completion"
   },
   {
    "id": "f0be6645222b4f66b999e23fbba2203f",
    "time": "2021-01-25T04:40:20.455Z",
    "type": "completion"
   },
   {
    "id": "c9120274680c43858544798e1dfa4543",
    "time": "2021-01-25T04:40:20.457Z",
    "type": "completion"
   },
   {
    "id": "a679294659fa4b418810ab95e3248b6f",
    "time": "2021-01-25T04:40:20.459Z",
    "type": "completion"
   },
   {
    "id": "d1894d54f0e84a858a0da3b5b8de81f3",
    "time": "2021-01-25T04:40:20.461Z",
    "type": "completion"
   },
   {
    "id": "876eacfe072c49699e6e982b8624ed5f",
    "time": "2021-01-25T04:40:22.403Z",
    "type": "completion"
   },
   {
    "id": "6849680977ea4a5488e2d8f26ef9fa3d",
    "time": "2021-01-25T04:40:22.696Z",
    "type": "completion"
   },
   {
    "id": "bd1e13ea69dd4ec49ad018bc9c6fd6ec",
    "time": "2021-01-25T04:40:23.606Z",
    "type": "completion"
   },
   {
    "id": "0cce634745f24d9991c082f371e7112b",
    "time": "2021-01-25T04:40:23.611Z",
    "type": "completion"
   },
   {
    "id": "8e9d9952e56344879d370c19e683de0a",
    "time": "2021-01-25T04:40:23.614Z",
    "type": "completion"
   },
   {
    "id": "5edc5f70de9e4a23ac5b5edaafef807d",
    "time": "2021-01-25T04:40:32.621Z",
    "type": "completion"
   },
   {
    "id": "c5caf2bf70874f3d8d635c3938e76e76",
    "time": "2021-01-25T04:40:32.630Z",
    "type": "completion"
   },
   {
    "id": "d833444ea3ef4b5ba637aea3a98ac850",
    "time": "2021-01-25T04:40:32.633Z",
    "type": "completion"
   },
   {
    "id": "eed7d8a71b4048e19d66f00f779cdb46",
    "time": "2021-01-25T04:40:34.893Z",
    "type": "completion"
   },
   {
    "id": "c116c7ac53d04f388b7203221f4fa604",
    "time": "2021-01-25T04:40:34.903Z",
    "type": "completion"
   },
   {
    "id": "9d088377a3ec4e4baa27cdd07d05ad50",
    "time": "2021-01-25T04:40:34.949Z",
    "type": "completion"
   },
   {
    "id": "3d34e28fa9794a9da605327214aed86a",
    "time": "2021-01-25T04:40:34.953Z",
    "type": "completion"
   },
   {
    "id": "d3cc5373d3b247dabb86f1ee8d6d5f3c",
    "time": "2021-01-25T04:40:35.208Z",
    "type": "completion"
   },
   {
    "id": "c39e21ae0cc34420864528f7154f3368",
    "time": "2021-01-25T04:40:35.212Z",
    "type": "completion"
   },
   {
    "id": "18c07cfb0267487082cb152f5901c148",
    "time": "2021-01-25T04:40:36.036Z",
    "type": "completion"
   },
   {
    "id": "e6603822ea4f4b2b9552e5cbd3aa134f",
    "time": "2021-01-25T04:40:44.652Z",
    "type": "completion"
   },
   {
    "id": "cae7245762854c58a893b2beff7f7274",
    "time": "2021-01-25T04:40:44.659Z",
    "type": "completion"
   },
   {
    "id": "4db1ef34e68242d88ed1a27f847d830f",
    "time": "2021-01-25T04:40:44.714Z",
    "type": "completion"
   },
   {
    "id": "e8fe9ded4af64ccb89352b86d5733ef7",
    "time": "2021-01-25T04:41:03.466Z",
    "type": "completion"
   },
   {
    "id": "f124a5a8de74496b8564e7819bdca4b3",
    "time": "2021-01-25T04:41:03.470Z",
    "type": "completion"
   },
   {
    "id": "32a45c98f96240ad8ee028db24ff3c4f",
    "time": "2021-01-25T04:41:03.519Z",
    "type": "completion"
   },
   {
    "id": "4066c38c973b48ea8b19120144b10453",
    "time": "2021-01-25T04:41:03.522Z",
    "type": "completion"
   }
  ],
  "kernelspec": {
   "display_name": "Python 3",
   "language": "python",
   "name": "python3"
  },
  "language_info": {
   "codemirror_mode": {
    "name": "ipython",
    "version": 3
   },
   "file_extension": ".py",
   "mimetype": "text/x-python",
   "name": "python",
   "nbconvert_exporter": "python",
   "pygments_lexer": "ipython3",
   "version": "3.8.6"
  }
 },
 "nbformat": 4,
 "nbformat_minor": 4
}
