{
 "cells": [
  {
   "cell_type": "code",
   "execution_count": null,
   "metadata": {
    "deletable": false,
    "editable": false
   },
   "outputs": [],
   "source": [
    "# Initialize Otter\n",
    "import otter\n",
    "grader = otter.Notebook(\"hw3.ipynb\")"
   ]
  },
  {
   "cell_type": "markdown",
   "metadata": {
    "nbgrader": {
     "grade": false,
     "grade_id": "intro-hw2",
     "locked": true,
     "schema_version": 2,
     "solution": false
    }
   },
   "source": [
    "# Homework 3: Food Safety\n",
    "## Cleaning and Exploring Data with Pandas\n",
    "## Due Date: Thursday 02/11, 11:59 PM\n",
    "## Collaboration Policy\n",
    "\n",
    "Data science is a collaborative activity. While you may talk with others about\n",
    "the project, we ask that you **write your solutions individually**. If you do\n",
    "discuss the assignments with others please **include their names** at the top\n",
    "of your notebook."
   ]
  },
  {
   "cell_type": "markdown",
   "metadata": {},
   "source": [
    "**Collaborators**: *list collaborators here*"
   ]
  },
  {
   "cell_type": "markdown",
   "metadata": {},
   "source": [
    "\n",
    "## This Assignment\n",
    "\n",
    "In this homework, we will investigate restaurant food safety scores for restaurants in San Francisco. The scores and violation information have been [made available by the San Francisco Department of Public Health](https://data.sfgov.org/Health-and-Social-Services/Restaurant-Scores-LIVES-Standard/pyih-qa8i). The main goal for this assignment is to walk through the process of Data Cleaning and EDA. \n",
    "\n",
    "\n",
    "As we clean and explore these data, you will gain practice with:\n",
    "* Reading simple csv files and using Pandas\n",
    "* Working with data at different levels of granularity\n",
    "* Identifying the type of data collected, missing values, anomalies, etc.\n",
    "* Exploring characteristics and distributions of individual variables\n",
    "\n",
    "## Score Breakdown \n",
    "Question | Points\n",
    "--- | ---\n",
    "1a | 1\n",
    "1b | 1\n",
    "1c | 2\n",
    "1d | 2\n",
    "2a | 2\n",
    "2b | 2\n",
    "2ci | 1\n",
    "2cii | 1\n",
    "2d | 3\n",
    "2e | 2\n",
    "2f | 2\n",
    "3a | 1\n",
    "3bi | 1\n",
    "3bii | 1\n",
    "3biii | 1\n",
    "3ci | 1\n",
    "3cii | 1\n",
    "3ciii | 1\n",
    "3civ | 1\n",
    "3di | 2\n",
    "3dii | 2\n",
    "3e | 2\n",
    "4a | 2\n",
    "4b | 3\n",
    "4c | 2\n",
    "4d | 2\n",
    "5a|1\n",
    "5b|2\n",
    "6a|2\n",
    "6bi|4\n",
    "6bii|2\n",
    "6c|1\n",
    "6d|3\n",
    "7|4\n",
    "Total | 61"
   ]
  },
  {
   "cell_type": "markdown",
   "metadata": {},
   "source": [
    "## Before You Start\n",
    "\n",
    "For each question in the assignment, please write down your answer in the answer cell(s) right below the question. \n",
    "\n",
    "We understand that it is helpful to have extra cells breaking down the process towards reaching your final answer. If you happen to create new cells below your answer to run codes, **NEVER** add cells between a question cell and the answer cell below it. It will cause errors when we run the autograder, and it will sometimes cause a failure to generate the PDF file.\n",
    "\n",
    "**Important note: The local autograder tests will not be comprehensive. You can pass the automated tests in your notebook but still fail tests in the autograder.** Please be sure to check your results carefully.\n",
    "\n",
    "Finally, unless we state otherwise, try to avoid using python for loops or list comprehensions.  The majority of this assignment can be done using builtin commands in Pandas and numpy.  \n"
   ]
  },
  {
   "cell_type": "code",
   "execution_count": 1,
   "metadata": {
    "nbgrader": {
     "grade": false,
     "grade_id": "import",
     "locked": true,
     "schema_version": 2,
     "solution": false
    }
   },
   "outputs": [],
   "source": [
    "import numpy as np\n",
    "import pandas as pd\n",
    "\n",
    "import matplotlib\n",
    "import matplotlib.pyplot as plt\n",
    "import seaborn as sns\n",
    "sns.set()\n",
    "plt.style.use('fivethirtyeight')\n",
    "\n",
    "import zipfile\n",
    "from pathlib import Path\n",
    "import os # Used to interact with the file system"
   ]
  },
  {
   "cell_type": "markdown",
   "metadata": {},
   "source": [
    "## Obtaining the Data\n",
    "\n",
    "### File Systems and I/O\n",
    "\n"
   ]
  },
  {
   "cell_type": "markdown",
   "metadata": {},
   "source": [
    "In general, we will focus on using python commands to investigate files.  However, it can sometimes be easier to use shell commands in your local operating system.  The following cells demonstrate how to do this."
   ]
  },
  {
   "cell_type": "code",
   "execution_count": 2,
   "metadata": {},
   "outputs": [],
   "source": [
    "from pathlib import Path\n",
    "data_dir = Path('.')\n",
    "data_dir.mkdir(exist_ok = True)\n",
    "file_path = data_dir / Path('data.zip')\n",
    "dest_path = file_path"
   ]
  },
  {
   "cell_type": "markdown",
   "metadata": {},
   "source": [
    "After running the cell above, if you list the contents of the directory containing this notebook, you should see `data.zip`.\n",
    "\n",
    "*Note*: The command below starts with an `!`. This tells our Jupyter notebook to pass this command to the operating system. In this case, the command is the `ls` Unix command which lists files in the current directory."
   ]
  },
  {
   "cell_type": "code",
   "execution_count": 3,
   "metadata": {},
   "outputs": [],
   "source": [
    "!ls"
   ]
  },
  {
   "cell_type": "markdown",
   "metadata": {},
   "source": [
    "## 1: Loading Food Safety Data\n",
    "\n",
    "We have data, but we don't have any specific questions about the data yet. Let's focus on understanding the structure of the data; this involves answering questions such as:\n",
    "\n",
    "* Is the data in a standard format or encoding?\n",
    "* Is the data organized in records?\n",
    "* What are the fields in each record?\n",
    "\n",
    "Let's start by looking at the contents of `data.zip`. It's not just a single file but rather a compressed directory of multiple files. We could inspect it by uncompressing it using a shell command such as `!unzip data.zip`, but in this project we're going to do almost everything in Python for maximum portability."
   ]
  },
  {
   "cell_type": "markdown",
   "metadata": {},
   "source": [
    "## Looking Inside and Extracting the Zip Files\n",
    "\n",
    "The following codeblocks are setup. Simply run the cells; **do not modify them**. Question 1a is where you will start to write code.\n",
    "\n",
    "Here, we assign `my_zip` to a `zipfile.Zipfile` object representing `data.zip`, and assign `list_names` to a list of all the names of the contents in `data.zip`."
   ]
  },
  {
   "cell_type": "code",
   "execution_count": 4,
   "metadata": {},
   "outputs": [],
   "source": [
    "my_zip = zipfile.ZipFile(dest_path, 'r')\n",
    "list_names = my_zip.namelist()\n",
    "list_names"
   ]
  },
  {
   "cell_type": "markdown",
   "metadata": {},
   "source": [
    "You may notice that we did not write `zipfile.ZipFile('data.zip', ...)`. Instead, we used `zipfile.ZipFile(dest_path, ...)`. In general, we **strongly suggest having your filenames hard coded as string literals only once** in a notebook. It is very dangerous to hard code things twice because if you change one but forget to change the other, you can end up with bugs that are very hard to find."
   ]
  },
  {
   "cell_type": "markdown",
   "metadata": {},
   "source": [
    "Now we display the files' names and their sizes."
   ]
  },
  {
   "cell_type": "code",
   "execution_count": 5,
   "metadata": {},
   "outputs": [],
   "source": [
    "my_zip = zipfile.ZipFile(dest_path, 'r')\n",
    "for info in my_zip.infolist():\n",
    "    print('{}\\t{}'.format(info.filename, info.file_size))"
   ]
  },
  {
   "cell_type": "markdown",
   "metadata": {},
   "source": [
    "Often when working with zipped data, we'll never unzip the actual zipfile. This saves space on our local computer. However, for this project the files are small, so we're just going to unzip everything. This has the added benefit that you can look inside the csv files using a text editor, which might be handy for understanding the structure of the files. The cell below will unzip the csv files into a subdirectory called `data`."
   ]
  },
  {
   "cell_type": "code",
   "execution_count": 6,
   "metadata": {},
   "outputs": [],
   "source": [
    "data_dir = Path('.')\n",
    "my_zip.extractall(data_dir)\n",
    "!ls {data_dir / Path(\"data\")}"
   ]
  },
  {
   "cell_type": "markdown",
   "metadata": {},
   "source": [
    "The cell above created a folder called `data`, and in it there should be five CSV files. Let's open up `legend.csv` to see its contents. To do this, click on the jupyterhub logo on the top left, then navigate to `sp21/hw/hw3/data/` and click on `legend.csv`. The file will open up in another tab. You should see something that looks like:\n",
    "\n",
    "    \"Minimum_Score\",\"Maximum_Score\",\"Description\"\n",
    "    0,70,\"Poor\"\n",
    "    71,85,\"Needs Improvement\"\n",
    "    86,90,\"Adequate\"\n",
    "    91,100,\"Good\""
   ]
  },
  {
   "cell_type": "markdown",
   "metadata": {},
   "source": [
    "The `legend.csv` file does indeed look like a well-formed CSV file. Let's check the other three files. Rather than opening up each file manually, let's use Python to print out the first 5 lines of each. The `ds100_utils` library has a method called `head` that will allow you to retrieve the first N lines of a file as a list. For example `ds100_utils.head('data/legend.csv', 5)` will return the first 5 lines of \"data/legend.csv\". Try using this function to print out the first 5 lines of all six files that we just extracted from the zipfile."
   ]
  },
  {
   "cell_type": "code",
   "execution_count": 7,
   "metadata": {},
   "outputs": [],
   "source": [
    "import ds100_utils\n",
    "\n",
    "data_dir = \"./\"\n",
    "for f in list_names:\n",
    "    if not os.path.isdir(f):\n",
    "        print(ds100_utils.head(data_dir + f, 5), \"\\n\")"
   ]
  },
  {
   "cell_type": "markdown",
   "metadata": {},
   "source": [
    "## Reading in and Verifying Data\n",
    "\n",
    "Based on the above information, let's attempt to load `bus.csv`, `ins2vio.csv`, `ins.csv`, and `vio.csv` into pandas dataframes with the following names: `bus`, `ins2vio`, `ins`, and `vio` respectively.\n",
    "\n",
    "*Note:* Because of character encoding issues one of the files (`bus`) will require an additional argument `encoding='ISO-8859-1'` when calling `pd.read_csv`. At some point in your future, you should read all about [character encodings](https://diveintopython3.problemsolving.io/strings.html). We won't discuss these in detail in DS100."
   ]
  },
  {
   "cell_type": "code",
   "execution_count": 8,
   "metadata": {},
   "outputs": [],
   "source": [
    "# path to directory containing data\n",
    "dsDir = Path('data')\n",
    "\n",
    "bus = pd.read_csv(dsDir/'bus.csv', encoding='ISO-8859-1')\n",
    "ins2vio = pd.read_csv(dsDir/'ins2vio.csv')\n",
    "ins = pd.read_csv(dsDir/'ins.csv')\n",
    "vio = pd.read_csv(dsDir/'vio.csv')\n",
    "\n",
    "#This code is essential for the autograder to function properly. Do not edit\n",
    "ins_test = ins"
   ]
  },
  {
   "cell_type": "markdown",
   "metadata": {},
   "source": [
    "Now that you've read in the files, let's try some `pd.DataFrame` methods ([docs](https://pandas.pydata.org/pandas-docs/version/0.21/generated/pandas.DataFrame.html)).\n",
    "Use the `DataFrame.head` method to show the top few lines of the `bus`, `ins`, and `vio` dataframes. To show multiple return outputs in one single cell, you can use `display()`. Currently, running the cell below will display the first few lines of the `bus` dataframe. "
   ]
  },
  {
   "cell_type": "code",
   "execution_count": 9,
   "metadata": {},
   "outputs": [],
   "source": [
    "bus.head()"
   ]
  },
  {
   "cell_type": "markdown",
   "metadata": {},
   "source": [
    "The `DataFrame.describe` method can also be handy for computing summaries of numeric columns of our dataframes. Try it out with each of our 4 dataframes. Below, we have used the method to give a summary of the `bus` dataframe. "
   ]
  },
  {
   "cell_type": "code",
   "execution_count": 10,
   "metadata": {},
   "outputs": [],
   "source": [
    "bus.describe()"
   ]
  },
  {
   "cell_type": "markdown",
   "metadata": {},
   "source": [
    "Now, we perform some sanity checks for you to verify that the data was loaded with the correct structure. Run the following cells to load some basic utilities (you do not need to change these at all):"
   ]
  },
  {
   "cell_type": "markdown",
   "metadata": {},
   "source": [
    "First, we check the basic structure of the data frames you created:"
   ]
  },
  {
   "cell_type": "code",
   "execution_count": 11,
   "metadata": {},
   "outputs": [],
   "source": [
    "assert all(bus.columns == ['business id column', 'name', 'address', 'city', 'state', 'postal_code',\n",
    "                           'latitude', 'longitude', 'phone_number'])\n",
    "assert 6250 <= len(bus) <= 6260\n",
    "\n",
    "assert all(ins.columns == ['iid', 'date', 'score', 'type'])\n",
    "assert 26660 <= len(ins) <= 26670\n",
    "\n",
    "assert all(vio.columns == ['description', 'risk_category', 'vid'])\n",
    "assert 60 <= len(vio) <= 65\n",
    "\n",
    "assert all(ins2vio.columns == ['iid', 'vid'])\n",
    "assert 40210 <= len(ins2vio) <= 40220"
   ]
  },
  {
   "cell_type": "markdown",
   "metadata": {},
   "source": [
    "Next we'll check that the statistics match what we expect. The following are hard-coded statistical summaries of the correct data."
   ]
  },
  {
   "cell_type": "code",
   "execution_count": 12,
   "metadata": {},
   "outputs": [],
   "source": [
    "bus_summary = pd.DataFrame(**{'columns': ['business id column', 'latitude', 'longitude'],\n",
    " 'data': {'business id column': {'50%': 75685.0, 'max': 102705.0, 'min': 19.0},\n",
    "  'latitude': {'50%': -9999.0, 'max': 37.824494, 'min': -9999.0},\n",
    "  'longitude': {'50%': -9999.0,\n",
    "   'max': 0.0,\n",
    "   'min': -9999.0}},\n",
    " 'index': ['min', '50%', 'max']})\n",
    "\n",
    "ins_summary = pd.DataFrame(**{'columns': ['score'],\n",
    " 'data': {'score': {'50%': 76.0, 'max': 100.0, 'min': -1.0}},\n",
    " 'index': ['min', '50%', 'max']})\n",
    "\n",
    "vio_summary = pd.DataFrame(**{'columns': ['vid'],\n",
    " 'data': {'vid': {'50%': 103135.0, 'max': 103177.0, 'min': 103102.0}},\n",
    " 'index': ['min', '50%', 'max']})\n",
    "\n",
    "from IPython.display import display\n",
    "\n",
    "print('What we expect from your Businesses dataframe:')\n",
    "display(bus_summary)\n",
    "print('What we expect from your Inspections dataframe:')\n",
    "display(ins_summary)\n",
    "print('What we expect from your Violations dataframe:')\n",
    "display(vio_summary)"
   ]
  },
  {
   "cell_type": "markdown",
   "metadata": {},
   "source": [
    "The code below defines a testing function that we'll use to verify that your data has the same statistics as what we expect. Run these cells to define the function. The `df_allclose` function has this name because we are verifying that all of the statistics for your dataframe are close to the expected values. Why not `df_allequal`? It's a bad idea in almost all cases to compare two floating point values like 37.780435, as rounding error can cause spurious failures."
   ]
  },
  {
   "cell_type": "code",
   "execution_count": 13,
   "metadata": {},
   "outputs": [],
   "source": [
    "\"\"\"Run this cell to load this utility comparison function that we will use in various\n",
    "tests below (both tests you can see and those we run internally for grading).\n",
    "\n",
    "Do not modify the function in any way.\n",
    "\"\"\"\n",
    "\n",
    "\n",
    "def df_allclose(actual, desired, columns=None, rtol=5e-2):\n",
    "    \"\"\"Compare selected columns of two dataframes on a few summary statistics.\n",
    "    \n",
    "    Compute the min, median and max of the two dataframes on the given columns, and compare\n",
    "    that they match numerically to the given relative tolerance.\n",
    "    \n",
    "    If they don't match, an AssertionError is raised (by `numpy.testing`).\n",
    "    \"\"\"    \n",
    "    # summary statistics to compare on\n",
    "    stats = ['min', '50%', 'max']\n",
    "    \n",
    "    # For the desired values, we can provide a full DF with the same structure as\n",
    "    # the actual data, or pre-computed summary statistics.\n",
    "    # We assume a pre-computed summary was provided if columns is None. In that case, \n",
    "    # `desired` *must* have the same structure as the actual's summary\n",
    "    if columns is None:\n",
    "        des = desired\n",
    "        columns = desired.columns\n",
    "    else:\n",
    "        des = desired[columns].describe().loc[stats]\n",
    "\n",
    "    # Extract summary stats from actual DF\n",
    "    act = actual[columns].describe().loc[stats]\n",
    "\n",
    "    return np.allclose(act, des, rtol)"
   ]
  },
  {
   "cell_type": "markdown",
   "metadata": {},
   "source": [
    "<br/><br/><br/>\n",
    "\n",
    "---\n",
    "\n",
    "<br/><br/><br/>\n",
    "\n",
    "## Question 1a: Identifying Issues with the Data"
   ]
  },
  {
   "cell_type": "markdown",
   "metadata": {
    "deletable": false,
    "editable": false
   },
   "source": [
    "<!-- BEGIN QUESTION -->\n",
    "\n",
    "Use the `head` command on your three files again. This time, describe at least one potential problem with the data you see. Consider issues with missing values and bad data.\n",
    "\n",
    "<!--\n",
    "BEGIN QUESTION\n",
    "name: q1a\n",
    "manual: True\n",
    "points: 1\n",
    "-->"
   ]
  },
  {
   "cell_type": "markdown",
   "metadata": {},
   "source": [
    "_Type your answer here, replacing this text._"
   ]
  },
  {
   "cell_type": "markdown",
   "metadata": {},
   "source": [
    "<!-- END QUESTION -->\n",
    "\n",
    "\n",
    "\n",
    "We will explore each file in turn, including determining its granularity and primary keys and exploring many of the variables individually. Let's begin with the businesses file, which has been read into the `bus` dataframe."
   ]
  },
  {
   "cell_type": "markdown",
   "metadata": {
    "nbgrader": {
     "grade": false,
     "grade_id": "business-data",
     "locked": true,
     "schema_version": 2,
     "solution": false
    }
   },
   "source": [
    "<br/><br/><br/>\n",
    "\n",
    "---\n",
    "\n",
    "<br/><br/><br/>\n",
    "\n",
    "## Question 1b: Examining the Business Data File"
   ]
  },
  {
   "cell_type": "markdown",
   "metadata": {},
   "source": [
    "From its name alone, we expect the `bus.csv` file to contain information about the restaurants. Let's investigate the granularity of this dataset."
   ]
  },
  {
   "cell_type": "code",
   "execution_count": 14,
   "metadata": {},
   "outputs": [],
   "source": [
    "bus.head()"
   ]
  },
  {
   "cell_type": "markdown",
   "metadata": {},
   "source": [
    "The `bus` dataframe contains a column called `business id column` which probably corresponds to a unique business id.  However, we will first rename that column to `bid` for simplicity.\n",
    "\n",
    "**Note**: In practice we might want to do this renaming when the table is loaded but for grading purposes we will do it here.\n"
   ]
  },
  {
   "cell_type": "code",
   "execution_count": 15,
   "metadata": {},
   "outputs": [],
   "source": [
    "bus = bus.rename(columns={\"business id column\": \"bid\"})"
   ]
  },
  {
   "cell_type": "markdown",
   "metadata": {
    "deletable": false,
    "editable": false
   },
   "source": [
    "Examining the entries in `bus`, is the `bid` unique for each record (i.e. each row of data)? Your code should compute the answer, i.e. don't just hard code `True` or `False`.\n",
    "\n",
    "Hint: use `value_counts()` or `unique()` to determine if the `bid` series has any duplicates.\n",
    "\n",
    "<!--\n",
    "BEGIN QUESTION\n",
    "name: q1b\n",
    "points: 1\n",
    "-->"
   ]
  },
  {
   "cell_type": "code",
   "execution_count": 16,
   "metadata": {},
   "outputs": [],
   "source": [
    "is_bid_unique = ..."
   ]
  },
  {
   "cell_type": "code",
   "execution_count": null,
   "metadata": {
    "deletable": false,
    "editable": false
   },
   "outputs": [],
   "source": [
    "grader.check(\"q1b\")"
   ]
  },
  {
   "cell_type": "markdown",
   "metadata": {
    "deletable": false,
    "editable": false
   },
   "source": [
    "<br/><br/><br/>\n",
    "\n",
    "---\n",
    "\n",
    "\n",
    "## Question 1c\n",
    "\n",
    "We will now work with some important fields in `bus`. In the two cells below create the following **two numpy arrays**:\n",
    "\n",
    "1. Assign `top_names` to the top 5 most frequently used business names, from most frequent to least frequent.\n",
    "2. Assign `top_addresses` to the top 5 addressses where businesses are located, from most popular to least popular.\n",
    "\n",
    "Hint: you may find `value_counts()` helpful. \n",
    "\n",
    "**Step 1**\n",
    "\n",
    "<!--\n",
    "BEGIN QUESTION\n",
    "name: q1c\n",
    "points: 2\n",
    "-->"
   ]
  },
  {
   "cell_type": "code",
   "execution_count": 19,
   "metadata": {},
   "outputs": [],
   "source": [
    "top_names = ...\n",
    "top_addresses = ...\n",
    "top_names, top_addresses"
   ]
  },
  {
   "cell_type": "code",
   "execution_count": null,
   "metadata": {
    "deletable": false,
    "editable": false
   },
   "outputs": [],
   "source": [
    "grader.check(\"q1c\")"
   ]
  },
  {
   "cell_type": "markdown",
   "metadata": {
    "deletable": false,
    "editable": false
   },
   "source": [
    "<br/><br/><br/>\n",
    "\n",
    "---\n",
    "\n",
    "\n",
    "## Question 1d\n",
    "\n",
    "Based on the above exploration, answer each of the following questions about `bus` by assigning your answers to the corresponding variables\n",
    "\n",
    "1. What does each record represent?  \n",
    "1. What is the minimal primary key?\n",
    "\n",
    "<!--\n",
    "BEGIN QUESTION\n",
    "name: q1d\n",
    "points: 2\n",
    "-->"
   ]
  },
  {
   "cell_type": "code",
   "execution_count": 24,
   "metadata": {},
   "outputs": [],
   "source": [
    "# What does each record represent?  Valid answers are:\n",
    "#    \"One location of a restaurant.\"\n",
    "#    \"A chain of restaurants.\"\n",
    "#    \"A city block.\"\n",
    "q1e_part1 = ...\n",
    "\n",
    "# What is the minimal primary key? Valid answers are:\n",
    "#    \"bid\"\n",
    "#    \"bid, name\"\n",
    "#    \"bid, name, address\"\n",
    "q1e_part2 = ..."
   ]
  },
  {
   "cell_type": "code",
   "execution_count": null,
   "metadata": {
    "deletable": false,
    "editable": false
   },
   "outputs": [],
   "source": [
    "grader.check(\"q1d\")"
   ]
  },
  {
   "cell_type": "markdown",
   "metadata": {
    "nbgrader": {
     "grade": false,
     "grade_id": "business-data",
     "locked": true,
     "schema_version": 2,
     "solution": false
    }
   },
   "source": [
    "<br/><br/><br/>\n",
    "\n",
    "---\n",
    "\n",
    "<br/><br/><br/>\n",
    "\n",
    "# 2: Cleaning the Business Data Postal Codes\n",
    "\n",
    "The business data contains postal code information that we can use to aggregate the ratings over regions of the city.  Let's examine and clean the postal code field.  The postal code (sometimes also called a ZIP code) partitions the city into regions:\n",
    "\n",
    "<img src=\"https://www.usmapguide.com/wp-content/uploads/2019/03/printable-san-francisco-zip-code-map.jpg\" alt=\"ZIP Code Map\" style=\"width: 600px\">"
   ]
  },
  {
   "cell_type": "markdown",
   "metadata": {
    "deletable": false,
    "editable": false,
    "nbgrader": {
     "grade": false,
     "grade_id": "cell-a4c4a09f1ecf2f4b",
     "locked": true,
     "schema_version": 2,
     "solution": false
    }
   },
   "source": [
    "<br/><br/><br/>\n",
    "\n",
    "---\n",
    "\n",
    "\n",
    "## Question 2a\n",
    "\n",
    "How many restaurants are in each ZIP code? \n",
    "\n",
    "In the cell below, create a **series** where the index is the postal code and the value is the number of records with that postal code in descending order of count. You may need to use `groupby()`, `size()`, or `value_counts()`. Do you notice any odd/invalid zip codes?\n",
    "\n",
    "<!--\n",
    "BEGIN QUESTION\n",
    "name: q2a\n",
    "points: 2\n",
    "-->"
   ]
  },
  {
   "cell_type": "code",
   "execution_count": 29,
   "metadata": {
    "nbgrader": {
     "grade": false,
     "grade_id": "cell-d2151d673e6c36a1",
     "locked": false,
     "schema_version": 2,
     "solution": true
    }
   },
   "outputs": [],
   "source": [
    "zip_counts = ...\n",
    "print(zip_counts.to_string())"
   ]
  },
  {
   "cell_type": "code",
   "execution_count": null,
   "metadata": {
    "deletable": false,
    "editable": false
   },
   "outputs": [],
   "source": [
    "grader.check(\"q2a\")"
   ]
  },
  {
   "cell_type": "markdown",
   "metadata": {
    "deletable": false,
    "editable": false
   },
   "source": [
    "<br/><br/><br/>\n",
    "\n",
    "--- \n",
    "\n",
    "## Question 2b\n",
    "\n",
    "Answer the following questions about the `postal_code` column in the `bus` dataframe.\n",
    "\n",
    "1. The ZIP code column is which of the following type of data:\n",
    "    1. Quantitative Continuous\n",
    "    1. Quantitative Discrete\n",
    "    1. Qualitative Ordinal\n",
    "    1. Qualitative Nominal    \n",
    "1. What Python data type is used to represent a ZIP code?\n",
    "\n",
    "*Note*: ZIP codes and postal codes are the same thing.\n",
    "\n",
    "Please write your answers in the variables below:\n",
    "\n",
    "<!--\n",
    "BEGIN QUESTION\n",
    "name: q2b\n",
    "points: 2\n",
    "-->"
   ]
  },
  {
   "cell_type": "code",
   "execution_count": 35,
   "metadata": {},
   "outputs": [],
   "source": [
    "# The ZIP code column is which of the following type of data:\n",
    "#   \"Quantitative Continuous\" \n",
    "#   \"Quantitative Discrete\"\n",
    "#   \"Qualitative Ordinal\"\n",
    "#   \"Qualitative Nominal\"\n",
    "q2b_part1 = ...\n",
    "\n",
    "# What Python data type is used to represent a ZIP code? \n",
    "#    \"str\"\n",
    "#    \"int\"\n",
    "#    \"bool\"\n",
    "#    \"float\"\n",
    "q2b_part2 = ..."
   ]
  },
  {
   "cell_type": "code",
   "execution_count": null,
   "metadata": {
    "deletable": false,
    "editable": false
   },
   "outputs": [],
   "source": [
    "grader.check(\"q2b\")"
   ]
  },
  {
   "cell_type": "markdown",
   "metadata": {},
   "source": [
    "<br/><br/><br/>\n",
    "\n",
    "--- \n",
    "\n",
    "## Question 2c\n",
    "\n",
    "In question 2a we noticed a large number of potentially invalid ZIP codes (e.g., \"Ca\").  These are likely due to data entry errors.  To get a better understanding of the potential errors in the zip codes we will:\n",
    "\n",
    "1. Import a list of valid San Francisco ZIP codes by using `pd.read_json` to load the file `data/sf_zipcodes.json` and extract a **series** of type `str` containing the valid ZIP codes.  *Hint: set `dtype` when invoking `read_json`.*\n",
    "1. Construct a `DataFrame` containing only the businesses which DO NOT have valid ZIP codes.  You will probably want to use the `Series.isin` function. \n"
   ]
  },
  {
   "cell_type": "markdown",
   "metadata": {
    "deletable": false,
    "editable": false
   },
   "source": [
    "**Step 1**\n",
    "\n",
    "<!--\n",
    "BEGIN QUESTION\n",
    "name: q2ci\n",
    "points: 1\n",
    "-->"
   ]
  },
  {
   "cell_type": "code",
   "execution_count": 40,
   "metadata": {},
   "outputs": [],
   "source": [
    "valid_zips = ...\n",
    "valid_zips.head()"
   ]
  },
  {
   "cell_type": "code",
   "execution_count": null,
   "metadata": {
    "deletable": false,
    "editable": false
   },
   "outputs": [],
   "source": [
    "grader.check(\"q2ci\")"
   ]
  },
  {
   "cell_type": "markdown",
   "metadata": {
    "deletable": false,
    "editable": false
   },
   "source": [
    "**Step 2**\n",
    "\n",
    "<!--\n",
    "BEGIN QUESTION\n",
    "name: q2cii\n",
    "points: 1\n",
    "-->"
   ]
  },
  {
   "cell_type": "code",
   "execution_count": 43,
   "metadata": {},
   "outputs": [],
   "source": [
    "invalid_zip_bus = ...\n",
    "invalid_zip_bus.head(20)"
   ]
  },
  {
   "cell_type": "code",
   "execution_count": null,
   "metadata": {
    "deletable": false,
    "editable": false
   },
   "outputs": [],
   "source": [
    "grader.check(\"q2cii\")"
   ]
  },
  {
   "cell_type": "markdown",
   "metadata": {
    "deletable": false,
    "editable": false
   },
   "source": [
    "<br/><br/><br/>\n",
    "\n",
    "--- \n",
    "\n",
    "## Question 2d\n",
    "\n",
    "In the previous question, many of the businesses had a common invalid postal code that was likely used to encode a MISSING postal code.  Do they all share a potentially \"interesting address\"?\n",
    "\n",
    "In the following cell, construct a **series** that counts the number of businesses at each `address` that have this single likely MISSING postal code value.  Order the series in descending order by count. \n",
    "\n",
    "After examining the output, please answer the following question (2e) by filling in the appropriate variable. If we were to drop businesses with MISSING postal code values would a particular class of business be affected?  If you are unsure try to search the web for the most common addresses.\n",
    "\n",
    "\n",
    "<!--\n",
    "BEGIN QUESTION\n",
    "name: q2d\n",
    "points: 3\n",
    "-->"
   ]
  },
  {
   "cell_type": "code",
   "execution_count": 46,
   "metadata": {},
   "outputs": [],
   "source": [
    "missing_zip_address_count = ...\n",
    "missing_zip_address_count.head()"
   ]
  },
  {
   "cell_type": "code",
   "execution_count": null,
   "metadata": {
    "deletable": false,
    "editable": false
   },
   "outputs": [],
   "source": [
    "grader.check(\"q2d\")"
   ]
  },
  {
   "cell_type": "markdown",
   "metadata": {
    "deletable": false,
    "editable": false
   },
   "source": [
    "<br/><br/><br/>\n",
    "\n",
    "--- \n",
    "\n",
    "## Question 2e\n",
    "\n",
    "**True or False**:  *If we were to drop businesses with MISSING postal code values, a particular class of business will be affected.*\n",
    "\n",
    "<!--\n",
    "BEGIN QUESTION\n",
    "name: q2e\n",
    "points: 2\n",
    "-->"
   ]
  },
  {
   "cell_type": "code",
   "execution_count": 50,
   "metadata": {},
   "outputs": [],
   "source": [
    "# True or False: \n",
    "#  If we were to drop businesses with MISSING postal code values \n",
    "#   a particular class of business be affected.\n",
    "q2e_true_or_false = ..."
   ]
  },
  {
   "cell_type": "code",
   "execution_count": null,
   "metadata": {
    "deletable": false,
    "editable": false
   },
   "outputs": [],
   "source": [
    "grader.check(\"q2e\")"
   ]
  },
  {
   "cell_type": "markdown",
   "metadata": {
    "deletable": false,
    "editable": false
   },
   "source": [
    "<br/><br/><br/>\n",
    "\n",
    "--- \n",
    "\n",
    "## Question 2f\n",
    "\n",
    "Examine the `invalid_zip_bus` dataframe we computed above and look at the businesses that DO NOT have the special MISSING ZIP code value.  Some of the invalid postal codes are just the full 9 digit code rather than the first 5 digits.  Create a new column named `postal5` in the original `bus` dataframe which contains only the first 5 digits of the `postal_code` column.   Finally, for any of the `postal5` ZIP code entries that were not a valid San Fransisco ZIP Code (according to `valid_zips`) set the entry to `None`.  \n",
    "\n",
    "\n",
    "<!--\n",
    "BEGIN QUESTION\n",
    "name: q2f\n",
    "points: 2\n",
    "-->"
   ]
  },
  {
   "cell_type": "code",
   "execution_count": 53,
   "metadata": {},
   "outputs": [],
   "source": [
    "bus['postal5'] = None\n",
    "...\n",
    "\n",
    "# Checking the corrected postal5 column\n",
    "bus.loc[invalid_zip_bus.index, ['bid', 'name', 'postal_code', 'postal5']]"
   ]
  },
  {
   "cell_type": "code",
   "execution_count": null,
   "metadata": {
    "deletable": false,
    "editable": false
   },
   "outputs": [],
   "source": [
    "grader.check(\"q2f\")"
   ]
  },
  {
   "cell_type": "markdown",
   "metadata": {
    "nbgrader": {
     "grade": false,
     "grade_id": "business-data",
     "locked": true,
     "schema_version": 2,
     "solution": false
    }
   },
   "source": [
    "<br/><br/><br/>\n",
    "\n",
    "---\n",
    "\n",
    "<br/><br/><br/>\n",
    "\n",
    "# 3: Investigate the Inspection Data\n",
    "\n",
    "Let's now turn to the inspection DataFrame. Earlier, we found that `ins` has 4 columns named \n",
    "`iid`, `score`, `date` and `type`.  In this section, we determine the granularity of `ins` and investigate the kinds of information provided for the inspections. "
   ]
  },
  {
   "cell_type": "markdown",
   "metadata": {
    "nbgrader": {
     "grade": false,
     "grade_id": "cell-174ed23c543ad9da",
     "locked": true,
     "schema_version": 2,
     "solution": false
    }
   },
   "source": [
    "Let's start by looking again at the first 5 rows of `ins` to see what we're working with."
   ]
  },
  {
   "cell_type": "code",
   "execution_count": 58,
   "metadata": {
    "nbgrader": {
     "grade": false,
     "grade_id": "cell-f0fbe724a2783e33",
     "locked": true,
     "schema_version": 2,
     "solution": false
    }
   },
   "outputs": [],
   "source": [
    "ins.head(5)"
   ]
  },
  {
   "cell_type": "markdown",
   "metadata": {
    "deletable": false,
    "editable": false
   },
   "source": [
    "<br/><br/><br/>\n",
    "\n",
    "---\n",
    "\n",
    "## Question 3a\n",
    "\n",
    "The column `iid` probably corresponds to an inspection id.  Is it a primary key?  Write an expression (line of code) that evaluates to `True` or `False` based on whether all the values are unique.\n",
    "\n",
    "\n",
    "<!--\n",
    "BEGIN QUESTION\n",
    "name: q3a\n",
    "points: 1\n",
    "-->"
   ]
  },
  {
   "cell_type": "code",
   "execution_count": 59,
   "metadata": {},
   "outputs": [],
   "source": [
    "is_ins_iid_a_primary_key = ..."
   ]
  },
  {
   "cell_type": "code",
   "execution_count": null,
   "metadata": {
    "deletable": false,
    "editable": false
   },
   "outputs": [],
   "source": [
    "grader.check(\"q3a\")"
   ]
  },
  {
   "cell_type": "markdown",
   "metadata": {},
   "source": [
    "<br/><br/><br/>\n",
    "\n",
    "---\n",
    "\n",
    "## Question 3b\n",
    "\n",
    "The column `iid` appears to be the composition of two numbers and the first number looks like a business id.  \n",
    "\n",
    "**Part 1.**: Create a new column called `bid` in the `ins` dataframe containing just the business id.  You will want to use `ins['iid'].str` operations to do this.  Also be sure to convert the type of this column to `int`\n",
    "\n",
    "**Part 2.**: Then compute how many values in this new column are invalid business ids (i.e. do not appear in the `bus['bid']` column). This is verifying a foreign key relationship. Consider using the `pd.Series.isin` function.\n",
    "\n",
    "**Part 3.**: Answer True or False, `ins['bid']` is a foreign key reference to `bus['bid']`.\n",
    "\n",
    "\n",
    "**No python `for` loops or list comprehensions required!**"
   ]
  },
  {
   "cell_type": "markdown",
   "metadata": {
    "deletable": false,
    "editable": false
   },
   "source": [
    "**Part 1**\n",
    "\n",
    "<!--\n",
    "BEGIN QUESTION\n",
    "name: q3bi\n",
    "points: 1\n",
    "-->"
   ]
  },
  {
   "cell_type": "code",
   "execution_count": 62,
   "metadata": {},
   "outputs": [],
   "source": [
    "..."
   ]
  },
  {
   "cell_type": "code",
   "execution_count": null,
   "metadata": {
    "deletable": false,
    "editable": false
   },
   "outputs": [],
   "source": [
    "grader.check(\"q3bi\")"
   ]
  },
  {
   "cell_type": "markdown",
   "metadata": {
    "deletable": false,
    "editable": false
   },
   "source": [
    "**Part 2**\n",
    "\n",
    "<!--\n",
    "BEGIN QUESTION\n",
    "name: q3bii\n",
    "points: 1\n",
    "-->"
   ]
  },
  {
   "cell_type": "code",
   "execution_count": 67,
   "metadata": {},
   "outputs": [],
   "source": [
    "invalid_bid_count = ..."
   ]
  },
  {
   "cell_type": "code",
   "execution_count": null,
   "metadata": {
    "deletable": false,
    "editable": false
   },
   "outputs": [],
   "source": [
    "grader.check(\"q3bii\")"
   ]
  },
  {
   "cell_type": "markdown",
   "metadata": {
    "deletable": false,
    "editable": false
   },
   "source": [
    "**Part 3**\n",
    "\n",
    "<!--\n",
    "BEGIN QUESTION\n",
    "name: q3biii\n",
    "points: 1\n",
    "-->"
   ]
  },
  {
   "cell_type": "code",
   "execution_count": 70,
   "metadata": {},
   "outputs": [],
   "source": [
    "# True or False: The column ins['bid'] is a foreign key \n",
    "#   referencing the bus['bid'] primary key.\n",
    "\n",
    "q3b_is_foreign_key = ..."
   ]
  },
  {
   "cell_type": "code",
   "execution_count": null,
   "metadata": {
    "deletable": false,
    "editable": false
   },
   "outputs": [],
   "source": [
    "grader.check(\"q3biii\")"
   ]
  },
  {
   "cell_type": "markdown",
   "metadata": {},
   "source": [
    "<br/><br/><br/>\n",
    "\n",
    "---\n",
    "\n",
    "## Question 3c\n",
    "\n",
    "What if we are interested in a time component of the inspection data?  We need to examine the date column of each inspection. \n",
    "\n",
    "**Part 1:** What is the type of the individual `ins['date']` entries? You may want to grab the very first entry and use the `type` function in python. \n",
    "\n",
    "**Part 2:** Use `pd.to_datetime` to create a new `ins['timestamp']` column containing of `pd.Timestamp` objects.  These will allow us to do more date manipulation.\n",
    "\n",
    "**Part 3:** What are the earliest and latest dates in our inspection data?  *Hint: you can use `min` and `max` on dates of the correct type.*\n",
    "\n",
    "**Part 4:** We probably want to examine the inspections by year. Create an additional `ins['year']` column containing just the year of the inspection.  Consider using `pd.Series.dt.year` to do this.\n",
    "\n",
    "**No python `for` loops or list comprehensions required!**"
   ]
  },
  {
   "cell_type": "markdown",
   "metadata": {
    "deletable": false,
    "editable": false
   },
   "source": [
    "**Part 1**\n",
    "\n",
    "<!--\n",
    "BEGIN QUESTION\n",
    "name: q3ci\n",
    "points: 1\n",
    "-->"
   ]
  },
  {
   "cell_type": "code",
   "execution_count": 73,
   "metadata": {},
   "outputs": [],
   "source": [
    "ins_date_type = ...\n",
    "ins_date_type"
   ]
  },
  {
   "cell_type": "code",
   "execution_count": null,
   "metadata": {
    "deletable": false,
    "editable": false
   },
   "outputs": [],
   "source": [
    "grader.check(\"q3ci\")"
   ]
  },
  {
   "cell_type": "markdown",
   "metadata": {
    "deletable": false,
    "editable": false
   },
   "source": [
    "**Part 2**\n",
    "\n",
    "<!--\n",
    "BEGIN QUESTION\n",
    "name: q3cii\n",
    "points: 1\n",
    "-->"
   ]
  },
  {
   "cell_type": "code",
   "execution_count": 76,
   "metadata": {},
   "outputs": [],
   "source": [
    "..."
   ]
  },
  {
   "cell_type": "code",
   "execution_count": null,
   "metadata": {
    "deletable": false,
    "editable": false
   },
   "outputs": [],
   "source": [
    "grader.check(\"q3cii\")"
   ]
  },
  {
   "cell_type": "markdown",
   "metadata": {
    "deletable": false,
    "editable": false
   },
   "source": [
    "**Part 3**\n",
    "\n",
    "<!--\n",
    "BEGIN QUESTION\n",
    "name: q3ciii\n",
    "points: 1\n",
    "-->"
   ]
  },
  {
   "cell_type": "code",
   "execution_count": 78,
   "metadata": {},
   "outputs": [],
   "source": [
    "earliest_date = ...\n",
    "latest_date = ...\n",
    "\n",
    "print(\"Earliest Date:\", earliest_date)\n",
    "print(\"Latest Date:\", latest_date)"
   ]
  },
  {
   "cell_type": "code",
   "execution_count": null,
   "metadata": {
    "deletable": false,
    "editable": false
   },
   "outputs": [],
   "source": [
    "grader.check(\"q3ciii\")"
   ]
  },
  {
   "cell_type": "markdown",
   "metadata": {
    "deletable": false,
    "editable": false
   },
   "source": [
    "**Part 4**\n",
    "\n",
    "<!--\n",
    "BEGIN QUESTION\n",
    "name: q3civ\n",
    "points: 1\n",
    "-->"
   ]
  },
  {
   "cell_type": "code",
   "execution_count": 83,
   "metadata": {},
   "outputs": [],
   "source": [
    "..."
   ]
  },
  {
   "cell_type": "code",
   "execution_count": null,
   "metadata": {
    "deletable": false,
    "editable": false
   },
   "outputs": [],
   "source": [
    "grader.check(\"q3civ\")"
   ]
  },
  {
   "cell_type": "code",
   "execution_count": 86,
   "metadata": {},
   "outputs": [],
   "source": [
    "ins.head()"
   ]
  },
  {
   "cell_type": "markdown",
   "metadata": {},
   "source": [
    "<br/><br/><br/>\n",
    "\n",
    "---\n",
    "\n",
    "## Question 3d\n",
    "\n",
    "What is the relationship between the type of inspection over the 2016 to 2019 timeframe? \n",
    "\n",
    "**Part 1**\n",
    "\n",
    "Construct the following table by\n",
    "1. Using the `pivot_table` containing the number (`size`) of inspections for the given `type` and `year`.\n",
    "1. Adding an extra `Total` column to the result using `sum`\n",
    "1. Sort the results in descending order by the `Total`.\n",
    "\n",
    "<table border=\"1\" class=\"dataframe\">  <thead>    <tr style=\"text-align: right;\">      <th>year</th>      <th>2016</th>      <th>2017</th>      <th>2018</th>      <th>2019</th>      <th>Total</th>    </tr>    <tr>      <th>type</th>      <th></th>      <th></th>      <th></th>      <th></th>      <th></th>    </tr>  </thead>  <tbody>    <tr>      <th>Routine - Unscheduled</th>      <td>966</td>      <td>4057</td>      <td>4373</td>      <td>4681</td>      <td>14077</td>    </tr>    <tr>      <th>Reinspection/Followup</th>      <td>445</td>      <td>1767</td>      <td>1935</td>      <td>2292</td>      <td>6439</td>    </tr>    <tr>      <th>New Ownership</th>      <td>99</td>      <td>506</td>      <td>528</td>      <td>459</td>      <td>1592</td>    </tr>    <tr>      <th>Complaint</th>      <td>91</td>      <td>418</td>      <td>512</td>      <td>437</td>      <td>1458</td>    </tr>    <tr>      <th>New Construction</th>      <td>102</td>      <td>485</td>      <td>218</td>      <td>189</td>      <td>994</td>    </tr>    <tr>      <th>Non-inspection site visit</th>      <td>51</td>      <td>276</td>      <td>253</td>      <td>231</td>      <td>811</td>    </tr>    <tr>      <th>New Ownership - Followup</th>      <td>0</td>      <td>45</td>      <td>219</td>      <td>235</td>      <td>499</td>    </tr>    <tr>      <th>Structural Inspection</th>      <td>1</td>      <td>153</td>      <td>50</td>      <td>190</td>      <td>394</td>    </tr>    <tr>      <th>Complaint Reinspection/Followup</th>      <td>19</td>      <td>68</td>      <td>70</td>      <td>70</td>      <td>227</td>    </tr>    <tr>      <th>Foodborne Illness Investigation</th>      <td>1</td>      <td>29</td>      <td>50</td>      <td>35</td>      <td>115</td>    </tr>    <tr>      <th>Routine - Scheduled</th>      <td>0</td>      <td>9</td>      <td>8</td>      <td>29</td>      <td>46</td>    </tr>    <tr>      <th>Administrative or Document Review</th>      <td>2</td>      <td>1</td>      <td>1</td>      <td>0</td>      <td>4</td>    </tr>    <tr>      <th>Multi-agency Investigation</th>      <td>0</td>      <td>0</td>      <td>1</td>      <td>2</td>      <td>3</td>    </tr>    <tr>      <th>Special Event</th>      <td>0</td>      <td>3</td>      <td>0</td>      <td>0</td>      <td>3</td>    </tr>    <tr>      <th>Community Health Assessment</th>      <td>1</td>      <td>0</td>      <td>0</td>      <td>0</td>      <td>1</td>    </tr>  </tbody></table>\n",
    "\n",
    "**No python `for` loops or list comprehensions required!**"
   ]
  },
  {
   "cell_type": "code",
   "execution_count": 87,
   "metadata": {},
   "outputs": [],
   "source": [
    "ins_pivot = ...\n",
    "ins_pivot = ...\n",
    "...\n",
    "ins_pivot_sorted = ...\n",
    "ins_pivot_sorted"
   ]
  },
  {
   "cell_type": "code",
   "execution_count": null,
   "metadata": {
    "deletable": false,
    "editable": false
   },
   "outputs": [],
   "source": [
    "grader.check(\"q3di\")"
   ]
  },
  {
   "cell_type": "markdown",
   "metadata": {
    "deletable": false,
    "editable": false
   },
   "source": [
    "**Part 2**\n",
    "\n",
    "Based on the above analysis, which year appears to have had a lot of businesses in newly constructed buildings?\n",
    "<!--\n",
    "BEGIN QUESTION\n",
    "name: q3dii\n",
    "points: 2\n",
    "-->"
   ]
  },
  {
   "cell_type": "code",
   "execution_count": 93,
   "metadata": {},
   "outputs": [],
   "source": [
    "year_of_new_construction = ..."
   ]
  },
  {
   "cell_type": "code",
   "execution_count": null,
   "metadata": {
    "deletable": false,
    "editable": false
   },
   "outputs": [],
   "source": [
    "grader.check(\"q3dii\")"
   ]
  },
  {
   "cell_type": "markdown",
   "metadata": {},
   "source": [
    "<br/><br/><br/>\n",
    "\n",
    "---\n",
    "\n",
    "## Question 3e\n",
    "\n",
    "Let's examine the inspection scores `ins['score']`\n",
    "\n"
   ]
  },
  {
   "cell_type": "code",
   "execution_count": 96,
   "metadata": {},
   "outputs": [],
   "source": [
    "ins['score'].value_counts().head()"
   ]
  },
  {
   "cell_type": "markdown",
   "metadata": {},
   "source": [
    "There are a large number of inspections with the `'score'` of `-1`.   These are probably missing values.  Let's see what type of inspections have scores and which do not. Create the following dataframe using steps similar to the previous question, and assign it to to the variable `ins_missing_score_pivot`.\n",
    "\n",
    "You should observe that inspection scores appear only to be assigned to `Routine - Unscheduled` inspections.\n",
    "\n",
    "\n",
    "<table border=\"1\" class=\"dataframe\">  <thead>    <tr style=\"text-align: right;\">      <th>Missing Score</th>      <th>False</th>      <th>True</th>      <th>Total</th>    </tr>    <tr>      <th>type</th>      <th></th>      <th></th>      <th></th>    </tr>  </thead>  <tbody>    <tr>      <th>Routine - Unscheduled</th>      <td>14031</td>      <td>46</td>      <td>14077</td>    </tr>    <tr>      <th>Reinspection/Followup</th>      <td>0</td>      <td>6439</td>      <td>6439</td>    </tr>    <tr>      <th>New Ownership</th>      <td>0</td>      <td>1592</td>      <td>1592</td>    </tr>    <tr>      <th>Complaint</th>      <td>0</td>      <td>1458</td>      <td>1458</td>    </tr>    <tr>      <th>New Construction</th>      <td>0</td>      <td>994</td>      <td>994</td>    </tr>    <tr>      <th>Non-inspection site visit</th>      <td>0</td>      <td>811</td>      <td>811</td>    </tr>    <tr>      <th>New Ownership - Followup</th>      <td>0</td>      <td>499</td>      <td>499</td>    </tr>    <tr>      <th>Structural Inspection</th>      <td>0</td>      <td>394</td>      <td>394</td>    </tr>    <tr>      <th>Complaint Reinspection/Followup</th>      <td>0</td>      <td>227</td>      <td>227</td>    </tr>    <tr>      <th>Foodborne Illness Investigation</th>      <td>0</td>      <td>115</td>      <td>115</td>    </tr>    <tr>      <th>Routine - Scheduled</th>      <td>0</td>      <td>46</td>      <td>46</td>    </tr>    <tr>      <th>Administrative or Document Review</th>      <td>0</td>      <td>4</td>      <td>4</td>    </tr>    <tr>      <th>Multi-agency Investigation</th>      <td>0</td>      <td>3</td>      <td>3</td>    </tr>    <tr>      <th>Special Event</th>      <td>0</td>      <td>3</td>      <td>3</td>    </tr>    <tr>      <th>Community Health Assessment</th>      <td>0</td>      <td>1</td>      <td>1</td>    </tr>  </tbody></table>\n",
    "\n"
   ]
  },
  {
   "cell_type": "code",
   "execution_count": 97,
   "metadata": {},
   "outputs": [],
   "source": [
    "ins_missing_score_pivot = ...\n",
    "\n",
    "..."
   ]
  },
  {
   "cell_type": "code",
   "execution_count": null,
   "metadata": {
    "deletable": false,
    "editable": false
   },
   "outputs": [],
   "source": [
    "grader.check(\"q3e\")"
   ]
  },
  {
   "cell_type": "markdown",
   "metadata": {},
   "source": [
    "Notice that inspection scores appear only to be assigned to `Routine - Unscheduled` inspections. It is reasonable that for inspection types such as `New Ownership` and `Complaint` to have no associated inspection scores, but we might be curious why there are no inspection scores for the `Reinspection/Followup` inspection type."
   ]
  },
  {
   "cell_type": "markdown",
   "metadata": {
    "nbgrader": {
     "grade": false,
     "grade_id": "business-data",
     "locked": true,
     "schema_version": 2,
     "solution": false
    }
   },
   "source": [
    "<br/><br/><br/>\n",
    "\n",
    "---\n",
    "\n",
    "<br/><br/><br/>\n",
    "\n",
    "# 4: Joining Data Across Tables\n",
    "\n",
    "In this question we will start to connect data across mulitple tables.  We will be using the `merge` function. "
   ]
  },
  {
   "cell_type": "markdown",
   "metadata": {},
   "source": [
    "<br/><br/><br/>\n",
    "\n",
    "--- \n",
    "\n",
    "## Question 4a\n",
    "\n",
    "Let's figure out which restaurants had the lowest scores. Before we proceed, let's filter out missing scores from `ins` so that negative scores don't influence our results."
   ]
  },
  {
   "cell_type": "code",
   "execution_count": 103,
   "metadata": {},
   "outputs": [],
   "source": [
    "ins = ins[ins[\"score\"] > 0]"
   ]
  },
  {
   "cell_type": "markdown",
   "metadata": {
    "deletable": false,
    "editable": false
   },
   "source": [
    "We'll start by creating a new dataframe called `ins_named`. It should be exactly the same as `ins`, except that it should have the name and address of every business, as determined by the `bus` dataframe. If a `business_id` in `ins` does not exist in `bus`, the name and address should be given as `NaN`. \n",
    "\n",
    "*Hint*: Use the merge method to join the `ins` dataframe with the appropriate portion of the `bus` dataframe. See the official [documentation](https://pandas.pydata.org/pandas-docs/stable/user_guide/merging.html) on how to use `merge`.\n",
    "\n",
    "*Note*: For quick reference, a pandas 'left' join keeps the keys from the left frame, so if `ins` is the left frame, all the keys from `ins` are kept and if a set of these keys don't have matches in the other frame, the columns from the other frame for these \"unmatched\" key rows contains NaNs.\n",
    "\n",
    "<!--\n",
    "BEGIN QUESTION\n",
    "name: q4a\n",
    "points: 2\n",
    "-->"
   ]
  },
  {
   "cell_type": "code",
   "execution_count": 104,
   "metadata": {},
   "outputs": [],
   "source": [
    "ins_named = ...\n",
    "...\n",
    "ins_named.head()"
   ]
  },
  {
   "cell_type": "code",
   "execution_count": null,
   "metadata": {
    "deletable": false,
    "editable": false
   },
   "outputs": [],
   "source": [
    "grader.check(\"q4a\")"
   ]
  },
  {
   "cell_type": "markdown",
   "metadata": {
    "deletable": false,
    "editable": false
   },
   "source": [
    "<br/><br/><br/>\n",
    "\n",
    "--- \n",
    "\n",
    "## Question 4b\n",
    "\n",
    "Let's look at the 20 businesses with the lowest **median** score.  Order your results by the median score followed by the business id to break ties. The resulting table should look like:\n",
    "\n",
    "\n",
    "*Hint: You may find the `as_index` argument in the `groupby` method important*. [The documentation is linked here!](https://pandas.pydata.org/pandas-docs/stable/reference/api/pandas.DataFrame.groupby.html)\n",
    "\n",
    "<table border=\"1\" class=\"dataframe\">  <thead>    <tr style=\"text-align: right;\">      <th></th>      <th>bid</th>      <th>name</th>      <th>median score</th>    </tr>  </thead>  <tbody>    <tr>      <th>3876</th>      <td>84590</td>      <td>Chaat Corner</td>      <td>54.0</td>    </tr>    <tr>      <th>4564</th>      <td>90622</td>      <td>Taqueria Lolita</td>      <td>57.0</td>    </tr>    <tr>      <th>4990</th>      <td>94351</td>      <td>VBowls LLC</td>      <td>58.0</td>    </tr>    <tr>      <th>2719</th>      <td>69282</td>      <td>New Jumbo Seafood Restaurant</td>      <td>60.5</td>    </tr>    <tr>      <th>222</th>      <td>1154</td>      <td>SUNFLOWER RESTAURANT</td>      <td>63.5</td>    </tr>    <tr>      <th>1991</th>      <td>39776</td>      <td>Duc Loi Supermarket</td>      <td>64.0</td>    </tr>    <tr>      <th>2734</th>      <td>69397</td>      <td>Minna SF Group LLC</td>      <td>64.0</td>    </tr>    <tr>      <th>3291</th>      <td>78328</td>      <td>Golden Wok</td>      <td>64.0</td>    </tr>    <tr>      <th>4870</th>      <td>93150</td>      <td>Chez Beesen</td>      <td>64.0</td>    </tr>    <tr>      <th>4911</th>      <td>93502</td>      <td>Smoky Man</td>      <td>64.0</td>    </tr>    <tr>      <th>5510</th>      <td>98995</td>      <td>Vallarta's Taco Bar</td>      <td>64.0</td>    </tr>    <tr>      <th>1457</th>      <td>10877</td>      <td>CHINA FIRST INC.</td>      <td>64.5</td>    </tr>    <tr>      <th>2890</th>      <td>71310</td>      <td>Golden King Vietnamese Restaurant</td>      <td>64.5</td>    </tr>    <tr>      <th>4352</th>      <td>89070</td>      <td>Lafayette Coffee Shop</td>      <td>64.5</td>    </tr>    <tr>      <th>505</th>      <td>2542</td>      <td>PETER D'S RESTAURANT</td>      <td>65.0</td>    </tr>    <tr>      <th>2874</th>      <td>71008</td>      <td>House of Pancakes</td>      <td>65.0</td>    </tr>    <tr>      <th>818</th>      <td>3862</td>      <td>IMPERIAL GARDEN SEAFOOD RESTAURANT</td>      <td>66.0</td>    </tr>    <tr>      <th>2141</th>      <td>61427</td>      <td>Nick's Foods</td>      <td>66.0</td>    </tr>    <tr>      <th>2954</th>      <td>72176</td>      <td>Wolfes Lunch</td>      <td>66.0</td>    </tr>    <tr>      <th>4367</th>      <td>89141</td>      <td>Cha Cha Cha on Mission</td>      <td>66.5</td>    </tr>  </tbody></table>\n",
    "\n",
    "\n",
    "<!--\n",
    "BEGIN QUESTION\n",
    "name: q4b\n",
    "points: 3\n",
    "-->"
   ]
  },
  {
   "cell_type": "code",
   "execution_count": 110,
   "metadata": {},
   "outputs": [],
   "source": [
    "twenty_lowest_scoring = ... \n",
    "...\n",
    "\n",
    "twenty_lowest_scoring"
   ]
  },
  {
   "cell_type": "code",
   "execution_count": null,
   "metadata": {
    "deletable": false,
    "editable": false
   },
   "outputs": [],
   "source": [
    "grader.check(\"q4b\")"
   ]
  },
  {
   "cell_type": "markdown",
   "metadata": {
    "deletable": false,
    "editable": false
   },
   "source": [
    "<br/><br/><br/>\n",
    "\n",
    "--- \n",
    "\n",
    "## Question 4c\n",
    "\n",
    "Let's now examine the descriptions of violations for inspections with `score > 0` and `score < 65`.  Construct a **Series** indexed by the `description` of the violation from the `vio` table with the value being the number of times that violation occured for inspections with the above score range.  Sort the results in descending order of the count.\n",
    "\n",
    "The first few entries should look like:\n",
    "\n",
    "```\n",
    "Unclean or unsanitary food contact surfaces                                  43\n",
    "High risk food holding temperature                                           42\n",
    "Unclean or degraded floors walls or ceilings                                 40\n",
    "Unapproved or unmaintained equipment or utensils                             39\n",
    "```\n",
    "You will need to use `merge` twice.\n",
    "\n",
    "<!--\n",
    "BEGIN QUESTION\n",
    "name: q4c\n",
    "points: 2\n",
    "-->"
   ]
  },
  {
   "cell_type": "code",
   "execution_count": 114,
   "metadata": {},
   "outputs": [],
   "source": [
    "low_score_violations = ...\n",
    "\n",
    "...\n",
    "\n",
    "low_score_violations.head(20)"
   ]
  },
  {
   "cell_type": "code",
   "execution_count": null,
   "metadata": {
    "deletable": false,
    "editable": false
   },
   "outputs": [],
   "source": [
    "grader.check(\"q4c\")"
   ]
  },
  {
   "cell_type": "markdown",
   "metadata": {
    "deletable": false,
    "editable": false
   },
   "source": [
    "### Question 4d\n",
    "\n",
    "Let's figure out which restaurant had the worst scores ever (single lowest score). \n",
    "\n",
    "**In the cell below, write the name of the restaurant** with the lowest inspection scores ever. You can also head to yelp.com and look up the reviews page for this restaurant. Feel free to add anything interesting you want to share.\n",
    "\n",
    "<!--\n",
    "BEGIN QUESTION\n",
    "name: q4d\n",
    "points: 2\n",
    "-->"
   ]
  },
  {
   "cell_type": "code",
   "execution_count": 119,
   "metadata": {},
   "outputs": [],
   "source": [
    "worst_restaurant = ...\n",
    "worst_restaurant"
   ]
  },
  {
   "cell_type": "code",
   "execution_count": null,
   "metadata": {
    "deletable": false,
    "editable": false
   },
   "outputs": [],
   "source": [
    "grader.check(\"q4d\")"
   ]
  },
  {
   "cell_type": "markdown",
   "metadata": {},
   "source": [
    "<br/><br/><br/><br/>\n",
    "\n",
    "---\n",
    "\n",
    "<br/><br/>\n",
    "\n",
    "## 5: Explore Inspection Scores\n",
    "\n",
    "In this part we explore some of the basic inspection score values visually."
   ]
  },
  {
   "cell_type": "markdown",
   "metadata": {
    "collapsed": true,
    "deletable": false,
    "editable": false,
    "jupyter": {
     "outputs_hidden": true
    }
   },
   "source": [
    "<!-- BEGIN QUESTION -->\n",
    "\n",
    "<br/><br/><br/>\n",
    "\n",
    "---\n",
    "\n",
    "\n",
    "## Question 5a\n",
    "Let's look at the distribution of inspection scores. As we saw before when we called head on this data frame, inspection scores appear to be integer values. The discreteness of this variable means that we can use a bar plot to visualize the distribution of the inspection score. Make a bar plot of the counts of the number of inspections receiving each score.\n",
    "\n",
    "It should look like the image below. It does not need to look exactly the same (e.g., no grid), but make sure that all labels and axes are correct.\n",
    "\n",
    "![](pics/6a.png)\n",
    "\n",
    "You might find this [matplotlib.pyplot tutorial](https://matplotlib.org/tutorials/introductory/pyplot.html) useful. Key syntax that you'll need:\n",
    "\n",
    "```\n",
    "plt.bar\n",
    "plt.xlabel\n",
    "plt.ylabel\n",
    "plt.title\n",
    "```\n",
    "\n",
    "*Note*: If you want to use another plotting library for your plots (e.g. plotly, sns) you are welcome to use that library instead so long as it works on DataHub. If you use seaborn sns.countplot(), you may need to manually set what to display on xticks.\n",
    "\n",
    "\n",
    "<!--\n",
    "BEGIN QUESTION\n",
    "name: q5a\n",
    "points: 1\n",
    "manual: True\n",
    "-->"
   ]
  },
  {
   "cell_type": "code",
   "execution_count": 122,
   "metadata": {
    "scrolled": false
   },
   "outputs": [],
   "source": [
    "..."
   ]
  },
  {
   "cell_type": "markdown",
   "metadata": {
    "deletable": false,
    "editable": false
   },
   "source": [
    "<!-- END QUESTION -->"
   ]
  },
  {
   "cell_type": "code",
   "execution_count": 123,
   "metadata": {},
   "outputs": [],
   "source": [
    "score_counts"
   ]
  },
  {
   "cell_type": "markdown",
   "metadata": {
    "deletable": false,
    "editable": false
   },
   "source": [
    "<!-- BEGIN QUESTION -->\n",
    "\n",
    "<br/><br/><br/>\n",
    "\n",
    "---\n",
    "\n",
    "### Question 5b\n",
    "Describe the qualities of the distribution of the inspections scores based on your bar plot. Consider the mode(s), symmetry, tails, gaps, and anomalous values. Are there any unusual features of this distribution? What do your observations imply about the scores?\n",
    "\n",
    "<!--\n",
    "BEGIN QUESTION\n",
    "name: q5b\n",
    "points: 2\n",
    "manual: True\n",
    "-->"
   ]
  },
  {
   "cell_type": "markdown",
   "metadata": {},
   "source": [
    "_Type your answer here, replacing this text._"
   ]
  },
  {
   "cell_type": "markdown",
   "metadata": {},
   "source": [
    "<!-- END QUESTION -->\n",
    "\n",
    "\n",
    "\n",
    "<br/><br/><br/><br/>\n",
    "\n",
    "---\n",
    "\n",
    "<br/><br/>\n",
    "\n",
    "## 6: Restaurant Ratings Over Time\n",
    "\n",
    "Let's consider various scenarios involving restaurants with multiple ratings over time.\n",
    "\n"
   ]
  },
  {
   "cell_type": "markdown",
   "metadata": {},
   "source": [
    "<br/><br/><br/>\n",
    "\n",
    "---\n",
    "\n",
    "### Question 6a\n",
    "\n",
    "Let's see which restaurant has had the most extreme improvement in its rating, aka scores. Let the \"swing\" of a restaurant be defined as the difference between its highest-ever and lowest-ever rating. **Only consider restaurants with at least 3 ratings, aka rated for at least 3 times (3 scores)!** Using whatever technique you want to use, assign `max_swing` to the name of restaurant that has the maximum swing.\n",
    "\n",
    "*Note*: The \"swing\" is of a specific business. There might be some restaurants with multiple locations; each location has its own \"swing\"."
   ]
  },
  {
   "cell_type": "markdown",
   "metadata": {
    "deletable": false,
    "editable": false
   },
   "source": [
    "The city would like to know if the state of food safety has been getting better, worse, or about average. This is a pretty vague and broad question, which you should expect as part of your future job as a data scientist! However for the ease of grading for this assignment, we are going to guide you through it and offer some specific directions to consider.\n",
    "\n",
    "<!--\n",
    "BEGIN QUESTION\n",
    "name: q6a\n",
    "points: 2\n",
    "-->"
   ]
  },
  {
   "cell_type": "code",
   "execution_count": 124,
   "metadata": {},
   "outputs": [],
   "source": [
    "max_swing = ...\n",
    "max_swing"
   ]
  },
  {
   "cell_type": "code",
   "execution_count": null,
   "metadata": {
    "deletable": false,
    "editable": false
   },
   "outputs": [],
   "source": [
    "grader.check(\"q6a\")"
   ]
  },
  {
   "cell_type": "markdown",
   "metadata": {
    "deletable": false,
    "editable": false
   },
   "source": [
    "<br/><br/><br/>\n",
    "\n",
    "---\n",
    "\n",
    "\n",
    "### Question 6b\n",
    "\n",
    "What's the relationship between the first and second scores for the businesses with 2 inspections in a year? Do they typically improve? For simplicity, let's focus on only 2018 for this problem, using `ins2018` data frame that will be created for you below.\n",
    "\n",
    "First, make a dataframe called `scores_pairs_by_business` indexed by `bid` (containing only businesses with exactly 2 inspections in 2018). This dataframe contains the field score_pair consisting of the score pairs ordered chronologically [first_score, second_score].\n",
    "\n",
    "Plot these scores. That is, make a scatter plot to display these pairs of scores. Include on the plot a reference line with slope 1.\n",
    "\n",
    "You may find the functions `sort_values`, `groupby`, `filter` and `agg` helpful, though not all necessary.\n",
    "\n",
    "The first few rows of the resulting table should look something like:\n",
    "\n",
    "|  **bid**   | **score_pair** |\n",
    "|-----|------------|\n",
    "| 48  | [94, 87]   |\n",
    "| 66  | [98, 98]   |\n",
    "| 146  | [81, 90]   |\n",
    "| 184  | [90, 96]  |\n",
    "| 273  | [83, 84]   |\n",
    "\n",
    "In the cell below, create `scores_pairs_by_business` as described above.\n",
    "\n",
    "Note: Each score pair must be a list type; numpy arrays will not pass the autograder.\n",
    "\n",
    "Hint: Use the filter method from lecture 5 to create a new dataframe that only contains restaurants that received exactly 2 inspections.\n",
    "\n",
    "Hint: Our code that creates the needed DataFrame is a single line of code that uses `sort_values`, `groupby`, `filter`, `groupby`, `agg`, and `rename` in that order. Your answer does not need to use these exact methods.\n",
    "\n",
    "<!--\n",
    "BEGIN QUESTION\n",
    "name: q6bi\n",
    "points: 4\n",
    "-->"
   ]
  },
  {
   "cell_type": "code",
   "execution_count": 127,
   "metadata": {},
   "outputs": [],
   "source": [
    "ins2018 = ins[ins['year'] == 2018]\n",
    "# Create the dataframe here\n",
    "scores_pairs_by_business = ...\n",
    "scores_pairs_by_business"
   ]
  },
  {
   "cell_type": "code",
   "execution_count": null,
   "metadata": {
    "deletable": false,
    "editable": false
   },
   "outputs": [],
   "source": [
    "grader.check(\"q6bi\")"
   ]
  },
  {
   "cell_type": "markdown",
   "metadata": {
    "deletable": false,
    "editable": false
   },
   "source": [
    "<!-- BEGIN QUESTION -->\n",
    "\n",
    "Now, create your scatter plot in the cell below. It does not need to look exactly the same (e.g., no grid) as the sample below, but make sure that all labels, axes and data itself are correct.\n",
    "\n",
    "![](pics/7c.png)\n",
    "\n",
    "Key pieces of syntax you'll need:\n",
    "\n",
    "`plt.scatter` plots a set of points. Use `facecolors='none'` and `edgecolors='b'` to make circle markers with blue borders. \n",
    "\n",
    "`plt.plot` for the reference line.\n",
    "\n",
    "`plt.xlabel`, `plt.ylabel`, `plt.axis`, and `plt.title`.\n",
    "\n",
    "Hint: You may find it convenient to use the `zip()` function to unzip scores in the list.\n",
    "\n",
    "<!--\n",
    "BEGIN QUESTION\n",
    "name: q6bii\n",
    "points: 2\n",
    "manual: True\n",
    "-->"
   ]
  },
  {
   "cell_type": "code",
   "execution_count": 130,
   "metadata": {},
   "outputs": [],
   "source": [
    "..."
   ]
  },
  {
   "cell_type": "markdown",
   "metadata": {
    "deletable": false,
    "editable": false
   },
   "source": [
    "<!-- END QUESTION -->\n",
    "\n",
    "<!-- BEGIN QUESTION -->\n",
    "\n",
    "<br/><br/><br/>\n",
    "\n",
    "\n",
    "---\n",
    "\n",
    "\n",
    "### Question 6c\n",
    "\n",
    "If restaurants' scores tend to improve from the first to the second inspection, what do you expect to see in the scatter plot that you made in question 7c? What do you oberve from the plot? Are your observations consistent with your expectations? \n",
    "\n",
    "Hint: What does the slope represent?\n",
    "\n",
    "<!--\n",
    "BEGIN QUESTION\n",
    "name: q6c\n",
    "points: 1\n",
    "manual: True\n",
    "-->"
   ]
  },
  {
   "cell_type": "markdown",
   "metadata": {},
   "source": [
    "_Type your answer here, replacing this text._"
   ]
  },
  {
   "cell_type": "markdown",
   "metadata": {
    "deletable": false,
    "editable": false
   },
   "source": [
    "<!-- END QUESTION -->\n",
    "\n",
    "<!-- BEGIN QUESTION -->\n",
    "\n",
    "<br/><br/><br/>\n",
    "\n",
    "---\n",
    "\n",
    "### Question 6d\n",
    "To wrap up our analysis of the restaurant ratings over time, one final metric we will be looking at is the distribution of restaurant scores over time. Create a side-by-side boxplot that shows the distribution of these scores for each different risk category from 2017 to 2019. Use a figure size of at least 12 by 8.\n",
    "\n",
    "The boxplot should look similar to the sample below. Make sure the boxes are in the correct order!\n",
    "\n",
    "![](pics/7g.png)\n",
    "\n",
    "**Hint**: Use `sns.boxplot()`. Try taking a look at the first several parameters. [The documentation is linked here!](https://seaborn.pydata.org/generated/seaborn.boxplot.html)\n",
    "\n",
    "**Hint**: Use `plt.figure()` to adjust the figure size of your plot.\n",
    "\n",
    "<!--\n",
    "BEGIN QUESTION\n",
    "name: q6d\n",
    "points: 3\n",
    "manual: True\n",
    "-->"
   ]
  },
  {
   "cell_type": "code",
   "execution_count": 131,
   "metadata": {
    "scrolled": true
   },
   "outputs": [],
   "source": [
    "# Do not modify this line\n",
    "sns.set()\n",
    "\n",
    "..."
   ]
  },
  {
   "cell_type": "markdown",
   "metadata": {},
   "source": [
    "<!-- END QUESTION -->\n",
    "\n",
    "\n",
    "\n",
    "## Summary of Inspections Data\n",
    "\n",
    "We have done a lot in this project! Below are some examples of what we have learned about the inspections data through some cool visualizations!\n",
    "\n",
    "- We found that the records are at the inspection level and that we have inspections for multiple years.\n",
    "- We also found that many restaurants have more than one inspection a year.\n",
    "- By joining the business and inspection data, we identified the name of the restaurant with the worst rating and optionally the names of the restaurants with the best rating.\n",
    "- We identified the restaurant that had the largest swing in rating over time.\n",
    "- We also examined the change of scores over time! Many restaurants are not actually doing better."
   ]
  },
  {
   "cell_type": "markdown",
   "metadata": {},
   "source": [
    "<br/><br/><br/><br/>\n",
    "\n",
    "---\n",
    "\n",
    "<br/><br/>\n",
    "\n",
    "# 7: Open Ended Question \n",
    "\n",
    "### Discover something interesting about the data!\n",
    "\n",
    "<br/>"
   ]
  },
  {
   "cell_type": "markdown",
   "metadata": {},
   "source": [
    "Play with the data, and try to answer one question that you find interesting regarding the data. Show us how you would answer this question through exploratory data analysis. \n",
    "\n",
    "Here are some possible routes you can take in completing your analysis:\n",
    "* Construct a dataframe by computing something interesting about the data with methods such as `merge`/`groupby`/`pivot`, etc.\n",
    "* Create a visualization with the data from which you can draw a conclusion that can answer you question.\n",
    "\n",
    "Here are some possible questions you can ask about the data:\n",
    "* How do the inspection scores relate to the geolocation (latitude, longitude) of a restaurant?\n",
    "* How do all the inspection scores for each type of business change over time? \n",
    "\n",
    "**Note**: You are not limited to the questions we provided above. We actually strongly recommend you to explore something you are personally interested in knowing about the data. On topics such as how the socioeconomic background of the neighborhoods impact all the nearby restaurants, you are welcome to reference external sources (make sure to quote the sources) as well to guide your exploration.\n",
    "\n",
    "Please show your work in the cells below (feel free to use extra cells if you want), and describe in words **what question you were trying to answer** and **what you found through your analysis** within the same cell. This question will be graded leniently, but good solutions may be used to create future homework problems. "
   ]
  },
  {
   "cell_type": "markdown",
   "metadata": {
    "deletable": false,
    "editable": false
   },
   "source": [
    "<!-- BEGIN QUESTION -->\n",
    "\n",
    "### Grading ###\n",
    "\n",
    "Since the question is more open ended, we will have a more relaxed rubric, classifying your answers into the following three categories:\n",
    "\n",
    "- **Great** (4 points): \n",
    "    - For a dataframe, a combination of pandas operations (such as groupby, pivot, merge) is used to answer a relevant question about the data. The text description provides a reasonable interpretation of the result.\n",
    "    - For a visualization, the chart is well designed and the data computation is correct. The conclusion based on the visualization articulates a reasonable metric and correctly describes the relevant insight and answer to the question you are interested in. \n",
    "- **Passing** (1-3 points): \n",
    "    - For a dataframe, computation is flawed or very simple. The conclusion doesn't fully address the question, but reasonable progress has been made toward answering it.\n",
    "    - For a visualization, a chart is produced but with some flaws such as bad encoding. The conclusion based on the visualization is incomplete but makes some sense.\n",
    "- **Unsatisfactory** (0 points): \n",
    "    - For a dataframe, no computation is performed, or the conclusion does not match what is computed at all.\n",
    "    - For a visualization, no chart is created, or a chart with completely wrong results.\n",
    "\n",
    "We will lean towards being generous with the grading. We might also either discuss in discussion or post on Piazza some exemplary analysis you have done (with your permission)!\n",
    "\n",
    "You should have the following in your answers:\n",
    "* a question you want to explore about the data.\n",
    "* either of the following:\n",
    "    * a few computed dataframes.\n",
    "    * a few visualizations.\n",
    "* a few sentences summarizing what you found based on your analysis and how that answered your question (not too long please!)\n",
    "\n",
    "Please limit the number of your computed dataframes and visualizations **you plan on showing** to no more than 5.\n",
    "\n",
    "Please note that you will only receive support in OH and Piazza for Matplotlib and seaborn questions. However, you may use some other Python libraries to help you create you visualizations. If you do so, make sure it is compatible with the PDF export (e.g., Plotly does not create PDFs properly, which we need for Gradescope).\n",
    "\n",
    "<!--\n",
    "BEGIN QUESTION\n",
    "name: q7\n",
    "points: 4\n",
    "manual: True\n",
    "-->"
   ]
  },
  {
   "cell_type": "code",
   "execution_count": 132,
   "metadata": {},
   "outputs": [],
   "source": [
    "# YOUR QUESTION HERE (in a comment)\n",
    "\n",
    "# YOUR DATA PROCESSING AND PLOTTING HERE\n",
    "\n",
    "# YOUR SUMMARY AND CONCLUSION HERE (in a comment)"
   ]
  },
  {
   "cell_type": "markdown",
   "metadata": {
    "deletable": false,
    "editable": false
   },
   "source": [
    "<!-- END QUESTION -->"
   ]
  },
  {
   "cell_type": "code",
   "execution_count": 133,
   "metadata": {},
   "outputs": [],
   "source": [
    "# THIS CELL AND ANY CELLS ADDED BELOW WILL NOT BE GRADED"
   ]
  },
  {
   "cell_type": "markdown",
   "metadata": {},
   "source": [
    "## Congratulations! You have finished Homework 3! ##"
   ]
  },
  {
   "cell_type": "markdown",
   "metadata": {},
   "source": [
    "Optionally, please fill out [this form](https://docs.google.com/forms/d/e/1FAIpQLSe7Hvl9i9fhMGLdh8V7D9sDX2ByS7_rhnFQciqy9hzVj1evCg/viewform) to give us feedback on the course so far!"
   ]
  },
  {
   "cell_type": "markdown",
   "metadata": {
    "deletable": false,
    "editable": false
   },
   "source": [
    "---\n",
    "\n",
    "To double-check your work, the cell below will rerun all of the autograder tests."
   ]
  },
  {
   "cell_type": "code",
   "execution_count": null,
   "metadata": {
    "deletable": false,
    "editable": false
   },
   "outputs": [],
   "source": [
    "grader.check_all()"
   ]
  },
  {
   "cell_type": "markdown",
   "metadata": {
    "deletable": false,
    "editable": false
   },
   "source": [
    "## Submission\n",
    "\n",
    "Make sure you have run all cells in your notebook in order before running the cell below, so that all images/graphs appear in the output. The cell below will generate a zip file for you to submit. **Please save before exporting!**"
   ]
  },
  {
   "cell_type": "code",
   "execution_count": null,
   "metadata": {
    "deletable": false,
    "editable": false
   },
   "outputs": [],
   "source": [
    "# Save your notebook first, then run this cell to export your submission.\n",
    "grader.export()"
   ]
  },
  {
   "cell_type": "markdown",
   "metadata": {},
   "source": [
    " "
   ]
  }
 ],
 "metadata": {
  "celltoolbar": "Create Assignment",
  "history": [
   {
    "code": "# path to directory containing data\ndsDir = Path('data')\n\nbus = pd.read_csv(dsDir/'bus.csv', encoding='ISO-8859-1') # SOLUTION\nins2vio = pd.read_csv(dsDir/'ins2vio.csv') # SOLUTION\nins = pd.read_csv(dsDir/'ins.csv') # SOLUTION\nvio = pd.read_csv(dsDir/'vio.csv') # SOLUTION\n\n#This code is essential for the autograder to function properly. Do not edit\nins_test = ins",
    "id": "1a425a83859b41e48b586476c2461a9c",
    "idx": 13,
    "time": "2021-02-01T05:01:51.280Z",
    "type": "execution"
   },
   {
    "id": "1a425a83859b41e48b586476c2461a9c",
    "time": "2021-02-01T05:01:51.421Z",
    "type": "completion"
   },
   {
    "code": "from pathlib import Path\ndata_dir = Path('.')\ndata_dir.mkdir(exist_ok = True)\nfile_path = data_dir / Path('data.zip')\ndest_path = file_path",
    "id": "b10b784bbbb34dc88b0e5f285356e647",
    "idx": 8,
    "time": "2021-02-01T05:01:55.488Z",
    "type": "execution"
   },
   {
    "id": "b10b784bbbb34dc88b0e5f285356e647",
    "time": "2021-02-01T05:01:55.583Z",
    "type": "completion"
   },
   {
    "code": "!ls ",
    "id": "7c89d5d4e04242ac8ec7aef758249ca7",
    "idx": 10,
    "time": "2021-02-01T05:01:56.354Z",
    "type": "execution"
   },
   {
    "id": "7c89d5d4e04242ac8ec7aef758249ca7",
    "time": "2021-02-01T05:01:57.188Z",
    "type": "completion"
   },
   {
    "code": "# path to directory containing data\ndsDir = Path('data')\n\nbus = pd.read_csv(dsDir/'bus.csv', encoding='ISO-8859-1') # SOLUTION\nins2vio = pd.read_csv(dsDir/'ins2vio.csv') # SOLUTION\nins = pd.read_csv(dsDir/'ins.csv') # SOLUTION\nvio = pd.read_csv(dsDir/'vio.csv') # SOLUTION\n\n#This code is essential for the autograder to function properly. Do not edit\nins_test = ins",
    "id": "1a425a83859b41e48b586476c2461a9c",
    "idx": 13,
    "time": "2021-02-01T05:01:58.311Z",
    "type": "execution"
   },
   {
    "id": "1a425a83859b41e48b586476c2461a9c",
    "time": "2021-02-01T05:01:58.466Z",
    "type": "completion"
   },
   {
    "code": "import numpy as np\nimport pandas as pd\n\nimport matplotlib\nimport matplotlib.pyplot as plt\nimport seaborn as sns\nsns.set()\nplt.style.use('fivethirtyeight')\n\nimport zipfile\nimport os # Used to interact with the file system",
    "id": "3dbc676cf49c44a5aee53c547081e94a",
    "idx": 5,
    "time": "2021-02-01T05:02:03.154Z",
    "type": "execution"
   },
   {
    "id": "3dbc676cf49c44a5aee53c547081e94a",
    "time": "2021-02-01T05:02:04.305Z",
    "type": "completion"
   },
   {
    "code": "from pathlib import Path\ndata_dir = Path('.')\ndata_dir.mkdir(exist_ok = True)\nfile_path = data_dir / Path('data.zip')\ndest_path = file_path",
    "id": "b10b784bbbb34dc88b0e5f285356e647",
    "idx": 8,
    "time": "2021-02-01T05:02:05.571Z",
    "type": "execution"
   },
   {
    "id": "b10b784bbbb34dc88b0e5f285356e647",
    "time": "2021-02-01T05:02:05.714Z",
    "type": "completion"
   },
   {
    "code": "!ls ",
    "id": "7c89d5d4e04242ac8ec7aef758249ca7",
    "idx": 10,
    "time": "2021-02-01T05:02:08.067Z",
    "type": "execution"
   },
   {
    "id": "7c89d5d4e04242ac8ec7aef758249ca7",
    "time": "2021-02-01T05:02:08.875Z",
    "type": "completion"
   },
   {
    "code": "# path to directory containing data\ndsDir = Path('data')\n\nbus = pd.read_csv(dsDir/'bus.csv', encoding='ISO-8859-1') # SOLUTION\nins2vio = pd.read_csv(dsDir/'ins2vio.csv') # SOLUTION\nins = pd.read_csv(dsDir/'ins.csv') # SOLUTION\nvio = pd.read_csv(dsDir/'vio.csv') # SOLUTION\n\n#This code is essential for the autograder to function properly. Do not edit\nins_test = ins",
    "id": "1a425a83859b41e48b586476c2461a9c",
    "idx": 13,
    "time": "2021-02-01T05:02:09.279Z",
    "type": "execution"
   },
   {
    "id": "1a425a83859b41e48b586476c2461a9c",
    "time": "2021-02-01T05:02:09.784Z",
    "type": "completion"
   },
   {
    "code": "import numpy as np\nimport pandas as pd\n\nimport matplotlib\nimport matplotlib.pyplot as plt\nimport seaborn as sns\nsns.set()\nplt.style.use('fivethirtyeight')\n\nimport zipfile\nfrom pathlib import Path\nimport os # Used to interact with the file system",
    "id": "3dbc676cf49c44a5aee53c547081e94a",
    "idx": 5,
    "time": "2021-02-01T05:04:25.457Z",
    "type": "execution"
   },
   {
    "id": "3dbc676cf49c44a5aee53c547081e94a",
    "time": "2021-02-01T05:04:25.600Z",
    "type": "completion"
   },
   {
    "code": "import numpy as np\nimport pandas as pd\n\nimport matplotlib\nimport matplotlib.pyplot as plt\nimport seaborn as sns\nsns.set()\nplt.style.use('fivethirtyeight')\n\nimport zipfile\nfrom pathlib import Path\nimport os # Used to interact with the file system",
    "id": "3dbc676cf49c44a5aee53c547081e94a",
    "idx": 5,
    "time": "2021-02-01T05:04:35.583Z",
    "type": "execution"
   },
   {
    "id": "3dbc676cf49c44a5aee53c547081e94a",
    "time": "2021-02-01T05:04:36.590Z",
    "type": "completion"
   },
   {
    "code": "!ls ",
    "id": "7c89d5d4e04242ac8ec7aef758249ca7",
    "idx": 8,
    "time": "2021-02-01T05:04:38.395Z",
    "type": "execution"
   },
   {
    "id": "7c89d5d4e04242ac8ec7aef758249ca7",
    "time": "2021-02-01T05:04:39.146Z",
    "type": "completion"
   },
   {
    "code": "# path to directory containing data\ndsDir = Path('data')\n\nbus = pd.read_csv(dsDir/'bus.csv', encoding='ISO-8859-1') # SOLUTION\nins2vio = pd.read_csv(dsDir/'ins2vio.csv') # SOLUTION\nins = pd.read_csv(dsDir/'ins.csv') # SOLUTION\nvio = pd.read_csv(dsDir/'vio.csv') # SOLUTION\n\n#This code is essential for the autograder to function properly. Do not edit\nins_test = ins",
    "id": "1a425a83859b41e48b586476c2461a9c",
    "idx": 11,
    "time": "2021-02-01T05:04:40.468Z",
    "type": "execution"
   },
   {
    "id": "1a425a83859b41e48b586476c2461a9c",
    "time": "2021-02-01T05:04:40.590Z",
    "type": "completion"
   },
   {
    "code": "bus.head() # SOLUTION",
    "id": "1e1393afe5e04f6086e3499c9afda45c",
    "idx": 13,
    "time": "2021-02-01T05:04:43.192Z",
    "type": "execution"
   },
   {
    "id": "1e1393afe5e04f6086e3499c9afda45c",
    "time": "2021-02-01T05:04:43.295Z",
    "type": "completion"
   },
   {
    "code": "\"\"\"Run this cell to load this utility comparison function that we will use in various\ntests below (both tests you can see and those we run internally for grading).\n\nDo not modify the function in any way.\n\"\"\"\n\n\ndef df_allclose(actual, desired, columns=None, rtol=5e-2):\n    \"\"\"Compare selected columns of two dataframes on a few summary statistics.\n    \n    Compute the min, median and max of the two dataframes on the given columns, and compare\n    that they match numerically to the given relative tolerance.\n    \n    If they don't match, an AssertionError is raised (by `numpy.testing`).\n    \"\"\"    \n    # summary statistics to compare on\n    stats = ['min', '50%', 'max']\n    \n    # For the desired values, we can provide a full DF with the same structure as\n    # the actual data, or pre-computed summary statistics.\n    # We assume a pre-computed summary was provided if columns is None. In that case, \n    # `desired` *must* have the same structure as the actual's summary\n    if columns is None:\n        des = desired\n        columns = desired.columns\n    else:\n        des = desired[columns].describe().loc[stats]\n\n    # Extract summary stats from actual DF\n    act = actual[columns].describe().loc[stats]\n\n    return np.allclose(act, des, rtol)",
    "id": "dd0a15d8ab8c488aa670eaa03251f0de",
    "idx": 20,
    "time": "2021-02-01T05:06:08.726Z",
    "type": "execution"
   },
   {
    "id": "dd0a15d8ab8c488aa670eaa03251f0de",
    "time": "2021-02-01T05:06:08.843Z",
    "type": "completion"
   },
   {
    "code": "# TEST\ndf_allclose(bus.rename(columns = {\"bid\" : \"business id column\"}), bus_summary)",
    "id": "e28a5e13e3234baeb53c7662ac9a7855",
    "idx": 21,
    "time": "2021-02-01T05:06:10.473Z",
    "type": "execution"
   },
   {
    "code": "# TEST\ndf_allclose(ins_test, ins_summary)",
    "id": "5dd44b0e57e8487088a4acb56bf2f21e",
    "idx": 22,
    "time": "2021-02-01T05:06:10.721Z",
    "type": "execution"
   },
   {
    "id": "e28a5e13e3234baeb53c7662ac9a7855",
    "time": "2021-02-01T05:06:10.845Z",
    "type": "completion"
   },
   {
    "id": "5dd44b0e57e8487088a4acb56bf2f21e",
    "time": "2021-02-01T05:06:10.861Z",
    "type": "completion"
   },
   {
    "code": "# TEST\ndf_allclose(vio, vio_summary)",
    "id": "53e885acc2b6477d9456e79ba654d3ea",
    "idx": 23,
    "time": "2021-02-01T05:06:10.885Z",
    "type": "execution"
   },
   {
    "id": "53e885acc2b6477d9456e79ba654d3ea",
    "time": "2021-02-01T05:06:11.039Z",
    "type": "completion"
   },
   {
    "code": "# TEST\ndf_allclose(ins2vio, vio_summary)",
    "id": "a76271c0f1604bf583f31a10bc0a8a92",
    "idx": 24,
    "time": "2021-02-01T05:06:11.357Z",
    "type": "execution"
   },
   {
    "id": "a76271c0f1604bf583f31a10bc0a8a92",
    "time": "2021-02-01T05:06:11.464Z",
    "type": "completion"
   },
   {
    "code": "# path to directory containing data\ndsDir = Path('data')\n\nbus = pd.read_csv(dsDir/'bus.csv', encoding='ISO-8859-1') # SOLUTION\nins2vio = pd.read_csv(dsDir/'ins2vio.csv') # SOLUTION\nins = pd.read_csv(dsDir/'ins.csv') # SOLUTION\nvio = pd.read_csv(dsDir/'vio.csv') # SOLUTION\n\n#This code is essential for the autograder to function properly. Do not edit\nins_test = ins",
    "id": "1a425a83859b41e48b586476c2461a9c",
    "idx": 8,
    "time": "2021-02-01T05:06:17.151Z",
    "type": "execution"
   },
   {
    "id": "1a425a83859b41e48b586476c2461a9c",
    "time": "2021-02-01T05:06:17.273Z",
    "type": "completion"
   },
   {
    "code": "bus.head() # SOLUTION",
    "id": "1e1393afe5e04f6086e3499c9afda45c",
    "idx": 10,
    "time": "2021-02-01T05:06:17.804Z",
    "type": "execution"
   },
   {
    "id": "1e1393afe5e04f6086e3499c9afda45c",
    "time": "2021-02-01T05:06:17.956Z",
    "type": "completion"
   },
   {
    "code": "bus.describe() # SOLUTION",
    "id": "8b2825f776c5495b9b2739f064d2546e",
    "idx": 12,
    "time": "2021-02-01T05:06:18.520Z",
    "type": "execution"
   },
   {
    "id": "8b2825f776c5495b9b2739f064d2546e",
    "time": "2021-02-01T05:06:18.595Z",
    "type": "completion"
   },
   {
    "code": "assert all(bus.columns == ['business id column', 'name', 'address', 'city', 'state', 'postal_code',\n                           'latitude', 'longitude', 'phone_number'])\nassert 6250 <= len(bus) <= 6260\n\nassert all(ins.columns == ['iid', 'date', 'score', 'type'])\nassert 26660 <= len(ins) <= 26670\n\nassert all(vio.columns == ['description', 'risk_category', 'vid'])\nassert 60 <= len(vio) <= 65\n\nassert all(ins2vio.columns == ['iid', 'vid'])\nassert 40210 <= len(ins2vio) <= 40220",
    "id": "71d65e003b564a02a0f02ecd8f5cb754",
    "idx": 15,
    "time": "2021-02-01T05:06:20.153Z",
    "type": "execution"
   },
   {
    "id": "71d65e003b564a02a0f02ecd8f5cb754",
    "time": "2021-02-01T05:06:20.244Z",
    "type": "completion"
   },
   {
    "code": "bus_summary = pd.DataFrame(**{'columns': ['business id column', 'latitude', 'longitude'],\n 'data': {'business id column': {'50%': 75685.0, 'max': 102705.0, 'min': 19.0},\n  'latitude': {'50%': -9999.0, 'max': 37.824494, 'min': -9999.0},\n  'longitude': {'50%': -9999.0,\n   'max': 0.0,\n   'min': -9999.0}},\n 'index': ['min', '50%', 'max']})\n\nins_summary = pd.DataFrame(**{'columns': ['score'],\n 'data': {'score': {'50%': 76.0, 'max': 100.0, 'min': -1.0}},\n 'index': ['min', '50%', 'max']})\n\nvio_summary = pd.DataFrame(**{'columns': ['vid'],\n 'data': {'vid': {'50%': 103135.0, 'max': 103177.0, 'min': 103102.0}},\n 'index': ['min', '50%', 'max']})\n\nfrom IPython.display import display\n\nprint('What we expect from your Businesses dataframe:')\ndisplay(bus_summary)\nprint('What we expect from your Inspections dataframe:')\ndisplay(ins_summary)\nprint('What we expect from your Violations dataframe:')\ndisplay(vio_summary)",
    "id": "4f6a42a0c5194153be5692a8bf5eb561",
    "idx": 17,
    "time": "2021-02-01T05:06:21.377Z",
    "type": "execution"
   },
   {
    "id": "4f6a42a0c5194153be5692a8bf5eb561",
    "time": "2021-02-01T05:06:21.494Z",
    "type": "completion"
   },
   {
    "code": "\"\"\"Run this cell to load this utility comparison function that we will use in various\ntests below (both tests you can see and those we run internally for grading).\n\nDo not modify the function in any way.\n\"\"\"\n\n\ndef df_allclose(actual, desired, columns=None, rtol=5e-2):\n    \"\"\"Compare selected columns of two dataframes on a few summary statistics.\n    \n    Compute the min, median and max of the two dataframes on the given columns, and compare\n    that they match numerically to the given relative tolerance.\n    \n    If they don't match, an AssertionError is raised (by `numpy.testing`).\n    \"\"\"    \n    # summary statistics to compare on\n    stats = ['min', '50%', 'max']\n    \n    # For the desired values, we can provide a full DF with the same structure as\n    # the actual data, or pre-computed summary statistics.\n    # We assume a pre-computed summary was provided if columns is None. In that case, \n    # `desired` *must* have the same structure as the actual's summary\n    if columns is None:\n        des = desired\n        columns = desired.columns\n    else:\n        des = desired[columns].describe().loc[stats]\n\n    # Extract summary stats from actual DF\n    act = actual[columns].describe().loc[stats]\n\n    return np.allclose(act, des, rtol)",
    "id": "dd0a15d8ab8c488aa670eaa03251f0de",
    "idx": 20,
    "time": "2021-02-01T05:06:23.710Z",
    "type": "execution"
   },
   {
    "id": "dd0a15d8ab8c488aa670eaa03251f0de",
    "time": "2021-02-01T05:06:23.829Z",
    "type": "completion"
   },
   {
    "code": "# TEST\ndf_allclose(bus.rename(columns = {\"bid\" : \"business id column\"}), bus_summary)",
    "id": "e28a5e13e3234baeb53c7662ac9a7855",
    "idx": 21,
    "time": "2021-02-01T05:06:24.568Z",
    "type": "execution"
   },
   {
    "id": "e28a5e13e3234baeb53c7662ac9a7855",
    "time": "2021-02-01T05:06:24.723Z",
    "type": "completion"
   },
   {
    "code": "# TEST\ndf_allclose(ins_test, ins_summary)",
    "id": "5dd44b0e57e8487088a4acb56bf2f21e",
    "idx": 22,
    "time": "2021-02-01T05:06:25.704Z",
    "type": "execution"
   },
   {
    "id": "5dd44b0e57e8487088a4acb56bf2f21e",
    "time": "2021-02-01T05:06:25.865Z",
    "type": "completion"
   },
   {
    "code": "# TEST\ndf_allclose(vio, vio_summary)",
    "id": "53e885acc2b6477d9456e79ba654d3ea",
    "idx": 23,
    "time": "2021-02-01T05:06:26.071Z",
    "type": "execution"
   },
   {
    "id": "53e885acc2b6477d9456e79ba654d3ea",
    "time": "2021-02-01T05:06:26.222Z",
    "type": "completion"
   },
   {
    "code": "# TEST\ndf_allclose(ins2vio, vio_summary)",
    "id": "a76271c0f1604bf583f31a10bc0a8a92",
    "idx": 24,
    "time": "2021-02-01T05:06:26.337Z",
    "type": "execution"
   },
   {
    "code": "# HIDDEN TEST\ndf_allclose(bus.rename(columns = {\"bid\" : \"business id column\"}), pd.read_csv(dsDir/'bus.csv', encoding='ISO-8859-1'), ['business id column', 'latitude', 'longitude'])",
    "id": "0127407935d8490b9e44e9462d377dc9",
    "idx": 25,
    "time": "2021-02-01T05:06:26.504Z",
    "type": "execution"
   },
   {
    "id": "a76271c0f1604bf583f31a10bc0a8a92",
    "time": "2021-02-01T05:06:26.611Z",
    "type": "completion"
   },
   {
    "id": "0127407935d8490b9e44e9462d377dc9",
    "time": "2021-02-01T05:06:26.615Z",
    "type": "completion"
   },
   {
    "code": "# HIDDEN TEST\ndf_allclose(ins_test, pd.read_csv(dsDir/'ins.csv'), ['iid', 'score'])",
    "id": "62ee3d550a6943b2b3fed1d0c2ba13c6",
    "idx": 26,
    "time": "2021-02-01T05:06:27.050Z",
    "type": "execution"
   },
   {
    "id": "62ee3d550a6943b2b3fed1d0c2ba13c6",
    "time": "2021-02-01T05:06:27.162Z",
    "type": "completion"
   },
   {
    "code": "# HIDDEN TEST\ndf_allclose(vio, pd.read_csv(dsDir/'vio.csv'), ['vid'])",
    "id": "1dadb4a62fb34c958ae921f98683542a",
    "idx": 27,
    "time": "2021-02-01T05:06:28.221Z",
    "type": "execution"
   },
   {
    "id": "1dadb4a62fb34c958ae921f98683542a",
    "time": "2021-02-01T05:06:28.323Z",
    "type": "completion"
   },
   {
    "code": "# HIDDEN TEST\ndf_allclose(ins2vio, pd.read_csv(dsDir/'ins2vio.csv'), ['vid'])",
    "id": "0f44268e47364e6295b6294e868c0e62",
    "idx": 28,
    "time": "2021-02-01T05:06:28.413Z",
    "type": "execution"
   },
   {
    "id": "0f44268e47364e6295b6294e868c0e62",
    "time": "2021-02-01T05:06:28.518Z",
    "type": "completion"
   },
   {
    "code": "bus.head()",
    "id": "b9b0cf94d407458485dba303b1b8a5dd",
    "idx": 34,
    "time": "2021-02-01T05:09:57.292Z",
    "type": "execution"
   },
   {
    "id": "b9b0cf94d407458485dba303b1b8a5dd",
    "time": "2021-02-01T05:09:57.419Z",
    "type": "completion"
   },
   {
    "code": "bus = bus.rename(columns={\"business id column\": \"bid\"})",
    "id": "c9d8d5d3002b4722821ab5ab1a2d4297",
    "idx": 36,
    "time": "2021-02-01T05:11:54.979Z",
    "type": "execution"
   },
   {
    "id": "c9d8d5d3002b4722821ab5ab1a2d4297",
    "time": "2021-02-01T05:11:55.125Z",
    "type": "completion"
   },
   {
    "code": "ins2018 = ins[ins['year'] == 2018]\n# Create the dataframe here\nscores_pairs_by_business = ...\n# BEGIN SOLUTION NO PROMPT\n# SOLUTION 1\nscores_pairs_by_business = (ins2018.sort_values('date')\n                            .loc[:, ['bid', 'score']]\n                            .groupby('bid')\n                            .filter(lambda group: len(group)==2)\n                            .groupby('bid')\n                            .agg(list)\n                            .rename(columns={'score':'score_pair'}))\n\n# SOLUTION 2\nscores_pairs_by_business = (ins2018.sort_values('date')\n                            .groupby('bid')\n                            .filter(lambda group: len(group)==2)\n                            .groupby('bid')\n                            .agg({'score': lambda group: group.tolist()})\n                            .rename(columns={'score':'score_pair'}))\nscores_pairs_by_business.head()\n# END SOLUTION\nscores_pairs_by_business",
    "id": "351bb88842b044f7827bb586f6a2498e",
    "idx": 202,
    "time": "2021-02-01T05:26:42.963Z",
    "type": "execution"
   },
   {
    "id": "351bb88842b044f7827bb586f6a2498e",
    "time": "2021-02-01T05:26:43.095Z",
    "type": "completion"
   },
   {
    "code": "# TEST\nisinstance(scores_pairs_by_business, pd.DataFrame)",
    "id": "c9b43020e8c442568e5163605b5ff796",
    "idx": 203,
    "time": "2021-02-01T05:26:43.183Z",
    "type": "execution"
   },
   {
    "code": "# TEST\nscores_pairs_by_business.columns[0] == 'score_pair'",
    "id": "052c19a8e5fa4479b20b8d3428e9faa7",
    "idx": 204,
    "time": "2021-02-01T05:26:43.262Z",
    "type": "execution"
   },
   {
    "id": "c9b43020e8c442568e5163605b5ff796",
    "time": "2021-02-01T05:26:43.374Z",
    "type": "completion"
   },
   {
    "id": "052c19a8e5fa4479b20b8d3428e9faa7",
    "time": "2021-02-01T05:26:43.460Z",
    "type": "completion"
   },
   {
    "code": "# HIDDEN TEST\n\nstudent_arr = np.array(scores_pairs_by_business.values.tolist()).squeeze()\n\n# Now we will check the head score pares\n# score_pair\n# business_id\n# 24 [96, 98]\n# 45 [78, 84]\n# 66 [98, 100]\n# 67 [87, 94]\n# 76 [100, 98]\n\n([96, 98] in student_arr and\\\n    [78, 84] in student_arr and\\\n        [98, 100] in student_arr and\\\n            [87, 94] in student_arr and\\\n                [100, 98] in student_arr) == True",
    "id": "5a3bef8f6b7d4a5982a918f63fa5231f",
    "idx": 205,
    "time": "2021-02-01T05:26:43.542Z",
    "type": "execution"
   },
   {
    "id": "5a3bef8f6b7d4a5982a918f63fa5231f",
    "time": "2021-02-01T05:26:43.651Z",
    "type": "completion"
   },
   {
    "code": "import numpy as np\nimport pandas as pd\n\nimport matplotlib\nimport matplotlib.pyplot as plt\nimport seaborn as sns\nsns.set()\nplt.style.use('fivethirtyeight')\n\nimport zipfile\nfrom pathlib import Path\nimport os # Used to interact with the file system",
    "id": "3dbc676cf49c44a5aee53c547081e94a",
    "idx": 5,
    "time": "2021-02-01T05:28:06.672Z",
    "type": "execution"
   },
   {
    "code": "# path to directory containing data\ndsDir = Path('data')\n\nbus = pd.read_csv(dsDir/'bus.csv', encoding='ISO-8859-1') # SOLUTION\nins2vio = pd.read_csv(dsDir/'ins2vio.csv') # SOLUTION\nins = pd.read_csv(dsDir/'ins.csv') # SOLUTION\nvio = pd.read_csv(dsDir/'vio.csv') # SOLUTION\n\n#This code is essential for the autograder to function properly. Do not edit\nins_test = ins",
    "id": "1a425a83859b41e48b586476c2461a9c",
    "idx": 8,
    "time": "2021-02-01T05:28:06.882Z",
    "type": "execution"
   },
   {
    "code": "bus.head() # SOLUTION",
    "id": "1e1393afe5e04f6086e3499c9afda45c",
    "idx": 10,
    "time": "2021-02-01T05:28:07.057Z",
    "type": "execution"
   },
   {
    "code": "bus.describe() # SOLUTION",
    "id": "8b2825f776c5495b9b2739f064d2546e",
    "idx": 12,
    "time": "2021-02-01T05:28:07.277Z",
    "type": "execution"
   },
   {
    "code": "assert all(bus.columns == ['business id column', 'name', 'address', 'city', 'state', 'postal_code',\n                           'latitude', 'longitude', 'phone_number'])\nassert 6250 <= len(bus) <= 6260\n\nassert all(ins.columns == ['iid', 'date', 'score', 'type'])\nassert 26660 <= len(ins) <= 26670\n\nassert all(vio.columns == ['description', 'risk_category', 'vid'])\nassert 60 <= len(vio) <= 65\n\nassert all(ins2vio.columns == ['iid', 'vid'])\nassert 40210 <= len(ins2vio) <= 40220",
    "id": "71d65e003b564a02a0f02ecd8f5cb754",
    "idx": 15,
    "time": "2021-02-01T05:28:07.532Z",
    "type": "execution"
   },
   {
    "code": "bus_summary = pd.DataFrame(**{'columns': ['business id column', 'latitude', 'longitude'],\n 'data': {'business id column': {'50%': 75685.0, 'max': 102705.0, 'min': 19.0},\n  'latitude': {'50%': -9999.0, 'max': 37.824494, 'min': -9999.0},\n  'longitude': {'50%': -9999.0,\n   'max': 0.0,\n   'min': -9999.0}},\n 'index': ['min', '50%', 'max']})\n\nins_summary = pd.DataFrame(**{'columns': ['score'],\n 'data': {'score': {'50%': 76.0, 'max': 100.0, 'min': -1.0}},\n 'index': ['min', '50%', 'max']})\n\nvio_summary = pd.DataFrame(**{'columns': ['vid'],\n 'data': {'vid': {'50%': 103135.0, 'max': 103177.0, 'min': 103102.0}},\n 'index': ['min', '50%', 'max']})\n\nfrom IPython.display import display\n\nprint('What we expect from your Businesses dataframe:')\ndisplay(bus_summary)\nprint('What we expect from your Inspections dataframe:')\ndisplay(ins_summary)\nprint('What we expect from your Violations dataframe:')\ndisplay(vio_summary)",
    "id": "4f6a42a0c5194153be5692a8bf5eb561",
    "idx": 17,
    "time": "2021-02-01T05:28:07.648Z",
    "type": "execution"
   },
   {
    "code": "\"\"\"Run this cell to load this utility comparison function that we will use in various\ntests below (both tests you can see and those we run internally for grading).\n\nDo not modify the function in any way.\n\"\"\"\n\n\ndef df_allclose(actual, desired, columns=None, rtol=5e-2):\n    \"\"\"Compare selected columns of two dataframes on a few summary statistics.\n    \n    Compute the min, median and max of the two dataframes on the given columns, and compare\n    that they match numerically to the given relative tolerance.\n    \n    If they don't match, an AssertionError is raised (by `numpy.testing`).\n    \"\"\"    \n    # summary statistics to compare on\n    stats = ['min', '50%', 'max']\n    \n    # For the desired values, we can provide a full DF with the same structure as\n    # the actual data, or pre-computed summary statistics.\n    # We assume a pre-computed summary was provided if columns is None. In that case, \n    # `desired` *must* have the same structure as the actual's summary\n    if columns is None:\n        des = desired\n        columns = desired.columns\n    else:\n        des = desired[columns].describe().loc[stats]\n\n    # Extract summary stats from actual DF\n    act = actual[columns].describe().loc[stats]\n\n    return np.allclose(act, des, rtol)",
    "id": "dd0a15d8ab8c488aa670eaa03251f0de",
    "idx": 20,
    "time": "2021-02-01T05:28:07.897Z",
    "type": "execution"
   },
   {
    "code": "# TEST\ndf_allclose(bus.rename(columns = {\"bid\" : \"business id column\"}), bus_summary)",
    "id": "e28a5e13e3234baeb53c7662ac9a7855",
    "idx": 21,
    "time": "2021-02-01T05:28:07.972Z",
    "type": "execution"
   },
   {
    "code": "# TEST\ndf_allclose(ins_test, ins_summary)",
    "id": "5dd44b0e57e8487088a4acb56bf2f21e",
    "idx": 22,
    "time": "2021-02-01T05:28:08.123Z",
    "type": "execution"
   },
   {
    "code": "# TEST\ndf_allclose(vio, vio_summary)",
    "id": "53e885acc2b6477d9456e79ba654d3ea",
    "idx": 23,
    "time": "2021-02-01T05:28:08.228Z",
    "type": "execution"
   },
   {
    "code": "# TEST\ndf_allclose(ins2vio, vio_summary)",
    "id": "a76271c0f1604bf583f31a10bc0a8a92",
    "idx": 24,
    "time": "2021-02-01T05:28:08.314Z",
    "type": "execution"
   },
   {
    "id": "3dbc676cf49c44a5aee53c547081e94a",
    "time": "2021-02-01T05:28:08.467Z",
    "type": "completion"
   },
   {
    "id": "1a425a83859b41e48b586476c2461a9c",
    "time": "2021-02-01T05:28:08.496Z",
    "type": "completion"
   },
   {
    "id": "1e1393afe5e04f6086e3499c9afda45c",
    "time": "2021-02-01T05:28:08.508Z",
    "type": "completion"
   },
   {
    "id": "8b2825f776c5495b9b2739f064d2546e",
    "time": "2021-02-01T05:28:08.515Z",
    "type": "completion"
   },
   {
    "id": "71d65e003b564a02a0f02ecd8f5cb754",
    "time": "2021-02-01T05:28:08.517Z",
    "type": "completion"
   },
   {
    "id": "4f6a42a0c5194153be5692a8bf5eb561",
    "time": "2021-02-01T05:28:08.524Z",
    "type": "completion"
   },
   {
    "id": "dd0a15d8ab8c488aa670eaa03251f0de",
    "time": "2021-02-01T05:28:08.526Z",
    "type": "completion"
   },
   {
    "id": "e28a5e13e3234baeb53c7662ac9a7855",
    "time": "2021-02-01T05:28:08.529Z",
    "type": "completion"
   },
   {
    "id": "5dd44b0e57e8487088a4acb56bf2f21e",
    "time": "2021-02-01T05:28:08.531Z",
    "type": "completion"
   },
   {
    "id": "53e885acc2b6477d9456e79ba654d3ea",
    "time": "2021-02-01T05:28:08.534Z",
    "type": "completion"
   },
   {
    "id": "a76271c0f1604bf583f31a10bc0a8a92",
    "time": "2021-02-01T05:28:08.536Z",
    "type": "completion"
   },
   {
    "code": "# HIDDEN TEST\ndf_allclose(bus.rename(columns = {\"bid\" : \"business id column\"}), pd.read_csv(dsDir/'bus.csv', encoding='ISO-8859-1'), ['business id column', 'latitude', 'longitude'])",
    "id": "0127407935d8490b9e44e9462d377dc9",
    "idx": 25,
    "time": "2021-02-01T05:28:09.315Z",
    "type": "execution"
   },
   {
    "code": "# HIDDEN TEST\ndf_allclose(ins_test, pd.read_csv(dsDir/'ins.csv'), ['iid', 'score'])",
    "id": "62ee3d550a6943b2b3fed1d0c2ba13c6",
    "idx": 26,
    "time": "2021-02-01T05:28:09.474Z",
    "type": "execution"
   },
   {
    "id": "0127407935d8490b9e44e9462d377dc9",
    "time": "2021-02-01T05:28:09.540Z",
    "type": "completion"
   },
   {
    "id": "62ee3d550a6943b2b3fed1d0c2ba13c6",
    "time": "2021-02-01T05:28:09.579Z",
    "type": "completion"
   },
   {
    "code": "# HIDDEN TEST\ndf_allclose(vio, pd.read_csv(dsDir/'vio.csv'), ['vid'])",
    "id": "1dadb4a62fb34c958ae921f98683542a",
    "idx": 27,
    "time": "2021-02-01T05:28:09.692Z",
    "type": "execution"
   },
   {
    "code": "# HIDDEN TEST\ndf_allclose(ins2vio, pd.read_csv(dsDir/'ins2vio.csv'), ['vid'])",
    "id": "0f44268e47364e6295b6294e868c0e62",
    "idx": 28,
    "time": "2021-02-01T05:28:09.779Z",
    "type": "execution"
   },
   {
    "id": "1dadb4a62fb34c958ae921f98683542a",
    "time": "2021-02-01T05:28:09.996Z",
    "type": "completion"
   },
   {
    "id": "0f44268e47364e6295b6294e868c0e62",
    "time": "2021-02-01T05:28:10.000Z",
    "type": "completion"
   },
   {
    "code": "bus.head()",
    "id": "b9b0cf94d407458485dba303b1b8a5dd",
    "idx": 34,
    "time": "2021-02-01T05:28:10.785Z",
    "type": "execution"
   },
   {
    "code": "bus = bus.rename(columns={\"business id column\": \"bid\"})",
    "id": "c9d8d5d3002b4722821ab5ab1a2d4297",
    "idx": 36,
    "time": "2021-02-01T05:28:10.997Z",
    "type": "execution"
   },
   {
    "code": "is_bid_unique = bus['bid'].value_counts().max() == 1 # SOLUTION",
    "id": "47e5c7adc5cd4c1eaf84874a78203308",
    "idx": 38,
    "time": "2021-02-01T05:28:11.106Z",
    "type": "execution"
   },
   {
    "code": "# TEST\nis_bid_unique or ~is_bid_unique",
    "id": "94dbf42e091b413483ee2be57180db7e",
    "idx": 39,
    "time": "2021-02-01T05:28:11.217Z",
    "type": "execution"
   },
   {
    "code": "# HIDDEN TEST\nis_bid_unique",
    "id": "0c8fde7ef1434fb58a443d61d84c75fe",
    "idx": 40,
    "time": "2021-02-01T05:28:11.294Z",
    "type": "execution"
   },
   {
    "code": "name_counts = bus['name'].value_counts() # SOLUTION\nname_counts.head(20)",
    "id": "c80810f6a9554ce28e2add24a63f7efc",
    "idx": 42,
    "time": "2021-02-01T05:28:11.456Z",
    "type": "execution"
   },
   {
    "code": "# TEST\nlen(name_counts) == 5775",
    "id": "8ebacf00b20047aabe85c6d18ef2240c",
    "idx": 43,
    "time": "2021-02-01T05:28:11.521Z",
    "type": "execution"
   },
   {
    "code": "# TEST \nname_counts[\"Peet's Coffee & Tea\"] == 20",
    "id": "1ad93c86247e4a1787e95938643fed62",
    "idx": 44,
    "time": "2021-02-01T05:28:11.639Z",
    "type": "execution"
   },
   {
    "code": "# HIDDEN TEST\nnp.all(name_counts.head().reset_index(drop=True) == bus['name'].value_counts().head().reset_index(drop=True))",
    "id": "97f4b267bd8a4cc9aed7a96b639a7fd6",
    "idx": 45,
    "time": "2021-02-01T05:28:11.729Z",
    "type": "execution"
   },
   {
    "code": "address_counts = bus['address'].value_counts() # SOLUTION\naddress_counts.head(10)",
    "id": "28200b25d4a84f548eb50e04a0ba32c5",
    "idx": 47,
    "time": "2021-02-01T05:28:11.874Z",
    "type": "execution"
   },
   {
    "code": "# TEST \nlen(address_counts) == 5673",
    "id": "4d025a41c8de419d88d2d7cf8bf283e8",
    "idx": 48,
    "time": "2021-02-01T05:28:11.949Z",
    "type": "execution"
   },
   {
    "code": "# TEST \naddress_counts[\"428 11th St\"] == 34",
    "id": "c47af30cbef5497f83a192004a934bf1",
    "idx": 49,
    "time": "2021-02-01T05:28:12.059Z",
    "type": "execution"
   },
   {
    "code": "# HIDDEN TEST\nnp.all(address_counts.head().reset_index(drop=True) == bus['address'].value_counts().head().reset_index(drop=True))",
    "id": "ea9d806f2b154892b11f304324546255",
    "idx": 50,
    "time": "2021-02-01T05:28:12.138Z",
    "type": "execution"
   },
   {
    "code": "# What does each record represent?  Valid answers are:\n#    \"One location of a restaurant.\"\n#    \"A chain of restaurants.\"\n#    \"A city block.\"\nq2d_part1 = \"One location of a restaurant.\" # SOLUTION\n\n# What is the minimal primary key? Valid answers are:\n#    \"bid\"\n#    \"bid, name\"\n#    \"bid, name, address\"\nq2d_part2 = \"bid\" # SOLUTION",
    "id": "536df22c232c461ba29bcc2dcb199734",
    "idx": 52,
    "time": "2021-02-01T05:28:12.304Z",
    "type": "execution"
   },
   {
    "code": "# TEST\nq2d_part1 in set([\"One location of a restaurant.\", \"A chain of restaurants.\", \"A city block.\"])",
    "id": "35df92a2958f47ec9b7e6b7df7a24cce",
    "idx": 53,
    "time": "2021-02-01T05:28:12.371Z",
    "type": "execution"
   },
   {
    "code": "# TEST\nq2d_part2 in set([\"bid\", \"bid, name\", \"bid, name, address\"])",
    "id": "08d8ab80303b46018b8ebf8156ed8d18",
    "idx": 54,
    "time": "2021-02-01T05:28:12.493Z",
    "type": "execution"
   },
   {
    "code": "# HIDDEN TEST\nq2d_part1 == \"One location of a restaurant.\" ",
    "id": "f8df2c1f0c964f488013dcb2edacbc1d",
    "idx": 55,
    "time": "2021-02-01T05:28:12.575Z",
    "type": "execution"
   },
   {
    "code": "# HIDDEN TEST\nq2d_part2 == \"bid\"",
    "id": "6123d778995045838a57a70fe6c46939",
    "idx": 56,
    "time": "2021-02-01T05:28:12.638Z",
    "type": "execution"
   },
   {
    "code": "zip_counts = bus.groupby(\"postal_code\").size().sort_values(ascending=False) # SOLUTION\nprint(zip_counts.to_string())",
    "id": "e882ef0410fc466080cbac4f807e1426",
    "idx": 59,
    "time": "2021-02-01T05:28:12.885Z",
    "type": "execution"
   },
   {
    "code": "# TEST\ntype(zip_counts) == pd.Series",
    "id": "9118841bd7b14373819355a5aa1bacb5",
    "idx": 60,
    "time": "2021-02-01T05:28:12.970Z",
    "type": "execution"
   },
   {
    "code": "# TEST\nzip_counts.shape[0] == 63",
    "id": "68bb60b8bdf64938bd8f0931a952886b",
    "idx": 61,
    "time": "2021-02-01T05:28:13.038Z",
    "type": "execution"
   },
   {
    "code": "# TEST\nzip_counts[\"94103\"] == 562",
    "id": "cc490af0a5ad4e2380d8d8b4aa9349cd",
    "idx": 62,
    "time": "2021-02-01T05:28:13.145Z",
    "type": "execution"
   },
   {
    "code": "# HIDDEN TEST\nnp.isclose(zip_counts.var(), bus['postal_code'].value_counts().var())",
    "id": "6448504c8d944476979daf326355c12d",
    "idx": 63,
    "time": "2021-02-01T05:28:13.218Z",
    "type": "execution"
   },
   {
    "code": "# HIDDEN TEST\nnp.isclose(zip_counts.mean(), bus['postal_code'].value_counts().mean())",
    "id": "769030ed3b1b40ce8971e4577f497a1e",
    "idx": 64,
    "time": "2021-02-01T05:28:13.285Z",
    "type": "execution"
   },
   {
    "code": "# The ZIP code column is which of the following type of data:\n#   \"Quantitative Continuous\" \n#   \"Quantitative Discrete\"\n#   \"Qualitative Ordinal\"\n#   \"Qualitative Nominal\"\nq3b_part1 = \"Qualitative Nominal\" # SOLUTION\n\n# What Python data type is used to represent a ZIP code? \n#    \"str\"\n#    \"int\"\n#    \"bool\"\n#    \"float\"\nq3b_part2 = \"str\" # SOLUTION",
    "id": "25d9a418bf484c668d3c665809b8efcc",
    "idx": 66,
    "time": "2021-02-01T05:28:13.460Z",
    "type": "execution"
   },
   {
    "code": "# TEST\nq3b_part1 in set([\"Quantitative Continuous\", \"Quantitative Discrete\", \n                  \"Qualitative Ordinal\", \"Qualitative Nominal\"])",
    "id": "231a409b36c04e0689a30d583068cfcd",
    "idx": 67,
    "time": "2021-02-01T05:28:13.570Z",
    "type": "execution"
   },
   {
    "code": "# TEST\nq3b_part2 in set([\"str\", \"int\", \"bool\", \"float\"])",
    "id": "211685cc7c8d49219406905eebf5c83f",
    "idx": 68,
    "time": "2021-02-01T05:28:13.649Z",
    "type": "execution"
   },
   {
    "code": "# HIDDEN TEST\nq3b_part1 == \"Qualitative Nominal\"",
    "id": "99ae171888884bcd913a5bb4b74e7d94",
    "idx": 69,
    "time": "2021-02-01T05:28:13.715Z",
    "type": "execution"
   },
   {
    "code": "# HIDDEN TEST\nq3b_part2 == \"str\"",
    "id": "1bc6fcb482b943588b04bce1a0c7de4b",
    "idx": 70,
    "time": "2021-02-01T05:28:13.786Z",
    "type": "execution"
   },
   {
    "id": "b9b0cf94d407458485dba303b1b8a5dd",
    "time": "2021-02-01T05:28:13.938Z",
    "type": "completion"
   },
   {
    "id": "c9d8d5d3002b4722821ab5ab1a2d4297",
    "time": "2021-02-01T05:28:13.940Z",
    "type": "completion"
   },
   {
    "id": "47e5c7adc5cd4c1eaf84874a78203308",
    "time": "2021-02-01T05:28:13.942Z",
    "type": "completion"
   },
   {
    "code": "valid_zips = pd.read_json(\"data/sf_zipcodes.json\", dtype=\"str\")['zip_codes'] # SOLUTION\nvalid_zips.head()",
    "id": "3276026019924a7e8f3300c100e47129",
    "idx": 73,
    "time": "2021-02-01T05:28:14.129Z",
    "type": "execution"
   },
   {
    "code": "# TEST\nvalid_zips.dtype == object ",
    "id": "b8956d35377e48cb82d90d99122e2388",
    "idx": 74,
    "time": "2021-02-01T05:28:14.209Z",
    "type": "execution"
   },
   {
    "code": "# TEST\ntype(valid_zips) == pd.Series",
    "id": "0b186b10e2d84dbc83c681fc0f23042b",
    "idx": 75,
    "time": "2021-02-01T05:28:14.276Z",
    "type": "execution"
   },
   {
    "code": "# HIDDEN TEST\nnp.all(valid_zips.sort_values() == pd.read_json(\"data/sf_zipcodes.json\", dtype=\"str\")['zip_codes'].sort_values()) ",
    "id": "58227a37f3e64f7ba767f5756e357350",
    "idx": 76,
    "time": "2021-02-01T05:28:14.343Z",
    "type": "execution"
   },
   {
    "code": "invalid_zip_bus = bus[~bus['postal_code'].isin(valid_zips)] # SOLUTION\ninvalid_zip_bus.head(20)",
    "id": "d908669600dd42418c82b1d65e126f5b",
    "idx": 78,
    "time": "2021-02-01T05:28:14.493Z",
    "type": "execution"
   },
   {
    "code": "# TEST\ntype(invalid_zip_bus) == pd.DataFrame",
    "id": "3c00c0f050aa46bb8a3635b730b3418e",
    "idx": 79,
    "time": "2021-02-01T05:28:14.571Z",
    "type": "execution"
   },
   {
    "code": "# TEST\nlen(invalid_zip_bus) == 230",
    "id": "9a5f7160acc74e72848f7ebe1dc3e3a1",
    "idx": 80,
    "time": "2021-02-01T05:28:14.636Z",
    "type": "execution"
   },
   {
    "code": "# HIDDEN TEST\nset(invalid_zip_bus['postal_code']) == set(bus[~bus['postal_code'].isin(valid_zips)]['postal_code'])",
    "id": "75f0f74e78f645ee8ba3ecd0b5bd7d44",
    "idx": 81,
    "time": "2021-02-01T05:28:14.753Z",
    "type": "execution"
   },
   {
    "code": "missing_zip_address_count = bus[bus['postal_code'] == \"-9999\"]['address'].value_counts() # SOLUTION\nmissing_zip_address_count.head()",
    "id": "4550a0c50ac349199b6eac4e2d6009b8",
    "idx": 83,
    "time": "2021-02-01T05:28:14.928Z",
    "type": "execution"
   },
   {
    "code": "# TEST\ntype(missing_zip_address_count) == pd.Series",
    "id": "239f90b16f49466f9585a0e49c93fa81",
    "idx": 84,
    "time": "2021-02-01T05:28:15.004Z",
    "type": "execution"
   },
   {
    "code": "# TEST\nlen(missing_zip_address_count) == 135",
    "id": "47a7be6fbf2643248085627ea4f59ce7",
    "idx": 85,
    "time": "2021-02-01T05:28:15.077Z",
    "type": "execution"
   },
   {
    "code": "# TEST\nmissing_zip_address_count['3914 Judah St'] == 1",
    "id": "f768d975a0de4dfa86a6e01aaced95e6",
    "idx": 86,
    "time": "2021-02-01T05:28:15.147Z",
    "type": "execution"
   },
   {
    "code": "# HIDDEN TEST\nmissing_zip_address_count['Off The Grid'] == 39",
    "id": "e76b006a0dfb4441bad4d7e981eab2d4",
    "idx": 87,
    "time": "2021-02-01T05:28:15.215Z",
    "type": "execution"
   },
   {
    "code": "# True or False: \n#  If we were to drop businesses with MISSING postal code values \n#   a particular class of business be affected.\nq3d_true_or_false = True # SOLUTION",
    "id": "9675d25fa8734cdc8bd5be188d69f171",
    "idx": 89,
    "time": "2021-02-01T05:28:15.384Z",
    "type": "execution"
   },
   {
    "code": "# TEST\ntype(q3d_true_or_false) == bool",
    "id": "911c2484318c48fd8fe4c7a8a09d6658",
    "idx": 90,
    "time": "2021-02-01T05:28:15.494Z",
    "type": "execution"
   },
   {
    "code": "# HIDDEN TEST\nq3d_true_or_false == True",
    "id": "7052af80d73649d28b9db3412a1b5019",
    "idx": 91,
    "time": "2021-02-01T05:28:15.568Z",
    "type": "execution"
   },
   {
    "code": "bus['postal5'] = None\n# BEGIN SOLUTION\nbus['postal5'] = bus['postal_code'].str[:5]\nbus.loc[~bus['postal5'].isin(valid_zips), 'postal5'] = None \n# END SOLUTION\n\n# Checking the corrected postal5 column\nbus.loc[invalid_zip_bus.index, ['bid', 'name', 'postal_code', 'postal5']]",
    "id": "3d8ebbb447df46f1869787d1c15ff04a",
    "idx": 93,
    "time": "2021-02-01T05:28:15.743Z",
    "type": "execution"
   },
   {
    "code": "# TEST\n'postal5' in bus.columns",
    "id": "f5bd9042e56b49ea8a3e7a14bb9f554e",
    "idx": 94,
    "time": "2021-02-01T05:28:15.808Z",
    "type": "execution"
   },
   {
    "code": "# TEST\n(bus['postal5'].str.len() != 5).sum() == 221",
    "id": "20db60c372de42658571553c5df66dab",
    "idx": 95,
    "time": "2021-02-01T05:28:15.919Z",
    "type": "execution"
   },
   {
    "code": "# TEST\nbus['postal5'].isin(valid_zips).sum() == 6032",
    "id": "78be5bb1a84543658437bc7f4074cbdc",
    "idx": 96,
    "time": "2021-02-01T05:28:15.994Z",
    "type": "execution"
   },
   {
    "code": "# TEST\nbus['postal5'].isna().sum() == 221",
    "id": "dc63fbba04ae40df8d7a7d733e0c3bd6",
    "idx": 97,
    "time": "2021-02-01T05:28:16.064Z",
    "type": "execution"
   },
   {
    "code": "# HIDDEN TEST\n(bus['postal5'] == \"-9999\").sum() == 0",
    "id": "89c9fa7e38df4d67875672af416e05d5",
    "idx": 98,
    "time": "2021-02-01T05:28:16.136Z",
    "type": "execution"
   },
   {
    "code": "# HIDDEN TEST\nbus['postal5'].isna().sum() == 221",
    "id": "260560192b84473c8ffd4d43528e7b7d",
    "idx": 99,
    "time": "2021-02-01T05:28:16.256Z",
    "type": "execution"
   },
   {
    "id": "94dbf42e091b413483ee2be57180db7e",
    "time": "2021-02-01T05:28:16.353Z",
    "type": "completion"
   },
   {
    "id": "0c8fde7ef1434fb58a443d61d84c75fe",
    "time": "2021-02-01T05:28:16.362Z",
    "type": "completion"
   },
   {
    "id": "c80810f6a9554ce28e2add24a63f7efc",
    "time": "2021-02-01T05:28:16.366Z",
    "type": "completion"
   },
   {
    "id": "8ebacf00b20047aabe85c6d18ef2240c",
    "time": "2021-02-01T05:28:16.370Z",
    "type": "completion"
   },
   {
    "id": "1ad93c86247e4a1787e95938643fed62",
    "time": "2021-02-01T05:28:16.373Z",
    "type": "completion"
   },
   {
    "id": "97f4b267bd8a4cc9aed7a96b639a7fd6",
    "time": "2021-02-01T05:28:16.448Z",
    "type": "completion"
   },
   {
    "id": "28200b25d4a84f548eb50e04a0ba32c5",
    "time": "2021-02-01T05:28:16.451Z",
    "type": "completion"
   },
   {
    "code": "ins.head(5)",
    "id": "458d8e395b56403fa5c4597a98183566",
    "idx": 102,
    "time": "2021-02-01T05:28:16.541Z",
    "type": "execution"
   },
   {
    "code": "is_ins_iid_a_primary_key = ins['iid'].value_counts().max() == 1 # SOLUTION",
    "id": "122dd2de2e95494ca570aa52a8e867f2",
    "idx": 104,
    "time": "2021-02-01T05:28:16.670Z",
    "type": "execution"
   },
   {
    "code": "# TEST\ntype(is_ins_iid_a_primary_key) == bool or type(is_ins_iid_a_primary_key) == np.bool_",
    "id": "7c27d95925ee4712874724bf662de407",
    "idx": 105,
    "time": "2021-02-01T05:28:16.735Z",
    "type": "execution"
   },
   {
    "code": "# HIDDEN TEST\nis_ins_iid_a_primary_key == True",
    "id": "ebecf3e7b7844a4f998893ddb8bc15fc",
    "idx": 106,
    "time": "2021-02-01T05:28:16.841Z",
    "type": "execution"
   },
   {
    "code": "ins['bid'] = ins['iid'].str.split(\"_\", expand=True)[0].astype(int) # SOLUTION",
    "id": "92fb34dc84924de086652dcfe30dd241",
    "idx": 109,
    "time": "2021-02-01T05:28:17.059Z",
    "type": "execution"
   },
   {
    "code": "# TEST\n'bid' in ins.columns",
    "id": "cadc10ea17504fe280562f974134d8b7",
    "idx": 110,
    "time": "2021-02-01T05:28:17.158Z",
    "type": "execution"
   },
   {
    "code": "# TEST\nins['bid'].dtype == int",
    "id": "75264e50864c481782ff670c02c9a064",
    "idx": 111,
    "time": "2021-02-01T05:28:17.234Z",
    "type": "execution"
   },
   {
    "code": "# TEST\nlen(ins[ins['score'] > 0]['bid'].unique()) == 5724",
    "id": "3fd029b148574a0389da4f56c359e0f2",
    "idx": 112,
    "time": "2021-02-01T05:28:17.331Z",
    "type": "execution"
   },
   {
    "code": "# HIDDEN TEST\nins['bid'].equals(ins['iid'].str.split(\"_\", expand=True)[0].astype(\"int\"))",
    "id": "889c9fea301e4dcc83e5b09386a70c59",
    "idx": 113,
    "time": "2021-02-01T05:28:17.408Z",
    "type": "execution"
   },
   {
    "code": "invalid_bid_count = (~ins['bid'].isin(bus['bid'])).sum() # SOLUTION",
    "id": "46856fa8ef6f45458c72c691d2c7ca7b",
    "idx": 115,
    "time": "2021-02-01T05:28:17.567Z",
    "type": "execution"
   },
   {
    "code": "# TEST\ninvalid_bid_count >= 0 ",
    "id": "efb670749c4047d89be8faa427555a4a",
    "idx": 116,
    "time": "2021-02-01T05:28:17.673Z",
    "type": "execution"
   },
   {
    "code": "# HIDDEN TEST\ninvalid_bid_count == 0",
    "id": "305c938076e04e3ba23bee9dcbe0e0f7",
    "idx": 117,
    "time": "2021-02-01T05:28:17.756Z",
    "type": "execution"
   },
   {
    "code": "# True or False: The column ins['bid'] is a foreign key \n#   referencing the bus['bid'] primary key.\n\nq4b_is_foreign_key = True # SOLUTION",
    "id": "883aef5e4dd64e2095b17655ba204907",
    "idx": 119,
    "time": "2021-02-01T05:28:17.904Z",
    "type": "execution"
   },
   {
    "code": "# TEST\ntype(q4b_is_foreign_key) == bool",
    "id": "0bf810c0b49940138eacb3b51022fd5e",
    "idx": 120,
    "time": "2021-02-01T05:28:18.017Z",
    "type": "execution"
   },
   {
    "code": "# HIDDEN TEST\nq4b_is_foreign_key == True",
    "id": "23e59a4dcfab421782ea92f4d498109b",
    "idx": 121,
    "time": "2021-02-01T05:28:18.089Z",
    "type": "execution"
   },
   {
    "id": "4d025a41c8de419d88d2d7cf8bf283e8",
    "time": "2021-02-01T05:28:18.223Z",
    "type": "completion"
   },
   {
    "id": "c47af30cbef5497f83a192004a934bf1",
    "time": "2021-02-01T05:28:18.227Z",
    "type": "completion"
   },
   {
    "id": "ea9d806f2b154892b11f304324546255",
    "time": "2021-02-01T05:28:18.230Z",
    "type": "completion"
   },
   {
    "id": "536df22c232c461ba29bcc2dcb199734",
    "time": "2021-02-01T05:28:18.233Z",
    "type": "completion"
   },
   {
    "id": "35df92a2958f47ec9b7e6b7df7a24cce",
    "time": "2021-02-01T05:28:18.236Z",
    "type": "completion"
   },
   {
    "id": "08d8ab80303b46018b8ebf8156ed8d18",
    "time": "2021-02-01T05:28:18.239Z",
    "type": "completion"
   },
   {
    "id": "f8df2c1f0c964f488013dcb2edacbc1d",
    "time": "2021-02-01T05:28:18.243Z",
    "type": "completion"
   },
   {
    "id": "6123d778995045838a57a70fe6c46939",
    "time": "2021-02-01T05:28:18.247Z",
    "type": "completion"
   },
   {
    "id": "e882ef0410fc466080cbac4f807e1426",
    "time": "2021-02-01T05:28:18.250Z",
    "type": "completion"
   },
   {
    "id": "9118841bd7b14373819355a5aa1bacb5",
    "time": "2021-02-01T05:28:18.254Z",
    "type": "completion"
   },
   {
    "id": "68bb60b8bdf64938bd8f0931a952886b",
    "time": "2021-02-01T05:28:18.257Z",
    "type": "completion"
   },
   {
    "id": "cc490af0a5ad4e2380d8d8b4aa9349cd",
    "time": "2021-02-01T05:28:18.260Z",
    "type": "completion"
   },
   {
    "id": "6448504c8d944476979daf326355c12d",
    "time": "2021-02-01T05:28:18.264Z",
    "type": "completion"
   },
   {
    "id": "769030ed3b1b40ce8971e4577f497a1e",
    "time": "2021-02-01T05:28:18.355Z",
    "type": "completion"
   },
   {
    "id": "25d9a418bf484c668d3c665809b8efcc",
    "time": "2021-02-01T05:28:18.361Z",
    "type": "completion"
   },
   {
    "id": "231a409b36c04e0689a30d583068cfcd",
    "time": "2021-02-01T05:28:18.366Z",
    "type": "completion"
   },
   {
    "id": "211685cc7c8d49219406905eebf5c83f",
    "time": "2021-02-01T05:28:18.372Z",
    "type": "completion"
   },
   {
    "id": "99ae171888884bcd913a5bb4b74e7d94",
    "time": "2021-02-01T05:28:18.377Z",
    "type": "completion"
   },
   {
    "id": "1bc6fcb482b943588b04bce1a0c7de4b",
    "time": "2021-02-01T05:28:18.386Z",
    "type": "completion"
   },
   {
    "id": "3276026019924a7e8f3300c100e47129",
    "time": "2021-02-01T05:28:18.400Z",
    "type": "completion"
   },
   {
    "id": "b8956d35377e48cb82d90d99122e2388",
    "time": "2021-02-01T05:28:18.404Z",
    "type": "completion"
   },
   {
    "id": "0b186b10e2d84dbc83c681fc0f23042b",
    "time": "2021-02-01T05:28:18.407Z",
    "type": "completion"
   },
   {
    "id": "58227a37f3e64f7ba767f5756e357350",
    "time": "2021-02-01T05:28:18.410Z",
    "type": "completion"
   },
   {
    "id": "d908669600dd42418c82b1d65e126f5b",
    "time": "2021-02-01T05:28:18.415Z",
    "type": "completion"
   },
   {
    "id": "3c00c0f050aa46bb8a3635b730b3418e",
    "time": "2021-02-01T05:28:18.417Z",
    "type": "completion"
   },
   {
    "id": "9a5f7160acc74e72848f7ebe1dc3e3a1",
    "time": "2021-02-01T05:28:18.421Z",
    "type": "completion"
   },
   {
    "id": "75f0f74e78f645ee8ba3ecd0b5bd7d44",
    "time": "2021-02-01T05:28:18.424Z",
    "type": "completion"
   },
   {
    "id": "4550a0c50ac349199b6eac4e2d6009b8",
    "time": "2021-02-01T05:28:18.427Z",
    "type": "completion"
   },
   {
    "id": "239f90b16f49466f9585a0e49c93fa81",
    "time": "2021-02-01T05:28:18.430Z",
    "type": "completion"
   },
   {
    "id": "47a7be6fbf2643248085627ea4f59ce7",
    "time": "2021-02-01T05:28:18.433Z",
    "type": "completion"
   },
   {
    "id": "f768d975a0de4dfa86a6e01aaced95e6",
    "time": "2021-02-01T05:28:18.436Z",
    "type": "completion"
   },
   {
    "id": "e76b006a0dfb4441bad4d7e981eab2d4",
    "time": "2021-02-01T05:28:18.539Z",
    "type": "completion"
   },
   {
    "id": "9675d25fa8734cdc8bd5be188d69f171",
    "time": "2021-02-01T05:28:18.548Z",
    "type": "completion"
   },
   {
    "id": "911c2484318c48fd8fe4c7a8a09d6658",
    "time": "2021-02-01T05:28:18.554Z",
    "type": "completion"
   },
   {
    "id": "7052af80d73649d28b9db3412a1b5019",
    "time": "2021-02-01T05:28:18.561Z",
    "type": "completion"
   },
   {
    "id": "3d8ebbb447df46f1869787d1c15ff04a",
    "time": "2021-02-01T05:28:18.565Z",
    "type": "completion"
   },
   {
    "id": "f5bd9042e56b49ea8a3e7a14bb9f554e",
    "time": "2021-02-01T05:28:18.573Z",
    "type": "completion"
   },
   {
    "id": "20db60c372de42658571553c5df66dab",
    "time": "2021-02-01T05:28:18.579Z",
    "type": "completion"
   },
   {
    "id": "78be5bb1a84543658437bc7f4074cbdc",
    "time": "2021-02-01T05:28:18.581Z",
    "type": "completion"
   },
   {
    "id": "dc63fbba04ae40df8d7a7d733e0c3bd6",
    "time": "2021-02-01T05:28:18.585Z",
    "type": "completion"
   },
   {
    "id": "89c9fa7e38df4d67875672af416e05d5",
    "time": "2021-02-01T05:28:18.588Z",
    "type": "completion"
   },
   {
    "id": "260560192b84473c8ffd4d43528e7b7d",
    "time": "2021-02-01T05:28:18.591Z",
    "type": "completion"
   },
   {
    "id": "458d8e395b56403fa5c4597a98183566",
    "time": "2021-02-01T05:28:18.622Z",
    "type": "completion"
   },
   {
    "id": "122dd2de2e95494ca570aa52a8e867f2",
    "time": "2021-02-01T05:28:18.625Z",
    "type": "completion"
   },
   {
    "id": "7c27d95925ee4712874724bf662de407",
    "time": "2021-02-01T05:28:18.628Z",
    "type": "completion"
   },
   {
    "id": "ebecf3e7b7844a4f998893ddb8bc15fc",
    "time": "2021-02-01T05:28:18.722Z",
    "type": "completion"
   },
   {
    "id": "92fb34dc84924de086652dcfe30dd241",
    "time": "2021-02-01T05:28:18.725Z",
    "type": "completion"
   },
   {
    "id": "cadc10ea17504fe280562f974134d8b7",
    "time": "2021-02-01T05:28:18.729Z",
    "type": "completion"
   },
   {
    "id": "75264e50864c481782ff670c02c9a064",
    "time": "2021-02-01T05:28:18.733Z",
    "type": "completion"
   },
   {
    "id": "3fd029b148574a0389da4f56c359e0f2",
    "time": "2021-02-01T05:28:18.736Z",
    "type": "completion"
   },
   {
    "id": "889c9fea301e4dcc83e5b09386a70c59",
    "time": "2021-02-01T05:28:18.740Z",
    "type": "completion"
   },
   {
    "id": "46856fa8ef6f45458c72c691d2c7ca7b",
    "time": "2021-02-01T05:28:18.742Z",
    "type": "completion"
   },
   {
    "id": "efb670749c4047d89be8faa427555a4a",
    "time": "2021-02-01T05:28:18.750Z",
    "type": "completion"
   },
   {
    "id": "305c938076e04e3ba23bee9dcbe0e0f7",
    "time": "2021-02-01T05:28:18.753Z",
    "type": "completion"
   },
   {
    "id": "883aef5e4dd64e2095b17655ba204907",
    "time": "2021-02-01T05:28:18.755Z",
    "type": "completion"
   },
   {
    "id": "0bf810c0b49940138eacb3b51022fd5e",
    "time": "2021-02-01T05:28:18.759Z",
    "type": "completion"
   },
   {
    "id": "23e59a4dcfab421782ea92f4d498109b",
    "time": "2021-02-01T05:28:18.762Z",
    "type": "completion"
   },
   {
    "code": "ins_date_type = type(ins['date'][0]) # SOLUTION\nins_date_type",
    "id": "3b9f36d1572b469eb38dcd48b742697a",
    "idx": 124,
    "time": "2021-02-01T05:28:24.872Z",
    "type": "execution"
   },
   {
    "code": "# TEST\ntype(ins_date_type) == type",
    "id": "2c6dee8ccc5944999da338716c8d42b8",
    "idx": 125,
    "time": "2021-02-01T05:28:24.956Z",
    "type": "execution"
   },
   {
    "code": "# HIDDEN TEST\nins_date_type == str",
    "id": "0519618fe0584575a3def7961d6fe488",
    "idx": 126,
    "time": "2021-02-01T05:28:25.054Z",
    "type": "execution"
   },
   {
    "code": "ins['timestamp'] = pd.to_datetime(ins['date']) # SOLUTION",
    "id": "1a20bd4b3d124792bf75693e937fbe4c",
    "idx": 128,
    "time": "2021-02-01T05:28:25.208Z",
    "type": "execution"
   },
   {
    "code": "# TEST\ntype(ins['timestamp'][1]) == pd.Timestamp",
    "id": "32a9aafbba56450d9f3ea6985c2f1186",
    "idx": 129,
    "time": "2021-02-01T05:28:25.315Z",
    "type": "execution"
   },
   {
    "code": "earliest_date = ins['timestamp'].min() # SOLUTION\nlatest_date = ins['timestamp'].max() # SOLUTION\n\nprint(\"Earliest Date:\", earliest_date)\nprint(\"Latest Date:\", latest_date)",
    "id": "9114239534a54e7da15814fd20dfe886",
    "idx": 131,
    "time": "2021-02-01T05:28:25.484Z",
    "type": "execution"
   },
   {
    "code": "# TEST\ntype(earliest_date) == pd.Timestamp",
    "id": "bf9a31a632fa480189ee9826f8a40e9f",
    "idx": 132,
    "time": "2021-02-01T05:28:25.563Z",
    "type": "execution"
   },
   {
    "code": "# TEST\ntype(latest_date) == pd.Timestamp",
    "id": "6b753884fe0a4bbf80d082c12c571b67",
    "idx": 133,
    "time": "2021-02-01T05:28:25.635Z",
    "type": "execution"
   },
   {
    "code": "# HIDDEN TEST\nearliest_date == pd.Timestamp('2016-10-04 00:00:00')",
    "id": "1a2efac9b061452faa8063d01b81e222",
    "idx": 134,
    "time": "2021-02-01T05:28:25.707Z",
    "type": "execution"
   },
   {
    "code": "# HIDDEN TEST\nlatest_date == pd.Timestamp('2019-11-28 00:00:00')",
    "id": "fbda5e51527e475eb81ea24ba2398911",
    "idx": 135,
    "time": "2021-02-01T05:28:25.818Z",
    "type": "execution"
   },
   {
    "code": "ins['year'] = ins['timestamp'].dt.year # SOLUTION",
    "id": "eb985ac0fdc645caa0c0f6ae96bd7d81",
    "idx": 137,
    "time": "2021-02-01T05:28:25.991Z",
    "type": "execution"
   },
   {
    "code": "# TEST\n'year' in ins.columns",
    "id": "02566f43fd904daaaea3710e72114063",
    "idx": 138,
    "time": "2021-02-01T05:28:26.061Z",
    "type": "execution"
   },
   {
    "code": "# HIDDEN TEST\nset(ins[ins['score'] > 0]['year'].value_counts()) == {959, 4043, 4355, 4674}",
    "id": "358e527b72ce4af4822ee383573b42bc",
    "idx": 139,
    "time": "2021-02-01T05:28:26.129Z",
    "type": "execution"
   },
   {
    "code": "ins.head()",
    "id": "efe30e6e98a5494791fc5afe7c753bc0",
    "idx": 140,
    "time": "2021-02-01T05:28:26.224Z",
    "type": "execution"
   },
   {
    "id": "3b9f36d1572b469eb38dcd48b742697a",
    "time": "2021-02-01T05:28:26.272Z",
    "type": "completion"
   },
   {
    "id": "2c6dee8ccc5944999da338716c8d42b8",
    "time": "2021-02-01T05:28:26.274Z",
    "type": "completion"
   },
   {
    "id": "0519618fe0584575a3def7961d6fe488",
    "time": "2021-02-01T05:28:26.276Z",
    "type": "completion"
   },
   {
    "code": "ins_pivot = ins.pivot_table(columns = \"year\", index = \"type\", aggfunc = len, fill_value = 0) # SOLUTION\nins_pivot = ins_pivot[\"bid\"] # SOLUTION\nins_pivot['Total'] = ins_pivot.sum(axis=1) # SOLUTION\nins_pivot_sorted = ins_pivot.sort_values('Total', ascending=False) # SOLUTION\nins_pivot_sorted",
    "id": "28ec4881328d49d19868ad5d8cd2e99f",
    "idx": 143,
    "time": "2021-02-01T05:28:26.505Z",
    "type": "execution"
   },
   {
    "code": "# TEST\nset(ins_pivot_sorted.columns) == {2016, 2017, 2018, 2019, 'Total'}",
    "id": "8a210cdb8c2b45fa85dff44f82b5046b",
    "idx": 144,
    "time": "2021-02-01T05:28:26.580Z",
    "type": "execution"
   },
   {
    "code": "# TEST\nlen(ins_pivot_sorted) == 15",
    "id": "3e60d9debf36481bb9192768eb07723c",
    "idx": 145,
    "time": "2021-02-01T05:28:26.646Z",
    "type": "execution"
   },
   {
    "code": "# HIDDEN TEST\nins_pivot_sorted.loc[\"Routine - Unscheduled\", 2016] == 966",
    "id": "fc9d645120e74ed1af0fe38438710116",
    "idx": 146,
    "time": "2021-02-01T05:28:26.714Z",
    "type": "execution"
   },
   {
    "code": "# HIDDEN TEST\nins_pivot_sorted.iloc[0,4] == 14077",
    "id": "7513f2706b4840718e9a526ebd17996e",
    "idx": 147,
    "time": "2021-02-01T05:28:26.826Z",
    "type": "execution"
   },
   {
    "code": "# HIDDEN TEST\nins_pivot_sorted.loc[\"New Ownership - Followup\", 2016] == 0",
    "id": "e30c54b27ef54eac99681d808d81bad6",
    "idx": 148,
    "time": "2021-02-01T05:28:26.906Z",
    "type": "execution"
   },
   {
    "code": "year_of_new_construction = 2017 # SOLUTION",
    "id": "dd70209f2b814605850b07ee22d63efd",
    "idx": 150,
    "time": "2021-02-01T05:28:27.066Z",
    "type": "execution"
   },
   {
    "code": "# TEST\ntype(year_of_new_construction) == int",
    "id": "249a3f0ae87249b081c25aeae16f483a",
    "idx": 151,
    "time": "2021-02-01T05:28:27.133Z",
    "type": "execution"
   },
   {
    "code": "# HIDDEN TEST\nyear_of_new_construction == 2017",
    "id": "52c6d68a98004e6b81053a3751e52916",
    "idx": 152,
    "time": "2021-02-01T05:28:27.240Z",
    "type": "execution"
   },
   {
    "id": "1a20bd4b3d124792bf75693e937fbe4c",
    "time": "2021-02-01T05:28:27.289Z",
    "type": "completion"
   },
   {
    "code": "ins['score'].value_counts().head()",
    "id": "95961adde61449eaab8f88b9010fe16f",
    "idx": 154,
    "time": "2021-02-01T05:28:27.386Z",
    "type": "execution"
   },
   {
    "id": "32a9aafbba56450d9f3ea6985c2f1186",
    "time": "2021-02-01T05:28:27.431Z",
    "type": "completion"
   },
   {
    "id": "9114239534a54e7da15814fd20dfe886",
    "time": "2021-02-01T05:28:27.434Z",
    "type": "completion"
   },
   {
    "id": "bf9a31a632fa480189ee9826f8a40e9f",
    "time": "2021-02-01T05:28:27.437Z",
    "type": "completion"
   },
   {
    "id": "6b753884fe0a4bbf80d082c12c571b67",
    "time": "2021-02-01T05:28:27.439Z",
    "type": "completion"
   },
   {
    "id": "1a2efac9b061452faa8063d01b81e222",
    "time": "2021-02-01T05:28:27.442Z",
    "type": "completion"
   },
   {
    "id": "fbda5e51527e475eb81ea24ba2398911",
    "time": "2021-02-01T05:28:27.444Z",
    "type": "completion"
   },
   {
    "id": "eb985ac0fdc645caa0c0f6ae96bd7d81",
    "time": "2021-02-01T05:28:27.446Z",
    "type": "completion"
   },
   {
    "id": "02566f43fd904daaaea3710e72114063",
    "time": "2021-02-01T05:28:27.449Z",
    "type": "completion"
   },
   {
    "id": "358e527b72ce4af4822ee383573b42bc",
    "time": "2021-02-01T05:28:27.451Z",
    "type": "completion"
   },
   {
    "id": "efe30e6e98a5494791fc5afe7c753bc0",
    "time": "2021-02-01T05:28:27.456Z",
    "type": "completion"
   },
   {
    "id": "28ec4881328d49d19868ad5d8cd2e99f",
    "time": "2021-02-01T05:28:27.675Z",
    "type": "completion"
   },
   {
    "id": "8a210cdb8c2b45fa85dff44f82b5046b",
    "time": "2021-02-01T05:28:27.766Z",
    "type": "completion"
   },
   {
    "id": "3e60d9debf36481bb9192768eb07723c",
    "time": "2021-02-01T05:28:27.772Z",
    "type": "completion"
   },
   {
    "id": "fc9d645120e74ed1af0fe38438710116",
    "time": "2021-02-01T05:28:27.776Z",
    "type": "completion"
   },
   {
    "id": "7513f2706b4840718e9a526ebd17996e",
    "time": "2021-02-01T05:28:27.780Z",
    "type": "completion"
   },
   {
    "id": "e30c54b27ef54eac99681d808d81bad6",
    "time": "2021-02-01T05:28:27.784Z",
    "type": "completion"
   },
   {
    "id": "dd70209f2b814605850b07ee22d63efd",
    "time": "2021-02-01T05:28:27.788Z",
    "type": "completion"
   },
   {
    "id": "249a3f0ae87249b081c25aeae16f483a",
    "time": "2021-02-01T05:28:27.793Z",
    "type": "completion"
   },
   {
    "id": "52c6d68a98004e6b81053a3751e52916",
    "time": "2021-02-01T05:28:27.796Z",
    "type": "completion"
   },
   {
    "id": "95961adde61449eaab8f88b9010fe16f",
    "time": "2021-02-01T05:28:27.799Z",
    "type": "completion"
   },
   {
    "code": "ins_missing_score_pivot = ...\n\n# BEGIN SOLUTION\nins['Missing Score'] = (ins['score'] == -1).astype(\"str\")\n\nins_missing_score_pivot = ins.pivot_table(\n    index = \"type\", \n    columns = \"Missing Score\",\n    aggfunc = 'size',\n    fill_value = 0\n)\nins_missing_score_pivot['Total'] = ins_missing_score_pivot.sum(axis=1)\nins_missing_score_pivot.sort_values('Total', inplace=True, ascending=False)\nins_missing_score_pivot\n# END SOLUTION",
    "id": "0eabc033b1fd4c6f809f213b717d7b24",
    "idx": 157,
    "time": "2021-02-01T05:28:27.978Z",
    "type": "execution"
   },
   {
    "id": "0eabc033b1fd4c6f809f213b717d7b24",
    "time": "2021-02-01T05:28:28.091Z",
    "type": "completion"
   },
   {
    "code": "# TEST\nif type(ins_missing_score_pivot) == pd.DataFrame:\n    if False in ins_missing_score_pivot.columns: \n        ins_missing_score_pivot.rename(columns={False:\"False\"}, errors=\"raise\",inplace=True)\n    if True in ins_missing_score_pivot.columns:\n        ins_missing_score_pivot.rename(columns={True:\"True\"}, errors=\"raise\",inplace=True)\ntype(ins_missing_score_pivot) == pd.DataFrame",
    "id": "57e5bbf4a4234a08bd805edea04d8300",
    "idx": 158,
    "time": "2021-02-01T05:28:28.193Z",
    "type": "execution"
   },
   {
    "id": "57e5bbf4a4234a08bd805edea04d8300",
    "time": "2021-02-01T05:28:28.308Z",
    "type": "completion"
   },
   {
    "code": "# HIDDEN TEST\nset(ins_missing_score_pivot.columns) == {'False', 'Total', 'True'}",
    "id": "78613341f76e41b48a636a8f35bc2105",
    "idx": 159,
    "time": "2021-02-01T05:28:28.330Z",
    "type": "execution"
   },
   {
    "id": "78613341f76e41b48a636a8f35bc2105",
    "time": "2021-02-01T05:28:28.469Z",
    "type": "completion"
   },
   {
    "code": "# HIDDEN TEST\nlen(ins_missing_score_pivot) == 15",
    "id": "fd08cff450364b6da95c6d5099e94271",
    "idx": 160,
    "time": "2021-02-01T05:28:28.776Z",
    "type": "execution"
   },
   {
    "id": "fd08cff450364b6da95c6d5099e94271",
    "time": "2021-02-01T05:28:28.866Z",
    "type": "completion"
   },
   {
    "code": "# HIDDEN TEST\nins_missing_score_pivot[\"False\"][\"Routine - Unscheduled\"] == 14031 ",
    "id": "182a6f9850b04f20bcf66d3c1e15f5f5",
    "idx": 161,
    "time": "2021-02-01T05:28:28.961Z",
    "type": "execution"
   },
   {
    "id": "182a6f9850b04f20bcf66d3c1e15f5f5",
    "time": "2021-02-01T05:28:29.058Z",
    "type": "completion"
   },
   {
    "code": "# HIDDEN TEST\nins_missing_score_pivot.iloc[0,2] == 14077",
    "id": "0f22fb00212e4723a90dffe10f87851f",
    "idx": 162,
    "time": "2021-02-01T05:28:29.142Z",
    "type": "execution"
   },
   {
    "id": "0f22fb00212e4723a90dffe10f87851f",
    "time": "2021-02-01T05:28:29.229Z",
    "type": "completion"
   },
   {
    "code": "ins = ins[ins[\"score\"] > 0]",
    "id": "af699b48f3414da6957fb220ba88928e",
    "idx": 166,
    "time": "2021-02-01T05:28:29.762Z",
    "type": "execution"
   },
   {
    "id": "af699b48f3414da6957fb220ba88928e",
    "time": "2021-02-01T05:28:29.838Z",
    "type": "completion"
   },
   {
    "code": "ins_named = ...\n# BEGIN SOLUTION\nins_named = ins.merge(bus[[\"bid\", \"name\", \"address\"]], how=\"left\", left_on = \"bid\", right_on = \"bid\") \n# END SOLUTION\nins_named.head()",
    "id": "5ec07ebd30994083813348fa2b63175b",
    "idx": 168,
    "time": "2021-02-01T05:28:30.123Z",
    "type": "execution"
   },
   {
    "id": "5ec07ebd30994083813348fa2b63175b",
    "time": "2021-02-01T05:28:30.223Z",
    "type": "completion"
   },
   {
    "code": "# TEST\n\"name\" in ins_named and \"address\" in ins_named",
    "id": "08a9398dd54343d189e0abc147364eeb",
    "idx": 169,
    "time": "2021-02-01T05:28:30.475Z",
    "type": "execution"
   },
   {
    "id": "08a9398dd54343d189e0abc147364eeb",
    "time": "2021-02-01T05:28:30.590Z",
    "type": "completion"
   },
   {
    "code": "# TEST\nins_named[ins_named[\"Missing Score\"] == True].shape[0] == 0",
    "id": "c4cd2ebacab343b9a8238b37cfbc3c8b",
    "idx": 170,
    "time": "2021-02-01T05:28:30.685Z",
    "type": "execution"
   },
   {
    "code": "# TEST\nins_named.reset_index()['date'].equals(ins[ins['score'] > 0].reset_index()['date'])",
    "id": "b9d555bddd8a457bb0c9ee7db1080664",
    "idx": 171,
    "time": "2021-02-01T05:28:30.813Z",
    "type": "execution"
   },
   {
    "id": "c4cd2ebacab343b9a8238b37cfbc3c8b",
    "time": "2021-02-01T05:28:30.885Z",
    "type": "completion"
   },
   {
    "code": "# HIDDEN TEST\nnp.isclose(sum(ins_named['name'].isnull()), 0, rtol=5)",
    "id": "632cfd0d80f240fcb6d4ef12f6f8f11d",
    "idx": 172,
    "time": "2021-02-01T05:28:30.982Z",
    "type": "execution"
   },
   {
    "id": "b9d555bddd8a457bb0c9ee7db1080664",
    "time": "2021-02-01T05:28:31.049Z",
    "type": "completion"
   },
   {
    "id": "632cfd0d80f240fcb6d4ef12f6f8f11d",
    "time": "2021-02-01T05:28:31.131Z",
    "type": "completion"
   },
   {
    "code": "# HIDDEN TEST\nsol_merged = ins.merge(bus[[\"bid\", \"name\", \"address\"]], how=\"left\", left_on = \"bid\", right_on = \"bid\")\nins_named.equals(sol_merged[sol_merged[\"score\"] > 0])",
    "id": "1077c098984748fe93d4709b770d6ca6",
    "idx": 173,
    "time": "2021-02-01T05:28:31.223Z",
    "type": "execution"
   },
   {
    "id": "1077c098984748fe93d4709b770d6ca6",
    "time": "2021-02-01T05:28:31.311Z",
    "type": "completion"
   },
   {
    "code": "twenty_lowest_scoring = ... \n# BEGIN SOLUTION\ntwenty_lowest_scoring = (\n    ins_named.groupby('bid', as_index=False)\n        .aggregate({'name': 'first', 'score': 'median'})\n        .sort_values(['score', 'bid'] )\n        .rename(columns={'score': 'median score'})\n        .head(20)\n)\n# END SOLUTION\n\ntwenty_lowest_scoring",
    "id": "85679a3c40414046800f656ca076845a",
    "idx": 175,
    "time": "2021-02-01T05:28:31.491Z",
    "type": "execution"
   },
   {
    "id": "85679a3c40414046800f656ca076845a",
    "time": "2021-02-01T05:28:31.596Z",
    "type": "completion"
   },
   {
    "code": "# TEST\ntwenty_lowest_scoring.shape == (20, 3)",
    "id": "e3402ed37178464f887f4c96393fa07d",
    "idx": 176,
    "time": "2021-02-01T05:28:31.710Z",
    "type": "execution"
   },
   {
    "id": "e3402ed37178464f887f4c96393fa07d",
    "time": "2021-02-01T05:28:31.814Z",
    "type": "completion"
   },
   {
    "code": "# TEST\nset(twenty_lowest_scoring.columns) == {'bid', 'median score', 'name'}",
    "id": "6f78a7421f38472f8b2a88af1feeeaff",
    "idx": 177,
    "time": "2021-02-01T05:28:31.905Z",
    "type": "execution"
   },
   {
    "id": "6f78a7421f38472f8b2a88af1feeeaff",
    "time": "2021-02-01T05:28:32.013Z",
    "type": "completion"
   },
   {
    "code": "# HIDDEN TEST\n# print(twenty_lowest_scoring.to_html().replace(\"\\n\",\"\"))\nset(twenty_lowest_scoring[\"median score\"].values) == {54 , 57 , 58 , 60.5, 63.5, 64, \n                                                      64 , 64 , 64 , 64 , 64, 64.5, \n                                                      64.5, 64.5, 65, 65, 66, 66, 66, 66.5\n                                                      }",
    "id": "3237eef6b20942df97532dabf3a57eb4",
    "idx": 178,
    "time": "2021-02-01T05:28:32.099Z",
    "type": "execution"
   },
   {
    "id": "3237eef6b20942df97532dabf3a57eb4",
    "time": "2021-02-01T05:28:32.209Z",
    "type": "completion"
   },
   {
    "code": "low_score_violations = ...\n\n# BEGIN SOLUTION\nlow_score_violations = (\n    ins_named[ins_named['score'] < 65]\n        .merge(ins2vio, on='iid')\n        .merge(vio, on='vid')\n        .loc[:,'description']\n        .value_counts()\n        .sort_values(ascending=False)\n)\n# END SOLUTION\n\nlow_score_violations.head(20)",
    "id": "5086edc57aca41418cd7c50713171844",
    "idx": 180,
    "time": "2021-02-01T05:28:32.539Z",
    "type": "execution"
   },
   {
    "id": "5086edc57aca41418cd7c50713171844",
    "time": "2021-02-01T05:28:32.648Z",
    "type": "completion"
   },
   {
    "code": "# TEST\ntype(low_score_violations) == pd.Series",
    "id": "7a41bf7efb334f589d619adfcf71602d",
    "idx": 181,
    "time": "2021-02-01T05:28:32.736Z",
    "type": "execution"
   },
   {
    "id": "7a41bf7efb334f589d619adfcf71602d",
    "time": "2021-02-01T05:28:32.855Z",
    "type": "completion"
   },
   {
    "code": "# TEST\nlen(low_score_violations) == 50",
    "id": "1d0ec80192124fe584897e2ce395a6fe",
    "idx": 182,
    "time": "2021-02-01T05:28:32.944Z",
    "type": "execution"
   },
   {
    "code": "# TEST\nlow_score_violations[0] == 43",
    "id": "0332979155e24a5b84a383443af8115d",
    "idx": 183,
    "time": "2021-02-01T05:28:33.069Z",
    "type": "execution"
   },
   {
    "id": "1d0ec80192124fe584897e2ce395a6fe",
    "time": "2021-02-01T05:28:33.170Z",
    "type": "completion"
   },
   {
    "id": "0332979155e24a5b84a383443af8115d",
    "time": "2021-02-01T05:28:33.175Z",
    "type": "completion"
   },
   {
    "code": "# HIDDEN TEST\nnp.all(low_score_violations.head().values == np.array([43, 42, 40, 39, 37]))",
    "id": "5c2d266977ba4b4585012427899b9939",
    "idx": 184,
    "time": "2021-02-01T05:28:33.262Z",
    "type": "execution"
   },
   {
    "id": "5c2d266977ba4b4585012427899b9939",
    "time": "2021-02-01T05:28:33.345Z",
    "type": "completion"
   },
   {
    "code": "worst_restaurant = ...\n# BEGIN SOLUTION NO PROMPT\nworst_restaurant = ins_named.sort_values('score', ascending=False).tail(1)['name'].iloc[0]\n# END SOLUTION\nworst_restaurant",
    "id": "ee5737d52eb44a8896af6bb49ef6ac1b",
    "idx": 186,
    "time": "2021-02-01T05:28:33.556Z",
    "type": "execution"
   },
   {
    "id": "ee5737d52eb44a8896af6bb49ef6ac1b",
    "time": "2021-02-01T05:28:33.642Z",
    "type": "completion"
   },
   {
    "code": "# BEGIN SOLUTION\nscore_counts = ins.loc[ins[\"score\"] > 0, 'score'].value_counts()\nplt.bar(score_counts.keys(), score_counts, edgecolor='black')\nplt.xlabel(\"Score\")\nplt.ylabel(\"Count\")\nplt.title(\"Distribution of Inspection Scores\");\n# END SOLUTION",
    "id": "70c796cc45004b5a8f2f0828dad0f45d",
    "idx": 191,
    "time": "2021-02-01T05:28:35.268Z",
    "type": "execution"
   },
   {
    "code": "score_counts",
    "id": "16b78f9ecc9c43878a1ad0103724d813",
    "idx": 192,
    "time": "2021-02-01T05:28:35.424Z",
    "type": "execution"
   },
   {
    "id": "70c796cc45004b5a8f2f0828dad0f45d",
    "time": "2021-02-01T05:28:35.786Z",
    "type": "completion"
   },
   {
    "id": "16b78f9ecc9c43878a1ad0103724d813",
    "time": "2021-02-01T05:28:35.818Z",
    "type": "completion"
   },
   {
    "code": "# BEGIN SOLUTION NO PROMPT\ndef swing(s):\n    if len(s) < 3:\n        return 0\n    return max(s) - min(s)\n\nswing_series = ins_named['score'].groupby(ins_named['bid']).agg(swing).rename('swing')\nbus_swing = pd.concat([bus.set_index('bid'), swing_series], axis=1).sort_values(\"swing\", ascending=False)\n# END SOLUTION\nmax_swing = bus_swing.iloc[0]['name'] # SOLUTION\nmax_swing",
    "id": "1189a5fc03c84b4792e6c3735da31768",
    "idx": 198,
    "time": "2021-02-01T05:28:36.729Z",
    "type": "execution"
   },
   {
    "id": "1189a5fc03c84b4792e6c3735da31768",
    "time": "2021-02-01T05:28:36.849Z",
    "type": "completion"
   },
   {
    "code": "# TEST\nmax_swing in set(bus['name'])",
    "id": "64fe87eb021845f182e7f478a7803c80",
    "idx": 199,
    "time": "2021-02-01T05:28:37.278Z",
    "type": "execution"
   },
   {
    "id": "64fe87eb021845f182e7f478a7803c80",
    "time": "2021-02-01T05:28:37.386Z",
    "type": "completion"
   },
   {
    "code": "# HIDDEN TEST\nmax_swing == 'Lollipot'",
    "id": "0493f1535d354e3e9ac137fd3e9d5e43",
    "idx": 200,
    "time": "2021-02-01T05:28:37.495Z",
    "type": "execution"
   },
   {
    "id": "0493f1535d354e3e9ac137fd3e9d5e43",
    "time": "2021-02-01T05:28:37.587Z",
    "type": "completion"
   },
   {
    "code": "ins2018 = ins[ins['year'] == 2018]\n# Create the dataframe here\nscores_pairs_by_business = ...\n# BEGIN SOLUTION NO PROMPT\n# SOLUTION 1\nscores_pairs_by_business = (ins2018.sort_values('date')\n                            .loc[:, ['bid', 'score']]\n                            .groupby('bid')\n                            .filter(lambda group: len(group)==2)\n                            .groupby('bid')\n                            .agg(list)\n                            .rename(columns={'score':'score_pair'}))\n\n# SOLUTION 2\nscores_pairs_by_business = (ins2018.sort_values('date')\n                            .groupby('bid')\n                            .filter(lambda group: len(group)==2)\n                            .groupby('bid')\n                            .agg({'score': lambda group: group.tolist()})\n                            .rename(columns={'score':'score_pair'}))\nscores_pairs_by_business.head()\n# END SOLUTION\nscores_pairs_by_business",
    "id": "351bb88842b044f7827bb586f6a2498e",
    "idx": 202,
    "time": "2021-02-01T05:28:38.120Z",
    "type": "execution"
   },
   {
    "id": "351bb88842b044f7827bb586f6a2498e",
    "time": "2021-02-01T05:28:38.520Z",
    "type": "completion"
   },
   {
    "code": "# TEST\nisinstance(scores_pairs_by_business, pd.DataFrame)",
    "id": "c9b43020e8c442568e5163605b5ff796",
    "idx": 203,
    "time": "2021-02-01T05:28:38.945Z",
    "type": "execution"
   },
   {
    "id": "c9b43020e8c442568e5163605b5ff796",
    "time": "2021-02-01T05:28:39.081Z",
    "type": "completion"
   },
   {
    "code": "# TEST\nscores_pairs_by_business.columns[0] == 'score_pair'",
    "id": "052c19a8e5fa4479b20b8d3428e9faa7",
    "idx": 204,
    "time": "2021-02-01T05:28:39.100Z",
    "type": "execution"
   },
   {
    "id": "052c19a8e5fa4479b20b8d3428e9faa7",
    "time": "2021-02-01T05:28:39.240Z",
    "type": "completion"
   },
   {
    "code": "# HIDDEN TEST\n\nstudent_arr = np.array(scores_pairs_by_business.values.tolist()).squeeze()\n\n# Now we will check the head score pares\n# score_pair\n# business_id\n# 24 [96, 98]\n# 45 [78, 84]\n# 66 [98, 100]\n# 67 [87, 94]\n# 76 [100, 98]\n\n([96, 98] in student_arr and\\\n    [78, 84] in student_arr and\\\n        [98, 100] in student_arr and\\\n            [87, 94] in student_arr and\\\n                [100, 98] in student_arr) == True",
    "id": "5a3bef8f6b7d4a5982a918f63fa5231f",
    "idx": 205,
    "time": "2021-02-01T05:28:39.724Z",
    "type": "execution"
   },
   {
    "id": "5a3bef8f6b7d4a5982a918f63fa5231f",
    "time": "2021-02-01T05:28:39.844Z",
    "type": "completion"
   },
   {
    "code": "# BEGIN SOLUTION\nfirst_score, second_score = zip(*scores_pairs_by_business['score_pair'])\nplt.scatter(first_score,second_score,s = 20, facecolors='none',edgecolors='b')\nplt.plot([55,100],[55,100],'r-')\nplt.xlabel('First Score')\nplt.ylabel('Second Score')\nplt.axis([55,100,55,100])\nplt.title(\"First Inspection Score vs. Second Inspection Score\");\n# END SOLUTION",
    "id": "4fa3ff8cf0b14e4d81085b4b3a121f61",
    "idx": 207,
    "time": "2021-02-01T05:28:42.070Z",
    "type": "execution"
   },
   {
    "id": "4fa3ff8cf0b14e4d81085b4b3a121f61",
    "time": "2021-02-01T05:28:42.631Z",
    "type": "completion"
   },
   {
    "code": "# Do not modify this line\nsns.set()\n\n# BEGIN SOLUTION\nins_17_to_19 = ins[(ins['year'] >= 2017) & (ins['year'] <= 2019)]\nins_vid_joined = ins_17_to_19.merge(ins2vio, on='iid').merge(vio, on='vid')\nplt.figure(figsize=(12,8))\nins_vid_joined['risk_cat'] = 0\nins_vid_joined.loc[ins_vid_joined['risk_category'] == \"Moderate Risk\" , 'risk_cat'] = 1\nins_vid_joined.loc[ins_vid_joined['risk_category'] == \"High Risk\", 'risk_cat'] = 2\nsns.boxplot(x=\"year\", y=\"score\", hue='risk_category', data=ins_vid_joined.sort_values(\"risk_cat\"), \n            linewidth=0.8);\n# END SOLUTION",
    "id": "80c6aa8d1f634b1b90026211975495c1",
    "idx": 211,
    "time": "2021-02-01T05:31:20.653Z",
    "type": "execution"
   },
   {
    "id": "80c6aa8d1f634b1b90026211975495c1",
    "time": "2021-02-01T05:31:21.281Z",
    "type": "completion"
   },
   {
    "code": "top_names = bus['name'].value_counts()[:5] # SOLUTION\ntop_names",
    "id": "c80810f6a9554ce28e2add24a63f7efc",
    "idx": 42,
    "time": "2021-02-01T05:45:06.090Z",
    "type": "execution"
   },
   {
    "id": "c80810f6a9554ce28e2add24a63f7efc",
    "time": "2021-02-01T05:45:06.276Z",
    "type": "completion"
   },
   {
    "code": "top_names = bus['name'].value_counts()[:5].index() # SOLUTION\ntop_names",
    "id": "c80810f6a9554ce28e2add24a63f7efc",
    "idx": 42,
    "time": "2021-02-01T05:45:11.553Z",
    "type": "execution"
   },
   {
    "id": "c80810f6a9554ce28e2add24a63f7efc",
    "time": "2021-02-01T05:45:11.738Z",
    "type": "completion"
   },
   {
    "code": "top_names = bus['name'].value_counts()[:5].index # SOLUTION\ntop_names",
    "id": "c80810f6a9554ce28e2add24a63f7efc",
    "idx": 42,
    "time": "2021-02-01T05:45:14.006Z",
    "type": "execution"
   },
   {
    "id": "c80810f6a9554ce28e2add24a63f7efc",
    "time": "2021-02-01T05:45:14.169Z",
    "type": "completion"
   },
   {
    "code": "top_names = np.array(bus['name'].value_counts()[:5].index) # SOLUTION\ntop_names",
    "id": "c80810f6a9554ce28e2add24a63f7efc",
    "idx": 42,
    "time": "2021-02-01T05:45:23.675Z",
    "type": "execution"
   },
   {
    "id": "c80810f6a9554ce28e2add24a63f7efc",
    "time": "2021-02-01T05:45:23.851Z",
    "type": "completion"
   },
   {
    "code": "top_names = np.array(bus['name'].va\n                     lue_counts()[:5].index) # SOLUTION\ntop_names",
    "id": "c80810f6a9554ce28e2add24a63f7efc",
    "idx": 42,
    "time": "2021-02-01T05:47:57.699Z",
    "type": "execution"
   },
   {
    "id": "c80810f6a9554ce28e2add24a63f7efc",
    "time": "2021-02-01T05:47:57.882Z",
    "type": "completion"
   },
   {
    "code": "top_names = np.array(bus['name'].value_counts()[:5].index) # SOLUTION\ntop_names",
    "id": "c80810f6a9554ce28e2add24a63f7efc",
    "idx": 42,
    "time": "2021-02-01T05:48:01.460Z",
    "type": "execution"
   },
   {
    "id": "c80810f6a9554ce28e2add24a63f7efc",
    "time": "2021-02-01T05:48:01.629Z",
    "type": "completion"
   },
   {
    "code": "# TEST\nlen(top_names) == 5",
    "id": "8ebacf00b20047aabe85c6d18ef2240c",
    "idx": 43,
    "time": "2021-02-01T05:48:01.740Z",
    "type": "execution"
   },
   {
    "id": "8ebacf00b20047aabe85c6d18ef2240c",
    "time": "2021-02-01T05:48:01.914Z",
    "type": "completion"
   },
   {
    "code": "# TEST \ntop_names[0] == \"Peet's Coffee & Tea\"",
    "id": "1ad93c86247e4a1787e95938643fed62",
    "idx": 44,
    "time": "2021-02-01T05:48:19.117Z",
    "type": "execution"
   },
   {
    "id": "1ad93c86247e4a1787e95938643fed62",
    "time": "2021-02-01T05:48:19.290Z",
    "type": "completion"
   },
   {
    "code": "# TEST\nassert type(top_names) == object\nlen(top_names) == 5",
    "id": "8ebacf00b20047aabe85c6d18ef2240c",
    "idx": 43,
    "time": "2021-02-01T05:49:48.113Z",
    "type": "execution"
   },
   {
    "id": "8ebacf00b20047aabe85c6d18ef2240c",
    "time": "2021-02-01T05:49:48.300Z",
    "type": "completion"
   },
   {
    "code": "# TEST\nprint(type(top_names))\nlen(top_names) == 5",
    "id": "8ebacf00b20047aabe85c6d18ef2240c",
    "idx": 43,
    "time": "2021-02-01T05:49:55.892Z",
    "type": "execution"
   },
   {
    "id": "8ebacf00b20047aabe85c6d18ef2240c",
    "time": "2021-02-01T05:49:56.086Z",
    "type": "completion"
   },
   {
    "code": "# TEST\nprint(type(top_names) == np.ndarray\nlen(top_names) == 5",
    "id": "8ebacf00b20047aabe85c6d18ef2240c",
    "idx": 43,
    "time": "2021-02-01T05:50:04.502Z",
    "type": "execution"
   },
   {
    "id": "8ebacf00b20047aabe85c6d18ef2240c",
    "time": "2021-02-01T05:50:04.667Z",
    "type": "completion"
   },
   {
    "code": "# TEST\nassert type(top_names) == np.ndarray\nlen(top_names) == 5",
    "id": "8ebacf00b20047aabe85c6d18ef2240c",
    "idx": 43,
    "time": "2021-02-01T05:50:10.984Z",
    "type": "execution"
   },
   {
    "id": "8ebacf00b20047aabe85c6d18ef2240c",
    "time": "2021-02-01T05:50:11.161Z",
    "type": "completion"
   },
   {
    "code": "# TEST\nprint(type(top_names) == np.ndarray)\nlen(top_names) == 5",
    "id": "8ebacf00b20047aabe85c6d18ef2240c",
    "idx": 43,
    "time": "2021-02-01T05:50:19.683Z",
    "type": "execution"
   },
   {
    "id": "8ebacf00b20047aabe85c6d18ef2240c",
    "time": "2021-02-01T05:50:19.865Z",
    "type": "completion"
   },
   {
    "code": "# HIDDEN TEST\ntop_names == np.array(bus['name'].value_counts()[:5].index)",
    "id": "97f4b267bd8a4cc9aed7a96b639a7fd6",
    "idx": 45,
    "time": "2021-02-01T05:50:58.924Z",
    "type": "execution"
   },
   {
    "id": "97f4b267bd8a4cc9aed7a96b639a7fd6",
    "time": "2021-02-01T05:50:59.104Z",
    "type": "completion"
   },
   {
    "code": "# HIDDEN TEST\nnp.all(top_names == np.array(bus['name'].value_counts()[:5].index))",
    "id": "97f4b267bd8a4cc9aed7a96b639a7fd6",
    "idx": 45,
    "time": "2021-02-01T05:51:10.547Z",
    "type": "execution"
   },
   {
    "id": "97f4b267bd8a4cc9aed7a96b639a7fd6",
    "time": "2021-02-01T05:51:10.705Z",
    "type": "completion"
   },
   {
    "code": "# TEST\nassert type(top_names) == np.ndarray\nlen(top_names) == 5",
    "id": "8ebacf00b20047aabe85c6d18ef2240c",
    "idx": 43,
    "time": "2021-02-01T05:51:17.926Z",
    "type": "execution"
   },
   {
    "id": "8ebacf00b20047aabe85c6d18ef2240c",
    "time": "2021-02-01T05:51:18.095Z",
    "type": "completion"
   },
   {
    "code": "top_addresses = np.array(bus['address'].value_counts()[:5].index) # SOLUTION\ntop_addresses",
    "id": "c6dc53481d50426cb986cb693bb734a4",
    "idx": 43,
    "time": "2021-02-01T05:52:34.495Z",
    "type": "execution"
   },
   {
    "id": "c6dc53481d50426cb986cb693bb734a4",
    "time": "2021-02-01T05:52:34.621Z",
    "type": "completion"
   },
   {
    "code": "# TEST \nassert top_names[0] == \"Peet's Coffee & Tea\"\ntop_addresses[0] == 'Off The Grid'",
    "id": "1ad93c86247e4a1787e95938643fed62",
    "idx": 45,
    "time": "2021-02-01T05:55:00.573Z",
    "type": "execution"
   },
   {
    "id": "1ad93c86247e4a1787e95938643fed62",
    "time": "2021-02-01T05:55:00.762Z",
    "type": "completion"
   },
   {
    "code": "# TEST\nassert type(top_names) == np.ndarray\nassert type(top_addresses) == np.ndarray\nassert len(top_names) == 5\nlen(top_addresses) == 5",
    "id": "8ebacf00b20047aabe85c6d18ef2240c",
    "idx": 44,
    "time": "2021-02-01T05:55:17.756Z",
    "type": "execution"
   },
   {
    "id": "8ebacf00b20047aabe85c6d18ef2240c",
    "time": "2021-02-01T05:55:17.922Z",
    "type": "completion"
   },
   {
    "code": "# TEST \nassert top_names[0] == \"Peet's Coffee & Tea\"\ntop_addresses[0] == 'Off The Grid'",
    "id": "1ad93c86247e4a1787e95938643fed62",
    "idx": 45,
    "time": "2021-02-01T05:55:24.381Z",
    "type": "execution"
   },
   {
    "id": "1ad93c86247e4a1787e95938643fed62",
    "time": "2021-02-01T05:55:24.540Z",
    "type": "completion"
   },
   {
    "code": "# HIDDEN TEST\nnp.all(top_names == np.array(bus['name'].value_counts()[:5].index))",
    "id": "97f4b267bd8a4cc9aed7a96b639a7fd6",
    "idx": 46,
    "time": "2021-02-01T05:55:26.815Z",
    "type": "execution"
   },
   {
    "id": "97f4b267bd8a4cc9aed7a96b639a7fd6",
    "time": "2021-02-01T05:55:26.962Z",
    "type": "completion"
   },
   {
    "code": "# HIDDEN TEST\nnp.all(top_addresses == np.array(bus['address'].value_counts()[:5].index))",
    "id": "becf7829d8424c0582f7e7cb7aa22c48",
    "idx": 47,
    "time": "2021-02-01T05:55:27.066Z",
    "type": "execution"
   },
   {
    "id": "becf7829d8424c0582f7e7cb7aa22c48",
    "time": "2021-02-01T05:55:27.166Z",
    "type": "completion"
   },
   {
    "code": "# What does each record represent?  Valid answers are:\n#    \"One location of a restaurant.\"\n#    \"A chain of restaurants.\"\n#    \"A city block.\"\nq2d_part1 = \"One location of a restaurant.\" # SOLUTION\n\n# What is the minimal primary key? Valid answers are:\n#    \"bid\"\n#    \"bid, name\"\n#    \"bid, name, address\"\nq2d_part2 = \"bid\" # SOLUTION",
    "id": "f1c0f66446fa45dd98ca05591db1120c",
    "idx": 45,
    "time": "2021-02-01T05:58:16.990Z",
    "type": "execution"
   },
   {
    "id": "f1c0f66446fa45dd98ca05591db1120c",
    "time": "2021-02-01T05:58:17.111Z",
    "type": "completion"
   },
   {
    "code": "# What does each record represent?  Valid answers are:\n#    \"One location of a restaurant.\"\n#    \"A chain of restaurants.\"\n#    \"A city block.\"\nq2d_part1 = \"One location of a restaurant.\" # SOLUTION\n\n# What is the minimal primary key? Valid answers are:\n#    \"bid\"\n#    \"bid, name\"\n#    \"bid, name, address\"\nq2d_part2 = \"bid\" # SOLUTION",
    "id": "f1c0f66446fa45dd98ca05591db1120c",
    "idx": 45,
    "time": "2021-02-01T05:58:49.054Z",
    "type": "execution"
   },
   {
    "id": "f1c0f66446fa45dd98ca05591db1120c",
    "time": "2021-02-01T05:58:49.144Z",
    "type": "completion"
   },
   {
    "code": "# TEST\nq2d_part1 in set([\"One location of a restaurant.\", \"A chain of restaurants.\", \"A city block.\"])",
    "id": "77decdef1f0b4ab78add46ac8885e472",
    "idx": 46,
    "time": "2021-02-01T05:58:49.182Z",
    "type": "execution"
   },
   {
    "id": "77decdef1f0b4ab78add46ac8885e472",
    "time": "2021-02-01T05:58:49.276Z",
    "type": "completion"
   },
   {
    "code": "# TEST\nq2d_part2 in set([\"bid\", \"bid, name\", \"bid, name, address\"])",
    "id": "35d3f8a22ab6422e863e24d0e88b9479",
    "idx": 47,
    "time": "2021-02-01T05:58:49.380Z",
    "type": "execution"
   },
   {
    "id": "35d3f8a22ab6422e863e24d0e88b9479",
    "time": "2021-02-01T05:58:49.493Z",
    "type": "completion"
   },
   {
    "code": "# HIDDEN TEST\nq2d_part1 == \"One location of a restaurant.\" ",
    "id": "ed981a8b711a4291bfac51649a15843c",
    "idx": 48,
    "time": "2021-02-01T05:58:49.593Z",
    "type": "execution"
   },
   {
    "id": "ed981a8b711a4291bfac51649a15843c",
    "time": "2021-02-01T05:58:49.704Z",
    "type": "completion"
   },
   {
    "code": "# HIDDEN TEST\nq2d_part2 == \"bid\"",
    "id": "eb3ac739b5c64e7d8892847c93cd34bb",
    "idx": 49,
    "time": "2021-02-01T05:58:49.801Z",
    "type": "execution"
   },
   {
    "id": "eb3ac739b5c64e7d8892847c93cd34bb",
    "time": "2021-02-01T05:58:49.909Z",
    "type": "completion"
   },
   {
    "code": "Examining the entries in `bus`, is the `bid` unique for each record (i.e. each row of data)? Your code should compute the answer, i.e. don't just hard code `True` or `False`.\n\nHint: use `value_counts()` or `unique()` to determine if the `bid` series has any duplicates.\n\n```\nBEGIN QUESTION\nname: q2b\npoints: 1\n```",
    "id": "273d9b59a69e417d8bae27e639792aff",
    "idx": 37,
    "time": "2021-02-01T06:03:47.769Z",
    "type": "execution"
   },
   {
    "id": "273d9b59a69e417d8bae27e639792aff",
    "time": "2021-02-01T06:03:47.898Z",
    "type": "completion"
   },
   {
    "code": "# HIDDEN TEST\nis_bid_unique",
    "id": "b3d396117d7540b99495ad52d765aeaa",
    "idx": 40,
    "time": "2021-02-01T06:04:16.975Z",
    "type": "execution"
   },
   {
    "id": "b3d396117d7540b99495ad52d765aeaa",
    "time": "2021-02-01T06:04:17.080Z",
    "type": "completion"
   },
   {
    "code": "bus = bus.rename(columns={\"business id column\": \"bid\"})",
    "id": "c9d8d5d3002b4722821ab5ab1a2d4297",
    "idx": 36,
    "time": "2021-02-01T06:04:19.892Z",
    "type": "execution"
   },
   {
    "id": "c9d8d5d3002b4722821ab5ab1a2d4297",
    "time": "2021-02-01T06:04:19.998Z",
    "type": "completion"
   },
   {
    "code": "is_bid_unique = bus['bid'].value_counts().max() == 1 # SOLUTION",
    "id": "6ed53ffc0d3d4af0ac532782e12a7fe5",
    "idx": 38,
    "time": "2021-02-01T06:04:20.255Z",
    "type": "execution"
   },
   {
    "id": "6ed53ffc0d3d4af0ac532782e12a7fe5",
    "time": "2021-02-01T06:04:20.345Z",
    "type": "completion"
   },
   {
    "code": "# TEST\nis_bid_unique or ~is_bid_unique",
    "id": "074ab6e990ae401e9a0ba01562f613fc",
    "idx": 39,
    "time": "2021-02-01T06:04:20.398Z",
    "type": "execution"
   },
   {
    "id": "074ab6e990ae401e9a0ba01562f613fc",
    "time": "2021-02-01T06:04:20.510Z",
    "type": "completion"
   },
   {
    "code": "# HIDDEN TEST\nis_bid_unique",
    "id": "b3d396117d7540b99495ad52d765aeaa",
    "idx": 40,
    "time": "2021-02-01T06:04:20.610Z",
    "type": "execution"
   },
   {
    "id": "b3d396117d7540b99495ad52d765aeaa",
    "time": "2021-02-01T06:04:20.891Z",
    "type": "completion"
   },
   {
    "code": "import numpy as np\nimport pandas as pd\n\nimport matplotlib\nimport matplotlib.pyplot as plt\nimport seaborn as sns\nsns.set()\nplt.style.use('fivethirtyeight')\n\nimport zipfile\nfrom pathlib import Path\nimport os # Used to interact with the file system",
    "id": "3dbc676cf49c44a5aee53c547081e94a",
    "idx": 5,
    "time": "2021-02-01T06:04:35.782Z",
    "type": "execution"
   },
   {
    "id": "3dbc676cf49c44a5aee53c547081e94a",
    "time": "2021-02-01T06:04:35.885Z",
    "type": "completion"
   },
   {
    "code": "# path to directory containing data\ndsDir = Path('data')\n\nbus = pd.read_csv(dsDir/'bus.csv', encoding='ISO-8859-1') # SOLUTION\nins2vio = pd.read_csv(dsDir/'ins2vio.csv') # SOLUTION\nins = pd.read_csv(dsDir/'ins.csv') # SOLUTION\nvio = pd.read_csv(dsDir/'vio.csv') # SOLUTION\n\n#This code is essential for the autograder to function properly. Do not edit\nins_test = ins",
    "id": "1a425a83859b41e48b586476c2461a9c",
    "idx": 8,
    "time": "2021-02-01T06:04:37.032Z",
    "type": "execution"
   },
   {
    "id": "1a425a83859b41e48b586476c2461a9c",
    "time": "2021-02-01T06:04:37.165Z",
    "type": "completion"
   },
   {
    "code": "bus.head() # SOLUTION",
    "id": "1e1393afe5e04f6086e3499c9afda45c",
    "idx": 10,
    "time": "2021-02-01T06:04:37.542Z",
    "type": "execution"
   },
   {
    "id": "1e1393afe5e04f6086e3499c9afda45c",
    "time": "2021-02-01T06:04:37.699Z",
    "type": "completion"
   },
   {
    "code": "bus.describe() # SOLUTION",
    "id": "8b2825f776c5495b9b2739f064d2546e",
    "idx": 12,
    "time": "2021-02-01T06:04:43.452Z",
    "type": "execution"
   },
   {
    "id": "8b2825f776c5495b9b2739f064d2546e",
    "time": "2021-02-01T06:04:43.672Z",
    "type": "completion"
   },
   {
    "code": "assert all(bus.columns == ['business id column', 'name', 'address', 'city', 'state', 'postal_code',\n                           'latitude', 'longitude', 'phone_number'])\nassert 6250 <= len(bus) <= 6260\n\nassert all(ins.columns == ['iid', 'date', 'score', 'type'])\nassert 26660 <= len(ins) <= 26670\n\nassert all(vio.columns == ['description', 'risk_category', 'vid'])\nassert 60 <= len(vio) <= 65\n\nassert all(ins2vio.columns == ['iid', 'vid'])\nassert 40210 <= len(ins2vio) <= 40220",
    "id": "71d65e003b564a02a0f02ecd8f5cb754",
    "idx": 15,
    "time": "2021-02-01T06:04:44.358Z",
    "type": "execution"
   },
   {
    "id": "71d65e003b564a02a0f02ecd8f5cb754",
    "time": "2021-02-01T06:04:44.436Z",
    "type": "completion"
   },
   {
    "code": "bus_summary = pd.DataFrame(**{'columns': ['business id column', 'latitude', 'longitude'],\n 'data': {'business id column': {'50%': 75685.0, 'max': 102705.0, 'min': 19.0},\n  'latitude': {'50%': -9999.0, 'max': 37.824494, 'min': -9999.0},\n  'longitude': {'50%': -9999.0,\n   'max': 0.0,\n   'min': -9999.0}},\n 'index': ['min', '50%', 'max']})\n\nins_summary = pd.DataFrame(**{'columns': ['score'],\n 'data': {'score': {'50%': 76.0, 'max': 100.0, 'min': -1.0}},\n 'index': ['min', '50%', 'max']})\n\nvio_summary = pd.DataFrame(**{'columns': ['vid'],\n 'data': {'vid': {'50%': 103135.0, 'max': 103177.0, 'min': 103102.0}},\n 'index': ['min', '50%', 'max']})\n\nfrom IPython.display import display\n\nprint('What we expect from your Businesses dataframe:')\ndisplay(bus_summary)\nprint('What we expect from your Inspections dataframe:')\ndisplay(ins_summary)\nprint('What we expect from your Violations dataframe:')\ndisplay(vio_summary)",
    "id": "4f6a42a0c5194153be5692a8bf5eb561",
    "idx": 17,
    "time": "2021-02-01T06:04:45.316Z",
    "type": "execution"
   },
   {
    "id": "4f6a42a0c5194153be5692a8bf5eb561",
    "time": "2021-02-01T06:04:45.498Z",
    "type": "completion"
   },
   {
    "code": "\"\"\"Run this cell to load this utility comparison function that we will use in various\ntests below (both tests you can see and those we run internally for grading).\n\nDo not modify the function in any way.\n\"\"\"\n\n\ndef df_allclose(actual, desired, columns=None, rtol=5e-2):\n    \"\"\"Compare selected columns of two dataframes on a few summary statistics.\n    \n    Compute the min, median and max of the two dataframes on the given columns, and compare\n    that they match numerically to the given relative tolerance.\n    \n    If they don't match, an AssertionError is raised (by `numpy.testing`).\n    \"\"\"    \n    # summary statistics to compare on\n    stats = ['min', '50%', 'max']\n    \n    # For the desired values, we can provide a full DF with the same structure as\n    # the actual data, or pre-computed summary statistics.\n    # We assume a pre-computed summary was provided if columns is None. In that case, \n    # `desired` *must* have the same structure as the actual's summary\n    if columns is None:\n        des = desired\n        columns = desired.columns\n    else:\n        des = desired[columns].describe().loc[stats]\n\n    # Extract summary stats from actual DF\n    act = actual[columns].describe().loc[stats]\n\n    return np.allclose(act, des, rtol)",
    "id": "dd0a15d8ab8c488aa670eaa03251f0de",
    "idx": 20,
    "time": "2021-02-01T06:04:54.835Z",
    "type": "execution"
   },
   {
    "code": "# TEST\ndf_allclose(bus.rename(columns = {\"bid\" : \"business id column\"}), bus_summary)",
    "id": "e28a5e13e3234baeb53c7662ac9a7855",
    "idx": 21,
    "time": "2021-02-01T06:04:54.958Z",
    "type": "execution"
   },
   {
    "code": "# TEST\ndf_allclose(ins_test, ins_summary)",
    "id": "5dd44b0e57e8487088a4acb56bf2f21e",
    "idx": 22,
    "time": "2021-02-01T06:04:55.135Z",
    "type": "execution"
   },
   {
    "id": "dd0a15d8ab8c488aa670eaa03251f0de",
    "time": "2021-02-01T06:04:55.204Z",
    "type": "completion"
   },
   {
    "code": "# TEST\ndf_allclose(vio, vio_summary)",
    "id": "53e885acc2b6477d9456e79ba654d3ea",
    "idx": 23,
    "time": "2021-02-01T06:04:55.244Z",
    "type": "execution"
   },
   {
    "code": "# TEST\ndf_allclose(ins2vio, vio_summary)",
    "id": "a76271c0f1604bf583f31a10bc0a8a92",
    "idx": 24,
    "time": "2021-02-01T06:04:55.401Z",
    "type": "execution"
   },
   {
    "id": "e28a5e13e3234baeb53c7662ac9a7855",
    "time": "2021-02-01T06:04:55.482Z",
    "type": "completion"
   },
   {
    "id": "5dd44b0e57e8487088a4acb56bf2f21e",
    "time": "2021-02-01T06:04:55.485Z",
    "type": "completion"
   },
   {
    "code": "# HIDDEN TEST\ndf_allclose(bus.rename(columns = {\"bid\" : \"business id column\"}), pd.read_csv(dsDir/'bus.csv', encoding='ISO-8859-1'), ['business id column', 'latitude', 'longitude'])",
    "id": "0127407935d8490b9e44e9462d377dc9",
    "idx": 25,
    "time": "2021-02-01T06:04:55.586Z",
    "type": "execution"
   },
   {
    "code": "# HIDDEN TEST\ndf_allclose(ins_test, pd.read_csv(dsDir/'ins.csv'), ['iid', 'score'])",
    "id": "62ee3d550a6943b2b3fed1d0c2ba13c6",
    "idx": 26,
    "time": "2021-02-01T06:04:55.684Z",
    "type": "execution"
   },
   {
    "code": "# HIDDEN TEST\ndf_allclose(vio, pd.read_csv(dsDir/'vio.csv'), ['vid'])",
    "id": "1dadb4a62fb34c958ae921f98683542a",
    "idx": 27,
    "time": "2021-02-01T06:04:55.834Z",
    "type": "execution"
   },
   {
    "id": "53e885acc2b6477d9456e79ba654d3ea",
    "time": "2021-02-01T06:04:55.921Z",
    "type": "completion"
   },
   {
    "code": "# HIDDEN TEST\ndf_allclose(ins2vio, pd.read_csv(dsDir/'ins2vio.csv'), ['vid'])",
    "id": "0f44268e47364e6295b6294e868c0e62",
    "idx": 28,
    "time": "2021-02-01T06:04:55.983Z",
    "type": "execution"
   },
   {
    "id": "a76271c0f1604bf583f31a10bc0a8a92",
    "time": "2021-02-01T06:04:56.054Z",
    "type": "completion"
   },
   {
    "id": "0127407935d8490b9e44e9462d377dc9",
    "time": "2021-02-01T06:04:56.057Z",
    "type": "completion"
   },
   {
    "id": "62ee3d550a6943b2b3fed1d0c2ba13c6",
    "time": "2021-02-01T06:04:56.060Z",
    "type": "completion"
   },
   {
    "id": "1dadb4a62fb34c958ae921f98683542a",
    "time": "2021-02-01T06:04:56.064Z",
    "type": "completion"
   },
   {
    "id": "0f44268e47364e6295b6294e868c0e62",
    "time": "2021-02-01T06:04:56.333Z",
    "type": "completion"
   },
   {
    "code": "bus.head()",
    "id": "b9b0cf94d407458485dba303b1b8a5dd",
    "idx": 34,
    "time": "2021-02-01T06:05:03.539Z",
    "type": "execution"
   },
   {
    "id": "b9b0cf94d407458485dba303b1b8a5dd",
    "time": "2021-02-01T06:05:03.697Z",
    "type": "completion"
   },
   {
    "code": "bus = bus.rename(columns={\"business id column\": \"bid\"})",
    "id": "c9d8d5d3002b4722821ab5ab1a2d4297",
    "idx": 36,
    "time": "2021-02-01T06:05:03.970Z",
    "type": "execution"
   },
   {
    "id": "c9d8d5d3002b4722821ab5ab1a2d4297",
    "time": "2021-02-01T06:05:04.045Z",
    "type": "completion"
   },
   {
    "code": "is_bid_unique = bus['bid'].value_counts().max() == 1 # SOLUTION",
    "id": "6ed53ffc0d3d4af0ac532782e12a7fe5",
    "idx": 38,
    "time": "2021-02-01T06:05:04.468Z",
    "type": "execution"
   },
   {
    "id": "6ed53ffc0d3d4af0ac532782e12a7fe5",
    "time": "2021-02-01T06:05:04.574Z",
    "type": "completion"
   },
   {
    "code": "# TEST\nis_bid_unique or ~is_bid_unique",
    "id": "074ab6e990ae401e9a0ba01562f613fc",
    "idx": 39,
    "time": "2021-02-01T06:05:04.710Z",
    "type": "execution"
   },
   {
    "id": "074ab6e990ae401e9a0ba01562f613fc",
    "time": "2021-02-01T06:05:04.849Z",
    "type": "completion"
   },
   {
    "code": "# HIDDEN TEST\nis_bid_unique",
    "id": "b3d396117d7540b99495ad52d765aeaa",
    "idx": 40,
    "time": "2021-02-01T06:05:06.039Z",
    "type": "execution"
   },
   {
    "id": "b3d396117d7540b99495ad52d765aeaa",
    "time": "2021-02-01T06:05:06.200Z",
    "type": "completion"
   },
   {
    "code": "is_bid_unique = bus['bid'].value_counts().max() == 1 # SOLUTION",
    "id": "6ed53ffc0d3d4af0ac532782e12a7fe5",
    "idx": 38,
    "time": "2021-02-01T06:05:11.835Z",
    "type": "execution"
   },
   {
    "id": "6ed53ffc0d3d4af0ac532782e12a7fe5",
    "time": "2021-02-01T06:05:11.929Z",
    "type": "completion"
   },
   {
    "code": "# TEST\nis_bid_unique or ~is_bid_unique",
    "id": "074ab6e990ae401e9a0ba01562f613fc",
    "idx": 39,
    "time": "2021-02-01T06:05:12.028Z",
    "type": "execution"
   },
   {
    "code": "# HIDDEN TEST\nis_bid_unique",
    "id": "b3d396117d7540b99495ad52d765aeaa",
    "idx": 40,
    "time": "2021-02-01T06:05:12.177Z",
    "type": "execution"
   },
   {
    "id": "074ab6e990ae401e9a0ba01562f613fc",
    "time": "2021-02-01T06:05:12.384Z",
    "type": "completion"
   },
   {
    "id": "b3d396117d7540b99495ad52d765aeaa",
    "time": "2021-02-01T06:05:12.387Z",
    "type": "completion"
   },
   {
    "code": "top_names = np.array(bus['name'].value_counts()[:5].index) # SOLUTION\ntop_names",
    "id": "c80810f6a9554ce28e2add24a63f7efc",
    "idx": 42,
    "time": "2021-02-01T06:05:18.522Z",
    "type": "execution"
   },
   {
    "id": "c80810f6a9554ce28e2add24a63f7efc",
    "time": "2021-02-01T06:05:18.669Z",
    "type": "completion"
   },
   {
    "code": "top_addresses = np.array(bus['address'].value_counts()[:5].index) # SOLUTION\ntop_addresses",
    "id": "c6dc53481d50426cb986cb693bb734a4",
    "idx": 43,
    "time": "2021-02-01T06:05:18.773Z",
    "type": "execution"
   },
   {
    "code": "# TEST\nassert type(top_names) == np.ndarray\nassert type(top_addresses) == np.ndarray\nassert len(top_names) == 5\nlen(top_addresses) == 5",
    "id": "8ebacf00b20047aabe85c6d18ef2240c",
    "idx": 44,
    "time": "2021-02-01T06:05:18.957Z",
    "type": "execution"
   },
   {
    "code": "# TEST \nassert top_names[0] == \"Peet's Coffee & Tea\"\ntop_addresses[0] == 'Off The Grid'",
    "id": "1ad93c86247e4a1787e95938643fed62",
    "idx": 45,
    "time": "2021-02-01T06:05:19.111Z",
    "type": "execution"
   },
   {
    "id": "c6dc53481d50426cb986cb693bb734a4",
    "time": "2021-02-01T06:05:19.188Z",
    "type": "completion"
   },
   {
    "id": "8ebacf00b20047aabe85c6d18ef2240c",
    "time": "2021-02-01T06:05:19.191Z",
    "type": "completion"
   },
   {
    "id": "1ad93c86247e4a1787e95938643fed62",
    "time": "2021-02-01T06:05:19.288Z",
    "type": "completion"
   },
   {
    "code": "# HIDDEN TEST\nnp.all(top_names == np.array(bus['name'].value_counts()[:5].index))",
    "id": "97f4b267bd8a4cc9aed7a96b639a7fd6",
    "idx": 46,
    "time": "2021-02-01T06:05:19.450Z",
    "type": "execution"
   },
   {
    "id": "97f4b267bd8a4cc9aed7a96b639a7fd6",
    "time": "2021-02-01T06:05:19.599Z",
    "type": "completion"
   },
   {
    "code": "# HIDDEN TEST\nnp.all(top_addresses == np.array(bus['address'].value_counts()[:5].index))",
    "id": "becf7829d8424c0582f7e7cb7aa22c48",
    "idx": 47,
    "time": "2021-02-01T06:05:19.852Z",
    "type": "execution"
   },
   {
    "id": "becf7829d8424c0582f7e7cb7aa22c48",
    "time": "2021-02-01T06:05:19.981Z",
    "type": "completion"
   },
   {
    "code": "# What does each record represent?  Valid answers are:\n#    \"One location of a restaurant.\"\n#    \"A chain of restaurants.\"\n#    \"A city block.\"\nq2d_part1 = \"One location of a restaurant.\" # SOLUTION\n\n# What is the minimal primary key? Valid answers are:\n#    \"bid\"\n#    \"bid, name\"\n#    \"bid, name, address\"\nq2d_part2 = \"bid\" # SOLUTION",
    "id": "f1c0f66446fa45dd98ca05591db1120c",
    "idx": 49,
    "time": "2021-02-01T06:05:26.456Z",
    "type": "execution"
   },
   {
    "id": "f1c0f66446fa45dd98ca05591db1120c",
    "time": "2021-02-01T06:05:26.547Z",
    "type": "completion"
   },
   {
    "code": "# TEST\nq2d_part1 in set([\"One location of a restaurant.\", \"A chain of restaurants.\", \"A city block.\"])",
    "id": "77decdef1f0b4ab78add46ac8885e472",
    "idx": 50,
    "time": "2021-02-01T06:05:27.129Z",
    "type": "execution"
   },
   {
    "id": "77decdef1f0b4ab78add46ac8885e472",
    "time": "2021-02-01T06:05:27.268Z",
    "type": "completion"
   },
   {
    "code": "# TEST\nq2d_part2 in set([\"bid\", \"bid, name\", \"bid, name, address\"])",
    "id": "35d3f8a22ab6422e863e24d0e88b9479",
    "idx": 51,
    "time": "2021-02-01T06:05:27.364Z",
    "type": "execution"
   },
   {
    "code": "# HIDDEN TEST\nq2d_part1 == \"One location of a restaurant.\" ",
    "id": "ed981a8b711a4291bfac51649a15843c",
    "idx": 52,
    "time": "2021-02-01T06:05:27.520Z",
    "type": "execution"
   },
   {
    "code": "# HIDDEN TEST\nq2d_part2 == \"bid\"",
    "id": "eb3ac739b5c64e7d8892847c93cd34bb",
    "idx": 53,
    "time": "2021-02-01T06:05:27.690Z",
    "type": "execution"
   },
   {
    "id": "35d3f8a22ab6422e863e24d0e88b9479",
    "time": "2021-02-01T06:05:27.732Z",
    "type": "completion"
   },
   {
    "id": "ed981a8b711a4291bfac51649a15843c",
    "time": "2021-02-01T06:05:27.735Z",
    "type": "completion"
   },
   {
    "id": "eb3ac739b5c64e7d8892847c93cd34bb",
    "time": "2021-02-01T06:05:27.842Z",
    "type": "completion"
   },
   {
    "code": "zip_counts = bus.groupby(\"postal_code\").size().sort_values(ascending=False) # SOLUTION\nprint(zip_counts.to_string())",
    "id": "e882ef0410fc466080cbac4f807e1426",
    "idx": 56,
    "time": "2021-02-01T06:06:11.681Z",
    "type": "execution"
   },
   {
    "code": "# TEST\ntype(zip_counts) == pd.Series",
    "id": "9118841bd7b14373819355a5aa1bacb5",
    "idx": 57,
    "time": "2021-02-01T06:06:11.900Z",
    "type": "execution"
   },
   {
    "id": "e882ef0410fc466080cbac4f807e1426",
    "time": "2021-02-01T06:06:12.034Z",
    "type": "completion"
   },
   {
    "id": "9118841bd7b14373819355a5aa1bacb5",
    "time": "2021-02-01T06:06:12.051Z",
    "type": "completion"
   },
   {
    "code": "# TEST\nzip_counts.shape[0] == 63",
    "id": "68bb60b8bdf64938bd8f0931a952886b",
    "idx": 58,
    "time": "2021-02-01T06:06:12.643Z",
    "type": "execution"
   },
   {
    "code": "# TEST\nzip_counts[\"94103\"] == 562",
    "id": "cc490af0a5ad4e2380d8d8b4aa9349cd",
    "idx": 59,
    "time": "2021-02-01T06:06:12.798Z",
    "type": "execution"
   },
   {
    "id": "68bb60b8bdf64938bd8f0931a952886b",
    "time": "2021-02-01T06:06:12.867Z",
    "type": "completion"
   },
   {
    "id": "cc490af0a5ad4e2380d8d8b4aa9349cd",
    "time": "2021-02-01T06:06:12.907Z",
    "type": "completion"
   },
   {
    "code": "# HIDDEN TEST\nnp.isclose(zip_counts.var(), bus['postal_code'].value_counts().var())",
    "id": "6448504c8d944476979daf326355c12d",
    "idx": 60,
    "time": "2021-02-01T06:06:13.013Z",
    "type": "execution"
   },
   {
    "code": "# HIDDEN TEST\nnp.isclose(zip_counts.mean(), bus['postal_code'].value_counts().mean())",
    "id": "769030ed3b1b40ce8971e4577f497a1e",
    "idx": 61,
    "time": "2021-02-01T06:06:13.159Z",
    "type": "execution"
   },
   {
    "id": "6448504c8d944476979daf326355c12d",
    "time": "2021-02-01T06:06:13.370Z",
    "type": "completion"
   },
   {
    "id": "769030ed3b1b40ce8971e4577f497a1e",
    "time": "2021-02-01T06:06:13.373Z",
    "type": "completion"
   },
   {
    "code": "# The ZIP code column is which of the following type of data:\n#   \"Quantitative Continuous\" \n#   \"Quantitative Discrete\"\n#   \"Qualitative Ordinal\"\n#   \"Qualitative Nominal\"\nq3b_part1 = \"Qualitative Nominal\" # SOLUTION\n\n# What Python data type is used to represent a ZIP code? \n#    \"str\"\n#    \"int\"\n#    \"bool\"\n#    \"float\"\nq3b_part2 = \"str\" # SOLUTION",
    "id": "25d9a418bf484c668d3c665809b8efcc",
    "idx": 63,
    "time": "2021-02-01T06:06:19.217Z",
    "type": "execution"
   },
   {
    "id": "25d9a418bf484c668d3c665809b8efcc",
    "time": "2021-02-01T06:06:19.395Z",
    "type": "completion"
   },
   {
    "code": "# TEST\nq3b_part1 in set([\"Quantitative Continuous\", \"Quantitative Discrete\", \n                  \"Qualitative Ordinal\", \"Qualitative Nominal\"])",
    "id": "231a409b36c04e0689a30d583068cfcd",
    "idx": 64,
    "time": "2021-02-01T06:06:19.421Z",
    "type": "execution"
   },
   {
    "id": "231a409b36c04e0689a30d583068cfcd",
    "time": "2021-02-01T06:06:19.580Z",
    "type": "completion"
   },
   {
    "code": "# TEST\nq3b_part2 in set([\"str\", \"int\", \"bool\", \"float\"])",
    "id": "211685cc7c8d49219406905eebf5c83f",
    "idx": 65,
    "time": "2021-02-01T06:06:19.681Z",
    "type": "execution"
   },
   {
    "code": "# HIDDEN TEST\nq3b_part1 == \"Qualitative Nominal\"",
    "id": "99ae171888884bcd913a5bb4b74e7d94",
    "idx": 66,
    "time": "2021-02-01T06:06:19.838Z",
    "type": "execution"
   },
   {
    "code": "# HIDDEN TEST\nq3b_part2 == \"str\"",
    "id": "1bc6fcb482b943588b04bce1a0c7de4b",
    "idx": 67,
    "time": "2021-02-01T06:06:19.998Z",
    "type": "execution"
   },
   {
    "id": "211685cc7c8d49219406905eebf5c83f",
    "time": "2021-02-01T06:06:20.054Z",
    "type": "completion"
   },
   {
    "id": "99ae171888884bcd913a5bb4b74e7d94",
    "time": "2021-02-01T06:06:20.057Z",
    "type": "completion"
   },
   {
    "id": "1bc6fcb482b943588b04bce1a0c7de4b",
    "time": "2021-02-01T06:06:20.198Z",
    "type": "completion"
   },
   {
    "code": "# The ZIP code column is which of the following type of data:\n#   \"Quantitative Continuous\" \n#   \"Quantitative Discrete\"\n#   \"Qualitative Ordinal\"\n#   \"Qualitative Nominal\"\nq3b_part1 = \"Qualitative Nominal\" # SOLUTION\n\n# What Python data type is used to represent a ZIP code? \n#    \"str\"\n#    \"int\"\n#    \"bool\"\n#    \"float\"\nq3b_part2 = \"str\" # SOLUTION",
    "id": "25d9a418bf484c668d3c665809b8efcc",
    "idx": 63,
    "time": "2021-02-01T06:06:28.927Z",
    "type": "execution"
   },
   {
    "id": "25d9a418bf484c668d3c665809b8efcc",
    "time": "2021-02-01T06:06:29.103Z",
    "type": "completion"
   },
   {
    "code": "# TEST\nq3b_part1 in set([\"Quantitative Continuous\", \"Quantitative Discrete\", \n                  \"Qualitative Ordinal\", \"Qualitative Nominal\"])",
    "id": "231a409b36c04e0689a30d583068cfcd",
    "idx": 64,
    "time": "2021-02-01T06:06:29.136Z",
    "type": "execution"
   },
   {
    "code": "# TEST\nq3b_part2 in set([\"str\", \"int\", \"bool\", \"float\"])",
    "id": "211685cc7c8d49219406905eebf5c83f",
    "idx": 65,
    "time": "2021-02-01T06:06:29.280Z",
    "type": "execution"
   },
   {
    "code": "# HIDDEN TEST\nq3b_part1 == \"Qualitative Nominal\"",
    "id": "99ae171888884bcd913a5bb4b74e7d94",
    "idx": 66,
    "time": "2021-02-01T06:06:29.449Z",
    "type": "execution"
   },
   {
    "id": "231a409b36c04e0689a30d583068cfcd",
    "time": "2021-02-01T06:06:29.517Z",
    "type": "completion"
   },
   {
    "id": "211685cc7c8d49219406905eebf5c83f",
    "time": "2021-02-01T06:06:29.519Z",
    "type": "completion"
   },
   {
    "id": "99ae171888884bcd913a5bb4b74e7d94",
    "time": "2021-02-01T06:06:29.614Z",
    "type": "completion"
   },
   {
    "code": "# HIDDEN TEST\nq3b_part2 == \"str\"",
    "id": "1bc6fcb482b943588b04bce1a0c7de4b",
    "idx": 67,
    "time": "2021-02-01T06:06:29.717Z",
    "type": "execution"
   },
   {
    "id": "1bc6fcb482b943588b04bce1a0c7de4b",
    "time": "2021-02-01T06:06:29.926Z",
    "type": "completion"
   },
   {
    "code": "valid_zips = pd.read_json(\"data/sf_zipcodes.json\", dtype=\"str\")['zip_codes'] # SOLUTION\nvalid_zips.head()",
    "id": "3276026019924a7e8f3300c100e47129",
    "idx": 70,
    "time": "2021-02-01T06:06:39.507Z",
    "type": "execution"
   },
   {
    "id": "3276026019924a7e8f3300c100e47129",
    "time": "2021-02-01T06:06:39.690Z",
    "type": "completion"
   },
   {
    "code": "# TEST\nvalid_zips.dtype == object ",
    "id": "b8956d35377e48cb82d90d99122e2388",
    "idx": 71,
    "time": "2021-02-01T06:06:41.274Z",
    "type": "execution"
   },
   {
    "id": "b8956d35377e48cb82d90d99122e2388",
    "time": "2021-02-01T06:06:41.426Z",
    "type": "completion"
   },
   {
    "code": "# TEST\ntype(valid_zips) == pd.Series",
    "id": "0b186b10e2d84dbc83c681fc0f23042b",
    "idx": 72,
    "time": "2021-02-01T06:06:41.921Z",
    "type": "execution"
   },
   {
    "id": "0b186b10e2d84dbc83c681fc0f23042b",
    "time": "2021-02-01T06:06:42.114Z",
    "type": "completion"
   },
   {
    "code": "# HIDDEN TEST\nnp.all(valid_zips.sort_values() == pd.read_json(\"data/sf_zipcodes.json\", dtype=\"str\")['zip_codes'].sort_values()) ",
    "id": "58227a37f3e64f7ba767f5756e357350",
    "idx": 73,
    "time": "2021-02-01T06:06:42.225Z",
    "type": "execution"
   },
   {
    "id": "58227a37f3e64f7ba767f5756e357350",
    "time": "2021-02-01T06:06:42.490Z",
    "type": "completion"
   },
   {
    "code": "invalid_zip_bus = bus[~bus['postal_code'].isin(valid_zips)] # SOLUTION\ninvalid_zip_bus.head(20)",
    "id": "d908669600dd42418c82b1d65e126f5b",
    "idx": 75,
    "time": "2021-02-01T06:06:44.971Z",
    "type": "execution"
   },
   {
    "id": "d908669600dd42418c82b1d65e126f5b",
    "time": "2021-02-01T06:06:45.130Z",
    "type": "completion"
   },
   {
    "code": "invalid_zip_bus = bus[~bus['postal_code'].isin(valid_zips)] # SOLUTION\ninvalid_zip_bus.head(20)",
    "id": "d908669600dd42418c82b1d65e126f5b",
    "idx": 75,
    "time": "2021-02-01T06:06:48.448Z",
    "type": "execution"
   },
   {
    "code": "# TEST\ntype(invalid_zip_bus) == pd.DataFrame",
    "id": "3c00c0f050aa46bb8a3635b730b3418e",
    "idx": 76,
    "time": "2021-02-01T06:06:48.522Z",
    "type": "execution"
   },
   {
    "code": "# TEST\nlen(invalid_zip_bus) == 230",
    "id": "9a5f7160acc74e72848f7ebe1dc3e3a1",
    "idx": 77,
    "time": "2021-02-01T06:06:48.663Z",
    "type": "execution"
   },
   {
    "id": "d908669600dd42418c82b1d65e126f5b",
    "time": "2021-02-01T06:06:48.886Z",
    "type": "completion"
   },
   {
    "id": "3c00c0f050aa46bb8a3635b730b3418e",
    "time": "2021-02-01T06:06:48.888Z",
    "type": "completion"
   },
   {
    "id": "9a5f7160acc74e72848f7ebe1dc3e3a1",
    "time": "2021-02-01T06:06:48.892Z",
    "type": "completion"
   },
   {
    "code": "# HIDDEN TEST\nset(invalid_zip_bus['postal_code']) == set(bus[~bus['postal_code'].isin(valid_zips)]['postal_code'])",
    "id": "75f0f74e78f645ee8ba3ecd0b5bd7d44",
    "idx": 78,
    "time": "2021-02-01T06:06:49.504Z",
    "type": "execution"
   },
   {
    "id": "75f0f74e78f645ee8ba3ecd0b5bd7d44",
    "time": "2021-02-01T06:06:49.643Z",
    "type": "completion"
   },
   {
    "code": "missing_zip_address_count = bus[bus['postal_code'] == \"-9999\"]['address'].value_counts() # SOLUTION\nmissing_zip_address_count.head()",
    "id": "4550a0c50ac349199b6eac4e2d6009b8",
    "idx": 80,
    "time": "2021-02-01T06:06:50.809Z",
    "type": "execution"
   },
   {
    "id": "4550a0c50ac349199b6eac4e2d6009b8",
    "time": "2021-02-01T06:06:50.951Z",
    "type": "completion"
   },
   {
    "code": "missing_zip_address_count = bus[bus['postal_code'] == \"-9999\"]['address'].value_counts() # SOLUTION\nmissing_zip_address_count.head()",
    "id": "4550a0c50ac349199b6eac4e2d6009b8",
    "idx": 80,
    "time": "2021-02-01T06:06:56.286Z",
    "type": "execution"
   },
   {
    "id": "4550a0c50ac349199b6eac4e2d6009b8",
    "time": "2021-02-01T06:06:56.433Z",
    "type": "completion"
   },
   {
    "code": "# TEST\ntype(missing_zip_address_count) == pd.Series",
    "id": "239f90b16f49466f9585a0e49c93fa81",
    "idx": 81,
    "time": "2021-02-01T06:06:56.947Z",
    "type": "execution"
   },
   {
    "id": "239f90b16f49466f9585a0e49c93fa81",
    "time": "2021-02-01T06:06:57.099Z",
    "type": "completion"
   },
   {
    "code": "# TEST\nlen(missing_zip_address_count) == 135",
    "id": "47a7be6fbf2643248085627ea4f59ce7",
    "idx": 82,
    "time": "2021-02-01T06:06:57.548Z",
    "type": "execution"
   },
   {
    "id": "47a7be6fbf2643248085627ea4f59ce7",
    "time": "2021-02-01T06:06:57.692Z",
    "type": "completion"
   },
   {
    "code": "# TEST\nmissing_zip_address_count['3914 Judah St'] == 1",
    "id": "f768d975a0de4dfa86a6e01aaced95e6",
    "idx": 83,
    "time": "2021-02-01T06:06:57.890Z",
    "type": "execution"
   },
   {
    "id": "f768d975a0de4dfa86a6e01aaced95e6",
    "time": "2021-02-01T06:06:58.027Z",
    "type": "completion"
   },
   {
    "code": "# HIDDEN TEST\nmissing_zip_address_count['Off The Grid'] == 39",
    "id": "e76b006a0dfb4441bad4d7e981eab2d4",
    "idx": 84,
    "time": "2021-02-01T06:06:59.254Z",
    "type": "execution"
   },
   {
    "id": "e76b006a0dfb4441bad4d7e981eab2d4",
    "time": "2021-02-01T06:06:59.430Z",
    "type": "completion"
   },
   {
    "code": "# True or False: \n#  If we were to drop businesses with MISSING postal code values \n#   a particular class of business be affected.\nq3d_true_or_false = True # SOLUTION",
    "id": "9675d25fa8734cdc8bd5be188d69f171",
    "idx": 86,
    "time": "2021-02-01T06:07:14.075Z",
    "type": "execution"
   },
   {
    "code": "# TEST\ntype(q3d_true_or_false) == bool",
    "id": "911c2484318c48fd8fe4c7a8a09d6658",
    "idx": 87,
    "time": "2021-02-01T06:07:14.156Z",
    "type": "execution"
   },
   {
    "code": "# HIDDEN TEST\nq3d_true_or_false == True",
    "id": "7052af80d73649d28b9db3412a1b5019",
    "idx": 88,
    "time": "2021-02-01T06:07:14.309Z",
    "type": "execution"
   },
   {
    "id": "9675d25fa8734cdc8bd5be188d69f171",
    "time": "2021-02-01T06:07:14.469Z",
    "type": "completion"
   },
   {
    "id": "911c2484318c48fd8fe4c7a8a09d6658",
    "time": "2021-02-01T06:07:14.474Z",
    "type": "completion"
   },
   {
    "id": "7052af80d73649d28b9db3412a1b5019",
    "time": "2021-02-01T06:07:14.476Z",
    "type": "completion"
   },
   {
    "code": "bus['postal5'] = None\n# BEGIN SOLUTION\nbus['postal5'] = bus['postal_code'].str[:5]\nbus.loc[~bus['postal5'].isin(valid_zips), 'postal5'] = None \n# END SOLUTION\n\n# Checking the corrected postal5 column\nbus.loc[invalid_zip_bus.index, ['bid', 'name', 'postal_code', 'postal5']]",
    "id": "3d8ebbb447df46f1869787d1c15ff04a",
    "idx": 90,
    "time": "2021-02-01T06:07:22.354Z",
    "type": "execution"
   },
   {
    "id": "3d8ebbb447df46f1869787d1c15ff04a",
    "time": "2021-02-01T06:07:22.534Z",
    "type": "completion"
   },
   {
    "code": "# TEST\n'postal5' in bus.columns",
    "id": "f5bd9042e56b49ea8a3e7a14bb9f554e",
    "idx": 91,
    "time": "2021-02-01T06:07:23.091Z",
    "type": "execution"
   },
   {
    "id": "f5bd9042e56b49ea8a3e7a14bb9f554e",
    "time": "2021-02-01T06:07:23.235Z",
    "type": "completion"
   },
   {
    "code": "# TEST\n(bus['postal5'].str.len() != 5).sum() == 221",
    "id": "20db60c372de42658571553c5df66dab",
    "idx": 92,
    "time": "2021-02-01T06:07:23.665Z",
    "type": "execution"
   },
   {
    "id": "20db60c372de42658571553c5df66dab",
    "time": "2021-02-01T06:07:23.837Z",
    "type": "completion"
   },
   {
    "code": "# TEST\nbus['postal5'].isin(valid_zips).sum() == 6032",
    "id": "78be5bb1a84543658437bc7f4074cbdc",
    "idx": 93,
    "time": "2021-02-01T06:07:23.935Z",
    "type": "execution"
   },
   {
    "code": "# TEST\nbus['postal5'].isna().sum() == 221",
    "id": "dc63fbba04ae40df8d7a7d733e0c3bd6",
    "idx": 94,
    "time": "2021-02-01T06:07:24.010Z",
    "type": "execution"
   },
   {
    "id": "78be5bb1a84543658437bc7f4074cbdc",
    "time": "2021-02-01T06:07:24.157Z",
    "type": "completion"
   },
   {
    "code": "# HIDDEN TEST\n(bus['postal5'] == \"-9999\").sum() == 0",
    "id": "89c9fa7e38df4d67875672af416e05d5",
    "idx": 95,
    "time": "2021-02-01T06:07:24.172Z",
    "type": "execution"
   },
   {
    "id": "dc63fbba04ae40df8d7a7d733e0c3bd6",
    "time": "2021-02-01T06:07:24.238Z",
    "type": "completion"
   },
   {
    "code": "# HIDDEN TEST\nbus['postal5'].isna().sum() == 221",
    "id": "260560192b84473c8ffd4d43528e7b7d",
    "idx": 96,
    "time": "2021-02-01T06:07:24.321Z",
    "type": "execution"
   },
   {
    "id": "89c9fa7e38df4d67875672af416e05d5",
    "time": "2021-02-01T06:07:24.374Z",
    "type": "completion"
   },
   {
    "id": "260560192b84473c8ffd4d43528e7b7d",
    "time": "2021-02-01T06:07:24.428Z",
    "type": "completion"
   },
   {
    "code": "ins.head(5)",
    "id": "458d8e395b56403fa5c4597a98183566",
    "idx": 99,
    "time": "2021-02-01T06:07:33.873Z",
    "type": "execution"
   },
   {
    "id": "458d8e395b56403fa5c4597a98183566",
    "time": "2021-02-01T06:07:34.017Z",
    "type": "completion"
   },
   {
    "code": "is_ins_iid_a_primary_key = ins['iid'].value_counts().max() == 1 # SOLUTION",
    "id": "122dd2de2e95494ca570aa52a8e867f2",
    "idx": 101,
    "time": "2021-02-01T06:07:34.261Z",
    "type": "execution"
   },
   {
    "id": "122dd2de2e95494ca570aa52a8e867f2",
    "time": "2021-02-01T06:07:34.355Z",
    "type": "completion"
   },
   {
    "code": "# TEST\ntype(is_ins_iid_a_primary_key) == bool or type(is_ins_iid_a_primary_key) == np.bool_",
    "id": "7c27d95925ee4712874724bf662de407",
    "idx": 102,
    "time": "2021-02-01T06:07:34.450Z",
    "type": "execution"
   },
   {
    "id": "7c27d95925ee4712874724bf662de407",
    "time": "2021-02-01T06:07:34.585Z",
    "type": "completion"
   },
   {
    "code": "# HIDDEN TEST\nis_ins_iid_a_primary_key == True",
    "id": "ebecf3e7b7844a4f998893ddb8bc15fc",
    "idx": 103,
    "time": "2021-02-01T06:07:34.927Z",
    "type": "execution"
   },
   {
    "id": "ebecf3e7b7844a4f998893ddb8bc15fc",
    "time": "2021-02-01T06:07:35.075Z",
    "type": "completion"
   },
   {
    "code": "is_ins_iid_a_primary_key = ins['iid'].value_counts().max() == 1 # SOLUTION",
    "id": "122dd2de2e95494ca570aa52a8e867f2",
    "idx": 101,
    "time": "2021-02-01T06:07:48.368Z",
    "type": "execution"
   },
   {
    "id": "122dd2de2e95494ca570aa52a8e867f2",
    "time": "2021-02-01T06:07:48.460Z",
    "type": "completion"
   },
   {
    "code": "# TEST\ntype(is_ins_iid_a_primary_key) == bool or type(is_ins_iid_a_primary_key) == np.bool_",
    "id": "7c27d95925ee4712874724bf662de407",
    "idx": 102,
    "time": "2021-02-01T06:07:49.110Z",
    "type": "execution"
   },
   {
    "id": "7c27d95925ee4712874724bf662de407",
    "time": "2021-02-01T06:07:49.269Z",
    "type": "completion"
   },
   {
    "code": "# HIDDEN TEST\nis_ins_iid_a_primary_key == True",
    "id": "ebecf3e7b7844a4f998893ddb8bc15fc",
    "idx": 103,
    "time": "2021-02-01T06:07:49.384Z",
    "type": "execution"
   },
   {
    "id": "ebecf3e7b7844a4f998893ddb8bc15fc",
    "time": "2021-02-01T06:07:49.507Z",
    "type": "completion"
   },
   {
    "code": "ins['bid'] = ins['iid'].str.split(\"_\", expand=True)[0].astype(int) # SOLUTION",
    "id": "92fb34dc84924de086652dcfe30dd241",
    "idx": 106,
    "time": "2021-02-01T06:08:02.018Z",
    "type": "execution"
   },
   {
    "id": "92fb34dc84924de086652dcfe30dd241",
    "time": "2021-02-01T06:08:02.117Z",
    "type": "completion"
   },
   {
    "code": "# TEST\n'bid' in ins.columns",
    "id": "cadc10ea17504fe280562f974134d8b7",
    "idx": 107,
    "time": "2021-02-01T06:08:02.480Z",
    "type": "execution"
   },
   {
    "id": "cadc10ea17504fe280562f974134d8b7",
    "time": "2021-02-01T06:08:02.655Z",
    "type": "completion"
   },
   {
    "code": "# TEST\nins['bid'].dtype == int",
    "id": "75264e50864c481782ff670c02c9a064",
    "idx": 108,
    "time": "2021-02-01T06:08:03.030Z",
    "type": "execution"
   },
   {
    "id": "75264e50864c481782ff670c02c9a064",
    "time": "2021-02-01T06:08:03.173Z",
    "type": "completion"
   },
   {
    "code": "# TEST\nlen(ins[ins['score'] > 0]['bid'].unique()) == 5724",
    "id": "3fd029b148574a0389da4f56c359e0f2",
    "idx": 109,
    "time": "2021-02-01T06:08:03.530Z",
    "type": "execution"
   },
   {
    "id": "3fd029b148574a0389da4f56c359e0f2",
    "time": "2021-02-01T06:08:03.665Z",
    "type": "completion"
   },
   {
    "code": "# HIDDEN TEST\nins['bid'].equals(ins['iid'].str.split(\"_\", expand=True)[0].astype(\"int\"))",
    "id": "889c9fea301e4dcc83e5b09386a70c59",
    "idx": 110,
    "time": "2021-02-01T06:08:03.763Z",
    "type": "execution"
   },
   {
    "id": "889c9fea301e4dcc83e5b09386a70c59",
    "time": "2021-02-01T06:08:03.903Z",
    "type": "completion"
   },
   {
    "code": "invalid_bid_count = (~ins['bid'].isin(bus['bid'])).sum() # SOLUTION",
    "id": "46856fa8ef6f45458c72c691d2c7ca7b",
    "idx": 112,
    "time": "2021-02-01T06:08:08.219Z",
    "type": "execution"
   },
   {
    "id": "46856fa8ef6f45458c72c691d2c7ca7b",
    "time": "2021-02-01T06:08:08.310Z",
    "type": "completion"
   },
   {
    "code": "# TEST\ninvalid_bid_count >= 0 ",
    "id": "efb670749c4047d89be8faa427555a4a",
    "idx": 113,
    "time": "2021-02-01T06:08:08.479Z",
    "type": "execution"
   },
   {
    "id": "efb670749c4047d89be8faa427555a4a",
    "time": "2021-02-01T06:08:08.622Z",
    "type": "completion"
   },
   {
    "code": "# HIDDEN TEST\ninvalid_bid_count == 0",
    "id": "305c938076e04e3ba23bee9dcbe0e0f7",
    "idx": 114,
    "time": "2021-02-01T06:08:08.789Z",
    "type": "execution"
   },
   {
    "id": "305c938076e04e3ba23bee9dcbe0e0f7",
    "time": "2021-02-01T06:08:08.916Z",
    "type": "completion"
   },
   {
    "code": "# True or False: The column ins['bid'] is a foreign key \n#   referencing the bus['bid'] primary key.\n\nq4b_is_foreign_key = True # SOLUTION",
    "id": "883aef5e4dd64e2095b17655ba204907",
    "idx": 116,
    "time": "2021-02-01T06:08:09.805Z",
    "type": "execution"
   },
   {
    "id": "883aef5e4dd64e2095b17655ba204907",
    "time": "2021-02-01T06:08:09.900Z",
    "type": "completion"
   },
   {
    "code": "# TEST\ntype(q4b_is_foreign_key) == bool",
    "id": "0bf810c0b49940138eacb3b51022fd5e",
    "idx": 117,
    "time": "2021-02-01T06:08:10.033Z",
    "type": "execution"
   },
   {
    "id": "0bf810c0b49940138eacb3b51022fd5e",
    "time": "2021-02-01T06:08:10.171Z",
    "type": "completion"
   },
   {
    "code": "# HIDDEN TEST\nq4b_is_foreign_key == True",
    "id": "23e59a4dcfab421782ea92f4d498109b",
    "idx": 118,
    "time": "2021-02-01T06:08:10.258Z",
    "type": "execution"
   },
   {
    "id": "23e59a4dcfab421782ea92f4d498109b",
    "time": "2021-02-01T06:08:10.390Z",
    "type": "completion"
   },
   {
    "code": "# True or False: The column ins['bid'] is a foreign key \n#   referencing the bus['bid'] primary key.\n\nq4b_is_foreign_key = True # SOLUTION",
    "id": "883aef5e4dd64e2095b17655ba204907",
    "idx": 116,
    "time": "2021-02-01T06:08:15.326Z",
    "type": "execution"
   },
   {
    "code": "# TEST\ntype(q4b_is_foreign_key) == bool",
    "id": "0bf810c0b49940138eacb3b51022fd5e",
    "idx": 117,
    "time": "2021-02-01T06:08:15.399Z",
    "type": "execution"
   },
   {
    "id": "883aef5e4dd64e2095b17655ba204907",
    "time": "2021-02-01T06:08:15.576Z",
    "type": "completion"
   },
   {
    "id": "0bf810c0b49940138eacb3b51022fd5e",
    "time": "2021-02-01T06:08:15.579Z",
    "type": "completion"
   },
   {
    "code": "# HIDDEN TEST\nq4b_is_foreign_key == True",
    "id": "23e59a4dcfab421782ea92f4d498109b",
    "idx": 118,
    "time": "2021-02-01T06:08:16.171Z",
    "type": "execution"
   },
   {
    "id": "23e59a4dcfab421782ea92f4d498109b",
    "time": "2021-02-01T06:08:16.309Z",
    "type": "completion"
   },
   {
    "code": "ins_date_type = type(ins['date'][0]) # SOLUTION\nins_date_type",
    "id": "3b9f36d1572b469eb38dcd48b742697a",
    "idx": 121,
    "time": "2021-02-01T06:08:25.528Z",
    "type": "execution"
   },
   {
    "id": "3b9f36d1572b469eb38dcd48b742697a",
    "time": "2021-02-01T06:08:25.671Z",
    "type": "completion"
   },
   {
    "code": "# TEST\ntype(ins_date_type) == type",
    "id": "2c6dee8ccc5944999da338716c8d42b8",
    "idx": 122,
    "time": "2021-02-01T06:08:25.818Z",
    "type": "execution"
   },
   {
    "id": "2c6dee8ccc5944999da338716c8d42b8",
    "time": "2021-02-01T06:08:25.961Z",
    "type": "completion"
   },
   {
    "code": "# HIDDEN TEST\nins_date_type == str",
    "id": "0519618fe0584575a3def7961d6fe488",
    "idx": 123,
    "time": "2021-02-01T06:08:26.083Z",
    "type": "execution"
   },
   {
    "id": "0519618fe0584575a3def7961d6fe488",
    "time": "2021-02-01T06:08:26.204Z",
    "type": "completion"
   },
   {
    "code": "ins['timestamp'] = pd.to_datetime(ins['date']) # SOLUTION",
    "id": "1a20bd4b3d124792bf75693e937fbe4c",
    "idx": 125,
    "time": "2021-02-01T06:08:27.017Z",
    "type": "execution"
   },
   {
    "id": "1a20bd4b3d124792bf75693e937fbe4c",
    "time": "2021-02-01T06:08:27.146Z",
    "type": "completion"
   },
   {
    "code": "# TEST\ntype(ins['timestamp'][1]) == pd.Timestamp",
    "id": "32a9aafbba56450d9f3ea6985c2f1186",
    "idx": 126,
    "time": "2021-02-01T06:08:27.282Z",
    "type": "execution"
   },
   {
    "id": "32a9aafbba56450d9f3ea6985c2f1186",
    "time": "2021-02-01T06:08:27.403Z",
    "type": "completion"
   },
   {
    "code": "earliest_date = ins['timestamp'].min() # SOLUTION\nlatest_date = ins['timestamp'].max() # SOLUTION\n\nprint(\"Earliest Date:\", earliest_date)\nprint(\"Latest Date:\", latest_date)",
    "id": "9114239534a54e7da15814fd20dfe886",
    "idx": 128,
    "time": "2021-02-01T06:08:31.790Z",
    "type": "execution"
   },
   {
    "id": "9114239534a54e7da15814fd20dfe886",
    "time": "2021-02-01T06:08:31.978Z",
    "type": "completion"
   },
   {
    "code": "# TEST\ntype(earliest_date) == pd.Timestamp",
    "id": "bf9a31a632fa480189ee9826f8a40e9f",
    "idx": 129,
    "time": "2021-02-01T06:08:32.072Z",
    "type": "execution"
   },
   {
    "id": "bf9a31a632fa480189ee9826f8a40e9f",
    "time": "2021-02-01T06:08:32.220Z",
    "type": "completion"
   },
   {
    "code": "# TEST\ntype(latest_date) == pd.Timestamp",
    "id": "6b753884fe0a4bbf80d082c12c571b67",
    "idx": 130,
    "time": "2021-02-01T06:08:32.627Z",
    "type": "execution"
   },
   {
    "id": "6b753884fe0a4bbf80d082c12c571b67",
    "time": "2021-02-01T06:08:32.767Z",
    "type": "completion"
   },
   {
    "code": "# HIDDEN TEST\nearliest_date == pd.Timestamp('2016-10-04 00:00:00')",
    "id": "1a2efac9b061452faa8063d01b81e222",
    "idx": 131,
    "time": "2021-02-01T06:08:32.995Z",
    "type": "execution"
   },
   {
    "id": "1a2efac9b061452faa8063d01b81e222",
    "time": "2021-02-01T06:08:33.128Z",
    "type": "completion"
   },
   {
    "code": "# HIDDEN TEST\nlatest_date == pd.Timestamp('2019-11-28 00:00:00')",
    "id": "fbda5e51527e475eb81ea24ba2398911",
    "idx": 132,
    "time": "2021-02-01T06:08:33.218Z",
    "type": "execution"
   },
   {
    "id": "fbda5e51527e475eb81ea24ba2398911",
    "time": "2021-02-01T06:08:33.465Z",
    "type": "completion"
   },
   {
    "code": "ins['year'] = ins['timestamp'].dt.year # SOLUTION",
    "id": "eb985ac0fdc645caa0c0f6ae96bd7d81",
    "idx": 134,
    "time": "2021-02-01T06:08:33.552Z",
    "type": "execution"
   },
   {
    "id": "eb985ac0fdc645caa0c0f6ae96bd7d81",
    "time": "2021-02-01T06:08:33.663Z",
    "type": "completion"
   },
   {
    "code": "ins['year'] = ins['timestamp'].dt.year # SOLUTION",
    "id": "eb985ac0fdc645caa0c0f6ae96bd7d81",
    "idx": 134,
    "time": "2021-02-01T06:08:40.908Z",
    "type": "execution"
   },
   {
    "id": "eb985ac0fdc645caa0c0f6ae96bd7d81",
    "time": "2021-02-01T06:08:41.003Z",
    "type": "completion"
   },
   {
    "code": "# TEST\n'year' in ins.columns",
    "id": "02566f43fd904daaaea3710e72114063",
    "idx": 135,
    "time": "2021-02-01T06:08:41.653Z",
    "type": "execution"
   },
   {
    "id": "02566f43fd904daaaea3710e72114063",
    "time": "2021-02-01T06:08:41.788Z",
    "type": "completion"
   },
   {
    "code": "# HIDDEN TEST\nset(ins[ins['score'] > 0]['year'].value_counts()) == {959, 4043, 4355, 4674}",
    "id": "358e527b72ce4af4822ee383573b42bc",
    "idx": 136,
    "time": "2021-02-01T06:08:41.969Z",
    "type": "execution"
   },
   {
    "id": "358e527b72ce4af4822ee383573b42bc",
    "time": "2021-02-01T06:08:42.119Z",
    "type": "completion"
   },
   {
    "code": "ins.head()",
    "id": "efe30e6e98a5494791fc5afe7c753bc0",
    "idx": 137,
    "time": "2021-02-01T06:08:42.222Z",
    "type": "execution"
   },
   {
    "id": "efe30e6e98a5494791fc5afe7c753bc0",
    "time": "2021-02-01T06:08:42.488Z",
    "type": "completion"
   },
   {
    "code": "ins_pivot = ins.pivot_table(columns = \"year\", index = \"type\", aggfunc = len, fill_value = 0) # SOLUTION\nins_pivot = ins_pivot[\"bid\"] # SOLUTION\nins_pivot['Total'] = ins_pivot.sum(axis=1) # SOLUTION\nins_pivot_sorted = ins_pivot.sort_values('Total', ascending=False) # SOLUTION\nins_pivot_sorted",
    "id": "28ec4881328d49d19868ad5d8cd2e99f",
    "idx": 140,
    "time": "2021-02-01T06:08:43.810Z",
    "type": "execution"
   },
   {
    "id": "28ec4881328d49d19868ad5d8cd2e99f",
    "time": "2021-02-01T06:08:43.963Z",
    "type": "completion"
   },
   {
    "code": "year_of_new_construction = 2017 # SOLUTION",
    "id": "dd70209f2b814605850b07ee22d63efd",
    "idx": 147,
    "time": "2021-02-01T06:09:11.445Z",
    "type": "execution"
   },
   {
    "code": "# TEST\ntype(year_of_new_construction) == int",
    "id": "249a3f0ae87249b081c25aeae16f483a",
    "idx": 148,
    "time": "2021-02-01T06:09:11.572Z",
    "type": "execution"
   },
   {
    "code": "# HIDDEN TEST\nyear_of_new_construction == 2017",
    "id": "52c6d68a98004e6b81053a3751e52916",
    "idx": 149,
    "time": "2021-02-01T06:09:11.731Z",
    "type": "execution"
   },
   {
    "id": "dd70209f2b814605850b07ee22d63efd",
    "time": "2021-02-01T06:09:11.783Z",
    "type": "completion"
   },
   {
    "id": "249a3f0ae87249b081c25aeae16f483a",
    "time": "2021-02-01T06:09:11.785Z",
    "type": "completion"
   },
   {
    "id": "52c6d68a98004e6b81053a3751e52916",
    "time": "2021-02-01T06:09:11.837Z",
    "type": "completion"
   },
   {
    "code": "ins['score'].value_counts().head()",
    "id": "95961adde61449eaab8f88b9010fe16f",
    "idx": 151,
    "time": "2021-02-01T06:09:12.005Z",
    "type": "execution"
   },
   {
    "id": "95961adde61449eaab8f88b9010fe16f",
    "time": "2021-02-01T06:09:12.133Z",
    "type": "completion"
   },
   {
    "code": "ins['score'].value_counts().head()",
    "id": "95961adde61449eaab8f88b9010fe16f",
    "idx": 151,
    "time": "2021-02-01T06:09:16.748Z",
    "type": "execution"
   },
   {
    "id": "95961adde61449eaab8f88b9010fe16f",
    "time": "2021-02-01T06:09:16.902Z",
    "type": "completion"
   },
   {
    "code": "ins_missing_score_pivot = ...\n\n# BEGIN SOLUTION\nins['Missing Score'] = (ins['score'] == -1).astype(\"str\")\n\nins_missing_score_pivot = ins.pivot_table(\n    index = \"type\", \n    columns = \"Missing Score\",\n    aggfunc = 'size',\n    fill_value = 0\n)\nins_missing_score_pivot['Total'] = ins_missing_score_pivot.sum(axis=1)\nins_missing_score_pivot.sort_values('Total', inplace=True, ascending=False)\nins_missing_score_pivot\n# END SOLUTION",
    "id": "0eabc033b1fd4c6f809f213b717d7b24",
    "idx": 154,
    "time": "2021-02-01T06:09:17.267Z",
    "type": "execution"
   },
   {
    "id": "0eabc033b1fd4c6f809f213b717d7b24",
    "time": "2021-02-01T06:09:17.527Z",
    "type": "completion"
   },
   {
    "code": "# TEST\nif type(ins_missing_score_pivot) == pd.DataFrame:\n    if False in ins_missing_score_pivot.columns: \n        ins_missing_score_pivot.rename(columns={False:\"False\"}, errors=\"raise\",inplace=True)\n    if True in ins_missing_score_pivot.columns:\n        ins_missing_score_pivot.rename(columns={True:\"True\"}, errors=\"raise\",inplace=True)\ntype(ins_missing_score_pivot) == pd.DataFrame",
    "id": "57e5bbf4a4234a08bd805edea04d8300",
    "idx": 155,
    "time": "2021-02-01T06:09:18.308Z",
    "type": "execution"
   },
   {
    "id": "57e5bbf4a4234a08bd805edea04d8300",
    "time": "2021-02-01T06:09:18.445Z",
    "type": "completion"
   },
   {
    "code": "# HIDDEN TEST\nset(ins_missing_score_pivot.columns) == {'False', 'Total', 'True'}",
    "id": "78613341f76e41b48a636a8f35bc2105",
    "idx": 156,
    "time": "2021-02-01T06:09:19.109Z",
    "type": "execution"
   },
   {
    "id": "78613341f76e41b48a636a8f35bc2105",
    "time": "2021-02-01T06:09:19.250Z",
    "type": "completion"
   },
   {
    "code": "# HIDDEN TEST\nlen(ins_missing_score_pivot) == 15",
    "id": "fd08cff450364b6da95c6d5099e94271",
    "idx": 157,
    "time": "2021-02-01T06:09:19.337Z",
    "type": "execution"
   },
   {
    "code": "# HIDDEN TEST\nins_missing_score_pivot[\"False\"][\"Routine - Unscheduled\"] == 14031 ",
    "id": "182a6f9850b04f20bcf66d3c1e15f5f5",
    "idx": 158,
    "time": "2021-02-01T06:09:19.485Z",
    "type": "execution"
   },
   {
    "code": "# HIDDEN TEST\nins_missing_score_pivot.iloc[0,2] == 14077",
    "id": "0f22fb00212e4723a90dffe10f87851f",
    "idx": 159,
    "time": "2021-02-01T06:09:19.637Z",
    "type": "execution"
   },
   {
    "id": "fd08cff450364b6da95c6d5099e94271",
    "time": "2021-02-01T06:09:19.683Z",
    "type": "completion"
   },
   {
    "id": "182a6f9850b04f20bcf66d3c1e15f5f5",
    "time": "2021-02-01T06:09:19.686Z",
    "type": "completion"
   },
   {
    "id": "0f22fb00212e4723a90dffe10f87851f",
    "time": "2021-02-01T06:09:19.817Z",
    "type": "completion"
   },
   {
    "code": "ins_missing_score_pivot = ...\n\n# BEGIN SOLUTION\nins['Missing Score'] = (ins['score'] == -1).astype(\"str\")\n\nins_missing_score_pivot = ins.pivot_table(\n    index = \"type\", \n    columns = \"Missing Score\",\n    aggfunc = 'size',\n    fill_value = 0\n)\nins_missing_score_pivot['Total'] = ins_missing_score_pivot.sum(axis=1)\nins_missing_score_pivot.sort_values('Total', inplace=True, ascending=False)\nins_missing_score_pivot\n# END SOLUTION",
    "id": "0eabc033b1fd4c6f809f213b717d7b24",
    "idx": 154,
    "time": "2021-02-01T06:09:25.564Z",
    "type": "execution"
   },
   {
    "code": "# TEST\nif type(ins_missing_score_pivot) == pd.DataFrame:\n    if False in ins_missing_score_pivot.columns: \n        ins_missing_score_pivot.rename(columns={False:\"False\"}, errors=\"raise\",inplace=True)\n    if True in ins_missing_score_pivot.columns:\n        ins_missing_score_pivot.rename(columns={True:\"True\"}, errors=\"raise\",inplace=True)\ntype(ins_missing_score_pivot) == pd.DataFrame",
    "id": "57e5bbf4a4234a08bd805edea04d8300",
    "idx": 155,
    "time": "2021-02-01T06:09:25.641Z",
    "type": "execution"
   },
   {
    "code": "# HIDDEN TEST\nset(ins_missing_score_pivot.columns) == {'False', 'Total', 'True'}",
    "id": "78613341f76e41b48a636a8f35bc2105",
    "idx": 156,
    "time": "2021-02-01T06:09:25.782Z",
    "type": "execution"
   },
   {
    "code": "# HIDDEN TEST\nlen(ins_missing_score_pivot) == 15",
    "id": "fd08cff450364b6da95c6d5099e94271",
    "idx": 157,
    "time": "2021-02-01T06:09:25.879Z",
    "type": "execution"
   },
   {
    "id": "0eabc033b1fd4c6f809f213b717d7b24",
    "time": "2021-02-01T06:09:26.033Z",
    "type": "completion"
   },
   {
    "id": "57e5bbf4a4234a08bd805edea04d8300",
    "time": "2021-02-01T06:09:26.039Z",
    "type": "completion"
   },
   {
    "id": "78613341f76e41b48a636a8f35bc2105",
    "time": "2021-02-01T06:09:26.044Z",
    "type": "completion"
   },
   {
    "id": "fd08cff450364b6da95c6d5099e94271",
    "time": "2021-02-01T06:09:26.046Z",
    "type": "completion"
   },
   {
    "code": "# HIDDEN TEST\nins_missing_score_pivot[\"False\"][\"Routine - Unscheduled\"] == 14031 ",
    "id": "182a6f9850b04f20bcf66d3c1e15f5f5",
    "idx": 158,
    "time": "2021-02-01T06:09:26.147Z",
    "type": "execution"
   },
   {
    "code": "# HIDDEN TEST\nins_missing_score_pivot.iloc[0,2] == 14077",
    "id": "0f22fb00212e4723a90dffe10f87851f",
    "idx": 159,
    "time": "2021-02-01T06:09:26.295Z",
    "type": "execution"
   },
   {
    "id": "182a6f9850b04f20bcf66d3c1e15f5f5",
    "time": "2021-02-01T06:09:26.421Z",
    "type": "completion"
   },
   {
    "id": "0f22fb00212e4723a90dffe10f87851f",
    "time": "2021-02-01T06:09:26.424Z",
    "type": "completion"
   },
   {
    "code": "ins = ins[ins[\"score\"] > 0]",
    "id": "af699b48f3414da6957fb220ba88928e",
    "idx": 163,
    "time": "2021-02-01T06:09:35.246Z",
    "type": "execution"
   },
   {
    "id": "af699b48f3414da6957fb220ba88928e",
    "time": "2021-02-01T06:09:35.395Z",
    "type": "completion"
   },
   {
    "code": "ins_named = ...\n# BEGIN SOLUTION\nins_named = ins.merge(bus[[\"bid\", \"name\", \"address\"]], how=\"left\", left_on = \"bid\", right_on = \"bid\") \n# END SOLUTION\nins_named.head()",
    "id": "5ec07ebd30994083813348fa2b63175b",
    "idx": 165,
    "time": "2021-02-01T06:09:40.632Z",
    "type": "execution"
   },
   {
    "id": "5ec07ebd30994083813348fa2b63175b",
    "time": "2021-02-01T06:09:40.793Z",
    "type": "completion"
   },
   {
    "code": "# TEST\n\"name\" in ins_named and \"address\" in ins_named",
    "id": "08a9398dd54343d189e0abc147364eeb",
    "idx": 166,
    "time": "2021-02-01T06:09:47.552Z",
    "type": "execution"
   },
   {
    "id": "08a9398dd54343d189e0abc147364eeb",
    "time": "2021-02-01T06:09:47.694Z",
    "type": "completion"
   },
   {
    "code": "# TEST\nins_named[ins_named[\"Missing Score\"] == True].shape[0] == 0",
    "id": "c4cd2ebacab343b9a8238b37cfbc3c8b",
    "idx": 167,
    "time": "2021-02-01T06:09:50.569Z",
    "type": "execution"
   },
   {
    "id": "c4cd2ebacab343b9a8238b37cfbc3c8b",
    "time": "2021-02-01T06:09:50.697Z",
    "type": "completion"
   },
   {
    "code": "# TEST\nins_named.reset_index()['date'].equals(ins[ins['score'] > 0].reset_index()['date'])",
    "id": "b9d555bddd8a457bb0c9ee7db1080664",
    "idx": 168,
    "time": "2021-02-01T06:09:50.786Z",
    "type": "execution"
   },
   {
    "code": "# HIDDEN TEST\nnp.isclose(sum(ins_named['name'].isnull()), 0, rtol=5)",
    "id": "632cfd0d80f240fcb6d4ef12f6f8f11d",
    "idx": 169,
    "time": "2021-02-01T06:09:50.861Z",
    "type": "execution"
   },
   {
    "id": "b9d555bddd8a457bb0c9ee7db1080664",
    "time": "2021-02-01T06:09:50.996Z",
    "type": "completion"
   },
   {
    "id": "632cfd0d80f240fcb6d4ef12f6f8f11d",
    "time": "2021-02-01T06:09:51.000Z",
    "type": "completion"
   },
   {
    "code": "# HIDDEN TEST\nsol_merged = ins.merge(bus[[\"bid\", \"name\", \"address\"]], how=\"left\", left_on = \"bid\", right_on = \"bid\")\nins_named.equals(sol_merged[sol_merged[\"score\"] > 0])",
    "id": "1077c098984748fe93d4709b770d6ca6",
    "idx": 170,
    "time": "2021-02-01T06:09:51.019Z",
    "type": "execution"
   },
   {
    "id": "1077c098984748fe93d4709b770d6ca6",
    "time": "2021-02-01T06:09:51.158Z",
    "type": "completion"
   },
   {
    "code": "twenty_lowest_scoring = ... \n# BEGIN SOLUTION\ntwenty_lowest_scoring = (\n    ins_named.groupby('bid', as_index=False)\n        .aggregate({'name': 'first', 'score': 'median'})\n        .sort_values(['score', 'bid'] )\n        .rename(columns={'score': 'median score'})\n        .head(20)\n)\n# END SOLUTION\n\ntwenty_lowest_scoring",
    "id": "85679a3c40414046800f656ca076845a",
    "idx": 172,
    "time": "2021-02-01T06:09:51.324Z",
    "type": "execution"
   },
   {
    "id": "85679a3c40414046800f656ca076845a",
    "time": "2021-02-01T06:09:51.479Z",
    "type": "completion"
   },
   {
    "code": "twenty_lowest_scoring = ... \n# BEGIN SOLUTION\ntwenty_lowest_scoring = (\n    ins_named.groupby('bid', as_index=False)\n        .aggregate({'name': 'first', 'score': 'median'})\n        .sort_values(['score', 'bid'] )\n        .rename(columns={'score': 'median score'})\n        .head(20)\n)\n# END SOLUTION\n\ntwenty_lowest_scoring",
    "id": "85679a3c40414046800f656ca076845a",
    "idx": 172,
    "time": "2021-02-01T06:10:08.247Z",
    "type": "execution"
   },
   {
    "code": "# TEST\ntwenty_lowest_scoring.shape == (20, 3)",
    "id": "e3402ed37178464f887f4c96393fa07d",
    "idx": 173,
    "time": "2021-02-01T06:10:08.364Z",
    "type": "execution"
   },
   {
    "id": "85679a3c40414046800f656ca076845a",
    "time": "2021-02-01T06:10:08.530Z",
    "type": "completion"
   },
   {
    "id": "e3402ed37178464f887f4c96393fa07d",
    "time": "2021-02-01T06:10:08.533Z",
    "type": "completion"
   },
   {
    "code": "# TEST\nset(twenty_lowest_scoring.columns) == {'bid', 'median score', 'name'}",
    "id": "6f78a7421f38472f8b2a88af1feeeaff",
    "idx": 174,
    "time": "2021-02-01T06:10:09.673Z",
    "type": "execution"
   },
   {
    "id": "6f78a7421f38472f8b2a88af1feeeaff",
    "time": "2021-02-01T06:10:09.811Z",
    "type": "completion"
   },
   {
    "code": "# HIDDEN TEST\n# print(twenty_lowest_scoring.to_html().replace(\"\\n\",\"\"))\nset(twenty_lowest_scoring[\"median score\"].values) == {54 , 57 , 58 , 60.5, 63.5, 64, \n                                                      64 , 64 , 64 , 64 , 64, 64.5, \n                                                      64.5, 64.5, 65, 65, 66, 66, 66, 66.5\n                                                      }",
    "id": "3237eef6b20942df97532dabf3a57eb4",
    "idx": 175,
    "time": "2021-02-01T06:10:11.219Z",
    "type": "execution"
   },
   {
    "id": "3237eef6b20942df97532dabf3a57eb4",
    "time": "2021-02-01T06:10:11.334Z",
    "type": "completion"
   },
   {
    "code": "low_score_violations = ...\n\n# BEGIN SOLUTION\nlow_score_violations = (\n    ins_named[ins_named['score'] < 65]\n        .merge(ins2vio, on='iid')\n        .merge(vio, on='vid')\n        .loc[:,'description']\n        .value_counts()\n        .sort_values(ascending=False)\n)\n# END SOLUTION\n\nlow_score_violations.head(20)",
    "id": "5086edc57aca41418cd7c50713171844",
    "idx": 177,
    "time": "2021-02-01T06:10:20.264Z",
    "type": "execution"
   },
   {
    "id": "5086edc57aca41418cd7c50713171844",
    "time": "2021-02-01T06:10:20.413Z",
    "type": "completion"
   },
   {
    "code": "# TEST\ntype(low_score_violations) == pd.Series",
    "id": "7a41bf7efb334f589d619adfcf71602d",
    "idx": 178,
    "time": "2021-02-01T06:10:20.728Z",
    "type": "execution"
   },
   {
    "id": "7a41bf7efb334f589d619adfcf71602d",
    "time": "2021-02-01T06:10:21.028Z",
    "type": "completion"
   },
   {
    "code": "# TEST\nlen(low_score_violations) == 50",
    "id": "1d0ec80192124fe584897e2ce395a6fe",
    "idx": 179,
    "time": "2021-02-01T06:10:21.117Z",
    "type": "execution"
   },
   {
    "id": "1d0ec80192124fe584897e2ce395a6fe",
    "time": "2021-02-01T06:10:21.272Z",
    "type": "completion"
   },
   {
    "code": "# TEST\nlow_score_violations[0] == 43",
    "id": "0332979155e24a5b84a383443af8115d",
    "idx": 180,
    "time": "2021-02-01T06:10:21.462Z",
    "type": "execution"
   },
   {
    "id": "0332979155e24a5b84a383443af8115d",
    "time": "2021-02-01T06:10:21.599Z",
    "type": "completion"
   },
   {
    "code": "# HIDDEN TEST\nnp.all(low_score_violations.head().values == np.array([43, 42, 40, 39, 37]))",
    "id": "5c2d266977ba4b4585012427899b9939",
    "idx": 181,
    "time": "2021-02-01T06:10:21.687Z",
    "type": "execution"
   },
   {
    "id": "5c2d266977ba4b4585012427899b9939",
    "time": "2021-02-01T06:10:21.920Z",
    "type": "completion"
   },
   {
    "code": "worst_restaurant = ...\n# BEGIN SOLUTION NO PROMPT\nworst_restaurant = ins_named.sort_values('score', ascending=False).tail(1)['name'].iloc[0]\n# END SOLUTION\nworst_restaurant",
    "id": "ee5737d52eb44a8896af6bb49ef6ac1b",
    "idx": 183,
    "time": "2021-02-01T06:10:22.415Z",
    "type": "execution"
   },
   {
    "id": "ee5737d52eb44a8896af6bb49ef6ac1b",
    "time": "2021-02-01T06:10:22.533Z",
    "type": "completion"
   },
   {
    "code": "worst_restaurant = ...\n# BEGIN SOLUTION NO PROMPT\nworst_restaurant = ins_named.sort_values('score', ascending=False).tail(1)['name'].iloc[0]\n# END SOLUTION\nworst_restaurant",
    "id": "ee5737d52eb44a8896af6bb49ef6ac1b",
    "idx": 183,
    "time": "2021-02-01T06:10:25.987Z",
    "type": "execution"
   },
   {
    "id": "ee5737d52eb44a8896af6bb49ef6ac1b",
    "time": "2021-02-01T06:10:26.103Z",
    "type": "completion"
   },
   {
    "code": "# BEGIN SOLUTION\nscore_counts = ins.loc[ins[\"score\"] > 0, 'score'].value_counts()\nplt.bar(score_counts.keys(), score_counts, edgecolor='black')\nplt.xlabel(\"Score\")\nplt.ylabel(\"Count\")\nplt.title(\"Distribution of Inspection Scores\");\n# END SOLUTION",
    "id": "70c796cc45004b5a8f2f0828dad0f45d",
    "idx": 188,
    "time": "2021-02-01T06:10:40.253Z",
    "type": "execution"
   },
   {
    "id": "70c796cc45004b5a8f2f0828dad0f45d",
    "time": "2021-02-01T06:10:40.696Z",
    "type": "completion"
   },
   {
    "code": "# BEGIN SOLUTION\nscore_counts = ins.loc[ins[\"score\"] > 0, 'score'].value_counts()\nplt.bar(score_counts.keys(), score_counts, edgecolor='black')\nplt.xlabel(\"Score\")\nplt.ylabel(\"Count\")\nplt.title(\"Distribution of Inspection Scores\");\n# END SOLUTION",
    "id": "70c796cc45004b5a8f2f0828dad0f45d",
    "idx": 188,
    "time": "2021-02-01T06:10:51.898Z",
    "type": "execution"
   },
   {
    "code": "score_counts",
    "id": "16b78f9ecc9c43878a1ad0103724d813",
    "idx": 189,
    "time": "2021-02-01T06:10:52.053Z",
    "type": "execution"
   },
   {
    "id": "70c796cc45004b5a8f2f0828dad0f45d",
    "time": "2021-02-01T06:10:52.255Z",
    "type": "completion"
   },
   {
    "id": "16b78f9ecc9c43878a1ad0103724d813",
    "time": "2021-02-01T06:10:52.259Z",
    "type": "completion"
   },
   {
    "code": "# BEGIN SOLUTION NO PROMPT\ndef swing(s):\n    if len(s) < 3:\n        return 0\n    return max(s) - min(s)\n\nswing_series = ins_named['score'].groupby(ins_named['bid']).agg(swing).rename('swing')\nbus_swing = pd.concat([bus.set_index('bid'), swing_series], axis=1).sort_values(\"swing\", ascending=False)\n# END SOLUTION\nmax_swing = bus_swing.iloc[0]['name'] # SOLUTION\nmax_swing",
    "id": "1189a5fc03c84b4792e6c3735da31768",
    "idx": 195,
    "time": "2021-02-01T06:11:20.715Z",
    "type": "execution"
   },
   {
    "id": "1189a5fc03c84b4792e6c3735da31768",
    "time": "2021-02-01T06:11:20.864Z",
    "type": "completion"
   },
   {
    "code": "# TEST\nmax_swing in set(bus['name'])",
    "id": "64fe87eb021845f182e7f478a7803c80",
    "idx": 196,
    "time": "2021-02-01T06:11:24.276Z",
    "type": "execution"
   },
   {
    "id": "64fe87eb021845f182e7f478a7803c80",
    "time": "2021-02-01T06:11:24.413Z",
    "type": "completion"
   },
   {
    "code": "# HIDDEN TEST\nmax_swing == 'Lollipot'",
    "id": "0493f1535d354e3e9ac137fd3e9d5e43",
    "idx": 197,
    "time": "2021-02-01T06:11:24.565Z",
    "type": "execution"
   },
   {
    "id": "0493f1535d354e3e9ac137fd3e9d5e43",
    "time": "2021-02-01T06:11:24.682Z",
    "type": "completion"
   },
   {
    "code": "ins2018 = ins[ins['year'] == 2018]\n# Create the dataframe here\nscores_pairs_by_business = ...\n# BEGIN SOLUTION NO PROMPT\n# SOLUTION 1\nscores_pairs_by_business = (ins2018.sort_values('date')\n                            .loc[:, ['bid', 'score']]\n                            .groupby('bid')\n                            .filter(lambda group: len(group)==2)\n                            .groupby('bid')\n                            .agg(list)\n                            .rename(columns={'score':'score_pair'}))\n\n# SOLUTION 2\nscores_pairs_by_business = (ins2018.sort_values('date')\n                            .groupby('bid')\n                            .filter(lambda group: len(group)==2)\n                            .groupby('bid')\n                            .agg({'score': lambda group: group.tolist()})\n                            .rename(columns={'score':'score_pair'}))\nscores_pairs_by_business.head()\n# END SOLUTION\nscores_pairs_by_business",
    "id": "351bb88842b044f7827bb586f6a2498e",
    "idx": 199,
    "time": "2021-02-01T06:11:35.543Z",
    "type": "execution"
   },
   {
    "code": "# TEST\nisinstance(scores_pairs_by_business, pd.DataFrame)",
    "id": "c9b43020e8c442568e5163605b5ff796",
    "idx": 200,
    "time": "2021-02-01T06:11:35.619Z",
    "type": "execution"
   },
   {
    "id": "351bb88842b044f7827bb586f6a2498e",
    "time": "2021-02-01T06:11:35.951Z",
    "type": "completion"
   },
   {
    "id": "c9b43020e8c442568e5163605b5ff796",
    "time": "2021-02-01T06:11:35.956Z",
    "type": "completion"
   },
   {
    "code": "# TEST\nscores_pairs_by_business.columns[0] == 'score_pair'",
    "id": "052c19a8e5fa4479b20b8d3428e9faa7",
    "idx": 201,
    "time": "2021-02-01T06:11:38.296Z",
    "type": "execution"
   },
   {
    "code": "# HIDDEN TEST\n\nstudent_arr = np.array(scores_pairs_by_business.values.tolist()).squeeze()\n\n# Now we will check the head score pares\n# score_pair\n# business_id\n# 24 [96, 98]\n# 45 [78, 84]\n# 66 [98, 100]\n# 67 [87, 94]\n# 76 [100, 98]\n\n([96, 98] in student_arr and\\\n    [78, 84] in student_arr and\\\n        [98, 100] in student_arr and\\\n            [87, 94] in student_arr and\\\n                [100, 98] in student_arr) == True",
    "id": "5a3bef8f6b7d4a5982a918f63fa5231f",
    "idx": 202,
    "time": "2021-02-01T06:11:38.440Z",
    "type": "execution"
   },
   {
    "id": "052c19a8e5fa4479b20b8d3428e9faa7",
    "time": "2021-02-01T06:11:38.558Z",
    "type": "completion"
   },
   {
    "id": "5a3bef8f6b7d4a5982a918f63fa5231f",
    "time": "2021-02-01T06:11:38.562Z",
    "type": "completion"
   },
   {
    "code": "# BEGIN SOLUTION\nfirst_score, second_score = zip(*scores_pairs_by_business['score_pair'])\nplt.scatter(first_score,second_score,s = 20, facecolors='none',edgecolors='b')\nplt.plot([55,100],[55,100],'r-')\nplt.xlabel('First Score')\nplt.ylabel('Second Score')\nplt.axis([55,100,55,100])\nplt.title(\"First Inspection Score vs. Second Inspection Score\");\n# END SOLUTION",
    "id": "4fa3ff8cf0b14e4d81085b4b3a121f61",
    "idx": 204,
    "time": "2021-02-01T06:11:45.036Z",
    "type": "execution"
   },
   {
    "id": "4fa3ff8cf0b14e4d81085b4b3a121f61",
    "time": "2021-02-01T06:11:45.483Z",
    "type": "completion"
   },
   {
    "code": "ins2018 = ins[ins['year'] == 2018]\n# Create the dataframe here\nscores_pairs_by_business = ...\n# BEGIN SOLUTION NO PROMPT\n# SOLUTION 1\nscores_pairs_by_business = (ins2018.sort_values('date')\n                            .loc[:, ['bid', 'score']]\n                            .groupby('bid')\n                            .filter(lambda group: len(group)==2)\n                            .groupby('bid')\n                            .agg(list)\n                            .rename(columns={'score':'score_pair'}))\n\n# SOLUTION 2\nscores_pairs_by_business = (ins2018.sort_values('date')\n                            .groupby('bid')\n                            .filter(lambda group: len(group)==2)\n                            .groupby('bid')\n                            .agg({'score': lambda group: group.tolist()})\n                            .rename(columns={'score':'score_pair'}))\nscores_pairs_by_business.head()\n# END SOLUTION\nscores_pairs_by_business",
    "id": "351bb88842b044f7827bb586f6a2498e",
    "idx": 199,
    "time": "2021-02-01T06:12:07.063Z",
    "type": "execution"
   },
   {
    "code": "# TEST\nisinstance(scores_pairs_by_business, pd.DataFrame)",
    "id": "c9b43020e8c442568e5163605b5ff796",
    "idx": 200,
    "time": "2021-02-01T06:12:07.243Z",
    "type": "execution"
   },
   {
    "code": "# TEST\nscores_pairs_by_business.columns[0] == 'score_pair'",
    "id": "052c19a8e5fa4479b20b8d3428e9faa7",
    "idx": 201,
    "time": "2021-02-01T06:12:07.493Z",
    "type": "execution"
   },
   {
    "code": "# HIDDEN TEST\n\nstudent_arr = np.array(scores_pairs_by_business.values.tolist()).squeeze()\n\n# Now we will check the head score pares\n# score_pair\n# business_id\n# 24 [96, 98]\n# 45 [78, 84]\n# 66 [98, 100]\n# 67 [87, 94]\n# 76 [100, 98]\n\n([96, 98] in student_arr and\\\n    [78, 84] in student_arr and\\\n        [98, 100] in student_arr and\\\n            [87, 94] in student_arr and\\\n                [100, 98] in student_arr) == True",
    "id": "5a3bef8f6b7d4a5982a918f63fa5231f",
    "idx": 202,
    "time": "2021-02-01T06:12:07.745Z",
    "type": "execution"
   },
   {
    "id": "351bb88842b044f7827bb586f6a2498e",
    "time": "2021-02-01T06:12:07.808Z",
    "type": "completion"
   },
   {
    "id": "c9b43020e8c442568e5163605b5ff796",
    "time": "2021-02-01T06:12:07.811Z",
    "type": "completion"
   },
   {
    "id": "052c19a8e5fa4479b20b8d3428e9faa7",
    "time": "2021-02-01T06:12:07.813Z",
    "type": "completion"
   },
   {
    "id": "5a3bef8f6b7d4a5982a918f63fa5231f",
    "time": "2021-02-01T06:12:07.981Z",
    "type": "completion"
   },
   {
    "code": "# BEGIN SOLUTION\nfirst_score, second_score = zip(*scores_pairs_by_business['score_pair'])\nplt.scatter(first_score,second_score,s = 20, facecolors='none',edgecolors='b')\nplt.plot([55,100],[55,100],'r-')\nplt.xlabel('First Score')\nplt.ylabel('Second Score')\nplt.axis([55,100,55,100])\nplt.title(\"First Inspection Score vs. Second Inspection Score\");\n# END SOLUTION",
    "id": "4fa3ff8cf0b14e4d81085b4b3a121f61",
    "idx": 204,
    "time": "2021-02-01T06:12:09.457Z",
    "type": "execution"
   },
   {
    "id": "4fa3ff8cf0b14e4d81085b4b3a121f61",
    "time": "2021-02-01T06:12:09.959Z",
    "type": "completion"
   },
   {
    "code": "# BEGIN SOLUTION\nfirst_score, second_score = zip(*scores_pairs_by_business['score_pair'])\nplt.scatter(first_score,second_score,s = 20, facecolors='none',edgecolors='b')\nplt.plot([55,100],[55,100],'r-')\nplt.xlabel('First Score')\nplt.ylabel('Second Score')\nplt.axis([55,100,55,100])\nplt.title(\"First Inspection Score vs. Second Inspection Score\");\n# END SOLUTION",
    "id": "4fa3ff8cf0b14e4d81085b4b3a121f61",
    "idx": 204,
    "time": "2021-02-01T06:12:14.662Z",
    "type": "execution"
   },
   {
    "id": "4fa3ff8cf0b14e4d81085b4b3a121f61",
    "time": "2021-02-01T06:12:15.034Z",
    "type": "completion"
   },
   {
    "code": "# Do not modify this line\nsns.set()\n\n# BEGIN SOLUTION\nins_17_to_19 = ins[(ins['year'] >= 2017) & (ins['year'] <= 2019)]\nins_vid_joined = ins_17_to_19.merge(ins2vio, on='iid').merge(vio, on='vid')\nplt.figure(figsize=(12,8))\nins_vid_joined['risk_cat'] = 0\nins_vid_joined.loc[ins_vid_joined['risk_category'] == \"Moderate Risk\" , 'risk_cat'] = 1\nins_vid_joined.loc[ins_vid_joined['risk_category'] == \"High Risk\", 'risk_cat'] = 2\nsns.boxplot(x=\"year\", y=\"score\", hue='risk_category', data=ins_vid_joined.sort_values(\"risk_cat\"), \n            linewidth=0.8);\n# END SOLUTION",
    "id": "80c6aa8d1f634b1b90026211975495c1",
    "idx": 208,
    "time": "2021-02-01T06:12:27.254Z",
    "type": "execution"
   },
   {
    "id": "80c6aa8d1f634b1b90026211975495c1",
    "time": "2021-02-01T06:12:27.853Z",
    "type": "completion"
   },
   {
    "code": "# Do not modify this line\nsns.set()\n\n# BEGIN SOLUTION\nins_17_to_19 = ins[(ins['year'] >= 2017) & (ins['year'] <= 2019)]\nins_vid_joined = ins_17_to_19.merge(ins2vio, on='iid').merge(vio, on='vid')\nplt.figure(figsize=(12,8))\nins_vid_joined['risk_cat'] = 0\nins_vid_joined.loc[ins_vid_joined['risk_category'] == \"Moderate Risk\" , 'risk_cat'] = 1\nins_vid_joined.loc[ins_vid_joined['risk_category'] == \"High Risk\", 'risk_cat'] = 2\nsns.boxplot(x=\"year\", y=\"score\", hue='risk_category', data=ins_vid_joined.sort_values(\"risk_cat\"), \n            linewidth=0.8);\n# END SOLUTION",
    "id": "80c6aa8d1f634b1b90026211975495c1",
    "idx": 208,
    "time": "2021-02-01T06:12:33.505Z",
    "type": "execution"
   },
   {
    "id": "80c6aa8d1f634b1b90026211975495c1",
    "time": "2021-02-01T06:12:34.099Z",
    "type": "completion"
   },
   {
    "code": "# YOUR DATA PROCESSING AND PLOTTING HERE\n\n# YOUR EXPLANATION HERE (in a comment)",
    "id": "e4d24a1c7514410f96e07c974efcd129",
    "idx": 213,
    "time": "2021-02-01T06:12:47.879Z",
    "type": "execution"
   },
   {
    "id": "e4d24a1c7514410f96e07c974efcd129",
    "time": "2021-02-01T06:12:47.966Z",
    "type": "completion"
   },
   {
    "code": "# THIS CELL AND ANY CELLS ADDED BELOW WILL NOT BE GRADED",
    "id": "6a4a4f54f10442ba88d3c55ce51da6ff",
    "idx": 214,
    "time": "2021-02-01T06:12:48.012Z",
    "type": "execution"
   },
   {
    "id": "6a4a4f54f10442ba88d3c55ce51da6ff",
    "time": "2021-02-01T06:12:48.089Z",
    "type": "completion"
   },
   {
    "code": "# True or False: \n#  If we were to drop businesses with MISSING postal code values \n#   a particular class of business be affected.\nq2d_true_or_false = True # SOLUTION",
    "id": "9675d25fa8734cdc8bd5be188d69f171",
    "idx": 86,
    "time": "2021-02-01T06:37:28.966Z",
    "type": "execution"
   },
   {
    "id": "9675d25fa8734cdc8bd5be188d69f171",
    "time": "2021-02-01T06:37:29.089Z",
    "type": "completion"
   },
   {
    "code": "# TEST\ntype(q2d_true_or_false) == bool",
    "id": "911c2484318c48fd8fe4c7a8a09d6658",
    "idx": 87,
    "time": "2021-02-01T06:37:29.354Z",
    "type": "execution"
   },
   {
    "id": "911c2484318c48fd8fe4c7a8a09d6658",
    "time": "2021-02-01T06:37:29.500Z",
    "type": "completion"
   },
   {
    "code": "# HIDDEN TEST\nq2d_true_or_false == True",
    "id": "7052af80d73649d28b9db3412a1b5019",
    "idx": 88,
    "time": "2021-02-01T06:37:29.614Z",
    "type": "execution"
   },
   {
    "id": "7052af80d73649d28b9db3412a1b5019",
    "time": "2021-02-01T06:37:29.763Z",
    "type": "completion"
   },
   {
    "code": "bus['postal5'] = None\n# BEGIN SOLUTION\nbus['postal5'] = bus['postal_code'].str[:5]\nbus.loc[~bus['postal5'].isin(valid_zips), 'postal5'] = None \n# END SOLUTION\n\n# Checking the corrected postal5 column\nbus.loc[invalid_zip_bus.index, ['bid', 'name', 'postal_code', 'postal5']]",
    "id": "3d8ebbb447df46f1869787d1c15ff04a",
    "idx": 90,
    "time": "2021-02-01T06:37:31.876Z",
    "type": "execution"
   },
   {
    "id": "3d8ebbb447df46f1869787d1c15ff04a",
    "time": "2021-02-01T06:37:32.045Z",
    "type": "completion"
   },
   {
    "code": "# TEST\n'postal5' in bus.columns",
    "id": "f5bd9042e56b49ea8a3e7a14bb9f554e",
    "idx": 91,
    "time": "2021-02-01T06:37:35.575Z",
    "type": "execution"
   },
   {
    "code": "# TEST\n(bus['postal5'].str.len() != 5).sum() == 221",
    "id": "20db60c372de42658571553c5df66dab",
    "idx": 92,
    "time": "2021-02-01T06:37:35.731Z",
    "type": "execution"
   },
   {
    "code": "# TEST\nbus['postal5'].isin(valid_zips).sum() == 6032",
    "id": "78be5bb1a84543658437bc7f4074cbdc",
    "idx": 93,
    "time": "2021-02-01T06:37:35.890Z",
    "type": "execution"
   },
   {
    "code": "# TEST\nbus['postal5'].isna().sum() == 221",
    "id": "dc63fbba04ae40df8d7a7d733e0c3bd6",
    "idx": 94,
    "time": "2021-02-01T06:37:35.978Z",
    "type": "execution"
   },
   {
    "code": "# HIDDEN TEST\n(bus['postal5'] == \"-9999\").sum() == 0",
    "id": "89c9fa7e38df4d67875672af416e05d5",
    "idx": 95,
    "time": "2021-02-01T06:37:36.125Z",
    "type": "execution"
   },
   {
    "id": "f5bd9042e56b49ea8a3e7a14bb9f554e",
    "time": "2021-02-01T06:37:36.212Z",
    "type": "completion"
   },
   {
    "code": "# HIDDEN TEST\nbus['postal5'].isna().sum() == 221",
    "id": "260560192b84473c8ffd4d43528e7b7d",
    "idx": 96,
    "time": "2021-02-01T06:37:36.269Z",
    "type": "execution"
   },
   {
    "id": "20db60c372de42658571553c5df66dab",
    "time": "2021-02-01T06:37:36.319Z",
    "type": "completion"
   },
   {
    "id": "78be5bb1a84543658437bc7f4074cbdc",
    "time": "2021-02-01T06:37:36.324Z",
    "type": "completion"
   },
   {
    "id": "dc63fbba04ae40df8d7a7d733e0c3bd6",
    "time": "2021-02-01T06:37:36.327Z",
    "type": "completion"
   },
   {
    "id": "89c9fa7e38df4d67875672af416e05d5",
    "time": "2021-02-01T06:37:36.331Z",
    "type": "completion"
   },
   {
    "id": "260560192b84473c8ffd4d43528e7b7d",
    "time": "2021-02-01T06:37:36.478Z",
    "type": "completion"
   },
   {
    "code": "ins.head(5)",
    "id": "458d8e395b56403fa5c4597a98183566",
    "idx": 99,
    "time": "2021-02-01T06:37:40.067Z",
    "type": "execution"
   },
   {
    "id": "458d8e395b56403fa5c4597a98183566",
    "time": "2021-02-01T06:37:40.255Z",
    "type": "completion"
   },
   {
    "code": "is_ins_iid_a_primary_key = ins['iid'].value_counts().max() == 1 # SOLUTION",
    "id": "122dd2de2e95494ca570aa52a8e867f2",
    "idx": 101,
    "time": "2021-02-01T06:37:40.909Z",
    "type": "execution"
   },
   {
    "id": "122dd2de2e95494ca570aa52a8e867f2",
    "time": "2021-02-01T06:37:41.007Z",
    "type": "completion"
   },
   {
    "code": "# TEST\ntype(is_ins_iid_a_primary_key) == bool or type(is_ins_iid_a_primary_key) == np.bool_",
    "id": "7c27d95925ee4712874724bf662de407",
    "idx": 102,
    "time": "2021-02-01T06:37:41.257Z",
    "type": "execution"
   },
   {
    "id": "7c27d95925ee4712874724bf662de407",
    "time": "2021-02-01T06:37:41.413Z",
    "type": "completion"
   },
   {
    "code": "# HIDDEN TEST\nis_ins_iid_a_primary_key == True",
    "id": "ebecf3e7b7844a4f998893ddb8bc15fc",
    "idx": 103,
    "time": "2021-02-01T06:37:41.768Z",
    "type": "execution"
   },
   {
    "id": "ebecf3e7b7844a4f998893ddb8bc15fc",
    "time": "2021-02-01T06:37:41.899Z",
    "type": "completion"
   },
   {
    "code": "ins['bid'] = ins['iid'].str.split(\"_\", expand=True)[0].astype(int) # SOLUTION",
    "id": "92fb34dc84924de086652dcfe30dd241",
    "idx": 106,
    "time": "2021-02-01T06:37:43.811Z",
    "type": "execution"
   },
   {
    "id": "92fb34dc84924de086652dcfe30dd241",
    "time": "2021-02-01T06:37:43.932Z",
    "type": "completion"
   },
   {
    "code": "# TEST\n'bid' in ins.columns",
    "id": "cadc10ea17504fe280562f974134d8b7",
    "idx": 107,
    "time": "2021-02-01T06:37:44.362Z",
    "type": "execution"
   },
   {
    "id": "cadc10ea17504fe280562f974134d8b7",
    "time": "2021-02-01T06:37:44.505Z",
    "type": "completion"
   },
   {
    "code": "# TEST\nins['bid'].dtype == int",
    "id": "75264e50864c481782ff670c02c9a064",
    "idx": 108,
    "time": "2021-02-01T06:37:50.586Z",
    "type": "execution"
   },
   {
    "id": "75264e50864c481782ff670c02c9a064",
    "time": "2021-02-01T06:37:50.737Z",
    "type": "completion"
   },
   {
    "code": "# TEST\nlen(ins[ins['score'] > 0]['bid'].unique()) == 5724",
    "id": "3fd029b148574a0389da4f56c359e0f2",
    "idx": 109,
    "time": "2021-02-01T06:37:50.931Z",
    "type": "execution"
   },
   {
    "id": "3fd029b148574a0389da4f56c359e0f2",
    "time": "2021-02-01T06:37:51.078Z",
    "type": "completion"
   },
   {
    "code": "# HIDDEN TEST\nins['bid'].equals(ins['iid'].str.split(\"_\", expand=True)[0].astype(\"int\"))",
    "id": "889c9fea301e4dcc83e5b09386a70c59",
    "idx": 110,
    "time": "2021-02-01T06:37:51.181Z",
    "type": "execution"
   },
   {
    "code": "invalid_bid_count = (~ins['bid'].isin(bus['bid'])).sum() # SOLUTION",
    "id": "46856fa8ef6f45458c72c691d2c7ca7b",
    "idx": 112,
    "time": "2021-02-01T06:37:51.397Z",
    "type": "execution"
   },
   {
    "id": "889c9fea301e4dcc83e5b09386a70c59",
    "time": "2021-02-01T06:37:51.513Z",
    "type": "completion"
   },
   {
    "id": "46856fa8ef6f45458c72c691d2c7ca7b",
    "time": "2021-02-01T06:37:51.517Z",
    "type": "completion"
   },
   {
    "code": "# TEST\ninvalid_bid_count >= 0 ",
    "id": "efb670749c4047d89be8faa427555a4a",
    "idx": 113,
    "time": "2021-02-01T06:37:53.549Z",
    "type": "execution"
   },
   {
    "id": "efb670749c4047d89be8faa427555a4a",
    "time": "2021-02-01T06:37:53.689Z",
    "type": "completion"
   },
   {
    "code": "# HIDDEN TEST\ninvalid_bid_count == 0",
    "id": "305c938076e04e3ba23bee9dcbe0e0f7",
    "idx": 114,
    "time": "2021-02-01T06:37:53.791Z",
    "type": "execution"
   },
   {
    "id": "305c938076e04e3ba23bee9dcbe0e0f7",
    "time": "2021-02-01T06:37:54.036Z",
    "type": "completion"
   },
   {
    "code": "# True or False: The column ins['bid'] is a foreign key \n#   referencing the bus['bid'] primary key.\n\nq4b_is_foreign_key = True # SOLUTION",
    "id": "883aef5e4dd64e2095b17655ba204907",
    "idx": 116,
    "time": "2021-02-01T06:37:54.344Z",
    "type": "execution"
   },
   {
    "id": "883aef5e4dd64e2095b17655ba204907",
    "time": "2021-02-01T06:37:54.443Z",
    "type": "completion"
   },
   {
    "code": "# True or False: The column ins['bid'] is a foreign key \n#   referencing the bus['bid'] primary key.\n\nq3b_is_foreign_key = True # SOLUTION",
    "id": "883aef5e4dd64e2095b17655ba204907",
    "idx": 116,
    "time": "2021-02-01T06:38:02.833Z",
    "type": "execution"
   },
   {
    "code": "# TEST\ntype(q3b_is_foreign_key) == bool",
    "id": "0bf810c0b49940138eacb3b51022fd5e",
    "idx": 117,
    "time": "2021-02-01T06:38:03.001Z",
    "type": "execution"
   },
   {
    "id": "883aef5e4dd64e2095b17655ba204907",
    "time": "2021-02-01T06:38:03.153Z",
    "type": "completion"
   },
   {
    "code": "# HIDDEN TEST\nq3b_is_foreign_key == True",
    "id": "23e59a4dcfab421782ea92f4d498109b",
    "idx": 118,
    "time": "2021-02-01T06:38:03.170Z",
    "type": "execution"
   },
   {
    "id": "0bf810c0b49940138eacb3b51022fd5e",
    "time": "2021-02-01T06:38:03.214Z",
    "type": "completion"
   },
   {
    "id": "23e59a4dcfab421782ea92f4d498109b",
    "time": "2021-02-01T06:38:03.351Z",
    "type": "completion"
   },
   {
    "code": "ins_date_type = type(ins['date'][0]) # SOLUTION\nins_date_type",
    "id": "3b9f36d1572b469eb38dcd48b742697a",
    "idx": 121,
    "time": "2021-02-01T06:38:08.795Z",
    "type": "execution"
   },
   {
    "code": "# TEST\ntype(ins_date_type) == type",
    "id": "2c6dee8ccc5944999da338716c8d42b8",
    "idx": 122,
    "time": "2021-02-01T06:38:08.946Z",
    "type": "execution"
   },
   {
    "id": "3b9f36d1572b469eb38dcd48b742697a",
    "time": "2021-02-01T06:38:09.119Z",
    "type": "completion"
   },
   {
    "id": "2c6dee8ccc5944999da338716c8d42b8",
    "time": "2021-02-01T06:38:09.122Z",
    "type": "completion"
   },
   {
    "code": "ins['bid'] = ins['iid'].str.split(\"_\", expand=True)[0].astype(int) # SOLUTION",
    "id": "92fb34dc84924de086652dcfe30dd241",
    "idx": 106,
    "time": "2021-02-01T06:39:03.361Z",
    "type": "execution"
   },
   {
    "id": "92fb34dc84924de086652dcfe30dd241",
    "time": "2021-02-01T06:39:03.546Z",
    "type": "completion"
   },
   {
    "code": "# TEST\n'bid' in ins.columns",
    "id": "cadc10ea17504fe280562f974134d8b7",
    "idx": 107,
    "time": "2021-02-01T06:39:04.146Z",
    "type": "execution"
   },
   {
    "id": "cadc10ea17504fe280562f974134d8b7",
    "time": "2021-02-01T06:39:04.294Z",
    "type": "completion"
   },
   {
    "code": "# TEST\nins['bid'].dtype == int",
    "id": "75264e50864c481782ff670c02c9a064",
    "idx": 108,
    "time": "2021-02-01T06:39:04.677Z",
    "type": "execution"
   },
   {
    "id": "75264e50864c481782ff670c02c9a064",
    "time": "2021-02-01T06:39:04.823Z",
    "type": "completion"
   },
   {
    "code": "# TEST\nlen(ins[ins['score'] > 0]['bid'].unique()) == 5724",
    "id": "3fd029b148574a0389da4f56c359e0f2",
    "idx": 109,
    "time": "2021-02-01T06:39:05.108Z",
    "type": "execution"
   },
   {
    "id": "3fd029b148574a0389da4f56c359e0f2",
    "time": "2021-02-01T06:39:05.251Z",
    "type": "completion"
   },
   {
    "code": "# HIDDEN TEST\nins['bid'].equals(ins['iid'].str.split(\"_\", expand=True)[0].astype(\"int\"))",
    "id": "889c9fea301e4dcc83e5b09386a70c59",
    "idx": 110,
    "time": "2021-02-01T06:39:05.759Z",
    "type": "execution"
   },
   {
    "id": "889c9fea301e4dcc83e5b09386a70c59",
    "time": "2021-02-01T06:39:05.914Z",
    "type": "completion"
   },
   {
    "code": "invalid_bid_count = (~ins['bid'].isin(bus['bid'])).sum() # SOLUTION",
    "id": "46856fa8ef6f45458c72c691d2c7ca7b",
    "idx": 112,
    "time": "2021-02-01T06:39:08.101Z",
    "type": "execution"
   },
   {
    "id": "46856fa8ef6f45458c72c691d2c7ca7b",
    "time": "2021-02-01T06:39:08.194Z",
    "type": "completion"
   },
   {
    "code": "# TEST\ninvalid_bid_count >= 0 ",
    "id": "efb670749c4047d89be8faa427555a4a",
    "idx": 113,
    "time": "2021-02-01T06:39:08.398Z",
    "type": "execution"
   },
   {
    "id": "efb670749c4047d89be8faa427555a4a",
    "time": "2021-02-01T06:39:08.546Z",
    "type": "completion"
   },
   {
    "code": "# HIDDEN TEST\ninvalid_bid_count == 0",
    "id": "305c938076e04e3ba23bee9dcbe0e0f7",
    "idx": 114,
    "time": "2021-02-01T06:39:08.672Z",
    "type": "execution"
   },
   {
    "id": "305c938076e04e3ba23bee9dcbe0e0f7",
    "time": "2021-02-01T06:39:08.796Z",
    "type": "completion"
   },
   {
    "code": "# True or False: The column ins['bid'] is a foreign key \n#   referencing the bus['bid'] primary key.\n\nq3b_is_foreign_key = True # SOLUTION",
    "id": "883aef5e4dd64e2095b17655ba204907",
    "idx": 116,
    "time": "2021-02-01T06:39:09.125Z",
    "type": "execution"
   },
   {
    "id": "883aef5e4dd64e2095b17655ba204907",
    "time": "2021-02-01T06:39:09.239Z",
    "type": "completion"
   },
   {
    "code": "# TEST\ntype(q3b_is_foreign_key) == bool",
    "id": "0bf810c0b49940138eacb3b51022fd5e",
    "idx": 117,
    "time": "2021-02-01T06:39:09.624Z",
    "type": "execution"
   },
   {
    "id": "0bf810c0b49940138eacb3b51022fd5e",
    "time": "2021-02-01T06:39:09.769Z",
    "type": "completion"
   },
   {
    "code": "# HIDDEN TEST\nq3b_is_foreign_key == True",
    "id": "23e59a4dcfab421782ea92f4d498109b",
    "idx": 118,
    "time": "2021-02-01T06:39:09.889Z",
    "type": "execution"
   },
   {
    "id": "23e59a4dcfab421782ea92f4d498109b",
    "time": "2021-02-01T06:39:10.036Z",
    "type": "completion"
   },
   {
    "code": "ins_date_type = type(ins['date'][0]) # SOLUTION\nins_date_type",
    "id": "3b9f36d1572b469eb38dcd48b742697a",
    "idx": 121,
    "time": "2021-02-01T06:39:10.939Z",
    "type": "execution"
   },
   {
    "id": "3b9f36d1572b469eb38dcd48b742697a",
    "time": "2021-02-01T06:39:11.100Z",
    "type": "completion"
   },
   {
    "code": "import numpy as np\nimport pandas as pd\n\nimport matplotlib\nimport matplotlib.pyplot as plt\nimport seaborn as sns\nsns.set()\nplt.style.use('fivethirtyeight')\n\nimport zipfile\nfrom pathlib import Path\nimport os # Used to interact with the file system",
    "id": "3dbc676cf49c44a5aee53c547081e94a",
    "idx": 5,
    "time": "2021-02-01T06:39:20.692Z",
    "type": "execution"
   },
   {
    "code": "# path to directory containing data\ndsDir = Path('data')\n\nbus = pd.read_csv(dsDir/'bus.csv', encoding='ISO-8859-1') # SOLUTION\nins2vio = pd.read_csv(dsDir/'ins2vio.csv') # SOLUTION\nins = pd.read_csv(dsDir/'ins.csv') # SOLUTION\nvio = pd.read_csv(dsDir/'vio.csv') # SOLUTION\n\n#This code is essential for the autograder to function properly. Do not edit\nins_test = ins",
    "id": "1a425a83859b41e48b586476c2461a9c",
    "idx": 8,
    "time": "2021-02-01T06:39:20.940Z",
    "type": "execution"
   },
   {
    "code": "bus.head() # SOLUTION",
    "id": "1e1393afe5e04f6086e3499c9afda45c",
    "idx": 10,
    "time": "2021-02-01T06:39:21.105Z",
    "type": "execution"
   },
   {
    "code": "bus.describe() # SOLUTION",
    "id": "8b2825f776c5495b9b2739f064d2546e",
    "idx": 12,
    "time": "2021-02-01T06:39:21.330Z",
    "type": "execution"
   },
   {
    "code": "assert all(bus.columns == ['business id column', 'name', 'address', 'city', 'state', 'postal_code',\n                           'latitude', 'longitude', 'phone_number'])\nassert 6250 <= len(bus) <= 6260\n\nassert all(ins.columns == ['iid', 'date', 'score', 'type'])\nassert 26660 <= len(ins) <= 26670\n\nassert all(vio.columns == ['description', 'risk_category', 'vid'])\nassert 60 <= len(vio) <= 65\n\nassert all(ins2vio.columns == ['iid', 'vid'])\nassert 40210 <= len(ins2vio) <= 40220",
    "id": "71d65e003b564a02a0f02ecd8f5cb754",
    "idx": 15,
    "time": "2021-02-01T06:39:21.507Z",
    "type": "execution"
   },
   {
    "code": "bus_summary = pd.DataFrame(**{'columns': ['business id column', 'latitude', 'longitude'],\n 'data': {'business id column': {'50%': 75685.0, 'max': 102705.0, 'min': 19.0},\n  'latitude': {'50%': -9999.0, 'max': 37.824494, 'min': -9999.0},\n  'longitude': {'50%': -9999.0,\n   'max': 0.0,\n   'min': -9999.0}},\n 'index': ['min', '50%', 'max']})\n\nins_summary = pd.DataFrame(**{'columns': ['score'],\n 'data': {'score': {'50%': 76.0, 'max': 100.0, 'min': -1.0}},\n 'index': ['min', '50%', 'max']})\n\nvio_summary = pd.DataFrame(**{'columns': ['vid'],\n 'data': {'vid': {'50%': 103135.0, 'max': 103177.0, 'min': 103102.0}},\n 'index': ['min', '50%', 'max']})\n\nfrom IPython.display import display\n\nprint('What we expect from your Businesses dataframe:')\ndisplay(bus_summary)\nprint('What we expect from your Inspections dataframe:')\ndisplay(ins_summary)\nprint('What we expect from your Violations dataframe:')\ndisplay(vio_summary)",
    "id": "4f6a42a0c5194153be5692a8bf5eb561",
    "idx": 17,
    "time": "2021-02-01T06:39:21.736Z",
    "type": "execution"
   },
   {
    "code": "\"\"\"Run this cell to load this utility comparison function that we will use in various\ntests below (both tests you can see and those we run internally for grading).\n\nDo not modify the function in any way.\n\"\"\"\n\n\ndef df_allclose(actual, desired, columns=None, rtol=5e-2):\n    \"\"\"Compare selected columns of two dataframes on a few summary statistics.\n    \n    Compute the min, median and max of the two dataframes on the given columns, and compare\n    that they match numerically to the given relative tolerance.\n    \n    If they don't match, an AssertionError is raised (by `numpy.testing`).\n    \"\"\"    \n    # summary statistics to compare on\n    stats = ['min', '50%', 'max']\n    \n    # For the desired values, we can provide a full DF with the same structure as\n    # the actual data, or pre-computed summary statistics.\n    # We assume a pre-computed summary was provided if columns is None. In that case, \n    # `desired` *must* have the same structure as the actual's summary\n    if columns is None:\n        des = desired\n        columns = desired.columns\n    else:\n        des = desired[columns].describe().loc[stats]\n\n    # Extract summary stats from actual DF\n    act = actual[columns].describe().loc[stats]\n\n    return np.allclose(act, des, rtol)",
    "id": "dd0a15d8ab8c488aa670eaa03251f0de",
    "idx": 20,
    "time": "2021-02-01T06:39:21.997Z",
    "type": "execution"
   },
   {
    "code": "# TEST\ndf_allclose(bus.rename(columns = {\"bid\" : \"business id column\"}), bus_summary)",
    "id": "e28a5e13e3234baeb53c7662ac9a7855",
    "idx": 21,
    "time": "2021-02-01T06:39:22.089Z",
    "type": "execution"
   },
   {
    "code": "# TEST\ndf_allclose(ins_test, ins_summary)",
    "id": "5dd44b0e57e8487088a4acb56bf2f21e",
    "idx": 22,
    "time": "2021-02-01T06:39:22.158Z",
    "type": "execution"
   },
   {
    "code": "# TEST\ndf_allclose(vio, vio_summary)",
    "id": "53e885acc2b6477d9456e79ba654d3ea",
    "idx": 23,
    "time": "2021-02-01T06:39:22.227Z",
    "type": "execution"
   },
   {
    "code": "# TEST\ndf_allclose(ins2vio, vio_summary)",
    "id": "a76271c0f1604bf583f31a10bc0a8a92",
    "idx": 24,
    "time": "2021-02-01T06:39:22.326Z",
    "type": "execution"
   },
   {
    "code": "# HIDDEN TEST\ndf_allclose(bus.rename(columns = {\"bid\" : \"business id column\"}), pd.read_csv(dsDir/'bus.csv', encoding='ISO-8859-1'), ['business id column', 'latitude', 'longitude'])",
    "id": "0127407935d8490b9e44e9462d377dc9",
    "idx": 25,
    "time": "2021-02-01T06:39:22.410Z",
    "type": "execution"
   },
   {
    "code": "# HIDDEN TEST\ndf_allclose(ins_test, pd.read_csv(dsDir/'ins.csv'), ['iid', 'score'])",
    "id": "62ee3d550a6943b2b3fed1d0c2ba13c6",
    "idx": 26,
    "time": "2021-02-01T06:39:22.498Z",
    "type": "execution"
   },
   {
    "code": "# HIDDEN TEST\ndf_allclose(vio, pd.read_csv(dsDir/'vio.csv'), ['vid'])",
    "id": "1dadb4a62fb34c958ae921f98683542a",
    "idx": 27,
    "time": "2021-02-01T06:39:22.564Z",
    "type": "execution"
   },
   {
    "code": "# HIDDEN TEST\ndf_allclose(ins2vio, pd.read_csv(dsDir/'ins2vio.csv'), ['vid'])",
    "id": "0f44268e47364e6295b6294e868c0e62",
    "idx": 28,
    "time": "2021-02-01T06:39:22.631Z",
    "type": "execution"
   },
   {
    "id": "3dbc676cf49c44a5aee53c547081e94a",
    "time": "2021-02-01T06:39:22.959Z",
    "type": "completion"
   },
   {
    "id": "1a425a83859b41e48b586476c2461a9c",
    "time": "2021-02-01T06:39:22.976Z",
    "type": "completion"
   },
   {
    "id": "1e1393afe5e04f6086e3499c9afda45c",
    "time": "2021-02-01T06:39:22.983Z",
    "type": "completion"
   },
   {
    "id": "8b2825f776c5495b9b2739f064d2546e",
    "time": "2021-02-01T06:39:22.987Z",
    "type": "completion"
   },
   {
    "id": "71d65e003b564a02a0f02ecd8f5cb754",
    "time": "2021-02-01T06:39:22.989Z",
    "type": "completion"
   },
   {
    "code": "bus.head()",
    "id": "b9b0cf94d407458485dba303b1b8a5dd",
    "idx": 34,
    "time": "2021-02-01T06:39:23.096Z",
    "type": "execution"
   },
   {
    "code": "bus = bus.rename(columns={\"business id column\": \"bid\"})",
    "id": "c9d8d5d3002b4722821ab5ab1a2d4297",
    "idx": 36,
    "time": "2021-02-01T06:39:23.352Z",
    "type": "execution"
   },
   {
    "code": "is_bid_unique = bus['bid'].value_counts().max() == 1 # SOLUTION",
    "id": "6ed53ffc0d3d4af0ac532782e12a7fe5",
    "idx": 38,
    "time": "2021-02-01T06:39:23.460Z",
    "type": "execution"
   },
   {
    "code": "# TEST\nis_bid_unique or ~is_bid_unique",
    "id": "074ab6e990ae401e9a0ba01562f613fc",
    "idx": 39,
    "time": "2021-02-01T06:39:23.527Z",
    "type": "execution"
   },
   {
    "code": "# HIDDEN TEST\nis_bid_unique",
    "id": "b3d396117d7540b99495ad52d765aeaa",
    "idx": 40,
    "time": "2021-02-01T06:39:23.596Z",
    "type": "execution"
   },
   {
    "code": "top_names = np.array(bus['name'].value_counts()[:5].index) # SOLUTION\ntop_names",
    "id": "c80810f6a9554ce28e2add24a63f7efc",
    "idx": 42,
    "time": "2021-02-01T06:39:23.808Z",
    "type": "execution"
   },
   {
    "code": "top_addresses = np.array(bus['address'].value_counts()[:5].index) # SOLUTION\ntop_addresses",
    "id": "c6dc53481d50426cb986cb693bb734a4",
    "idx": 43,
    "time": "2021-02-01T06:39:23.877Z",
    "type": "execution"
   },
   {
    "code": "# TEST\nassert type(top_names) == np.ndarray\nassert type(top_addresses) == np.ndarray\nassert len(top_names) == 5\nlen(top_addresses) == 5",
    "id": "8ebacf00b20047aabe85c6d18ef2240c",
    "idx": 44,
    "time": "2021-02-01T06:39:23.947Z",
    "type": "execution"
   },
   {
    "code": "# TEST \nassert top_names[0] == \"Peet's Coffee & Tea\"\ntop_addresses[0] == 'Off The Grid'",
    "id": "1ad93c86247e4a1787e95938643fed62",
    "idx": 45,
    "time": "2021-02-01T06:39:24.020Z",
    "type": "execution"
   },
   {
    "code": "# HIDDEN TEST\nnp.all(top_names == np.array(bus['name'].value_counts()[:5].index))",
    "id": "97f4b267bd8a4cc9aed7a96b639a7fd6",
    "idx": 46,
    "time": "2021-02-01T06:39:24.089Z",
    "type": "execution"
   },
   {
    "code": "# HIDDEN TEST\nnp.all(top_addresses == np.array(bus['address'].value_counts()[:5].index))",
    "id": "becf7829d8424c0582f7e7cb7aa22c48",
    "idx": 47,
    "time": "2021-02-01T06:39:24.240Z",
    "type": "execution"
   },
   {
    "code": "# What does each record represent?  Valid answers are:\n#    \"One location of a restaurant.\"\n#    \"A chain of restaurants.\"\n#    \"A city block.\"\nq2d_part1 = \"One location of a restaurant.\" # SOLUTION\n\n# What is the minimal primary key? Valid answers are:\n#    \"bid\"\n#    \"bid, name\"\n#    \"bid, name, address\"\nq2d_part2 = \"bid\" # SOLUTION",
    "id": "f1c0f66446fa45dd98ca05591db1120c",
    "idx": 49,
    "time": "2021-02-01T06:39:24.383Z",
    "type": "execution"
   },
   {
    "code": "# TEST\nq2d_part1 in set([\"One location of a restaurant.\", \"A chain of restaurants.\", \"A city block.\"])",
    "id": "77decdef1f0b4ab78add46ac8885e472",
    "idx": 50,
    "time": "2021-02-01T06:39:24.450Z",
    "type": "execution"
   },
   {
    "code": "# TEST\nq2d_part2 in set([\"bid\", \"bid, name\", \"bid, name, address\"])",
    "id": "35d3f8a22ab6422e863e24d0e88b9479",
    "idx": 51,
    "time": "2021-02-01T06:39:24.519Z",
    "type": "execution"
   },
   {
    "code": "# HIDDEN TEST\nq2d_part1 == \"One location of a restaurant.\" ",
    "id": "ed981a8b711a4291bfac51649a15843c",
    "idx": 52,
    "time": "2021-02-01T06:39:24.693Z",
    "type": "execution"
   },
   {
    "code": "# HIDDEN TEST\nq2d_part2 == \"bid\"",
    "id": "eb3ac739b5c64e7d8892847c93cd34bb",
    "idx": 53,
    "time": "2021-02-01T06:39:24.774Z",
    "type": "execution"
   },
   {
    "code": "zip_counts = bus.groupby(\"postal_code\").size().sort_values(ascending=False) # SOLUTION\nprint(zip_counts.to_string())",
    "id": "e882ef0410fc466080cbac4f807e1426",
    "idx": 56,
    "time": "2021-02-01T06:39:25.013Z",
    "type": "execution"
   },
   {
    "code": "# TEST\ntype(zip_counts) == pd.Series",
    "id": "9118841bd7b14373819355a5aa1bacb5",
    "idx": 57,
    "time": "2021-02-01T06:39:25.090Z",
    "type": "execution"
   },
   {
    "code": "# TEST\nzip_counts.shape[0] == 63",
    "id": "68bb60b8bdf64938bd8f0931a952886b",
    "idx": 58,
    "time": "2021-02-01T06:39:25.158Z",
    "type": "execution"
   },
   {
    "code": "# TEST\nzip_counts[\"94103\"] == 562",
    "id": "cc490af0a5ad4e2380d8d8b4aa9349cd",
    "idx": 59,
    "time": "2021-02-01T06:39:25.227Z",
    "type": "execution"
   },
   {
    "code": "# HIDDEN TEST\nnp.isclose(zip_counts.var(), bus['postal_code'].value_counts().var())",
    "id": "6448504c8d944476979daf326355c12d",
    "idx": 60,
    "time": "2021-02-01T06:39:25.298Z",
    "type": "execution"
   },
   {
    "code": "# HIDDEN TEST\nnp.isclose(zip_counts.mean(), bus['postal_code'].value_counts().mean())",
    "id": "769030ed3b1b40ce8971e4577f497a1e",
    "idx": 61,
    "time": "2021-02-01T06:39:25.365Z",
    "type": "execution"
   },
   {
    "code": "# The ZIP code column is which of the following type of data:\n#   \"Quantitative Continuous\" \n#   \"Quantitative Discrete\"\n#   \"Qualitative Ordinal\"\n#   \"Qualitative Nominal\"\nq3b_part1 = \"Qualitative Nominal\" # SOLUTION\n\n# What Python data type is used to represent a ZIP code? \n#    \"str\"\n#    \"int\"\n#    \"bool\"\n#    \"float\"\nq3b_part2 = \"str\" # SOLUTION",
    "id": "25d9a418bf484c668d3c665809b8efcc",
    "idx": 63,
    "time": "2021-02-01T06:39:25.581Z",
    "type": "execution"
   },
   {
    "code": "# TEST\nq3b_part1 in set([\"Quantitative Continuous\", \"Quantitative Discrete\", \n                  \"Qualitative Ordinal\", \"Qualitative Nominal\"])",
    "id": "231a409b36c04e0689a30d583068cfcd",
    "idx": 64,
    "time": "2021-02-01T06:39:25.648Z",
    "type": "execution"
   },
   {
    "code": "# TEST\nq3b_part2 in set([\"str\", \"int\", \"bool\", \"float\"])",
    "id": "211685cc7c8d49219406905eebf5c83f",
    "idx": 65,
    "time": "2021-02-01T06:39:25.716Z",
    "type": "execution"
   },
   {
    "code": "# HIDDEN TEST\nq3b_part1 == \"Qualitative Nominal\"",
    "id": "99ae171888884bcd913a5bb4b74e7d94",
    "idx": 66,
    "time": "2021-02-01T06:39:25.783Z",
    "type": "execution"
   },
   {
    "code": "# HIDDEN TEST\nq3b_part2 == \"str\"",
    "id": "1bc6fcb482b943588b04bce1a0c7de4b",
    "idx": 67,
    "time": "2021-02-01T06:39:25.853Z",
    "type": "execution"
   },
   {
    "code": "valid_zips = pd.read_json(\"data/sf_zipcodes.json\", dtype=\"str\")['zip_codes'] # SOLUTION\nvalid_zips.head()",
    "id": "3276026019924a7e8f3300c100e47129",
    "idx": 70,
    "time": "2021-02-01T06:39:26.106Z",
    "type": "execution"
   },
   {
    "code": "# TEST\nvalid_zips.dtype == object ",
    "id": "b8956d35377e48cb82d90d99122e2388",
    "idx": 71,
    "time": "2021-02-01T06:39:26.256Z",
    "type": "execution"
   },
   {
    "code": "# TEST\ntype(valid_zips) == pd.Series",
    "id": "0b186b10e2d84dbc83c681fc0f23042b",
    "idx": 72,
    "time": "2021-02-01T06:39:26.351Z",
    "type": "execution"
   },
   {
    "code": "# HIDDEN TEST\nnp.all(valid_zips.sort_values() == pd.read_json(\"data/sf_zipcodes.json\", dtype=\"str\")['zip_codes'].sort_values()) ",
    "id": "58227a37f3e64f7ba767f5756e357350",
    "idx": 73,
    "time": "2021-02-01T06:39:26.425Z",
    "type": "execution"
   },
   {
    "code": "invalid_zip_bus = bus[~bus['postal_code'].isin(valid_zips)] # SOLUTION\ninvalid_zip_bus.head(20)",
    "id": "d908669600dd42418c82b1d65e126f5b",
    "idx": 75,
    "time": "2021-02-01T06:39:26.535Z",
    "type": "execution"
   },
   {
    "code": "# TEST\ntype(invalid_zip_bus) == pd.DataFrame",
    "id": "3c00c0f050aa46bb8a3635b730b3418e",
    "idx": 76,
    "time": "2021-02-01T06:39:26.614Z",
    "type": "execution"
   },
   {
    "code": "# TEST\nlen(invalid_zip_bus) == 230",
    "id": "9a5f7160acc74e72848f7ebe1dc3e3a1",
    "idx": 77,
    "time": "2021-02-01T06:39:26.769Z",
    "type": "execution"
   },
   {
    "code": "# HIDDEN TEST\nset(invalid_zip_bus['postal_code']) == set(bus[~bus['postal_code'].isin(valid_zips)]['postal_code'])",
    "id": "75f0f74e78f645ee8ba3ecd0b5bd7d44",
    "idx": 78,
    "time": "2021-02-01T06:39:26.849Z",
    "type": "execution"
   },
   {
    "code": "missing_zip_address_count = bus[bus['postal_code'] == \"-9999\"]['address'].value_counts() # SOLUTION\nmissing_zip_address_count.head()",
    "id": "4550a0c50ac349199b6eac4e2d6009b8",
    "idx": 80,
    "time": "2021-02-01T06:39:26.958Z",
    "type": "execution"
   },
   {
    "code": "# TEST\ntype(missing_zip_address_count) == pd.Series",
    "id": "239f90b16f49466f9585a0e49c93fa81",
    "idx": 81,
    "time": "2021-02-01T06:39:27.030Z",
    "type": "execution"
   },
   {
    "code": "# TEST\nlen(missing_zip_address_count) == 135",
    "id": "47a7be6fbf2643248085627ea4f59ce7",
    "idx": 82,
    "time": "2021-02-01T06:39:27.183Z",
    "type": "execution"
   },
   {
    "code": "# TEST\nmissing_zip_address_count['3914 Judah St'] == 1",
    "id": "f768d975a0de4dfa86a6e01aaced95e6",
    "idx": 83,
    "time": "2021-02-01T06:39:27.265Z",
    "type": "execution"
   },
   {
    "code": "# HIDDEN TEST\nmissing_zip_address_count['Off The Grid'] == 39",
    "id": "e76b006a0dfb4441bad4d7e981eab2d4",
    "idx": 84,
    "time": "2021-02-01T06:39:27.341Z",
    "type": "execution"
   },
   {
    "code": "# True or False: \n#  If we were to drop businesses with MISSING postal code values \n#   a particular class of business be affected.\nq2d_true_or_false = True # SOLUTION",
    "id": "9675d25fa8734cdc8bd5be188d69f171",
    "idx": 86,
    "time": "2021-02-01T06:39:27.450Z",
    "type": "execution"
   },
   {
    "code": "# TEST\ntype(q2d_true_or_false) == bool",
    "id": "911c2484318c48fd8fe4c7a8a09d6658",
    "idx": 87,
    "time": "2021-02-01T06:39:27.596Z",
    "type": "execution"
   },
   {
    "code": "# HIDDEN TEST\nq2d_true_or_false == True",
    "id": "7052af80d73649d28b9db3412a1b5019",
    "idx": 88,
    "time": "2021-02-01T06:39:27.683Z",
    "type": "execution"
   },
   {
    "code": "bus['postal5'] = None\n# BEGIN SOLUTION\nbus['postal5'] = bus['postal_code'].str[:5]\nbus.loc[~bus['postal5'].isin(valid_zips), 'postal5'] = None \n# END SOLUTION\n\n# Checking the corrected postal5 column\nbus.loc[invalid_zip_bus.index, ['bid', 'name', 'postal_code', 'postal5']]",
    "id": "3d8ebbb447df46f1869787d1c15ff04a",
    "idx": 90,
    "time": "2021-02-01T06:39:27.807Z",
    "type": "execution"
   },
   {
    "code": "# TEST\n'postal5' in bus.columns",
    "id": "f5bd9042e56b49ea8a3e7a14bb9f554e",
    "idx": 91,
    "time": "2021-02-01T06:39:27.884Z",
    "type": "execution"
   },
   {
    "code": "# TEST\n(bus['postal5'].str.len() != 5).sum() == 221",
    "id": "20db60c372de42658571553c5df66dab",
    "idx": 92,
    "time": "2021-02-01T06:39:27.952Z",
    "type": "execution"
   },
   {
    "code": "# TEST\nbus['postal5'].isin(valid_zips).sum() == 6032",
    "id": "78be5bb1a84543658437bc7f4074cbdc",
    "idx": 93,
    "time": "2021-02-01T06:39:28.096Z",
    "type": "execution"
   },
   {
    "code": "# TEST\nbus['postal5'].isna().sum() == 221",
    "id": "dc63fbba04ae40df8d7a7d733e0c3bd6",
    "idx": 94,
    "time": "2021-02-01T06:39:28.191Z",
    "type": "execution"
   },
   {
    "code": "# HIDDEN TEST\n(bus['postal5'] == \"-9999\").sum() == 0",
    "id": "89c9fa7e38df4d67875672af416e05d5",
    "idx": 95,
    "time": "2021-02-01T06:39:28.259Z",
    "type": "execution"
   },
   {
    "code": "# HIDDEN TEST\nbus['postal5'].isna().sum() == 221",
    "id": "260560192b84473c8ffd4d43528e7b7d",
    "idx": 96,
    "time": "2021-02-01T06:39:28.335Z",
    "type": "execution"
   },
   {
    "code": "ins.head(5)",
    "id": "458d8e395b56403fa5c4597a98183566",
    "idx": 99,
    "time": "2021-02-01T06:39:28.573Z",
    "type": "execution"
   },
   {
    "code": "is_ins_iid_a_primary_key = ins['iid'].value_counts().max() == 1 # SOLUTION",
    "id": "122dd2de2e95494ca570aa52a8e867f2",
    "idx": 101,
    "time": "2021-02-01T06:39:28.785Z",
    "type": "execution"
   },
   {
    "code": "# TEST\ntype(is_ins_iid_a_primary_key) == bool or type(is_ins_iid_a_primary_key) == np.bool_",
    "id": "7c27d95925ee4712874724bf662de407",
    "idx": 102,
    "time": "2021-02-01T06:39:28.861Z",
    "type": "execution"
   },
   {
    "code": "# HIDDEN TEST\nis_ins_iid_a_primary_key == True",
    "id": "ebecf3e7b7844a4f998893ddb8bc15fc",
    "idx": 103,
    "time": "2021-02-01T06:39:28.929Z",
    "type": "execution"
   },
   {
    "id": "4f6a42a0c5194153be5692a8bf5eb561",
    "time": "2021-02-01T06:39:29.179Z",
    "type": "completion"
   },
   {
    "id": "dd0a15d8ab8c488aa670eaa03251f0de",
    "time": "2021-02-01T06:39:29.286Z",
    "type": "completion"
   },
   {
    "id": "e28a5e13e3234baeb53c7662ac9a7855",
    "time": "2021-02-01T06:39:29.291Z",
    "type": "completion"
   },
   {
    "id": "5dd44b0e57e8487088a4acb56bf2f21e",
    "time": "2021-02-01T06:39:29.296Z",
    "type": "completion"
   },
   {
    "id": "53e885acc2b6477d9456e79ba654d3ea",
    "time": "2021-02-01T06:39:29.304Z",
    "type": "completion"
   },
   {
    "id": "a76271c0f1604bf583f31a10bc0a8a92",
    "time": "2021-02-01T06:39:29.313Z",
    "type": "completion"
   },
   {
    "id": "0127407935d8490b9e44e9462d377dc9",
    "time": "2021-02-01T06:39:29.318Z",
    "type": "completion"
   },
   {
    "id": "62ee3d550a6943b2b3fed1d0c2ba13c6",
    "time": "2021-02-01T06:39:29.322Z",
    "type": "completion"
   },
   {
    "id": "1dadb4a62fb34c958ae921f98683542a",
    "time": "2021-02-01T06:39:29.326Z",
    "type": "completion"
   },
   {
    "id": "0f44268e47364e6295b6294e868c0e62",
    "time": "2021-02-01T06:39:29.330Z",
    "type": "completion"
   },
   {
    "id": "b9b0cf94d407458485dba303b1b8a5dd",
    "time": "2021-02-01T06:39:29.355Z",
    "type": "completion"
   },
   {
    "id": "c9d8d5d3002b4722821ab5ab1a2d4297",
    "time": "2021-02-01T06:39:29.358Z",
    "type": "completion"
   },
   {
    "id": "6ed53ffc0d3d4af0ac532782e12a7fe5",
    "time": "2021-02-01T06:39:29.360Z",
    "type": "completion"
   },
   {
    "id": "074ab6e990ae401e9a0ba01562f613fc",
    "time": "2021-02-01T06:39:29.363Z",
    "type": "completion"
   },
   {
    "id": "b3d396117d7540b99495ad52d765aeaa",
    "time": "2021-02-01T06:39:29.452Z",
    "type": "completion"
   },
   {
    "id": "c80810f6a9554ce28e2add24a63f7efc",
    "time": "2021-02-01T06:39:29.472Z",
    "type": "completion"
   },
   {
    "id": "c6dc53481d50426cb986cb693bb734a4",
    "time": "2021-02-01T06:39:29.478Z",
    "type": "completion"
   },
   {
    "id": "8ebacf00b20047aabe85c6d18ef2240c",
    "time": "2021-02-01T06:39:29.481Z",
    "type": "completion"
   },
   {
    "id": "1ad93c86247e4a1787e95938643fed62",
    "time": "2021-02-01T06:39:29.485Z",
    "type": "completion"
   },
   {
    "id": "97f4b267bd8a4cc9aed7a96b639a7fd6",
    "time": "2021-02-01T06:39:29.492Z",
    "type": "completion"
   },
   {
    "id": "becf7829d8424c0582f7e7cb7aa22c48",
    "time": "2021-02-01T06:39:29.498Z",
    "type": "completion"
   },
   {
    "id": "f1c0f66446fa45dd98ca05591db1120c",
    "time": "2021-02-01T06:39:29.500Z",
    "type": "completion"
   },
   {
    "id": "77decdef1f0b4ab78add46ac8885e472",
    "time": "2021-02-01T06:39:29.503Z",
    "type": "completion"
   },
   {
    "id": "35d3f8a22ab6422e863e24d0e88b9479",
    "time": "2021-02-01T06:39:29.508Z",
    "type": "completion"
   },
   {
    "id": "ed981a8b711a4291bfac51649a15843c",
    "time": "2021-02-01T06:39:29.512Z",
    "type": "completion"
   },
   {
    "id": "eb3ac739b5c64e7d8892847c93cd34bb",
    "time": "2021-02-01T06:39:29.515Z",
    "type": "completion"
   },
   {
    "id": "e882ef0410fc466080cbac4f807e1426",
    "time": "2021-02-01T06:39:29.519Z",
    "type": "completion"
   },
   {
    "id": "9118841bd7b14373819355a5aa1bacb5",
    "time": "2021-02-01T06:39:29.523Z",
    "type": "completion"
   },
   {
    "id": "68bb60b8bdf64938bd8f0931a952886b",
    "time": "2021-02-01T06:39:29.527Z",
    "type": "completion"
   },
   {
    "id": "cc490af0a5ad4e2380d8d8b4aa9349cd",
    "time": "2021-02-01T06:39:29.530Z",
    "type": "completion"
   },
   {
    "id": "6448504c8d944476979daf326355c12d",
    "time": "2021-02-01T06:39:29.534Z",
    "type": "completion"
   },
   {
    "id": "769030ed3b1b40ce8971e4577f497a1e",
    "time": "2021-02-01T06:39:29.538Z",
    "type": "completion"
   },
   {
    "id": "25d9a418bf484c668d3c665809b8efcc",
    "time": "2021-02-01T06:39:29.540Z",
    "type": "completion"
   },
   {
    "id": "231a409b36c04e0689a30d583068cfcd",
    "time": "2021-02-01T06:39:29.543Z",
    "type": "completion"
   },
   {
    "id": "211685cc7c8d49219406905eebf5c83f",
    "time": "2021-02-01T06:39:29.547Z",
    "type": "completion"
   },
   {
    "id": "99ae171888884bcd913a5bb4b74e7d94",
    "time": "2021-02-01T06:39:29.551Z",
    "type": "completion"
   },
   {
    "id": "1bc6fcb482b943588b04bce1a0c7de4b",
    "time": "2021-02-01T06:39:29.654Z",
    "type": "completion"
   },
   {
    "id": "3276026019924a7e8f3300c100e47129",
    "time": "2021-02-01T06:39:29.662Z",
    "type": "completion"
   },
   {
    "id": "b8956d35377e48cb82d90d99122e2388",
    "time": "2021-02-01T06:39:29.665Z",
    "type": "completion"
   },
   {
    "id": "0b186b10e2d84dbc83c681fc0f23042b",
    "time": "2021-02-01T06:39:29.668Z",
    "type": "completion"
   },
   {
    "id": "58227a37f3e64f7ba767f5756e357350",
    "time": "2021-02-01T06:39:29.677Z",
    "type": "completion"
   },
   {
    "id": "d908669600dd42418c82b1d65e126f5b",
    "time": "2021-02-01T06:39:29.683Z",
    "type": "completion"
   },
   {
    "id": "3c00c0f050aa46bb8a3635b730b3418e",
    "time": "2021-02-01T06:39:29.687Z",
    "type": "completion"
   },
   {
    "id": "9a5f7160acc74e72848f7ebe1dc3e3a1",
    "time": "2021-02-01T06:39:29.691Z",
    "type": "completion"
   },
   {
    "id": "75f0f74e78f645ee8ba3ecd0b5bd7d44",
    "time": "2021-02-01T06:39:29.695Z",
    "type": "completion"
   },
   {
    "id": "4550a0c50ac349199b6eac4e2d6009b8",
    "time": "2021-02-01T06:39:29.698Z",
    "type": "completion"
   },
   {
    "id": "239f90b16f49466f9585a0e49c93fa81",
    "time": "2021-02-01T06:39:29.702Z",
    "type": "completion"
   },
   {
    "id": "47a7be6fbf2643248085627ea4f59ce7",
    "time": "2021-02-01T06:39:29.706Z",
    "type": "completion"
   },
   {
    "id": "f768d975a0de4dfa86a6e01aaced95e6",
    "time": "2021-02-01T06:39:29.709Z",
    "type": "completion"
   },
   {
    "id": "e76b006a0dfb4441bad4d7e981eab2d4",
    "time": "2021-02-01T06:39:29.713Z",
    "type": "completion"
   },
   {
    "id": "9675d25fa8734cdc8bd5be188d69f171",
    "time": "2021-02-01T06:39:29.715Z",
    "type": "completion"
   },
   {
    "id": "911c2484318c48fd8fe4c7a8a09d6658",
    "time": "2021-02-01T06:39:29.719Z",
    "type": "completion"
   },
   {
    "id": "7052af80d73649d28b9db3412a1b5019",
    "time": "2021-02-01T06:39:29.723Z",
    "type": "completion"
   },
   {
    "id": "3d8ebbb447df46f1869787d1c15ff04a",
    "time": "2021-02-01T06:39:29.727Z",
    "type": "completion"
   },
   {
    "id": "f5bd9042e56b49ea8a3e7a14bb9f554e",
    "time": "2021-02-01T06:39:29.730Z",
    "type": "completion"
   },
   {
    "id": "20db60c372de42658571553c5df66dab",
    "time": "2021-02-01T06:39:29.734Z",
    "type": "completion"
   },
   {
    "id": "78be5bb1a84543658437bc7f4074cbdc",
    "time": "2021-02-01T06:39:29.845Z",
    "type": "completion"
   },
   {
    "id": "dc63fbba04ae40df8d7a7d733e0c3bd6",
    "time": "2021-02-01T06:39:29.853Z",
    "type": "completion"
   },
   {
    "id": "89c9fa7e38df4d67875672af416e05d5",
    "time": "2021-02-01T06:39:29.858Z",
    "type": "completion"
   },
   {
    "id": "260560192b84473c8ffd4d43528e7b7d",
    "time": "2021-02-01T06:39:29.864Z",
    "type": "completion"
   },
   {
    "id": "458d8e395b56403fa5c4597a98183566",
    "time": "2021-02-01T06:39:29.868Z",
    "type": "completion"
   },
   {
    "id": "122dd2de2e95494ca570aa52a8e867f2",
    "time": "2021-02-01T06:39:29.873Z",
    "type": "completion"
   },
   {
    "id": "7c27d95925ee4712874724bf662de407",
    "time": "2021-02-01T06:39:29.879Z",
    "type": "completion"
   },
   {
    "id": "ebecf3e7b7844a4f998893ddb8bc15fc",
    "time": "2021-02-01T06:39:29.884Z",
    "type": "completion"
   },
   {
    "code": "ins['bid'] = ins['iid'].str.split(\"_\", expand=True)[0].astype(int) # SOLUTION",
    "id": "92fb34dc84924de086652dcfe30dd241",
    "idx": 106,
    "time": "2021-02-01T06:39:30.999Z",
    "type": "execution"
   },
   {
    "id": "92fb34dc84924de086652dcfe30dd241",
    "time": "2021-02-01T06:39:31.154Z",
    "type": "completion"
   },
   {
    "code": "# TEST\n'bid' in ins.columns",
    "id": "cadc10ea17504fe280562f974134d8b7",
    "idx": 107,
    "time": "2021-02-01T06:39:31.826Z",
    "type": "execution"
   },
   {
    "id": "cadc10ea17504fe280562f974134d8b7",
    "time": "2021-02-01T06:39:31.973Z",
    "type": "completion"
   },
   {
    "code": "# TEST\nins['bid'].dtype == int",
    "id": "75264e50864c481782ff670c02c9a064",
    "idx": 108,
    "time": "2021-02-01T06:39:32.541Z",
    "type": "execution"
   },
   {
    "id": "75264e50864c481782ff670c02c9a064",
    "time": "2021-02-01T06:39:32.692Z",
    "type": "completion"
   },
   {
    "code": "# TEST\nlen(ins[ins['score'] > 0]['bid'].unique()) == 5724",
    "id": "3fd029b148574a0389da4f56c359e0f2",
    "idx": 109,
    "time": "2021-02-01T06:39:32.800Z",
    "type": "execution"
   },
   {
    "code": "# HIDDEN TEST\nins['bid'].equals(ins['iid'].str.split(\"_\", expand=True)[0].astype(\"int\"))",
    "id": "889c9fea301e4dcc83e5b09386a70c59",
    "idx": 110,
    "time": "2021-02-01T06:39:32.953Z",
    "type": "execution"
   },
   {
    "id": "3fd029b148574a0389da4f56c359e0f2",
    "time": "2021-02-01T06:39:33.176Z",
    "type": "completion"
   },
   {
    "code": "invalid_bid_count = (~ins['bid'].isin(bus['bid'])).sum() # SOLUTION",
    "id": "46856fa8ef6f45458c72c691d2c7ca7b",
    "idx": 112,
    "time": "2021-02-01T06:39:33.277Z",
    "type": "execution"
   },
   {
    "code": "# TEST\ninvalid_bid_count >= 0 ",
    "id": "efb670749c4047d89be8faa427555a4a",
    "idx": 113,
    "time": "2021-02-01T06:39:33.446Z",
    "type": "execution"
   },
   {
    "id": "889c9fea301e4dcc83e5b09386a70c59",
    "time": "2021-02-01T06:39:33.512Z",
    "type": "completion"
   },
   {
    "id": "46856fa8ef6f45458c72c691d2c7ca7b",
    "time": "2021-02-01T06:39:33.519Z",
    "type": "completion"
   },
   {
    "code": "# HIDDEN TEST\ninvalid_bid_count == 0",
    "id": "305c938076e04e3ba23bee9dcbe0e0f7",
    "idx": 114,
    "time": "2021-02-01T06:39:33.604Z",
    "type": "execution"
   },
   {
    "id": "efb670749c4047d89be8faa427555a4a",
    "time": "2021-02-01T06:39:33.663Z",
    "type": "completion"
   },
   {
    "id": "305c938076e04e3ba23bee9dcbe0e0f7",
    "time": "2021-02-01T06:39:33.785Z",
    "type": "completion"
   },
   {
    "code": "# True or False: The column ins['bid'] is a foreign key \n#   referencing the bus['bid'] primary key.\n\nq3b_is_foreign_key = True # SOLUTION",
    "id": "883aef5e4dd64e2095b17655ba204907",
    "idx": 116,
    "time": "2021-02-01T06:39:33.871Z",
    "type": "execution"
   },
   {
    "code": "# TEST\ntype(q3b_is_foreign_key) == bool",
    "id": "0bf810c0b49940138eacb3b51022fd5e",
    "idx": 117,
    "time": "2021-02-01T06:39:33.951Z",
    "type": "execution"
   },
   {
    "code": "# HIDDEN TEST\nq3b_is_foreign_key == True",
    "id": "23e59a4dcfab421782ea92f4d498109b",
    "idx": 118,
    "time": "2021-02-01T06:39:34.111Z",
    "type": "execution"
   },
   {
    "id": "883aef5e4dd64e2095b17655ba204907",
    "time": "2021-02-01T06:39:34.293Z",
    "type": "completion"
   },
   {
    "id": "0bf810c0b49940138eacb3b51022fd5e",
    "time": "2021-02-01T06:39:34.297Z",
    "type": "completion"
   },
   {
    "id": "23e59a4dcfab421782ea92f4d498109b",
    "time": "2021-02-01T06:39:34.300Z",
    "type": "completion"
   },
   {
    "code": "ins_date_type = type(ins['date'][0]) # SOLUTION\nins_date_type",
    "id": "3b9f36d1572b469eb38dcd48b742697a",
    "idx": 121,
    "time": "2021-02-01T06:39:35.039Z",
    "type": "execution"
   },
   {
    "id": "3b9f36d1572b469eb38dcd48b742697a",
    "time": "2021-02-01T06:39:35.186Z",
    "type": "completion"
   },
   {
    "code": "ins['timestamp'] = pd.to_datetime(ins['date']) # SOLUTION",
    "id": "1a20bd4b3d124792bf75693e937fbe4c",
    "idx": 125,
    "time": "2021-02-01T06:39:51.973Z",
    "type": "execution"
   },
   {
    "id": "1a20bd4b3d124792bf75693e937fbe4c",
    "time": "2021-02-01T06:39:52.119Z",
    "type": "completion"
   },
   {
    "code": "# TEST\ntype(ins['timestamp'][1]) == pd.Timestamp",
    "id": "32a9aafbba56450d9f3ea6985c2f1186",
    "idx": 126,
    "time": "2021-02-01T06:39:52.151Z",
    "type": "execution"
   },
   {
    "id": "32a9aafbba56450d9f3ea6985c2f1186",
    "time": "2021-02-01T06:39:52.406Z",
    "type": "completion"
   },
   {
    "code": "earliest_date = ins['timestamp'].min() # SOLUTION\nlatest_date = ins['timestamp'].max() # SOLUTION\n\nprint(\"Earliest Date:\", earliest_date)\nprint(\"Latest Date:\", latest_date)",
    "id": "9114239534a54e7da15814fd20dfe886",
    "idx": 128,
    "time": "2021-02-01T06:39:52.492Z",
    "type": "execution"
   },
   {
    "code": "# TEST\ntype(earliest_date) == pd.Timestamp",
    "id": "bf9a31a632fa480189ee9826f8a40e9f",
    "idx": 129,
    "time": "2021-02-01T06:39:52.648Z",
    "type": "execution"
   },
   {
    "code": "# TEST\ntype(latest_date) == pd.Timestamp",
    "id": "6b753884fe0a4bbf80d082c12c571b67",
    "idx": 130,
    "time": "2021-02-01T06:39:52.817Z",
    "type": "execution"
   },
   {
    "id": "9114239534a54e7da15814fd20dfe886",
    "time": "2021-02-01T06:39:52.892Z",
    "type": "completion"
   },
   {
    "id": "bf9a31a632fa480189ee9826f8a40e9f",
    "time": "2021-02-01T06:39:52.896Z",
    "type": "completion"
   },
   {
    "id": "6b753884fe0a4bbf80d082c12c571b67",
    "time": "2021-02-01T06:39:52.982Z",
    "type": "completion"
   },
   {
    "code": "# HIDDEN TEST\nearliest_date == pd.Timestamp('2016-10-04 00:00:00')",
    "id": "1a2efac9b061452faa8063d01b81e222",
    "idx": 131,
    "time": "2021-02-01T06:39:55.881Z",
    "type": "execution"
   },
   {
    "id": "1a2efac9b061452faa8063d01b81e222",
    "time": "2021-02-01T06:39:56.023Z",
    "type": "completion"
   },
   {
    "code": "# HIDDEN TEST\nlatest_date == pd.Timestamp('2019-11-28 00:00:00')",
    "id": "fbda5e51527e475eb81ea24ba2398911",
    "idx": 132,
    "time": "2021-02-01T06:39:56.117Z",
    "type": "execution"
   },
   {
    "id": "fbda5e51527e475eb81ea24ba2398911",
    "time": "2021-02-01T06:39:56.413Z",
    "type": "completion"
   },
   {
    "code": "ins['year'] = ins['timestamp'].dt.year # SOLUTION",
    "id": "eb985ac0fdc645caa0c0f6ae96bd7d81",
    "idx": 134,
    "time": "2021-02-01T06:39:56.517Z",
    "type": "execution"
   },
   {
    "id": "eb985ac0fdc645caa0c0f6ae96bd7d81",
    "time": "2021-02-01T06:39:56.626Z",
    "type": "completion"
   },
   {
    "code": "# TEST\n'year' in ins.columns",
    "id": "02566f43fd904daaaea3710e72114063",
    "idx": 135,
    "time": "2021-02-01T06:40:03.195Z",
    "type": "execution"
   },
   {
    "id": "02566f43fd904daaaea3710e72114063",
    "time": "2021-02-01T06:40:03.338Z",
    "type": "completion"
   },
   {
    "code": "# HIDDEN TEST\nset(ins[ins['score'] > 0]['year'].value_counts()) == {959, 4043, 4355, 4674}",
    "id": "358e527b72ce4af4822ee383573b42bc",
    "idx": 136,
    "time": "2021-02-01T06:40:03.446Z",
    "type": "execution"
   },
   {
    "code": "ins.head()",
    "id": "efe30e6e98a5494791fc5afe7c753bc0",
    "idx": 137,
    "time": "2021-02-01T06:40:03.529Z",
    "type": "execution"
   },
   {
    "id": "358e527b72ce4af4822ee383573b42bc",
    "time": "2021-02-01T06:40:03.735Z",
    "type": "completion"
   },
   {
    "id": "efe30e6e98a5494791fc5afe7c753bc0",
    "time": "2021-02-01T06:40:03.741Z",
    "type": "completion"
   },
   {
    "code": "ins_pivot = ins.pivot_table(columns = \"year\", index = \"type\", aggfunc = len, fill_value = 0) # SOLUTION\nins_pivot = ins_pivot[\"bid\"] # SOLUTION\nins_pivot['Total'] = ins_pivot.sum(axis=1) # SOLUTION\nins_pivot_sorted = ins_pivot.sort_values('Total', ascending=False) # SOLUTION\nins_pivot_sorted",
    "id": "28ec4881328d49d19868ad5d8cd2e99f",
    "idx": 140,
    "time": "2021-02-01T06:40:05.511Z",
    "type": "execution"
   },
   {
    "id": "28ec4881328d49d19868ad5d8cd2e99f",
    "time": "2021-02-01T06:40:05.665Z",
    "type": "completion"
   },
   {
    "code": "# TEST\nset(ins_pivot_sorted.columns) == {2016, 2017, 2018, 2019, 'Total'}",
    "id": "8a210cdb8c2b45fa85dff44f82b5046b",
    "idx": 141,
    "time": "2021-02-01T06:40:06.130Z",
    "type": "execution"
   },
   {
    "id": "8a210cdb8c2b45fa85dff44f82b5046b",
    "time": "2021-02-01T06:40:06.274Z",
    "type": "completion"
   },
   {
    "code": "# TEST\nlen(ins_pivot_sorted) == 15",
    "id": "3e60d9debf36481bb9192768eb07723c",
    "idx": 142,
    "time": "2021-02-01T06:40:06.373Z",
    "type": "execution"
   },
   {
    "id": "3e60d9debf36481bb9192768eb07723c",
    "time": "2021-02-01T06:40:06.565Z",
    "type": "completion"
   },
   {
    "code": "# HIDDEN TEST\nins_pivot_sorted.loc[\"Routine - Unscheduled\", 2016] == 966",
    "id": "fc9d645120e74ed1af0fe38438710116",
    "idx": 143,
    "time": "2021-02-01T06:40:06.890Z",
    "type": "execution"
   },
   {
    "id": "fc9d645120e74ed1af0fe38438710116",
    "time": "2021-02-01T06:40:07.038Z",
    "type": "completion"
   },
   {
    "code": "# HIDDEN TEST\nins_pivot_sorted.iloc[0,4] == 14077",
    "id": "7513f2706b4840718e9a526ebd17996e",
    "idx": 144,
    "time": "2021-02-01T06:40:07.125Z",
    "type": "execution"
   },
   {
    "code": "# HIDDEN TEST\nins_pivot_sorted.loc[\"New Ownership - Followup\", 2016] == 0",
    "id": "e30c54b27ef54eac99681d808d81bad6",
    "idx": 145,
    "time": "2021-02-01T06:40:07.286Z",
    "type": "execution"
   },
   {
    "id": "7513f2706b4840718e9a526ebd17996e",
    "time": "2021-02-01T06:40:07.496Z",
    "type": "completion"
   },
   {
    "id": "e30c54b27ef54eac99681d808d81bad6",
    "time": "2021-02-01T06:40:07.499Z",
    "type": "completion"
   },
   {
    "code": "year_of_new_construction = 2017 # SOLUTION",
    "id": "dd70209f2b814605850b07ee22d63efd",
    "idx": 147,
    "time": "2021-02-01T06:40:07.998Z",
    "type": "execution"
   },
   {
    "id": "dd70209f2b814605850b07ee22d63efd",
    "time": "2021-02-01T06:40:08.092Z",
    "type": "completion"
   },
   {
    "code": "# TEST\ntype(year_of_new_construction) == int",
    "id": "249a3f0ae87249b081c25aeae16f483a",
    "idx": 148,
    "time": "2021-02-01T06:40:09.913Z",
    "type": "execution"
   },
   {
    "id": "249a3f0ae87249b081c25aeae16f483a",
    "time": "2021-02-01T06:40:10.062Z",
    "type": "completion"
   },
   {
    "code": "# HIDDEN TEST\nyear_of_new_construction == 2017",
    "id": "52c6d68a98004e6b81053a3751e52916",
    "idx": 149,
    "time": "2021-02-01T06:40:10.079Z",
    "type": "execution"
   },
   {
    "id": "52c6d68a98004e6b81053a3751e52916",
    "time": "2021-02-01T06:40:10.167Z",
    "type": "completion"
   },
   {
    "code": "ins['score'].value_counts().head()",
    "id": "95961adde61449eaab8f88b9010fe16f",
    "idx": 151,
    "time": "2021-02-01T06:40:11.676Z",
    "type": "execution"
   },
   {
    "id": "95961adde61449eaab8f88b9010fe16f",
    "time": "2021-02-01T06:40:11.799Z",
    "type": "completion"
   },
   {
    "code": "ins_missing_score_pivot = ...\n\n# BEGIN SOLUTION\nins['Missing Score'] = (ins['score'] == -1).astype(\"str\")\n\nins_missing_score_pivot = ins.pivot_table(\n    index = \"type\", \n    columns = \"Missing Score\",\n    aggfunc = 'size',\n    fill_value = 0\n)\nins_missing_score_pivot['Total'] = ins_missing_score_pivot.sum(axis=1)\nins_missing_score_pivot.sort_values('Total', inplace=True, ascending=False)\nins_missing_score_pivot\n# END SOLUTION",
    "id": "0eabc033b1fd4c6f809f213b717d7b24",
    "idx": 154,
    "time": "2021-02-01T06:40:18.040Z",
    "type": "execution"
   },
   {
    "id": "0eabc033b1fd4c6f809f213b717d7b24",
    "time": "2021-02-01T06:40:18.212Z",
    "type": "completion"
   },
   {
    "code": "# TEST\nif type(ins_missing_score_pivot) == pd.DataFrame:\n    if False in ins_missing_score_pivot.columns: \n        ins_missing_score_pivot.rename(columns={False:\"False\"}, errors=\"raise\",inplace=True)\n    if True in ins_missing_score_pivot.columns:\n        ins_missing_score_pivot.rename(columns={True:\"True\"}, errors=\"raise\",inplace=True)\ntype(ins_missing_score_pivot) == pd.DataFrame",
    "id": "57e5bbf4a4234a08bd805edea04d8300",
    "idx": 155,
    "time": "2021-02-01T06:40:18.928Z",
    "type": "execution"
   },
   {
    "id": "57e5bbf4a4234a08bd805edea04d8300",
    "time": "2021-02-01T06:40:19.089Z",
    "type": "completion"
   },
   {
    "code": "# HIDDEN TEST\nset(ins_missing_score_pivot.columns) == {'False', 'Total', 'True'}",
    "id": "78613341f76e41b48a636a8f35bc2105",
    "idx": 156,
    "time": "2021-02-01T06:40:20.120Z",
    "type": "execution"
   },
   {
    "id": "78613341f76e41b48a636a8f35bc2105",
    "time": "2021-02-01T06:40:20.259Z",
    "type": "completion"
   },
   {
    "code": "# HIDDEN TEST\nlen(ins_missing_score_pivot) == 15",
    "id": "fd08cff450364b6da95c6d5099e94271",
    "idx": 157,
    "time": "2021-02-01T06:40:21.558Z",
    "type": "execution"
   },
   {
    "id": "fd08cff450364b6da95c6d5099e94271",
    "time": "2021-02-01T06:40:21.695Z",
    "type": "completion"
   },
   {
    "code": "# HIDDEN TEST\nins_missing_score_pivot[\"False\"][\"Routine - Unscheduled\"] == 14031 ",
    "id": "182a6f9850b04f20bcf66d3c1e15f5f5",
    "idx": 158,
    "time": "2021-02-01T06:40:21.782Z",
    "type": "execution"
   },
   {
    "code": "# HIDDEN TEST\nins_missing_score_pivot.iloc[0,2] == 14077",
    "id": "0f22fb00212e4723a90dffe10f87851f",
    "idx": 159,
    "time": "2021-02-01T06:40:21.864Z",
    "type": "execution"
   },
   {
    "id": "182a6f9850b04f20bcf66d3c1e15f5f5",
    "time": "2021-02-01T06:40:21.989Z",
    "type": "completion"
   },
   {
    "id": "0f22fb00212e4723a90dffe10f87851f",
    "time": "2021-02-01T06:40:21.992Z",
    "type": "completion"
   },
   {
    "code": "ins = ins[ins[\"score\"] > 0]",
    "id": "af699b48f3414da6957fb220ba88928e",
    "idx": 163,
    "time": "2021-02-01T06:40:26.814Z",
    "type": "execution"
   },
   {
    "id": "af699b48f3414da6957fb220ba88928e",
    "time": "2021-02-01T06:40:26.892Z",
    "type": "completion"
   },
   {
    "code": "ins_named = ...\n# BEGIN SOLUTION\nins_named = ins.merge(bus[[\"bid\", \"name\", \"address\"]], how=\"left\", left_on = \"bid\", right_on = \"bid\") \n# END SOLUTION\nins_named.head()",
    "id": "5ec07ebd30994083813348fa2b63175b",
    "idx": 165,
    "time": "2021-02-01T06:40:30.185Z",
    "type": "execution"
   },
   {
    "id": "5ec07ebd30994083813348fa2b63175b",
    "time": "2021-02-01T06:40:30.333Z",
    "type": "completion"
   },
   {
    "code": "# TEST\n\"name\" in ins_named and \"address\" in ins_named",
    "id": "08a9398dd54343d189e0abc147364eeb",
    "idx": 166,
    "time": "2021-02-01T06:40:30.564Z",
    "type": "execution"
   },
   {
    "id": "08a9398dd54343d189e0abc147364eeb",
    "time": "2021-02-01T06:40:30.697Z",
    "type": "completion"
   },
   {
    "code": "# TEST\nins_named[ins_named[\"Missing Score\"] == True].shape[0] == 0",
    "id": "c4cd2ebacab343b9a8238b37cfbc3c8b",
    "idx": 167,
    "time": "2021-02-01T06:40:31.084Z",
    "type": "execution"
   },
   {
    "id": "c4cd2ebacab343b9a8238b37cfbc3c8b",
    "time": "2021-02-01T06:40:31.235Z",
    "type": "completion"
   },
   {
    "code": "# TEST\nins_named.reset_index()['date'].equals(ins[ins['score'] > 0].reset_index()['date'])",
    "id": "b9d555bddd8a457bb0c9ee7db1080664",
    "idx": 168,
    "time": "2021-02-01T06:40:31.330Z",
    "type": "execution"
   },
   {
    "code": "# HIDDEN TEST\nnp.isclose(sum(ins_named['name'].isnull()), 0, rtol=5)",
    "id": "632cfd0d80f240fcb6d4ef12f6f8f11d",
    "idx": 169,
    "time": "2021-02-01T06:40:31.487Z",
    "type": "execution"
   },
   {
    "id": "b9d555bddd8a457bb0c9ee7db1080664",
    "time": "2021-02-01T06:40:31.648Z",
    "type": "completion"
   },
   {
    "id": "632cfd0d80f240fcb6d4ef12f6f8f11d",
    "time": "2021-02-01T06:40:31.654Z",
    "type": "completion"
   },
   {
    "code": "# HIDDEN TEST\nsol_merged = ins.merge(bus[[\"bid\", \"name\", \"address\"]], how=\"left\", left_on = \"bid\", right_on = \"bid\")\nins_named.equals(sol_merged[sol_merged[\"score\"] > 0])",
    "id": "1077c098984748fe93d4709b770d6ca6",
    "idx": 170,
    "time": "2021-02-01T06:40:32.117Z",
    "type": "execution"
   },
   {
    "id": "1077c098984748fe93d4709b770d6ca6",
    "time": "2021-02-01T06:40:32.242Z",
    "type": "completion"
   },
   {
    "code": "twenty_lowest_scoring = ... \n# BEGIN SOLUTION\ntwenty_lowest_scoring = (\n    ins_named.groupby('bid', as_index=False)\n        .aggregate({'name': 'first', 'score': 'median'})\n        .sort_values(['score', 'bid'] )\n        .rename(columns={'score': 'median score'})\n        .head(20)\n)\n# END SOLUTION\n\ntwenty_lowest_scoring",
    "id": "85679a3c40414046800f656ca076845a",
    "idx": 172,
    "time": "2021-02-01T06:40:33.749Z",
    "type": "execution"
   },
   {
    "id": "85679a3c40414046800f656ca076845a",
    "time": "2021-02-01T06:40:33.897Z",
    "type": "completion"
   },
   {
    "code": "# TEST\ntwenty_lowest_scoring.shape == (20, 3)",
    "id": "e3402ed37178464f887f4c96393fa07d",
    "idx": 173,
    "time": "2021-02-01T06:40:34.520Z",
    "type": "execution"
   },
   {
    "id": "e3402ed37178464f887f4c96393fa07d",
    "time": "2021-02-01T06:40:34.653Z",
    "type": "completion"
   },
   {
    "code": "# TEST\nset(twenty_lowest_scoring.columns) == {'bid', 'median score', 'name'}",
    "id": "6f78a7421f38472f8b2a88af1feeeaff",
    "idx": 174,
    "time": "2021-02-01T06:40:34.742Z",
    "type": "execution"
   },
   {
    "id": "6f78a7421f38472f8b2a88af1feeeaff",
    "time": "2021-02-01T06:40:34.898Z",
    "type": "completion"
   },
   {
    "code": "# HIDDEN TEST\n# print(twenty_lowest_scoring.to_html().replace(\"\\n\",\"\"))\nset(twenty_lowest_scoring[\"median score\"].values) == {54 , 57 , 58 , 60.5, 63.5, 64, \n                                                      64 , 64 , 64 , 64 , 64, 64.5, \n                                                      64.5, 64.5, 65, 65, 66, 66, 66, 66.5\n                                                      }",
    "id": "3237eef6b20942df97532dabf3a57eb4",
    "idx": 175,
    "time": "2021-02-01T06:40:35.301Z",
    "type": "execution"
   },
   {
    "id": "3237eef6b20942df97532dabf3a57eb4",
    "time": "2021-02-01T06:40:35.421Z",
    "type": "completion"
   },
   {
    "code": "low_score_violations = ...\n\n# BEGIN SOLUTION\nlow_score_violations = (\n    ins_named[ins_named['score'] < 65]\n        .merge(ins2vio, on='iid')\n        .merge(vio, on='vid')\n        .loc[:,'description']\n        .value_counts()\n        .sort_values(ascending=False)\n)\n# END SOLUTION\n\nlow_score_violations.head(20)",
    "id": "5086edc57aca41418cd7c50713171844",
    "idx": 177,
    "time": "2021-02-01T06:40:35.999Z",
    "type": "execution"
   },
   {
    "id": "5086edc57aca41418cd7c50713171844",
    "time": "2021-02-01T06:40:36.145Z",
    "type": "completion"
   },
   {
    "code": "# TEST\ntype(low_score_violations) == pd.Series",
    "id": "7a41bf7efb334f589d619adfcf71602d",
    "idx": 178,
    "time": "2021-02-01T06:40:36.165Z",
    "type": "execution"
   },
   {
    "id": "7a41bf7efb334f589d619adfcf71602d",
    "time": "2021-02-01T06:40:36.304Z",
    "type": "completion"
   },
   {
    "code": "# TEST\nlen(low_score_violations) == 50",
    "id": "1d0ec80192124fe584897e2ce395a6fe",
    "idx": 179,
    "time": "2021-02-01T06:40:36.820Z",
    "type": "execution"
   },
   {
    "id": "1d0ec80192124fe584897e2ce395a6fe",
    "time": "2021-02-01T06:40:36.955Z",
    "type": "completion"
   },
   {
    "code": "# TEST\nlow_score_violations[0] == 43",
    "id": "0332979155e24a5b84a383443af8115d",
    "idx": 180,
    "time": "2021-02-01T06:40:37.313Z",
    "type": "execution"
   },
   {
    "id": "0332979155e24a5b84a383443af8115d",
    "time": "2021-02-01T06:40:37.455Z",
    "type": "completion"
   },
   {
    "code": "# HIDDEN TEST\nnp.all(low_score_violations.head().values == np.array([43, 42, 40, 39, 37]))",
    "id": "5c2d266977ba4b4585012427899b9939",
    "idx": 181,
    "time": "2021-02-01T06:40:37.469Z",
    "type": "execution"
   },
   {
    "id": "5c2d266977ba4b4585012427899b9939",
    "time": "2021-02-01T06:40:37.558Z",
    "type": "completion"
   },
   {
    "code": "worst_restaurant = ...\n# BEGIN SOLUTION NO PROMPT\nworst_restaurant = ins_named.sort_values('score', ascending=False).tail(1)['name'].iloc[0]\n# END SOLUTION\nworst_restaurant",
    "id": "ee5737d52eb44a8896af6bb49ef6ac1b",
    "idx": 183,
    "time": "2021-02-01T06:40:37.789Z",
    "type": "execution"
   },
   {
    "id": "ee5737d52eb44a8896af6bb49ef6ac1b",
    "time": "2021-02-01T06:40:37.920Z",
    "type": "completion"
   },
   {
    "code": "# BEGIN SOLUTION\nscore_counts = ins.loc[ins[\"score\"] > 0, 'score'].value_counts()\nplt.bar(score_counts.keys(), score_counts, edgecolor='black')\nplt.xlabel(\"Score\")\nplt.ylabel(\"Count\")\nplt.title(\"Distribution of Inspection Scores\");\n# END SOLUTION",
    "id": "70c796cc45004b5a8f2f0828dad0f45d",
    "idx": 188,
    "time": "2021-02-01T06:40:51.199Z",
    "type": "execution"
   },
   {
    "id": "70c796cc45004b5a8f2f0828dad0f45d",
    "time": "2021-02-01T06:40:51.721Z",
    "type": "completion"
   },
   {
    "code": "score_counts",
    "id": "16b78f9ecc9c43878a1ad0103724d813",
    "idx": 189,
    "time": "2021-02-01T06:40:53.750Z",
    "type": "execution"
   },
   {
    "id": "16b78f9ecc9c43878a1ad0103724d813",
    "time": "2021-02-01T06:40:53.882Z",
    "type": "completion"
   },
   {
    "code": "# BEGIN SOLUTION NO PROMPT\ndef swing(s):\n    if len(s) < 3:\n        return 0\n    return max(s) - min(s)\n\nswing_series = ins_named['score'].groupby(ins_named['bid']).agg(swing).rename('swing')\nbus_swing = pd.concat([bus.set_index('bid'), swing_series], axis=1).sort_values(\"swing\", ascending=False)\n# END SOLUTION\nmax_swing = bus_swing.iloc[0]['name'] # SOLUTION\nmax_swing",
    "id": "1189a5fc03c84b4792e6c3735da31768",
    "idx": 195,
    "time": "2021-02-01T06:41:01.533Z",
    "type": "execution"
   },
   {
    "id": "1189a5fc03c84b4792e6c3735da31768",
    "time": "2021-02-01T06:41:01.677Z",
    "type": "completion"
   },
   {
    "code": "# TEST\nmax_swing in set(bus['name'])",
    "id": "64fe87eb021845f182e7f478a7803c80",
    "idx": 196,
    "time": "2021-02-01T06:41:02.263Z",
    "type": "execution"
   },
   {
    "id": "64fe87eb021845f182e7f478a7803c80",
    "time": "2021-02-01T06:41:02.398Z",
    "type": "completion"
   },
   {
    "code": "# HIDDEN TEST\nmax_swing == 'Lollipot'",
    "id": "0493f1535d354e3e9ac137fd3e9d5e43",
    "idx": 197,
    "time": "2021-02-01T06:41:03.308Z",
    "type": "execution"
   },
   {
    "id": "0493f1535d354e3e9ac137fd3e9d5e43",
    "time": "2021-02-01T06:41:03.432Z",
    "type": "completion"
   },
   {
    "code": "ins2018 = ins[ins['year'] == 2018]\n# Create the dataframe here\nscores_pairs_by_business = ...\n# BEGIN SOLUTION NO PROMPT\n# SOLUTION 1\nscores_pairs_by_business = (ins2018.sort_values('date')\n                            .loc[:, ['bid', 'score']]\n                            .groupby('bid')\n                            .filter(lambda group: len(group)==2)\n                            .groupby('bid')\n                            .agg(list)\n                            .rename(columns={'score':'score_pair'}))\n\n# SOLUTION 2\nscores_pairs_by_business = (ins2018.sort_values('date')\n                            .groupby('bid')\n                            .filter(lambda group: len(group)==2)\n                            .groupby('bid')\n                            .agg({'score': lambda group: group.tolist()})\n                            .rename(columns={'score':'score_pair'}))\nscores_pairs_by_business.head()\n# END SOLUTION\nscores_pairs_by_business",
    "id": "351bb88842b044f7827bb586f6a2498e",
    "idx": 199,
    "time": "2021-02-01T06:41:04.186Z",
    "type": "execution"
   },
   {
    "id": "351bb88842b044f7827bb586f6a2498e",
    "time": "2021-02-01T06:41:04.587Z",
    "type": "completion"
   },
   {
    "code": "# TEST\nisinstance(scores_pairs_by_business, pd.DataFrame)",
    "id": "c9b43020e8c442568e5163605b5ff796",
    "idx": 200,
    "time": "2021-02-01T06:41:05.205Z",
    "type": "execution"
   },
   {
    "id": "c9b43020e8c442568e5163605b5ff796",
    "time": "2021-02-01T06:41:05.335Z",
    "type": "completion"
   },
   {
    "code": "# TEST\nscores_pairs_by_business.columns[0] == 'score_pair'",
    "id": "052c19a8e5fa4479b20b8d3428e9faa7",
    "idx": 201,
    "time": "2021-02-01T06:41:05.958Z",
    "type": "execution"
   },
   {
    "code": "# HIDDEN TEST\n\nstudent_arr = np.array(scores_pairs_by_business.values.tolist()).squeeze()\n\n# Now we will check the head score pares\n# score_pair\n# business_id\n# 24 [96, 98]\n# 45 [78, 84]\n# 66 [98, 100]\n# 67 [87, 94]\n# 76 [100, 98]\n\n([96, 98] in student_arr and\\\n    [78, 84] in student_arr and\\\n        [98, 100] in student_arr and\\\n            [87, 94] in student_arr and\\\n                [100, 98] in student_arr) == True",
    "id": "5a3bef8f6b7d4a5982a918f63fa5231f",
    "idx": 202,
    "time": "2021-02-01T06:41:06.108Z",
    "type": "execution"
   },
   {
    "id": "052c19a8e5fa4479b20b8d3428e9faa7",
    "time": "2021-02-01T06:41:06.237Z",
    "type": "completion"
   },
   {
    "id": "5a3bef8f6b7d4a5982a918f63fa5231f",
    "time": "2021-02-01T06:41:06.241Z",
    "type": "completion"
   },
   {
    "code": "# BEGIN SOLUTION\nfirst_score, second_score = zip(*scores_pairs_by_business['score_pair'])\nplt.scatter(first_score,second_score,s = 20, facecolors='none',edgecolors='b')\nplt.plot([55,100],[55,100],'r-')\nplt.xlabel('First Score')\nplt.ylabel('Second Score')\nplt.axis([55,100,55,100])\nplt.title(\"First Inspection Score vs. Second Inspection Score\");\n# END SOLUTION",
    "id": "4fa3ff8cf0b14e4d81085b4b3a121f61",
    "idx": 204,
    "time": "2021-02-01T06:41:07.364Z",
    "type": "execution"
   },
   {
    "id": "4fa3ff8cf0b14e4d81085b4b3a121f61",
    "time": "2021-02-01T06:41:07.848Z",
    "type": "completion"
   },
   {
    "code": "# Do not modify this line\nsns.set()\n\n# BEGIN SOLUTION\nins_17_to_19 = ins[(ins['year'] >= 2017) & (ins['year'] <= 2019)]\nins_vid_joined = ins_17_to_19.merge(ins2vio, on='iid').merge(vio, on='vid')\nplt.figure(figsize=(12,8))\nins_vid_joined['risk_cat'] = 0\nins_vid_joined.loc[ins_vid_joined['risk_category'] == \"Moderate Risk\" , 'risk_cat'] = 1\nins_vid_joined.loc[ins_vid_joined['risk_category'] == \"High Risk\", 'risk_cat'] = 2\nsns.boxplot(x=\"year\", y=\"score\", hue='risk_category', data=ins_vid_joined.sort_values(\"risk_cat\"), \n            linewidth=0.8);\n# END SOLUTION",
    "id": "80c6aa8d1f634b1b90026211975495c1",
    "idx": 208,
    "time": "2021-02-01T06:41:14.899Z",
    "type": "execution"
   },
   {
    "id": "80c6aa8d1f634b1b90026211975495c1",
    "time": "2021-02-01T06:41:15.697Z",
    "type": "completion"
   },
   {
    "code": "In general, we will focus on using python commands to investigate files.  However, it can sometimes be easier to use shell commands in your local operating system.  The following cells demonstrate how to do this.",
    "id": "887907cb5f044ba284fae481444c16cd",
    "idx": 7,
    "time": "2021-02-02T04:17:56.841Z",
    "type": "execution"
   },
   {
    "id": "887907cb5f044ba284fae481444c16cd",
    "time": "2021-02-02T04:17:56.961Z",
    "type": "completion"
   },
   {
    "code": "from pathlib import Path\ndata_dir = Path('.')\ndata_dir.mkdir(exist_ok = True)\nfile_path = data_dir / Path('data.zip')\ndest_path = file_path",
    "id": "493887425b2d46db89fbf54788d5410d",
    "idx": 8,
    "time": "2021-02-02T04:18:11.187Z",
    "type": "execution"
   },
   {
    "id": "493887425b2d46db89fbf54788d5410d",
    "time": "2021-02-02T04:18:11.279Z",
    "type": "completion"
   },
   {
    "code": "!ls ",
    "id": "9c1773a5ad3545eebde4cd64d28fe812",
    "idx": 10,
    "time": "2021-02-02T04:19:07.890Z",
    "type": "execution"
   },
   {
    "id": "9c1773a5ad3545eebde4cd64d28fe812",
    "time": "2021-02-02T04:19:08.694Z",
    "type": "completion"
   },
   {
    "code": "## Question 1a: Looking Inside and Extracting the Zip Files\n\nAssign `my_zip` to a `zipfile.Zipfile` object representing `data.zip`, and assign `list_names` to a list of all the names of the contents in `data.zip`.\n\nHint: The [Python docs](https://docs.python.org/3/library/zipfile.html) describe how to create a `zipfile.ZipFile` object.\n\n```\nBEGIN QUESTION\nname: q1a\npoints: 1\n```",
    "id": "93155d3688e144d3a43fd975a1b19f62",
    "idx": 12,
    "time": "2021-02-02T04:20:53.972Z",
    "type": "execution"
   },
   {
    "id": "93155d3688e144d3a43fd975a1b19f62",
    "time": "2021-02-02T04:20:54.694Z",
    "type": "completion"
   },
   {
    "code": "my_zip = zipfile.ZipFile(dest_path, 'r') # SOLUTION\nlist_names = [f.filename for f in my_zip.filelist] # SOLUTION\nlist_names",
    "id": "3185317216e2401d87592151c5ed93d7",
    "idx": 13,
    "time": "2021-02-02T04:25:43.383Z",
    "type": "execution"
   },
   {
    "id": "3185317216e2401d87592151c5ed93d7",
    "time": "2021-02-02T04:25:43.557Z",
    "type": "completion"
   },
   {
    "code": "# BEGIN SOLUTION\nmy_zip = zipfile.ZipFile(dest_path, 'r')\nfor file in my_zip.filelist:\n    print('{}\\t{}'.format(file.filename, file.file_size))\n# END SOLUTION",
    "id": "69a9b56159df48c6aa7307a07fa0588f",
    "idx": 16,
    "time": "2021-02-02T04:27:44.507Z",
    "type": "execution"
   },
   {
    "id": "69a9b56159df48c6aa7307a07fa0588f",
    "time": "2021-02-02T04:27:44.621Z",
    "type": "completion"
   },
   {
    "code": "my_zip = zipfile.ZipFile(dest_path, 'r')\nfor file in my_zip.filelist:\n    print('{}\\t{}'.format(file.filename, file.file_size))",
    "id": "69a9b56159df48c6aa7307a07fa0588f",
    "idx": 16,
    "time": "2021-02-02T04:27:53.172Z",
    "type": "execution"
   },
   {
    "id": "69a9b56159df48c6aa7307a07fa0588f",
    "time": "2021-02-02T04:27:53.303Z",
    "type": "completion"
   },
   {
    "code": "data_dir = Path('.')\nmy_zip.extractall(data_dir)\n!ls {data_dir / Path(\"data\")}",
    "id": "eafad01ba9064a2a8717fec4a2c0957b",
    "idx": 18,
    "time": "2021-02-02T04:29:05.731Z",
    "type": "execution"
   },
   {
    "id": "eafad01ba9064a2a8717fec4a2c0957b",
    "time": "2021-02-02T04:29:06.660Z",
    "type": "completion"
   },
   {
    "code": "import ds100_utils\n# BEGIN SOLUTION\ndata_dir = \"./\"\nfor f in list_names:\n    if not os.path.isdir(f):\n        print(ds100_utils.head(data_dir + f, 5), \"\\n\")\n# END SOLUTION",
    "id": "93b891295c0847cb8c4ad565521be127",
    "idx": 21,
    "time": "2021-02-02T04:30:13.324Z",
    "type": "execution"
   },
   {
    "id": "93b891295c0847cb8c4ad565521be127",
    "time": "2021-02-02T04:30:13.571Z",
    "type": "completion"
   },
   {
    "code": "import ds100_utils\n\ndata_dir = \"./\"\nfor f in list_names:\n    if not os.path.isdir(f):\n        print(ds100_utils.head(data_dir + f, 5), \"\\n\")",
    "id": "93b891295c0847cb8c4ad565521be127",
    "idx": 21,
    "time": "2021-02-02T04:30:18.661Z",
    "type": "execution"
   },
   {
    "id": "93b891295c0847cb8c4ad565521be127",
    "time": "2021-02-02T04:30:18.816Z",
    "type": "completion"
   },
   {
    "code": "!ls",
    "id": "9c1773a5ad3545eebde4cd64d28fe812",
    "idx": 10,
    "time": "2021-02-02T04:32:18.397Z",
    "type": "execution"
   },
   {
    "id": "9c1773a5ad3545eebde4cd64d28fe812",
    "time": "2021-02-02T04:32:19.174Z",
    "type": "completion"
   },
   {
    "code": "my_zip = zipfile.ZipFile(dest_path, 'r')\nfor file in my_zip.filelist:\n    print('{}\\t{}'.format(file.filename, file.file_size))",
    "id": "69a9b56159df48c6aa7307a07fa0588f",
    "idx": 16,
    "time": "2021-02-02T04:35:03.597Z",
    "type": "execution"
   },
   {
    "id": "69a9b56159df48c6aa7307a07fa0588f",
    "time": "2021-02-02T04:35:03.745Z",
    "type": "completion"
   },
   {
    "code": "data_dir = Path('.')\nmy_zip.extractall(data_dir)\n!ls {data_dir / Path(\"data\")}",
    "id": "eafad01ba9064a2a8717fec4a2c0957b",
    "idx": 18,
    "time": "2021-02-02T04:35:29.025Z",
    "type": "execution"
   },
   {
    "id": "eafad01ba9064a2a8717fec4a2c0957b",
    "time": "2021-02-02T04:35:29.982Z",
    "type": "completion"
   },
   {
    "code": "import ds100_utils\n\ndata_dir = \"./\"\nfor f in list_names:\n    if not os.path.isdir(f):\n        print(ds100_utils.head(data_dir + f, 5), \"\\n\")",
    "id": "93b891295c0847cb8c4ad565521be127",
    "idx": 21,
    "time": "2021-02-02T04:35:42.666Z",
    "type": "execution"
   },
   {
    "id": "93b891295c0847cb8c4ad565521be127",
    "time": "2021-02-02T04:35:42.800Z",
    "type": "completion"
   },
   {
    "code": "import numpy as np\nimport pandas as pd\n\nimport matplotlib\nimport matplotlib.pyplot as plt\nimport seaborn as sns\nsns.set()\nplt.style.use('fivethirtyeight')\n\nimport zipfile\nfrom pathlib import Path\nimport os # Used to interact with the file system",
    "id": "e91d052501ec4392883c9079ebb02e45",
    "idx": 5,
    "time": "2021-02-02T04:36:21.595Z",
    "type": "execution"
   },
   {
    "id": "e91d052501ec4392883c9079ebb02e45",
    "time": "2021-02-02T04:36:21.700Z",
    "type": "completion"
   },
   {
    "code": "from pathlib import Path\ndata_dir = Path('.')\ndata_dir.mkdir(exist_ok = True)\nfile_path = data_dir / Path('data.zip')\ndest_path = file_path",
    "id": "493887425b2d46db89fbf54788d5410d",
    "idx": 8,
    "time": "2021-02-02T04:36:23.346Z",
    "type": "execution"
   },
   {
    "id": "493887425b2d46db89fbf54788d5410d",
    "time": "2021-02-02T04:36:23.437Z",
    "type": "completion"
   },
   {
    "code": "!ls",
    "id": "9c1773a5ad3545eebde4cd64d28fe812",
    "idx": 10,
    "time": "2021-02-02T04:36:23.894Z",
    "type": "execution"
   },
   {
    "id": "9c1773a5ad3545eebde4cd64d28fe812",
    "time": "2021-02-02T04:36:24.688Z",
    "type": "completion"
   },
   {
    "code": "# path to directory containing data\ndsDir = Path('data')\n\nbus = pd.read_csv(dsDir/'bus.csv', encoding='ISO-8859-1') \nins2vio = pd.read_csv(dsDir/'ins2vio.csv') \nins = pd.read_csv(dsDir/'ins.csv') \nvio = pd.read_csv(dsDir/'vio.csv')\n\nins_test = ins",
    "id": "a277bedb389b4bc7b2afe1246008f393",
    "idx": 23,
    "time": "2021-02-02T04:38:26.312Z",
    "type": "execution"
   },
   {
    "id": "a277bedb389b4bc7b2afe1246008f393",
    "time": "2021-02-02T04:38:26.487Z",
    "type": "completion"
   },
   {
    "code": "# What does each record represent?  Valid answers are:\n#    \"One location of a restaurant.\"\n#    \"A chain of restaurants.\"\n#    \"A city block.\"\nq2e_part1 = \"One location of a restaurant.\" # SOLUTION\n\n# What is the minimal primary key? Valid answers are:\n#    \"bid\"\n#    \"bid, name\"\n#    \"bid, name, address\"\nq2e_part2 = \"bid\" # SOLUTION",
    "id": "82412b8430d746948c98f66d056f7f2a",
    "idx": 64,
    "time": "2021-02-02T04:42:23.272Z",
    "type": "execution"
   },
   {
    "id": "82412b8430d746948c98f66d056f7f2a",
    "time": "2021-02-02T04:42:23.380Z",
    "type": "completion"
   },
   {
    "code": "# TEST\nq2e_part1 in set([\"One location of a restaurant.\", \"A chain of restaurants.\", \"A city block.\"])",
    "id": "f15c1c747a8e421b8f6c3b6171b8adbf",
    "idx": 65,
    "time": "2021-02-02T04:42:23.436Z",
    "type": "execution"
   },
   {
    "code": "# TEST\nq2e_part2 in set([\"bid\", \"bid, name\", \"bid, name, address\"])",
    "id": "0a84c219cb8d472a9c51340ce436a1ed",
    "idx": 66,
    "time": "2021-02-02T04:42:23.592Z",
    "type": "execution"
   },
   {
    "id": "f15c1c747a8e421b8f6c3b6171b8adbf",
    "time": "2021-02-02T04:42:23.659Z",
    "type": "completion"
   },
   {
    "code": "# HIDDEN TEST\nq2e_part1 == \"One location of a restaurant.\" ",
    "id": "18b07eccc9414d7e90dc75068e0f1ea6",
    "idx": 67,
    "time": "2021-02-02T04:42:23.719Z",
    "type": "execution"
   },
   {
    "id": "0a84c219cb8d472a9c51340ce436a1ed",
    "time": "2021-02-02T04:42:23.782Z",
    "type": "completion"
   },
   {
    "id": "18b07eccc9414d7e90dc75068e0f1ea6",
    "time": "2021-02-02T04:42:23.822Z",
    "type": "completion"
   },
   {
    "code": "# HIDDEN TEST\nq2e_part2 == \"bid\"",
    "id": "9ef7e1db5b4f4345aa7e91bbbcd15399",
    "idx": 68,
    "time": "2021-02-02T04:42:24.184Z",
    "type": "execution"
   },
   {
    "id": "9ef7e1db5b4f4345aa7e91bbbcd15399",
    "time": "2021-02-02T04:42:24.305Z",
    "type": "completion"
   },
   {
    "code": "# True or False: \n#  If we were to drop businesses with MISSING postal code values \n#   a particular class of business be affected.\nq2e_true_or_false = True # SOLUTION",
    "id": "15b19c8240d343b6801154bab6fa470e",
    "idx": 101,
    "time": "2021-02-02T04:46:05.138Z",
    "type": "execution"
   },
   {
    "id": "15b19c8240d343b6801154bab6fa470e",
    "time": "2021-02-02T04:46:05.255Z",
    "type": "completion"
   },
   {
    "code": "# TEST\ntype(q2e_true_or_false) == bool",
    "id": "3e77d101d692433b8173cfb176d06bb6",
    "idx": 102,
    "time": "2021-02-02T04:46:05.346Z",
    "type": "execution"
   },
   {
    "id": "3e77d101d692433b8173cfb176d06bb6",
    "time": "2021-02-02T04:46:05.479Z",
    "type": "completion"
   },
   {
    "code": "# HIDDEN TEST\nq2e_true_or_false == True",
    "id": "2c0f7a3cf3ab400180ddc891e503caca",
    "idx": 103,
    "time": "2021-02-02T04:46:05.501Z",
    "type": "execution"
   },
   {
    "id": "2c0f7a3cf3ab400180ddc891e503caca",
    "time": "2021-02-02T04:46:05.591Z",
    "type": "completion"
   },
   {
    "code": "worst_restaurant = ...\n# BEGIN SOLUTION NO PROMPT\nworst_restaurant = ins_named.sort_values('score', ascending=False).tail(1)['name'].iloc[0]\n# END SOLUTION\nworst_restaurant",
    "id": "23bb9b6b071c4e3f8fc1226959173d6a",
    "idx": 198,
    "time": "2021-02-02T04:54:09.900Z",
    "type": "execution"
   },
   {
    "id": "23bb9b6b071c4e3f8fc1226959173d6a",
    "time": "2021-02-02T04:54:10.171Z",
    "type": "completion"
   },
   {
    "code": "worst_restaurant = ...\n# BEGIN SOLUTION NO PROMPT\nworst_restaurant = ins_named.sort_values('score', ascending=False).tail(1)['name'].iloc[0]\n# END SOLUTION\nworst_restaurant",
    "id": "23bb9b6b071c4e3f8fc1226959173d6a",
    "idx": 198,
    "time": "2021-02-02T04:57:00.857Z",
    "type": "execution"
   },
   {
    "id": "23bb9b6b071c4e3f8fc1226959173d6a",
    "time": "2021-02-02T04:57:01.001Z",
    "type": "completion"
   },
   {
    "code": "worst_restaurant = ...\n# BEGIN SOLUTION NO PROMPT\nworst_restaurant = ins_named.sort_values('score', ascending=False).tail(1)['name'].iloc[0]\n# END SOLUTION\nworst_restaurant",
    "id": "23bb9b6b071c4e3f8fc1226959173d6a",
    "idx": 198,
    "time": "2021-02-02T04:58:11.172Z",
    "type": "execution"
   },
   {
    "id": "23bb9b6b071c4e3f8fc1226959173d6a",
    "time": "2021-02-02T04:58:11.387Z",
    "type": "completion"
   },
   {
    "code": "import numpy as np\nimport pandas as pd\n\nimport matplotlib\nimport matplotlib.pyplot as plt\nimport seaborn as sns\nsns.set()\nplt.style.use('fivethirtyeight')\n\nimport zipfile\nfrom pathlib import Path\nimport os # Used to interact with the file system",
    "id": "e91d052501ec4392883c9079ebb02e45",
    "idx": 5,
    "time": "2021-02-02T04:58:59.666Z",
    "type": "execution"
   },
   {
    "id": "e91d052501ec4392883c9079ebb02e45",
    "time": "2021-02-02T04:58:59.764Z",
    "type": "completion"
   },
   {
    "code": "from pathlib import Path\ndata_dir = Path('.')\ndata_dir.mkdir(exist_ok = True)\nfile_path = data_dir / Path('data.zip')\ndest_path = file_path",
    "id": "493887425b2d46db89fbf54788d5410d",
    "idx": 8,
    "time": "2021-02-02T04:59:00.129Z",
    "type": "execution"
   },
   {
    "id": "493887425b2d46db89fbf54788d5410d",
    "time": "2021-02-02T04:59:00.202Z",
    "type": "completion"
   },
   {
    "code": "!ls",
    "id": "9c1773a5ad3545eebde4cd64d28fe812",
    "idx": 10,
    "time": "2021-02-02T04:59:00.447Z",
    "type": "execution"
   },
   {
    "code": "my_zip = zipfile.ZipFile(dest_path, 'r')\nlist_names = [f.filename for f in my_zip.filelist]\nlist_names",
    "id": "3185317216e2401d87592151c5ed93d7",
    "idx": 13,
    "time": "2021-02-02T04:59:00.947Z",
    "type": "execution"
   },
   {
    "id": "9c1773a5ad3545eebde4cd64d28fe812",
    "time": "2021-02-02T04:59:01.315Z",
    "type": "completion"
   },
   {
    "id": "3185317216e2401d87592151c5ed93d7",
    "time": "2021-02-02T04:59:01.319Z",
    "type": "completion"
   },
   {
    "code": "my_zip = zipfile.ZipFile(dest_path, 'r')\nfor file in my_zip.filelist:\n    print('{}\\t{}'.format(file.filename, file.file_size))",
    "id": "69a9b56159df48c6aa7307a07fa0588f",
    "idx": 16,
    "time": "2021-02-02T04:59:01.752Z",
    "type": "execution"
   },
   {
    "id": "69a9b56159df48c6aa7307a07fa0588f",
    "time": "2021-02-02T04:59:01.889Z",
    "type": "completion"
   },
   {
    "code": "data_dir = Path('.')\nmy_zip.extractall(data_dir)\n!ls {data_dir / Path(\"data\")}",
    "id": "eafad01ba9064a2a8717fec4a2c0957b",
    "idx": 18,
    "time": "2021-02-02T04:59:02.156Z",
    "type": "execution"
   },
   {
    "code": "import ds100_utils\n\ndata_dir = \"./\"\nfor f in list_names:\n    if not os.path.isdir(f):\n        print(ds100_utils.head(data_dir + f, 5), \"\\n\")",
    "id": "93b891295c0847cb8c4ad565521be127",
    "idx": 21,
    "time": "2021-02-02T04:59:02.936Z",
    "type": "execution"
   },
   {
    "id": "eafad01ba9064a2a8717fec4a2c0957b",
    "time": "2021-02-02T04:59:03.156Z",
    "type": "completion"
   },
   {
    "code": "# path to directory containing data\ndsDir = Path('data')\n\nbus = pd.read_csv(dsDir/'bus.csv', encoding='ISO-8859-1') # SOLUTION\nins2vio = pd.read_csv(dsDir/'ins2vio.csv') # SOLUTION\nins = pd.read_csv(dsDir/'ins.csv') # SOLUTION\nvio = pd.read_csv(dsDir/'vio.csv') # SOLUTION\n\n#This code is essential for the autograder to function properly. Do not edit\nins_test = ins",
    "id": "a277bedb389b4bc7b2afe1246008f393",
    "idx": 23,
    "time": "2021-02-02T04:59:03.250Z",
    "type": "execution"
   },
   {
    "id": "93b891295c0847cb8c4ad565521be127",
    "time": "2021-02-02T04:59:03.296Z",
    "type": "completion"
   },
   {
    "id": "a277bedb389b4bc7b2afe1246008f393",
    "time": "2021-02-02T04:59:03.540Z",
    "type": "completion"
   },
   {
    "code": "bus.head() # SOLUTION",
    "id": "05fe4b27babc4286b6e4fca2e2846fbe",
    "idx": 25,
    "time": "2021-02-02T04:59:03.558Z",
    "type": "execution"
   },
   {
    "id": "05fe4b27babc4286b6e4fca2e2846fbe",
    "time": "2021-02-02T04:59:03.686Z",
    "type": "completion"
   },
   {
    "code": "bus.describe() # SOLUTION",
    "id": "ff42bb846eb5420584765d8a8bac9b19",
    "idx": 27,
    "time": "2021-02-02T04:59:03.872Z",
    "type": "execution"
   },
   {
    "id": "ff42bb846eb5420584765d8a8bac9b19",
    "time": "2021-02-02T04:59:04.007Z",
    "type": "completion"
   },
   {
    "code": "assert all(bus.columns == ['business id column', 'name', 'address', 'city', 'state', 'postal_code',\n                           'latitude', 'longitude', 'phone_number'])\nassert 6250 <= len(bus) <= 6260\n\nassert all(ins.columns == ['iid', 'date', 'score', 'type'])\nassert 26660 <= len(ins) <= 26670\n\nassert all(vio.columns == ['description', 'risk_category', 'vid'])\nassert 60 <= len(vio) <= 65\n\nassert all(ins2vio.columns == ['iid', 'vid'])\nassert 40210 <= len(ins2vio) <= 40220",
    "id": "ba1608136c284aa6853ff1d1cd579f3f",
    "idx": 30,
    "time": "2021-02-02T04:59:04.347Z",
    "type": "execution"
   },
   {
    "id": "ba1608136c284aa6853ff1d1cd579f3f",
    "time": "2021-02-02T04:59:04.584Z",
    "type": "completion"
   },
   {
    "code": "bus_summary = pd.DataFrame(**{'columns': ['business id column', 'latitude', 'longitude'],\n 'data': {'business id column': {'50%': 75685.0, 'max': 102705.0, 'min': 19.0},\n  'latitude': {'50%': -9999.0, 'max': 37.824494, 'min': -9999.0},\n  'longitude': {'50%': -9999.0,\n   'max': 0.0,\n   'min': -9999.0}},\n 'index': ['min', '50%', 'max']})\n\nins_summary = pd.DataFrame(**{'columns': ['score'],\n 'data': {'score': {'50%': 76.0, 'max': 100.0, 'min': -1.0}},\n 'index': ['min', '50%', 'max']})\n\nvio_summary = pd.DataFrame(**{'columns': ['vid'],\n 'data': {'vid': {'50%': 103135.0, 'max': 103177.0, 'min': 103102.0}},\n 'index': ['min', '50%', 'max']})\n\nfrom IPython.display import display\n\nprint('What we expect from your Businesses dataframe:')\ndisplay(bus_summary)\nprint('What we expect from your Inspections dataframe:')\ndisplay(ins_summary)\nprint('What we expect from your Violations dataframe:')\ndisplay(vio_summary)",
    "id": "8c4d020a225142ce80eb39916f630927",
    "idx": 32,
    "time": "2021-02-02T04:59:05.173Z",
    "type": "execution"
   },
   {
    "id": "8c4d020a225142ce80eb39916f630927",
    "time": "2021-02-02T04:59:05.466Z",
    "type": "completion"
   },
   {
    "code": "\"\"\"Run this cell to load this utility comparison function that we will use in various\ntests below (both tests you can see and those we run internally for grading).\n\nDo not modify the function in any way.\n\"\"\"\n\n\ndef df_allclose(actual, desired, columns=None, rtol=5e-2):\n    \"\"\"Compare selected columns of two dataframes on a few summary statistics.\n    \n    Compute the min, median and max of the two dataframes on the given columns, and compare\n    that they match numerically to the given relative tolerance.\n    \n    If they don't match, an AssertionError is raised (by `numpy.testing`).\n    \"\"\"    \n    # summary statistics to compare on\n    stats = ['min', '50%', 'max']\n    \n    # For the desired values, we can provide a full DF with the same structure as\n    # the actual data, or pre-computed summary statistics.\n    # We assume a pre-computed summary was provided if columns is None. In that case, \n    # `desired` *must* have the same structure as the actual's summary\n    if columns is None:\n        des = desired\n        columns = desired.columns\n    else:\n        des = desired[columns].describe().loc[stats]\n\n    # Extract summary stats from actual DF\n    act = actual[columns].describe().loc[stats]\n\n    return np.allclose(act, des, rtol)",
    "id": "90e86003398849c7b65bb6c1abccb14d",
    "idx": 35,
    "time": "2021-02-02T04:59:05.666Z",
    "type": "execution"
   },
   {
    "code": "# TEST\ndf_allclose(bus.rename(columns = {\"bid\" : \"business id column\"}), bus_summary)",
    "id": "289e67fd35894ae88509fa030ab1f65d",
    "idx": 36,
    "time": "2021-02-02T04:59:05.800Z",
    "type": "execution"
   },
   {
    "id": "90e86003398849c7b65bb6c1abccb14d",
    "time": "2021-02-02T04:59:05.940Z",
    "type": "completion"
   },
   {
    "id": "289e67fd35894ae88509fa030ab1f65d",
    "time": "2021-02-02T04:59:05.945Z",
    "type": "completion"
   },
   {
    "code": "# TEST\ndf_allclose(ins_test, ins_summary)",
    "id": "6af6ed761c5d43008d18782379c2707b",
    "idx": 37,
    "time": "2021-02-02T04:59:06.041Z",
    "type": "execution"
   },
   {
    "code": "# TEST\ndf_allclose(vio, vio_summary)",
    "id": "70070a0b937a483493dae9d1b4fa586e",
    "idx": 38,
    "time": "2021-02-02T04:59:06.192Z",
    "type": "execution"
   },
   {
    "code": "# TEST\ndf_allclose(ins2vio, vio_summary)",
    "id": "83b06db1f6c640c381275c1baed84e0f",
    "idx": 39,
    "time": "2021-02-02T04:59:06.359Z",
    "type": "execution"
   },
   {
    "code": "# HIDDEN TEST\ndf_allclose(bus.rename(columns = {\"bid\" : \"business id column\"}), pd.read_csv(dsDir/'bus.csv', encoding='ISO-8859-1'), ['business id column', 'latitude', 'longitude'])",
    "id": "e9b2e1e913784b169a91d20333d9f3d7",
    "idx": 40,
    "time": "2021-02-02T04:59:06.532Z",
    "type": "execution"
   },
   {
    "code": "# HIDDEN TEST\ndf_allclose(ins_test, pd.read_csv(dsDir/'ins.csv'), ['iid', 'score'])",
    "id": "847ddaea1ecb41028ce7ea34949cfd4a",
    "idx": 41,
    "time": "2021-02-02T04:59:06.627Z",
    "type": "execution"
   },
   {
    "id": "6af6ed761c5d43008d18782379c2707b",
    "time": "2021-02-02T04:59:06.777Z",
    "type": "completion"
   },
   {
    "id": "70070a0b937a483493dae9d1b4fa586e",
    "time": "2021-02-02T04:59:06.782Z",
    "type": "completion"
   },
   {
    "code": "# HIDDEN TEST\ndf_allclose(vio, pd.read_csv(dsDir/'vio.csv'), ['vid'])",
    "id": "5ef115a595884525a6cb6579b0bdf486",
    "idx": 42,
    "time": "2021-02-02T04:59:06.801Z",
    "type": "execution"
   },
   {
    "code": "# HIDDEN TEST\ndf_allclose(ins2vio, pd.read_csv(dsDir/'ins2vio.csv'), ['vid'])",
    "id": "a6a270cc8f6c4f0f839d01fbe5bfa28e",
    "idx": 43,
    "time": "2021-02-02T04:59:06.971Z",
    "type": "execution"
   },
   {
    "id": "83b06db1f6c640c381275c1baed84e0f",
    "time": "2021-02-02T04:59:07.186Z",
    "type": "completion"
   },
   {
    "id": "e9b2e1e913784b169a91d20333d9f3d7",
    "time": "2021-02-02T04:59:07.483Z",
    "type": "completion"
   },
   {
    "id": "847ddaea1ecb41028ce7ea34949cfd4a",
    "time": "2021-02-02T04:59:07.488Z",
    "type": "completion"
   },
   {
    "id": "5ef115a595884525a6cb6579b0bdf486",
    "time": "2021-02-02T04:59:07.715Z",
    "type": "completion"
   },
   {
    "id": "a6a270cc8f6c4f0f839d01fbe5bfa28e",
    "time": "2021-02-02T04:59:07.718Z",
    "type": "completion"
   },
   {
    "code": "bus.head()",
    "id": "d1a46de9b5344a8b918557a9fb7e6832",
    "idx": 49,
    "time": "2021-02-02T04:59:07.961Z",
    "type": "execution"
   },
   {
    "id": "d1a46de9b5344a8b918557a9fb7e6832",
    "time": "2021-02-02T04:59:08.272Z",
    "type": "completion"
   },
   {
    "code": "bus = bus.rename(columns={\"business id column\": \"bid\"})",
    "id": "c7d1bbcdb475428f892718177bba6729",
    "idx": 51,
    "time": "2021-02-02T04:59:08.300Z",
    "type": "execution"
   },
   {
    "id": "c7d1bbcdb475428f892718177bba6729",
    "time": "2021-02-02T04:59:08.599Z",
    "type": "completion"
   },
   {
    "code": "is_bid_unique = bus['bid'].value_counts().max() == 1 # SOLUTION",
    "id": "4c62ed973f35493392f0d17cfeff4c3f",
    "idx": 53,
    "time": "2021-02-02T04:59:08.614Z",
    "type": "execution"
   },
   {
    "code": "# TEST\nis_bid_unique or ~is_bid_unique",
    "id": "5d040f4a1fee40808b14239cf99c4cd2",
    "idx": 54,
    "time": "2021-02-02T04:59:08.785Z",
    "type": "execution"
   },
   {
    "id": "4c62ed973f35493392f0d17cfeff4c3f",
    "time": "2021-02-02T04:59:09.100Z",
    "type": "completion"
   },
   {
    "id": "5d040f4a1fee40808b14239cf99c4cd2",
    "time": "2021-02-02T04:59:09.105Z",
    "type": "completion"
   },
   {
    "code": "# HIDDEN TEST\nis_bid_unique",
    "id": "6ffab1479c02442d8b20da239b5e9ba5",
    "idx": 55,
    "time": "2021-02-02T04:59:09.627Z",
    "type": "execution"
   },
   {
    "id": "6ffab1479c02442d8b20da239b5e9ba5",
    "time": "2021-02-02T04:59:10.153Z",
    "type": "completion"
   },
   {
    "code": "top_names = np.array(bus['name'].value_counts()[:5].index) # SOLUTION\ntop_names",
    "id": "dd60cdf721db485d9fdd680fb61fcaae",
    "idx": 57,
    "time": "2021-02-02T04:59:12.010Z",
    "type": "execution"
   },
   {
    "id": "dd60cdf721db485d9fdd680fb61fcaae",
    "time": "2021-02-02T04:59:12.158Z",
    "type": "completion"
   },
   {
    "code": "top_addresses = np.array(bus['address'].value_counts()[:5].index) # SOLUTION\ntop_addresses",
    "id": "bc13379bb947404eb7898f71547ebf91",
    "idx": 58,
    "time": "2021-02-02T04:59:12.490Z",
    "type": "execution"
   },
   {
    "code": "# TEST\nassert type(top_names) == np.ndarray\nassert type(top_addresses) == np.ndarray\nassert len(top_names) == 5\nlen(top_addresses) == 5",
    "id": "f88bdf4a6c7543bc97ce7b20d562fa3d",
    "idx": 59,
    "time": "2021-02-02T04:59:12.658Z",
    "type": "execution"
   },
   {
    "code": "# TEST \nassert top_names[0] == \"Peet's Coffee & Tea\"\ntop_addresses[0] == 'Off The Grid'",
    "id": "f6128cd612334266be12c10178737764",
    "idx": 60,
    "time": "2021-02-02T04:59:12.841Z",
    "type": "execution"
   },
   {
    "code": "# HIDDEN TEST\nnp.all(top_names == np.array(bus['name'].value_counts()[:5].index))",
    "id": "51c4ae9f62b449539c2fcf9be5a33395",
    "idx": 61,
    "time": "2021-02-02T04:59:13.003Z",
    "type": "execution"
   },
   {
    "id": "bc13379bb947404eb7898f71547ebf91",
    "time": "2021-02-02T04:59:13.074Z",
    "type": "completion"
   },
   {
    "id": "f88bdf4a6c7543bc97ce7b20d562fa3d",
    "time": "2021-02-02T04:59:13.077Z",
    "type": "completion"
   },
   {
    "code": "# HIDDEN TEST\nnp.all(top_addresses == np.array(bus['address'].value_counts()[:5].index))",
    "id": "c044e6e6b59244388ecb8e1eaf570755",
    "idx": 62,
    "time": "2021-02-02T04:59:13.164Z",
    "type": "execution"
   },
   {
    "id": "f6128cd612334266be12c10178737764",
    "time": "2021-02-02T04:59:13.371Z",
    "type": "completion"
   },
   {
    "id": "51c4ae9f62b449539c2fcf9be5a33395",
    "time": "2021-02-02T04:59:13.374Z",
    "type": "completion"
   },
   {
    "code": "# What does each record represent?  Valid answers are:\n#    \"One location of a restaurant.\"\n#    \"A chain of restaurants.\"\n#    \"A city block.\"\nq2e_part1 = \"One location of a restaurant.\" # SOLUTION\n\n# What is the minimal primary key? Valid answers are:\n#    \"bid\"\n#    \"bid, name\"\n#    \"bid, name, address\"\nq2e_part2 = \"bid\" # SOLUTION",
    "id": "82412b8430d746948c98f66d056f7f2a",
    "idx": 64,
    "time": "2021-02-02T04:59:13.477Z",
    "type": "execution"
   },
   {
    "id": "c044e6e6b59244388ecb8e1eaf570755",
    "time": "2021-02-02T04:59:13.545Z",
    "type": "completion"
   },
   {
    "id": "82412b8430d746948c98f66d056f7f2a",
    "time": "2021-02-02T04:59:13.634Z",
    "type": "completion"
   },
   {
    "code": "# TEST\nq2e_part1 in set([\"One location of a restaurant.\", \"A chain of restaurants.\", \"A city block.\"])",
    "id": "f15c1c747a8e421b8f6c3b6171b8adbf",
    "idx": 65,
    "time": "2021-02-02T04:59:13.763Z",
    "type": "execution"
   },
   {
    "code": "# TEST\nq2e_part2 in set([\"bid\", \"bid, name\", \"bid, name, address\"])",
    "id": "0a84c219cb8d472a9c51340ce436a1ed",
    "idx": 66,
    "time": "2021-02-02T04:59:13.932Z",
    "type": "execution"
   },
   {
    "id": "f15c1c747a8e421b8f6c3b6171b8adbf",
    "time": "2021-02-02T04:59:14.073Z",
    "type": "completion"
   },
   {
    "id": "0a84c219cb8d472a9c51340ce436a1ed",
    "time": "2021-02-02T04:59:14.166Z",
    "type": "completion"
   },
   {
    "code": "# HIDDEN TEST\nq2e_part1 == \"One location of a restaurant.\" ",
    "id": "18b07eccc9414d7e90dc75068e0f1ea6",
    "idx": 67,
    "time": "2021-02-02T04:59:14.362Z",
    "type": "execution"
   },
   {
    "code": "# HIDDEN TEST\nq2e_part2 == \"bid\"",
    "id": "9ef7e1db5b4f4345aa7e91bbbcd15399",
    "idx": 68,
    "time": "2021-02-02T04:59:14.556Z",
    "type": "execution"
   },
   {
    "id": "18b07eccc9414d7e90dc75068e0f1ea6",
    "time": "2021-02-02T04:59:14.838Z",
    "type": "completion"
   },
   {
    "id": "9ef7e1db5b4f4345aa7e91bbbcd15399",
    "time": "2021-02-02T04:59:14.842Z",
    "type": "completion"
   },
   {
    "code": "zip_counts = bus.groupby(\"postal_code\").size().sort_values(ascending=False) # SOLUTION\nprint(zip_counts.to_string())",
    "id": "c99dcfa189e749b1a6bdea5657cfb5bd",
    "idx": 71,
    "time": "2021-02-02T04:59:15.075Z",
    "type": "execution"
   },
   {
    "code": "# TEST\ntype(zip_counts) == pd.Series",
    "id": "a43ea39165824100ab43f85dc353ed74",
    "idx": 72,
    "time": "2021-02-02T04:59:15.303Z",
    "type": "execution"
   },
   {
    "id": "c99dcfa189e749b1a6bdea5657cfb5bd",
    "time": "2021-02-02T04:59:15.377Z",
    "type": "completion"
   },
   {
    "code": "# TEST\nzip_counts.shape[0] == 63",
    "id": "bd957d7617694f178e358ffb1b175f73",
    "idx": 73,
    "time": "2021-02-02T04:59:15.466Z",
    "type": "execution"
   },
   {
    "code": "# TEST\nzip_counts[\"94103\"] == 562",
    "id": "8b1784451d5b41fe830b31fbcd76a916",
    "idx": 74,
    "time": "2021-02-02T04:59:15.617Z",
    "type": "execution"
   },
   {
    "id": "a43ea39165824100ab43f85dc353ed74",
    "time": "2021-02-02T04:59:15.688Z",
    "type": "completion"
   },
   {
    "code": "# HIDDEN TEST\nnp.isclose(zip_counts.var(), bus['postal_code'].value_counts().var())",
    "id": "d91d750548e64bf99e2a40b23bf28fec",
    "idx": 75,
    "time": "2021-02-02T04:59:15.739Z",
    "type": "execution"
   },
   {
    "code": "# HIDDEN TEST\nnp.isclose(zip_counts.mean(), bus['postal_code'].value_counts().mean())",
    "id": "d72cddf935314c0297ae57be46a04a9a",
    "idx": 76,
    "time": "2021-02-02T04:59:15.888Z",
    "type": "execution"
   },
   {
    "id": "bd957d7617694f178e358ffb1b175f73",
    "time": "2021-02-02T04:59:15.934Z",
    "type": "completion"
   },
   {
    "id": "8b1784451d5b41fe830b31fbcd76a916",
    "time": "2021-02-02T04:59:15.937Z",
    "type": "completion"
   },
   {
    "id": "d91d750548e64bf99e2a40b23bf28fec",
    "time": "2021-02-02T04:59:16.100Z",
    "type": "completion"
   },
   {
    "code": "# The ZIP code column is which of the following type of data:\n#   \"Quantitative Continuous\" \n#   \"Quantitative Discrete\"\n#   \"Qualitative Ordinal\"\n#   \"Qualitative Nominal\"\nq3b_part1 = \"Qualitative Nominal\" # SOLUTION\n\n# What Python data type is used to represent a ZIP code? \n#    \"str\"\n#    \"int\"\n#    \"bool\"\n#    \"float\"\nq3b_part2 = \"str\" # SOLUTION",
    "id": "78359139cf1c459a8e812fdb3db05c80",
    "idx": 78,
    "time": "2021-02-02T04:59:16.190Z",
    "type": "execution"
   },
   {
    "id": "d72cddf935314c0297ae57be46a04a9a",
    "time": "2021-02-02T04:59:16.299Z",
    "type": "completion"
   },
   {
    "id": "78359139cf1c459a8e812fdb3db05c80",
    "time": "2021-02-02T04:59:16.303Z",
    "type": "completion"
   },
   {
    "code": "# TEST\nq3b_part1 in set([\"Quantitative Continuous\", \"Quantitative Discrete\", \n                  \"Qualitative Ordinal\", \"Qualitative Nominal\"])",
    "id": "150ca249e66c4ad5affbb2fa50b2d648",
    "idx": 79,
    "time": "2021-02-02T04:59:16.324Z",
    "type": "execution"
   },
   {
    "id": "150ca249e66c4ad5affbb2fa50b2d648",
    "time": "2021-02-02T04:59:16.424Z",
    "type": "completion"
   },
   {
    "code": "# TEST\nq3b_part2 in set([\"str\", \"int\", \"bool\", \"float\"])",
    "id": "1816982e44f44b5f9a13f3cce6b9f108",
    "idx": 80,
    "time": "2021-02-02T04:59:16.511Z",
    "type": "execution"
   },
   {
    "code": "# HIDDEN TEST\nq3b_part1 == \"Qualitative Nominal\"",
    "id": "f19605e8492346138549331364c5e78a",
    "idx": 81,
    "time": "2021-02-02T04:59:16.662Z",
    "type": "execution"
   },
   {
    "id": "1816982e44f44b5f9a13f3cce6b9f108",
    "time": "2021-02-02T04:59:16.810Z",
    "type": "completion"
   },
   {
    "id": "f19605e8492346138549331364c5e78a",
    "time": "2021-02-02T04:59:16.886Z",
    "type": "completion"
   },
   {
    "code": "# HIDDEN TEST\nq3b_part2 == \"str\"",
    "id": "d47f88ab6f4849738555e20010797fef",
    "idx": 82,
    "time": "2021-02-02T04:59:16.901Z",
    "type": "execution"
   },
   {
    "id": "d47f88ab6f4849738555e20010797fef",
    "time": "2021-02-02T04:59:17.004Z",
    "type": "completion"
   },
   {
    "code": "valid_zips = pd.read_json(\"data/sf_zipcodes.json\", dtype=\"str\")['zip_codes'] # SOLUTION\nvalid_zips.head()",
    "id": "a489a87d1bec4dcbac20e41e7ef3db90",
    "idx": 85,
    "time": "2021-02-02T04:59:17.408Z",
    "type": "execution"
   },
   {
    "code": "# TEST\nvalid_zips.dtype == object ",
    "id": "0c80bd5078024a8a92d2544839740ad6",
    "idx": 86,
    "time": "2021-02-02T04:59:17.587Z",
    "type": "execution"
   },
   {
    "code": "# TEST\ntype(valid_zips) == pd.Series",
    "id": "52bb028575b9484f8b3cfe6a905ca955",
    "idx": 87,
    "time": "2021-02-02T04:59:17.758Z",
    "type": "execution"
   },
   {
    "code": "# HIDDEN TEST\nnp.all(valid_zips.sort_values() == pd.read_json(\"data/sf_zipcodes.json\", dtype=\"str\")['zip_codes'].sort_values()) ",
    "id": "286f24c16e89422a9ba6468aef0b1c16",
    "idx": 88,
    "time": "2021-02-02T04:59:17.912Z",
    "type": "execution"
   },
   {
    "id": "a489a87d1bec4dcbac20e41e7ef3db90",
    "time": "2021-02-02T04:59:17.963Z",
    "type": "completion"
   },
   {
    "id": "0c80bd5078024a8a92d2544839740ad6",
    "time": "2021-02-02T04:59:17.968Z",
    "type": "completion"
   },
   {
    "id": "52bb028575b9484f8b3cfe6a905ca955",
    "time": "2021-02-02T04:59:18.147Z",
    "type": "completion"
   },
   {
    "code": "invalid_zip_bus = bus[~bus['postal_code'].isin(valid_zips)] # SOLUTION\ninvalid_zip_bus.head(20)",
    "id": "0601fc45ecfd4f2ba3cf331b6f23346b",
    "idx": 90,
    "time": "2021-02-02T04:59:18.218Z",
    "type": "execution"
   },
   {
    "id": "286f24c16e89422a9ba6468aef0b1c16",
    "time": "2021-02-02T04:59:18.366Z",
    "type": "completion"
   },
   {
    "code": "# TEST\ntype(invalid_zip_bus) == pd.DataFrame",
    "id": "6512a16d052f47e38e65bf6b134eef54",
    "idx": 91,
    "time": "2021-02-02T04:59:18.383Z",
    "type": "execution"
   },
   {
    "id": "0601fc45ecfd4f2ba3cf331b6f23346b",
    "time": "2021-02-02T04:59:18.493Z",
    "type": "completion"
   },
   {
    "code": "# TEST\nlen(invalid_zip_bus) == 230",
    "id": "2bffe09119544daba7b0247fae06ecff",
    "idx": 92,
    "time": "2021-02-02T04:59:18.597Z",
    "type": "execution"
   },
   {
    "id": "6512a16d052f47e38e65bf6b134eef54",
    "time": "2021-02-02T04:59:18.665Z",
    "type": "completion"
   },
   {
    "code": "# HIDDEN TEST\nset(invalid_zip_bus['postal_code']) == set(bus[~bus['postal_code'].isin(valid_zips)]['postal_code'])",
    "id": "aa6064d1a60b42828a8fe45c2e592144",
    "idx": 93,
    "time": "2021-02-02T04:59:18.720Z",
    "type": "execution"
   },
   {
    "id": "2bffe09119544daba7b0247fae06ecff",
    "time": "2021-02-02T04:59:18.996Z",
    "type": "completion"
   },
   {
    "id": "aa6064d1a60b42828a8fe45c2e592144",
    "time": "2021-02-02T04:59:18.999Z",
    "type": "completion"
   },
   {
    "code": "missing_zip_address_count = bus[bus['postal_code'] == \"-9999\"]['address'].value_counts() # SOLUTION\nmissing_zip_address_count.head()",
    "id": "6d39bfcb688c45278ff449616bf2e49b",
    "idx": 95,
    "time": "2021-02-02T04:59:19.089Z",
    "type": "execution"
   },
   {
    "code": "# TEST\ntype(missing_zip_address_count) == pd.Series",
    "id": "13f36e0aceaa45e983de086a47c79856",
    "idx": 96,
    "time": "2021-02-02T04:59:19.241Z",
    "type": "execution"
   },
   {
    "code": "# TEST\nlen(missing_zip_address_count) == 135",
    "id": "2f81528784324edc8b40a5159bee9924",
    "idx": 97,
    "time": "2021-02-02T04:59:19.386Z",
    "type": "execution"
   },
   {
    "id": "6d39bfcb688c45278ff449616bf2e49b",
    "time": "2021-02-02T04:59:19.454Z",
    "type": "completion"
   },
   {
    "code": "# TEST\nmissing_zip_address_count['3914 Judah St'] == 1",
    "id": "bb47405962864a4887ae8215ac8fad35",
    "idx": 98,
    "time": "2021-02-02T04:59:19.532Z",
    "type": "execution"
   },
   {
    "id": "13f36e0aceaa45e983de086a47c79856",
    "time": "2021-02-02T04:59:19.604Z",
    "type": "completion"
   },
   {
    "id": "2f81528784324edc8b40a5159bee9924",
    "time": "2021-02-02T04:59:19.608Z",
    "type": "completion"
   },
   {
    "id": "bb47405962864a4887ae8215ac8fad35",
    "time": "2021-02-02T04:59:19.683Z",
    "type": "completion"
   },
   {
    "code": "# HIDDEN TEST\nmissing_zip_address_count['Off The Grid'] == 39",
    "id": "611f797219fb4083bee5219c5ccfacc5",
    "idx": 99,
    "time": "2021-02-02T04:59:19.698Z",
    "type": "execution"
   },
   {
    "id": "611f797219fb4083bee5219c5ccfacc5",
    "time": "2021-02-02T04:59:19.948Z",
    "type": "completion"
   },
   {
    "code": "# True or False: \n#  If we were to drop businesses with MISSING postal code values \n#   a particular class of business be affected.\nq2e_true_or_false = True # SOLUTION",
    "id": "15b19c8240d343b6801154bab6fa470e",
    "idx": 101,
    "time": "2021-02-02T04:59:20.033Z",
    "type": "execution"
   },
   {
    "id": "15b19c8240d343b6801154bab6fa470e",
    "time": "2021-02-02T04:59:20.138Z",
    "type": "completion"
   },
   {
    "code": "# TEST\ntype(q2e_true_or_false) == bool",
    "id": "3e77d101d692433b8173cfb176d06bb6",
    "idx": 102,
    "time": "2021-02-02T04:59:20.288Z",
    "type": "execution"
   },
   {
    "code": "# HIDDEN TEST\nq2e_true_or_false == True",
    "id": "2c0f7a3cf3ab400180ddc891e503caca",
    "idx": 103,
    "time": "2021-02-02T04:59:20.431Z",
    "type": "execution"
   },
   {
    "id": "3e77d101d692433b8173cfb176d06bb6",
    "time": "2021-02-02T04:59:20.554Z",
    "type": "completion"
   },
   {
    "id": "2c0f7a3cf3ab400180ddc891e503caca",
    "time": "2021-02-02T04:59:20.560Z",
    "type": "completion"
   },
   {
    "code": "bus['postal5'] = None\n# BEGIN SOLUTION\nbus['postal5'] = bus['postal_code'].str[:5]\nbus.loc[~bus['postal5'].isin(valid_zips), 'postal5'] = None \n# END SOLUTION\n\n# Checking the corrected postal5 column\nbus.loc[invalid_zip_bus.index, ['bid', 'name', 'postal_code', 'postal5']]",
    "id": "0e70763502cc474d86ab0be382045113",
    "idx": 105,
    "time": "2021-02-02T04:59:20.762Z",
    "type": "execution"
   },
   {
    "code": "# TEST\n'postal5' in bus.columns",
    "id": "c0203fb8053a49fa94bbccc8fdac5778",
    "idx": 106,
    "time": "2021-02-02T04:59:20.926Z",
    "type": "execution"
   },
   {
    "id": "0e70763502cc474d86ab0be382045113",
    "time": "2021-02-02T04:59:21.068Z",
    "type": "completion"
   },
   {
    "id": "c0203fb8053a49fa94bbccc8fdac5778",
    "time": "2021-02-02T04:59:21.074Z",
    "type": "completion"
   },
   {
    "code": "# TEST\n(bus['postal5'].str.len() != 5).sum() == 221",
    "id": "da1ef722ae7d487cabbf298a4b51714b",
    "idx": 107,
    "time": "2021-02-02T04:59:21.087Z",
    "type": "execution"
   },
   {
    "id": "da1ef722ae7d487cabbf298a4b51714b",
    "time": "2021-02-02T04:59:21.238Z",
    "type": "completion"
   },
   {
    "code": "# TEST\nbus['postal5'].isin(valid_zips).sum() == 6032",
    "id": "f5d6b0635c6a474d9e3b8c30d2fd8cca",
    "idx": 108,
    "time": "2021-02-02T04:59:21.255Z",
    "type": "execution"
   },
   {
    "id": "f5d6b0635c6a474d9e3b8c30d2fd8cca",
    "time": "2021-02-02T04:59:21.351Z",
    "type": "completion"
   },
   {
    "code": "# TEST\nbus['postal5'].isna().sum() == 221",
    "id": "904b886f02cc4013b5ee84040dcb5eab",
    "idx": 109,
    "time": "2021-02-02T04:59:21.439Z",
    "type": "execution"
   },
   {
    "code": "# HIDDEN TEST\n(bus['postal5'] == \"-9999\").sum() == 0",
    "id": "471c6fd0ce7841d382f74214ab278976",
    "idx": 110,
    "time": "2021-02-02T04:59:21.583Z",
    "type": "execution"
   },
   {
    "id": "904b886f02cc4013b5ee84040dcb5eab",
    "time": "2021-02-02T04:59:21.720Z",
    "type": "completion"
   },
   {
    "code": "# HIDDEN TEST\nbus['postal5'].isna().sum() == 221",
    "id": "2c3ff50bc91f401a8bd7389b70a55539",
    "idx": 111,
    "time": "2021-02-02T04:59:21.738Z",
    "type": "execution"
   },
   {
    "id": "471c6fd0ce7841d382f74214ab278976",
    "time": "2021-02-02T04:59:21.779Z",
    "type": "completion"
   },
   {
    "id": "2c3ff50bc91f401a8bd7389b70a55539",
    "time": "2021-02-02T04:59:22.016Z",
    "type": "completion"
   },
   {
    "code": "ins.head(5)",
    "id": "ee96610bd00b48eeb4433bcc61874ae1",
    "idx": 114,
    "time": "2021-02-02T04:59:22.757Z",
    "type": "execution"
   },
   {
    "id": "ee96610bd00b48eeb4433bcc61874ae1",
    "time": "2021-02-02T04:59:23.028Z",
    "type": "completion"
   },
   {
    "code": "is_ins_iid_a_primary_key = ins['iid'].value_counts().max() == 1 # SOLUTION",
    "id": "e3bc66e7902e432097d3d5dd02d357cf",
    "idx": 116,
    "time": "2021-02-02T04:59:23.124Z",
    "type": "execution"
   },
   {
    "id": "e3bc66e7902e432097d3d5dd02d357cf",
    "time": "2021-02-02T04:59:23.227Z",
    "type": "completion"
   },
   {
    "code": "# TEST\ntype(is_ins_iid_a_primary_key) == bool or type(is_ins_iid_a_primary_key) == np.bool_",
    "id": "a352c346708245e7911e12b2a885672b",
    "idx": 117,
    "time": "2021-02-02T04:59:23.277Z",
    "type": "execution"
   },
   {
    "id": "a352c346708245e7911e12b2a885672b",
    "time": "2021-02-02T04:59:23.408Z",
    "type": "completion"
   },
   {
    "code": "# HIDDEN TEST\nis_ins_iid_a_primary_key == True",
    "id": "ddc75fc9979e4db38ede78dc827bc1e8",
    "idx": 118,
    "time": "2021-02-02T04:59:23.498Z",
    "type": "execution"
   },
   {
    "id": "ddc75fc9979e4db38ede78dc827bc1e8",
    "time": "2021-02-02T04:59:23.697Z",
    "type": "completion"
   },
   {
    "code": "ins['bid'] = ins['iid'].str.split(\"_\", expand=True)[0].astype(int) # SOLUTION",
    "id": "80661733a6ce4cee9722d8f807440ad1",
    "idx": 121,
    "time": "2021-02-02T04:59:24.026Z",
    "type": "execution"
   },
   {
    "id": "80661733a6ce4cee9722d8f807440ad1",
    "time": "2021-02-02T04:59:24.163Z",
    "type": "completion"
   },
   {
    "code": "# TEST\n'bid' in ins.columns",
    "id": "1fb4d764c7dd447d89078b64fd4c800e",
    "idx": 122,
    "time": "2021-02-02T04:59:24.253Z",
    "type": "execution"
   },
   {
    "id": "1fb4d764c7dd447d89078b64fd4c800e",
    "time": "2021-02-02T04:59:24.393Z",
    "type": "completion"
   },
   {
    "code": "# TEST\nins['bid'].dtype == int",
    "id": "33d99823e1ed44b5ad876962b9fa78c2",
    "idx": 123,
    "time": "2021-02-02T04:59:25.581Z",
    "type": "execution"
   },
   {
    "id": "33d99823e1ed44b5ad876962b9fa78c2",
    "time": "2021-02-02T04:59:25.711Z",
    "type": "completion"
   },
   {
    "code": "# TEST\nlen(ins[ins['score'] > 0]['bid'].unique()) == 5724",
    "id": "3563034f64444d6c85f0e573e7c4101d",
    "idx": 124,
    "time": "2021-02-02T04:59:25.796Z",
    "type": "execution"
   },
   {
    "code": "# HIDDEN TEST\nins['bid'].equals(ins['iid'].str.split(\"_\", expand=True)[0].astype(\"int\"))",
    "id": "1e100a72657741ff84273360db57583f",
    "idx": 125,
    "time": "2021-02-02T04:59:25.948Z",
    "type": "execution"
   },
   {
    "id": "3563034f64444d6c85f0e573e7c4101d",
    "time": "2021-02-02T04:59:26.078Z",
    "type": "completion"
   },
   {
    "id": "1e100a72657741ff84273360db57583f",
    "time": "2021-02-02T04:59:26.274Z",
    "type": "completion"
   },
   {
    "code": "invalid_bid_count = (~ins['bid'].isin(bus['bid'])).sum() # SOLUTION",
    "id": "512d7dfcfd484d4c85d59fdb0fbaec8c",
    "idx": 127,
    "time": "2021-02-02T04:59:26.466Z",
    "type": "execution"
   },
   {
    "id": "512d7dfcfd484d4c85d59fdb0fbaec8c",
    "time": "2021-02-02T04:59:26.585Z",
    "type": "completion"
   },
   {
    "code": "# TEST\ninvalid_bid_count >= 0 ",
    "id": "9b08490b8a7a42ea8cac451a7d59abaf",
    "idx": 128,
    "time": "2021-02-02T04:59:26.641Z",
    "type": "execution"
   },
   {
    "id": "9b08490b8a7a42ea8cac451a7d59abaf",
    "time": "2021-02-02T04:59:26.771Z",
    "type": "completion"
   },
   {
    "code": "# HIDDEN TEST\ninvalid_bid_count == 0",
    "id": "7c828f3b912e45f782f5c11c8cd593c1",
    "idx": 129,
    "time": "2021-02-02T04:59:26.964Z",
    "type": "execution"
   },
   {
    "code": "# True or False: The column ins['bid'] is a foreign key \n#   referencing the bus['bid'] primary key.\n\nq3b_is_foreign_key = True # SOLUTION",
    "id": "9506be7132134d3786c34328159b6e7e",
    "idx": 131,
    "time": "2021-02-02T04:59:27.368Z",
    "type": "execution"
   },
   {
    "id": "7c828f3b912e45f782f5c11c8cd593c1",
    "time": "2021-02-02T04:59:27.460Z",
    "type": "completion"
   },
   {
    "id": "9506be7132134d3786c34328159b6e7e",
    "time": "2021-02-02T04:59:27.533Z",
    "type": "completion"
   },
   {
    "code": "# TEST\ntype(q3b_is_foreign_key) == bool",
    "id": "c344bcf1df41440baa535dc9f77dd926",
    "idx": 132,
    "time": "2021-02-02T04:59:29.652Z",
    "type": "execution"
   },
   {
    "id": "c344bcf1df41440baa535dc9f77dd926",
    "time": "2021-02-02T04:59:29.783Z",
    "type": "completion"
   },
   {
    "code": "# HIDDEN TEST\nq3b_is_foreign_key == True",
    "id": "ada9428329ae4ca091db84adf60b90ad",
    "idx": 133,
    "time": "2021-02-02T04:59:29.926Z",
    "type": "execution"
   },
   {
    "id": "ada9428329ae4ca091db84adf60b90ad",
    "time": "2021-02-02T04:59:30.038Z",
    "type": "completion"
   },
   {
    "code": "ins_date_type = type(ins['date'][0]) # SOLUTION\nins_date_type",
    "id": "9fc4674c9e174eb88908a2b4c77dbc5f",
    "idx": 136,
    "time": "2021-02-02T04:59:30.508Z",
    "type": "execution"
   },
   {
    "id": "9fc4674c9e174eb88908a2b4c77dbc5f",
    "time": "2021-02-02T04:59:30.636Z",
    "type": "completion"
   },
   {
    "code": "# TEST\ntype(ins_date_type) == type",
    "id": "189e56c6b7984914aac079b7074646df",
    "idx": 137,
    "time": "2021-02-02T04:59:30.731Z",
    "type": "execution"
   },
   {
    "id": "189e56c6b7984914aac079b7074646df",
    "time": "2021-02-02T04:59:30.869Z",
    "type": "completion"
   },
   {
    "code": "# HIDDEN TEST\nins_date_type == str",
    "id": "f37821c780e941c087d5767cac209e3b",
    "idx": 138,
    "time": "2021-02-02T04:59:30.954Z",
    "type": "execution"
   },
   {
    "id": "f37821c780e941c087d5767cac209e3b",
    "time": "2021-02-02T04:59:31.195Z",
    "type": "completion"
   },
   {
    "code": "ins['timestamp'] = pd.to_datetime(ins['date']) # SOLUTION",
    "id": "2cdc4dcfa98b42a18f5e4321e83fd0ed",
    "idx": 140,
    "time": "2021-02-02T04:59:31.277Z",
    "type": "execution"
   },
   {
    "code": "# TEST\ntype(ins['timestamp'][1]) == pd.Timestamp",
    "id": "0f251d1a2a38423ba6ce2815fc00d02c",
    "idx": 141,
    "time": "2021-02-02T04:59:31.428Z",
    "type": "execution"
   },
   {
    "id": "2cdc4dcfa98b42a18f5e4321e83fd0ed",
    "time": "2021-02-02T04:59:31.548Z",
    "type": "completion"
   },
   {
    "id": "0f251d1a2a38423ba6ce2815fc00d02c",
    "time": "2021-02-02T04:59:31.551Z",
    "type": "completion"
   },
   {
    "code": "earliest_date = ins['timestamp'].min() # SOLUTION\nlatest_date = ins['timestamp'].max() # SOLUTION\n\nprint(\"Earliest Date:\", earliest_date)\nprint(\"Latest Date:\", latest_date)",
    "id": "d1df18774c0b41288b0c4476fbf6d1d3",
    "idx": 143,
    "time": "2021-02-02T04:59:31.800Z",
    "type": "execution"
   },
   {
    "id": "d1df18774c0b41288b0c4476fbf6d1d3",
    "time": "2021-02-02T04:59:31.931Z",
    "type": "completion"
   },
   {
    "code": "# TEST\ntype(earliest_date) == pd.Timestamp",
    "id": "dc7630f84fba45fca9dd43a969330124",
    "idx": 144,
    "time": "2021-02-02T04:59:32.016Z",
    "type": "execution"
   },
   {
    "code": "# TEST\ntype(latest_date) == pd.Timestamp",
    "id": "10ab35f72657438b8c61d69a3d4efeb1",
    "idx": 145,
    "time": "2021-02-02T04:59:32.158Z",
    "type": "execution"
   },
   {
    "id": "dc7630f84fba45fca9dd43a969330124",
    "time": "2021-02-02T04:59:32.291Z",
    "type": "completion"
   },
   {
    "id": "10ab35f72657438b8c61d69a3d4efeb1",
    "time": "2021-02-02T04:59:32.299Z",
    "type": "completion"
   },
   {
    "code": "# HIDDEN TEST\nearliest_date == pd.Timestamp('2016-10-04 00:00:00')",
    "id": "7f60d7eb1d564bde8f181ee8fbb04841",
    "idx": 146,
    "time": "2021-02-02T04:59:32.384Z",
    "type": "execution"
   },
   {
    "code": "# HIDDEN TEST\nlatest_date == pd.Timestamp('2019-11-28 00:00:00')",
    "id": "1daa43006f2f439a8187efda0739f026",
    "idx": 147,
    "time": "2021-02-02T04:59:32.531Z",
    "type": "execution"
   },
   {
    "id": "7f60d7eb1d564bde8f181ee8fbb04841",
    "time": "2021-02-02T04:59:32.572Z",
    "type": "completion"
   },
   {
    "id": "1daa43006f2f439a8187efda0739f026",
    "time": "2021-02-02T04:59:32.630Z",
    "type": "completion"
   },
   {
    "code": "ins['year'] = ins['timestamp'].dt.year # SOLUTION",
    "id": "5192b6c246c7411186d2811e6426e894",
    "idx": 149,
    "time": "2021-02-02T04:59:32.881Z",
    "type": "execution"
   },
   {
    "id": "5192b6c246c7411186d2811e6426e894",
    "time": "2021-02-02T04:59:32.975Z",
    "type": "completion"
   },
   {
    "code": "# TEST\n'year' in ins.columns",
    "id": "a1b7f2a480864b1585f8af080dfc242f",
    "idx": 150,
    "time": "2021-02-02T04:59:33.063Z",
    "type": "execution"
   },
   {
    "id": "a1b7f2a480864b1585f8af080dfc242f",
    "time": "2021-02-02T04:59:33.199Z",
    "type": "completion"
   },
   {
    "code": "# HIDDEN TEST\nset(ins[ins['score'] > 0]['year'].value_counts()) == {959, 4043, 4355, 4674}",
    "id": "47067cde37d04b158ebac774f5f7c09d",
    "idx": 151,
    "time": "2021-02-02T04:59:33.282Z",
    "type": "execution"
   },
   {
    "code": "ins.head()",
    "id": "b54c5ba7086244f38d75c5210e8b0c7e",
    "idx": 152,
    "time": "2021-02-02T04:59:33.421Z",
    "type": "execution"
   },
   {
    "id": "47067cde37d04b158ebac774f5f7c09d",
    "time": "2021-02-02T04:59:33.544Z",
    "type": "completion"
   },
   {
    "id": "b54c5ba7086244f38d75c5210e8b0c7e",
    "time": "2021-02-02T04:59:33.550Z",
    "type": "completion"
   },
   {
    "code": "ins_pivot = ins.pivot_table(columns = \"year\", index = \"type\", aggfunc = len, fill_value = 0) # SOLUTION\nins_pivot = ins_pivot[\"bid\"] # SOLUTION\nins_pivot['Total'] = ins_pivot.sum(axis=1) # SOLUTION\nins_pivot_sorted = ins_pivot.sort_values('Total', ascending=False) # SOLUTION\nins_pivot_sorted",
    "id": "f86dd71b86a94b89a063a437251bdbad",
    "idx": 155,
    "time": "2021-02-02T04:59:33.933Z",
    "type": "execution"
   },
   {
    "id": "f86dd71b86a94b89a063a437251bdbad",
    "time": "2021-02-02T04:59:34.062Z",
    "type": "completion"
   },
   {
    "code": "# TEST\nset(ins_pivot_sorted.columns) == {2016, 2017, 2018, 2019, 'Total'}",
    "id": "f6281d045f6e48bf97da1e5017955689",
    "idx": 156,
    "time": "2021-02-02T04:59:34.163Z",
    "type": "execution"
   },
   {
    "code": "# TEST\nlen(ins_pivot_sorted) == 15",
    "id": "695d8e18cc7349dc8e7ed019b4a90904",
    "idx": 157,
    "time": "2021-02-02T04:59:34.310Z",
    "type": "execution"
   },
   {
    "id": "f6281d045f6e48bf97da1e5017955689",
    "time": "2021-02-02T04:59:34.445Z",
    "type": "completion"
   },
   {
    "code": "# HIDDEN TEST\nins_pivot_sorted.loc[\"Routine - Unscheduled\", 2016] == 966",
    "id": "8627b3d0f47043a1982029f1cd7554ba",
    "idx": 158,
    "time": "2021-02-02T04:59:34.476Z",
    "type": "execution"
   },
   {
    "id": "695d8e18cc7349dc8e7ed019b4a90904",
    "time": "2021-02-02T04:59:34.585Z",
    "type": "completion"
   },
   {
    "code": "# HIDDEN TEST\nins_pivot_sorted.iloc[0,4] == 14077",
    "id": "5062f0e5bc9640cb95dce1c132636ee7",
    "idx": 159,
    "time": "2021-02-02T04:59:34.681Z",
    "type": "execution"
   },
   {
    "code": "# HIDDEN TEST\nins_pivot_sorted.loc[\"New Ownership - Followup\", 2016] == 0",
    "id": "571eef4f92974bf0ad593eca27761dc2",
    "idx": 160,
    "time": "2021-02-02T04:59:34.840Z",
    "type": "execution"
   },
   {
    "id": "8627b3d0f47043a1982029f1cd7554ba",
    "time": "2021-02-02T04:59:34.883Z",
    "type": "completion"
   },
   {
    "id": "5062f0e5bc9640cb95dce1c132636ee7",
    "time": "2021-02-02T04:59:35.027Z",
    "type": "completion"
   },
   {
    "id": "571eef4f92974bf0ad593eca27761dc2",
    "time": "2021-02-02T04:59:35.107Z",
    "type": "completion"
   },
   {
    "code": "year_of_new_construction = 2017 # SOLUTION",
    "id": "af9d42784f6c4220880d8549d48a36f6",
    "idx": 162,
    "time": "2021-02-02T04:59:35.123Z",
    "type": "execution"
   },
   {
    "id": "af9d42784f6c4220880d8549d48a36f6",
    "time": "2021-02-02T04:59:35.254Z",
    "type": "completion"
   },
   {
    "code": "# TEST\ntype(year_of_new_construction) == int",
    "id": "2898e5405c64415e9ef3338b8e384ba8",
    "idx": 163,
    "time": "2021-02-02T04:59:35.272Z",
    "type": "execution"
   },
   {
    "id": "2898e5405c64415e9ef3338b8e384ba8",
    "time": "2021-02-02T04:59:35.401Z",
    "type": "completion"
   },
   {
    "code": "# HIDDEN TEST\nyear_of_new_construction == 2017",
    "id": "f2d971a0e8e942a688ade3f29cd055a6",
    "idx": 164,
    "time": "2021-02-02T04:59:35.481Z",
    "type": "execution"
   },
   {
    "id": "f2d971a0e8e942a688ade3f29cd055a6",
    "time": "2021-02-02T04:59:35.601Z",
    "type": "completion"
   },
   {
    "code": "ins['score'].value_counts().head()",
    "id": "a5e3c013aa4d48df9ed24d7cd17b56c1",
    "idx": 166,
    "time": "2021-02-02T04:59:36.684Z",
    "type": "execution"
   },
   {
    "id": "a5e3c013aa4d48df9ed24d7cd17b56c1",
    "time": "2021-02-02T04:59:36.810Z",
    "type": "completion"
   },
   {
    "code": "ins_missing_score_pivot = ...\n\n# BEGIN SOLUTION\nins['Missing Score'] = (ins['score'] == -1).astype(\"str\")\n\nins_missing_score_pivot = ins.pivot_table(\n    index = \"type\", \n    columns = \"Missing Score\",\n    aggfunc = 'size',\n    fill_value = 0\n)\nins_missing_score_pivot['Total'] = ins_missing_score_pivot.sum(axis=1)\nins_missing_score_pivot.sort_values('Total', inplace=True, ascending=False)\nins_missing_score_pivot\n# END SOLUTION",
    "id": "fafc0381b55649c08ab4161d748d5f35",
    "idx": 169,
    "time": "2021-02-02T04:59:37.613Z",
    "type": "execution"
   },
   {
    "code": "# TEST\nif type(ins_missing_score_pivot) == pd.DataFrame:\n    if False in ins_missing_score_pivot.columns: \n        ins_missing_score_pivot.rename(columns={False:\"False\"}, errors=\"raise\",inplace=True)\n    if True in ins_missing_score_pivot.columns:\n        ins_missing_score_pivot.rename(columns={True:\"True\"}, errors=\"raise\",inplace=True)\ntype(ins_missing_score_pivot) == pd.DataFrame",
    "id": "fd444bbf08df4a568df731ba1995b295",
    "idx": 170,
    "time": "2021-02-02T04:59:37.766Z",
    "type": "execution"
   },
   {
    "code": "# HIDDEN TEST\nset(ins_missing_score_pivot.columns) == {'False', 'Total', 'True'}",
    "id": "0dfc939c2b914c08adc7b06a98eab806",
    "idx": 171,
    "time": "2021-02-02T04:59:37.847Z",
    "type": "execution"
   },
   {
    "code": "# HIDDEN TEST\nlen(ins_missing_score_pivot) == 15",
    "id": "cffa091d90d54b5d804393105fa75d6f",
    "idx": 172,
    "time": "2021-02-02T04:59:37.914Z",
    "type": "execution"
   },
   {
    "code": "# HIDDEN TEST\nins_missing_score_pivot[\"False\"][\"Routine - Unscheduled\"] == 14031 ",
    "id": "2251ff777a884c1695500fdf5b434244",
    "idx": 173,
    "time": "2021-02-02T04:59:37.981Z",
    "type": "execution"
   },
   {
    "code": "# HIDDEN TEST\nins_missing_score_pivot.iloc[0,2] == 14077",
    "id": "88a1c936f01e42f4be761aefc9d8d764",
    "idx": 174,
    "time": "2021-02-02T04:59:38.050Z",
    "type": "execution"
   },
   {
    "id": "fafc0381b55649c08ab4161d748d5f35",
    "time": "2021-02-02T04:59:38.344Z",
    "type": "completion"
   },
   {
    "code": "ins = ins[ins[\"score\"] > 0]",
    "id": "3cd34b7569794655b75b55cef6468488",
    "idx": 178,
    "time": "2021-02-02T04:59:38.358Z",
    "type": "execution"
   },
   {
    "code": "ins_named = ...\n# BEGIN SOLUTION\nins_named = ins.merge(bus[[\"bid\", \"name\", \"address\"]], how=\"left\", left_on = \"bid\", right_on = \"bid\") \n# END SOLUTION\nins_named.head()",
    "id": "1bcd59ad664d4b37a344465788887ab5",
    "idx": 180,
    "time": "2021-02-02T04:59:38.552Z",
    "type": "execution"
   },
   {
    "code": "# TEST\n\"name\" in ins_named and \"address\" in ins_named",
    "id": "fb0e6ab1bdc44f649160d0128e7669e5",
    "idx": 181,
    "time": "2021-02-02T04:59:38.618Z",
    "type": "execution"
   },
   {
    "code": "# TEST\nins_named[ins_named[\"Missing Score\"] == True].shape[0] == 0",
    "id": "e6b6a0010d9a4efa882da773d6ebb51e",
    "idx": 182,
    "time": "2021-02-02T04:59:38.757Z",
    "type": "execution"
   },
   {
    "code": "# TEST\nins_named.reset_index()['date'].equals(ins[ins['score'] > 0].reset_index()['date'])",
    "id": "41a2d22cb372402a8087e0c74ecd5630",
    "idx": 183,
    "time": "2021-02-02T04:59:38.833Z",
    "type": "execution"
   },
   {
    "code": "# HIDDEN TEST\nnp.isclose(sum(ins_named['name'].isnull()), 0, rtol=5)",
    "id": "8d8f4b0199b34cb8afa5d938c286709e",
    "idx": 184,
    "time": "2021-02-02T04:59:38.905Z",
    "type": "execution"
   },
   {
    "code": "# HIDDEN TEST\nsol_merged = ins.merge(bus[[\"bid\", \"name\", \"address\"]], how=\"left\", left_on = \"bid\", right_on = \"bid\")\nins_named.equals(sol_merged[sol_merged[\"score\"] > 0])",
    "id": "34a3de90f897423f8d73a51d335936e2",
    "idx": 185,
    "time": "2021-02-02T04:59:38.980Z",
    "type": "execution"
   },
   {
    "code": "twenty_lowest_scoring = ... \n# BEGIN SOLUTION\ntwenty_lowest_scoring = (\n    ins_named.groupby('bid', as_index=False)\n        .aggregate({'name': 'first', 'score': 'median'})\n        .sort_values(['score', 'bid'] )\n        .rename(columns={'score': 'median score'})\n        .head(20)\n)\n# END SOLUTION\n\ntwenty_lowest_scoring",
    "id": "c7127ef7cd1545d496f588936b5f8563",
    "idx": 187,
    "time": "2021-02-02T04:59:39.160Z",
    "type": "execution"
   },
   {
    "code": "# TEST\ntwenty_lowest_scoring.shape == (20, 3)",
    "id": "a03dad4a67e84d6f869389679e4f3665",
    "idx": 188,
    "time": "2021-02-02T04:59:39.241Z",
    "type": "execution"
   },
   {
    "code": "# TEST\nset(twenty_lowest_scoring.columns) == {'bid', 'median score', 'name'}",
    "id": "68fea8cf77d646c5910f82d5d6d3ea04",
    "idx": 189,
    "time": "2021-02-02T04:59:39.314Z",
    "type": "execution"
   },
   {
    "code": "# HIDDEN TEST\n# print(twenty_lowest_scoring.to_html().replace(\"\\n\",\"\"))\nset(twenty_lowest_scoring[\"median score\"].values) == {54 , 57 , 58 , 60.5, 63.5, 64, \n                                                      64 , 64 , 64 , 64 , 64, 64.5, \n                                                      64.5, 64.5, 65, 65, 66, 66, 66, 66.5\n                                                      }",
    "id": "e7db9d776ead488a8eaafffd55580e4b",
    "idx": 190,
    "time": "2021-02-02T04:59:39.383Z",
    "type": "execution"
   },
   {
    "code": "low_score_violations = ...\n\n# BEGIN SOLUTION\nlow_score_violations = (\n    ins_named[ins_named['score'] < 65]\n        .merge(ins2vio, on='iid')\n        .merge(vio, on='vid')\n        .loc[:,'description']\n        .value_counts()\n        .sort_values(ascending=False)\n)\n# END SOLUTION\n\nlow_score_violations.head(20)",
    "id": "4f225890d6204d5ba20dfb3577a3c916",
    "idx": 192,
    "time": "2021-02-02T04:59:39.578Z",
    "type": "execution"
   },
   {
    "code": "# TEST\ntype(low_score_violations) == pd.Series",
    "id": "2d919b164133432b9b1cca3727ff0e42",
    "idx": 193,
    "time": "2021-02-02T04:59:39.647Z",
    "type": "execution"
   },
   {
    "id": "fd444bbf08df4a568df731ba1995b295",
    "time": "2021-02-02T04:59:39.769Z",
    "type": "completion"
   },
   {
    "id": "0dfc939c2b914c08adc7b06a98eab806",
    "time": "2021-02-02T04:59:39.773Z",
    "type": "completion"
   },
   {
    "id": "cffa091d90d54b5d804393105fa75d6f",
    "time": "2021-02-02T04:59:39.780Z",
    "type": "completion"
   },
   {
    "id": "2251ff777a884c1695500fdf5b434244",
    "time": "2021-02-02T04:59:39.785Z",
    "type": "completion"
   },
   {
    "id": "88a1c936f01e42f4be761aefc9d8d764",
    "time": "2021-02-02T04:59:39.791Z",
    "type": "completion"
   },
   {
    "id": "3cd34b7569794655b75b55cef6468488",
    "time": "2021-02-02T04:59:39.816Z",
    "type": "completion"
   },
   {
    "id": "1bcd59ad664d4b37a344465788887ab5",
    "time": "2021-02-02T04:59:39.821Z",
    "type": "completion"
   },
   {
    "id": "fb0e6ab1bdc44f649160d0128e7669e5",
    "time": "2021-02-02T04:59:39.823Z",
    "type": "completion"
   },
   {
    "id": "e6b6a0010d9a4efa882da773d6ebb51e",
    "time": "2021-02-02T04:59:39.826Z",
    "type": "completion"
   },
   {
    "id": "41a2d22cb372402a8087e0c74ecd5630",
    "time": "2021-02-02T04:59:39.829Z",
    "type": "completion"
   },
   {
    "id": "8d8f4b0199b34cb8afa5d938c286709e",
    "time": "2021-02-02T04:59:39.832Z",
    "type": "completion"
   },
   {
    "id": "34a3de90f897423f8d73a51d335936e2",
    "time": "2021-02-02T04:59:39.835Z",
    "type": "completion"
   },
   {
    "id": "c7127ef7cd1545d496f588936b5f8563",
    "time": "2021-02-02T04:59:39.839Z",
    "type": "completion"
   },
   {
    "id": "a03dad4a67e84d6f869389679e4f3665",
    "time": "2021-02-02T04:59:39.842Z",
    "type": "completion"
   },
   {
    "id": "68fea8cf77d646c5910f82d5d6d3ea04",
    "time": "2021-02-02T04:59:39.845Z",
    "type": "completion"
   },
   {
    "id": "e7db9d776ead488a8eaafffd55580e4b",
    "time": "2021-02-02T04:59:39.847Z",
    "type": "completion"
   },
   {
    "id": "4f225890d6204d5ba20dfb3577a3c916",
    "time": "2021-02-02T04:59:39.850Z",
    "type": "completion"
   },
   {
    "id": "2d919b164133432b9b1cca3727ff0e42",
    "time": "2021-02-02T04:59:39.853Z",
    "type": "completion"
   },
   {
    "code": "# TEST\nlen(low_score_violations) == 50",
    "id": "f717052d170e45ba908422f3e4ba8c62",
    "idx": 194,
    "time": "2021-02-02T04:59:39.971Z",
    "type": "execution"
   },
   {
    "id": "f717052d170e45ba908422f3e4ba8c62",
    "time": "2021-02-02T04:59:40.131Z",
    "type": "completion"
   },
   {
    "code": "# TEST\nlow_score_violations[0] == 43",
    "id": "1faca182981e43a483f62aa2b2bc9d8b",
    "idx": 195,
    "time": "2021-02-02T04:59:40.147Z",
    "type": "execution"
   },
   {
    "id": "1faca182981e43a483f62aa2b2bc9d8b",
    "time": "2021-02-02T04:59:40.257Z",
    "type": "completion"
   },
   {
    "code": "# HIDDEN TEST\nnp.all(low_score_violations.head().values == np.array([43, 42, 40, 39, 37]))",
    "id": "75599e5434814c97bafff06386a87dc6",
    "idx": 196,
    "time": "2021-02-02T04:59:40.641Z",
    "type": "execution"
   },
   {
    "id": "75599e5434814c97bafff06386a87dc6",
    "time": "2021-02-02T04:59:40.753Z",
    "type": "completion"
   },
   {
    "code": "worst_restaurant = ...\n# BEGIN SOLUTION NO PROMPT\nworst_restaurant = ins_named.sort_values('score', ascending=False).tail(1)['name'].iloc[0]\n# END SOLUTION\nworst_restaurant",
    "id": "23bb9b6b071c4e3f8fc1226959173d6a",
    "idx": 198,
    "time": "2021-02-02T04:59:40.963Z",
    "type": "execution"
   },
   {
    "id": "23bb9b6b071c4e3f8fc1226959173d6a",
    "time": "2021-02-02T04:59:41.093Z",
    "type": "completion"
   },
   {
    "code": "# TEST\n(type(worst_restaurant) == str) and (len(worst_restaurant) > 0) ",
    "id": "36e143493aea44278359785fef8dbcc6",
    "idx": 199,
    "time": "2021-02-02T04:59:41.173Z",
    "type": "execution"
   },
   {
    "id": "36e143493aea44278359785fef8dbcc6",
    "time": "2021-02-02T04:59:41.261Z",
    "type": "completion"
   },
   {
    "code": "# HIDDEN TEST\nworst_restaurant.strip().lower() == 'lollipot'",
    "id": "26466302772f457b8d307c490d289a60",
    "idx": 200,
    "time": "2021-02-02T04:59:49.915Z",
    "type": "execution"
   },
   {
    "id": "26466302772f457b8d307c490d289a60",
    "time": "2021-02-02T04:59:49.987Z",
    "type": "completion"
   },
   {
    "code": "# BEGIN SOLUTION\nscore_counts = ins.loc[ins[\"score\"] > 0, 'score'].value_counts()\nplt.bar(score_counts.keys(), score_counts, edgecolor='black')\nplt.xlabel(\"Score\")\nplt.ylabel(\"Count\")\nplt.title(\"Distribution of Inspection Scores\");\n# END SOLUTION",
    "id": "e7a27b1a465d44b2867e5254ddd14a3a",
    "idx": 203,
    "time": "2021-02-02T04:59:50.972Z",
    "type": "execution"
   },
   {
    "code": "score_counts",
    "id": "0261e3d1453046079e7584dd02d27e3a",
    "idx": 204,
    "time": "2021-02-02T04:59:51.158Z",
    "type": "execution"
   },
   {
    "id": "e7a27b1a465d44b2867e5254ddd14a3a",
    "time": "2021-02-02T04:59:51.447Z",
    "type": "completion"
   },
   {
    "id": "0261e3d1453046079e7584dd02d27e3a",
    "time": "2021-02-02T04:59:51.449Z",
    "type": "completion"
   },
   {
    "code": "# BEGIN SOLUTION NO PROMPT\ndef swing(s):\n    if len(s) < 3:\n        return 0\n    return max(s) - min(s)\n\nswing_series = ins_named['score'].groupby(ins_named['bid']).agg(swing).rename('swing')\nbus_swing = pd.concat([bus.set_index('bid'), swing_series], axis=1).sort_values(\"swing\", ascending=False)\n# END SOLUTION\nmax_swing = bus_swing.iloc[0]['name'] # SOLUTION\nmax_swing",
    "id": "56480c07573c4f97a69d5a40b03a24fb",
    "idx": 210,
    "time": "2021-02-02T04:59:53.679Z",
    "type": "execution"
   },
   {
    "id": "56480c07573c4f97a69d5a40b03a24fb",
    "time": "2021-02-02T04:59:53.879Z",
    "type": "completion"
   },
   {
    "code": "# TEST\nmax_swing in set(bus['name'])",
    "id": "59352a20a62c43118e88b407aeda7611",
    "idx": 211,
    "time": "2021-02-02T04:59:57.576Z",
    "type": "execution"
   },
   {
    "id": "59352a20a62c43118e88b407aeda7611",
    "time": "2021-02-02T04:59:57.696Z",
    "type": "completion"
   },
   {
    "code": "# HIDDEN TEST\nmax_swing == 'Lollipot'",
    "id": "17231d1dbc70450389f3c46f759466d5",
    "idx": 212,
    "time": "2021-02-02T04:59:58.075Z",
    "type": "execution"
   },
   {
    "code": "ins2018 = ins[ins['year'] == 2018]\n# Create the dataframe here\nscores_pairs_by_business = ...\n# BEGIN SOLUTION NO PROMPT\n# SOLUTION 1\nscores_pairs_by_business = (ins2018.sort_values('date')\n                            .loc[:, ['bid', 'score']]\n                            .groupby('bid')\n                            .filter(lambda group: len(group)==2)\n                            .groupby('bid')\n                            .agg(list)\n                            .rename(columns={'score':'score_pair'}))\n\n# SOLUTION 2\nscores_pairs_by_business = (ins2018.sort_values('date')\n                            .groupby('bid')\n                            .filter(lambda group: len(group)==2)\n                            .groupby('bid')\n                            .agg({'score': lambda group: group.tolist()})\n                            .rename(columns={'score':'score_pair'}))\nscores_pairs_by_business.head()\n# END SOLUTION\nscores_pairs_by_business",
    "id": "1fe92a29803a463097213cc244183038",
    "idx": 214,
    "time": "2021-02-02T04:59:58.259Z",
    "type": "execution"
   },
   {
    "code": "# TEST\nisinstance(scores_pairs_by_business, pd.DataFrame)",
    "id": "23af3fcf6b67462d8d8cc2b6ad452d16",
    "idx": 215,
    "time": "2021-02-02T04:59:58.325Z",
    "type": "execution"
   },
   {
    "code": "# TEST\nscores_pairs_by_business.columns[0] == 'score_pair'",
    "id": "bbe947e5113148a7acdf1445c9356b7a",
    "idx": 216,
    "time": "2021-02-02T04:59:58.454Z",
    "type": "execution"
   },
   {
    "code": "# HIDDEN TEST\n\nstudent_arr = np.array(scores_pairs_by_business.values.tolist()).squeeze()\n\n# Now we will check the head score pares\n# score_pair\n# business_id\n# 24 [96, 98]\n# 45 [78, 84]\n# 66 [98, 100]\n# 67 [87, 94]\n# 76 [100, 98]\n\n([96, 98] in student_arr and\\\n    [78, 84] in student_arr and\\\n        [98, 100] in student_arr and\\\n            [87, 94] in student_arr and\\\n                [100, 98] in student_arr) == True",
    "id": "ead5e539b4bd4774be9ca57873824f74",
    "idx": 217,
    "time": "2021-02-02T04:59:58.542Z",
    "type": "execution"
   },
   {
    "code": "# BEGIN SOLUTION\nfirst_score, second_score = zip(*scores_pairs_by_business['score_pair'])\nplt.scatter(first_score,second_score,s = 20, facecolors='none',edgecolors='b')\nplt.plot([55,100],[55,100],'r-')\nplt.xlabel('First Score')\nplt.ylabel('Second Score')\nplt.axis([55,100,55,100])\nplt.title(\"First Inspection Score vs. Second Inspection Score\");\n# END SOLUTION",
    "id": "37245dc8c85d4e8f85eb957d78d1e560",
    "idx": 219,
    "time": "2021-02-02T04:59:58.658Z",
    "type": "execution"
   },
   {
    "id": "17231d1dbc70450389f3c46f759466d5",
    "time": "2021-02-02T04:59:58.860Z",
    "type": "completion"
   },
   {
    "id": "1fe92a29803a463097213cc244183038",
    "time": "2021-02-02T04:59:58.867Z",
    "type": "completion"
   },
   {
    "id": "23af3fcf6b67462d8d8cc2b6ad452d16",
    "time": "2021-02-02T04:59:58.870Z",
    "type": "completion"
   },
   {
    "id": "bbe947e5113148a7acdf1445c9356b7a",
    "time": "2021-02-02T04:59:58.873Z",
    "type": "completion"
   },
   {
    "id": "ead5e539b4bd4774be9ca57873824f74",
    "time": "2021-02-02T04:59:58.876Z",
    "type": "completion"
   },
   {
    "id": "37245dc8c85d4e8f85eb957d78d1e560",
    "time": "2021-02-02T04:59:59.208Z",
    "type": "completion"
   },
   {
    "code": "# Do not modify this line\nsns.set()\n\n# BEGIN SOLUTION\nins_17_to_19 = ins[(ins['year'] >= 2017) & (ins['year'] <= 2019)]\nins_vid_joined = ins_17_to_19.merge(ins2vio, on='iid').merge(vio, on='vid')\nplt.figure(figsize=(12,8))\nins_vid_joined['risk_cat'] = 0\nins_vid_joined.loc[ins_vid_joined['risk_category'] == \"Moderate Risk\" , 'risk_cat'] = 1\nins_vid_joined.loc[ins_vid_joined['risk_category'] == \"High Risk\", 'risk_cat'] = 2\nsns.boxplot(x=\"year\", y=\"score\", hue='risk_category', data=ins_vid_joined.sort_values(\"risk_cat\"), \n            linewidth=0.8);\n# END SOLUTION",
    "id": "306f69ebd7f84ff88ed15a6467b69748",
    "idx": 223,
    "time": "2021-02-02T04:59:59.766Z",
    "type": "execution"
   },
   {
    "id": "306f69ebd7f84ff88ed15a6467b69748",
    "time": "2021-02-02T05:00:00.408Z",
    "type": "completion"
   },
   {
    "code": "# YOUR DATA PROCESSING AND PLOTTING HERE\n\n# YOUR EXPLANATION HERE (in a comment)",
    "id": "eb58bc2168304ce18508f220bf27b1b9",
    "idx": 228,
    "time": "2021-02-02T05:00:02.149Z",
    "type": "execution"
   },
   {
    "id": "eb58bc2168304ce18508f220bf27b1b9",
    "time": "2021-02-02T05:00:02.234Z",
    "type": "completion"
   },
   {
    "code": "# THIS CELL AND ANY CELLS ADDED BELOW WILL NOT BE GRADED",
    "id": "2f5d493d5ef94fad9f4def8b52f4ea3f",
    "idx": 229,
    "time": "2021-02-02T05:00:02.829Z",
    "type": "execution"
   },
   {
    "id": "2f5d493d5ef94fad9f4def8b52f4ea3f",
    "time": "2021-02-02T05:00:02.894Z",
    "type": "completion"
   },
   {
    "code": "import numpy as np\nimport pandas as pd\n\nimport matplotlib\nimport matplotlib.pyplot as plt\nimport seaborn as sns\nsns.set()\nplt.style.use('fivethirtyeight')\n\nimport zipfile\nfrom pathlib import Path\nimport os # Used to interact with the file system",
    "id": "304a2ea290e344029f639f23712ea1df",
    "idx": 5,
    "time": "2021-02-02T05:37:58.998Z",
    "type": "execution"
   },
   {
    "id": "304a2ea290e344029f639f23712ea1df",
    "time": "2021-02-02T05:38:00.088Z",
    "type": "completion"
   },
   {
    "code": "from pathlib import Path\ndata_dir = Path('.')\ndata_dir.mkdir(exist_ok = True)\nfile_path = data_dir / Path('data.zip')\ndest_path = file_path",
    "id": "a284a5e13d98491d8f958f25b40885d1",
    "idx": 8,
    "time": "2021-02-02T05:38:05.216Z",
    "type": "execution"
   },
   {
    "id": "a284a5e13d98491d8f958f25b40885d1",
    "time": "2021-02-02T05:38:05.275Z",
    "type": "completion"
   },
   {
    "code": "!ls",
    "id": "67247d0bd8e14c4f829c0d59c5f68852",
    "idx": 10,
    "time": "2021-02-02T05:38:09.461Z",
    "type": "execution"
   },
   {
    "id": "67247d0bd8e14c4f829c0d59c5f68852",
    "time": "2021-02-02T05:38:10.210Z",
    "type": "completion"
   },
   {
    "code": "my_zip = zipfile.ZipFile(dest_path, 'r')\nlist_names = [f.filename for f in my_zip.filelist]\nlist_names",
    "id": "8f55d84ccdea43dd8ff5290a4b9ab3c3",
    "idx": 13,
    "time": "2021-02-02T05:38:15.032Z",
    "type": "execution"
   },
   {
    "id": "8f55d84ccdea43dd8ff5290a4b9ab3c3",
    "time": "2021-02-02T05:38:15.104Z",
    "type": "completion"
   },
   {
    "code": "my_zip.namelist()",
    "id": "2d746f7d87064721829264e7684f09b1",
    "idx": 14,
    "time": "2021-02-02T05:38:54.656Z",
    "type": "execution"
   },
   {
    "id": "2d746f7d87064721829264e7684f09b1",
    "time": "2021-02-02T05:38:54.751Z",
    "type": "completion"
   },
   {
    "code": "my_zip = zipfile.ZipFile(dest_path, 'r')\nfor file in my_zip.namelist():\n    print('{}\\t{}'.format(file.filename, file.file_size))",
    "id": "fe40da0515c049ff86330e9ba1c6925d",
    "idx": 16,
    "time": "2021-02-02T05:39:44.270Z",
    "type": "execution"
   },
   {
    "id": "fe40da0515c049ff86330e9ba1c6925d",
    "time": "2021-02-02T05:39:44.483Z",
    "type": "completion"
   },
   {
    "code": "my_zip = zipfile.ZipFile(dest_path, 'r')\nfor file in my_zip.filelist:\n    print('{}\\t{}'.format(file.filename, file.file_size))",
    "id": "fe40da0515c049ff86330e9ba1c6925d",
    "idx": 16,
    "time": "2021-02-02T05:39:51.310Z",
    "type": "execution"
   },
   {
    "id": "fe40da0515c049ff86330e9ba1c6925d",
    "time": "2021-02-02T05:39:51.389Z",
    "type": "completion"
   },
   {
    "code": "my_zip = zipfile.ZipFile(dest_path, 'r')\nfor info in my_zip.infolist():\n    print('{}\\t{}'.format(info.filename, info.file_size))",
    "id": "fe40da0515c049ff86330e9ba1c6925d",
    "idx": 16,
    "time": "2021-02-02T05:43:10.033Z",
    "type": "execution"
   },
   {
    "id": "fe40da0515c049ff86330e9ba1c6925d",
    "time": "2021-02-02T05:43:10.121Z",
    "type": "completion"
   },
   {
    "code": "data_dir = Path('.')\nmy_zip.extractall(data_dir)\n!ls {data_dir / Path(\"data\")}",
    "id": "10728596518e415a8a55538a61ce9613",
    "idx": 18,
    "time": "2021-02-02T05:43:18.265Z",
    "type": "execution"
   },
   {
    "id": "10728596518e415a8a55538a61ce9613",
    "time": "2021-02-02T05:43:19.164Z",
    "type": "completion"
   },
   {
    "code": "import ds100_utils\n\ndata_dir = \"./\"\nfor f in list_names:\n    if not os.path.isdir(f):\n        print(ds100_utils.head(data_dir + f, 5), \"\\n\")",
    "id": "52ef2f8c86e2480c8249847c72e27868",
    "idx": 21,
    "time": "2021-02-02T05:43:21.340Z",
    "type": "execution"
   },
   {
    "id": "52ef2f8c86e2480c8249847c72e27868",
    "time": "2021-02-02T05:43:21.510Z",
    "type": "completion"
   },
   {
    "code": "# path to directory containing data\ndsDir = Path('data')\n\nbus = pd.read_csv(dsDir/'bus.csv', encoding='ISO-8859-1') # SOLUTION\nins2vio = pd.read_csv(dsDir/'ins2vio.csv') # SOLUTION\nins = pd.read_csv(dsDir/'ins.csv') # SOLUTION\nvio = pd.read_csv(dsDir/'vio.csv') # SOLUTION\n\n#This code is essential for the autograder to function properly. Do not edit\nins_test = ins",
    "id": "cb4c43fb465a40348c36cb07fc0656e3",
    "idx": 23,
    "time": "2021-02-02T05:43:41.750Z",
    "type": "execution"
   },
   {
    "id": "cb4c43fb465a40348c36cb07fc0656e3",
    "time": "2021-02-02T05:43:41.881Z",
    "type": "completion"
   },
   {
    "code": "bus.head() # SOLUTION",
    "id": "77769c6b4d68498aa02ac9c01a4d08ab",
    "idx": 25,
    "time": "2021-02-02T05:44:01.114Z",
    "type": "execution"
   },
   {
    "id": "77769c6b4d68498aa02ac9c01a4d08ab",
    "time": "2021-02-02T05:44:01.249Z",
    "type": "completion"
   },
   {
    "code": "bus.describe() # SOLUTION",
    "id": "ae45f54fa7d84da887b51b3849fffd70",
    "idx": 27,
    "time": "2021-02-02T05:44:02.402Z",
    "type": "execution"
   },
   {
    "id": "ae45f54fa7d84da887b51b3849fffd70",
    "time": "2021-02-02T05:44:02.510Z",
    "type": "completion"
   },
   {
    "code": "assert all(bus.columns == ['business id column', 'name', 'address', 'city', 'state', 'postal_code',\n                           'latitude', 'longitude', 'phone_number'])\nassert 6250 <= len(bus) <= 6260\n\nassert all(ins.columns == ['iid', 'date', 'score', 'type'])\nassert 26660 <= len(ins) <= 26670\n\nassert all(vio.columns == ['description', 'risk_category', 'vid'])\nassert 60 <= len(vio) <= 65\n\nassert all(ins2vio.columns == ['iid', 'vid'])\nassert 40210 <= len(ins2vio) <= 40220",
    "id": "c32f8f2f8aa8489a8ffe71bed0c00034",
    "idx": 30,
    "time": "2021-02-02T05:44:03.455Z",
    "type": "execution"
   },
   {
    "id": "c32f8f2f8aa8489a8ffe71bed0c00034",
    "time": "2021-02-02T05:44:03.513Z",
    "type": "completion"
   },
   {
    "code": "bus_summary = pd.DataFrame(**{'columns': ['business id column', 'latitude', 'longitude'],\n 'data': {'business id column': {'50%': 75685.0, 'max': 102705.0, 'min': 19.0},\n  'latitude': {'50%': -9999.0, 'max': 37.824494, 'min': -9999.0},\n  'longitude': {'50%': -9999.0,\n   'max': 0.0,\n   'min': -9999.0}},\n 'index': ['min', '50%', 'max']})\n\nins_summary = pd.DataFrame(**{'columns': ['score'],\n 'data': {'score': {'50%': 76.0, 'max': 100.0, 'min': -1.0}},\n 'index': ['min', '50%', 'max']})\n\nvio_summary = pd.DataFrame(**{'columns': ['vid'],\n 'data': {'vid': {'50%': 103135.0, 'max': 103177.0, 'min': 103102.0}},\n 'index': ['min', '50%', 'max']})\n\nfrom IPython.display import display\n\nprint('What we expect from your Businesses dataframe:')\ndisplay(bus_summary)\nprint('What we expect from your Inspections dataframe:')\ndisplay(ins_summary)\nprint('What we expect from your Violations dataframe:')\ndisplay(vio_summary)",
    "id": "5c6a065403e3489e877a7a170ccbf3b2",
    "idx": 32,
    "time": "2021-02-02T05:44:04.724Z",
    "type": "execution"
   },
   {
    "id": "5c6a065403e3489e877a7a170ccbf3b2",
    "time": "2021-02-02T05:44:04.855Z",
    "type": "completion"
   },
   {
    "code": "\"\"\"Run this cell to load this utility comparison function that we will use in various\ntests below (both tests you can see and those we run internally for grading).\n\nDo not modify the function in any way.\n\"\"\"\n\n\ndef df_allclose(actual, desired, columns=None, rtol=5e-2):\n    \"\"\"Compare selected columns of two dataframes on a few summary statistics.\n    \n    Compute the min, median and max of the two dataframes on the given columns, and compare\n    that they match numerically to the given relative tolerance.\n    \n    If they don't match, an AssertionError is raised (by `numpy.testing`).\n    \"\"\"    \n    # summary statistics to compare on\n    stats = ['min', '50%', 'max']\n    \n    # For the desired values, we can provide a full DF with the same structure as\n    # the actual data, or pre-computed summary statistics.\n    # We assume a pre-computed summary was provided if columns is None. In that case, \n    # `desired` *must* have the same structure as the actual's summary\n    if columns is None:\n        des = desired\n        columns = desired.columns\n    else:\n        des = desired[columns].describe().loc[stats]\n\n    # Extract summary stats from actual DF\n    act = actual[columns].describe().loc[stats]\n\n    return np.allclose(act, des, rtol)",
    "id": "b7f13a877f3e4a7a8a24a1a66b934b37",
    "idx": 35,
    "time": "2021-02-02T05:44:06.118Z",
    "type": "execution"
   },
   {
    "id": "b7f13a877f3e4a7a8a24a1a66b934b37",
    "time": "2021-02-02T05:44:06.216Z",
    "type": "completion"
   },
   {
    "code": "# TEST\ndf_allclose(bus.rename(columns = {\"bid\" : \"business id column\"}), bus_summary)",
    "id": "356e4fcbcc90414db4d2b0010b566ce8",
    "idx": 36,
    "time": "2021-02-02T05:44:06.731Z",
    "type": "execution"
   },
   {
    "id": "356e4fcbcc90414db4d2b0010b566ce8",
    "time": "2021-02-02T05:44:06.817Z",
    "type": "completion"
   },
   {
    "code": "# TEST\ndf_allclose(ins_test, ins_summary)",
    "id": "454a11ab013a4708b92730a0299cd81e",
    "idx": 37,
    "time": "2021-02-02T05:44:07.276Z",
    "type": "execution"
   },
   {
    "id": "454a11ab013a4708b92730a0299cd81e",
    "time": "2021-02-02T05:44:07.354Z",
    "type": "completion"
   },
   {
    "code": "# TEST\ndf_allclose(vio, vio_summary)",
    "id": "0ec9e0a4ee2f4f738bb0fcdea4b6e8a4",
    "idx": 38,
    "time": "2021-02-02T05:44:07.913Z",
    "type": "execution"
   },
   {
    "id": "0ec9e0a4ee2f4f738bb0fcdea4b6e8a4",
    "time": "2021-02-02T05:44:07.990Z",
    "type": "completion"
   },
   {
    "code": "# TEST\ndf_allclose(ins2vio, vio_summary)",
    "id": "0872e66c2964410e856aff9be7ca1b8e",
    "idx": 39,
    "time": "2021-02-02T05:44:08.173Z",
    "type": "execution"
   },
   {
    "id": "0872e66c2964410e856aff9be7ca1b8e",
    "time": "2021-02-02T05:44:08.247Z",
    "type": "completion"
   },
   {
    "code": "# HIDDEN TEST\ndf_allclose(ins_test, pd.read_csv(dsDir/'ins.csv'), ['iid', 'score'])",
    "id": "35bcc60524ad48fc9f031951240f8026",
    "idx": 41,
    "time": "2021-02-02T05:44:12.659Z",
    "type": "execution"
   },
   {
    "id": "35bcc60524ad48fc9f031951240f8026",
    "time": "2021-02-02T05:44:12.779Z",
    "type": "completion"
   },
   {
    "code": "# HIDDEN TEST\ndf_allclose(vio, pd.read_csv(dsDir/'vio.csv'), ['vid'])",
    "id": "ae53c18ebc5d422799d0b51c4046da49",
    "idx": 42,
    "time": "2021-02-02T05:44:12.929Z",
    "type": "execution"
   },
   {
    "id": "ae53c18ebc5d422799d0b51c4046da49",
    "time": "2021-02-02T05:44:13.006Z",
    "type": "completion"
   },
   {
    "code": "# HIDDEN TEST\ndf_allclose(ins2vio, pd.read_csv(dsDir/'ins2vio.csv'), ['vid'])",
    "id": "3414bb46db1a40178a0f56f09f9c5183",
    "idx": 43,
    "time": "2021-02-02T05:44:13.236Z",
    "type": "execution"
   },
   {
    "id": "3414bb46db1a40178a0f56f09f9c5183",
    "time": "2021-02-02T05:44:13.362Z",
    "type": "completion"
   },
   {
    "code": "# What does each record represent?  Valid answers are:\n#    \"One location of a restaurant.\"\n#    \"A chain of restaurants.\"\n#    \"A city block.\"\nq1e_part1 = \"One location of a restaurant.\" # SOLUTION\n\n# What is the minimal primary key? Valid answers are:\n#    \"bid\"\n#    \"bid, name\"\n#    \"bid, name, address\"\nq1e_part2 = \"bid\" # SOLUTION",
    "id": "041d848957d54e0c8741c5128e0f2945",
    "idx": 65,
    "time": "2021-02-02T05:47:24.320Z",
    "type": "execution"
   },
   {
    "id": "041d848957d54e0c8741c5128e0f2945",
    "time": "2021-02-02T05:47:24.414Z",
    "type": "completion"
   },
   {
    "code": "# TEST\nq1e_part1 in set([\"One location of a restaurant.\", \"A chain of restaurants.\", \"A city block.\"])",
    "id": "4d705aef1fac44f99712f5b5e0d2034d",
    "idx": 66,
    "time": "2021-02-02T05:47:24.824Z",
    "type": "execution"
   },
   {
    "id": "4d705aef1fac44f99712f5b5e0d2034d",
    "time": "2021-02-02T05:47:24.902Z",
    "type": "completion"
   },
   {
    "code": "# TEST\nq1e_part2 in set([\"bid\", \"bid, name\", \"bid, name, address\"])",
    "id": "4d148b1959ac45d489a3934c2abd0228",
    "idx": 67,
    "time": "2021-02-02T05:47:25.280Z",
    "type": "execution"
   },
   {
    "id": "4d148b1959ac45d489a3934c2abd0228",
    "time": "2021-02-02T05:47:25.348Z",
    "type": "completion"
   },
   {
    "code": "# HIDDEN TEST\nq1e_part1 == \"One location of a restaurant.\" ",
    "id": "b068a15157e345898f6af02450bd1719",
    "idx": 68,
    "time": "2021-02-02T05:47:25.565Z",
    "type": "execution"
   },
   {
    "id": "b068a15157e345898f6af02450bd1719",
    "time": "2021-02-02T05:47:25.640Z",
    "type": "completion"
   },
   {
    "code": "# HIDDEN TEST\nq1e_part2 == \"bid\"",
    "id": "28b461631ac041a980bbd70490fd94d7",
    "idx": 69,
    "time": "2021-02-02T05:47:25.894Z",
    "type": "execution"
   },
   {
    "id": "28b461631ac041a980bbd70490fd94d7",
    "time": "2021-02-02T05:47:25.966Z",
    "type": "completion"
   },
   {
    "code": "zip_counts = bus.groupby(\"postal_code\").size().sort_values(ascending=False) # SOLUTION\nprint(zip_counts.to_string())",
    "id": "1c988bdd842c46aa8be91a514e784f04",
    "idx": 72,
    "time": "2021-02-02T05:47:33.264Z",
    "type": "execution"
   },
   {
    "id": "1c988bdd842c46aa8be91a514e784f04",
    "time": "2021-02-02T05:47:33.361Z",
    "type": "completion"
   },
   {
    "code": "# TEST\ntype(zip_counts) == pd.Series",
    "id": "b2fc89b93ac244478ce417afd21ba729",
    "idx": 73,
    "time": "2021-02-02T05:47:36.090Z",
    "type": "execution"
   },
   {
    "id": "b2fc89b93ac244478ce417afd21ba729",
    "time": "2021-02-02T05:47:36.175Z",
    "type": "completion"
   },
   {
    "code": "# TEST\nzip_counts.shape[0] == 63",
    "id": "ef1a77b0ba9c4dde9bf2377e20fbfb6b",
    "idx": 74,
    "time": "2021-02-02T05:47:36.302Z",
    "type": "execution"
   },
   {
    "id": "ef1a77b0ba9c4dde9bf2377e20fbfb6b",
    "time": "2021-02-02T05:47:36.382Z",
    "type": "completion"
   },
   {
    "code": "# TEST\nzip_counts[\"94103\"] == 562",
    "id": "2c18893f172740e0b997759920a7f319",
    "idx": 75,
    "time": "2021-02-02T05:47:40.665Z",
    "type": "execution"
   },
   {
    "id": "2c18893f172740e0b997759920a7f319",
    "time": "2021-02-02T05:47:40.752Z",
    "type": "completion"
   },
   {
    "code": "# HIDDEN TEST\nnp.isclose(zip_counts.var(), bus['postal_code'].value_counts().var())",
    "id": "06d2851fae3a4b508b49b6ad0d7e5003",
    "idx": 76,
    "time": "2021-02-02T05:47:41.088Z",
    "type": "execution"
   },
   {
    "id": "06d2851fae3a4b508b49b6ad0d7e5003",
    "time": "2021-02-02T05:47:41.165Z",
    "type": "completion"
   },
   {
    "code": "# HIDDEN TEST\nnp.isclose(zip_counts.mean(), bus['postal_code'].value_counts().mean())",
    "id": "1a0db5b14cd244b386f98d239e040733",
    "idx": 77,
    "time": "2021-02-02T05:47:41.445Z",
    "type": "execution"
   },
   {
    "id": "1a0db5b14cd244b386f98d239e040733",
    "time": "2021-02-02T05:47:41.515Z",
    "type": "completion"
   },
   {
    "code": "# The ZIP code column is which of the following type of data:\n#   \"Quantitative Continuous\" \n#   \"Quantitative Discrete\"\n#   \"Qualitative Ordinal\"\n#   \"Qualitative Nominal\"\nq2b_part1 = \"Qualitative Nominal\" # SOLUTION\n\n# What Python data type is used to represent a ZIP code? \n#    \"str\"\n#    \"int\"\n#    \"bool\"\n#    \"float\"\nq2b_part2 = \"str\" # SOLUTION",
    "id": "35175a49f556497d9fd405c8e53fb33f",
    "idx": 79,
    "time": "2021-02-02T05:48:01.124Z",
    "type": "execution"
   },
   {
    "id": "35175a49f556497d9fd405c8e53fb33f",
    "time": "2021-02-02T05:48:01.187Z",
    "type": "completion"
   },
   {
    "code": "# TEST\nq2b_part1 in set([\"Quantitative Continuous\", \"Quantitative Discrete\", \n                  \"Qualitative Ordinal\", \"Qualitative Nominal\"])",
    "id": "ebe0c3ba228b4c5e8178fc87f97dc50c",
    "idx": 80,
    "time": "2021-02-02T05:48:01.285Z",
    "type": "execution"
   },
   {
    "id": "ebe0c3ba228b4c5e8178fc87f97dc50c",
    "time": "2021-02-02T05:48:01.351Z",
    "type": "completion"
   },
   {
    "code": "# TEST\nq2b_part2 in set([\"str\", \"int\", \"bool\", \"float\"])",
    "id": "8d61047c8b404c448e53a4ddc7579b76",
    "idx": 81,
    "time": "2021-02-02T05:48:01.432Z",
    "type": "execution"
   },
   {
    "id": "8d61047c8b404c448e53a4ddc7579b76",
    "time": "2021-02-02T05:48:01.501Z",
    "type": "completion"
   },
   {
    "code": "# HIDDEN TEST\nq2b_part1 == \"Qualitative Nominal\"",
    "id": "885f7264e17c409cb24cfaef19e07b8d",
    "idx": 82,
    "time": "2021-02-02T05:48:04.404Z",
    "type": "execution"
   },
   {
    "id": "885f7264e17c409cb24cfaef19e07b8d",
    "time": "2021-02-02T05:48:04.487Z",
    "type": "completion"
   },
   {
    "code": "# HIDDEN TEST\nq32b_part2 == \"str\"",
    "id": "6c0f806e85004e48b55fb09acc600d48",
    "idx": 83,
    "time": "2021-02-02T05:48:04.817Z",
    "type": "execution"
   },
   {
    "id": "6c0f806e85004e48b55fb09acc600d48",
    "time": "2021-02-02T05:48:04.927Z",
    "type": "completion"
   },
   {
    "code": "# HIDDEN TEST\nq|2b_part2 == \"str\"",
    "id": "6c0f806e85004e48b55fb09acc600d48",
    "idx": 83,
    "time": "2021-02-02T05:48:07.984Z",
    "type": "execution"
   },
   {
    "id": "6c0f806e85004e48b55fb09acc600d48",
    "time": "2021-02-02T05:48:08.061Z",
    "type": "completion"
   },
   {
    "code": "# HIDDEN TEST\nq2b_part2 == \"str\"",
    "id": "6c0f806e85004e48b55fb09acc600d48",
    "idx": 83,
    "time": "2021-02-02T05:48:13.613Z",
    "type": "execution"
   },
   {
    "id": "6c0f806e85004e48b55fb09acc600d48",
    "time": "2021-02-02T05:48:13.681Z",
    "type": "completion"
   },
   {
    "code": "valid_zips = pd.read_json(\"data/sf_zipcodes.json\", dtype=\"str\")['zip_codes'] # SOLUTION\nvalid_zips.head()",
    "id": "3a38106fd03d439384c29f3869d0bd89",
    "idx": 86,
    "time": "2021-02-02T05:48:29.180Z",
    "type": "execution"
   },
   {
    "id": "3a38106fd03d439384c29f3869d0bd89",
    "time": "2021-02-02T05:48:29.367Z",
    "type": "completion"
   },
   {
    "code": "# TEST\nvalid_zips.dtype == object ",
    "id": "e8b15ac1d01a4cb1b5ff1dca7f473adf",
    "idx": 87,
    "time": "2021-02-02T05:48:33.828Z",
    "type": "execution"
   },
   {
    "id": "e8b15ac1d01a4cb1b5ff1dca7f473adf",
    "time": "2021-02-02T05:48:33.917Z",
    "type": "completion"
   },
   {
    "code": "# TEST\ntype(valid_zips) == pd.Series",
    "id": "fff78731480e455b8c4ea827053ef717",
    "idx": 88,
    "time": "2021-02-02T05:48:33.993Z",
    "type": "execution"
   },
   {
    "id": "fff78731480e455b8c4ea827053ef717",
    "time": "2021-02-02T05:48:34.078Z",
    "type": "completion"
   },
   {
    "code": "# HIDDEN TEST\nnp.all(valid_zips.sort_values() == pd.read_json(\"data/sf_zipcodes.json\", dtype=\"str\")['zip_codes'].sort_values()) ",
    "id": "af6e449bb3e448578e07d93066165a2f",
    "idx": 89,
    "time": "2021-02-02T05:48:34.132Z",
    "type": "execution"
   },
   {
    "id": "af6e449bb3e448578e07d93066165a2f",
    "time": "2021-02-02T05:48:34.209Z",
    "type": "completion"
   },
   {
    "code": "invalid_zip_bus = bus[~bus['postal_code'].isin(valid_zips)] # SOLUTION\ninvalid_zip_bus.head(20)",
    "id": "e156c1a1e1ec4040862bec7f7d3476a7",
    "idx": 91,
    "time": "2021-02-02T05:48:40.439Z",
    "type": "execution"
   },
   {
    "id": "e156c1a1e1ec4040862bec7f7d3476a7",
    "time": "2021-02-02T05:48:40.686Z",
    "type": "completion"
   },
   {
    "code": "# TEST\ntype(invalid_zip_bus) == pd.DataFrame",
    "id": "a1d82511e3334fc3a66c79509ad3c065",
    "idx": 92,
    "time": "2021-02-02T05:48:59.533Z",
    "type": "execution"
   },
   {
    "id": "a1d82511e3334fc3a66c79509ad3c065",
    "time": "2021-02-02T05:48:59.617Z",
    "type": "completion"
   },
   {
    "code": "# TEST\nlen(invalid_zip_bus) == 230",
    "id": "1aff2267cae34cd499fc51734bb53c70",
    "idx": 93,
    "time": "2021-02-02T05:49:00.014Z",
    "type": "execution"
   },
   {
    "id": "1aff2267cae34cd499fc51734bb53c70",
    "time": "2021-02-02T05:49:00.096Z",
    "type": "completion"
   },
   {
    "code": "# HIDDEN TEST\nset(invalid_zip_bus['postal_code']) == set(bus[~bus['postal_code'].isin(valid_zips)]['postal_code'])",
    "id": "071308a149874816b16681ec5af7cc0f",
    "idx": 94,
    "time": "2021-02-02T05:49:00.408Z",
    "type": "execution"
   },
   {
    "id": "071308a149874816b16681ec5af7cc0f",
    "time": "2021-02-02T05:49:00.483Z",
    "type": "completion"
   },
   {
    "code": "missing_zip_address_count = bus[bus['postal_code'] == \"-9999\"]['address'].value_counts() # SOLUTION\nmissing_zip_address_count.head()",
    "id": "bb371aa3f9ef49fa8301fb863e6127b5",
    "idx": 96,
    "time": "2021-02-02T05:49:03.325Z",
    "type": "execution"
   },
   {
    "id": "bb371aa3f9ef49fa8301fb863e6127b5",
    "time": "2021-02-02T05:49:03.405Z",
    "type": "completion"
   },
   {
    "code": "# TEST\ntype(missing_zip_address_count) == pd.Series",
    "id": "3d488270b6bf45fb8300b76c99143b49",
    "idx": 97,
    "time": "2021-02-02T05:49:03.564Z",
    "type": "execution"
   },
   {
    "id": "3d488270b6bf45fb8300b76c99143b49",
    "time": "2021-02-02T05:49:03.635Z",
    "type": "completion"
   },
   {
    "code": "# TEST\nlen(missing_zip_address_count) == 135",
    "id": "8f2c6fd2e374406882f43346764db75b",
    "idx": 98,
    "time": "2021-02-02T05:49:03.761Z",
    "type": "execution"
   },
   {
    "id": "8f2c6fd2e374406882f43346764db75b",
    "time": "2021-02-02T05:49:03.837Z",
    "type": "completion"
   },
   {
    "code": "# TEST\nmissing_zip_address_count['3914 Judah St'] == 1",
    "id": "d41b8b730eee44009415494ab9082c78",
    "idx": 99,
    "time": "2021-02-02T05:49:03.935Z",
    "type": "execution"
   },
   {
    "id": "d41b8b730eee44009415494ab9082c78",
    "time": "2021-02-02T05:49:04.004Z",
    "type": "completion"
   },
   {
    "code": "# HIDDEN TEST\nmissing_zip_address_count['Off The Grid'] == 39",
    "id": "691601e7129140529c96a5b651120e67",
    "idx": 100,
    "time": "2021-02-02T05:49:04.089Z",
    "type": "execution"
   },
   {
    "id": "691601e7129140529c96a5b651120e67",
    "time": "2021-02-02T05:49:04.148Z",
    "type": "completion"
   },
   {
    "code": "# True or False: \n#  If we were to drop businesses with MISSING postal code values \n#   a particular class of business be affected.\nq2e_true_or_false = True # SOLUTION",
    "id": "c861a74b248a4506bda7532590f8914c",
    "idx": 102,
    "time": "2021-02-02T05:49:10.690Z",
    "type": "execution"
   },
   {
    "id": "c861a74b248a4506bda7532590f8914c",
    "time": "2021-02-02T05:49:10.760Z",
    "type": "completion"
   },
   {
    "code": "# TEST\ntype(q2e_true_or_false) == bool",
    "id": "c6fcb07eaebd4aa381b6b7a9cc9abe52",
    "idx": 103,
    "time": "2021-02-02T05:49:10.873Z",
    "type": "execution"
   },
   {
    "id": "c6fcb07eaebd4aa381b6b7a9cc9abe52",
    "time": "2021-02-02T05:49:10.945Z",
    "type": "completion"
   },
   {
    "code": "# HIDDEN TEST\nq2e_true_or_false == True",
    "id": "950fd62ef6f2466f8893af0e8d41f651",
    "idx": 104,
    "time": "2021-02-02T05:49:11.282Z",
    "type": "execution"
   },
   {
    "id": "950fd62ef6f2466f8893af0e8d41f651",
    "time": "2021-02-02T05:49:11.346Z",
    "type": "completion"
   },
   {
    "code": "bus['postal5'] = None\n# BEGIN SOLUTION\nbus['postal5'] = bus['postal_code'].str[:5]\nbus.loc[~bus['postal5'].isin(valid_zips), 'postal5'] = None \n# END SOLUTION\n\n# Checking the corrected postal5 column\nbus.loc[invalid_zip_bus.index, ['bid', 'name', 'postal_code', 'postal5']]",
    "id": "2c3fee418bf14408be6ec5ec0db5c0a9",
    "idx": 106,
    "time": "2021-02-02T05:49:15.749Z",
    "type": "execution"
   },
   {
    "id": "2c3fee418bf14408be6ec5ec0db5c0a9",
    "time": "2021-02-02T05:49:15.917Z",
    "type": "completion"
   },
   {
    "code": "bus['postal5'] = None\n# BEGIN SOLUTION\nbus['postal5'] = bus['postal_code'].str[:5]\nbus.loc[~bus['postal5'].isin(valid_zips), 'postal5'] = None \n# END SOLUTION\n\n# Checking the corrected postal5 column\nbus.loc[invalid_zip_bus.index, ['bid', 'name', 'postal_code', 'postal5']]",
    "id": "2c3fee418bf14408be6ec5ec0db5c0a9",
    "idx": 106,
    "time": "2021-02-02T05:50:05.634Z",
    "type": "execution"
   },
   {
    "id": "2c3fee418bf14408be6ec5ec0db5c0a9",
    "time": "2021-02-02T05:50:05.780Z",
    "type": "completion"
   },
   {
    "code": "import numpy as np\nimport pandas as pd\n\nimport matplotlib\nimport matplotlib.pyplot as plt\nimport seaborn as sns\nsns.set()\nplt.style.use('fivethirtyeight')\n\nimport zipfile\nfrom pathlib import Path\nimport os # Used to interact with the file system",
    "id": "304a2ea290e344029f639f23712ea1df",
    "idx": 5,
    "time": "2021-02-02T05:51:14.188Z",
    "type": "execution"
   },
   {
    "code": "from pathlib import Path\ndata_dir = Path('.')\ndata_dir.mkdir(exist_ok = True)\nfile_path = data_dir / Path('data.zip')\ndest_path = file_path",
    "id": "a284a5e13d98491d8f958f25b40885d1",
    "idx": 8,
    "time": "2021-02-02T05:51:14.196Z",
    "type": "execution"
   },
   {
    "code": "!ls",
    "id": "67247d0bd8e14c4f829c0d59c5f68852",
    "idx": 10,
    "time": "2021-02-02T05:51:14.200Z",
    "type": "execution"
   },
   {
    "code": "my_zip = zipfile.ZipFile(dest_path, 'r')\nlist_names = [f.filename for f in my_zip.namelist()]\nlist_names",
    "id": "8f55d84ccdea43dd8ff5290a4b9ab3c3",
    "idx": 13,
    "time": "2021-02-02T05:51:14.205Z",
    "type": "execution"
   },
   {
    "code": "my_zip = zipfile.ZipFile(dest_path, 'r')\nfor info in my_zip.infolist():\n    print('{}\\t{}'.format(info.filename, info.file_size))",
    "id": "fe40da0515c049ff86330e9ba1c6925d",
    "idx": 16,
    "time": "2021-02-02T05:51:14.209Z",
    "type": "execution"
   },
   {
    "code": "data_dir = Path('.')\nmy_zip.extractall(data_dir)\n!ls {data_dir / Path(\"data\")}",
    "id": "10728596518e415a8a55538a61ce9613",
    "idx": 18,
    "time": "2021-02-02T05:51:14.213Z",
    "type": "execution"
   },
   {
    "code": "import ds100_utils\n\ndata_dir = \"./\"\nfor f in list_names:\n    if not os.path.isdir(f):\n        print(ds100_utils.head(data_dir + f, 5), \"\\n\")",
    "id": "52ef2f8c86e2480c8249847c72e27868",
    "idx": 21,
    "time": "2021-02-02T05:51:14.217Z",
    "type": "execution"
   },
   {
    "code": "# path to directory containing data\ndsDir = Path('data')\n\nbus = pd.read_csv(dsDir/'bus.csv', encoding='ISO-8859-1') # SOLUTION\nins2vio = pd.read_csv(dsDir/'ins2vio.csv') # SOLUTION\nins = pd.read_csv(dsDir/'ins.csv') # SOLUTION\nvio = pd.read_csv(dsDir/'vio.csv') # SOLUTION\n\n#This code is essential for the autograder to function properly. Do not edit\nins_test = ins",
    "id": "cb4c43fb465a40348c36cb07fc0656e3",
    "idx": 23,
    "time": "2021-02-02T05:51:14.221Z",
    "type": "execution"
   },
   {
    "code": "bus.head() # SOLUTION",
    "id": "77769c6b4d68498aa02ac9c01a4d08ab",
    "idx": 25,
    "time": "2021-02-02T05:51:14.225Z",
    "type": "execution"
   },
   {
    "code": "bus.describe() # SOLUTION",
    "id": "ae45f54fa7d84da887b51b3849fffd70",
    "idx": 27,
    "time": "2021-02-02T05:51:14.228Z",
    "type": "execution"
   },
   {
    "code": "assert all(bus.columns == ['business id column', 'name', 'address', 'city', 'state', 'postal_code',\n                           'latitude', 'longitude', 'phone_number'])\nassert 6250 <= len(bus) <= 6260\n\nassert all(ins.columns == ['iid', 'date', 'score', 'type'])\nassert 26660 <= len(ins) <= 26670\n\nassert all(vio.columns == ['description', 'risk_category', 'vid'])\nassert 60 <= len(vio) <= 65\n\nassert all(ins2vio.columns == ['iid', 'vid'])\nassert 40210 <= len(ins2vio) <= 40220",
    "id": "c32f8f2f8aa8489a8ffe71bed0c00034",
    "idx": 30,
    "time": "2021-02-02T05:51:14.232Z",
    "type": "execution"
   },
   {
    "code": "bus_summary = pd.DataFrame(**{'columns': ['business id column', 'latitude', 'longitude'],\n 'data': {'business id column': {'50%': 75685.0, 'max': 102705.0, 'min': 19.0},\n  'latitude': {'50%': -9999.0, 'max': 37.824494, 'min': -9999.0},\n  'longitude': {'50%': -9999.0,\n   'max': 0.0,\n   'min': -9999.0}},\n 'index': ['min', '50%', 'max']})\n\nins_summary = pd.DataFrame(**{'columns': ['score'],\n 'data': {'score': {'50%': 76.0, 'max': 100.0, 'min': -1.0}},\n 'index': ['min', '50%', 'max']})\n\nvio_summary = pd.DataFrame(**{'columns': ['vid'],\n 'data': {'vid': {'50%': 103135.0, 'max': 103177.0, 'min': 103102.0}},\n 'index': ['min', '50%', 'max']})\n\nfrom IPython.display import display\n\nprint('What we expect from your Businesses dataframe:')\ndisplay(bus_summary)\nprint('What we expect from your Inspections dataframe:')\ndisplay(ins_summary)\nprint('What we expect from your Violations dataframe:')\ndisplay(vio_summary)",
    "id": "5c6a065403e3489e877a7a170ccbf3b2",
    "idx": 32,
    "time": "2021-02-02T05:51:14.236Z",
    "type": "execution"
   },
   {
    "code": "\"\"\"Run this cell to load this utility comparison function that we will use in various\ntests below (both tests you can see and those we run internally for grading).\n\nDo not modify the function in any way.\n\"\"\"\n\n\ndef df_allclose(actual, desired, columns=None, rtol=5e-2):\n    \"\"\"Compare selected columns of two dataframes on a few summary statistics.\n    \n    Compute the min, median and max of the two dataframes on the given columns, and compare\n    that they match numerically to the given relative tolerance.\n    \n    If they don't match, an AssertionError is raised (by `numpy.testing`).\n    \"\"\"    \n    # summary statistics to compare on\n    stats = ['min', '50%', 'max']\n    \n    # For the desired values, we can provide a full DF with the same structure as\n    # the actual data, or pre-computed summary statistics.\n    # We assume a pre-computed summary was provided if columns is None. In that case, \n    # `desired` *must* have the same structure as the actual's summary\n    if columns is None:\n        des = desired\n        columns = desired.columns\n    else:\n        des = desired[columns].describe().loc[stats]\n\n    # Extract summary stats from actual DF\n    act = actual[columns].describe().loc[stats]\n\n    return np.allclose(act, des, rtol)",
    "id": "b7f13a877f3e4a7a8a24a1a66b934b37",
    "idx": 35,
    "time": "2021-02-02T05:51:14.240Z",
    "type": "execution"
   },
   {
    "code": "# TEST\ndf_allclose(bus.rename(columns = {\"bid\" : \"business id column\"}), bus_summary)",
    "id": "356e4fcbcc90414db4d2b0010b566ce8",
    "idx": 36,
    "time": "2021-02-02T05:51:14.244Z",
    "type": "execution"
   },
   {
    "code": "# TEST\ndf_allclose(ins_test, ins_summary)",
    "id": "454a11ab013a4708b92730a0299cd81e",
    "idx": 37,
    "time": "2021-02-02T05:51:14.247Z",
    "type": "execution"
   },
   {
    "code": "# TEST\ndf_allclose(vio, vio_summary)",
    "id": "0ec9e0a4ee2f4f738bb0fcdea4b6e8a4",
    "idx": 38,
    "time": "2021-02-02T05:51:14.251Z",
    "type": "execution"
   },
   {
    "code": "# TEST\ndf_allclose(ins2vio, vio_summary)",
    "id": "0872e66c2964410e856aff9be7ca1b8e",
    "idx": 39,
    "time": "2021-02-02T05:51:14.253Z",
    "type": "execution"
   },
   {
    "code": "# HIDDEN TEST\ndf_allclose(bus.rename(columns = {\"bid\" : \"business id column\"}), pd.read_csv(dsDir/'bus.csv', encoding='ISO-8859-1'), ['business id column', 'latitude', 'longitude'])",
    "id": "97e28069a15b4a5e8f0239d657275e38",
    "idx": 40,
    "time": "2021-02-02T05:51:14.257Z",
    "type": "execution"
   },
   {
    "code": "# HIDDEN TEST\ndf_allclose(ins_test, pd.read_csv(dsDir/'ins.csv'), ['iid', 'score'])",
    "id": "35bcc60524ad48fc9f031951240f8026",
    "idx": 41,
    "time": "2021-02-02T05:51:14.259Z",
    "type": "execution"
   },
   {
    "code": "# HIDDEN TEST\ndf_allclose(vio, pd.read_csv(dsDir/'vio.csv'), ['vid'])",
    "id": "ae53c18ebc5d422799d0b51c4046da49",
    "idx": 42,
    "time": "2021-02-02T05:51:14.263Z",
    "type": "execution"
   },
   {
    "code": "# HIDDEN TEST\ndf_allclose(ins2vio, pd.read_csv(dsDir/'ins2vio.csv'), ['vid'])",
    "id": "3414bb46db1a40178a0f56f09f9c5183",
    "idx": 43,
    "time": "2021-02-02T05:51:14.265Z",
    "type": "execution"
   },
   {
    "code": "bus.head()",
    "id": "f4db0e969abe455d8f2cf31dd9bfda13",
    "idx": 50,
    "time": "2021-02-02T05:51:14.273Z",
    "type": "execution"
   },
   {
    "code": "bus = bus.rename(columns={\"business id column\": \"bid\"})",
    "id": "fc5a74591b4d43d58c0fd375ad0f5f0d",
    "idx": 52,
    "time": "2021-02-02T05:51:14.276Z",
    "type": "execution"
   },
   {
    "code": "is_bid_unique = bus['bid'].value_counts().max() == 1 # SOLUTION",
    "id": "f86fdd5b5e0541528d78cb18f71b19e1",
    "idx": 54,
    "time": "2021-02-02T05:51:14.279Z",
    "type": "execution"
   },
   {
    "code": "# TEST\nis_bid_unique or ~is_bid_unique",
    "id": "befbc87f3b3946f88879e3cc0460986b",
    "idx": 55,
    "time": "2021-02-02T05:51:14.282Z",
    "type": "execution"
   },
   {
    "code": "# HIDDEN TEST\nis_bid_unique",
    "id": "04589c86449c41a68694d8bc18ba313e",
    "idx": 56,
    "time": "2021-02-02T05:51:14.285Z",
    "type": "execution"
   },
   {
    "code": "top_names = np.array(bus['name'].value_counts()[:5].index) # SOLUTION\ntop_names",
    "id": "2f662f6077184ddc87951025de905e08",
    "idx": 58,
    "time": "2021-02-02T05:51:14.289Z",
    "type": "execution"
   },
   {
    "code": "top_addresses = np.array(bus['address'].value_counts()[:5].index) # SOLUTION\ntop_addresses",
    "id": "23492ee1d3954f3089ed3261edf96e61",
    "idx": 59,
    "time": "2021-02-02T05:51:14.292Z",
    "type": "execution"
   },
   {
    "code": "# TEST\nassert type(top_names) == np.ndarray\nassert type(top_addresses) == np.ndarray\nassert len(top_names) == 5\nlen(top_addresses) == 5",
    "id": "e6d02ce8645847c9b738547ba8ffbe93",
    "idx": 60,
    "time": "2021-02-02T05:51:14.294Z",
    "type": "execution"
   },
   {
    "code": "# TEST \nassert top_names[0] == \"Peet's Coffee & Tea\"\ntop_addresses[0] == 'Off The Grid'",
    "id": "f3c7e778c9d740e783fb61d89ef8bcc7",
    "idx": 61,
    "time": "2021-02-02T05:51:14.298Z",
    "type": "execution"
   },
   {
    "code": "# HIDDEN TEST\nnp.all(top_names == np.array(bus['name'].value_counts()[:5].index))",
    "id": "69edd217c33e4a31a14398cd64e4a768",
    "idx": 62,
    "time": "2021-02-02T05:51:14.301Z",
    "type": "execution"
   },
   {
    "code": "# HIDDEN TEST\nnp.all(top_addresses == np.array(bus['address'].value_counts()[:5].index))",
    "id": "be7dd94c679241c0854376534e3f6129",
    "idx": 63,
    "time": "2021-02-02T05:51:14.304Z",
    "type": "execution"
   },
   {
    "code": "# What does each record represent?  Valid answers are:\n#    \"One location of a restaurant.\"\n#    \"A chain of restaurants.\"\n#    \"A city block.\"\nq1e_part1 = \"One location of a restaurant.\" # SOLUTION\n\n# What is the minimal primary key? Valid answers are:\n#    \"bid\"\n#    \"bid, name\"\n#    \"bid, name, address\"\nq1e_part2 = \"bid\" # SOLUTION",
    "id": "041d848957d54e0c8741c5128e0f2945",
    "idx": 65,
    "time": "2021-02-02T05:51:14.307Z",
    "type": "execution"
   },
   {
    "code": "# TEST\nq1e_part1 in set([\"One location of a restaurant.\", \"A chain of restaurants.\", \"A city block.\"])",
    "id": "4d705aef1fac44f99712f5b5e0d2034d",
    "idx": 66,
    "time": "2021-02-02T05:51:14.311Z",
    "type": "execution"
   },
   {
    "code": "# TEST\nq1e_part2 in set([\"bid\", \"bid, name\", \"bid, name, address\"])",
    "id": "4d148b1959ac45d489a3934c2abd0228",
    "idx": 67,
    "time": "2021-02-02T05:51:14.314Z",
    "type": "execution"
   },
   {
    "code": "# HIDDEN TEST\nq1e_part1 == \"One location of a restaurant.\" ",
    "id": "b068a15157e345898f6af02450bd1719",
    "idx": 68,
    "time": "2021-02-02T05:51:14.317Z",
    "type": "execution"
   },
   {
    "code": "# HIDDEN TEST\nq1e_part2 == \"bid\"",
    "id": "28b461631ac041a980bbd70490fd94d7",
    "idx": 69,
    "time": "2021-02-02T05:51:14.319Z",
    "type": "execution"
   },
   {
    "code": "zip_counts = bus.groupby(\"postal_code\").size().sort_values(ascending=False) # SOLUTION\nprint(zip_counts.to_string())",
    "id": "1c988bdd842c46aa8be91a514e784f04",
    "idx": 72,
    "time": "2021-02-02T05:51:14.324Z",
    "type": "execution"
   },
   {
    "code": "# TEST\ntype(zip_counts) == pd.Series",
    "id": "b2fc89b93ac244478ce417afd21ba729",
    "idx": 73,
    "time": "2021-02-02T05:51:14.328Z",
    "type": "execution"
   },
   {
    "code": "# TEST\nzip_counts.shape[0] == 63",
    "id": "ef1a77b0ba9c4dde9bf2377e20fbfb6b",
    "idx": 74,
    "time": "2021-02-02T05:51:14.331Z",
    "type": "execution"
   },
   {
    "code": "# TEST\nzip_counts[\"94103\"] == 562",
    "id": "2c18893f172740e0b997759920a7f319",
    "idx": 75,
    "time": "2021-02-02T05:51:14.334Z",
    "type": "execution"
   },
   {
    "code": "# HIDDEN TEST\nnp.isclose(zip_counts.var(), bus['postal_code'].value_counts().var())",
    "id": "06d2851fae3a4b508b49b6ad0d7e5003",
    "idx": 76,
    "time": "2021-02-02T05:51:14.337Z",
    "type": "execution"
   },
   {
    "code": "# HIDDEN TEST\nnp.isclose(zip_counts.mean(), bus['postal_code'].value_counts().mean())",
    "id": "1a0db5b14cd244b386f98d239e040733",
    "idx": 77,
    "time": "2021-02-02T05:51:14.340Z",
    "type": "execution"
   },
   {
    "code": "# The ZIP code column is which of the following type of data:\n#   \"Quantitative Continuous\" \n#   \"Quantitative Discrete\"\n#   \"Qualitative Ordinal\"\n#   \"Qualitative Nominal\"\nq2b_part1 = \"Qualitative Nominal\" # SOLUTION\n\n# What Python data type is used to represent a ZIP code? \n#    \"str\"\n#    \"int\"\n#    \"bool\"\n#    \"float\"\nq2b_part2 = \"str\" # SOLUTION",
    "id": "35175a49f556497d9fd405c8e53fb33f",
    "idx": 79,
    "time": "2021-02-02T05:51:14.344Z",
    "type": "execution"
   },
   {
    "code": "# TEST\nq2b_part1 in set([\"Quantitative Continuous\", \"Quantitative Discrete\", \n                  \"Qualitative Ordinal\", \"Qualitative Nominal\"])",
    "id": "ebe0c3ba228b4c5e8178fc87f97dc50c",
    "idx": 80,
    "time": "2021-02-02T05:51:14.346Z",
    "type": "execution"
   },
   {
    "code": "# TEST\nq2b_part2 in set([\"str\", \"int\", \"bool\", \"float\"])",
    "id": "8d61047c8b404c448e53a4ddc7579b76",
    "idx": 81,
    "time": "2021-02-02T05:51:14.349Z",
    "type": "execution"
   },
   {
    "code": "# HIDDEN TEST\nq2b_part1 == \"Qualitative Nominal\"",
    "id": "885f7264e17c409cb24cfaef19e07b8d",
    "idx": 82,
    "time": "2021-02-02T05:51:14.352Z",
    "type": "execution"
   },
   {
    "code": "# HIDDEN TEST\nq2b_part2 == \"str\"",
    "id": "6c0f806e85004e48b55fb09acc600d48",
    "idx": 83,
    "time": "2021-02-02T05:51:14.354Z",
    "type": "execution"
   },
   {
    "code": "valid_zips = pd.read_json(\"data/sf_zipcodes.json\", dtype=\"str\")['zip_codes'] # SOLUTION\nvalid_zips.head()",
    "id": "3a38106fd03d439384c29f3869d0bd89",
    "idx": 86,
    "time": "2021-02-02T05:51:14.359Z",
    "type": "execution"
   },
   {
    "code": "# TEST\nvalid_zips.dtype == object ",
    "id": "e8b15ac1d01a4cb1b5ff1dca7f473adf",
    "idx": 87,
    "time": "2021-02-02T05:51:14.362Z",
    "type": "execution"
   },
   {
    "code": "# TEST\ntype(valid_zips) == pd.Series",
    "id": "fff78731480e455b8c4ea827053ef717",
    "idx": 88,
    "time": "2021-02-02T05:51:14.364Z",
    "type": "execution"
   },
   {
    "code": "# HIDDEN TEST\nnp.all(valid_zips.sort_values() == pd.read_json(\"data/sf_zipcodes.json\", dtype=\"str\")['zip_codes'].sort_values()) ",
    "id": "af6e449bb3e448578e07d93066165a2f",
    "idx": 89,
    "time": "2021-02-02T05:51:14.368Z",
    "type": "execution"
   },
   {
    "code": "invalid_zip_bus = bus[~bus['postal_code'].isin(valid_zips)] # SOLUTION\ninvalid_zip_bus.head(20)",
    "id": "e156c1a1e1ec4040862bec7f7d3476a7",
    "idx": 91,
    "time": "2021-02-02T05:51:14.373Z",
    "type": "execution"
   },
   {
    "code": "# TEST\ntype(invalid_zip_bus) == pd.DataFrame",
    "id": "a1d82511e3334fc3a66c79509ad3c065",
    "idx": 92,
    "time": "2021-02-02T05:51:14.376Z",
    "type": "execution"
   },
   {
    "code": "# TEST\nlen(invalid_zip_bus) == 230",
    "id": "1aff2267cae34cd499fc51734bb53c70",
    "idx": 93,
    "time": "2021-02-02T05:51:14.379Z",
    "type": "execution"
   },
   {
    "code": "# HIDDEN TEST\nset(invalid_zip_bus['postal_code']) == set(bus[~bus['postal_code'].isin(valid_zips)]['postal_code'])",
    "id": "071308a149874816b16681ec5af7cc0f",
    "idx": 94,
    "time": "2021-02-02T05:51:14.381Z",
    "type": "execution"
   },
   {
    "code": "missing_zip_address_count = bus[bus['postal_code'] == \"-9999\"]['address'].value_counts() # SOLUTION\nmissing_zip_address_count.head()",
    "id": "bb371aa3f9ef49fa8301fb863e6127b5",
    "idx": 96,
    "time": "2021-02-02T05:51:14.385Z",
    "type": "execution"
   },
   {
    "code": "# TEST\ntype(missing_zip_address_count) == pd.Series",
    "id": "3d488270b6bf45fb8300b76c99143b49",
    "idx": 97,
    "time": "2021-02-02T05:51:14.388Z",
    "type": "execution"
   },
   {
    "code": "# TEST\nlen(missing_zip_address_count) == 135",
    "id": "8f2c6fd2e374406882f43346764db75b",
    "idx": 98,
    "time": "2021-02-02T05:51:14.391Z",
    "type": "execution"
   },
   {
    "code": "# TEST\nmissing_zip_address_count['3914 Judah St'] == 1",
    "id": "d41b8b730eee44009415494ab9082c78",
    "idx": 99,
    "time": "2021-02-02T05:51:14.394Z",
    "type": "execution"
   },
   {
    "code": "# HIDDEN TEST\nmissing_zip_address_count['Off The Grid'] == 39",
    "id": "691601e7129140529c96a5b651120e67",
    "idx": 100,
    "time": "2021-02-02T05:51:14.396Z",
    "type": "execution"
   },
   {
    "code": "# True or False: \n#  If we were to drop businesses with MISSING postal code values \n#   a particular class of business be affected.\nq2e_true_or_false = True # SOLUTION",
    "id": "c861a74b248a4506bda7532590f8914c",
    "idx": 102,
    "time": "2021-02-02T05:51:14.400Z",
    "type": "execution"
   },
   {
    "code": "# TEST\ntype(q2e_true_or_false) == bool",
    "id": "c6fcb07eaebd4aa381b6b7a9cc9abe52",
    "idx": 103,
    "time": "2021-02-02T05:51:14.403Z",
    "type": "execution"
   },
   {
    "id": "304a2ea290e344029f639f23712ea1df",
    "time": "2021-02-02T05:51:15.285Z",
    "type": "completion"
   },
   {
    "id": "a284a5e13d98491d8f958f25b40885d1",
    "time": "2021-02-02T05:51:15.286Z",
    "type": "completion"
   },
   {
    "id": "67247d0bd8e14c4f829c0d59c5f68852",
    "time": "2021-02-02T05:51:16.008Z",
    "type": "completion"
   },
   {
    "id": "8f55d84ccdea43dd8ff5290a4b9ab3c3",
    "time": "2021-02-02T05:51:16.182Z",
    "type": "completion"
   },
   {
    "id": "fe40da0515c049ff86330e9ba1c6925d",
    "time": "2021-02-02T05:51:16.203Z",
    "type": "completion"
   },
   {
    "id": "10728596518e415a8a55538a61ce9613",
    "time": "2021-02-02T05:51:16.231Z",
    "type": "completion"
   },
   {
    "id": "52ef2f8c86e2480c8249847c72e27868",
    "time": "2021-02-02T05:51:16.232Z",
    "type": "completion"
   },
   {
    "id": "cb4c43fb465a40348c36cb07fc0656e3",
    "time": "2021-02-02T05:51:16.234Z",
    "type": "completion"
   },
   {
    "id": "77769c6b4d68498aa02ac9c01a4d08ab",
    "time": "2021-02-02T05:51:16.278Z",
    "type": "completion"
   },
   {
    "id": "ae45f54fa7d84da887b51b3849fffd70",
    "time": "2021-02-02T05:51:16.282Z",
    "type": "completion"
   },
   {
    "id": "c32f8f2f8aa8489a8ffe71bed0c00034",
    "time": "2021-02-02T05:51:16.306Z",
    "type": "completion"
   },
   {
    "id": "5c6a065403e3489e877a7a170ccbf3b2",
    "time": "2021-02-02T05:51:16.308Z",
    "type": "completion"
   },
   {
    "id": "b7f13a877f3e4a7a8a24a1a66b934b37",
    "time": "2021-02-02T05:51:16.310Z",
    "type": "completion"
   },
   {
    "id": "356e4fcbcc90414db4d2b0010b566ce8",
    "time": "2021-02-02T05:51:16.311Z",
    "type": "completion"
   },
   {
    "id": "454a11ab013a4708b92730a0299cd81e",
    "time": "2021-02-02T05:51:16.313Z",
    "type": "completion"
   },
   {
    "id": "0ec9e0a4ee2f4f738bb0fcdea4b6e8a4",
    "time": "2021-02-02T05:51:16.317Z",
    "type": "completion"
   },
   {
    "id": "0872e66c2964410e856aff9be7ca1b8e",
    "time": "2021-02-02T05:51:16.346Z",
    "type": "completion"
   },
   {
    "id": "97e28069a15b4a5e8f0239d657275e38",
    "time": "2021-02-02T05:51:16.347Z",
    "type": "completion"
   },
   {
    "id": "35bcc60524ad48fc9f031951240f8026",
    "time": "2021-02-02T05:51:16.349Z",
    "type": "completion"
   },
   {
    "id": "ae53c18ebc5d422799d0b51c4046da49",
    "time": "2021-02-02T05:51:16.364Z",
    "type": "completion"
   },
   {
    "id": "3414bb46db1a40178a0f56f09f9c5183",
    "time": "2021-02-02T05:51:16.444Z",
    "type": "completion"
   },
   {
    "id": "f4db0e969abe455d8f2cf31dd9bfda13",
    "time": "2021-02-02T05:51:16.451Z",
    "type": "completion"
   },
   {
    "id": "fc5a74591b4d43d58c0fd375ad0f5f0d",
    "time": "2021-02-02T05:51:16.480Z",
    "type": "completion"
   },
   {
    "id": "f86fdd5b5e0541528d78cb18f71b19e1",
    "time": "2021-02-02T05:51:16.482Z",
    "type": "completion"
   },
   {
    "id": "befbc87f3b3946f88879e3cc0460986b",
    "time": "2021-02-02T05:51:16.483Z",
    "type": "completion"
   },
   {
    "id": "04589c86449c41a68694d8bc18ba313e",
    "time": "2021-02-02T05:51:16.485Z",
    "type": "completion"
   },
   {
    "id": "2f662f6077184ddc87951025de905e08",
    "time": "2021-02-02T05:51:16.540Z",
    "type": "completion"
   },
   {
    "id": "23492ee1d3954f3089ed3261edf96e61",
    "time": "2021-02-02T05:51:16.554Z",
    "type": "completion"
   },
   {
    "id": "e6d02ce8645847c9b738547ba8ffbe93",
    "time": "2021-02-02T05:51:16.556Z",
    "type": "completion"
   },
   {
    "id": "f3c7e778c9d740e783fb61d89ef8bcc7",
    "time": "2021-02-02T05:51:16.557Z",
    "type": "completion"
   },
   {
    "id": "69edd217c33e4a31a14398cd64e4a768",
    "time": "2021-02-02T05:51:16.559Z",
    "type": "completion"
   },
   {
    "id": "be7dd94c679241c0854376534e3f6129",
    "time": "2021-02-02T05:51:16.560Z",
    "type": "completion"
   },
   {
    "id": "041d848957d54e0c8741c5128e0f2945",
    "time": "2021-02-02T05:51:16.576Z",
    "type": "completion"
   },
   {
    "id": "4d705aef1fac44f99712f5b5e0d2034d",
    "time": "2021-02-02T05:51:16.607Z",
    "type": "completion"
   },
   {
    "id": "4d148b1959ac45d489a3934c2abd0228",
    "time": "2021-02-02T05:51:16.614Z",
    "type": "completion"
   },
   {
    "id": "b068a15157e345898f6af02450bd1719",
    "time": "2021-02-02T05:51:16.614Z",
    "type": "completion"
   },
   {
    "id": "28b461631ac041a980bbd70490fd94d7",
    "time": "2021-02-02T05:51:16.614Z",
    "type": "completion"
   },
   {
    "id": "1c988bdd842c46aa8be91a514e784f04",
    "time": "2021-02-02T05:51:16.615Z",
    "type": "completion"
   },
   {
    "id": "b2fc89b93ac244478ce417afd21ba729",
    "time": "2021-02-02T05:51:16.615Z",
    "type": "completion"
   },
   {
    "id": "ef1a77b0ba9c4dde9bf2377e20fbfb6b",
    "time": "2021-02-02T05:51:16.615Z",
    "type": "completion"
   },
   {
    "id": "2c18893f172740e0b997759920a7f319",
    "time": "2021-02-02T05:51:16.615Z",
    "type": "completion"
   },
   {
    "id": "06d2851fae3a4b508b49b6ad0d7e5003",
    "time": "2021-02-02T05:51:16.616Z",
    "type": "completion"
   },
   {
    "id": "1a0db5b14cd244b386f98d239e040733",
    "time": "2021-02-02T05:51:16.616Z",
    "type": "completion"
   },
   {
    "id": "35175a49f556497d9fd405c8e53fb33f",
    "time": "2021-02-02T05:51:16.617Z",
    "type": "completion"
   },
   {
    "id": "ebe0c3ba228b4c5e8178fc87f97dc50c",
    "time": "2021-02-02T05:51:16.617Z",
    "type": "completion"
   },
   {
    "id": "8d61047c8b404c448e53a4ddc7579b76",
    "time": "2021-02-02T05:51:16.617Z",
    "type": "completion"
   },
   {
    "id": "885f7264e17c409cb24cfaef19e07b8d",
    "time": "2021-02-02T05:51:16.618Z",
    "type": "completion"
   },
   {
    "id": "6c0f806e85004e48b55fb09acc600d48",
    "time": "2021-02-02T05:51:16.618Z",
    "type": "completion"
   },
   {
    "id": "3a38106fd03d439384c29f3869d0bd89",
    "time": "2021-02-02T05:51:16.618Z",
    "type": "completion"
   },
   {
    "id": "e8b15ac1d01a4cb1b5ff1dca7f473adf",
    "time": "2021-02-02T05:51:16.645Z",
    "type": "completion"
   },
   {
    "id": "fff78731480e455b8c4ea827053ef717",
    "time": "2021-02-02T05:51:16.651Z",
    "type": "completion"
   },
   {
    "id": "af6e449bb3e448578e07d93066165a2f",
    "time": "2021-02-02T05:51:16.651Z",
    "type": "completion"
   },
   {
    "id": "e156c1a1e1ec4040862bec7f7d3476a7",
    "time": "2021-02-02T05:51:16.651Z",
    "type": "completion"
   },
   {
    "id": "a1d82511e3334fc3a66c79509ad3c065",
    "time": "2021-02-02T05:51:16.652Z",
    "type": "completion"
   },
   {
    "id": "1aff2267cae34cd499fc51734bb53c70",
    "time": "2021-02-02T05:51:16.652Z",
    "type": "completion"
   },
   {
    "id": "071308a149874816b16681ec5af7cc0f",
    "time": "2021-02-02T05:51:16.652Z",
    "type": "completion"
   },
   {
    "id": "bb371aa3f9ef49fa8301fb863e6127b5",
    "time": "2021-02-02T05:51:16.654Z",
    "type": "completion"
   },
   {
    "id": "3d488270b6bf45fb8300b76c99143b49",
    "time": "2021-02-02T05:51:16.654Z",
    "type": "completion"
   },
   {
    "id": "8f2c6fd2e374406882f43346764db75b",
    "time": "2021-02-02T05:51:16.655Z",
    "type": "completion"
   },
   {
    "id": "d41b8b730eee44009415494ab9082c78",
    "time": "2021-02-02T05:51:16.655Z",
    "type": "completion"
   },
   {
    "id": "691601e7129140529c96a5b651120e67",
    "time": "2021-02-02T05:51:16.655Z",
    "type": "completion"
   },
   {
    "id": "c861a74b248a4506bda7532590f8914c",
    "time": "2021-02-02T05:51:16.656Z",
    "type": "completion"
   },
   {
    "id": "c6fcb07eaebd4aa381b6b7a9cc9abe52",
    "time": "2021-02-02T05:51:16.656Z",
    "type": "completion"
   },
   {
    "code": "import numpy as np\nimport pandas as pd\n\nimport matplotlib\nimport matplotlib.pyplot as plt\nimport seaborn as sns\nsns.set()\nplt.style.use('fivethirtyeight')\n\nimport zipfile\nfrom pathlib import Path\nimport os # Used to interact with the file system",
    "id": "304a2ea290e344029f639f23712ea1df",
    "idx": 5,
    "time": "2021-02-02T05:51:27.974Z",
    "type": "execution"
   },
   {
    "code": "from pathlib import Path\ndata_dir = Path('.')\ndata_dir.mkdir(exist_ok = True)\nfile_path = data_dir / Path('data.zip')\ndest_path = file_path",
    "id": "a284a5e13d98491d8f958f25b40885d1",
    "idx": 8,
    "time": "2021-02-02T05:51:27.978Z",
    "type": "execution"
   },
   {
    "code": "!ls",
    "id": "67247d0bd8e14c4f829c0d59c5f68852",
    "idx": 10,
    "time": "2021-02-02T05:51:27.982Z",
    "type": "execution"
   },
   {
    "code": "my_zip = zipfile.ZipFile(dest_path, 'r')\nlist_names = [f.filename for f in my_zip.namelist()]\nlist_names",
    "id": "8f55d84ccdea43dd8ff5290a4b9ab3c3",
    "idx": 13,
    "time": "2021-02-02T05:51:27.987Z",
    "type": "execution"
   },
   {
    "code": "my_zip = zipfile.ZipFile(dest_path, 'r')\nfor info in my_zip.infolist():\n    print('{}\\t{}'.format(info.filename, info.file_size))",
    "id": "fe40da0515c049ff86330e9ba1c6925d",
    "idx": 16,
    "time": "2021-02-02T05:51:27.991Z",
    "type": "execution"
   },
   {
    "code": "data_dir = Path('.')\nmy_zip.extractall(data_dir)\n!ls {data_dir / Path(\"data\")}",
    "id": "10728596518e415a8a55538a61ce9613",
    "idx": 18,
    "time": "2021-02-02T05:51:27.995Z",
    "type": "execution"
   },
   {
    "code": "import ds100_utils\n\ndata_dir = \"./\"\nfor f in list_names:\n    if not os.path.isdir(f):\n        print(ds100_utils.head(data_dir + f, 5), \"\\n\")",
    "id": "52ef2f8c86e2480c8249847c72e27868",
    "idx": 21,
    "time": "2021-02-02T05:51:28.000Z",
    "type": "execution"
   },
   {
    "code": "# path to directory containing data\ndsDir = Path('data')\n\nbus = pd.read_csv(dsDir/'bus.csv', encoding='ISO-8859-1') # SOLUTION\nins2vio = pd.read_csv(dsDir/'ins2vio.csv') # SOLUTION\nins = pd.read_csv(dsDir/'ins.csv') # SOLUTION\nvio = pd.read_csv(dsDir/'vio.csv') # SOLUTION\n\n#This code is essential for the autograder to function properly. Do not edit\nins_test = ins",
    "id": "cb4c43fb465a40348c36cb07fc0656e3",
    "idx": 23,
    "time": "2021-02-02T05:51:28.004Z",
    "type": "execution"
   },
   {
    "code": "bus.head() # SOLUTION",
    "id": "77769c6b4d68498aa02ac9c01a4d08ab",
    "idx": 25,
    "time": "2021-02-02T05:51:28.008Z",
    "type": "execution"
   },
   {
    "code": "bus.describe() # SOLUTION",
    "id": "ae45f54fa7d84da887b51b3849fffd70",
    "idx": 27,
    "time": "2021-02-02T05:51:28.011Z",
    "type": "execution"
   },
   {
    "code": "assert all(bus.columns == ['business id column', 'name', 'address', 'city', 'state', 'postal_code',\n                           'latitude', 'longitude', 'phone_number'])\nassert 6250 <= len(bus) <= 6260\n\nassert all(ins.columns == ['iid', 'date', 'score', 'type'])\nassert 26660 <= len(ins) <= 26670\n\nassert all(vio.columns == ['description', 'risk_category', 'vid'])\nassert 60 <= len(vio) <= 65\n\nassert all(ins2vio.columns == ['iid', 'vid'])\nassert 40210 <= len(ins2vio) <= 40220",
    "id": "c32f8f2f8aa8489a8ffe71bed0c00034",
    "idx": 30,
    "time": "2021-02-02T05:51:28.016Z",
    "type": "execution"
   },
   {
    "code": "bus_summary = pd.DataFrame(**{'columns': ['business id column', 'latitude', 'longitude'],\n 'data': {'business id column': {'50%': 75685.0, 'max': 102705.0, 'min': 19.0},\n  'latitude': {'50%': -9999.0, 'max': 37.824494, 'min': -9999.0},\n  'longitude': {'50%': -9999.0,\n   'max': 0.0,\n   'min': -9999.0}},\n 'index': ['min', '50%', 'max']})\n\nins_summary = pd.DataFrame(**{'columns': ['score'],\n 'data': {'score': {'50%': 76.0, 'max': 100.0, 'min': -1.0}},\n 'index': ['min', '50%', 'max']})\n\nvio_summary = pd.DataFrame(**{'columns': ['vid'],\n 'data': {'vid': {'50%': 103135.0, 'max': 103177.0, 'min': 103102.0}},\n 'index': ['min', '50%', 'max']})\n\nfrom IPython.display import display\n\nprint('What we expect from your Businesses dataframe:')\ndisplay(bus_summary)\nprint('What we expect from your Inspections dataframe:')\ndisplay(ins_summary)\nprint('What we expect from your Violations dataframe:')\ndisplay(vio_summary)",
    "id": "5c6a065403e3489e877a7a170ccbf3b2",
    "idx": 32,
    "time": "2021-02-02T05:51:28.019Z",
    "type": "execution"
   },
   {
    "code": "\"\"\"Run this cell to load this utility comparison function that we will use in various\ntests below (both tests you can see and those we run internally for grading).\n\nDo not modify the function in any way.\n\"\"\"\n\n\ndef df_allclose(actual, desired, columns=None, rtol=5e-2):\n    \"\"\"Compare selected columns of two dataframes on a few summary statistics.\n    \n    Compute the min, median and max of the two dataframes on the given columns, and compare\n    that they match numerically to the given relative tolerance.\n    \n    If they don't match, an AssertionError is raised (by `numpy.testing`).\n    \"\"\"    \n    # summary statistics to compare on\n    stats = ['min', '50%', 'max']\n    \n    # For the desired values, we can provide a full DF with the same structure as\n    # the actual data, or pre-computed summary statistics.\n    # We assume a pre-computed summary was provided if columns is None. In that case, \n    # `desired` *must* have the same structure as the actual's summary\n    if columns is None:\n        des = desired\n        columns = desired.columns\n    else:\n        des = desired[columns].describe().loc[stats]\n\n    # Extract summary stats from actual DF\n    act = actual[columns].describe().loc[stats]\n\n    return np.allclose(act, des, rtol)",
    "id": "b7f13a877f3e4a7a8a24a1a66b934b37",
    "idx": 35,
    "time": "2021-02-02T05:51:28.024Z",
    "type": "execution"
   },
   {
    "code": "# TEST\ndf_allclose(bus.rename(columns = {\"bid\" : \"business id column\"}), bus_summary)",
    "id": "356e4fcbcc90414db4d2b0010b566ce8",
    "idx": 36,
    "time": "2021-02-02T05:51:28.027Z",
    "type": "execution"
   },
   {
    "code": "# TEST\ndf_allclose(ins_test, ins_summary)",
    "id": "454a11ab013a4708b92730a0299cd81e",
    "idx": 37,
    "time": "2021-02-02T05:51:28.030Z",
    "type": "execution"
   },
   {
    "code": "# TEST\ndf_allclose(vio, vio_summary)",
    "id": "0ec9e0a4ee2f4f738bb0fcdea4b6e8a4",
    "idx": 38,
    "time": "2021-02-02T05:51:28.033Z",
    "type": "execution"
   },
   {
    "code": "# TEST\ndf_allclose(ins2vio, vio_summary)",
    "id": "0872e66c2964410e856aff9be7ca1b8e",
    "idx": 39,
    "time": "2021-02-02T05:51:28.037Z",
    "type": "execution"
   },
   {
    "code": "# HIDDEN TEST\ndf_allclose(bus.rename(columns = {\"bid\" : \"business id column\"}), pd.read_csv(dsDir/'bus.csv', encoding='ISO-8859-1'), ['business id column', 'latitude', 'longitude'])",
    "id": "97e28069a15b4a5e8f0239d657275e38",
    "idx": 40,
    "time": "2021-02-02T05:51:28.041Z",
    "type": "execution"
   },
   {
    "code": "# HIDDEN TEST\ndf_allclose(ins_test, pd.read_csv(dsDir/'ins.csv'), ['iid', 'score'])",
    "id": "35bcc60524ad48fc9f031951240f8026",
    "idx": 41,
    "time": "2021-02-02T05:51:28.046Z",
    "type": "execution"
   },
   {
    "code": "# HIDDEN TEST\ndf_allclose(vio, pd.read_csv(dsDir/'vio.csv'), ['vid'])",
    "id": "ae53c18ebc5d422799d0b51c4046da49",
    "idx": 42,
    "time": "2021-02-02T05:51:28.051Z",
    "type": "execution"
   },
   {
    "code": "# HIDDEN TEST\ndf_allclose(ins2vio, pd.read_csv(dsDir/'ins2vio.csv'), ['vid'])",
    "id": "3414bb46db1a40178a0f56f09f9c5183",
    "idx": 43,
    "time": "2021-02-02T05:51:28.055Z",
    "type": "execution"
   },
   {
    "code": "bus.head()",
    "id": "f4db0e969abe455d8f2cf31dd9bfda13",
    "idx": 50,
    "time": "2021-02-02T05:51:28.062Z",
    "type": "execution"
   },
   {
    "code": "bus = bus.rename(columns={\"business id column\": \"bid\"})",
    "id": "fc5a74591b4d43d58c0fd375ad0f5f0d",
    "idx": 52,
    "time": "2021-02-02T05:51:28.066Z",
    "type": "execution"
   },
   {
    "code": "is_bid_unique = bus['bid'].value_counts().max() == 1 # SOLUTION",
    "id": "f86fdd5b5e0541528d78cb18f71b19e1",
    "idx": 54,
    "time": "2021-02-02T05:51:28.069Z",
    "type": "execution"
   },
   {
    "code": "# TEST\nis_bid_unique or ~is_bid_unique",
    "id": "befbc87f3b3946f88879e3cc0460986b",
    "idx": 55,
    "time": "2021-02-02T05:51:28.072Z",
    "type": "execution"
   },
   {
    "code": "# HIDDEN TEST\nis_bid_unique",
    "id": "04589c86449c41a68694d8bc18ba313e",
    "idx": 56,
    "time": "2021-02-02T05:51:28.075Z",
    "type": "execution"
   },
   {
    "code": "top_names = np.array(bus['name'].value_counts()[:5].index) # SOLUTION\ntop_names",
    "id": "2f662f6077184ddc87951025de905e08",
    "idx": 58,
    "time": "2021-02-02T05:51:28.079Z",
    "type": "execution"
   },
   {
    "code": "top_addresses = np.array(bus['address'].value_counts()[:5].index) # SOLUTION\ntop_addresses",
    "id": "23492ee1d3954f3089ed3261edf96e61",
    "idx": 59,
    "time": "2021-02-02T05:51:28.081Z",
    "type": "execution"
   },
   {
    "code": "# TEST\nassert type(top_names) == np.ndarray\nassert type(top_addresses) == np.ndarray\nassert len(top_names) == 5\nlen(top_addresses) == 5",
    "id": "e6d02ce8645847c9b738547ba8ffbe93",
    "idx": 60,
    "time": "2021-02-02T05:51:28.084Z",
    "type": "execution"
   },
   {
    "code": "# TEST \nassert top_names[0] == \"Peet's Coffee & Tea\"\ntop_addresses[0] == 'Off The Grid'",
    "id": "f3c7e778c9d740e783fb61d89ef8bcc7",
    "idx": 61,
    "time": "2021-02-02T05:51:28.087Z",
    "type": "execution"
   },
   {
    "code": "# HIDDEN TEST\nnp.all(top_names == np.array(bus['name'].value_counts()[:5].index))",
    "id": "69edd217c33e4a31a14398cd64e4a768",
    "idx": 62,
    "time": "2021-02-02T05:51:28.089Z",
    "type": "execution"
   },
   {
    "code": "# HIDDEN TEST\nnp.all(top_addresses == np.array(bus['address'].value_counts()[:5].index))",
    "id": "be7dd94c679241c0854376534e3f6129",
    "idx": 63,
    "time": "2021-02-02T05:51:28.092Z",
    "type": "execution"
   },
   {
    "code": "# What does each record represent?  Valid answers are:\n#    \"One location of a restaurant.\"\n#    \"A chain of restaurants.\"\n#    \"A city block.\"\nq1e_part1 = \"One location of a restaurant.\" # SOLUTION\n\n# What is the minimal primary key? Valid answers are:\n#    \"bid\"\n#    \"bid, name\"\n#    \"bid, name, address\"\nq1e_part2 = \"bid\" # SOLUTION",
    "id": "041d848957d54e0c8741c5128e0f2945",
    "idx": 65,
    "time": "2021-02-02T05:51:28.096Z",
    "type": "execution"
   },
   {
    "code": "# TEST\nq1e_part1 in set([\"One location of a restaurant.\", \"A chain of restaurants.\", \"A city block.\"])",
    "id": "4d705aef1fac44f99712f5b5e0d2034d",
    "idx": 66,
    "time": "2021-02-02T05:51:28.099Z",
    "type": "execution"
   },
   {
    "code": "# TEST\nq1e_part2 in set([\"bid\", \"bid, name\", \"bid, name, address\"])",
    "id": "4d148b1959ac45d489a3934c2abd0228",
    "idx": 67,
    "time": "2021-02-02T05:51:28.101Z",
    "type": "execution"
   },
   {
    "code": "# HIDDEN TEST\nq1e_part1 == \"One location of a restaurant.\" ",
    "id": "b068a15157e345898f6af02450bd1719",
    "idx": 68,
    "time": "2021-02-02T05:51:28.104Z",
    "type": "execution"
   },
   {
    "code": "# HIDDEN TEST\nq1e_part2 == \"bid\"",
    "id": "28b461631ac041a980bbd70490fd94d7",
    "idx": 69,
    "time": "2021-02-02T05:51:28.107Z",
    "type": "execution"
   },
   {
    "code": "zip_counts = bus.groupby(\"postal_code\").size().sort_values(ascending=False) # SOLUTION\nprint(zip_counts.to_string())",
    "id": "1c988bdd842c46aa8be91a514e784f04",
    "idx": 72,
    "time": "2021-02-02T05:51:28.111Z",
    "type": "execution"
   },
   {
    "code": "# TEST\ntype(zip_counts) == pd.Series",
    "id": "b2fc89b93ac244478ce417afd21ba729",
    "idx": 73,
    "time": "2021-02-02T05:51:28.114Z",
    "type": "execution"
   },
   {
    "code": "# TEST\nzip_counts.shape[0] == 63",
    "id": "ef1a77b0ba9c4dde9bf2377e20fbfb6b",
    "idx": 74,
    "time": "2021-02-02T05:51:28.117Z",
    "type": "execution"
   },
   {
    "code": "# TEST\nzip_counts[\"94103\"] == 562",
    "id": "2c18893f172740e0b997759920a7f319",
    "idx": 75,
    "time": "2021-02-02T05:51:28.119Z",
    "type": "execution"
   },
   {
    "code": "# HIDDEN TEST\nnp.isclose(zip_counts.var(), bus['postal_code'].value_counts().var())",
    "id": "06d2851fae3a4b508b49b6ad0d7e5003",
    "idx": 76,
    "time": "2021-02-02T05:51:28.122Z",
    "type": "execution"
   },
   {
    "code": "# HIDDEN TEST\nnp.isclose(zip_counts.mean(), bus['postal_code'].value_counts().mean())",
    "id": "1a0db5b14cd244b386f98d239e040733",
    "idx": 77,
    "time": "2021-02-02T05:51:28.125Z",
    "type": "execution"
   },
   {
    "code": "# The ZIP code column is which of the following type of data:\n#   \"Quantitative Continuous\" \n#   \"Quantitative Discrete\"\n#   \"Qualitative Ordinal\"\n#   \"Qualitative Nominal\"\nq2b_part1 = \"Qualitative Nominal\" # SOLUTION\n\n# What Python data type is used to represent a ZIP code? \n#    \"str\"\n#    \"int\"\n#    \"bool\"\n#    \"float\"\nq2b_part2 = \"str\" # SOLUTION",
    "id": "35175a49f556497d9fd405c8e53fb33f",
    "idx": 79,
    "time": "2021-02-02T05:51:28.128Z",
    "type": "execution"
   },
   {
    "code": "# TEST\nq2b_part1 in set([\"Quantitative Continuous\", \"Quantitative Discrete\", \n                  \"Qualitative Ordinal\", \"Qualitative Nominal\"])",
    "id": "ebe0c3ba228b4c5e8178fc87f97dc50c",
    "idx": 80,
    "time": "2021-02-02T05:51:28.131Z",
    "type": "execution"
   },
   {
    "code": "# TEST\nq2b_part2 in set([\"str\", \"int\", \"bool\", \"float\"])",
    "id": "8d61047c8b404c448e53a4ddc7579b76",
    "idx": 81,
    "time": "2021-02-02T05:51:28.134Z",
    "type": "execution"
   },
   {
    "code": "# HIDDEN TEST\nq2b_part1 == \"Qualitative Nominal\"",
    "id": "885f7264e17c409cb24cfaef19e07b8d",
    "idx": 82,
    "time": "2021-02-02T05:51:28.136Z",
    "type": "execution"
   },
   {
    "code": "# HIDDEN TEST\nq2b_part2 == \"str\"",
    "id": "6c0f806e85004e48b55fb09acc600d48",
    "idx": 83,
    "time": "2021-02-02T05:51:28.139Z",
    "type": "execution"
   },
   {
    "code": "valid_zips = pd.read_json(\"data/sf_zipcodes.json\", dtype=\"str\")['zip_codes'] # SOLUTION\nvalid_zips.head()",
    "id": "3a38106fd03d439384c29f3869d0bd89",
    "idx": 86,
    "time": "2021-02-02T05:51:28.144Z",
    "type": "execution"
   },
   {
    "code": "# TEST\nvalid_zips.dtype == object ",
    "id": "e8b15ac1d01a4cb1b5ff1dca7f473adf",
    "idx": 87,
    "time": "2021-02-02T05:51:28.146Z",
    "type": "execution"
   },
   {
    "code": "# TEST\ntype(valid_zips) == pd.Series",
    "id": "fff78731480e455b8c4ea827053ef717",
    "idx": 88,
    "time": "2021-02-02T05:51:28.149Z",
    "type": "execution"
   },
   {
    "code": "# HIDDEN TEST\nnp.all(valid_zips.sort_values() == pd.read_json(\"data/sf_zipcodes.json\", dtype=\"str\")['zip_codes'].sort_values()) ",
    "id": "af6e449bb3e448578e07d93066165a2f",
    "idx": 89,
    "time": "2021-02-02T05:51:28.152Z",
    "type": "execution"
   },
   {
    "code": "invalid_zip_bus = bus[~bus['postal_code'].isin(valid_zips)] # SOLUTION\ninvalid_zip_bus.head(20)",
    "id": "e156c1a1e1ec4040862bec7f7d3476a7",
    "idx": 91,
    "time": "2021-02-02T05:51:28.156Z",
    "type": "execution"
   },
   {
    "code": "# TEST\ntype(invalid_zip_bus) == pd.DataFrame",
    "id": "a1d82511e3334fc3a66c79509ad3c065",
    "idx": 92,
    "time": "2021-02-02T05:51:28.158Z",
    "type": "execution"
   },
   {
    "code": "# TEST\nlen(invalid_zip_bus) == 230",
    "id": "1aff2267cae34cd499fc51734bb53c70",
    "idx": 93,
    "time": "2021-02-02T05:51:28.161Z",
    "type": "execution"
   },
   {
    "code": "# HIDDEN TEST\nset(invalid_zip_bus['postal_code']) == set(bus[~bus['postal_code'].isin(valid_zips)]['postal_code'])",
    "id": "071308a149874816b16681ec5af7cc0f",
    "idx": 94,
    "time": "2021-02-02T05:51:28.164Z",
    "type": "execution"
   },
   {
    "code": "missing_zip_address_count = bus[bus['postal_code'] == \"-9999\"]['address'].value_counts() # SOLUTION\nmissing_zip_address_count.head()",
    "id": "bb371aa3f9ef49fa8301fb863e6127b5",
    "idx": 96,
    "time": "2021-02-02T05:51:28.167Z",
    "type": "execution"
   },
   {
    "code": "# TEST\ntype(missing_zip_address_count) == pd.Series",
    "id": "3d488270b6bf45fb8300b76c99143b49",
    "idx": 97,
    "time": "2021-02-02T05:51:28.170Z",
    "type": "execution"
   },
   {
    "code": "# TEST\nlen(missing_zip_address_count) == 135",
    "id": "8f2c6fd2e374406882f43346764db75b",
    "idx": 98,
    "time": "2021-02-02T05:51:28.172Z",
    "type": "execution"
   },
   {
    "code": "# TEST\nmissing_zip_address_count['3914 Judah St'] == 1",
    "id": "d41b8b730eee44009415494ab9082c78",
    "idx": 99,
    "time": "2021-02-02T05:51:28.175Z",
    "type": "execution"
   },
   {
    "code": "# HIDDEN TEST\nmissing_zip_address_count['Off The Grid'] == 39",
    "id": "691601e7129140529c96a5b651120e67",
    "idx": 100,
    "time": "2021-02-02T05:51:28.178Z",
    "type": "execution"
   },
   {
    "code": "# True or False: \n#  If we were to drop businesses with MISSING postal code values \n#   a particular class of business be affected.\nq2e_true_or_false = True # SOLUTION",
    "id": "c861a74b248a4506bda7532590f8914c",
    "idx": 102,
    "time": "2021-02-02T05:51:28.181Z",
    "type": "execution"
   },
   {
    "code": "# TEST\ntype(q2e_true_or_false) == bool",
    "id": "c6fcb07eaebd4aa381b6b7a9cc9abe52",
    "idx": 103,
    "time": "2021-02-02T05:51:28.184Z",
    "type": "execution"
   },
   {
    "id": "304a2ea290e344029f639f23712ea1df",
    "time": "2021-02-02T05:51:28.261Z",
    "type": "completion"
   },
   {
    "id": "a284a5e13d98491d8f958f25b40885d1",
    "time": "2021-02-02T05:51:28.263Z",
    "type": "completion"
   },
   {
    "id": "67247d0bd8e14c4f829c0d59c5f68852",
    "time": "2021-02-02T05:51:28.771Z",
    "type": "completion"
   },
   {
    "id": "8f55d84ccdea43dd8ff5290a4b9ab3c3",
    "time": "2021-02-02T05:51:28.829Z",
    "type": "completion"
   },
   {
    "id": "fe40da0515c049ff86330e9ba1c6925d",
    "time": "2021-02-02T05:51:28.831Z",
    "type": "completion"
   },
   {
    "id": "10728596518e415a8a55538a61ce9613",
    "time": "2021-02-02T05:51:28.833Z",
    "type": "completion"
   },
   {
    "id": "52ef2f8c86e2480c8249847c72e27868",
    "time": "2021-02-02T05:51:28.834Z",
    "type": "completion"
   },
   {
    "id": "cb4c43fb465a40348c36cb07fc0656e3",
    "time": "2021-02-02T05:51:28.836Z",
    "type": "completion"
   },
   {
    "id": "77769c6b4d68498aa02ac9c01a4d08ab",
    "time": "2021-02-02T05:51:28.837Z",
    "type": "completion"
   },
   {
    "id": "ae45f54fa7d84da887b51b3849fffd70",
    "time": "2021-02-02T05:51:28.854Z",
    "type": "completion"
   },
   {
    "id": "c32f8f2f8aa8489a8ffe71bed0c00034",
    "time": "2021-02-02T05:51:28.856Z",
    "type": "completion"
   },
   {
    "id": "5c6a065403e3489e877a7a170ccbf3b2",
    "time": "2021-02-02T05:51:28.865Z",
    "type": "completion"
   },
   {
    "id": "b7f13a877f3e4a7a8a24a1a66b934b37",
    "time": "2021-02-02T05:51:28.867Z",
    "type": "completion"
   },
   {
    "id": "356e4fcbcc90414db4d2b0010b566ce8",
    "time": "2021-02-02T05:51:28.869Z",
    "type": "completion"
   },
   {
    "id": "454a11ab013a4708b92730a0299cd81e",
    "time": "2021-02-02T05:51:28.877Z",
    "type": "completion"
   },
   {
    "id": "0ec9e0a4ee2f4f738bb0fcdea4b6e8a4",
    "time": "2021-02-02T05:51:28.879Z",
    "type": "completion"
   },
   {
    "id": "0872e66c2964410e856aff9be7ca1b8e",
    "time": "2021-02-02T05:51:28.909Z",
    "type": "completion"
   },
   {
    "id": "97e28069a15b4a5e8f0239d657275e38",
    "time": "2021-02-02T05:51:28.911Z",
    "type": "completion"
   },
   {
    "id": "35bcc60524ad48fc9f031951240f8026",
    "time": "2021-02-02T05:51:28.913Z",
    "type": "completion"
   },
   {
    "id": "ae53c18ebc5d422799d0b51c4046da49",
    "time": "2021-02-02T05:51:28.914Z",
    "type": "completion"
   },
   {
    "id": "3414bb46db1a40178a0f56f09f9c5183",
    "time": "2021-02-02T05:51:28.915Z",
    "type": "completion"
   },
   {
    "id": "f4db0e969abe455d8f2cf31dd9bfda13",
    "time": "2021-02-02T05:51:28.917Z",
    "type": "completion"
   },
   {
    "id": "fc5a74591b4d43d58c0fd375ad0f5f0d",
    "time": "2021-02-02T05:51:28.918Z",
    "type": "completion"
   },
   {
    "id": "f86fdd5b5e0541528d78cb18f71b19e1",
    "time": "2021-02-02T05:51:28.919Z",
    "type": "completion"
   },
   {
    "id": "befbc87f3b3946f88879e3cc0460986b",
    "time": "2021-02-02T05:51:28.949Z",
    "type": "completion"
   },
   {
    "id": "04589c86449c41a68694d8bc18ba313e",
    "time": "2021-02-02T05:51:28.951Z",
    "type": "completion"
   },
   {
    "id": "2f662f6077184ddc87951025de905e08",
    "time": "2021-02-02T05:51:28.958Z",
    "type": "completion"
   },
   {
    "id": "23492ee1d3954f3089ed3261edf96e61",
    "time": "2021-02-02T05:51:28.960Z",
    "type": "completion"
   },
   {
    "id": "e6d02ce8645847c9b738547ba8ffbe93",
    "time": "2021-02-02T05:51:28.962Z",
    "type": "completion"
   },
   {
    "id": "f3c7e778c9d740e783fb61d89ef8bcc7",
    "time": "2021-02-02T05:51:28.963Z",
    "type": "completion"
   },
   {
    "id": "69edd217c33e4a31a14398cd64e4a768",
    "time": "2021-02-02T05:51:28.964Z",
    "type": "completion"
   },
   {
    "id": "be7dd94c679241c0854376534e3f6129",
    "time": "2021-02-02T05:51:28.965Z",
    "type": "completion"
   },
   {
    "id": "041d848957d54e0c8741c5128e0f2945",
    "time": "2021-02-02T05:51:28.967Z",
    "type": "completion"
   },
   {
    "id": "4d705aef1fac44f99712f5b5e0d2034d",
    "time": "2021-02-02T05:51:28.981Z",
    "type": "completion"
   },
   {
    "id": "4d148b1959ac45d489a3934c2abd0228",
    "time": "2021-02-02T05:51:28.982Z",
    "type": "completion"
   },
   {
    "id": "b068a15157e345898f6af02450bd1719",
    "time": "2021-02-02T05:51:28.982Z",
    "type": "completion"
   },
   {
    "id": "28b461631ac041a980bbd70490fd94d7",
    "time": "2021-02-02T05:51:28.982Z",
    "type": "completion"
   },
   {
    "id": "1c988bdd842c46aa8be91a514e784f04",
    "time": "2021-02-02T05:51:28.999Z",
    "type": "completion"
   },
   {
    "id": "b2fc89b93ac244478ce417afd21ba729",
    "time": "2021-02-02T05:51:28.999Z",
    "type": "completion"
   },
   {
    "id": "ef1a77b0ba9c4dde9bf2377e20fbfb6b",
    "time": "2021-02-02T05:51:29.009Z",
    "type": "completion"
   },
   {
    "id": "2c18893f172740e0b997759920a7f319",
    "time": "2021-02-02T05:51:29.009Z",
    "type": "completion"
   },
   {
    "id": "06d2851fae3a4b508b49b6ad0d7e5003",
    "time": "2021-02-02T05:51:29.009Z",
    "type": "completion"
   },
   {
    "id": "1a0db5b14cd244b386f98d239e040733",
    "time": "2021-02-02T05:51:29.010Z",
    "type": "completion"
   },
   {
    "id": "35175a49f556497d9fd405c8e53fb33f",
    "time": "2021-02-02T05:51:29.010Z",
    "type": "completion"
   },
   {
    "id": "ebe0c3ba228b4c5e8178fc87f97dc50c",
    "time": "2021-02-02T05:51:29.010Z",
    "type": "completion"
   },
   {
    "id": "8d61047c8b404c448e53a4ddc7579b76",
    "time": "2021-02-02T05:51:29.011Z",
    "type": "completion"
   },
   {
    "id": "885f7264e17c409cb24cfaef19e07b8d",
    "time": "2021-02-02T05:51:29.011Z",
    "type": "completion"
   },
   {
    "id": "6c0f806e85004e48b55fb09acc600d48",
    "time": "2021-02-02T05:51:29.011Z",
    "type": "completion"
   },
   {
    "id": "3a38106fd03d439384c29f3869d0bd89",
    "time": "2021-02-02T05:51:29.011Z",
    "type": "completion"
   },
   {
    "id": "e8b15ac1d01a4cb1b5ff1dca7f473adf",
    "time": "2021-02-02T05:51:29.012Z",
    "type": "completion"
   },
   {
    "id": "fff78731480e455b8c4ea827053ef717",
    "time": "2021-02-02T05:51:29.012Z",
    "type": "completion"
   },
   {
    "id": "af6e449bb3e448578e07d93066165a2f",
    "time": "2021-02-02T05:51:29.018Z",
    "type": "completion"
   },
   {
    "id": "e156c1a1e1ec4040862bec7f7d3476a7",
    "time": "2021-02-02T05:51:29.019Z",
    "type": "completion"
   },
   {
    "id": "a1d82511e3334fc3a66c79509ad3c065",
    "time": "2021-02-02T05:51:29.019Z",
    "type": "completion"
   },
   {
    "id": "1aff2267cae34cd499fc51734bb53c70",
    "time": "2021-02-02T05:51:29.057Z",
    "type": "completion"
   },
   {
    "id": "071308a149874816b16681ec5af7cc0f",
    "time": "2021-02-02T05:51:29.058Z",
    "type": "completion"
   },
   {
    "id": "bb371aa3f9ef49fa8301fb863e6127b5",
    "time": "2021-02-02T05:51:29.058Z",
    "type": "completion"
   },
   {
    "id": "3d488270b6bf45fb8300b76c99143b49",
    "time": "2021-02-02T05:51:29.059Z",
    "type": "completion"
   },
   {
    "id": "8f2c6fd2e374406882f43346764db75b",
    "time": "2021-02-02T05:51:29.059Z",
    "type": "completion"
   },
   {
    "id": "d41b8b730eee44009415494ab9082c78",
    "time": "2021-02-02T05:51:29.059Z",
    "type": "completion"
   },
   {
    "id": "691601e7129140529c96a5b651120e67",
    "time": "2021-02-02T05:51:29.060Z",
    "type": "completion"
   },
   {
    "id": "c861a74b248a4506bda7532590f8914c",
    "time": "2021-02-02T05:51:29.060Z",
    "type": "completion"
   },
   {
    "id": "c6fcb07eaebd4aa381b6b7a9cc9abe52",
    "time": "2021-02-02T05:51:29.060Z",
    "type": "completion"
   },
   {
    "code": "my_zip = zipfile.ZipFile(dest_path, 'r')\nlist_names = my_zip.namelist()\nlist_names",
    "id": "8f55d84ccdea43dd8ff5290a4b9ab3c3",
    "idx": 13,
    "time": "2021-02-02T05:52:13.264Z",
    "type": "execution"
   },
   {
    "id": "8f55d84ccdea43dd8ff5290a4b9ab3c3",
    "time": "2021-02-02T05:52:13.341Z",
    "type": "completion"
   },
   {
    "code": "import numpy as np\nimport pandas as pd\n\nimport matplotlib\nimport matplotlib.pyplot as plt\nimport seaborn as sns\nsns.set()\nplt.style.use('fivethirtyeight')\n\nimport zipfile\nfrom pathlib import Path\nimport os # Used to interact with the file system",
    "id": "304a2ea290e344029f639f23712ea1df",
    "idx": 5,
    "time": "2021-02-02T05:52:50.663Z",
    "type": "execution"
   },
   {
    "code": "from pathlib import Path\ndata_dir = Path('.')\ndata_dir.mkdir(exist_ok = True)\nfile_path = data_dir / Path('data.zip')\ndest_path = file_path",
    "id": "a284a5e13d98491d8f958f25b40885d1",
    "idx": 8,
    "time": "2021-02-02T05:52:50.670Z",
    "type": "execution"
   },
   {
    "code": "!ls",
    "id": "67247d0bd8e14c4f829c0d59c5f68852",
    "idx": 10,
    "time": "2021-02-02T05:52:50.674Z",
    "type": "execution"
   },
   {
    "code": "my_zip = zipfile.ZipFile(dest_path, 'r')\nlist_names = my_zip.namelist()\nlist_names",
    "id": "8f55d84ccdea43dd8ff5290a4b9ab3c3",
    "idx": 13,
    "time": "2021-02-02T05:52:50.678Z",
    "type": "execution"
   },
   {
    "code": "my_zip = zipfile.ZipFile(dest_path, 'r')\nfor info in my_zip.infolist():\n    print('{}\\t{}'.format(info.filename, info.file_size))",
    "id": "fe40da0515c049ff86330e9ba1c6925d",
    "idx": 16,
    "time": "2021-02-02T05:52:50.682Z",
    "type": "execution"
   },
   {
    "code": "data_dir = Path('.')\nmy_zip.extractall(data_dir)\n!ls {data_dir / Path(\"data\")}",
    "id": "10728596518e415a8a55538a61ce9613",
    "idx": 18,
    "time": "2021-02-02T05:52:50.686Z",
    "type": "execution"
   },
   {
    "code": "import ds100_utils\n\ndata_dir = \"./\"\nfor f in list_names:\n    if not os.path.isdir(f):\n        print(ds100_utils.head(data_dir + f, 5), \"\\n\")",
    "id": "52ef2f8c86e2480c8249847c72e27868",
    "idx": 21,
    "time": "2021-02-02T05:52:50.691Z",
    "type": "execution"
   },
   {
    "code": "# path to directory containing data\ndsDir = Path('data')\n\nbus = pd.read_csv(dsDir/'bus.csv', encoding='ISO-8859-1') # SOLUTION\nins2vio = pd.read_csv(dsDir/'ins2vio.csv') # SOLUTION\nins = pd.read_csv(dsDir/'ins.csv') # SOLUTION\nvio = pd.read_csv(dsDir/'vio.csv') # SOLUTION\n\n#This code is essential for the autograder to function properly. Do not edit\nins_test = ins",
    "id": "cb4c43fb465a40348c36cb07fc0656e3",
    "idx": 23,
    "time": "2021-02-02T05:52:50.695Z",
    "type": "execution"
   },
   {
    "code": "bus.head() # SOLUTION",
    "id": "77769c6b4d68498aa02ac9c01a4d08ab",
    "idx": 25,
    "time": "2021-02-02T05:52:50.699Z",
    "type": "execution"
   },
   {
    "code": "bus.describe() # SOLUTION",
    "id": "ae45f54fa7d84da887b51b3849fffd70",
    "idx": 27,
    "time": "2021-02-02T05:52:50.702Z",
    "type": "execution"
   },
   {
    "code": "assert all(bus.columns == ['business id column', 'name', 'address', 'city', 'state', 'postal_code',\n                           'latitude', 'longitude', 'phone_number'])\nassert 6250 <= len(bus) <= 6260\n\nassert all(ins.columns == ['iid', 'date', 'score', 'type'])\nassert 26660 <= len(ins) <= 26670\n\nassert all(vio.columns == ['description', 'risk_category', 'vid'])\nassert 60 <= len(vio) <= 65\n\nassert all(ins2vio.columns == ['iid', 'vid'])\nassert 40210 <= len(ins2vio) <= 40220",
    "id": "c32f8f2f8aa8489a8ffe71bed0c00034",
    "idx": 30,
    "time": "2021-02-02T05:52:50.707Z",
    "type": "execution"
   },
   {
    "code": "bus_summary = pd.DataFrame(**{'columns': ['business id column', 'latitude', 'longitude'],\n 'data': {'business id column': {'50%': 75685.0, 'max': 102705.0, 'min': 19.0},\n  'latitude': {'50%': -9999.0, 'max': 37.824494, 'min': -9999.0},\n  'longitude': {'50%': -9999.0,\n   'max': 0.0,\n   'min': -9999.0}},\n 'index': ['min', '50%', 'max']})\n\nins_summary = pd.DataFrame(**{'columns': ['score'],\n 'data': {'score': {'50%': 76.0, 'max': 100.0, 'min': -1.0}},\n 'index': ['min', '50%', 'max']})\n\nvio_summary = pd.DataFrame(**{'columns': ['vid'],\n 'data': {'vid': {'50%': 103135.0, 'max': 103177.0, 'min': 103102.0}},\n 'index': ['min', '50%', 'max']})\n\nfrom IPython.display import display\n\nprint('What we expect from your Businesses dataframe:')\ndisplay(bus_summary)\nprint('What we expect from your Inspections dataframe:')\ndisplay(ins_summary)\nprint('What we expect from your Violations dataframe:')\ndisplay(vio_summary)",
    "id": "5c6a065403e3489e877a7a170ccbf3b2",
    "idx": 32,
    "time": "2021-02-02T05:52:50.711Z",
    "type": "execution"
   },
   {
    "code": "\"\"\"Run this cell to load this utility comparison function that we will use in various\ntests below (both tests you can see and those we run internally for grading).\n\nDo not modify the function in any way.\n\"\"\"\n\n\ndef df_allclose(actual, desired, columns=None, rtol=5e-2):\n    \"\"\"Compare selected columns of two dataframes on a few summary statistics.\n    \n    Compute the min, median and max of the two dataframes on the given columns, and compare\n    that they match numerically to the given relative tolerance.\n    \n    If they don't match, an AssertionError is raised (by `numpy.testing`).\n    \"\"\"    \n    # summary statistics to compare on\n    stats = ['min', '50%', 'max']\n    \n    # For the desired values, we can provide a full DF with the same structure as\n    # the actual data, or pre-computed summary statistics.\n    # We assume a pre-computed summary was provided if columns is None. In that case, \n    # `desired` *must* have the same structure as the actual's summary\n    if columns is None:\n        des = desired\n        columns = desired.columns\n    else:\n        des = desired[columns].describe().loc[stats]\n\n    # Extract summary stats from actual DF\n    act = actual[columns].describe().loc[stats]\n\n    return np.allclose(act, des, rtol)",
    "id": "b7f13a877f3e4a7a8a24a1a66b934b37",
    "idx": 35,
    "time": "2021-02-02T05:52:50.715Z",
    "type": "execution"
   },
   {
    "code": "# TEST\ndf_allclose(bus.rename(columns = {\"bid\" : \"business id column\"}), bus_summary)",
    "id": "356e4fcbcc90414db4d2b0010b566ce8",
    "idx": 36,
    "time": "2021-02-02T05:52:50.718Z",
    "type": "execution"
   },
   {
    "code": "# TEST\ndf_allclose(ins_test, ins_summary)",
    "id": "454a11ab013a4708b92730a0299cd81e",
    "idx": 37,
    "time": "2021-02-02T05:52:50.721Z",
    "type": "execution"
   },
   {
    "code": "# TEST\ndf_allclose(vio, vio_summary)",
    "id": "0ec9e0a4ee2f4f738bb0fcdea4b6e8a4",
    "idx": 38,
    "time": "2021-02-02T05:52:50.724Z",
    "type": "execution"
   },
   {
    "code": "# TEST\ndf_allclose(ins2vio, vio_summary)",
    "id": "0872e66c2964410e856aff9be7ca1b8e",
    "idx": 39,
    "time": "2021-02-02T05:52:50.727Z",
    "type": "execution"
   },
   {
    "code": "# HIDDEN TEST\ndf_allclose(bus.rename(columns = {\"bid\" : \"business id column\"}), pd.read_csv(dsDir/'bus.csv', encoding='ISO-8859-1'), ['business id column', 'latitude', 'longitude'])",
    "id": "97e28069a15b4a5e8f0239d657275e38",
    "idx": 40,
    "time": "2021-02-02T05:52:50.729Z",
    "type": "execution"
   },
   {
    "code": "# HIDDEN TEST\ndf_allclose(ins_test, pd.read_csv(dsDir/'ins.csv'), ['iid', 'score'])",
    "id": "35bcc60524ad48fc9f031951240f8026",
    "idx": 41,
    "time": "2021-02-02T05:52:50.733Z",
    "type": "execution"
   },
   {
    "code": "# HIDDEN TEST\ndf_allclose(vio, pd.read_csv(dsDir/'vio.csv'), ['vid'])",
    "id": "ae53c18ebc5d422799d0b51c4046da49",
    "idx": 42,
    "time": "2021-02-02T05:52:50.736Z",
    "type": "execution"
   },
   {
    "code": "# HIDDEN TEST\ndf_allclose(ins2vio, pd.read_csv(dsDir/'ins2vio.csv'), ['vid'])",
    "id": "3414bb46db1a40178a0f56f09f9c5183",
    "idx": 43,
    "time": "2021-02-02T05:52:50.738Z",
    "type": "execution"
   },
   {
    "code": "bus.head()",
    "id": "f4db0e969abe455d8f2cf31dd9bfda13",
    "idx": 50,
    "time": "2021-02-02T05:52:50.746Z",
    "type": "execution"
   },
   {
    "code": "bus = bus.rename(columns={\"business id column\": \"bid\"})",
    "id": "fc5a74591b4d43d58c0fd375ad0f5f0d",
    "idx": 52,
    "time": "2021-02-02T05:52:50.750Z",
    "type": "execution"
   },
   {
    "code": "is_bid_unique = bus['bid'].value_counts().max() == 1 # SOLUTION",
    "id": "f86fdd5b5e0541528d78cb18f71b19e1",
    "idx": 54,
    "time": "2021-02-02T05:52:50.754Z",
    "type": "execution"
   },
   {
    "code": "# TEST\nis_bid_unique or ~is_bid_unique",
    "id": "befbc87f3b3946f88879e3cc0460986b",
    "idx": 55,
    "time": "2021-02-02T05:52:50.757Z",
    "type": "execution"
   },
   {
    "code": "# HIDDEN TEST\nis_bid_unique",
    "id": "04589c86449c41a68694d8bc18ba313e",
    "idx": 56,
    "time": "2021-02-02T05:52:50.760Z",
    "type": "execution"
   },
   {
    "code": "top_names = np.array(bus['name'].value_counts()[:5].index) # SOLUTION\ntop_names",
    "id": "2f662f6077184ddc87951025de905e08",
    "idx": 58,
    "time": "2021-02-02T05:52:50.764Z",
    "type": "execution"
   },
   {
    "code": "top_addresses = np.array(bus['address'].value_counts()[:5].index) # SOLUTION\ntop_addresses",
    "id": "23492ee1d3954f3089ed3261edf96e61",
    "idx": 59,
    "time": "2021-02-02T05:52:50.767Z",
    "type": "execution"
   },
   {
    "code": "# TEST\nassert type(top_names) == np.ndarray\nassert type(top_addresses) == np.ndarray\nassert len(top_names) == 5\nlen(top_addresses) == 5",
    "id": "e6d02ce8645847c9b738547ba8ffbe93",
    "idx": 60,
    "time": "2021-02-02T05:52:50.770Z",
    "type": "execution"
   },
   {
    "code": "# TEST \nassert top_names[0] == \"Peet's Coffee & Tea\"\ntop_addresses[0] == 'Off The Grid'",
    "id": "f3c7e778c9d740e783fb61d89ef8bcc7",
    "idx": 61,
    "time": "2021-02-02T05:52:50.772Z",
    "type": "execution"
   },
   {
    "code": "# HIDDEN TEST\nnp.all(top_names == np.array(bus['name'].value_counts()[:5].index))",
    "id": "69edd217c33e4a31a14398cd64e4a768",
    "idx": 62,
    "time": "2021-02-02T05:52:50.775Z",
    "type": "execution"
   },
   {
    "code": "# HIDDEN TEST\nnp.all(top_addresses == np.array(bus['address'].value_counts()[:5].index))",
    "id": "be7dd94c679241c0854376534e3f6129",
    "idx": 63,
    "time": "2021-02-02T05:52:50.778Z",
    "type": "execution"
   },
   {
    "code": "# What does each record represent?  Valid answers are:\n#    \"One location of a restaurant.\"\n#    \"A chain of restaurants.\"\n#    \"A city block.\"\nq1e_part1 = \"One location of a restaurant.\" # SOLUTION\n\n# What is the minimal primary key? Valid answers are:\n#    \"bid\"\n#    \"bid, name\"\n#    \"bid, name, address\"\nq1e_part2 = \"bid\" # SOLUTION",
    "id": "041d848957d54e0c8741c5128e0f2945",
    "idx": 65,
    "time": "2021-02-02T05:52:50.781Z",
    "type": "execution"
   },
   {
    "code": "# TEST\nq1e_part1 in set([\"One location of a restaurant.\", \"A chain of restaurants.\", \"A city block.\"])",
    "id": "4d705aef1fac44f99712f5b5e0d2034d",
    "idx": 66,
    "time": "2021-02-02T05:52:50.784Z",
    "type": "execution"
   },
   {
    "code": "# TEST\nq1e_part2 in set([\"bid\", \"bid, name\", \"bid, name, address\"])",
    "id": "4d148b1959ac45d489a3934c2abd0228",
    "idx": 67,
    "time": "2021-02-02T05:52:50.788Z",
    "type": "execution"
   },
   {
    "code": "# HIDDEN TEST\nq1e_part1 == \"One location of a restaurant.\" ",
    "id": "b068a15157e345898f6af02450bd1719",
    "idx": 68,
    "time": "2021-02-02T05:52:50.792Z",
    "type": "execution"
   },
   {
    "code": "# HIDDEN TEST\nq1e_part2 == \"bid\"",
    "id": "28b461631ac041a980bbd70490fd94d7",
    "idx": 69,
    "time": "2021-02-02T05:52:50.795Z",
    "type": "execution"
   },
   {
    "code": "zip_counts = bus.groupby(\"postal_code\").size().sort_values(ascending=False) # SOLUTION\nprint(zip_counts.to_string())",
    "id": "1c988bdd842c46aa8be91a514e784f04",
    "idx": 72,
    "time": "2021-02-02T05:52:50.800Z",
    "type": "execution"
   },
   {
    "code": "# TEST\ntype(zip_counts) == pd.Series",
    "id": "b2fc89b93ac244478ce417afd21ba729",
    "idx": 73,
    "time": "2021-02-02T05:52:50.803Z",
    "type": "execution"
   },
   {
    "code": "# TEST\nzip_counts.shape[0] == 63",
    "id": "ef1a77b0ba9c4dde9bf2377e20fbfb6b",
    "idx": 74,
    "time": "2021-02-02T05:52:50.806Z",
    "type": "execution"
   },
   {
    "code": "# TEST\nzip_counts[\"94103\"] == 562",
    "id": "2c18893f172740e0b997759920a7f319",
    "idx": 75,
    "time": "2021-02-02T05:52:50.809Z",
    "type": "execution"
   },
   {
    "code": "# HIDDEN TEST\nnp.isclose(zip_counts.var(), bus['postal_code'].value_counts().var())",
    "id": "06d2851fae3a4b508b49b6ad0d7e5003",
    "idx": 76,
    "time": "2021-02-02T05:52:50.813Z",
    "type": "execution"
   },
   {
    "code": "# HIDDEN TEST\nnp.isclose(zip_counts.mean(), bus['postal_code'].value_counts().mean())",
    "id": "1a0db5b14cd244b386f98d239e040733",
    "idx": 77,
    "time": "2021-02-02T05:52:50.817Z",
    "type": "execution"
   },
   {
    "code": "# The ZIP code column is which of the following type of data:\n#   \"Quantitative Continuous\" \n#   \"Quantitative Discrete\"\n#   \"Qualitative Ordinal\"\n#   \"Qualitative Nominal\"\nq2b_part1 = \"Qualitative Nominal\" # SOLUTION\n\n# What Python data type is used to represent a ZIP code? \n#    \"str\"\n#    \"int\"\n#    \"bool\"\n#    \"float\"\nq2b_part2 = \"str\" # SOLUTION",
    "id": "35175a49f556497d9fd405c8e53fb33f",
    "idx": 79,
    "time": "2021-02-02T05:52:50.821Z",
    "type": "execution"
   },
   {
    "code": "# TEST\nq2b_part1 in set([\"Quantitative Continuous\", \"Quantitative Discrete\", \n                  \"Qualitative Ordinal\", \"Qualitative Nominal\"])",
    "id": "ebe0c3ba228b4c5e8178fc87f97dc50c",
    "idx": 80,
    "time": "2021-02-02T05:52:50.824Z",
    "type": "execution"
   },
   {
    "code": "# TEST\nq2b_part2 in set([\"str\", \"int\", \"bool\", \"float\"])",
    "id": "8d61047c8b404c448e53a4ddc7579b76",
    "idx": 81,
    "time": "2021-02-02T05:52:50.827Z",
    "type": "execution"
   },
   {
    "code": "# HIDDEN TEST\nq2b_part1 == \"Qualitative Nominal\"",
    "id": "885f7264e17c409cb24cfaef19e07b8d",
    "idx": 82,
    "time": "2021-02-02T05:52:50.830Z",
    "type": "execution"
   },
   {
    "code": "# HIDDEN TEST\nq2b_part2 == \"str\"",
    "id": "6c0f806e85004e48b55fb09acc600d48",
    "idx": 83,
    "time": "2021-02-02T05:52:50.834Z",
    "type": "execution"
   },
   {
    "code": "valid_zips = pd.read_json(\"data/sf_zipcodes.json\", dtype=\"str\")['zip_codes'] # SOLUTION\nvalid_zips.head()",
    "id": "3a38106fd03d439384c29f3869d0bd89",
    "idx": 86,
    "time": "2021-02-02T05:52:50.839Z",
    "type": "execution"
   },
   {
    "code": "# TEST\nvalid_zips.dtype == object ",
    "id": "e8b15ac1d01a4cb1b5ff1dca7f473adf",
    "idx": 87,
    "time": "2021-02-02T05:52:50.841Z",
    "type": "execution"
   },
   {
    "code": "# TEST\ntype(valid_zips) == pd.Series",
    "id": "fff78731480e455b8c4ea827053ef717",
    "idx": 88,
    "time": "2021-02-02T05:52:50.845Z",
    "type": "execution"
   },
   {
    "code": "# HIDDEN TEST\nnp.all(valid_zips.sort_values() == pd.read_json(\"data/sf_zipcodes.json\", dtype=\"str\")['zip_codes'].sort_values()) ",
    "id": "af6e449bb3e448578e07d93066165a2f",
    "idx": 89,
    "time": "2021-02-02T05:52:50.848Z",
    "type": "execution"
   },
   {
    "code": "invalid_zip_bus = bus[~bus['postal_code'].isin(valid_zips)] # SOLUTION\ninvalid_zip_bus.head(20)",
    "id": "e156c1a1e1ec4040862bec7f7d3476a7",
    "idx": 91,
    "time": "2021-02-02T05:52:50.853Z",
    "type": "execution"
   },
   {
    "code": "# TEST\ntype(invalid_zip_bus) == pd.DataFrame",
    "id": "a1d82511e3334fc3a66c79509ad3c065",
    "idx": 92,
    "time": "2021-02-02T05:52:50.856Z",
    "type": "execution"
   },
   {
    "code": "# TEST\nlen(invalid_zip_bus) == 230",
    "id": "1aff2267cae34cd499fc51734bb53c70",
    "idx": 93,
    "time": "2021-02-02T05:52:50.860Z",
    "type": "execution"
   },
   {
    "code": "# HIDDEN TEST\nset(invalid_zip_bus['postal_code']) == set(bus[~bus['postal_code'].isin(valid_zips)]['postal_code'])",
    "id": "071308a149874816b16681ec5af7cc0f",
    "idx": 94,
    "time": "2021-02-02T05:52:50.863Z",
    "type": "execution"
   },
   {
    "code": "missing_zip_address_count = bus[bus['postal_code'] == \"-9999\"]['address'].value_counts() # SOLUTION\nmissing_zip_address_count.head()",
    "id": "bb371aa3f9ef49fa8301fb863e6127b5",
    "idx": 96,
    "time": "2021-02-02T05:52:50.867Z",
    "type": "execution"
   },
   {
    "code": "# TEST\ntype(missing_zip_address_count) == pd.Series",
    "id": "3d488270b6bf45fb8300b76c99143b49",
    "idx": 97,
    "time": "2021-02-02T05:52:50.870Z",
    "type": "execution"
   },
   {
    "code": "# TEST\nlen(missing_zip_address_count) == 135",
    "id": "8f2c6fd2e374406882f43346764db75b",
    "idx": 98,
    "time": "2021-02-02T05:52:50.874Z",
    "type": "execution"
   },
   {
    "code": "# TEST\nmissing_zip_address_count['3914 Judah St'] == 1",
    "id": "d41b8b730eee44009415494ab9082c78",
    "idx": 99,
    "time": "2021-02-02T05:52:50.877Z",
    "type": "execution"
   },
   {
    "code": "# HIDDEN TEST\nmissing_zip_address_count['Off The Grid'] == 39",
    "id": "691601e7129140529c96a5b651120e67",
    "idx": 100,
    "time": "2021-02-02T05:52:50.880Z",
    "type": "execution"
   },
   {
    "code": "# True or False: \n#  If we were to drop businesses with MISSING postal code values \n#   a particular class of business be affected.\nq2e_true_or_false = True # SOLUTION",
    "id": "c861a74b248a4506bda7532590f8914c",
    "idx": 102,
    "time": "2021-02-02T05:52:50.884Z",
    "type": "execution"
   },
   {
    "code": "# TEST\ntype(q2e_true_or_false) == bool",
    "id": "c6fcb07eaebd4aa381b6b7a9cc9abe52",
    "idx": 103,
    "time": "2021-02-02T05:52:50.887Z",
    "type": "execution"
   },
   {
    "id": "304a2ea290e344029f639f23712ea1df",
    "time": "2021-02-02T05:52:51.775Z",
    "type": "completion"
   },
   {
    "id": "a284a5e13d98491d8f958f25b40885d1",
    "time": "2021-02-02T05:52:51.834Z",
    "type": "completion"
   },
   {
    "id": "67247d0bd8e14c4f829c0d59c5f68852",
    "time": "2021-02-02T05:52:52.793Z",
    "type": "completion"
   },
   {
    "id": "8f55d84ccdea43dd8ff5290a4b9ab3c3",
    "time": "2021-02-02T05:52:52.795Z",
    "type": "completion"
   },
   {
    "id": "fe40da0515c049ff86330e9ba1c6925d",
    "time": "2021-02-02T05:52:52.872Z",
    "type": "completion"
   },
   {
    "id": "10728596518e415a8a55538a61ce9613",
    "time": "2021-02-02T05:52:53.353Z",
    "type": "completion"
   },
   {
    "id": "52ef2f8c86e2480c8249847c72e27868",
    "time": "2021-02-02T05:52:53.431Z",
    "type": "completion"
   },
   {
    "id": "cb4c43fb465a40348c36cb07fc0656e3",
    "time": "2021-02-02T05:52:53.542Z",
    "type": "completion"
   },
   {
    "id": "77769c6b4d68498aa02ac9c01a4d08ab",
    "time": "2021-02-02T05:52:53.626Z",
    "type": "completion"
   },
   {
    "id": "ae45f54fa7d84da887b51b3849fffd70",
    "time": "2021-02-02T05:52:53.758Z",
    "type": "completion"
   },
   {
    "id": "c32f8f2f8aa8489a8ffe71bed0c00034",
    "time": "2021-02-02T05:52:53.760Z",
    "type": "completion"
   },
   {
    "id": "5c6a065403e3489e877a7a170ccbf3b2",
    "time": "2021-02-02T05:52:53.816Z",
    "type": "completion"
   },
   {
    "id": "b7f13a877f3e4a7a8a24a1a66b934b37",
    "time": "2021-02-02T05:52:53.824Z",
    "type": "completion"
   },
   {
    "id": "356e4fcbcc90414db4d2b0010b566ce8",
    "time": "2021-02-02T05:52:53.826Z",
    "type": "completion"
   },
   {
    "id": "454a11ab013a4708b92730a0299cd81e",
    "time": "2021-02-02T05:52:53.827Z",
    "type": "completion"
   },
   {
    "id": "0ec9e0a4ee2f4f738bb0fcdea4b6e8a4",
    "time": "2021-02-02T05:52:53.829Z",
    "type": "completion"
   },
   {
    "id": "0872e66c2964410e856aff9be7ca1b8e",
    "time": "2021-02-02T05:52:53.881Z",
    "type": "completion"
   },
   {
    "id": "97e28069a15b4a5e8f0239d657275e38",
    "time": "2021-02-02T05:52:53.883Z",
    "type": "completion"
   },
   {
    "id": "35bcc60524ad48fc9f031951240f8026",
    "time": "2021-02-02T05:52:53.886Z",
    "type": "completion"
   },
   {
    "id": "ae53c18ebc5d422799d0b51c4046da49",
    "time": "2021-02-02T05:52:53.887Z",
    "type": "completion"
   },
   {
    "id": "3414bb46db1a40178a0f56f09f9c5183",
    "time": "2021-02-02T05:52:53.909Z",
    "type": "completion"
   },
   {
    "id": "f4db0e969abe455d8f2cf31dd9bfda13",
    "time": "2021-02-02T05:52:53.968Z",
    "type": "completion"
   },
   {
    "id": "fc5a74591b4d43d58c0fd375ad0f5f0d",
    "time": "2021-02-02T05:52:53.970Z",
    "type": "completion"
   },
   {
    "id": "f86fdd5b5e0541528d78cb18f71b19e1",
    "time": "2021-02-02T05:52:53.971Z",
    "type": "completion"
   },
   {
    "id": "befbc87f3b3946f88879e3cc0460986b",
    "time": "2021-02-02T05:52:54.024Z",
    "type": "completion"
   },
   {
    "id": "04589c86449c41a68694d8bc18ba313e",
    "time": "2021-02-02T05:52:54.026Z",
    "type": "completion"
   },
   {
    "id": "2f662f6077184ddc87951025de905e08",
    "time": "2021-02-02T05:52:54.027Z",
    "type": "completion"
   },
   {
    "id": "23492ee1d3954f3089ed3261edf96e61",
    "time": "2021-02-02T05:52:54.029Z",
    "type": "completion"
   },
   {
    "id": "e6d02ce8645847c9b738547ba8ffbe93",
    "time": "2021-02-02T05:52:54.030Z",
    "type": "completion"
   },
   {
    "id": "f3c7e778c9d740e783fb61d89ef8bcc7",
    "time": "2021-02-02T05:52:54.084Z",
    "type": "completion"
   },
   {
    "id": "69edd217c33e4a31a14398cd64e4a768",
    "time": "2021-02-02T05:52:54.089Z",
    "type": "completion"
   },
   {
    "id": "be7dd94c679241c0854376534e3f6129",
    "time": "2021-02-02T05:52:54.090Z",
    "type": "completion"
   },
   {
    "id": "041d848957d54e0c8741c5128e0f2945",
    "time": "2021-02-02T05:52:54.091Z",
    "type": "completion"
   },
   {
    "id": "4d705aef1fac44f99712f5b5e0d2034d",
    "time": "2021-02-02T05:52:54.093Z",
    "type": "completion"
   },
   {
    "id": "4d148b1959ac45d489a3934c2abd0228",
    "time": "2021-02-02T05:52:54.095Z",
    "type": "completion"
   },
   {
    "id": "b068a15157e345898f6af02450bd1719",
    "time": "2021-02-02T05:52:54.156Z",
    "type": "completion"
   },
   {
    "id": "28b461631ac041a980bbd70490fd94d7",
    "time": "2021-02-02T05:52:54.158Z",
    "type": "completion"
   },
   {
    "id": "1c988bdd842c46aa8be91a514e784f04",
    "time": "2021-02-02T05:52:54.162Z",
    "type": "completion"
   },
   {
    "id": "b2fc89b93ac244478ce417afd21ba729",
    "time": "2021-02-02T05:52:54.164Z",
    "type": "completion"
   },
   {
    "id": "ef1a77b0ba9c4dde9bf2377e20fbfb6b",
    "time": "2021-02-02T05:52:54.168Z",
    "type": "completion"
   },
   {
    "id": "2c18893f172740e0b997759920a7f319",
    "time": "2021-02-02T05:52:54.169Z",
    "type": "completion"
   },
   {
    "id": "06d2851fae3a4b508b49b6ad0d7e5003",
    "time": "2021-02-02T05:52:54.238Z",
    "type": "completion"
   },
   {
    "id": "1a0db5b14cd244b386f98d239e040733",
    "time": "2021-02-02T05:52:54.241Z",
    "type": "completion"
   },
   {
    "id": "35175a49f556497d9fd405c8e53fb33f",
    "time": "2021-02-02T05:52:54.242Z",
    "type": "completion"
   },
   {
    "id": "ebe0c3ba228b4c5e8178fc87f97dc50c",
    "time": "2021-02-02T05:52:54.264Z",
    "type": "completion"
   },
   {
    "id": "8d61047c8b404c448e53a4ddc7579b76",
    "time": "2021-02-02T05:52:54.266Z",
    "type": "completion"
   },
   {
    "id": "885f7264e17c409cb24cfaef19e07b8d",
    "time": "2021-02-02T05:52:54.267Z",
    "type": "completion"
   },
   {
    "id": "6c0f806e85004e48b55fb09acc600d48",
    "time": "2021-02-02T05:52:54.369Z",
    "type": "completion"
   },
   {
    "id": "3a38106fd03d439384c29f3869d0bd89",
    "time": "2021-02-02T05:52:54.371Z",
    "type": "completion"
   },
   {
    "id": "e8b15ac1d01a4cb1b5ff1dca7f473adf",
    "time": "2021-02-02T05:52:54.373Z",
    "type": "completion"
   },
   {
    "id": "fff78731480e455b8c4ea827053ef717",
    "time": "2021-02-02T05:52:54.374Z",
    "type": "completion"
   },
   {
    "id": "af6e449bb3e448578e07d93066165a2f",
    "time": "2021-02-02T05:52:54.376Z",
    "type": "completion"
   },
   {
    "id": "e156c1a1e1ec4040862bec7f7d3476a7",
    "time": "2021-02-02T05:52:54.452Z",
    "type": "completion"
   },
   {
    "id": "a1d82511e3334fc3a66c79509ad3c065",
    "time": "2021-02-02T05:52:54.482Z",
    "type": "completion"
   },
   {
    "id": "1aff2267cae34cd499fc51734bb53c70",
    "time": "2021-02-02T05:52:54.484Z",
    "type": "completion"
   },
   {
    "id": "071308a149874816b16681ec5af7cc0f",
    "time": "2021-02-02T05:52:54.486Z",
    "type": "completion"
   },
   {
    "id": "bb371aa3f9ef49fa8301fb863e6127b5",
    "time": "2021-02-02T05:52:54.487Z",
    "type": "completion"
   },
   {
    "id": "3d488270b6bf45fb8300b76c99143b49",
    "time": "2021-02-02T05:52:54.517Z",
    "type": "completion"
   },
   {
    "id": "8f2c6fd2e374406882f43346764db75b",
    "time": "2021-02-02T05:52:54.519Z",
    "type": "completion"
   },
   {
    "id": "d41b8b730eee44009415494ab9082c78",
    "time": "2021-02-02T05:52:54.520Z",
    "type": "completion"
   },
   {
    "id": "691601e7129140529c96a5b651120e67",
    "time": "2021-02-02T05:52:54.522Z",
    "type": "completion"
   },
   {
    "id": "c861a74b248a4506bda7532590f8914c",
    "time": "2021-02-02T05:52:54.523Z",
    "type": "completion"
   },
   {
    "id": "c6fcb07eaebd4aa381b6b7a9cc9abe52",
    "time": "2021-02-02T05:52:54.525Z",
    "type": "completion"
   },
   {
    "code": "# HIDDEN TEST\nq2e_true_or_false == True",
    "id": "950fd62ef6f2466f8893af0e8d41f651",
    "idx": 104,
    "time": "2021-02-02T05:52:56.505Z",
    "type": "execution"
   },
   {
    "id": "950fd62ef6f2466f8893af0e8d41f651",
    "time": "2021-02-02T05:52:56.562Z",
    "type": "completion"
   },
   {
    "code": "bus['postal5'] = None\n# BEGIN SOLUTION\nbus['postal5'] = bus['postal_code'].str[:5]\nbus.loc[~bus['postal5'].isin(valid_zips), 'postal5'] = None \n# END SOLUTION\n\n# Checking the corrected postal5 column\nbus.reindex[invalid_zip_bus.index, ['bid', 'name', 'postal_code', 'postal5']]",
    "id": "2c3fee418bf14408be6ec5ec0db5c0a9",
    "idx": 106,
    "time": "2021-02-02T05:53:00.009Z",
    "type": "execution"
   },
   {
    "id": "2c3fee418bf14408be6ec5ec0db5c0a9",
    "time": "2021-02-02T05:53:00.235Z",
    "type": "completion"
   },
   {
    "code": "bus['postal5'] = None\n# BEGIN SOLUTION\nbus['postal5'] = bus['postal_code'].str[:5]\nbus.loc[~bus['postal5'].isin(valid_zips), 'postal5'] = None \n# END SOLUTION\n\n# Checking the corrected postal5 column\nbus.loc[invalid_zip_bus.index, ['bid', 'name', 'postal_code', 'postal5']]",
    "id": "2c3fee418bf14408be6ec5ec0db5c0a9",
    "idx": 106,
    "time": "2021-02-02T05:53:06.243Z",
    "type": "execution"
   },
   {
    "id": "2c3fee418bf14408be6ec5ec0db5c0a9",
    "time": "2021-02-02T05:53:06.317Z",
    "type": "completion"
   },
   {
    "code": "bus['postal5'] = None\n# BEGIN SOLUTION\nbus['postal5'] = bus['postal_code'].str[:5]\nbus.loc[~bus['postal5'].isin(valid_zips), 'postal5'] = None \n# END SOLUTION\n\n# Checking the corrected postal5 column\nbus.reindex(columns=['bid', 'name', 'postal_code', 'postal5'])\n# bus.loc[invalid_zip_bus.index, ['bid', 'name', 'postal_code', 'postal5']]",
    "id": "2c3fee418bf14408be6ec5ec0db5c0a9",
    "idx": 106,
    "time": "2021-02-02T05:53:57.713Z",
    "type": "execution"
   },
   {
    "id": "2c3fee418bf14408be6ec5ec0db5c0a9",
    "time": "2021-02-02T05:53:57.819Z",
    "type": "completion"
   },
   {
    "code": "bus['postal5'] = None\n# BEGIN SOLUTION\nbus['postal5'] = bus['postal_code'].str[:5]\nbus.loc[~bus['postal5'].isin(valid_zips), 'postal5'] = None \n# END SOLUTION\n\n# Checking the corrected postal5 column\n# bus.reindex(columns=['bid', 'name', 'postal_code', 'postal5'])\n# bus.loc[invalid_zip_bus.index, ['bid', 'name', 'postal_code', 'postal5']]",
    "id": "2c3fee418bf14408be6ec5ec0db5c0a9",
    "idx": 106,
    "time": "2021-02-02T05:54:01.515Z",
    "type": "execution"
   },
   {
    "id": "2c3fee418bf14408be6ec5ec0db5c0a9",
    "time": "2021-02-02T05:54:01.605Z",
    "type": "completion"
   },
   {
    "code": "bus['postal5'] = None\n# BEGIN SOLUTION\nbus['postal5'] = bus['postal_code'].str[:5]\nbus.loc[~bus['postal5'].isin(valid_zips), 'postal5'] = None \n# END SOLUTION\n\n# Checking the corrected postal5 column\n# bus.reindex(columns=['bid', 'name', 'postal_code', 'postal5'])\nbus.loc[invalid_zip_bus.index, ['bid', 'name', 'postal_code', 'postal5']]",
    "id": "2c3fee418bf14408be6ec5ec0db5c0a9",
    "idx": 106,
    "time": "2021-02-02T05:54:03.800Z",
    "type": "execution"
   },
   {
    "id": "2c3fee418bf14408be6ec5ec0db5c0a9",
    "time": "2021-02-02T05:54:03.868Z",
    "type": "completion"
   },
   {
    "code": "bus['postal5'] = None\n# BEGIN SOLUTION\nbus['postal5'] = bus['postal_code'].str[:5]\nbus.loc[~bus['postal5'].isin(valid_zips), 'postal5'] = None \n# END SOLUTION\n\n# Checking the corrected postal5 column\nbus.reindex(columns=['bid', 'name', 'postal_code', 'postal5'])\n# bus.loc[invalid_zip_bus.index, ['bid', 'name', 'postal_code', 'postal5']]",
    "id": "2c3fee418bf14408be6ec5ec0db5c0a9",
    "idx": 106,
    "time": "2021-02-02T05:54:10.259Z",
    "type": "execution"
   },
   {
    "id": "2c3fee418bf14408be6ec5ec0db5c0a9",
    "time": "2021-02-02T05:54:10.745Z",
    "type": "completion"
   },
   {
    "code": "bus['postal5'] = None\n# BEGIN SOLUTION\nbus['postal5'] = bus['postal_code'].str[:5]\nbus.loc[~bus['postal5'].isin(valid_zips), 'postal5'] = None \n# END SOLUTION\n\n# Checking the corrected postal5 column\nbus.loc[invalid_zip_bus.index, ['bid', 'name', 'postal_code', 'postal5']]",
    "id": "2c3fee418bf14408be6ec5ec0db5c0a9",
    "idx": 106,
    "time": "2021-02-02T05:54:42.133Z",
    "type": "execution"
   },
   {
    "id": "2c3fee418bf14408be6ec5ec0db5c0a9",
    "time": "2021-02-02T05:54:42.274Z",
    "type": "completion"
   },
   {
    "code": "# TEST\n'postal5' in bus.columns",
    "id": "a704e13f1a924a9391f77b04de536c53",
    "idx": 107,
    "time": "2021-02-02T05:54:45.053Z",
    "type": "execution"
   },
   {
    "id": "a704e13f1a924a9391f77b04de536c53",
    "time": "2021-02-02T05:54:45.125Z",
    "type": "completion"
   },
   {
    "code": "# TEST\n(bus['postal5'].str.len() != 5).sum() == 221",
    "id": "565ee28a5ae4430eac8a8beabbcbdfeb",
    "idx": 108,
    "time": "2021-02-02T05:54:45.430Z",
    "type": "execution"
   },
   {
    "id": "565ee28a5ae4430eac8a8beabbcbdfeb",
    "time": "2021-02-02T05:54:45.513Z",
    "type": "completion"
   },
   {
    "code": "# TEST\nbus['postal5'].isin(valid_zips).sum() == 6032",
    "id": "0fc759cb921c4258ab273b177f5d9161",
    "idx": 109,
    "time": "2021-02-02T05:54:45.784Z",
    "type": "execution"
   },
   {
    "id": "0fc759cb921c4258ab273b177f5d9161",
    "time": "2021-02-02T05:54:45.842Z",
    "type": "completion"
   },
   {
    "code": "# TEST\nbus['postal5'].isna().sum() == 221",
    "id": "3b96358551bb40be8268be8e721fbe41",
    "idx": 110,
    "time": "2021-02-02T05:54:45.962Z",
    "type": "execution"
   },
   {
    "id": "3b96358551bb40be8268be8e721fbe41",
    "time": "2021-02-02T05:54:46.029Z",
    "type": "completion"
   },
   {
    "code": "# HIDDEN TEST\n(bus['postal5'] == \"-9999\").sum() == 0",
    "id": "8551de73fe324030b8646015e730f674",
    "idx": 111,
    "time": "2021-02-02T05:54:46.350Z",
    "type": "execution"
   },
   {
    "id": "8551de73fe324030b8646015e730f674",
    "time": "2021-02-02T05:54:46.443Z",
    "type": "completion"
   },
   {
    "code": "# HIDDEN TEST\nbus['postal5'].isna().sum() == 221",
    "id": "23f92b878bb8444a8ac989f5dba6cf2e",
    "idx": 112,
    "time": "2021-02-02T05:54:46.756Z",
    "type": "execution"
   },
   {
    "id": "23f92b878bb8444a8ac989f5dba6cf2e",
    "time": "2021-02-02T05:54:46.850Z",
    "type": "completion"
   },
   {
    "code": "ins.head(5)",
    "id": "6cd3acefb5bc486cba4424279385238b",
    "idx": 115,
    "time": "2021-02-02T05:54:49.497Z",
    "type": "execution"
   },
   {
    "id": "6cd3acefb5bc486cba4424279385238b",
    "time": "2021-02-02T05:54:49.560Z",
    "type": "completion"
   },
   {
    "code": "is_ins_iid_a_primary_key = ins['iid'].value_counts().max() == 1 # SOLUTION",
    "id": "77d4da6af80448628f61a57159f41fb4",
    "idx": 117,
    "time": "2021-02-02T05:54:52.192Z",
    "type": "execution"
   },
   {
    "id": "77d4da6af80448628f61a57159f41fb4",
    "time": "2021-02-02T05:54:52.276Z",
    "type": "completion"
   },
   {
    "code": "# TEST\ntype(is_ins_iid_a_primary_key) == bool or type(is_ins_iid_a_primary_key) == np.bool_",
    "id": "9a6737eb87a04a568ff0b61768b2e1c9",
    "idx": 118,
    "time": "2021-02-02T05:54:52.488Z",
    "type": "execution"
   },
   {
    "id": "9a6737eb87a04a568ff0b61768b2e1c9",
    "time": "2021-02-02T05:54:52.705Z",
    "type": "completion"
   },
   {
    "code": "# HIDDEN TEST\nis_ins_iid_a_primary_key == True",
    "id": "9e80a502285c4a448bf2c4a58b853d1c",
    "idx": 119,
    "time": "2021-02-02T05:54:52.837Z",
    "type": "execution"
   },
   {
    "id": "9e80a502285c4a448bf2c4a58b853d1c",
    "time": "2021-02-02T05:54:52.916Z",
    "type": "completion"
   },
   {
    "code": "ins['bid'] = ins['iid'].str.split(\"_\", expand=True)[0].astype(int) # SOLUTION",
    "id": "fcf43096017d42c581f5bc08b772f4c7",
    "idx": 122,
    "time": "2021-02-02T05:55:02.788Z",
    "type": "execution"
   },
   {
    "id": "fcf43096017d42c581f5bc08b772f4c7",
    "time": "2021-02-02T05:55:02.922Z",
    "type": "completion"
   },
   {
    "code": "# TEST\n'bid' in ins.columns",
    "id": "ffd6ce2bc415438a93bc6efe3dac3e7a",
    "idx": 123,
    "time": "2021-02-02T05:55:03.354Z",
    "type": "execution"
   },
   {
    "id": "ffd6ce2bc415438a93bc6efe3dac3e7a",
    "time": "2021-02-02T05:55:03.433Z",
    "type": "completion"
   },
   {
    "code": "# TEST\nins['bid'].dtype == int",
    "id": "9bf90c5321114c7386c2ace3c7345174",
    "idx": 124,
    "time": "2021-02-02T05:55:03.714Z",
    "type": "execution"
   },
   {
    "id": "9bf90c5321114c7386c2ace3c7345174",
    "time": "2021-02-02T05:55:03.777Z",
    "type": "completion"
   },
   {
    "code": "# TEST\nlen(ins[ins['score'] > 0]['bid'].unique()) == 5724",
    "id": "6a2f7abfede044078deb84cfcdd3fad4",
    "idx": 125,
    "time": "2021-02-02T05:55:03.916Z",
    "type": "execution"
   },
   {
    "id": "6a2f7abfede044078deb84cfcdd3fad4",
    "time": "2021-02-02T05:55:03.978Z",
    "type": "completion"
   },
   {
    "code": "# HIDDEN TEST\nins['bid'].equals(ins['iid'].str.split(\"_\", expand=True)[0].astype(\"int\"))",
    "id": "17a8e58d07454802bf822d1a2f3a5dcd",
    "idx": 126,
    "time": "2021-02-02T05:55:04.112Z",
    "type": "execution"
   },
   {
    "id": "17a8e58d07454802bf822d1a2f3a5dcd",
    "time": "2021-02-02T05:55:04.382Z",
    "type": "completion"
   },
   {
    "code": "invalid_bid_count = (~ins['bid'].isin(bus['bid'])).sum() # SOLUTION",
    "id": "3a3ad2c0ba094b8291038f47483dbfd5",
    "idx": 128,
    "time": "2021-02-02T05:55:07.281Z",
    "type": "execution"
   },
   {
    "id": "3a3ad2c0ba094b8291038f47483dbfd5",
    "time": "2021-02-02T05:55:07.342Z",
    "type": "completion"
   },
   {
    "code": "# TEST\ninvalid_bid_count >= 0 ",
    "id": "5c39f57ca3204698a0ce10ef7ecce9e4",
    "idx": 129,
    "time": "2021-02-02T05:55:07.839Z",
    "type": "execution"
   },
   {
    "id": "5c39f57ca3204698a0ce10ef7ecce9e4",
    "time": "2021-02-02T05:55:07.894Z",
    "type": "completion"
   },
   {
    "code": "# HIDDEN TEST\ninvalid_bid_count == 0",
    "id": "558c4d6e5f34411b8fdd27d77d329401",
    "idx": 130,
    "time": "2021-02-02T05:55:08.185Z",
    "type": "execution"
   },
   {
    "id": "558c4d6e5f34411b8fdd27d77d329401",
    "time": "2021-02-02T05:55:08.282Z",
    "type": "completion"
   },
   {
    "code": "# True or False: The column ins['bid'] is a foreign key \n#   referencing the bus['bid'] primary key.\n\nq3b_is_foreign_key = True # SOLUTION",
    "id": "74cd841c9eba4a2da9aaf48986d90ca0",
    "idx": 132,
    "time": "2021-02-02T05:55:13.137Z",
    "type": "execution"
   },
   {
    "id": "74cd841c9eba4a2da9aaf48986d90ca0",
    "time": "2021-02-02T05:55:13.216Z",
    "type": "completion"
   },
   {
    "code": "# TEST\ntype(q3b_is_foreign_key) == bool",
    "id": "c25861cad8484d9f84e770b94c290704",
    "idx": 133,
    "time": "2021-02-02T05:55:13.465Z",
    "type": "execution"
   },
   {
    "id": "c25861cad8484d9f84e770b94c290704",
    "time": "2021-02-02T05:55:13.526Z",
    "type": "completion"
   },
   {
    "code": "# HIDDEN TEST\nq3b_is_foreign_key == True",
    "id": "586d730881c74dd68e6c05197d60102e",
    "idx": 134,
    "time": "2021-02-02T05:55:13.636Z",
    "type": "execution"
   },
   {
    "id": "586d730881c74dd68e6c05197d60102e",
    "time": "2021-02-02T05:55:13.760Z",
    "type": "completion"
   },
   {
    "code": "ins_date_type = type(ins['date'][0]) # SOLUTION\nins_date_type",
    "id": "23d396e10b9b4bf089421507e4550278",
    "idx": 137,
    "time": "2021-02-02T05:55:16.591Z",
    "type": "execution"
   },
   {
    "id": "23d396e10b9b4bf089421507e4550278",
    "time": "2021-02-02T05:55:16.653Z",
    "type": "completion"
   },
   {
    "code": "# TEST\ntype(ins_date_type) == type",
    "id": "4e2c2337e2b241ab840e436430f817e6",
    "idx": 138,
    "time": "2021-02-02T05:55:18.038Z",
    "type": "execution"
   },
   {
    "id": "4e2c2337e2b241ab840e436430f817e6",
    "time": "2021-02-02T05:55:18.096Z",
    "type": "completion"
   },
   {
    "code": "# HIDDEN TEST\nins_date_type == str",
    "id": "366fe1165cc34f68aa29e196a7da6a4e",
    "idx": 139,
    "time": "2021-02-02T05:55:18.396Z",
    "type": "execution"
   },
   {
    "id": "366fe1165cc34f68aa29e196a7da6a4e",
    "time": "2021-02-02T05:55:18.445Z",
    "type": "completion"
   },
   {
    "code": "ins['timestamp'] = pd.to_datetime(ins['date']) # SOLUTION",
    "id": "ca82894daaa24281bde3d3fc14f39ef7",
    "idx": 141,
    "time": "2021-02-02T05:55:20.814Z",
    "type": "execution"
   },
   {
    "id": "ca82894daaa24281bde3d3fc14f39ef7",
    "time": "2021-02-02T05:55:20.962Z",
    "type": "completion"
   },
   {
    "code": "# TEST\ntype(ins['timestamp'][1]) == pd.Timestamp",
    "id": "9497dc743e844bc58a2f404028876f03",
    "idx": 142,
    "time": "2021-02-02T05:55:20.986Z",
    "type": "execution"
   },
   {
    "id": "9497dc743e844bc58a2f404028876f03",
    "time": "2021-02-02T05:55:21.038Z",
    "type": "completion"
   },
   {
    "code": "earliest_date = ins['timestamp'].min() # SOLUTION\nlatest_date = ins['timestamp'].max() # SOLUTION\n\nprint(\"Earliest Date:\", earliest_date)\nprint(\"Latest Date:\", latest_date)",
    "id": "2da6fe717855441380e9fa807b0a1069",
    "idx": 144,
    "time": "2021-02-02T05:55:23.220Z",
    "type": "execution"
   },
   {
    "id": "2da6fe717855441380e9fa807b0a1069",
    "time": "2021-02-02T05:55:23.328Z",
    "type": "completion"
   },
   {
    "code": "# TEST\ntype(earliest_date) == pd.Timestamp",
    "id": "a44a9fb2d1a747ce9b8375fe97bb0250",
    "idx": 145,
    "time": "2021-02-02T05:55:23.388Z",
    "type": "execution"
   },
   {
    "id": "a44a9fb2d1a747ce9b8375fe97bb0250",
    "time": "2021-02-02T05:55:23.460Z",
    "type": "completion"
   },
   {
    "code": "# TEST\ntype(latest_date) == pd.Timestamp",
    "id": "59269340975c40409101127178fa9a36",
    "idx": 146,
    "time": "2021-02-02T05:55:23.566Z",
    "type": "execution"
   },
   {
    "id": "59269340975c40409101127178fa9a36",
    "time": "2021-02-02T05:55:23.629Z",
    "type": "completion"
   },
   {
    "code": "# HIDDEN TEST\nearliest_date == pd.Timestamp('2016-10-04 00:00:00')",
    "id": "ca51b8dc16684648b4f8696a17c940b7",
    "idx": 147,
    "time": "2021-02-02T05:55:23.718Z",
    "type": "execution"
   },
   {
    "id": "ca51b8dc16684648b4f8696a17c940b7",
    "time": "2021-02-02T05:55:23.779Z",
    "type": "completion"
   },
   {
    "code": "# HIDDEN TEST\nlatest_date == pd.Timestamp('2019-11-28 00:00:00')",
    "id": "80b8db352ada4a2780c12e17ae9a7a44",
    "idx": 148,
    "time": "2021-02-02T05:55:23.875Z",
    "type": "execution"
   },
   {
    "id": "80b8db352ada4a2780c12e17ae9a7a44",
    "time": "2021-02-02T05:55:23.931Z",
    "type": "completion"
   },
   {
    "code": "ins['year'] = ins['timestamp'].dt.year # SOLUTION",
    "id": "308bfb6d3613422d850c7a3ced6b7c3b",
    "idx": 150,
    "time": "2021-02-02T05:55:26.320Z",
    "type": "execution"
   },
   {
    "id": "308bfb6d3613422d850c7a3ced6b7c3b",
    "time": "2021-02-02T05:55:26.390Z",
    "type": "completion"
   },
   {
    "code": "# TEST\n'year' in ins.columns",
    "id": "cef42f6f6a8845628e0d1f358a0a0bd1",
    "idx": 151,
    "time": "2021-02-02T05:55:26.491Z",
    "type": "execution"
   },
   {
    "id": "cef42f6f6a8845628e0d1f358a0a0bd1",
    "time": "2021-02-02T05:55:26.575Z",
    "type": "completion"
   },
   {
    "code": "# HIDDEN TEST\nset(ins[ins['score'] > 0]['year'].value_counts()) == {959, 4043, 4355, 4674}",
    "id": "dfe5633fc379416584a6e1da90f64fcb",
    "idx": 152,
    "time": "2021-02-02T05:55:26.620Z",
    "type": "execution"
   },
   {
    "id": "dfe5633fc379416584a6e1da90f64fcb",
    "time": "2021-02-02T05:55:26.674Z",
    "type": "completion"
   },
   {
    "code": "ins.head()",
    "id": "2c1da63c637f4e65aac5e92e2f607e7e",
    "idx": 153,
    "time": "2021-02-02T05:55:26.777Z",
    "type": "execution"
   },
   {
    "id": "2c1da63c637f4e65aac5e92e2f607e7e",
    "time": "2021-02-02T05:55:26.844Z",
    "type": "completion"
   },
   {
    "code": "ins_pivot = ins.pivot_table(columns = \"year\", index = \"type\", aggfunc = len, fill_value = 0) # SOLUTION\nins_pivot = ins_pivot[\"bid\"] # SOLUTION\nins_pivot['Total'] = ins_pivot.sum(axis=1) # SOLUTION\nins_pivot_sorted = ins_pivot.sort_values('Total', ascending=False) # SOLUTION\nins_pivot_sorted",
    "id": "bacefff4513f4a2db9e6337913a14e1f",
    "idx": 156,
    "time": "2021-02-02T05:55:57.612Z",
    "type": "execution"
   },
   {
    "id": "bacefff4513f4a2db9e6337913a14e1f",
    "time": "2021-02-02T05:55:57.732Z",
    "type": "completion"
   },
   {
    "code": "# TEST\nset(ins_pivot_sorted.columns) == {2016, 2017, 2018, 2019, 'Total'}",
    "id": "846bbc955f114f7286c94b5a520fa835",
    "idx": 157,
    "time": "2021-02-02T05:55:58.220Z",
    "type": "execution"
   },
   {
    "id": "846bbc955f114f7286c94b5a520fa835",
    "time": "2021-02-02T05:55:58.279Z",
    "type": "completion"
   },
   {
    "code": "# TEST\nlen(ins_pivot_sorted) == 15",
    "id": "d852e67418d340e58c0379746cc5ef25",
    "idx": 158,
    "time": "2021-02-02T05:55:58.649Z",
    "type": "execution"
   },
   {
    "id": "d852e67418d340e58c0379746cc5ef25",
    "time": "2021-02-02T05:55:58.779Z",
    "type": "completion"
   },
   {
    "code": "# HIDDEN TEST\nins_pivot_sorted.loc[\"Routine - Unscheduled\", 2016] == 966",
    "id": "841829facbb1438cbb781c7801770284",
    "idx": 159,
    "time": "2021-02-02T05:55:58.980Z",
    "type": "execution"
   },
   {
    "id": "841829facbb1438cbb781c7801770284",
    "time": "2021-02-02T05:55:59.045Z",
    "type": "completion"
   },
   {
    "code": "# HIDDEN TEST\nins_pivot_sorted.iloc[0,4] == 14077",
    "id": "ee0f5725611549cd8ab7c0efde8c6961",
    "idx": 160,
    "time": "2021-02-02T05:55:59.369Z",
    "type": "execution"
   },
   {
    "id": "ee0f5725611549cd8ab7c0efde8c6961",
    "time": "2021-02-02T05:55:59.433Z",
    "type": "completion"
   },
   {
    "code": "# HIDDEN TEST\nins_pivot_sorted.loc[\"New Ownership - Followup\", 2016] == 0",
    "id": "76c1f2dd806d40bc84c2ed4d4151a089",
    "idx": 161,
    "time": "2021-02-02T05:55:59.780Z",
    "type": "execution"
   },
   {
    "id": "76c1f2dd806d40bc84c2ed4d4151a089",
    "time": "2021-02-02T05:55:59.845Z",
    "type": "completion"
   },
   {
    "code": "year_of_new_construction = 2017 # SOLUTION",
    "id": "daa21b38ff154d569e25466ad220f374",
    "idx": 163,
    "time": "2021-02-02T05:56:04.317Z",
    "type": "execution"
   },
   {
    "id": "daa21b38ff154d569e25466ad220f374",
    "time": "2021-02-02T05:56:04.395Z",
    "type": "completion"
   },
   {
    "code": "# TEST\ntype(year_of_new_construction) == int",
    "id": "2ac2292acd1149eba2096c6e591e12bf",
    "idx": 164,
    "time": "2021-02-02T05:56:04.700Z",
    "type": "execution"
   },
   {
    "id": "2ac2292acd1149eba2096c6e591e12bf",
    "time": "2021-02-02T05:56:04.761Z",
    "type": "completion"
   },
   {
    "code": "# HIDDEN TEST\nyear_of_new_construction == 2017",
    "id": "2175df2338fc4d18ad9fec27cf7fa807",
    "idx": 165,
    "time": "2021-02-02T05:56:04.897Z",
    "type": "execution"
   },
   {
    "id": "2175df2338fc4d18ad9fec27cf7fa807",
    "time": "2021-02-02T05:56:04.962Z",
    "type": "completion"
   },
   {
    "code": "ins['score'].value_counts().head()",
    "id": "e5078d24795a48dd877f2e70fdf08bdd",
    "idx": 167,
    "time": "2021-02-02T05:56:07.354Z",
    "type": "execution"
   },
   {
    "id": "e5078d24795a48dd877f2e70fdf08bdd",
    "time": "2021-02-02T05:56:07.422Z",
    "type": "completion"
   },
   {
    "code": "ins_missing_score_pivot = ...\n\n# BEGIN SOLUTION\nins['Missing Score'] = (ins['score'] == -1).astype(\"str\")\n\nins_missing_score_pivot = ins.pivot_table(\n    index = \"type\", \n    columns = \"Missing Score\",\n    aggfunc = 'size',\n    fill_value = 0\n)\nins_missing_score_pivot['Total'] = ins_missing_score_pivot.sum(axis=1)\nins_missing_score_pivot.sort_values('Total', inplace=True, ascending=False)\nins_missing_score_pivot\n# END SOLUTION",
    "id": "0bcecb2def8343d087ed0bfc815b2524",
    "idx": 170,
    "time": "2021-02-02T05:56:16.457Z",
    "type": "execution"
   },
   {
    "id": "0bcecb2def8343d087ed0bfc815b2524",
    "time": "2021-02-02T05:56:16.597Z",
    "type": "completion"
   },
   {
    "code": "# TEST\nif type(ins_missing_score_pivot) == pd.DataFrame:\n    if False in ins_missing_score_pivot.columns: \n        ins_missing_score_pivot.rename(columns={False:\"False\"}, errors=\"raise\",inplace=True)\n    if True in ins_missing_score_pivot.columns:\n        ins_missing_score_pivot.rename(columns={True:\"True\"}, errors=\"raise\",inplace=True)\ntype(ins_missing_score_pivot) == pd.DataFrame",
    "id": "86314355067b465f90c81e4158915454",
    "idx": 171,
    "time": "2021-02-02T05:56:17.285Z",
    "type": "execution"
   },
   {
    "id": "86314355067b465f90c81e4158915454",
    "time": "2021-02-02T05:56:17.356Z",
    "type": "completion"
   },
   {
    "code": "# HIDDEN TEST\nset(ins_missing_score_pivot.columns) == {'False', 'Total', 'True'}",
    "id": "7212e149124c46be817d2e6b2c8dc138",
    "idx": 172,
    "time": "2021-02-02T05:56:17.860Z",
    "type": "execution"
   },
   {
    "id": "7212e149124c46be817d2e6b2c8dc138",
    "time": "2021-02-02T05:56:17.927Z",
    "type": "completion"
   },
   {
    "code": "# HIDDEN TEST\nlen(ins_missing_score_pivot) == 15",
    "id": "85428539452344699068bc3a56dfc0d9",
    "idx": 173,
    "time": "2021-02-02T05:56:18.100Z",
    "type": "execution"
   },
   {
    "id": "85428539452344699068bc3a56dfc0d9",
    "time": "2021-02-02T05:56:18.172Z",
    "type": "completion"
   },
   {
    "code": "# HIDDEN TEST\nins_missing_score_pivot[\"False\"][\"Routine - Unscheduled\"] == 14031 ",
    "id": "d6c7db51f4984fc188764074950434fe",
    "idx": 174,
    "time": "2021-02-02T05:56:18.285Z",
    "type": "execution"
   },
   {
    "id": "d6c7db51f4984fc188764074950434fe",
    "time": "2021-02-02T05:56:18.347Z",
    "type": "completion"
   },
   {
    "code": "# HIDDEN TEST\nins_missing_score_pivot.iloc[0,2] == 14077",
    "id": "6847e891337c4fc881565343ea4446bc",
    "idx": 175,
    "time": "2021-02-02T05:56:18.748Z",
    "type": "execution"
   },
   {
    "id": "6847e891337c4fc881565343ea4446bc",
    "time": "2021-02-02T05:56:18.796Z",
    "type": "completion"
   },
   {
    "code": "ins = ins[ins[\"score\"] > 0]",
    "id": "3b66b26d8ecf4b3aab96d14ba69411fe",
    "idx": 179,
    "time": "2021-02-02T05:56:24.793Z",
    "type": "execution"
   },
   {
    "id": "3b66b26d8ecf4b3aab96d14ba69411fe",
    "time": "2021-02-02T05:56:24.861Z",
    "type": "completion"
   },
   {
    "code": "ins_named = ...\n# BEGIN SOLUTION\nins_named = ins.merge(bus[[\"bid\", \"name\", \"address\"]], how=\"left\", left_on = \"bid\", right_on = \"bid\") \n# END SOLUTION\nins_named.head()",
    "id": "bf01cf0838904f0e8a7b86df2399e029",
    "idx": 181,
    "time": "2021-02-02T05:56:29.925Z",
    "type": "execution"
   },
   {
    "id": "bf01cf0838904f0e8a7b86df2399e029",
    "time": "2021-02-02T05:56:30.041Z",
    "type": "completion"
   },
   {
    "code": "# TEST\n\"name\" in ins_named and \"address\" in ins_named",
    "id": "5ca10b51d0264c62862534cf6267dc6d",
    "idx": 182,
    "time": "2021-02-02T05:56:51.457Z",
    "type": "execution"
   },
   {
    "id": "5ca10b51d0264c62862534cf6267dc6d",
    "time": "2021-02-02T05:56:51.540Z",
    "type": "completion"
   },
   {
    "code": "# TEST\nins_named[ins_named[\"Missing Score\"] == True].shape[0] == 0",
    "id": "62304467d3624aeb8f43dcfdc49aa8d5",
    "idx": 183,
    "time": "2021-02-02T05:56:51.630Z",
    "type": "execution"
   },
   {
    "id": "62304467d3624aeb8f43dcfdc49aa8d5",
    "time": "2021-02-02T05:56:51.694Z",
    "type": "completion"
   },
   {
    "code": "# TEST\nins_named.reset_index()['date'].equals(ins[ins['score'] > 0].reset_index()['date'])",
    "id": "14dc73b63dd843dd87d910a228f179b6",
    "idx": 184,
    "time": "2021-02-02T05:56:51.787Z",
    "type": "execution"
   },
   {
    "id": "14dc73b63dd843dd87d910a228f179b6",
    "time": "2021-02-02T05:56:51.864Z",
    "type": "completion"
   },
   {
    "code": "# HIDDEN TEST\nnp.isclose(sum(ins_named['name'].isnull()), 0, rtol=5)",
    "id": "12cea5a4795941b8839ee36dcaa6eefd",
    "idx": 185,
    "time": "2021-02-02T05:56:51.929Z",
    "type": "execution"
   },
   {
    "id": "12cea5a4795941b8839ee36dcaa6eefd",
    "time": "2021-02-02T05:56:51.995Z",
    "type": "completion"
   },
   {
    "code": "# HIDDEN TEST\nsol_merged = ins.merge(bus[[\"bid\", \"name\", \"address\"]], how=\"left\", left_on = \"bid\", right_on = \"bid\")\nins_named.equals(sol_merged[sol_merged[\"score\"] > 0])",
    "id": "ab3b450117d24ef08b417b4afb7dabd3",
    "idx": 186,
    "time": "2021-02-02T05:56:52.061Z",
    "type": "execution"
   },
   {
    "id": "ab3b450117d24ef08b417b4afb7dabd3",
    "time": "2021-02-02T05:56:52.162Z",
    "type": "completion"
   },
   {
    "code": "twenty_lowest_scoring = ... \n# BEGIN SOLUTION\ntwenty_lowest_scoring = (\n    ins_named.groupby('bid', as_index=False)\n        .aggregate({'name': 'first', 'score': 'median'})\n        .sort_values(['score', 'bid'] )\n        .rename(columns={'score': 'median score'})\n        .head(20)\n)\n# END SOLUTION\n\ntwenty_lowest_scoring",
    "id": "a683e3513d794c3d8becf43b93c0e3b1",
    "idx": 188,
    "time": "2021-02-02T05:57:04.102Z",
    "type": "execution"
   },
   {
    "id": "a683e3513d794c3d8becf43b93c0e3b1",
    "time": "2021-02-02T05:57:04.186Z",
    "type": "completion"
   },
   {
    "code": "# TEST\ntwenty_lowest_scoring.shape == (20, 3)",
    "id": "22bfdfe5ae524377ac6da21d8d77b6ea",
    "idx": 189,
    "time": "2021-02-02T05:57:07.713Z",
    "type": "execution"
   },
   {
    "id": "22bfdfe5ae524377ac6da21d8d77b6ea",
    "time": "2021-02-02T05:57:07.793Z",
    "type": "completion"
   },
   {
    "code": "# TEST\nset(twenty_lowest_scoring.columns) == {'bid', 'median score', 'name'}",
    "id": "975af567d85943af8163ce7e97a4c788",
    "idx": 190,
    "time": "2021-02-02T05:57:07.848Z",
    "type": "execution"
   },
   {
    "id": "975af567d85943af8163ce7e97a4c788",
    "time": "2021-02-02T05:57:07.917Z",
    "type": "completion"
   },
   {
    "code": "# HIDDEN TEST\n# print(twenty_lowest_scoring.to_html().replace(\"\\n\",\"\"))\nset(twenty_lowest_scoring[\"median score\"].values) == {54 , 57 , 58 , 60.5, 63.5, 64, \n                                                      64 , 64 , 64 , 64 , 64, 64.5, \n                                                      64.5, 64.5, 65, 65, 66, 66, 66, 66.5\n                                                      }",
    "id": "fcf275569a3b4ab68cad3881b5c899c2",
    "idx": 191,
    "time": "2021-02-02T05:57:07.973Z",
    "type": "execution"
   },
   {
    "id": "fcf275569a3b4ab68cad3881b5c899c2",
    "time": "2021-02-02T05:57:08.036Z",
    "type": "completion"
   },
   {
    "code": "# TEST\ntwenty_lowest_scoring.shape == (20, 3)",
    "id": "22bfdfe5ae524377ac6da21d8d77b6ea",
    "idx": 189,
    "time": "2021-02-02T05:57:17.615Z",
    "type": "execution"
   },
   {
    "id": "22bfdfe5ae524377ac6da21d8d77b6ea",
    "time": "2021-02-02T05:57:17.686Z",
    "type": "completion"
   },
   {
    "code": "# TEST\nset(twenty_lowest_scoring.columns) == {'bid', 'median score', 'name'}",
    "id": "975af567d85943af8163ce7e97a4c788",
    "idx": 190,
    "time": "2021-02-02T05:57:17.781Z",
    "type": "execution"
   },
   {
    "id": "975af567d85943af8163ce7e97a4c788",
    "time": "2021-02-02T05:57:17.855Z",
    "type": "completion"
   },
   {
    "code": "# HIDDEN TEST\n# print(twenty_lowest_scoring.to_html().replace(\"\\n\",\"\"))\nset(twenty_lowest_scoring[\"median score\"].values) == {54 , 57 , 58 , 60.5, 63.5, 64, \n                                                      64 , 64 , 64 , 64 , 64, 64.5, \n                                                      64.5, 64.5, 65, 65, 66, 66, 66, 66.5\n                                                      }",
    "id": "fcf275569a3b4ab68cad3881b5c899c2",
    "idx": 191,
    "time": "2021-02-02T05:57:17.904Z",
    "type": "execution"
   },
   {
    "id": "fcf275569a3b4ab68cad3881b5c899c2",
    "time": "2021-02-02T05:57:18.010Z",
    "type": "completion"
   },
   {
    "code": "low_score_violations = ...\n\n# BEGIN SOLUTION\nlow_score_violations = (\n    ins_named[ins_named['score'] < 65]\n        .merge(ins2vio, on='iid')\n        .merge(vio, on='vid')\n        .loc[:,'description']\n        .value_counts()\n        .sort_values(ascending=False)\n)\n# END SOLUTION\n\nlow_score_violations.head(20)",
    "id": "dbd1b740a81a4dc4862bb80475e8272a",
    "idx": 193,
    "time": "2021-02-02T05:57:25.348Z",
    "type": "execution"
   },
   {
    "id": "dbd1b740a81a4dc4862bb80475e8272a",
    "time": "2021-02-02T05:57:25.978Z",
    "type": "completion"
   },
   {
    "code": "# TEST\ntype(low_score_violations) == pd.Series",
    "id": "42d0773d35e74879bda5463d6d80dbad",
    "idx": 194,
    "time": "2021-02-02T05:57:30.670Z",
    "type": "execution"
   },
   {
    "id": "42d0773d35e74879bda5463d6d80dbad",
    "time": "2021-02-02T05:57:30.741Z",
    "type": "completion"
   },
   {
    "code": "# TEST\nlen(low_score_violations) == 50",
    "id": "66965e9fab7743c29da58bb5baae5440",
    "idx": 195,
    "time": "2021-02-02T05:57:30.849Z",
    "type": "execution"
   },
   {
    "id": "66965e9fab7743c29da58bb5baae5440",
    "time": "2021-02-02T05:57:30.920Z",
    "type": "completion"
   },
   {
    "code": "# TEST\nlow_score_violations[0] == 43",
    "id": "19225de1060b47a7bde23ce76623e78d",
    "idx": 196,
    "time": "2021-02-02T05:57:31.008Z",
    "type": "execution"
   },
   {
    "id": "19225de1060b47a7bde23ce76623e78d",
    "time": "2021-02-02T05:57:31.084Z",
    "type": "completion"
   },
   {
    "code": "# HIDDEN TEST\nnp.all(low_score_violations.head().values == np.array([43, 42, 40, 39, 37]))",
    "id": "d51c0a35e8014504a246eaa1f07be338",
    "idx": 197,
    "time": "2021-02-02T05:57:31.140Z",
    "type": "execution"
   },
   {
    "id": "d51c0a35e8014504a246eaa1f07be338",
    "time": "2021-02-02T05:57:31.211Z",
    "type": "completion"
   },
   {
    "code": "worst_restaurant = ...\n# BEGIN SOLUTION NO PROMPT\nworst_restaurant = ins_named.sort_values('score', ascending=False).tail(1)['name'].iloc[0]\n# END SOLUTION\nworst_restaurant",
    "id": "75bf273475834edda88c90f4e32f1223",
    "idx": 199,
    "time": "2021-02-02T05:57:40.403Z",
    "type": "execution"
   },
   {
    "id": "75bf273475834edda88c90f4e32f1223",
    "time": "2021-02-02T05:57:40.528Z",
    "type": "completion"
   },
   {
    "code": "# TEST\n(type(worst_restaurant) == str) and (len(worst_restaurant) > 0) ",
    "id": "e19dfdfe6f66462c800cafbef57fe7f0",
    "idx": 200,
    "time": "2021-02-02T05:57:41.056Z",
    "type": "execution"
   },
   {
    "id": "e19dfdfe6f66462c800cafbef57fe7f0",
    "time": "2021-02-02T05:57:41.111Z",
    "type": "completion"
   },
   {
    "code": "# HIDDEN TEST\nworst_restaurant.strip().lower() == 'lollipot'",
    "id": "28852111626841ea9aeda3235c396d33",
    "idx": 201,
    "time": "2021-02-02T05:57:41.420Z",
    "type": "execution"
   },
   {
    "id": "28852111626841ea9aeda3235c396d33",
    "time": "2021-02-02T05:57:41.477Z",
    "type": "completion"
   },
   {
    "code": "# BEGIN SOLUTION\nscore_counts = ins.loc[ins[\"score\"] > 0, 'score'].value_counts()\nplt.bar(score_counts.keys(), score_counts, edgecolor='black')\nplt.xlabel(\"Score\")\nplt.ylabel(\"Count\")\nplt.title(\"Distribution of Inspection Scores\");\n# END SOLUTION",
    "id": "f5c3c2aba53e49da8fe9e58d846aebb5",
    "idx": 204,
    "time": "2021-02-02T05:58:08.067Z",
    "type": "execution"
   },
   {
    "id": "f5c3c2aba53e49da8fe9e58d846aebb5",
    "time": "2021-02-02T05:58:08.468Z",
    "type": "completion"
   },
   {
    "code": "score_counts",
    "id": "e81ae6c7813a48068a9eb128787c66d9",
    "idx": 205,
    "time": "2021-02-02T05:58:09.100Z",
    "type": "execution"
   },
   {
    "id": "e81ae6c7813a48068a9eb128787c66d9",
    "time": "2021-02-02T05:58:09.253Z",
    "type": "completion"
   },
   {
    "code": "# BEGIN SOLUTION NO PROMPT\ndef swing(s):\n    if len(s) < 3:\n        return 0\n    return max(s) - min(s)\n\nswing_series = ins_named['score'].groupby(ins_named['bid']).agg(swing).rename('swing')\nbus_swing = pd.concat([bus.set_index('bid'), swing_series], axis=1).sort_values(\"swing\", ascending=False)\n# END SOLUTION\nmax_swing = bus_swing.iloc[0]['name'] # SOLUTION\nmax_swing",
    "id": "71720f512ec74f87bb29e13d05970f65",
    "idx": 211,
    "time": "2021-02-02T05:58:17.168Z",
    "type": "execution"
   },
   {
    "id": "71720f512ec74f87bb29e13d05970f65",
    "time": "2021-02-02T05:58:17.296Z",
    "type": "completion"
   },
   {
    "code": "# TEST\nmax_swing in set(bus['name'])",
    "id": "400ecbd0c3b6499091e99a680240a1e5",
    "idx": 212,
    "time": "2021-02-02T05:58:17.669Z",
    "type": "execution"
   },
   {
    "id": "400ecbd0c3b6499091e99a680240a1e5",
    "time": "2021-02-02T05:58:17.729Z",
    "type": "completion"
   },
   {
    "code": "# HIDDEN TEST\nmax_swing == 'Lollipot'",
    "id": "e5a8730f189b44c4b4824b3b232ebabb",
    "idx": 213,
    "time": "2021-02-02T05:58:17.928Z",
    "type": "execution"
   },
   {
    "id": "e5a8730f189b44c4b4824b3b232ebabb",
    "time": "2021-02-02T05:58:17.976Z",
    "type": "completion"
   },
   {
    "code": "ins2018 = ins[ins['year'] == 2018]\n# Create the dataframe here\nscores_pairs_by_business = ...\n# BEGIN SOLUTION NO PROMPT\n# SOLUTION 1\nscores_pairs_by_business = (ins2018.sort_values('date')\n                            .loc[:, ['bid', 'score']]\n                            .groupby('bid')\n                            .filter(lambda group: len(group)==2)\n                            .groupby('bid')\n                            .agg(list)\n                            .rename(columns={'score':'score_pair'}))\n\n# SOLUTION 2\nscores_pairs_by_business = (ins2018.sort_values('date')\n                            .groupby('bid')\n                            .filter(lambda group: len(group)==2)\n                            .groupby('bid')\n                            .agg({'score': lambda group: group.tolist()})\n                            .rename(columns={'score':'score_pair'}))\nscores_pairs_by_business.head()\n# END SOLUTION\nscores_pairs_by_business",
    "id": "6643390707e04f91852842bfafdd2f43",
    "idx": 215,
    "time": "2021-02-02T05:58:20.577Z",
    "type": "execution"
   },
   {
    "id": "6643390707e04f91852842bfafdd2f43",
    "time": "2021-02-02T05:58:20.923Z",
    "type": "completion"
   },
   {
    "code": "# TEST\nisinstance(scores_pairs_by_business, pd.DataFrame)",
    "id": "bab3e20b9aa84326827bf4e3b057334b",
    "idx": 216,
    "time": "2021-02-02T05:58:20.994Z",
    "type": "execution"
   },
   {
    "id": "bab3e20b9aa84326827bf4e3b057334b",
    "time": "2021-02-02T05:58:21.061Z",
    "type": "completion"
   },
   {
    "code": "# TEST\nscores_pairs_by_business.columns[0] == 'score_pair'",
    "id": "141af084e09a4ad18ea3569db0d61356",
    "idx": 217,
    "time": "2021-02-02T05:58:21.612Z",
    "type": "execution"
   },
   {
    "id": "141af084e09a4ad18ea3569db0d61356",
    "time": "2021-02-02T05:58:21.675Z",
    "type": "completion"
   },
   {
    "code": "# HIDDEN TEST\n\nstudent_arr = np.array(scores_pairs_by_business.values.tolist()).squeeze()\n\n# Now we will check the head score pares\n# score_pair\n# business_id\n# 24 [96, 98]\n# 45 [78, 84]\n# 66 [98, 100]\n# 67 [87, 94]\n# 76 [100, 98]\n\n([96, 98] in student_arr and\\\n    [78, 84] in student_arr and\\\n        [98, 100] in student_arr and\\\n            [87, 94] in student_arr and\\\n                [100, 98] in student_arr) == True",
    "id": "c0d1d15b29764eb1bd701aaa924416ec",
    "idx": 218,
    "time": "2021-02-02T05:58:22.118Z",
    "type": "execution"
   },
   {
    "id": "c0d1d15b29764eb1bd701aaa924416ec",
    "time": "2021-02-02T05:58:22.203Z",
    "type": "completion"
   },
   {
    "code": "# BEGIN SOLUTION\nfirst_score, second_score = zip(*scores_pairs_by_business['score_pair'])\nplt.scatter(first_score,second_score,s = 20, facecolors='none',edgecolors='b')\nplt.plot([55,100],[55,100],'r-')\nplt.xlabel('First Score')\nplt.ylabel('Second Score')\nplt.axis([55,100,55,100])\nplt.title(\"First Inspection Score vs. Second Inspection Score\");\n# END SOLUTION",
    "id": "e2c7eafe608a4aaa89cf9c158462d489",
    "idx": 220,
    "time": "2021-02-02T05:58:23.175Z",
    "type": "execution"
   },
   {
    "id": "e2c7eafe608a4aaa89cf9c158462d489",
    "time": "2021-02-02T05:58:23.713Z",
    "type": "completion"
   },
   {
    "code": "# Do not modify this line\nsns.set()\n\n# BEGIN SOLUTION\nins_17_to_19 = ins[(ins['year'] >= 2017) & (ins['year'] <= 2019)]\nins_vid_joined = ins_17_to_19.merge(ins2vio, on='iid').merge(vio, on='vid')\nplt.figure(figsize=(12,8))\nins_vid_joined['risk_cat'] = 0\nins_vid_joined.loc[ins_vid_joined['risk_category'] == \"Moderate Risk\" , 'risk_cat'] = 1\nins_vid_joined.loc[ins_vid_joined['risk_category'] == \"High Risk\", 'risk_cat'] = 2\nsns.boxplot(x=\"year\", y=\"score\", hue='risk_category', data=ins_vid_joined.sort_values(\"risk_cat\"), \n            linewidth=0.8);\n# END SOLUTION",
    "id": "426f3f9cdbaf45b78c68ea0eb8f71177",
    "idx": 224,
    "time": "2021-02-02T05:58:24.999Z",
    "type": "execution"
   },
   {
    "id": "426f3f9cdbaf45b78c68ea0eb8f71177",
    "time": "2021-02-02T05:58:25.633Z",
    "type": "completion"
   },
   {
    "code": "bus.columns",
    "id": "c4577767f9e045e889a5f87a404fd596",
    "idx": 227,
    "time": "2021-02-02T06:04:52.884Z",
    "type": "execution"
   },
   {
    "id": "c4577767f9e045e889a5f87a404fd596",
    "time": "2021-02-02T06:04:52.941Z",
    "type": "completion"
   },
   {
    "code": "ins.columns",
    "id": "f5f5e4a2bd8440a985f76478845eab0d",
    "idx": 228,
    "time": "2021-02-02T06:05:07.997Z",
    "type": "execution"
   },
   {
    "id": "f5f5e4a2bd8440a985f76478845eab0d",
    "time": "2021-02-02T06:05:08.057Z",
    "type": "completion"
   },
   {
    "code": "# YOUR QUESTION HERE (in a comment)\n\n# YOUR DATA PROCESSING AND PLOTTING HERE\n\n# YOUR SUMMARY AND CONCLUSION HERE (in a comment)",
    "id": "b41f80806e004444bf7626aa47a81a35",
    "idx": 231,
    "time": "2021-02-02T06:33:36.049Z",
    "type": "execution"
   },
   {
    "id": "b41f80806e004444bf7626aa47a81a35",
    "time": "2021-02-02T06:33:36.111Z",
    "type": "completion"
   },
   {
    "code": "# THIS CELL AND ANY CELLS ADDED BELOW WILL NOT BE GRADED",
    "id": "051d0c2c4a69481d920cd73d510d664b",
    "idx": 232,
    "time": "2021-02-02T06:33:37.917Z",
    "type": "execution"
   },
   {
    "id": "051d0c2c4a69481d920cd73d510d664b",
    "time": "2021-02-02T06:33:37.994Z",
    "type": "completion"
   },
   {
    "code": "import numpy as np\nimport pandas as pd\n\nimport matplotlib\nimport matplotlib.pyplot as plt\nimport seaborn as sns\nsns.set()\nplt.style.use('fivethirtyeight')\n\nimport zipfile\nfrom pathlib import Path\nimport os # Used to interact with the file system",
    "id": "f29fff8847ba479fbbcf1c0442d27d7e",
    "idx": 5,
    "time": "2021-02-02T17:29:41.690Z",
    "type": "execution"
   },
   {
    "id": "f29fff8847ba479fbbcf1c0442d27d7e",
    "time": "2021-02-02T17:29:42.925Z",
    "type": "completion"
   },
   {
    "code": "from pathlib import Path\ndata_dir = Path('.')\ndata_dir.mkdir(exist_ok = True)\nfile_path = data_dir / Path('data.zip')\ndest_path = file_path",
    "id": "638aa43342f64b0391e618904496297c",
    "idx": 8,
    "time": "2021-02-02T17:29:43.851Z",
    "type": "execution"
   },
   {
    "id": "638aa43342f64b0391e618904496297c",
    "time": "2021-02-02T17:29:43.924Z",
    "type": "completion"
   },
   {
    "code": "!ls",
    "id": "f4b81af3ffd6459db3df40913e9e131c",
    "idx": 10,
    "time": "2021-02-02T17:29:44.500Z",
    "type": "execution"
   },
   {
    "id": "f4b81af3ffd6459db3df40913e9e131c",
    "time": "2021-02-02T17:29:45.263Z",
    "type": "completion"
   },
   {
    "code": "my_zip = zipfile.ZipFile(dest_path, 'r')\nlist_names = my_zip.namelist()\nlist_names",
    "id": "b8d14d5940d64c868467531c10f82bcf",
    "idx": 13,
    "time": "2021-02-02T17:29:46.479Z",
    "type": "execution"
   },
   {
    "id": "b8d14d5940d64c868467531c10f82bcf",
    "time": "2021-02-02T17:29:46.601Z",
    "type": "completion"
   },
   {
    "code": "my_zip = zipfile.ZipFile(dest_path, 'r')\nfor info in my_zip.infolist():\n    print('{}\\t{}'.format(info.filename, info.file_size))",
    "id": "8dd3610cc0ff4288bf434f4a445fac75",
    "idx": 16,
    "time": "2021-02-02T17:29:49.460Z",
    "type": "execution"
   },
   {
    "id": "8dd3610cc0ff4288bf434f4a445fac75",
    "time": "2021-02-02T17:29:49.594Z",
    "type": "completion"
   },
   {
    "code": "data_dir = Path('.')\nmy_zip.extractall(data_dir)\n!ls {data_dir / Path(\"data\")}",
    "id": "50c7a158b4344f1e8b420f81edf4533b",
    "idx": 18,
    "time": "2021-02-02T17:29:49.878Z",
    "type": "execution"
   },
   {
    "code": "import ds100_utils\n\ndata_dir = \"./\"\nfor f in list_names:\n    if not os.path.isdir(f):\n        print(ds100_utils.head(data_dir + f, 5), \"\\n\")",
    "id": "b9af0fe210c5416292ab197668ac0cb2",
    "idx": 21,
    "time": "2021-02-02T17:29:50.556Z",
    "type": "execution"
   },
   {
    "id": "50c7a158b4344f1e8b420f81edf4533b",
    "time": "2021-02-02T17:29:50.908Z",
    "type": "completion"
   },
   {
    "code": "# path to directory containing data\ndsDir = Path('data')\n\nbus = pd.read_csv(dsDir/'bus.csv', encoding='ISO-8859-1') # SOLUTION\nins2vio = pd.read_csv(dsDir/'ins2vio.csv') # SOLUTION\nins = pd.read_csv(dsDir/'ins.csv') # SOLUTION\nvio = pd.read_csv(dsDir/'vio.csv') # SOLUTION\n\n#This code is essential for the autograder to function properly. Do not edit\nins_test = ins",
    "id": "96d220e1d03f41989cbad1ff9a40a944",
    "idx": 23,
    "time": "2021-02-02T17:29:50.941Z",
    "type": "execution"
   },
   {
    "id": "b9af0fe210c5416292ab197668ac0cb2",
    "time": "2021-02-02T17:29:51.021Z",
    "type": "completion"
   },
   {
    "id": "96d220e1d03f41989cbad1ff9a40a944",
    "time": "2021-02-02T17:29:51.281Z",
    "type": "completion"
   },
   {
    "code": "bus.head() # SOLUTION",
    "id": "2bc81f5b29ee40afab8008b332f36d10",
    "idx": 25,
    "time": "2021-02-02T17:29:51.343Z",
    "type": "execution"
   },
   {
    "id": "2bc81f5b29ee40afab8008b332f36d10",
    "time": "2021-02-02T17:29:51.597Z",
    "type": "completion"
   },
   {
    "code": "bus.describe() # SOLUTION",
    "id": "7644aa82fae9454687d558f656494f1b",
    "idx": 27,
    "time": "2021-02-02T17:29:51.692Z",
    "type": "execution"
   },
   {
    "id": "7644aa82fae9454687d558f656494f1b",
    "time": "2021-02-02T17:29:51.823Z",
    "type": "completion"
   },
   {
    "code": "assert all(bus.columns == ['business id column', 'name', 'address', 'city', 'state', 'postal_code',\n                           'latitude', 'longitude', 'phone_number'])\nassert 6250 <= len(bus) <= 6260\n\nassert all(ins.columns == ['iid', 'date', 'score', 'type'])\nassert 26660 <= len(ins) <= 26670\n\nassert all(vio.columns == ['description', 'risk_category', 'vid'])\nassert 60 <= len(vio) <= 65\n\nassert all(ins2vio.columns == ['iid', 'vid'])\nassert 40210 <= len(ins2vio) <= 40220",
    "id": "6e375b7e97f343658ad27549d1245e96",
    "idx": 30,
    "time": "2021-02-02T17:29:52.211Z",
    "type": "execution"
   },
   {
    "id": "6e375b7e97f343658ad27549d1245e96",
    "time": "2021-02-02T17:29:52.284Z",
    "type": "completion"
   },
   {
    "code": "bus_summary = pd.DataFrame(**{'columns': ['business id column', 'latitude', 'longitude'],\n 'data': {'business id column': {'50%': 75685.0, 'max': 102705.0, 'min': 19.0},\n  'latitude': {'50%': -9999.0, 'max': 37.824494, 'min': -9999.0},\n  'longitude': {'50%': -9999.0,\n   'max': 0.0,\n   'min': -9999.0}},\n 'index': ['min', '50%', 'max']})\n\nins_summary = pd.DataFrame(**{'columns': ['score'],\n 'data': {'score': {'50%': 76.0, 'max': 100.0, 'min': -1.0}},\n 'index': ['min', '50%', 'max']})\n\nvio_summary = pd.DataFrame(**{'columns': ['vid'],\n 'data': {'vid': {'50%': 103135.0, 'max': 103177.0, 'min': 103102.0}},\n 'index': ['min', '50%', 'max']})\n\nfrom IPython.display import display\n\nprint('What we expect from your Businesses dataframe:')\ndisplay(bus_summary)\nprint('What we expect from your Inspections dataframe:')\ndisplay(ins_summary)\nprint('What we expect from your Violations dataframe:')\ndisplay(vio_summary)",
    "id": "88dd129b2e2042548eaa6eefa09679aa",
    "idx": 32,
    "time": "2021-02-02T17:29:52.533Z",
    "type": "execution"
   },
   {
    "id": "88dd129b2e2042548eaa6eefa09679aa",
    "time": "2021-02-02T17:29:52.666Z",
    "type": "completion"
   },
   {
    "code": "\"\"\"Run this cell to load this utility comparison function that we will use in various\ntests below (both tests you can see and those we run internally for grading).\n\nDo not modify the function in any way.\n\"\"\"\n\n\ndef df_allclose(actual, desired, columns=None, rtol=5e-2):\n    \"\"\"Compare selected columns of two dataframes on a few summary statistics.\n    \n    Compute the min, median and max of the two dataframes on the given columns, and compare\n    that they match numerically to the given relative tolerance.\n    \n    If they don't match, an AssertionError is raised (by `numpy.testing`).\n    \"\"\"    \n    # summary statistics to compare on\n    stats = ['min', '50%', 'max']\n    \n    # For the desired values, we can provide a full DF with the same structure as\n    # the actual data, or pre-computed summary statistics.\n    # We assume a pre-computed summary was provided if columns is None. In that case, \n    # `desired` *must* have the same structure as the actual's summary\n    if columns is None:\n        des = desired\n        columns = desired.columns\n    else:\n        des = desired[columns].describe().loc[stats]\n\n    # Extract summary stats from actual DF\n    act = actual[columns].describe().loc[stats]\n\n    return np.allclose(act, des, rtol)",
    "id": "3783a3d9c4f64f6798fcd626c72a3edf",
    "idx": 35,
    "time": "2021-02-02T17:29:53.162Z",
    "type": "execution"
   },
   {
    "id": "3783a3d9c4f64f6798fcd626c72a3edf",
    "time": "2021-02-02T17:29:53.261Z",
    "type": "completion"
   },
   {
    "code": "# TEST\ndf_allclose(bus.rename(columns = {\"bid\" : \"business id column\"}), bus_summary)",
    "id": "0f64ccc8fd5a4ec784dad7cf2bdffa0f",
    "idx": 36,
    "time": "2021-02-02T17:29:53.342Z",
    "type": "execution"
   },
   {
    "id": "0f64ccc8fd5a4ec784dad7cf2bdffa0f",
    "time": "2021-02-02T17:29:53.478Z",
    "type": "completion"
   },
   {
    "code": "# TEST\ndf_allclose(ins_test, ins_summary)",
    "id": "92cf2d1c83b242858579cb594c6c6ccc",
    "idx": 37,
    "time": "2021-02-02T17:29:53.501Z",
    "type": "execution"
   },
   {
    "id": "92cf2d1c83b242858579cb594c6c6ccc",
    "time": "2021-02-02T17:29:53.628Z",
    "type": "completion"
   },
   {
    "code": "# TEST\ndf_allclose(vio, vio_summary)",
    "id": "138dc8597bfe46e2829e44dd0f433473",
    "idx": 38,
    "time": "2021-02-02T17:29:53.720Z",
    "type": "execution"
   },
   {
    "id": "138dc8597bfe46e2829e44dd0f433473",
    "time": "2021-02-02T17:29:53.865Z",
    "type": "completion"
   },
   {
    "code": "# TEST\ndf_allclose(ins2vio, vio_summary)",
    "id": "9d467496128a41b8bc43b3dccc57457f",
    "idx": 39,
    "time": "2021-02-02T17:29:53.947Z",
    "type": "execution"
   },
   {
    "code": "# HIDDEN TEST\ndf_allclose(bus.rename(columns = {\"bid\" : \"business id column\"}), pd.read_csv(dsDir/'bus.csv', encoding='ISO-8859-1'), ['business id column', 'latitude', 'longitude'])",
    "id": "bd001a0e59c74dea98a82ed6a507279c",
    "idx": 40,
    "time": "2021-02-02T17:29:54.096Z",
    "type": "execution"
   },
   {
    "id": "9d467496128a41b8bc43b3dccc57457f",
    "time": "2021-02-02T17:29:54.256Z",
    "type": "completion"
   },
   {
    "id": "bd001a0e59c74dea98a82ed6a507279c",
    "time": "2021-02-02T17:29:54.268Z",
    "type": "completion"
   },
   {
    "code": "# HIDDEN TEST\ndf_allclose(ins_test, pd.read_csv(dsDir/'ins.csv'), ['iid', 'score'])",
    "id": "45214897151748c68490d1a5efd9403f",
    "idx": 41,
    "time": "2021-02-02T17:29:54.402Z",
    "type": "execution"
   },
   {
    "id": "45214897151748c68490d1a5efd9403f",
    "time": "2021-02-02T17:29:54.539Z",
    "type": "completion"
   },
   {
    "code": "# HIDDEN TEST\ndf_allclose(vio, pd.read_csv(dsDir/'vio.csv'), ['vid'])",
    "id": "2f7ea175d35243b39175fe970958d967",
    "idx": 42,
    "time": "2021-02-02T17:29:54.624Z",
    "type": "execution"
   },
   {
    "code": "# HIDDEN TEST\ndf_allclose(ins2vio, pd.read_csv(dsDir/'ins2vio.csv'), ['vid'])",
    "id": "8f122a66c80c4eb48e9616d8e53a2fd6",
    "idx": 43,
    "time": "2021-02-02T17:29:54.775Z",
    "type": "execution"
   },
   {
    "id": "2f7ea175d35243b39175fe970958d967",
    "time": "2021-02-02T17:29:54.974Z",
    "type": "completion"
   },
   {
    "id": "8f122a66c80c4eb48e9616d8e53a2fd6",
    "time": "2021-02-02T17:29:55.103Z",
    "type": "completion"
   },
   {
    "code": "bus.head()",
    "id": "5491cce3ebc647c290ab7558c44ebee0",
    "idx": 50,
    "time": "2021-02-02T17:29:58.282Z",
    "type": "execution"
   },
   {
    "id": "5491cce3ebc647c290ab7558c44ebee0",
    "time": "2021-02-02T17:29:58.405Z",
    "type": "completion"
   },
   {
    "code": "bus = bus.rename(columns={\"business id column\": \"bid\"})",
    "id": "e0df4b83a99940538c93b31d00598356",
    "idx": 52,
    "time": "2021-02-02T17:29:58.658Z",
    "type": "execution"
   },
   {
    "id": "e0df4b83a99940538c93b31d00598356",
    "time": "2021-02-02T17:29:58.736Z",
    "type": "completion"
   },
   {
    "code": "import numpy as np\nimport pandas as pd\n\nimport matplotlib\nimport matplotlib.pyplot as plt\nimport seaborn as sns\nsns.set()\nplt.style.use('fivethirtyeight')\n\nimport zipfile\nfrom pathlib import Path\nimport os # Used to interact with the file system",
    "id": "c341cd0feb8a42dbba9b398a1a789df5",
    "idx": 5,
    "time": "2021-02-02T19:12:13.404Z",
    "type": "execution"
   },
   {
    "code": "from pathlib import Path\ndata_dir = Path('.')\ndata_dir.mkdir(exist_ok = True)\nfile_path = data_dir / Path('data.zip')\ndest_path = file_path",
    "id": "698b5f5fe02f4ab190f61c6380a92f9b",
    "idx": 8,
    "time": "2021-02-02T19:12:13.860Z",
    "type": "execution"
   },
   {
    "code": "!ls",
    "id": "a60a1160a6394c3280b23c479d303656",
    "idx": 10,
    "time": "2021-02-02T19:12:14.194Z",
    "type": "execution"
   },
   {
    "code": "my_zip = zipfile.ZipFile(dest_path, 'r')\nlist_names = my_zip.namelist()\nlist_names",
    "id": "9fc9fbac74d54af5a53e7f3ba3ff8515",
    "idx": 13,
    "time": "2021-02-02T19:12:14.692Z",
    "type": "execution"
   },
   {
    "id": "c341cd0feb8a42dbba9b398a1a789df5",
    "time": "2021-02-02T19:12:14.886Z",
    "type": "completion"
   },
   {
    "id": "698b5f5fe02f4ab190f61c6380a92f9b",
    "time": "2021-02-02T19:12:14.892Z",
    "type": "completion"
   },
   {
    "id": "a60a1160a6394c3280b23c479d303656",
    "time": "2021-02-02T19:12:15.625Z",
    "type": "completion"
   },
   {
    "id": "9fc9fbac74d54af5a53e7f3ba3ff8515",
    "time": "2021-02-02T19:12:15.635Z",
    "type": "completion"
   },
   {
    "code": "my_zip = zipfile.ZipFile(dest_path, 'r')\nfor info in my_zip.infolist():\n    print('{}\\t{}'.format(info.filename, info.file_size))",
    "id": "65a0e1b0a4d24ee397a6cd81e7a7de99",
    "idx": 16,
    "time": "2021-02-02T19:12:17.671Z",
    "type": "execution"
   },
   {
    "id": "65a0e1b0a4d24ee397a6cd81e7a7de99",
    "time": "2021-02-02T19:12:18.039Z",
    "type": "completion"
   },
   {
    "code": "data_dir = Path('.')\nmy_zip.extractall(data_dir)\n!ls {data_dir / Path(\"data\")}",
    "id": "96669e277e494e6681bb7ea4011ace2d",
    "idx": 18,
    "time": "2021-02-02T19:12:18.350Z",
    "type": "execution"
   },
   {
    "code": "import ds100_utils\n\ndata_dir = \"./\"\nfor f in list_names:\n    if not os.path.isdir(f):\n        print(ds100_utils.head(data_dir + f, 5), \"\\n\")",
    "id": "a7b4a45618f04137822c82c5637ecfed",
    "idx": 21,
    "time": "2021-02-02T19:12:18.940Z",
    "type": "execution"
   },
   {
    "id": "96669e277e494e6681bb7ea4011ace2d",
    "time": "2021-02-02T19:12:19.282Z",
    "type": "completion"
   },
   {
    "id": "a7b4a45618f04137822c82c5637ecfed",
    "time": "2021-02-02T19:12:19.382Z",
    "type": "completion"
   },
   {
    "code": "# path to directory containing data\ndsDir = Path('data')\n\nbus = pd.read_csv(dsDir/'bus.csv', encoding='ISO-8859-1') # SOLUTION\nins2vio = pd.read_csv(dsDir/'ins2vio.csv') # SOLUTION\nins = pd.read_csv(dsDir/'ins.csv') # SOLUTION\nvio = pd.read_csv(dsDir/'vio.csv') # SOLUTION\n\n#This code is essential for the autograder to function properly. Do not edit\nins_test = ins",
    "id": "61327bcbe7be4ffe8125a062949fad16",
    "idx": 23,
    "time": "2021-02-02T19:12:19.777Z",
    "type": "execution"
   },
   {
    "id": "61327bcbe7be4ffe8125a062949fad16",
    "time": "2021-02-02T19:12:20.036Z",
    "type": "completion"
   },
   {
    "code": "bus.head() # SOLUTION",
    "id": "710553f554a844418bc484377b152380",
    "idx": 25,
    "time": "2021-02-02T19:12:20.096Z",
    "type": "execution"
   },
   {
    "code": "bus.describe() # SOLUTION",
    "id": "b7ffd9e1bf3b48ae8025305c1167cb2b",
    "idx": 27,
    "time": "2021-02-02T19:12:20.422Z",
    "type": "execution"
   },
   {
    "id": "710553f554a844418bc484377b152380",
    "time": "2021-02-02T19:12:20.471Z",
    "type": "completion"
   },
   {
    "id": "b7ffd9e1bf3b48ae8025305c1167cb2b",
    "time": "2021-02-02T19:12:20.626Z",
    "type": "completion"
   },
   {
    "code": "assert all(bus.columns == ['business id column', 'name', 'address', 'city', 'state', 'postal_code',\n                           'latitude', 'longitude', 'phone_number'])\nassert 6250 <= len(bus) <= 6260\n\nassert all(ins.columns == ['iid', 'date', 'score', 'type'])\nassert 26660 <= len(ins) <= 26670\n\nassert all(vio.columns == ['description', 'risk_category', 'vid'])\nassert 60 <= len(vio) <= 65\n\nassert all(ins2vio.columns == ['iid', 'vid'])\nassert 40210 <= len(ins2vio) <= 40220",
    "id": "3a87d472df0843918bb44647b361634e",
    "idx": 30,
    "time": "2021-02-02T19:12:20.859Z",
    "type": "execution"
   },
   {
    "id": "3a87d472df0843918bb44647b361634e",
    "time": "2021-02-02T19:12:20.949Z",
    "type": "completion"
   },
   {
    "code": "bus_summary = pd.DataFrame(**{'columns': ['business id column', 'latitude', 'longitude'],\n 'data': {'business id column': {'50%': 75685.0, 'max': 102705.0, 'min': 19.0},\n  'latitude': {'50%': -9999.0, 'max': 37.824494, 'min': -9999.0},\n  'longitude': {'50%': -9999.0,\n   'max': 0.0,\n   'min': -9999.0}},\n 'index': ['min', '50%', 'max']})\n\nins_summary = pd.DataFrame(**{'columns': ['score'],\n 'data': {'score': {'50%': 76.0, 'max': 100.0, 'min': -1.0}},\n 'index': ['min', '50%', 'max']})\n\nvio_summary = pd.DataFrame(**{'columns': ['vid'],\n 'data': {'vid': {'50%': 103135.0, 'max': 103177.0, 'min': 103102.0}},\n 'index': ['min', '50%', 'max']})\n\nfrom IPython.display import display\n\nprint('What we expect from your Businesses dataframe:')\ndisplay(bus_summary)\nprint('What we expect from your Inspections dataframe:')\ndisplay(ins_summary)\nprint('What we expect from your Violations dataframe:')\ndisplay(vio_summary)",
    "id": "1f3ec826d9e8407fb44fff1d16844287",
    "idx": 32,
    "time": "2021-02-02T19:12:21.165Z",
    "type": "execution"
   },
   {
    "id": "1f3ec826d9e8407fb44fff1d16844287",
    "time": "2021-02-02T19:12:21.403Z",
    "type": "completion"
   },
   {
    "code": "\"\"\"Run this cell to load this utility comparison function that we will use in various\ntests below (both tests you can see and those we run internally for grading).\n\nDo not modify the function in any way.\n\"\"\"\n\n\ndef df_allclose(actual, desired, columns=None, rtol=5e-2):\n    \"\"\"Compare selected columns of two dataframes on a few summary statistics.\n    \n    Compute the min, median and max of the two dataframes on the given columns, and compare\n    that they match numerically to the given relative tolerance.\n    \n    If they don't match, an AssertionError is raised (by `numpy.testing`).\n    \"\"\"    \n    # summary statistics to compare on\n    stats = ['min', '50%', 'max']\n    \n    # For the desired values, we can provide a full DF with the same structure as\n    # the actual data, or pre-computed summary statistics.\n    # We assume a pre-computed summary was provided if columns is None. In that case, \n    # `desired` *must* have the same structure as the actual's summary\n    if columns is None:\n        des = desired\n        columns = desired.columns\n    else:\n        des = desired[columns].describe().loc[stats]\n\n    # Extract summary stats from actual DF\n    act = actual[columns].describe().loc[stats]\n\n    return np.allclose(act, des, rtol)",
    "id": "c5cbc2753313473086eaff119eea901d",
    "idx": 35,
    "time": "2021-02-02T19:12:21.640Z",
    "type": "execution"
   },
   {
    "id": "c5cbc2753313473086eaff119eea901d",
    "time": "2021-02-02T19:12:21.753Z",
    "type": "completion"
   },
   {
    "code": "# TEST\ndf_allclose(bus.rename(columns = {\"bid\" : \"business id column\"}), bus_summary)",
    "id": "2df450b05f4f4b8581011f7cd7e4ce85",
    "idx": 36,
    "time": "2021-02-02T19:12:21.786Z",
    "type": "execution"
   },
   {
    "code": "# TEST\ndf_allclose(ins_test, ins_summary)",
    "id": "e0fc3bf730ad4e178876f39dc5015546",
    "idx": 37,
    "time": "2021-02-02T19:12:21.945Z",
    "type": "execution"
   },
   {
    "code": "# TEST\ndf_allclose(vio, vio_summary)",
    "id": "22601f6eed8f4e57800722b36730fd3b",
    "idx": 38,
    "time": "2021-02-02T19:12:22.100Z",
    "type": "execution"
   },
   {
    "id": "2df450b05f4f4b8581011f7cd7e4ce85",
    "time": "2021-02-02T19:12:22.171Z",
    "type": "completion"
   },
   {
    "id": "e0fc3bf730ad4e178876f39dc5015546",
    "time": "2021-02-02T19:12:22.175Z",
    "type": "completion"
   },
   {
    "code": "# TEST\ndf_allclose(ins2vio, vio_summary)",
    "id": "0f90e15de0fb49569840d18f516cc5cb",
    "idx": 39,
    "time": "2021-02-02T19:12:22.263Z",
    "type": "execution"
   },
   {
    "id": "22601f6eed8f4e57800722b36730fd3b",
    "time": "2021-02-02T19:12:22.370Z",
    "type": "completion"
   },
   {
    "id": "0f90e15de0fb49569840d18f516cc5cb",
    "time": "2021-02-02T19:12:22.379Z",
    "type": "completion"
   },
   {
    "code": "# HIDDEN TEST\ndf_allclose(bus.rename(columns = {\"bid\" : \"business id column\"}), pd.read_csv(dsDir/'bus.csv', encoding='ISO-8859-1'), ['business id column', 'latitude', 'longitude'])",
    "id": "97d8a0c32b01499fbd350a8f761f7aa0",
    "idx": 40,
    "time": "2021-02-02T19:12:22.397Z",
    "type": "execution"
   },
   {
    "code": "# HIDDEN TEST\ndf_allclose(ins_test, pd.read_csv(dsDir/'ins.csv'), ['iid', 'score'])",
    "id": "b83711f8f95f4fb08365c6dc32ad8d55",
    "idx": 41,
    "time": "2021-02-02T19:12:22.592Z",
    "type": "execution"
   },
   {
    "id": "97d8a0c32b01499fbd350a8f761f7aa0",
    "time": "2021-02-02T19:12:22.669Z",
    "type": "completion"
   },
   {
    "code": "# HIDDEN TEST\ndf_allclose(vio, pd.read_csv(dsDir/'vio.csv'), ['vid'])",
    "id": "2ba622615d874159900f29e6b257e93f",
    "idx": 42,
    "time": "2021-02-02T19:12:22.754Z",
    "type": "execution"
   },
   {
    "code": "# HIDDEN TEST\ndf_allclose(ins2vio, pd.read_csv(dsDir/'ins2vio.csv'), ['vid'])",
    "id": "93e1d2031a7b447b8fcf53b7b325caa2",
    "idx": 43,
    "time": "2021-02-02T19:12:22.854Z",
    "type": "execution"
   },
   {
    "id": "b83711f8f95f4fb08365c6dc32ad8d55",
    "time": "2021-02-02T19:12:22.997Z",
    "type": "completion"
   },
   {
    "id": "2ba622615d874159900f29e6b257e93f",
    "time": "2021-02-02T19:12:23.054Z",
    "type": "completion"
   },
   {
    "id": "93e1d2031a7b447b8fcf53b7b325caa2",
    "time": "2021-02-02T19:12:23.058Z",
    "type": "completion"
   },
   {
    "code": "bus.head()",
    "id": "25c542753bf842f38a0ea2d8a924d082",
    "idx": 50,
    "time": "2021-02-02T19:12:24.183Z",
    "type": "execution"
   },
   {
    "id": "25c542753bf842f38a0ea2d8a924d082",
    "time": "2021-02-02T19:12:24.316Z",
    "type": "completion"
   },
   {
    "code": "bus = bus.rename(columns={\"business id column\": \"bid\"})",
    "id": "62574fc778a940e382d2bc495a9a31ee",
    "idx": 52,
    "time": "2021-02-02T19:12:25.122Z",
    "type": "execution"
   },
   {
    "id": "62574fc778a940e382d2bc495a9a31ee",
    "time": "2021-02-02T19:12:25.189Z",
    "type": "completion"
   },
   {
    "code": "is_bid_unique = bus['bid'].value_counts().max() == 1 # SOLUTION",
    "id": "3cf7464b1e594cb4852fc0a2371a70de",
    "idx": 54,
    "time": "2021-02-02T19:12:26.241Z",
    "type": "execution"
   },
   {
    "id": "3cf7464b1e594cb4852fc0a2371a70de",
    "time": "2021-02-02T19:12:26.340Z",
    "type": "completion"
   },
   {
    "code": "# TEST\nis_bid_unique or ~is_bid_unique",
    "id": "ccdd3fb0a1b8443892deea6314da7ded",
    "idx": 55,
    "time": "2021-02-02T19:12:26.589Z",
    "type": "execution"
   },
   {
    "id": "ccdd3fb0a1b8443892deea6314da7ded",
    "time": "2021-02-02T19:12:26.725Z",
    "type": "completion"
   },
   {
    "code": "# HIDDEN TEST\nis_bid_unique",
    "id": "d74f5f926f134fd28f1ef1989d5bc70a",
    "idx": 56,
    "time": "2021-02-02T19:12:26.978Z",
    "type": "execution"
   },
   {
    "id": "d74f5f926f134fd28f1ef1989d5bc70a",
    "time": "2021-02-02T19:12:27.095Z",
    "type": "completion"
   },
   {
    "code": "top_names = np.array(bus['name'].value_counts()[:5].index) # SOLUTION\ntop_names",
    "id": "3102c44d45ba46948ca163d2cf5fdfc6",
    "idx": 58,
    "time": "2021-02-02T19:12:28.066Z",
    "type": "execution"
   },
   {
    "id": "3102c44d45ba46948ca163d2cf5fdfc6",
    "time": "2021-02-02T19:12:28.207Z",
    "type": "completion"
   },
   {
    "code": "top_addresses = np.array(bus['address'].value_counts()[:5].index) # SOLUTION\ntop_addresses",
    "id": "7ac84808f32b414b80e95c7984ba037e",
    "idx": 59,
    "time": "2021-02-02T19:12:28.566Z",
    "type": "execution"
   },
   {
    "id": "7ac84808f32b414b80e95c7984ba037e",
    "time": "2021-02-02T19:12:28.708Z",
    "type": "completion"
   },
   {
    "code": "# TEST\nassert type(top_names) == np.ndarray\nassert type(top_addresses) == np.ndarray\nassert len(top_names) == 5\nlen(top_addresses) == 5",
    "id": "b9dc7052a5ea4ff48bef057d3f8155a5",
    "idx": 60,
    "time": "2021-02-02T19:12:29.157Z",
    "type": "execution"
   },
   {
    "id": "b9dc7052a5ea4ff48bef057d3f8155a5",
    "time": "2021-02-02T19:12:29.294Z",
    "type": "completion"
   },
   {
    "code": "# TEST \nassert top_names[0] == \"Peet's Coffee & Tea\"\ntop_addresses[0] == 'Off The Grid'",
    "id": "2332b5a0ca1647228004cfaf2fe4723d",
    "idx": 61,
    "time": "2021-02-02T19:12:29.493Z",
    "type": "execution"
   },
   {
    "id": "2332b5a0ca1647228004cfaf2fe4723d",
    "time": "2021-02-02T19:12:29.635Z",
    "type": "completion"
   },
   {
    "code": "# HIDDEN TEST\nnp.all(top_names == np.array(bus['name'].value_counts()[:5].index))",
    "id": "22aad868a94144f9adf85c022eb33661",
    "idx": 62,
    "time": "2021-02-02T19:12:29.876Z",
    "type": "execution"
   },
   {
    "id": "22aad868a94144f9adf85c022eb33661",
    "time": "2021-02-02T19:12:30.019Z",
    "type": "completion"
   },
   {
    "code": "# HIDDEN TEST\nnp.all(top_addresses == np.array(bus['address'].value_counts()[:5].index))",
    "id": "63b3d514eb924187a98163ff9a5b324a",
    "idx": 63,
    "time": "2021-02-02T19:12:30.429Z",
    "type": "execution"
   },
   {
    "id": "63b3d514eb924187a98163ff9a5b324a",
    "time": "2021-02-02T19:12:30.541Z",
    "type": "completion"
   },
   {
    "code": "# What does each record represent?  Valid answers are:\n#    \"One location of a restaurant.\"\n#    \"A chain of restaurants.\"\n#    \"A city block.\"\nq1e_part1 = \"One location of a restaurant.\" # SOLUTION\n\n# What is the minimal primary key? Valid answers are:\n#    \"bid\"\n#    \"bid, name\"\n#    \"bid, name, address\"\nq1e_part2 = \"bid\" # SOLUTION",
    "id": "85ab3f43a41e4913922bedcead55f00a",
    "idx": 65,
    "time": "2021-02-02T19:12:32.004Z",
    "type": "execution"
   },
   {
    "id": "85ab3f43a41e4913922bedcead55f00a",
    "time": "2021-02-02T19:12:32.120Z",
    "type": "completion"
   },
   {
    "code": "# TEST\nq1e_part1 in set([\"One location of a restaurant.\", \"A chain of restaurants.\", \"A city block.\"])",
    "id": "295962ff38ae46b78f74b2c8b8df2aa8",
    "idx": 66,
    "time": "2021-02-02T19:12:32.822Z",
    "type": "execution"
   },
   {
    "id": "295962ff38ae46b78f74b2c8b8df2aa8",
    "time": "2021-02-02T19:12:32.957Z",
    "type": "completion"
   },
   {
    "code": "# TEST\nq1e_part2 in set([\"bid\", \"bid, name\", \"bid, name, address\"])",
    "id": "10c23dd0b90f4fcbb32a863ef0c1c34c",
    "idx": 67,
    "time": "2021-02-02T19:12:33.190Z",
    "type": "execution"
   },
   {
    "id": "10c23dd0b90f4fcbb32a863ef0c1c34c",
    "time": "2021-02-02T19:12:33.323Z",
    "type": "completion"
   },
   {
    "code": "# HIDDEN TEST\nq1e_part1 == \"One location of a restaurant.\" ",
    "id": "1fd44184d9c541bbb4d4aaa9e3c06789",
    "idx": 68,
    "time": "2021-02-02T19:12:33.691Z",
    "type": "execution"
   },
   {
    "id": "1fd44184d9c541bbb4d4aaa9e3c06789",
    "time": "2021-02-02T19:12:33.817Z",
    "type": "completion"
   },
   {
    "code": "# HIDDEN TEST\nq1e_part2 == \"bid\"",
    "id": "95db99336a6d4c288e3968e3341cbb7e",
    "idx": 69,
    "time": "2021-02-02T19:12:34.199Z",
    "type": "execution"
   },
   {
    "id": "95db99336a6d4c288e3968e3341cbb7e",
    "time": "2021-02-02T19:12:34.384Z",
    "type": "completion"
   },
   {
    "code": "zip_counts = bus.groupby(\"postal_code\").size().sort_values(ascending=False) # SOLUTION\nprint(zip_counts.to_string())",
    "id": "b8303a27f4bc4396813eed0ca8330c80",
    "idx": 72,
    "time": "2021-02-02T19:12:35.888Z",
    "type": "execution"
   },
   {
    "id": "b8303a27f4bc4396813eed0ca8330c80",
    "time": "2021-02-02T19:12:36.017Z",
    "type": "completion"
   },
   {
    "code": "# TEST\ntype(zip_counts) == pd.Series",
    "id": "10b7a19bc01845d79cb2881f65a5343f",
    "idx": 73,
    "time": "2021-02-02T19:12:36.417Z",
    "type": "execution"
   },
   {
    "id": "10b7a19bc01845d79cb2881f65a5343f",
    "time": "2021-02-02T19:12:36.548Z",
    "type": "completion"
   },
   {
    "code": "# TEST\nzip_counts.shape[0] == 63",
    "id": "5176bc71e8d646abb88458375b038a21",
    "idx": 74,
    "time": "2021-02-02T19:12:36.626Z",
    "type": "execution"
   },
   {
    "id": "5176bc71e8d646abb88458375b038a21",
    "time": "2021-02-02T19:12:36.758Z",
    "type": "completion"
   },
   {
    "code": "# TEST\nzip_counts[\"94103\"] == 562",
    "id": "43f5b3e0e60a4a6c835e769d716dffed",
    "idx": 75,
    "time": "2021-02-02T19:12:37.024Z",
    "type": "execution"
   },
   {
    "id": "43f5b3e0e60a4a6c835e769d716dffed",
    "time": "2021-02-02T19:12:37.144Z",
    "type": "completion"
   },
   {
    "code": "# HIDDEN TEST\nnp.isclose(zip_counts.var(), bus['postal_code'].value_counts().var())",
    "id": "794059e3226b4f9f9954e71a55ac1e84",
    "idx": 76,
    "time": "2021-02-02T19:12:37.331Z",
    "type": "execution"
   },
   {
    "id": "794059e3226b4f9f9954e71a55ac1e84",
    "time": "2021-02-02T19:12:37.467Z",
    "type": "completion"
   },
   {
    "code": "# HIDDEN TEST\nnp.isclose(zip_counts.mean(), bus['postal_code'].value_counts().mean())",
    "id": "b982e6f76bf742f486de8ab360d13ab3",
    "idx": 77,
    "time": "2021-02-02T19:12:37.800Z",
    "type": "execution"
   },
   {
    "id": "b982e6f76bf742f486de8ab360d13ab3",
    "time": "2021-02-02T19:12:37.917Z",
    "type": "completion"
   },
   {
    "code": "# The ZIP code column is which of the following type of data:\n#   \"Quantitative Continuous\" \n#   \"Quantitative Discrete\"\n#   \"Qualitative Ordinal\"\n#   \"Qualitative Nominal\"\nq2b_part1 = \"Qualitative Nominal\" # SOLUTION\n\n# What Python data type is used to represent a ZIP code? \n#    \"str\"\n#    \"int\"\n#    \"bool\"\n#    \"float\"\nq2b_part2 = \"str\" # SOLUTION",
    "id": "a7ca7ae3b9dd48928c4691396a690113",
    "idx": 79,
    "time": "2021-02-02T19:12:40.389Z",
    "type": "execution"
   },
   {
    "id": "a7ca7ae3b9dd48928c4691396a690113",
    "time": "2021-02-02T19:12:40.495Z",
    "type": "completion"
   },
   {
    "code": "# TEST\nq2b_part1 in set([\"Quantitative Continuous\", \"Quantitative Discrete\", \n                  \"Qualitative Ordinal\", \"Qualitative Nominal\"])",
    "id": "dd64b92301624c2d8f6a0af63808f3fd",
    "idx": 80,
    "time": "2021-02-02T19:12:40.808Z",
    "type": "execution"
   },
   {
    "id": "dd64b92301624c2d8f6a0af63808f3fd",
    "time": "2021-02-02T19:12:40.945Z",
    "type": "completion"
   },
   {
    "code": "# TEST\nq2b_part2 in set([\"str\", \"int\", \"bool\", \"float\"])",
    "id": "71a0d66b4af3489fb11207d12b50bdd4",
    "idx": 81,
    "time": "2021-02-02T19:12:41.063Z",
    "type": "execution"
   },
   {
    "id": "71a0d66b4af3489fb11207d12b50bdd4",
    "time": "2021-02-02T19:12:41.186Z",
    "type": "completion"
   },
   {
    "code": "# HIDDEN TEST\nq2b_part1 == \"Qualitative Nominal\"",
    "id": "ed4bd023113a4bbeb4afb3d0e8fae5aa",
    "idx": 82,
    "time": "2021-02-02T19:12:41.301Z",
    "type": "execution"
   },
   {
    "id": "ed4bd023113a4bbeb4afb3d0e8fae5aa",
    "time": "2021-02-02T19:12:41.430Z",
    "type": "completion"
   },
   {
    "code": "# HIDDEN TEST\nq2b_part2 == \"str\"",
    "id": "3779d06fac5841629e72b11c832b47c7",
    "idx": 83,
    "time": "2021-02-02T19:12:41.512Z",
    "type": "execution"
   },
   {
    "id": "3779d06fac5841629e72b11c832b47c7",
    "time": "2021-02-02T19:12:41.707Z",
    "type": "completion"
   },
   {
    "code": "valid_zips = pd.read_json(\"data/sf_zipcodes.json\", dtype=\"str\")['zip_codes'] # SOLUTION\nvalid_zips.head()",
    "id": "0c8a9d957afe4a989b368e3cb8c46e5d",
    "idx": 86,
    "time": "2021-02-02T19:12:41.942Z",
    "type": "execution"
   },
   {
    "id": "0c8a9d957afe4a989b368e3cb8c46e5d",
    "time": "2021-02-02T19:12:42.067Z",
    "type": "completion"
   },
   {
    "code": "# TEST\nvalid_zips.dtype == object ",
    "id": "387ccc020aca43768dcb3e1d7b36cc21",
    "idx": 87,
    "time": "2021-02-02T19:12:42.153Z",
    "type": "execution"
   },
   {
    "code": "# TEST\ntype(valid_zips) == pd.Series",
    "id": "f1d468650f714ce58cfd85eb2b4e0ab0",
    "idx": 88,
    "time": "2021-02-02T19:12:42.287Z",
    "type": "execution"
   },
   {
    "code": "# HIDDEN TEST\nnp.all(valid_zips.sort_values() == pd.read_json(\"data/sf_zipcodes.json\", dtype=\"str\")['zip_codes'].sort_values()) ",
    "id": "02fefccef9db455d92ac77e60dccf7a7",
    "idx": 89,
    "time": "2021-02-02T19:12:42.432Z",
    "type": "execution"
   },
   {
    "id": "387ccc020aca43768dcb3e1d7b36cc21",
    "time": "2021-02-02T19:12:42.475Z",
    "type": "completion"
   },
   {
    "id": "f1d468650f714ce58cfd85eb2b4e0ab0",
    "time": "2021-02-02T19:12:42.478Z",
    "type": "completion"
   },
   {
    "id": "02fefccef9db455d92ac77e60dccf7a7",
    "time": "2021-02-02T19:12:42.563Z",
    "type": "completion"
   },
   {
    "code": "invalid_zip_bus = bus[~bus['postal_code'].isin(valid_zips)] # SOLUTION\ninvalid_zip_bus.head(20)",
    "id": "e20ae749b72543678dd73d4f33a5267f",
    "idx": 91,
    "time": "2021-02-02T19:12:42.747Z",
    "type": "execution"
   },
   {
    "code": "# TEST\ntype(invalid_zip_bus) == pd.DataFrame",
    "id": "047e3e47ce284fee911d392109073ade",
    "idx": 92,
    "time": "2021-02-02T19:12:42.908Z",
    "type": "execution"
   },
   {
    "id": "e20ae749b72543678dd73d4f33a5267f",
    "time": "2021-02-02T19:12:42.977Z",
    "type": "completion"
   },
   {
    "code": "# TEST\nlen(invalid_zip_bus) == 230",
    "id": "9306527d475f4aa19e655c9837911fbe",
    "idx": 93,
    "time": "2021-02-02T19:12:43.066Z",
    "type": "execution"
   },
   {
    "id": "047e3e47ce284fee911d392109073ade",
    "time": "2021-02-02T19:12:43.131Z",
    "type": "completion"
   },
   {
    "id": "9306527d475f4aa19e655c9837911fbe",
    "time": "2021-02-02T19:12:43.175Z",
    "type": "completion"
   },
   {
    "code": "# HIDDEN TEST\nset(invalid_zip_bus['postal_code']) == set(bus[~bus['postal_code'].isin(valid_zips)]['postal_code'])",
    "id": "d25aab1b8a534cee86c49dd10d192136",
    "idx": 94,
    "time": "2021-02-02T19:12:43.261Z",
    "type": "execution"
   },
   {
    "id": "d25aab1b8a534cee86c49dd10d192136",
    "time": "2021-02-02T19:12:43.484Z",
    "type": "completion"
   },
   {
    "code": "missing_zip_address_count = bus[bus['postal_code'] == \"-9999\"]['address'].value_counts() # SOLUTION\nmissing_zip_address_count.head()",
    "id": "6795e27dc3e84d889aad6edfe07ab021",
    "idx": 96,
    "time": "2021-02-02T19:12:43.565Z",
    "type": "execution"
   },
   {
    "code": "# TEST\ntype(missing_zip_address_count) == pd.Series",
    "id": "dfd2f0788e3449bbbdc7b920dc8f6ce3",
    "idx": 97,
    "time": "2021-02-02T19:12:43.704Z",
    "type": "execution"
   },
   {
    "id": "6795e27dc3e84d889aad6edfe07ab021",
    "time": "2021-02-02T19:12:43.836Z",
    "type": "completion"
   },
   {
    "code": "# TEST\nlen(missing_zip_address_count) == 135",
    "id": "bfb813249ceb4307891faf55da00bd8a",
    "idx": 98,
    "time": "2021-02-02T19:12:43.851Z",
    "type": "execution"
   },
   {
    "id": "dfd2f0788e3449bbbdc7b920dc8f6ce3",
    "time": "2021-02-02T19:12:43.914Z",
    "type": "completion"
   },
   {
    "id": "bfb813249ceb4307891faf55da00bd8a",
    "time": "2021-02-02T19:12:43.988Z",
    "type": "completion"
   },
   {
    "code": "# TEST\nmissing_zip_address_count['3914 Judah St'] == 1",
    "id": "c903ae7384f04952be00417cbfc6b894",
    "idx": 99,
    "time": "2021-02-02T19:12:44.006Z",
    "type": "execution"
   },
   {
    "id": "c903ae7384f04952be00417cbfc6b894",
    "time": "2021-02-02T19:12:44.108Z",
    "type": "completion"
   },
   {
    "code": "# HIDDEN TEST\nmissing_zip_address_count['Off The Grid'] == 39",
    "id": "eb737250ad284a939e0ed86d352a5d28",
    "idx": 100,
    "time": "2021-02-02T19:12:44.199Z",
    "type": "execution"
   },
   {
    "id": "eb737250ad284a939e0ed86d352a5d28",
    "time": "2021-02-02T19:12:44.309Z",
    "type": "completion"
   },
   {
    "code": "# True or False: \n#  If we were to drop businesses with MISSING postal code values \n#   a particular class of business be affected.\nq2e_true_or_false = True # SOLUTION",
    "id": "4a747102aeb74880a9e469df42075bec",
    "idx": 102,
    "time": "2021-02-02T19:12:44.478Z",
    "type": "execution"
   },
   {
    "id": "4a747102aeb74880a9e469df42075bec",
    "time": "2021-02-02T19:12:44.560Z",
    "type": "completion"
   },
   {
    "code": "# TEST\ntype(q2e_true_or_false) == bool",
    "id": "4b3e189e64374b858683f6eeceb2cbea",
    "idx": 103,
    "time": "2021-02-02T19:12:44.622Z",
    "type": "execution"
   },
   {
    "id": "4b3e189e64374b858683f6eeceb2cbea",
    "time": "2021-02-02T19:12:44.747Z",
    "type": "completion"
   },
   {
    "code": "# HIDDEN TEST\nq2e_true_or_false == True",
    "id": "285d4fcfffe944c28539697623af9b94",
    "idx": 104,
    "time": "2021-02-02T19:12:44.826Z",
    "type": "execution"
   },
   {
    "id": "285d4fcfffe944c28539697623af9b94",
    "time": "2021-02-02T19:12:44.952Z",
    "type": "completion"
   },
   {
    "code": "bus['postal5'] = None\n# BEGIN SOLUTION\nbus['postal5'] = bus['postal_code'].str[:5]\nbus.loc[~bus['postal5'].isin(valid_zips), 'postal5'] = None \n# END SOLUTION\n\n# Checking the corrected postal5 column\nbus.loc[invalid_zip_bus.index, ['bid', 'name', 'postal_code', 'postal5']]",
    "id": "e14a8e4cb4c748bd866f725245a36082",
    "idx": 106,
    "time": "2021-02-02T19:12:45.133Z",
    "type": "execution"
   },
   {
    "id": "e14a8e4cb4c748bd866f725245a36082",
    "time": "2021-02-02T19:12:45.278Z",
    "type": "completion"
   },
   {
    "code": "# TEST\n'postal5' in bus.columns",
    "id": "281134f4223a45fc8f85d292f0f33054",
    "idx": 107,
    "time": "2021-02-02T19:12:45.372Z",
    "type": "execution"
   },
   {
    "code": "# TEST\n(bus['postal5'].str.len() != 5).sum() == 221",
    "id": "9de69f34468042b4826d1c0e38db6813",
    "idx": 108,
    "time": "2021-02-02T19:12:45.513Z",
    "type": "execution"
   },
   {
    "code": "# TEST\nbus['postal5'].isin(valid_zips).sum() == 6032",
    "id": "ed5f34e9eea441068c88c585deb30b35",
    "idx": 109,
    "time": "2021-02-02T19:12:45.658Z",
    "type": "execution"
   },
   {
    "id": "281134f4223a45fc8f85d292f0f33054",
    "time": "2021-02-02T19:12:45.721Z",
    "type": "completion"
   },
   {
    "id": "9de69f34468042b4826d1c0e38db6813",
    "time": "2021-02-02T19:12:45.724Z",
    "type": "completion"
   },
   {
    "code": "# TEST\nbus['postal5'].isna().sum() == 221",
    "id": "42d79067b63040448dbe9d6b55bafe7f",
    "idx": 110,
    "time": "2021-02-02T19:12:45.802Z",
    "type": "execution"
   },
   {
    "id": "ed5f34e9eea441068c88c585deb30b35",
    "time": "2021-02-02T19:12:45.872Z",
    "type": "completion"
   },
   {
    "id": "42d79067b63040448dbe9d6b55bafe7f",
    "time": "2021-02-02T19:12:45.909Z",
    "type": "completion"
   },
   {
    "code": "# HIDDEN TEST\n(bus['postal5'] == \"-9999\").sum() == 0",
    "id": "4cf30f360ca8463497bed37e01154224",
    "idx": 111,
    "time": "2021-02-02T19:12:45.992Z",
    "type": "execution"
   },
   {
    "code": "# HIDDEN TEST\nbus['postal5'].isna().sum() == 221",
    "id": "b2f2ed2e14f54243816169f2b798b574",
    "idx": 112,
    "time": "2021-02-02T19:12:46.135Z",
    "type": "execution"
   },
   {
    "id": "4cf30f360ca8463497bed37e01154224",
    "time": "2021-02-02T19:12:46.295Z",
    "type": "completion"
   },
   {
    "id": "b2f2ed2e14f54243816169f2b798b574",
    "time": "2021-02-02T19:12:46.365Z",
    "type": "completion"
   },
   {
    "code": "ins.head(5)",
    "id": "fbaf2acf0a2f4912af538ca48cc39b93",
    "idx": 115,
    "time": "2021-02-02T19:12:46.602Z",
    "type": "execution"
   },
   {
    "id": "fbaf2acf0a2f4912af538ca48cc39b93",
    "time": "2021-02-02T19:12:46.723Z",
    "type": "completion"
   },
   {
    "code": "is_ins_iid_a_primary_key = ins['iid'].value_counts().max() == 1 # SOLUTION",
    "id": "0866d13a420e49b181eda8f702061893",
    "idx": 117,
    "time": "2021-02-02T19:12:46.962Z",
    "type": "execution"
   },
   {
    "id": "0866d13a420e49b181eda8f702061893",
    "time": "2021-02-02T19:12:47.059Z",
    "type": "completion"
   },
   {
    "code": "# TEST\ntype(is_ins_iid_a_primary_key) == bool or type(is_ins_iid_a_primary_key) == np.bool_",
    "id": "6bccf475657a415e85949864b3e4fed9",
    "idx": 118,
    "time": "2021-02-02T19:12:47.123Z",
    "type": "execution"
   },
   {
    "id": "6bccf475657a415e85949864b3e4fed9",
    "time": "2021-02-02T19:12:47.246Z",
    "type": "completion"
   },
   {
    "code": "# HIDDEN TEST\nis_ins_iid_a_primary_key == True",
    "id": "c05dcc62688347ab933e770126ff49b5",
    "idx": 119,
    "time": "2021-02-02T19:12:47.323Z",
    "type": "execution"
   },
   {
    "id": "c05dcc62688347ab933e770126ff49b5",
    "time": "2021-02-02T19:12:47.455Z",
    "type": "completion"
   },
   {
    "code": "ins['bid'] = ins['iid'].str.split(\"_\", expand=True)[0].astype(int) # SOLUTION",
    "id": "1bb44a2a156942118715e1770b76bcc2",
    "idx": 122,
    "time": "2021-02-02T19:12:48.166Z",
    "type": "execution"
   },
   {
    "id": "1bb44a2a156942118715e1770b76bcc2",
    "time": "2021-02-02T19:12:48.292Z",
    "type": "completion"
   },
   {
    "code": "# TEST\n'bid' in ins.columns",
    "id": "479e40e33beb44a48765fa4a90edaec7",
    "idx": 123,
    "time": "2021-02-02T19:12:48.334Z",
    "type": "execution"
   },
   {
    "id": "479e40e33beb44a48765fa4a90edaec7",
    "time": "2021-02-02T19:12:48.481Z",
    "type": "completion"
   },
   {
    "code": "# TEST\nins['bid'].dtype == int",
    "id": "0afd946edb684881b68f8a159ee8ed0f",
    "idx": 124,
    "time": "2021-02-02T19:12:48.557Z",
    "type": "execution"
   },
   {
    "id": "0afd946edb684881b68f8a159ee8ed0f",
    "time": "2021-02-02T19:12:48.685Z",
    "type": "completion"
   },
   {
    "code": "# TEST\nlen(ins[ins['score'] > 0]['bid'].unique()) == 5724",
    "id": "a32530ac1f61475db6cda0a67a785140",
    "idx": 125,
    "time": "2021-02-02T19:12:48.699Z",
    "type": "execution"
   },
   {
    "id": "a32530ac1f61475db6cda0a67a785140",
    "time": "2021-02-02T19:12:48.799Z",
    "type": "completion"
   },
   {
    "code": "# HIDDEN TEST\nins['bid'].equals(ins['iid'].str.split(\"_\", expand=True)[0].astype(\"int\"))",
    "id": "4caa62bd3288405586e0a444839b67f3",
    "idx": 126,
    "time": "2021-02-02T19:12:48.881Z",
    "type": "execution"
   },
   {
    "id": "4caa62bd3288405586e0a444839b67f3",
    "time": "2021-02-02T19:12:48.994Z",
    "type": "completion"
   },
   {
    "code": "invalid_bid_count = (~ins['bid'].isin(bus['bid'])).sum() # SOLUTION",
    "id": "8ece2ff4b41b46db916351c66ac46b46",
    "idx": 128,
    "time": "2021-02-02T19:12:49.233Z",
    "type": "execution"
   },
   {
    "id": "8ece2ff4b41b46db916351c66ac46b46",
    "time": "2021-02-02T19:12:49.326Z",
    "type": "completion"
   },
   {
    "code": "# TEST\ninvalid_bid_count >= 0 ",
    "id": "0c5034a1f75a414fb3cbaadf54bbe0bb",
    "idx": 129,
    "time": "2021-02-02T19:12:49.402Z",
    "type": "execution"
   },
   {
    "id": "0c5034a1f75a414fb3cbaadf54bbe0bb",
    "time": "2021-02-02T19:12:49.535Z",
    "type": "completion"
   },
   {
    "code": "# HIDDEN TEST\ninvalid_bid_count == 0",
    "id": "d197aa5f072c4a2889d510a10d9f5edf",
    "idx": 130,
    "time": "2021-02-02T19:12:49.614Z",
    "type": "execution"
   },
   {
    "id": "d197aa5f072c4a2889d510a10d9f5edf",
    "time": "2021-02-02T19:12:49.728Z",
    "type": "completion"
   },
   {
    "code": "# True or False: The column ins['bid'] is a foreign key \n#   referencing the bus['bid'] primary key.\n\nq3b_is_foreign_key = True # SOLUTION",
    "id": "32bd90f4c39d46718bea8606f1f64b8c",
    "idx": 132,
    "time": "2021-02-02T19:12:49.955Z",
    "type": "execution"
   },
   {
    "id": "32bd90f4c39d46718bea8606f1f64b8c",
    "time": "2021-02-02T19:12:50.042Z",
    "type": "completion"
   },
   {
    "code": "# TEST\ntype(q3b_is_foreign_key) == bool",
    "id": "01a5a7e8a08a419f8022cd7e6f1605e3",
    "idx": 133,
    "time": "2021-02-02T19:12:50.140Z",
    "type": "execution"
   },
   {
    "id": "01a5a7e8a08a419f8022cd7e6f1605e3",
    "time": "2021-02-02T19:12:50.270Z",
    "type": "completion"
   },
   {
    "code": "# HIDDEN TEST\nq3b_is_foreign_key == True",
    "id": "23bc7237b90f451f8000d39d6cf2dcaf",
    "idx": 134,
    "time": "2021-02-02T19:12:50.347Z",
    "type": "execution"
   },
   {
    "id": "23bc7237b90f451f8000d39d6cf2dcaf",
    "time": "2021-02-02T19:12:50.506Z",
    "type": "completion"
   },
   {
    "code": "ins_date_type = type(ins['date'][0]) # SOLUTION\nins_date_type",
    "id": "5bc0cc620b58435685bc300fbee9379e",
    "idx": 137,
    "time": "2021-02-02T19:12:50.816Z",
    "type": "execution"
   },
   {
    "id": "5bc0cc620b58435685bc300fbee9379e",
    "time": "2021-02-02T19:12:50.942Z",
    "type": "completion"
   },
   {
    "code": "# TEST\ntype(ins_date_type) == type",
    "id": "7c1c3ae31da642098c8f6433f0f9b023",
    "idx": 138,
    "time": "2021-02-02T19:12:51.022Z",
    "type": "execution"
   },
   {
    "code": "# HIDDEN TEST\nins_date_type == str",
    "id": "1ab9935915604b6f84c84a4d5047d045",
    "idx": 139,
    "time": "2021-02-02T19:12:51.176Z",
    "type": "execution"
   },
   {
    "id": "7c1c3ae31da642098c8f6433f0f9b023",
    "time": "2021-02-02T19:12:51.498Z",
    "type": "completion"
   },
   {
    "id": "1ab9935915604b6f84c84a4d5047d045",
    "time": "2021-02-02T19:12:51.504Z",
    "type": "completion"
   },
   {
    "code": "ins['timestamp'] = pd.to_datetime(ins['date']) # SOLUTION",
    "id": "54b74f7ebe4540098a561e926f3ac936",
    "idx": 141,
    "time": "2021-02-02T19:12:51.598Z",
    "type": "execution"
   },
   {
    "code": "# TEST\ntype(ins['timestamp'][1]) == pd.Timestamp",
    "id": "b62e6dfaed844016ac2b6b19527939e2",
    "idx": 142,
    "time": "2021-02-02T19:12:51.740Z",
    "type": "execution"
   },
   {
    "id": "54b74f7ebe4540098a561e926f3ac936",
    "time": "2021-02-02T19:12:51.852Z",
    "type": "completion"
   },
   {
    "id": "b62e6dfaed844016ac2b6b19527939e2",
    "time": "2021-02-02T19:12:51.855Z",
    "type": "completion"
   },
   {
    "code": "earliest_date = ins['timestamp'].min() # SOLUTION\nlatest_date = ins['timestamp'].max() # SOLUTION\n\nprint(\"Earliest Date:\", earliest_date)\nprint(\"Latest Date:\", latest_date)",
    "id": "713d1cc64a0047c9860741fe265c054f",
    "idx": 144,
    "time": "2021-02-02T19:12:52.227Z",
    "type": "execution"
   },
   {
    "id": "713d1cc64a0047c9860741fe265c054f",
    "time": "2021-02-02T19:12:52.345Z",
    "type": "completion"
   },
   {
    "code": "# TEST\ntype(earliest_date) == pd.Timestamp",
    "id": "034577b38030486e82808b0443bb4209",
    "idx": 145,
    "time": "2021-02-02T19:12:52.427Z",
    "type": "execution"
   },
   {
    "id": "034577b38030486e82808b0443bb4209",
    "time": "2021-02-02T19:12:52.557Z",
    "type": "completion"
   },
   {
    "code": "# TEST\ntype(latest_date) == pd.Timestamp",
    "id": "ac11a3cd1b814604924301e6b957507e",
    "idx": 146,
    "time": "2021-02-02T19:12:52.638Z",
    "type": "execution"
   },
   {
    "id": "ac11a3cd1b814604924301e6b957507e",
    "time": "2021-02-02T19:12:52.765Z",
    "type": "completion"
   },
   {
    "code": "# HIDDEN TEST\nearliest_date == pd.Timestamp('2016-10-04 00:00:00')",
    "id": "99b3af683de74ecc8576aa66682845b5",
    "idx": 147,
    "time": "2021-02-02T19:12:52.841Z",
    "type": "execution"
   },
   {
    "id": "99b3af683de74ecc8576aa66682845b5",
    "time": "2021-02-02T19:12:52.968Z",
    "type": "completion"
   },
   {
    "code": "# HIDDEN TEST\nlatest_date == pd.Timestamp('2019-11-28 00:00:00')",
    "id": "fb2f77dee41e4bcfa91a9f8abb3e150c",
    "idx": 148,
    "time": "2021-02-02T19:12:53.051Z",
    "type": "execution"
   },
   {
    "code": "ins['year'] = ins['timestamp'].dt.year # SOLUTION",
    "id": "9be5d10c6c74486da1b4b6411a1740a3",
    "idx": 150,
    "time": "2021-02-02T19:12:53.328Z",
    "type": "execution"
   },
   {
    "id": "fb2f77dee41e4bcfa91a9f8abb3e150c",
    "time": "2021-02-02T19:12:53.385Z",
    "type": "completion"
   },
   {
    "id": "9be5d10c6c74486da1b4b6411a1740a3",
    "time": "2021-02-02T19:12:53.453Z",
    "type": "completion"
   },
   {
    "code": "# TEST\n'year' in ins.columns",
    "id": "77066c0c6f8f40e3b7502e257b2009e4",
    "idx": 151,
    "time": "2021-02-02T19:12:53.520Z",
    "type": "execution"
   },
   {
    "id": "77066c0c6f8f40e3b7502e257b2009e4",
    "time": "2021-02-02T19:12:53.641Z",
    "type": "completion"
   },
   {
    "code": "# HIDDEN TEST\nset(ins[ins['score'] > 0]['year'].value_counts()) == {959, 4043, 4355, 4674}",
    "id": "a69d2b3350e84ef3845d7a00c00642eb",
    "idx": 152,
    "time": "2021-02-02T19:12:53.717Z",
    "type": "execution"
   },
   {
    "code": "ins.head()",
    "id": "8b28ea6c1f574e898842cc95a74c70d7",
    "idx": 153,
    "time": "2021-02-02T19:12:53.873Z",
    "type": "execution"
   },
   {
    "id": "a69d2b3350e84ef3845d7a00c00642eb",
    "time": "2021-02-02T19:12:53.994Z",
    "type": "completion"
   },
   {
    "id": "8b28ea6c1f574e898842cc95a74c70d7",
    "time": "2021-02-02T19:12:53.999Z",
    "type": "completion"
   },
   {
    "code": "ins_pivot = ins.pivot_table(columns = \"year\", index = \"type\", aggfunc = len, fill_value = 0) # SOLUTION\nins_pivot = ins_pivot[\"bid\"] # SOLUTION\nins_pivot['Total'] = ins_pivot.sum(axis=1) # SOLUTION\nins_pivot_sorted = ins_pivot.sort_values('Total', ascending=False) # SOLUTION\nins_pivot_sorted",
    "id": "f7468679462844e5866a851d8564ead8",
    "idx": 156,
    "time": "2021-02-02T19:12:55.072Z",
    "type": "execution"
   },
   {
    "id": "f7468679462844e5866a851d8564ead8",
    "time": "2021-02-02T19:12:55.190Z",
    "type": "completion"
   },
   {
    "code": "# TEST\nset(ins_pivot_sorted.columns) == {2016, 2017, 2018, 2019, 'Total'}",
    "id": "bf300950fc224e8482e82d4e054b8f39",
    "idx": 157,
    "time": "2021-02-02T19:12:55.808Z",
    "type": "execution"
   },
   {
    "id": "bf300950fc224e8482e82d4e054b8f39",
    "time": "2021-02-02T19:12:55.941Z",
    "type": "completion"
   },
   {
    "code": "# TEST\nlen(ins_pivot_sorted) == 15",
    "id": "0ca5862a384c4015a9686a37aa80e951",
    "idx": 158,
    "time": "2021-02-02T19:12:56.185Z",
    "type": "execution"
   },
   {
    "id": "0ca5862a384c4015a9686a37aa80e951",
    "time": "2021-02-02T19:12:56.317Z",
    "type": "completion"
   },
   {
    "code": "# HIDDEN TEST\nins_pivot_sorted.loc[\"Routine - Unscheduled\", 2016] == 966",
    "id": "8ae97239aaa840d891fb70a540556085",
    "idx": 159,
    "time": "2021-02-02T19:12:56.460Z",
    "type": "execution"
   },
   {
    "id": "8ae97239aaa840d891fb70a540556085",
    "time": "2021-02-02T19:12:56.581Z",
    "type": "completion"
   },
   {
    "code": "# HIDDEN TEST\nins_pivot_sorted.iloc[0,4] == 14077",
    "id": "57a43dc884bd4c078bf2d63ac306b037",
    "idx": 160,
    "time": "2021-02-02T19:12:56.658Z",
    "type": "execution"
   },
   {
    "code": "# HIDDEN TEST\nins_pivot_sorted.loc[\"New Ownership - Followup\", 2016] == 0",
    "id": "3e9fe8a7737d437d8b1572f0055b7078",
    "idx": 161,
    "time": "2021-02-02T19:12:56.801Z",
    "type": "execution"
   },
   {
    "id": "57a43dc884bd4c078bf2d63ac306b037",
    "time": "2021-02-02T19:12:56.839Z",
    "type": "completion"
   },
   {
    "id": "3e9fe8a7737d437d8b1572f0055b7078",
    "time": "2021-02-02T19:12:56.903Z",
    "type": "completion"
   },
   {
    "code": "year_of_new_construction = 2017 # SOLUTION",
    "id": "65137d77a88749108590c0f1b4f95b7e",
    "idx": 163,
    "time": "2021-02-02T19:12:57.100Z",
    "type": "execution"
   },
   {
    "id": "65137d77a88749108590c0f1b4f95b7e",
    "time": "2021-02-02T19:12:57.188Z",
    "type": "completion"
   },
   {
    "code": "# TEST\ntype(year_of_new_construction) == int",
    "id": "e101e298245e4ea6a1fc39951bc34238",
    "idx": 164,
    "time": "2021-02-02T19:12:57.252Z",
    "type": "execution"
   },
   {
    "id": "e101e298245e4ea6a1fc39951bc34238",
    "time": "2021-02-02T19:12:57.377Z",
    "type": "completion"
   },
   {
    "code": "# HIDDEN TEST\nyear_of_new_construction == 2017",
    "id": "1bed9d6a6b4946b986d18f5149c391de",
    "idx": 165,
    "time": "2021-02-02T19:12:57.458Z",
    "type": "execution"
   },
   {
    "id": "1bed9d6a6b4946b986d18f5149c391de",
    "time": "2021-02-02T19:12:57.673Z",
    "type": "completion"
   },
   {
    "code": "ins['score'].value_counts().head()",
    "id": "347cc8e6c6a045d1864f99b610a9b209",
    "idx": 167,
    "time": "2021-02-02T19:12:57.764Z",
    "type": "execution"
   },
   {
    "id": "347cc8e6c6a045d1864f99b610a9b209",
    "time": "2021-02-02T19:12:57.919Z",
    "type": "completion"
   },
   {
    "code": "import ds100_utils\n\ndata_dir = \"./\"\nfor f in list_names:\n    if not os.path.isdir(f):\n        print(ds100_utils.head(data_dir + f, 5), \"\\n\")",
    "id": "a7b4a45618f04137822c82c5637ecfed",
    "idx": 21,
    "time": "2021-02-02T19:13:42.028Z",
    "type": "execution"
   },
   {
    "id": "a7b4a45618f04137822c82c5637ecfed",
    "time": "2021-02-02T19:13:42.169Z",
    "type": "completion"
   },
   {
    "code": "# path to directory containing data\ndsDir = Path('data')\n\nbus = pd.read_csv(dsDir/'bus.csv', encoding='ISO-8859-1') # SOLUTION\nins2vio = pd.read_csv(dsDir/'ins2vio.csv') # SOLUTION\nins = pd.read_csv(dsDir/'ins.csv') # SOLUTION\nvio = pd.read_csv(dsDir/'vio.csv') # SOLUTION\n\n#This code is essential for the autograder to function properly. Do not edit\nins_test = ins",
    "id": "61327bcbe7be4ffe8125a062949fad16",
    "idx": 23,
    "time": "2021-02-02T19:13:42.698Z",
    "type": "execution"
   },
   {
    "id": "61327bcbe7be4ffe8125a062949fad16",
    "time": "2021-02-02T19:13:42.827Z",
    "type": "completion"
   },
   {
    "code": "bus.head() # SOLUTION",
    "id": "710553f554a844418bc484377b152380",
    "idx": 25,
    "time": "2021-02-02T19:13:43.010Z",
    "type": "execution"
   },
   {
    "id": "710553f554a844418bc484377b152380",
    "time": "2021-02-02T19:13:43.143Z",
    "type": "completion"
   },
   {
    "code": "bus.describe() # SOLUTION",
    "id": "b7ffd9e1bf3b48ae8025305c1167cb2b",
    "idx": 27,
    "time": "2021-02-02T19:13:43.326Z",
    "type": "execution"
   },
   {
    "id": "b7ffd9e1bf3b48ae8025305c1167cb2b",
    "time": "2021-02-02T19:13:43.457Z",
    "type": "completion"
   },
   {
    "code": "assert all(bus.columns == ['business id column', 'name', 'address', 'city', 'state', 'postal_code',\n                           'latitude', 'longitude', 'phone_number'])\nassert 6250 <= len(bus) <= 6260\n\nassert all(ins.columns == ['iid', 'date', 'score', 'type'])\nassert 26660 <= len(ins) <= 26670\n\nassert all(vio.columns == ['description', 'risk_category', 'vid'])\nassert 60 <= len(vio) <= 65\n\nassert all(ins2vio.columns == ['iid', 'vid'])\nassert 40210 <= len(ins2vio) <= 40220",
    "id": "3a87d472df0843918bb44647b361634e",
    "idx": 30,
    "time": "2021-02-02T19:13:43.802Z",
    "type": "execution"
   },
   {
    "id": "3a87d472df0843918bb44647b361634e",
    "time": "2021-02-02T19:13:43.883Z",
    "type": "completion"
   },
   {
    "code": "bus_summary = pd.DataFrame(**{'columns': ['business id column', 'latitude', 'longitude'],\n 'data': {'business id column': {'50%': 75685.0, 'max': 102705.0, 'min': 19.0},\n  'latitude': {'50%': -9999.0, 'max': 37.824494, 'min': -9999.0},\n  'longitude': {'50%': -9999.0,\n   'max': 0.0,\n   'min': -9999.0}},\n 'index': ['min', '50%', 'max']})\n\nins_summary = pd.DataFrame(**{'columns': ['score'],\n 'data': {'score': {'50%': 76.0, 'max': 100.0, 'min': -1.0}},\n 'index': ['min', '50%', 'max']})\n\nvio_summary = pd.DataFrame(**{'columns': ['vid'],\n 'data': {'vid': {'50%': 103135.0, 'max': 103177.0, 'min': 103102.0}},\n 'index': ['min', '50%', 'max']})\n\nfrom IPython.display import display\n\nprint('What we expect from your Businesses dataframe:')\ndisplay(bus_summary)\nprint('What we expect from your Inspections dataframe:')\ndisplay(ins_summary)\nprint('What we expect from your Violations dataframe:')\ndisplay(vio_summary)",
    "id": "1f3ec826d9e8407fb44fff1d16844287",
    "idx": 32,
    "time": "2021-02-02T19:13:44.110Z",
    "type": "execution"
   },
   {
    "id": "1f3ec826d9e8407fb44fff1d16844287",
    "time": "2021-02-02T19:13:44.245Z",
    "type": "completion"
   },
   {
    "code": "\"\"\"Run this cell to load this utility comparison function that we will use in various\ntests below (both tests you can see and those we run internally for grading).\n\nDo not modify the function in any way.\n\"\"\"\n\n\ndef df_allclose(actual, desired, columns=None, rtol=5e-2):\n    \"\"\"Compare selected columns of two dataframes on a few summary statistics.\n    \n    Compute the min, median and max of the two dataframes on the given columns, and compare\n    that they match numerically to the given relative tolerance.\n    \n    If they don't match, an AssertionError is raised (by `numpy.testing`).\n    \"\"\"    \n    # summary statistics to compare on\n    stats = ['min', '50%', 'max']\n    \n    # For the desired values, we can provide a full DF with the same structure as\n    # the actual data, or pre-computed summary statistics.\n    # We assume a pre-computed summary was provided if columns is None. In that case, \n    # `desired` *must* have the same structure as the actual's summary\n    if columns is None:\n        des = desired\n        columns = desired.columns\n    else:\n        des = desired[columns].describe().loc[stats]\n\n    # Extract summary stats from actual DF\n    act = actual[columns].describe().loc[stats]\n\n    return np.allclose(act, des, rtol)",
    "id": "c5cbc2753313473086eaff119eea901d",
    "idx": 35,
    "time": "2021-02-02T19:13:44.562Z",
    "type": "execution"
   },
   {
    "id": "c5cbc2753313473086eaff119eea901d",
    "time": "2021-02-02T19:13:44.655Z",
    "type": "completion"
   },
   {
    "code": "# TEST\ndf_allclose(bus.rename(columns = {\"bid\" : \"business id column\"}), bus_summary)",
    "id": "2df450b05f4f4b8581011f7cd7e4ce85",
    "idx": 36,
    "time": "2021-02-02T19:13:44.721Z",
    "type": "execution"
   },
   {
    "code": "# TEST\ndf_allclose(ins_test, ins_summary)",
    "id": "e0fc3bf730ad4e178876f39dc5015546",
    "idx": 37,
    "time": "2021-02-02T19:13:44.905Z",
    "type": "execution"
   },
   {
    "id": "2df450b05f4f4b8581011f7cd7e4ce85",
    "time": "2021-02-02T19:13:45.012Z",
    "type": "completion"
   },
   {
    "id": "e0fc3bf730ad4e178876f39dc5015546",
    "time": "2021-02-02T19:13:45.024Z",
    "type": "completion"
   },
   {
    "code": "# TEST\ndf_allclose(vio, vio_summary)",
    "id": "22601f6eed8f4e57800722b36730fd3b",
    "idx": 38,
    "time": "2021-02-02T19:13:45.238Z",
    "type": "execution"
   },
   {
    "id": "22601f6eed8f4e57800722b36730fd3b",
    "time": "2021-02-02T19:13:45.370Z",
    "type": "completion"
   },
   {
    "code": "# TEST\ndf_allclose(ins2vio, vio_summary)",
    "id": "0f90e15de0fb49569840d18f516cc5cb",
    "idx": 39,
    "time": "2021-02-02T19:13:45.458Z",
    "type": "execution"
   },
   {
    "code": "# HIDDEN TEST\ndf_allclose(bus.rename(columns = {\"bid\" : \"business id column\"}), pd.read_csv(dsDir/'bus.csv', encoding='ISO-8859-1'), ['business id column', 'latitude', 'longitude'])",
    "id": "97d8a0c32b01499fbd350a8f761f7aa0",
    "idx": 40,
    "time": "2021-02-02T19:13:45.600Z",
    "type": "execution"
   },
   {
    "id": "0f90e15de0fb49569840d18f516cc5cb",
    "time": "2021-02-02T19:13:45.735Z",
    "type": "completion"
   },
   {
    "code": "# HIDDEN TEST\ndf_allclose(ins_test, pd.read_csv(dsDir/'ins.csv'), ['iid', 'score'])",
    "id": "b83711f8f95f4fb08365c6dc32ad8d55",
    "idx": 41,
    "time": "2021-02-02T19:13:45.750Z",
    "type": "execution"
   },
   {
    "id": "97d8a0c32b01499fbd350a8f761f7aa0",
    "time": "2021-02-02T19:13:45.814Z",
    "type": "completion"
   },
   {
    "code": "# HIDDEN TEST\ndf_allclose(vio, pd.read_csv(dsDir/'vio.csv'), ['vid'])",
    "id": "2ba622615d874159900f29e6b257e93f",
    "idx": 42,
    "time": "2021-02-02T19:13:45.919Z",
    "type": "execution"
   },
   {
    "id": "b83711f8f95f4fb08365c6dc32ad8d55",
    "time": "2021-02-02T19:13:45.978Z",
    "type": "completion"
   },
   {
    "id": "2ba622615d874159900f29e6b257e93f",
    "time": "2021-02-02T19:13:46.008Z",
    "type": "completion"
   },
   {
    "code": "# HIDDEN TEST\ndf_allclose(ins2vio, pd.read_csv(dsDir/'ins2vio.csv'), ['vid'])",
    "id": "93e1d2031a7b447b8fcf53b7b325caa2",
    "idx": 43,
    "time": "2021-02-02T19:13:46.417Z",
    "type": "execution"
   },
   {
    "id": "93e1d2031a7b447b8fcf53b7b325caa2",
    "time": "2021-02-02T19:13:46.642Z",
    "type": "completion"
   },
   {
    "code": "bus.head()",
    "id": "25c542753bf842f38a0ea2d8a924d082",
    "idx": 50,
    "time": "2021-02-02T19:13:47.020Z",
    "type": "execution"
   },
   {
    "code": "bus = bus.rename(columns={\"business id column\": \"bid\"})",
    "id": "62574fc778a940e382d2bc495a9a31ee",
    "idx": 52,
    "time": "2021-02-02T19:13:47.211Z",
    "type": "execution"
   },
   {
    "code": "is_bid_unique = bus['bid'].value_counts().max() == 1 # SOLUTION",
    "id": "3cf7464b1e594cb4852fc0a2371a70de",
    "idx": 54,
    "time": "2021-02-02T19:13:47.366Z",
    "type": "execution"
   },
   {
    "code": "# TEST\nis_bid_unique or ~is_bid_unique",
    "id": "ccdd3fb0a1b8443892deea6314da7ded",
    "idx": 55,
    "time": "2021-02-02T19:13:47.445Z",
    "type": "execution"
   },
   {
    "code": "# HIDDEN TEST\nis_bid_unique",
    "id": "d74f5f926f134fd28f1ef1989d5bc70a",
    "idx": 56,
    "time": "2021-02-02T19:13:47.511Z",
    "type": "execution"
   },
   {
    "code": "top_names = np.array(bus['name'].value_counts()[:5].index) # SOLUTION\ntop_names",
    "id": "3102c44d45ba46948ca163d2cf5fdfc6",
    "idx": 58,
    "time": "2021-02-02T19:13:47.708Z",
    "type": "execution"
   },
   {
    "code": "top_addresses = np.array(bus['address'].value_counts()[:5].index) # SOLUTION\ntop_addresses",
    "id": "7ac84808f32b414b80e95c7984ba037e",
    "idx": 59,
    "time": "2021-02-02T19:13:47.786Z",
    "type": "execution"
   },
   {
    "code": "# TEST\nassert type(top_names) == np.ndarray\nassert type(top_addresses) == np.ndarray\nassert len(top_names) == 5\nlen(top_addresses) == 5",
    "id": "b9dc7052a5ea4ff48bef057d3f8155a5",
    "idx": 60,
    "time": "2021-02-02T19:13:47.855Z",
    "type": "execution"
   },
   {
    "code": "# TEST \nassert top_names[0] == \"Peet's Coffee & Tea\"\ntop_addresses[0] == 'Off The Grid'",
    "id": "2332b5a0ca1647228004cfaf2fe4723d",
    "idx": 61,
    "time": "2021-02-02T19:13:48.003Z",
    "type": "execution"
   },
   {
    "code": "# HIDDEN TEST\nnp.all(top_names == np.array(bus['name'].value_counts()[:5].index))",
    "id": "22aad868a94144f9adf85c022eb33661",
    "idx": 62,
    "time": "2021-02-02T19:13:48.161Z",
    "type": "execution"
   },
   {
    "id": "25c542753bf842f38a0ea2d8a924d082",
    "time": "2021-02-02T19:13:48.227Z",
    "type": "completion"
   },
   {
    "id": "62574fc778a940e382d2bc495a9a31ee",
    "time": "2021-02-02T19:13:48.229Z",
    "type": "completion"
   },
   {
    "id": "3cf7464b1e594cb4852fc0a2371a70de",
    "time": "2021-02-02T19:13:48.231Z",
    "type": "completion"
   },
   {
    "id": "ccdd3fb0a1b8443892deea6314da7ded",
    "time": "2021-02-02T19:13:48.234Z",
    "type": "completion"
   },
   {
    "id": "d74f5f926f134fd28f1ef1989d5bc70a",
    "time": "2021-02-02T19:13:48.236Z",
    "type": "completion"
   },
   {
    "id": "3102c44d45ba46948ca163d2cf5fdfc6",
    "time": "2021-02-02T19:13:48.239Z",
    "type": "completion"
   },
   {
    "id": "7ac84808f32b414b80e95c7984ba037e",
    "time": "2021-02-02T19:13:48.241Z",
    "type": "completion"
   },
   {
    "id": "b9dc7052a5ea4ff48bef057d3f8155a5",
    "time": "2021-02-02T19:13:48.244Z",
    "type": "completion"
   },
   {
    "id": "2332b5a0ca1647228004cfaf2fe4723d",
    "time": "2021-02-02T19:13:48.246Z",
    "type": "completion"
   },
   {
    "code": "# HIDDEN TEST\nnp.all(top_addresses == np.array(bus['address'].value_counts()[:5].index))",
    "id": "63b3d514eb924187a98163ff9a5b324a",
    "idx": 63,
    "time": "2021-02-02T19:13:48.272Z",
    "type": "execution"
   },
   {
    "id": "22aad868a94144f9adf85c022eb33661",
    "time": "2021-02-02T19:13:48.384Z",
    "type": "completion"
   },
   {
    "id": "63b3d514eb924187a98163ff9a5b324a",
    "time": "2021-02-02T19:13:48.410Z",
    "type": "completion"
   },
   {
    "code": "# What does each record represent?  Valid answers are:\n#    \"One location of a restaurant.\"\n#    \"A chain of restaurants.\"\n#    \"A city block.\"\nq1e_part1 = \"One location of a restaurant.\" # SOLUTION\n\n# What is the minimal primary key? Valid answers are:\n#    \"bid\"\n#    \"bid, name\"\n#    \"bid, name, address\"\nq1e_part2 = \"bid\" # SOLUTION",
    "id": "85ab3f43a41e4913922bedcead55f00a",
    "idx": 65,
    "time": "2021-02-02T19:13:48.641Z",
    "type": "execution"
   },
   {
    "id": "85ab3f43a41e4913922bedcead55f00a",
    "time": "2021-02-02T19:13:48.735Z",
    "type": "completion"
   },
   {
    "code": "# TEST\nq1e_part1 in set([\"One location of a restaurant.\", \"A chain of restaurants.\", \"A city block.\"])",
    "id": "295962ff38ae46b78f74b2c8b8df2aa8",
    "idx": 66,
    "time": "2021-02-02T19:13:48.798Z",
    "type": "execution"
   },
   {
    "id": "295962ff38ae46b78f74b2c8b8df2aa8",
    "time": "2021-02-02T19:13:48.931Z",
    "type": "completion"
   },
   {
    "code": "# TEST\nq1e_part2 in set([\"bid\", \"bid, name\", \"bid, name, address\"])",
    "id": "10c23dd0b90f4fcbb32a863ef0c1c34c",
    "idx": 67,
    "time": "2021-02-02T19:13:49.019Z",
    "type": "execution"
   },
   {
    "code": "# HIDDEN TEST\nq1e_part1 == \"One location of a restaurant.\" ",
    "id": "1fd44184d9c541bbb4d4aaa9e3c06789",
    "idx": 68,
    "time": "2021-02-02T19:13:49.163Z",
    "type": "execution"
   },
   {
    "code": "# HIDDEN TEST\nq1e_part2 == \"bid\"",
    "id": "95db99336a6d4c288e3968e3341cbb7e",
    "idx": 69,
    "time": "2021-02-02T19:13:49.312Z",
    "type": "execution"
   },
   {
    "id": "10c23dd0b90f4fcbb32a863ef0c1c34c",
    "time": "2021-02-02T19:13:49.356Z",
    "type": "completion"
   },
   {
    "id": "1fd44184d9c541bbb4d4aaa9e3c06789",
    "time": "2021-02-02T19:13:49.359Z",
    "type": "completion"
   },
   {
    "id": "95db99336a6d4c288e3968e3341cbb7e",
    "time": "2021-02-02T19:13:49.529Z",
    "type": "completion"
   },
   {
    "code": "zip_counts = bus.groupby(\"postal_code\").size().sort_values(ascending=False) # SOLUTION\nprint(zip_counts.to_string())",
    "id": "b8303a27f4bc4396813eed0ca8330c80",
    "idx": 72,
    "time": "2021-02-02T19:13:49.788Z",
    "type": "execution"
   },
   {
    "id": "b8303a27f4bc4396813eed0ca8330c80",
    "time": "2021-02-02T19:13:49.925Z",
    "type": "completion"
   },
   {
    "code": "# TEST\ntype(zip_counts) == pd.Series",
    "id": "10b7a19bc01845d79cb2881f65a5343f",
    "idx": 73,
    "time": "2021-02-02T19:13:50.018Z",
    "type": "execution"
   },
   {
    "code": "# TEST\nzip_counts.shape[0] == 63",
    "id": "5176bc71e8d646abb88458375b038a21",
    "idx": 74,
    "time": "2021-02-02T19:13:50.167Z",
    "type": "execution"
   },
   {
    "id": "10b7a19bc01845d79cb2881f65a5343f",
    "time": "2021-02-02T19:13:50.303Z",
    "type": "completion"
   },
   {
    "id": "5176bc71e8d646abb88458375b038a21",
    "time": "2021-02-02T19:13:50.306Z",
    "type": "completion"
   },
   {
    "code": "# TEST\nzip_counts[\"94103\"] == 562",
    "id": "43f5b3e0e60a4a6c835e769d716dffed",
    "idx": 75,
    "time": "2021-02-02T19:13:50.327Z",
    "type": "execution"
   },
   {
    "id": "43f5b3e0e60a4a6c835e769d716dffed",
    "time": "2021-02-02T19:13:50.466Z",
    "type": "completion"
   },
   {
    "code": "# HIDDEN TEST\nnp.isclose(zip_counts.var(), bus['postal_code'].value_counts().var())",
    "id": "794059e3226b4f9f9954e71a55ac1e84",
    "idx": 76,
    "time": "2021-02-02T19:13:50.552Z",
    "type": "execution"
   },
   {
    "id": "794059e3226b4f9f9954e71a55ac1e84",
    "time": "2021-02-02T19:13:50.686Z",
    "type": "completion"
   },
   {
    "code": "# HIDDEN TEST\nnp.isclose(zip_counts.mean(), bus['postal_code'].value_counts().mean())",
    "id": "b982e6f76bf742f486de8ab360d13ab3",
    "idx": 77,
    "time": "2021-02-02T19:13:50.891Z",
    "type": "execution"
   },
   {
    "id": "b982e6f76bf742f486de8ab360d13ab3",
    "time": "2021-02-02T19:13:51.013Z",
    "type": "completion"
   },
   {
    "code": "# The ZIP code column is which of the following type of data:\n#   \"Quantitative Continuous\" \n#   \"Quantitative Discrete\"\n#   \"Qualitative Ordinal\"\n#   \"Qualitative Nominal\"\nq2b_part1 = \"Qualitative Nominal\" # SOLUTION\n\n# What Python data type is used to represent a ZIP code? \n#    \"str\"\n#    \"int\"\n#    \"bool\"\n#    \"float\"\nq2b_part2 = \"str\" # SOLUTION",
    "id": "a7ca7ae3b9dd48928c4691396a690113",
    "idx": 79,
    "time": "2021-02-02T19:13:52.098Z",
    "type": "execution"
   },
   {
    "id": "a7ca7ae3b9dd48928c4691396a690113",
    "time": "2021-02-02T19:13:52.197Z",
    "type": "completion"
   },
   {
    "code": "# TEST\nq2b_part1 in set([\"Quantitative Continuous\", \"Quantitative Discrete\", \n                  \"Qualitative Ordinal\", \"Qualitative Nominal\"])",
    "id": "dd64b92301624c2d8f6a0af63808f3fd",
    "idx": 80,
    "time": "2021-02-02T19:13:52.870Z",
    "type": "execution"
   },
   {
    "id": "dd64b92301624c2d8f6a0af63808f3fd",
    "time": "2021-02-02T19:13:52.995Z",
    "type": "completion"
   },
   {
    "code": "# TEST\nq2b_part2 in set([\"str\", \"int\", \"bool\", \"float\"])",
    "id": "71a0d66b4af3489fb11207d12b50bdd4",
    "idx": 81,
    "time": "2021-02-02T19:13:53.089Z",
    "type": "execution"
   },
   {
    "id": "71a0d66b4af3489fb11207d12b50bdd4",
    "time": "2021-02-02T19:13:53.217Z",
    "type": "completion"
   },
   {
    "code": "# HIDDEN TEST\nq2b_part1 == \"Qualitative Nominal\"",
    "id": "ed4bd023113a4bbeb4afb3d0e8fae5aa",
    "idx": 82,
    "time": "2021-02-02T19:13:53.303Z",
    "type": "execution"
   },
   {
    "id": "ed4bd023113a4bbeb4afb3d0e8fae5aa",
    "time": "2021-02-02T19:13:53.442Z",
    "type": "completion"
   },
   {
    "code": "# HIDDEN TEST\nq2b_part2 == \"str\"",
    "id": "3779d06fac5841629e72b11c832b47c7",
    "idx": 83,
    "time": "2021-02-02T19:13:53.531Z",
    "type": "execution"
   },
   {
    "id": "3779d06fac5841629e72b11c832b47c7",
    "time": "2021-02-02T19:13:53.724Z",
    "type": "completion"
   },
   {
    "code": "valid_zips = pd.read_json(\"data/sf_zipcodes.json\", dtype=\"str\")['zip_codes'] # SOLUTION\nvalid_zips.head()",
    "id": "0c8a9d957afe4a989b368e3cb8c46e5d",
    "idx": 86,
    "time": "2021-02-02T19:13:56.026Z",
    "type": "execution"
   },
   {
    "id": "0c8a9d957afe4a989b368e3cb8c46e5d",
    "time": "2021-02-02T19:13:56.158Z",
    "type": "completion"
   },
   {
    "code": "# TEST\nvalid_zips.dtype == object ",
    "id": "387ccc020aca43768dcb3e1d7b36cc21",
    "idx": 87,
    "time": "2021-02-02T19:13:56.756Z",
    "type": "execution"
   },
   {
    "id": "387ccc020aca43768dcb3e1d7b36cc21",
    "time": "2021-02-02T19:13:56.881Z",
    "type": "completion"
   },
   {
    "code": "# TEST\ntype(valid_zips) == pd.Series",
    "id": "f1d468650f714ce58cfd85eb2b4e0ab0",
    "idx": 88,
    "time": "2021-02-02T19:13:57.087Z",
    "type": "execution"
   },
   {
    "id": "f1d468650f714ce58cfd85eb2b4e0ab0",
    "time": "2021-02-02T19:13:57.215Z",
    "type": "completion"
   },
   {
    "code": "# HIDDEN TEST\nnp.all(valid_zips.sort_values() == pd.read_json(\"data/sf_zipcodes.json\", dtype=\"str\")['zip_codes'].sort_values()) ",
    "id": "02fefccef9db455d92ac77e60dccf7a7",
    "idx": 89,
    "time": "2021-02-02T19:13:57.317Z",
    "type": "execution"
   },
   {
    "id": "02fefccef9db455d92ac77e60dccf7a7",
    "time": "2021-02-02T19:13:57.435Z",
    "type": "completion"
   },
   {
    "code": "invalid_zip_bus = bus[~bus['postal_code'].isin(valid_zips)] # SOLUTION\ninvalid_zip_bus.head(20)",
    "id": "e20ae749b72543678dd73d4f33a5267f",
    "idx": 91,
    "time": "2021-02-02T19:13:58.044Z",
    "type": "execution"
   },
   {
    "id": "e20ae749b72543678dd73d4f33a5267f",
    "time": "2021-02-02T19:13:58.197Z",
    "type": "completion"
   },
   {
    "code": "# TEST\ntype(invalid_zip_bus) == pd.DataFrame",
    "id": "047e3e47ce284fee911d392109073ade",
    "idx": 92,
    "time": "2021-02-02T19:13:58.346Z",
    "type": "execution"
   },
   {
    "code": "# TEST\nlen(invalid_zip_bus) == 230",
    "id": "9306527d475f4aa19e655c9837911fbe",
    "idx": 93,
    "time": "2021-02-02T19:13:58.488Z",
    "type": "execution"
   },
   {
    "code": "# HIDDEN TEST\nset(invalid_zip_bus['postal_code']) == set(bus[~bus['postal_code'].isin(valid_zips)]['postal_code'])",
    "id": "d25aab1b8a534cee86c49dd10d192136",
    "idx": 94,
    "time": "2021-02-02T19:13:58.639Z",
    "type": "execution"
   },
   {
    "id": "047e3e47ce284fee911d392109073ade",
    "time": "2021-02-02T19:13:58.684Z",
    "type": "completion"
   },
   {
    "id": "9306527d475f4aa19e655c9837911fbe",
    "time": "2021-02-02T19:13:58.693Z",
    "type": "completion"
   },
   {
    "id": "d25aab1b8a534cee86c49dd10d192136",
    "time": "2021-02-02T19:13:58.897Z",
    "type": "completion"
   },
   {
    "code": "missing_zip_address_count = bus[bus['postal_code'] == \"-9999\"]['address'].value_counts() # SOLUTION\nmissing_zip_address_count.head()",
    "id": "6795e27dc3e84d889aad6edfe07ab021",
    "idx": 96,
    "time": "2021-02-02T19:13:58.995Z",
    "type": "execution"
   },
   {
    "code": "# TEST\ntype(missing_zip_address_count) == pd.Series",
    "id": "dfd2f0788e3449bbbdc7b920dc8f6ce3",
    "idx": 97,
    "time": "2021-02-02T19:13:59.150Z",
    "type": "execution"
   },
   {
    "id": "6795e27dc3e84d889aad6edfe07ab021",
    "time": "2021-02-02T19:13:59.215Z",
    "type": "completion"
   },
   {
    "id": "dfd2f0788e3449bbbdc7b920dc8f6ce3",
    "time": "2021-02-02T19:13:59.280Z",
    "type": "completion"
   },
   {
    "code": "# TEST\nlen(missing_zip_address_count) == 135",
    "id": "bfb813249ceb4307891faf55da00bd8a",
    "idx": 98,
    "time": "2021-02-02T19:13:59.367Z",
    "type": "execution"
   },
   {
    "id": "bfb813249ceb4307891faf55da00bd8a",
    "time": "2021-02-02T19:13:59.505Z",
    "type": "completion"
   },
   {
    "code": "# TEST\nmissing_zip_address_count['3914 Judah St'] == 1",
    "id": "c903ae7384f04952be00417cbfc6b894",
    "idx": 99,
    "time": "2021-02-02T19:13:59.591Z",
    "type": "execution"
   },
   {
    "id": "c903ae7384f04952be00417cbfc6b894",
    "time": "2021-02-02T19:13:59.716Z",
    "type": "completion"
   },
   {
    "code": "# HIDDEN TEST\nmissing_zip_address_count['Off The Grid'] == 39",
    "id": "eb737250ad284a939e0ed86d352a5d28",
    "idx": 100,
    "time": "2021-02-02T19:13:59.795Z",
    "type": "execution"
   },
   {
    "id": "eb737250ad284a939e0ed86d352a5d28",
    "time": "2021-02-02T19:13:59.923Z",
    "type": "completion"
   },
   {
    "code": "# True or False: \n#  If we were to drop businesses with MISSING postal code values \n#   a particular class of business be affected.\nq2e_true_or_false = True # SOLUTION",
    "id": "4a747102aeb74880a9e469df42075bec",
    "idx": 102,
    "time": "2021-02-02T19:14:00.127Z",
    "type": "execution"
   },
   {
    "id": "4a747102aeb74880a9e469df42075bec",
    "time": "2021-02-02T19:14:00.222Z",
    "type": "completion"
   },
   {
    "code": "# TEST\ntype(q2e_true_or_false) == bool",
    "id": "4b3e189e64374b858683f6eeceb2cbea",
    "idx": 103,
    "time": "2021-02-02T19:14:00.311Z",
    "type": "execution"
   },
   {
    "id": "4b3e189e64374b858683f6eeceb2cbea",
    "time": "2021-02-02T19:14:00.444Z",
    "type": "completion"
   },
   {
    "code": "# HIDDEN TEST\nq2e_true_or_false == True",
    "id": "285d4fcfffe944c28539697623af9b94",
    "idx": 104,
    "time": "2021-02-02T19:14:00.526Z",
    "type": "execution"
   },
   {
    "id": "285d4fcfffe944c28539697623af9b94",
    "time": "2021-02-02T19:14:00.651Z",
    "type": "completion"
   },
   {
    "code": "bus['postal5'] = None\n# BEGIN SOLUTION\nbus['postal5'] = bus['postal_code'].str[:5]\nbus.loc[~bus['postal5'].isin(valid_zips), 'postal5'] = None \n# END SOLUTION\n\n# Checking the corrected postal5 column\nbus.loc[invalid_zip_bus.index, ['bid', 'name', 'postal_code', 'postal5']]",
    "id": "e14a8e4cb4c748bd866f725245a36082",
    "idx": 106,
    "time": "2021-02-02T19:14:00.955Z",
    "type": "execution"
   },
   {
    "id": "e14a8e4cb4c748bd866f725245a36082",
    "time": "2021-02-02T19:14:01.098Z",
    "type": "completion"
   },
   {
    "code": "# TEST\n'postal5' in bus.columns",
    "id": "281134f4223a45fc8f85d292f0f33054",
    "idx": 107,
    "time": "2021-02-02T19:14:01.290Z",
    "type": "execution"
   },
   {
    "id": "281134f4223a45fc8f85d292f0f33054",
    "time": "2021-02-02T19:14:01.418Z",
    "type": "completion"
   },
   {
    "code": "# TEST\n(bus['postal5'].str.len() != 5).sum() == 221",
    "id": "9de69f34468042b4826d1c0e38db6813",
    "idx": 108,
    "time": "2021-02-02T19:14:01.533Z",
    "type": "execution"
   },
   {
    "id": "9de69f34468042b4826d1c0e38db6813",
    "time": "2021-02-02T19:14:01.657Z",
    "type": "completion"
   },
   {
    "code": "# TEST\nbus['postal5'].isin(valid_zips).sum() == 6032",
    "id": "ed5f34e9eea441068c88c585deb30b35",
    "idx": 109,
    "time": "2021-02-02T19:14:01.812Z",
    "type": "execution"
   },
   {
    "id": "ed5f34e9eea441068c88c585deb30b35",
    "time": "2021-02-02T19:14:01.943Z",
    "type": "completion"
   },
   {
    "code": "# TEST\nbus['postal5'].isna().sum() == 221",
    "id": "42d79067b63040448dbe9d6b55bafe7f",
    "idx": 110,
    "time": "2021-02-02T19:14:02.025Z",
    "type": "execution"
   },
   {
    "id": "42d79067b63040448dbe9d6b55bafe7f",
    "time": "2021-02-02T19:14:02.162Z",
    "type": "completion"
   },
   {
    "code": "# HIDDEN TEST\n(bus['postal5'] == \"-9999\").sum() == 0",
    "id": "4cf30f360ca8463497bed37e01154224",
    "idx": 111,
    "time": "2021-02-02T19:14:02.241Z",
    "type": "execution"
   },
   {
    "code": "# HIDDEN TEST\nbus['postal5'].isna().sum() == 221",
    "id": "b2f2ed2e14f54243816169f2b798b574",
    "idx": 112,
    "time": "2021-02-02T19:14:02.380Z",
    "type": "execution"
   },
   {
    "id": "4cf30f360ca8463497bed37e01154224",
    "time": "2021-02-02T19:14:02.580Z",
    "type": "completion"
   },
   {
    "id": "b2f2ed2e14f54243816169f2b798b574",
    "time": "2021-02-02T19:14:02.798Z",
    "type": "completion"
   },
   {
    "code": "ins.head(5)",
    "id": "fbaf2acf0a2f4912af538ca48cc39b93",
    "idx": 115,
    "time": "2021-02-02T19:14:02.879Z",
    "type": "execution"
   },
   {
    "id": "fbaf2acf0a2f4912af538ca48cc39b93",
    "time": "2021-02-02T19:14:03.011Z",
    "type": "completion"
   },
   {
    "code": "is_ins_iid_a_primary_key = ins['iid'].value_counts().max() == 1 # SOLUTION",
    "id": "0866d13a420e49b181eda8f702061893",
    "idx": 117,
    "time": "2021-02-02T19:14:03.367Z",
    "type": "execution"
   },
   {
    "id": "0866d13a420e49b181eda8f702061893",
    "time": "2021-02-02T19:14:03.450Z",
    "type": "completion"
   },
   {
    "code": "# TEST\ntype(is_ins_iid_a_primary_key) == bool or type(is_ins_iid_a_primary_key) == np.bool_",
    "id": "6bccf475657a415e85949864b3e4fed9",
    "idx": 118,
    "time": "2021-02-02T19:14:03.555Z",
    "type": "execution"
   },
   {
    "id": "6bccf475657a415e85949864b3e4fed9",
    "time": "2021-02-02T19:14:03.685Z",
    "type": "completion"
   },
   {
    "code": "# HIDDEN TEST\nis_ins_iid_a_primary_key == True",
    "id": "c05dcc62688347ab933e770126ff49b5",
    "idx": 119,
    "time": "2021-02-02T19:14:04.558Z",
    "type": "execution"
   },
   {
    "id": "c05dcc62688347ab933e770126ff49b5",
    "time": "2021-02-02T19:14:04.684Z",
    "type": "completion"
   },
   {
    "code": "ins['bid'] = ins['iid'].str.split(\"_\", expand=True)[0].astype(int) # SOLUTION",
    "id": "1bb44a2a156942118715e1770b76bcc2",
    "idx": 122,
    "time": "2021-02-02T19:14:10.412Z",
    "type": "execution"
   },
   {
    "code": "# TEST\n'bid' in ins.columns",
    "id": "479e40e33beb44a48765fa4a90edaec7",
    "idx": 123,
    "time": "2021-02-02T19:14:10.629Z",
    "type": "execution"
   },
   {
    "id": "1bb44a2a156942118715e1770b76bcc2",
    "time": "2021-02-02T19:14:10.749Z",
    "type": "completion"
   },
   {
    "id": "479e40e33beb44a48765fa4a90edaec7",
    "time": "2021-02-02T19:14:10.754Z",
    "type": "completion"
   },
   {
    "code": "# TEST\nins['bid'].dtype == int",
    "id": "0afd946edb684881b68f8a159ee8ed0f",
    "idx": 124,
    "time": "2021-02-02T19:14:10.841Z",
    "type": "execution"
   },
   {
    "code": "# TEST\nlen(ins[ins['score'] > 0]['bid'].unique()) == 5724",
    "id": "a32530ac1f61475db6cda0a67a785140",
    "idx": 125,
    "time": "2021-02-02T19:14:11.010Z",
    "type": "execution"
   },
   {
    "id": "0afd946edb684881b68f8a159ee8ed0f",
    "time": "2021-02-02T19:14:11.073Z",
    "type": "completion"
   },
   {
    "id": "a32530ac1f61475db6cda0a67a785140",
    "time": "2021-02-02T19:14:11.129Z",
    "type": "completion"
   },
   {
    "code": "# HIDDEN TEST\nins['bid'].equals(ins['iid'].str.split(\"_\", expand=True)[0].astype(\"int\"))",
    "id": "4caa62bd3288405586e0a444839b67f3",
    "idx": 126,
    "time": "2021-02-02T19:14:11.217Z",
    "type": "execution"
   },
   {
    "id": "4caa62bd3288405586e0a444839b67f3",
    "time": "2021-02-02T19:14:11.728Z",
    "type": "completion"
   },
   {
    "code": "invalid_bid_count = (~ins['bid'].isin(bus['bid'])).sum() # SOLUTION",
    "id": "8ece2ff4b41b46db916351c66ac46b46",
    "idx": 128,
    "time": "2021-02-02T19:14:11.902Z",
    "type": "execution"
   },
   {
    "id": "8ece2ff4b41b46db916351c66ac46b46",
    "time": "2021-02-02T19:14:11.985Z",
    "type": "completion"
   },
   {
    "code": "# TEST\ninvalid_bid_count >= 0 ",
    "id": "0c5034a1f75a414fb3cbaadf54bbe0bb",
    "idx": 129,
    "time": "2021-02-02T19:14:12.074Z",
    "type": "execution"
   },
   {
    "id": "0c5034a1f75a414fb3cbaadf54bbe0bb",
    "time": "2021-02-02T19:14:12.207Z",
    "type": "completion"
   },
   {
    "code": "# HIDDEN TEST\ninvalid_bid_count == 0",
    "id": "d197aa5f072c4a2889d510a10d9f5edf",
    "idx": 130,
    "time": "2021-02-02T19:14:12.284Z",
    "type": "execution"
   },
   {
    "id": "d197aa5f072c4a2889d510a10d9f5edf",
    "time": "2021-02-02T19:14:12.405Z",
    "type": "completion"
   },
   {
    "code": "# True or False: The column ins['bid'] is a foreign key \n#   referencing the bus['bid'] primary key.\n\nq3b_is_foreign_key = True # SOLUTION",
    "id": "32bd90f4c39d46718bea8606f1f64b8c",
    "idx": 132,
    "time": "2021-02-02T19:14:12.588Z",
    "type": "execution"
   },
   {
    "id": "32bd90f4c39d46718bea8606f1f64b8c",
    "time": "2021-02-02T19:14:12.741Z",
    "type": "completion"
   },
   {
    "code": "# TEST\ntype(q3b_is_foreign_key) == bool",
    "id": "01a5a7e8a08a419f8022cd7e6f1605e3",
    "idx": 133,
    "time": "2021-02-02T19:14:12.772Z",
    "type": "execution"
   },
   {
    "id": "01a5a7e8a08a419f8022cd7e6f1605e3",
    "time": "2021-02-02T19:14:12.898Z",
    "type": "completion"
   },
   {
    "code": "# HIDDEN TEST\nq3b_is_foreign_key == True",
    "id": "23bc7237b90f451f8000d39d6cf2dcaf",
    "idx": 134,
    "time": "2021-02-02T19:14:12.979Z",
    "type": "execution"
   },
   {
    "id": "23bc7237b90f451f8000d39d6cf2dcaf",
    "time": "2021-02-02T19:14:13.099Z",
    "type": "completion"
   },
   {
    "code": "ins_date_type = type(ins['date'][0]) # SOLUTION\nins_date_type",
    "id": "5bc0cc620b58435685bc300fbee9379e",
    "idx": 137,
    "time": "2021-02-02T19:14:14.550Z",
    "type": "execution"
   },
   {
    "id": "5bc0cc620b58435685bc300fbee9379e",
    "time": "2021-02-02T19:14:14.696Z",
    "type": "completion"
   },
   {
    "code": "# TEST\ntype(ins_date_type) == type",
    "id": "7c1c3ae31da642098c8f6433f0f9b023",
    "idx": 138,
    "time": "2021-02-02T19:14:15.108Z",
    "type": "execution"
   },
   {
    "id": "7c1c3ae31da642098c8f6433f0f9b023",
    "time": "2021-02-02T19:14:15.234Z",
    "type": "completion"
   },
   {
    "code": "# HIDDEN TEST\nins_date_type == str",
    "id": "1ab9935915604b6f84c84a4d5047d045",
    "idx": 139,
    "time": "2021-02-02T19:14:15.314Z",
    "type": "execution"
   },
   {
    "id": "1ab9935915604b6f84c84a4d5047d045",
    "time": "2021-02-02T19:14:15.434Z",
    "type": "completion"
   },
   {
    "code": "ins['timestamp'] = pd.to_datetime(ins['date']) # SOLUTION",
    "id": "54b74f7ebe4540098a561e926f3ac936",
    "idx": 141,
    "time": "2021-02-02T19:14:15.686Z",
    "type": "execution"
   },
   {
    "id": "54b74f7ebe4540098a561e926f3ac936",
    "time": "2021-02-02T19:14:15.831Z",
    "type": "completion"
   },
   {
    "code": "# TEST\ntype(ins['timestamp'][1]) == pd.Timestamp",
    "id": "b62e6dfaed844016ac2b6b19527939e2",
    "idx": 142,
    "time": "2021-02-02T19:14:16.157Z",
    "type": "execution"
   },
   {
    "id": "b62e6dfaed844016ac2b6b19527939e2",
    "time": "2021-02-02T19:14:16.273Z",
    "type": "completion"
   },
   {
    "code": "earliest_date = ins['timestamp'].min() # SOLUTION\nlatest_date = ins['timestamp'].max() # SOLUTION\n\nprint(\"Earliest Date:\", earliest_date)\nprint(\"Latest Date:\", latest_date)",
    "id": "713d1cc64a0047c9860741fe265c054f",
    "idx": 144,
    "time": "2021-02-02T19:14:16.544Z",
    "type": "execution"
   },
   {
    "id": "713d1cc64a0047c9860741fe265c054f",
    "time": "2021-02-02T19:14:16.666Z",
    "type": "completion"
   },
   {
    "code": "# TEST\ntype(earliest_date) == pd.Timestamp",
    "id": "034577b38030486e82808b0443bb4209",
    "idx": 145,
    "time": "2021-02-02T19:14:16.749Z",
    "type": "execution"
   },
   {
    "code": "# TEST\ntype(latest_date) == pd.Timestamp",
    "id": "ac11a3cd1b814604924301e6b957507e",
    "idx": 146,
    "time": "2021-02-02T19:14:16.890Z",
    "type": "execution"
   },
   {
    "code": "# HIDDEN TEST\nearliest_date == pd.Timestamp('2016-10-04 00:00:00')",
    "id": "99b3af683de74ecc8576aa66682845b5",
    "idx": 147,
    "time": "2021-02-02T19:14:17.031Z",
    "type": "execution"
   },
   {
    "id": "034577b38030486e82808b0443bb4209",
    "time": "2021-02-02T19:14:17.097Z",
    "type": "completion"
   },
   {
    "code": "# HIDDEN TEST\nlatest_date == pd.Timestamp('2019-11-28 00:00:00')",
    "id": "fb2f77dee41e4bcfa91a9f8abb3e150c",
    "idx": 148,
    "time": "2021-02-02T19:14:17.181Z",
    "type": "execution"
   },
   {
    "id": "ac11a3cd1b814604924301e6b957507e",
    "time": "2021-02-02T19:14:17.224Z",
    "type": "completion"
   },
   {
    "id": "99b3af683de74ecc8576aa66682845b5",
    "time": "2021-02-02T19:14:17.227Z",
    "type": "completion"
   },
   {
    "id": "fb2f77dee41e4bcfa91a9f8abb3e150c",
    "time": "2021-02-02T19:14:17.274Z",
    "type": "completion"
   },
   {
    "code": "ins['year'] = ins['timestamp'].dt.year # SOLUTION",
    "id": "9be5d10c6c74486da1b4b6411a1740a3",
    "idx": 150,
    "time": "2021-02-02T19:14:17.467Z",
    "type": "execution"
   },
   {
    "id": "9be5d10c6c74486da1b4b6411a1740a3",
    "time": "2021-02-02T19:14:17.552Z",
    "type": "completion"
   },
   {
    "code": "# TEST\n'year' in ins.columns",
    "id": "77066c0c6f8f40e3b7502e257b2009e4",
    "idx": 151,
    "time": "2021-02-02T19:14:17.615Z",
    "type": "execution"
   },
   {
    "id": "77066c0c6f8f40e3b7502e257b2009e4",
    "time": "2021-02-02T19:14:17.735Z",
    "type": "completion"
   },
   {
    "code": "# HIDDEN TEST\nset(ins[ins['score'] > 0]['year'].value_counts()) == {959, 4043, 4355, 4674}",
    "id": "a69d2b3350e84ef3845d7a00c00642eb",
    "idx": 152,
    "time": "2021-02-02T19:14:17.816Z",
    "type": "execution"
   },
   {
    "code": "ins.head()",
    "id": "8b28ea6c1f574e898842cc95a74c70d7",
    "idx": 153,
    "time": "2021-02-02T19:14:17.960Z",
    "type": "execution"
   },
   {
    "id": "a69d2b3350e84ef3845d7a00c00642eb",
    "time": "2021-02-02T19:14:18.135Z",
    "type": "completion"
   },
   {
    "id": "8b28ea6c1f574e898842cc95a74c70d7",
    "time": "2021-02-02T19:14:18.204Z",
    "type": "completion"
   },
   {
    "code": "ins_pivot = ins.pivot_table(columns = \"year\", index = \"type\", aggfunc = len, fill_value = 0) # SOLUTION\nins_pivot = ins_pivot[\"bid\"] # SOLUTION\nins_pivot['Total'] = ins_pivot.sum(axis=1) # SOLUTION\nins_pivot_sorted = ins_pivot.sort_values('Total', ascending=False) # SOLUTION\nins_pivot_sorted",
    "id": "f7468679462844e5866a851d8564ead8",
    "idx": 156,
    "time": "2021-02-02T19:14:18.384Z",
    "type": "execution"
   },
   {
    "code": "# TEST\nset(ins_pivot_sorted.columns) == {2016, 2017, 2018, 2019, 'Total'}",
    "id": "bf300950fc224e8482e82d4e054b8f39",
    "idx": 157,
    "time": "2021-02-02T19:14:18.527Z",
    "type": "execution"
   },
   {
    "code": "# TEST\nlen(ins_pivot_sorted) == 15",
    "id": "0ca5862a384c4015a9686a37aa80e951",
    "idx": 158,
    "time": "2021-02-02T19:14:18.669Z",
    "type": "execution"
   },
   {
    "id": "f7468679462844e5866a851d8564ead8",
    "time": "2021-02-02T19:14:18.734Z",
    "type": "completion"
   },
   {
    "id": "bf300950fc224e8482e82d4e054b8f39",
    "time": "2021-02-02T19:14:18.737Z",
    "type": "completion"
   },
   {
    "code": "# HIDDEN TEST\nins_pivot_sorted.loc[\"Routine - Unscheduled\", 2016] == 966",
    "id": "8ae97239aaa840d891fb70a540556085",
    "idx": 159,
    "time": "2021-02-02T19:14:18.826Z",
    "type": "execution"
   },
   {
    "id": "0ca5862a384c4015a9686a37aa80e951",
    "time": "2021-02-02T19:14:18.893Z",
    "type": "completion"
   },
   {
    "id": "8ae97239aaa840d891fb70a540556085",
    "time": "2021-02-02T19:14:18.939Z",
    "type": "completion"
   },
   {
    "code": "# HIDDEN TEST\nins_pivot_sorted.iloc[0,4] == 14077",
    "id": "57a43dc884bd4c078bf2d63ac306b037",
    "idx": 160,
    "time": "2021-02-02T19:14:19.053Z",
    "type": "execution"
   },
   {
    "code": "# HIDDEN TEST\nins_pivot_sorted.loc[\"New Ownership - Followup\", 2016] == 0",
    "id": "3e9fe8a7737d437d8b1572f0055b7078",
    "idx": 161,
    "time": "2021-02-02T19:14:19.140Z",
    "type": "execution"
   },
   {
    "code": "year_of_new_construction = 2017 # SOLUTION",
    "id": "65137d77a88749108590c0f1b4f95b7e",
    "idx": 163,
    "time": "2021-02-02T19:14:19.375Z",
    "type": "execution"
   },
   {
    "id": "57a43dc884bd4c078bf2d63ac306b037",
    "time": "2021-02-02T19:14:19.438Z",
    "type": "completion"
   },
   {
    "id": "3e9fe8a7737d437d8b1572f0055b7078",
    "time": "2021-02-02T19:14:19.442Z",
    "type": "completion"
   },
   {
    "id": "65137d77a88749108590c0f1b4f95b7e",
    "time": "2021-02-02T19:14:19.510Z",
    "type": "completion"
   },
   {
    "code": "# TEST\ntype(year_of_new_construction) == int",
    "id": "e101e298245e4ea6a1fc39951bc34238",
    "idx": 164,
    "time": "2021-02-02T19:14:19.876Z",
    "type": "execution"
   },
   {
    "code": "# HIDDEN TEST\nyear_of_new_construction == 2017",
    "id": "1bed9d6a6b4946b986d18f5149c391de",
    "idx": 165,
    "time": "2021-02-02T19:14:19.945Z",
    "type": "execution"
   },
   {
    "code": "ins['score'].value_counts().head()",
    "id": "347cc8e6c6a045d1864f99b610a9b209",
    "idx": 167,
    "time": "2021-02-02T19:14:20.133Z",
    "type": "execution"
   },
   {
    "code": "ins_missing_score_pivot = ...\n\n# BEGIN SOLUTION\nins['Missing Score'] = (ins['score'] == -1).astype(\"str\")\n\nins_missing_score_pivot = ins.pivot_table(\n    index = \"type\", \n    columns = \"Missing Score\",\n    aggfunc = 'size',\n    fill_value = 0\n)\nins_missing_score_pivot['Total'] = ins_missing_score_pivot.sum(axis=1)\nins_missing_score_pivot.sort_values('Total', inplace=True, ascending=False)\nins_missing_score_pivot\n# END SOLUTION",
    "id": "ddcd89e0bfbc4a0ebd0b7850fbfd27dd",
    "idx": 170,
    "time": "2021-02-02T19:14:20.394Z",
    "type": "execution"
   },
   {
    "code": "# TEST\nif type(ins_missing_score_pivot) == pd.DataFrame:\n    if False in ins_missing_score_pivot.columns: \n        ins_missing_score_pivot.rename(columns={False:\"False\"}, errors=\"raise\",inplace=True)\n    if True in ins_missing_score_pivot.columns:\n        ins_missing_score_pivot.rename(columns={True:\"True\"}, errors=\"raise\",inplace=True)\ntype(ins_missing_score_pivot) == pd.DataFrame",
    "id": "ddfe3842afac433e8edea870c97f60a6",
    "idx": 171,
    "time": "2021-02-02T19:14:20.481Z",
    "type": "execution"
   },
   {
    "code": "# HIDDEN TEST\nset(ins_missing_score_pivot.columns) == {'False', 'Total', 'True'}",
    "id": "d6617d536d7a493c9006a97364149024",
    "idx": 172,
    "time": "2021-02-02T19:14:20.549Z",
    "type": "execution"
   },
   {
    "code": "# HIDDEN TEST\nlen(ins_missing_score_pivot) == 15",
    "id": "8bca760c6c5e4d4cb3e1acc8bc2d922f",
    "idx": 173,
    "time": "2021-02-02T19:14:20.616Z",
    "type": "execution"
   },
   {
    "code": "# HIDDEN TEST\nins_missing_score_pivot[\"False\"][\"Routine - Unscheduled\"] == 14031 ",
    "id": "95ce40158a9940c29ea53a7c35ce8da1",
    "idx": 174,
    "time": "2021-02-02T19:14:20.744Z",
    "type": "execution"
   },
   {
    "code": "# HIDDEN TEST\nins_missing_score_pivot.iloc[0,2] == 14077",
    "id": "097f924c249946cab6830babe9a6f304",
    "idx": 175,
    "time": "2021-02-02T19:14:20.817Z",
    "type": "execution"
   },
   {
    "id": "e101e298245e4ea6a1fc39951bc34238",
    "time": "2021-02-02T19:14:21.002Z",
    "type": "completion"
   },
   {
    "id": "1bed9d6a6b4946b986d18f5149c391de",
    "time": "2021-02-02T19:14:21.006Z",
    "type": "completion"
   },
   {
    "id": "347cc8e6c6a045d1864f99b610a9b209",
    "time": "2021-02-02T19:14:21.009Z",
    "type": "completion"
   },
   {
    "id": "ddcd89e0bfbc4a0ebd0b7850fbfd27dd",
    "time": "2021-02-02T19:14:21.015Z",
    "type": "completion"
   },
   {
    "id": "ddfe3842afac433e8edea870c97f60a6",
    "time": "2021-02-02T19:14:21.020Z",
    "type": "completion"
   },
   {
    "id": "d6617d536d7a493c9006a97364149024",
    "time": "2021-02-02T19:14:21.023Z",
    "type": "completion"
   },
   {
    "id": "8bca760c6c5e4d4cb3e1acc8bc2d922f",
    "time": "2021-02-02T19:14:21.026Z",
    "type": "completion"
   },
   {
    "id": "95ce40158a9940c29ea53a7c35ce8da1",
    "time": "2021-02-02T19:14:21.028Z",
    "type": "completion"
   },
   {
    "id": "097f924c249946cab6830babe9a6f304",
    "time": "2021-02-02T19:14:21.031Z",
    "type": "completion"
   },
   {
    "code": "ins = ins[ins[\"score\"] > 0]",
    "id": "86f8fa68e92c496d8bdb488f0f04d2c5",
    "idx": 179,
    "time": "2021-02-02T19:14:21.359Z",
    "type": "execution"
   },
   {
    "id": "86f8fa68e92c496d8bdb488f0f04d2c5",
    "time": "2021-02-02T19:14:21.436Z",
    "type": "completion"
   },
   {
    "code": "ins_named = ...\n# BEGIN SOLUTION\nins_named = ins.merge(bus[[\"bid\", \"name\", \"address\"]], how=\"left\", left_on = \"bid\", right_on = \"bid\") \n# END SOLUTION\nins_named.head()",
    "id": "37306bef89c146cf9c127aa8cf1ce7e0",
    "idx": 181,
    "time": "2021-02-02T19:14:22.037Z",
    "type": "execution"
   },
   {
    "id": "37306bef89c146cf9c127aa8cf1ce7e0",
    "time": "2021-02-02T19:14:22.163Z",
    "type": "completion"
   },
   {
    "code": "# TEST\n\"name\" in ins_named and \"address\" in ins_named",
    "id": "b5cc9f0cb9ad441c82ebe8f36a637d7a",
    "idx": 182,
    "time": "2021-02-02T19:14:22.197Z",
    "type": "execution"
   },
   {
    "id": "b5cc9f0cb9ad441c82ebe8f36a637d7a",
    "time": "2021-02-02T19:14:22.348Z",
    "type": "completion"
   },
   {
    "code": "# TEST\nins_named[ins_named[\"Missing Score\"] == True].shape[0] == 0",
    "id": "42410bcf22654c8e8756214a1034f8fb",
    "idx": 183,
    "time": "2021-02-02T19:14:22.365Z",
    "type": "execution"
   },
   {
    "id": "42410bcf22654c8e8756214a1034f8fb",
    "time": "2021-02-02T19:14:22.458Z",
    "type": "completion"
   },
   {
    "code": "# TEST\nins_named.reset_index()['date'].equals(ins[ins['score'] > 0].reset_index()['date'])",
    "id": "c7dcbdb0e8244b96848a51f10dfc0361",
    "idx": 184,
    "time": "2021-02-02T19:14:22.534Z",
    "type": "execution"
   },
   {
    "id": "c7dcbdb0e8244b96848a51f10dfc0361",
    "time": "2021-02-02T19:14:22.658Z",
    "type": "completion"
   },
   {
    "code": "# HIDDEN TEST\nnp.isclose(sum(ins_named['name'].isnull()), 0, rtol=5)",
    "id": "e57b7ed86b1f475a878f0e49a4db78a1",
    "idx": 185,
    "time": "2021-02-02T19:14:22.739Z",
    "type": "execution"
   },
   {
    "code": "# HIDDEN TEST\nsol_merged = ins.merge(bus[[\"bid\", \"name\", \"address\"]], how=\"left\", left_on = \"bid\", right_on = \"bid\")\nins_named.equals(sol_merged[sol_merged[\"score\"] > 0])",
    "id": "d56bc7295dea4a3f995e65ef39d152e9",
    "idx": 186,
    "time": "2021-02-02T19:14:22.870Z",
    "type": "execution"
   },
   {
    "id": "e57b7ed86b1f475a878f0e49a4db78a1",
    "time": "2021-02-02T19:14:23.062Z",
    "type": "completion"
   },
   {
    "code": "twenty_lowest_scoring = ... \n# BEGIN SOLUTION\ntwenty_lowest_scoring = (\n    ins_named.groupby('bid', as_index=False)\n        .aggregate({'name': 'first', 'score': 'median'})\n        .sort_values(['score', 'bid'] )\n        .rename(columns={'score': 'median score'})\n        .head(20)\n)\n# END SOLUTION\n\ntwenty_lowest_scoring",
    "id": "2653471cfa21432282da340c9f24e09d",
    "idx": 188,
    "time": "2021-02-02T19:14:23.155Z",
    "type": "execution"
   },
   {
    "id": "d56bc7295dea4a3f995e65ef39d152e9",
    "time": "2021-02-02T19:14:23.218Z",
    "type": "completion"
   },
   {
    "id": "2653471cfa21432282da340c9f24e09d",
    "time": "2021-02-02T19:14:23.290Z",
    "type": "completion"
   },
   {
    "code": "# TEST\ntwenty_lowest_scoring.shape == (20, 3)",
    "id": "a0cbff270b9a49528ea059df4d47e005",
    "idx": 189,
    "time": "2021-02-02T19:14:23.319Z",
    "type": "execution"
   },
   {
    "id": "a0cbff270b9a49528ea059df4d47e005",
    "time": "2021-02-02T19:14:23.455Z",
    "type": "completion"
   },
   {
    "code": "# TEST\nset(twenty_lowest_scoring.columns) == {'bid', 'median score', 'name'}",
    "id": "54edef5ca919419f93f437b023a8d63a",
    "idx": 190,
    "time": "2021-02-02T19:14:23.471Z",
    "type": "execution"
   },
   {
    "id": "54edef5ca919419f93f437b023a8d63a",
    "time": "2021-02-02T19:14:23.566Z",
    "type": "completion"
   },
   {
    "code": "# HIDDEN TEST\n# print(twenty_lowest_scoring.to_html().replace(\"\\n\",\"\"))\nset(twenty_lowest_scoring[\"median score\"].values) == {54 , 57 , 58 , 60.5, 63.5, 64, \n                                                      64 , 64 , 64 , 64 , 64, 64.5, \n                                                      64.5, 64.5, 65, 65, 66, 66, 66, 66.5\n                                                      }",
    "id": "f38048970e414bcd816a2c4e3d6a36ab",
    "idx": 191,
    "time": "2021-02-02T19:14:23.640Z",
    "type": "execution"
   },
   {
    "id": "f38048970e414bcd816a2c4e3d6a36ab",
    "time": "2021-02-02T19:14:23.753Z",
    "type": "completion"
   },
   {
    "code": "low_score_violations = ...\n\n# BEGIN SOLUTION\nlow_score_violations = (\n    ins_named[ins_named['score'] < 65]\n        .merge(ins2vio, on='iid')\n        .merge(vio, on='vid')\n        .loc[:,'description']\n        .value_counts()\n        .sort_values(ascending=False)\n)\n# END SOLUTION\n\nlow_score_violations.head(20)",
    "id": "df933738e5c341388bfde2997f4ef368",
    "idx": 193,
    "time": "2021-02-02T19:14:23.940Z",
    "type": "execution"
   },
   {
    "id": "df933738e5c341388bfde2997f4ef368",
    "time": "2021-02-02T19:14:24.064Z",
    "type": "completion"
   },
   {
    "code": "# TEST\ntype(low_score_violations) == pd.Series",
    "id": "33da4dc61f5241928d24b7d35fed581b",
    "idx": 194,
    "time": "2021-02-02T19:14:24.146Z",
    "type": "execution"
   },
   {
    "code": "# TEST\nlen(low_score_violations) == 50",
    "id": "14594abe8653470c87c9b8d38cdb22ab",
    "idx": 195,
    "time": "2021-02-02T19:14:24.290Z",
    "type": "execution"
   },
   {
    "id": "33da4dc61f5241928d24b7d35fed581b",
    "time": "2021-02-02T19:14:24.354Z",
    "type": "completion"
   },
   {
    "id": "14594abe8653470c87c9b8d38cdb22ab",
    "time": "2021-02-02T19:14:24.384Z",
    "type": "completion"
   },
   {
    "code": "# TEST\nlow_score_violations[0] == 43",
    "id": "e96995a515cb40f58900b1a26a66f9cd",
    "idx": 196,
    "time": "2021-02-02T19:14:24.473Z",
    "type": "execution"
   },
   {
    "code": "# HIDDEN TEST\nnp.all(low_score_violations.head().values == np.array([43, 42, 40, 39, 37]))",
    "id": "c55f865470ab48f0892667bb0311b44d",
    "idx": 197,
    "time": "2021-02-02T19:14:24.612Z",
    "type": "execution"
   },
   {
    "id": "e96995a515cb40f58900b1a26a66f9cd",
    "time": "2021-02-02T19:14:24.726Z",
    "type": "completion"
   },
   {
    "id": "c55f865470ab48f0892667bb0311b44d",
    "time": "2021-02-02T19:14:24.731Z",
    "type": "completion"
   },
   {
    "code": "worst_restaurant = ...\n# BEGIN SOLUTION NO PROMPT\nworst_restaurant = ins_named.sort_values('score', ascending=False).tail(1)['name'].iloc[0]\n# END SOLUTION\nworst_restaurant",
    "id": "4eba39da03274be7b124d99371b453d3",
    "idx": 199,
    "time": "2021-02-02T19:14:24.889Z",
    "type": "execution"
   },
   {
    "id": "4eba39da03274be7b124d99371b453d3",
    "time": "2021-02-02T19:14:25.010Z",
    "type": "completion"
   },
   {
    "code": "# TEST\n(type(worst_restaurant) == str) and (len(worst_restaurant) > 0) ",
    "id": "ec0792de9d914ce1ae5b7f818c34d4c4",
    "idx": 200,
    "time": "2021-02-02T19:14:25.090Z",
    "type": "execution"
   },
   {
    "code": "# HIDDEN TEST\nworst_restaurant.strip().lower() == 'lollipot'",
    "id": "e4d3676480774509815f398a0c37cec7",
    "idx": 201,
    "time": "2021-02-02T19:14:25.223Z",
    "type": "execution"
   },
   {
    "id": "ec0792de9d914ce1ae5b7f818c34d4c4",
    "time": "2021-02-02T19:14:25.335Z",
    "type": "completion"
   },
   {
    "id": "e4d3676480774509815f398a0c37cec7",
    "time": "2021-02-02T19:14:25.385Z",
    "type": "completion"
   },
   {
    "code": "# BEGIN SOLUTION\nscore_counts = ins.loc[ins[\"score\"] > 0, 'score'].value_counts()\nplt.bar(score_counts.keys(), score_counts, edgecolor='black')\nplt.xlabel(\"Score\")\nplt.ylabel(\"Count\")\nplt.title(\"Distribution of Inspection Scores\");\n# END SOLUTION",
    "id": "c19741150b9e49c3a8158da29f2886f7",
    "idx": 204,
    "time": "2021-02-02T19:14:25.690Z",
    "type": "execution"
   },
   {
    "code": "score_counts",
    "id": "61684c379131419fae4868c88ac97b53",
    "idx": 205,
    "time": "2021-02-02T19:14:25.906Z",
    "type": "execution"
   },
   {
    "id": "c19741150b9e49c3a8158da29f2886f7",
    "time": "2021-02-02T19:14:26.190Z",
    "type": "completion"
   },
   {
    "id": "61684c379131419fae4868c88ac97b53",
    "time": "2021-02-02T19:14:26.193Z",
    "type": "completion"
   },
   {
    "code": "# BEGIN SOLUTION NO PROMPT\ndef swing(s):\n    if len(s) < 3:\n        return 0\n    return max(s) - min(s)\n\nswing_series = ins_named['score'].groupby(ins_named['bid']).agg(swing).rename('swing')\nbus_swing = pd.concat([bus.set_index('bid'), swing_series], axis=1).sort_values(\"swing\", ascending=False)\n# END SOLUTION\nmax_swing = bus_swing.iloc[0]['name'] # SOLUTION\nmax_swing",
    "id": "e1e500371c5c4f508b572e6659ff4526",
    "idx": 211,
    "time": "2021-02-02T19:14:26.988Z",
    "type": "execution"
   },
   {
    "id": "e1e500371c5c4f508b572e6659ff4526",
    "time": "2021-02-02T19:14:27.121Z",
    "type": "completion"
   },
   {
    "code": "# TEST\nmax_swing in set(bus['name'])",
    "id": "33e86113a3db41d18710f8da35440d8f",
    "idx": 212,
    "time": "2021-02-02T19:14:27.197Z",
    "type": "execution"
   },
   {
    "id": "33e86113a3db41d18710f8da35440d8f",
    "time": "2021-02-02T19:14:27.322Z",
    "type": "completion"
   },
   {
    "code": "# HIDDEN TEST\nmax_swing == 'Lollipot'",
    "id": "107fe7065c98460c84190d880f1fedb8",
    "idx": 213,
    "time": "2021-02-02T19:14:27.342Z",
    "type": "execution"
   },
   {
    "id": "107fe7065c98460c84190d880f1fedb8",
    "time": "2021-02-02T19:14:27.443Z",
    "type": "completion"
   },
   {
    "code": "ins2018 = ins[ins['year'] == 2018]\n# Create the dataframe here\nscores_pairs_by_business = ...\n# BEGIN SOLUTION NO PROMPT\n# SOLUTION 1\nscores_pairs_by_business = (ins2018.sort_values('date')\n                            .loc[:, ['bid', 'score']]\n                            .groupby('bid')\n                            .filter(lambda group: len(group)==2)\n                            .groupby('bid')\n                            .agg(list)\n                            .rename(columns={'score':'score_pair'}))\n\n# SOLUTION 2\nscores_pairs_by_business = (ins2018.sort_values('date')\n                            .groupby('bid')\n                            .filter(lambda group: len(group)==2)\n                            .groupby('bid')\n                            .agg({'score': lambda group: group.tolist()})\n                            .rename(columns={'score':'score_pair'}))\nscores_pairs_by_business.head()\n# END SOLUTION\nscores_pairs_by_business",
    "id": "253c9c5a0b604051853484d413ba3e8f",
    "idx": 215,
    "time": "2021-02-02T19:14:27.694Z",
    "type": "execution"
   },
   {
    "code": "# TEST\nisinstance(scores_pairs_by_business, pd.DataFrame)",
    "id": "7e527ee1ec334b3c81f13de3737b00dc",
    "idx": 216,
    "time": "2021-02-02T19:14:27.877Z",
    "type": "execution"
   },
   {
    "code": "# TEST\nscores_pairs_by_business.columns[0] == 'score_pair'",
    "id": "127670524a7a4d9d89b75118fc95b3aa",
    "idx": 217,
    "time": "2021-02-02T19:14:28.050Z",
    "type": "execution"
   },
   {
    "id": "253c9c5a0b604051853484d413ba3e8f",
    "time": "2021-02-02T19:14:28.176Z",
    "type": "completion"
   },
   {
    "id": "7e527ee1ec334b3c81f13de3737b00dc",
    "time": "2021-02-02T19:14:28.187Z",
    "type": "completion"
   },
   {
    "id": "127670524a7a4d9d89b75118fc95b3aa",
    "time": "2021-02-02T19:14:28.191Z",
    "type": "completion"
   },
   {
    "code": "# HIDDEN TEST\n\nstudent_arr = np.array(scores_pairs_by_business.values.tolist()).squeeze()\n\n# Now we will check the head score pares\n# score_pair\n# business_id\n# 24 [96, 98]\n# 45 [78, 84]\n# 66 [98, 100]\n# 67 [87, 94]\n# 76 [100, 98]\n\n([96, 98] in student_arr and\\\n    [78, 84] in student_arr and\\\n        [98, 100] in student_arr and\\\n            [87, 94] in student_arr and\\\n                [100, 98] in student_arr) == True",
    "id": "2cd8b974c00b45f0bba164c9cffd4d5d",
    "idx": 218,
    "time": "2021-02-02T19:14:28.276Z",
    "type": "execution"
   },
   {
    "id": "2cd8b974c00b45f0bba164c9cffd4d5d",
    "time": "2021-02-02T19:14:28.381Z",
    "type": "completion"
   },
   {
    "code": "# BEGIN SOLUTION\nfirst_score, second_score = zip(*scores_pairs_by_business['score_pair'])\nplt.scatter(first_score,second_score,s = 20, facecolors='none',edgecolors='b')\nplt.plot([55,100],[55,100],'r-')\nplt.xlabel('First Score')\nplt.ylabel('Second Score')\nplt.axis([55,100,55,100])\nplt.title(\"First Inspection Score vs. Second Inspection Score\");\n# END SOLUTION",
    "id": "3dba65d132484a0f96db64482d2abe17",
    "idx": 220,
    "time": "2021-02-02T19:14:28.696Z",
    "type": "execution"
   },
   {
    "id": "3dba65d132484a0f96db64482d2abe17",
    "time": "2021-02-02T19:14:29.162Z",
    "type": "completion"
   },
   {
    "code": "# Do not modify this line\nsns.set()\n\n# BEGIN SOLUTION\nins_17_to_19 = ins[(ins['year'] >= 2017) & (ins['year'] <= 2019)]\nins_vid_joined = ins_17_to_19.merge(ins2vio, on='iid').merge(vio, on='vid')\nplt.figure(figsize=(12,8))\nins_vid_joined['risk_cat'] = 0\nins_vid_joined.loc[ins_vid_joined['risk_category'] == \"Moderate Risk\" , 'risk_cat'] = 1\nins_vid_joined.loc[ins_vid_joined['risk_category'] == \"High Risk\", 'risk_cat'] = 2\nsns.boxplot(x=\"year\", y=\"score\", hue='risk_category', data=ins_vid_joined.sort_values(\"risk_cat\"), \n            linewidth=0.8);\n# END SOLUTION",
    "id": "da672db2a00a40fa97361fdc81d9fb9a",
    "idx": 224,
    "time": "2021-02-02T19:14:29.402Z",
    "type": "execution"
   },
   {
    "id": "da672db2a00a40fa97361fdc81d9fb9a",
    "time": "2021-02-02T19:14:30.059Z",
    "type": "completion"
   },
   {
    "code": "# YOUR QUESTION HERE (in a comment)\n\n# YOUR DATA PROCESSING AND PLOTTING HERE\n\n# YOUR SUMMARY AND CONCLUSION HERE (in a comment)",
    "id": "1f8a72a1ca0c4061a54a6224e4046dcd",
    "idx": 229,
    "time": "2021-02-02T19:14:30.597Z",
    "type": "execution"
   },
   {
    "id": "1f8a72a1ca0c4061a54a6224e4046dcd",
    "time": "2021-02-02T19:14:30.684Z",
    "type": "completion"
   },
   {
    "code": "# path to directory containing data\ndsDir = Path('data')\n\nbus = pd.read_csv(dsDir/'bus.csv', encoding='ISO-8859-1') # SOLUTION\nins2vio = pd.read_csv(dsDir/'ins2vio.csv') # SOLUTION\nins = pd.read_csv(dsDir/'ins.csv') # SOLUTION\nvio = pd.read_csv(dsDir/'vio.csv') # SOLUTION\n\n#This code is essential for the autograder to function properly. Do not edit\nins_test = ins",
    "id": "61327bcbe7be4ffe8125a062949fad16",
    "idx": 23,
    "time": "2021-02-02T19:16:01.744Z",
    "type": "execution"
   },
   {
    "id": "61327bcbe7be4ffe8125a062949fad16",
    "time": "2021-02-02T19:16:01.883Z",
    "type": "completion"
   },
   {
    "code": "bus.head() # SOLUTION",
    "id": "710553f554a844418bc484377b152380",
    "idx": 25,
    "time": "2021-02-02T19:16:03.453Z",
    "type": "execution"
   },
   {
    "id": "710553f554a844418bc484377b152380",
    "time": "2021-02-02T19:16:03.584Z",
    "type": "completion"
   },
   {
    "code": "bus.describe() # SOLUTION",
    "id": "b7ffd9e1bf3b48ae8025305c1167cb2b",
    "idx": 27,
    "time": "2021-02-02T19:16:04.436Z",
    "type": "execution"
   },
   {
    "id": "b7ffd9e1bf3b48ae8025305c1167cb2b",
    "time": "2021-02-02T19:16:04.594Z",
    "type": "completion"
   },
   {
    "code": "assert all(bus.columns == ['business id column', 'name', 'address', 'city', 'state', 'postal_code',\n                           'latitude', 'longitude', 'phone_number'])\nassert 6250 <= len(bus) <= 6260\n\nassert all(ins.columns == ['iid', 'date', 'score', 'type'])\nassert 26660 <= len(ins) <= 26670\n\nassert all(vio.columns == ['description', 'risk_category', 'vid'])\nassert 60 <= len(vio) <= 65\n\nassert all(ins2vio.columns == ['iid', 'vid'])\nassert 40210 <= len(ins2vio) <= 40220",
    "id": "3a87d472df0843918bb44647b361634e",
    "idx": 30,
    "time": "2021-02-02T19:16:06.920Z",
    "type": "execution"
   },
   {
    "id": "3a87d472df0843918bb44647b361634e",
    "time": "2021-02-02T19:16:06.991Z",
    "type": "completion"
   },
   {
    "code": "bus_summary = pd.DataFrame(**{'columns': ['business id column', 'latitude', 'longitude'],\n 'data': {'business id column': {'50%': 75685.0, 'max': 102705.0, 'min': 19.0},\n  'latitude': {'50%': -9999.0, 'max': 37.824494, 'min': -9999.0},\n  'longitude': {'50%': -9999.0,\n   'max': 0.0,\n   'min': -9999.0}},\n 'index': ['min', '50%', 'max']})\n\nins_summary = pd.DataFrame(**{'columns': ['score'],\n 'data': {'score': {'50%': 76.0, 'max': 100.0, 'min': -1.0}},\n 'index': ['min', '50%', 'max']})\n\nvio_summary = pd.DataFrame(**{'columns': ['vid'],\n 'data': {'vid': {'50%': 103135.0, 'max': 103177.0, 'min': 103102.0}},\n 'index': ['min', '50%', 'max']})\n\nfrom IPython.display import display\n\nprint('What we expect from your Businesses dataframe:')\ndisplay(bus_summary)\nprint('What we expect from your Inspections dataframe:')\ndisplay(ins_summary)\nprint('What we expect from your Violations dataframe:')\ndisplay(vio_summary)",
    "id": "1f3ec826d9e8407fb44fff1d16844287",
    "idx": 32,
    "time": "2021-02-02T19:16:07.641Z",
    "type": "execution"
   },
   {
    "id": "1f3ec826d9e8407fb44fff1d16844287",
    "time": "2021-02-02T19:16:07.772Z",
    "type": "completion"
   },
   {
    "code": "\"\"\"Run this cell to load this utility comparison function that we will use in various\ntests below (both tests you can see and those we run internally for grading).\n\nDo not modify the function in any way.\n\"\"\"\n\n\ndef df_allclose(actual, desired, columns=None, rtol=5e-2):\n    \"\"\"Compare selected columns of two dataframes on a few summary statistics.\n    \n    Compute the min, median and max of the two dataframes on the given columns, and compare\n    that they match numerically to the given relative tolerance.\n    \n    If they don't match, an AssertionError is raised (by `numpy.testing`).\n    \"\"\"    \n    # summary statistics to compare on\n    stats = ['min', '50%', 'max']\n    \n    # For the desired values, we can provide a full DF with the same structure as\n    # the actual data, or pre-computed summary statistics.\n    # We assume a pre-computed summary was provided if columns is None. In that case, \n    # `desired` *must* have the same structure as the actual's summary\n    if columns is None:\n        des = desired\n        columns = desired.columns\n    else:\n        des = desired[columns].describe().loc[stats]\n\n    # Extract summary stats from actual DF\n    act = actual[columns].describe().loc[stats]\n\n    return np.allclose(act, des, rtol)",
    "id": "c5cbc2753313473086eaff119eea901d",
    "idx": 35,
    "time": "2021-02-02T19:16:09.667Z",
    "type": "execution"
   },
   {
    "id": "c5cbc2753313473086eaff119eea901d",
    "time": "2021-02-02T19:16:09.770Z",
    "type": "completion"
   },
   {
    "code": "# TEST\ndf_allclose(bus.rename(columns = {\"bid\" : \"business id column\"}), bus_summary)",
    "id": "2df450b05f4f4b8581011f7cd7e4ce85",
    "idx": 36,
    "time": "2021-02-02T19:16:10.319Z",
    "type": "execution"
   },
   {
    "id": "2df450b05f4f4b8581011f7cd7e4ce85",
    "time": "2021-02-02T19:16:10.450Z",
    "type": "completion"
   },
   {
    "code": "# TEST\ndf_allclose(ins_test, ins_summary)",
    "id": "e0fc3bf730ad4e178876f39dc5015546",
    "idx": 37,
    "time": "2021-02-02T19:16:10.467Z",
    "type": "execution"
   },
   {
    "id": "e0fc3bf730ad4e178876f39dc5015546",
    "time": "2021-02-02T19:16:10.559Z",
    "type": "completion"
   },
   {
    "code": "# TEST\ndf_allclose(vio, vio_summary)",
    "id": "22601f6eed8f4e57800722b36730fd3b",
    "idx": 38,
    "time": "2021-02-02T19:16:10.646Z",
    "type": "execution"
   },
   {
    "code": "# TEST\ndf_allclose(ins2vio, vio_summary)",
    "id": "0f90e15de0fb49569840d18f516cc5cb",
    "idx": 39,
    "time": "2021-02-02T19:16:10.789Z",
    "type": "execution"
   },
   {
    "code": "# HIDDEN TEST\ndf_allclose(bus.rename(columns = {\"bid\" : \"business id column\"}), pd.read_csv(dsDir/'bus.csv', encoding='ISO-8859-1'), ['business id column', 'latitude', 'longitude'])",
    "id": "97d8a0c32b01499fbd350a8f761f7aa0",
    "idx": 40,
    "time": "2021-02-02T19:16:10.872Z",
    "type": "execution"
   },
   {
    "code": "# HIDDEN TEST\ndf_allclose(ins_test, pd.read_csv(dsDir/'ins.csv'), ['iid', 'score'])",
    "id": "b83711f8f95f4fb08365c6dc32ad8d55",
    "idx": 41,
    "time": "2021-02-02T19:16:11.036Z",
    "type": "execution"
   },
   {
    "id": "22601f6eed8f4e57800722b36730fd3b",
    "time": "2021-02-02T19:16:11.136Z",
    "type": "completion"
   },
   {
    "id": "0f90e15de0fb49569840d18f516cc5cb",
    "time": "2021-02-02T19:16:11.140Z",
    "type": "completion"
   },
   {
    "id": "97d8a0c32b01499fbd350a8f761f7aa0",
    "time": "2021-02-02T19:16:11.144Z",
    "type": "completion"
   },
   {
    "id": "b83711f8f95f4fb08365c6dc32ad8d55",
    "time": "2021-02-02T19:16:11.241Z",
    "type": "completion"
   },
   {
    "code": "# HIDDEN TEST\ndf_allclose(vio, pd.read_csv(dsDir/'vio.csv'), ['vid'])",
    "id": "2ba622615d874159900f29e6b257e93f",
    "idx": 42,
    "time": "2021-02-02T19:16:22.036Z",
    "type": "execution"
   },
   {
    "id": "2ba622615d874159900f29e6b257e93f",
    "time": "2021-02-02T19:16:22.182Z",
    "type": "completion"
   },
   {
    "code": "# HIDDEN TEST\ndf_allclose(ins2vio, pd.read_csv(dsDir/'ins2vio.csv'), ['vid'])",
    "id": "93e1d2031a7b447b8fcf53b7b325caa2",
    "idx": 43,
    "time": "2021-02-02T19:16:22.710Z",
    "type": "execution"
   },
   {
    "id": "93e1d2031a7b447b8fcf53b7b325caa2",
    "time": "2021-02-02T19:16:22.829Z",
    "type": "completion"
   },
   {
    "code": "bus.head()",
    "id": "25c542753bf842f38a0ea2d8a924d082",
    "idx": 50,
    "time": "2021-02-02T19:16:32.254Z",
    "type": "execution"
   },
   {
    "id": "25c542753bf842f38a0ea2d8a924d082",
    "time": "2021-02-02T19:16:32.412Z",
    "type": "completion"
   },
   {
    "code": "bus = bus.rename(columns={\"business id column\": \"bid\"})",
    "id": "62574fc778a940e382d2bc495a9a31ee",
    "idx": 52,
    "time": "2021-02-02T19:16:39.359Z",
    "type": "execution"
   },
   {
    "id": "62574fc778a940e382d2bc495a9a31ee",
    "time": "2021-02-02T19:16:39.440Z",
    "type": "completion"
   },
   {
    "code": "is_bid_unique = bus['bid'].value_counts().max() == 1 # SOLUTION",
    "id": "3cf7464b1e594cb4852fc0a2371a70de",
    "idx": 54,
    "time": "2021-02-02T19:16:41.424Z",
    "type": "execution"
   },
   {
    "id": "3cf7464b1e594cb4852fc0a2371a70de",
    "time": "2021-02-02T19:16:41.527Z",
    "type": "completion"
   },
   {
    "code": "# TEST\nis_bid_unique or ~is_bid_unique",
    "id": "ccdd3fb0a1b8443892deea6314da7ded",
    "idx": 55,
    "time": "2021-02-02T19:16:42.037Z",
    "type": "execution"
   },
   {
    "id": "ccdd3fb0a1b8443892deea6314da7ded",
    "time": "2021-02-02T19:16:42.177Z",
    "type": "completion"
   },
   {
    "code": "# HIDDEN TEST\nis_bid_unique",
    "id": "d74f5f926f134fd28f1ef1989d5bc70a",
    "idx": 56,
    "time": "2021-02-02T19:16:42.702Z",
    "type": "execution"
   },
   {
    "id": "d74f5f926f134fd28f1ef1989d5bc70a",
    "time": "2021-02-02T19:16:42.836Z",
    "type": "completion"
   },
   {
    "code": "top_names = np.array(bus['name'].value_counts()[:5].index) # SOLUTION\ntop_names",
    "id": "3102c44d45ba46948ca163d2cf5fdfc6",
    "idx": 58,
    "time": "2021-02-02T19:16:44.067Z",
    "type": "execution"
   },
   {
    "id": "3102c44d45ba46948ca163d2cf5fdfc6",
    "time": "2021-02-02T19:16:44.196Z",
    "type": "completion"
   },
   {
    "code": "top_addresses = np.array(bus['address'].value_counts()[:5].index) # SOLUTION\ntop_addresses",
    "id": "7ac84808f32b414b80e95c7984ba037e",
    "idx": 59,
    "time": "2021-02-02T19:16:47.660Z",
    "type": "execution"
   },
   {
    "id": "7ac84808f32b414b80e95c7984ba037e",
    "time": "2021-02-02T19:16:47.785Z",
    "type": "completion"
   },
   {
    "code": "# TEST\nassert type(top_names) == np.ndarray\nassert type(top_addresses) == np.ndarray\nassert len(top_names) == 5\nlen(top_addresses) == 5",
    "id": "b9dc7052a5ea4ff48bef057d3f8155a5",
    "idx": 60,
    "time": "2021-02-02T19:16:47.930Z",
    "type": "execution"
   },
   {
    "id": "b9dc7052a5ea4ff48bef057d3f8155a5",
    "time": "2021-02-02T19:16:48.066Z",
    "type": "completion"
   },
   {
    "code": "# TEST \nassert top_names[0] == \"Peet's Coffee & Tea\"\ntop_addresses[0] == 'Off The Grid'",
    "id": "2332b5a0ca1647228004cfaf2fe4723d",
    "idx": 61,
    "time": "2021-02-02T19:16:48.763Z",
    "type": "execution"
   },
   {
    "id": "2332b5a0ca1647228004cfaf2fe4723d",
    "time": "2021-02-02T19:16:48.892Z",
    "type": "completion"
   },
   {
    "code": "# HIDDEN TEST\nnp.all(top_names == np.array(bus['name'].value_counts()[:5].index))",
    "id": "22aad868a94144f9adf85c022eb33661",
    "idx": 62,
    "time": "2021-02-02T19:16:49.656Z",
    "type": "execution"
   },
   {
    "id": "22aad868a94144f9adf85c022eb33661",
    "time": "2021-02-02T19:16:49.783Z",
    "type": "completion"
   },
   {
    "code": "# HIDDEN TEST\nnp.all(top_addresses == np.array(bus['address'].value_counts()[:5].index))",
    "id": "63b3d514eb924187a98163ff9a5b324a",
    "idx": 63,
    "time": "2021-02-02T19:16:56.107Z",
    "type": "execution"
   },
   {
    "id": "63b3d514eb924187a98163ff9a5b324a",
    "time": "2021-02-02T19:16:56.246Z",
    "type": "completion"
   },
   {
    "code": "# What does each record represent?  Valid answers are:\n#    \"One location of a restaurant.\"\n#    \"A chain of restaurants.\"\n#    \"A city block.\"\nq1e_part1 = \"One location of a restaurant.\" # SOLUTION\n\n# What is the minimal primary key? Valid answers are:\n#    \"bid\"\n#    \"bid, name\"\n#    \"bid, name, address\"\nq1e_part2 = \"bid\" # SOLUTION",
    "id": "85ab3f43a41e4913922bedcead55f00a",
    "idx": 65,
    "time": "2021-02-02T19:16:56.842Z",
    "type": "execution"
   },
   {
    "id": "85ab3f43a41e4913922bedcead55f00a",
    "time": "2021-02-02T19:16:56.926Z",
    "type": "completion"
   },
   {
    "code": "# TEST\nq1e_part1 in set([\"One location of a restaurant.\", \"A chain of restaurants.\", \"A city block.\"])",
    "id": "295962ff38ae46b78f74b2c8b8df2aa8",
    "idx": 66,
    "time": "2021-02-02T19:16:58.019Z",
    "type": "execution"
   },
   {
    "id": "295962ff38ae46b78f74b2c8b8df2aa8",
    "time": "2021-02-02T19:16:58.149Z",
    "type": "completion"
   },
   {
    "code": "# TEST\nq1e_part2 in set([\"bid\", \"bid, name\", \"bid, name, address\"])",
    "id": "10c23dd0b90f4fcbb32a863ef0c1c34c",
    "idx": 67,
    "time": "2021-02-02T19:16:58.236Z",
    "type": "execution"
   },
   {
    "id": "10c23dd0b90f4fcbb32a863ef0c1c34c",
    "time": "2021-02-02T19:16:58.368Z",
    "type": "completion"
   },
   {
    "code": "# HIDDEN TEST\nq1e_part1 == \"One location of a restaurant.\" ",
    "id": "1fd44184d9c541bbb4d4aaa9e3c06789",
    "idx": 68,
    "time": "2021-02-02T19:16:58.900Z",
    "type": "execution"
   },
   {
    "id": "1fd44184d9c541bbb4d4aaa9e3c06789",
    "time": "2021-02-02T19:16:59.029Z",
    "type": "completion"
   },
   {
    "code": "# HIDDEN TEST\nq1e_part2 == \"bid\"",
    "id": "95db99336a6d4c288e3968e3341cbb7e",
    "idx": 69,
    "time": "2021-02-02T19:16:59.602Z",
    "type": "execution"
   },
   {
    "id": "95db99336a6d4c288e3968e3341cbb7e",
    "time": "2021-02-02T19:16:59.727Z",
    "type": "completion"
   },
   {
    "code": "zip_counts = bus.groupby(\"postal_code\").size().sort_values(ascending=False) # SOLUTION\nprint(zip_counts.to_string())",
    "id": "b8303a27f4bc4396813eed0ca8330c80",
    "idx": 72,
    "time": "2021-02-02T19:17:20.318Z",
    "type": "execution"
   },
   {
    "id": "b8303a27f4bc4396813eed0ca8330c80",
    "time": "2021-02-02T19:17:20.479Z",
    "type": "completion"
   },
   {
    "code": "# HIDDEN TEST\nnp.isclose(zip_counts.mean(), bus['postal_code'].value_counts().mean())",
    "id": "b982e6f76bf742f486de8ab360d13ab3",
    "idx": 77,
    "time": "2021-02-02T19:20:53.568Z",
    "type": "execution"
   },
   {
    "id": "b982e6f76bf742f486de8ab360d13ab3",
    "time": "2021-02-02T19:20:53.761Z",
    "type": "completion"
   },
   {
    "code": "# The ZIP code column is which of the following type of data:\n#   \"Quantitative Continuous\" \n#   \"Quantitative Discrete\"\n#   \"Qualitative Ordinal\"\n#   \"Qualitative Nominal\"\nq2b_part1 = \"Qualitative Nominal\" # SOLUTION\n\n# What Python data type is used to represent a ZIP code? \n#    \"str\"\n#    \"int\"\n#    \"bool\"\n#    \"float\"\nq2b_part2 = \"str\" # SOLUTION",
    "id": "a7ca7ae3b9dd48928c4691396a690113",
    "idx": 79,
    "time": "2021-02-02T19:22:04.588Z",
    "type": "execution"
   },
   {
    "id": "a7ca7ae3b9dd48928c4691396a690113",
    "time": "2021-02-02T19:22:04.710Z",
    "type": "completion"
   },
   {
    "code": "# TEST\nq2b_part1 in set([\"Quantitative Continuous\", \"Quantitative Discrete\", \n                  \"Qualitative Ordinal\", \"Qualitative Nominal\"])",
    "id": "dd64b92301624c2d8f6a0af63808f3fd",
    "idx": 80,
    "time": "2021-02-02T19:22:05.032Z",
    "type": "execution"
   },
   {
    "code": "# TEST\nq2b_part2 in set([\"str\", \"int\", \"bool\", \"float\"])",
    "id": "71a0d66b4af3489fb11207d12b50bdd4",
    "idx": 81,
    "time": "2021-02-02T19:22:05.261Z",
    "type": "execution"
   },
   {
    "code": "# HIDDEN TEST\nq2b_part1 == \"Qualitative Nominal\"",
    "id": "ed4bd023113a4bbeb4afb3d0e8fae5aa",
    "idx": 82,
    "time": "2021-02-02T19:22:05.398Z",
    "type": "execution"
   },
   {
    "code": "# HIDDEN TEST\nq2b_part2 == \"str\"",
    "id": "3779d06fac5841629e72b11c832b47c7",
    "idx": 83,
    "time": "2021-02-02T19:22:05.628Z",
    "type": "execution"
   },
   {
    "id": "dd64b92301624c2d8f6a0af63808f3fd",
    "time": "2021-02-02T19:22:05.681Z",
    "type": "completion"
   },
   {
    "id": "71a0d66b4af3489fb11207d12b50bdd4",
    "time": "2021-02-02T19:22:05.684Z",
    "type": "completion"
   },
   {
    "id": "ed4bd023113a4bbeb4afb3d0e8fae5aa",
    "time": "2021-02-02T19:22:05.687Z",
    "type": "completion"
   },
   {
    "id": "3779d06fac5841629e72b11c832b47c7",
    "time": "2021-02-02T19:22:05.780Z",
    "type": "completion"
   },
   {
    "code": "valid_zips = pd.read_json(\"data/sf_zipcodes.json\", dtype=\"str\")['zip_codes'] # SOLUTION\nvalid_zips.head()",
    "id": "0c8a9d957afe4a989b368e3cb8c46e5d",
    "idx": 86,
    "time": "2021-02-02T19:22:07.079Z",
    "type": "execution"
   },
   {
    "id": "0c8a9d957afe4a989b368e3cb8c46e5d",
    "time": "2021-02-02T19:22:07.212Z",
    "type": "completion"
   },
   {
    "code": "# TEST\nvalid_zips.dtype == object ",
    "id": "387ccc020aca43768dcb3e1d7b36cc21",
    "idx": 87,
    "time": "2021-02-02T19:22:08.519Z",
    "type": "execution"
   },
   {
    "id": "387ccc020aca43768dcb3e1d7b36cc21",
    "time": "2021-02-02T19:22:08.659Z",
    "type": "completion"
   },
   {
    "code": "# TEST\ntype(valid_zips) == pd.Series",
    "id": "f1d468650f714ce58cfd85eb2b4e0ab0",
    "idx": 88,
    "time": "2021-02-02T19:22:08.749Z",
    "type": "execution"
   },
   {
    "id": "f1d468650f714ce58cfd85eb2b4e0ab0",
    "time": "2021-02-02T19:22:08.893Z",
    "type": "completion"
   },
   {
    "code": "# HIDDEN TEST\nnp.all(valid_zips.sort_values() == pd.read_json(\"data/sf_zipcodes.json\", dtype=\"str\")['zip_codes'].sort_values()) ",
    "id": "02fefccef9db455d92ac77e60dccf7a7",
    "idx": 89,
    "time": "2021-02-02T19:22:09.262Z",
    "type": "execution"
   },
   {
    "id": "02fefccef9db455d92ac77e60dccf7a7",
    "time": "2021-02-02T19:22:09.449Z",
    "type": "completion"
   },
   {
    "code": "invalid_zip_bus = bus[~bus['postal_code'].isin(valid_zips)] # SOLUTION\ninvalid_zip_bus.head(20)",
    "id": "e20ae749b72543678dd73d4f33a5267f",
    "idx": 91,
    "time": "2021-02-02T19:22:10.018Z",
    "type": "execution"
   },
   {
    "id": "e20ae749b72543678dd73d4f33a5267f",
    "time": "2021-02-02T19:22:10.161Z",
    "type": "completion"
   },
   {
    "code": "# TEST\ntype(invalid_zip_bus) == pd.DataFrame",
    "id": "047e3e47ce284fee911d392109073ade",
    "idx": 92,
    "time": "2021-02-02T19:22:10.612Z",
    "type": "execution"
   },
   {
    "id": "047e3e47ce284fee911d392109073ade",
    "time": "2021-02-02T19:22:10.744Z",
    "type": "completion"
   },
   {
    "code": "# TEST\nlen(invalid_zip_bus) == 230",
    "id": "9306527d475f4aa19e655c9837911fbe",
    "idx": 93,
    "time": "2021-02-02T19:22:11.293Z",
    "type": "execution"
   },
   {
    "code": "# HIDDEN TEST\nset(invalid_zip_bus['postal_code']) == set(bus[~bus['postal_code'].isin(valid_zips)]['postal_code'])",
    "id": "d25aab1b8a534cee86c49dd10d192136",
    "idx": 94,
    "time": "2021-02-02T19:22:11.494Z",
    "type": "execution"
   },
   {
    "id": "9306527d475f4aa19e655c9837911fbe",
    "time": "2021-02-02T19:22:11.608Z",
    "type": "completion"
   },
   {
    "id": "d25aab1b8a534cee86c49dd10d192136",
    "time": "2021-02-02T19:22:11.684Z",
    "type": "completion"
   },
   {
    "code": "missing_zip_address_count = bus[bus['postal_code'] == \"-9999\"]['address'].value_counts() # SOLUTION\nmissing_zip_address_count.head()",
    "id": "6795e27dc3e84d889aad6edfe07ab021",
    "idx": 96,
    "time": "2021-02-02T19:22:16.063Z",
    "type": "execution"
   },
   {
    "id": "6795e27dc3e84d889aad6edfe07ab021",
    "time": "2021-02-02T19:22:16.192Z",
    "type": "completion"
   },
   {
    "code": "# TEST\ntype(missing_zip_address_count) == pd.Series",
    "id": "dfd2f0788e3449bbbdc7b920dc8f6ce3",
    "idx": 97,
    "time": "2021-02-02T19:22:16.277Z",
    "type": "execution"
   },
   {
    "id": "dfd2f0788e3449bbbdc7b920dc8f6ce3",
    "time": "2021-02-02T19:22:16.408Z",
    "type": "completion"
   },
   {
    "code": "# TEST\nlen(missing_zip_address_count) == 135",
    "id": "bfb813249ceb4307891faf55da00bd8a",
    "idx": 98,
    "time": "2021-02-02T19:22:16.492Z",
    "type": "execution"
   },
   {
    "id": "bfb813249ceb4307891faf55da00bd8a",
    "time": "2021-02-02T19:22:16.620Z",
    "type": "completion"
   },
   {
    "code": "# TEST\nmissing_zip_address_count['3914 Judah St'] == 1",
    "id": "c903ae7384f04952be00417cbfc6b894",
    "idx": 99,
    "time": "2021-02-02T19:22:16.788Z",
    "type": "execution"
   },
   {
    "id": "c903ae7384f04952be00417cbfc6b894",
    "time": "2021-02-02T19:22:16.918Z",
    "type": "completion"
   },
   {
    "code": "# HIDDEN TEST\nmissing_zip_address_count['Off The Grid'] == 39",
    "id": "eb737250ad284a939e0ed86d352a5d28",
    "idx": 100,
    "time": "2021-02-02T19:22:17.517Z",
    "type": "execution"
   },
   {
    "id": "eb737250ad284a939e0ed86d352a5d28",
    "time": "2021-02-02T19:22:17.633Z",
    "type": "completion"
   },
   {
    "code": "# HIDDEN TEST\nmissing_zip_address_count['Off The Grid'] == 39",
    "id": "eb737250ad284a939e0ed86d352a5d28",
    "idx": 99,
    "time": "2021-02-02T19:22:42.458Z",
    "type": "execution"
   },
   {
    "id": "eb737250ad284a939e0ed86d352a5d28",
    "time": "2021-02-02T19:22:42.594Z",
    "type": "completion"
   },
   {
    "code": "# True or False: \n#  If we were to drop businesses with MISSING postal code values \n#   a particular class of business be affected.\nq2e_true_or_false = True # SOLUTION",
    "id": "4a747102aeb74880a9e469df42075bec",
    "idx": 101,
    "time": "2021-02-02T19:22:43.203Z",
    "type": "execution"
   },
   {
    "id": "4a747102aeb74880a9e469df42075bec",
    "time": "2021-02-02T19:22:43.290Z",
    "type": "completion"
   },
   {
    "code": "# TEST\ntype(q2e_true_or_false) == bool",
    "id": "4b3e189e64374b858683f6eeceb2cbea",
    "idx": 102,
    "time": "2021-02-02T19:22:46.252Z",
    "type": "execution"
   },
   {
    "id": "4b3e189e64374b858683f6eeceb2cbea",
    "time": "2021-02-02T19:22:46.385Z",
    "type": "completion"
   },
   {
    "code": "# HIDDEN TEST\nq2e_true_or_false == True",
    "id": "285d4fcfffe944c28539697623af9b94",
    "idx": 103,
    "time": "2021-02-02T19:22:46.566Z",
    "type": "execution"
   },
   {
    "id": "285d4fcfffe944c28539697623af9b94",
    "time": "2021-02-02T19:22:46.680Z",
    "type": "completion"
   },
   {
    "code": "bus['postal5'] = None\n# BEGIN SOLUTION\nbus['postal5'] = bus['postal_code'].str[:5]\nbus.loc[~bus['postal5'].isin(valid_zips), 'postal5'] = None \n# END SOLUTION\n\n# Checking the corrected postal5 column\nbus.loc[invalid_zip_bus.index, ['bid', 'name', 'postal_code', 'postal5']]",
    "id": "e14a8e4cb4c748bd866f725245a36082",
    "idx": 105,
    "time": "2021-02-02T19:22:46.873Z",
    "type": "execution"
   },
   {
    "id": "e14a8e4cb4c748bd866f725245a36082",
    "time": "2021-02-02T19:22:47.031Z",
    "type": "completion"
   },
   {
    "code": "# TEST\n'postal5' in bus.columns",
    "id": "281134f4223a45fc8f85d292f0f33054",
    "idx": 106,
    "time": "2021-02-02T19:22:47.593Z",
    "type": "execution"
   },
   {
    "id": "281134f4223a45fc8f85d292f0f33054",
    "time": "2021-02-02T19:22:47.717Z",
    "type": "completion"
   },
   {
    "code": "# TEST\n(bus['postal5'].str.len() != 5).sum() == 221",
    "id": "9de69f34468042b4826d1c0e38db6813",
    "idx": 107,
    "time": "2021-02-02T19:22:51.344Z",
    "type": "execution"
   },
   {
    "id": "9de69f34468042b4826d1c0e38db6813",
    "time": "2021-02-02T19:22:51.481Z",
    "type": "completion"
   },
   {
    "code": "# TEST\nbus['postal5'].isin(valid_zips).sum() == 6032",
    "id": "ed5f34e9eea441068c88c585deb30b35",
    "idx": 108,
    "time": "2021-02-02T19:22:51.567Z",
    "type": "execution"
   },
   {
    "code": "# TEST\nbus['postal5'].isna().sum() == 221",
    "id": "42d79067b63040448dbe9d6b55bafe7f",
    "idx": 109,
    "time": "2021-02-02T19:22:51.707Z",
    "type": "execution"
   },
   {
    "id": "ed5f34e9eea441068c88c585deb30b35",
    "time": "2021-02-02T19:22:51.843Z",
    "type": "completion"
   },
   {
    "id": "42d79067b63040448dbe9d6b55bafe7f",
    "time": "2021-02-02T19:22:51.846Z",
    "type": "completion"
   },
   {
    "code": "# HIDDEN TEST\n(bus['postal5'] == \"-9999\").sum() == 0",
    "id": "4cf30f360ca8463497bed37e01154224",
    "idx": 110,
    "time": "2021-02-02T19:22:52.183Z",
    "type": "execution"
   },
   {
    "id": "4cf30f360ca8463497bed37e01154224",
    "time": "2021-02-02T19:22:52.328Z",
    "type": "completion"
   },
   {
    "code": "# HIDDEN TEST\nbus['postal5'].isna().sum() == 221",
    "id": "b2f2ed2e14f54243816169f2b798b574",
    "idx": 111,
    "time": "2021-02-02T19:22:52.413Z",
    "type": "execution"
   },
   {
    "id": "b2f2ed2e14f54243816169f2b798b574",
    "time": "2021-02-02T19:22:52.601Z",
    "type": "completion"
   },
   {
    "code": "ins.head(5)",
    "id": "fbaf2acf0a2f4912af538ca48cc39b93",
    "idx": 114,
    "time": "2021-02-02T19:22:53.788Z",
    "type": "execution"
   },
   {
    "id": "fbaf2acf0a2f4912af538ca48cc39b93",
    "time": "2021-02-02T19:22:53.917Z",
    "type": "completion"
   },
   {
    "code": "is_ins_iid_a_primary_key = ins['iid'].value_counts().max() == 1 # SOLUTION",
    "id": "0866d13a420e49b181eda8f702061893",
    "idx": 116,
    "time": "2021-02-02T19:22:54.483Z",
    "type": "execution"
   },
   {
    "id": "0866d13a420e49b181eda8f702061893",
    "time": "2021-02-02T19:22:54.577Z",
    "type": "completion"
   },
   {
    "code": "# TEST\ntype(is_ins_iid_a_primary_key) == bool or type(is_ins_iid_a_primary_key) == np.bool_",
    "id": "6bccf475657a415e85949864b3e4fed9",
    "idx": 117,
    "time": "2021-02-02T19:22:54.923Z",
    "type": "execution"
   },
   {
    "id": "6bccf475657a415e85949864b3e4fed9",
    "time": "2021-02-02T19:22:55.055Z",
    "type": "completion"
   },
   {
    "code": "# HIDDEN TEST\nis_ins_iid_a_primary_key == True",
    "id": "c05dcc62688347ab933e770126ff49b5",
    "idx": 118,
    "time": "2021-02-02T19:22:55.358Z",
    "type": "execution"
   },
   {
    "id": "c05dcc62688347ab933e770126ff49b5",
    "time": "2021-02-02T19:22:55.470Z",
    "type": "completion"
   },
   {
    "code": "ins['bid'] = ins['iid'].str.split(\"_\", expand=True)[0].astype(int) # SOLUTION",
    "id": "1bb44a2a156942118715e1770b76bcc2",
    "idx": 121,
    "time": "2021-02-02T19:22:59.284Z",
    "type": "execution"
   },
   {
    "code": "# TEST\n'bid' in ins.columns",
    "id": "479e40e33beb44a48765fa4a90edaec7",
    "idx": 122,
    "time": "2021-02-02T19:22:59.435Z",
    "type": "execution"
   },
   {
    "id": "1bb44a2a156942118715e1770b76bcc2",
    "time": "2021-02-02T19:22:59.559Z",
    "type": "completion"
   },
   {
    "id": "479e40e33beb44a48765fa4a90edaec7",
    "time": "2021-02-02T19:22:59.562Z",
    "type": "completion"
   },
   {
    "code": "# TEST\nins['bid'].dtype == int",
    "id": "0afd946edb684881b68f8a159ee8ed0f",
    "idx": 123,
    "time": "2021-02-02T19:22:59.583Z",
    "type": "execution"
   },
   {
    "id": "0afd946edb684881b68f8a159ee8ed0f",
    "time": "2021-02-02T19:22:59.680Z",
    "type": "completion"
   },
   {
    "code": "# TEST\nlen(ins[ins['score'] > 0]['bid'].unique()) == 5724",
    "id": "a32530ac1f61475db6cda0a67a785140",
    "idx": 124,
    "time": "2021-02-02T19:22:59.763Z",
    "type": "execution"
   },
   {
    "code": "# HIDDEN TEST\nins['bid'].equals(ins['iid'].str.split(\"_\", expand=True)[0].astype(\"int\"))",
    "id": "4caa62bd3288405586e0a444839b67f3",
    "idx": 125,
    "time": "2021-02-02T19:22:59.953Z",
    "type": "execution"
   },
   {
    "code": "invalid_bid_count = (~ins['bid'].isin(bus['bid'])).sum() # SOLUTION",
    "id": "8ece2ff4b41b46db916351c66ac46b46",
    "idx": 127,
    "time": "2021-02-02T19:23:00.300Z",
    "type": "execution"
   },
   {
    "code": "# TEST\ninvalid_bid_count >= 0 ",
    "id": "0c5034a1f75a414fb3cbaadf54bbe0bb",
    "idx": 128,
    "time": "2021-02-02T19:23:00.371Z",
    "type": "execution"
   },
   {
    "id": "a32530ac1f61475db6cda0a67a785140",
    "time": "2021-02-02T19:23:00.497Z",
    "type": "completion"
   },
   {
    "code": "# HIDDEN TEST\ninvalid_bid_count == 0",
    "id": "d197aa5f072c4a2889d510a10d9f5edf",
    "idx": 129,
    "time": "2021-02-02T19:23:00.528Z",
    "type": "execution"
   },
   {
    "id": "4caa62bd3288405586e0a444839b67f3",
    "time": "2021-02-02T19:23:00.571Z",
    "type": "completion"
   },
   {
    "id": "8ece2ff4b41b46db916351c66ac46b46",
    "time": "2021-02-02T19:23:00.575Z",
    "type": "completion"
   },
   {
    "id": "0c5034a1f75a414fb3cbaadf54bbe0bb",
    "time": "2021-02-02T19:23:00.578Z",
    "type": "completion"
   },
   {
    "id": "d197aa5f072c4a2889d510a10d9f5edf",
    "time": "2021-02-02T19:23:00.663Z",
    "type": "completion"
   },
   {
    "code": "top_names = np.array(bus['name'].value_counts()[:5].index) # SOLUTION\ntop_names",
    "id": "f5b7b43bad89475a9bbbc8d0a705141c",
    "idx": 49,
    "time": "2021-02-03T07:50:20.309Z",
    "type": "execution"
   },
   {
    "id": "f5b7b43bad89475a9bbbc8d0a705141c",
    "time": "2021-02-03T07:50:20.477Z",
    "type": "completion"
   },
   {
    "code": "import numpy as np\nimport pandas as pd\n\nimport matplotlib\nimport matplotlib.pyplot as plt\nimport seaborn as sns\nsns.set()\nplt.style.use('fivethirtyeight')\n\nimport zipfile\nfrom pathlib import Path\nimport os # Used to interact with the file system",
    "id": "21ac402b9bb44b2c9eedda54937a2a6d",
    "idx": 5,
    "time": "2021-02-03T07:54:17.345Z",
    "type": "execution"
   },
   {
    "code": "from pathlib import Path\ndata_dir = Path('.')\ndata_dir.mkdir(exist_ok = True)\nfile_path = data_dir / Path('data.zip')\ndest_path = file_path",
    "id": "02de0a2743d846128229ce87fa97c0bb",
    "idx": 8,
    "time": "2021-02-03T07:54:17.799Z",
    "type": "execution"
   },
   {
    "id": "21ac402b9bb44b2c9eedda54937a2a6d",
    "time": "2021-02-03T07:54:18.792Z",
    "type": "completion"
   },
   {
    "id": "02de0a2743d846128229ce87fa97c0bb",
    "time": "2021-02-03T07:54:18.796Z",
    "type": "completion"
   },
   {
    "code": "!ls",
    "id": "fb92d8830db44f5082c9d906b4d0a5b5",
    "idx": 10,
    "time": "2021-02-03T07:54:19.523Z",
    "type": "execution"
   },
   {
    "code": "my_zip = zipfile.ZipFile(dest_path, 'r')\nlist_names = my_zip.namelist()\nlist_names",
    "id": "fafbb2b576ec4557b14401d53f5ffb1b",
    "idx": 13,
    "time": "2021-02-03T07:54:20.169Z",
    "type": "execution"
   },
   {
    "id": "fb92d8830db44f5082c9d906b4d0a5b5",
    "time": "2021-02-03T07:54:20.548Z",
    "type": "completion"
   },
   {
    "id": "fafbb2b576ec4557b14401d53f5ffb1b",
    "time": "2021-02-03T07:54:20.579Z",
    "type": "completion"
   },
   {
    "code": "my_zip = zipfile.ZipFile(dest_path, 'r')\nfor info in my_zip.infolist():\n    print('{}\\t{}'.format(info.filename, info.file_size))",
    "id": "b66376cf028c4d19bdf6b58aca848508",
    "idx": 16,
    "time": "2021-02-03T07:54:21.405Z",
    "type": "execution"
   },
   {
    "id": "b66376cf028c4d19bdf6b58aca848508",
    "time": "2021-02-03T07:54:21.526Z",
    "type": "completion"
   },
   {
    "code": "data_dir = Path('.')\nmy_zip.extractall(data_dir)\n!ls {data_dir / Path(\"data\")}",
    "id": "516d577a52b846a9b43ad94a24842c8e",
    "idx": 18,
    "time": "2021-02-03T07:54:21.742Z",
    "type": "execution"
   },
   {
    "code": "import ds100_utils\n\ndata_dir = \"./\"\nfor f in list_names:\n    if not os.path.isdir(f):\n        print(ds100_utils.head(data_dir + f, 5), \"\\n\")",
    "id": "5400ee1dc1e54e0397a3b8bdc2874932",
    "idx": 21,
    "time": "2021-02-03T07:54:22.258Z",
    "type": "execution"
   },
   {
    "code": "# path to directory containing data\ndsDir = Path('data')\n\nbus = pd.read_csv(dsDir/'bus.csv', encoding='ISO-8859-1')\nins2vio = pd.read_csv(dsDir/'ins2vio.csv')\nins = pd.read_csv(dsDir/'ins.csv')\nvio = pd.read_csv(dsDir/'vio.csv')\n\n#This code is essential for the autograder to function properly. Do not edit\nins_test = ins",
    "id": "8795b4ad972441a38a2f5c79c61a87de",
    "idx": 23,
    "time": "2021-02-03T07:54:22.666Z",
    "type": "execution"
   },
   {
    "id": "516d577a52b846a9b43ad94a24842c8e",
    "time": "2021-02-03T07:54:22.962Z",
    "type": "completion"
   },
   {
    "id": "5400ee1dc1e54e0397a3b8bdc2874932",
    "time": "2021-02-03T07:54:23.117Z",
    "type": "completion"
   },
   {
    "id": "8795b4ad972441a38a2f5c79c61a87de",
    "time": "2021-02-03T07:54:23.129Z",
    "type": "completion"
   },
   {
    "code": "bus.head() ",
    "id": "af3f12ec10e74600837b8545fe661216",
    "idx": 25,
    "time": "2021-02-03T07:54:23.366Z",
    "type": "execution"
   },
   {
    "id": "af3f12ec10e74600837b8545fe661216",
    "time": "2021-02-03T07:54:23.485Z",
    "type": "completion"
   },
   {
    "code": "bus.describe()",
    "id": "c80edbb21f9f414e84a6c78c84423263",
    "idx": 27,
    "time": "2021-02-03T07:54:23.753Z",
    "type": "execution"
   },
   {
    "id": "c80edbb21f9f414e84a6c78c84423263",
    "time": "2021-02-03T07:54:24.014Z",
    "type": "completion"
   },
   {
    "code": "assert all(bus.columns == ['business id column', 'name', 'address', 'city', 'state', 'postal_code',\n                           'latitude', 'longitude', 'phone_number'])\nassert 6250 <= len(bus) <= 6260\n\nassert all(ins.columns == ['iid', 'date', 'score', 'type'])\nassert 26660 <= len(ins) <= 26670\n\nassert all(vio.columns == ['description', 'risk_category', 'vid'])\nassert 60 <= len(vio) <= 65\n\nassert all(ins2vio.columns == ['iid', 'vid'])\nassert 40210 <= len(ins2vio) <= 40220",
    "id": "69a6a58023ce4d39815993b5845a6666",
    "idx": 30,
    "time": "2021-02-03T07:54:24.209Z",
    "type": "execution"
   },
   {
    "id": "69a6a58023ce4d39815993b5845a6666",
    "time": "2021-02-03T07:54:24.291Z",
    "type": "completion"
   },
   {
    "code": "bus_summary = pd.DataFrame(**{'columns': ['business id column', 'latitude', 'longitude'],\n 'data': {'business id column': {'50%': 75685.0, 'max': 102705.0, 'min': 19.0},\n  'latitude': {'50%': -9999.0, 'max': 37.824494, 'min': -9999.0},\n  'longitude': {'50%': -9999.0,\n   'max': 0.0,\n   'min': -9999.0}},\n 'index': ['min', '50%', 'max']})\n\nins_summary = pd.DataFrame(**{'columns': ['score'],\n 'data': {'score': {'50%': 76.0, 'max': 100.0, 'min': -1.0}},\n 'index': ['min', '50%', 'max']})\n\nvio_summary = pd.DataFrame(**{'columns': ['vid'],\n 'data': {'vid': {'50%': 103135.0, 'max': 103177.0, 'min': 103102.0}},\n 'index': ['min', '50%', 'max']})\n\nfrom IPython.display import display\n\nprint('What we expect from your Businesses dataframe:')\ndisplay(bus_summary)\nprint('What we expect from your Inspections dataframe:')\ndisplay(ins_summary)\nprint('What we expect from your Violations dataframe:')\ndisplay(vio_summary)",
    "id": "f524b93516a741b78b459bda8fc74e1f",
    "idx": 32,
    "time": "2021-02-03T07:54:24.442Z",
    "type": "execution"
   },
   {
    "code": "\"\"\"Run this cell to load this utility comparison function that we will use in various\ntests below (both tests you can see and those we run internally for grading).\n\nDo not modify the function in any way.\n\"\"\"\n\n\ndef df_allclose(actual, desired, columns=None, rtol=5e-2):\n    \"\"\"Compare selected columns of two dataframes on a few summary statistics.\n    \n    Compute the min, median and max of the two dataframes on the given columns, and compare\n    that they match numerically to the given relative tolerance.\n    \n    If they don't match, an AssertionError is raised (by `numpy.testing`).\n    \"\"\"    \n    # summary statistics to compare on\n    stats = ['min', '50%', 'max']\n    \n    # For the desired values, we can provide a full DF with the same structure as\n    # the actual data, or pre-computed summary statistics.\n    # We assume a pre-computed summary was provided if columns is None. In that case, \n    # `desired` *must* have the same structure as the actual's summary\n    if columns is None:\n        des = desired\n        columns = desired.columns\n    else:\n        des = desired[columns].describe().loc[stats]\n\n    # Extract summary stats from actual DF\n    act = actual[columns].describe().loc[stats]\n\n    return np.allclose(act, des, rtol)",
    "id": "f7aaaf74b3a74d5386d047ec1195a336",
    "idx": 34,
    "time": "2021-02-03T07:54:24.804Z",
    "type": "execution"
   },
   {
    "id": "f524b93516a741b78b459bda8fc74e1f",
    "time": "2021-02-03T07:54:24.857Z",
    "type": "completion"
   },
   {
    "id": "f7aaaf74b3a74d5386d047ec1195a336",
    "time": "2021-02-03T07:54:25.094Z",
    "type": "completion"
   },
   {
    "code": "bus.head()",
    "id": "b5733fb7310342219bd79f7a9d226d1f",
    "idx": 41,
    "time": "2021-02-03T07:54:26.022Z",
    "type": "execution"
   },
   {
    "id": "b5733fb7310342219bd79f7a9d226d1f",
    "time": "2021-02-03T07:54:26.289Z",
    "type": "completion"
   },
   {
    "code": "bus = bus.rename(columns={\"business id column\": \"bid\"})",
    "id": "0318573ac1e84c5492709d4e45e9df88",
    "idx": 43,
    "time": "2021-02-03T07:54:26.378Z",
    "type": "execution"
   },
   {
    "id": "0318573ac1e84c5492709d4e45e9df88",
    "time": "2021-02-03T07:54:26.484Z",
    "type": "completion"
   },
   {
    "code": "is_bid_unique = bus['bid'].value_counts().max() == 1 # SOLUTION",
    "id": "25107644edf642809c957d521497e59a",
    "idx": 45,
    "time": "2021-02-03T07:54:26.829Z",
    "type": "execution"
   },
   {
    "code": "# TEST\nis_bid_unique or ~is_bid_unique",
    "id": "b6a227d03b7248ecae571fd374d0952b",
    "idx": 46,
    "time": "2021-02-03T07:54:27.026Z",
    "type": "execution"
   },
   {
    "code": "# HIDDEN TEST\nis_bid_unique",
    "id": "07b54dbb912347528c2783538f2f3210",
    "idx": 47,
    "time": "2021-02-03T07:54:27.166Z",
    "type": "execution"
   },
   {
    "id": "25107644edf642809c957d521497e59a",
    "time": "2021-02-03T07:54:27.286Z",
    "type": "completion"
   },
   {
    "id": "b6a227d03b7248ecae571fd374d0952b",
    "time": "2021-02-03T07:54:27.289Z",
    "type": "completion"
   },
   {
    "id": "07b54dbb912347528c2783538f2f3210",
    "time": "2021-02-03T07:54:27.291Z",
    "type": "completion"
   },
   {
    "code": "top_names = np.array(bus['name'].value_counts()[:5].index) # SOLUTION\ntop_names",
    "id": "f5b7b43bad89475a9bbbc8d0a705141c",
    "idx": 49,
    "time": "2021-02-03T07:54:27.492Z",
    "type": "execution"
   },
   {
    "id": "f5b7b43bad89475a9bbbc8d0a705141c",
    "time": "2021-02-03T07:54:27.647Z",
    "type": "completion"
   },
   {
    "code": "top_addresses = np.array(bus['address'].value_counts()[:5].index) # SOLUTION\ntop_addresses",
    "id": "20891a458a8544878288d3d6dcb96e59",
    "idx": 50,
    "time": "2021-02-03T07:54:27.746Z",
    "type": "execution"
   },
   {
    "code": "# TEST\nassert type(top_names) == np.ndarray\nassert type(top_addresses) == np.ndarray\nassert len(top_names) == 5\nlen(top_addresses) == 5",
    "id": "3494f64b0ada440c8692166590d8658b",
    "idx": 51,
    "time": "2021-02-03T07:54:27.888Z",
    "type": "execution"
   },
   {
    "id": "20891a458a8544878288d3d6dcb96e59",
    "time": "2021-02-03T07:54:28.020Z",
    "type": "completion"
   },
   {
    "code": "# TEST \nassert top_names[0] == \"Peet's Coffee & Tea\"\ntop_addresses[0] == 'Off The Grid'",
    "id": "7bf1dc1d6dbf4de48d5008433b15dee2",
    "idx": 52,
    "time": "2021-02-03T07:54:28.105Z",
    "type": "execution"
   },
   {
    "id": "3494f64b0ada440c8692166590d8658b",
    "time": "2021-02-03T07:54:28.251Z",
    "type": "completion"
   },
   {
    "id": "7bf1dc1d6dbf4de48d5008433b15dee2",
    "time": "2021-02-03T07:54:28.322Z",
    "type": "completion"
   },
   {
    "code": "# HIDDEN TEST\nnp.all(top_names == np.array(bus['name'].value_counts()[:5].index))",
    "id": "68e8055a98bf4dc8af3fb8576f47342a",
    "idx": 53,
    "time": "2021-02-03T07:54:30.735Z",
    "type": "execution"
   },
   {
    "code": "# HIDDEN TEST\nnp.all(top_addresses == np.array(bus['address'].value_counts()[:5].index))",
    "id": "38edba805b1a46559eb7f2011134ba80",
    "idx": 54,
    "time": "2021-02-03T07:54:30.879Z",
    "type": "execution"
   },
   {
    "id": "68e8055a98bf4dc8af3fb8576f47342a",
    "time": "2021-02-03T07:54:30.997Z",
    "type": "completion"
   },
   {
    "id": "38edba805b1a46559eb7f2011134ba80",
    "time": "2021-02-03T07:54:31.066Z",
    "type": "completion"
   },
   {
    "code": "# What does each record represent?  Valid answers are:\n#    \"One location of a restaurant.\"\n#    \"A chain of restaurants.\"\n#    \"A city block.\"\nq1e_part1 = \"One location of a restaurant.\" # SOLUTION\n\n# What is the minimal primary key? Valid answers are:\n#    \"bid\"\n#    \"bid, name\"\n#    \"bid, name, address\"\nq1e_part2 = \"bid\" # SOLUTION",
    "id": "87bbd7c989814e4182bae094f8707f68",
    "idx": 56,
    "time": "2021-02-03T07:54:31.574Z",
    "type": "execution"
   },
   {
    "code": "# TEST\nq1e_part1 in set([\"One location of a restaurant.\", \"A chain of restaurants.\", \"A city block.\"])",
    "id": "3c4159b880b2439a92416c40a4714d9e",
    "idx": 57,
    "time": "2021-02-03T07:54:31.718Z",
    "type": "execution"
   },
   {
    "id": "87bbd7c989814e4182bae094f8707f68",
    "time": "2021-02-03T07:54:31.982Z",
    "type": "completion"
   },
   {
    "id": "3c4159b880b2439a92416c40a4714d9e",
    "time": "2021-02-03T07:54:31.986Z",
    "type": "completion"
   },
   {
    "code": "# TEST\nq1e_part2 in set([\"bid\", \"bid, name\", \"bid, name, address\"])",
    "id": "b2b56d595aa04b758044dd99dac23233",
    "idx": 58,
    "time": "2021-02-03T07:54:32.068Z",
    "type": "execution"
   },
   {
    "code": "# HIDDEN TEST\nq1e_part1 == \"One location of a restaurant.\" ",
    "id": "f88f2e4809964e3cb6e54122aadde88b",
    "idx": 59,
    "time": "2021-02-03T07:54:32.285Z",
    "type": "execution"
   },
   {
    "id": "b2b56d595aa04b758044dd99dac23233",
    "time": "2021-02-03T07:54:32.414Z",
    "type": "completion"
   },
   {
    "code": "# HIDDEN TEST\nq1e_part2 == \"bid\"",
    "id": "3a9aeeb1fee4439980afe282129c63f5",
    "idx": 60,
    "time": "2021-02-03T07:54:32.495Z",
    "type": "execution"
   },
   {
    "id": "f88f2e4809964e3cb6e54122aadde88b",
    "time": "2021-02-03T07:54:32.849Z",
    "type": "completion"
   },
   {
    "id": "3a9aeeb1fee4439980afe282129c63f5",
    "time": "2021-02-03T07:54:32.853Z",
    "type": "completion"
   },
   {
    "code": "zip_counts = bus.groupby(\"postal_code\").size().sort_values(ascending=False) # SOLUTION\nprint(zip_counts.to_string())",
    "id": "e0d40e57109f48be9c59f20d9d648791",
    "idx": 63,
    "time": "2021-02-03T07:54:32.932Z",
    "type": "execution"
   },
   {
    "id": "e0d40e57109f48be9c59f20d9d648791",
    "time": "2021-02-03T07:54:33.056Z",
    "type": "completion"
   },
   {
    "code": "# TEST\ntype(zip_counts) == pd.Series",
    "id": "830d36a55e144a528e4300958ad731f8",
    "idx": 64,
    "time": "2021-02-03T07:54:33.144Z",
    "type": "execution"
   },
   {
    "id": "830d36a55e144a528e4300958ad731f8",
    "time": "2021-02-03T07:54:33.285Z",
    "type": "completion"
   },
   {
    "code": "# TEST\nzip_counts.shape[0] == 63",
    "id": "50c67a4a40344baca47eab69cb525a95",
    "idx": 65,
    "time": "2021-02-03T07:54:33.638Z",
    "type": "execution"
   },
   {
    "code": "# TEST\nzip_counts[\"94103\"] == 562",
    "id": "9f1be3e0957f425e81f938ae002aae71",
    "idx": 66,
    "time": "2021-02-03T07:54:33.787Z",
    "type": "execution"
   },
   {
    "id": "50c67a4a40344baca47eab69cb525a95",
    "time": "2021-02-03T07:54:33.915Z",
    "type": "completion"
   },
   {
    "id": "9f1be3e0957f425e81f938ae002aae71",
    "time": "2021-02-03T07:54:33.921Z",
    "type": "completion"
   },
   {
    "code": "# HIDDEN TEST\nnp.isclose(zip_counts.var(), bus['postal_code'].value_counts().var())",
    "id": "6af81930f5d2429a80644b578374ae0a",
    "idx": 67,
    "time": "2021-02-03T07:54:34.004Z",
    "type": "execution"
   },
   {
    "code": "# HIDDEN TEST\nnp.isclose(zip_counts.mean(), bus['postal_code'].value_counts().mean())",
    "id": "9fa0127c118149958203320a239647e2",
    "idx": 68,
    "time": "2021-02-03T07:54:34.150Z",
    "type": "execution"
   },
   {
    "id": "6af81930f5d2429a80644b578374ae0a",
    "time": "2021-02-03T07:54:34.342Z",
    "type": "completion"
   },
   {
    "code": "# The ZIP code column is which of the following type of data:\n#   \"Quantitative Continuous\" \n#   \"Quantitative Discrete\"\n#   \"Qualitative Ordinal\"\n#   \"Qualitative Nominal\"\nq2b_part1 = \"Qualitative Nominal\" # SOLUTION\n\n# What Python data type is used to represent a ZIP code? \n#    \"str\"\n#    \"int\"\n#    \"bool\"\n#    \"float\"\nq2b_part2 = \"str\" # SOLUTION",
    "id": "f54e868fbb04421780e32bdb6c76d049",
    "idx": 70,
    "time": "2021-02-03T07:54:34.437Z",
    "type": "execution"
   },
   {
    "id": "9fa0127c118149958203320a239647e2",
    "time": "2021-02-03T07:54:34.497Z",
    "type": "completion"
   },
   {
    "id": "f54e868fbb04421780e32bdb6c76d049",
    "time": "2021-02-03T07:54:34.562Z",
    "type": "completion"
   },
   {
    "code": "# TEST\nq2b_part1 in set([\"Quantitative Continuous\", \"Quantitative Discrete\", \n                  \"Qualitative Ordinal\", \"Qualitative Nominal\"])",
    "id": "79cb048fefa241f7b6d0a9c0288f64fc",
    "idx": 71,
    "time": "2021-02-03T07:54:34.595Z",
    "type": "execution"
   },
   {
    "id": "79cb048fefa241f7b6d0a9c0288f64fc",
    "time": "2021-02-03T07:54:34.726Z",
    "type": "completion"
   },
   {
    "code": "# TEST\nq2b_part2 in set([\"str\", \"int\", \"bool\", \"float\"])",
    "id": "29a08388e4d749fea807c154943b05c9",
    "idx": 72,
    "time": "2021-02-03T07:54:34.817Z",
    "type": "execution"
   },
   {
    "id": "29a08388e4d749fea807c154943b05c9",
    "time": "2021-02-03T07:54:34.960Z",
    "type": "completion"
   },
   {
    "code": "# HIDDEN TEST\nq2b_part1 == \"Qualitative Nominal\"",
    "id": "ea6746752f1b4e10923e26ee1aeb5c10",
    "idx": 73,
    "time": "2021-02-03T07:54:35.053Z",
    "type": "execution"
   },
   {
    "id": "ea6746752f1b4e10923e26ee1aeb5c10",
    "time": "2021-02-03T07:54:35.177Z",
    "type": "completion"
   },
   {
    "code": "# HIDDEN TEST\nq2b_part2 == \"str\"",
    "id": "f05dbfa1a73e43ba8b41cdeaae20fe1a",
    "idx": 74,
    "time": "2021-02-03T07:54:35.259Z",
    "type": "execution"
   },
   {
    "id": "f05dbfa1a73e43ba8b41cdeaae20fe1a",
    "time": "2021-02-03T07:54:35.638Z",
    "type": "completion"
   },
   {
    "code": "valid_zips = pd.read_json(\"data/sf_zipcodes.json\", dtype=\"str\")['zip_codes'] # SOLUTION\nvalid_zips.head()",
    "id": "df49a88a69ec4f8983e47698f9203c34",
    "idx": 77,
    "time": "2021-02-03T07:54:35.720Z",
    "type": "execution"
   },
   {
    "code": "# TEST\nvalid_zips.dtype == object ",
    "id": "49169fcc352b44b884a3ef4be8f1a41f",
    "idx": 78,
    "time": "2021-02-03T07:54:35.859Z",
    "type": "execution"
   },
   {
    "id": "df49a88a69ec4f8983e47698f9203c34",
    "time": "2021-02-03T07:54:35.991Z",
    "type": "completion"
   },
   {
    "id": "49169fcc352b44b884a3ef4be8f1a41f",
    "time": "2021-02-03T07:54:35.998Z",
    "type": "completion"
   },
   {
    "code": "# TEST\ntype(valid_zips) == pd.Series",
    "id": "79e8a6d791894ef6b99094025f2309f5",
    "idx": 79,
    "time": "2021-02-03T07:54:36.186Z",
    "type": "execution"
   },
   {
    "id": "79e8a6d791894ef6b99094025f2309f5",
    "time": "2021-02-03T07:54:36.309Z",
    "type": "completion"
   },
   {
    "code": "top_names = np.array(bus['name'].value_counts()[:5].index) # SOLUTION\ntop_addresses = np.array(bus['address'].value_counts()[:5].index) # SOLUTION\ntop_names",
    "id": "0709137d7d214d258d1e7e72bc60a367",
    "idx": 49,
    "time": "2021-02-03T07:57:49.655Z",
    "type": "execution"
   },
   {
    "id": "0709137d7d214d258d1e7e72bc60a367",
    "time": "2021-02-03T07:57:49.836Z",
    "type": "completion"
   },
   {
    "code": "top_addresses",
    "id": "2d4a13500a7644068eefa0427c4584c4",
    "idx": 50,
    "time": "2021-02-03T07:57:50.285Z",
    "type": "execution"
   },
   {
    "id": "2d4a13500a7644068eefa0427c4584c4",
    "time": "2021-02-03T07:57:50.422Z",
    "type": "completion"
   },
   {
    "code": "top_names, top_addresses",
    "id": "2d4a13500a7644068eefa0427c4584c4",
    "idx": 50,
    "time": "2021-02-03T08:05:18.748Z",
    "type": "execution"
   },
   {
    "id": "2d4a13500a7644068eefa0427c4584c4",
    "time": "2021-02-03T08:05:18.937Z",
    "type": "completion"
   },
   {
    "code": "top_names = np.array(bus['name'].value_counts()[:5].index) # SOLUTION\ntop_addresses = np.array(bus['address'].value_counts()[:5].index) # SOLUTION\ntop_names, top_addresses",
    "id": "0709137d7d214d258d1e7e72bc60a367",
    "idx": 49,
    "time": "2021-02-03T08:05:28.763Z",
    "type": "execution"
   },
   {
    "id": "0709137d7d214d258d1e7e72bc60a367",
    "time": "2021-02-03T08:05:28.906Z",
    "type": "completion"
   },
   {
    "code": "# TEST\nassert type(top_names) == np.ndarray\nassert type(top_addresses) == np.ndarray\nassert len(top_names) == 5\nlen(top_addresses) == 5",
    "id": "c2e2569ad1e24fbe9c43487c3055ff05",
    "idx": 50,
    "time": "2021-02-03T08:05:37.788Z",
    "type": "execution"
   },
   {
    "id": "c2e2569ad1e24fbe9c43487c3055ff05",
    "time": "2021-02-03T08:05:37.926Z",
    "type": "completion"
   },
   {
    "code": "# TEST \nassert top_names[0] == \"Peet's Coffee & Tea\"\ntop_addresses[0] == 'Off The Grid'",
    "id": "d2d127c345704339882355516baf023e",
    "idx": 51,
    "time": "2021-02-03T08:05:38.465Z",
    "type": "execution"
   },
   {
    "id": "d2d127c345704339882355516baf023e",
    "time": "2021-02-03T08:05:38.596Z",
    "type": "completion"
   },
   {
    "code": "# HIDDEN TEST\nnp.all(top_names == np.array(bus['name'].value_counts()[:5].index))",
    "id": "4f1a7c7fbaf34cb28c243d7f151e754a",
    "idx": 52,
    "time": "2021-02-03T08:05:38.886Z",
    "type": "execution"
   },
   {
    "id": "4f1a7c7fbaf34cb28c243d7f151e754a",
    "time": "2021-02-03T08:05:39.018Z",
    "type": "completion"
   },
   {
    "code": "# HIDDEN TEST\nnp.all(top_addresses == np.array(bus['address'].value_counts()[:5].index))",
    "id": "067e8fc104ba462286ef36c4e2fb607a",
    "idx": 53,
    "time": "2021-02-03T08:05:39.228Z",
    "type": "execution"
   },
   {
    "id": "067e8fc104ba462286ef36c4e2fb607a",
    "time": "2021-02-03T08:05:39.345Z",
    "type": "completion"
   },
   {
    "code": "# TEST\nassert valid_zips.dtype == object \ntype(valid_zips) == pd.Series",
    "id": "c9628fba02034e6283b042fc5421e166",
    "idx": 77,
    "time": "2021-02-04T06:09:21.531Z",
    "type": "execution"
   },
   {
    "code": "# HIDDEN TEST\nnp.all(valid_zips.sort_values() == pd.read_json(\"data/sf_zipcodes.json\", dtype=\"str\")['zip_codes'].sort_values()) ",
    "id": "7bebf8238ff24b7f86c2b062638b6edb",
    "idx": 78,
    "time": "2021-02-04T06:09:21.714Z",
    "type": "execution"
   },
   {
    "id": "c9628fba02034e6283b042fc5421e166",
    "time": "2021-02-04T06:09:21.761Z",
    "type": "completion"
   },
   {
    "id": "7bebf8238ff24b7f86c2b062638b6edb",
    "time": "2021-02-04T06:09:21.846Z",
    "type": "completion"
   },
   {
    "code": "import numpy as np\nimport pandas as pd\n\nimport matplotlib\nimport matplotlib.pyplot as plt\nimport seaborn as sns\nsns.set()\nplt.style.use('fivethirtyeight')\n\nimport zipfile\nfrom pathlib import Path\nimport os # Used to interact with the file system",
    "id": "c918c51cba074df9aae6de6aaccc6831",
    "idx": 5,
    "time": "2021-02-04T06:11:04.472Z",
    "type": "execution"
   },
   {
    "code": "from pathlib import Path\ndata_dir = Path('.')\ndata_dir.mkdir(exist_ok = True)\nfile_path = data_dir / Path('data.zip')\ndest_path = file_path",
    "id": "98460873d6c440d4806ffbd48ec022d9",
    "idx": 8,
    "time": "2021-02-04T06:11:04.984Z",
    "type": "execution"
   },
   {
    "id": "c918c51cba074df9aae6de6aaccc6831",
    "time": "2021-02-04T06:11:06.221Z",
    "type": "completion"
   },
   {
    "id": "98460873d6c440d4806ffbd48ec022d9",
    "time": "2021-02-04T06:11:06.224Z",
    "type": "completion"
   },
   {
    "code": "!ls",
    "id": "1674ad6d3ad244bc8324282789e4efc2",
    "idx": 10,
    "time": "2021-02-04T06:11:06.875Z",
    "type": "execution"
   },
   {
    "code": "my_zip = zipfile.ZipFile(dest_path, 'r')\nlist_names = my_zip.namelist()\nlist_names",
    "id": "dc270ef9d171403388fe2e64a4f83c56",
    "idx": 13,
    "time": "2021-02-04T06:11:07.447Z",
    "type": "execution"
   },
   {
    "id": "1674ad6d3ad244bc8324282789e4efc2",
    "time": "2021-02-04T06:11:07.702Z",
    "type": "completion"
   },
   {
    "id": "dc270ef9d171403388fe2e64a4f83c56",
    "time": "2021-02-04T06:11:07.741Z",
    "type": "completion"
   },
   {
    "code": "my_zip = zipfile.ZipFile(dest_path, 'r')\nfor info in my_zip.infolist():\n    print('{}\\t{}'.format(info.filename, info.file_size))",
    "id": "99b5fd04e0a14fb58218031c7a4d7095",
    "idx": 16,
    "time": "2021-02-04T06:11:07.918Z",
    "type": "execution"
   },
   {
    "id": "99b5fd04e0a14fb58218031c7a4d7095",
    "time": "2021-02-04T06:11:08.123Z",
    "type": "completion"
   },
   {
    "code": "data_dir = Path('.')\nmy_zip.extractall(data_dir)\n!ls {data_dir / Path(\"data\")}",
    "id": "9360fa672b7b4c58a1224fd8e7b1393d",
    "idx": 18,
    "time": "2021-02-04T06:11:08.238Z",
    "type": "execution"
   },
   {
    "code": "import ds100_utils\n\ndata_dir = \"./\"\nfor f in list_names:\n    if not os.path.isdir(f):\n        print(ds100_utils.head(data_dir + f, 5), \"\\n\")",
    "id": "25e5ca8eee734820b11f6f194350a745",
    "idx": 21,
    "time": "2021-02-04T06:11:08.709Z",
    "type": "execution"
   },
   {
    "code": "# path to directory containing data\ndsDir = Path('data')\n\nbus = pd.read_csv(dsDir/'bus.csv', encoding='ISO-8859-1')\nins2vio = pd.read_csv(dsDir/'ins2vio.csv')\nins = pd.read_csv(dsDir/'ins.csv')\nvio = pd.read_csv(dsDir/'vio.csv')\n\n#This code is essential for the autograder to function properly. Do not edit\nins_test = ins",
    "id": "3823a853aaaa46be863ce5fc45f88110",
    "idx": 23,
    "time": "2021-02-04T06:11:08.981Z",
    "type": "execution"
   },
   {
    "id": "9360fa672b7b4c58a1224fd8e7b1393d",
    "time": "2021-02-04T06:11:09.243Z",
    "type": "completion"
   },
   {
    "id": "25e5ca8eee734820b11f6f194350a745",
    "time": "2021-02-04T06:11:09.356Z",
    "type": "completion"
   },
   {
    "code": "bus.head() ",
    "id": "2c7312efff5548aebf0ef179eff37030",
    "idx": 25,
    "time": "2021-02-04T06:11:09.597Z",
    "type": "execution"
   },
   {
    "code": "bus.describe()",
    "id": "e993589ee97a4339a8871f2aa6d8331a",
    "idx": 27,
    "time": "2021-02-04T06:11:09.771Z",
    "type": "execution"
   },
   {
    "id": "3823a853aaaa46be863ce5fc45f88110",
    "time": "2021-02-04T06:11:09.849Z",
    "type": "completion"
   },
   {
    "code": "assert all(bus.columns == ['business id column', 'name', 'address', 'city', 'state', 'postal_code',\n                           'latitude', 'longitude', 'phone_number'])\nassert 6250 <= len(bus) <= 6260\n\nassert all(ins.columns == ['iid', 'date', 'score', 'type'])\nassert 26660 <= len(ins) <= 26670\n\nassert all(vio.columns == ['description', 'risk_category', 'vid'])\nassert 60 <= len(vio) <= 65\n\nassert all(ins2vio.columns == ['iid', 'vid'])\nassert 40210 <= len(ins2vio) <= 40220",
    "id": "63a89a0a2bd44ed7802a25c775dba197",
    "idx": 30,
    "time": "2021-02-04T06:11:09.998Z",
    "type": "execution"
   },
   {
    "code": "bus_summary = pd.DataFrame(**{'columns': ['business id column', 'latitude', 'longitude'],\n 'data': {'business id column': {'50%': 75685.0, 'max': 102705.0, 'min': 19.0},\n  'latitude': {'50%': -9999.0, 'max': 37.824494, 'min': -9999.0},\n  'longitude': {'50%': -9999.0,\n   'max': 0.0,\n   'min': -9999.0}},\n 'index': ['min', '50%', 'max']})\n\nins_summary = pd.DataFrame(**{'columns': ['score'],\n 'data': {'score': {'50%': 76.0, 'max': 100.0, 'min': -1.0}},\n 'index': ['min', '50%', 'max']})\n\nvio_summary = pd.DataFrame(**{'columns': ['vid'],\n 'data': {'vid': {'50%': 103135.0, 'max': 103177.0, 'min': 103102.0}},\n 'index': ['min', '50%', 'max']})\n\nfrom IPython.display import display\n\nprint('What we expect from your Businesses dataframe:')\ndisplay(bus_summary)\nprint('What we expect from your Inspections dataframe:')\ndisplay(ins_summary)\nprint('What we expect from your Violations dataframe:')\ndisplay(vio_summary)",
    "id": "e53db99ee2844e28bfd68d76d8aad9ad",
    "idx": 32,
    "time": "2021-02-04T06:11:10.151Z",
    "type": "execution"
   },
   {
    "code": "\"\"\"Run this cell to load this utility comparison function that we will use in various\ntests below (both tests you can see and those we run internally for grading).\n\nDo not modify the function in any way.\n\"\"\"\n\n\ndef df_allclose(actual, desired, columns=None, rtol=5e-2):\n    \"\"\"Compare selected columns of two dataframes on a few summary statistics.\n    \n    Compute the min, median and max of the two dataframes on the given columns, and compare\n    that they match numerically to the given relative tolerance.\n    \n    If they don't match, an AssertionError is raised (by `numpy.testing`).\n    \"\"\"    \n    # summary statistics to compare on\n    stats = ['min', '50%', 'max']\n    \n    # For the desired values, we can provide a full DF with the same structure as\n    # the actual data, or pre-computed summary statistics.\n    # We assume a pre-computed summary was provided if columns is None. In that case, \n    # `desired` *must* have the same structure as the actual's summary\n    if columns is None:\n        des = desired\n        columns = desired.columns\n    else:\n        des = desired[columns].describe().loc[stats]\n\n    # Extract summary stats from actual DF\n    act = actual[columns].describe().loc[stats]\n\n    return np.allclose(act, des, rtol)",
    "id": "c29060ff52b74ac88e3e682d1920b29c",
    "idx": 34,
    "time": "2021-02-04T06:11:10.345Z",
    "type": "execution"
   },
   {
    "id": "2c7312efff5548aebf0ef179eff37030",
    "time": "2021-02-04T06:11:10.468Z",
    "type": "completion"
   },
   {
    "id": "e993589ee97a4339a8871f2aa6d8331a",
    "time": "2021-02-04T06:11:10.798Z",
    "type": "completion"
   },
   {
    "id": "63a89a0a2bd44ed7802a25c775dba197",
    "time": "2021-02-04T06:11:10.799Z",
    "type": "completion"
   },
   {
    "id": "e53db99ee2844e28bfd68d76d8aad9ad",
    "time": "2021-02-04T06:11:10.805Z",
    "type": "completion"
   },
   {
    "id": "c29060ff52b74ac88e3e682d1920b29c",
    "time": "2021-02-04T06:11:10.807Z",
    "type": "completion"
   },
   {
    "code": "bus.head()",
    "id": "ef0ff421d0394ec78fc63ed4419c25fb",
    "idx": 41,
    "time": "2021-02-04T06:11:10.956Z",
    "type": "execution"
   },
   {
    "code": "bus = bus.rename(columns={\"business id column\": \"bid\"})",
    "id": "bf60bac184c644338f71eaf535b12375",
    "idx": 43,
    "time": "2021-02-04T06:11:11.135Z",
    "type": "execution"
   },
   {
    "code": "is_bid_unique = bus['bid'].value_counts().max() == 1 # SOLUTION",
    "id": "32d3b5c951a147a69f26a01db64a24e0",
    "idx": 45,
    "time": "2021-02-04T06:11:11.237Z",
    "type": "execution"
   },
   {
    "code": "# TEST\nis_bid_unique or ~is_bid_unique",
    "id": "d2a5ec2225a64ebf8e0b2d73c7ace05a",
    "idx": 46,
    "time": "2021-02-04T06:11:11.330Z",
    "type": "execution"
   },
   {
    "code": "# HIDDEN TEST\nis_bid_unique",
    "id": "f1d21019924e4aed96bae60802401392",
    "idx": 47,
    "time": "2021-02-04T06:11:11.410Z",
    "type": "execution"
   },
   {
    "code": "top_names = np.array(bus['name'].value_counts()[:5].index) # SOLUTION\ntop_addresses = np.array(bus['address'].value_counts()[:5].index) # SOLUTION\ntop_names, top_addresses",
    "id": "dd3e700bd1c04039a1eda4afe98633fb",
    "idx": 49,
    "time": "2021-02-04T06:11:11.593Z",
    "type": "execution"
   },
   {
    "code": "# TEST\nassert type(top_names) == np.ndarray\nassert type(top_addresses) == np.ndarray\nassert len(top_names) == 5\nlen(top_addresses) == 5",
    "id": "f25d0b059e9449bd8349c16d27908656",
    "idx": 50,
    "time": "2021-02-04T06:11:11.658Z",
    "type": "execution"
   },
   {
    "code": "# TEST \nassert top_names[0] == \"Peet's Coffee & Tea\"\ntop_addresses[0] == 'Off The Grid'",
    "id": "9120ecfe13cd479daaaab53dc80d97eb",
    "idx": 51,
    "time": "2021-02-04T06:11:11.785Z",
    "type": "execution"
   },
   {
    "code": "# HIDDEN TEST\nnp.all(top_names == np.array(bus['name'].value_counts()[:5].index))",
    "id": "0be8d936ee4f4d82a15dfed2efeca88e",
    "idx": 52,
    "time": "2021-02-04T06:11:11.862Z",
    "type": "execution"
   },
   {
    "code": "# HIDDEN TEST\nnp.all(top_addresses == np.array(bus['address'].value_counts()[:5].index))",
    "id": "714c369ceda344a6b60425a6733f1c66",
    "idx": 53,
    "time": "2021-02-04T06:11:11.925Z",
    "type": "execution"
   },
   {
    "code": "# What does each record represent?  Valid answers are:\n#    \"One location of a restaurant.\"\n#    \"A chain of restaurants.\"\n#    \"A city block.\"\nq1e_part1 = \"One location of a restaurant.\" # SOLUTION\n\n# What is the minimal primary key? Valid answers are:\n#    \"bid\"\n#    \"bid, name\"\n#    \"bid, name, address\"\nq1e_part2 = \"bid\" # SOLUTION",
    "id": "a6796f2c788d4f6d8132ffbe8dbe0040",
    "idx": 55,
    "time": "2021-02-04T06:11:12.111Z",
    "type": "execution"
   },
   {
    "code": "# TEST\nq1e_part1 in set([\"One location of a restaurant.\", \"A chain of restaurants.\", \"A city block.\"])",
    "id": "4d1ae066549248a1934ea2fc6884d321",
    "idx": 56,
    "time": "2021-02-04T06:11:12.177Z",
    "type": "execution"
   },
   {
    "id": "ef0ff421d0394ec78fc63ed4419c25fb",
    "time": "2021-02-04T06:11:12.305Z",
    "type": "completion"
   },
   {
    "id": "bf60bac184c644338f71eaf535b12375",
    "time": "2021-02-04T06:11:12.310Z",
    "type": "completion"
   },
   {
    "id": "32d3b5c951a147a69f26a01db64a24e0",
    "time": "2021-02-04T06:11:12.314Z",
    "type": "completion"
   },
   {
    "id": "d2a5ec2225a64ebf8e0b2d73c7ace05a",
    "time": "2021-02-04T06:11:12.410Z",
    "type": "completion"
   },
   {
    "id": "f1d21019924e4aed96bae60802401392",
    "time": "2021-02-04T06:11:12.416Z",
    "type": "completion"
   },
   {
    "id": "dd3e700bd1c04039a1eda4afe98633fb",
    "time": "2021-02-04T06:11:12.421Z",
    "type": "completion"
   },
   {
    "id": "f25d0b059e9449bd8349c16d27908656",
    "time": "2021-02-04T06:11:12.424Z",
    "type": "completion"
   },
   {
    "id": "9120ecfe13cd479daaaab53dc80d97eb",
    "time": "2021-02-04T06:11:12.429Z",
    "type": "completion"
   },
   {
    "id": "0be8d936ee4f4d82a15dfed2efeca88e",
    "time": "2021-02-04T06:11:12.432Z",
    "type": "completion"
   },
   {
    "id": "714c369ceda344a6b60425a6733f1c66",
    "time": "2021-02-04T06:11:12.437Z",
    "type": "completion"
   },
   {
    "id": "a6796f2c788d4f6d8132ffbe8dbe0040",
    "time": "2021-02-04T06:11:12.510Z",
    "type": "completion"
   },
   {
    "id": "4d1ae066549248a1934ea2fc6884d321",
    "time": "2021-02-04T06:11:12.516Z",
    "type": "completion"
   },
   {
    "code": "# TEST\nq1e_part2 in set([\"bid\", \"bid, name\", \"bid, name, address\"])",
    "id": "58ea5cf6e5df4cd39b739ddf6ed53553",
    "idx": 57,
    "time": "2021-02-04T06:11:13.174Z",
    "type": "execution"
   },
   {
    "code": "# HIDDEN TEST\nq1e_part1 == \"One location of a restaurant.\" ",
    "id": "d2becd4354a44bec89d09b858522b916",
    "idx": 58,
    "time": "2021-02-04T06:11:13.359Z",
    "type": "execution"
   },
   {
    "id": "58ea5cf6e5df4cd39b739ddf6ed53553",
    "time": "2021-02-04T06:11:13.494Z",
    "type": "completion"
   },
   {
    "id": "d2becd4354a44bec89d09b858522b916",
    "time": "2021-02-04T06:11:13.499Z",
    "type": "completion"
   },
   {
    "code": "# HIDDEN TEST\nq1e_part2 == \"bid\"",
    "id": "00b585884b3a4145b8c89afaceb88917",
    "idx": 59,
    "time": "2021-02-04T06:11:14.356Z",
    "type": "execution"
   },
   {
    "id": "00b585884b3a4145b8c89afaceb88917",
    "time": "2021-02-04T06:11:14.467Z",
    "type": "completion"
   },
   {
    "code": "zip_counts = bus.groupby(\"postal_code\").size().sort_values(ascending=False) # SOLUTION\nprint(zip_counts.to_string())",
    "id": "14dc0b46e30e4bc984840fb2078f5267",
    "idx": 62,
    "time": "2021-02-04T06:11:19.803Z",
    "type": "execution"
   },
   {
    "id": "14dc0b46e30e4bc984840fb2078f5267",
    "time": "2021-02-04T06:11:20.258Z",
    "type": "completion"
   },
   {
    "code": "# TEST\ntype(zip_counts) == pd.Series",
    "id": "686e5162b46944138f14b42a9f1c689a",
    "idx": 63,
    "time": "2021-02-04T06:11:20.520Z",
    "type": "execution"
   },
   {
    "id": "686e5162b46944138f14b42a9f1c689a",
    "time": "2021-02-04T06:11:20.731Z",
    "type": "completion"
   },
   {
    "code": "# TEST\nzip_counts.shape[0] == 63",
    "id": "fbd20dafb7ec4e788b0e7e67fd0341db",
    "idx": 64,
    "time": "2021-02-04T06:11:21.155Z",
    "type": "execution"
   },
   {
    "code": "# TEST\nzip_counts[\"94103\"] == 562",
    "id": "a4165b19b1f249e885175eb7ff1e3e46",
    "idx": 65,
    "time": "2021-02-04T06:11:21.377Z",
    "type": "execution"
   },
   {
    "code": "# HIDDEN TEST\nnp.isclose(zip_counts.var(), bus['postal_code'].value_counts().var())",
    "id": "7e2be682729047228ec297bc59ac7c2d",
    "idx": 66,
    "time": "2021-02-04T06:11:21.523Z",
    "type": "execution"
   },
   {
    "id": "fbd20dafb7ec4e788b0e7e67fd0341db",
    "time": "2021-02-04T06:11:23.438Z",
    "type": "completion"
   },
   {
    "id": "a4165b19b1f249e885175eb7ff1e3e46",
    "time": "2021-02-04T06:11:23.443Z",
    "type": "completion"
   },
   {
    "id": "7e2be682729047228ec297bc59ac7c2d",
    "time": "2021-02-04T06:11:23.595Z",
    "type": "completion"
   },
   {
    "code": "# HIDDEN TEST\nnp.isclose(zip_counts.mean(), bus['postal_code'].value_counts().mean())",
    "id": "b5019397b19c429a84e51db7789c37d8",
    "idx": 67,
    "time": "2021-02-04T06:11:24.069Z",
    "type": "execution"
   },
   {
    "id": "b5019397b19c429a84e51db7789c37d8",
    "time": "2021-02-04T06:11:24.253Z",
    "type": "completion"
   },
   {
    "code": "# The ZIP code column is which of the following type of data:\n#   \"Quantitative Continuous\" \n#   \"Quantitative Discrete\"\n#   \"Qualitative Ordinal\"\n#   \"Qualitative Nominal\"\nq2b_part1 = \"Qualitative Nominal\" # SOLUTION\n\n# What Python data type is used to represent a ZIP code? \n#    \"str\"\n#    \"int\"\n#    \"bool\"\n#    \"float\"\nq2b_part2 = \"str\" # SOLUTION",
    "id": "7393a5e9248943e296711f98cf8aca8b",
    "idx": 69,
    "time": "2021-02-04T06:11:24.857Z",
    "type": "execution"
   },
   {
    "id": "7393a5e9248943e296711f98cf8aca8b",
    "time": "2021-02-04T06:11:24.972Z",
    "type": "completion"
   },
   {
    "code": "# TEST\nq2b_part1 in set([\"Quantitative Continuous\", \"Quantitative Discrete\", \n                  \"Qualitative Ordinal\", \"Qualitative Nominal\"])",
    "id": "5e9c25f63be44c9095ee2ba84ccd86f0",
    "idx": 70,
    "time": "2021-02-04T06:11:25.274Z",
    "type": "execution"
   },
   {
    "code": "# TEST\nq2b_part2 in set([\"str\", \"int\", \"bool\", \"float\"])",
    "id": "487e64c10fa94e888c261b22af5c4319",
    "idx": 71,
    "time": "2021-02-04T06:11:25.796Z",
    "type": "execution"
   },
   {
    "id": "5e9c25f63be44c9095ee2ba84ccd86f0",
    "time": "2021-02-04T06:11:25.854Z",
    "type": "completion"
   },
   {
    "id": "487e64c10fa94e888c261b22af5c4319",
    "time": "2021-02-04T06:11:25.923Z",
    "type": "completion"
   },
   {
    "code": "# HIDDEN TEST\nq2b_part1 == \"Qualitative Nominal\"",
    "id": "5100bef5f3624cd28a033e2e53a35e2a",
    "idx": 72,
    "time": "2021-02-04T06:11:26.149Z",
    "type": "execution"
   },
   {
    "id": "5100bef5f3624cd28a033e2e53a35e2a",
    "time": "2021-02-04T06:11:26.267Z",
    "type": "completion"
   },
   {
    "code": "# HIDDEN TEST\nq2b_part2 == \"str\"",
    "id": "8b21497d6dc647b28155fab991120d57",
    "idx": 73,
    "time": "2021-02-04T06:11:26.517Z",
    "type": "execution"
   },
   {
    "id": "8b21497d6dc647b28155fab991120d57",
    "time": "2021-02-04T06:11:26.628Z",
    "type": "completion"
   },
   {
    "code": "valid_zips = pd.read_json(\"data/sf_zipcodes.json\", dtype=\"str\")['zip_codes'] # SOLUTION\nvalid_zips.head()",
    "id": "afc8794be5c04e2e8d4ce51b42b7253a",
    "idx": 76,
    "time": "2021-02-04T06:11:27.834Z",
    "type": "execution"
   },
   {
    "id": "afc8794be5c04e2e8d4ce51b42b7253a",
    "time": "2021-02-04T06:11:27.971Z",
    "type": "completion"
   },
   {
    "code": "# TEST\nassert valid_zips.dtype == object \ntype(valid_zips) == pd.Series",
    "id": "c9628fba02034e6283b042fc5421e166",
    "idx": 77,
    "time": "2021-02-04T06:11:28.297Z",
    "type": "execution"
   },
   {
    "id": "c9628fba02034e6283b042fc5421e166",
    "time": "2021-02-04T06:11:28.419Z",
    "type": "completion"
   },
   {
    "code": "# HIDDEN TEST\nnp.all(valid_zips.sort_values() == pd.read_json(\"data/sf_zipcodes.json\", dtype=\"str\")['zip_codes'].sort_values()) ",
    "id": "7bebf8238ff24b7f86c2b062638b6edb",
    "idx": 78,
    "time": "2021-02-04T06:11:56.491Z",
    "type": "execution"
   },
   {
    "id": "7bebf8238ff24b7f86c2b062638b6edb",
    "time": "2021-02-04T06:11:56.621Z",
    "type": "completion"
   },
   {
    "code": "invalid_zip_bus = bus[~bus['postal_code'].isin(valid_zips)] # SOLUTION\ninvalid_zip_bus.head(20)",
    "id": "8e8f68bcdd194ce9b835e5c80b459240",
    "idx": 80,
    "time": "2021-02-04T06:11:57.306Z",
    "type": "execution"
   },
   {
    "code": "# TEST\ntype(invalid_zip_bus) == pd.DataFrame",
    "id": "ddfa99babaa94e83841dc2370b7966cf",
    "idx": 81,
    "time": "2021-02-04T06:11:57.470Z",
    "type": "execution"
   },
   {
    "code": "# TEST\nlen(invalid_zip_bus) == 230",
    "id": "25097ee2758449558d1b566f41c06d89",
    "idx": 82,
    "time": "2021-02-04T06:11:57.617Z",
    "type": "execution"
   },
   {
    "code": "# HIDDEN TEST\nset(invalid_zip_bus['postal_code']) == set(bus[~bus['postal_code'].isin(valid_zips)]['postal_code'])",
    "id": "a0e31767f98245b78bc53ae9fd87f7fa",
    "idx": 83,
    "time": "2021-02-04T06:11:57.765Z",
    "type": "execution"
   },
   {
    "id": "8e8f68bcdd194ce9b835e5c80b459240",
    "time": "2021-02-04T06:11:57.809Z",
    "type": "completion"
   },
   {
    "id": "ddfa99babaa94e83841dc2370b7966cf",
    "time": "2021-02-04T06:11:57.812Z",
    "type": "completion"
   },
   {
    "id": "25097ee2758449558d1b566f41c06d89",
    "time": "2021-02-04T06:11:57.858Z",
    "type": "completion"
   },
   {
    "id": "a0e31767f98245b78bc53ae9fd87f7fa",
    "time": "2021-02-04T06:11:57.994Z",
    "type": "completion"
   },
   {
    "code": "missing_zip_address_count = bus[bus['postal_code'] == \"-9999\"]['address'].value_counts() # SOLUTION\nmissing_zip_address_count.head()",
    "id": "ce8b662d6cb24d4287173014df807d73",
    "idx": 85,
    "time": "2021-02-04T06:11:58.073Z",
    "type": "execution"
   },
   {
    "code": "# TEST\ntype(missing_zip_address_count) == pd.Series",
    "id": "cc3a377ff49445e696dfdd2cfb5a6bc3",
    "idx": 86,
    "time": "2021-02-04T06:11:58.219Z",
    "type": "execution"
   },
   {
    "id": "ce8b662d6cb24d4287173014df807d73",
    "time": "2021-02-04T06:11:58.351Z",
    "type": "completion"
   },
   {
    "code": "# TEST\nassert len(missing_zip_address_count) == 135\nmissing_zip_address_count['3914 Judah St'] == 1",
    "id": "34730f3289724774b0c88c98891064d5",
    "idx": 87,
    "time": "2021-02-04T06:11:58.366Z",
    "type": "execution"
   },
   {
    "id": "cc3a377ff49445e696dfdd2cfb5a6bc3",
    "time": "2021-02-04T06:11:58.428Z",
    "type": "completion"
   },
   {
    "id": "34730f3289724774b0c88c98891064d5",
    "time": "2021-02-04T06:11:58.496Z",
    "type": "completion"
   },
   {
    "code": "# HIDDEN TEST\nmissing_zip_address_count['Off The Grid'] == 39",
    "id": "bf0701cbc34c4fa3a116a31944624967",
    "idx": 88,
    "time": "2021-02-04T06:11:58.579Z",
    "type": "execution"
   },
   {
    "code": "# True or False: \n#  If we were to drop businesses with MISSING postal code values \n#   a particular class of business be affected.\nq2e_true_or_false = True # SOLUTION",
    "id": "bb2f3b6227cc42fe8e401fe5a926371f",
    "idx": 90,
    "time": "2021-02-04T06:11:58.781Z",
    "type": "execution"
   },
   {
    "id": "bf0701cbc34c4fa3a116a31944624967",
    "time": "2021-02-04T06:11:58.865Z",
    "type": "completion"
   },
   {
    "id": "bb2f3b6227cc42fe8e401fe5a926371f",
    "time": "2021-02-04T06:11:58.868Z",
    "type": "completion"
   },
   {
    "code": "# TEST\ntype(q2e_true_or_false) == bool",
    "id": "c881ca4dc39d49da8db0471b814f155c",
    "idx": 91,
    "time": "2021-02-04T06:11:58.945Z",
    "type": "execution"
   },
   {
    "id": "c881ca4dc39d49da8db0471b814f155c",
    "time": "2021-02-04T06:11:59.075Z",
    "type": "completion"
   },
   {
    "code": "# HIDDEN TEST\nq2e_true_or_false == True",
    "id": "ac0a2452805a47e486d8ee3e430b8126",
    "idx": 92,
    "time": "2021-02-04T06:11:59.094Z",
    "type": "execution"
   },
   {
    "id": "ac0a2452805a47e486d8ee3e430b8126",
    "time": "2021-02-04T06:11:59.193Z",
    "type": "completion"
   },
   {
    "code": "bus['postal5'] = None\n# BEGIN SOLUTION\nbus['postal5'] = bus['postal_code'].str[:5]\nbus.loc[~bus['postal5'].isin(valid_zips), 'postal5'] = None \n# END SOLUTION\n\n# Checking the corrected postal5 column\nbus.loc[invalid_zip_bus.index, ['bid', 'name', 'postal_code', 'postal5']]",
    "id": "593844020e034c7c8e69ce06d71f80fc",
    "idx": 94,
    "time": "2021-02-04T06:11:59.403Z",
    "type": "execution"
   },
   {
    "code": "# TEST\nassert 'postal5' in bus.columns\n(bus['postal5'].str.len() != 5).sum() == 221",
    "id": "feb2017f3cbc470d81e76462eab68b5e",
    "idx": 95,
    "time": "2021-02-04T06:11:59.534Z",
    "type": "execution"
   },
   {
    "id": "593844020e034c7c8e69ce06d71f80fc",
    "time": "2021-02-04T06:11:59.665Z",
    "type": "completion"
   },
   {
    "id": "feb2017f3cbc470d81e76462eab68b5e",
    "time": "2021-02-04T06:11:59.686Z",
    "type": "completion"
   },
   {
    "code": "# TEST\nbus['postal5'].isin(valid_zips).sum() == 6032\nbus['postal5'].isna().sum() == 221",
    "id": "34c24a87f2284e979f9479f3f3fefbde",
    "idx": 96,
    "time": "2021-02-04T06:12:00.247Z",
    "type": "execution"
   },
   {
    "id": "34c24a87f2284e979f9479f3f3fefbde",
    "time": "2021-02-04T06:12:00.370Z",
    "type": "completion"
   },
   {
    "code": "# HIDDEN TEST\n(bus['postal5'] == \"-9999\").sum() == 0",
    "id": "b6c46297bdcd4fd98debf2b30c7bfd28",
    "idx": 97,
    "time": "2021-02-04T06:12:00.453Z",
    "type": "execution"
   },
   {
    "code": "# HIDDEN TEST\nbus['postal5'].isna().sum() == 221",
    "id": "94dcdc90ec1b4243b6f8187bd94ccb1a",
    "idx": 98,
    "time": "2021-02-04T06:12:00.586Z",
    "type": "execution"
   },
   {
    "id": "b6c46297bdcd4fd98debf2b30c7bfd28",
    "time": "2021-02-04T06:12:00.705Z",
    "type": "completion"
   },
   {
    "id": "94dcdc90ec1b4243b6f8187bd94ccb1a",
    "time": "2021-02-04T06:12:00.709Z",
    "type": "completion"
   },
   {
    "code": "ins.head(5)",
    "id": "9ee85ef97f24484ebd3bd82dbcb60b79",
    "idx": 101,
    "time": "2021-02-04T06:12:01.056Z",
    "type": "execution"
   },
   {
    "id": "9ee85ef97f24484ebd3bd82dbcb60b79",
    "time": "2021-02-04T06:12:01.175Z",
    "type": "completion"
   },
   {
    "code": "is_ins_iid_a_primary_key = ins['iid'].value_counts().max() == 1 # SOLUTION",
    "id": "7225319294704bd3872a9e31840c1032",
    "idx": 103,
    "time": "2021-02-04T06:12:01.382Z",
    "type": "execution"
   },
   {
    "id": "7225319294704bd3872a9e31840c1032",
    "time": "2021-02-04T06:12:01.484Z",
    "type": "completion"
   },
   {
    "code": "# TEST\ntype(is_ins_iid_a_primary_key) == bool or type(is_ins_iid_a_primary_key) == np.bool_",
    "id": "60389410083e4917bf122af806f9b9f6",
    "idx": 104,
    "time": "2021-02-04T06:12:01.534Z",
    "type": "execution"
   },
   {
    "code": "# HIDDEN TEST\nis_ins_iid_a_primary_key == True",
    "id": "22ddb2f16b4e43dab28de7f1b8597f0e",
    "idx": 105,
    "time": "2021-02-04T06:12:01.669Z",
    "type": "execution"
   },
   {
    "id": "60389410083e4917bf122af806f9b9f6",
    "time": "2021-02-04T06:12:01.706Z",
    "type": "completion"
   },
   {
    "id": "22ddb2f16b4e43dab28de7f1b8597f0e",
    "time": "2021-02-04T06:12:01.760Z",
    "type": "completion"
   },
   {
    "code": "ins['bid'] = ins['iid'].str.split(\"_\", expand=True)[0].astype(int) # SOLUTION",
    "id": "dfa85b3255204d6a9c8511c858fbf8d2",
    "idx": 108,
    "time": "2021-02-04T06:12:02.176Z",
    "type": "execution"
   },
   {
    "code": "# TEST\n'bid' in ins.columns",
    "id": "1c04b7b4b72e44e28bff8da6b529b802",
    "idx": 109,
    "time": "2021-02-04T06:12:02.337Z",
    "type": "execution"
   },
   {
    "id": "dfa85b3255204d6a9c8511c858fbf8d2",
    "time": "2021-02-04T06:12:02.453Z",
    "type": "completion"
   },
   {
    "id": "1c04b7b4b72e44e28bff8da6b529b802",
    "time": "2021-02-04T06:12:02.462Z",
    "type": "completion"
   },
   {
    "code": "# TEST\nins['bid'].dtype == int",
    "id": "4544c583d5bb4a2db8289705ab53d595",
    "idx": 110,
    "time": "2021-02-04T06:12:02.541Z",
    "type": "execution"
   },
   {
    "code": "# TEST\nlen(ins[ins['score'] > 0]['bid'].unique()) == 5724",
    "id": "8602ace2fbb846968f8bd4529d757c5e",
    "idx": 111,
    "time": "2021-02-04T06:12:02.672Z",
    "type": "execution"
   },
   {
    "id": "4544c583d5bb4a2db8289705ab53d595",
    "time": "2021-02-04T06:12:02.797Z",
    "type": "completion"
   },
   {
    "id": "8602ace2fbb846968f8bd4529d757c5e",
    "time": "2021-02-04T06:12:02.802Z",
    "type": "completion"
   },
   {
    "code": "# HIDDEN TEST\nins['bid'].equals(ins['iid'].str.split(\"_\", expand=True)[0].astype(\"int\"))",
    "id": "00befa8854b4492383c6d6b2d1bdfef6",
    "idx": 112,
    "time": "2021-02-04T06:12:02.820Z",
    "type": "execution"
   },
   {
    "id": "00befa8854b4492383c6d6b2d1bdfef6",
    "time": "2021-02-04T06:12:03.021Z",
    "type": "completion"
   },
   {
    "code": "invalid_bid_count = (~ins['bid'].isin(bus['bid'])).sum() # SOLUTION",
    "id": "aba425b58f5044148a5ceffb758785ef",
    "idx": 114,
    "time": "2021-02-04T06:12:03.140Z",
    "type": "execution"
   },
   {
    "id": "aba425b58f5044148a5ceffb758785ef",
    "time": "2021-02-04T06:12:03.221Z",
    "type": "completion"
   },
   {
    "code": "# TEST\ninvalid_bid_count >= 0 ",
    "id": "0bff2c4c21b84d78a11affffc44835d6",
    "idx": 115,
    "time": "2021-02-04T06:12:03.281Z",
    "type": "execution"
   },
   {
    "id": "0bff2c4c21b84d78a11affffc44835d6",
    "time": "2021-02-04T06:12:03.401Z",
    "type": "completion"
   },
   {
    "code": "# HIDDEN TEST\ninvalid_bid_count == 0",
    "id": "05ae3cc5aea64e3d84fb0995710c81e9",
    "idx": 116,
    "time": "2021-02-04T06:12:03.477Z",
    "type": "execution"
   },
   {
    "id": "05ae3cc5aea64e3d84fb0995710c81e9",
    "time": "2021-02-04T06:12:03.653Z",
    "type": "completion"
   },
   {
    "code": "# True or False: The column ins['bid'] is a foreign key \n#   referencing the bus['bid'] primary key.\n\nq3b_is_foreign_key = True # SOLUTION",
    "id": "0479c1ce035a40bf98211b3ff3f95a41",
    "idx": 118,
    "time": "2021-02-04T06:12:03.762Z",
    "type": "execution"
   },
   {
    "id": "0479c1ce035a40bf98211b3ff3f95a41",
    "time": "2021-02-04T06:12:03.866Z",
    "type": "completion"
   },
   {
    "code": "# TEST\ntype(q3b_is_foreign_key) == bool",
    "id": "72ed1a1751d040178963dea6f0aa600c",
    "idx": 119,
    "time": "2021-02-04T06:12:03.926Z",
    "type": "execution"
   },
   {
    "id": "72ed1a1751d040178963dea6f0aa600c",
    "time": "2021-02-04T06:12:04.052Z",
    "type": "completion"
   },
   {
    "code": "# HIDDEN TEST\nq3b_is_foreign_key == True",
    "id": "b629a95cb86c4b83b37c32557364e3cd",
    "idx": 120,
    "time": "2021-02-04T06:12:04.124Z",
    "type": "execution"
   },
   {
    "id": "b629a95cb86c4b83b37c32557364e3cd",
    "time": "2021-02-04T06:12:04.342Z",
    "type": "completion"
   },
   {
    "code": "ins_date_type = type(ins['date'][0]) # SOLUTION\nins_date_type",
    "id": "20fe44790aa74bb59c2f1e7586fd03d8",
    "idx": 123,
    "time": "2021-02-04T06:12:04.603Z",
    "type": "execution"
   },
   {
    "id": "20fe44790aa74bb59c2f1e7586fd03d8",
    "time": "2021-02-04T06:12:04.745Z",
    "type": "completion"
   },
   {
    "code": "# TEST\ntype(ins_date_type) == type",
    "id": "f473e1785f694a02873c84661e12b116",
    "idx": 124,
    "time": "2021-02-04T06:12:04.820Z",
    "type": "execution"
   },
   {
    "code": "# HIDDEN TEST\nins_date_type == str",
    "id": "a0b7da78059f470e8a8e5d93e0ce72b0",
    "idx": 125,
    "time": "2021-02-04T06:12:04.949Z",
    "type": "execution"
   },
   {
    "id": "f473e1785f694a02873c84661e12b116",
    "time": "2021-02-04T06:12:05.062Z",
    "type": "completion"
   },
   {
    "id": "a0b7da78059f470e8a8e5d93e0ce72b0",
    "time": "2021-02-04T06:12:05.234Z",
    "type": "completion"
   },
   {
    "code": "ins['timestamp'] = pd.to_datetime(ins['date']) # SOLUTION",
    "id": "f56f79732394436a87b3d90bb727a94b",
    "idx": 127,
    "time": "2021-02-04T06:12:05.308Z",
    "type": "execution"
   },
   {
    "code": "# TEST\ntype(ins['timestamp'][1]) == pd.Timestamp",
    "id": "4d2a4926dd694502ac45fe2bce6d8c46",
    "idx": 128,
    "time": "2021-02-04T06:12:05.413Z",
    "type": "execution"
   },
   {
    "id": "f56f79732394436a87b3d90bb727a94b",
    "time": "2021-02-04T06:12:05.537Z",
    "type": "completion"
   },
   {
    "id": "4d2a4926dd694502ac45fe2bce6d8c46",
    "time": "2021-02-04T06:12:05.541Z",
    "type": "completion"
   },
   {
    "code": "earliest_date = ins['timestamp'].min() # SOLUTION\nlatest_date = ins['timestamp'].max() # SOLUTION\n\nprint(\"Earliest Date:\", earliest_date)\nprint(\"Latest Date:\", latest_date)",
    "id": "1d469841fe494187851389529cc9ad2d",
    "idx": 130,
    "time": "2021-02-04T06:12:05.717Z",
    "type": "execution"
   },
   {
    "id": "1d469841fe494187851389529cc9ad2d",
    "time": "2021-02-04T06:12:05.841Z",
    "type": "completion"
   },
   {
    "code": "# TEST\ntype(earliest_date) == pd.Timestamp",
    "id": "ed94bdec63634e10851fae0abac72fc8",
    "idx": 131,
    "time": "2021-02-04T06:12:05.918Z",
    "type": "execution"
   },
   {
    "id": "ed94bdec63634e10851fae0abac72fc8",
    "time": "2021-02-04T06:12:06.038Z",
    "type": "completion"
   },
   {
    "code": "# TEST\ntype(latest_date) == pd.Timestamp",
    "id": "a3e11e408a1841e982625d078c579670",
    "idx": 132,
    "time": "2021-02-04T06:12:06.162Z",
    "type": "execution"
   },
   {
    "id": "a3e11e408a1841e982625d078c579670",
    "time": "2021-02-04T06:12:06.304Z",
    "type": "completion"
   },
   {
    "code": "# HIDDEN TEST\nearliest_date == pd.Timestamp('2016-10-04 00:00:00')",
    "id": "c6a5f63ae0e74b4cb2e1cb2c2dd02724",
    "idx": 133,
    "time": "2021-02-04T06:12:06.502Z",
    "type": "execution"
   },
   {
    "id": "c6a5f63ae0e74b4cb2e1cb2c2dd02724",
    "time": "2021-02-04T06:12:06.622Z",
    "type": "completion"
   },
   {
    "code": "# HIDDEN TEST\nlatest_date == pd.Timestamp('2019-11-28 00:00:00')",
    "id": "13f1965247e545339e844fd315e4dd7c",
    "idx": 134,
    "time": "2021-02-04T06:12:06.696Z",
    "type": "execution"
   },
   {
    "id": "13f1965247e545339e844fd315e4dd7c",
    "time": "2021-02-04T06:12:06.803Z",
    "type": "completion"
   },
   {
    "code": "ins['year'] = ins['timestamp'].dt.year # SOLUTION",
    "id": "47b3e014d683475e90bb089099615a06",
    "idx": 136,
    "time": "2021-02-04T06:12:07.099Z",
    "type": "execution"
   },
   {
    "id": "47b3e014d683475e90bb089099615a06",
    "time": "2021-02-04T06:12:07.218Z",
    "type": "completion"
   },
   {
    "code": "# TEST\n'year' in ins.columns",
    "id": "2420cbd0d0d345868d76c110c7663a16",
    "idx": 137,
    "time": "2021-02-04T06:12:07.265Z",
    "type": "execution"
   },
   {
    "id": "2420cbd0d0d345868d76c110c7663a16",
    "time": "2021-02-04T06:12:07.377Z",
    "type": "completion"
   },
   {
    "code": "# HIDDEN TEST\nset(ins[ins['score'] > 0]['year'].value_counts()) == {959, 4043, 4355, 4674}",
    "id": "d63c3eba30b940239954c01402f65b52",
    "idx": 138,
    "time": "2021-02-04T06:12:07.472Z",
    "type": "execution"
   },
   {
    "id": "d63c3eba30b940239954c01402f65b52",
    "time": "2021-02-04T06:12:07.590Z",
    "type": "completion"
   },
   {
    "code": "ins.head()",
    "id": "e3263e771bdb4f39b361e7f210f4fa64",
    "idx": 139,
    "time": "2021-02-04T06:12:07.664Z",
    "type": "execution"
   },
   {
    "id": "e3263e771bdb4f39b361e7f210f4fa64",
    "time": "2021-02-04T06:12:07.806Z",
    "type": "completion"
   },
   {
    "code": "ins_pivot = ins.pivot_table(columns = \"year\", index = \"type\", aggfunc = len, fill_value = 0) # SOLUTION\nins_pivot = ins_pivot[\"bid\"] # SOLUTION\nins_pivot['Total'] = ins_pivot.sum(axis=1) # SOLUTION\nins_pivot_sorted = ins_pivot.sort_values('Total', ascending=False) # SOLUTION\nins_pivot_sorted",
    "id": "6cdab886702142c0849e73fe6e9c7786",
    "idx": 142,
    "time": "2021-02-04T06:12:09.093Z",
    "type": "execution"
   },
   {
    "id": "6cdab886702142c0849e73fe6e9c7786",
    "time": "2021-02-04T06:12:09.308Z",
    "type": "completion"
   },
   {
    "code": "# TEST\nset(ins_pivot_sorted.columns) == {2016, 2017, 2018, 2019, 'Total'}",
    "id": "ffd4bd61269f4ab6b0bac3c5322422fb",
    "idx": 143,
    "time": "2021-02-04T06:12:09.797Z",
    "type": "execution"
   },
   {
    "id": "ffd4bd61269f4ab6b0bac3c5322422fb",
    "time": "2021-02-04T06:12:09.915Z",
    "type": "completion"
   },
   {
    "code": "# TEST\nlen(ins_pivot_sorted) == 15",
    "id": "316fb2fd3e804201aaf64b2aa9855d6f",
    "idx": 144,
    "time": "2021-02-04T06:12:10.480Z",
    "type": "execution"
   },
   {
    "id": "316fb2fd3e804201aaf64b2aa9855d6f",
    "time": "2021-02-04T06:12:10.599Z",
    "type": "completion"
   },
   {
    "code": "# HIDDEN TEST\nins_pivot_sorted.loc[\"Routine - Unscheduled\", 2016] == 966",
    "id": "71c2459b32bf4e29822d3da1e4f931eb",
    "idx": 145,
    "time": "2021-02-04T06:12:10.808Z",
    "type": "execution"
   },
   {
    "id": "71c2459b32bf4e29822d3da1e4f931eb",
    "time": "2021-02-04T06:12:10.926Z",
    "type": "completion"
   },
   {
    "code": "# HIDDEN TEST\nins_pivot_sorted.iloc[0,4] == 14077",
    "id": "fd437d3e9c02468f8534eb6183866e0d",
    "idx": 146,
    "time": "2021-02-04T06:12:11.004Z",
    "type": "execution"
   },
   {
    "id": "fd437d3e9c02468f8534eb6183866e0d",
    "time": "2021-02-04T06:12:11.121Z",
    "type": "completion"
   },
   {
    "code": "# HIDDEN TEST\nins_pivot_sorted.loc[\"New Ownership - Followup\", 2016] == 0",
    "id": "67adb8db430a44ec9f6b272aab51cbde",
    "idx": 147,
    "time": "2021-02-04T06:12:11.207Z",
    "type": "execution"
   },
   {
    "id": "67adb8db430a44ec9f6b272aab51cbde",
    "time": "2021-02-04T06:12:11.425Z",
    "type": "completion"
   },
   {
    "code": "year_of_new_construction = 2017 # SOLUTION",
    "id": "652522d7a123406d8b1964915926d9a8",
    "idx": 149,
    "time": "2021-02-04T06:12:11.506Z",
    "type": "execution"
   },
   {
    "id": "652522d7a123406d8b1964915926d9a8",
    "time": "2021-02-04T06:12:11.615Z",
    "type": "completion"
   },
   {
    "code": "# TEST\ntype(year_of_new_construction) == int",
    "id": "a61152c961884b098900ae07655702ac",
    "idx": 150,
    "time": "2021-02-04T06:12:11.646Z",
    "type": "execution"
   },
   {
    "id": "a61152c961884b098900ae07655702ac",
    "time": "2021-02-04T06:12:11.766Z",
    "type": "completion"
   },
   {
    "code": "# HIDDEN TEST\nyear_of_new_construction == 2017",
    "id": "bb0bd81cc3074fb097a8a36bdf942edf",
    "idx": 151,
    "time": "2021-02-04T06:12:11.847Z",
    "type": "execution"
   },
   {
    "id": "bb0bd81cc3074fb097a8a36bdf942edf",
    "time": "2021-02-04T06:12:11.951Z",
    "type": "completion"
   },
   {
    "code": "ins['score'].value_counts().head()",
    "id": "f619fd207d224744a3309e60e18a68cb",
    "idx": 153,
    "time": "2021-02-04T06:12:12.176Z",
    "type": "execution"
   },
   {
    "id": "f619fd207d224744a3309e60e18a68cb",
    "time": "2021-02-04T06:12:12.285Z",
    "type": "completion"
   },
   {
    "code": "ins_missing_score_pivot = ...\n\n# BEGIN SOLUTION\nins['Missing Score'] = (ins['score'] == -1).astype(\"str\")\n\nins_missing_score_pivot = ins.pivot_table(\n    index = \"type\", \n    columns = \"Missing Score\",\n    aggfunc = 'size',\n    fill_value = 0\n)\nins_missing_score_pivot['Total'] = ins_missing_score_pivot.sum(axis=1)\nins_missing_score_pivot.sort_values('Total', inplace=True, ascending=False)\nins_missing_score_pivot\n# END SOLUTION",
    "id": "7a2c2da3954d428383c6801c94eaa8e8",
    "idx": 156,
    "time": "2021-02-04T06:12:12.692Z",
    "type": "execution"
   },
   {
    "code": "# TEST\nif type(ins_missing_score_pivot) == pd.DataFrame:\n    if False in ins_missing_score_pivot.columns: \n        ins_missing_score_pivot.rename(columns={False:\"False\"}, errors=\"raise\",inplace=True)\n    if True in ins_missing_score_pivot.columns:\n        ins_missing_score_pivot.rename(columns={True:\"True\"}, errors=\"raise\",inplace=True)\ntype(ins_missing_score_pivot) == pd.DataFrame",
    "id": "88c6001406df4a32b5cd765411fa41b0",
    "idx": 157,
    "time": "2021-02-04T06:12:12.871Z",
    "type": "execution"
   },
   {
    "id": "7a2c2da3954d428383c6801c94eaa8e8",
    "time": "2021-02-04T06:12:12.981Z",
    "type": "completion"
   },
   {
    "id": "88c6001406df4a32b5cd765411fa41b0",
    "time": "2021-02-04T06:12:12.991Z",
    "type": "completion"
   },
   {
    "code": "# HIDDEN TEST\nset(ins_missing_score_pivot.columns) == {'False', 'Total', 'True'}",
    "id": "5998874090cf4961a95741b9574b902c",
    "idx": 158,
    "time": "2021-02-04T06:12:13.065Z",
    "type": "execution"
   },
   {
    "id": "5998874090cf4961a95741b9574b902c",
    "time": "2021-02-04T06:12:13.183Z",
    "type": "completion"
   },
   {
    "code": "# HIDDEN TEST\nlen(ins_missing_score_pivot) == 15",
    "id": "3c06ebdc511943ad8291fad61c527601",
    "idx": 159,
    "time": "2021-02-04T06:12:13.257Z",
    "type": "execution"
   },
   {
    "id": "3c06ebdc511943ad8291fad61c527601",
    "time": "2021-02-04T06:12:13.374Z",
    "type": "completion"
   },
   {
    "code": "# HIDDEN TEST\nins_missing_score_pivot[\"False\"][\"Routine - Unscheduled\"] == 14031 ",
    "id": "f315ecb58f5140bc97042aeda758f6e1",
    "idx": 160,
    "time": "2021-02-04T06:12:13.388Z",
    "type": "execution"
   },
   {
    "id": "f315ecb58f5140bc97042aeda758f6e1",
    "time": "2021-02-04T06:12:13.471Z",
    "type": "completion"
   },
   {
    "code": "# HIDDEN TEST\nins_missing_score_pivot.iloc[0,2] == 14077",
    "id": "feabcf84df6d4c938b6cff77d66dda5d",
    "idx": 161,
    "time": "2021-02-04T06:12:13.581Z",
    "type": "execution"
   },
   {
    "id": "feabcf84df6d4c938b6cff77d66dda5d",
    "time": "2021-02-04T06:12:13.686Z",
    "type": "completion"
   },
   {
    "code": "ins = ins[ins[\"score\"] > 0]",
    "id": "7948c0845ad54ffaba52a41d935456db",
    "idx": 165,
    "time": "2021-02-04T06:12:14.440Z",
    "type": "execution"
   },
   {
    "id": "7948c0845ad54ffaba52a41d935456db",
    "time": "2021-02-04T06:12:14.537Z",
    "type": "completion"
   },
   {
    "code": "ins_named = ...\n# BEGIN SOLUTION\nins_named = ins.merge(bus[[\"bid\", \"name\", \"address\"]], how=\"left\", left_on = \"bid\", right_on = \"bid\") \n# END SOLUTION\nins_named.head()",
    "id": "8b7f08383a5e49d28dac6a1d6f710ad7",
    "idx": 167,
    "time": "2021-02-04T06:12:14.812Z",
    "type": "execution"
   },
   {
    "id": "8b7f08383a5e49d28dac6a1d6f710ad7",
    "time": "2021-02-04T06:12:14.931Z",
    "type": "completion"
   },
   {
    "code": "# TEST\n\"name\" in ins_named and \"address\" in ins_named",
    "id": "13c3821500634ae8ab809fe03fd3b8ed",
    "idx": 168,
    "time": "2021-02-04T06:12:15.019Z",
    "type": "execution"
   },
   {
    "id": "13c3821500634ae8ab809fe03fd3b8ed",
    "time": "2021-02-04T06:12:15.138Z",
    "type": "completion"
   },
   {
    "code": "# TEST\nins_named[ins_named[\"Missing Score\"] == True].shape[0] == 0",
    "id": "fd61121ae1ae4ff1aa81179bc608d517",
    "idx": 169,
    "time": "2021-02-04T06:12:15.214Z",
    "type": "execution"
   },
   {
    "id": "fd61121ae1ae4ff1aa81179bc608d517",
    "time": "2021-02-04T06:12:15.332Z",
    "type": "completion"
   },
   {
    "code": "# TEST\nins_named.reset_index()['date'].equals(ins[ins['score'] > 0].reset_index()['date'])",
    "id": "87067d47b7d645b392fc879b7e54a8e6",
    "idx": 170,
    "time": "2021-02-04T06:12:15.346Z",
    "type": "execution"
   },
   {
    "id": "87067d47b7d645b392fc879b7e54a8e6",
    "time": "2021-02-04T06:12:15.473Z",
    "type": "completion"
   },
   {
    "code": "# HIDDEN TEST\nnp.isclose(sum(ins_named['name'].isnull()), 0, rtol=5)",
    "id": "0f8dc5db901746d3afa4c067d5462585",
    "idx": 171,
    "time": "2021-02-04T06:12:15.586Z",
    "type": "execution"
   },
   {
    "id": "0f8dc5db901746d3afa4c067d5462585",
    "time": "2021-02-04T06:12:15.719Z",
    "type": "completion"
   },
   {
    "code": "# HIDDEN TEST\nsol_merged = ins.merge(bus[[\"bid\", \"name\", \"address\"]], how=\"left\", left_on = \"bid\", right_on = \"bid\")\nins_named.equals(sol_merged[sol_merged[\"score\"] > 0])",
    "id": "6a4c90b18768438181e9b83f0f330314",
    "idx": 172,
    "time": "2021-02-04T06:12:15.790Z",
    "type": "execution"
   },
   {
    "id": "6a4c90b18768438181e9b83f0f330314",
    "time": "2021-02-04T06:12:15.904Z",
    "type": "completion"
   },
   {
    "code": "twenty_lowest_scoring = ... \n# BEGIN SOLUTION\ntwenty_lowest_scoring = (\n    ins_named.groupby('bid', as_index=False)\n        .aggregate({'name': 'first', 'score': 'median'})\n        .sort_values(['score', 'bid'] )\n        .rename(columns={'score': 'median score'})\n        .head(20)\n)\n# END SOLUTION\n\ntwenty_lowest_scoring",
    "id": "b1d6de5c3cc94015a2220112d1c2e888",
    "idx": 174,
    "time": "2021-02-04T06:12:16.110Z",
    "type": "execution"
   },
   {
    "code": "# TEST\ntwenty_lowest_scoring.shape == (20, 3)",
    "id": "532c362cd6be4fcfa8a0e02f1c02f18f",
    "idx": 175,
    "time": "2021-02-04T06:12:16.304Z",
    "type": "execution"
   },
   {
    "id": "b1d6de5c3cc94015a2220112d1c2e888",
    "time": "2021-02-04T06:12:16.413Z",
    "type": "completion"
   },
   {
    "id": "532c362cd6be4fcfa8a0e02f1c02f18f",
    "time": "2021-02-04T06:12:16.435Z",
    "type": "completion"
   },
   {
    "code": "# TEST\nset(twenty_lowest_scoring.columns) == {'bid', 'median score', 'name'}",
    "id": "e3d667fbd6de4ce6bfc1dbd16004e66f",
    "idx": 176,
    "time": "2021-02-04T06:12:16.519Z",
    "type": "execution"
   },
   {
    "id": "e3d667fbd6de4ce6bfc1dbd16004e66f",
    "time": "2021-02-04T06:12:16.650Z",
    "type": "completion"
   },
   {
    "code": "# HIDDEN TEST\n# print(twenty_lowest_scoring.to_html().replace(\"\\n\",\"\"))\nset(twenty_lowest_scoring[\"median score\"].values) == {54 , 57 , 58 , 60.5, 63.5, 64, \n                                                      64 , 64 , 64 , 64 , 64, 64.5, \n                                                      64.5, 64.5, 65, 65, 66, 66, 66, 66.5\n                                                      }",
    "id": "a6c385989e054b1087d612b23a32a77d",
    "idx": 177,
    "time": "2021-02-04T06:12:16.840Z",
    "type": "execution"
   },
   {
    "id": "a6c385989e054b1087d612b23a32a77d",
    "time": "2021-02-04T06:12:16.971Z",
    "type": "completion"
   },
   {
    "code": "low_score_violations = ...\n\n# BEGIN SOLUTION\nlow_score_violations = (\n    ins_named[ins_named['score'] < 65]\n        .merge(ins2vio, on='iid')\n        .merge(vio, on='vid')\n        .loc[:,'description']\n        .value_counts()\n        .sort_values(ascending=False)\n)\n# END SOLUTION\n\nlow_score_violations.head(20)",
    "id": "6b4d11644ee3463882d909ed6a560a1a",
    "idx": 179,
    "time": "2021-02-04T06:12:17.687Z",
    "type": "execution"
   },
   {
    "id": "6b4d11644ee3463882d909ed6a560a1a",
    "time": "2021-02-04T06:12:17.952Z",
    "type": "completion"
   },
   {
    "code": "# TEST\ntype(low_score_violations) == pd.Series",
    "id": "3544a4fd93854026866247ab9bc6fcac",
    "idx": 180,
    "time": "2021-02-04T06:12:18.344Z",
    "type": "execution"
   },
   {
    "id": "3544a4fd93854026866247ab9bc6fcac",
    "time": "2021-02-04T06:12:18.459Z",
    "type": "completion"
   },
   {
    "code": "# TEST\nlen(low_score_violations) == 50",
    "id": "45ea6423c18947db8f18fbc80edc60cd",
    "idx": 181,
    "time": "2021-02-04T06:12:18.957Z",
    "type": "execution"
   },
   {
    "id": "45ea6423c18947db8f18fbc80edc60cd",
    "time": "2021-02-04T06:12:19.071Z",
    "type": "completion"
   },
   {
    "code": "# TEST\nlow_score_violations[0] == 43",
    "id": "2c99b1c7bf1c4248be9f7401ff62e41a",
    "idx": 182,
    "time": "2021-02-04T06:12:19.145Z",
    "type": "execution"
   },
   {
    "id": "2c99b1c7bf1c4248be9f7401ff62e41a",
    "time": "2021-02-04T06:12:19.261Z",
    "type": "completion"
   },
   {
    "code": "# HIDDEN TEST\nnp.all(low_score_violations.head().values == np.array([43, 42, 40, 39, 37]))",
    "id": "bea288cdb2b04324870792fbf77fb6d9",
    "idx": 183,
    "time": "2021-02-04T06:12:19.333Z",
    "type": "execution"
   },
   {
    "id": "bea288cdb2b04324870792fbf77fb6d9",
    "time": "2021-02-04T06:12:19.440Z",
    "type": "completion"
   },
   {
    "code": "worst_restaurant = ...\n# BEGIN SOLUTION NO PROMPT\nworst_restaurant = ins_named.sort_values('score', ascending=False).tail(1)['name'].iloc[0]\n# END SOLUTION\nworst_restaurant",
    "id": "afa047037c2247a8852ca63cbf2bfbf7",
    "idx": 185,
    "time": "2021-02-04T06:12:19.631Z",
    "type": "execution"
   },
   {
    "id": "afa047037c2247a8852ca63cbf2bfbf7",
    "time": "2021-02-04T06:12:19.743Z",
    "type": "completion"
   },
   {
    "code": "# TEST\n(type(worst_restaurant) == str) and (len(worst_restaurant) > 0) ",
    "id": "c64b9c9eb5b0493b97cdb71a82dcfef0",
    "idx": 186,
    "time": "2021-02-04T06:12:21.044Z",
    "type": "execution"
   },
   {
    "id": "c64b9c9eb5b0493b97cdb71a82dcfef0",
    "time": "2021-02-04T06:12:21.152Z",
    "type": "completion"
   },
   {
    "code": "# HIDDEN TEST\nworst_restaurant.strip().lower() == 'lollipot'",
    "id": "32f116232b714c6e8a238b8943747d58",
    "idx": 187,
    "time": "2021-02-04T06:12:21.482Z",
    "type": "execution"
   },
   {
    "id": "32f116232b714c6e8a238b8943747d58",
    "time": "2021-02-04T06:12:21.583Z",
    "type": "completion"
   },
   {
    "code": "# BEGIN SOLUTION\nscore_counts = ins.loc[ins[\"score\"] > 0, 'score'].value_counts()\nplt.bar(score_counts.keys(), score_counts, edgecolor='black')\nplt.xlabel(\"Score\")\nplt.ylabel(\"Count\")\nplt.title(\"Distribution of Inspection Scores\");\n# END SOLUTION",
    "id": "6d93ceeb4b224f71b249d334d789df2c",
    "idx": 190,
    "time": "2021-02-04T06:12:22.526Z",
    "type": "execution"
   },
   {
    "code": "score_counts",
    "id": "be5b6125d1c049ac87472a49e445aaf0",
    "idx": 191,
    "time": "2021-02-04T06:12:23.001Z",
    "type": "execution"
   },
   {
    "id": "6d93ceeb4b224f71b249d334d789df2c",
    "time": "2021-02-04T06:12:23.088Z",
    "type": "completion"
   },
   {
    "id": "be5b6125d1c049ac87472a49e445aaf0",
    "time": "2021-02-04T06:12:23.107Z",
    "type": "completion"
   },
   {
    "code": "# BEGIN SOLUTION NO PROMPT\ndef swing(s):\n    if len(s) < 3:\n        return 0\n    return max(s) - min(s)\n\nswing_series = ins_named['score'].groupby(ins_named['bid']).agg(swing).rename('swing')\nbus_swing = pd.concat([bus.set_index('bid'), swing_series], axis=1).sort_values(\"swing\", ascending=False)\n# END SOLUTION\nmax_swing = bus_swing.iloc[0]['name'] # SOLUTION\nmax_swing",
    "id": "80c3b2db9a614a608facab7cdc646ac8",
    "idx": 197,
    "time": "2021-02-04T06:12:25.971Z",
    "type": "execution"
   },
   {
    "id": "80c3b2db9a614a608facab7cdc646ac8",
    "time": "2021-02-04T06:12:26.205Z",
    "type": "completion"
   },
   {
    "code": "# TEST\nmax_swing in set(bus['name'])",
    "id": "534b5aad4fae4b6e90fbc2a59c1af8a9",
    "idx": 198,
    "time": "2021-02-04T06:12:26.243Z",
    "type": "execution"
   },
   {
    "id": "534b5aad4fae4b6e90fbc2a59c1af8a9",
    "time": "2021-02-04T06:12:26.377Z",
    "type": "completion"
   },
   {
    "code": "# HIDDEN TEST\nmax_swing == 'Lollipot'",
    "id": "50a542c9340c4dd08e89e36fee75ab10",
    "idx": 199,
    "time": "2021-02-04T06:12:26.449Z",
    "type": "execution"
   },
   {
    "id": "50a542c9340c4dd08e89e36fee75ab10",
    "time": "2021-02-04T06:12:26.666Z",
    "type": "completion"
   },
   {
    "code": "ins2018 = ins[ins['year'] == 2018]\n# Create the dataframe here\nscores_pairs_by_business = ...\n# BEGIN SOLUTION NO PROMPT\n# SOLUTION 1\nscores_pairs_by_business = (ins2018.sort_values('date')\n                            .loc[:, ['bid', 'score']]\n                            .groupby('bid')\n                            .filter(lambda group: len(group)==2)\n                            .groupby('bid')\n                            .agg(list)\n                            .rename(columns={'score':'score_pair'}))\n\n# SOLUTION 2\nscores_pairs_by_business = (ins2018.sort_values('date')\n                            .groupby('bid')\n                            .filter(lambda group: len(group)==2)\n                            .groupby('bid')\n                            .agg({'score': lambda group: group.tolist()})\n                            .rename(columns={'score':'score_pair'}))\nscores_pairs_by_business.head()\n# END SOLUTION\nscores_pairs_by_business",
    "id": "aee1ecb9075245df8f397223b5e2f078",
    "idx": 201,
    "time": "2021-02-04T06:12:26.758Z",
    "type": "execution"
   },
   {
    "code": "# TEST\nassert isinstance(scores_pairs_by_business, pd.DataFrame)\nscores_pairs_by_business.columns[0] == 'score_pair'",
    "id": "1c7480a9f88f44e0a6fd28aacb633e33",
    "idx": 202,
    "time": "2021-02-04T06:12:26.916Z",
    "type": "execution"
   },
   {
    "code": "# HIDDEN TEST\n\nstudent_arr = np.array(scores_pairs_by_business.values.tolist()).squeeze()\n\n# Now we will check the head score pares\n# score_pair\n# business_id\n# 24 [96, 98]\n# 45 [78, 84]\n# 66 [98, 100]\n# 67 [87, 94]\n# 76 [100, 98]\n\n([96, 98] in student_arr and\\\n    [78, 84] in student_arr and\\\n        [98, 100] in student_arr and\\\n            [87, 94] in student_arr and\\\n                [100, 98] in student_arr) == True",
    "id": "f949d65b3e454ea5a869e4fd761f6598",
    "idx": 203,
    "time": "2021-02-04T06:12:27.082Z",
    "type": "execution"
   },
   {
    "id": "aee1ecb9075245df8f397223b5e2f078",
    "time": "2021-02-04T06:12:27.326Z",
    "type": "completion"
   },
   {
    "id": "1c7480a9f88f44e0a6fd28aacb633e33",
    "time": "2021-02-04T06:12:27.328Z",
    "type": "completion"
   },
   {
    "code": "# BEGIN SOLUTION\nfirst_score, second_score = zip(*scores_pairs_by_business['score_pair'])\nplt.scatter(first_score,second_score,s = 20, facecolors='none',edgecolors='b')\nplt.plot([55,100],[55,100],'r-')\nplt.xlabel('First Score')\nplt.ylabel('Second Score')\nplt.axis([55,100,55,100])\nplt.title(\"First Inspection Score vs. Second Inspection Score\");\n# END SOLUTION",
    "id": "c2f4c132242349bbbe721e4db41fa59b",
    "idx": 205,
    "time": "2021-02-04T06:12:27.405Z",
    "type": "execution"
   },
   {
    "id": "f949d65b3e454ea5a869e4fd761f6598",
    "time": "2021-02-04T06:12:27.444Z",
    "type": "completion"
   },
   {
    "id": "c2f4c132242349bbbe721e4db41fa59b",
    "time": "2021-02-04T06:12:28.067Z",
    "type": "completion"
   },
   {
    "code": "# Do not modify this line\nsns.set()\n\n# BEGIN SOLUTION\nins_17_to_19 = ins[(ins['year'] >= 2017) & (ins['year'] <= 2019)]\nins_vid_joined = ins_17_to_19.merge(ins2vio, on='iid').merge(vio, on='vid')\nplt.figure(figsize=(12,8))\nins_vid_joined['risk_cat'] = 0\nins_vid_joined.loc[ins_vid_joined['risk_category'] == \"Moderate Risk\" , 'risk_cat'] = 1\nins_vid_joined.loc[ins_vid_joined['risk_category'] == \"High Risk\", 'risk_cat'] = 2\nsns.boxplot(x=\"year\", y=\"score\", hue='risk_category', data=ins_vid_joined.sort_values(\"risk_cat\"), \n            linewidth=0.8);\n# END SOLUTION",
    "id": "d86e73673c9e4f0a814d55ca7bc64ccd",
    "idx": 209,
    "time": "2021-02-04T06:12:28.335Z",
    "type": "execution"
   },
   {
    "id": "d86e73673c9e4f0a814d55ca7bc64ccd",
    "time": "2021-02-04T06:12:29.136Z",
    "type": "completion"
   },
   {
    "code": "import numpy as np\nimport pandas as pd\n\nimport matplotlib\nimport matplotlib.pyplot as plt\nimport seaborn as sns\nsns.set()\nplt.style.use('fivethirtyeight')\n\nimport zipfile\nfrom pathlib import Path\nimport os # Used to interact with the file system",
    "id": "662de82566844fdb865035ff3fb02754",
    "idx": 5,
    "time": "2021-02-05T00:48:43.298Z",
    "type": "execution"
   },
   {
    "code": "from pathlib import Path\ndata_dir = Path('.')\ndata_dir.mkdir(exist_ok = True)\nfile_path = data_dir / Path('data.zip')\ndest_path = file_path",
    "id": "8adf46200bac41da8ac5731d3bf985b5",
    "idx": 8,
    "time": "2021-02-05T00:48:43.768Z",
    "type": "execution"
   },
   {
    "code": "!ls",
    "id": "95edb9593b1c4616a3448fe9f5ba2de2",
    "idx": 10,
    "time": "2021-02-05T00:48:44.108Z",
    "type": "execution"
   },
   {
    "code": "my_zip = zipfile.ZipFile(dest_path, 'r')\nlist_names = my_zip.namelist()\nlist_names",
    "id": "2d20733ae0c44227971f272524dde5c7",
    "idx": 13,
    "time": "2021-02-05T00:48:44.654Z",
    "type": "execution"
   },
   {
    "id": "662de82566844fdb865035ff3fb02754",
    "time": "2021-02-05T00:48:44.804Z",
    "type": "completion"
   },
   {
    "id": "8adf46200bac41da8ac5731d3bf985b5",
    "time": "2021-02-05T00:48:44.813Z",
    "type": "completion"
   },
   {
    "code": "my_zip = zipfile.ZipFile(dest_path, 'r')\nfor info in my_zip.infolist():\n    print('{}\\t{}'.format(info.filename, info.file_size))",
    "id": "81cdb62e68044686b4bbc84496f2d6bd",
    "idx": 16,
    "time": "2021-02-05T00:48:45.194Z",
    "type": "execution"
   },
   {
    "id": "95edb9593b1c4616a3448fe9f5ba2de2",
    "time": "2021-02-05T00:48:45.563Z",
    "type": "completion"
   },
   {
    "id": "2d20733ae0c44227971f272524dde5c7",
    "time": "2021-02-05T00:48:45.568Z",
    "type": "completion"
   },
   {
    "id": "81cdb62e68044686b4bbc84496f2d6bd",
    "time": "2021-02-05T00:48:45.643Z",
    "type": "completion"
   },
   {
    "code": "data_dir = Path('.')\nmy_zip.extractall(data_dir)\n!ls {data_dir / Path(\"data\")}",
    "id": "e9665706891f4a35a2cefe91ae64c091",
    "idx": 18,
    "time": "2021-02-05T00:48:46.237Z",
    "type": "execution"
   },
   {
    "id": "e9665706891f4a35a2cefe91ae64c091",
    "time": "2021-02-05T00:48:47.158Z",
    "type": "completion"
   },
   {
    "code": "import ds100_utils\n\ndata_dir = \"./\"\nfor f in list_names:\n    if not os.path.isdir(f):\n        print(ds100_utils.head(data_dir + f, 5), \"\\n\")",
    "id": "f67b5ec3be41499a811bbb4914f36fdb",
    "idx": 21,
    "time": "2021-02-05T00:48:47.790Z",
    "type": "execution"
   },
   {
    "id": "f67b5ec3be41499a811bbb4914f36fdb",
    "time": "2021-02-05T00:48:47.942Z",
    "type": "completion"
   },
   {
    "code": "# path to directory containing data\ndsDir = Path('data')\n\nbus = pd.read_csv(dsDir/'bus.csv', encoding='ISO-8859-1')\nins2vio = pd.read_csv(dsDir/'ins2vio.csv')\nins = pd.read_csv(dsDir/'ins.csv')\nvio = pd.read_csv(dsDir/'vio.csv')\n\n#This code is essential for the autograder to function properly. Do not edit\nins_test = ins",
    "id": "d112fe6192614f5b9d4a0239e85e9200",
    "idx": 23,
    "time": "2021-02-05T00:48:48.500Z",
    "type": "execution"
   },
   {
    "id": "d112fe6192614f5b9d4a0239e85e9200",
    "time": "2021-02-05T00:48:48.649Z",
    "type": "completion"
   },
   {
    "code": "bus.head()",
    "id": "ab167fdc11394c168d6bd0a6a72f4741",
    "idx": 25,
    "time": "2021-02-05T00:48:48.882Z",
    "type": "execution"
   },
   {
    "id": "ab167fdc11394c168d6bd0a6a72f4741",
    "time": "2021-02-05T00:48:49.022Z",
    "type": "completion"
   },
   {
    "code": "bus.describe()",
    "id": "14d9868ff21d41868366b6d8bde4f1f3",
    "idx": 27,
    "time": "2021-02-05T00:48:49.256Z",
    "type": "execution"
   },
   {
    "id": "14d9868ff21d41868366b6d8bde4f1f3",
    "time": "2021-02-05T00:48:49.401Z",
    "type": "completion"
   },
   {
    "code": "assert all(bus.columns == ['business id column', 'name', 'address', 'city', 'state', 'postal_code',\n                           'latitude', 'longitude', 'phone_number'])\nassert 6250 <= len(bus) <= 6260\n\nassert all(ins.columns == ['iid', 'date', 'score', 'type'])\nassert 26660 <= len(ins) <= 26670\n\nassert all(vio.columns == ['description', 'risk_category', 'vid'])\nassert 60 <= len(vio) <= 65\n\nassert all(ins2vio.columns == ['iid', 'vid'])\nassert 40210 <= len(ins2vio) <= 40220",
    "id": "668880c95fcd4be78410c37c4333ce6b",
    "idx": 30,
    "time": "2021-02-05T00:48:49.768Z",
    "type": "execution"
   },
   {
    "id": "668880c95fcd4be78410c37c4333ce6b",
    "time": "2021-02-05T00:48:49.868Z",
    "type": "completion"
   },
   {
    "code": "bus_summary = pd.DataFrame(**{'columns': ['business id column', 'latitude', 'longitude'],\n 'data': {'business id column': {'50%': 75685.0, 'max': 102705.0, 'min': 19.0},\n  'latitude': {'50%': -9999.0, 'max': 37.824494, 'min': -9999.0},\n  'longitude': {'50%': -9999.0,\n   'max': 0.0,\n   'min': -9999.0}},\n 'index': ['min', '50%', 'max']})\n\nins_summary = pd.DataFrame(**{'columns': ['score'],\n 'data': {'score': {'50%': 76.0, 'max': 100.0, 'min': -1.0}},\n 'index': ['min', '50%', 'max']})\n\nvio_summary = pd.DataFrame(**{'columns': ['vid'],\n 'data': {'vid': {'50%': 103135.0, 'max': 103177.0, 'min': 103102.0}},\n 'index': ['min', '50%', 'max']})\n\nfrom IPython.display import display\n\nprint('What we expect from your Businesses dataframe:')\ndisplay(bus_summary)\nprint('What we expect from your Inspections dataframe:')\ndisplay(ins_summary)\nprint('What we expect from your Violations dataframe:')\ndisplay(vio_summary)",
    "id": "66a742dc164b46f5a87e8c93a30a0c71",
    "idx": 32,
    "time": "2021-02-05T00:48:50.100Z",
    "type": "execution"
   },
   {
    "code": "\"\"\"Run this cell to load this utility comparison function that we will use in various\ntests below (both tests you can see and those we run internally for grading).\n\nDo not modify the function in any way.\n\"\"\"\n\n\ndef df_allclose(actual, desired, columns=None, rtol=5e-2):\n    \"\"\"Compare selected columns of two dataframes on a few summary statistics.\n    \n    Compute the min, median and max of the two dataframes on the given columns, and compare\n    that they match numerically to the given relative tolerance.\n    \n    If they don't match, an AssertionError is raised (by `numpy.testing`).\n    \"\"\"    \n    # summary statistics to compare on\n    stats = ['min', '50%', 'max']\n    \n    # For the desired values, we can provide a full DF with the same structure as\n    # the actual data, or pre-computed summary statistics.\n    # We assume a pre-computed summary was provided if columns is None. In that case, \n    # `desired` *must* have the same structure as the actual's summary\n    if columns is None:\n        des = desired\n        columns = desired.columns\n    else:\n        des = desired[columns].describe().loc[stats]\n\n    # Extract summary stats from actual DF\n    act = actual[columns].describe().loc[stats]\n\n    return np.allclose(act, des, rtol)",
    "id": "153976d78eaa41f788ce345d2703c57a",
    "idx": 34,
    "time": "2021-02-05T00:48:50.447Z",
    "type": "execution"
   },
   {
    "id": "66a742dc164b46f5a87e8c93a30a0c71",
    "time": "2021-02-05T00:48:50.506Z",
    "type": "completion"
   },
   {
    "id": "153976d78eaa41f788ce345d2703c57a",
    "time": "2021-02-05T00:48:50.641Z",
    "type": "completion"
   },
   {
    "code": "bus.head()",
    "id": "a050222f95b048e591b988fa11914057",
    "idx": 41,
    "time": "2021-02-05T00:48:51.566Z",
    "type": "execution"
   },
   {
    "code": "bus = bus.rename(columns={\"business id column\": \"bid\"})",
    "id": "113397e5774a4058856e39342b3699c1",
    "idx": 43,
    "time": "2021-02-05T00:48:51.967Z",
    "type": "execution"
   },
   {
    "id": "a050222f95b048e591b988fa11914057",
    "time": "2021-02-05T00:48:52.026Z",
    "type": "completion"
   },
   {
    "id": "113397e5774a4058856e39342b3699c1",
    "time": "2021-02-05T00:48:52.193Z",
    "type": "completion"
   },
   {
    "code": "is_bid_unique = bus['bid'].value_counts().max() == 1 # SOLUTION",
    "id": "fe5d3225ac6f463784a444c7d77354d6",
    "idx": 45,
    "time": "2021-02-05T00:48:52.262Z",
    "type": "execution"
   },
   {
    "id": "fe5d3225ac6f463784a444c7d77354d6",
    "time": "2021-02-05T00:48:52.372Z",
    "type": "completion"
   },
   {
    "code": "# TEST\nis_bid_unique or ~is_bid_unique",
    "id": "5593bdae2f2e48418f71b571d0fa136e",
    "idx": 46,
    "time": "2021-02-05T00:48:52.431Z",
    "type": "execution"
   },
   {
    "code": "# HIDDEN TEST\nis_bid_unique",
    "id": "f142bd5bf84f4e15852c8b957f2bcd0c",
    "idx": 47,
    "time": "2021-02-05T00:48:52.607Z",
    "type": "execution"
   },
   {
    "id": "5593bdae2f2e48418f71b571d0fa136e",
    "time": "2021-02-05T00:48:52.897Z",
    "type": "completion"
   },
   {
    "id": "f142bd5bf84f4e15852c8b957f2bcd0c",
    "time": "2021-02-05T00:48:52.903Z",
    "type": "completion"
   },
   {
    "code": "top_names = np.array(bus['name'].value_counts()[:5].index) # SOLUTION\ntop_addresses = np.array(bus['address'].value_counts()[:5].index) # SOLUTION\ntop_names, top_addresses",
    "id": "bea0d900e6614df7866257d3b56903ab",
    "idx": 49,
    "time": "2021-02-05T00:48:52.943Z",
    "type": "execution"
   },
   {
    "code": "# TEST\nassert type(top_names) == np.ndarray\nassert type(top_addresses) == np.ndarray\nassert len(top_names) == 5\nlen(top_addresses) == 5",
    "id": "0a927988ef3445588f9b11b31bc14827",
    "idx": 50,
    "time": "2021-02-05T00:48:53.122Z",
    "type": "execution"
   },
   {
    "id": "bea0d900e6614df7866257d3b56903ab",
    "time": "2021-02-05T00:48:53.273Z",
    "type": "completion"
   },
   {
    "code": "# TEST \nassert top_names[0] == \"Peet's Coffee & Tea\"\ntop_addresses[0] == 'Off The Grid'",
    "id": "75d74ee05bed439499cc4b5d8d57daa7",
    "idx": 51,
    "time": "2021-02-05T00:48:53.302Z",
    "type": "execution"
   },
   {
    "code": "# HIDDEN TEST\nnp.all(top_names == np.array(bus['name'].value_counts()[:5].index))",
    "id": "7a340890bd7c4a708d91e9432a3c962d",
    "idx": 52,
    "time": "2021-02-05T00:48:53.474Z",
    "type": "execution"
   },
   {
    "id": "0a927988ef3445588f9b11b31bc14827",
    "time": "2021-02-05T00:48:53.559Z",
    "type": "completion"
   },
   {
    "id": "75d74ee05bed439499cc4b5d8d57daa7",
    "time": "2021-02-05T00:48:53.603Z",
    "type": "completion"
   },
   {
    "id": "7a340890bd7c4a708d91e9432a3c962d",
    "time": "2021-02-05T00:48:53.607Z",
    "type": "completion"
   },
   {
    "code": "# HIDDEN TEST\nnp.all(top_addresses == np.array(bus['address'].value_counts()[:5].index))",
    "id": "e5855548d5ae40eb8d9d4e858884bb88",
    "idx": 53,
    "time": "2021-02-05T00:48:53.628Z",
    "type": "execution"
   },
   {
    "id": "e5855548d5ae40eb8d9d4e858884bb88",
    "time": "2021-02-05T00:48:53.768Z",
    "type": "completion"
   },
   {
    "code": "# What does each record represent?  Valid answers are:\n#    \"One location of a restaurant.\"\n#    \"A chain of restaurants.\"\n#    \"A city block.\"\nq1e_part1 = \"One location of a restaurant.\" # SOLUTION\n\n# What is the minimal primary key? Valid answers are:\n#    \"bid\"\n#    \"bid, name\"\n#    \"bid, name, address\"\nq1e_part2 = \"bid\" # SOLUTION",
    "id": "5f52b945011f4ce08b2a75a4cbfcbdb0",
    "idx": 55,
    "time": "2021-02-05T00:48:53.975Z",
    "type": "execution"
   },
   {
    "id": "5f52b945011f4ce08b2a75a4cbfcbdb0",
    "time": "2021-02-05T00:48:54.081Z",
    "type": "completion"
   },
   {
    "code": "# TEST\nq1e_part1 in set([\"One location of a restaurant.\", \"A chain of restaurants.\", \"A city block.\"])",
    "id": "eb1fe078003d41e19330d6cbb76f1f35",
    "idx": 56,
    "time": "2021-02-05T00:48:54.146Z",
    "type": "execution"
   },
   {
    "id": "eb1fe078003d41e19330d6cbb76f1f35",
    "time": "2021-02-05T00:48:54.273Z",
    "type": "completion"
   },
   {
    "code": "# TEST\nq1e_part2 in set([\"bid\", \"bid, name\", \"bid, name, address\"])",
    "id": "eba2b772b5fd43d68237d911379baba8",
    "idx": 57,
    "time": "2021-02-05T00:48:54.363Z",
    "type": "execution"
   },
   {
    "code": "# HIDDEN TEST\nq1e_part1 == \"One location of a restaurant.\" ",
    "id": "59d03357497c48dcb5d33a273147ede8",
    "idx": 58,
    "time": "2021-02-05T00:48:54.506Z",
    "type": "execution"
   },
   {
    "code": "# HIDDEN TEST\nq1e_part2 == \"bid\"",
    "id": "3bdddd6150344c80991a57657b4bc7c1",
    "idx": 59,
    "time": "2021-02-05T00:48:54.642Z",
    "type": "execution"
   },
   {
    "id": "eba2b772b5fd43d68237d911379baba8",
    "time": "2021-02-05T00:48:54.683Z",
    "type": "completion"
   },
   {
    "id": "59d03357497c48dcb5d33a273147ede8",
    "time": "2021-02-05T00:48:54.686Z",
    "type": "completion"
   },
   {
    "id": "3bdddd6150344c80991a57657b4bc7c1",
    "time": "2021-02-05T00:48:54.769Z",
    "type": "completion"
   },
   {
    "code": "zip_counts = bus.groupby(\"postal_code\").size().sort_values(ascending=False) # SOLUTION\nprint(zip_counts.to_string())",
    "id": "195152446a6541d091b3e52983544030",
    "idx": 62,
    "time": "2021-02-05T00:48:55.180Z",
    "type": "execution"
   },
   {
    "id": "195152446a6541d091b3e52983544030",
    "time": "2021-02-05T00:48:55.303Z",
    "type": "completion"
   },
   {
    "code": "# TEST\ntype(zip_counts) == pd.Series",
    "id": "11cedabfceaa4477a0b9127e00b0a4bd",
    "idx": 63,
    "time": "2021-02-05T00:48:55.404Z",
    "type": "execution"
   },
   {
    "id": "11cedabfceaa4477a0b9127e00b0a4bd",
    "time": "2021-02-05T00:48:55.653Z",
    "type": "completion"
   },
   {
    "code": "# TEST\nzip_counts.shape[0] == 63",
    "id": "3772344a5b2a404f80b0ec464ce27199",
    "idx": 64,
    "time": "2021-02-05T00:48:55.804Z",
    "type": "execution"
   },
   {
    "code": "# TEST\nzip_counts[\"94103\"] == 562",
    "id": "f2a8dd11d7c04743bca8412c37a8e675",
    "idx": 65,
    "time": "2021-02-05T00:48:55.994Z",
    "type": "execution"
   },
   {
    "code": "# HIDDEN TEST\nnp.isclose(zip_counts.var(), bus['postal_code'].value_counts().var())",
    "id": "187d1123a3944075ae20ad363e6a6bfc",
    "idx": 66,
    "time": "2021-02-05T00:48:56.212Z",
    "type": "execution"
   },
   {
    "code": "# HIDDEN TEST\nnp.isclose(zip_counts.mean(), bus['postal_code'].value_counts().mean())",
    "id": "46214e4830284e44a0fc1d1f4bf0b789",
    "idx": 67,
    "time": "2021-02-05T00:48:56.302Z",
    "type": "execution"
   },
   {
    "id": "3772344a5b2a404f80b0ec464ce27199",
    "time": "2021-02-05T00:48:56.454Z",
    "type": "completion"
   },
   {
    "id": "f2a8dd11d7c04743bca8412c37a8e675",
    "time": "2021-02-05T00:48:56.631Z",
    "type": "completion"
   },
   {
    "code": "# The ZIP code column is which of the following type of data:\n#   \"Quantitative Continuous\" \n#   \"Quantitative Discrete\"\n#   \"Qualitative Ordinal\"\n#   \"Qualitative Nominal\"\nq2b_part1 = \"Qualitative Nominal\" # SOLUTION\n\n# What Python data type is used to represent a ZIP code? \n#    \"str\"\n#    \"int\"\n#    \"bool\"\n#    \"float\"\nq2b_part2 = \"str\" # SOLUTION",
    "id": "94c88ace30ca4a7291e07b6b94d022fa",
    "idx": 69,
    "time": "2021-02-05T00:48:56.680Z",
    "type": "execution"
   },
   {
    "id": "187d1123a3944075ae20ad363e6a6bfc",
    "time": "2021-02-05T00:48:56.795Z",
    "type": "completion"
   },
   {
    "id": "46214e4830284e44a0fc1d1f4bf0b789",
    "time": "2021-02-05T00:48:56.799Z",
    "type": "completion"
   },
   {
    "id": "94c88ace30ca4a7291e07b6b94d022fa",
    "time": "2021-02-05T00:48:56.891Z",
    "type": "completion"
   },
   {
    "code": "# TEST\nq2b_part1 in set([\"Quantitative Continuous\", \"Quantitative Discrete\", \n                  \"Qualitative Ordinal\", \"Qualitative Nominal\"])",
    "id": "884716aa5dc0430b8f8e417501cb4e99",
    "idx": 70,
    "time": "2021-02-05T00:48:56.960Z",
    "type": "execution"
   },
   {
    "id": "884716aa5dc0430b8f8e417501cb4e99",
    "time": "2021-02-05T00:48:57.110Z",
    "type": "completion"
   },
   {
    "code": "# TEST\nq2b_part2 in set([\"str\", \"int\", \"bool\", \"float\"])",
    "id": "ef6586b79c69499984c5d1d8f1ae6f6c",
    "idx": 71,
    "time": "2021-02-05T00:48:57.550Z",
    "type": "execution"
   },
   {
    "code": "# HIDDEN TEST\nq2b_part1 == \"Qualitative Nominal\"",
    "id": "376959ddef304dfb8547f4c5effc0b62",
    "idx": 72,
    "time": "2021-02-05T00:48:57.732Z",
    "type": "execution"
   },
   {
    "code": "# HIDDEN TEST\nq2b_part2 == \"str\"",
    "id": "ce34a69a645e43b1878ad6d555e9e5fe",
    "idx": 73,
    "time": "2021-02-05T00:48:57.985Z",
    "type": "execution"
   },
   {
    "id": "ef6586b79c69499984c5d1d8f1ae6f6c",
    "time": "2021-02-05T00:48:58.317Z",
    "type": "completion"
   },
   {
    "id": "376959ddef304dfb8547f4c5effc0b62",
    "time": "2021-02-05T00:48:58.324Z",
    "type": "completion"
   },
   {
    "id": "ce34a69a645e43b1878ad6d555e9e5fe",
    "time": "2021-02-05T00:48:58.335Z",
    "type": "completion"
   },
   {
    "code": "valid_zips = pd.read_json(\"data/sf_zipcodes.json\", dtype=\"str\")['zip_codes'] # SOLUTION\nvalid_zips.head()",
    "id": "4a8508f20905475d8aa16b2825719fe3",
    "idx": 76,
    "time": "2021-02-05T00:48:58.559Z",
    "type": "execution"
   },
   {
    "id": "4a8508f20905475d8aa16b2825719fe3",
    "time": "2021-02-05T00:48:58.707Z",
    "type": "completion"
   },
   {
    "code": "# TEST\nassert valid_zips.dtype == object \ntype(valid_zips) == pd.Series",
    "id": "5d67f7daf54e4208adfb8340c23fdfef",
    "idx": 77,
    "time": "2021-02-05T00:48:59.039Z",
    "type": "execution"
   },
   {
    "id": "5d67f7daf54e4208adfb8340c23fdfef",
    "time": "2021-02-05T00:48:59.168Z",
    "type": "completion"
   },
   {
    "code": "# HIDDEN TEST\nnp.all(valid_zips.sort_values() == pd.read_json(\"data/sf_zipcodes.json\", dtype=\"str\")['zip_codes'].sort_values()) ",
    "id": "80b6ff3aff1545caa0c525335887d044",
    "idx": 78,
    "time": "2021-02-05T00:48:59.508Z",
    "type": "execution"
   },
   {
    "id": "80b6ff3aff1545caa0c525335887d044",
    "time": "2021-02-05T00:48:59.631Z",
    "type": "completion"
   },
   {
    "code": "invalid_zip_bus = bus[~bus['postal_code'].isin(valid_zips)] # SOLUTION\ninvalid_zip_bus.head(20)",
    "id": "9439f0b649cd4988a2c9d4c972f1b288",
    "idx": 80,
    "time": "2021-02-05T00:49:00.551Z",
    "type": "execution"
   },
   {
    "id": "9439f0b649cd4988a2c9d4c972f1b288",
    "time": "2021-02-05T00:49:00.692Z",
    "type": "completion"
   },
   {
    "code": "# TEST\ntype(invalid_zip_bus) == pd.DataFrame",
    "id": "05d26cc8f22a497681c8b71584b2b456",
    "idx": 81,
    "time": "2021-02-05T00:49:01.162Z",
    "type": "execution"
   },
   {
    "id": "05d26cc8f22a497681c8b71584b2b456",
    "time": "2021-02-05T00:49:01.294Z",
    "type": "completion"
   },
   {
    "code": "# TEST\nlen(invalid_zip_bus) == 230",
    "id": "c55cc1277953454e9ba303c8a10b68fc",
    "idx": 82,
    "time": "2021-02-05T00:49:01.688Z",
    "type": "execution"
   },
   {
    "id": "c55cc1277953454e9ba303c8a10b68fc",
    "time": "2021-02-05T00:49:01.824Z",
    "type": "completion"
   },
   {
    "code": "# HIDDEN TEST\nset(invalid_zip_bus['postal_code']) == set(bus[~bus['postal_code'].isin(valid_zips)]['postal_code'])",
    "id": "5002e6a85956450dba0753da374254c6",
    "idx": 83,
    "time": "2021-02-05T00:49:01.907Z",
    "type": "execution"
   },
   {
    "id": "5002e6a85956450dba0753da374254c6",
    "time": "2021-02-05T00:49:02.021Z",
    "type": "completion"
   },
   {
    "code": "missing_zip_address_count = bus[bus['postal_code'] == \"-9999\"]['address'].value_counts() # SOLUTION\nmissing_zip_address_count.head()",
    "id": "b570c36bdbf349b7841787960708637c",
    "idx": 85,
    "time": "2021-02-05T00:49:02.251Z",
    "type": "execution"
   },
   {
    "id": "b570c36bdbf349b7841787960708637c",
    "time": "2021-02-05T00:49:02.370Z",
    "type": "completion"
   },
   {
    "code": "# TEST\ntype(missing_zip_address_count) == pd.Series",
    "id": "a5b8713c02494399bf4e2c4b87a68f1c",
    "idx": 86,
    "time": "2021-02-05T00:49:02.457Z",
    "type": "execution"
   },
   {
    "id": "a5b8713c02494399bf4e2c4b87a68f1c",
    "time": "2021-02-05T00:49:02.584Z",
    "type": "completion"
   },
   {
    "code": "# TEST\nassert len(missing_zip_address_count) == 135\nmissing_zip_address_count['3914 Judah St'] == 1",
    "id": "d449bca10a69432683276248d647598f",
    "idx": 87,
    "time": "2021-02-05T00:49:02.671Z",
    "type": "execution"
   },
   {
    "code": "# HIDDEN TEST\nmissing_zip_address_count['Off The Grid'] == 39",
    "id": "3b56282c2b0b47158ed353a9e5bb3a09",
    "idx": 88,
    "time": "2021-02-05T00:49:02.804Z",
    "type": "execution"
   },
   {
    "id": "d449bca10a69432683276248d647598f",
    "time": "2021-02-05T00:49:02.925Z",
    "type": "completion"
   },
   {
    "id": "3b56282c2b0b47158ed353a9e5bb3a09",
    "time": "2021-02-05T00:49:02.928Z",
    "type": "completion"
   },
   {
    "code": "# True or False: \n#  If we were to drop businesses with MISSING postal code values \n#   a particular class of business be affected.\nq2e_true_or_false = True # SOLUTION",
    "id": "ee74e80adf0a43a5a5e6d4ed28536cde",
    "idx": 90,
    "time": "2021-02-05T00:49:03.133Z",
    "type": "execution"
   },
   {
    "id": "ee74e80adf0a43a5a5e6d4ed28536cde",
    "time": "2021-02-05T00:49:03.228Z",
    "type": "completion"
   },
   {
    "code": "# TEST\ntype(q2e_true_or_false) == bool",
    "id": "50b4257540c144038507342fc1f2627e",
    "idx": 91,
    "time": "2021-02-05T00:49:03.300Z",
    "type": "execution"
   },
   {
    "id": "50b4257540c144038507342fc1f2627e",
    "time": "2021-02-05T00:49:03.427Z",
    "type": "completion"
   },
   {
    "code": "# HIDDEN TEST\nq2e_true_or_false == True",
    "id": "6aefa2a686fe4904adab6ce75ceb31fb",
    "idx": 92,
    "time": "2021-02-05T00:49:03.509Z",
    "type": "execution"
   },
   {
    "id": "6aefa2a686fe4904adab6ce75ceb31fb",
    "time": "2021-02-05T00:49:03.707Z",
    "type": "completion"
   },
   {
    "code": "bus['postal5'] = None\n# BEGIN SOLUTION\nbus['postal5'] = bus['postal_code'].str[:5]\nbus.loc[~bus['postal5'].isin(valid_zips), 'postal5'] = None \n# END SOLUTION\n\n# Checking the corrected postal5 column\nbus.loc[invalid_zip_bus.index, ['bid', 'name', 'postal_code', 'postal5']]",
    "id": "12cd2a02c75743938ae5bdc7e6e1c8fb",
    "idx": 94,
    "time": "2021-02-05T00:49:03.971Z",
    "type": "execution"
   },
   {
    "id": "12cd2a02c75743938ae5bdc7e6e1c8fb",
    "time": "2021-02-05T00:49:04.112Z",
    "type": "completion"
   },
   {
    "code": "# TEST\nassert 'postal5' in bus.columns\n(bus['postal5'].str.len() != 5).sum() == 221",
    "id": "b810bc7a4a2c44bbbb1ee14f443b8d74",
    "idx": 95,
    "time": "2021-02-05T00:49:04.147Z",
    "type": "execution"
   },
   {
    "id": "b810bc7a4a2c44bbbb1ee14f443b8d74",
    "time": "2021-02-05T00:49:04.284Z",
    "type": "completion"
   },
   {
    "code": "# TEST\nassert bus['postal5'].isin(valid_zips).sum() == 6032\nbus['postal5'].isna().sum() == 221",
    "id": "404f9cdb67ed4972878dfdd4d64e951b",
    "idx": 96,
    "time": "2021-02-05T00:49:04.379Z",
    "type": "execution"
   },
   {
    "code": "# HIDDEN TEST\n(bus['postal5'] == \"-9999\").sum() == 0",
    "id": "2345169ebe2c4ee18594d77480967b41",
    "idx": 97,
    "time": "2021-02-05T00:49:04.518Z",
    "type": "execution"
   },
   {
    "id": "404f9cdb67ed4972878dfdd4d64e951b",
    "time": "2021-02-05T00:49:04.653Z",
    "type": "completion"
   },
   {
    "id": "2345169ebe2c4ee18594d77480967b41",
    "time": "2021-02-05T00:49:04.659Z",
    "type": "completion"
   },
   {
    "code": "# HIDDEN TEST\nbus['postal5'].isna().sum() == 221",
    "id": "4791ce44fd5542c484fca8fe37cced92",
    "idx": 98,
    "time": "2021-02-05T00:49:04.793Z",
    "type": "execution"
   },
   {
    "id": "4791ce44fd5542c484fca8fe37cced92",
    "time": "2021-02-05T00:49:04.922Z",
    "type": "completion"
   },
   {
    "code": "ins.head(5)",
    "id": "f494b7b27f3144398e0ba845bc7a6866",
    "idx": 101,
    "time": "2021-02-05T00:49:05.675Z",
    "type": "execution"
   },
   {
    "id": "f494b7b27f3144398e0ba845bc7a6866",
    "time": "2021-02-05T00:49:05.797Z",
    "type": "completion"
   },
   {
    "code": "is_ins_iid_a_primary_key = ins['iid'].value_counts().max() == 1 # SOLUTION",
    "id": "b926bd6e45e141c68259ee0ab7a3f890",
    "idx": 103,
    "time": "2021-02-05T00:49:18.490Z",
    "type": "execution"
   },
   {
    "id": "b926bd6e45e141c68259ee0ab7a3f890",
    "time": "2021-02-05T00:49:18.586Z",
    "type": "completion"
   },
   {
    "code": "# TEST\ntype(is_ins_iid_a_primary_key) == bool or type(is_ins_iid_a_primary_key) == np.bool_",
    "id": "ceba9616fe0b4e0093642181dcf5a00d",
    "idx": 104,
    "time": "2021-02-05T00:49:18.676Z",
    "type": "execution"
   },
   {
    "id": "ceba9616fe0b4e0093642181dcf5a00d",
    "time": "2021-02-05T00:49:18.797Z",
    "type": "completion"
   },
   {
    "code": "# HIDDEN TEST\nis_ins_iid_a_primary_key == True",
    "id": "1ffd2c6619c94bacabebf10b52483772",
    "idx": 105,
    "time": "2021-02-05T00:49:18.891Z",
    "type": "execution"
   },
   {
    "id": "1ffd2c6619c94bacabebf10b52483772",
    "time": "2021-02-05T00:49:19.081Z",
    "type": "completion"
   },
   {
    "code": "ins['bid'] = ins['iid'].str.split(\"_\", expand=True)[0].astype(int) # SOLUTION",
    "id": "08f4eaa3449b40bc812555eaa2aa5e63",
    "idx": 108,
    "time": "2021-02-05T00:49:19.378Z",
    "type": "execution"
   },
   {
    "id": "08f4eaa3449b40bc812555eaa2aa5e63",
    "time": "2021-02-05T00:49:19.497Z",
    "type": "completion"
   },
   {
    "code": "# TEST\n'bid' in ins.columns",
    "id": "9af148f4c1424dfa922461266ddb687a",
    "idx": 109,
    "time": "2021-02-05T00:49:19.559Z",
    "type": "execution"
   },
   {
    "id": "9af148f4c1424dfa922461266ddb687a",
    "time": "2021-02-05T00:49:19.711Z",
    "type": "completion"
   },
   {
    "code": "# TEST\nins['bid'].dtype == int",
    "id": "3dc9d09011b240c8842f8d5582b2cfe8",
    "idx": 110,
    "time": "2021-02-05T00:49:19.854Z",
    "type": "execution"
   },
   {
    "id": "3dc9d09011b240c8842f8d5582b2cfe8",
    "time": "2021-02-05T00:49:19.993Z",
    "type": "completion"
   },
   {
    "code": "# TEST\nlen(ins[ins['score'] > 0]['bid'].unique()) == 5724",
    "id": "a3af56a5b4df4de3900da702c40dbff3",
    "idx": 111,
    "time": "2021-02-05T00:49:20.011Z",
    "type": "execution"
   },
   {
    "id": "a3af56a5b4df4de3900da702c40dbff3",
    "time": "2021-02-05T00:49:20.121Z",
    "type": "completion"
   },
   {
    "code": "# HIDDEN TEST\nins['bid'].equals(ins['iid'].str.split(\"_\", expand=True)[0].astype(\"int\"))",
    "id": "f244334c993e44a5ab3a20436098072f",
    "idx": 112,
    "time": "2021-02-05T00:49:20.376Z",
    "type": "execution"
   },
   {
    "id": "f244334c993e44a5ab3a20436098072f",
    "time": "2021-02-05T00:49:20.506Z",
    "type": "completion"
   },
   {
    "code": "invalid_bid_count = (~ins['bid'].isin(bus['bid'])).sum() # SOLUTION",
    "id": "53d760b75b55444a80592da154ad660f",
    "idx": 114,
    "time": "2021-02-05T00:49:20.868Z",
    "type": "execution"
   },
   {
    "id": "53d760b75b55444a80592da154ad660f",
    "time": "2021-02-05T00:49:20.984Z",
    "type": "completion"
   },
   {
    "code": "# TEST\ninvalid_bid_count >= 0 ",
    "id": "f726b913ccc54606854b1311cbbf42c3",
    "idx": 115,
    "time": "2021-02-05T00:49:21.049Z",
    "type": "execution"
   },
   {
    "id": "f726b913ccc54606854b1311cbbf42c3",
    "time": "2021-02-05T00:49:21.206Z",
    "type": "completion"
   },
   {
    "code": "# HIDDEN TEST\ninvalid_bid_count == 0",
    "id": "a0136b625d2e4a129ec62015600cb38b",
    "idx": 116,
    "time": "2021-02-05T00:49:21.288Z",
    "type": "execution"
   },
   {
    "id": "a0136b625d2e4a129ec62015600cb38b",
    "time": "2021-02-05T00:49:21.409Z",
    "type": "completion"
   },
   {
    "code": "# True or False: The column ins['bid'] is a foreign key \n#   referencing the bus['bid'] primary key.\n\nq3b_is_foreign_key = True # SOLUTION",
    "id": "a9497f0a6fdd4d9f85a833afcd39ce38",
    "idx": 118,
    "time": "2021-02-05T00:49:21.646Z",
    "type": "execution"
   },
   {
    "id": "a9497f0a6fdd4d9f85a833afcd39ce38",
    "time": "2021-02-05T00:49:21.736Z",
    "type": "completion"
   },
   {
    "code": "# TEST\ntype(q3b_is_foreign_key) == bool",
    "id": "1a4b634b09c742208f5e8398f87fa835",
    "idx": 119,
    "time": "2021-02-05T00:49:22.146Z",
    "type": "execution"
   },
   {
    "id": "1a4b634b09c742208f5e8398f87fa835",
    "time": "2021-02-05T00:49:22.278Z",
    "type": "completion"
   },
   {
    "code": "# HIDDEN TEST\nq3b_is_foreign_key == True",
    "id": "8b483056c29c47448c49a17e6f759c37",
    "idx": 120,
    "time": "2021-02-05T00:49:22.463Z",
    "type": "execution"
   },
   {
    "id": "8b483056c29c47448c49a17e6f759c37",
    "time": "2021-02-05T00:49:22.585Z",
    "type": "completion"
   },
   {
    "code": "# TEST\nassert type(invalid_zip_bus) == pd.DataFrame\nlen(invalid_zip_bus) == 230",
    "id": "05d26cc8f22a497681c8b71584b2b456",
    "idx": 81,
    "time": "2021-02-05T00:49:47.937Z",
    "type": "execution"
   },
   {
    "id": "05d26cc8f22a497681c8b71584b2b456",
    "time": "2021-02-05T00:49:48.100Z",
    "type": "completion"
   },
   {
    "code": "# HIDDEN TEST\nset(invalid_zip_bus['postal_code']) == set(bus[~bus['postal_code'].isin(valid_zips)]['postal_code'])",
    "id": "5002e6a85956450dba0753da374254c6",
    "idx": 82,
    "time": "2021-02-05T00:49:48.512Z",
    "type": "execution"
   },
   {
    "id": "5002e6a85956450dba0753da374254c6",
    "time": "2021-02-05T00:49:48.646Z",
    "type": "completion"
   },
   {
    "code": "missing_zip_address_count = bus[bus['postal_code'] == \"-9999\"]['address'].value_counts() # SOLUTION\nmissing_zip_address_count.head()",
    "id": "b570c36bdbf349b7841787960708637c",
    "idx": 84,
    "time": "2021-02-05T00:49:49.508Z",
    "type": "execution"
   },
   {
    "id": "b570c36bdbf349b7841787960708637c",
    "time": "2021-02-05T00:49:49.638Z",
    "type": "completion"
   },
   {
    "code": "# TEST\ntype(missing_zip_address_count) == pd.Series",
    "id": "a5b8713c02494399bf4e2c4b87a68f1c",
    "idx": 85,
    "time": "2021-02-05T00:49:49.736Z",
    "type": "execution"
   },
   {
    "code": "# TEST\nassert len(missing_zip_address_count) == 135\nmissing_zip_address_count['3914 Judah St'] == 1",
    "id": "d449bca10a69432683276248d647598f",
    "idx": 86,
    "time": "2021-02-05T00:49:49.815Z",
    "type": "execution"
   },
   {
    "id": "a5b8713c02494399bf4e2c4b87a68f1c",
    "time": "2021-02-05T00:49:49.946Z",
    "type": "completion"
   },
   {
    "code": "# HIDDEN TEST\nmissing_zip_address_count['Off The Grid'] == 39",
    "id": "3b56282c2b0b47158ed353a9e5bb3a09",
    "idx": 87,
    "time": "2021-02-05T00:49:49.963Z",
    "type": "execution"
   },
   {
    "id": "d449bca10a69432683276248d647598f",
    "time": "2021-02-05T00:49:50.009Z",
    "type": "completion"
   },
   {
    "id": "3b56282c2b0b47158ed353a9e5bb3a09",
    "time": "2021-02-05T00:49:50.183Z",
    "type": "completion"
   },
   {
    "code": "# True or False: \n#  If we were to drop businesses with MISSING postal code values \n#   a particular class of business be affected.\nq2e_true_or_false = True # SOLUTION",
    "id": "ee74e80adf0a43a5a5e6d4ed28536cde",
    "idx": 89,
    "time": "2021-02-05T00:49:50.271Z",
    "type": "execution"
   },
   {
    "id": "ee74e80adf0a43a5a5e6d4ed28536cde",
    "time": "2021-02-05T00:49:50.379Z",
    "type": "completion"
   },
   {
    "code": "# TEST\ntype(q2e_true_or_false) == bool",
    "id": "50b4257540c144038507342fc1f2627e",
    "idx": 90,
    "time": "2021-02-05T00:49:50.764Z",
    "type": "execution"
   },
   {
    "code": "# HIDDEN TEST\nq2e_true_or_false == True",
    "id": "6aefa2a686fe4904adab6ce75ceb31fb",
    "idx": 91,
    "time": "2021-02-05T00:49:50.841Z",
    "type": "execution"
   },
   {
    "code": "bus['postal5'] = None\n# BEGIN SOLUTION\nbus['postal5'] = bus['postal_code'].str[:5]\nbus.loc[~bus['postal5'].isin(valid_zips), 'postal5'] = None \n# END SOLUTION\n\n# Checking the corrected postal5 column\nbus.loc[invalid_zip_bus.index, ['bid', 'name', 'postal_code', 'postal5']]",
    "id": "12cd2a02c75743938ae5bdc7e6e1c8fb",
    "idx": 93,
    "time": "2021-02-05T00:49:51.055Z",
    "type": "execution"
   },
   {
    "code": "# TEST\nassert 'postal5' in bus.columns\n(bus['postal5'].str.len() != 5).sum() == 221",
    "id": "b810bc7a4a2c44bbbb1ee14f443b8d74",
    "idx": 94,
    "time": "2021-02-05T00:49:51.141Z",
    "type": "execution"
   },
   {
    "code": "# TEST\nassert bus['postal5'].isin(valid_zips).sum() == 6032\nbus['postal5'].isna().sum() == 221",
    "id": "404f9cdb67ed4972878dfdd4d64e951b",
    "idx": 95,
    "time": "2021-02-05T00:49:51.220Z",
    "type": "execution"
   },
   {
    "code": "# HIDDEN TEST\n(bus['postal5'] == \"-9999\").sum() == 0",
    "id": "2345169ebe2c4ee18594d77480967b41",
    "idx": 96,
    "time": "2021-02-05T00:49:51.295Z",
    "type": "execution"
   },
   {
    "code": "# HIDDEN TEST\nbus['postal5'].isna().sum() == 221",
    "id": "4791ce44fd5542c484fca8fe37cced92",
    "idx": 97,
    "time": "2021-02-05T00:49:51.372Z",
    "type": "execution"
   },
   {
    "code": "ins.head(5)",
    "id": "f494b7b27f3144398e0ba845bc7a6866",
    "idx": 100,
    "time": "2021-02-05T00:49:51.633Z",
    "type": "execution"
   },
   {
    "id": "50b4257540c144038507342fc1f2627e",
    "time": "2021-02-05T00:49:51.779Z",
    "type": "completion"
   },
   {
    "id": "6aefa2a686fe4904adab6ce75ceb31fb",
    "time": "2021-02-05T00:49:51.921Z",
    "type": "completion"
   },
   {
    "code": "is_ins_iid_a_primary_key = ins['iid'].value_counts().max() == 1 # SOLUTION",
    "id": "b926bd6e45e141c68259ee0ab7a3f890",
    "idx": 102,
    "time": "2021-02-05T00:49:51.947Z",
    "type": "execution"
   },
   {
    "code": "# TEST\ntype(is_ins_iid_a_primary_key) == bool or type(is_ins_iid_a_primary_key) == np.bool_",
    "id": "ceba9616fe0b4e0093642181dcf5a00d",
    "idx": 103,
    "time": "2021-02-05T00:49:52.101Z",
    "type": "execution"
   },
   {
    "id": "12cd2a02c75743938ae5bdc7e6e1c8fb",
    "time": "2021-02-05T00:49:52.175Z",
    "type": "completion"
   },
   {
    "id": "b810bc7a4a2c44bbbb1ee14f443b8d74",
    "time": "2021-02-05T00:49:52.177Z",
    "type": "completion"
   },
   {
    "id": "404f9cdb67ed4972878dfdd4d64e951b",
    "time": "2021-02-05T00:49:52.180Z",
    "type": "completion"
   },
   {
    "id": "2345169ebe2c4ee18594d77480967b41",
    "time": "2021-02-05T00:49:52.183Z",
    "type": "completion"
   },
   {
    "code": "# HIDDEN TEST\nis_ins_iid_a_primary_key == True",
    "id": "1ffd2c6619c94bacabebf10b52483772",
    "idx": 104,
    "time": "2021-02-05T00:49:52.270Z",
    "type": "execution"
   },
   {
    "id": "4791ce44fd5542c484fca8fe37cced92",
    "time": "2021-02-05T00:49:52.321Z",
    "type": "completion"
   },
   {
    "id": "f494b7b27f3144398e0ba845bc7a6866",
    "time": "2021-02-05T00:49:52.326Z",
    "type": "completion"
   },
   {
    "id": "b926bd6e45e141c68259ee0ab7a3f890",
    "time": "2021-02-05T00:49:52.347Z",
    "type": "completion"
   },
   {
    "id": "ceba9616fe0b4e0093642181dcf5a00d",
    "time": "2021-02-05T00:49:52.350Z",
    "type": "completion"
   },
   {
    "id": "1ffd2c6619c94bacabebf10b52483772",
    "time": "2021-02-05T00:49:52.483Z",
    "type": "completion"
   },
   {
    "code": "ins['bid'] = ins['iid'].str.split(\"_\", expand=True)[0].astype(int) # SOLUTION",
    "id": "08f4eaa3449b40bc812555eaa2aa5e63",
    "idx": 107,
    "time": "2021-02-05T00:49:52.705Z",
    "type": "execution"
   },
   {
    "code": "# TEST\n'bid' in ins.columns",
    "id": "9af148f4c1424dfa922461266ddb687a",
    "idx": 108,
    "time": "2021-02-05T00:49:52.856Z",
    "type": "execution"
   },
   {
    "id": "08f4eaa3449b40bc812555eaa2aa5e63",
    "time": "2021-02-05T00:49:52.992Z",
    "type": "completion"
   },
   {
    "code": "# TEST\nins['bid'].dtype == int",
    "id": "3dc9d09011b240c8842f8d5582b2cfe8",
    "idx": 109,
    "time": "2021-02-05T00:49:53.021Z",
    "type": "execution"
   },
   {
    "code": "# TEST\nlen(ins[ins['score'] > 0]['bid'].unique()) == 5724",
    "id": "a3af56a5b4df4de3900da702c40dbff3",
    "idx": 110,
    "time": "2021-02-05T00:49:53.168Z",
    "type": "execution"
   },
   {
    "id": "9af148f4c1424dfa922461266ddb687a",
    "time": "2021-02-05T00:49:53.247Z",
    "type": "completion"
   },
   {
    "code": "# HIDDEN TEST\nins['bid'].equals(ins['iid'].str.split(\"_\", expand=True)[0].astype(\"int\"))",
    "id": "f244334c993e44a5ab3a20436098072f",
    "idx": 111,
    "time": "2021-02-05T00:49:53.333Z",
    "type": "execution"
   },
   {
    "id": "3dc9d09011b240c8842f8d5582b2cfe8",
    "time": "2021-02-05T00:49:53.397Z",
    "type": "completion"
   },
   {
    "id": "a3af56a5b4df4de3900da702c40dbff3",
    "time": "2021-02-05T00:49:53.401Z",
    "type": "completion"
   },
   {
    "id": "f244334c993e44a5ab3a20436098072f",
    "time": "2021-02-05T00:49:53.606Z",
    "type": "completion"
   },
   {
    "code": "invalid_bid_count = (~ins['bid'].isin(bus['bid'])).sum() # SOLUTION",
    "id": "53d760b75b55444a80592da154ad660f",
    "idx": 113,
    "time": "2021-02-05T00:49:53.682Z",
    "type": "execution"
   },
   {
    "id": "53d760b75b55444a80592da154ad660f",
    "time": "2021-02-05T00:49:53.770Z",
    "type": "completion"
   },
   {
    "code": "# TEST\ninvalid_bid_count >= 0 ",
    "id": "f726b913ccc54606854b1311cbbf42c3",
    "idx": 114,
    "time": "2021-02-05T00:49:53.797Z",
    "type": "execution"
   },
   {
    "id": "f726b913ccc54606854b1311cbbf42c3",
    "time": "2021-02-05T00:49:53.919Z",
    "type": "completion"
   },
   {
    "code": "# HIDDEN TEST\ninvalid_bid_count == 0",
    "id": "a0136b625d2e4a129ec62015600cb38b",
    "idx": 115,
    "time": "2021-02-05T00:49:53.991Z",
    "type": "execution"
   },
   {
    "id": "a0136b625d2e4a129ec62015600cb38b",
    "time": "2021-02-05T00:49:54.111Z",
    "type": "completion"
   },
   {
    "code": "# True or False: The column ins['bid'] is a foreign key \n#   referencing the bus['bid'] primary key.\n\nq3b_is_foreign_key = True # SOLUTION",
    "id": "a9497f0a6fdd4d9f85a833afcd39ce38",
    "idx": 117,
    "time": "2021-02-05T00:49:54.340Z",
    "type": "execution"
   },
   {
    "id": "a9497f0a6fdd4d9f85a833afcd39ce38",
    "time": "2021-02-05T00:49:54.429Z",
    "type": "completion"
   },
   {
    "code": "# TEST\ntype(q3b_is_foreign_key) == bool",
    "id": "1a4b634b09c742208f5e8398f87fa835",
    "idx": 118,
    "time": "2021-02-05T00:49:54.624Z",
    "type": "execution"
   },
   {
    "id": "1a4b634b09c742208f5e8398f87fa835",
    "time": "2021-02-05T00:49:54.756Z",
    "type": "completion"
   },
   {
    "code": "# HIDDEN TEST\nq3b_is_foreign_key == True",
    "id": "8b483056c29c47448c49a17e6f759c37",
    "idx": 119,
    "time": "2021-02-05T00:49:54.771Z",
    "type": "execution"
   },
   {
    "id": "8b483056c29c47448c49a17e6f759c37",
    "time": "2021-02-05T00:49:54.860Z",
    "type": "completion"
   },
   {
    "code": "ins_date_type = type(ins['date'][0]) # SOLUTION\nins_date_type",
    "id": "78632a3179d24de1b9ecf90fe45b5bfc",
    "idx": 122,
    "time": "2021-02-05T00:49:55.504Z",
    "type": "execution"
   },
   {
    "id": "78632a3179d24de1b9ecf90fe45b5bfc",
    "time": "2021-02-05T00:49:55.620Z",
    "type": "completion"
   },
   {
    "code": "# TEST\ntype(ins_date_type) == type",
    "id": "38951f2e25784b5ca99efcac919d42ad",
    "idx": 123,
    "time": "2021-02-05T00:49:55.697Z",
    "type": "execution"
   },
   {
    "code": "# HIDDEN TEST\nins_date_type == str",
    "id": "37015b2ae847461f8a597a16bd553f84",
    "idx": 124,
    "time": "2021-02-05T00:49:55.831Z",
    "type": "execution"
   },
   {
    "id": "38951f2e25784b5ca99efcac919d42ad",
    "time": "2021-02-05T00:49:55.946Z",
    "type": "completion"
   },
   {
    "id": "37015b2ae847461f8a597a16bd553f84",
    "time": "2021-02-05T00:49:55.950Z",
    "type": "completion"
   },
   {
    "code": "ins['timestamp'] = pd.to_datetime(ins['date']) # SOLUTION",
    "id": "269e8836483a41c78dee9f4f0308b7a9",
    "idx": 126,
    "time": "2021-02-05T00:49:56.139Z",
    "type": "execution"
   },
   {
    "code": "# TEST\ntype(ins['timestamp'][1]) == pd.Timestamp",
    "id": "efeee7a638424e6583e310e59109dc89",
    "idx": 127,
    "time": "2021-02-05T00:49:56.290Z",
    "type": "execution"
   },
   {
    "id": "269e8836483a41c78dee9f4f0308b7a9",
    "time": "2021-02-05T00:49:56.404Z",
    "type": "completion"
   },
   {
    "id": "efeee7a638424e6583e310e59109dc89",
    "time": "2021-02-05T00:49:56.406Z",
    "type": "completion"
   },
   {
    "code": "earliest_date = ins['timestamp'].min() # SOLUTION\nlatest_date = ins['timestamp'].max() # SOLUTION\n\nprint(\"Earliest Date:\", earliest_date)\nprint(\"Latest Date:\", latest_date)",
    "id": "050c0dda7de0426a8f61990bd7b93fb4",
    "idx": 129,
    "time": "2021-02-05T00:49:56.638Z",
    "type": "execution"
   },
   {
    "id": "050c0dda7de0426a8f61990bd7b93fb4",
    "time": "2021-02-05T00:49:56.766Z",
    "type": "completion"
   },
   {
    "code": "# TEST\ntype(earliest_date) == pd.Timestamp",
    "id": "ed21baf7353748d9b60664957aad7fe1",
    "idx": 130,
    "time": "2021-02-05T00:49:56.789Z",
    "type": "execution"
   },
   {
    "id": "ed21baf7353748d9b60664957aad7fe1",
    "time": "2021-02-05T00:49:56.915Z",
    "type": "completion"
   },
   {
    "code": "# TEST\ntype(latest_date) == pd.Timestamp",
    "id": "946be05588b74371b44dda9c98610c60",
    "idx": 131,
    "time": "2021-02-05T00:49:56.998Z",
    "type": "execution"
   },
   {
    "code": "# HIDDEN TEST\nearliest_date == pd.Timestamp('2016-10-04 00:00:00')",
    "id": "06293122194f46ecb56ed64f41336d11",
    "idx": 132,
    "time": "2021-02-05T00:49:57.132Z",
    "type": "execution"
   },
   {
    "code": "# HIDDEN TEST\nlatest_date == pd.Timestamp('2019-11-28 00:00:00')",
    "id": "8c55c8e849474c768eb974a7657cabc1",
    "idx": 133,
    "time": "2021-02-05T00:49:57.261Z",
    "type": "execution"
   },
   {
    "id": "946be05588b74371b44dda9c98610c60",
    "time": "2021-02-05T00:49:57.303Z",
    "type": "completion"
   },
   {
    "id": "06293122194f46ecb56ed64f41336d11",
    "time": "2021-02-05T00:49:57.306Z",
    "type": "completion"
   },
   {
    "id": "8c55c8e849474c768eb974a7657cabc1",
    "time": "2021-02-05T00:49:57.379Z",
    "type": "completion"
   },
   {
    "code": "ins['year'] = ins['timestamp'].dt.year # SOLUTION",
    "id": "dbea970c070c4ccb99b3f50b1974fb28",
    "idx": 135,
    "time": "2021-02-05T00:49:57.593Z",
    "type": "execution"
   },
   {
    "id": "dbea970c070c4ccb99b3f50b1974fb28",
    "time": "2021-02-05T00:49:57.680Z",
    "type": "completion"
   },
   {
    "code": "# TEST\n'year' in ins.columns",
    "id": "31373213d5d4435289ec9a6006b98ce7",
    "idx": 136,
    "time": "2021-02-05T00:49:57.740Z",
    "type": "execution"
   },
   {
    "id": "31373213d5d4435289ec9a6006b98ce7",
    "time": "2021-02-05T00:49:57.859Z",
    "type": "completion"
   },
   {
    "code": "# HIDDEN TEST\nset(ins[ins['score'] > 0]['year'].value_counts()) == {959, 4043, 4355, 4674}",
    "id": "5c485064fd2341adb5b6710018598c1b",
    "idx": 137,
    "time": "2021-02-05T00:49:57.940Z",
    "type": "execution"
   },
   {
    "code": "ins.head()",
    "id": "808571893cf640dc81e46c2cb7b3bd87",
    "idx": 138,
    "time": "2021-02-05T00:49:58.073Z",
    "type": "execution"
   },
   {
    "id": "5c485064fd2341adb5b6710018598c1b",
    "time": "2021-02-05T00:49:58.185Z",
    "type": "completion"
   },
   {
    "id": "808571893cf640dc81e46c2cb7b3bd87",
    "time": "2021-02-05T00:49:58.197Z",
    "type": "completion"
   },
   {
    "code": "ins_pivot = ins.pivot_table(columns = \"year\", index = \"type\", aggfunc = len, fill_value = 0) # SOLUTION\nins_pivot = ins_pivot[\"bid\"] # SOLUTION\nins_pivot['Total'] = ins_pivot.sum(axis=1) # SOLUTION\nins_pivot_sorted = ins_pivot.sort_values('Total', ascending=False) # SOLUTION\nins_pivot_sorted",
    "id": "84aa941be1f9430a9be51a3317e17867",
    "idx": 141,
    "time": "2021-02-05T00:49:58.547Z",
    "type": "execution"
   },
   {
    "id": "84aa941be1f9430a9be51a3317e17867",
    "time": "2021-02-05T00:49:58.682Z",
    "type": "completion"
   },
   {
    "code": "# TEST\nset(ins_pivot_sorted.columns) == {2016, 2017, 2018, 2019, 'Total'}",
    "id": "79c26125c62042f193c8c346aa641412",
    "idx": 142,
    "time": "2021-02-05T00:49:58.774Z",
    "type": "execution"
   },
   {
    "code": "# TEST\nlen(ins_pivot_sorted) == 15",
    "id": "6265385c93b4445da3137f56c062e198",
    "idx": 143,
    "time": "2021-02-05T00:49:58.909Z",
    "type": "execution"
   },
   {
    "id": "79c26125c62042f193c8c346aa641412",
    "time": "2021-02-05T00:49:58.971Z",
    "type": "completion"
   },
   {
    "id": "6265385c93b4445da3137f56c062e198",
    "time": "2021-02-05T00:49:59.008Z",
    "type": "completion"
   },
   {
    "code": "# HIDDEN TEST\nins_pivot_sorted.loc[\"Routine - Unscheduled\", 2016] == 966",
    "id": "999860ca31324d7899f9d122d63c3c75",
    "idx": 144,
    "time": "2021-02-05T00:49:59.094Z",
    "type": "execution"
   },
   {
    "id": "999860ca31324d7899f9d122d63c3c75",
    "time": "2021-02-05T00:49:59.212Z",
    "type": "completion"
   },
   {
    "code": "# HIDDEN TEST\nins_pivot_sorted.iloc[0,4] == 14077",
    "id": "5bef27d00207477c99086af46d208c1e",
    "idx": 145,
    "time": "2021-02-05T00:49:59.299Z",
    "type": "execution"
   },
   {
    "id": "5bef27d00207477c99086af46d208c1e",
    "time": "2021-02-05T00:49:59.432Z",
    "type": "completion"
   },
   {
    "code": "# HIDDEN TEST\nins_pivot_sorted.loc[\"New Ownership - Followup\", 2016] == 0",
    "id": "d94d4ff69248457e84a43de18ff3e0eb",
    "idx": 146,
    "time": "2021-02-05T00:49:59.514Z",
    "type": "execution"
   },
   {
    "id": "d94d4ff69248457e84a43de18ff3e0eb",
    "time": "2021-02-05T00:49:59.724Z",
    "type": "completion"
   },
   {
    "code": "year_of_new_construction = 2017 # SOLUTION",
    "id": "7aa93dc09a8940fd82c115027138c731",
    "idx": 148,
    "time": "2021-02-05T00:49:59.799Z",
    "type": "execution"
   },
   {
    "id": "7aa93dc09a8940fd82c115027138c731",
    "time": "2021-02-05T00:49:59.891Z",
    "type": "completion"
   },
   {
    "code": "# TEST\ntype(year_of_new_construction) == int",
    "id": "d7787f747632438dab55f3b19896206f",
    "idx": 149,
    "time": "2021-02-05T00:49:59.967Z",
    "type": "execution"
   },
   {
    "id": "d7787f747632438dab55f3b19896206f",
    "time": "2021-02-05T00:50:00.105Z",
    "type": "completion"
   },
   {
    "code": "# HIDDEN TEST\nyear_of_new_construction == 2017",
    "id": "220019a4817a46a8a61c47e01b5df987",
    "idx": 150,
    "time": "2021-02-05T00:50:00.181Z",
    "type": "execution"
   },
   {
    "id": "220019a4817a46a8a61c47e01b5df987",
    "time": "2021-02-05T00:50:00.299Z",
    "type": "completion"
   },
   {
    "code": "ins['score'].value_counts().head()",
    "id": "81b07346a1314e5c975990fab21da74e",
    "idx": 152,
    "time": "2021-02-05T00:50:00.517Z",
    "type": "execution"
   },
   {
    "id": "81b07346a1314e5c975990fab21da74e",
    "time": "2021-02-05T00:50:00.723Z",
    "type": "completion"
   },
   {
    "code": "ins_missing_score_pivot = ...\n\n# BEGIN SOLUTION\nins['Missing Score'] = (ins['score'] == -1).astype(\"str\")\n\nins_missing_score_pivot = ins.pivot_table(\n    index = \"type\", \n    columns = \"Missing Score\",\n    aggfunc = 'size',\n    fill_value = 0\n)\nins_missing_score_pivot['Total'] = ins_missing_score_pivot.sum(axis=1)\nins_missing_score_pivot.sort_values('Total', inplace=True, ascending=False)\nins_missing_score_pivot\n# END SOLUTION",
    "id": "e4f0ac480eb64c8a8aefb519ddd8e80c",
    "idx": 155,
    "time": "2021-02-05T00:50:00.989Z",
    "type": "execution"
   },
   {
    "id": "e4f0ac480eb64c8a8aefb519ddd8e80c",
    "time": "2021-02-05T00:50:01.164Z",
    "type": "completion"
   },
   {
    "code": "# TEST\nif type(ins_missing_score_pivot) == pd.DataFrame:\n    if False in ins_missing_score_pivot.columns: \n        ins_missing_score_pivot.rename(columns={False:\"False\"}, errors=\"raise\",inplace=True)\n    if True in ins_missing_score_pivot.columns:\n        ins_missing_score_pivot.rename(columns={True:\"True\"}, errors=\"raise\",inplace=True)\ntype(ins_missing_score_pivot) == pd.DataFrame",
    "id": "77081dabd6ed44a08358f4b463bdd5fd",
    "idx": 156,
    "time": "2021-02-05T00:50:01.198Z",
    "type": "execution"
   },
   {
    "id": "77081dabd6ed44a08358f4b463bdd5fd",
    "time": "2021-02-05T00:50:01.327Z",
    "type": "completion"
   },
   {
    "code": "# HIDDEN TEST\nset(ins_missing_score_pivot.columns) == {'False', 'Total', 'True'}",
    "id": "b92853795a0a42699906bae6db5cde50",
    "idx": 157,
    "time": "2021-02-05T00:50:01.351Z",
    "type": "execution"
   },
   {
    "id": "b92853795a0a42699906bae6db5cde50",
    "time": "2021-02-05T00:50:01.467Z",
    "type": "completion"
   },
   {
    "code": "# HIDDEN TEST\nlen(ins_missing_score_pivot) == 15",
    "id": "6d44a5cdce894b7988fe57f4e07161bc",
    "idx": 158,
    "time": "2021-02-05T00:50:01.615Z",
    "type": "execution"
   },
   {
    "id": "6d44a5cdce894b7988fe57f4e07161bc",
    "time": "2021-02-05T00:50:01.740Z",
    "type": "completion"
   },
   {
    "code": "# HIDDEN TEST\nins_missing_score_pivot[\"False\"][\"Routine - Unscheduled\"] == 14031 ",
    "id": "53ecc3c2e9004c16965c0165bae9132b",
    "idx": 159,
    "time": "2021-02-05T00:50:01.917Z",
    "type": "execution"
   },
   {
    "id": "53ecc3c2e9004c16965c0165bae9132b",
    "time": "2021-02-05T00:50:02.059Z",
    "type": "completion"
   },
   {
    "code": "# HIDDEN TEST\nins_missing_score_pivot.iloc[0,2] == 14077",
    "id": "647bc3995c1540818d7cd11fa7399e8d",
    "idx": 160,
    "time": "2021-02-05T00:50:02.147Z",
    "type": "execution"
   },
   {
    "id": "647bc3995c1540818d7cd11fa7399e8d",
    "time": "2021-02-05T00:50:02.281Z",
    "type": "completion"
   },
   {
    "code": "ins = ins[ins[\"score\"] > 0]",
    "id": "f43a9a25b6e2443b8e72d73b8e68256c",
    "idx": 164,
    "time": "2021-02-05T00:50:03.633Z",
    "type": "execution"
   },
   {
    "id": "f43a9a25b6e2443b8e72d73b8e68256c",
    "time": "2021-02-05T00:50:03.722Z",
    "type": "completion"
   },
   {
    "code": "ins_named = ...\n# BEGIN SOLUTION\nins_named = ins.merge(bus[[\"bid\", \"name\", \"address\"]], how=\"left\", left_on = \"bid\", right_on = \"bid\") \n# END SOLUTION\nins_named.head()",
    "id": "5360d63bfa564ac1aef188fa28333a3f",
    "idx": 166,
    "time": "2021-02-05T00:50:04.124Z",
    "type": "execution"
   },
   {
    "id": "5360d63bfa564ac1aef188fa28333a3f",
    "time": "2021-02-05T00:50:04.259Z",
    "type": "completion"
   },
   {
    "code": "# TEST\n\"name\" in ins_named and \"address\" in ins_named",
    "id": "2a61a907da8e49598b6e3596a27bfaa7",
    "idx": 167,
    "time": "2021-02-05T00:50:04.360Z",
    "type": "execution"
   },
   {
    "id": "2a61a907da8e49598b6e3596a27bfaa7",
    "time": "2021-02-05T00:50:04.484Z",
    "type": "completion"
   },
   {
    "code": "# TEST\nins_named[ins_named[\"Missing Score\"] == True].shape[0] == 0",
    "id": "55df3382571f4c54a953d1c989d088db",
    "idx": 168,
    "time": "2021-02-05T00:50:04.581Z",
    "type": "execution"
   },
   {
    "id": "55df3382571f4c54a953d1c989d088db",
    "time": "2021-02-05T00:50:04.766Z",
    "type": "completion"
   },
   {
    "code": "# TEST\nins_named.reset_index()['date'].equals(ins[ins['score'] > 0].reset_index()['date'])",
    "id": "5507b335d69d485c95389716acffe315",
    "idx": 169,
    "time": "2021-02-05T00:50:04.887Z",
    "type": "execution"
   },
   {
    "id": "5507b335d69d485c95389716acffe315",
    "time": "2021-02-05T00:50:05.054Z",
    "type": "completion"
   },
   {
    "code": "# HIDDEN TEST\nnp.isclose(sum(ins_named['name'].isnull()), 0, rtol=5)",
    "id": "31a1b7ac3e1a4cc28f2bfaeec7921a1d",
    "idx": 170,
    "time": "2021-02-05T00:50:05.152Z",
    "type": "execution"
   },
   {
    "id": "31a1b7ac3e1a4cc28f2bfaeec7921a1d",
    "time": "2021-02-05T00:50:05.327Z",
    "type": "completion"
   },
   {
    "code": "# HIDDEN TEST\nsol_merged = ins.merge(bus[[\"bid\", \"name\", \"address\"]], how=\"left\", left_on = \"bid\", right_on = \"bid\")\nins_named.equals(sol_merged[sol_merged[\"score\"] > 0])",
    "id": "f172d0463bc84e948c7fbd3d3f5daa64",
    "idx": 171,
    "time": "2021-02-05T00:50:05.414Z",
    "type": "execution"
   },
   {
    "id": "f172d0463bc84e948c7fbd3d3f5daa64",
    "time": "2021-02-05T00:50:05.714Z",
    "type": "completion"
   },
   {
    "code": "twenty_lowest_scoring = ... \n# BEGIN SOLUTION\ntwenty_lowest_scoring = (\n    ins_named.groupby('bid', as_index=False)\n        .aggregate({'name': 'first', 'score': 'median'})\n        .sort_values(['score', 'bid'] )\n        .rename(columns={'score': 'median score'})\n        .head(20)\n)\n# END SOLUTION\n\ntwenty_lowest_scoring",
    "id": "5b6df9665da142e5bdccdfa6cfe97cda",
    "idx": 173,
    "time": "2021-02-05T00:50:05.821Z",
    "type": "execution"
   },
   {
    "code": "# TEST\ntwenty_lowest_scoring.shape == (20, 3)",
    "id": "1201bc4043c24634a6fabdd85e133dea",
    "idx": 174,
    "time": "2021-02-05T00:50:05.995Z",
    "type": "execution"
   },
   {
    "id": "5b6df9665da142e5bdccdfa6cfe97cda",
    "time": "2021-02-05T00:50:06.143Z",
    "type": "completion"
   },
   {
    "id": "1201bc4043c24634a6fabdd85e133dea",
    "time": "2021-02-05T00:50:06.160Z",
    "type": "completion"
   },
   {
    "code": "# TEST\nset(twenty_lowest_scoring.columns) == {'bid', 'median score', 'name'}",
    "id": "d86191170e6940548b57e2e7ec6e9aa5",
    "idx": 175,
    "time": "2021-02-05T00:50:06.274Z",
    "type": "execution"
   },
   {
    "id": "d86191170e6940548b57e2e7ec6e9aa5",
    "time": "2021-02-05T00:50:06.453Z",
    "type": "completion"
   },
   {
    "code": "# HIDDEN TEST\n# print(twenty_lowest_scoring.to_html().replace(\"\\n\",\"\"))\nset(twenty_lowest_scoring[\"median score\"].values) == {54 , 57 , 58 , 60.5, 63.5, 64, \n                                                      64 , 64 , 64 , 64 , 64, 64.5, \n                                                      64.5, 64.5, 65, 65, 66, 66, 66, 66.5\n                                                      }",
    "id": "c3aa79f7b5044049879a1eba6cac72e1",
    "idx": 176,
    "time": "2021-02-05T00:50:06.542Z",
    "type": "execution"
   },
   {
    "id": "c3aa79f7b5044049879a1eba6cac72e1",
    "time": "2021-02-05T00:50:06.714Z",
    "type": "completion"
   },
   {
    "code": "low_score_violations = ...\n\n# BEGIN SOLUTION\nlow_score_violations = (\n    ins_named[ins_named['score'] < 65]\n        .merge(ins2vio, on='iid')\n        .merge(vio, on='vid')\n        .loc[:,'description']\n        .value_counts()\n        .sort_values(ascending=False)\n)\n# END SOLUTION\n\nlow_score_violations.head(20)",
    "id": "cfd546c93b384dc19d38f64e10c670c3",
    "idx": 178,
    "time": "2021-02-05T00:50:07.185Z",
    "type": "execution"
   },
   {
    "id": "cfd546c93b384dc19d38f64e10c670c3",
    "time": "2021-02-05T00:50:07.317Z",
    "type": "completion"
   },
   {
    "code": "# TEST\ntype(low_score_violations) == pd.Series",
    "id": "1132df9568b14cf2872d98f925ce5bb4",
    "idx": 179,
    "time": "2021-02-05T00:50:07.405Z",
    "type": "execution"
   },
   {
    "id": "1132df9568b14cf2872d98f925ce5bb4",
    "time": "2021-02-05T00:50:07.533Z",
    "type": "completion"
   },
   {
    "code": "# TEST\nlen(low_score_violations) == 50",
    "id": "4d54d87a19ac427b82510f50f1d9f02a",
    "idx": 180,
    "time": "2021-02-05T00:50:07.550Z",
    "type": "execution"
   },
   {
    "id": "4d54d87a19ac427b82510f50f1d9f02a",
    "time": "2021-02-05T00:50:07.647Z",
    "type": "completion"
   },
   {
    "code": "# TEST\nlow_score_violations[0] == 43",
    "id": "3dbf8696b4684d0e94db72ac3541e99b",
    "idx": 181,
    "time": "2021-02-05T00:50:07.733Z",
    "type": "execution"
   },
   {
    "code": "# HIDDEN TEST\nnp.all(low_score_violations.head().values == np.array([43, 42, 40, 39, 37]))",
    "id": "d752379c49a84af48e6e3713a0e73529",
    "idx": 182,
    "time": "2021-02-05T00:50:07.877Z",
    "type": "execution"
   },
   {
    "id": "3dbf8696b4684d0e94db72ac3541e99b",
    "time": "2021-02-05T00:50:07.993Z",
    "type": "completion"
   },
   {
    "id": "d752379c49a84af48e6e3713a0e73529",
    "time": "2021-02-05T00:50:08.174Z",
    "type": "completion"
   },
   {
    "code": "worst_restaurant = ...\n# BEGIN SOLUTION NO PROMPT\nworst_restaurant = ins_named.sort_values('score', ascending=False).tail(1)['name'].iloc[0]\n# END SOLUTION\nworst_restaurant",
    "id": "5a0f965ef73044cd8cdf7e4e8a1a863b",
    "idx": 184,
    "time": "2021-02-05T00:50:08.261Z",
    "type": "execution"
   },
   {
    "code": "# TEST\n(type(worst_restaurant) == str) and (len(worst_restaurant) > 0) ",
    "id": "fc2faccd622740c9885ad400a81ea547",
    "idx": 185,
    "time": "2021-02-05T00:50:08.362Z",
    "type": "execution"
   },
   {
    "id": "5a0f965ef73044cd8cdf7e4e8a1a863b",
    "time": "2021-02-05T00:50:08.540Z",
    "type": "completion"
   },
   {
    "id": "fc2faccd622740c9885ad400a81ea547",
    "time": "2021-02-05T00:50:08.543Z",
    "type": "completion"
   },
   {
    "code": "# HIDDEN TEST\nworst_restaurant.strip().lower() == 'lollipot'",
    "id": "c2283e9c44b44602b143bfc54b349d0e",
    "idx": 186,
    "time": "2021-02-05T00:50:08.655Z",
    "type": "execution"
   },
   {
    "id": "c2283e9c44b44602b143bfc54b349d0e",
    "time": "2021-02-05T00:50:08.785Z",
    "type": "completion"
   },
   {
    "code": "# BEGIN SOLUTION\nscore_counts = ins.loc[ins[\"score\"] > 0, 'score'].value_counts()\nplt.bar(score_counts.keys(), score_counts, edgecolor='black')\nplt.xlabel(\"Score\")\nplt.ylabel(\"Count\")\nplt.title(\"Distribution of Inspection Scores\");\n# END SOLUTION",
    "id": "d702071b014c4248b0285850144c9cab",
    "idx": 189,
    "time": "2021-02-05T00:50:09.334Z",
    "type": "execution"
   },
   {
    "code": "score_counts",
    "id": "cc6a9bb8f3ca47999566f77b8f6ee228",
    "idx": 190,
    "time": "2021-02-05T00:50:09.526Z",
    "type": "execution"
   },
   {
    "id": "d702071b014c4248b0285850144c9cab",
    "time": "2021-02-05T00:50:10.033Z",
    "type": "completion"
   },
   {
    "id": "cc6a9bb8f3ca47999566f77b8f6ee228",
    "time": "2021-02-05T00:50:10.036Z",
    "type": "completion"
   },
   {
    "code": "# BEGIN SOLUTION NO PROMPT\ndef swing(s):\n    if len(s) < 3:\n        return 0\n    return max(s) - min(s)\n\nswing_series = ins_named['score'].groupby(ins_named['bid']).agg(swing).rename('swing')\nbus_swing = pd.concat([bus.set_index('bid'), swing_series], axis=1).sort_values(\"swing\", ascending=False)\n# END SOLUTION\nmax_swing = bus_swing.iloc[0]['name'] # SOLUTION\nmax_swing",
    "id": "5e5c982538e64f3e8bdb150fc8aa3aca",
    "idx": 196,
    "time": "2021-02-05T00:50:10.761Z",
    "type": "execution"
   },
   {
    "id": "5e5c982538e64f3e8bdb150fc8aa3aca",
    "time": "2021-02-05T00:50:10.961Z",
    "type": "completion"
   },
   {
    "code": "# TEST\nmax_swing in set(bus['name'])",
    "id": "d405631286b34b2684f9cc0e9f0cfa74",
    "idx": 197,
    "time": "2021-02-05T00:50:11.116Z",
    "type": "execution"
   },
   {
    "id": "d405631286b34b2684f9cc0e9f0cfa74",
    "time": "2021-02-05T00:50:11.254Z",
    "type": "completion"
   },
   {
    "code": "# HIDDEN TEST\nmax_swing == 'Lollipot'",
    "id": "f9bfc2a2d71c4e51872cb6d48785af8e",
    "idx": 198,
    "time": "2021-02-05T00:50:11.440Z",
    "type": "execution"
   },
   {
    "id": "f9bfc2a2d71c4e51872cb6d48785af8e",
    "time": "2021-02-05T00:50:11.568Z",
    "type": "completion"
   },
   {
    "code": "ins2018 = ins[ins['year'] == 2018]\n# Create the dataframe here\nscores_pairs_by_business = ...\n# BEGIN SOLUTION NO PROMPT\n# SOLUTION 1\nscores_pairs_by_business = (ins2018.sort_values('date')\n                            .loc[:, ['bid', 'score']]\n                            .groupby('bid')\n                            .filter(lambda group: len(group)==2)\n                            .groupby('bid')\n                            .agg(list)\n                            .rename(columns={'score':'score_pair'}))\n\n# SOLUTION 2\nscores_pairs_by_business = (ins2018.sort_values('date')\n                            .groupby('bid')\n                            .filter(lambda group: len(group)==2)\n                            .groupby('bid')\n                            .agg({'score': lambda group: group.tolist()})\n                            .rename(columns={'score':'score_pair'}))\nscores_pairs_by_business.head()\n# END SOLUTION\nscores_pairs_by_business",
    "id": "c774e10a25c84f1a859182f87815cd30",
    "idx": 200,
    "time": "2021-02-05T00:50:12.110Z",
    "type": "execution"
   },
   {
    "code": "# TEST\nassert isinstance(scores_pairs_by_business, pd.DataFrame)\nscores_pairs_by_business.columns[0] == 'score_pair'",
    "id": "0d8466e27d9d485988dab4b390dd085a",
    "idx": 201,
    "time": "2021-02-05T00:50:12.331Z",
    "type": "execution"
   },
   {
    "code": "# HIDDEN TEST\n\nstudent_arr = np.array(scores_pairs_by_business.values.tolist()).squeeze()\n\n# Now we will check the head score pares\n# score_pair\n# business_id\n# 24 [96, 98]\n# 45 [78, 84]\n# 66 [98, 100]\n# 67 [87, 94]\n# 76 [100, 98]\n\n([96, 98] in student_arr and\\\n    [78, 84] in student_arr and\\\n        [98, 100] in student_arr and\\\n            [87, 94] in student_arr and\\\n                [100, 98] in student_arr) == True",
    "id": "cc3b1b834c43403d9e01c77688790d38",
    "idx": 202,
    "time": "2021-02-05T00:50:12.524Z",
    "type": "execution"
   },
   {
    "code": "# BEGIN SOLUTION\nfirst_score, second_score = zip(*scores_pairs_by_business['score_pair'])\nplt.scatter(first_score,second_score,s = 20, facecolors='none',edgecolors='b')\nplt.plot([55,100],[55,100],'r-')\nplt.xlabel('First Score')\nplt.ylabel('Second Score')\nplt.axis([55,100,55,100])\nplt.title(\"First Inspection Score vs. Second Inspection Score\");\n# END SOLUTION",
    "id": "b984c9fe25c7412e8b4ac77bc23f7fb3",
    "idx": 204,
    "time": "2021-02-05T00:50:12.927Z",
    "type": "execution"
   },
   {
    "id": "c774e10a25c84f1a859182f87815cd30",
    "time": "2021-02-05T00:50:12.971Z",
    "type": "completion"
   },
   {
    "id": "0d8466e27d9d485988dab4b390dd085a",
    "time": "2021-02-05T00:50:13.052Z",
    "type": "completion"
   },
   {
    "id": "cc3b1b834c43403d9e01c77688790d38",
    "time": "2021-02-05T00:50:13.055Z",
    "type": "completion"
   },
   {
    "id": "b984c9fe25c7412e8b4ac77bc23f7fb3",
    "time": "2021-02-05T00:50:13.775Z",
    "type": "completion"
   },
   {
    "code": "# Do not modify this line\nsns.set()\n\n# BEGIN SOLUTION\nins_17_to_19 = ins[(ins['year'] >= 2017) & (ins['year'] <= 2019)]\nins_vid_joined = ins_17_to_19.merge(ins2vio, on='iid').merge(vio, on='vid')\nplt.figure(figsize=(12,8))\nins_vid_joined['risk_cat'] = 0\nins_vid_joined.loc[ins_vid_joined['risk_category'] == \"Moderate Risk\" , 'risk_cat'] = 1\nins_vid_joined.loc[ins_vid_joined['risk_category'] == \"High Risk\", 'risk_cat'] = 2\nsns.boxplot(x=\"year\", y=\"score\", hue='risk_category', data=ins_vid_joined.sort_values(\"risk_cat\"), \n            linewidth=0.8);\n# END SOLUTION",
    "id": "adad4c26bada41b89503ac286197e8fd",
    "idx": 208,
    "time": "2021-02-05T00:50:13.818Z",
    "type": "execution"
   },
   {
    "id": "adad4c26bada41b89503ac286197e8fd",
    "time": "2021-02-05T00:50:15.255Z",
    "type": "completion"
   },
   {
    "code": "# YOUR QUESTION HERE (in a comment)\n\n# YOUR DATA PROCESSING AND PLOTTING HERE\n\n# YOUR SUMMARY AND CONCLUSION HERE (in a comment)",
    "id": "d1db825490eb4f218d3e2ba1ce3e8b1b",
    "idx": 213,
    "time": "2021-02-05T00:50:18.374Z",
    "type": "execution"
   },
   {
    "id": "d1db825490eb4f218d3e2ba1ce3e8b1b",
    "time": "2021-02-05T00:50:18.454Z",
    "type": "completion"
   },
   {
    "code": "# THIS CELL AND ANY CELLS ADDED BELOW WILL NOT BE GRADED",
    "id": "16f968369b8f40f59ddff2105f510614",
    "idx": 214,
    "time": "2021-02-05T00:50:19.336Z",
    "type": "execution"
   },
   {
    "id": "16f968369b8f40f59ddff2105f510614",
    "time": "2021-02-05T00:50:19.406Z",
    "type": "completion"
   },
   {
    "code": "import numpy as np\nimport pandas as pd\n\nimport matplotlib\nimport matplotlib.pyplot as plt\nimport seaborn as sns\nsns.set()\nplt.style.use('fivethirtyeight')\n\nimport zipfile\nfrom pathlib import Path\nimport os # Used to interact with the file system",
    "id": "294acf4379034f36876109854e7473a8",
    "idx": 5,
    "time": "2021-02-05T21:53:33.846Z",
    "type": "execution"
   },
   {
    "id": "294acf4379034f36876109854e7473a8",
    "time": "2021-02-05T21:53:35.078Z",
    "type": "completion"
   },
   {
    "code": "from pathlib import Path\ndata_dir = Path('.')\ndata_dir.mkdir(exist_ok = True)\nfile_path = data_dir / Path('data.zip')\ndest_path = file_path",
    "id": "3663647471e64b308cb5415512d2e2f1",
    "idx": 8,
    "time": "2021-02-05T21:54:39.472Z",
    "type": "execution"
   },
   {
    "id": "3663647471e64b308cb5415512d2e2f1",
    "time": "2021-02-05T21:54:39.568Z",
    "type": "completion"
   },
   {
    "code": "!ls",
    "id": "4aa3f5715ab645a48992d7378d6df3c6",
    "idx": 10,
    "time": "2021-02-05T21:54:39.914Z",
    "type": "execution"
   },
   {
    "code": "my_zip = zipfile.ZipFile(dest_path, 'r')\nlist_names = my_zip.namelist()\nlist_names",
    "id": "8da2cc89fbc046b498f63c59d6161c96",
    "idx": 13,
    "time": "2021-02-05T21:54:40.706Z",
    "type": "execution"
   },
   {
    "id": "4aa3f5715ab645a48992d7378d6df3c6",
    "time": "2021-02-05T21:54:40.826Z",
    "type": "completion"
   },
   {
    "id": "8da2cc89fbc046b498f63c59d6161c96",
    "time": "2021-02-05T21:54:40.840Z",
    "type": "completion"
   },
   {
    "code": "my_zip = zipfile.ZipFile(dest_path, 'r')\nfor info in my_zip.infolist():\n    print('{}\\t{}'.format(info.filename, info.file_size))",
    "id": "4e620df83557496b8dfb155bfb425100",
    "idx": 16,
    "time": "2021-02-05T21:54:41.255Z",
    "type": "execution"
   },
   {
    "id": "4e620df83557496b8dfb155bfb425100",
    "time": "2021-02-05T21:54:41.401Z",
    "type": "completion"
   },
   {
    "code": "data_dir = Path('.')\nmy_zip.extractall(data_dir)\n!ls {data_dir / Path(\"data\")}",
    "id": "30a94e6684b74a5384bc9864a70d52a0",
    "idx": 18,
    "time": "2021-02-05T21:54:41.596Z",
    "type": "execution"
   },
   {
    "code": "import ds100_utils\n\ndata_dir = \"./\"\nfor f in list_names:\n    if not os.path.isdir(f):\n        print(ds100_utils.head(data_dir + f, 5), \"\\n\")",
    "id": "b801e84946fe4a019164579212878047",
    "idx": 21,
    "time": "2021-02-05T21:54:42.156Z",
    "type": "execution"
   },
   {
    "code": "# path to directory containing data\ndsDir = Path('data')\n\nbus = pd.read_csv(dsDir/'bus.csv', encoding='ISO-8859-1')\nins2vio = pd.read_csv(dsDir/'ins2vio.csv')\nins = pd.read_csv(dsDir/'ins.csv')\nvio = pd.read_csv(dsDir/'vio.csv')\n\n#This code is essential for the autograder to function properly. Do not edit\nins_test = ins",
    "id": "e8e986de8e3c4814a1479949f815386e",
    "idx": 23,
    "time": "2021-02-05T21:54:42.633Z",
    "type": "execution"
   },
   {
    "id": "30a94e6684b74a5384bc9864a70d52a0",
    "time": "2021-02-05T21:54:42.708Z",
    "type": "completion"
   },
   {
    "id": "b801e84946fe4a019164579212878047",
    "time": "2021-02-05T21:54:42.723Z",
    "type": "completion"
   },
   {
    "id": "e8e986de8e3c4814a1479949f815386e",
    "time": "2021-02-05T21:54:42.917Z",
    "type": "completion"
   },
   {
    "code": "bus.head()",
    "id": "e6cd6406c81047c0a1ad8236ef80d69d",
    "idx": 25,
    "time": "2021-02-05T21:54:42.996Z",
    "type": "execution"
   },
   {
    "id": "e6cd6406c81047c0a1ad8236ef80d69d",
    "time": "2021-02-05T21:54:43.111Z",
    "type": "completion"
   },
   {
    "code": "bus.describe()",
    "id": "f8937f337d0d44ec978e4e57ac1acac2",
    "idx": 27,
    "time": "2021-02-05T21:54:43.356Z",
    "type": "execution"
   },
   {
    "id": "f8937f337d0d44ec978e4e57ac1acac2",
    "time": "2021-02-05T21:54:43.489Z",
    "type": "completion"
   },
   {
    "code": "assert all(bus.columns == ['business id column', 'name', 'address', 'city', 'state', 'postal_code',\n                           'latitude', 'longitude', 'phone_number'])\nassert 6250 <= len(bus) <= 6260\n\nassert all(ins.columns == ['iid', 'date', 'score', 'type'])\nassert 26660 <= len(ins) <= 26670\n\nassert all(vio.columns == ['description', 'risk_category', 'vid'])\nassert 60 <= len(vio) <= 65\n\nassert all(ins2vio.columns == ['iid', 'vid'])\nassert 40210 <= len(ins2vio) <= 40220",
    "id": "d414b6ddaaa2491b83e8f28a93152d43",
    "idx": 30,
    "time": "2021-02-05T21:54:43.946Z",
    "type": "execution"
   },
   {
    "id": "d414b6ddaaa2491b83e8f28a93152d43",
    "time": "2021-02-05T21:54:44.033Z",
    "type": "completion"
   },
   {
    "code": "bus_summary = pd.DataFrame(**{'columns': ['business id column', 'latitude', 'longitude'],\n 'data': {'business id column': {'50%': 75685.0, 'max': 102705.0, 'min': 19.0},\n  'latitude': {'50%': -9999.0, 'max': 37.824494, 'min': -9999.0},\n  'longitude': {'50%': -9999.0,\n   'max': 0.0,\n   'min': -9999.0}},\n 'index': ['min', '50%', 'max']})\n\nins_summary = pd.DataFrame(**{'columns': ['score'],\n 'data': {'score': {'50%': 76.0, 'max': 100.0, 'min': -1.0}},\n 'index': ['min', '50%', 'max']})\n\nvio_summary = pd.DataFrame(**{'columns': ['vid'],\n 'data': {'vid': {'50%': 103135.0, 'max': 103177.0, 'min': 103102.0}},\n 'index': ['min', '50%', 'max']})\n\nfrom IPython.display import display\n\nprint('What we expect from your Businesses dataframe:')\ndisplay(bus_summary)\nprint('What we expect from your Inspections dataframe:')\ndisplay(ins_summary)\nprint('What we expect from your Violations dataframe:')\ndisplay(vio_summary)",
    "id": "dd34b750ac6948739ad81ea6b7e40b81",
    "idx": 32,
    "time": "2021-02-05T21:54:44.291Z",
    "type": "execution"
   },
   {
    "id": "dd34b750ac6948739ad81ea6b7e40b81",
    "time": "2021-02-05T21:54:44.490Z",
    "type": "completion"
   },
   {
    "code": "\"\"\"Run this cell to load this utility comparison function that we will use in various\ntests below (both tests you can see and those we run internally for grading).\n\nDo not modify the function in any way.\n\"\"\"\n\n\ndef df_allclose(actual, desired, columns=None, rtol=5e-2):\n    \"\"\"Compare selected columns of two dataframes on a few summary statistics.\n    \n    Compute the min, median and max of the two dataframes on the given columns, and compare\n    that they match numerically to the given relative tolerance.\n    \n    If they don't match, an AssertionError is raised (by `numpy.testing`).\n    \"\"\"    \n    # summary statistics to compare on\n    stats = ['min', '50%', 'max']\n    \n    # For the desired values, we can provide a full DF with the same structure as\n    # the actual data, or pre-computed summary statistics.\n    # We assume a pre-computed summary was provided if columns is None. In that case, \n    # `desired` *must* have the same structure as the actual's summary\n    if columns is None:\n        des = desired\n        columns = desired.columns\n    else:\n        des = desired[columns].describe().loc[stats]\n\n    # Extract summary stats from actual DF\n    act = actual[columns].describe().loc[stats]\n\n    return np.allclose(act, des, rtol)",
    "id": "8102e5b45b0e4f33baf1a13dcb434fd3",
    "idx": 34,
    "time": "2021-02-05T21:54:44.703Z",
    "type": "execution"
   },
   {
    "id": "8102e5b45b0e4f33baf1a13dcb434fd3",
    "time": "2021-02-05T21:54:44.776Z",
    "type": "completion"
   },
   {
    "code": "bus.head()",
    "id": "cea4ae533d5b4c7988a87db7d56493dc",
    "idx": 41,
    "time": "2021-02-05T21:54:45.974Z",
    "type": "execution"
   },
   {
    "id": "cea4ae533d5b4c7988a87db7d56493dc",
    "time": "2021-02-05T21:54:46.093Z",
    "type": "completion"
   },
   {
    "code": "bus = bus.rename(columns={\"business id column\": \"bid\"})",
    "id": "6d14c0841d404a0684510a9ad8c65b2a",
    "idx": 43,
    "time": "2021-02-05T21:54:46.301Z",
    "type": "execution"
   },
   {
    "id": "6d14c0841d404a0684510a9ad8c65b2a",
    "time": "2021-02-05T21:54:46.385Z",
    "type": "completion"
   },
   {
    "code": "is_bid_unique = bus['bid'].value_counts().max() == 1 # SOLUTION",
    "id": "bb3985266063439594ac6f77507e2a9c",
    "idx": 45,
    "time": "2021-02-05T21:54:46.639Z",
    "type": "execution"
   },
   {
    "id": "bb3985266063439594ac6f77507e2a9c",
    "time": "2021-02-05T21:54:46.727Z",
    "type": "completion"
   },
   {
    "code": "# TEST\nis_bid_unique or ~is_bid_unique",
    "id": "a18144c4f1f84e228019cc46562ca3ed",
    "idx": 46,
    "time": "2021-02-05T21:54:46.817Z",
    "type": "execution"
   },
   {
    "id": "a18144c4f1f84e228019cc46562ca3ed",
    "time": "2021-02-05T21:54:46.944Z",
    "type": "completion"
   },
   {
    "code": "# HIDDEN TEST\nis_bid_unique",
    "id": "8e7f840058ed456289a36cde2ce0d46d",
    "idx": 47,
    "time": "2021-02-05T21:54:47.025Z",
    "type": "execution"
   },
   {
    "id": "8e7f840058ed456289a36cde2ce0d46d",
    "time": "2021-02-05T21:54:47.144Z",
    "type": "completion"
   },
   {
    "code": "top_names = np.array(bus['name'].value_counts()[:5].index) # SOLUTION\ntop_addresses = np.array(bus['address'].value_counts()[:5].index) # SOLUTION\ntop_names, top_addresses",
    "id": "dfafceb4721744e4833ad7da3842add3",
    "idx": 49,
    "time": "2021-02-05T21:54:47.480Z",
    "type": "execution"
   },
   {
    "code": "# TEST\nassert type(top_names) == np.ndarray\nassert type(top_addresses) == np.ndarray\nassert len(top_names) == 5\nlen(top_addresses) == 5",
    "id": "7c0bad58fc57492aa691deced8cbf326",
    "idx": 50,
    "time": "2021-02-05T21:54:47.614Z",
    "type": "execution"
   },
   {
    "id": "dfafceb4721744e4833ad7da3842add3",
    "time": "2021-02-05T21:54:47.753Z",
    "type": "completion"
   },
   {
    "id": "7c0bad58fc57492aa691deced8cbf326",
    "time": "2021-02-05T21:54:47.761Z",
    "type": "completion"
   },
   {
    "code": "# TEST \nassert top_names[0] == \"Peet's Coffee & Tea\"\ntop_addresses[0] == 'Off The Grid'",
    "id": "a173cca1ee2d497da174fa25c363da01",
    "idx": 51,
    "time": "2021-02-05T21:54:47.851Z",
    "type": "execution"
   },
   {
    "code": "# HIDDEN TEST\nnp.all(top_names == np.array(bus['name'].value_counts()[:5].index))",
    "id": "89c0177e0bd149609383c215298c2fe1",
    "idx": 52,
    "time": "2021-02-05T21:54:48.005Z",
    "type": "execution"
   },
   {
    "id": "a173cca1ee2d497da174fa25c363da01",
    "time": "2021-02-05T21:54:48.141Z",
    "type": "completion"
   },
   {
    "code": "# HIDDEN TEST\nnp.all(top_addresses == np.array(bus['address'].value_counts()[:5].index))",
    "id": "5307a7422aa34b8a957aefe6f917b17f",
    "idx": 53,
    "time": "2021-02-05T21:54:48.155Z",
    "type": "execution"
   },
   {
    "id": "89c0177e0bd149609383c215298c2fe1",
    "time": "2021-02-05T21:54:48.197Z",
    "type": "completion"
   },
   {
    "id": "5307a7422aa34b8a957aefe6f917b17f",
    "time": "2021-02-05T21:54:48.285Z",
    "type": "completion"
   },
   {
    "code": "# What does each record represent?  Valid answers are:\n#    \"One location of a restaurant.\"\n#    \"A chain of restaurants.\"\n#    \"A city block.\"\nq1e_part1 = \"One location of a restaurant.\" # SOLUTION\n\n# What is the minimal primary key? Valid answers are:\n#    \"bid\"\n#    \"bid, name\"\n#    \"bid, name, address\"\nq1e_part2 = \"bid\" # SOLUTION",
    "id": "94dfcd2bec8744678bb5473ee0a42c7f",
    "idx": 55,
    "time": "2021-02-05T21:54:48.527Z",
    "type": "execution"
   },
   {
    "id": "94dfcd2bec8744678bb5473ee0a42c7f",
    "time": "2021-02-05T21:54:48.619Z",
    "type": "completion"
   },
   {
    "code": "# TEST\nq1e_part1 in set([\"One location of a restaurant.\", \"A chain of restaurants.\", \"A city block.\"])",
    "id": "33ad7c4f4f0840279f22d2e3b8612619",
    "idx": 56,
    "time": "2021-02-05T21:54:48.708Z",
    "type": "execution"
   },
   {
    "id": "33ad7c4f4f0840279f22d2e3b8612619",
    "time": "2021-02-05T21:54:48.829Z",
    "type": "completion"
   },
   {
    "code": "# TEST\nq1e_part2 in set([\"bid\", \"bid, name\", \"bid, name, address\"])",
    "id": "3a60c2ffbc674f438f24801227222296",
    "idx": 57,
    "time": "2021-02-05T21:54:48.911Z",
    "type": "execution"
   },
   {
    "id": "3a60c2ffbc674f438f24801227222296",
    "time": "2021-02-05T21:54:49.035Z",
    "type": "completion"
   },
   {
    "code": "# HIDDEN TEST\nq1e_part1 == \"One location of a restaurant.\" ",
    "id": "45f1e2fc08b8494aadfa41a78346c382",
    "idx": 58,
    "time": "2021-02-05T21:54:49.127Z",
    "type": "execution"
   },
   {
    "code": "# HIDDEN TEST\nq1e_part2 == \"bid\"",
    "id": "1a54dd7b0083486cb0f99f1cf85afb24",
    "idx": 59,
    "time": "2021-02-05T21:54:49.270Z",
    "type": "execution"
   },
   {
    "id": "45f1e2fc08b8494aadfa41a78346c382",
    "time": "2021-02-05T21:54:49.391Z",
    "type": "completion"
   },
   {
    "id": "1a54dd7b0083486cb0f99f1cf85afb24",
    "time": "2021-02-05T21:54:49.506Z",
    "type": "completion"
   },
   {
    "code": "zip_counts = bus.groupby(\"postal_code\").size().sort_values(ascending=False) # SOLUTION\nprint(zip_counts.to_string())",
    "id": "6044a235d3fe425295b0ed8079e8c55a",
    "idx": 62,
    "time": "2021-02-05T21:54:49.859Z",
    "type": "execution"
   },
   {
    "id": "6044a235d3fe425295b0ed8079e8c55a",
    "time": "2021-02-05T21:54:49.984Z",
    "type": "completion"
   },
   {
    "code": "# TEST\ntype(zip_counts) == pd.Series",
    "id": "b79fc1151eab4531a165900a357d675b",
    "idx": 63,
    "time": "2021-02-05T21:54:50.072Z",
    "type": "execution"
   },
   {
    "id": "b79fc1151eab4531a165900a357d675b",
    "time": "2021-02-05T21:54:50.198Z",
    "type": "completion"
   },
   {
    "code": "# TEST\nzip_counts.shape[0] == 63",
    "id": "715f26741f5243f3a7e35e3b45fc74d7",
    "idx": 64,
    "time": "2021-02-05T21:54:50.290Z",
    "type": "execution"
   },
   {
    "code": "# TEST\nzip_counts[\"94103\"] == 562",
    "id": "88be373cc5ce48f0b4d3bac4d8fcebc4",
    "idx": 65,
    "time": "2021-02-05T21:54:50.421Z",
    "type": "execution"
   },
   {
    "id": "715f26741f5243f3a7e35e3b45fc74d7",
    "time": "2021-02-05T21:54:50.553Z",
    "type": "completion"
   },
   {
    "id": "88be373cc5ce48f0b4d3bac4d8fcebc4",
    "time": "2021-02-05T21:54:50.557Z",
    "type": "completion"
   },
   {
    "code": "# HIDDEN TEST\nnp.isclose(zip_counts.var(), bus['postal_code'].value_counts().var())",
    "id": "29a9d9b9631b401f8b2a3ad8abb1cf26",
    "idx": 66,
    "time": "2021-02-05T21:54:50.636Z",
    "type": "execution"
   },
   {
    "code": "# HIDDEN TEST\nnp.isclose(zip_counts.mean(), bus['postal_code'].value_counts().mean())",
    "id": "8ca5ec964b734edbb4c68eb7535512cf",
    "idx": 67,
    "time": "2021-02-05T21:54:50.774Z",
    "type": "execution"
   },
   {
    "id": "29a9d9b9631b401f8b2a3ad8abb1cf26",
    "time": "2021-02-05T21:54:50.888Z",
    "type": "completion"
   },
   {
    "id": "8ca5ec964b734edbb4c68eb7535512cf",
    "time": "2021-02-05T21:54:50.968Z",
    "type": "completion"
   },
   {
    "code": "# The ZIP code column is which of the following type of data:\n#   \"Quantitative Continuous\" \n#   \"Quantitative Discrete\"\n#   \"Qualitative Ordinal\"\n#   \"Qualitative Nominal\"\nq2b_part1 = \"Qualitative Nominal\" # SOLUTION\n\n# What Python data type is used to represent a ZIP code? \n#    \"str\"\n#    \"int\"\n#    \"bool\"\n#    \"float\"\nq2b_part2 = \"str\" # SOLUTION",
    "id": "8d35338602024657895b4a81bf977aeb",
    "idx": 69,
    "time": "2021-02-05T21:54:51.119Z",
    "type": "execution"
   },
   {
    "id": "8d35338602024657895b4a81bf977aeb",
    "time": "2021-02-05T21:54:51.199Z",
    "type": "completion"
   },
   {
    "code": "# TEST\nq2b_part1 in set([\"Quantitative Continuous\", \"Quantitative Discrete\", \n                  \"Qualitative Ordinal\", \"Qualitative Nominal\"])",
    "id": "00c0f526be9f47008b9e13a8ddb4ea92",
    "idx": 70,
    "time": "2021-02-05T21:54:51.300Z",
    "type": "execution"
   },
   {
    "id": "00c0f526be9f47008b9e13a8ddb4ea92",
    "time": "2021-02-05T21:54:51.434Z",
    "type": "completion"
   },
   {
    "code": "# TEST\nq2b_part2 in set([\"str\", \"int\", \"bool\", \"float\"])",
    "id": "65e80b6ff60f4896890bc5da146d2a17",
    "idx": 71,
    "time": "2021-02-05T21:54:51.513Z",
    "type": "execution"
   },
   {
    "id": "65e80b6ff60f4896890bc5da146d2a17",
    "time": "2021-02-05T21:54:51.639Z",
    "type": "completion"
   },
   {
    "code": "# HIDDEN TEST\nq2b_part1 == \"Qualitative Nominal\"",
    "id": "e2b2797690854def854a3cfbcf461de0",
    "idx": 72,
    "time": "2021-02-05T21:54:51.718Z",
    "type": "execution"
   },
   {
    "id": "e2b2797690854def854a3cfbcf461de0",
    "time": "2021-02-05T21:54:51.848Z",
    "type": "completion"
   },
   {
    "code": "# HIDDEN TEST\nq2b_part2 == \"str\"",
    "id": "6c169d64f0da40028efec49f0cfa1f29",
    "idx": 73,
    "time": "2021-02-05T21:54:55.326Z",
    "type": "execution"
   },
   {
    "id": "6c169d64f0da40028efec49f0cfa1f29",
    "time": "2021-02-05T21:54:55.447Z",
    "type": "completion"
   },
   {
    "code": "valid_zips = pd.read_json(\"data/sf_zipcodes.json\", dtype=\"str\")['zip_codes'] # SOLUTION\nvalid_zips.head()",
    "id": "4422a866fafa48cf9e93995f7a83f0c1",
    "idx": 76,
    "time": "2021-02-05T21:54:55.850Z",
    "type": "execution"
   },
   {
    "id": "4422a866fafa48cf9e93995f7a83f0c1",
    "time": "2021-02-05T21:54:55.973Z",
    "type": "completion"
   },
   {
    "code": "# TEST\nassert valid_zips.dtype == object \ntype(valid_zips) == pd.Series",
    "id": "c20809e4750b468d80ccc49c1fd6b5a3",
    "idx": 77,
    "time": "2021-02-05T21:54:56.061Z",
    "type": "execution"
   },
   {
    "id": "c20809e4750b468d80ccc49c1fd6b5a3",
    "time": "2021-02-05T21:54:56.186Z",
    "type": "completion"
   },
   {
    "code": "# HIDDEN TEST\nnp.all(valid_zips.sort_values() == pd.read_json(\"data/sf_zipcodes.json\", dtype=\"str\")['zip_codes'].sort_values()) ",
    "id": "545ec0e883c640ee8dc122f5fd3e20cd",
    "idx": 78,
    "time": "2021-02-05T21:54:56.263Z",
    "type": "execution"
   },
   {
    "id": "545ec0e883c640ee8dc122f5fd3e20cd",
    "time": "2021-02-05T21:54:56.376Z",
    "type": "completion"
   },
   {
    "code": "invalid_zip_bus = bus[~bus['postal_code'].isin(valid_zips)] # SOLUTION\ninvalid_zip_bus.head(20)",
    "id": "69ff3d93daca43baad6b76bc39516db6",
    "idx": 80,
    "time": "2021-02-05T21:54:56.566Z",
    "type": "execution"
   },
   {
    "code": "# TEST\nassert type(invalid_zip_bus) == pd.DataFrame\nlen(invalid_zip_bus) == 230",
    "id": "0b1f75f5743c420cb7a8552580df2237",
    "idx": 81,
    "time": "2021-02-05T21:54:56.799Z",
    "type": "execution"
   },
   {
    "code": "# HIDDEN TEST\nset(invalid_zip_bus['postal_code']) == set(bus[~bus['postal_code'].isin(valid_zips)]['postal_code'])",
    "id": "15d3ea90e0004c9bb80f8490349a9b4b",
    "idx": 82,
    "time": "2021-02-05T21:54:56.937Z",
    "type": "execution"
   },
   {
    "id": "69ff3d93daca43baad6b76bc39516db6",
    "time": "2021-02-05T21:54:56.982Z",
    "type": "completion"
   },
   {
    "id": "0b1f75f5743c420cb7a8552580df2237",
    "time": "2021-02-05T21:54:57.059Z",
    "type": "completion"
   },
   {
    "id": "15d3ea90e0004c9bb80f8490349a9b4b",
    "time": "2021-02-05T21:54:57.062Z",
    "type": "completion"
   },
   {
    "code": "missing_zip_address_count = bus[bus['postal_code'] == \"-9999\"]['address'].value_counts() # SOLUTION\nmissing_zip_address_count.head()",
    "id": "71d1fc056a5f4f868fd53fa961e0ccf9",
    "idx": 84,
    "time": "2021-02-05T21:54:57.233Z",
    "type": "execution"
   },
   {
    "id": "71d1fc056a5f4f868fd53fa961e0ccf9",
    "time": "2021-02-05T21:54:57.355Z",
    "type": "completion"
   },
   {
    "code": "# TEST\ntype(missing_zip_address_count) == pd.Series",
    "id": "5fceeef2dee7414280b9d7c7fce3426b",
    "idx": 85,
    "time": "2021-02-05T21:54:57.432Z",
    "type": "execution"
   },
   {
    "code": "# TEST\nassert len(missing_zip_address_count) == 135\nmissing_zip_address_count['3914 Judah St'] == 1",
    "id": "642987ac9b9c43b29576e180c358235e",
    "idx": 86,
    "time": "2021-02-05T21:54:57.571Z",
    "type": "execution"
   },
   {
    "id": "5fceeef2dee7414280b9d7c7fce3426b",
    "time": "2021-02-05T21:54:57.700Z",
    "type": "completion"
   },
   {
    "id": "642987ac9b9c43b29576e180c358235e",
    "time": "2021-02-05T21:54:57.706Z",
    "type": "completion"
   },
   {
    "code": "# HIDDEN TEST\nmissing_zip_address_count['Off The Grid'] == 39",
    "id": "e6d442349c094b7485b3b8af12d9d900",
    "idx": 87,
    "time": "2021-02-05T21:54:57.788Z",
    "type": "execution"
   },
   {
    "id": "e6d442349c094b7485b3b8af12d9d900",
    "time": "2021-02-05T21:54:57.969Z",
    "type": "completion"
   },
   {
    "code": "# True or False: \n#  If we were to drop businesses with MISSING postal code values \n#   a particular class of business be affected.\nq2e_true_or_false = True # SOLUTION",
    "id": "c18ccae6ef9540e486b5ab6053fe5361",
    "idx": 89,
    "time": "2021-02-05T21:54:58.089Z",
    "type": "execution"
   },
   {
    "id": "c18ccae6ef9540e486b5ab6053fe5361",
    "time": "2021-02-05T21:54:58.178Z",
    "type": "completion"
   },
   {
    "code": "# TEST\ntype(q2e_true_or_false) == bool",
    "id": "546343e8ac7a4b038cafda1e967e6fa6",
    "idx": 90,
    "time": "2021-02-05T21:54:58.268Z",
    "type": "execution"
   },
   {
    "id": "546343e8ac7a4b038cafda1e967e6fa6",
    "time": "2021-02-05T21:54:58.388Z",
    "type": "completion"
   },
   {
    "code": "# HIDDEN TEST\nq2e_true_or_false == True",
    "id": "9629c055ca77417088923e70966edb57",
    "idx": 91,
    "time": "2021-02-05T21:54:58.466Z",
    "type": "execution"
   },
   {
    "id": "9629c055ca77417088923e70966edb57",
    "time": "2021-02-05T21:54:58.691Z",
    "type": "completion"
   },
   {
    "code": "bus['postal5'] = None\n# BEGIN SOLUTION\nbus['postal5'] = bus['postal_code'].str[:5]\nbus.loc[~bus['postal5'].isin(valid_zips), 'postal5'] = None \n# END SOLUTION\n\n# Checking the corrected postal5 column\nbus.loc[invalid_zip_bus.index, ['bid', 'name', 'postal_code', 'postal5']]",
    "id": "eb82291659fc4d108eed8bd529d4fb38",
    "idx": 93,
    "time": "2021-02-05T21:54:58.779Z",
    "type": "execution"
   },
   {
    "id": "eb82291659fc4d108eed8bd529d4fb38",
    "time": "2021-02-05T21:54:58.907Z",
    "type": "completion"
   },
   {
    "code": "# TEST\nassert 'postal5' in bus.columns\n(bus['postal5'].str.len() != 5).sum() == 221",
    "id": "fc893087d4c54ef5b26257e71752df81",
    "idx": 94,
    "time": "2021-02-05T21:54:58.996Z",
    "type": "execution"
   },
   {
    "id": "fc893087d4c54ef5b26257e71752df81",
    "time": "2021-02-05T21:54:59.130Z",
    "type": "completion"
   },
   {
    "code": "# TEST\nassert bus['postal5'].isin(valid_zips).sum() == 6032\nbus['postal5'].isna().sum() == 221",
    "id": "75175c92a347449991eb5d595b9ade59",
    "idx": 95,
    "time": "2021-02-05T21:55:01.178Z",
    "type": "execution"
   },
   {
    "id": "75175c92a347449991eb5d595b9ade59",
    "time": "2021-02-05T21:55:01.307Z",
    "type": "completion"
   },
   {
    "code": "# HIDDEN TEST\n(bus['postal5'] == \"-9999\").sum() == 0",
    "id": "1858423edb16495282d4ba3c72399450",
    "idx": 96,
    "time": "2021-02-05T21:55:01.427Z",
    "type": "execution"
   },
   {
    "id": "1858423edb16495282d4ba3c72399450",
    "time": "2021-02-05T21:55:01.547Z",
    "type": "completion"
   },
   {
    "code": "# HIDDEN TEST\nbus['postal5'].isna().sum() == 221",
    "id": "ecdbce0e0504423a986bab0db8281cb6",
    "idx": 97,
    "time": "2021-02-05T21:55:01.633Z",
    "type": "execution"
   },
   {
    "id": "ecdbce0e0504423a986bab0db8281cb6",
    "time": "2021-02-05T21:55:01.744Z",
    "type": "completion"
   },
   {
    "code": "ins.head(5)",
    "id": "1d649372ed104941b554c82201120018",
    "idx": 100,
    "time": "2021-02-05T21:55:02.245Z",
    "type": "execution"
   },
   {
    "id": "1d649372ed104941b554c82201120018",
    "time": "2021-02-05T21:55:02.370Z",
    "type": "completion"
   },
   {
    "code": "is_ins_iid_a_primary_key = ins['iid'].value_counts().max() == 1 # SOLUTION",
    "id": "797b8a79839745fbbfd054d619779601",
    "idx": 102,
    "time": "2021-02-05T21:55:02.822Z",
    "type": "execution"
   },
   {
    "id": "797b8a79839745fbbfd054d619779601",
    "time": "2021-02-05T21:55:02.920Z",
    "type": "completion"
   },
   {
    "code": "# TEST\ntype(is_ins_iid_a_primary_key) == bool or type(is_ins_iid_a_primary_key) == np.bool_",
    "id": "1e2b1dd43e2845dc85cc8294e9135275",
    "idx": 103,
    "time": "2021-02-05T21:55:03.117Z",
    "type": "execution"
   },
   {
    "id": "1e2b1dd43e2845dc85cc8294e9135275",
    "time": "2021-02-05T21:55:03.237Z",
    "type": "completion"
   },
   {
    "code": "# HIDDEN TEST\nis_ins_iid_a_primary_key == True",
    "id": "ace41bb2b66b44db8653bd43fbadc50e",
    "idx": 104,
    "time": "2021-02-05T21:55:03.316Z",
    "type": "execution"
   },
   {
    "id": "ace41bb2b66b44db8653bd43fbadc50e",
    "time": "2021-02-05T21:55:03.484Z",
    "type": "completion"
   },
   {
    "code": "ins['bid'] = ins['iid'].str.split(\"_\", expand=True)[0].astype(int) # SOLUTION",
    "id": "e3c1fcbabb4f41308126d79707416a0d",
    "idx": 107,
    "time": "2021-02-05T21:55:03.838Z",
    "type": "execution"
   },
   {
    "id": "e3c1fcbabb4f41308126d79707416a0d",
    "time": "2021-02-05T21:55:03.996Z",
    "type": "completion"
   },
   {
    "code": "# TEST\n'bid' in ins.columns",
    "id": "36d91b1160dd4f06877d1cac0cd1b280",
    "idx": 108,
    "time": "2021-02-05T21:55:04.039Z",
    "type": "execution"
   },
   {
    "id": "36d91b1160dd4f06877d1cac0cd1b280",
    "time": "2021-02-05T21:55:04.172Z",
    "type": "completion"
   },
   {
    "code": "# TEST\nins['bid'].dtype == int",
    "id": "7d31478583874fb08971f88f68e5c1c8",
    "idx": 109,
    "time": "2021-02-05T21:55:04.250Z",
    "type": "execution"
   },
   {
    "id": "7d31478583874fb08971f88f68e5c1c8",
    "time": "2021-02-05T21:55:04.377Z",
    "type": "completion"
   },
   {
    "code": "# TEST\nlen(ins[ins['score'] > 0]['bid'].unique()) == 5724",
    "id": "3e6fcb951dcb4f8d806562682c527349",
    "idx": 110,
    "time": "2021-02-05T21:55:04.456Z",
    "type": "execution"
   },
   {
    "id": "3e6fcb951dcb4f8d806562682c527349",
    "time": "2021-02-05T21:55:04.581Z",
    "type": "completion"
   },
   {
    "code": "# HIDDEN TEST\nins['bid'].equals(ins['iid'].str.split(\"_\", expand=True)[0].astype(\"int\"))",
    "id": "10f8c40b8b694dbd8e1d8c652f6b723c",
    "idx": 111,
    "time": "2021-02-05T21:55:04.657Z",
    "type": "execution"
   },
   {
    "id": "10f8c40b8b694dbd8e1d8c652f6b723c",
    "time": "2021-02-05T21:55:04.964Z",
    "type": "completion"
   },
   {
    "code": "invalid_bid_count = (~ins['bid'].isin(bus['bid'])).sum() # SOLUTION",
    "id": "6921f823556f4a9a8b7e0df50c233f1f",
    "idx": 113,
    "time": "2021-02-05T21:55:05.041Z",
    "type": "execution"
   },
   {
    "id": "6921f823556f4a9a8b7e0df50c233f1f",
    "time": "2021-02-05T21:55:05.129Z",
    "type": "completion"
   },
   {
    "code": "# TEST\ninvalid_bid_count >= 0 ",
    "id": "d99db5d39db34e5fa3adc187bf771684",
    "idx": 114,
    "time": "2021-02-05T21:55:05.238Z",
    "type": "execution"
   },
   {
    "id": "d99db5d39db34e5fa3adc187bf771684",
    "time": "2021-02-05T21:55:05.358Z",
    "type": "completion"
   },
   {
    "code": "# HIDDEN TEST\ninvalid_bid_count == 0",
    "id": "9fd7cfc11bef464687354b0c72b7d05b",
    "idx": 115,
    "time": "2021-02-05T21:55:05.437Z",
    "type": "execution"
   },
   {
    "id": "9fd7cfc11bef464687354b0c72b7d05b",
    "time": "2021-02-05T21:55:05.553Z",
    "type": "completion"
   },
   {
    "code": "# True or False: The column ins['bid'] is a foreign key \n#   referencing the bus['bid'] primary key.\n\nq3b_is_foreign_key = True # SOLUTION",
    "id": "867b20d27ea34583823d03efc9802d61",
    "idx": 117,
    "time": "2021-02-05T21:55:05.954Z",
    "type": "execution"
   },
   {
    "id": "867b20d27ea34583823d03efc9802d61",
    "time": "2021-02-05T21:55:06.038Z",
    "type": "completion"
   },
   {
    "code": "# TEST\ntype(q3b_is_foreign_key) == bool",
    "id": "66b86831429f4a27893f3a5194411d4a",
    "idx": 118,
    "time": "2021-02-05T21:55:06.241Z",
    "type": "execution"
   },
   {
    "id": "66b86831429f4a27893f3a5194411d4a",
    "time": "2021-02-05T21:55:06.372Z",
    "type": "completion"
   },
   {
    "code": "# HIDDEN TEST\nq3b_is_foreign_key == True",
    "id": "64802d54e509425e9c688ca9bba4f075",
    "idx": 119,
    "time": "2021-02-05T21:55:06.447Z",
    "type": "execution"
   },
   {
    "id": "64802d54e509425e9c688ca9bba4f075",
    "time": "2021-02-05T21:55:06.570Z",
    "type": "completion"
   },
   {
    "code": "ins_date_type = type(ins['date'][0]) # SOLUTION\nins_date_type",
    "id": "7731dc71240041c6920ddc54672f9c20",
    "idx": 122,
    "time": "2021-02-05T21:55:07.058Z",
    "type": "execution"
   },
   {
    "id": "7731dc71240041c6920ddc54672f9c20",
    "time": "2021-02-05T21:55:07.177Z",
    "type": "completion"
   },
   {
    "code": "# TEST\ntype(ins_date_type) == type",
    "id": "47588fe65ce54e9d9e8c1a3ec026b627",
    "idx": 123,
    "time": "2021-02-05T21:55:07.256Z",
    "type": "execution"
   },
   {
    "id": "47588fe65ce54e9d9e8c1a3ec026b627",
    "time": "2021-02-05T21:55:07.380Z",
    "type": "completion"
   },
   {
    "code": "# HIDDEN TEST\nins_date_type == str",
    "id": "412e0598940c4b32a4b3979b886c9d15",
    "idx": 124,
    "time": "2021-02-05T21:55:07.457Z",
    "type": "execution"
   },
   {
    "id": "412e0598940c4b32a4b3979b886c9d15",
    "time": "2021-02-05T21:55:07.598Z",
    "type": "completion"
   },
   {
    "code": "ins['timestamp'] = pd.to_datetime(ins['date']) # SOLUTION",
    "id": "32b9695d105b4cc88bac2fe30c3a9c9c",
    "idx": 126,
    "time": "2021-02-05T21:55:07.850Z",
    "type": "execution"
   },
   {
    "id": "32b9695d105b4cc88bac2fe30c3a9c9c",
    "time": "2021-02-05T21:55:08.042Z",
    "type": "completion"
   },
   {
    "code": "# TEST\ntype(ins['timestamp'][1]) == pd.Timestamp",
    "id": "b8f7841a866443e18deff4c621ab9f1c",
    "idx": 127,
    "time": "2021-02-05T21:55:08.091Z",
    "type": "execution"
   },
   {
    "id": "b8f7841a866443e18deff4c621ab9f1c",
    "time": "2021-02-05T21:55:08.194Z",
    "type": "completion"
   },
   {
    "code": "earliest_date = ins['timestamp'].min() # SOLUTION\nlatest_date = ins['timestamp'].max() # SOLUTION\n\nprint(\"Earliest Date:\", earliest_date)\nprint(\"Latest Date:\", latest_date)",
    "id": "c04336c8e2d647b5b0d0f77f25ffcc1c",
    "idx": 129,
    "time": "2021-02-05T21:55:08.463Z",
    "type": "execution"
   },
   {
    "id": "c04336c8e2d647b5b0d0f77f25ffcc1c",
    "time": "2021-02-05T21:55:08.582Z",
    "type": "completion"
   },
   {
    "code": "# TEST\ntype(earliest_date) == pd.Timestamp",
    "id": "577dff5da6a24931910c02e527dfee6c",
    "idx": 130,
    "time": "2021-02-05T21:55:08.685Z",
    "type": "execution"
   },
   {
    "id": "577dff5da6a24931910c02e527dfee6c",
    "time": "2021-02-05T21:55:08.802Z",
    "type": "completion"
   },
   {
    "code": "# TEST\ntype(latest_date) == pd.Timestamp",
    "id": "dcfac3641f21477d81d534e4133d542d",
    "idx": 131,
    "time": "2021-02-05T21:55:08.882Z",
    "type": "execution"
   },
   {
    "id": "dcfac3641f21477d81d534e4133d542d",
    "time": "2021-02-05T21:55:09.007Z",
    "type": "completion"
   },
   {
    "code": "# HIDDEN TEST\nearliest_date == pd.Timestamp('2016-10-04 00:00:00')",
    "id": "acf0cb7388ce4d3582f15088fc75f1fa",
    "idx": 132,
    "time": "2021-02-05T21:55:09.080Z",
    "type": "execution"
   },
   {
    "id": "acf0cb7388ce4d3582f15088fc75f1fa",
    "time": "2021-02-05T21:55:09.202Z",
    "type": "completion"
   },
   {
    "code": "# HIDDEN TEST\nlatest_date == pd.Timestamp('2019-11-28 00:00:00')",
    "id": "a471a783e1cb4b6d8259a3889ed11c46",
    "idx": 133,
    "time": "2021-02-05T21:55:09.284Z",
    "type": "execution"
   },
   {
    "id": "a471a783e1cb4b6d8259a3889ed11c46",
    "time": "2021-02-05T21:55:09.498Z",
    "type": "completion"
   },
   {
    "code": "ins['year'] = ins['timestamp'].dt.year # SOLUTION",
    "id": "20314163091c472a82a0d949f5396e94",
    "idx": 135,
    "time": "2021-02-05T21:55:09.577Z",
    "type": "execution"
   },
   {
    "id": "20314163091c472a82a0d949f5396e94",
    "time": "2021-02-05T21:55:09.713Z",
    "type": "completion"
   },
   {
    "code": "# TEST\n'year' in ins.columns",
    "id": "e3f7f04a7ce144d182635d78bb9e203f",
    "idx": 136,
    "time": "2021-02-05T21:55:09.747Z",
    "type": "execution"
   },
   {
    "id": "e3f7f04a7ce144d182635d78bb9e203f",
    "time": "2021-02-05T21:55:09.867Z",
    "type": "completion"
   },
   {
    "code": "# HIDDEN TEST\nset(ins[ins['score'] > 0]['year'].value_counts()) == {959, 4043, 4355, 4674}",
    "id": "3eb9a8134b3b4a11b4ec4881f1bf62f0",
    "idx": 137,
    "time": "2021-02-05T21:55:09.944Z",
    "type": "execution"
   },
   {
    "id": "3eb9a8134b3b4a11b4ec4881f1bf62f0",
    "time": "2021-02-05T21:55:10.064Z",
    "type": "completion"
   },
   {
    "code": "ins.head()",
    "id": "b549d7d335a448bf8aaf3f86ea15a433",
    "idx": 138,
    "time": "2021-02-05T21:55:10.077Z",
    "type": "execution"
   },
   {
    "id": "b549d7d335a448bf8aaf3f86ea15a433",
    "time": "2021-02-05T21:55:10.186Z",
    "type": "completion"
   },
   {
    "code": "ins_pivot = ins.pivot_table(columns = \"year\", index = \"type\", aggfunc = len, fill_value = 0) # SOLUTION\nins_pivot = ins_pivot[\"bid\"] # SOLUTION\nins_pivot['Total'] = ins_pivot.sum(axis=1) # SOLUTION\nins_pivot_sorted = ins_pivot.sort_values('Total', ascending=False) # SOLUTION\nins_pivot_sorted",
    "id": "daef3eada9a248829d73154088c313a6",
    "idx": 141,
    "time": "2021-02-05T21:55:10.655Z",
    "type": "execution"
   },
   {
    "id": "daef3eada9a248829d73154088c313a6",
    "time": "2021-02-05T21:55:10.863Z",
    "type": "completion"
   },
   {
    "code": "# TEST\nset(ins_pivot_sorted.columns) == {2016, 2017, 2018, 2019, 'Total'}",
    "id": "a2beeb4025cf4d8b81b3f5e698b0ad7d",
    "idx": 142,
    "time": "2021-02-05T21:55:10.951Z",
    "type": "execution"
   },
   {
    "id": "a2beeb4025cf4d8b81b3f5e698b0ad7d",
    "time": "2021-02-05T21:55:11.081Z",
    "type": "completion"
   },
   {
    "code": "# TEST\nlen(ins_pivot_sorted) == 15",
    "id": "1b4d189284ea4b2484c03ea60f6ca2db",
    "idx": 143,
    "time": "2021-02-05T21:55:11.160Z",
    "type": "execution"
   },
   {
    "id": "1b4d189284ea4b2484c03ea60f6ca2db",
    "time": "2021-02-05T21:55:11.282Z",
    "type": "completion"
   },
   {
    "code": "# HIDDEN TEST\nins_pivot_sorted.loc[\"Routine - Unscheduled\", 2016] == 966",
    "id": "eae28ac9dae94dd9b1224815e63b80e7",
    "idx": 144,
    "time": "2021-02-05T21:55:11.361Z",
    "type": "execution"
   },
   {
    "id": "eae28ac9dae94dd9b1224815e63b80e7",
    "time": "2021-02-05T21:55:11.509Z",
    "type": "completion"
   },
   {
    "code": "# HIDDEN TEST\nins_pivot_sorted.iloc[0,4] == 14077",
    "id": "808cbbcc90434918a0ad000f09bb904b",
    "idx": 145,
    "time": "2021-02-05T21:55:11.581Z",
    "type": "execution"
   },
   {
    "id": "808cbbcc90434918a0ad000f09bb904b",
    "time": "2021-02-05T21:55:11.706Z",
    "type": "completion"
   },
   {
    "code": "# HIDDEN TEST\nins_pivot_sorted.loc[\"New Ownership - Followup\", 2016] == 0",
    "id": "9839fdd58aa7402f8fb6fbb8320912e7",
    "idx": 146,
    "time": "2021-02-05T21:55:11.782Z",
    "type": "execution"
   },
   {
    "id": "9839fdd58aa7402f8fb6fbb8320912e7",
    "time": "2021-02-05T21:55:11.887Z",
    "type": "completion"
   },
   {
    "code": "year_of_new_construction = 2017 # SOLUTION",
    "id": "a8473136a89248249b200a6391062e03",
    "idx": 148,
    "time": "2021-02-05T21:55:12.122Z",
    "type": "execution"
   },
   {
    "id": "a8473136a89248249b200a6391062e03",
    "time": "2021-02-05T21:55:12.208Z",
    "type": "completion"
   },
   {
    "code": "# TEST\ntype(year_of_new_construction) == int",
    "id": "ac5fc6479a554a93ab00a6ccf190fc74",
    "idx": 149,
    "time": "2021-02-05T21:55:12.296Z",
    "type": "execution"
   },
   {
    "id": "ac5fc6479a554a93ab00a6ccf190fc74",
    "time": "2021-02-05T21:55:12.416Z",
    "type": "completion"
   },
   {
    "code": "# HIDDEN TEST\nyear_of_new_construction == 2017",
    "id": "00643a70d6444bbfa2fb9d6cb225023e",
    "idx": 150,
    "time": "2021-02-05T21:55:12.501Z",
    "type": "execution"
   },
   {
    "id": "00643a70d6444bbfa2fb9d6cb225023e",
    "time": "2021-02-05T21:55:12.617Z",
    "type": "completion"
   },
   {
    "code": "ins['score'].value_counts().head()",
    "id": "269332d89e234eb287f83b7303cfb72e",
    "idx": 152,
    "time": "2021-02-05T21:55:12.862Z",
    "type": "execution"
   },
   {
    "id": "269332d89e234eb287f83b7303cfb72e",
    "time": "2021-02-05T21:55:12.977Z",
    "type": "completion"
   },
   {
    "code": "ins_missing_score_pivot = ...\n\n# BEGIN SOLUTION\nins['Missing Score'] = (ins['score'] == -1).astype(\"str\")\n\nins_missing_score_pivot = ins.pivot_table(\n    index = \"type\", \n    columns = \"Missing Score\",\n    aggfunc = 'size',\n    fill_value = 0\n)\nins_missing_score_pivot['Total'] = ins_missing_score_pivot.sum(axis=1)\nins_missing_score_pivot.sort_values('Total', inplace=True, ascending=False)\nins_missing_score_pivot\n# END SOLUTION",
    "id": "0f169ae9a65d48aab0d104d703b95fe6",
    "idx": 155,
    "time": "2021-02-05T21:55:13.410Z",
    "type": "execution"
   },
   {
    "id": "0f169ae9a65d48aab0d104d703b95fe6",
    "time": "2021-02-05T21:55:13.530Z",
    "type": "completion"
   },
   {
    "code": "# TEST\nif type(ins_missing_score_pivot) == pd.DataFrame:\n    if False in ins_missing_score_pivot.columns: \n        ins_missing_score_pivot.rename(columns={False:\"False\"}, errors=\"raise\",inplace=True)\n    if True in ins_missing_score_pivot.columns:\n        ins_missing_score_pivot.rename(columns={True:\"True\"}, errors=\"raise\",inplace=True)\ntype(ins_missing_score_pivot) == pd.DataFrame",
    "id": "bcf6444067d741879254077e7dd8db70",
    "idx": 156,
    "time": "2021-02-05T21:55:13.619Z",
    "type": "execution"
   },
   {
    "id": "bcf6444067d741879254077e7dd8db70",
    "time": "2021-02-05T21:55:13.744Z",
    "type": "completion"
   },
   {
    "code": "# HIDDEN TEST\nset(ins_missing_score_pivot.columns) == {'False', 'Total', 'True'}",
    "id": "8a05698883c14e9aa4b0b3a322841809",
    "idx": 157,
    "time": "2021-02-05T21:55:13.821Z",
    "type": "execution"
   },
   {
    "code": "# HIDDEN TEST\nlen(ins_missing_score_pivot) == 15",
    "id": "5bf5f51e8988499d9ab697e3b854088e",
    "idx": 158,
    "time": "2021-02-05T21:55:13.952Z",
    "type": "execution"
   },
   {
    "id": "8a05698883c14e9aa4b0b3a322841809",
    "time": "2021-02-05T21:55:14.078Z",
    "type": "completion"
   },
   {
    "id": "5bf5f51e8988499d9ab697e3b854088e",
    "time": "2021-02-05T21:55:14.084Z",
    "type": "completion"
   },
   {
    "code": "# HIDDEN TEST\nins_missing_score_pivot[\"False\"][\"Routine - Unscheduled\"] == 14031 ",
    "id": "da3a77f55b9f4fd093a17c44c66c2c7d",
    "idx": 159,
    "time": "2021-02-05T21:55:14.212Z",
    "type": "execution"
   },
   {
    "id": "da3a77f55b9f4fd093a17c44c66c2c7d",
    "time": "2021-02-05T21:55:14.339Z",
    "type": "completion"
   },
   {
    "code": "# HIDDEN TEST\nins_missing_score_pivot.iloc[0,2] == 14077",
    "id": "691d0c5ab2194c31896efdf7f9101800",
    "idx": 160,
    "time": "2021-02-05T21:55:14.504Z",
    "type": "execution"
   },
   {
    "id": "691d0c5ab2194c31896efdf7f9101800",
    "time": "2021-02-05T21:55:14.610Z",
    "type": "completion"
   },
   {
    "code": "ins = ins[ins[\"score\"] > 0]",
    "id": "4b544c2fed1a4b298e051b5594dd27b1",
    "idx": 164,
    "time": "2021-02-05T21:55:15.248Z",
    "type": "execution"
   },
   {
    "id": "4b544c2fed1a4b298e051b5594dd27b1",
    "time": "2021-02-05T21:55:15.327Z",
    "type": "completion"
   },
   {
    "code": "ins_named = ...\n# BEGIN SOLUTION\nins_named = ins.merge(bus[[\"bid\", \"name\", \"address\"]], how=\"left\", left_on = \"bid\", right_on = \"bid\") \n# END SOLUTION\nins_named.head()",
    "id": "1409b83006b047429e6bf1cc422d927c",
    "idx": 166,
    "time": "2021-02-05T21:55:15.663Z",
    "type": "execution"
   },
   {
    "id": "1409b83006b047429e6bf1cc422d927c",
    "time": "2021-02-05T21:55:15.781Z",
    "type": "completion"
   },
   {
    "code": "# TEST\n\"name\" in ins_named and \"address\" in ins_named",
    "id": "c2a1855e7c9d43a08a87afb8dda8ec57",
    "idx": 167,
    "time": "2021-02-05T21:55:15.880Z",
    "type": "execution"
   },
   {
    "id": "c2a1855e7c9d43a08a87afb8dda8ec57",
    "time": "2021-02-05T21:55:16.000Z",
    "type": "completion"
   },
   {
    "code": "# TEST\nins_named[ins_named[\"Missing Score\"] == True].shape[0] == 0",
    "id": "142754bb3b1d4b2387beb579c5699304",
    "idx": 168,
    "time": "2021-02-05T21:55:16.160Z",
    "type": "execution"
   },
   {
    "code": "# TEST\nins_named.reset_index()['date'].equals(ins[ins['score'] > 0].reset_index()['date'])",
    "id": "03f6298c0c6f415f8860dfe0a0840891",
    "idx": 169,
    "time": "2021-02-05T21:55:16.285Z",
    "type": "execution"
   },
   {
    "id": "142754bb3b1d4b2387beb579c5699304",
    "time": "2021-02-05T21:55:16.408Z",
    "type": "completion"
   },
   {
    "id": "03f6298c0c6f415f8860dfe0a0840891",
    "time": "2021-02-05T21:55:16.413Z",
    "type": "completion"
   },
   {
    "code": "# HIDDEN TEST\nnp.isclose(sum(ins_named['name'].isnull()), 0, rtol=5)",
    "id": "148c6398f979407981e436a4c93a99d4",
    "idx": 170,
    "time": "2021-02-05T21:55:16.489Z",
    "type": "execution"
   },
   {
    "id": "148c6398f979407981e436a4c93a99d4",
    "time": "2021-02-05T21:55:16.608Z",
    "type": "completion"
   },
   {
    "code": "# HIDDEN TEST\nsol_merged = ins.merge(bus[[\"bid\", \"name\", \"address\"]], how=\"left\", left_on = \"bid\", right_on = \"bid\")\nins_named.equals(sol_merged[sol_merged[\"score\"] > 0])",
    "id": "be6aa85558a54737874b4c24cf5d27ea",
    "idx": 171,
    "time": "2021-02-05T21:55:16.679Z",
    "type": "execution"
   },
   {
    "id": "be6aa85558a54737874b4c24cf5d27ea",
    "time": "2021-02-05T21:55:16.785Z",
    "type": "completion"
   },
   {
    "code": "twenty_lowest_scoring = ... \n# BEGIN SOLUTION\ntwenty_lowest_scoring = (\n    ins_named.groupby('bid', as_index=False)\n        .aggregate({'name': 'first', 'score': 'median'})\n        .sort_values(['score', 'bid'] )\n        .rename(columns={'score': 'median score'})\n        .head(20)\n)\n# END SOLUTION\n\ntwenty_lowest_scoring",
    "id": "e182e6edff534277a86370165e5024c8",
    "idx": 173,
    "time": "2021-02-05T21:55:17.022Z",
    "type": "execution"
   },
   {
    "id": "e182e6edff534277a86370165e5024c8",
    "time": "2021-02-05T21:55:17.139Z",
    "type": "completion"
   },
   {
    "code": "# TEST\ntwenty_lowest_scoring.shape == (20, 3)",
    "id": "0d19486b864c40518fd93876248775b2",
    "idx": 174,
    "time": "2021-02-05T21:55:17.294Z",
    "type": "execution"
   },
   {
    "id": "0d19486b864c40518fd93876248775b2",
    "time": "2021-02-05T21:55:17.413Z",
    "type": "completion"
   },
   {
    "code": "# TEST\nset(twenty_lowest_scoring.columns) == {'bid', 'median score', 'name'}",
    "id": "de9f8af884dd43318d9b4c4118c5d98f",
    "idx": 175,
    "time": "2021-02-05T21:55:17.488Z",
    "type": "execution"
   },
   {
    "id": "de9f8af884dd43318d9b4c4118c5d98f",
    "time": "2021-02-05T21:55:17.610Z",
    "type": "completion"
   },
   {
    "code": "# HIDDEN TEST\n# print(twenty_lowest_scoring.to_html().replace(\"\\n\",\"\"))\nset(twenty_lowest_scoring[\"median score\"].values) == {54 , 57 , 58 , 60.5, 63.5, 64, \n                                                      64 , 64 , 64 , 64 , 64, 64.5, \n                                                      64.5, 64.5, 65, 65, 66, 66, 66, 66.5\n                                                      }",
    "id": "81e348bf109c4d99820557e4cd3ced82",
    "idx": 176,
    "time": "2021-02-05T21:55:17.682Z",
    "type": "execution"
   },
   {
    "id": "81e348bf109c4d99820557e4cd3ced82",
    "time": "2021-02-05T21:55:17.785Z",
    "type": "completion"
   },
   {
    "code": "low_score_violations = ...\n\n# BEGIN SOLUTION\nlow_score_violations = (\n    ins_named[ins_named['score'] < 65]\n        .merge(ins2vio, on='iid')\n        .merge(vio, on='vid')\n        .loc[:,'description']\n        .value_counts()\n        .sort_values(ascending=False)\n)\n# END SOLUTION\n\nlow_score_violations.head(20)",
    "id": "6cf65bc98bf145b783425f3062210e03",
    "idx": 178,
    "time": "2021-02-05T21:55:18.280Z",
    "type": "execution"
   },
   {
    "code": "# TEST\ntype(low_score_violations) == pd.Series",
    "id": "9988eb6f6daa44fb8fe60e22c005fb61",
    "idx": 179,
    "time": "2021-02-05T21:55:18.353Z",
    "type": "execution"
   },
   {
    "code": "# TEST\nlen(low_score_violations) == 50",
    "id": "574e3008d9f24b5480b58514092d80ff",
    "idx": 180,
    "time": "2021-02-05T21:55:18.482Z",
    "type": "execution"
   },
   {
    "code": "# TEST\nlow_score_violations[0] == 43",
    "id": "12172ec7bf4748078160498c06c7d13f",
    "idx": 181,
    "time": "2021-02-05T21:55:18.555Z",
    "type": "execution"
   },
   {
    "code": "# HIDDEN TEST\nnp.all(low_score_violations.head().values == np.array([43, 42, 40, 39, 37]))",
    "id": "8264297cb13a4f7e91a80dfd4deb0a25",
    "idx": 182,
    "time": "2021-02-05T21:55:18.621Z",
    "type": "execution"
   },
   {
    "id": "6cf65bc98bf145b783425f3062210e03",
    "time": "2021-02-05T21:55:18.724Z",
    "type": "completion"
   },
   {
    "id": "9988eb6f6daa44fb8fe60e22c005fb61",
    "time": "2021-02-05T21:55:18.728Z",
    "type": "completion"
   },
   {
    "id": "574e3008d9f24b5480b58514092d80ff",
    "time": "2021-02-05T21:55:18.730Z",
    "type": "completion"
   },
   {
    "id": "12172ec7bf4748078160498c06c7d13f",
    "time": "2021-02-05T21:55:18.733Z",
    "type": "completion"
   },
   {
    "id": "8264297cb13a4f7e91a80dfd4deb0a25",
    "time": "2021-02-05T21:55:18.735Z",
    "type": "completion"
   },
   {
    "code": "worst_restaurant = ...\n# BEGIN SOLUTION NO PROMPT\nworst_restaurant = ins_named.sort_values('score', ascending=False).tail(1)['name'].iloc[0]\n# END SOLUTION\nworst_restaurant",
    "id": "d480fb90cc8845618cb1851fa5192c2c",
    "idx": 184,
    "time": "2021-02-05T21:55:19.018Z",
    "type": "execution"
   },
   {
    "id": "d480fb90cc8845618cb1851fa5192c2c",
    "time": "2021-02-05T21:55:19.139Z",
    "type": "completion"
   },
   {
    "code": "# TEST\n(type(worst_restaurant) == str) and (len(worst_restaurant) > 0) ",
    "id": "fdd2a248df894a348e514ff26c142878",
    "idx": 185,
    "time": "2021-02-05T21:55:19.212Z",
    "type": "execution"
   },
   {
    "id": "fdd2a248df894a348e514ff26c142878",
    "time": "2021-02-05T21:55:19.336Z",
    "type": "completion"
   },
   {
    "code": "# HIDDEN TEST\nworst_restaurant.strip().lower() == 'lollipot'",
    "id": "ff3af7f075074af789eba4f44fb4f01f",
    "idx": 186,
    "time": "2021-02-05T21:55:19.406Z",
    "type": "execution"
   },
   {
    "id": "ff3af7f075074af789eba4f44fb4f01f",
    "time": "2021-02-05T21:55:19.517Z",
    "type": "completion"
   },
   {
    "code": "# BEGIN SOLUTION\nscore_counts = ins.loc[ins[\"score\"] > 0, 'score'].value_counts()\nplt.bar(score_counts.keys(), score_counts, edgecolor='black')\nplt.xlabel(\"Score\")\nplt.ylabel(\"Count\")\nplt.title(\"Distribution of Inspection Scores\");\n# END SOLUTION",
    "id": "96a761c230ce4478989e90e8cfb50ccb",
    "idx": 189,
    "time": "2021-02-05T21:55:19.989Z",
    "type": "execution"
   },
   {
    "code": "score_counts",
    "id": "7584f468ac444eb5b7ad1c5f9555054c",
    "idx": 190,
    "time": "2021-02-05T21:55:20.201Z",
    "type": "execution"
   },
   {
    "id": "96a761c230ce4478989e90e8cfb50ccb",
    "time": "2021-02-05T21:55:20.519Z",
    "type": "completion"
   },
   {
    "id": "7584f468ac444eb5b7ad1c5f9555054c",
    "time": "2021-02-05T21:55:20.524Z",
    "type": "completion"
   },
   {
    "code": "# BEGIN SOLUTION NO PROMPT\ndef swing(s):\n    if len(s) < 3:\n        return 0\n    return max(s) - min(s)\n\nswing_series = ins_named['score'].groupby(ins_named['bid']).agg(swing).rename('swing')\nbus_swing = pd.concat([bus.set_index('bid'), swing_series], axis=1).sort_values(\"swing\", ascending=False)\n# END SOLUTION\nmax_swing = bus_swing.iloc[0]['name'] # SOLUTION\nmax_swing",
    "id": "4f8d17905c0646368f74d57595b260f5",
    "idx": 196,
    "time": "2021-02-05T21:55:21.540Z",
    "type": "execution"
   },
   {
    "code": "# TEST\nmax_swing in set(bus['name'])",
    "id": "d553bb538f7f491ea0f9c07f66a76a8b",
    "idx": 197,
    "time": "2021-02-05T21:55:21.761Z",
    "type": "execution"
   },
   {
    "id": "4f8d17905c0646368f74d57595b260f5",
    "time": "2021-02-05T21:55:21.877Z",
    "type": "completion"
   },
   {
    "id": "d553bb538f7f491ea0f9c07f66a76a8b",
    "time": "2021-02-05T21:55:21.888Z",
    "type": "completion"
   },
   {
    "code": "# HIDDEN TEST\nmax_swing == 'Lollipot'",
    "id": "8e430271fab6468e85cfc9a298ff9a81",
    "idx": 198,
    "time": "2021-02-05T21:55:22.133Z",
    "type": "execution"
   },
   {
    "id": "8e430271fab6468e85cfc9a298ff9a81",
    "time": "2021-02-05T21:55:22.237Z",
    "type": "completion"
   },
   {
    "code": "ins2018 = ins[ins['year'] == 2018]\n# Create the dataframe here\nscores_pairs_by_business = ...\n# BEGIN SOLUTION NO PROMPT\n# SOLUTION 1\nscores_pairs_by_business = (ins2018.sort_values('date')\n                            .loc[:, ['bid', 'score']]\n                            .groupby('bid')\n                            .filter(lambda group: len(group)==2)\n                            .groupby('bid')\n                            .agg(list)\n                            .rename(columns={'score':'score_pair'}))\n\n# SOLUTION 2\nscores_pairs_by_business = (ins2018.sort_values('date')\n                            .groupby('bid')\n                            .filter(lambda group: len(group)==2)\n                            .groupby('bid')\n                            .agg({'score': lambda group: group.tolist()})\n                            .rename(columns={'score':'score_pair'}))\nscores_pairs_by_business.head()\n# END SOLUTION\nscores_pairs_by_business",
    "id": "2464409f74e04e8a892f59fc28493b2a",
    "idx": 200,
    "time": "2021-02-05T21:55:22.544Z",
    "type": "execution"
   },
   {
    "code": "# TEST\nassert isinstance(scores_pairs_by_business, pd.DataFrame)\nscores_pairs_by_business.columns[0] == 'score_pair'",
    "id": "50a3ec656e3543b58f8b965d9b6985e9",
    "idx": 201,
    "time": "2021-02-05T21:55:22.692Z",
    "type": "execution"
   },
   {
    "code": "# HIDDEN TEST\n\nstudent_arr = np.array(scores_pairs_by_business.values.tolist()).squeeze()\n\n# Now we will check the head score pares\n# score_pair\n# business_id\n# 24 [96, 98]\n# 45 [78, 84]\n# 66 [98, 100]\n# 67 [87, 94]\n# 76 [100, 98]\n\n([96, 98] in student_arr and\\\n    [78, 84] in student_arr and\\\n        [98, 100] in student_arr and\\\n            [87, 94] in student_arr and\\\n                [100, 98] in student_arr) == True",
    "id": "aed50f7e999640bfb045e48a6051917c",
    "idx": 202,
    "time": "2021-02-05T21:55:22.930Z",
    "type": "execution"
   },
   {
    "id": "2464409f74e04e8a892f59fc28493b2a",
    "time": "2021-02-05T21:55:23.106Z",
    "type": "completion"
   },
   {
    "id": "50a3ec656e3543b58f8b965d9b6985e9",
    "time": "2021-02-05T21:55:23.110Z",
    "type": "completion"
   },
   {
    "id": "aed50f7e999640bfb045e48a6051917c",
    "time": "2021-02-05T21:55:23.188Z",
    "type": "completion"
   },
   {
    "code": "# BEGIN SOLUTION\nfirst_score, second_score = zip(*scores_pairs_by_business['score_pair'])\nplt.scatter(first_score,second_score,s = 20, facecolors='none',edgecolors='b')\nplt.plot([55,100],[55,100],'r-')\nplt.xlabel('First Score')\nplt.ylabel('Second Score')\nplt.axis([55,100,55,100])\nplt.title(\"First Inspection Score vs. Second Inspection Score\");\n# END SOLUTION",
    "id": "40ae1d4cda24484e8c637badfc54b029",
    "idx": 204,
    "time": "2021-02-05T21:55:23.322Z",
    "type": "execution"
   },
   {
    "code": "# Do not modify this line\nsns.set()\n\n# BEGIN SOLUTION\nins_17_to_19 = ins[(ins['year'] >= 2017) & (ins['year'] <= 2019)]\nins_vid_joined = ins_17_to_19.merge(ins2vio, on='iid').merge(vio, on='vid')\nplt.figure(figsize=(12,8))\nins_vid_joined['risk_cat'] = 0\nins_vid_joined.loc[ins_vid_joined['risk_category'] == \"Moderate Risk\" , 'risk_cat'] = 1\nins_vid_joined.loc[ins_vid_joined['risk_category'] == \"High Risk\", 'risk_cat'] = 2\nsns.boxplot(x=\"year\", y=\"score\", hue='risk_category', data=ins_vid_joined.sort_values(\"risk_cat\"), \n            linewidth=0.8);\n# END SOLUTION",
    "id": "f5b16c4f3ebc4261b77b6cb7ec565014",
    "idx": 208,
    "time": "2021-02-05T21:55:24.115Z",
    "type": "execution"
   },
   {
    "id": "40ae1d4cda24484e8c637badfc54b029",
    "time": "2021-02-05T21:55:24.235Z",
    "type": "completion"
   },
   {
    "id": "f5b16c4f3ebc4261b77b6cb7ec565014",
    "time": "2021-02-05T21:55:24.903Z",
    "type": "completion"
   },
   {
    "code": "# YOUR QUESTION HERE (in a comment)\n\n# YOUR DATA PROCESSING AND PLOTTING HERE\n\n# YOUR SUMMARY AND CONCLUSION HERE (in a comment)",
    "id": "351a70882f3f4c178788e4fd26d71675",
    "idx": 213,
    "time": "2021-02-05T21:55:25.083Z",
    "type": "execution"
   },
   {
    "id": "351a70882f3f4c178788e4fd26d71675",
    "time": "2021-02-05T21:55:25.177Z",
    "type": "completion"
   },
   {
    "code": "# THIS CELL AND ANY CELLS ADDED BELOW WILL NOT BE GRADED",
    "id": "4bd3443887eb4a7382a1256d5fde4b3d",
    "idx": 214,
    "time": "2021-02-05T21:55:25.306Z",
    "type": "execution"
   },
   {
    "id": "4bd3443887eb4a7382a1256d5fde4b3d",
    "time": "2021-02-05T21:55:25.380Z",
    "type": "completion"
   }
  ],
  "kernelspec": {
   "display_name": "Python 3",
   "language": "python",
   "name": "python3"
  },
  "language_info": {
   "codemirror_mode": {
    "name": "ipython",
    "version": 3
   },
   "file_extension": ".py",
   "mimetype": "text/x-python",
   "name": "python",
   "nbconvert_exporter": "python",
   "pygments_lexer": "ipython3",
   "version": "3.8.6"
  }
 },
 "nbformat": 4,
 "nbformat_minor": 4
}
