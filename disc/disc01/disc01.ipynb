{
 "cells": [
  {
   "cell_type": "markdown",
   "metadata": {},
   "source": [
    "# Discussion 1: Random Variables, Sampling, and SQL\n",
    "\n",
    "In this notebook, we will walk through Question 2 of Discussion 1 and demonstrate how biased samples can be generated from different sampling methods."
   ]
  },
  {
   "cell_type": "code",
   "execution_count": null,
   "metadata": {},
   "outputs": [],
   "source": [
    "import itertools\n",
    "import numpy as np\n",
    "import pandas as pd\n",
    "import matplotlib.pyplot as plt\n",
    "import warnings\n",
    "warnings.simplefilter(\"ignore\")\n",
    "%matplotlib inline\n",
    "\n",
    "def plot_sample(arr):\n",
    "    plt.figure(figsize=[10,6])\n",
    "    plt.hist(arr)\n",
    "    plt.xlabel(\"Exam Difficulty\")\n",
    "    data_mean = np.mean(arr)\n",
    "    pop_mean = data[\"response\"].mean()\n",
    "    plt.axvline(data_mean, 0, 250, color=\"r\", linewidth=3, label=\"Empirical Mean\")\n",
    "    plt.axvline(pop_mean, 0, 250, color=\"orange\", linewidth=3, label=\"Population Mean\")\n",
    "    plt.legend()\n",
    "    return data_mean"
   ]
  },
  {
   "cell_type": "markdown",
   "metadata": {},
   "source": [
    "## Question 2: Sampling\n",
    "\n",
    "To start with, we read in the dataframe `data` which has a row for each student in Data 100, and the following columns:\n",
    "\n",
    "* `response`, their response to the survey on a 10-point scale\n",
    "* `attended fireside chat`, whether the student attended the fireside chat after the exam\n",
    "* `saw on piazza`, whether the student _saw_ the survey Piazza post\n",
    "* `social pressure bias`, the amount a student's `response` changes when faced with social pressure; for example, if `response` was 5 and `social pressure bias` was -1, the student would answer 4 when faced with social pressure\n",
    "* `mini-disucssion`, the student's mini-discussion section.\n",
    "\n"
   ]
  },
  {
   "cell_type": "code",
   "execution_count": null,
   "metadata": {},
   "outputs": [],
   "source": [
    "means = {} # this will collect our mean estimates for each option\n",
    "data = pd.read_csv(\"data/responses.csv\")\n",
    "data"
   ]
  },
  {
   "cell_type": "markdown",
   "metadata": {},
   "source": [
    "For each sampling procedure, we will bootstrap from `data` using the mean of `response` as our test statistic, calculate the bootstrapped estimate of the mean of `response`, and plot a histogram comparing our empirical estimate to the true population mean, which is:"
   ]
  },
  {
   "cell_type": "code",
   "execution_count": null,
   "metadata": {},
   "outputs": [],
   "source": [
    "data[\"response\"].mean()"
   ]
  },
  {
   "cell_type": "markdown",
   "metadata": {},
   "source": [
    "### Option A\n",
    "\n",
    "Recall that in option A:\n",
    "\n",
    "> The professor sends a Zoom poll to all students in the first fireside chat following the exam.\n",
    "\n",
    "To simulate this, we will bootstrap from `data` among the students for whom `attended fireside chat` is `True`. We assume that only 80% of students in the fireside chat complete the poll."
   ]
  },
  {
   "cell_type": "code",
   "execution_count": null,
   "metadata": {},
   "outputs": [],
   "source": [
    "# option A\n",
    "np.random.seed(42)\n",
    "\n",
    "replications = 1000\n",
    "sample_frac = 0.8 # assume only 80% of students respond to the poll\n",
    "data_A = []\n",
    "for _ in  range(replications):\n",
    "    responses = data[data[\"attended fireside chat\"]].sample(frac=sample_frac)\n",
    "    data_A.append(responses[\"response\"].mean())\n",
    "\n",
    "means[\"A\"] = plot_sample(data_A)\n",
    "means[\"A\"]"
   ]
  },
  {
   "cell_type": "markdown",
   "metadata": {},
   "source": [
    "### Option B\n",
    "\n",
    "Recall that in option B:\n",
    "\n",
    "> The professor adds a question to the homework assignment of a simple random sample of students within each discussion section.\n",
    "\n",
    "To simulate this, we will first add a new column `discussion` to `data` with the student's discussion section number (taken from `mini-discussion`). We will then bootstrap from `data` by grouping by `discussion` and sampling 10 students from each section."
   ]
  },
  {
   "cell_type": "code",
   "execution_count": null,
   "metadata": {},
   "outputs": [],
   "source": [
    "# option B\n",
    "np.random.seed(42)\n",
    "\n",
    "# add discussion column to data\n",
    "data[\"discussion\"] = data[\"mini-discussion\"].str[:-1].astype(int)\n",
    "\n",
    "replications = 1000\n",
    "sample_size = 10 # survey 10 students in each section\n",
    "data_B = []\n",
    "for _ in  range(replications):\n",
    "    responses = data.groupby(\"discussion\").sample(n=sample_size)\n",
    "    data_B.append(responses[\"response\"].mean())\n",
    "\n",
    "means[\"B\"] = plot_sample(data_B)\n",
    "means[\"B\"]"
   ]
  },
  {
   "cell_type": "markdown",
   "metadata": {},
   "source": [
    "### Option C\n",
    "\n",
    "Recall that in option C:\n",
    "\n",
    "> The professor makes a post on Piazza asking students to submit a Google Form.\n",
    "\n",
    "To simulate this, we will bootstrap from `data` among the students for whom `saw on Piazza` is `True`. We assume that only 40% of students who see the post complete the form."
   ]
  },
  {
   "cell_type": "code",
   "execution_count": null,
   "metadata": {},
   "outputs": [],
   "source": [
    "# option C\n",
    "np.random.seed(42)\n",
    "\n",
    "replications = 1000\n",
    "sample_frac = 0.4 # assume only 40% of students who saw the post responded\n",
    "data_C = []\n",
    "for _ in  range(replications):\n",
    "    responses = data[data[\"saw on piazza\"]].sample(frac=sample_frac)\n",
    "    data_C.append(responses[\"response\"].mean())\n",
    "\n",
    "means[\"C\"] = plot_sample(data_C)\n",
    "means[\"C\"]"
   ]
  },
  {
   "cell_type": "markdown",
   "metadata": {},
   "source": [
    "### Option D\n",
    "\n",
    "Recall that in option D:\n",
    "\n",
    "> The professor chooses a simple random sample of mini-discussion sections, goes to each selected section, and surveys each student in the group as part of the ending discussion question.\n",
    "\n",
    "To simulate this, we will bootstrap from `data` by randomly choosing 20 mini-discussion sections and filtering out the students in `data` who are not in one of the selected sections. Note that for this sampling procedure, because the students are being asked in public, we also need to account for social pressure bias by adding the `social pressure bias` column to `response` before taking the mean."
   ]
  },
  {
   "cell_type": "code",
   "execution_count": null,
   "metadata": {},
   "outputs": [],
   "source": [
    "# option D\n",
    "np.random.seed(42)\n",
    "\n",
    "replications = 1000\n",
    "sample_size = 20 # choose 4 discussion sections\n",
    "data_D = []\n",
    "for _ in range(replications):\n",
    "    sampled_discussions = np.random.choice(data[\"mini-discussion\"].unique(), replace=False, size=sample_size)\n",
    "    responses = data[data[\"mini-discussion\"].isin(sampled_discussions)]\n",
    "    \n",
    "    # account for social pressure bias\n",
    "    responses.loc[:,\"response\"] = responses.loc[:,\"response\"] + responses.loc[:,\"social pressure bias\"]\n",
    "    data_D.append(responses[\"response\"].mean())\n",
    "\n",
    "means[\"D\"] = plot_sample(data_D)\n",
    "means[\"D\"]"
   ]
  },
  {
   "cell_type": "markdown",
   "metadata": {},
   "source": [
    "### Results\n",
    "\n",
    "The cell below summarizes the results of each sampling procedure using the `means` dictionary. Note that option B is the theoretically optimal sampling procedure, and indeed does obtain the lowest estimation error in magnitude."
   ]
  },
  {
   "cell_type": "code",
   "execution_count": null,
   "metadata": {},
   "outputs": [],
   "source": [
    "# summary of sampling processes\n",
    "actual_mean = data[\"response\"].mean()\n",
    "print(f\"Actual Mean: {actual_mean:.4f}\")\n",
    "for option, mean in means.items():\n",
    "    print(\n",
    "        f\"Option {option}:   Mean = {mean:.4f}   Bias = {(mean - actual_mean):.4f}\"\n",
    "        f\"{'   (THEORETICALLY OPTIMAL)' if option == 'B' else ''}\"\n",
    "    )"
   ]
  },
  {
   "cell_type": "markdown",
   "metadata": {},
   "source": [
    " "
   ]
  }
 ],
 "metadata": {
  "history": [
   {
    "code": "import numpy as np\nimport pandas as pd",
    "id": "62ecc01678d549a38af9cd849956cbb1",
    "idx": 0,
    "time": "2021-01-29T05:04:06.754Z",
    "type": "execution"
   },
   {
    "id": "62ecc01678d549a38af9cd849956cbb1",
    "time": "2021-01-29T05:04:07.157Z",
    "type": "completion"
   },
   {
    "code": "n = 30\nm, s = 75, 10\nfirst_row = (\n    n,\n    np.random.normal(m, s, n) // 1\n)",
    "id": "9b5f438360804abeb743289f97ff13bc",
    "idx": 1,
    "time": "2021-01-29T05:06:00.260Z",
    "type": "execution"
   },
   {
    "id": "9b5f438360804abeb743289f97ff13bc",
    "time": "2021-01-29T05:06:00.332Z",
    "type": "completion"
   },
   {
    "code": "first_row",
    "id": "f74e661ddaec4b6d9c1f2c1f659aeca2",
    "idx": 2,
    "time": "2021-01-29T05:06:02.153Z",
    "type": "execution"
   },
   {
    "id": "f74e661ddaec4b6d9c1f2c1f659aeca2",
    "time": "2021-01-29T05:06:02.236Z",
    "type": "completion"
   },
   {
    "code": "n = 30\nm, s = 75, 10\np_61c = 0.4\np_before_end =  0.05\nfirst_row = (\n    n,  # number of students\n    np.random.normal(m, s, n) // 1, # scores array\n    np.random.choice([True, False], size=n, p=[p_61c, 1 - p_61c]), # is in 61c\n    np.random.choice([True, False], size=n, p=[p_before_end, 1 - p_before_end]), # turned in before end\n    # assign disc at end\n)",
    "id": "9b5f438360804abeb743289f97ff13bc",
    "idx": 1,
    "time": "2021-01-29T05:09:03.341Z",
    "type": "execution"
   },
   {
    "id": "9b5f438360804abeb743289f97ff13bc",
    "time": "2021-01-29T05:09:03.447Z",
    "type": "completion"
   },
   {
    "code": "first_row",
    "id": "f74e661ddaec4b6d9c1f2c1f659aeca2",
    "idx": 2,
    "time": "2021-01-29T05:09:03.752Z",
    "type": "execution"
   },
   {
    "id": "f74e661ddaec4b6d9c1f2c1f659aeca2",
    "time": "2021-01-29T05:09:03.985Z",
    "type": "completion"
   },
   {
    "code": "# first row\nn = 30\nm, s = 70, 10\np_61c = 0.2\np_before_end =  0.05\nfirst_row = (\n    n,  # number of students\n    np.random.normal(m, s, n) // 1, # scores array\n    np.random.choice([True, False], size=n, p=[p_61c, 1 - p_61c]), # is in 61c\n    np.random.choice([True, False], size=n, p=[p_before_end, 1 - p_before_end]), # turned in before end\n    # assign disc at end\n)",
    "id": "9b5f438360804abeb743289f97ff13bc",
    "idx": 1,
    "time": "2021-01-29T05:12:14.355Z",
    "type": "execution"
   },
   {
    "id": "9b5f438360804abeb743289f97ff13bc",
    "time": "2021-01-29T05:12:14.423Z",
    "type": "completion"
   },
   {
    "code": "# first row\nn = 30\nm, s = 70, 10\np_61c = 0.2\np_before_end =  0.05\nfirst_row = (\n    n,  # number of students\n    np.random.normal(m, s, n) // 1, # scores array\n    np.random.choice([True, False], size=n, p=[p_61c, 1 - p_61c]), # is in 61c\n    np.random.choice([True, False], size=n, p=[p_before_end, 1 - p_before_end]), # turned in before end\n    # assign disc at end\n)\nfirst_row",
    "id": "9b5f438360804abeb743289f97ff13bc",
    "idx": 1,
    "time": "2021-01-29T05:12:19.765Z",
    "type": "execution"
   },
   {
    "id": "9b5f438360804abeb743289f97ff13bc",
    "time": "2021-01-29T05:12:19.839Z",
    "type": "completion"
   },
   {
    "code": "import numpy as np\nimport pandas as pd\nnp.random.seed(42)",
    "id": "62ecc01678d549a38af9cd849956cbb1",
    "idx": 0,
    "time": "2021-01-29T05:12:21.836Z",
    "type": "execution"
   },
   {
    "code": "# first row\nn = 30\nm, s = 70, 10\np_61c = 0.2\np_before_end =  0.05\nfirst_row = (\n    n,  # number of students\n    np.random.normal(m, s, n) // 1, # scores array\n    np.random.choice([True, False], size=n, p=[p_61c, 1 - p_61c]), # is in 61c\n    np.random.choice([True, False], size=n, p=[p_before_end, 1 - p_before_end]), # turned in before end\n    # assign disc at end\n)\nfirst_row",
    "id": "9b5f438360804abeb743289f97ff13bc",
    "idx": 1,
    "time": "2021-01-29T05:12:22.010Z",
    "type": "execution"
   },
   {
    "code": "# turn in before end\nn = 112\nm, s = 82, 14\np_61c = 0.2\np_before_end = 1\nfirst_row = (\n    n,  # number of students\n    np.random.normal(m, s, n) // 1, # scores array\n    np.random.choice([True, False], size=n, p=[p_61c, 1 - p_61c]), # is in 61c\n    np.random.choice([True, False], size=n, p=[p_before_end, 1 - p_before_end]), # turned in before end\n    # assign disc at end\n)",
    "id": "6b1207662eb84edb8b18c2bdafca5277",
    "idx": 2,
    "time": "2021-01-29T05:12:22.135Z",
    "type": "execution"
   },
   {
    "id": "62ecc01678d549a38af9cd849956cbb1",
    "time": "2021-01-29T05:12:22.656Z",
    "type": "completion"
   },
   {
    "id": "9b5f438360804abeb743289f97ff13bc",
    "time": "2021-01-29T05:12:22.675Z",
    "type": "completion"
   },
   {
    "id": "6b1207662eb84edb8b18c2bdafca5277",
    "time": "2021-01-29T05:12:22.705Z",
    "type": "completion"
   },
   {
    "code": "# first row\nn = 30\nm, s = 70, 10\np_61c = 0.2\np_before_end =  0.05\nfirst_row = (\n    n,  # number of students\n    np.random.normal(m, s, n) // 1, # scores array\n    np.random.choice([True, False], size=n, p=[p_61c, 1 - p_61c]), # is in 61c\n    np.random.choice([True, False], size=n, p=[p_before_end, 1 - p_before_end]), # turned in before end\n    # assign disc at end\n)\nfirst_row",
    "id": "9b5f438360804abeb743289f97ff13bc",
    "idx": 1,
    "time": "2021-01-29T05:12:26.597Z",
    "type": "execution"
   },
   {
    "id": "9b5f438360804abeb743289f97ff13bc",
    "time": "2021-01-29T05:12:26.681Z",
    "type": "completion"
   },
   {
    "code": "import numpy as np\nimport pandas as pd\nnp.random.seed(42)",
    "id": "62ecc01678d549a38af9cd849956cbb1",
    "idx": 0,
    "time": "2021-01-29T05:12:33.512Z",
    "type": "execution"
   },
   {
    "code": "# first row\nn = 30\nm, s = 70, 10\np_61c = 0.2\np_before_end =  0.05\nfirst_row = (\n    n,  # number of students\n    np.random.normal(m, s, n) // 1, # scores array\n    np.random.choice([True, False], size=n, p=[p_61c, 1 - p_61c]), # is in 61c\n    np.random.choice([True, False], size=n, p=[p_before_end, 1 - p_before_end]), # turned in before end\n    # assign disc at end\n)\nfirst_row",
    "id": "9b5f438360804abeb743289f97ff13bc",
    "idx": 1,
    "time": "2021-01-29T05:12:33.663Z",
    "type": "execution"
   },
   {
    "code": "# turn in before end\nn = 112\nm, s = 82, 14\np_61c = 0.2\np_before_end = 1\nfirst_row = (\n    n,  # number of students\n    np.random.normal(m, s, n) // 1, # scores array\n    np.random.choice([True, False], size=n, p=[p_61c, 1 - p_61c]), # is in 61c\n    np.random.choice([True, False], size=n, p=[p_before_end, 1 - p_before_end]), # turned in before end\n    # assign disc at end\n)",
    "id": "6b1207662eb84edb8b18c2bdafca5277",
    "idx": 2,
    "time": "2021-01-29T05:12:33.811Z",
    "type": "execution"
   },
   {
    "id": "62ecc01678d549a38af9cd849956cbb1",
    "time": "2021-01-29T05:12:34.141Z",
    "type": "completion"
   },
   {
    "id": "9b5f438360804abeb743289f97ff13bc",
    "time": "2021-01-29T05:12:34.164Z",
    "type": "completion"
   },
   {
    "id": "6b1207662eb84edb8b18c2bdafca5277",
    "time": "2021-01-29T05:12:34.195Z",
    "type": "completion"
   },
   {
    "code": "import numpy as np\nimport pandas as pd\nnp.random.seed(42)",
    "id": "62ecc01678d549a38af9cd849956cbb1",
    "idx": 0,
    "time": "2021-01-29T05:12:45.166Z",
    "type": "execution"
   },
   {
    "id": "62ecc01678d549a38af9cd849956cbb1",
    "time": "2021-01-29T05:12:45.237Z",
    "type": "completion"
   },
   {
    "code": "# first row\nn = 30\nm, s = 70, 10\np_61c = 0.2\np_before_end =  0.05\nfirst_row = (\n    n,  # number of students\n    np.random.normal(m, s, n) // 1, # scores array\n    np.random.choice([True, False], size=n, p=[p_61c, 1 - p_61c]), # is in 61c\n    np.random.choice([True, False], size=n, p=[p_before_end, 1 - p_before_end]), # turned in before end\n    # assign disc at end\n)\nfirst_row",
    "id": "9b5f438360804abeb743289f97ff13bc",
    "idx": 1,
    "time": "2021-01-29T05:12:45.296Z",
    "type": "execution"
   },
   {
    "id": "9b5f438360804abeb743289f97ff13bc",
    "time": "2021-01-29T05:12:45.367Z",
    "type": "completion"
   },
   {
    "code": "# turn in before end\nn = 112\nm, s = 82, 14\np_61c = 0.2\np_before_end = 1\nsecond_row = (\n    n,  # number of students\n    np.random.normal(m, s, n) // 1, # scores array\n    np.random.choice([True, False], size=n, p=[p_61c, 1 - p_61c]), # is in 61c\n    np.random.choice([True, False], size=n, p=[p_before_end, 1 - p_before_end]), # turned in before end\n    # assign disc at end\n)\nsecond_row",
    "id": "6b1207662eb84edb8b18c2bdafca5277",
    "idx": 2,
    "time": "2021-01-29T05:12:45.449Z",
    "type": "execution"
   },
   {
    "id": "6b1207662eb84edb8b18c2bdafca5277",
    "time": "2021-01-29T05:12:45.531Z",
    "type": "completion"
   },
   {
    "code": "# everyone else\nn = 984\nm, s = 68, 20\np_61c = 0.01\np_before_end = 0\nthird_row = (\n    n,  # number of students\n    np.random.normal(m, s, n) // 1, # scores array\n    np.random.choice([True, False], size=n, p=[p_61c, 1 - p_61c]), # is in 61c\n    np.random.choice([True, False], size=n, p=[p_before_end, 1 - p_before_end]), # turned in before end\n    # assign disc at end\n)\nthird_row",
    "id": "295d77ec32a44b6e96db3118f6164858",
    "idx": 3,
    "time": "2021-01-29T05:14:54.989Z",
    "type": "execution"
   },
   {
    "id": "295d77ec32a44b6e96db3118f6164858",
    "time": "2021-01-29T05:14:55.157Z",
    "type": "completion"
   },
   {
    "code": "rows = []\nfor tup in [first_row, second_row, third_row]:\n    for i in range(tup[0]):\n        rows.append([tup[1][i], tup[2][i], tup[3][i]])\n\nrows[:5]",
    "id": "2235f962b11e419bad721936dbd7fdd8",
    "idx": 4,
    "time": "2021-01-29T05:16:52.763Z",
    "type": "execution"
   },
   {
    "id": "2235f962b11e419bad721936dbd7fdd8",
    "time": "2021-01-29T05:16:52.842Z",
    "type": "completion"
   },
   {
    "code": "data = pd.DataFrame(rows, columns=[\"score\", \"in_61c\", \"turned_in_early\"])",
    "id": "a42651dae3be4eeb86feb0da785e1bb0",
    "idx": 5,
    "time": "2021-01-29T05:17:15.833Z",
    "type": "execution"
   },
   {
    "id": "a42651dae3be4eeb86feb0da785e1bb0",
    "time": "2021-01-29T05:17:15.924Z",
    "type": "completion"
   },
   {
    "code": "data = pd.DataFrame(rows, columns=[\"score\", \"in_61c\", \"turned_in_early\"])\ndata",
    "id": "a42651dae3be4eeb86feb0da785e1bb0",
    "idx": 5,
    "time": "2021-01-29T05:17:18.286Z",
    "type": "execution"
   },
   {
    "id": "a42651dae3be4eeb86feb0da785e1bb0",
    "time": "2021-01-29T05:17:18.403Z",
    "type": "completion"
   },
   {
    "code": "data = pd.DataFrame(rows, columns=[\"score\", \"61c\", \"early\"])\ndata",
    "id": "a42651dae3be4eeb86feb0da785e1bb0",
    "idx": 5,
    "time": "2021-01-29T05:17:34.699Z",
    "type": "execution"
   },
   {
    "id": "a42651dae3be4eeb86feb0da785e1bb0",
    "time": "2021-01-29T05:17:34.793Z",
    "type": "completion"
   },
   {
    "code": "data.hist(\"score\")",
    "id": "880c8de743dd4fa18f1d8accf29e6ae7",
    "idx": 6,
    "time": "2021-01-29T05:19:04.379Z",
    "type": "execution"
   },
   {
    "id": "880c8de743dd4fa18f1d8accf29e6ae7",
    "time": "2021-01-29T05:19:07.860Z",
    "type": "completion"
   },
   {
    "code": "data[data[\"61c\"]].hist(\"score\")",
    "id": "c8fef5943d7e48dd8605cc10a7187c24",
    "idx": 7,
    "time": "2021-01-29T05:19:16.138Z",
    "type": "execution"
   },
   {
    "id": "c8fef5943d7e48dd8605cc10a7187c24",
    "time": "2021-01-29T05:19:16.372Z",
    "type": "completion"
   },
   {
    "code": "data[data[\"early\"]].hist(\"score\")",
    "id": "745de5f270d5424b8e6b170e31f08162",
    "idx": 8,
    "time": "2021-01-29T05:19:25.683Z",
    "type": "execution"
   },
   {
    "id": "745de5f270d5424b8e6b170e31f08162",
    "time": "2021-01-29T05:19:25.915Z",
    "type": "completion"
   },
   {
    "code": "1126 // 30",
    "id": "9103fa91220040438a0fa0a16659a200",
    "idx": 6,
    "time": "2021-01-29T05:20:35.855Z",
    "type": "execution"
   },
   {
    "id": "9103fa91220040438a0fa0a16659a200",
    "time": "2021-01-29T05:20:35.940Z",
    "type": "completion"
   },
   {
    "code": "import itertools\nimport numpy as np\nimport pandas as pd\nnp.random.seed(42)",
    "id": "62ecc01678d549a38af9cd849956cbb1",
    "idx": 0,
    "time": "2021-01-29T05:20:52.611Z",
    "type": "execution"
   },
   {
    "id": "62ecc01678d549a38af9cd849956cbb1",
    "time": "2021-01-29T05:20:52.686Z",
    "type": "completion"
   },
   {
    "code": "discs = itertools.cycle(np.arange(30))\ndata[\"discussion\"] = [next(discs) for _ in range(data.shape[0])]",
    "id": "f1d3e32b859d4faf97861c77258a5645",
    "idx": 6,
    "time": "2021-01-29T05:21:08.598Z",
    "type": "execution"
   },
   {
    "id": "f1d3e32b859d4faf97861c77258a5645",
    "time": "2021-01-29T05:21:08.668Z",
    "type": "completion"
   },
   {
    "code": "data",
    "id": "5a3c198c26954e218e22093350bc6ce5",
    "idx": 7,
    "time": "2021-01-29T05:21:10.531Z",
    "type": "execution"
   },
   {
    "id": "5a3c198c26954e218e22093350bc6ce5",
    "time": "2021-01-29T05:21:10.704Z",
    "type": "completion"
   },
   {
    "code": "discs = itertools.cycle(np.arange(30))\ndata[\"discussion\"] = [next(discs) for _ in range(data.shape[0])]\ndata",
    "id": "f1d3e32b859d4faf97861c77258a5645",
    "idx": 6,
    "time": "2021-01-29T05:21:13.158Z",
    "type": "execution"
   },
   {
    "id": "f1d3e32b859d4faf97861c77258a5645",
    "time": "2021-01-29T05:21:13.248Z",
    "type": "completion"
   },
   {
    "code": "data.groupby(\"discussion\").mean().bar(\"score\")",
    "id": "023594bb5709488d9a4c008283b5ab01",
    "idx": 10,
    "time": "2021-01-29T05:21:34.430Z",
    "type": "execution"
   },
   {
    "id": "023594bb5709488d9a4c008283b5ab01",
    "time": "2021-01-29T05:21:34.604Z",
    "type": "completion"
   },
   {
    "code": "data.groupby(\"discussion\").mean().plot.bar(\"score\")",
    "id": "023594bb5709488d9a4c008283b5ab01",
    "idx": 10,
    "time": "2021-01-29T05:21:39.413Z",
    "type": "execution"
   },
   {
    "id": "023594bb5709488d9a4c008283b5ab01",
    "time": "2021-01-29T05:21:40.254Z",
    "type": "completion"
   },
   {
    "code": "data.groupby(\"discussion\").mean().plot.bar()",
    "id": "023594bb5709488d9a4c008283b5ab01",
    "idx": 10,
    "time": "2021-01-29T05:21:45.531Z",
    "type": "execution"
   },
   {
    "id": "023594bb5709488d9a4c008283b5ab01",
    "time": "2021-01-29T05:21:46.235Z",
    "type": "completion"
   },
   {
    "code": "data.groupby(\"discussion\").mean().plot.bar(y=\"score\")",
    "id": "023594bb5709488d9a4c008283b5ab01",
    "idx": 10,
    "time": "2021-01-29T05:22:10.997Z",
    "type": "execution"
   },
   {
    "id": "023594bb5709488d9a4c008283b5ab01",
    "time": "2021-01-29T05:22:11.944Z",
    "type": "completion"
   },
   {
    "code": "discs = itertools.cycle(np.arange(1, 31))\ndata[\"discussion\"] = [next(discs) for _ in range(data.shape[0])]\ndata",
    "id": "f1d3e32b859d4faf97861c77258a5645",
    "idx": 6,
    "time": "2021-01-29T05:22:21.978Z",
    "type": "execution"
   },
   {
    "id": "f1d3e32b859d4faf97861c77258a5645",
    "time": "2021-01-29T05:22:22.298Z",
    "type": "completion"
   },
   {
    "code": "data.hist(\"score\")",
    "id": "880c8de743dd4fa18f1d8accf29e6ae7",
    "idx": 7,
    "time": "2021-01-29T05:22:22.343Z",
    "type": "execution"
   },
   {
    "code": "data[data[\"61c\"]].hist(\"score\")",
    "id": "c8fef5943d7e48dd8605cc10a7187c24",
    "idx": 8,
    "time": "2021-01-29T05:22:22.503Z",
    "type": "execution"
   },
   {
    "code": "data[data[\"early\"]].hist(\"score\")",
    "id": "745de5f270d5424b8e6b170e31f08162",
    "idx": 9,
    "time": "2021-01-29T05:22:22.648Z",
    "type": "execution"
   },
   {
    "id": "880c8de743dd4fa18f1d8accf29e6ae7",
    "time": "2021-01-29T05:22:22.675Z",
    "type": "completion"
   },
   {
    "code": "data.groupby(\"discussion\").mean().plot.bar(y=\"score\")",
    "id": "023594bb5709488d9a4c008283b5ab01",
    "idx": 10,
    "time": "2021-01-29T05:22:22.797Z",
    "type": "execution"
   },
   {
    "id": "c8fef5943d7e48dd8605cc10a7187c24",
    "time": "2021-01-29T05:22:23.101Z",
    "type": "completion"
   },
   {
    "id": "745de5f270d5424b8e6b170e31f08162",
    "time": "2021-01-29T05:22:23.245Z",
    "type": "completion"
   },
   {
    "id": "023594bb5709488d9a4c008283b5ab01",
    "time": "2021-01-29T05:22:23.577Z",
    "type": "completion"
   },
   {
    "code": "import itertools\nimport numpy as np\nimport pandas as pd\nnp.random.seed(42)",
    "id": "62ecc01678d549a38af9cd849956cbb1",
    "idx": 0,
    "time": "2021-01-29T05:22:24.948Z",
    "type": "execution"
   },
   {
    "code": "# first row\nn = 30\nm, s = 70, 10\np_61c = 0.2\np_before_end =  0.05\nfirst_row = (\n    n,  # number of students\n    np.random.normal(m, s, n) // 1, # scores array\n    np.random.choice([True, False], size=n, p=[p_61c, 1 - p_61c]), # is in 61c\n    np.random.choice([True, False], size=n, p=[p_before_end, 1 - p_before_end]), # turned in before end\n    # assign disc at end\n)\nfirst_row",
    "id": "9b5f438360804abeb743289f97ff13bc",
    "idx": 1,
    "time": "2021-01-29T05:22:24.950Z",
    "type": "execution"
   },
   {
    "code": "# turn in before end\nn = 112\nm, s = 82, 14\np_61c = 0.2\np_before_end = 1\nsecond_row = (\n    n,  # number of students\n    np.random.normal(m, s, n) // 1, # scores array\n    np.random.choice([True, False], size=n, p=[p_61c, 1 - p_61c]), # is in 61c\n    np.random.choice([True, False], size=n, p=[p_before_end, 1 - p_before_end]), # turned in before end\n    # assign disc at end\n)\nsecond_row",
    "id": "6b1207662eb84edb8b18c2bdafca5277",
    "idx": 2,
    "time": "2021-01-29T05:22:24.953Z",
    "type": "execution"
   },
   {
    "code": "# everyone else\nn = 984\nm, s = 68, 20\np_61c = 0.01\np_before_end = 0\nthird_row = (\n    n,  # number of students\n    np.random.normal(m, s, n) // 1, # scores array\n    np.random.choice([True, False], size=n, p=[p_61c, 1 - p_61c]), # is in 61c\n    np.random.choice([True, False], size=n, p=[p_before_end, 1 - p_before_end]), # turned in before end\n    # assign disc at end\n)\nthird_row",
    "id": "295d77ec32a44b6e96db3118f6164858",
    "idx": 3,
    "time": "2021-01-29T05:22:24.955Z",
    "type": "execution"
   },
   {
    "code": "rows = []\nfor tup in [first_row, second_row, third_row]:\n    for i in range(tup[0]):\n        rows.append([tup[1][i], tup[2][i], tup[3][i]])\n\nrows[:5]",
    "id": "2235f962b11e419bad721936dbd7fdd8",
    "idx": 4,
    "time": "2021-01-29T05:22:24.957Z",
    "type": "execution"
   },
   {
    "code": "data = pd.DataFrame(rows, columns=[\"score\", \"61c\", \"early\"])\ndata",
    "id": "a42651dae3be4eeb86feb0da785e1bb0",
    "idx": 5,
    "time": "2021-01-29T05:22:24.959Z",
    "type": "execution"
   },
   {
    "code": "discs = itertools.cycle(np.arange(1, 31))\ndata[\"discussion\"] = [next(discs) for _ in range(data.shape[0])]\ndata",
    "id": "f1d3e32b859d4faf97861c77258a5645",
    "idx": 6,
    "time": "2021-01-29T05:22:24.961Z",
    "type": "execution"
   },
   {
    "code": "data.hist(\"score\")",
    "id": "880c8de743dd4fa18f1d8accf29e6ae7",
    "idx": 7,
    "time": "2021-01-29T05:22:24.963Z",
    "type": "execution"
   },
   {
    "code": "data[data[\"61c\"]].hist(\"score\")",
    "id": "c8fef5943d7e48dd8605cc10a7187c24",
    "idx": 8,
    "time": "2021-01-29T05:22:24.965Z",
    "type": "execution"
   },
   {
    "code": "data[data[\"early\"]].hist(\"score\")",
    "id": "745de5f270d5424b8e6b170e31f08162",
    "idx": 9,
    "time": "2021-01-29T05:22:24.966Z",
    "type": "execution"
   },
   {
    "code": "data.groupby(\"discussion\").mean().plot.bar(y=\"score\")",
    "id": "023594bb5709488d9a4c008283b5ab01",
    "idx": 10,
    "time": "2021-01-29T05:22:24.968Z",
    "type": "execution"
   },
   {
    "id": "62ecc01678d549a38af9cd849956cbb1",
    "time": "2021-01-29T05:22:25.015Z",
    "type": "completion"
   },
   {
    "id": "9b5f438360804abeb743289f97ff13bc",
    "time": "2021-01-29T05:22:25.030Z",
    "type": "completion"
   },
   {
    "id": "6b1207662eb84edb8b18c2bdafca5277",
    "time": "2021-01-29T05:22:25.075Z",
    "type": "completion"
   },
   {
    "id": "295d77ec32a44b6e96db3118f6164858",
    "time": "2021-01-29T05:22:25.176Z",
    "type": "completion"
   },
   {
    "id": "2235f962b11e419bad721936dbd7fdd8",
    "time": "2021-01-29T05:22:25.179Z",
    "type": "completion"
   },
   {
    "id": "a42651dae3be4eeb86feb0da785e1bb0",
    "time": "2021-01-29T05:22:25.312Z",
    "type": "completion"
   },
   {
    "id": "f1d3e32b859d4faf97861c77258a5645",
    "time": "2021-01-29T05:22:25.435Z",
    "type": "completion"
   },
   {
    "id": "880c8de743dd4fa18f1d8accf29e6ae7",
    "time": "2021-01-29T05:22:25.441Z",
    "type": "completion"
   },
   {
    "id": "c8fef5943d7e48dd8605cc10a7187c24",
    "time": "2021-01-29T05:22:25.871Z",
    "type": "completion"
   },
   {
    "id": "745de5f270d5424b8e6b170e31f08162",
    "time": "2021-01-29T05:22:25.877Z",
    "type": "completion"
   },
   {
    "id": "023594bb5709488d9a4c008283b5ab01",
    "time": "2021-01-29T05:22:25.950Z",
    "type": "completion"
   },
   {
    "code": "def sample_and_plot(data):\n    data.plot.hist(\"score\")\n    return data[\"score\"].mean()",
    "id": "0356e26af4474c338ee30982c98e45e1",
    "idx": 12,
    "time": "2021-01-29T05:24:26.509Z",
    "type": "execution"
   },
   {
    "id": "0356e26af4474c338ee30982c98e45e1",
    "time": "2021-01-29T05:24:26.582Z",
    "type": "completion"
   },
   {
    "code": "def sample_and_plot(data, n=None):\n    if n is not None:\n        data = data.sample(n=n)\n    data.plot.hist(\"score\")\n    return data[\"score\"].mean()",
    "id": "0356e26af4474c338ee30982c98e45e1",
    "idx": 12,
    "time": "2021-01-29T05:25:12.052Z",
    "type": "execution"
   },
   {
    "id": "0356e26af4474c338ee30982c98e45e1",
    "time": "2021-01-29T05:25:12.129Z",
    "type": "completion"
   },
   {
    "code": "import itertools\nimport numpy as np\nimport pandas as pd\nnp.random.seed(42)",
    "id": "62ecc01678d549a38af9cd849956cbb1",
    "idx": 0,
    "time": "2021-01-29T05:27:11.188Z",
    "type": "execution"
   },
   {
    "code": "# first row\nn = 30\nm, s = 70, 10\np_61c = 0.2\np_before_end =  0.05\nfirst_row = (\n    n,  # number of students\n    np.random.normal(m, s, n) // 1, # scores array\n    np.ones(n).astype(bool), # in first row\n    np.random.choice([True, False], size=n, p=[p_61c, 1 - p_61c]), # is in 61c\n    np.random.choice([True, False], size=n, p=[p_before_end, 1 - p_before_end]), # turned in before end\n    # assign disc at end\n)\nfirst_row",
    "id": "9b5f438360804abeb743289f97ff13bc",
    "idx": 1,
    "time": "2021-01-29T05:27:11.192Z",
    "type": "execution"
   },
   {
    "code": "# turn in before end\nn = 112\nm, s = 82, 14\np_61c = 0.2\np_before_end = 1\nsecond_row = (\n    n,  # number of students\n    np.random.normal(m, s, n) // 1, # scores array\n    np.zeros(n).astype(bool), # in first row\n    np.random.choice([True, False], size=n, p=[p_61c, 1 - p_61c]), # is in 61c\n    np.random.choice([True, False], size=n, p=[p_before_end, 1 - p_before_end]), # turned in before end\n    # assign disc at end\n)\nsecond_row",
    "id": "6b1207662eb84edb8b18c2bdafca5277",
    "idx": 2,
    "time": "2021-01-29T05:27:11.193Z",
    "type": "execution"
   },
   {
    "code": "# everyone else\nn = 984\nm, s = 68, 20\np_61c = 0.01\np_before_end = 0\nthird_row = (\n    n,  # number of students\n    np.random.normal(m, s, n) // 1, # scores array\n    np.zeros(n).astype(bool), # in first row\n    np.random.choice([True, False], size=n, p=[p_61c, 1 - p_61c]), # is in 61c\n    np.random.choice([True, False], size=n, p=[p_before_end, 1 - p_before_end]), # turned in before end\n    # assign disc at end\n)\nthird_row",
    "id": "295d77ec32a44b6e96db3118f6164858",
    "idx": 3,
    "time": "2021-01-29T05:27:11.195Z",
    "type": "execution"
   },
   {
    "code": "rows = []\nfor tup in [first_row, second_row, third_row]:\n    for i in range(tup[0]):\n        rows.append([tup[1][i], tup[2][i], tup[3][i], tup[4][i]])\n\nrows[:5]",
    "id": "2235f962b11e419bad721936dbd7fdd8",
    "idx": 4,
    "time": "2021-01-29T05:27:11.196Z",
    "type": "execution"
   },
   {
    "code": "data = pd.DataFrame(rows, columns=[\"score\", \"first row\", \"61c\", \"early\"])\ndata = data.sample(frac=1)\ndata",
    "id": "a42651dae3be4eeb86feb0da785e1bb0",
    "idx": 5,
    "time": "2021-01-29T05:27:11.198Z",
    "type": "execution"
   },
   {
    "code": "discs = itertools.cycle(np.arange(1, 31))\ndata[\"discussion\"] = [next(discs) for _ in range(data.shape[0])]\ndata",
    "id": "f1d3e32b859d4faf97861c77258a5645",
    "idx": 7,
    "time": "2021-01-29T05:27:11.201Z",
    "type": "execution"
   },
   {
    "code": "data.hist(\"score\")",
    "id": "880c8de743dd4fa18f1d8accf29e6ae7",
    "idx": 8,
    "time": "2021-01-29T05:27:11.202Z",
    "type": "execution"
   },
   {
    "code": "data[data[\"61c\"]].hist(\"score\")",
    "id": "c8fef5943d7e48dd8605cc10a7187c24",
    "idx": 9,
    "time": "2021-01-29T05:27:11.203Z",
    "type": "execution"
   },
   {
    "code": "data[data[\"early\"]].hist(\"score\")",
    "id": "745de5f270d5424b8e6b170e31f08162",
    "idx": 10,
    "time": "2021-01-29T05:27:11.204Z",
    "type": "execution"
   },
   {
    "code": "data.groupby(\"discussion\").mean().plot.bar(y=\"score\")",
    "id": "023594bb5709488d9a4c008283b5ab01",
    "idx": 11,
    "time": "2021-01-29T05:27:11.206Z",
    "type": "execution"
   },
   {
    "code": "def sample_and_plot(data, n=None):\n    if n is not None:\n        data = data.sample(n=n)\n    data.plot.hist(\"score\")\n    return data[\"score\"].mean()",
    "id": "0356e26af4474c338ee30982c98e45e1",
    "idx": 13,
    "time": "2021-01-29T05:27:11.207Z",
    "type": "execution"
   },
   {
    "code": "# option A\ndata_A = ",
    "id": "d609d2e569bc47b18a6eff7c4da986fc",
    "idx": 14,
    "time": "2021-01-29T05:27:11.208Z",
    "type": "execution"
   },
   {
    "id": "62ecc01678d549a38af9cd849956cbb1",
    "time": "2021-01-29T05:27:11.255Z",
    "type": "completion"
   },
   {
    "id": "9b5f438360804abeb743289f97ff13bc",
    "time": "2021-01-29T05:27:11.322Z",
    "type": "completion"
   },
   {
    "id": "6b1207662eb84edb8b18c2bdafca5277",
    "time": "2021-01-29T05:27:11.327Z",
    "type": "completion"
   },
   {
    "id": "295d77ec32a44b6e96db3118f6164858",
    "time": "2021-01-29T05:27:11.427Z",
    "type": "completion"
   },
   {
    "id": "2235f962b11e419bad721936dbd7fdd8",
    "time": "2021-01-29T05:27:11.430Z",
    "type": "completion"
   },
   {
    "id": "a42651dae3be4eeb86feb0da785e1bb0",
    "time": "2021-01-29T05:27:11.471Z",
    "type": "completion"
   },
   {
    "id": "f1d3e32b859d4faf97861c77258a5645",
    "time": "2021-01-29T05:27:11.477Z",
    "type": "completion"
   },
   {
    "id": "880c8de743dd4fa18f1d8accf29e6ae7",
    "time": "2021-01-29T05:27:11.506Z",
    "type": "completion"
   },
   {
    "id": "c8fef5943d7e48dd8605cc10a7187c24",
    "time": "2021-01-29T05:27:11.787Z",
    "type": "completion"
   },
   {
    "id": "745de5f270d5424b8e6b170e31f08162",
    "time": "2021-01-29T05:27:11.933Z",
    "type": "completion"
   },
   {
    "id": "023594bb5709488d9a4c008283b5ab01",
    "time": "2021-01-29T05:27:12.280Z",
    "type": "completion"
   },
   {
    "id": "0356e26af4474c338ee30982c98e45e1",
    "time": "2021-01-29T05:27:12.281Z",
    "type": "completion"
   },
   {
    "id": "d609d2e569bc47b18a6eff7c4da986fc",
    "time": "2021-01-29T05:27:12.296Z",
    "type": "completion"
   },
   {
    "code": "data[data[\"first row\"]].hist(\"score\")",
    "id": "9296f766d7b74ae18cd7387bf07be4a4",
    "idx": 8,
    "time": "2021-01-29T05:27:23.336Z",
    "type": "execution"
   },
   {
    "id": "9296f766d7b74ae18cd7387bf07be4a4",
    "time": "2021-01-29T05:27:23.573Z",
    "type": "completion"
   },
   {
    "code": "# option A\ndata_A = data[data[\"first row\"]]\nsample_and_plot(data)",
    "id": "d609d2e569bc47b18a6eff7c4da986fc",
    "idx": 14,
    "time": "2021-01-29T05:27:43.564Z",
    "type": "execution"
   },
   {
    "id": "d609d2e569bc47b18a6eff7c4da986fc",
    "time": "2021-01-29T05:27:43.925Z",
    "type": "completion"
   },
   {
    "code": "# option A\ndata_A = data[data[\"first row\"]]\nsample_and_plot(data, n=10)",
    "id": "d609d2e569bc47b18a6eff7c4da986fc",
    "idx": 14,
    "time": "2021-01-29T05:27:49.902Z",
    "type": "execution"
   },
   {
    "id": "d609d2e569bc47b18a6eff7c4da986fc",
    "time": "2021-01-29T05:27:50.395Z",
    "type": "completion"
   },
   {
    "code": "# option A\nsample_size = 10\ndata_A = data[data[\"first row\"]]\nsample_and_plot(data, n=sample_size)",
    "id": "d609d2e569bc47b18a6eff7c4da986fc",
    "idx": 14,
    "time": "2021-01-29T05:28:02.386Z",
    "type": "execution"
   },
   {
    "id": "d609d2e569bc47b18a6eff7c4da986fc",
    "time": "2021-01-29T05:28:02.825Z",
    "type": "completion"
   },
   {
    "code": "# option A\nsample_size = 10\ndata_A = data[data[\"first row\"]]\nsample_and_plot(data_A, n=sample_size)",
    "id": "d609d2e569bc47b18a6eff7c4da986fc",
    "idx": 14,
    "time": "2021-01-29T05:28:11.048Z",
    "type": "execution"
   },
   {
    "id": "d609d2e569bc47b18a6eff7c4da986fc",
    "time": "2021-01-29T05:28:11.323Z",
    "type": "completion"
   },
   {
    "code": "# option B\nsample_size = 10\ndata_B = data[data[\"early\"]]\nsample_and_plot(data_B, n=sample_size)",
    "id": "54107e0f283649748ae7e8f237e32466",
    "idx": 15,
    "time": "2021-01-29T05:28:20.098Z",
    "type": "execution"
   },
   {
    "id": "54107e0f283649748ae7e8f237e32466",
    "time": "2021-01-29T05:28:20.431Z",
    "type": "completion"
   },
   {
    "code": "# option B\nsample_size = None\ndata_B = data[data[\"early\"]]\nsample_and_plot(data_B, n=sample_size)",
    "id": "54107e0f283649748ae7e8f237e32466",
    "idx": 15,
    "time": "2021-01-29T05:28:23.801Z",
    "type": "execution"
   },
   {
    "id": "54107e0f283649748ae7e8f237e32466",
    "time": "2021-01-29T05:28:24.454Z",
    "type": "completion"
   },
   {
    "code": "# option C\nsample_size = 40\ndata_C = data[data[\"61c\"]]\nsample_and_plot(data_C, n=sample_size)",
    "id": "5b9e3fef11814047a3f1821ef488eece",
    "idx": 16,
    "time": "2021-01-29T05:28:42.404Z",
    "type": "execution"
   },
   {
    "id": "5b9e3fef11814047a3f1821ef488eece",
    "time": "2021-01-29T05:28:42.938Z",
    "type": "completion"
   },
   {
    "code": "# option D\nsample_size = 5\nsampled_discussions = np.random.choice(data[\"discussion\"].unique(), replace=False, size=sample_size)\ndata_D = data[data[\"discussion\"].isin(sampled_discussions)]\nsample_and_plot(data_D)",
    "id": "2d593c593a4f4ae089d1f8cc756db020",
    "idx": 17,
    "time": "2021-01-29T05:29:52.729Z",
    "type": "execution"
   },
   {
    "id": "2d593c593a4f4ae089d1f8cc756db020",
    "time": "2021-01-29T05:29:53.037Z",
    "type": "completion"
   },
   {
    "code": "?data.groupby(\"discussion\").sample",
    "id": "b9c8921c160346fb9f326a44255cef76",
    "idx": 17,
    "time": "2021-01-29T05:31:20.963Z",
    "type": "execution"
   },
   {
    "id": "b9c8921c160346fb9f326a44255cef76",
    "time": "2021-01-29T05:31:21.045Z",
    "type": "completion"
   },
   {
    "code": "data.groupby(\"discussion\").sample",
    "id": "b9c8921c160346fb9f326a44255cef76",
    "idx": 17,
    "time": "2021-01-29T05:31:24.207Z",
    "type": "execution"
   },
   {
    "id": "b9c8921c160346fb9f326a44255cef76",
    "time": "2021-01-29T05:31:24.607Z",
    "type": "completion"
   },
   {
    "code": "data.groupby(\"discussion\").sample(n=4)",
    "id": "b9c8921c160346fb9f326a44255cef76",
    "idx": 17,
    "time": "2021-01-29T05:31:31.559Z",
    "type": "execution"
   },
   {
    "id": "b9c8921c160346fb9f326a44255cef76",
    "time": "2021-01-29T05:31:31.683Z",
    "type": "completion"
   },
   {
    "code": "# option D\nsample_size = 4\ndata_D = data.groupby(\"discussion\").sample(n=4)\nsample_and_plot(data_D)",
    "id": "7b8d5134084249668754ad5b1e501b11",
    "idx": 17,
    "time": "2021-01-29T05:31:53.191Z",
    "type": "execution"
   },
   {
    "id": "7b8d5134084249668754ad5b1e501b11",
    "time": "2021-01-29T05:31:53.542Z",
    "type": "completion"
   },
   {
    "code": "# option D\nsample_size = 4\ndata_D = data.groupby(\"discussion\").sample(n=sample_size)\nsample_and_plot(data_D)",
    "id": "7b8d5134084249668754ad5b1e501b11",
    "idx": 17,
    "time": "2021-01-29T05:32:06.639Z",
    "type": "execution"
   },
   {
    "id": "7b8d5134084249668754ad5b1e501b11",
    "time": "2021-01-29T05:32:07.135Z",
    "type": "completion"
   },
   {
    "code": "# actual value\ndata[\"score\"].mean()",
    "id": "1d383074bdeb4d9ea6b05f58f1716931",
    "idx": 19,
    "time": "2021-01-29T05:33:10.813Z",
    "type": "execution"
   },
   {
    "id": "1d383074bdeb4d9ea6b05f58f1716931",
    "time": "2021-01-29T05:33:10.883Z",
    "type": "completion"
   },
   {
    "code": "import itertools\nimport numpy as np\nimport pandas as pd\nimport matplotlib.pyplot as plt\n%matplotlib inline\nnp.random.seed(42)",
    "id": "62ecc01678d549a38af9cd849956cbb1",
    "idx": 0,
    "time": "2021-01-29T05:36:17.739Z",
    "type": "execution"
   },
   {
    "id": "62ecc01678d549a38af9cd849956cbb1",
    "time": "2021-01-29T05:36:17.820Z",
    "type": "completion"
   },
   {
    "code": "def sample_and_plot(data, n=None):\n    if n is not None:\n        data = data.sample(n=n)\n    plt.hist(data)\n    return data[\"score\"].mean()",
    "id": "0356e26af4474c338ee30982c98e45e1",
    "idx": 13,
    "time": "2021-01-29T05:36:29.636Z",
    "type": "execution"
   },
   {
    "id": "0356e26af4474c338ee30982c98e45e1",
    "time": "2021-01-29T05:36:29.718Z",
    "type": "completion"
   },
   {
    "code": "def sample_and_plot(data, n=None):\n    if n is not None:\n        data = data.sample(n=n)\n    plt.hist(data)\n    return data.mean()",
    "id": "0356e26af4474c338ee30982c98e45e1",
    "idx": 13,
    "time": "2021-01-29T05:36:32.541Z",
    "type": "execution"
   },
   {
    "id": "0356e26af4474c338ee30982c98e45e1",
    "time": "2021-01-29T05:36:32.621Z",
    "type": "completion"
   },
   {
    "code": "# option A\nreplications = 1000\nsample_size = 10\ndata_A = []\nfor _ in  range(replications):\n    scores = data[data[\"first row\"]].sample(n=sample_size)\n    data_A.append(scores[\"score\"].mean())\n\nsample_and_plot(data_A)",
    "id": "d609d2e569bc47b18a6eff7c4da986fc",
    "idx": 14,
    "time": "2021-01-29T05:37:03.380Z",
    "type": "execution"
   },
   {
    "id": "d609d2e569bc47b18a6eff7c4da986fc",
    "time": "2021-01-29T05:37:04.566Z",
    "type": "completion"
   },
   {
    "code": "def sample_and_plot(data, n=None):\n    if n is not None:\n        data = data.sample(n=n)\n    plt.hist(data)\n    return np.mean(data)",
    "id": "0356e26af4474c338ee30982c98e45e1",
    "idx": 13,
    "time": "2021-01-29T05:37:13.072Z",
    "type": "execution"
   },
   {
    "id": "0356e26af4474c338ee30982c98e45e1",
    "time": "2021-01-29T05:37:13.146Z",
    "type": "completion"
   },
   {
    "code": "# option A\nreplications = 1000\nsample_size = 10\ndata_A = []\nfor _ in  range(replications):\n    scores = data[data[\"first row\"]].sample(n=sample_size)\n    data_A.append(scores[\"score\"].mean())\n\nsample_and_plot(data_A)",
    "id": "d609d2e569bc47b18a6eff7c4da986fc",
    "idx": 14,
    "time": "2021-01-29T05:37:13.200Z",
    "type": "execution"
   },
   {
    "id": "d609d2e569bc47b18a6eff7c4da986fc",
    "time": "2021-01-29T05:37:14.297Z",
    "type": "completion"
   },
   {
    "code": "def sample_and_plot(data, n=None):\n    if n is not None:\n        data = data.sample(n=n)\n    plt.hist(data)\n    plt.xlabel(\"Exam Score\")\n    return np.mean(data)",
    "id": "0356e26af4474c338ee30982c98e45e1",
    "idx": 13,
    "time": "2021-01-29T05:37:27.670Z",
    "type": "execution"
   },
   {
    "id": "0356e26af4474c338ee30982c98e45e1",
    "time": "2021-01-29T05:37:27.780Z",
    "type": "completion"
   },
   {
    "code": "# option A\nreplications = 1000\nsample_size = 10\ndata_A = []\nfor _ in  range(replications):\n    scores = data[data[\"first row\"]].sample(n=sample_size)\n    data_A.append(scores[\"score\"].mean())\n\nsample_and_plot(data_A)",
    "id": "d609d2e569bc47b18a6eff7c4da986fc",
    "idx": 14,
    "time": "2021-01-29T05:37:28.200Z",
    "type": "execution"
   },
   {
    "id": "d609d2e569bc47b18a6eff7c4da986fc",
    "time": "2021-01-29T05:37:29.679Z",
    "type": "completion"
   },
   {
    "code": "# option B\ndata_B = data[data[\"early\"]]\nsample_and_plot(data_B[\"score\"])",
    "id": "54107e0f283649748ae7e8f237e32466",
    "idx": 15,
    "time": "2021-01-29T05:37:43.669Z",
    "type": "execution"
   },
   {
    "id": "54107e0f283649748ae7e8f237e32466",
    "time": "2021-01-29T05:37:43.947Z",
    "type": "completion"
   },
   {
    "code": "# option C\nreplications = 1000\nsample_size = 40\ndata_C = []\nfor _ in  range(replications):\n    scores = data[data[\"61c\"]].sample(n=sample_size)\n    data_C.append(scores[\"score\"].mean())\n\nsample_and_plot(data_C, n=sample_size)",
    "id": "5b9e3fef11814047a3f1821ef488eece",
    "idx": 16,
    "time": "2021-01-29T05:38:13.967Z",
    "type": "execution"
   },
   {
    "id": "5b9e3fef11814047a3f1821ef488eece",
    "time": "2021-01-29T05:38:14.938Z",
    "type": "completion"
   },
   {
    "code": "# option C\nreplications = 1000\nsample_size = 40\ndata_C = []\nfor _ in  range(replications):\n    scores = data[data[\"61c\"]].sample(n=sample_size)\n    data_C.append(scores[\"score\"].mean())\n\nsample_and_plot(data_C)",
    "id": "5b9e3fef11814047a3f1821ef488eece",
    "idx": 16,
    "time": "2021-01-29T05:38:22.283Z",
    "type": "execution"
   },
   {
    "id": "5b9e3fef11814047a3f1821ef488eece",
    "time": "2021-01-29T05:38:23.342Z",
    "type": "completion"
   },
   {
    "code": "# option C\nreplications = 1000\nsample_size = 10\ndata_C = []\nfor _ in  range(replications):\n    scores = data[data[\"61c\"]].sample(n=sample_size)\n    data_C.append(scores[\"score\"].mean())\n\nsample_and_plot(data_C)",
    "id": "5b9e3fef11814047a3f1821ef488eece",
    "idx": 16,
    "time": "2021-01-29T05:38:53.782Z",
    "type": "execution"
   },
   {
    "id": "5b9e3fef11814047a3f1821ef488eece",
    "time": "2021-01-29T05:38:54.925Z",
    "type": "completion"
   },
   {
    "code": "# option D\nreplications = 1000\nsample_size = 10\ndata_D = []\nfor _ in  range(replications):\n    scores = data.groupby(\"discussion\").sample(n=sample_size)\n    data_D.append(scores[\"score\"].mean())\n\nsample_and_plot(data_D[\"score\"])",
    "id": "7b8d5134084249668754ad5b1e501b11",
    "idx": 17,
    "time": "2021-01-29T05:39:20.463Z",
    "type": "execution"
   },
   {
    "id": "7b8d5134084249668754ad5b1e501b11",
    "time": "2021-01-29T05:39:34.663Z",
    "type": "completion"
   },
   {
    "code": "# option D\nreplications = 1000\nsample_size = 10\ndata_D = []\nfor _ in  range(replications):\n    scores = data.groupby(\"discussion\").sample(n=sample_size)\n    data_D.append(scores[\"score\"].mean())\n\nsample_and_plot(data_D)",
    "id": "7b8d5134084249668754ad5b1e501b11",
    "idx": 17,
    "time": "2021-01-29T05:39:42.510Z",
    "type": "execution"
   },
   {
    "id": "7b8d5134084249668754ad5b1e501b11",
    "time": "2021-01-29T05:39:56.868Z",
    "type": "completion"
   },
   {
    "code": "# option E\nreplications = 1000\nsample_size = 4\ndata_E = []\nfor _ in  range(replications):\n    sampled_discussions = np.random.choice(data[\"discussion\"].unique(), replace=False, size=sample_size)\n    scores = data[data[\"discussion\"].isin(sampled_discussions)]\n    data_E.append(scores[\"score\"].mean())\n\nsample_and_plot(data_E)",
    "id": "2d593c593a4f4ae089d1f8cc756db020",
    "idx": 18,
    "time": "2021-01-29T05:40:26.927Z",
    "type": "execution"
   },
   {
    "id": "2d593c593a4f4ae089d1f8cc756db020",
    "time": "2021-01-29T05:40:27.997Z",
    "type": "completion"
   },
   {
    "code": "means = {}",
    "id": "fee10363c2ec4ef1bc9320c4e9dccd76",
    "idx": 14,
    "time": "2021-01-29T05:40:49.930Z",
    "type": "execution"
   },
   {
    "id": "fee10363c2ec4ef1bc9320c4e9dccd76",
    "time": "2021-01-29T05:40:50.001Z",
    "type": "completion"
   },
   {
    "code": "# option A\nreplications = 1000\nsample_size = 10\ndata_A = []\nfor _ in  range(replications):\n    scores = data[data[\"first row\"]].sample(n=sample_size)\n    data_A.append(scores[\"score\"].mean())\n\nmeans[\"Asample_and_plot(data_A)",
    "id": "d609d2e569bc47b18a6eff7c4da986fc",
    "idx": 15,
    "time": "2021-01-29T05:40:56.831Z",
    "type": "execution"
   },
   {
    "id": "d609d2e569bc47b18a6eff7c4da986fc",
    "time": "2021-01-29T05:40:56.912Z",
    "type": "completion"
   },
   {
    "code": "# option A\nreplications = 1000\nsample_size = 10\ndata_A = []\nfor _ in  range(replications):\n    scores = data[data[\"first row\"]].sample(n=sample_size)\n    data_A.append(scores[\"score\"].mean())\n\nmeans[\"A\"] = sample_and_plot(data_A)\nmeans[\"A\"]",
    "id": "d609d2e569bc47b18a6eff7c4da986fc",
    "idx": 15,
    "time": "2021-01-29T05:41:03.562Z",
    "type": "execution"
   },
   {
    "id": "d609d2e569bc47b18a6eff7c4da986fc",
    "time": "2021-01-29T05:41:04.616Z",
    "type": "completion"
   },
   {
    "code": "# option B\ndata_B = data[data[\"early\"]]\nmeans[\"B\"] = sample_and_plot(data_B[\"score\"])\nmeans[\"B\"]",
    "id": "54107e0f283649748ae7e8f237e32466",
    "idx": 16,
    "time": "2021-01-29T05:41:15.150Z",
    "type": "execution"
   },
   {
    "id": "54107e0f283649748ae7e8f237e32466",
    "time": "2021-01-29T05:41:15.378Z",
    "type": "completion"
   },
   {
    "code": "# option C\nreplications = 1000\nsample_size = 10\ndata_C = []\nfor _ in  range(replications):\n    scores = data[data[\"61c\"]].sample(n=sample_size)\n    data_C.append(scores[\"score\"].mean())\n\nmeans[\"C\"] = sample_and_plot(data_C)\nmeans[\"C\"]",
    "id": "5b9e3fef11814047a3f1821ef488eece",
    "idx": 17,
    "time": "2021-01-29T05:41:23.002Z",
    "type": "execution"
   },
   {
    "id": "5b9e3fef11814047a3f1821ef488eece",
    "time": "2021-01-29T05:41:24.132Z",
    "type": "completion"
   },
   {
    "code": "# option D\nreplications = 1000\nsample_size = 10\ndata_D = []\nfor _ in  range(replications):\n    scores = data.groupby(\"discussion\").sample(n=sample_size)\n    data_D.append(scores[\"score\"].mean())\n\nmeans[\"D\"] = sample_and_plot(data_D)\nmeans[\"D\"]",
    "id": "7b8d5134084249668754ad5b1e501b11",
    "idx": 18,
    "time": "2021-01-29T05:41:29.945Z",
    "type": "execution"
   },
   {
    "code": "# option E\nreplications = 1000\nsample_size = 4\ndata_E = []\nfor _ in  range(replications):\n    sampled_discussions = np.random.choice(data[\"discussion\"].unique(), replace=False, size=sample_size)\n    scores = data[data[\"discussion\"].isin(sampled_discussions)]\n    data_E.append(scores[\"score\"].mean())\n\nmeans[\"E\"] = sample_and_plot(data_E)\nmeans[\"E\"]",
    "id": "2d593c593a4f4ae089d1f8cc756db020",
    "idx": 19,
    "time": "2021-01-29T05:41:38.703Z",
    "type": "execution"
   },
   {
    "code": "means",
    "id": "ad59967245344bca8431345134190f0f",
    "idx": 20,
    "time": "2021-01-29T05:41:41.625Z",
    "type": "execution"
   },
   {
    "id": "7b8d5134084249668754ad5b1e501b11",
    "time": "2021-01-29T05:41:44.756Z",
    "type": "completion"
   },
   {
    "id": "2d593c593a4f4ae089d1f8cc756db020",
    "time": "2021-01-29T05:41:45.746Z",
    "type": "completion"
   },
   {
    "id": "ad59967245344bca8431345134190f0f",
    "time": "2021-01-29T05:41:45.752Z",
    "type": "completion"
   },
   {
    "code": "# actual value\ndata[\"score\"].mean()",
    "id": "1d383074bdeb4d9ea6b05f58f1716931",
    "idx": 21,
    "time": "2021-01-29T05:41:54.976Z",
    "type": "execution"
   },
   {
    "id": "1d383074bdeb4d9ea6b05f58f1716931",
    "time": "2021-01-29T05:41:55.043Z",
    "type": "completion"
   },
   {
    "code": "data.groupby(\"discussion\").mean().plot.bar(y=\"score\");",
    "id": "023594bb5709488d9a4c008283b5ab01",
    "idx": 11,
    "time": "2021-01-29T06:02:21.426Z",
    "type": "execution"
   },
   {
    "id": "023594bb5709488d9a4c008283b5ab01",
    "time": "2021-01-29T06:02:21.835Z",
    "type": "completion"
   },
   {
    "code": "data.groupby(\"discussion\").mean().plot.bar(y=\"score\")",
    "id": "023594bb5709488d9a4c008283b5ab01",
    "idx": 11,
    "time": "2021-01-29T06:02:32.699Z",
    "type": "execution"
   },
   {
    "id": "023594bb5709488d9a4c008283b5ab01",
    "time": "2021-01-29T06:02:33.340Z",
    "type": "completion"
   },
   {
    "code": "def sample_and_plot(data):\n    plt.hist(data)\n    plt.xlabel(\"Exam Score\")\n    return np.mean(data)",
    "id": "0356e26af4474c338ee30982c98e45e1",
    "idx": 13,
    "time": "2021-01-29T06:41:41.133Z",
    "type": "execution"
   },
   {
    "code": "means = {}",
    "id": "fee10363c2ec4ef1bc9320c4e9dccd76",
    "idx": 14,
    "time": "2021-01-29T06:41:41.324Z",
    "type": "execution"
   },
   {
    "id": "0356e26af4474c338ee30982c98e45e1",
    "time": "2021-01-29T06:41:41.348Z",
    "type": "completion"
   },
   {
    "id": "fee10363c2ec4ef1bc9320c4e9dccd76",
    "time": "2021-01-29T06:41:41.429Z",
    "type": "completion"
   },
   {
    "code": "# option A\nreplications = 1000\nsample_size = 10\ndata_A = []\nfor _ in  range(replications):\n    scores = data[data[\"first row\"]].sample(n=sample_size)\n    data_A.append(scores[\"score\"].mean())\n\nmeans[\"A\"] = sample_and_plot(data_A)\nmeans[\"A\"]",
    "id": "d609d2e569bc47b18a6eff7c4da986fc",
    "idx": 15,
    "time": "2021-01-29T06:41:41.477Z",
    "type": "execution"
   },
   {
    "code": "# option B\ndata_B = data[data[\"early\"]]\nmeans[\"B\"] = sample_and_plot(data_B[\"score\"])\nmeans[\"B\"]",
    "id": "54107e0f283649748ae7e8f237e32466",
    "idx": 16,
    "time": "2021-01-29T06:41:41.621Z",
    "type": "execution"
   },
   {
    "code": "# option C\nreplications = 1000\nsample_size = 10\ndata_C = []\nfor _ in  range(replications):\n    scores = data[data[\"61c\"]].sample(n=sample_size)\n    data_C.append(scores[\"score\"].mean())\n\nmeans[\"C\"] = sample_and_plot(data_C)\nmeans[\"C\"]",
    "id": "5b9e3fef11814047a3f1821ef488eece",
    "idx": 17,
    "time": "2021-01-29T06:41:41.773Z",
    "type": "execution"
   },
   {
    "code": "# option D\nreplications = 1000\nsample_size = 10\ndata_D = []\nfor _ in  range(replications):\n    scores = data.groupby(\"discussion\").sample(n=sample_size)\n    data_D.append(scores[\"score\"].mean())\n\nmeans[\"D\"] = sample_and_plot(data_D)\nmeans[\"D\"]",
    "id": "7b8d5134084249668754ad5b1e501b11",
    "idx": 18,
    "time": "2021-01-29T06:41:41.933Z",
    "type": "execution"
   },
   {
    "code": "# option E\nreplications = 1000\nsample_size = 4\ndata_E = []\nfor _ in  range(replications):\n    sampled_discussions = np.random.choice(data[\"discussion\"].unique(), replace=False, size=sample_size)\n    scores = data[data[\"discussion\"].isin(sampled_discussions)]\n    data_E.append(scores[\"score\"].mean())\n\nmeans[\"E\"] = sample_and_plot(data_E)\nmeans[\"E\"]",
    "id": "2d593c593a4f4ae089d1f8cc756db020",
    "idx": 19,
    "time": "2021-01-29T06:41:42.089Z",
    "type": "execution"
   },
   {
    "code": "# summary of sampling processes\nmeans",
    "id": "ad59967245344bca8431345134190f0f",
    "idx": 20,
    "time": "2021-01-29T06:41:42.243Z",
    "type": "execution"
   },
   {
    "code": "# actual value\ndata[\"score\"].mean()",
    "id": "1d383074bdeb4d9ea6b05f58f1716931",
    "idx": 21,
    "time": "2021-01-29T06:41:42.405Z",
    "type": "execution"
   },
   {
    "id": "d609d2e569bc47b18a6eff7c4da986fc",
    "time": "2021-01-29T06:41:43.177Z",
    "type": "completion"
   },
   {
    "id": "54107e0f283649748ae7e8f237e32466",
    "time": "2021-01-29T06:41:43.468Z",
    "type": "completion"
   },
   {
    "id": "5b9e3fef11814047a3f1821ef488eece",
    "time": "2021-01-29T06:41:44.527Z",
    "type": "completion"
   },
   {
    "id": "7b8d5134084249668754ad5b1e501b11",
    "time": "2021-01-29T06:42:00.128Z",
    "type": "completion"
   },
   {
    "id": "2d593c593a4f4ae089d1f8cc756db020",
    "time": "2021-01-29T06:42:01.220Z",
    "type": "completion"
   },
   {
    "id": "ad59967245344bca8431345134190f0f",
    "time": "2021-01-29T06:42:01.301Z",
    "type": "completion"
   },
   {
    "id": "1d383074bdeb4d9ea6b05f58f1716931",
    "time": "2021-01-29T06:42:01.304Z",
    "type": "completion"
   },
   {
    "code": "# actual value\nactual_mean = data[\"score\"].mean()\nactual_mean",
    "id": "1d383074bdeb4d9ea6b05f58f1716931",
    "idx": 20,
    "time": "2021-01-29T06:42:52.974Z",
    "type": "execution"
   },
   {
    "id": "1d383074bdeb4d9ea6b05f58f1716931",
    "time": "2021-01-29T06:42:53.327Z",
    "type": "completion"
   },
   {
    "code": "# summary of sampling processes\nfor option, mean in means.items():\n    print(f\"Option {option}: Mean = {mean}, Bias = {mean - actual_mean}\")",
    "id": "ad59967245344bca8431345134190f0f",
    "idx": 21,
    "time": "2021-01-29T06:42:58.872Z",
    "type": "execution"
   },
   {
    "id": "ad59967245344bca8431345134190f0f",
    "time": "2021-01-29T06:42:58.956Z",
    "type": "completion"
   },
   {
    "code": "# summary of sampling processes\nfor option, mean in means.items():\n    print(f\"Option {option}: Mean = {mean:.4f}\\tBias = {(mean - actual_mean):.4f}\")",
    "id": "ad59967245344bca8431345134190f0f",
    "idx": 21,
    "time": "2021-01-29T06:43:20.779Z",
    "type": "execution"
   },
   {
    "id": "ad59967245344bca8431345134190f0f",
    "time": "2021-01-29T06:43:20.870Z",
    "type": "completion"
   },
   {
    "code": "# summary of sampling processes\nfor option, mean in means.items():\n    print(f\"Option {option}: Mean = {mean:.4f}   Bias = {(mean - actual_mean):.4f}\")",
    "id": "ad59967245344bca8431345134190f0f",
    "idx": 21,
    "time": "2021-01-29T06:43:25.087Z",
    "type": "execution"
   },
   {
    "id": "ad59967245344bca8431345134190f0f",
    "time": "2021-01-29T06:43:25.175Z",
    "type": "completion"
   },
   {
    "code": "# summary of sampling processes\nfor option, mean in means.items():\n    print(f\"Option {option}:   Mean = {mean:.4f}   Bias = {(mean - actual_mean):.4f}\")",
    "id": "ad59967245344bca8431345134190f0f",
    "idx": 21,
    "time": "2021-01-29T06:43:28.357Z",
    "type": "execution"
   },
   {
    "id": "ad59967245344bca8431345134190f0f",
    "time": "2021-01-29T06:43:28.438Z",
    "type": "completion"
   },
   {
    "code": "# summary of sampling processes\nactual_mean = data[\"score\"].mean()\nprint(f\"Actual Mean: {actual_mean:.4f}\")\nfor option, mean in means.items():\n    print(f\"Option {option}:   Mean = {mean:.4f}   Bias = {(mean - actual_mean):.4f}\")",
    "id": "ad59967245344bca8431345134190f0f",
    "idx": 20,
    "time": "2021-01-29T06:44:03.989Z",
    "type": "execution"
   },
   {
    "id": "ad59967245344bca8431345134190f0f",
    "time": "2021-01-29T06:44:04.085Z",
    "type": "completion"
   },
   {
    "code": "# summary of sampling processes\nactual_mean = data[\"score\"].mean()\nprint(f\"Actual Mean: {actual_mean:.4f}\")\nfor option, mean in means.items():\n    print(\n        f\"Option {option}:   Mean = {mean:.4f}   Bias = {(mean - actual_mean):.4f}\"\n        f\"{'   OPTIMAL' if option == 'C' else ''}\"\n    )",
    "id": "ad59967245344bca8431345134190f0f",
    "idx": 20,
    "time": "2021-01-29T06:45:24.615Z",
    "type": "execution"
   },
   {
    "id": "ad59967245344bca8431345134190f0f",
    "time": "2021-01-29T06:45:24.713Z",
    "type": "completion"
   },
   {
    "code": "# summary of sampling processes\nactual_mean = data[\"score\"].mean()\nprint(f\"Actual Mean: {actual_mean:.4f}\")\nfor option, mean in means.items():\n    print(\n        f\"Option {option}:   Mean = {mean:.4f}   Bias = {(mean - actual_mean):.4f}\"\n        f\"{'   (OPTIMAL)' if option == 'D' else ''}\"\n    )",
    "id": "ad59967245344bca8431345134190f0f",
    "idx": 20,
    "time": "2021-01-29T06:45:33.840Z",
    "type": "execution"
   },
   {
    "id": "ad59967245344bca8431345134190f0f",
    "time": "2021-01-29T06:45:33.915Z",
    "type": "completion"
   },
   {
    "code": "# summary of sampling processes\nactual_mean = data[\"score\"].mean()\nprint(f\"Actual Mean: {actual_mean:.4f}\")\nfor option, mean in means.items():\n    print(\n        f\"Option {option}:   Mean = {mean:.4f}   Bias = {(mean - actual_mean):.4f}\"\n        f\"{'   (THEORETICALLY OPTIMAL)' if option == 'D' else ''}\"\n    )",
    "id": "ad59967245344bca8431345134190f0f",
    "idx": 20,
    "time": "2021-01-29T06:45:43.475Z",
    "type": "execution"
   },
   {
    "id": "ad59967245344bca8431345134190f0f",
    "time": "2021-01-29T06:45:43.558Z",
    "type": "completion"
   },
   {
    "code": "import itertools\nimport numpy as np\nimport pandas as pd\nimport matplotlib.pyplot as plt\n%matplotlib inline\nnp.random.seed(42)",
    "id": "62ecc01678d549a38af9cd849956cbb1",
    "idx": 0,
    "time": "2021-01-29T06:46:50.530Z",
    "type": "execution"
   },
   {
    "code": "# first row\nn = 30\nm, s = 70, 10\np_61c = 0.2\np_before_end =  0.05\nfirst_row = (\n    n,  # number of students\n    np.random.normal(m, s, n) // 1, # scores array\n    np.ones(n).astype(bool), # in first row\n    np.random.choice([True, False], size=n, p=[p_61c, 1 - p_61c]), # is in 61c\n    np.random.choice([True, False], size=n, p=[p_before_end, 1 - p_before_end]), # turned in before end\n    # assign disc at end\n)\nfirst_row",
    "id": "9b5f438360804abeb743289f97ff13bc",
    "idx": 1,
    "time": "2021-01-29T06:46:50.534Z",
    "type": "execution"
   },
   {
    "code": "# turn in before end\nn = 112\nm, s = 82, 14\np_61c = 0.2\np_before_end = 1\nsecond_row = (\n    n,  # number of students\n    np.random.normal(m, s, n) // 1, # scores array\n    np.zeros(n).astype(bool), # in first row\n    np.random.choice([True, False], size=n, p=[p_61c, 1 - p_61c]), # is in 61c\n    np.random.choice([True, False], size=n, p=[p_before_end, 1 - p_before_end]), # turned in before end\n    # assign disc at end\n)\nsecond_row",
    "id": "6b1207662eb84edb8b18c2bdafca5277",
    "idx": 2,
    "time": "2021-01-29T06:46:50.535Z",
    "type": "execution"
   },
   {
    "code": "# everyone else\nn = 984\nm, s = 68, 30\np_61c = 0.01\np_before_end = 0\nthird_row = (\n    n,  # number of students\n    np.random.normal(m, s, n) // 1, # scores array\n    np.zeros(n).astype(bool), # in first row\n    np.random.choice([True, False], size=n, p=[p_61c, 1 - p_61c]), # is in 61c\n    np.random.choice([True, False], size=n, p=[p_before_end, 1 - p_before_end]), # turned in before end\n    # assign disc at end\n)\nthird_row",
    "id": "295d77ec32a44b6e96db3118f6164858",
    "idx": 3,
    "time": "2021-01-29T06:46:50.536Z",
    "type": "execution"
   },
   {
    "code": "rows = []\nfor tup in [first_row, second_row, third_row]:\n    for i in range(tup[0]):\n        rows.append([tup[1][i], tup[2][i], tup[3][i], tup[4][i]])\n\nrows[:5]",
    "id": "2235f962b11e419bad721936dbd7fdd8",
    "idx": 4,
    "time": "2021-01-29T06:46:50.537Z",
    "type": "execution"
   },
   {
    "code": "data = pd.DataFrame(rows, columns=[\"score\", \"first row\", \"61c\", \"early\"])\ndata = data.sample(frac=1)\ndata",
    "id": "a42651dae3be4eeb86feb0da785e1bb0",
    "idx": 5,
    "time": "2021-01-29T06:46:50.539Z",
    "type": "execution"
   },
   {
    "code": "discs = itertools.cycle(np.arange(1, 31))\ndata[\"discussion\"] = [next(discs) for _ in range(data.shape[0])]\ndata",
    "id": "f1d3e32b859d4faf97861c77258a5645",
    "idx": 6,
    "time": "2021-01-29T06:46:50.540Z",
    "type": "execution"
   },
   {
    "code": "data.hist(\"score\")",
    "id": "880c8de743dd4fa18f1d8accf29e6ae7",
    "idx": 7,
    "time": "2021-01-29T06:46:50.541Z",
    "type": "execution"
   },
   {
    "code": "data[data[\"first row\"]].hist(\"score\")",
    "id": "9296f766d7b74ae18cd7387bf07be4a4",
    "idx": 8,
    "time": "2021-01-29T06:46:50.542Z",
    "type": "execution"
   },
   {
    "code": "data[data[\"61c\"]].hist(\"score\")",
    "id": "c8fef5943d7e48dd8605cc10a7187c24",
    "idx": 9,
    "time": "2021-01-29T06:46:50.543Z",
    "type": "execution"
   },
   {
    "code": "data[data[\"early\"]].hist(\"score\")",
    "id": "745de5f270d5424b8e6b170e31f08162",
    "idx": 10,
    "time": "2021-01-29T06:46:50.544Z",
    "type": "execution"
   },
   {
    "code": "data.groupby(\"discussion\").mean().plot.bar(y=\"score\")",
    "id": "023594bb5709488d9a4c008283b5ab01",
    "idx": 11,
    "time": "2021-01-29T06:46:50.545Z",
    "type": "execution"
   },
   {
    "code": "def sample_and_plot(data):\n    plt.hist(data)\n    plt.xlabel(\"Exam Score\")\n    return np.mean(data)",
    "id": "0356e26af4474c338ee30982c98e45e1",
    "idx": 13,
    "time": "2021-01-29T06:46:50.546Z",
    "type": "execution"
   },
   {
    "code": "means = {}",
    "id": "fee10363c2ec4ef1bc9320c4e9dccd76",
    "idx": 14,
    "time": "2021-01-29T06:46:50.547Z",
    "type": "execution"
   },
   {
    "code": "# option A\nreplications = 1000\nsample_size = 10\ndata_A = []\nfor _ in  range(replications):\n    scores = data[data[\"first row\"]].sample(n=sample_size)\n    data_A.append(scores[\"score\"].mean())\n\nmeans[\"A\"] = sample_and_plot(data_A)\nmeans[\"A\"]",
    "id": "d609d2e569bc47b18a6eff7c4da986fc",
    "idx": 15,
    "time": "2021-01-29T06:46:50.549Z",
    "type": "execution"
   },
   {
    "code": "# option B\ndata_B = data[data[\"early\"]]\nmeans[\"B\"] = sample_and_plot(data_B[\"score\"])\nmeans[\"B\"]",
    "id": "54107e0f283649748ae7e8f237e32466",
    "idx": 16,
    "time": "2021-01-29T06:46:50.550Z",
    "type": "execution"
   },
   {
    "code": "# option C\nreplications = 1000\nsample_size = 10\ndata_C = []\nfor _ in  range(replications):\n    scores = data[data[\"61c\"]].sample(n=sample_size)\n    data_C.append(scores[\"score\"].mean())\n\nmeans[\"C\"] = sample_and_plot(data_C)\nmeans[\"C\"]",
    "id": "5b9e3fef11814047a3f1821ef488eece",
    "idx": 17,
    "time": "2021-01-29T06:46:50.551Z",
    "type": "execution"
   },
   {
    "code": "# option D\nreplications = 1000\nsample_size = 10\ndata_D = []\nfor _ in  range(replications):\n    scores = data.groupby(\"discussion\").sample(n=sample_size)\n    data_D.append(scores[\"score\"].mean())\n\nmeans[\"D\"] = sample_and_plot(data_D)\nmeans[\"D\"]",
    "id": "7b8d5134084249668754ad5b1e501b11",
    "idx": 18,
    "time": "2021-01-29T06:46:50.552Z",
    "type": "execution"
   },
   {
    "code": "# option E\nreplications = 1000\nsample_size = 4\ndata_E = []\nfor _ in  range(replications):\n    sampled_discussions = np.random.choice(data[\"discussion\"].unique(), replace=False, size=sample_size)\n    scores = data[data[\"discussion\"].isin(sampled_discussions)]\n    data_E.append(scores[\"score\"].mean())\n\nmeans[\"E\"] = sample_and_plot(data_E)\nmeans[\"E\"]",
    "id": "2d593c593a4f4ae089d1f8cc756db020",
    "idx": 19,
    "time": "2021-01-29T06:46:50.553Z",
    "type": "execution"
   },
   {
    "code": "# summary of sampling processes\nactual_mean = data[\"score\"].mean()\nprint(f\"Actual Mean: {actual_mean:.4f}\")\nfor option, mean in means.items():\n    print(\n        f\"Option {option}:   Mean = {mean:.4f}   Bias = {(mean - actual_mean):.4f}\"\n        f\"{'   (THEORETICALLY OPTIMAL)' if option == 'D' else ''}\"\n    )",
    "id": "ad59967245344bca8431345134190f0f",
    "idx": 20,
    "time": "2021-01-29T06:46:50.554Z",
    "type": "execution"
   },
   {
    "id": "62ecc01678d549a38af9cd849956cbb1",
    "time": "2021-01-29T06:46:50.608Z",
    "type": "completion"
   },
   {
    "id": "9b5f438360804abeb743289f97ff13bc",
    "time": "2021-01-29T06:46:50.618Z",
    "type": "completion"
   },
   {
    "id": "6b1207662eb84edb8b18c2bdafca5277",
    "time": "2021-01-29T06:46:50.778Z",
    "type": "completion"
   },
   {
    "id": "295d77ec32a44b6e96db3118f6164858",
    "time": "2021-01-29T06:46:50.923Z",
    "type": "completion"
   },
   {
    "id": "2235f962b11e419bad721936dbd7fdd8",
    "time": "2021-01-29T06:46:50.984Z",
    "type": "completion"
   },
   {
    "id": "a42651dae3be4eeb86feb0da785e1bb0",
    "time": "2021-01-29T06:46:50.992Z",
    "type": "completion"
   },
   {
    "id": "f1d3e32b859d4faf97861c77258a5645",
    "time": "2021-01-29T06:46:51.010Z",
    "type": "completion"
   },
   {
    "id": "880c8de743dd4fa18f1d8accf29e6ae7",
    "time": "2021-01-29T06:46:51.061Z",
    "type": "completion"
   },
   {
    "id": "9296f766d7b74ae18cd7387bf07be4a4",
    "time": "2021-01-29T06:46:51.103Z",
    "type": "completion"
   },
   {
    "id": "c8fef5943d7e48dd8605cc10a7187c24",
    "time": "2021-01-29T06:46:51.255Z",
    "type": "completion"
   },
   {
    "id": "745de5f270d5424b8e6b170e31f08162",
    "time": "2021-01-29T06:46:51.411Z",
    "type": "completion"
   },
   {
    "id": "023594bb5709488d9a4c008283b5ab01",
    "time": "2021-01-29T06:46:51.726Z",
    "type": "completion"
   },
   {
    "id": "0356e26af4474c338ee30982c98e45e1",
    "time": "2021-01-29T06:46:51.778Z",
    "type": "completion"
   },
   {
    "id": "fee10363c2ec4ef1bc9320c4e9dccd76",
    "time": "2021-01-29T06:46:52.668Z",
    "type": "completion"
   },
   {
    "id": "d609d2e569bc47b18a6eff7c4da986fc",
    "time": "2021-01-29T06:46:52.867Z",
    "type": "completion"
   },
   {
    "id": "54107e0f283649748ae7e8f237e32466",
    "time": "2021-01-29T06:46:53.017Z",
    "type": "completion"
   },
   {
    "id": "5b9e3fef11814047a3f1821ef488eece",
    "time": "2021-01-29T06:46:54.159Z",
    "type": "completion"
   },
   {
    "id": "7b8d5134084249668754ad5b1e501b11",
    "time": "2021-01-29T06:47:08.676Z",
    "type": "completion"
   },
   {
    "id": "2d593c593a4f4ae089d1f8cc756db020",
    "time": "2021-01-29T06:47:09.662Z",
    "type": "completion"
   },
   {
    "id": "ad59967245344bca8431345134190f0f",
    "time": "2021-01-29T06:47:09.729Z",
    "type": "completion"
   },
   {
    "code": "# option D\nreplications = 1000\nsample_size = 10\ngrouped_data = data.groupby(\"discussion\")\ndata_D = []\nfor _ in  range(replications):\n    scores = grouped_data.sample(n=sample_size)\n    data_D.append(scores[\"score\"].mean())\n\nmeans[\"D\"] = sample_and_plot(data_D)\nmeans[\"D\"]",
    "id": "7b8d5134084249668754ad5b1e501b11",
    "idx": 18,
    "time": "2021-01-29T06:47:24.399Z",
    "type": "execution"
   },
   {
    "id": "7b8d5134084249668754ad5b1e501b11",
    "time": "2021-01-29T06:47:39.113Z",
    "type": "completion"
   },
   {
    "code": "# summary of sampling processes\nactual_mean = data[\"score\"].mean()\nprint(f\"Actual Mean: {actual_mean:.4f}\")\nfor option, mean in means.items():\n    print(\n        f\"Option {option}:   Mean = {mean:.4f}   Bias = {(mean - actual_mean):.4f}\"\n        f\"{'   (THEORETICALLY OPTIMAL)' if option == 'D' else ''}\"\n    )",
    "id": "ad59967245344bca8431345134190f0f",
    "idx": 20,
    "time": "2021-01-29T06:47:40.552Z",
    "type": "execution"
   },
   {
    "id": "ad59967245344bca8431345134190f0f",
    "time": "2021-01-29T06:47:40.622Z",
    "type": "completion"
   },
   {
    "code": "import itertools\nimport numpy as np\nimport pandas as pd\nimport matplotlib.pyplot as plt\n%matplotlib inline\nnp.random.seed(42)",
    "id": "62ecc01678d549a38af9cd849956cbb1",
    "idx": 0,
    "time": "2021-01-29T06:47:52.081Z",
    "type": "execution"
   },
   {
    "code": "# first row\nn = 30\nm, s = 70, 10\np_61c = 0.2\np_before_end =  0.05\nfirst_row = (\n    n,  # number of students\n    np.random.normal(m, s, n) // 1, # scores array\n    np.ones(n).astype(bool), # in first row\n    np.random.choice([True, False], size=n, p=[p_61c, 1 - p_61c]), # is in 61c\n    np.random.choice([True, False], size=n, p=[p_before_end, 1 - p_before_end]), # turned in before end\n    # assign disc at end\n)\nfirst_row",
    "id": "9b5f438360804abeb743289f97ff13bc",
    "idx": 1,
    "time": "2021-01-29T06:47:52.084Z",
    "type": "execution"
   },
   {
    "code": "# turn in before end\nn = 112\nm, s = 82, 14\np_61c = 0.2\np_before_end = 1\nsecond_row = (\n    n,  # number of students\n    np.random.normal(m, s, n) // 1, # scores array\n    np.zeros(n).astype(bool), # in first row\n    np.random.choice([True, False], size=n, p=[p_61c, 1 - p_61c]), # is in 61c\n    np.random.choice([True, False], size=n, p=[p_before_end, 1 - p_before_end]), # turned in before end\n    # assign disc at end\n)\nsecond_row",
    "id": "6b1207662eb84edb8b18c2bdafca5277",
    "idx": 2,
    "time": "2021-01-29T06:47:52.086Z",
    "type": "execution"
   },
   {
    "code": "# everyone else\nn = 984\nm, s = 68, 30\np_61c = 0.01\np_before_end = 0\nthird_row = (\n    n,  # number of students\n    np.random.normal(m, s, n) // 1, # scores array\n    np.zeros(n).astype(bool), # in first row\n    np.random.choice([True, False], size=n, p=[p_61c, 1 - p_61c]), # is in 61c\n    np.random.choice([True, False], size=n, p=[p_before_end, 1 - p_before_end]), # turned in before end\n    # assign disc at end\n)\nthird_row",
    "id": "295d77ec32a44b6e96db3118f6164858",
    "idx": 3,
    "time": "2021-01-29T06:47:52.087Z",
    "type": "execution"
   },
   {
    "code": "rows = []\nfor tup in [first_row, second_row, third_row]:\n    for i in range(tup[0]):\n        rows.append([tup[1][i], tup[2][i], tup[3][i], tup[4][i]])\n\nrows[:5]",
    "id": "2235f962b11e419bad721936dbd7fdd8",
    "idx": 4,
    "time": "2021-01-29T06:47:52.088Z",
    "type": "execution"
   },
   {
    "code": "data = pd.DataFrame(rows, columns=[\"score\", \"first row\", \"61c\", \"early\"])\ndata = data.sample(frac=1)\ndata",
    "id": "a42651dae3be4eeb86feb0da785e1bb0",
    "idx": 5,
    "time": "2021-01-29T06:47:52.091Z",
    "type": "execution"
   },
   {
    "code": "discs = itertools.cycle(np.arange(1, 31))\ndata[\"discussion\"] = [next(discs) for _ in range(data.shape[0])]\ndata",
    "id": "f1d3e32b859d4faf97861c77258a5645",
    "idx": 6,
    "time": "2021-01-29T06:47:52.092Z",
    "type": "execution"
   },
   {
    "code": "data.hist(\"score\")",
    "id": "880c8de743dd4fa18f1d8accf29e6ae7",
    "idx": 7,
    "time": "2021-01-29T06:47:52.093Z",
    "type": "execution"
   },
   {
    "code": "data[data[\"first row\"]].hist(\"score\")",
    "id": "9296f766d7b74ae18cd7387bf07be4a4",
    "idx": 8,
    "time": "2021-01-29T06:47:52.094Z",
    "type": "execution"
   },
   {
    "code": "data[data[\"61c\"]].hist(\"score\")",
    "id": "c8fef5943d7e48dd8605cc10a7187c24",
    "idx": 9,
    "time": "2021-01-29T06:47:52.095Z",
    "type": "execution"
   },
   {
    "code": "data[data[\"early\"]].hist(\"score\")",
    "id": "745de5f270d5424b8e6b170e31f08162",
    "idx": 10,
    "time": "2021-01-29T06:47:52.096Z",
    "type": "execution"
   },
   {
    "code": "data.groupby(\"discussion\").mean().plot.bar(y=\"score\")",
    "id": "023594bb5709488d9a4c008283b5ab01",
    "idx": 11,
    "time": "2021-01-29T06:47:52.097Z",
    "type": "execution"
   },
   {
    "code": "def sample_and_plot(data):\n    plt.hist(data)\n    plt.xlabel(\"Exam Score\")\n    return np.mean(data)",
    "id": "0356e26af4474c338ee30982c98e45e1",
    "idx": 13,
    "time": "2021-01-29T06:47:52.098Z",
    "type": "execution"
   },
   {
    "code": "means = {}",
    "id": "fee10363c2ec4ef1bc9320c4e9dccd76",
    "idx": 14,
    "time": "2021-01-29T06:47:52.099Z",
    "type": "execution"
   },
   {
    "code": "# option A\nreplications = 1000\nsample_size = 10\ndata_A = []\nfor _ in  range(replications):\n    scores = data[data[\"first row\"]].sample(n=sample_size)\n    data_A.append(scores[\"score\"].mean())\n\nmeans[\"A\"] = sample_and_plot(data_A)\nmeans[\"A\"]",
    "id": "d609d2e569bc47b18a6eff7c4da986fc",
    "idx": 15,
    "time": "2021-01-29T06:47:52.100Z",
    "type": "execution"
   },
   {
    "code": "# option B\ndata_B = data[data[\"early\"]]\nmeans[\"B\"] = sample_and_plot(data_B[\"score\"])\nmeans[\"B\"]",
    "id": "54107e0f283649748ae7e8f237e32466",
    "idx": 16,
    "time": "2021-01-29T06:47:52.101Z",
    "type": "execution"
   },
   {
    "code": "# option C\nreplications = 1000\nsample_size = 10\ndata_C = []\nfor _ in  range(replications):\n    scores = data[data[\"61c\"]].sample(n=sample_size)\n    data_C.append(scores[\"score\"].mean())\n\nmeans[\"C\"] = sample_and_plot(data_C)\nmeans[\"C\"]",
    "id": "5b9e3fef11814047a3f1821ef488eece",
    "idx": 17,
    "time": "2021-01-29T06:47:52.102Z",
    "type": "execution"
   },
   {
    "code": "# option D\nreplications = 1000\nsample_size = 10\ndata_D = []\nfor _ in  range(replications):\n    scores = data.groupby(\"discussion\").sample(n=sample_size)\n    data_D.append(scores[\"score\"].mean())\n\nmeans[\"D\"] = sample_and_plot(data_D)\nmeans[\"D\"]",
    "id": "7b8d5134084249668754ad5b1e501b11",
    "idx": 18,
    "time": "2021-01-29T06:47:52.103Z",
    "type": "execution"
   },
   {
    "code": "# option E\nreplications = 1000\nsample_size = 4\ndata_E = []\nfor _ in  range(replications):\n    sampled_discussions = np.random.choice(data[\"discussion\"].unique(), replace=False, size=sample_size)\n    scores = data[data[\"discussion\"].isin(sampled_discussions)]\n    data_E.append(scores[\"score\"].mean())\n\nmeans[\"E\"] = sample_and_plot(data_E)\nmeans[\"E\"]",
    "id": "2d593c593a4f4ae089d1f8cc756db020",
    "idx": 19,
    "time": "2021-01-29T06:47:52.104Z",
    "type": "execution"
   },
   {
    "code": "# summary of sampling processes\nactual_mean = data[\"score\"].mean()\nprint(f\"Actual Mean: {actual_mean:.4f}\")\nfor option, mean in means.items():\n    print(\n        f\"Option {option}:   Mean = {mean:.4f}   Bias = {(mean - actual_mean):.4f}\"\n        f\"{'   (THEORETICALLY OPTIMAL)' if option == 'D' else ''}\"\n    )",
    "id": "ad59967245344bca8431345134190f0f",
    "idx": 20,
    "time": "2021-01-29T06:47:52.106Z",
    "type": "execution"
   },
   {
    "id": "62ecc01678d549a38af9cd849956cbb1",
    "time": "2021-01-29T06:47:52.155Z",
    "type": "completion"
   },
   {
    "id": "9b5f438360804abeb743289f97ff13bc",
    "time": "2021-01-29T06:47:52.171Z",
    "type": "completion"
   },
   {
    "id": "6b1207662eb84edb8b18c2bdafca5277",
    "time": "2021-01-29T06:47:52.248Z",
    "type": "completion"
   },
   {
    "id": "295d77ec32a44b6e96db3118f6164858",
    "time": "2021-01-29T06:47:52.426Z",
    "type": "completion"
   },
   {
    "id": "2235f962b11e419bad721936dbd7fdd8",
    "time": "2021-01-29T06:47:52.508Z",
    "type": "completion"
   },
   {
    "id": "a42651dae3be4eeb86feb0da785e1bb0",
    "time": "2021-01-29T06:47:52.513Z",
    "type": "completion"
   },
   {
    "id": "f1d3e32b859d4faf97861c77258a5645",
    "time": "2021-01-29T06:47:52.515Z",
    "type": "completion"
   },
   {
    "id": "880c8de743dd4fa18f1d8accf29e6ae7",
    "time": "2021-01-29T06:47:52.974Z",
    "type": "completion"
   },
   {
    "id": "9296f766d7b74ae18cd7387bf07be4a4",
    "time": "2021-01-29T06:47:52.988Z",
    "type": "completion"
   },
   {
    "id": "c8fef5943d7e48dd8605cc10a7187c24",
    "time": "2021-01-29T06:47:53.030Z",
    "type": "completion"
   },
   {
    "id": "745de5f270d5424b8e6b170e31f08162",
    "time": "2021-01-29T06:47:53.034Z",
    "type": "completion"
   },
   {
    "id": "023594bb5709488d9a4c008283b5ab01",
    "time": "2021-01-29T06:47:53.294Z",
    "type": "completion"
   },
   {
    "id": "0356e26af4474c338ee30982c98e45e1",
    "time": "2021-01-29T06:47:53.295Z",
    "type": "completion"
   },
   {
    "id": "fee10363c2ec4ef1bc9320c4e9dccd76",
    "time": "2021-01-29T06:47:53.347Z",
    "type": "completion"
   },
   {
    "id": "d609d2e569bc47b18a6eff7c4da986fc",
    "time": "2021-01-29T06:47:54.401Z",
    "type": "completion"
   },
   {
    "id": "54107e0f283649748ae7e8f237e32466",
    "time": "2021-01-29T06:47:54.531Z",
    "type": "completion"
   },
   {
    "id": "5b9e3fef11814047a3f1821ef488eece",
    "time": "2021-01-29T06:47:55.630Z",
    "type": "completion"
   },
   {
    "id": "7b8d5134084249668754ad5b1e501b11",
    "time": "2021-01-29T06:48:10.818Z",
    "type": "completion"
   },
   {
    "id": "2d593c593a4f4ae089d1f8cc756db020",
    "time": "2021-01-29T06:48:11.896Z",
    "type": "completion"
   },
   {
    "id": "ad59967245344bca8431345134190f0f",
    "time": "2021-01-29T06:48:11.953Z",
    "type": "completion"
   },
   {
    "code": "import itertools\nimport numpy as np\nimport pandas as pd\nimport matplotlib.pyplot as plt\n%matplotlib inline\nnp.random.seed(42)",
    "id": "62ecc01678d549a38af9cd849956cbb1",
    "idx": 0,
    "time": "2021-01-29T06:48:42.258Z",
    "type": "execution"
   },
   {
    "code": "# first row\nn = 30\nm, s = 70, 10\np_61c = 0.2\np_before_end =  0.05\nfirst_row = (\n    n,  # number of students\n    np.random.normal(m, s, n) // 1, # scores array\n    np.ones(n).astype(bool), # in first row\n    np.random.choice([True, False], size=n, p=[p_61c, 1 - p_61c]), # is in 61c\n    np.random.choice([True, False], size=n, p=[p_before_end, 1 - p_before_end]), # turned in before end\n    # assign disc at end\n)\nfirst_row",
    "id": "9b5f438360804abeb743289f97ff13bc",
    "idx": 1,
    "time": "2021-01-29T06:48:42.260Z",
    "type": "execution"
   },
   {
    "code": "# turn in before end\nn = 112\nm, s = 82, 14\np_61c = 0.2\np_before_end = 1\nsecond_row = (\n    n,  # number of students\n    np.random.normal(m, s, n) // 1, # scores array\n    np.zeros(n).astype(bool), # in first row\n    np.random.choice([True, False], size=n, p=[p_61c, 1 - p_61c]), # is in 61c\n    np.random.choice([True, False], size=n, p=[p_before_end, 1 - p_before_end]), # turned in before end\n    # assign disc at end\n)\nsecond_row",
    "id": "6b1207662eb84edb8b18c2bdafca5277",
    "idx": 2,
    "time": "2021-01-29T06:48:42.261Z",
    "type": "execution"
   },
   {
    "code": "# everyone else\nn = 984\nm, s = 68, 30\np_61c = 0.01\np_before_end = 0\nthird_row = (\n    n,  # number of students\n    np.random.normal(m, s, n) // 1, # scores array\n    np.zeros(n).astype(bool), # in first row\n    np.random.choice([True, False], size=n, p=[p_61c, 1 - p_61c]), # is in 61c\n    np.random.choice([True, False], size=n, p=[p_before_end, 1 - p_before_end]), # turned in before end\n    # assign disc at end\n)\nthird_row",
    "id": "295d77ec32a44b6e96db3118f6164858",
    "idx": 3,
    "time": "2021-01-29T06:48:42.262Z",
    "type": "execution"
   },
   {
    "code": "rows = []\nfor tup in [first_row, second_row, third_row]:\n    for i in range(tup[0]):\n        rows.append([tup[1][i], tup[2][i], tup[3][i], tup[4][i]])\n\nrows[:5]",
    "id": "2235f962b11e419bad721936dbd7fdd8",
    "idx": 4,
    "time": "2021-01-29T06:48:42.263Z",
    "type": "execution"
   },
   {
    "code": "data = pd.DataFrame(rows, columns=[\"score\", \"first row\", \"61c\", \"early\"])\ndata = data.sample(frac=1)\ndata",
    "id": "a42651dae3be4eeb86feb0da785e1bb0",
    "idx": 5,
    "time": "2021-01-29T06:48:42.265Z",
    "type": "execution"
   },
   {
    "code": "discs = itertools.cycle(np.arange(1, 31))\ndata[\"discussion\"] = [next(discs) for _ in range(data.shape[0])]\ndata",
    "id": "f1d3e32b859d4faf97861c77258a5645",
    "idx": 6,
    "time": "2021-01-29T06:48:42.266Z",
    "type": "execution"
   },
   {
    "code": "data.hist(\"score\")",
    "id": "880c8de743dd4fa18f1d8accf29e6ae7",
    "idx": 7,
    "time": "2021-01-29T06:48:42.267Z",
    "type": "execution"
   },
   {
    "code": "data[data[\"first row\"]].hist(\"score\")",
    "id": "9296f766d7b74ae18cd7387bf07be4a4",
    "idx": 8,
    "time": "2021-01-29T06:48:42.268Z",
    "type": "execution"
   },
   {
    "code": "data[data[\"61c\"]].hist(\"score\")",
    "id": "c8fef5943d7e48dd8605cc10a7187c24",
    "idx": 9,
    "time": "2021-01-29T06:48:42.269Z",
    "type": "execution"
   },
   {
    "code": "data[data[\"early\"]].hist(\"score\")",
    "id": "745de5f270d5424b8e6b170e31f08162",
    "idx": 10,
    "time": "2021-01-29T06:48:42.270Z",
    "type": "execution"
   },
   {
    "code": "data.groupby(\"discussion\").mean().plot.bar(y=\"score\")",
    "id": "023594bb5709488d9a4c008283b5ab01",
    "idx": 11,
    "time": "2021-01-29T06:48:42.271Z",
    "type": "execution"
   },
   {
    "code": "def sample_and_plot(data):\n    plt.hist(data)\n    plt.xlabel(\"Exam Score\")\n    return np.mean(data)",
    "id": "0356e26af4474c338ee30982c98e45e1",
    "idx": 13,
    "time": "2021-01-29T06:48:42.272Z",
    "type": "execution"
   },
   {
    "code": "means = {}",
    "id": "fee10363c2ec4ef1bc9320c4e9dccd76",
    "idx": 14,
    "time": "2021-01-29T06:48:42.273Z",
    "type": "execution"
   },
   {
    "code": "# option A\nreplications = 1000\nsample_size = 10\ndata_A = []\nfor _ in  range(replications):\n    scores = data[data[\"first row\"]].sample(n=sample_size)\n    data_A.append(scores[\"score\"].mean())\n\nmeans[\"A\"] = sample_and_plot(data_A)\nmeans[\"A\"]",
    "id": "d609d2e569bc47b18a6eff7c4da986fc",
    "idx": 15,
    "time": "2021-01-29T06:48:42.275Z",
    "type": "execution"
   },
   {
    "code": "# option B\ndata_B = data[data[\"early\"]]\nmeans[\"B\"] = sample_and_plot(data_B[\"score\"])\nmeans[\"B\"]",
    "id": "54107e0f283649748ae7e8f237e32466",
    "idx": 16,
    "time": "2021-01-29T06:48:42.276Z",
    "type": "execution"
   },
   {
    "code": "# option C\nreplications = 1000\nsample_size = 10\ndata_C = []\nfor _ in  range(replications):\n    scores = data[data[\"61c\"]].sample(n=sample_size)\n    data_C.append(scores[\"score\"].mean())\n\nmeans[\"C\"] = sample_and_plot(data_C)\nmeans[\"C\"]",
    "id": "5b9e3fef11814047a3f1821ef488eece",
    "idx": 17,
    "time": "2021-01-29T06:48:42.277Z",
    "type": "execution"
   },
   {
    "code": "# option D\nreplications = 1000\nsample_size = 10\ndata_D = []\nfor _ in  range(replications):\n    scores = data.groupby(\"discussion\").sample(n=sample_size)\n    data_D.append(scores[\"score\"].mean())\n\nmeans[\"D\"] = sample_and_plot(data_D)\nmeans[\"D\"]",
    "id": "7b8d5134084249668754ad5b1e501b11",
    "idx": 18,
    "time": "2021-01-29T06:48:42.277Z",
    "type": "execution"
   },
   {
    "code": "# option E\nreplications = 1000\nsample_size = 4\ndata_E = []\nfor _ in  range(replications):\n    sampled_discussions = np.random.choice(data[\"discussion\"].unique(), replace=False, size=sample_size)\n    scores = data[data[\"discussion\"].isin(sampled_discussions)]\n    data_E.append(scores[\"score\"].mean())\n\nmeans[\"E\"] = sample_and_plot(data_E)\nmeans[\"E\"]",
    "id": "2d593c593a4f4ae089d1f8cc756db020",
    "idx": 19,
    "time": "2021-01-29T06:48:42.278Z",
    "type": "execution"
   },
   {
    "code": "# summary of sampling processes\nactual_mean = data[\"score\"].mean()\nprint(f\"Actual Mean: {actual_mean:.4f}\")\nfor option, mean in means.items():\n    print(\n        f\"Option {option}:   Mean = {mean:.4f}   Bias = {(mean - actual_mean):.4f}\"\n        f\"{'   (THEORETICALLY OPTIMAL)' if option == 'D' else ''}\"\n    )",
    "id": "ad59967245344bca8431345134190f0f",
    "idx": 20,
    "time": "2021-01-29T06:48:42.279Z",
    "type": "execution"
   },
   {
    "id": "62ecc01678d549a38af9cd849956cbb1",
    "time": "2021-01-29T06:48:42.347Z",
    "type": "completion"
   },
   {
    "id": "9b5f438360804abeb743289f97ff13bc",
    "time": "2021-01-29T06:48:42.362Z",
    "type": "completion"
   },
   {
    "id": "6b1207662eb84edb8b18c2bdafca5277",
    "time": "2021-01-29T06:48:42.415Z",
    "type": "completion"
   },
   {
    "id": "295d77ec32a44b6e96db3118f6164858",
    "time": "2021-01-29T06:48:42.490Z",
    "type": "completion"
   },
   {
    "id": "2235f962b11e419bad721936dbd7fdd8",
    "time": "2021-01-29T06:48:42.491Z",
    "type": "completion"
   },
   {
    "id": "a42651dae3be4eeb86feb0da785e1bb0",
    "time": "2021-01-29T06:48:42.561Z",
    "type": "completion"
   },
   {
    "id": "f1d3e32b859d4faf97861c77258a5645",
    "time": "2021-01-29T06:48:42.567Z",
    "type": "completion"
   },
   {
    "id": "880c8de743dd4fa18f1d8accf29e6ae7",
    "time": "2021-01-29T06:48:42.675Z",
    "type": "completion"
   },
   {
    "id": "9296f766d7b74ae18cd7387bf07be4a4",
    "time": "2021-01-29T06:48:42.874Z",
    "type": "completion"
   },
   {
    "id": "c8fef5943d7e48dd8605cc10a7187c24",
    "time": "2021-01-29T06:48:43.062Z",
    "type": "completion"
   },
   {
    "id": "745de5f270d5424b8e6b170e31f08162",
    "time": "2021-01-29T06:48:43.208Z",
    "type": "completion"
   },
   {
    "id": "023594bb5709488d9a4c008283b5ab01",
    "time": "2021-01-29T06:48:43.656Z",
    "type": "completion"
   },
   {
    "id": "0356e26af4474c338ee30982c98e45e1",
    "time": "2021-01-29T06:48:43.660Z",
    "type": "completion"
   },
   {
    "id": "fee10363c2ec4ef1bc9320c4e9dccd76",
    "time": "2021-01-29T06:48:43.661Z",
    "type": "completion"
   },
   {
    "id": "d609d2e569bc47b18a6eff7c4da986fc",
    "time": "2021-01-29T06:48:44.761Z",
    "type": "completion"
   },
   {
    "id": "54107e0f283649748ae7e8f237e32466",
    "time": "2021-01-29T06:48:44.941Z",
    "type": "completion"
   },
   {
    "id": "5b9e3fef11814047a3f1821ef488eece",
    "time": "2021-01-29T06:48:46.067Z",
    "type": "completion"
   },
   {
    "id": "7b8d5134084249668754ad5b1e501b11",
    "time": "2021-01-29T06:49:01.392Z",
    "type": "completion"
   },
   {
    "id": "2d593c593a4f4ae089d1f8cc756db020",
    "time": "2021-01-29T06:49:02.480Z",
    "type": "completion"
   },
   {
    "id": "ad59967245344bca8431345134190f0f",
    "time": "2021-01-29T06:49:02.524Z",
    "type": "completion"
   },
   {
    "code": "max(data[\"scores\"])",
    "id": "9b999f423b354b6d8fb30e7caaefbbab",
    "idx": 1,
    "time": "2021-01-29T07:11:23.511Z",
    "type": "execution"
   },
   {
    "id": "9b999f423b354b6d8fb30e7caaefbbab",
    "time": "2021-01-29T07:11:23.649Z",
    "type": "completion"
   },
   {
    "code": "data[\"score\"].max()",
    "id": "83e14788d2da4597bd13dd3e25eb6ee4",
    "idx": 7,
    "time": "2021-01-29T07:11:32.926Z",
    "type": "execution"
   },
   {
    "id": "83e14788d2da4597bd13dd3e25eb6ee4",
    "time": "2021-01-29T07:11:33.011Z",
    "type": "completion"
   },
   {
    "code": "data = pd.DataFrame(rows, columns=[\"score\", \"first row\", \"61c\", \"early\"])\ndata = data.sample(frac=1)\ndata[\"score\"] = data[\"score\"].apply(lambda v: 100 if v > 100 else v)\ndata",
    "id": "a42651dae3be4eeb86feb0da785e1bb0",
    "idx": 5,
    "time": "2021-01-29T07:12:19.487Z",
    "type": "execution"
   },
   {
    "id": "a42651dae3be4eeb86feb0da785e1bb0",
    "time": "2021-01-29T07:12:19.585Z",
    "type": "completion"
   },
   {
    "code": "discs = itertools.cycle(np.arange(1, 31))\ndata[\"discussion\"] = [next(discs) for _ in range(data.shape[0])]\ndata",
    "id": "f1d3e32b859d4faf97861c77258a5645",
    "idx": 6,
    "time": "2021-01-29T07:12:21.623Z",
    "type": "execution"
   },
   {
    "id": "f1d3e32b859d4faf97861c77258a5645",
    "time": "2021-01-29T07:12:21.707Z",
    "type": "completion"
   },
   {
    "code": "data.hist(\"score\")",
    "id": "880c8de743dd4fa18f1d8accf29e6ae7",
    "idx": 7,
    "time": "2021-01-29T07:12:22.585Z",
    "type": "execution"
   },
   {
    "id": "880c8de743dd4fa18f1d8accf29e6ae7",
    "time": "2021-01-29T07:12:22.824Z",
    "type": "completion"
   },
   {
    "code": "data[data[\"first row\"]].hist(\"score\")",
    "id": "9296f766d7b74ae18cd7387bf07be4a4",
    "idx": 8,
    "time": "2021-01-29T07:12:24.196Z",
    "type": "execution"
   },
   {
    "id": "9296f766d7b74ae18cd7387bf07be4a4",
    "time": "2021-01-29T07:12:24.456Z",
    "type": "completion"
   },
   {
    "code": "data[data[\"61c\"]].hist(\"score\")",
    "id": "c8fef5943d7e48dd8605cc10a7187c24",
    "idx": 9,
    "time": "2021-01-29T07:12:27.255Z",
    "type": "execution"
   },
   {
    "code": "data[data[\"early\"]].hist(\"score\")",
    "id": "745de5f270d5424b8e6b170e31f08162",
    "idx": 10,
    "time": "2021-01-29T07:12:27.417Z",
    "type": "execution"
   },
   {
    "id": "c8fef5943d7e48dd8605cc10a7187c24",
    "time": "2021-01-29T07:12:27.477Z",
    "type": "completion"
   },
   {
    "id": "745de5f270d5424b8e6b170e31f08162",
    "time": "2021-01-29T07:12:27.647Z",
    "type": "completion"
   },
   {
    "code": "data.groupby(\"discussion\").mean().plot.bar(y=\"score\")",
    "id": "023594bb5709488d9a4c008283b5ab01",
    "idx": 11,
    "time": "2021-01-29T07:12:29.142Z",
    "type": "execution"
   },
   {
    "id": "023594bb5709488d9a4c008283b5ab01",
    "time": "2021-01-29T07:12:29.548Z",
    "type": "completion"
   },
   {
    "code": "def sample_and_plot(data):\n    plt.hist(data)\n    plt.xlabel(\"Exam Score\")\n    return np.mean(data)",
    "id": "0356e26af4474c338ee30982c98e45e1",
    "idx": 13,
    "time": "2021-01-29T07:12:35.775Z",
    "type": "execution"
   },
   {
    "id": "0356e26af4474c338ee30982c98e45e1",
    "time": "2021-01-29T07:12:35.843Z",
    "type": "completion"
   },
   {
    "code": "means = {}",
    "id": "fee10363c2ec4ef1bc9320c4e9dccd76",
    "idx": 14,
    "time": "2021-01-29T07:12:36.281Z",
    "type": "execution"
   },
   {
    "id": "fee10363c2ec4ef1bc9320c4e9dccd76",
    "time": "2021-01-29T07:12:36.349Z",
    "type": "completion"
   },
   {
    "code": "# option A\nreplications = 1000\nsample_size = 10\ndata_A = []\nfor _ in  range(replications):\n    scores = data[data[\"first row\"]].sample(n=sample_size)\n    data_A.append(scores[\"score\"].mean())\n\nmeans[\"A\"] = sample_and_plot(data_A)\nmeans[\"A\"]",
    "id": "d609d2e569bc47b18a6eff7c4da986fc",
    "idx": 15,
    "time": "2021-01-29T07:12:36.778Z",
    "type": "execution"
   },
   {
    "id": "d609d2e569bc47b18a6eff7c4da986fc",
    "time": "2021-01-29T07:12:37.948Z",
    "type": "completion"
   },
   {
    "code": "import itertools\nimport numpy as np\nimport pandas as pd\nimport matplotlib.pyplot as plt\n%matplotlib inline\nnp.random.seed(42)",
    "id": "62ecc01678d549a38af9cd849956cbb1",
    "idx": 0,
    "time": "2021-01-29T07:12:43.951Z",
    "type": "execution"
   },
   {
    "code": "# first row\nn = 30\nm, s = 70, 10\np_61c = 0.2\np_before_end =  0.05\nfirst_row = (\n    n,  # number of students\n    np.random.normal(m, s, n) // 1, # scores array\n    np.ones(n).astype(bool), # in first row\n    np.random.choice([True, False], size=n, p=[p_61c, 1 - p_61c]), # is in 61c\n    np.random.choice([True, False], size=n, p=[p_before_end, 1 - p_before_end]), # turned in before end\n    # assign disc at end\n)\nfirst_row",
    "id": "9b5f438360804abeb743289f97ff13bc",
    "idx": 1,
    "time": "2021-01-29T07:12:43.953Z",
    "type": "execution"
   },
   {
    "code": "# turn in before end\nn = 112\nm, s = 82, 14\np_61c = 0.2\np_before_end = 1\nsecond_row = (\n    n,  # number of students\n    np.random.normal(m, s, n) // 1, # scores array\n    np.zeros(n).astype(bool), # in first row\n    np.random.choice([True, False], size=n, p=[p_61c, 1 - p_61c]), # is in 61c\n    np.random.choice([True, False], size=n, p=[p_before_end, 1 - p_before_end]), # turned in before end\n    # assign disc at end\n)\nsecond_row",
    "id": "6b1207662eb84edb8b18c2bdafca5277",
    "idx": 2,
    "time": "2021-01-29T07:12:43.954Z",
    "type": "execution"
   },
   {
    "code": "# everyone else\nn = 984\nm, s = 68, 30\np_61c = 0.01\np_before_end = 0\nthird_row = (\n    n,  # number of students\n    np.random.normal(m, s, n) // 1, # scores array\n    np.zeros(n).astype(bool), # in first row\n    np.random.choice([True, False], size=n, p=[p_61c, 1 - p_61c]), # is in 61c\n    np.random.choice([True, False], size=n, p=[p_before_end, 1 - p_before_end]), # turned in before end\n    # assign disc at end\n)\nthird_row",
    "id": "295d77ec32a44b6e96db3118f6164858",
    "idx": 3,
    "time": "2021-01-29T07:12:43.956Z",
    "type": "execution"
   },
   {
    "code": "rows = []\nfor tup in [first_row, second_row, third_row]:\n    for i in range(tup[0]):\n        rows.append([tup[1][i], tup[2][i], tup[3][i], tup[4][i]])\n\nrows[:5]",
    "id": "2235f962b11e419bad721936dbd7fdd8",
    "idx": 4,
    "time": "2021-01-29T07:12:43.957Z",
    "type": "execution"
   },
   {
    "code": "data = pd.DataFrame(rows, columns=[\"score\", \"first row\", \"61c\", \"early\"])\ndata = data.sample(frac=1)\ndata[\"score\"] = data[\"score\"].apply(lambda v: 100 if v > 100 else v)\ndata",
    "id": "a42651dae3be4eeb86feb0da785e1bb0",
    "idx": 5,
    "time": "2021-01-29T07:12:43.959Z",
    "type": "execution"
   },
   {
    "code": "discs = itertools.cycle(np.arange(1, 31))\ndata[\"discussion\"] = [next(discs) for _ in range(data.shape[0])]\ndata",
    "id": "f1d3e32b859d4faf97861c77258a5645",
    "idx": 6,
    "time": "2021-01-29T07:12:43.961Z",
    "type": "execution"
   },
   {
    "code": "data.hist(\"score\")",
    "id": "880c8de743dd4fa18f1d8accf29e6ae7",
    "idx": 7,
    "time": "2021-01-29T07:12:43.962Z",
    "type": "execution"
   },
   {
    "code": "data[data[\"first row\"]].hist(\"score\")",
    "id": "9296f766d7b74ae18cd7387bf07be4a4",
    "idx": 8,
    "time": "2021-01-29T07:12:43.964Z",
    "type": "execution"
   },
   {
    "code": "data[data[\"61c\"]].hist(\"score\")",
    "id": "c8fef5943d7e48dd8605cc10a7187c24",
    "idx": 9,
    "time": "2021-01-29T07:12:43.966Z",
    "type": "execution"
   },
   {
    "code": "data[data[\"early\"]].hist(\"score\")",
    "id": "745de5f270d5424b8e6b170e31f08162",
    "idx": 10,
    "time": "2021-01-29T07:12:43.967Z",
    "type": "execution"
   },
   {
    "code": "data.groupby(\"discussion\").mean().plot.bar(y=\"score\")",
    "id": "023594bb5709488d9a4c008283b5ab01",
    "idx": 11,
    "time": "2021-01-29T07:12:43.968Z",
    "type": "execution"
   },
   {
    "code": "def sample_and_plot(data):\n    plt.hist(data)\n    plt.xlabel(\"Exam Score\")\n    return np.mean(data)",
    "id": "0356e26af4474c338ee30982c98e45e1",
    "idx": 13,
    "time": "2021-01-29T07:12:43.969Z",
    "type": "execution"
   },
   {
    "code": "means = {}",
    "id": "fee10363c2ec4ef1bc9320c4e9dccd76",
    "idx": 14,
    "time": "2021-01-29T07:12:43.970Z",
    "type": "execution"
   },
   {
    "code": "# option A\nreplications = 1000\nsample_size = 10\ndata_A = []\nfor _ in  range(replications):\n    scores = data[data[\"first row\"]].sample(n=sample_size)\n    data_A.append(scores[\"score\"].mean())\n\nmeans[\"A\"] = sample_and_plot(data_A)\nmeans[\"A\"]",
    "id": "d609d2e569bc47b18a6eff7c4da986fc",
    "idx": 15,
    "time": "2021-01-29T07:12:43.971Z",
    "type": "execution"
   },
   {
    "code": "# option B\ndata_B = data[data[\"early\"]]\nmeans[\"B\"] = sample_and_plot(data_B[\"score\"])\nmeans[\"B\"]",
    "id": "54107e0f283649748ae7e8f237e32466",
    "idx": 16,
    "time": "2021-01-29T07:12:43.972Z",
    "type": "execution"
   },
   {
    "code": "# option C\nreplications = 1000\nsample_size = 10\ndata_C = []\nfor _ in  range(replications):\n    scores = data[data[\"61c\"]].sample(n=sample_size)\n    data_C.append(scores[\"score\"].mean())\n\nmeans[\"C\"] = sample_and_plot(data_C)\nmeans[\"C\"]",
    "id": "5b9e3fef11814047a3f1821ef488eece",
    "idx": 17,
    "time": "2021-01-29T07:12:43.974Z",
    "type": "execution"
   },
   {
    "code": "# option D\nreplications = 1000\nsample_size = 10\ndata_D = []\nfor _ in  range(replications):\n    scores = data.groupby(\"discussion\").sample(n=sample_size)\n    data_D.append(scores[\"score\"].mean())\n\nmeans[\"D\"] = sample_and_plot(data_D)\nmeans[\"D\"]",
    "id": "7b8d5134084249668754ad5b1e501b11",
    "idx": 18,
    "time": "2021-01-29T07:12:43.975Z",
    "type": "execution"
   },
   {
    "code": "# option E\nreplications = 1000\nsample_size = 4\ndata_E = []\nfor _ in  range(replications):\n    sampled_discussions = np.random.choice(data[\"discussion\"].unique(), replace=False, size=sample_size)\n    scores = data[data[\"discussion\"].isin(sampled_discussions)]\n    data_E.append(scores[\"score\"].mean())\n\nmeans[\"E\"] = sample_and_plot(data_E)\nmeans[\"E\"]",
    "id": "2d593c593a4f4ae089d1f8cc756db020",
    "idx": 19,
    "time": "2021-01-29T07:12:43.976Z",
    "type": "execution"
   },
   {
    "code": "# summary of sampling processes\nactual_mean = data[\"score\"].mean()\nprint(f\"Actual Mean: {actual_mean:.4f}\")\nfor option, mean in means.items():\n    print(\n        f\"Option {option}:   Mean = {mean:.4f}   Bias = {(mean - actual_mean):.4f}\"\n        f\"{'   (THEORETICALLY OPTIMAL)' if option == 'D' else ''}\"\n    )",
    "id": "ad59967245344bca8431345134190f0f",
    "idx": 20,
    "time": "2021-01-29T07:12:43.977Z",
    "type": "execution"
   },
   {
    "id": "62ecc01678d549a38af9cd849956cbb1",
    "time": "2021-01-29T07:12:44.613Z",
    "type": "completion"
   },
   {
    "id": "9b5f438360804abeb743289f97ff13bc",
    "time": "2021-01-29T07:12:44.624Z",
    "type": "completion"
   },
   {
    "id": "6b1207662eb84edb8b18c2bdafca5277",
    "time": "2021-01-29T07:12:44.681Z",
    "type": "completion"
   },
   {
    "id": "295d77ec32a44b6e96db3118f6164858",
    "time": "2021-01-29T07:12:44.814Z",
    "type": "completion"
   },
   {
    "id": "2235f962b11e419bad721936dbd7fdd8",
    "time": "2021-01-29T07:12:44.816Z",
    "type": "completion"
   },
   {
    "id": "a42651dae3be4eeb86feb0da785e1bb0",
    "time": "2021-01-29T07:12:44.844Z",
    "type": "completion"
   },
   {
    "id": "f1d3e32b859d4faf97861c77258a5645",
    "time": "2021-01-29T07:12:44.859Z",
    "type": "completion"
   },
   {
    "id": "880c8de743dd4fa18f1d8accf29e6ae7",
    "time": "2021-01-29T07:12:44.919Z",
    "type": "completion"
   },
   {
    "id": "9296f766d7b74ae18cd7387bf07be4a4",
    "time": "2021-01-29T07:12:45.102Z",
    "type": "completion"
   },
   {
    "id": "c8fef5943d7e48dd8605cc10a7187c24",
    "time": "2021-01-29T07:12:45.288Z",
    "type": "completion"
   },
   {
    "id": "745de5f270d5424b8e6b170e31f08162",
    "time": "2021-01-29T07:12:45.476Z",
    "type": "completion"
   },
   {
    "id": "023594bb5709488d9a4c008283b5ab01",
    "time": "2021-01-29T07:12:45.905Z",
    "type": "completion"
   },
   {
    "id": "0356e26af4474c338ee30982c98e45e1",
    "time": "2021-01-29T07:12:45.912Z",
    "type": "completion"
   },
   {
    "id": "fee10363c2ec4ef1bc9320c4e9dccd76",
    "time": "2021-01-29T07:12:46.160Z",
    "type": "completion"
   },
   {
    "id": "d609d2e569bc47b18a6eff7c4da986fc",
    "time": "2021-01-29T07:12:47.061Z",
    "type": "completion"
   },
   {
    "id": "54107e0f283649748ae7e8f237e32466",
    "time": "2021-01-29T07:12:47.414Z",
    "type": "completion"
   },
   {
    "id": "5b9e3fef11814047a3f1821ef488eece",
    "time": "2021-01-29T07:12:48.204Z",
    "type": "completion"
   },
   {
    "id": "7b8d5134084249668754ad5b1e501b11",
    "time": "2021-01-29T07:13:02.400Z",
    "type": "completion"
   },
   {
    "id": "2d593c593a4f4ae089d1f8cc756db020",
    "time": "2021-01-29T07:13:03.382Z",
    "type": "completion"
   },
   {
    "id": "ad59967245344bca8431345134190f0f",
    "time": "2021-01-29T07:13:03.384Z",
    "type": "completion"
   },
   {
    "code": "import itertools\nimport numpy as np\nimport pandas as pd\nimport matplotlib.pyplot as plt\n%matplotlib inline\nnp.random.seed(42)\n\ndef sample_and_plot(data):\n    plt.hist(data)\n    plt.xlabel(\"Exam Score\")\n    return np.mean(data)",
    "id": "0352ffb7d4f5423f8f968652ece3bfa0",
    "idx": 1,
    "time": "2021-01-29T17:44:26.224Z",
    "type": "execution"
   },
   {
    "id": "0352ffb7d4f5423f8f968652ece3bfa0",
    "time": "2021-01-29T17:44:26.856Z",
    "type": "completion"
   },
   {
    "code": "means = {}\ndata = pd.read_csv(\"data/scores.csv\")\ndata",
    "id": "2d0809b6a1ca45b2b7fc6b8b5c9f5b1e",
    "idx": 2,
    "time": "2021-01-29T17:44:36.662Z",
    "type": "execution"
   },
   {
    "id": "2d0809b6a1ca45b2b7fc6b8b5c9f5b1e",
    "time": "2021-01-29T17:44:36.774Z",
    "type": "completion"
   },
   {
    "code": "data[\"early\"].dtype",
    "id": "8f9769e04ceb436fb159555fefb942fb",
    "idx": 3,
    "time": "2021-01-29T17:44:42.244Z",
    "type": "execution"
   },
   {
    "id": "8f9769e04ceb436fb159555fefb942fb",
    "time": "2021-01-29T17:44:42.352Z",
    "type": "completion"
   },
   {
    "code": "import itertools\nimport numpy as np\nimport pandas as pd\nimport matplotlib.pyplot as plt\n%matplotlib inline\n\ndef plot_sample(data):\n    plt.hist(data)\n    plt.xlabel(\"Exam Score\")\n    return np.mean(data)",
    "id": "0352ffb7d4f5423f8f968652ece3bfa0",
    "idx": 1,
    "time": "2021-01-29T17:45:43.634Z",
    "type": "execution"
   },
   {
    "code": "means = {}\ndata = pd.read_csv(\"data/scores.csv\")\ndata",
    "id": "2d0809b6a1ca45b2b7fc6b8b5c9f5b1e",
    "idx": 2,
    "time": "2021-01-29T17:45:43.639Z",
    "type": "execution"
   },
   {
    "code": "# option A\nnp.random.seed(42)\n\nreplications = 1000\nsample_size = 10\ndata_A = []\nfor _ in  range(replications):\n    scores = data[data[\"first row\"]].sample(n=sample_size)\n    data_A.append(scores[\"score\"].mean())\n\nmeans[\"A\"] = plot_sample(data_A)\nmeans[\"A\"]",
    "id": "d48caa7905d941848ec175b8b928d6f6",
    "idx": 3,
    "time": "2021-01-29T17:45:43.640Z",
    "type": "execution"
   },
   {
    "code": "# option B\ndata_B = data[data[\"early\"]]\nmeans[\"B\"] = plot_sample(data_B[\"score\"])\nmeans[\"B\"]",
    "id": "3e7d31c7c82f4627815109d990dd3fa6",
    "idx": 4,
    "time": "2021-01-29T17:45:43.642Z",
    "type": "execution"
   },
   {
    "code": "# option C\nnp.random.seed(42)\n\nreplications = 1000\nsample_size = 10\ndata_C = []\nfor _ in  range(replications):\n    scores = data[data[\"61c\"]].sample(n=sample_size)\n    data_C.append(scores[\"score\"].mean())\n\nmeans[\"C\"] = plot_sample(data_C)\nmeans[\"C\"]",
    "id": "1f494f3a92414fdc822a0dbaaf12f0e6",
    "idx": 5,
    "time": "2021-01-29T17:45:43.643Z",
    "type": "execution"
   },
   {
    "code": "# option D\nnp.random.seed(42)\n\nreplications = 1000\nsample_size = 10\ndata_D = []\nfor _ in  range(replications):\n    scores = data.groupby(\"discussion\").sample(n=sample_size)\n    data_D.append(scores[\"score\"].mean())\n\nmeans[\"D\"] = plot_sample(data_D)\nmeans[\"D\"]",
    "id": "bca3c9fd443b4d19869e5670a4e9782e",
    "idx": 6,
    "time": "2021-01-29T17:45:43.644Z",
    "type": "execution"
   },
   {
    "code": "# option E\nnp.random.seed(42)\n\nreplications = 1000\nsample_size = 4\ndata_E = []\nfor _ in  range(replications):\n    sampled_discussions = np.random.choice(data[\"discussion\"].unique(), replace=False, size=sample_size)\n    scores = data[data[\"discussion\"].isin(sampled_discussions)]\n    data_E.append(scores[\"score\"].mean())\n\nmeans[\"E\"] = plot_sample(data_E)\nmeans[\"E\"]",
    "id": "0641b04dfa5c4c218abe0a390bfe3607",
    "idx": 7,
    "time": "2021-01-29T17:45:43.646Z",
    "type": "execution"
   },
   {
    "code": "# summary of sampling processes\nactual_mean = data[\"score\"].mean()\nprint(f\"Actual Mean: {actual_mean:.4f}\")\nfor option, mean in means.items():\n    print(\n        f\"Option {option}:   Mean = {mean:.4f}   Bias = {(mean - actual_mean):.4f}\"\n        f\"{'   (THEORETICALLY OPTIMAL)' if option == 'D' else ''}\"\n    )",
    "id": "db2127f286cf4e3c9504f39ab28003a5",
    "idx": 8,
    "time": "2021-01-29T17:45:43.647Z",
    "type": "execution"
   },
   {
    "id": "0352ffb7d4f5423f8f968652ece3bfa0",
    "time": "2021-01-29T17:45:43.701Z",
    "type": "completion"
   },
   {
    "id": "2d0809b6a1ca45b2b7fc6b8b5c9f5b1e",
    "time": "2021-01-29T17:45:43.824Z",
    "type": "completion"
   },
   {
    "id": "d48caa7905d941848ec175b8b928d6f6",
    "time": "2021-01-29T17:45:44.705Z",
    "type": "completion"
   },
   {
    "id": "3e7d31c7c82f4627815109d990dd3fa6",
    "time": "2021-01-29T17:45:44.874Z",
    "type": "completion"
   },
   {
    "id": "1f494f3a92414fdc822a0dbaaf12f0e6",
    "time": "2021-01-29T17:45:45.826Z",
    "type": "completion"
   },
   {
    "id": "bca3c9fd443b4d19869e5670a4e9782e",
    "time": "2021-01-29T17:45:58.531Z",
    "type": "completion"
   },
   {
    "id": "0641b04dfa5c4c218abe0a390bfe3607",
    "time": "2021-01-29T17:45:59.418Z",
    "type": "completion"
   },
   {
    "id": "db2127f286cf4e3c9504f39ab28003a5",
    "time": "2021-01-29T17:45:59.474Z",
    "type": "completion"
   },
   {
    "code": "import itertools\nimport numpy as np\nimport pandas as pd\nimport matplotlib.pyplot as plt\n%matplotlib inline\n\ndef plot_sample(data):\n    plt.hist(data)\n    plt.xlabel(\"Exam Score\")\n    return np.mean(data)",
    "id": "61b962d8b2c24c8aa74b68b4b25a154e",
    "idx": 1,
    "time": "2021-01-29T21:17:50.370Z",
    "type": "execution"
   },
   {
    "code": "means = {} # this will collect our mean estimates for each option\ndata = pd.read_csv(\"data/scores.csv\")\ndata",
    "id": "11f485e35ce94a0584d833d7555490ab",
    "idx": 3,
    "time": "2021-01-29T21:17:50.375Z",
    "type": "execution"
   },
   {
    "code": "# option A\nnp.random.seed(42)\n\nreplications = 1000\nsample_size = 10\ndata_A = []\nfor _ in  range(replications):\n    scores = data[data[\"first row\"]].sample(n=sample_size)\n    data_A.append(scores[\"score\"].mean())\n\nmeans[\"A\"] = plot_sample(data_A)\nmeans[\"A\"]",
    "id": "c842c56a76364519be4883b9477105cc",
    "idx": 4,
    "time": "2021-01-29T21:17:50.377Z",
    "type": "execution"
   },
   {
    "code": "# option B\ndata_B = data[data[\"early\"]]\nmeans[\"B\"] = plot_sample(data_B[\"score\"])\nmeans[\"B\"]",
    "id": "480feabe831740b08976d34beb60a9a8",
    "idx": 5,
    "time": "2021-01-29T21:17:50.378Z",
    "type": "execution"
   },
   {
    "code": "# option C\nnp.random.seed(42)\n\nreplications = 1000\nsample_size = 10\ndata_C = []\nfor _ in  range(replications):\n    scores = data[data[\"61c\"]].sample(n=sample_size)\n    data_C.append(scores[\"score\"].mean())\n\nmeans[\"C\"] = plot_sample(data_C)\nmeans[\"C\"]",
    "id": "6186ff8ce4734352bafb5956e18f2bc1",
    "idx": 6,
    "time": "2021-01-29T21:17:50.381Z",
    "type": "execution"
   },
   {
    "code": "# option D\nnp.random.seed(42)\n\nreplications = 1000\nsample_size = 10\ndata_D = []\nfor _ in  range(replications):\n    scores = data.groupby(\"discussion\").sample(n=sample_size)\n    data_D.append(scores[\"score\"].mean())\n\nmeans[\"D\"] = plot_sample(data_D)\nmeans[\"D\"]",
    "id": "8c1787637d7f422787d3616674d52c0d",
    "idx": 7,
    "time": "2021-01-29T21:17:50.383Z",
    "type": "execution"
   },
   {
    "code": "# option E\nnp.random.seed(42)\n\nreplications = 1000\nsample_size = 4\ndata_E = []\nfor _ in range(replications):\n    sampled_discussions = np.random.choice(data[\"discussion\"].unique(), replace=False, size=sample_size)\n    scores = data[data[\"discussion\"].isin(sampled_discussions)]\n    data_E.append(scores[\"score\"].mean())\n\nmeans[\"E\"] = plot_sample(data_E)\nmeans[\"E\"]",
    "id": "db2fdd5ebf0747f98e5631c7087a2fcb",
    "idx": 8,
    "time": "2021-01-29T21:17:50.384Z",
    "type": "execution"
   },
   {
    "code": "# summary of sampling processes\nactual_mean = data[\"score\"].mean()\nprint(f\"Actual Mean: {actual_mean:.4f}\")\nfor option, mean in means.items():\n    print(\n        f\"Option {option}:   Mean = {mean:.4f}   Bias = {(mean - actual_mean):.4f}\"\n        f\"{'   (THEORETICALLY OPTIMAL)' if option == 'D' else ''}\"\n    )",
    "id": "d005aa48f47c466e8f088e3df0c27a21",
    "idx": 9,
    "time": "2021-01-29T21:17:50.386Z",
    "type": "execution"
   },
   {
    "id": "61b962d8b2c24c8aa74b68b4b25a154e",
    "time": "2021-01-29T21:17:51.026Z",
    "type": "completion"
   },
   {
    "id": "11f485e35ce94a0584d833d7555490ab",
    "time": "2021-01-29T21:17:51.052Z",
    "type": "completion"
   },
   {
    "id": "c842c56a76364519be4883b9477105cc",
    "time": "2021-01-29T21:17:52.080Z",
    "type": "completion"
   },
   {
    "id": "480feabe831740b08976d34beb60a9a8",
    "time": "2021-01-29T21:17:52.199Z",
    "type": "completion"
   },
   {
    "id": "6186ff8ce4734352bafb5956e18f2bc1",
    "time": "2021-01-29T21:17:53.093Z",
    "type": "completion"
   },
   {
    "id": "8c1787637d7f422787d3616674d52c0d",
    "time": "2021-01-29T21:18:06.824Z",
    "type": "completion"
   },
   {
    "id": "db2fdd5ebf0747f98e5631c7087a2fcb",
    "time": "2021-01-29T21:18:09.609Z",
    "type": "completion"
   },
   {
    "id": "d005aa48f47c466e8f088e3df0c27a21",
    "time": "2021-01-29T21:18:09.621Z",
    "type": "completion"
   },
   {
    "code": "import itertools\nimport numpy as np\nimport pandas as pd\nimport matplotlib.pyplot as plt\n%matplotlib inline\n\ndef plot_sample(data):\n    plt.hist(data)\n    plt.xlabel(\"Exam Difficulty\")\n    return np.mean(data)",
    "id": "5b048062e6624094a89fd4ef05ede428",
    "idx": 1,
    "time": "2021-01-30T01:08:34.852Z",
    "type": "execution"
   },
   {
    "id": "5b048062e6624094a89fd4ef05ede428",
    "time": "2021-01-30T01:08:35.564Z",
    "type": "completion"
   },
   {
    "code": "means = {} # this will collect our mean estimates for each option\ndata = pd.read_csv(\"data/responses.csv\")\ndata",
    "id": "45e7a81534af4039a1b11f7463a06cb8",
    "idx": 3,
    "time": "2021-01-30T01:08:38.082Z",
    "type": "execution"
   },
   {
    "id": "45e7a81534af4039a1b11f7463a06cb8",
    "time": "2021-01-30T01:08:38.188Z",
    "type": "completion"
   },
   {
    "code": "means = {} # this will collect our mean estimates for each option\ndata = pd.read_csv(\"data/responses.csv\")\ndata",
    "id": "45e7a81534af4039a1b11f7463a06cb8",
    "idx": 3,
    "time": "2021-01-30T01:10:27.247Z",
    "type": "execution"
   },
   {
    "id": "45e7a81534af4039a1b11f7463a06cb8",
    "time": "2021-01-30T01:10:27.352Z",
    "type": "completion"
   },
   {
    "code": "# option A\nnp.random.seed(42)\n\nreplications = 1000\nsample_frac = 0.8 # assume only 80% of students respond to the poll\ndata_A = []\nfor _ in  range(replications):\n    scores = data[data[\"attended fireside chat\"]].sample(frac=sample_frac)\n    data_A.append(scores[\"score\"].mean())\n\nmeans[\"A\"] = plot_sample(data_A)\nmeans[\"A\"]",
    "id": "bc2c3ad3dbcb42709770d45b1a907dd3",
    "idx": 4,
    "time": "2021-01-30T01:10:59.870Z",
    "type": "execution"
   },
   {
    "id": "bc2c3ad3dbcb42709770d45b1a907dd3",
    "time": "2021-01-30T01:11:00.100Z",
    "type": "completion"
   },
   {
    "code": "# option A\nnp.random.seed(42)\n\nreplications = 1000\nsample_frac = 0.8 # assume only 80% of students respond to the poll\ndata_A = []\nfor _ in  range(replications):\n    scores = data[data[\"attended fireside chat\"]].sample(frac=sample_frac)\n    data_A.append(scores[\"response\"].mean())\n\nmeans[\"A\"] = plot_sample(data_A)\nmeans[\"A\"]",
    "id": "bc2c3ad3dbcb42709770d45b1a907dd3",
    "idx": 4,
    "time": "2021-01-30T01:11:03.851Z",
    "type": "execution"
   },
   {
    "id": "bc2c3ad3dbcb42709770d45b1a907dd3",
    "time": "2021-01-30T01:11:04.828Z",
    "type": "completion"
   },
   {
    "code": "# option A\nnp.random.seed(42)\n\nreplications = 1000\nsample_frac = 0.8 # assume only 80% of students respond to the poll\ndata_A = []\nfor _ in  range(replications):\n    responses = data[data[\"attended fireside chat\"]].sample(frac=sample_frac)\n    data_A.append(responses[\"response\"].mean())\n\nmeans[\"A\"] = plot_sample(data_A)\nmeans[\"A\"]",
    "id": "bc2c3ad3dbcb42709770d45b1a907dd3",
    "idx": 4,
    "time": "2021-01-30T01:12:09.539Z",
    "type": "execution"
   },
   {
    "code": "# option B\nnp.random.seed(42)\n\nreplications = 1000\nsample_size = 10 # survey 10 students in each section\ndata_B = []\nfor _ in  range(replications):\n    responses = data.groupby(\"discussion\").sample(n=sample_size)\n    data_B.append(responses[\"response\"].mean())\n\nmeans[\"B\"] = plot_sample(data_B)\nmeans[\"B\"]\n\n\n\n\n\n\n# data_B = data[data[\"early\"]]\n# means[\"B\"] = plot_sample(data_B[\"score\"])\n# means[\"B\"]",
    "id": "b46c78006eab4152b985906c8dd04bbb",
    "idx": 5,
    "time": "2021-01-30T01:12:10.196Z",
    "type": "execution"
   },
   {
    "id": "bc2c3ad3dbcb42709770d45b1a907dd3",
    "time": "2021-01-30T01:12:10.452Z",
    "type": "completion"
   },
   {
    "id": "b46c78006eab4152b985906c8dd04bbb",
    "time": "2021-01-30T01:12:25.762Z",
    "type": "completion"
   },
   {
    "code": "import itertools\nimport numpy as np\nimport pandas as pd\nimport matplotlib.pyplot as plt\n%matplotlib inline\n\ndef plot_sample(data):\n    plt.hist(data)\n    plt.xlabel(\"Exam Difficulty\")\n    return np.mean(data)",
    "id": "5b048062e6624094a89fd4ef05ede428",
    "idx": 1,
    "time": "2021-01-30T01:13:50.352Z",
    "type": "execution"
   },
   {
    "id": "5b048062e6624094a89fd4ef05ede428",
    "time": "2021-01-30T01:13:50.423Z",
    "type": "completion"
   },
   {
    "code": "means = {} # this will collect our mean estimates for each option\ndata = pd.read_csv(\"data/responses.csv\")\ndata",
    "id": "45e7a81534af4039a1b11f7463a06cb8",
    "idx": 3,
    "time": "2021-01-30T01:13:50.608Z",
    "type": "execution"
   },
   {
    "id": "45e7a81534af4039a1b11f7463a06cb8",
    "time": "2021-01-30T01:13:50.710Z",
    "type": "completion"
   },
   {
    "code": "# option A\nnp.random.seed(42)\n\nreplications = 1000\nsample_frac = 0.8 # assume only 80% of students respond to the poll\ndata_A = []\nfor _ in  range(replications):\n    responses = data[data[\"attended fireside chat\"]].sample(frac=sample_frac)\n    data_A.append(responses[\"response\"].mean())\n\nmeans[\"A\"] = plot_sample(data_A)\nmeans[\"A\"]",
    "id": "bc2c3ad3dbcb42709770d45b1a907dd3",
    "idx": 4,
    "time": "2021-01-30T01:13:50.757Z",
    "type": "execution"
   },
   {
    "code": "# option B\nnp.random.seed(42)\n\nreplications = 1000\nsample_size = 10 # survey 10 students in each section\ndata_B = []\nfor _ in  range(replications):\n    responses = data.groupby(\"discussion\").sample(n=sample_size)\n    data_B.append(responses[\"response\"].mean())\n\nmeans[\"B\"] = plot_sample(data_B)\nmeans[\"B\"]",
    "id": "b46c78006eab4152b985906c8dd04bbb",
    "idx": 5,
    "time": "2021-01-30T01:13:50.892Z",
    "type": "execution"
   },
   {
    "id": "bc2c3ad3dbcb42709770d45b1a907dd3",
    "time": "2021-01-30T01:13:51.883Z",
    "type": "completion"
   },
   {
    "code": "# option C\nnp.random.seed(42)\n\nreplications = 1000\nsample_frac = 0.4 # assume only 40% of students who saw the post responded\ndata_C = []\nfor _ in  range(replications):\n    scores = data[data[\"saw piazza\"]].sample(frac=sample_frac)\n    data_C.append(scores[\"score\"].mean())\n\nmeans[\"C\"] = plot_sample(data_C)\nmeans[\"C\"]",
    "id": "8d5c1fa3a32440cc9a702c2717138149",
    "idx": 6,
    "time": "2021-01-30T01:13:58.052Z",
    "type": "execution"
   },
   {
    "id": "b46c78006eab4152b985906c8dd04bbb",
    "time": "2021-01-30T01:14:06.656Z",
    "type": "completion"
   },
   {
    "id": "8d5c1fa3a32440cc9a702c2717138149",
    "time": "2021-01-30T01:14:06.775Z",
    "type": "completion"
   },
   {
    "code": "# option C\nnp.random.seed(42)\n\nreplications = 1000\nsample_frac = 0.4 # assume only 40% of students who saw the post responded\ndata_C = []\nfor _ in  range(replications):\n    responses = data[data[\"saw piazza\"]].sample(frac=sample_frac)\n    data_C.append(responses[\"response\"].mean())\n\nmeans[\"C\"] = plot_sample(data_C)\nmeans[\"C\"]",
    "id": "8d5c1fa3a32440cc9a702c2717138149",
    "idx": 6,
    "time": "2021-01-30T01:14:16.278Z",
    "type": "execution"
   },
   {
    "id": "8d5c1fa3a32440cc9a702c2717138149",
    "time": "2021-01-30T01:14:16.458Z",
    "type": "completion"
   },
   {
    "code": "# option C\nnp.random.seed(42)\n\nreplications = 1000\nsample_frac = 0.4 # assume only 40% of students who saw the post responded\ndata_C = []\nfor _ in  range(replications):\n    responses = data[data[\"saw on piazza\"]].sample(frac=sample_frac)\n    data_C.append(responses[\"response\"].mean())\n\nmeans[\"C\"] = plot_sample(data_C)\nmeans[\"C\"]",
    "id": "8d5c1fa3a32440cc9a702c2717138149",
    "idx": 6,
    "time": "2021-01-30T01:14:19.733Z",
    "type": "execution"
   },
   {
    "id": "8d5c1fa3a32440cc9a702c2717138149",
    "time": "2021-01-30T01:14:20.874Z",
    "type": "completion"
   },
   {
    "code": "# option D\nnp.random.seed(42)\n\nreplications = 1000\nsample_size = 4 # choose 4 discussion sections\ndata_D = []\nfor _ in range(replications):\n    sampled_discussions = np.random.choice(data[\"discussion\"].unique(), replace=False, size=sample_size)\n    responses = data[data[\"discussion\"].isin(sampled_discussions)]\n    \n    # account for social pressure bias\n    responses[\"response\"] = responses[\"response\"] + responses[\"social pressure bias\"]\n    data_D.append(responses[\"response\"].mean())\n\nmeans[\"D\"] = plot_sample(data_D)\nmeans[\"D\"]",
    "id": "0a1f22895c154daa87b33bb89e5512de",
    "idx": 7,
    "time": "2021-01-30T01:15:25.542Z",
    "type": "execution"
   },
   {
    "id": "0a1f22895c154daa87b33bb89e5512de",
    "time": "2021-01-30T01:15:27.698Z",
    "type": "completion"
   },
   {
    "code": "# option D\nnp.random.seed(42)\n\nreplications = 1000\nsample_size = 4 # choose 4 discussion sections\ndata_D = []\nfor _ in range(replications):\n    sampled_discussions = np.random.choice(data[\"discussion\"].unique(), replace=False, size=sample_size)\n    responses = data[data[\"discussion\"].isin(sampled_discussions)]\n    \n    # account for social pressure bias\n    responses.loc[:,\"response\"] = responses[\"response\"] + responses[\"social pressure bias\"]\n    data_D.append(responses[\"response\"].mean())\n\nmeans[\"D\"] = plot_sample(data_D)\nmeans[\"D\"]",
    "id": "0a1f22895c154daa87b33bb89e5512de",
    "idx": 7,
    "time": "2021-01-30T01:15:36.786Z",
    "type": "execution"
   },
   {
    "id": "0a1f22895c154daa87b33bb89e5512de",
    "time": "2021-01-30T01:15:38.480Z",
    "type": "completion"
   },
   {
    "code": "# option D\nnp.random.seed(42)\n\nreplications = 1000\nsample_size = 4 # choose 4 discussion sections\ndata_D = []\nfor _ in range(replications):\n    sampled_discussions = np.random.choice(data[\"discussion\"].unique(), replace=False, size=sample_size)\n    responses = data[data[\"discussion\"].isin(sampled_discussions)]\n    \n    # account for social pressure bias\n    responses.loc[:,\"response\"] = responses[:,\"response\"] + responses[:,\"social pressure bias\"]\n    data_D.append(responses[\"response\"].mean())\n\nmeans[\"D\"] = plot_sample(data_D)\nmeans[\"D\"]",
    "id": "0a1f22895c154daa87b33bb89e5512de",
    "idx": 7,
    "time": "2021-01-30T01:15:51.921Z",
    "type": "execution"
   },
   {
    "id": "0a1f22895c154daa87b33bb89e5512de",
    "time": "2021-01-30T01:15:52.235Z",
    "type": "completion"
   },
   {
    "code": "# option D\nnp.random.seed(42)\n\nreplications = 1000\nsample_size = 4 # choose 4 discussion sections\ndata_D = []\nfor _ in range(replications):\n    sampled_discussions = np.random.choice(data[\"discussion\"].unique(), replace=False, size=sample_size)\n    responses = data[data[\"discussion\"].isin(sampled_discussions)]\n    \n    # account for social pressure bias\n    responses.loc[:,\"response\"] = responses.loc[:,\"response\"] + responses.loc[:,\"social pressure bias\"]\n    data_D.append(responses[\"response\"].mean())\n\nmeans[\"D\"] = plot_sample(data_D)\nmeans[\"D\"]",
    "id": "0a1f22895c154daa87b33bb89e5512de",
    "idx": 7,
    "time": "2021-01-30T01:16:01.945Z",
    "type": "execution"
   },
   {
    "id": "0a1f22895c154daa87b33bb89e5512de",
    "time": "2021-01-30T01:16:03.542Z",
    "type": "completion"
   },
   {
    "code": "# summary of sampling processes\nactual_mean = data[\"score\"].mean()\nprint(f\"Actual Mean: {actual_mean:.4f}\")\nfor option, mean in means.items():\n    print(\n        f\"Option {option}:   Mean = {mean:.4f}   Bias = {(mean - actual_mean):.4f}\"\n        f\"{'   (THEORETICALLY OPTIMAL)' if option == 'D' else ''}\"\n    )",
    "id": "1b3a5bd6834c47bb83c94f4b0fffdb86",
    "idx": 8,
    "time": "2021-01-30T01:16:08.464Z",
    "type": "execution"
   },
   {
    "id": "1b3a5bd6834c47bb83c94f4b0fffdb86",
    "time": "2021-01-30T01:16:08.827Z",
    "type": "completion"
   },
   {
    "code": "# summary of sampling processes\nactual_mean = data[\"response\"].mean()\nprint(f\"Actual Mean: {actual_mean:.4f}\")\nfor option, mean in means.items():\n    print(\n        f\"Option {option}:   Mean = {mean:.4f}   Bias = {(mean - actual_mean):.4f}\"\n        f\"{'   (THEORETICALLY OPTIMAL)' if option == 'B' else ''}\"\n    )",
    "id": "1b3a5bd6834c47bb83c94f4b0fffdb86",
    "idx": 8,
    "time": "2021-01-30T01:16:16.275Z",
    "type": "execution"
   },
   {
    "id": "1b3a5bd6834c47bb83c94f4b0fffdb86",
    "time": "2021-01-30T01:16:16.482Z",
    "type": "completion"
   },
   {
    "code": "import itertools\nimport numpy as np\nimport pandas as pd\nimport matplotlib.pyplot as plt\n%matplotlib inline\n\ndef plot_sample(data):\n    plt.hist(data)\n    plt.xlabel(\"Exam Difficulty\")\n    return np.mean(data)",
    "id": "5b048062e6624094a89fd4ef05ede428",
    "idx": 1,
    "time": "2021-01-30T01:16:35.572Z",
    "type": "execution"
   },
   {
    "code": "means = {} # this will collect our mean estimates for each option\ndata = pd.read_csv(\"data/responses.csv\")\ndata",
    "id": "45e7a81534af4039a1b11f7463a06cb8",
    "idx": 3,
    "time": "2021-01-30T01:16:35.575Z",
    "type": "execution"
   },
   {
    "code": "# option A\nnp.random.seed(42)\n\nreplications = 1000\nsample_frac = 0.8 # assume only 80% of students respond to the poll\ndata_A = []\nfor _ in  range(replications):\n    responses = data[data[\"attended fireside chat\"]].sample(frac=sample_frac)\n    data_A.append(responses[\"response\"].mean())\n\nmeans[\"A\"] = plot_sample(data_A)\nmeans[\"A\"]",
    "id": "bc2c3ad3dbcb42709770d45b1a907dd3",
    "idx": 4,
    "time": "2021-01-30T01:16:35.576Z",
    "type": "execution"
   },
   {
    "code": "# option B\nnp.random.seed(42)\n\nreplications = 1000\nsample_size = 10 # survey 10 students in each section\ndata_B = []\nfor _ in  range(replications):\n    responses = data.groupby(\"discussion\").sample(n=sample_size)\n    data_B.append(responses[\"response\"].mean())\n\nmeans[\"B\"] = plot_sample(data_B)\nmeans[\"B\"]",
    "id": "b46c78006eab4152b985906c8dd04bbb",
    "idx": 5,
    "time": "2021-01-30T01:16:35.578Z",
    "type": "execution"
   },
   {
    "code": "# option C\nnp.random.seed(42)\n\nreplications = 1000\nsample_frac = 0.4 # assume only 40% of students who saw the post responded\ndata_C = []\nfor _ in  range(replications):\n    responses = data[data[\"saw on piazza\"]].sample(frac=sample_frac)\n    data_C.append(responses[\"response\"].mean())\n\nmeans[\"C\"] = plot_sample(data_C)\nmeans[\"C\"]",
    "id": "8d5c1fa3a32440cc9a702c2717138149",
    "idx": 6,
    "time": "2021-01-30T01:16:35.579Z",
    "type": "execution"
   },
   {
    "code": "# option D\nnp.random.seed(42)\n\nreplications = 1000\nsample_size = 4 # choose 4 discussion sections\ndata_D = []\nfor _ in range(replications):\n    sampled_discussions = np.random.choice(data[\"discussion\"].unique(), replace=False, size=sample_size)\n    responses = data[data[\"discussion\"].isin(sampled_discussions)]\n    \n    # account for social pressure bias\n    responses.loc[:,\"response\"] = responses.loc[:,\"response\"] + responses.loc[:,\"social pressure bias\"]\n    data_D.append(responses[\"response\"].mean())\n\nmeans[\"D\"] = plot_sample(data_D)\nmeans[\"D\"]",
    "id": "0a1f22895c154daa87b33bb89e5512de",
    "idx": 7,
    "time": "2021-01-30T01:16:35.581Z",
    "type": "execution"
   },
   {
    "code": "# summary of sampling processes\nactual_mean = data[\"response\"].mean()\nprint(f\"Actual Mean: {actual_mean:.4f}\")\nfor option, mean in means.items():\n    print(\n        f\"Option {option}:   Mean = {mean:.4f}   Bias = {(mean - actual_mean):.4f}\"\n        f\"{'   (THEORETICALLY OPTIMAL)' if option == 'B' else ''}\"\n    )",
    "id": "1b3a5bd6834c47bb83c94f4b0fffdb86",
    "idx": 8,
    "time": "2021-01-30T01:16:35.582Z",
    "type": "execution"
   },
   {
    "id": "5b048062e6624094a89fd4ef05ede428",
    "time": "2021-01-30T01:16:36.244Z",
    "type": "completion"
   },
   {
    "id": "45e7a81534af4039a1b11f7463a06cb8",
    "time": "2021-01-30T01:16:36.252Z",
    "type": "completion"
   },
   {
    "id": "bc2c3ad3dbcb42709770d45b1a907dd3",
    "time": "2021-01-30T01:16:37.150Z",
    "type": "completion"
   },
   {
    "id": "b46c78006eab4152b985906c8dd04bbb",
    "time": "2021-01-30T01:16:51.998Z",
    "type": "completion"
   },
   {
    "id": "8d5c1fa3a32440cc9a702c2717138149",
    "time": "2021-01-30T01:16:52.852Z",
    "type": "completion"
   },
   {
    "id": "0a1f22895c154daa87b33bb89e5512de",
    "time": "2021-01-30T01:16:54.368Z",
    "type": "completion"
   },
   {
    "id": "1b3a5bd6834c47bb83c94f4b0fffdb86",
    "time": "2021-01-30T01:16:54.423Z",
    "type": "completion"
   },
   {
    "code": "import itertools\nimport numpy as np\nimport pandas as pd\nimport matplotlib.pyplot as plt\nimport warnings\nwarnings.simplefilter(\"ignore\")\n%matplotlib inline\n\ndef plot_sample(data):\n    plt.hist(data)\n    plt.xlabel(\"Exam Difficulty\")\n    return np.mean(data)",
    "id": "5b048062e6624094a89fd4ef05ede428",
    "idx": 1,
    "time": "2021-01-30T01:17:05.634Z",
    "type": "execution"
   },
   {
    "id": "5b048062e6624094a89fd4ef05ede428",
    "time": "2021-01-30T01:17:05.719Z",
    "type": "completion"
   },
   {
    "code": "# option D\nnp.random.seed(42)\n\nreplications = 1000\nsample_size = 4 # choose 4 discussion sections\ndata_D = []\nfor _ in range(replications):\n    sampled_discussions = np.random.choice(data[\"discussion\"].unique(), replace=False, size=sample_size)\n    responses = data[data[\"discussion\"].isin(sampled_discussions)]\n    \n    # account for social pressure bias\n    responses.loc[:,\"response\"] = responses.loc[:,\"response\"] + responses.loc[:,\"social pressure bias\"]\n    data_D.append(responses[\"response\"].mean())\n\nmeans[\"D\"] = plot_sample(data_D)\nmeans[\"D\"]",
    "id": "0a1f22895c154daa87b33bb89e5512de",
    "idx": 7,
    "time": "2021-01-30T01:17:13.692Z",
    "type": "execution"
   },
   {
    "id": "0a1f22895c154daa87b33bb89e5512de",
    "time": "2021-01-30T01:17:15.269Z",
    "type": "completion"
   },
   {
    "code": "# summary of sampling processes\nactual_mean = data[\"response\"].mean()\nprint(f\"Actual Mean: {actual_mean:.4f}\")\nfor option, mean in means.items():\n    print(\n        f\"Option {option}:   Mean = {mean:.4f}   Bias = {(mean - actual_mean):.4f}\"\n        f\"{'   (THEORETICALLY OPTIMAL)' if option == 'B' else ''}\"\n    )",
    "id": "1b3a5bd6834c47bb83c94f4b0fffdb86",
    "idx": 8,
    "time": "2021-01-30T01:17:17.057Z",
    "type": "execution"
   },
   {
    "id": "1b3a5bd6834c47bb83c94f4b0fffdb86",
    "time": "2021-01-30T01:17:17.238Z",
    "type": "completion"
   },
   {
    "code": "# summary of sampling processes\nactual_mean = data[\"response\"].mean()\nprint(f\"Actual Mean: {actual_mean:.4f}\")\nfor option, mean in means.items():\n    print(\n        f\"Option {option}:   Mean = {mean:.4f}   Bias = {(mean - actual_mean):.4f}\"\n        f\"{'   (THEORETICALLY OPTIMAL)' if option == 'B' else ''}\"\n    )",
    "id": "1b3a5bd6834c47bb83c94f4b0fffdb86",
    "idx": 8,
    "time": "2021-01-30T01:17:25.962Z",
    "type": "execution"
   },
   {
    "id": "1b3a5bd6834c47bb83c94f4b0fffdb86",
    "time": "2021-01-30T01:17:26.035Z",
    "type": "completion"
   },
   {
    "code": "import itertools\nimport numpy as np\nimport pandas as pd\nimport matplotlib.pyplot as plt\nimport warnings\nwarnings.simplefilter(\"ignore\")\n%matplotlib inline\n\ndef plot_sample(data):\n    plt.hist(data)\n    plt.xlabel(\"Exam Difficulty\")\n    return np.mean(data)",
    "id": "32791324d01246439203fb7a377043bc",
    "idx": 1,
    "time": "2021-01-30T22:28:40.433Z",
    "type": "execution"
   },
   {
    "code": "means = {} # this will collect our mean estimates for each option\ndata = pd.read_csv(\"data/responses.csv\")\ndata",
    "id": "9dec46e82db946538247e65219611ae7",
    "idx": 3,
    "time": "2021-01-30T22:28:40.958Z",
    "type": "execution"
   },
   {
    "id": "32791324d01246439203fb7a377043bc",
    "time": "2021-01-30T22:28:41.075Z",
    "type": "completion"
   },
   {
    "id": "9dec46e82db946538247e65219611ae7",
    "time": "2021-01-30T22:28:41.166Z",
    "type": "completion"
   },
   {
    "code": "# option A\nnp.random.seed(42)\n\nreplications = 1000\nsample_frac = 0.8 # assume only 80% of students respond to the poll\ndata_A = []\nfor _ in  range(replications):\n    responses = data[data[\"attended fireside chat\"]].sample(frac=sample_frac)\n    data_A.append(responses[\"response\"].mean())\n\nmeans[\"A\"] = plot_sample(data_A)\nmeans[\"A\"]",
    "id": "6466384ceafb4cf78f7160b6226ae591",
    "idx": 4,
    "time": "2021-01-30T22:28:44.449Z",
    "type": "execution"
   },
   {
    "id": "6466384ceafb4cf78f7160b6226ae591",
    "time": "2021-01-30T22:28:45.428Z",
    "type": "completion"
   },
   {
    "code": "# option B\nnp.random.seed(42)\n\n# add discussion column to data\ndata[\"discussion\"] = data[\"mini-discussion\"].str[:-1].astype(int)\n\nreplications = 1000\nsample_size = 10 # survey 10 students in each section\ndata_B = []\nfor _ in  range(replications):\n    responses = data.groupby(\"discussion\").sample(n=sample_size)\n    data_B.append(responses[\"response\"].mean())\n\nmeans[\"B\"] = plot_sample(data_B)\nmeans[\"B\"]",
    "id": "fabe25396c9f4c1c82286389c01e9dde",
    "idx": 5,
    "time": "2021-01-30T22:29:22.258Z",
    "type": "execution"
   },
   {
    "code": "data",
    "id": "4ac8af78922f4f1b85e28d5058a4cff9",
    "idx": 6,
    "time": "2021-01-30T22:29:25.877Z",
    "type": "execution"
   },
   {
    "id": "fabe25396c9f4c1c82286389c01e9dde",
    "time": "2021-01-30T22:29:42.056Z",
    "type": "completion"
   },
   {
    "id": "4ac8af78922f4f1b85e28d5058a4cff9",
    "time": "2021-01-30T22:29:42.117Z",
    "type": "completion"
   },
   {
    "code": "# option C\nnp.random.seed(42)\n\nreplications = 1000\nsample_frac = 0.4 # assume only 40% of students who saw the post responded\ndata_C = []\nfor _ in  range(replications):\n    responses = data[data[\"saw on piazza\"]].sample(frac=sample_frac)\n    data_C.append(responses[\"response\"].mean())\n\nmeans[\"C\"] = plot_sample(data_C)\nmeans[\"C\"]",
    "id": "439a734283d847e69978792c31246f36",
    "idx": 6,
    "time": "2021-01-30T22:29:54.289Z",
    "type": "execution"
   },
   {
    "id": "439a734283d847e69978792c31246f36",
    "time": "2021-01-30T22:29:55.264Z",
    "type": "completion"
   },
   {
    "code": "# option D\nnp.random.seed(42)\n\nreplications = 1000\nsample_size = 4 # choose 4 discussion sections\ndata_D = []\nfor _ in range(replications):\n    sampled_discussions = np.random.choice(data[\"discussion\"].unique(), replace=False, size=sample_size)\n    responses = data[data[\"discussion\"].isin(sampled_discussions)]\n    \n    # account for social pressure bias\n    responses.loc[:,\"response\"] = responses.loc[:,\"response\"] + responses.loc[:,\"social pressure bias\"]\n    data_D.append(responses[\"response\"].mean())\n\nmeans[\"D\"] = plot_sample(data_D)\nmeans[\"D\"]",
    "id": "11bf5464d2804f989dc782e3e03b49ae",
    "idx": 7,
    "time": "2021-01-30T22:29:56.350Z",
    "type": "execution"
   },
   {
    "id": "11bf5464d2804f989dc782e3e03b49ae",
    "time": "2021-01-30T22:29:58.004Z",
    "type": "completion"
   },
   {
    "code": "# option D\nnp.random.seed(42)\n\nreplications = 1000\nsample_size = 4 # choose 4 discussion sections\ndata_D = []\nfor _ in range(replications):\n    sampled_discussions = np.random.choice(data[\"mini-discussion\"].unique(), replace=False, size=sample_size)\n    responses = data[data[\"mini-discussion\"].isin(sampled_discussions)]\n    \n    # account for social pressure bias\n    responses.loc[:,\"response\"] = responses.loc[:,\"response\"] + responses.loc[:,\"social pressure bias\"]\n    data_D.append(responses[\"response\"].mean())\n\nmeans[\"D\"] = plot_sample(data_D)\nmeans[\"D\"]",
    "id": "11bf5464d2804f989dc782e3e03b49ae",
    "idx": 7,
    "time": "2021-01-30T22:30:10.225Z",
    "type": "execution"
   },
   {
    "id": "11bf5464d2804f989dc782e3e03b49ae",
    "time": "2021-01-30T22:30:11.938Z",
    "type": "completion"
   },
   {
    "code": "# summary of sampling processes\nactual_mean = data[\"response\"].mean()\nprint(f\"Actual Mean: {actual_mean:.4f}\")\nfor option, mean in means.items():\n    print(\n        f\"Option {option}:   Mean = {mean:.4f}   Bias = {(mean - actual_mean):.4f}\"\n        f\"{'   (THEORETICALLY OPTIMAL)' if option == 'B' else ''}\"\n    )",
    "id": "084f53aa036b4a3a986ae24ea93d3658",
    "idx": 8,
    "time": "2021-01-30T22:30:12.538Z",
    "type": "execution"
   },
   {
    "id": "084f53aa036b4a3a986ae24ea93d3658",
    "time": "2021-01-30T22:30:12.700Z",
    "type": "completion"
   },
   {
    "code": "import itertools\nimport numpy as np\nimport pandas as pd\nimport matplotlib.pyplot as plt\nimport warnings\nwarnings.simplefilter(\"ignore\")\n%matplotlib inline\n\ndef plot_sample(data):\n    plt.hist(data)\n    plt.xlabel(\"Exam Difficulty\")\n    return np.mean(data)",
    "id": "32791324d01246439203fb7a377043bc",
    "idx": 1,
    "time": "2021-01-30T22:30:20.864Z",
    "type": "execution"
   },
   {
    "code": "means = {} # this will collect our mean estimates for each option\ndata = pd.read_csv(\"data/responses.csv\")\ndata",
    "id": "9dec46e82db946538247e65219611ae7",
    "idx": 3,
    "time": "2021-01-30T22:30:20.866Z",
    "type": "execution"
   },
   {
    "code": "# option A\nnp.random.seed(42)\n\nreplications = 1000\nsample_frac = 0.8 # assume only 80% of students respond to the poll\ndata_A = []\nfor _ in  range(replications):\n    responses = data[data[\"attended fireside chat\"]].sample(frac=sample_frac)\n    data_A.append(responses[\"response\"].mean())\n\nmeans[\"A\"] = plot_sample(data_A)\nmeans[\"A\"]",
    "id": "6466384ceafb4cf78f7160b6226ae591",
    "idx": 4,
    "time": "2021-01-30T22:30:20.867Z",
    "type": "execution"
   },
   {
    "code": "# option B\nnp.random.seed(42)\n\n# add discussion column to data\ndata[\"discussion\"] = data[\"mini-discussion\"].str[:-1].astype(int)\n\nreplications = 1000\nsample_size = 10 # survey 10 students in each section\ndata_B = []\nfor _ in  range(replications):\n    responses = data.groupby(\"discussion\").sample(n=sample_size)\n    data_B.append(responses[\"response\"].mean())\n\nmeans[\"B\"] = plot_sample(data_B)\nmeans[\"B\"]",
    "id": "fabe25396c9f4c1c82286389c01e9dde",
    "idx": 5,
    "time": "2021-01-30T22:30:20.868Z",
    "type": "execution"
   },
   {
    "code": "# option C\nnp.random.seed(42)\n\nreplications = 1000\nsample_frac = 0.4 # assume only 40% of students who saw the post responded\ndata_C = []\nfor _ in  range(replications):\n    responses = data[data[\"saw on piazza\"]].sample(frac=sample_frac)\n    data_C.append(responses[\"response\"].mean())\n\nmeans[\"C\"] = plot_sample(data_C)\nmeans[\"C\"]",
    "id": "439a734283d847e69978792c31246f36",
    "idx": 6,
    "time": "2021-01-30T22:30:20.870Z",
    "type": "execution"
   },
   {
    "code": "# option D\nnp.random.seed(42)\n\nreplications = 1000\nsample_size = 4 # choose 4 discussion sections\ndata_D = []\nfor _ in range(replications):\n    sampled_discussions = np.random.choice(data[\"mini-discussion\"].unique(), replace=False, size=sample_size)\n    responses = data[data[\"mini-discussion\"].isin(sampled_discussions)]\n    \n    # account for social pressure bias\n    responses.loc[:,\"response\"] = responses.loc[:,\"response\"] + responses.loc[:,\"social pressure bias\"]\n    data_D.append(responses[\"response\"].mean())\n\nmeans[\"D\"] = plot_sample(data_D)\nmeans[\"D\"]",
    "id": "11bf5464d2804f989dc782e3e03b49ae",
    "idx": 7,
    "time": "2021-01-30T22:30:20.871Z",
    "type": "execution"
   },
   {
    "code": "# summary of sampling processes\nactual_mean = data[\"response\"].mean()\nprint(f\"Actual Mean: {actual_mean:.4f}\")\nfor option, mean in means.items():\n    print(\n        f\"Option {option}:   Mean = {mean:.4f}   Bias = {(mean - actual_mean):.4f}\"\n        f\"{'   (THEORETICALLY OPTIMAL)' if option == 'B' else ''}\"\n    )",
    "id": "084f53aa036b4a3a986ae24ea93d3658",
    "idx": 8,
    "time": "2021-01-30T22:30:20.873Z",
    "type": "execution"
   },
   {
    "id": "32791324d01246439203fb7a377043bc",
    "time": "2021-01-30T22:30:21.469Z",
    "type": "completion"
   },
   {
    "id": "9dec46e82db946538247e65219611ae7",
    "time": "2021-01-30T22:30:21.494Z",
    "type": "completion"
   },
   {
    "id": "6466384ceafb4cf78f7160b6226ae591",
    "time": "2021-01-30T22:30:22.425Z",
    "type": "completion"
   },
   {
    "id": "fabe25396c9f4c1c82286389c01e9dde",
    "time": "2021-01-30T22:30:41.850Z",
    "type": "completion"
   },
   {
    "id": "439a734283d847e69978792c31246f36",
    "time": "2021-01-30T22:30:42.749Z",
    "type": "completion"
   },
   {
    "id": "11bf5464d2804f989dc782e3e03b49ae",
    "time": "2021-01-30T22:30:44.489Z",
    "type": "completion"
   },
   {
    "id": "084f53aa036b4a3a986ae24ea93d3658",
    "time": "2021-01-30T22:30:44.586Z",
    "type": "completion"
   },
   {
    "code": "import itertools\nimport numpy as np\nimport pandas as pd\nimport matplotlib.pyplot as plt\nimport warnings\nwarnings.simplefilter(\"ignore\")\n%matplotlib inline\n\ndef plot_sample(data):\n    plt.hist(data)\n    plt.xlabel(\"Exam Difficulty\")\n    return np.mean(data)",
    "id": "d67823f023a7497d8c27d3774d4ae9cb",
    "idx": 1,
    "time": "2021-01-31T02:07:19.741Z",
    "type": "execution"
   },
   {
    "code": "means = {} # this will collect our mean estimates for each option\ndata = pd.read_csv(\"data/responses.csv\")\ndata",
    "id": "ab881ed364f0449ca7be15c7fce97cbe",
    "idx": 3,
    "time": "2021-01-31T02:07:20.050Z",
    "type": "execution"
   },
   {
    "id": "d67823f023a7497d8c27d3774d4ae9cb",
    "time": "2021-01-31T02:07:20.417Z",
    "type": "completion"
   },
   {
    "code": "# option A\nnp.random.seed(42)\n\nreplications = 1000\nsample_frac = 0.8 # assume only 80% of students respond to the poll\ndata_A = []\nfor _ in  range(replications):\n    responses = data[data[\"attended fireside chat\"]].sample(frac=sample_frac)\n    data_A.append(responses[\"response\"].mean())\n\nmeans[\"A\"] = plot_sample(data_A)\nmeans[\"A\"]",
    "id": "a7435053d01441db99f81d3dc2c8b280",
    "idx": 4,
    "time": "2021-01-31T02:07:20.433Z",
    "type": "execution"
   },
   {
    "id": "ab881ed364f0449ca7be15c7fce97cbe",
    "time": "2021-01-31T02:07:20.468Z",
    "type": "completion"
   },
   {
    "id": "a7435053d01441db99f81d3dc2c8b280",
    "time": "2021-01-31T02:07:21.413Z",
    "type": "completion"
   },
   {
    "code": "import itertools\nimport numpy as np\nimport pandas as pd\nimport matplotlib.pyplot as plt\nimport warnings\nwarnings.simplefilter(\"ignore\")\n%matplotlib inline\n\ndef plot_sample(data):\n    plt.hist(data)\n    plt.xlabel(\"Exam Difficulty\")\n    return np.mean(data)\n\nplot_sample(data_A)",
    "id": "d67823f023a7497d8c27d3774d4ae9cb",
    "idx": 1,
    "time": "2021-01-31T02:07:26.642Z",
    "type": "execution"
   },
   {
    "id": "d67823f023a7497d8c27d3774d4ae9cb",
    "time": "2021-01-31T02:07:26.857Z",
    "type": "completion"
   },
   {
    "code": "import itertools\nimport numpy as np\nimport pandas as pd\nimport matplotlib.pyplot as plt\nimport warnings\nwarnings.simplefilter(\"ignore\")\n%matplotlib inline\n\ndef plot_sample(data):\n    plt.figure(figsize=[10,7])\n    plt.hist(data)\n    plt.xlabel(\"Exam Difficulty\")\n    return np.mean(data)\n\nplot_sample(data_A)",
    "id": "d67823f023a7497d8c27d3774d4ae9cb",
    "idx": 1,
    "time": "2021-01-31T02:07:50.175Z",
    "type": "execution"
   },
   {
    "id": "d67823f023a7497d8c27d3774d4ae9cb",
    "time": "2021-01-31T02:07:50.431Z",
    "type": "completion"
   },
   {
    "code": "import itertools\nimport numpy as np\nimport pandas as pd\nimport matplotlib.pyplot as plt\nimport warnings\nwarnings.simplefilter(\"ignore\")\n%matplotlib inline\n\ndef plot_sample(data):\n    plt.figure(figsize=[10,5])\n    plt.hist(data)\n    plt.xlabel(\"Exam Difficulty\")\n    return np.mean(data)\n\nplot_sample(data_A)",
    "id": "d67823f023a7497d8c27d3774d4ae9cb",
    "idx": 1,
    "time": "2021-01-31T02:07:53.678Z",
    "type": "execution"
   },
   {
    "id": "d67823f023a7497d8c27d3774d4ae9cb",
    "time": "2021-01-31T02:07:53.892Z",
    "type": "completion"
   },
   {
    "code": "import itertools\nimport numpy as np\nimport pandas as pd\nimport matplotlib.pyplot as plt\nimport warnings\nwarnings.simplefilter(\"ignore\")\n%matplotlib inline\n\ndef plot_sample(data):\n    plt.figure(figsize=[10,6])\n    plt.hist(data)\n    plt.xlabel(\"Exam Difficulty\")\n    return np.mean(data)\n\nplot_sample(data_A)",
    "id": "d67823f023a7497d8c27d3774d4ae9cb",
    "idx": 1,
    "time": "2021-01-31T02:07:56.446Z",
    "type": "execution"
   },
   {
    "id": "d67823f023a7497d8c27d3774d4ae9cb",
    "time": "2021-01-31T02:07:56.654Z",
    "type": "completion"
   },
   {
    "code": "import itertools\nimport numpy as np\nimport pandas as pd\nimport matplotlib.pyplot as plt\nimport warnings\nwarnings.simplefilter(\"ignore\")\n%matplotlib inline\n\ndef plot_sample(data):\n    plt.figure(figsize=[10,6], dpi=100)\n    plt.hist(data)\n    plt.xlabel(\"Exam Difficulty\")\n    return np.mean(data)\n\nplot_sample(data_A)",
    "id": "d67823f023a7497d8c27d3774d4ae9cb",
    "idx": 1,
    "time": "2021-01-31T02:07:58.912Z",
    "type": "execution"
   },
   {
    "id": "d67823f023a7497d8c27d3774d4ae9cb",
    "time": "2021-01-31T02:07:59.204Z",
    "type": "completion"
   },
   {
    "code": "import itertools\nimport numpy as np\nimport pandas as pd\nimport matplotlib.pyplot as plt\nimport warnings\nwarnings.simplefilter(\"ignore\")\n%matplotlib inline\n\ndef plot_sample(data):\n    plt.figure(figsize=[10,6], dpi=400)\n    plt.hist(data)\n    plt.xlabel(\"Exam Difficulty\")\n    return np.mean(data)\n\nplot_sample(data_A)",
    "id": "d67823f023a7497d8c27d3774d4ae9cb",
    "idx": 1,
    "time": "2021-01-31T02:08:15.665Z",
    "type": "execution"
   },
   {
    "id": "d67823f023a7497d8c27d3774d4ae9cb",
    "time": "2021-01-31T02:08:16.614Z",
    "type": "completion"
   },
   {
    "code": "import itertools\nimport numpy as np\nimport pandas as pd\nimport matplotlib.pyplot as plt\nimport warnings\nwarnings.simplefilter(\"ignore\")\n%matplotlib inline\n\ndef plot_sample(data):\n    plt.figure(figsize=[10,6], dpi=200)\n    plt.hist(data)\n    plt.xlabel(\"Exam Difficulty\")\n    return np.mean(data)\n\nplot_sample(data_A)",
    "id": "d67823f023a7497d8c27d3774d4ae9cb",
    "idx": 1,
    "time": "2021-01-31T02:08:21.896Z",
    "type": "execution"
   },
   {
    "id": "d67823f023a7497d8c27d3774d4ae9cb",
    "time": "2021-01-31T02:08:22.260Z",
    "type": "completion"
   },
   {
    "code": "import itertools\nimport numpy as np\nimport pandas as pd\nimport matplotlib.pyplot as plt\nimport warnings\nwarnings.simplefilter(\"ignore\")\n%matplotlib inline\n\ndef plot_sample(data):\n    plt.figure(figsize=[7,4], dpi=200)\n    plt.hist(data)\n    plt.xlabel(\"Exam Difficulty\")\n    return np.mean(data)\n\nplot_sample(data_A)",
    "id": "d67823f023a7497d8c27d3774d4ae9cb",
    "idx": 1,
    "time": "2021-01-31T02:08:28.907Z",
    "type": "execution"
   },
   {
    "id": "d67823f023a7497d8c27d3774d4ae9cb",
    "time": "2021-01-31T02:08:29.218Z",
    "type": "completion"
   },
   {
    "code": "import itertools\nimport numpy as np\nimport pandas as pd\nimport matplotlib.pyplot as plt\nimport warnings\nwarnings.simplefilter(\"ignore\")\n%matplotlib inline\n\ndef plot_sample(data):\n    plt.figure(figsize=[7,4], dpi=200)\n    plt.hist(data)\n    plt.xlabel(\"Exam Difficulty\")\n    return np.mean(data)\n\nplot_sample(data_A)",
    "id": "d67823f023a7497d8c27d3774d4ae9cb",
    "idx": 1,
    "time": "2021-01-31T02:10:00.614Z",
    "type": "execution"
   },
   {
    "id": "d67823f023a7497d8c27d3774d4ae9cb",
    "time": "2021-01-31T02:10:00.942Z",
    "type": "completion"
   },
   {
    "code": "import itertools\nimport numpy as np\nimport pandas as pd\nimport matplotlib.pyplot as plt\nimport warnings\nwarnings.simplefilter(\"ignore\")\n%matplotlib inline\n\ndef plot_sample(data):\n    plt.figure(figsize=[4, 3], dpi=200)\n    plt.hist(data)\n    plt.xlabel(\"Exam Difficulty\")\n    return np.mean(data)\n\nplot_sample(data_A)",
    "id": "d67823f023a7497d8c27d3774d4ae9cb",
    "idx": 1,
    "time": "2021-01-31T02:10:06.465Z",
    "type": "execution"
   },
   {
    "id": "d67823f023a7497d8c27d3774d4ae9cb",
    "time": "2021-01-31T02:10:06.790Z",
    "type": "completion"
   },
   {
    "code": "import itertools\nimport numpy as np\nimport pandas as pd\nimport matplotlib.pyplot as plt\nimport warnings\nwarnings.simplefilter(\"ignore\")\n%matplotlib inline\n\ndef plot_sample(data):\n    plt.figure(figsize=[3, 1.75], dpi=200)\n    plt.hist(data)\n    plt.xlabel(\"Exam Difficulty\")\n    return np.mean(data)\n\nplot_sample(data_A)",
    "id": "d67823f023a7497d8c27d3774d4ae9cb",
    "idx": 1,
    "time": "2021-01-31T02:10:12.854Z",
    "type": "execution"
   },
   {
    "id": "d67823f023a7497d8c27d3774d4ae9cb",
    "time": "2021-01-31T02:10:13.125Z",
    "type": "completion"
   },
   {
    "code": "import itertools\nimport numpy as np\nimport pandas as pd\nimport matplotlib.pyplot as plt\nimport warnings\nwarnings.simplefilter(\"ignore\")\n%matplotlib inline\n\ndef plot_sample(data):\n    plt.figure(figsize=[3, 1.75], dpi=200, fontsize=10)\n    plt.hist(data)\n    plt.xlabel(\"Exam Difficulty\")\n    return np.mean(data)\n\nplot_sample(data_A)",
    "id": "d67823f023a7497d8c27d3774d4ae9cb",
    "idx": 1,
    "time": "2021-01-31T02:10:19.769Z",
    "type": "execution"
   },
   {
    "id": "d67823f023a7497d8c27d3774d4ae9cb",
    "time": "2021-01-31T02:10:19.975Z",
    "type": "completion"
   },
   {
    "code": "import itertools\nimport numpy as np\nimport pandas as pd\nimport matplotlib.pyplot as plt\nimport warnings\nwarnings.simplefilter(\"ignore\")\n%matplotlib inline\n\ndef plot_sample(data):\n    plt.figure(figsize=[3, 1.75], dpi=200, fontsize=10)\n    plt.hist(data)\n    plt.xlabel(\"Exam Difficulty\", fontsize=10)\n    return np.mean(data)\n\nplot_sample(data_A)",
    "id": "d67823f023a7497d8c27d3774d4ae9cb",
    "idx": 1,
    "time": "2021-01-31T02:10:26.678Z",
    "type": "execution"
   },
   {
    "id": "d67823f023a7497d8c27d3774d4ae9cb",
    "time": "2021-01-31T02:10:26.803Z",
    "type": "completion"
   },
   {
    "code": "import itertools\nimport numpy as np\nimport pandas as pd\nimport matplotlib.pyplot as plt\nimport warnings\nwarnings.simplefilter(\"ignore\")\n%matplotlib inline\n\ndef plot_sample(data):\n    plt.figure(figsize=[3, 1.75], dpi=200)\n    plt.hist(data)\n    plt.xlabel(\"Exam Difficulty\", fontsize=10)\n    return np.mean(data)\n\nplot_sample(data_A)",
    "id": "d67823f023a7497d8c27d3774d4ae9cb",
    "idx": 1,
    "time": "2021-01-31T02:10:29.515Z",
    "type": "execution"
   },
   {
    "id": "d67823f023a7497d8c27d3774d4ae9cb",
    "time": "2021-01-31T02:10:29.770Z",
    "type": "completion"
   },
   {
    "code": "import itertools\nimport numpy as np\nimport pandas as pd\nimport matplotlib.pyplot as plt\nimport warnings\nwarnings.simplefilter(\"ignore\")\n%matplotlib inline\n\ndef plot_sample(data):\n    plt.rcParams[\"fontsize\"]  = 10\n    plt.figure(figsize=[3, 1.75], dpi=200)\n    plt.hist(data)\n    plt.xlabel(\"Exam Difficulty\")\n    return np.mean(data)\n\nplot_sample(data_A)",
    "id": "d67823f023a7497d8c27d3774d4ae9cb",
    "idx": 1,
    "time": "2021-01-31T02:10:43.410Z",
    "type": "execution"
   },
   {
    "id": "d67823f023a7497d8c27d3774d4ae9cb",
    "time": "2021-01-31T02:10:43.549Z",
    "type": "completion"
   },
   {
    "code": "import itertools\nimport numpy as np\nimport pandas as pd\nimport matplotlib.pyplot as plt\nimport warnings\nwarnings.simplefilter(\"ignore\")\n%matplotlib inline\n\ndef plot_sample(data):\n    plt.rcParams[\"font\"]  = 10\n    plt.figure(figsize=[3, 1.75], dpi=200)\n    plt.hist(data)\n    plt.xlabel(\"Exam Difficulty\")\n    return np.mean(data)\n\nplot_sample(data_A)",
    "id": "d67823f023a7497d8c27d3774d4ae9cb",
    "idx": 1,
    "time": "2021-01-31T02:10:50.304Z",
    "type": "execution"
   },
   {
    "id": "d67823f023a7497d8c27d3774d4ae9cb",
    "time": "2021-01-31T02:10:50.425Z",
    "type": "completion"
   },
   {
    "code": "import itertools\nimport numpy as np\nimport pandas as pd\nimport matplotlib.pyplot as plt\nimport warnings\nwarnings.simplefilter(\"ignore\")\n%matplotlib inline\n\ndef plot_sample(data):\n    plt.rcParams[\"font\"]  = {\"size\": 10}\n    plt.figure(figsize=[3, 1.75], dpi=200)\n    plt.hist(data)\n    plt.xlabel(\"Exam Difficulty\")\n    return np.mean(data)\n\nplot_sample(data_A)",
    "id": "d67823f023a7497d8c27d3774d4ae9cb",
    "idx": 1,
    "time": "2021-01-31T02:11:11.097Z",
    "type": "execution"
   },
   {
    "id": "d67823f023a7497d8c27d3774d4ae9cb",
    "time": "2021-01-31T02:11:11.224Z",
    "type": "completion"
   },
   {
    "code": "import itertools\nimport numpy as np\nimport pandas as pd\nimport matplotlib.pyplot as plt\nimport warnings\nwarnings.simplefilter(\"ignore\")\n%matplotlib inline\n\ndef plot_sample(data):\n    plt.rcParams[\"font.size\"] = 10\n    plt.figure(figsize=[3, 1.75], dpi=200)\n    plt.hist(data)\n    plt.xlabel(\"Exam Difficulty\")\n    return np.mean(data)\n\nplot_sample(data_A)",
    "id": "d67823f023a7497d8c27d3774d4ae9cb",
    "idx": 1,
    "time": "2021-01-31T02:11:25.171Z",
    "type": "execution"
   },
   {
    "id": "d67823f023a7497d8c27d3774d4ae9cb",
    "time": "2021-01-31T02:11:25.451Z",
    "type": "completion"
   },
   {
    "code": "import itertools\nimport numpy as np\nimport pandas as pd\nimport matplotlib.pyplot as plt\nimport warnings\nwarnings.simplefilter(\"ignore\")\n%matplotlib inline\n\ndef plot_sample(data):\n    plt.rcParams[\"font.size\"] = 8\n    plt.figure(figsize=[3, 1.75], dpi=200)\n    plt.hist(data)\n    plt.xlabel(\"Exam Difficulty\")\n    return np.mean(data)\n\nplot_sample(data_A)",
    "id": "d67823f023a7497d8c27d3774d4ae9cb",
    "idx": 1,
    "time": "2021-01-31T02:11:28.729Z",
    "type": "execution"
   },
   {
    "id": "d67823f023a7497d8c27d3774d4ae9cb",
    "time": "2021-01-31T02:11:29.040Z",
    "type": "completion"
   },
   {
    "code": "import itertools\nimport numpy as np\nimport pandas as pd\nimport matplotlib.pyplot as plt\nimport warnings\nwarnings.simplefilter(\"ignore\")\n%matplotlib inline\n\ndef plot_sample(data):\n    plt.rcParams[\"font.size\"] = 8\n    fig = plt.figure(figsize=[3, 1.75], dpi=200)\n    fig.font\n    plt.hist(data)\n    plt.xlabel(\"Exam Difficulty\")\n    return np.mean(data)\n\nplot_sample(data_A)",
    "id": "d67823f023a7497d8c27d3774d4ae9cb",
    "idx": 1,
    "time": "2021-01-31T02:11:40.031Z",
    "type": "execution"
   },
   {
    "id": "d67823f023a7497d8c27d3774d4ae9cb",
    "time": "2021-01-31T02:11:40.114Z",
    "type": "completion"
   },
   {
    "code": "import itertools\nimport numpy as np\nimport pandas as pd\nimport matplotlib.pyplot as plt\nimport warnings\nwarnings.simplefilter(\"ignore\")\n%matplotlib inline\n\ndef plot_sample(data):\n    plt.rcParams[\"font.size\"] = 8\n    fig = plt.figure(figsize=[3, 1.75], dpi=200)\n    fig.rcParams\n    plt.hist(data)\n    plt.xlabel(\"Exam Difficulty\")\n    return np.mean(data)\n\nplot_sample(data_A)",
    "id": "d67823f023a7497d8c27d3774d4ae9cb",
    "idx": 1,
    "time": "2021-01-31T02:11:44.647Z",
    "type": "execution"
   },
   {
    "id": "d67823f023a7497d8c27d3774d4ae9cb",
    "time": "2021-01-31T02:11:44.743Z",
    "type": "completion"
   },
   {
    "code": "import itertools\nimport numpy as np\nimport pandas as pd\nimport matplotlib.pyplot as plt\nimport warnings\nwarnings.simplefilter(\"ignore\")\n%matplotlib inline\n\ndef plot_sample(data):\n    plt.rcParams[\"font.size\"] = 8\n    plt.figure(figsize=[3, 1.75], dpi=200)\n    plt.hist(data)\n    plt.xlabel(\"Exam Difficulty\")\n    return np.mean(data)\n\nplot_sample(data_A)",
    "id": "d67823f023a7497d8c27d3774d4ae9cb",
    "idx": 1,
    "time": "2021-01-31T02:11:49.922Z",
    "type": "execution"
   },
   {
    "id": "d67823f023a7497d8c27d3774d4ae9cb",
    "time": "2021-01-31T02:11:50.172Z",
    "type": "completion"
   },
   {
    "code": "import itertools\nimport numpy as np\nimport pandas as pd\nimport matplotlib.pyplot as plt\nimport warnings\nwarnings.simplefilter(\"ignore\")\n%matplotlib inline\n\ndef plot_sample(data):\n    plt.rcParams[\"font.size\"] = 2\n    plt.figure(figsize=[3, 1.75], dpi=200)\n    plt.hist(data)\n    plt.xlabel(\"Exam Difficulty\")\n    return np.mean(data)\n\nplot_sample(data_A)",
    "id": "d67823f023a7497d8c27d3774d4ae9cb",
    "idx": 1,
    "time": "2021-01-31T02:11:56.363Z",
    "type": "execution"
   },
   {
    "id": "d67823f023a7497d8c27d3774d4ae9cb",
    "time": "2021-01-31T02:11:56.667Z",
    "type": "completion"
   },
   {
    "code": "import itertools\nimport numpy as np\nimport pandas as pd\nimport matplotlib.pyplot as plt\nimport warnings\nwarnings.simplefilter(\"ignore\")\n%matplotlib inline\n\ndef plot_sample(data):\n    plt.rcParams[\"font.size\"] = 3\n    plt.figure(figsize=[3, 1.75], dpi=200)\n    plt.hist(data)\n    plt.xlabel(\"Exam Difficulty\")\n    return np.mean(data)\n\nplot_sample(data_A)",
    "id": "d67823f023a7497d8c27d3774d4ae9cb",
    "idx": 1,
    "time": "2021-01-31T02:11:59.384Z",
    "type": "execution"
   },
   {
    "id": "d67823f023a7497d8c27d3774d4ae9cb",
    "time": "2021-01-31T02:11:59.642Z",
    "type": "completion"
   },
   {
    "code": "import itertools\nimport numpy as np\nimport pandas as pd\nimport matplotlib.pyplot as plt\nimport warnings\nwarnings.simplefilter(\"ignore\")\n%matplotlib inline\n\ndef plot_sample(data):\n    plt.rcParams[\"font.size\"] = 4\n    plt.figure(figsize=[3, 1.75], dpi=200)\n    plt.hist(data)\n    plt.xlabel(\"Exam Difficulty\")\n    return np.mean(data)\n\nplot_sample(data_A)",
    "id": "d67823f023a7497d8c27d3774d4ae9cb",
    "idx": 1,
    "time": "2021-01-31T02:12:00.461Z",
    "type": "execution"
   },
   {
    "id": "d67823f023a7497d8c27d3774d4ae9cb",
    "time": "2021-01-31T02:12:00.668Z",
    "type": "completion"
   },
   {
    "code": "import itertools\nimport numpy as np\nimport pandas as pd\nimport matplotlib.pyplot as plt\nimport warnings\nwarnings.simplefilter(\"ignore\")\n%matplotlib inline\n\ndef plot_sample(data):\n    plt.rcParams[\"font.size\"] = 4\n    plt.figure(figsize=[3, 1.75], dpi=200)\n    plt.hist(data)\n    plt.xlabel(\"Exam Difficulty\")\n    return np.mean(data)\n\nplot_sample(data_A)",
    "id": "d67823f023a7497d8c27d3774d4ae9cb",
    "idx": 1,
    "time": "2021-01-31T02:12:03.290Z",
    "type": "execution"
   },
   {
    "id": "d67823f023a7497d8c27d3774d4ae9cb",
    "time": "2021-01-31T02:12:03.502Z",
    "type": "completion"
   },
   {
    "code": "import itertools\nimport numpy as np\nimport pandas as pd\nimport matplotlib.pyplot as plt\nimport warnings\nwarnings.simplefilter(\"ignore\")\n%matplotlib inline\n\ndef plot_sample(data):\n    plt.rcParams[\"font.size\"] = 5\n    plt.figure(figsize=[3, 1.75], dpi=200)\n    plt.hist(data)\n    plt.xlabel(\"Exam Difficulty\")\n    return np.mean(data)\n\nplot_sample(data_A)",
    "id": "d67823f023a7497d8c27d3774d4ae9cb",
    "idx": 1,
    "time": "2021-01-31T02:12:04.345Z",
    "type": "execution"
   },
   {
    "id": "d67823f023a7497d8c27d3774d4ae9cb",
    "time": "2021-01-31T02:12:04.568Z",
    "type": "completion"
   },
   {
    "code": "import itertools\nimport numpy as np\nimport pandas as pd\nimport matplotlib.pyplot as plt\nimport warnings\nwarnings.simplefilter(\"ignore\")\n%matplotlib inline\n\ndef plot_sample(data):\n    plt.rcParams[\"font.size\"] = 5\n    plt.figure(figsize=[3, 1.75], dpi=300)\n    plt.hist(data)\n    plt.xlabel(\"Exam Difficulty\")\n    return np.mean(data)\n\nplot_sample(data_A)",
    "id": "d67823f023a7497d8c27d3774d4ae9cb",
    "idx": 1,
    "time": "2021-01-31T02:12:08.942Z",
    "type": "execution"
   },
   {
    "id": "d67823f023a7497d8c27d3774d4ae9cb",
    "time": "2021-01-31T02:12:09.223Z",
    "type": "completion"
   },
   {
    "code": "import itertools\nimport numpy as np\nimport pandas as pd\nimport matplotlib.pyplot as plt\nimport warnings\nwarnings.simplefilter(\"ignore\")\n%matplotlib inline\n\ndef plot_sample(data):\n    plt.rcParams[\"font.size\"] = 3\n    plt.figure(figsize=[3, 1.75], dpi=300)\n    plt.hist(data)\n    plt.xlabel(\"Exam Difficulty\")\n    return np.mean(data)\n\nplot_sample(data_A)",
    "id": "d67823f023a7497d8c27d3774d4ae9cb",
    "idx": 1,
    "time": "2021-01-31T02:12:12.785Z",
    "type": "execution"
   },
   {
    "id": "d67823f023a7497d8c27d3774d4ae9cb",
    "time": "2021-01-31T02:12:13.014Z",
    "type": "completion"
   },
   {
    "code": "import itertools\nimport numpy as np\nimport pandas as pd\nimport matplotlib.pyplot as plt\nimport warnings\nwarnings.simplefilter(\"ignore\")\n%matplotlib inline\n\ndef plot_sample(data):\n    plt.rcParams[\"font.size\"] = 4\n    plt.figure(figsize=[3, 1.75], dpi=300)\n    plt.hist(data)\n    plt.xlabel(\"Exam Difficulty\")\n    return np.mean(data)\n\nplot_sample(data_A)",
    "id": "d67823f023a7497d8c27d3774d4ae9cb",
    "idx": 1,
    "time": "2021-01-31T02:12:14.702Z",
    "type": "execution"
   },
   {
    "id": "d67823f023a7497d8c27d3774d4ae9cb",
    "time": "2021-01-31T02:12:14.991Z",
    "type": "completion"
   },
   {
    "code": "import itertools\nimport numpy as np\nimport pandas as pd\nimport matplotlib.pyplot as plt\nimport warnings\nwarnings.simplefilter(\"ignore\")\n%matplotlib inline\n\ndef plot_sample(data):\n    plt.rcParams[\"font.size\"] = 4\n    plt.rcParams[\"line.linewidth\"] = 1\n    plt.figure(figsize=[3, 1.75], dpi=300)\n    plt.hist(data)\n    plt.xlabel(\"Exam Difficulty\")\n    return np.mean(data)\n\nplot_sample(data_A)",
    "id": "d67823f023a7497d8c27d3774d4ae9cb",
    "idx": 1,
    "time": "2021-01-31T02:12:35.962Z",
    "type": "execution"
   },
   {
    "id": "d67823f023a7497d8c27d3774d4ae9cb",
    "time": "2021-01-31T02:12:36.087Z",
    "type": "completion"
   },
   {
    "code": "import itertools\nimport numpy as np\nimport pandas as pd\nimport matplotlib.pyplot as plt\nimport warnings\nwarnings.simplefilter(\"ignore\")\n%matplotlib inline\n\ndef plot_sample(data):\n    plt.rcParams[\"font.size\"] = 4\n    plt.rcParams[\"linewidth\"] = 1\n    plt.figure(figsize=[3, 1.75], dpi=300)\n    plt.hist(data)\n    plt.xlabel(\"Exam Difficulty\")\n    return np.mean(data)\n\nplot_sample(data_A)",
    "id": "d67823f023a7497d8c27d3774d4ae9cb",
    "idx": 1,
    "time": "2021-01-31T02:12:43.092Z",
    "type": "execution"
   },
   {
    "id": "d67823f023a7497d8c27d3774d4ae9cb",
    "time": "2021-01-31T02:12:43.224Z",
    "type": "completion"
   },
   {
    "code": "import itertools\nimport numpy as np\nimport pandas as pd\nimport matplotlib.pyplot as plt\nimport warnings\nwarnings.simplefilter(\"ignore\")\n%matplotlib inline\n\ndef plot_sample(data):\n    plt.rcParams[\"font.size\"] = 4\n    plt.rcParams[\"lines.linewidth\"] = 1\n    plt.figure(figsize=[3, 1.75], dpi=300)\n    plt.hist(data)\n    plt.xlabel(\"Exam Difficulty\")\n    return np.mean(data)\n\nplot_sample(data_A)",
    "id": "d67823f023a7497d8c27d3774d4ae9cb",
    "idx": 1,
    "time": "2021-01-31T02:12:54.990Z",
    "type": "execution"
   },
   {
    "id": "d67823f023a7497d8c27d3774d4ae9cb",
    "time": "2021-01-31T02:12:55.250Z",
    "type": "completion"
   },
   {
    "code": "import itertools\nimport numpy as np\nimport pandas as pd\nimport matplotlib.pyplot as plt\nimport warnings\nwarnings.simplefilter(\"ignore\")\n%matplotlib inline\n\ndef plot_sample(data):\n    plt.rcParams[\"font.size\"] = 4\n    plt.rcParams[\"lines.linewidth\"] = 0.4\n    plt.figure(figsize=[3, 1.75], dpi=300)\n    plt.hist(data)\n    plt.xlabel(\"Exam Difficulty\")\n    return np.mean(data)\n\nplot_sample(data_A)",
    "id": "d67823f023a7497d8c27d3774d4ae9cb",
    "idx": 1,
    "time": "2021-01-31T02:12:58.051Z",
    "type": "execution"
   },
   {
    "id": "d67823f023a7497d8c27d3774d4ae9cb",
    "time": "2021-01-31T02:12:58.445Z",
    "type": "completion"
   },
   {
    "code": "import itertools\nimport numpy as np\nimport pandas as pd\nimport matplotlib.pyplot as plt\nimport warnings\nwarnings.simplefilter(\"ignore\")\n%matplotlib inline\n\ndef plot_sample(data):\n    plt.figure(figsize=[10,6])\n    plt.hist(data)\n    plt.xlabel(\"Exam Difficulty\")\n    return np.mean(data)\n\nplot_sample(data_A)",
    "id": "d67823f023a7497d8c27d3774d4ae9cb",
    "idx": 1,
    "time": "2021-01-31T02:13:11.690Z",
    "type": "execution"
   },
   {
    "id": "d67823f023a7497d8c27d3774d4ae9cb",
    "time": "2021-01-31T02:13:11.894Z",
    "type": "completion"
   },
   {
    "code": "import itertools\nimport numpy as np\nimport pandas as pd\nimport matplotlib.pyplot as plt\nimport warnings\nwarnings.simplefilter(\"ignore\")\n%matplotlib inline\n\ndef plot_sample(arr):\n    plt.figure(figsize=[10,6])\n    plt.hist(arr)\n    plt.xlabel(\"Exam Difficulty\")\n    data_mean = np.mean(arr)\n    pop_mean = data[\"response\"].mean()\n    plt.vlines(data_mean, [0, 250])\n\nplot_sample(data_A)",
    "id": "d67823f023a7497d8c27d3774d4ae9cb",
    "idx": 1,
    "time": "2021-01-31T02:14:10.116Z",
    "type": "execution"
   },
   {
    "id": "d67823f023a7497d8c27d3774d4ae9cb",
    "time": "2021-01-31T02:14:10.342Z",
    "type": "completion"
   },
   {
    "code": "import itertools\nimport numpy as np\nimport pandas as pd\nimport matplotlib.pyplot as plt\nimport warnings\nwarnings.simplefilter(\"ignore\")\n%matplotlib inline\n\ndef plot_sample(arr):\n    plt.figure(figsize=[10,6])\n    plt.hist(arr)\n    plt.xlabel(\"Exam Difficulty\")\n    data_mean = np.mean(arr)\n    pop_mean = data[\"response\"].mean()\n    plt.vlines(data_mean, 0, 250)\n\nplot_sample(data_A)",
    "id": "d67823f023a7497d8c27d3774d4ae9cb",
    "idx": 1,
    "time": "2021-01-31T02:14:14.153Z",
    "type": "execution"
   },
   {
    "id": "d67823f023a7497d8c27d3774d4ae9cb",
    "time": "2021-01-31T02:14:14.359Z",
    "type": "completion"
   },
   {
    "code": "import itertools\nimport numpy as np\nimport pandas as pd\nimport matplotlib.pyplot as plt\nimport warnings\nwarnings.simplefilter(\"ignore\")\n%matplotlib inline\n\ndef plot_sample(arr):\n    plt.figure(figsize=[10,6])\n    plt.hist(arr)\n    plt.xlabel(\"Exam Difficulty\")\n    data_mean = np.mean(arr)\n    pop_mean = data[\"response\"].mean()\n    plt.axvline(data_mean, 0, 250)\n\nplot_sample(data_A)",
    "id": "d67823f023a7497d8c27d3774d4ae9cb",
    "idx": 1,
    "time": "2021-01-31T02:15:25.547Z",
    "type": "execution"
   },
   {
    "id": "d67823f023a7497d8c27d3774d4ae9cb",
    "time": "2021-01-31T02:15:25.805Z",
    "type": "completion"
   },
   {
    "code": "import itertools\nimport numpy as np\nimport pandas as pd\nimport matplotlib.pyplot as plt\nimport warnings\nwarnings.simplefilter(\"ignore\")\n%matplotlib inline\n\ndef plot_sample(arr):\n    plt.figure(figsize=[10,6])\n    plt.hist(arr)\n    plt.xlabel(\"Exam Difficulty\")\n    data_mean = np.mean(arr)\n    pop_mean = data[\"response\"].mean()\n    plt.axvline(data_mean, 0, 250, color=\"r\", linewidth=2)\n\nplot_sample(data_A)",
    "id": "d67823f023a7497d8c27d3774d4ae9cb",
    "idx": 1,
    "time": "2021-01-31T02:15:36.721Z",
    "type": "execution"
   },
   {
    "id": "d67823f023a7497d8c27d3774d4ae9cb",
    "time": "2021-01-31T02:15:36.933Z",
    "type": "completion"
   },
   {
    "code": "import itertools\nimport numpy as np\nimport pandas as pd\nimport matplotlib.pyplot as plt\nimport warnings\nwarnings.simplefilter(\"ignore\")\n%matplotlib inline\n\ndef plot_sample(arr):\n    plt.figure(figsize=[10,6])\n    plt.hist(arr)\n    plt.xlabel(\"Exam Difficulty\")\n    data_mean = np.mean(arr)\n    pop_mean = data[\"response\"].mean()\n    plt.axvline(data_mean, 0, 250, color=\"r\", linewidth=3)\n\nplot_sample(data_A)",
    "id": "d67823f023a7497d8c27d3774d4ae9cb",
    "idx": 1,
    "time": "2021-01-31T02:15:39.464Z",
    "type": "execution"
   },
   {
    "id": "d67823f023a7497d8c27d3774d4ae9cb",
    "time": "2021-01-31T02:15:39.722Z",
    "type": "completion"
   },
   {
    "code": "import itertools\nimport numpy as np\nimport pandas as pd\nimport matplotlib.pyplot as plt\nimport warnings\nwarnings.simplefilter(\"ignore\")\n%matplotlib inline\n\ndef plot_sample(arr):\n    plt.figure(figsize=[10,6])\n    plt.hist(arr)\n    plt.xlabel(\"Exam Difficulty\")\n    data_mean = np.mean(arr)\n    pop_mean = data[\"response\"].mean()\n    plt.axvline(data_mean, 0, 250, color=\"r\", linewidth=3, label=\"Empirical Mean\")\n    plt.axvline(pop_mean, 0, 250, color=\"g\", linewidth=3, label=\"Population Mean\")\n\nplot_sample(data_A)",
    "id": "d67823f023a7497d8c27d3774d4ae9cb",
    "idx": 1,
    "time": "2021-01-31T02:16:05.037Z",
    "type": "execution"
   },
   {
    "id": "d67823f023a7497d8c27d3774d4ae9cb",
    "time": "2021-01-31T02:16:05.258Z",
    "type": "completion"
   },
   {
    "code": "import itertools\nimport numpy as np\nimport pandas as pd\nimport matplotlib.pyplot as plt\nimport warnings\nwarnings.simplefilter(\"ignore\")\n%matplotlib inline\n\ndef plot_sample(arr):\n    plt.figure(figsize=[10,6])\n    plt.hist(arr)\n    plt.xlabel(\"Exam Difficulty\")\n    data_mean = np.mean(arr)\n    pop_mean = data[\"response\"].mean()\n    plt.axvline(data_mean, 0, 250, color=\"r\", linewidth=3, label=\"Empirical Mean\")\n    plt.axvline(pop_mean, 0, 250, color=\"g\", linewidth=3, label=\"Population Mean\")\n    plt.legend()\n\nplot_sample(data_A)",
    "id": "d67823f023a7497d8c27d3774d4ae9cb",
    "idx": 1,
    "time": "2021-01-31T02:16:16.377Z",
    "type": "execution"
   },
   {
    "id": "d67823f023a7497d8c27d3774d4ae9cb",
    "time": "2021-01-31T02:16:16.774Z",
    "type": "completion"
   },
   {
    "code": "import itertools\nimport numpy as np\nimport pandas as pd\nimport matplotlib.pyplot as plt\nimport warnings\nwarnings.simplefilter(\"ignore\")\n%matplotlib inline\n\ndef plot_sample(arr):\n    plt.figure(figsize=[10,6])\n    plt.hist(arr)\n    plt.xlabel(\"Exam Difficulty\")\n    data_mean = np.mean(arr)\n    pop_mean = data[\"response\"].mean()\n    plt.axvline(data_mean, 0, 250, color=\"r\", linewidth=3, label=\"Empirical Mean\")\n    plt.axvline(pop_mean, 0, 250, color=\"g\", linewidth=3, label=\"Population Mean\")\n    plt.legend()\n    return data_mean\n\nplot_sample(data_A)",
    "id": "d67823f023a7497d8c27d3774d4ae9cb",
    "idx": 1,
    "time": "2021-01-31T02:16:26.112Z",
    "type": "execution"
   },
   {
    "id": "d67823f023a7497d8c27d3774d4ae9cb",
    "time": "2021-01-31T02:16:26.428Z",
    "type": "completion"
   },
   {
    "code": "means = {} # this will collect our mean estimates for each option\ndata = pd.read_csv(\"data/responses.csv\")\ndata",
    "id": "ab881ed364f0449ca7be15c7fce97cbe",
    "idx": 3,
    "time": "2021-01-31T02:16:29.516Z",
    "type": "execution"
   },
   {
    "id": "ab881ed364f0449ca7be15c7fce97cbe",
    "time": "2021-01-31T02:16:29.610Z",
    "type": "completion"
   },
   {
    "code": "# option A\nnp.random.seed(42)\n\nreplications = 1000\nsample_frac = 0.8 # assume only 80% of students respond to the poll\ndata_A = []\nfor _ in  range(replications):\n    responses = data[data[\"attended fireside chat\"]].sample(frac=sample_frac)\n    data_A.append(responses[\"response\"].mean())\n\nmeans[\"A\"] = plot_sample(data_A)\nmeans[\"A\"]",
    "id": "a7435053d01441db99f81d3dc2c8b280",
    "idx": 4,
    "time": "2021-01-31T02:16:30.016Z",
    "type": "execution"
   },
   {
    "code": "# option B\nnp.random.seed(42)\n\n# add discussion column to data\ndata[\"discussion\"] = data[\"mini-discussion\"].str[:-1].astype(int)\n\nreplications = 1000\nsample_size = 10 # survey 10 students in each section\ndata_B = []\nfor _ in  range(replications):\n    responses = data.groupby(\"discussion\").sample(n=sample_size)\n    data_B.append(responses[\"response\"].mean())\n\nmeans[\"B\"] = plot_sample(data_B)\nmeans[\"B\"]",
    "id": "781e2aa47c7d4fca893e763e119385a5",
    "idx": 5,
    "time": "2021-01-31T02:16:30.685Z",
    "type": "execution"
   },
   {
    "id": "a7435053d01441db99f81d3dc2c8b280",
    "time": "2021-01-31T02:16:31.066Z",
    "type": "completion"
   },
   {
    "id": "781e2aa47c7d4fca893e763e119385a5",
    "time": "2021-01-31T02:16:49.957Z",
    "type": "completion"
   },
   {
    "code": "# option C\nnp.random.seed(42)\n\nreplications = 1000\nsample_frac = 0.4 # assume only 40% of students who saw the post responded\ndata_C = []\nfor _ in  range(replications):\n    responses = data[data[\"saw on piazza\"]].sample(frac=sample_frac)\n    data_C.append(responses[\"response\"].mean())\n\nmeans[\"C\"] = plot_sample(data_C)\nmeans[\"C\"]",
    "id": "2ec539327fc64487a4b74f03820aa3fc",
    "idx": 6,
    "time": "2021-01-31T02:16:52.298Z",
    "type": "execution"
   },
   {
    "id": "2ec539327fc64487a4b74f03820aa3fc",
    "time": "2021-01-31T02:16:53.424Z",
    "type": "completion"
   },
   {
    "code": "import itertools\nimport numpy as np\nimport pandas as pd\nimport matplotlib.pyplot as plt\nimport warnings\nwarnings.simplefilter(\"ignore\")\n%matplotlib inline\n\ndef plot_sample(arr):\n    plt.figure(figsize=[10,6])\n    plt.hist(arr)\n    plt.xlabel(\"Exam Difficulty\")\n    data_mean = np.mean(arr)\n    pop_mean = data[\"response\"].mean()\n    plt.axvline(data_mean, 0, 250, color=\"r\", linewidth=3, label=\"Empirical Mean\")\n    plt.axvline(pop_mean, 0, 250, color=\"o\", linewidth=3, label=\"Population Mean\")\n    plt.legend()\n    return data_mean\n\nplot_sample(data_A)",
    "id": "d67823f023a7497d8c27d3774d4ae9cb",
    "idx": 1,
    "time": "2021-01-31T02:17:02.751Z",
    "type": "execution"
   },
   {
    "id": "d67823f023a7497d8c27d3774d4ae9cb",
    "time": "2021-01-31T02:17:03.007Z",
    "type": "completion"
   },
   {
    "code": "import itertools\nimport numpy as np\nimport pandas as pd\nimport matplotlib.pyplot as plt\nimport warnings\nwarnings.simplefilter(\"ignore\")\n%matplotlib inline\n\ndef plot_sample(arr):\n    plt.figure(figsize=[10,6])\n    plt.hist(arr)\n    plt.xlabel(\"Exam Difficulty\")\n    data_mean = np.mean(arr)\n    pop_mean = data[\"response\"].mean()\n    plt.axvline(data_mean, 0, 250, color=\"r\", linewidth=3, label=\"Empirical Mean\")\n    plt.axvline(pop_mean, 0, 250, color=\"orange\", linewidth=3, label=\"Population Mean\")\n    plt.legend()\n    return data_mean\n\nplot_sample(data_A)",
    "id": "d67823f023a7497d8c27d3774d4ae9cb",
    "idx": 1,
    "time": "2021-01-31T02:17:05.706Z",
    "type": "execution"
   },
   {
    "id": "d67823f023a7497d8c27d3774d4ae9cb",
    "time": "2021-01-31T02:17:06.006Z",
    "type": "completion"
   },
   {
    "code": "means = {} # this will collect our mean estimates for each option\ndata = pd.read_csv(\"data/responses.csv\")\ndata",
    "id": "ab881ed364f0449ca7be15c7fce97cbe",
    "idx": 3,
    "time": "2021-01-31T02:17:08.374Z",
    "type": "execution"
   },
   {
    "id": "ab881ed364f0449ca7be15c7fce97cbe",
    "time": "2021-01-31T02:17:08.477Z",
    "type": "completion"
   },
   {
    "code": "# option A\nnp.random.seed(42)\n\nreplications = 1000\nsample_frac = 0.8 # assume only 80% of students respond to the poll\ndata_A = []\nfor _ in  range(replications):\n    responses = data[data[\"attended fireside chat\"]].sample(frac=sample_frac)\n    data_A.append(responses[\"response\"].mean())\n\nmeans[\"A\"] = plot_sample(data_A)\nmeans[\"A\"]",
    "id": "a7435053d01441db99f81d3dc2c8b280",
    "idx": 4,
    "time": "2021-01-31T02:17:08.529Z",
    "type": "execution"
   },
   {
    "code": "# option B\nnp.random.seed(42)\n\n# add discussion column to data\ndata[\"discussion\"] = data[\"mini-discussion\"].str[:-1].astype(int)\n\nreplications = 1000\nsample_size = 10 # survey 10 students in each section\ndata_B = []\nfor _ in  range(replications):\n    responses = data.groupby(\"discussion\").sample(n=sample_size)\n    data_B.append(responses[\"response\"].mean())\n\nmeans[\"B\"] = plot_sample(data_B)\nmeans[\"B\"]",
    "id": "781e2aa47c7d4fca893e763e119385a5",
    "idx": 5,
    "time": "2021-01-31T02:17:08.698Z",
    "type": "execution"
   },
   {
    "code": "# option C\nnp.random.seed(42)\n\nreplications = 1000\nsample_frac = 0.4 # assume only 40% of students who saw the post responded\ndata_C = []\nfor _ in  range(replications):\n    responses = data[data[\"saw on piazza\"]].sample(frac=sample_frac)\n    data_C.append(responses[\"response\"].mean())\n\nmeans[\"C\"] = plot_sample(data_C)\nmeans[\"C\"]",
    "id": "2ec539327fc64487a4b74f03820aa3fc",
    "idx": 6,
    "time": "2021-01-31T02:17:09.582Z",
    "type": "execution"
   },
   {
    "id": "a7435053d01441db99f81d3dc2c8b280",
    "time": "2021-01-31T02:17:09.610Z",
    "type": "completion"
   },
   {
    "code": "# option D\nnp.random.seed(42)\n\nreplications = 1000\nsample_size = 4 # choose 4 discussion sections\ndata_D = []\nfor _ in range(replications):\n    sampled_discussions = np.random.choice(data[\"mini-discussion\"].unique(), replace=False, size=sample_size)\n    responses = data[data[\"mini-discussion\"].isin(sampled_discussions)]\n    \n    # account for social pressure bias\n    responses.loc[:,\"response\"] = responses.loc[:,\"response\"] + responses.loc[:,\"social pressure bias\"]\n    data_D.append(responses[\"response\"].mean())\n\nmeans[\"D\"] = plot_sample(data_D)\nmeans[\"D\"]",
    "id": "d282cc091df04ba188d5b8467ab91dab",
    "idx": 7,
    "time": "2021-01-31T02:17:09.921Z",
    "type": "execution"
   },
   {
    "code": "# summary of sampling processes\nactual_mean = data[\"response\"].mean()\nprint(f\"Actual Mean: {actual_mean:.4f}\")\nfor option, mean in means.items():\n    print(\n        f\"Option {option}:   Mean = {mean:.4f}   Bias = {(mean - actual_mean):.4f}\"\n        f\"{'   (THEORETICALLY OPTIMAL)' if option == 'B' else ''}\"\n    )",
    "id": "d59031b2b5834b978ea5e197c6d543fb",
    "idx": 8,
    "time": "2021-01-31T02:17:10.437Z",
    "type": "execution"
   },
   {
    "id": "781e2aa47c7d4fca893e763e119385a5",
    "time": "2021-01-31T02:17:28.570Z",
    "type": "completion"
   },
   {
    "id": "2ec539327fc64487a4b74f03820aa3fc",
    "time": "2021-01-31T02:17:29.655Z",
    "type": "completion"
   },
   {
    "id": "d282cc091df04ba188d5b8467ab91dab",
    "time": "2021-01-31T02:17:31.417Z",
    "type": "completion"
   },
   {
    "id": "d59031b2b5834b978ea5e197c6d543fb",
    "time": "2021-01-31T02:17:31.429Z",
    "type": "completion"
   },
   {
    "code": "import itertools\nimport numpy as np\nimport pandas as pd\nimport matplotlib.pyplot as plt\nimport warnings\nwarnings.simplefilter(\"ignore\")\n%matplotlib inline\n\ndef plot_sample(arr):\n    plt.figure(figsize=[10,6])\n    plt.hist(arr)\n    plt.xlabel(\"Exam Difficulty\")\n    data_mean = np.mean(arr)\n    pop_mean = data[\"response\"].mean()\n    plt.axvline(data_mean, 0, 250, color=\"r\", linewidth=3, label=\"Empirical Mean\")\n    plt.axvline(pop_mean, 0, 250, color=\"orange\", linewidth=3, label=\"Population Mean\")\n    plt.legend()\n    return data_mean",
    "id": "d67823f023a7497d8c27d3774d4ae9cb",
    "idx": 1,
    "time": "2021-01-31T02:17:44.915Z",
    "type": "execution"
   },
   {
    "id": "d67823f023a7497d8c27d3774d4ae9cb",
    "time": "2021-01-31T02:17:44.984Z",
    "type": "completion"
   },
   {
    "code": "means = {} # this will collect our mean estimates for each option\ndata = pd.read_csv(\"data/responses.csv\")\ndata",
    "id": "a9845cffd4f54a139b603909ef0fabb3",
    "idx": 3,
    "time": "2021-01-31T18:19:22.516Z",
    "type": "execution"
   },
   {
    "id": "a9845cffd4f54a139b603909ef0fabb3",
    "time": "2021-01-31T18:19:22.636Z",
    "type": "completion"
   },
   {
    "code": "import itertools\nimport numpy as np\nimport pandas as pd\nimport matplotlib.pyplot as plt\nimport warnings\nwarnings.simplefilter(\"ignore\")\n%matplotlib inline\n\ndef plot_sample(arr):\n    plt.figure(figsize=[10,6])\n    plt.hist(arr)\n    plt.xlabel(\"Exam Difficulty\")\n    data_mean = np.mean(arr)\n    pop_mean = data[\"response\"].mean()\n    plt.axvline(data_mean, 0, 250, color=\"r\", linewidth=3, label=\"Empirical Mean\")\n    plt.axvline(pop_mean, 0, 250, color=\"orange\", linewidth=3, label=\"Population Mean\")\n    plt.legend()\n    return data_mean",
    "id": "47387ecae7114be892ee63c9e7f630cd",
    "idx": 1,
    "time": "2021-01-31T18:19:24.623Z",
    "type": "execution"
   },
   {
    "code": "means = {} # this will collect our mean estimates for each option\ndata = pd.read_csv(\"data/responses.csv\")\ndata",
    "id": "a9845cffd4f54a139b603909ef0fabb3",
    "idx": 3,
    "time": "2021-01-31T18:19:24.927Z",
    "type": "execution"
   },
   {
    "id": "47387ecae7114be892ee63c9e7f630cd",
    "time": "2021-01-31T18:19:25.377Z",
    "type": "completion"
   },
   {
    "id": "a9845cffd4f54a139b603909ef0fabb3",
    "time": "2021-01-31T18:19:25.420Z",
    "type": "completion"
   },
   {
    "code": "# option A\nnp.random.seed(42)\n\nreplications = 1000\nsample_frac = 0.8 # assume only 80% of students respond to the poll\ndata_A = []\nfor _ in  range(replications):\n    responses = data[data[\"attended fireside chat\"]].sample(frac=sample_frac)\n    data_A.append(responses[\"response\"].mean())\n\nmeans[\"A\"] = plot_sample(data_A)\nmeans[\"A\"]",
    "id": "275fa8d47d804c598b6fb0bd97f5a646",
    "idx": 5,
    "time": "2021-01-31T18:21:46.612Z",
    "type": "execution"
   },
   {
    "id": "275fa8d47d804c598b6fb0bd97f5a646",
    "time": "2021-01-31T18:21:47.836Z",
    "type": "completion"
   },
   {
    "code": "# option D\nnp.random.seed(42)\n\nreplications = 1000\nsample_size = 20 # choose 4 discussion sections\ndata_D = []\nfor _ in range(replications):\n    sampled_discussions = np.random.choice(data[\"mini-discussion\"].unique(), replace=False, size=sample_size)\n    responses = data[data[\"mini-discussion\"].isin(sampled_discussions)]\n    \n    # account for social pressure bias\n    responses.loc[:,\"response\"] = responses.loc[:,\"response\"] + responses.loc[:,\"social pressure bias\"]\n    data_D.append(responses[\"response\"].mean())\n\nmeans[\"D\"] = plot_sample(data_D)\nmeans[\"D\"]",
    "id": "78a8f854e74f4dfa8a802db3921e5af5",
    "idx": 11,
    "time": "2021-01-31T18:25:44.184Z",
    "type": "execution"
   },
   {
    "id": "78a8f854e74f4dfa8a802db3921e5af5",
    "time": "2021-01-31T18:25:46.315Z",
    "type": "completion"
   },
   {
    "code": "import itertools\nimport numpy as np\nimport pandas as pd\nimport matplotlib.pyplot as plt\nimport warnings\nwarnings.simplefilter(\"ignore\")\n%matplotlib inline\n\ndef plot_sample(arr):\n    plt.figure(figsize=[10,6])\n    plt.hist(arr)\n    plt.xlabel(\"Exam Difficulty\")\n    data_mean = np.mean(arr)\n    pop_mean = data[\"response\"].mean()\n    plt.axvline(data_mean, 0, 250, color=\"r\", linewidth=3, label=\"Empirical Mean\")\n    plt.axvline(pop_mean, 0, 250, color=\"orange\", linewidth=3, label=\"Population Mean\")\n    plt.legend()\n    return data_mean",
    "id": "d29290f6c5f7476f816c9f8f6dfb9ffb",
    "idx": 1,
    "time": "2021-01-31T18:25:51.670Z",
    "type": "execution"
   },
   {
    "code": "means = {} # this will collect our mean estimates for each option\ndata = pd.read_csv(\"data/responses.csv\")\ndata",
    "id": "44a43934419d4426b51c6f74e6798d25",
    "idx": 3,
    "time": "2021-01-31T18:25:51.671Z",
    "type": "execution"
   },
   {
    "code": "# option A\nnp.random.seed(42)\n\nreplications = 1000\nsample_frac = 0.8 # assume only 80% of students respond to the poll\ndata_A = []\nfor _ in  range(replications):\n    responses = data[data[\"attended fireside chat\"]].sample(frac=sample_frac)\n    data_A.append(responses[\"response\"].mean())\n\nmeans[\"A\"] = plot_sample(data_A)\nmeans[\"A\"]",
    "id": "275fa8d47d804c598b6fb0bd97f5a646",
    "idx": 5,
    "time": "2021-01-31T18:25:51.679Z",
    "type": "execution"
   },
   {
    "code": "# option B\nnp.random.seed(42)\n\n# add discussion column to data\ndata[\"discussion\"] = data[\"mini-discussion\"].str[:-1].astype(int)\n\nreplications = 1000\nsample_size = 10 # survey 10 students in each section\ndata_B = []\nfor _ in  range(replications):\n    responses = data.groupby(\"discussion\").sample(n=sample_size)\n    data_B.append(responses[\"response\"].mean())\n\nmeans[\"B\"] = plot_sample(data_B)\nmeans[\"B\"]",
    "id": "eb2418985dbb480186faf84502e9f819",
    "idx": 7,
    "time": "2021-01-31T18:25:51.684Z",
    "type": "execution"
   },
   {
    "code": "# option C\nnp.random.seed(42)\n\nreplications = 1000\nsample_frac = 0.4 # assume only 40% of students who saw the post responded\ndata_C = []\nfor _ in  range(replications):\n    responses = data[data[\"saw on piazza\"]].sample(frac=sample_frac)\n    data_C.append(responses[\"response\"].mean())\n\nmeans[\"C\"] = plot_sample(data_C)\nmeans[\"C\"]",
    "id": "dcebda7833ad46958875b21b5ec7edd6",
    "idx": 9,
    "time": "2021-01-31T18:25:51.686Z",
    "type": "execution"
   },
   {
    "code": "# option D\nnp.random.seed(42)\n\nreplications = 1000\nsample_size = 20 # choose 4 discussion sections\ndata_D = []\nfor _ in range(replications):\n    sampled_discussions = np.random.choice(data[\"mini-discussion\"].unique(), replace=False, size=sample_size)\n    responses = data[data[\"mini-discussion\"].isin(sampled_discussions)]\n    \n    # account for social pressure bias\n    responses.loc[:,\"response\"] = responses.loc[:,\"response\"] + responses.loc[:,\"social pressure bias\"]\n    data_D.append(responses[\"response\"].mean())\n\nmeans[\"D\"] = plot_sample(data_D)\nmeans[\"D\"]",
    "id": "78a8f854e74f4dfa8a802db3921e5af5",
    "idx": 11,
    "time": "2021-01-31T18:25:51.691Z",
    "type": "execution"
   },
   {
    "code": "# summary of sampling processes\nactual_mean = data[\"response\"].mean()\nprint(f\"Actual Mean: {actual_mean:.4f}\")\nfor option, mean in means.items():\n    print(\n        f\"Option {option}:   Mean = {mean:.4f}   Bias = {(mean - actual_mean):.4f}\"\n        f\"{'   (THEORETICALLY OPTIMAL)' if option == 'B' else ''}\"\n    )",
    "id": "155fe62148cd4d9e8622922bdcf2e598",
    "idx": 12,
    "time": "2021-01-31T18:25:51.692Z",
    "type": "execution"
   },
   {
    "id": "d29290f6c5f7476f816c9f8f6dfb9ffb",
    "time": "2021-01-31T18:25:51.742Z",
    "type": "completion"
   },
   {
    "id": "44a43934419d4426b51c6f74e6798d25",
    "time": "2021-01-31T18:25:51.788Z",
    "type": "completion"
   },
   {
    "id": "275fa8d47d804c598b6fb0bd97f5a646",
    "time": "2021-01-31T18:25:52.787Z",
    "type": "completion"
   },
   {
    "id": "eb2418985dbb480186faf84502e9f819",
    "time": "2021-01-31T18:26:12.827Z",
    "type": "completion"
   },
   {
    "id": "dcebda7833ad46958875b21b5ec7edd6",
    "time": "2021-01-31T18:26:13.890Z",
    "type": "completion"
   },
   {
    "id": "78a8f854e74f4dfa8a802db3921e5af5",
    "time": "2021-01-31T18:26:15.583Z",
    "type": "completion"
   },
   {
    "id": "155fe62148cd4d9e8622922bdcf2e598",
    "time": "2021-01-31T18:26:15.598Z",
    "type": "completion"
   },
   {
    "code": "data[\"response\"].mean()",
    "id": "c2956c424a4f4fab84c1667839902467",
    "idx": 5,
    "time": "2021-01-31T18:27:53.013Z",
    "type": "execution"
   },
   {
    "id": "c2956c424a4f4fab84c1667839902467",
    "time": "2021-01-31T18:27:53.171Z",
    "type": "completion"
   },
   {
    "code": "import itertools\nimport numpy as np\nimport pandas as pd\nimport matplotlib.pyplot as plt\nimport warnings\nwarnings.simplefilter(\"ignore\")\n%matplotlib inline\n\ndef plot_sample(arr):\n    plt.figure(figsize=[10,6])\n    plt.hist(arr)\n    plt.xlabel(\"Exam Difficulty\")\n    data_mean = np.mean(arr)\n    pop_mean = data[\"response\"].mean()\n    plt.axvline(data_mean, 0, 250, color=\"r\", linewidth=3, label=\"Empirical Mean\")\n    plt.axvline(pop_mean, 0, 250, color=\"orange\", linewidth=3, label=\"Population Mean\")\n    plt.legend()\n    return data_mean",
    "id": "d29290f6c5f7476f816c9f8f6dfb9ffb",
    "idx": 1,
    "time": "2021-01-31T18:28:13.931Z",
    "type": "execution"
   },
   {
    "code": "means = {} # this will collect our mean estimates for each option\ndata = pd.read_csv(\"data/responses.csv\")\ndata",
    "id": "44a43934419d4426b51c6f74e6798d25",
    "idx": 3,
    "time": "2021-01-31T18:28:13.933Z",
    "type": "execution"
   },
   {
    "code": "data[\"response\"].mean()",
    "id": "c2956c424a4f4fab84c1667839902467",
    "idx": 5,
    "time": "2021-01-31T18:28:13.935Z",
    "type": "execution"
   },
   {
    "code": "# option A\nnp.random.seed(42)\n\nreplications = 1000\nsample_frac = 0.8 # assume only 80% of students respond to the poll\ndata_A = []\nfor _ in  range(replications):\n    responses = data[data[\"attended fireside chat\"]].sample(frac=sample_frac)\n    data_A.append(responses[\"response\"].mean())\n\nmeans[\"A\"] = plot_sample(data_A)\nmeans[\"A\"]",
    "id": "275fa8d47d804c598b6fb0bd97f5a646",
    "idx": 7,
    "time": "2021-01-31T18:28:13.937Z",
    "type": "execution"
   },
   {
    "code": "# option B\nnp.random.seed(42)\n\n# add discussion column to data\ndata[\"discussion\"] = data[\"mini-discussion\"].str[:-1].astype(int)\n\nreplications = 1000\nsample_size = 10 # survey 10 students in each section\ndata_B = []\nfor _ in  range(replications):\n    responses = data.groupby(\"discussion\").sample(n=sample_size)\n    data_B.append(responses[\"response\"].mean())\n\nmeans[\"B\"] = plot_sample(data_B)\nmeans[\"B\"]",
    "id": "eb2418985dbb480186faf84502e9f819",
    "idx": 9,
    "time": "2021-01-31T18:28:13.938Z",
    "type": "execution"
   },
   {
    "code": "# option C\nnp.random.seed(42)\n\nreplications = 1000\nsample_frac = 0.4 # assume only 40% of students who saw the post responded\ndata_C = []\nfor _ in  range(replications):\n    responses = data[data[\"saw on piazza\"]].sample(frac=sample_frac)\n    data_C.append(responses[\"response\"].mean())\n\nmeans[\"C\"] = plot_sample(data_C)\nmeans[\"C\"]",
    "id": "dcebda7833ad46958875b21b5ec7edd6",
    "idx": 11,
    "time": "2021-01-31T18:28:13.940Z",
    "type": "execution"
   },
   {
    "code": "# option D\nnp.random.seed(42)\n\nreplications = 1000\nsample_size = 20 # choose 4 discussion sections\ndata_D = []\nfor _ in range(replications):\n    sampled_discussions = np.random.choice(data[\"mini-discussion\"].unique(), replace=False, size=sample_size)\n    responses = data[data[\"mini-discussion\"].isin(sampled_discussions)]\n    \n    # account for social pressure bias\n    responses.loc[:,\"response\"] = responses.loc[:,\"response\"] + responses.loc[:,\"social pressure bias\"]\n    data_D.append(responses[\"response\"].mean())\n\nmeans[\"D\"] = plot_sample(data_D)\nmeans[\"D\"]",
    "id": "78a8f854e74f4dfa8a802db3921e5af5",
    "idx": 13,
    "time": "2021-01-31T18:28:13.942Z",
    "type": "execution"
   },
   {
    "code": "# summary of sampling processes\nactual_mean = data[\"response\"].mean()\nprint(f\"Actual Mean: {actual_mean:.4f}\")\nfor option, mean in means.items():\n    print(\n        f\"Option {option}:   Mean = {mean:.4f}   Bias = {(mean - actual_mean):.4f}\"\n        f\"{'   (THEORETICALLY OPTIMAL)' if option == 'B' else ''}\"\n    )",
    "id": "155fe62148cd4d9e8622922bdcf2e598",
    "idx": 14,
    "time": "2021-01-31T18:28:13.943Z",
    "type": "execution"
   },
   {
    "id": "d29290f6c5f7476f816c9f8f6dfb9ffb",
    "time": "2021-01-31T18:28:14.642Z",
    "type": "completion"
   },
   {
    "id": "44a43934419d4426b51c6f74e6798d25",
    "time": "2021-01-31T18:28:14.663Z",
    "type": "completion"
   },
   {
    "id": "c2956c424a4f4fab84c1667839902467",
    "time": "2021-01-31T18:28:14.696Z",
    "type": "completion"
   },
   {
    "id": "275fa8d47d804c598b6fb0bd97f5a646",
    "time": "2021-01-31T18:28:15.746Z",
    "type": "completion"
   },
   {
    "id": "eb2418985dbb480186faf84502e9f819",
    "time": "2021-01-31T18:28:34.965Z",
    "type": "completion"
   },
   {
    "id": "dcebda7833ad46958875b21b5ec7edd6",
    "time": "2021-01-31T18:28:35.955Z",
    "type": "completion"
   },
   {
    "id": "78a8f854e74f4dfa8a802db3921e5af5",
    "time": "2021-01-31T18:28:37.905Z",
    "type": "completion"
   },
   {
    "id": "155fe62148cd4d9e8622922bdcf2e598",
    "time": "2021-01-31T18:28:37.922Z",
    "type": "completion"
   }
  ],
  "kernelspec": {
   "display_name": "Python 3",
   "language": "python",
   "name": "python3"
  },
  "language_info": {
   "codemirror_mode": {
    "name": "ipython",
    "version": 3
   },
   "file_extension": ".py",
   "mimetype": "text/x-python",
   "name": "python",
   "nbconvert_exporter": "python",
   "pygments_lexer": "ipython3",
   "version": "3.8.6"
  }
 },
 "nbformat": 4,
 "nbformat_minor": 4
}
