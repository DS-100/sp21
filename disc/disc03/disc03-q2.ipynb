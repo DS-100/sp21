{
 "cells": [
  {
   "cell_type": "markdown",
   "metadata": {},
   "source": [
    "# Discussion 4 Question 2: Properties of OLS"
   ]
  },
  {
   "cell_type": "code",
   "execution_count": null,
   "metadata": {},
   "outputs": [],
   "source": [
    "import pandas as pd\n",
    "import numpy as np\n",
    "import sklearn.linear_model as lm"
   ]
  },
  {
   "cell_type": "markdown",
   "metadata": {},
   "source": [
    "In this notebook, you will create a model to predict the `Sale Price` column of the Cook County housing dataset using the features you came up with in Question 1."
   ]
  },
  {
   "cell_type": "code",
   "execution_count": null,
   "metadata": {},
   "outputs": [],
   "source": [
    "df = pd.read_csv(\"cook_county_small.csv\")\n",
    "df.head()"
   ]
  },
  {
   "cell_type": "markdown",
   "metadata": {},
   "source": [
    "In the cell below, enter the column labels for columns you are using in your model in the list `cols`. The second half of the cell extracts these columns into a matrix `X` and an outcomes vector `y`."
   ]
  },
  {
   "cell_type": "code",
   "execution_count": null,
   "metadata": {},
   "outputs": [],
   "source": [
    "cols = [...]\n",
    "\n",
    "X = df[cols].values\n",
    "y = df[\"Sale Price\"].values\n",
    "\n",
    "# Here we standardize both X and y to improve numerical accuracy so you'll get more accurate \n",
    "# results for the upcoming questions. Don't worry about this for now. You will learn about \n",
    "# this in future lectures.\n",
    "from sklearn.preprocessing import StandardScaler\n",
    "scaler = StandardScaler()\n",
    "X = scaler.fit_transform(X) \n",
    "y = (y - np.mean(y)) / np.std(y)"
   ]
  },
  {
   "cell_type": "markdown",
   "metadata": {},
   "source": [
    "Now, we'll fit the model. The cell below uses `sklearn` to fit a linear regression model on your features from `cols`."
   ]
  },
  {
   "cell_type": "code",
   "execution_count": null,
   "metadata": {},
   "outputs": [],
   "source": [
    "model = lm.LinearRegression(fit_intercept=True)\n",
    "model.fit(X, y)\n",
    "y_hat = model.predict(X)\n",
    "e = y - y_hat"
   ]
  },
  {
   "cell_type": "markdown",
   "metadata": {},
   "source": [
    "For each of the statements below, determine whether the statement holds for our model that uses least squares regression. Write code to empirically prove or disprove each statement. Note that `sklearn` automatically adds an intercept term that doesn't appear in `X`, and the intercept term should be considered as a feature as well."
   ]
  },
  {
   "cell_type": "markdown",
   "metadata": {},
   "source": [
    "**Question 2.1:** The residuals are orthogonal to the column space of the matrix `X`."
   ]
  },
  {
   "cell_type": "code",
   "execution_count": null,
   "metadata": {},
   "outputs": [],
   "source": []
  },
  {
   "cell_type": "markdown",
   "metadata": {},
   "source": [
    "**Question 2.2:** The sum of the residuals is equal to the mean squared error of the predictions."
   ]
  },
  {
   "cell_type": "code",
   "execution_count": null,
   "metadata": {},
   "outputs": [],
   "source": []
  },
  {
   "cell_type": "markdown",
   "metadata": {},
   "source": [
    "**Question 2.3:** The sum of the residuals is zero."
   ]
  },
  {
   "cell_type": "code",
   "execution_count": null,
   "metadata": {},
   "outputs": [],
   "source": []
  },
  {
   "cell_type": "markdown",
   "metadata": {},
   "source": [
    "**Question 2.4:** The predictions are a linear combination of the features."
   ]
  },
  {
   "cell_type": "code",
   "execution_count": null,
   "metadata": {},
   "outputs": [],
   "source": []
  },
  {
   "cell_type": "markdown",
   "metadata": {},
   "source": [
    "**Question 2.5:** The predictions are orthogonal to the residuals."
   ]
  },
  {
   "cell_type": "code",
   "execution_count": null,
   "metadata": {
    "scrolled": true
   },
   "outputs": [],
   "source": []
  },
  {
   "cell_type": "markdown",
   "metadata": {},
   "source": [
    "**Question 2.6:** The predictions are orthogonal to the column space of the matrix `X`."
   ]
  },
  {
   "cell_type": "code",
   "execution_count": null,
   "metadata": {},
   "outputs": [],
   "source": []
  },
  {
   "cell_type": "markdown",
   "metadata": {},
   "source": [
    " "
   ]
  }
 ],
 "metadata": {
  "history": [
   {
    "code": "import numpy as np",
    "id": "e03ee822cc7941e5863f0723eca7b32f",
    "idx": 0,
    "time": "2021-02-01T23:27:15.701Z",
    "type": "execution"
   },
   {
    "id": "e03ee822cc7941e5863f0723eca7b32f",
    "time": "2021-02-01T23:27:16.012Z",
    "type": "completion"
   },
   {
    "code": "psum = 0\nfor i in np.arange(1,25):\n    psum += i",
    "id": "a99f4962d8764231858c8662c0eda629",
    "idx": 1,
    "time": "2021-02-01T23:27:40.950Z",
    "type": "execution"
   },
   {
    "id": "a99f4962d8764231858c8662c0eda629",
    "time": "2021-02-01T23:27:42.055Z",
    "type": "completion"
   },
   {
    "code": "psum",
    "id": "42ea2fe1dcfb42178b4db5cbad763b27",
    "idx": 2,
    "time": "2021-02-01T23:27:44.325Z",
    "type": "execution"
   },
   {
    "id": "42ea2fe1dcfb42178b4db5cbad763b27",
    "time": "2021-02-01T23:27:44.419Z",
    "type": "completion"
   },
   {
    "code": "def foo(t, c, o):\n    return t + c + o",
    "id": "8babcdfe4430400abec0840f90a19be2",
    "idx": 1,
    "time": "2021-02-02T00:05:27.779Z",
    "type": "execution"
   },
   {
    "id": "8babcdfe4430400abec0840f90a19be2",
    "time": "2021-02-02T00:05:27.852Z",
    "type": "completion"
   },
   {
    "code": "psum = 0\nfor t in range(0, 25):\n    for c in range(0, 25-t):\n        o = 24 - t -c\n        psum += foo(t, c, o)\npsum",
    "id": "f23e1481f10b4f03a9a1af1daced3232",
    "idx": 3,
    "time": "2021-02-02T00:06:12.517Z",
    "type": "execution"
   },
   {
    "id": "f23e1481f10b4f03a9a1af1daced3232",
    "time": "2021-02-02T00:06:12.593Z",
    "type": "completion"
   },
   {
    "code": "import numpy as np\nimport matplotlib.pyplot as plt\n%matplotlib inline",
    "id": "06ffec8eed2f4a27b109de801c9e979b",
    "idx": 0,
    "time": "2021-02-08T22:29:47.543Z",
    "type": "execution"
   },
   {
    "id": "06ffec8eed2f4a27b109de801c9e979b",
    "time": "2021-02-08T22:29:48.050Z",
    "type": "completion"
   },
   {
    "code": "x =  np.random.choice(np.arange(10), 10000)",
    "id": "4fe735effc854b38867c42ca2f125d47",
    "idx": 1,
    "time": "2021-02-08T22:30:56.492Z",
    "type": "execution"
   },
   {
    "id": "4fe735effc854b38867c42ca2f125d47",
    "time": "2021-02-08T22:30:56.558Z",
    "type": "completion"
   },
   {
    "code": "x",
    "id": "b2d1b0807a8641c9803595eca99bc556",
    "idx": 2,
    "time": "2021-02-08T22:30:59.899Z",
    "type": "execution"
   },
   {
    "id": "b2d1b0807a8641c9803595eca99bc556",
    "time": "2021-02-08T22:30:59.976Z",
    "type": "completion"
   },
   {
    "code": "x_bias =  x + np.random.normal(size=10000)",
    "id": "18cd4fe3ba4e459f8feabc6d297a1a6d",
    "idx": 3,
    "time": "2021-02-08T22:31:20.570Z",
    "type": "execution"
   },
   {
    "id": "18cd4fe3ba4e459f8feabc6d297a1a6d",
    "time": "2021-02-08T22:31:20.645Z",
    "type": "completion"
   },
   {
    "code": "x_bias",
    "id": "ebeef9a125e24f858a7eb0bd63c41748",
    "idx": 4,
    "time": "2021-02-08T22:31:21.852Z",
    "type": "execution"
   },
   {
    "id": "ebeef9a125e24f858a7eb0bd63c41748",
    "time": "2021-02-08T22:31:21.920Z",
    "type": "completion"
   },
   {
    "code": "x_bias = x + np.random.choice([-1, 0, 1, 2], size=10000)",
    "id": "18cd4fe3ba4e459f8feabc6d297a1a6d",
    "idx": 3,
    "time": "2021-02-08T22:31:58.985Z",
    "type": "execution"
   },
   {
    "id": "18cd4fe3ba4e459f8feabc6d297a1a6d",
    "time": "2021-02-08T22:31:59.091Z",
    "type": "completion"
   },
   {
    "code": "x_bias",
    "id": "ebeef9a125e24f858a7eb0bd63c41748",
    "idx": 4,
    "time": "2021-02-08T22:31:59.857Z",
    "type": "execution"
   },
   {
    "id": "ebeef9a125e24f858a7eb0bd63c41748",
    "time": "2021-02-08T22:31:59.960Z",
    "type": "completion"
   },
   {
    "code": "np.mean(x)",
    "id": "35e1a08427744f458ae6df6cbbe76b43",
    "idx": 5,
    "time": "2021-02-08T22:32:10.910Z",
    "type": "execution"
   },
   {
    "id": "35e1a08427744f458ae6df6cbbe76b43",
    "time": "2021-02-08T22:32:13.118Z",
    "type": "completion"
   },
   {
    "code": "means = []\nn = 10\nfor _ in range(1000):\n    sam = np.random.choice(x_bias, size=n)\n    means.append(np.mean(sam))",
    "id": "d8146f43f8de4d32900171422fa79676",
    "idx": 6,
    "time": "2021-02-08T22:32:55.821Z",
    "type": "execution"
   },
   {
    "id": "d8146f43f8de4d32900171422fa79676",
    "time": "2021-02-08T22:32:55.983Z",
    "type": "completion"
   },
   {
    "code": "plt.hist(means)",
    "id": "d9355ed602a64c008badc48996df4e13",
    "idx": 7,
    "time": "2021-02-08T22:32:58.406Z",
    "type": "execution"
   },
   {
    "id": "d9355ed602a64c008badc48996df4e13",
    "time": "2021-02-08T22:32:58.841Z",
    "type": "completion"
   },
   {
    "code": "means = []\nn = 100\nfor _ in range(1000):\n    sam = np.random.choice(x_bias, size=n)\n    means.append(np.mean(sam))",
    "id": "d8146f43f8de4d32900171422fa79676",
    "idx": 6,
    "time": "2021-02-08T22:33:03.668Z",
    "type": "execution"
   },
   {
    "id": "d8146f43f8de4d32900171422fa79676",
    "time": "2021-02-08T22:33:03.856Z",
    "type": "completion"
   },
   {
    "code": "plt.hist(means)",
    "id": "d9355ed602a64c008badc48996df4e13",
    "idx": 7,
    "time": "2021-02-08T22:33:04.064Z",
    "type": "execution"
   },
   {
    "id": "d9355ed602a64c008badc48996df4e13",
    "time": "2021-02-08T22:33:04.329Z",
    "type": "completion"
   },
   {
    "code": "means = []\nn = 100\nfor n in [10, 50, 100, 300, 500]:\n    means = []\n    for _ in range(1000):\n        sam = np.random.choice(x_bias, size=n)\n        means.append(np.mean(sam))\n    plt.hist(means)",
    "id": "d8146f43f8de4d32900171422fa79676",
    "idx": 6,
    "time": "2021-02-08T22:33:29.042Z",
    "type": "execution"
   },
   {
    "id": "d8146f43f8de4d32900171422fa79676",
    "time": "2021-02-08T22:33:29.678Z",
    "type": "completion"
   },
   {
    "code": "means = []\nn = 100\nfor n in [10, 50, 100, 300, 500]:\n    means = []\n    for _ in range(1000):\n        sam = np.random.choice(x, size=n)\n        means.append(np.mean(sam))\n    plt.hist(means)",
    "id": "2afd6ab47d784e24ad5196d21087cce0",
    "idx": 7,
    "time": "2021-02-08T22:33:49.689Z",
    "type": "execution"
   },
   {
    "id": "2afd6ab47d784e24ad5196d21087cce0",
    "time": "2021-02-08T22:33:50.360Z",
    "type": "completion"
   },
   {
    "code": "means = []\nn = 100\nfor n in [10, 50, 100, 300, 500]:\n    means = []\n    for _ in range(1000):\n        sam = np.random.choice(x_bias, size=n)\n        means.append(np.mean(sam))\n    plt.hist(means)\n    plt.xlim(1, 9)",
    "id": "05d972515cea4580886753b9ab5fdf3b",
    "idx": 14,
    "time": "2021-02-09T19:17:58.105Z",
    "type": "execution"
   },
   {
    "id": "05d972515cea4580886753b9ab5fdf3b",
    "time": "2021-02-09T19:17:58.255Z",
    "type": "completion"
   },
   {
    "code": "import numpy as np\nimport matplotlib.pyplot as plt\n%matplotlib inline",
    "id": "bd55791b6cc644c79509ae8671d5ff5b",
    "idx": 0,
    "time": "2021-02-09T19:18:04.311Z",
    "type": "execution"
   },
   {
    "code": "x = np.random.choice(np.arange(10), 10000)",
    "id": "aadf2b19475c4be0a4d2563e4d29297e",
    "idx": 1,
    "time": "2021-02-09T19:18:04.313Z",
    "type": "execution"
   },
   {
    "code": "x",
    "id": "8f08070f418644508de6c795fb20c2c9",
    "idx": 2,
    "time": "2021-02-09T19:18:04.315Z",
    "type": "execution"
   },
   {
    "code": "x_bias = x + np.random.choice([-1, 0, 1, 2], size=10000)",
    "id": "f2ccf76d197d45099bd62b103840e3ce",
    "idx": 3,
    "time": "2021-02-09T19:18:04.316Z",
    "type": "execution"
   },
   {
    "code": "x_bias",
    "id": "22f916c8254e4e6a8ea3d7918ae2d427",
    "idx": 4,
    "time": "2021-02-09T19:18:04.317Z",
    "type": "execution"
   },
   {
    "code": "np.mean(x)",
    "id": "b0dab4614d5746c783d6902a7ed82212",
    "idx": 5,
    "time": "2021-02-09T19:18:04.318Z",
    "type": "execution"
   },
   {
    "code": "means = []\nn = 100\nfor n in [10, 50, 100, 300, 500]:\n    means = []\n    for _ in range(1000):\n        sam = np.random.choice(x_bias, size=n)\n        means.append(np.mean(sam))\n    plt.hist(means)\n    plt.xlim(1, 9)",
    "id": "05d972515cea4580886753b9ab5fdf3b",
    "idx": 14,
    "time": "2021-02-09T19:18:04.329Z",
    "type": "execution"
   },
   {
    "code": "means = []\nn = 100\nfor n in [10, 50, 100, 300, 500]:\n    means = []\n    for _ in range(1000):\n        sam = np.random.choice(x, size=n)\n        means.append(np.mean(sam))\n    plt.hist(means)\n    plt.xlim(1, 9)",
    "id": "722dc1e6340e42aa8ae45019cfe47c82",
    "idx": 15,
    "time": "2021-02-09T19:18:04.331Z",
    "type": "execution"
   },
   {
    "id": "bd55791b6cc644c79509ae8671d5ff5b",
    "time": "2021-02-09T19:18:04.979Z",
    "type": "completion"
   },
   {
    "id": "aadf2b19475c4be0a4d2563e4d29297e",
    "time": "2021-02-09T19:18:04.985Z",
    "type": "completion"
   },
   {
    "id": "8f08070f418644508de6c795fb20c2c9",
    "time": "2021-02-09T19:18:05.027Z",
    "type": "completion"
   },
   {
    "id": "f2ccf76d197d45099bd62b103840e3ce",
    "time": "2021-02-09T19:18:05.058Z",
    "type": "completion"
   },
   {
    "id": "22f916c8254e4e6a8ea3d7918ae2d427",
    "time": "2021-02-09T19:18:05.103Z",
    "type": "completion"
   },
   {
    "id": "b0dab4614d5746c783d6902a7ed82212",
    "time": "2021-02-09T19:18:05.153Z",
    "type": "completion"
   },
   {
    "id": "05d972515cea4580886753b9ab5fdf3b",
    "time": "2021-02-09T19:18:06.082Z",
    "type": "completion"
   },
   {
    "id": "722dc1e6340e42aa8ae45019cfe47c82",
    "time": "2021-02-09T19:18:06.898Z",
    "type": "completion"
   },
   {
    "code": "means = []\nn = 100\nplt.figure(figsize=[10, 12])\nfor i, pop in enumerate([x_bias, x]):\n    plt.subplot(2, 1, i + 1)\n    for n in [10, 50, 100, 300, 500]:\n        means = []\n        for _ in range(1000):\n            sam = np.random.choice(pop, size=n)\n            means.append(np.mean(sam))\n        plt.hist(means)\n        plt.xlim(1, 9)",
    "id": "05d972515cea4580886753b9ab5fdf3b",
    "idx": 14,
    "time": "2021-02-09T19:19:27.290Z",
    "type": "execution"
   },
   {
    "id": "05d972515cea4580886753b9ab5fdf3b",
    "time": "2021-02-09T19:19:28.587Z",
    "type": "completion"
   },
   {
    "code": "means = []\nn = 100\nplt.figure(figsize=[10, 12])\nfor i, pop in enumerate([x_bias, x]):\n    plt.subplot(2, 1, i + 1)\n    for n in [10, 50, 100, 300, 500]:\n        means = []\n        for _ in range(1000):\n            sam = np.random.choice(pop, size=n)\n            means.append(np.mean(sam))\n        plt.hist(means)\n        plt.xlim(1, 9)\n        if i == 0:\n            plt.title(\"Bias Sampling Procedure\")\n        else:\n            plt.title(\"Unbias Sampling Procedure\")",
    "id": "05d972515cea4580886753b9ab5fdf3b",
    "idx": 14,
    "time": "2021-02-09T19:19:49.527Z",
    "type": "execution"
   },
   {
    "id": "05d972515cea4580886753b9ab5fdf3b",
    "time": "2021-02-09T19:19:50.843Z",
    "type": "completion"
   },
   {
    "code": "means = []\nn = 100\nplt.figure(figsize=[10, 12])\nfor i, pop in enumerate([x_bias, x]):\n    plt.subplot(2, 1, i + 1)\n    for n in [10, 50, 100, 300, 500]:\n        means = []\n        for _ in range(1000):\n            sam = np.random.choice(pop, size=n)\n            means.append(np.mean(sam))\n        plt.hist(means)\n        plt.xlim(1, 9)\n        if i == 0:\n            plt.title(\"Bias Sampling Procedure\")\n        else:\n            plt.title(\"Unbiased Sampling Procedure\")",
    "id": "05d972515cea4580886753b9ab5fdf3b",
    "idx": 14,
    "time": "2021-02-09T19:19:51.357Z",
    "type": "execution"
   },
   {
    "id": "05d972515cea4580886753b9ab5fdf3b",
    "time": "2021-02-09T19:19:52.644Z",
    "type": "completion"
   },
   {
    "code": "means = []\nn = 100\nplt.figure(figsize=[10, 12])\nfor i, pop in enumerate([x_bias, x]):\n    plt.subplot(2, 1, i + 1)\n    for n in [10, 50, 100, 300, 500]:\n        means = []\n        for _ in range(1000):\n            sam = np.random.choice(pop, size=n)\n            means.append(np.mean(sam))\n        plt.hist(means)\n        plt.xlim(1, 9)\n        if i == 0:\n            plt.title(\"Biased Sampling Procedure\")\n        else:\n            plt.title(\"Unbiased Sampling Procedure\")",
    "id": "05d972515cea4580886753b9ab5fdf3b",
    "idx": 14,
    "time": "2021-02-09T19:20:03.045Z",
    "type": "execution"
   },
   {
    "id": "05d972515cea4580886753b9ab5fdf3b",
    "time": "2021-02-09T19:20:04.367Z",
    "type": "completion"
   },
   {
    "code": "np,mean(x_bias)",
    "id": "1cc76e95c4d74d779e7e4b9ed9aa0abf",
    "idx": 6,
    "time": "2021-02-09T19:20:35.284Z",
    "type": "execution"
   },
   {
    "id": "1cc76e95c4d74d779e7e4b9ed9aa0abf",
    "time": "2021-02-09T19:20:35.403Z",
    "type": "completion"
   },
   {
    "code": "np.mean(x_bias)",
    "id": "1cc76e95c4d74d779e7e4b9ed9aa0abf",
    "idx": 6,
    "time": "2021-02-09T19:20:38.077Z",
    "type": "execution"
   },
   {
    "id": "1cc76e95c4d74d779e7e4b9ed9aa0abf",
    "time": "2021-02-09T19:20:38.164Z",
    "type": "completion"
   }
  ],
  "kernelspec": {
   "display_name": "Python 3",
   "language": "python",
   "name": "python3"
  },
  "language_info": {
   "codemirror_mode": {
    "name": "ipython",
    "version": 3
   },
   "file_extension": ".py",
   "mimetype": "text/x-python",
   "name": "python",
   "nbconvert_exporter": "python",
   "pygments_lexer": "ipython3",
   "version": "3.8.6"
  }
 },
 "nbformat": 4,
 "nbformat_minor": 4
}
